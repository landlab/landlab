{
 "cells": [
  {
   "cell_type": "markdown",
   "id": "cd982d83-d425-4bb2-950e-15d4d9aadb0b",
   "metadata": {},
   "source": [
    "# Reference for ExtendedGravelBedrockEroder tests\n",
    "\n",
    "This notebook shows the \"ground truth\" calculations for some of the unit tests used for the `ExtendedGravelBedrockEroder` component.\n",
    "\n",
    "*(Greg Tucker, Susannah Morey, and Yuval Shmilovitz, March 2025)*"
   ]
  },
  {
   "cell_type": "markdown",
   "id": "80962491-a19f-45a9-b7ba-29f0d5d365ae",
   "metadata": {},
   "source": [
    "## Aspects to test\n",
    "\n",
    "### \"Instantaneous\" tests\n",
    "\n",
    "Tests should cover the following functionality:\n",
    "\n",
    "1. Unlimited, homogeneous, fixed width, no attrition\n",
    "\n",
    "2. Unlimited, homogeneous, fixed width, attrition\n",
    "\n",
    "3. Unlimited, homogeneous, dynamic width, no attrition\n",
    "\n",
    "4. Unlimited, multi-lithology, fixed width, attrition\n",
    "\n",
    "5. Unlimited, multi-size, dynamic width, no attrition\n",
    "\n",
    "6. Unlimited, multi-size, fixed width, no attrition\n",
    "\n",
    "7. Unlimited, multi-size, fixed width, attrition\n",
    "\n",
    "8. Limited, homogeneous, dynamic width, no attrition\n",
    "\n",
    "9. Limited, multi-size, fixed width, no attrition\n",
    "\n",
    "10. Limited, multi-size, fixed width, attrition\n",
    "\n",
    "    \n"
   ]
  },
  {
   "cell_type": "markdown",
   "id": "2d6886e9-eb6d-4e21-abb0-0acbaafc7c06",
   "metadata": {},
   "source": [
    "## Basic 1-node instantaneous tests\n",
    "\n",
    "Here we use a 3x3-node raster grid with a single core node and cell. The cell is 1 x 1 km, and the initial height is 10 m, with one open boundary, for a total slope of 1/100. The runoff rate is 10 m/y, for a discharge out of the cell of 10$^7$ cmy.\n",
    "\n",
    "### Test 1: unlimited sediment, homogeneous, fixed width, no attrition\n",
    "\n",
    "Input parameters:\n",
    "\n",
    "- $k_w = 0.002$ for $Q$ in cmy, and exponent = 1/2\n",
    "- $D_{50} = 0.01$ m\n",
    "- Initial sediment thickness 100 m\n",
    "- $\\tau_{*c} = 0.0495$\n",
    "- $M = 3.97$\n",
    "- $\\rho = 1000$ kg/m$^3$\n",
    "- $\\rho_s = 2650$ kg/m$^3$\n"
   ]
  },
  {
   "cell_type": "code",
   "execution_count": 5,
   "id": "14646776-1be6-4f02-b883-6c2239886f05",
   "metadata": {},
   "outputs": [],
   "source": [
    "import numpy as np\n",
    "from landlab import RasterModelGrid\n",
    "#from landlab.components import FlowAccumulator, SoilGrading, GravelBedrockEroder"
   ]
  },
  {
   "cell_type": "code",
   "execution_count": 28,
   "id": "b8b23380-d88a-4ef9-b96b-e5d00b2aec3c",
   "metadata": {},
   "outputs": [],
   "source": [
    "spy = 3600.0 * 24 * 365.25 # seconds per year\n",
    "\n",
    "# Functions to use for test calculations\n",
    "def slope(dz, dx):\n",
    "    return dz / dx\n",
    "\n",
    "def discharge(runoff_my, dx):\n",
    "    area = dx * dx\n",
    "    return runoff_my * area, runoff_my * area / spy\n",
    "\n",
    "def fixed_width(kw, m, Q):\n",
    "    return kw * Q**m\n",
    "\n",
    "def dynamic_width(rhos, rhow, eps, Q, S, D, tau_star_c, g=9.81):\n",
    "    R = (rhos - rhow) / rhow\n",
    "    prefactor = 0.17 * g**(-0.5) * (R * (1 + eps) * tau_staar_c)**(-5/3)\n",
    "    return prefactor * Q * S**(7/6) / D**1.5\n",
    "\n",
    "def shear_stress(rho, g, rough, Qcms, w, S):\n",
    "    return rho * g * rough**0.6 * (Qcms / w)**0.6 * S**0.7\n",
    "\n",
    "def shields_stress(tau, rho, rhos, g, D):\n",
    "    return tau / ((rhos - rho) * g * grain_diam)\n",
    "\n",
    "def sed_flux(intcy, mpm, w, rho, rhos, g, D, tau_star, tau_star_c):\n",
    "    R = (rhos - rho) / rho\n",
    "    exshields = max(tau_star - tau_star_c, 0.0)\n",
    "    Qs_sec = intcy * mpm * w * (R * g)**0.5 * D**1.5 * exshields**1.5\n",
    "    Qs_yr = Qs_sec * spy\n",
    "    return Qs_yr\n",
    "\n",
    "def attrition_thickening_rate(sed_fluxes, beta, dx, cell_area):\n",
    "    volume_loss_rate_per_length = sed_fluxes * beta\n",
    "    volume_loss_rate = volume_loss_rate_per_length * dx\n",
    "    thinning_rate = volume_loss_rate / cell_area\n",
    "    return -thinning_rate\n",
    "\n",
    "def outflux_thickening_rate(sed_fluxes, cell_area):\n",
    "    return -sed_fluxes / cell_area"
   ]
  },
  {
   "cell_type": "code",
   "execution_count": 30,
   "id": "0528fb0d-6bc2-4e51-b0c7-7d996511e12d",
   "metadata": {},
   "outputs": [
    {
     "name": "stdout",
     "output_type": "stream",
     "text": [
      "PREDICTED VALUES:\n",
      "slope 0.01\n",
      "discharge (cmy) 10000000.0\n",
      "discharge (cms) 0.3168808781402895\n",
      "channel width (m) 6.324555320336759\n",
      "bed shear stress (Pa) 10.739167899631411\n",
      "Shields stress 0.06634644858141915\n",
      "sediment flux (cmy) 69.70492856142535\n",
      "rate of sediment thickness change (m/y) -6.970492856142535e-05\n",
      "rate of surface lowering (m/y) -6.970492856142535e-05\n"
     ]
    }
   ],
   "source": [
    "# Input parameters\n",
    "sed_init = 100.0\n",
    "z_init = 10.0\n",
    "dx = 1000.0\n",
    "width_coef = 0.002\n",
    "width_exp = 0.5\n",
    "runoff = 10.0 # runoff rate, m/y\n",
    "rho = 1000.0\n",
    "rhos = 2650.0\n",
    "rough = 0.05\n",
    "grain_diam = 0.01\n",
    "tau_star_c = 0.0495\n",
    "g = 9.81\n",
    "mpm = 3.97\n",
    "intermittency = 0.01\n",
    "\n",
    "# Predicted outputs\n",
    "S = slope(z_init, dx)\n",
    "Q, Qcms = discharge(runoff, dx)\n",
    "w = fixed_width(width_coef, width_exp, Q)\n",
    "tau = shear_stress(rho, g, rough, Qcms, w, S)\n",
    "tau_star = shields_stress(tau, rho, rhos, g, grain_diam)\n",
    "R = (rhos - rho) / rho # intermediate\n",
    "Qs = sed_flux(\n",
    "    intermittency, mpm, w, rho, rhos, g, grain_diam, tau_star, tau_star_c\n",
    ")\n",
    "dHdt = outflux_thickening_rate(Qs, dx * dx)\n",
    "dzdt = dHdt\n",
    "\n",
    "# Display them\n",
    "print(\"PREDICTED VALUES:\")\n",
    "print(\"slope\", S)\n",
    "print(\"discharge (cmy)\", Q)\n",
    "print(\"discharge (cms)\", Qcms)\n",
    "print(\"channel width (m)\", w)\n",
    "print(\"bed shear stress (Pa)\", tau)\n",
    "print(\"Shields stress\", tau_star)\n",
    "print(\"sediment flux (cmy)\", Qs)\n",
    "print(\"rate of sediment thickness change (m/y)\", dHdt)\n",
    "print(\"rate of surface lowering (m/y)\", dzdt)"
   ]
  },
  {
   "cell_type": "markdown",
   "id": "c41dba1a-8fe8-4f78-94bd-d8f206e792ed",
   "metadata": {},
   "source": [
    "### Test 2: unlimited sediment, homogeneous, fixed width, attrition\n",
    "\n",
    "Input parameters:\n",
    "\n",
    "- $k_w = 0.002$ for $Q$ in cmy, and exponent = 1/2\n",
    "- $D_{50} = 0.01$ m\n",
    "- Initial sediment thickness 100 m\n",
    "- $H_0 = 1$ m\n",
    "- $\\tau_{*c} = 0.0495$\n",
    "- $M = 3.97$\n",
    "- $\\rho = 1000$ kg/m$^3$\n",
    "- $\\rho_s = 2650$ kg/m$^3$\n",
    "- $\\beta = 0.001$ 1/m\n"
   ]
  },
  {
   "cell_type": "code",
   "execution_count": 34,
   "id": "49f6a9bd-7f4d-418b-a1e8-049561b9890b",
   "metadata": {},
   "outputs": [
    {
     "name": "stdout",
     "output_type": "stream",
     "text": [
      "PREDICTED VALUES:\n",
      "slope 0.01\n",
      "discharge (cmy) 10000000.0\n",
      "discharge (cms) 0.3168808781402895\n",
      "channel width (m) 6.324555320336759\n",
      "bed shear stress (Pa) 10.739167899631411\n",
      "Shields stress 0.06634644858141915\n",
      "sediment flux (cmy) 69.70492856142535\n",
      "attrition thickness change rate (m/y) -0.0001394098571228507\n",
      "rate of sediment thickness change (m/y) -0.00020911478568427604\n",
      "rate of surface lowering (m/y) -0.00020911478568427604\n"
     ]
    }
   ],
   "source": [
    "# Input parameters\n",
    "sed_init = 100.0\n",
    "z_init = 10.0\n",
    "dx = 1000.0\n",
    "width_coef = 0.002\n",
    "width_exp = 0.5\n",
    "runoff = 10.0 # runoff rate, m/y\n",
    "rho = 1000.0\n",
    "rhos = 2650.0\n",
    "rough = 0.05\n",
    "grain_diam = 0.01\n",
    "tau_star_c = 0.0495\n",
    "g = 9.81\n",
    "mpm = 3.97\n",
    "intermittency = 0.01\n",
    "beta = 0.002\n",
    "\n",
    "# Predicted outputs\n",
    "S = slope(z_init, dx)\n",
    "Q, Qcms = discharge(runoff, dx)\n",
    "w = fixed_width(width_coef, width_exp, Q)\n",
    "tau = shear_stress(rho, g, rough, Qcms, w, S)\n",
    "tau_star = shields_stress(tau, rho, rhos, g, grain_diam)\n",
    "R = (rhos - rho) / rho # intermediate\n",
    "Qs = sed_flux(\n",
    "    intermittency, mpm, w, rho, rhos, g, grain_diam, tau_star, tau_star_c\n",
    ")\n",
    "dHdt_outflux = outflux_thickening_rate(Qs, dx * dx)\n",
    "dHdt_attrition = attrition_thickening_rate(Qs, beta, dx, dx * dx)\n",
    "dHdt = dHdt_outflux + dHdt_attrition\n",
    "dzdt = dHdt\n",
    "\n",
    "# Display them\n",
    "print(\"PREDICTED VALUES:\")\n",
    "print(\"slope\", S)\n",
    "print(\"discharge (cmy)\", Q)\n",
    "print(\"discharge (cms)\", Qcms)\n",
    "print(\"channel width (m)\", w)\n",
    "print(\"bed shear stress (Pa)\", tau)\n",
    "print(\"Shields stress\", tau_star)\n",
    "print(\"sediment flux (cmy)\", Qs)\n",
    "print(\"attrition thickness change rate (m/y)\", dHdt_attrition)\n",
    "print(\"rate of sediment thickness change (m/y)\", dHdt)\n",
    "print(\"rate of surface lowering (m/y)\", dzdt)"
   ]
  },
  {
   "cell_type": "code",
   "execution_count": 2,
   "id": "a3518b90-ad1a-42b3-b795-8a0021da783e",
   "metadata": {},
   "outputs": [],
   "source": [
    "def test_inst_fixed_width_unlimited_sed():\n",
    "\n",
    "    pass\n",
    "    "
   ]
  },
  {
   "cell_type": "code",
   "execution_count": 3,
   "id": "a84f8051-aa00-4e05-823b-1dbb89492ab7",
   "metadata": {},
   "outputs": [
    {
     "data": {
      "text/plain": [
       "0.005"
      ]
     },
     "execution_count": 3,
     "metadata": {},
     "output_type": "execute_result"
    }
   ],
   "source": []
  },
  {
   "cell_type": "code",
   "execution_count": null,
   "id": "66973778-9c7f-44c9-aa4b-e4929be3fa6e",
   "metadata": {},
   "outputs": [],
   "source": []
  }
 ],
 "metadata": {
  "kernelspec": {
   "display_name": "Python 3 (ipykernel)",
   "language": "python",
   "name": "python3"
  },
  "language_info": {
   "codemirror_mode": {
    "name": "ipython",
    "version": 3
   },
   "file_extension": ".py",
   "mimetype": "text/x-python",
   "name": "python",
   "nbconvert_exporter": "python",
   "pygments_lexer": "ipython3",
   "version": "3.12.4"
  }
 },
 "nbformat": 4,
 "nbformat_minor": 5
}
