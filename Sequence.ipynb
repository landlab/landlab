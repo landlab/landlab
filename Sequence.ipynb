{
 "cells": [
  {
   "cell_type": "code",
   "execution_count": 2,
   "metadata": {},
   "outputs": [
    {
     "ename": "SyntaxError",
     "evalue": "Missing parentheses in call to 'print' (utils2.py, line 81)",
     "output_type": "error",
     "traceback": [
      "\u001b[0;36m  File \u001b[0;32m\"/Users/david/GitHub/landlab/landlab/components/submarine_diffusion/utils2.py\"\u001b[0;36m, line \u001b[0;32m81\u001b[0m\n\u001b[0;31m    print x_of_shoreline1\u001b[0m\n\u001b[0m                        ^\u001b[0m\n\u001b[0;31mSyntaxError\u001b[0m\u001b[0;31m:\u001b[0m Missing parentheses in call to 'print'\n"
     ]
    }
   ],
   "source": [
    "from landlab.components.submarine_diffusion.create_initial_profile import create_initial_profile\n",
    "from landlab.components.submarine_diffusion.utils2 import find_shoreline2\n",
    "from landlab.components.submarine_diffusion import SubmarineDiffuser\n",
    "from landlab.components.submarine_diffusion.sea_level import sea_level_file, sea_level_type\n",
    "%matplotlib inline\n",
    "import matplotlib.pyplot as plt\n"
   ]
  },
  {
   "cell_type": "code",
   "execution_count": null,
   "metadata": {
    "collapsed": true
   },
   "outputs": [],
   "source": [
    "import numpy as np"
   ]
  },
  {
   "cell_type": "code",
   "execution_count": null,
   "metadata": {},
   "outputs": [],
   "source": [
    "user_inputed_yaml_file = input('Insert a yaml file name here')"
   ]
  },
  {
   "cell_type": "code",
   "execution_count": null,
   "metadata": {
    "collapsed": true
   },
   "outputs": [],
   "source": [
    "from yaml_file_check import Yaml_File_Check\n",
    "planform = Yaml_File_Check(user_inputed_yaml_file)"
   ]
  },
  {
   "cell_type": "code",
   "execution_count": null,
   "metadata": {},
   "outputs": [],
   "source": [
    "planform"
   ]
  },
  {
   "cell_type": "code",
   "execution_count": null,
   "metadata": {},
   "outputs": [],
   "source": [
    "sea_level_type(planform)\n",
    "#asks the user whether a sea level file or function is preferred"
   ]
  },
  {
   "cell_type": "code",
   "execution_count": null,
   "metadata": {},
   "outputs": [],
   "source": [
    "sea_level_file(planform['sl_file_name'], planform)"
   ]
  },
  {
   "cell_type": "code",
   "execution_count": null,
   "metadata": {
    "collapsed": true
   },
   "outputs": [],
   "source": [
    "from netCDF4 import Dataset\n",
    "dataset = Dataset('netcdf_file_example.nc')\n",
    "#read in the netcdf file go straight into a grid"
   ]
  },
  {
   "cell_type": "code",
   "execution_count": null,
   "metadata": {
    "collapsed": true
   },
   "outputs": [],
   "source": [
    "#still need to input subsidence and sea level arrays calculate sea level tpe outside in sequence"
   ]
  },
  {
   "cell_type": "code",
   "execution_count": null,
   "metadata": {
    "collapsed": true
   },
   "outputs": [],
   "source": [
    "from landlab import RasterModelGrid, CLOSED_BOUNDARY\n",
    "grid = RasterModelGrid((3,200), spacing = 500.)\n",
    "grid.status_at_node[grid.nodes_at_top_edge]    = CLOSED_BOUNDARY\n",
    "grid.status_at_node[grid.nodes_at_bottom_edge] = CLOSED_BOUNDARY"
   ]
  },
  {
   "cell_type": "code",
   "execution_count": null,
   "metadata": {},
   "outputs": [],
   "source": [
    "z = create_initial_profile(grid.x_of_node)\n",
    "grid.add_field('topographic__elevation', z.copy(), at='node')"
   ]
  },
  {
   "cell_type": "code",
   "execution_count": null,
   "metadata": {
    "collapsed": true
   },
   "outputs": [],
   "source": [
    "z0 =z"
   ]
  },
  {
   "cell_type": "code",
   "execution_count": null,
   "metadata": {},
   "outputs": [],
   "source": [
    "shore = find_shoreline2(grid.x_of_node[grid.core_nodes], z[grid.core_nodes], 0.)\n",
    "plt.plot(grid.x_of_node,z,shore,0,'o' )\n",
    "shore"
   ]
  },
  {
   "cell_type": "code",
   "execution_count": null,
   "metadata": {},
   "outputs": [],
   "source": [
    "shore = find_shoreline2(grid.x_of_node[grid.core_nodes], z[grid.core_nodes], 0.)\n",
    "plt.plot(grid.x_of_node,z,shore,0,'o' )"
   ]
  },
  {
   "cell_type": "code",
   "execution_count": null,
   "metadata": {
    "collapsed": true
   },
   "outputs": [],
   "source": [
    "sd = SubmarineDiffuser(grid, shore)"
   ]
  },
  {
   "cell_type": "code",
   "execution_count": null,
   "metadata": {
    "collapsed": true
   },
   "outputs": [],
   "source": [
    "k = sd.calc_diffusion_coef(shore)"
   ]
  },
  {
   "cell_type": "code",
   "execution_count": null,
   "metadata": {},
   "outputs": [],
   "source": [
    "plt.plot(grid.x_of_node,k)"
   ]
  },
  {
   "cell_type": "code",
   "execution_count": null,
   "metadata": {
    "collapsed": true
   },
   "outputs": [],
   "source": [
    "k = sd.grid.at_node['kd'].copy()\n",
    "grid.x_of_cell[48]\n",
    "sd.grid.at_node['topographic__elevation'][200] = sd.grid.at_node['topographic__elevation'][201]"
   ]
  },
  {
   "cell_type": "code",
   "execution_count": null,
   "metadata": {
    "collapsed": true
   },
   "outputs": [],
   "source": [
    "for time_step in range(1000):\n",
    "    sd.run_one_step(100)"
   ]
  },
  {
   "cell_type": "code",
   "execution_count": null,
   "metadata": {},
   "outputs": [],
   "source": [
    "z1 = sd.grid.at_node['topographic__elevation']\n",
    "plt.plot(grid.x_of_node,z1,grid.x_of_node,z)"
   ]
  },
  {
   "cell_type": "code",
   "execution_count": null,
   "metadata": {},
   "outputs": [],
   "source": [
    "shore = find_shoreline2(grid.x_of_node[grid.core_nodes], z1[grid.core_nodes], 0.)\n",
    "shore"
   ]
  },
  {
   "cell_type": "code",
   "execution_count": null,
   "metadata": {},
   "outputs": [],
   "source": [
    "for time_step in range(1000):\n",
    "    sd.run_one_step(100)\n",
    "    z2 = sd.grid.at_node['topographic__elevation']\n",
    "plt.plot(grid.x_of_node,z1,grid.x_of_node,z, grid.x_of_node,z2)"
   ]
  },
  {
   "cell_type": "code",
   "execution_count": null,
   "metadata": {},
   "outputs": [],
   "source": [
    "z2"
   ]
  },
  {
   "cell_type": "code",
   "execution_count": null,
   "metadata": {},
   "outputs": [],
   "source": [
    "shore = find_shoreline2(grid.x_of_node[grid.core_nodes], z2[grid.core_nodes], 0.)\n",
    "shore"
   ]
  },
  {
   "cell_type": "code",
   "execution_count": null,
   "metadata": {},
   "outputs": [],
   "source": [
    "for time_step in range(1000):\n",
    "    sd.run_one_step(100)\n",
    "    z3 = sd.grid.at_node['topographic__elevation']\n",
    "plt.plot(grid.x_of_node,z1,grid.x_of_node,z, grid.x_of_node,z2, grid.x_of_node,z3)"
   ]
  },
  {
   "cell_type": "code",
   "execution_count": null,
   "metadata": {},
   "outputs": [],
   "source": [
    "plt.plot(grid.x_of_node,z1-z)"
   ]
  },
  {
   "cell_type": "code",
   "execution_count": null,
   "metadata": {},
   "outputs": [],
   "source": [
    "z3"
   ]
  },
  {
   "cell_type": "code",
   "execution_count": null,
   "metadata": {},
   "outputs": [],
   "source": [
    "shore = find_shoreline2(grid.x_of_node[grid.core_nodes], z3[grid.core_nodes], 0.)\n",
    "shore"
   ]
  },
  {
   "cell_type": "code",
   "execution_count": null,
   "metadata": {},
   "outputs": [],
   "source": [
    "shore1 = find_shoreline2(grid.x_of_node[grid.core_nodes], z2[grid.core_nodes], 0.)\n",
    "shore1"
   ]
  },
  {
   "cell_type": "code",
   "execution_count": null,
   "metadata": {},
   "outputs": [],
   "source": [
    "for time_step in range(1000):\n",
    "    sd.run_one_step(100)\n",
    "    z4 = sd.grid.at_node['topographic__elevation']\n",
    "plt.plot(grid.x_of_node,z1,grid.x_of_node,z, grid.x_of_node,z2, grid.x_of_node,z4)"
   ]
  },
  {
   "cell_type": "code",
   "execution_count": null,
   "metadata": {},
   "outputs": [],
   "source": [
    "k"
   ]
  },
  {
   "cell_type": "code",
   "execution_count": null,
   "metadata": {},
   "outputs": [],
   "source": [
    "# z1 = sd.grid.at_node['topographic__elevation']\n",
    "plt.plot(grid.x_of_node,z1-z,)"
   ]
  },
  {
   "cell_type": "code",
   "execution_count": null,
   "metadata": {},
   "outputs": [],
   "source": [
    "k1 = sd.grid.at_node['kd']\n",
    "k1"
   ]
  },
  {
   "cell_type": "code",
   "execution_count": null,
   "metadata": {},
   "outputs": [],
   "source": [
    "plt.plot(grid.x_of_node[grid.core_nodes],k1[grid.core_nodes]-k[grid.core_nodes],)"
   ]
  },
  {
   "cell_type": "code",
   "execution_count": null,
   "metadata": {
    "collapsed": true
   },
   "outputs": [],
   "source": [
    "k1-k"
   ]
  },
  {
   "cell_type": "code",
   "execution_count": null,
   "metadata": {
    "collapsed": true
   },
   "outputs": [],
   "source": []
  },
  {
   "cell_type": "code",
   "execution_count": null,
   "metadata": {
    "collapsed": true
   },
   "outputs": [],
   "source": []
  }
 ],
 "metadata": {
  "kernelspec": {
   "display_name": "Python 3",
   "language": "python",
   "name": "python3"
  }
 },
 "nbformat": 4,
 "nbformat_minor": 2
}
