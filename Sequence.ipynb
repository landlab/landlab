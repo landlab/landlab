{
 "cells": [
  {
   "cell_type": "code",
   "execution_count": 1,
   "metadata": {
    "collapsed": false
   },
   "outputs": [],
   "source": [
    "from landlab.components.submarine_diffusion.create_initial_profile import create_initial_profile\n",
    "from landlab.components.submarine_diffusion.utils2 import find_shoreline2\n",
    "from landlab.components.submarine_diffusion import SubmarineDiffuser\n",
    "from landlab.components.submarine_diffusion.sea_level import sea_level_file, sea_level_type\n",
    "%matplotlib inline\n",
    "import matplotlib.pyplot as plt\n"
   ]
  },
  {
   "cell_type": "code",
   "execution_count": 2,
   "metadata": {
    "collapsed": true
   },
   "outputs": [],
   "source": [
    "import numpy as np"
   ]
  },
  {
   "cell_type": "code",
   "execution_count": 3,
   "metadata": {
    "collapsed": false
   },
   "outputs": [
    {
     "name": "stdout",
     "output_type": "stream",
     "text": [
      "/Users/michael/Git/landlab/landlab/components/submarine_diffusion\n"
     ]
    }
   ],
   "source": [
    "cd landlab/components/submarine_diffusion/"
   ]
  },
  {
   "cell_type": "code",
   "execution_count": 4,
   "metadata": {
    "collapsed": false,
    "scrolled": true
   },
   "outputs": [],
   "source": [
    "user_inputed_yaml_file = 'Default.yaml' #input('Type name of defaults file')"
   ]
  },
  {
   "cell_type": "code",
   "execution_count": 5,
   "metadata": {
    "collapsed": false
   },
   "outputs": [],
   "source": [
    "from yaml_file_check import Yaml_File_Check\n",
    "planform = Yaml_File_Check(user_inputed_yaml_file)"
   ]
  },
  {
   "cell_type": "code",
   "execution_count": 6,
   "metadata": {
    "collapsed": false
   },
   "outputs": [
    {
     "data": {
      "text/plain": [
       "{'alpha': 0.0005,\n",
       " 'dt': 100.0,\n",
       " 'dx': 500.0,\n",
       " 'hgt': 15.0,\n",
       " 'ksh': 100.0,\n",
       " 'load': 3.0,\n",
       " 'number_of_node_columns': 200,\n",
       " 'output-filename': 'seq_test',\n",
       " 'output_interval': 1000.0,\n",
       " 'run_duration': 2000000.0,\n",
       " 'sea_level': 0.0,\n",
       " 'sea_level_amplitude': 10.0,\n",
       " 'sea_level_period': 100000.0,\n",
       " 'sea_level_phase': 0.0,\n",
       " 'sl_file_name': 'sample_sea_level_file.txt',\n",
       " 'sl_sh': 0.001,\n",
       " 'sl_type': 'sinusoid',\n",
       " 'start_time': 0.0,\n",
       " 'topo_file': 'bathymetry.txt',\n",
       " 'wave_base': 60.0}"
      ]
     },
     "execution_count": 6,
     "metadata": {},
     "output_type": "execute_result"
    }
   ],
   "source": [
    "planform"
   ]
  },
  {
   "cell_type": "code",
   "execution_count": 7,
   "metadata": {
    "collapsed": false
   },
   "outputs": [],
   "source": [
    "t, sl_array = sea_level_type(planform)\n",
    "#asks the user whether a sea level file or function is preferred"
   ]
  },
  {
   "cell_type": "code",
   "execution_count": 8,
   "metadata": {
    "collapsed": false
   },
   "outputs": [
    {
     "data": {
      "text/plain": [
       "[<matplotlib.lines.Line2D at 0x1280a1e50>]"
      ]
     },
     "execution_count": 8,
     "metadata": {},
     "output_type": "execute_result"
    },
    {
     "data": {
      "image/png": "[encoded data removed]",
      "text/plain": [
       "<matplotlib.figure.Figure at 0x1151e3cd0>"
      ]
     },
     "metadata": {},
     "output_type": "display_data"
    }
   ],
   "source": [
    "#sea_level_file(planform['sl_file_name'], planform)\n",
    "plt.plot(t,sl_array)"
   ]
  },
  {
   "cell_type": "code",
   "execution_count": 9,
   "metadata": {
    "collapsed": false
   },
   "outputs": [],
   "source": [
    "#from netCDF4 import Dataset\n",
    "#dataset = Dataset('netcdf_file_example.nc')\n",
    "#read in the netcdf file go straight into a grid"
   ]
  },
  {
   "cell_type": "code",
   "execution_count": 10,
   "metadata": {
    "collapsed": true
   },
   "outputs": [],
   "source": [
    "#still need to input subsidence and sea level arrays calculate sea level tpe outside in sequence"
   ]
  },
  {
   "cell_type": "code",
   "execution_count": 11,
   "metadata": {
    "collapsed": false
   },
   "outputs": [],
   "source": [
    "from landlab import RasterModelGrid, CLOSED_BOUNDARY\n",
    "number_of_node_columns = planform['number_of_node_columns']\n",
    "dx = planform['dx']\n",
    "grid = RasterModelGrid((3,number_of_node_columns), spacing = dx)\n",
    "grid.status_at_node[grid.nodes_at_top_edge]    = CLOSED_BOUNDARY\n",
    "grid.status_at_node[grid.nodes_at_bottom_edge] = CLOSED_BOUNDARY"
   ]
  },
  {
   "cell_type": "code",
   "execution_count": 12,
   "metadata": {
    "collapsed": false
   },
   "outputs": [
    {
     "data": {
      "text/plain": [
       "array([ 15.8       ,  15.4       ,  15.        ,  14.6       ,\n",
       "        14.2       ,  13.8       ,  13.4       ,  13.        ,\n",
       "        12.6       ,  12.2       ,  11.8       ,  11.4       ,\n",
       "        11.        ,  10.6       ,  10.2       ,   9.8       ,\n",
       "         9.4       ,   9.        ,   8.6       ,   8.2       ,\n",
       "         7.8       ,   7.4       ,   7.        ,   6.6       ,\n",
       "         6.2       ,   5.8       ,   5.4       ,   5.        ,\n",
       "         4.6       ,   4.2       ,   3.8       ,   3.4       ,\n",
       "         3.        ,   2.6       ,   2.2       ,   1.8       ,\n",
       "         1.4       ,   1.        ,   0.6       ,   0.2       ,\n",
       "        -2.01254646,  -5.44066082,  -8.22107857, -10.4970697 ,\n",
       "       -12.38021299, -13.95740606, -15.29632487, -16.4496755 ,\n",
       "       -17.45850548, -18.35478266, -19.16340364, -19.90375791,\n",
       "       -20.590946  , -21.23672823, -21.85026354, -22.43868493,\n",
       "       -23.00754758, -23.56117787, -24.10294517, -24.63547359,\n",
       "       -25.16080674, -25.68053622, -26.19590155, -26.70786809,\n",
       "       -27.21718763, -27.7244457 , -28.23009829, -28.73450054,\n",
       "       -29.237929  , -29.7405991 , -30.24267857, -30.74429807,\n",
       "       -31.24555933, -31.7465416 , -32.2473066 , -32.74790238,\n",
       "       -33.24836637, -33.74872773, -34.24900915, -34.74922833,\n",
       "       -35.24939902, -35.74953196, -36.24963549, -36.74971612,\n",
       "       -37.24977891, -37.74982782, -38.2498659 , -38.74989557,\n",
       "       -39.24991867, -39.74993666, -40.24995067, -40.74996158,\n",
       "       -41.24997008, -41.7499767 , -42.24998185, -42.74998587,\n",
       "       -43.24998899, -43.74999143, -44.24999332, -44.7499948 ,\n",
       "       -45.24999595, -45.74999685, -46.24999754, -46.74999809,\n",
       "       -47.24999851, -47.74999884, -48.2499991 , -48.7499993 ,\n",
       "       -49.24999945, -49.74999957, -50.24999967, -50.74999974,\n",
       "       -51.2499998 , -51.74999984, -52.24999988, -52.7499999 ,\n",
       "       -53.24999993, -53.74999994, -54.24999996, -54.74999996,\n",
       "       -55.24999997, -55.74999998, -56.24999998, -56.74999999,\n",
       "       -57.24999999, -57.74999999, -58.24999999, -58.75      ,\n",
       "       -59.25      , -59.75      , -60.25      , -60.75      ,\n",
       "       -61.25      , -61.75      , -62.25      , -62.75      ,\n",
       "       -63.25      , -63.75      , -64.25      , -64.75      ,\n",
       "       -65.25      , -65.75      , -66.25      , -66.75      ,\n",
       "       -67.25      , -67.75      , -68.25      , -68.75      ,\n",
       "       -69.25      , -69.75      , -70.25      , -70.75      ,\n",
       "       -71.25      , -71.75      , -72.25      , -72.75      ,\n",
       "       -73.25      , -73.75      , -74.25      , -74.75      ,\n",
       "       -75.25      , -75.75      , -76.25      , -76.75      ,\n",
       "       -77.25      , -77.75      , -78.25      , -78.75      ,\n",
       "       -79.25      , -79.75      , -80.25      , -80.75      ,\n",
       "       -81.25      , -81.75      , -82.25      , -82.75      ,\n",
       "       -83.25      , -83.75      , -84.25      , -84.75      ,\n",
       "       -85.25      , -85.75      , -86.25      , -86.75      ,\n",
       "       -87.25      , -87.75      , -88.25      , -88.75      ,\n",
       "       -89.25      , -89.75      , -90.25      , -90.75      ,\n",
       "       -91.25      , -91.75      , -92.25      , -92.75      ,\n",
       "       -93.25      , -93.75      , -94.25      , -94.75      ,\n",
       "        15.8       ,  15.4       ,  15.        ,  14.6       ,\n",
       "        14.2       ,  13.8       ,  13.4       ,  13.        ,\n",
       "        12.6       ,  12.2       ,  11.8       ,  11.4       ,\n",
       "        11.        ,  10.6       ,  10.2       ,   9.8       ,\n",
       "         9.4       ,   9.        ,   8.6       ,   8.2       ,\n",
       "         7.8       ,   7.4       ,   7.        ,   6.6       ,\n",
       "         6.2       ,   5.8       ,   5.4       ,   5.        ,\n",
       "         4.6       ,   4.2       ,   3.8       ,   3.4       ,\n",
       "         3.        ,   2.6       ,   2.2       ,   1.8       ,\n",
       "         1.4       ,   1.        ,   0.6       ,   0.2       ,\n",
       "        -2.01254646,  -5.44066082,  -8.22107857, -10.4970697 ,\n",
       "       -12.38021299, -13.95740606, -15.29632487, -16.4496755 ,\n",
       "       -17.45850548, -18.35478266, -19.16340364, -19.90375791,\n",
       "       -20.590946  , -21.23672823, -21.85026354, -22.43868493,\n",
       "       -23.00754758, -23.56117787, -24.10294517, -24.63547359,\n",
       "       -25.16080674, -25.68053622, -26.19590155, -26.70786809,\n",
       "       -27.21718763, -27.7244457 , -28.23009829, -28.73450054,\n",
       "       -29.237929  , -29.7405991 , -30.24267857, -30.74429807,\n",
       "       -31.24555933, -31.7465416 , -32.2473066 , -32.74790238,\n",
       "       -33.24836637, -33.74872773, -34.24900915, -34.74922833,\n",
       "       -35.24939902, -35.74953196, -36.24963549, -36.74971612,\n",
       "       -37.24977891, -37.74982782, -38.2498659 , -38.74989557,\n",
       "       -39.24991867, -39.74993666, -40.24995067, -40.74996158,\n",
       "       -41.24997008, -41.7499767 , -42.24998185, -42.74998587,\n",
       "       -43.24998899, -43.74999143, -44.24999332, -44.7499948 ,\n",
       "       -45.24999595, -45.74999685, -46.24999754, -46.74999809,\n",
       "       -47.24999851, -47.74999884, -48.2499991 , -48.7499993 ,\n",
       "       -49.24999945, -49.74999957, -50.24999967, -50.74999974,\n",
       "       -51.2499998 , -51.74999984, -52.24999988, -52.7499999 ,\n",
       "       -53.24999993, -53.74999994, -54.24999996, -54.74999996,\n",
       "       -55.24999997, -55.74999998, -56.24999998, -56.74999999,\n",
       "       -57.24999999, -57.74999999, -58.24999999, -58.75      ,\n",
       "       -59.25      , -59.75      , -60.25      , -60.75      ,\n",
       "       -61.25      , -61.75      , -62.25      , -62.75      ,\n",
       "       -63.25      , -63.75      , -64.25      , -64.75      ,\n",
       "       -65.25      , -65.75      , -66.25      , -66.75      ,\n",
       "       -67.25      , -67.75      , -68.25      , -68.75      ,\n",
       "       -69.25      , -69.75      , -70.25      , -70.75      ,\n",
       "       -71.25      , -71.75      , -72.25      , -72.75      ,\n",
       "       -73.25      , -73.75      , -74.25      , -74.75      ,\n",
       "       -75.25      , -75.75      , -76.25      , -76.75      ,\n",
       "       -77.25      , -77.75      , -78.25      , -78.75      ,\n",
       "       -79.25      , -79.75      , -80.25      , -80.75      ,\n",
       "       -81.25      , -81.75      , -82.25      , -82.75      ,\n",
       "       -83.25      , -83.75      , -84.25      , -84.75      ,\n",
       "       -85.25      , -85.75      , -86.25      , -86.75      ,\n",
       "       -87.25      , -87.75      , -88.25      , -88.75      ,\n",
       "       -89.25      , -89.75      , -90.25      , -90.75      ,\n",
       "       -91.25      , -91.75      , -92.25      , -92.75      ,\n",
       "       -93.25      , -93.75      , -94.25      , -94.75      ,\n",
       "        15.8       ,  15.4       ,  15.        ,  14.6       ,\n",
       "        14.2       ,  13.8       ,  13.4       ,  13.        ,\n",
       "        12.6       ,  12.2       ,  11.8       ,  11.4       ,\n",
       "        11.        ,  10.6       ,  10.2       ,   9.8       ,\n",
       "         9.4       ,   9.        ,   8.6       ,   8.2       ,\n",
       "         7.8       ,   7.4       ,   7.        ,   6.6       ,\n",
       "         6.2       ,   5.8       ,   5.4       ,   5.        ,\n",
       "         4.6       ,   4.2       ,   3.8       ,   3.4       ,\n",
       "         3.        ,   2.6       ,   2.2       ,   1.8       ,\n",
       "         1.4       ,   1.        ,   0.6       ,   0.2       ,\n",
       "        -2.01254646,  -5.44066082,  -8.22107857, -10.4970697 ,\n",
       "       -12.38021299, -13.95740606, -15.29632487, -16.4496755 ,\n",
       "       -17.45850548, -18.35478266, -19.16340364, -19.90375791,\n",
       "       -20.590946  , -21.23672823, -21.85026354, -22.43868493,\n",
       "       -23.00754758, -23.56117787, -24.10294517, -24.63547359,\n",
       "       -25.16080674, -25.68053622, -26.19590155, -26.70786809,\n",
       "       -27.21718763, -27.7244457 , -28.23009829, -28.73450054,\n",
       "       -29.237929  , -29.7405991 , -30.24267857, -30.74429807,\n",
       "       -31.24555933, -31.7465416 , -32.2473066 , -32.74790238,\n",
       "       -33.24836637, -33.74872773, -34.24900915, -34.74922833,\n",
       "       -35.24939902, -35.74953196, -36.24963549, -36.74971612,\n",
       "       -37.24977891, -37.74982782, -38.2498659 , -38.74989557,\n",
       "       -39.24991867, -39.74993666, -40.24995067, -40.74996158,\n",
       "       -41.24997008, -41.7499767 , -42.24998185, -42.74998587,\n",
       "       -43.24998899, -43.74999143, -44.24999332, -44.7499948 ,\n",
       "       -45.24999595, -45.74999685, -46.24999754, -46.74999809,\n",
       "       -47.24999851, -47.74999884, -48.2499991 , -48.7499993 ,\n",
       "       -49.24999945, -49.74999957, -50.24999967, -50.74999974,\n",
       "       -51.2499998 , -51.74999984, -52.24999988, -52.7499999 ,\n",
       "       -53.24999993, -53.74999994, -54.24999996, -54.74999996,\n",
       "       -55.24999997, -55.74999998, -56.24999998, -56.74999999,\n",
       "       -57.24999999, -57.74999999, -58.24999999, -58.75      ,\n",
       "       -59.25      , -59.75      , -60.25      , -60.75      ,\n",
       "       -61.25      , -61.75      , -62.25      , -62.75      ,\n",
       "       -63.25      , -63.75      , -64.25      , -64.75      ,\n",
       "       -65.25      , -65.75      , -66.25      , -66.75      ,\n",
       "       -67.25      , -67.75      , -68.25      , -68.75      ,\n",
       "       -69.25      , -69.75      , -70.25      , -70.75      ,\n",
       "       -71.25      , -71.75      , -72.25      , -72.75      ,\n",
       "       -73.25      , -73.75      , -74.25      , -74.75      ,\n",
       "       -75.25      , -75.75      , -76.25      , -76.75      ,\n",
       "       -77.25      , -77.75      , -78.25      , -78.75      ,\n",
       "       -79.25      , -79.75      , -80.25      , -80.75      ,\n",
       "       -81.25      , -81.75      , -82.25      , -82.75      ,\n",
       "       -83.25      , -83.75      , -84.25      , -84.75      ,\n",
       "       -85.25      , -85.75      , -86.25      , -86.75      ,\n",
       "       -87.25      , -87.75      , -88.25      , -88.75      ,\n",
       "       -89.25      , -89.75      , -90.25      , -90.75      ,\n",
       "       -91.25      , -91.75      , -92.25      , -92.75      ,\n",
       "       -93.25      , -93.75      , -94.25      , -94.75      ])"
      ]
     },
     "execution_count": 12,
     "metadata": {},
     "output_type": "execute_result"
    }
   ],
   "source": [
    "z = create_initial_profile(grid.x_of_node)\n",
    "grid.add_field('topographic__elevation', z.copy(), at='node')"
   ]
  },
  {
   "cell_type": "code",
   "execution_count": 13,
   "metadata": {
    "collapsed": true
   },
   "outputs": [],
   "source": [
    "z0 =z"
   ]
  },
  {
   "cell_type": "code",
   "execution_count": 14,
   "metadata": {
    "collapsed": false
   },
   "outputs": [
    {
     "name": "stdout",
     "output_type": "stream",
     "text": [
      "19628.7477097\n",
      "19628.7477097\n"
     ]
    },
    {
     "data": {
      "text/plain": [
       "19628.74770972907"
      ]
     },
     "execution_count": 14,
     "metadata": {},
     "output_type": "execute_result"
    },
    {
     "data": {
      "image/png": "[encoded data removed]",
      "text/plain": [
       "<matplotlib.figure.Figure at 0x128054f10>"
      ]
     },
     "metadata": {},
     "output_type": "display_data"
    }
   ],
   "source": [
    "shore = find_shoreline2(grid.x_of_node[grid.core_nodes], z[grid.core_nodes], 0.)\n",
    "plt.plot(grid.x_of_node,z,shore,0,'o' )\n",
    "shore"
   ]
  },
  {
   "cell_type": "code",
   "execution_count": 15,
   "metadata": {
    "collapsed": false
   },
   "outputs": [
    {
     "name": "stdout",
     "output_type": "stream",
     "text": [
      "19628.7477097\n",
      "19628.7477097\n"
     ]
    },
    {
     "data": {
      "text/plain": [
       "[<matplotlib.lines.Line2D at 0x128781e90>,\n",
       " <matplotlib.lines.Line2D at 0x1287910d0>]"
      ]
     },
     "execution_count": 15,
     "metadata": {},
     "output_type": "execute_result"
    },
    {
     "data": {
      "image/png": "[encoded data removed]",
      "text/plain": [
       "<matplotlib.figure.Figure at 0x1280cc290>"
      ]
     },
     "metadata": {},
     "output_type": "display_data"
    }
   ],
   "source": [
    "shore = find_shoreline2(grid.x_of_node[grid.core_nodes], z[grid.core_nodes], 0.)\n",
    "plt.plot(grid.x_of_node,z,shore,0,'o' )"
   ]
  },
  {
   "cell_type": "code",
   "execution_count": 16,
   "metadata": {
    "collapsed": false
   },
   "outputs": [],
   "source": [
    "sd = SubmarineDiffuser(grid, shore,sl_array, planform)"
   ]
  },
  {
   "cell_type": "code",
   "execution_count": 17,
   "metadata": {
    "collapsed": false
   },
   "outputs": [],
   "source": [
    "k = sd.calc_diffusion_coef(shore)"
   ]
  },
  {
   "cell_type": "code",
   "execution_count": 18,
   "metadata": {
    "collapsed": false
   },
   "outputs": [
    {
     "data": {
      "text/plain": [
       "[<matplotlib.lines.Line2D at 0x128735a50>]"
      ]
     },
     "execution_count": 18,
     "metadata": {},
     "output_type": "execute_result"
    },
    {
     "data": {
      "image/png": "[encoded data removed]",
      "text/plain": [
       "<matplotlib.figure.Figure at 0x1287b83d0>"
      ]
     },
     "metadata": {},
     "output_type": "display_data"
    }
   ],
   "source": [
    "plt.plot(grid.x_of_node,k)"
   ]
  },
  {
   "cell_type": "code",
   "execution_count": 19,
   "metadata": {
    "collapsed": true
   },
   "outputs": [],
   "source": [
    "k = sd.grid.at_node['kd'].copy()\n",
    "grid.x_of_cell[48]\n",
    "sd.grid.at_node['topographic__elevation'][200] = sd.grid.at_node['topographic__elevation'][201]"
   ]
  },
  {
   "cell_type": "code",
   "execution_count": 20,
   "metadata": {
    "collapsed": false
   },
   "outputs": [
    {
     "data": {
      "text/plain": [
       "20000"
      ]
     },
     "execution_count": 20,
     "metadata": {},
     "output_type": "execute_result"
    }
   ],
   "source": [
    "len(sl_array)"
   ]
  },
  {
   "cell_type": "code",
   "execution_count": 21,
   "metadata": {
    "collapsed": false,
    "scrolled": true
   },
   "outputs": [],
   "source": [
    "for time_step in range(10):\n",
    "    sd.run_one_step(100)"
   ]
  },
  {
   "cell_type": "code",
   "execution_count": 22,
   "metadata": {
    "collapsed": false
   },
   "outputs": [
    {
     "data": {
      "text/plain": [
       "[<matplotlib.lines.Line2D at 0x12c3b1790>,\n",
       " <matplotlib.lines.Line2D at 0x12c3b1990>]"
      ]
     },
     "execution_count": 22,
     "metadata": {},
     "output_type": "execute_result"
    },
    {
     "data": {
      "image/png": "[encoded data removed]",
      "text/plain": [
       "<matplotlib.figure.Figure at 0x128791e10>"
      ]
     },
     "metadata": {},
     "output_type": "display_data"
    }
   ],
   "source": [
    "z1 = sd.grid.at_node['topographic__elevation']\n",
    "plt.plot(grid.x_of_node,z1,grid.x_of_node,z)"
   ]
  },
  {
   "cell_type": "code",
   "execution_count": 23,
   "metadata": {
    "collapsed": false
   },
   "outputs": [
    {
     "name": "stdout",
     "output_type": "stream",
     "text": [
      "19154.6820995\n",
      "19154.6820995\n"
     ]
    },
    {
     "data": {
      "text/plain": [
       "19154.682099455033"
      ]
     },
     "execution_count": 23,
     "metadata": {},
     "output_type": "execute_result"
    }
   ],
   "source": [
    "shore = find_shoreline2(grid.x_of_node[grid.core_nodes], z1[grid.core_nodes], 0.)\n",
    "shore"
   ]
  },
  {
   "cell_type": "code",
   "execution_count": 24,
   "metadata": {
    "collapsed": false
   },
   "outputs": [
    {
     "data": {
      "text/plain": [
       "[<matplotlib.lines.Line2D at 0x12c308450>,\n",
       " <matplotlib.lines.Line2D at 0x12c308650>,\n",
       " <matplotlib.lines.Line2D at 0x12c308d10>]"
      ]
     },
     "execution_count": 24,
     "metadata": {},
     "output_type": "execute_result"
    },
    {
     "data": {
      "image/png": "[encoded data removed]",
      "text/plain": [
       "<matplotlib.figure.Figure at 0x12887a510>"
      ]
     },
     "metadata": {},
     "output_type": "display_data"
    }
   ],
   "source": [
    "for time_step in range(100):\n",
    "    sd.run_one_step(100)\n",
    "    z2 = sd.grid.at_node['topographic__elevation']\n",
    "plt.plot(grid.x_of_node,z1,grid.x_of_node,z, grid.x_of_node,z2)"
   ]
  },
  {
   "cell_type": "code",
   "execution_count": 25,
   "metadata": {
    "collapsed": false
   },
   "outputs": [
    {
     "data": {
      "text/plain": [
       "array([ 15.8       ,  15.4       ,  15.        ,  14.6       ,\n",
       "        14.2       ,  13.8       ,  13.4       ,  13.        ,\n",
       "        12.6       ,  12.2       ,  11.8       ,  11.4       ,\n",
       "        11.        ,  10.6       ,  10.2       ,   9.8       ,\n",
       "         9.4       ,   9.        ,   8.6       ,   8.2       ,\n",
       "         7.8       ,   7.4       ,   7.        ,   6.6       ,\n",
       "         6.2       ,   5.8       ,   5.4       ,   5.        ,\n",
       "         4.6       ,   4.2       ,   3.8       ,   3.4       ,\n",
       "         3.        ,   2.6       ,   2.2       ,   1.8       ,\n",
       "         1.4       ,   1.        ,   0.6       ,   0.2       ,\n",
       "        -2.01254646,  -5.44066082,  -8.22107857, -10.4970697 ,\n",
       "       -12.38021299, -13.95740606, -15.29632487, -16.4496755 ,\n",
       "       -17.45850548, -18.35478266, -19.16340364, -19.90375791,\n",
       "       -20.590946  , -21.23672823, -21.85026354, -22.43868493,\n",
       "       -23.00754758, -23.56117787, -24.10294517, -24.63547359,\n",
       "       -25.16080674, -25.68053622, -26.19590155, -26.70786809,\n",
       "       -27.21718763, -27.7244457 , -28.23009829, -28.73450054,\n",
       "       -29.237929  , -29.7405991 , -30.24267857, -30.74429807,\n",
       "       -31.24555933, -31.7465416 , -32.2473066 , -32.74790238,\n",
       "       -33.24836637, -33.74872773, -34.24900915, -34.74922833,\n",
       "       -35.24939902, -35.74953196, -36.24963549, -36.74971612,\n",
       "       -37.24977891, -37.74982782, -38.2498659 , -38.74989557,\n",
       "       -39.24991867, -39.74993666, -40.24995067, -40.74996158,\n",
       "       -41.24997008, -41.7499767 , -42.24998185, -42.74998587,\n",
       "       -43.24998899, -43.74999143, -44.24999332, -44.7499948 ,\n",
       "       -45.24999595, -45.74999685, -46.24999754, -46.74999809,\n",
       "       -47.24999851, -47.74999884, -48.2499991 , -48.7499993 ,\n",
       "       -49.24999945, -49.74999957, -50.24999967, -50.74999974,\n",
       "       -51.2499998 , -51.74999984, -52.24999988, -52.7499999 ,\n",
       "       -53.24999993, -53.74999994, -54.24999996, -54.74999996,\n",
       "       -55.24999997, -55.74999998, -56.24999998, -56.74999999,\n",
       "       -57.24999999, -57.74999999, -58.24999999, -58.75      ,\n",
       "       -59.25      , -59.75      , -60.25      , -60.75      ,\n",
       "       -61.25      , -61.75      , -62.25      , -62.75      ,\n",
       "       -63.25      , -63.75      , -64.25      , -64.75      ,\n",
       "       -65.25      , -65.75      , -66.25      , -66.75      ,\n",
       "       -67.25      , -67.75      , -68.25      , -68.75      ,\n",
       "       -69.25      , -69.75      , -70.25      , -70.75      ,\n",
       "       -71.25      , -71.75      , -72.25      , -72.75      ,\n",
       "       -73.25      , -73.75      , -74.25      , -74.75      ,\n",
       "       -75.25      , -75.75      , -76.25      , -76.75      ,\n",
       "       -77.25      , -77.75      , -78.25      , -78.75      ,\n",
       "       -79.25      , -79.75      , -80.25      , -80.75      ,\n",
       "       -81.25      , -81.75      , -82.25      , -82.75      ,\n",
       "       -83.25      , -83.75      , -84.25      , -84.75      ,\n",
       "       -85.25      , -85.75      , -86.25      , -86.75      ,\n",
       "       -87.25      , -87.75      , -88.25      , -88.75      ,\n",
       "       -89.25      , -89.75      , -90.25      , -90.75      ,\n",
       "       -91.25      , -91.75      , -92.25      , -92.75      ,\n",
       "       -93.25      , -93.75      , -94.25      , -94.75      ,\n",
       "        15.4       ,  15.01076161,  14.62118639,  14.23092827,\n",
       "        13.8396226 ,  13.44687621,  13.05225677,  12.655281  ,\n",
       "        12.25540137,  11.85199084,  11.4443258 ,  11.0315683 ,\n",
       "        10.61275037,  10.18676601,   9.7523784 ,   9.30825128,\n",
       "         8.85301037,   8.38533402,   7.9040612 ,   7.4082945 ,\n",
       "         6.89747393,   6.3714056 ,   5.977994  ,   5.5738247 ,\n",
       "         5.14948283,   4.70429773,   4.23762167,   3.74877497,\n",
       "         3.23699759,   2.70141981,   2.14106103,   1.55485788,\n",
       "         0.94171534,   0.30057031,  -0.36954234,  -1.06942797,\n",
       "        -1.79967662,  -2.56061231,  -3.35224486,  -4.1742225 ,\n",
       "        -5.025786  ,  -5.90572641,  -6.81235058,  -7.74345844,\n",
       "        -8.69633675,  -9.66777272, -10.65409056, -11.65121237,\n",
       "       -12.65474304, -13.6600771 , -14.66252308, -15.65743916,\n",
       "       -16.64037214, -17.6071913 , -18.55420827, -19.47827554,\n",
       "       -20.37685758, -21.24807135, -22.0906953 , -22.90414889,\n",
       "       -23.68844644, -24.44413106, -25.17219506, -25.87399325,\n",
       "       -26.55115501, -27.2055021 , -27.8387739 , -28.4528962 ,\n",
       "       -29.04992199, -29.63182146, -30.20044667, -30.75751144,\n",
       "       -31.3045804 , -31.84306495, -32.37422457, -32.89917233,\n",
       "       -33.41888326, -33.93420455, -34.44586696, -34.95449643,\n",
       "       -35.46062579, -35.96470585, -36.46711589, -36.96817331,\n",
       "       -37.46814229, -37.96724159, -38.46565134, -38.96351903,\n",
       "       -39.46096456, -39.95808465, -40.4549565 , -40.95164081,\n",
       "       -41.44818433, -41.94462188, -42.44097792, -42.93726783,\n",
       "       -43.43349875, -43.92967024, -44.42577457, -44.92179682,\n",
       "       -45.41771481, -45.9134987 , -46.40911053, -46.90450348,\n",
       "       -47.39962104, -47.89439592, -48.38874892, -48.8825876 ,\n",
       "       -49.37580487, -49.86827748, -50.35986455, -50.85040578,\n",
       "       -51.33971919, -51.82759719, -52.31379987, -52.79804835,\n",
       "       -53.28003702, -53.76019801, -54.23840971, -54.71761486,\n",
       "       -55.1977553 , -55.67879438, -56.16071476, -56.64351112,\n",
       "       -57.12718232, -57.61172658, -58.09713939, -58.58341327,\n",
       "       -59.0705379 , -59.55850049, -60.04728591, -60.53687689,\n",
       "       -61.02725401, -61.51839574, -62.0102786 , -62.50287716,\n",
       "       -62.99616427, -63.49011121, -63.98468791, -64.47986315,\n",
       "       -64.9756049 , -65.47188049, -65.96865694, -66.46590121,\n",
       "       -66.96358044, -67.46166225, -67.96011494, -68.45890772,\n",
       "       -68.95801092, -69.45739612, -69.95703632, -70.45690606,\n",
       "       -70.9569815 , -71.45724044, -71.95766242, -72.45822868,\n",
       "       -72.95892214, -73.4597274 , -73.96063069, -74.46161978,\n",
       "       -74.96268396, -75.46381395, -75.96500184, -76.46624108,\n",
       "       -76.96752636, -77.4688537 , -77.97022035, -78.47162489,\n",
       "       -78.97306727, -79.47454894, -79.97607299, -80.47764437,\n",
       "       -80.97927015, -81.4809599 , -81.98272602, -82.48458433,\n",
       "       -82.9865546 , -83.48866124, -83.99093406, -84.49340918,\n",
       "       -84.99613002, -85.49914834, -86.00252552, -86.50633377,\n",
       "       -87.01065757, -87.51559512, -88.02125987, -88.52778207,\n",
       "       -89.0353104 , -89.54401357, -90.05408187, -90.56572868,\n",
       "       -91.07919198, -91.59473561, -92.11265056, -92.633256  ,\n",
       "       -93.15690023, -93.68396142, -94.21484823, -94.75      ,\n",
       "        15.8       ,  15.4       ,  15.        ,  14.6       ,\n",
       "        14.2       ,  13.8       ,  13.4       ,  13.        ,\n",
       "        12.6       ,  12.2       ,  11.8       ,  11.4       ,\n",
       "        11.        ,  10.6       ,  10.2       ,   9.8       ,\n",
       "         9.4       ,   9.        ,   8.6       ,   8.2       ,\n",
       "         7.8       ,   7.4       ,   7.        ,   6.6       ,\n",
       "         6.2       ,   5.8       ,   5.4       ,   5.        ,\n",
       "         4.6       ,   4.2       ,   3.8       ,   3.4       ,\n",
       "         3.        ,   2.6       ,   2.2       ,   1.8       ,\n",
       "         1.4       ,   1.        ,   0.6       ,   0.2       ,\n",
       "        -2.01254646,  -5.44066082,  -8.22107857, -10.4970697 ,\n",
       "       -12.38021299, -13.95740606, -15.29632487, -16.4496755 ,\n",
       "       -17.45850548, -18.35478266, -19.16340364, -19.90375791,\n",
       "       -20.590946  , -21.23672823, -21.85026354, -22.43868493,\n",
       "       -23.00754758, -23.56117787, -24.10294517, -24.63547359,\n",
       "       -25.16080674, -25.68053622, -26.19590155, -26.70786809,\n",
       "       -27.21718763, -27.7244457 , -28.23009829, -28.73450054,\n",
       "       -29.237929  , -29.7405991 , -30.24267857, -30.74429807,\n",
       "       -31.24555933, -31.7465416 , -32.2473066 , -32.74790238,\n",
       "       -33.24836637, -33.74872773, -34.24900915, -34.74922833,\n",
       "       -35.24939902, -35.74953196, -36.24963549, -36.74971612,\n",
       "       -37.24977891, -37.74982782, -38.2498659 , -38.74989557,\n",
       "       -39.24991867, -39.74993666, -40.24995067, -40.74996158,\n",
       "       -41.24997008, -41.7499767 , -42.24998185, -42.74998587,\n",
       "       -43.24998899, -43.74999143, -44.24999332, -44.7499948 ,\n",
       "       -45.24999595, -45.74999685, -46.24999754, -46.74999809,\n",
       "       -47.24999851, -47.74999884, -48.2499991 , -48.7499993 ,\n",
       "       -49.24999945, -49.74999957, -50.24999967, -50.74999974,\n",
       "       -51.2499998 , -51.74999984, -52.24999988, -52.7499999 ,\n",
       "       -53.24999993, -53.74999994, -54.24999996, -54.74999996,\n",
       "       -55.24999997, -55.74999998, -56.24999998, -56.74999999,\n",
       "       -57.24999999, -57.74999999, -58.24999999, -58.75      ,\n",
       "       -59.25      , -59.75      , -60.25      , -60.75      ,\n",
       "       -61.25      , -61.75      , -62.25      , -62.75      ,\n",
       "       -63.25      , -63.75      , -64.25      , -64.75      ,\n",
       "       -65.25      , -65.75      , -66.25      , -66.75      ,\n",
       "       -67.25      , -67.75      , -68.25      , -68.75      ,\n",
       "       -69.25      , -69.75      , -70.25      , -70.75      ,\n",
       "       -71.25      , -71.75      , -72.25      , -72.75      ,\n",
       "       -73.25      , -73.75      , -74.25      , -74.75      ,\n",
       "       -75.25      , -75.75      , -76.25      , -76.75      ,\n",
       "       -77.25      , -77.75      , -78.25      , -78.75      ,\n",
       "       -79.25      , -79.75      , -80.25      , -80.75      ,\n",
       "       -81.25      , -81.75      , -82.25      , -82.75      ,\n",
       "       -83.25      , -83.75      , -84.25      , -84.75      ,\n",
       "       -85.25      , -85.75      , -86.25      , -86.75      ,\n",
       "       -87.25      , -87.75      , -88.25      , -88.75      ,\n",
       "       -89.25      , -89.75      , -90.25      , -90.75      ,\n",
       "       -91.25      , -91.75      , -92.25      , -92.75      ,\n",
       "       -93.25      , -93.75      , -94.25      , -94.75      ])"
      ]
     },
     "execution_count": 25,
     "metadata": {},
     "output_type": "execute_result"
    }
   ],
   "source": [
    "z2"
   ]
  },
  {
   "cell_type": "code",
   "execution_count": 26,
   "metadata": {
    "collapsed": false
   },
   "outputs": [
    {
     "name": "stdout",
     "output_type": "stream",
     "text": [
      "16619.6889785\n",
      "16619.6889785\n"
     ]
    },
    {
     "data": {
      "text/plain": [
       "16619.688978508624"
      ]
     },
     "execution_count": 26,
     "metadata": {},
     "output_type": "execute_result"
    }
   ],
   "source": [
    "shore = find_shoreline2(grid.x_of_node[grid.core_nodes], z2[grid.core_nodes], 0.)\n",
    "shore"
   ]
  },
  {
   "cell_type": "code",
   "execution_count": 27,
   "metadata": {
    "collapsed": false
   },
   "outputs": [
    {
     "data": {
      "text/plain": [
       "[<matplotlib.lines.Line2D at 0x12e41ac50>,\n",
       " <matplotlib.lines.Line2D at 0x12e41ae50>,\n",
       " <matplotlib.lines.Line2D at 0x12e429550>,\n",
       " <matplotlib.lines.Line2D at 0x12e429b90>]"
      ]
     },
     "execution_count": 27,
     "metadata": {},
     "output_type": "execute_result"
    },
    {
     "data": {
      "image/png": "[encoded data removed]",
      "text/plain": [
       "<matplotlib.figure.Figure at 0x128864850>"
      ]
     },
     "metadata": {},
     "output_type": "display_data"
    }
   ],
   "source": [
    "for time_step in range(1000):\n",
    "    sd.run_one_step(100)\n",
    "    z3 = sd.grid.at_node['topographic__elevation']\n",
    "plt.plot(grid.x_of_node,z1,grid.x_of_node,z, grid.x_of_node,z2, grid.x_of_node,z3)"
   ]
  },
  {
   "cell_type": "code",
   "execution_count": 28,
   "metadata": {
    "collapsed": false
   },
   "outputs": [
    {
     "data": {
      "text/plain": [
       "[<matplotlib.lines.Line2D at 0x12d38c990>]"
      ]
     },
     "execution_count": 28,
     "metadata": {},
     "output_type": "execute_result"
    },
    {
     "data": {
      "image/png": "[encoded data removed]",
      "text/plain": [
       "<matplotlib.figure.Figure at 0x12885a250>"
      ]
     },
     "metadata": {},
     "output_type": "display_data"
    }
   ],
   "source": [
    "plt.plot(grid.x_of_node,z1-z)"
   ]
  },
  {
   "cell_type": "code",
   "execution_count": 29,
   "metadata": {
    "collapsed": false
   },
   "outputs": [
    {
     "data": {
      "text/plain": [
       "array([ 15.8       ,  15.4       ,  15.        ,  14.6       ,\n",
       "        14.2       ,  13.8       ,  13.4       ,  13.        ,\n",
       "        12.6       ,  12.2       ,  11.8       ,  11.4       ,\n",
       "        11.        ,  10.6       ,  10.2       ,   9.8       ,\n",
       "         9.4       ,   9.        ,   8.6       ,   8.2       ,\n",
       "         7.8       ,   7.4       ,   7.        ,   6.6       ,\n",
       "         6.2       ,   5.8       ,   5.4       ,   5.        ,\n",
       "         4.6       ,   4.2       ,   3.8       ,   3.4       ,\n",
       "         3.        ,   2.6       ,   2.2       ,   1.8       ,\n",
       "         1.4       ,   1.        ,   0.6       ,   0.2       ,\n",
       "        -2.01254646,  -5.44066082,  -8.22107857, -10.4970697 ,\n",
       "       -12.38021299, -13.95740606, -15.29632487, -16.4496755 ,\n",
       "       -17.45850548, -18.35478266, -19.16340364, -19.90375791,\n",
       "       -20.590946  , -21.23672823, -21.85026354, -22.43868493,\n",
       "       -23.00754758, -23.56117787, -24.10294517, -24.63547359,\n",
       "       -25.16080674, -25.68053622, -26.19590155, -26.70786809,\n",
       "       -27.21718763, -27.7244457 , -28.23009829, -28.73450054,\n",
       "       -29.237929  , -29.7405991 , -30.24267857, -30.74429807,\n",
       "       -31.24555933, -31.7465416 , -32.2473066 , -32.74790238,\n",
       "       -33.24836637, -33.74872773, -34.24900915, -34.74922833,\n",
       "       -35.24939902, -35.74953196, -36.24963549, -36.74971612,\n",
       "       -37.24977891, -37.74982782, -38.2498659 , -38.74989557,\n",
       "       -39.24991867, -39.74993666, -40.24995067, -40.74996158,\n",
       "       -41.24997008, -41.7499767 , -42.24998185, -42.74998587,\n",
       "       -43.24998899, -43.74999143, -44.24999332, -44.7499948 ,\n",
       "       -45.24999595, -45.74999685, -46.24999754, -46.74999809,\n",
       "       -47.24999851, -47.74999884, -48.2499991 , -48.7499993 ,\n",
       "       -49.24999945, -49.74999957, -50.24999967, -50.74999974,\n",
       "       -51.2499998 , -51.74999984, -52.24999988, -52.7499999 ,\n",
       "       -53.24999993, -53.74999994, -54.24999996, -54.74999996,\n",
       "       -55.24999997, -55.74999998, -56.24999998, -56.74999999,\n",
       "       -57.24999999, -57.74999999, -58.24999999, -58.75      ,\n",
       "       -59.25      , -59.75      , -60.25      , -60.75      ,\n",
       "       -61.25      , -61.75      , -62.25      , -62.75      ,\n",
       "       -63.25      , -63.75      , -64.25      , -64.75      ,\n",
       "       -65.25      , -65.75      , -66.25      , -66.75      ,\n",
       "       -67.25      , -67.75      , -68.25      , -68.75      ,\n",
       "       -69.25      , -69.75      , -70.25      , -70.75      ,\n",
       "       -71.25      , -71.75      , -72.25      , -72.75      ,\n",
       "       -73.25      , -73.75      , -74.25      , -74.75      ,\n",
       "       -75.25      , -75.75      , -76.25      , -76.75      ,\n",
       "       -77.25      , -77.75      , -78.25      , -78.75      ,\n",
       "       -79.25      , -79.75      , -80.25      , -80.75      ,\n",
       "       -81.25      , -81.75      , -82.25      , -82.75      ,\n",
       "       -83.25      , -83.75      , -84.25      , -84.75      ,\n",
       "       -85.25      , -85.75      , -86.25      , -86.75      ,\n",
       "       -87.25      , -87.75      , -88.25      , -88.75      ,\n",
       "       -89.25      , -89.75      , -90.25      , -90.75      ,\n",
       "       -91.25      , -91.75      , -92.25      , -92.75      ,\n",
       "       -93.25      , -93.75      , -94.25      , -94.75      ,\n",
       "        15.4       ,  14.94589882,  14.49170688,  14.03732341,\n",
       "        13.58262744,  13.12746755,  12.67165086,  12.21493092,\n",
       "        11.75699333,  11.2974387 ,  10.83576302,  10.37133849,\n",
       "         9.90340167,   9.43106022,   8.95333071,   8.46921567,\n",
       "         7.977815  ,   7.47845021,   6.9707722 ,   6.45482935,\n",
       "         6.05410985,   5.64786049,   5.22796233,   4.79472331,\n",
       "         4.348449  ,   3.88935461,   3.41750809,   2.93281584,\n",
       "         2.43504941,   1.92389879,   1.39903154,   0.86014086,\n",
       "         0.30697526,  -0.2606483 ,  -0.8428412 ,  -1.43964281,\n",
       "        -2.05101874,  -2.67685613,  -3.31695672,  -3.97102908,\n",
       "        -4.63868148,  -5.3194165 ,  -6.0126279 ,  -6.71760032,\n",
       "        -7.43351177,  -8.15943907,  -8.89436629,  -9.63719584,\n",
       "       -10.38676228, -11.14184836, -11.90120289, -12.66355995,\n",
       "       -13.42765882, -14.1922639 , -14.95618398, -15.71829026,\n",
       "       -16.47753236, -17.23295193, -17.98369345, -18.72901185,\n",
       "       -19.46827705, -20.20097522, -20.92670712, -21.64518366,\n",
       "       -22.35621919, -23.05972282, -23.75568833, -24.44418314,\n",
       "       -25.12533679, -25.79932928, -26.46637978, -27.12673592,\n",
       "       -27.78066393, -28.42843978, -29.07034148, -29.7066426 ,\n",
       "       -30.33760692, -30.9634843 , -31.58450763, -32.20089074,\n",
       "       -32.81282729, -33.42049031, -34.02403248, -34.62358696,\n",
       "       -35.21926848, -35.81117492, -36.3993889 , -36.98398009,\n",
       "       -37.56499685, -38.14246298, -38.71642732, -39.28693086,\n",
       "       -39.85400765, -40.41768638, -40.97799186, -41.53494627,\n",
       "       -42.0885701 , -42.63888277, -43.18590308, -43.72964936,\n",
       "       -44.27013939, -44.80739016, -45.34141737, -45.87223482,\n",
       "       -46.39985359, -46.92428103, -47.44551968, -47.96356601,\n",
       "       -48.47840899, -48.9900286 , -49.49839408, -50.00346218,\n",
       "       -50.50517505, -51.00345828, -51.49821905, -51.98934484,\n",
       "       -52.47670288, -52.96014042, -53.43948833, -53.91526415,\n",
       "       -54.38863101, -54.86137365, -55.33354798, -55.80522598,\n",
       "       -56.27647873, -56.74737671, -57.21799195, -57.68839884,\n",
       "       -58.15867381, -58.62889458, -59.09913937, -59.56948629,\n",
       "       -60.04001298, -60.51079623, -60.98191185, -61.45343442,\n",
       "       -61.92543711, -62.39799146, -62.8711672 , -63.34503203,\n",
       "       -63.8196515 , -64.29508881, -64.77140469, -65.24865729,\n",
       "       -65.72690207, -66.20619172, -66.68657615, -67.16810239,\n",
       "       -67.65081466, -68.13475435, -68.61996008, -69.10646776,\n",
       "       -69.59431073, -70.08351987, -70.57412376, -71.06614887,\n",
       "       -71.55961982, -72.05455959, -72.5509898 , -73.04893103,\n",
       "       -73.54840315, -74.04942566, -74.55201808, -75.05620032,\n",
       "       -75.56199309, -76.06941836, -76.57849972, -77.08926287,\n",
       "       -77.60173606, -78.11595048, -78.63194078, -79.14974543,\n",
       "       -79.66940723, -80.19097366, -80.7144974 , -81.24003665,\n",
       "       -81.76765561, -82.29742488, -82.82942184, -83.3637311 ,\n",
       "       -83.90044487, -84.43966344, -84.98149554, -85.52605887,\n",
       "       -86.07348052, -86.62389747, -87.17745716, -87.73431804,\n",
       "       -88.29465017, -88.8586359 , -89.42647061, -89.99836347,\n",
       "       -90.5745383 , -91.1552345 , -91.74070804, -92.33123257,\n",
       "       -92.92710057, -93.52862463, -94.13613884, -94.75      ,\n",
       "        15.8       ,  15.4       ,  15.        ,  14.6       ,\n",
       "        14.2       ,  13.8       ,  13.4       ,  13.        ,\n",
       "        12.6       ,  12.2       ,  11.8       ,  11.4       ,\n",
       "        11.        ,  10.6       ,  10.2       ,   9.8       ,\n",
       "         9.4       ,   9.        ,   8.6       ,   8.2       ,\n",
       "         7.8       ,   7.4       ,   7.        ,   6.6       ,\n",
       "         6.2       ,   5.8       ,   5.4       ,   5.        ,\n",
       "         4.6       ,   4.2       ,   3.8       ,   3.4       ,\n",
       "         3.        ,   2.6       ,   2.2       ,   1.8       ,\n",
       "         1.4       ,   1.        ,   0.6       ,   0.2       ,\n",
       "        -2.01254646,  -5.44066082,  -8.22107857, -10.4970697 ,\n",
       "       -12.38021299, -13.95740606, -15.29632487, -16.4496755 ,\n",
       "       -17.45850548, -18.35478266, -19.16340364, -19.90375791,\n",
       "       -20.590946  , -21.23672823, -21.85026354, -22.43868493,\n",
       "       -23.00754758, -23.56117787, -24.10294517, -24.63547359,\n",
       "       -25.16080674, -25.68053622, -26.19590155, -26.70786809,\n",
       "       -27.21718763, -27.7244457 , -28.23009829, -28.73450054,\n",
       "       -29.237929  , -29.7405991 , -30.24267857, -30.74429807,\n",
       "       -31.24555933, -31.7465416 , -32.2473066 , -32.74790238,\n",
       "       -33.24836637, -33.74872773, -34.24900915, -34.74922833,\n",
       "       -35.24939902, -35.74953196, -36.24963549, -36.74971612,\n",
       "       -37.24977891, -37.74982782, -38.2498659 , -38.74989557,\n",
       "       -39.24991867, -39.74993666, -40.24995067, -40.74996158,\n",
       "       -41.24997008, -41.7499767 , -42.24998185, -42.74998587,\n",
       "       -43.24998899, -43.74999143, -44.24999332, -44.7499948 ,\n",
       "       -45.24999595, -45.74999685, -46.24999754, -46.74999809,\n",
       "       -47.24999851, -47.74999884, -48.2499991 , -48.7499993 ,\n",
       "       -49.24999945, -49.74999957, -50.24999967, -50.74999974,\n",
       "       -51.2499998 , -51.74999984, -52.24999988, -52.7499999 ,\n",
       "       -53.24999993, -53.74999994, -54.24999996, -54.74999996,\n",
       "       -55.24999997, -55.74999998, -56.24999998, -56.74999999,\n",
       "       -57.24999999, -57.74999999, -58.24999999, -58.75      ,\n",
       "       -59.25      , -59.75      , -60.25      , -60.75      ,\n",
       "       -61.25      , -61.75      , -62.25      , -62.75      ,\n",
       "       -63.25      , -63.75      , -64.25      , -64.75      ,\n",
       "       -65.25      , -65.75      , -66.25      , -66.75      ,\n",
       "       -67.25      , -67.75      , -68.25      , -68.75      ,\n",
       "       -69.25      , -69.75      , -70.25      , -70.75      ,\n",
       "       -71.25      , -71.75      , -72.25      , -72.75      ,\n",
       "       -73.25      , -73.75      , -74.25      , -74.75      ,\n",
       "       -75.25      , -75.75      , -76.25      , -76.75      ,\n",
       "       -77.25      , -77.75      , -78.25      , -78.75      ,\n",
       "       -79.25      , -79.75      , -80.25      , -80.75      ,\n",
       "       -81.25      , -81.75      , -82.25      , -82.75      ,\n",
       "       -83.25      , -83.75      , -84.25      , -84.75      ,\n",
       "       -85.25      , -85.75      , -86.25      , -86.75      ,\n",
       "       -87.25      , -87.75      , -88.25      , -88.75      ,\n",
       "       -89.25      , -89.75      , -90.25      , -90.75      ,\n",
       "       -91.25      , -91.75      , -92.25      , -92.75      ,\n",
       "       -93.25      , -93.75      , -94.25      , -94.75      ])"
      ]
     },
     "execution_count": 29,
     "metadata": {},
     "output_type": "execute_result"
    }
   ],
   "source": [
    "z3"
   ]
  },
  {
   "cell_type": "code",
   "execution_count": 30,
   "metadata": {
    "collapsed": false
   },
   "outputs": [
    {
     "name": "stdout",
     "output_type": "stream",
     "text": [
      "16133.3077537\n",
      "16133.3077537\n"
     ]
    },
    {
     "data": {
      "text/plain": [
       "16133.307753732866"
      ]
     },
     "execution_count": 30,
     "metadata": {},
     "output_type": "execute_result"
    }
   ],
   "source": [
    "shore = find_shoreline2(grid.x_of_node[grid.core_nodes], z3[grid.core_nodes], 0.)\n",
    "shore"
   ]
  },
  {
   "cell_type": "code",
   "execution_count": 31,
   "metadata": {
    "collapsed": false
   },
   "outputs": [
    {
     "name": "stdout",
     "output_type": "stream",
     "text": [
      "16133.3077537\n",
      "16133.3077537\n"
     ]
    },
    {
     "data": {
      "text/plain": [
       "16133.307753732866"
      ]
     },
     "execution_count": 31,
     "metadata": {},
     "output_type": "execute_result"
    }
   ],
   "source": [
    "shore1 = find_shoreline2(grid.x_of_node[grid.core_nodes], z2[grid.core_nodes], 0.)\n",
    "shore1"
   ]
  },
  {
   "cell_type": "code",
   "execution_count": 32,
   "metadata": {
    "collapsed": false
   },
   "outputs": [
    {
     "data": {
      "text/plain": [
       "[<matplotlib.lines.Line2D at 0x12e62f150>,\n",
       " <matplotlib.lines.Line2D at 0x12e62f350>,\n",
       " <matplotlib.lines.Line2D at 0x12e62fa10>,\n",
       " <matplotlib.lines.Line2D at 0x12e639090>]"
      ]
     },
     "execution_count": 32,
     "metadata": {},
     "output_type": "execute_result"
    },
    {
     "data": {
      "image/png": "[encoded data removed]",
      "text/plain": [
       "<matplotlib.figure.Figure at 0x12d32bad0>"
      ]
     },
     "metadata": {},
     "output_type": "display_data"
    }
   ],
   "source": [
    "for time_step in range(1000):\n",
    "    sd.run_one_step(100)\n",
    "    z4 = sd.grid.at_node['topographic__elevation']\n",
    "plt.plot(grid.x_of_node,z1,grid.x_of_node,z, grid.x_of_node,z2, grid.x_of_node,z4)"
   ]
  },
  {
   "cell_type": "code",
   "execution_count": 33,
   "metadata": {
    "collapsed": false
   },
   "outputs": [
    {
     "data": {
      "text/plain": [
       "array([ 3750.        ,  3750.        ,  3750.        ,  3750.        ,\n",
       "        3750.        ,  3750.        ,  3750.        ,  3750.        ,\n",
       "        3750.        ,  3750.        ,  3750.        ,  3750.        ,\n",
       "        3750.        ,  3750.        ,  3750.        ,  3750.        ,\n",
       "        3750.        ,  3750.        ,  3750.        ,  3750.        ,\n",
       "        3750.        ,  3750.        ,  3750.        ,  3750.        ,\n",
       "        3750.        ,  3750.        ,  3750.        ,  3750.        ,\n",
       "        3750.        ,  3750.        ,  3750.        ,  3750.        ,\n",
       "        3750.        ,  3750.        ,  3750.        ,  3750.        ,\n",
       "        3750.        ,  3750.        ,  3750.        ,  3750.        ,\n",
       "         417.3632702 ,   424.50736312,   450.14204973,   482.38443387,\n",
       "         517.95830133,   555.4748895 ,   594.16575479,   633.5247561 ,\n",
       "         673.18115874,   712.84723732,   752.29373475,   791.33677435,\n",
       "         829.82978484,   867.65773446,   904.73250719,   940.98892227,\n",
       "         976.38119466,  1010.8797623 ,  1044.46845605,  1077.14200279,\n",
       "        1108.90385155,  1139.76430697,  1169.73894857,  1198.84730972,\n",
       "        1227.11178771,  1254.55675583,  1281.20784903,  1307.09139659,\n",
       "        1332.23397793,  1356.66207988,  1380.40183723,  1403.47884043,\n",
       "        1425.91799728,  1447.74343733,  1468.97844991,  1489.64544831,\n",
       "        1509.76595392,  1529.36059568,  1548.44912073,  1567.05041336,\n",
       "        1585.18251982,  1602.862677  ,  1620.10734371,  1636.93223335,\n",
       "        1653.35234716,  1669.3820074 ,  1685.03489008,  1700.32405682,\n",
       "        1715.26198573,  1729.86060102,  1744.13130138,  1758.08498701,\n",
       "        1771.73208534,  1785.08257538,  1798.14601083,  1810.93154183,\n",
       "        1823.44793562,  1835.70359599,  1847.70658158,  1859.46462325,\n",
       "        1870.98514035,  1882.27525614,  1893.3418123 ,  1904.19138261,\n",
       "        1914.83028589,  1925.26459816,  1935.50016418,  1945.5426083 ,\n",
       "        1955.39734472,  1965.06958721,  1974.5643583 ,  1983.8864979 ,\n",
       "        1993.04067158,  2002.03137831,  2010.86295782,  2019.5395976 ,\n",
       "        2028.0653395 ,  2036.44408601,  2044.6796062 ,  2052.7755414 ,\n",
       "        2060.73541054,  2068.56261525,  2076.26044471,  2083.83208029,\n",
       "        2091.28059987,  2098.60898205,  2105.82011014,  2112.91677589,\n",
       "        2119.90168313,  2126.7774512 ,  2124.6753354 ,  2113.62550826,\n",
       "        2102.51309825,  2091.34297828,  2080.11983353,  2068.84816893,\n",
       "        2057.53231628,  2046.17644101,  2034.7845487 ,  2023.36049127,\n",
       "        2011.90797294,  2000.43055587,  1988.9316656 ,  1977.41459626,\n",
       "        1965.88251554,  1954.33846943,  1942.78538683,  1931.22608386,\n",
       "        1919.66326808,  1908.09954254,  1896.53740956,  1884.97927446,\n",
       "        1873.42744911,  1861.88415533,  1850.35152811,  1838.8316188 ,\n",
       "        1827.32639808,  1815.83775886,  1804.36751905,  1792.91742425,\n",
       "        1781.48915028,  1770.08430565,  1758.70443397,  1747.35101616,\n",
       "        1736.0254727 ,  1724.72916571,  1713.46340101,  1702.22943002,\n",
       "        1691.02845168,  1679.86161426,  1668.73001709,  1657.63471226,\n",
       "        1646.57670621,  1635.55696131,  1624.57639736,  1613.63589302,\n",
       "        1602.73628726,  1591.87838062,  1581.06293661,  1570.29068288,\n",
       "        1559.56231247,  1548.87848497,  1538.23982764,  1527.6469365 ,\n",
       "        1517.10037738,  1506.60068692,  1496.14837358,  1485.74391855,\n",
       "        1475.38777666,  1465.0803773 ,  1454.82212523,  1444.61340143,\n",
       "        1434.45456387,  1424.34594829,  1414.28786896,  1404.28061936,\n",
       "        1394.32447292,  1384.41968364,  1374.56648679,  1364.76509948,\n",
       "        3750.        ,  3750.        ,  3750.        ,  3750.        ,\n",
       "        3750.        ,  3750.        ,  3750.        ,  3750.        ,\n",
       "        3750.        ,  3750.        ,  3750.        ,  3750.        ,\n",
       "        3750.        ,  3750.        ,  3750.        ,  3750.        ,\n",
       "        3750.        ,  3750.        ,  3750.        ,  3750.        ,\n",
       "        3750.        ,  3750.        ,  3750.        ,  3750.        ,\n",
       "        3750.        ,  3750.        ,  3750.        ,  3750.        ,\n",
       "        3750.        ,  3750.        ,  3750.        ,  3750.        ,\n",
       "        3750.        ,  3750.        ,  3750.        ,  3750.        ,\n",
       "        3750.        ,  3750.        ,  3750.        ,  3750.        ,\n",
       "         417.3632702 ,   424.50736312,   450.14204973,   482.38443387,\n",
       "         517.95830133,   555.4748895 ,   594.16575479,   633.5247561 ,\n",
       "         673.18115874,   712.84723732,   752.29373475,   791.33677435,\n",
       "         829.82978484,   867.65773446,   904.73250719,   940.98892227,\n",
       "         976.38119466,  1010.8797623 ,  1044.46845605,  1077.14200279,\n",
       "        1108.90385155,  1139.76430697,  1169.73894857,  1198.84730972,\n",
       "        1227.11178771,  1254.55675583,  1281.20784903,  1307.09139659,\n",
       "        1332.23397793,  1356.66207988,  1380.40183723,  1403.47884043,\n",
       "        1425.91799728,  1447.74343733,  1468.97844991,  1489.64544831,\n",
       "        1509.76595392,  1529.36059568,  1548.44912073,  1567.05041336,\n",
       "        1585.18251982,  1602.862677  ,  1620.10734371,  1636.93223335,\n",
       "        1653.35234716,  1669.3820074 ,  1685.03489008,  1700.32405682,\n",
       "        1715.26198573,  1729.86060102,  1744.13130138,  1758.08498701,\n",
       "        1771.73208534,  1785.08257538,  1798.14601083,  1810.93154183,\n",
       "        1823.44793562,  1835.70359599,  1847.70658158,  1859.46462325,\n",
       "        1870.98514035,  1882.27525614,  1893.3418123 ,  1904.19138261,\n",
       "        1914.83028589,  1925.26459816,  1935.50016418,  1945.5426083 ,\n",
       "        1955.39734472,  1965.06958721,  1974.5643583 ,  1983.8864979 ,\n",
       "        1993.04067158,  2002.03137831,  2010.86295782,  2019.5395976 ,\n",
       "        2028.0653395 ,  2036.44408601,  2044.6796062 ,  2052.7755414 ,\n",
       "        2060.73541054,  2068.56261525,  2076.26044471,  2083.83208029,\n",
       "        2091.28059987,  2098.60898205,  2105.82011014,  2112.91677589,\n",
       "        2119.90168313,  2126.7774512 ,  2124.6753354 ,  2113.62550826,\n",
       "        2102.51309825,  2091.34297828,  2080.11983353,  2068.84816893,\n",
       "        2057.53231628,  2046.17644101,  2034.7845487 ,  2023.36049127,\n",
       "        2011.90797294,  2000.43055587,  1988.9316656 ,  1977.41459626,\n",
       "        1965.88251554,  1954.33846943,  1942.78538683,  1931.22608386,\n",
       "        1919.66326808,  1908.09954254,  1896.53740956,  1884.97927446,\n",
       "        1873.42744911,  1861.88415533,  1850.35152811,  1838.8316188 ,\n",
       "        1827.32639808,  1815.83775886,  1804.36751905,  1792.91742425,\n",
       "        1781.48915028,  1770.08430565,  1758.70443397,  1747.35101616,\n",
       "        1736.0254727 ,  1724.72916571,  1713.46340101,  1702.22943002,\n",
       "        1691.02845168,  1679.86161426,  1668.73001709,  1657.63471226,\n",
       "        1646.57670621,  1635.55696131,  1624.57639736,  1613.63589302,\n",
       "        1602.73628726,  1591.87838062,  1581.06293661,  1570.29068288,\n",
       "        1559.56231247,  1548.87848497,  1538.23982764,  1527.6469365 ,\n",
       "        1517.10037738,  1506.60068692,  1496.14837358,  1485.74391855,\n",
       "        1475.38777666,  1465.0803773 ,  1454.82212523,  1444.61340143,\n",
       "        1434.45456387,  1424.34594829,  1414.28786896,  1404.28061936,\n",
       "        1394.32447292,  1384.41968364,  1374.56648679,  1364.76509948,\n",
       "        3750.        ,  3750.        ,  3750.        ,  3750.        ,\n",
       "        3750.        ,  3750.        ,  3750.        ,  3750.        ,\n",
       "        3750.        ,  3750.        ,  3750.        ,  3750.        ,\n",
       "        3750.        ,  3750.        ,  3750.        ,  3750.        ,\n",
       "        3750.        ,  3750.        ,  3750.        ,  3750.        ,\n",
       "        3750.        ,  3750.        ,  3750.        ,  3750.        ,\n",
       "        3750.        ,  3750.        ,  3750.        ,  3750.        ,\n",
       "        3750.        ,  3750.        ,  3750.        ,  3750.        ,\n",
       "        3750.        ,  3750.        ,  3750.        ,  3750.        ,\n",
       "        3750.        ,  3750.        ,  3750.        ,  3750.        ,\n",
       "         417.3632702 ,   424.50736312,   450.14204973,   482.38443387,\n",
       "         517.95830133,   555.4748895 ,   594.16575479,   633.5247561 ,\n",
       "         673.18115874,   712.84723732,   752.29373475,   791.33677435,\n",
       "         829.82978484,   867.65773446,   904.73250719,   940.98892227,\n",
       "         976.38119466,  1010.8797623 ,  1044.46845605,  1077.14200279,\n",
       "        1108.90385155,  1139.76430697,  1169.73894857,  1198.84730972,\n",
       "        1227.11178771,  1254.55675583,  1281.20784903,  1307.09139659,\n",
       "        1332.23397793,  1356.66207988,  1380.40183723,  1403.47884043,\n",
       "        1425.91799728,  1447.74343733,  1468.97844991,  1489.64544831,\n",
       "        1509.76595392,  1529.36059568,  1548.44912073,  1567.05041336,\n",
       "        1585.18251982,  1602.862677  ,  1620.10734371,  1636.93223335,\n",
       "        1653.35234716,  1669.3820074 ,  1685.03489008,  1700.32405682,\n",
       "        1715.26198573,  1729.86060102,  1744.13130138,  1758.08498701,\n",
       "        1771.73208534,  1785.08257538,  1798.14601083,  1810.93154183,\n",
       "        1823.44793562,  1835.70359599,  1847.70658158,  1859.46462325,\n",
       "        1870.98514035,  1882.27525614,  1893.3418123 ,  1904.19138261,\n",
       "        1914.83028589,  1925.26459816,  1935.50016418,  1945.5426083 ,\n",
       "        1955.39734472,  1965.06958721,  1974.5643583 ,  1983.8864979 ,\n",
       "        1993.04067158,  2002.03137831,  2010.86295782,  2019.5395976 ,\n",
       "        2028.0653395 ,  2036.44408601,  2044.6796062 ,  2052.7755414 ,\n",
       "        2060.73541054,  2068.56261525,  2076.26044471,  2083.83208029,\n",
       "        2091.28059987,  2098.60898205,  2105.82011014,  2112.91677589,\n",
       "        2119.90168313,  2126.7774512 ,  2124.6753354 ,  2113.62550826,\n",
       "        2102.51309825,  2091.34297828,  2080.11983353,  2068.84816893,\n",
       "        2057.53231628,  2046.17644101,  2034.7845487 ,  2023.36049127,\n",
       "        2011.90797294,  2000.43055587,  1988.9316656 ,  1977.41459626,\n",
       "        1965.88251554,  1954.33846943,  1942.78538683,  1931.22608386,\n",
       "        1919.66326808,  1908.09954254,  1896.53740956,  1884.97927446,\n",
       "        1873.42744911,  1861.88415533,  1850.35152811,  1838.8316188 ,\n",
       "        1827.32639808,  1815.83775886,  1804.36751905,  1792.91742425,\n",
       "        1781.48915028,  1770.08430565,  1758.70443397,  1747.35101616,\n",
       "        1736.0254727 ,  1724.72916571,  1713.46340101,  1702.22943002,\n",
       "        1691.02845168,  1679.86161426,  1668.73001709,  1657.63471226,\n",
       "        1646.57670621,  1635.55696131,  1624.57639736,  1613.63589302,\n",
       "        1602.73628726,  1591.87838062,  1581.06293661,  1570.29068288,\n",
       "        1559.56231247,  1548.87848497,  1538.23982764,  1527.6469365 ,\n",
       "        1517.10037738,  1506.60068692,  1496.14837358,  1485.74391855,\n",
       "        1475.38777666,  1465.0803773 ,  1454.82212523,  1444.61340143,\n",
       "        1434.45456387,  1424.34594829,  1414.28786896,  1404.28061936,\n",
       "        1394.32447292,  1384.41968364,  1374.56648679,  1364.76509948])"
      ]
     },
     "execution_count": 33,
     "metadata": {},
     "output_type": "execute_result"
    }
   ],
   "source": [
    "k"
   ]
  },
  {
   "cell_type": "code",
   "execution_count": 34,
   "metadata": {
    "collapsed": false
   },
   "outputs": [
    {
     "data": {
      "text/plain": [
       "[<matplotlib.lines.Line2D at 0x12e70ec10>]"
      ]
     },
     "execution_count": 34,
     "metadata": {},
     "output_type": "execute_result"
    },
    {
     "data": {
      "image/png": "[encoded data removed]",
      "text/plain": [
       "<matplotlib.figure.Figure at 0x12d32b6d0>"
      ]
     },
     "metadata": {},
     "output_type": "display_data"
    }
   ],
   "source": [
    "# z1 = sd.grid.at_node['topographic__elevation']\n",
    "plt.plot(grid.x_of_node,z1-z,)"
   ]
  },
  {
   "cell_type": "code",
   "execution_count": 35,
   "metadata": {
    "collapsed": false
   },
   "outputs": [
    {
     "data": {
      "text/plain": [
       "array([ 3750.        ,  3750.        ,  3750.        ,  3750.        ,\n",
       "        3750.        ,  3750.        ,  3750.        ,  3750.        ,\n",
       "        3750.        ,  3750.        ,  3750.        ,  3750.        ,\n",
       "        3750.        ,  3750.        ,  3750.        ,  3750.        ,\n",
       "        3750.        ,  3750.        ,  3750.        ,  3750.        ,\n",
       "        3750.        ,  3750.        ,  3750.        ,  3750.        ,\n",
       "        6383.06782989,  6162.52910784,  5976.07870669,  5816.3801533 ,\n",
       "        5678.06132248,  5557.09823872,  5450.41713968,  5355.62963429,\n",
       "        5270.85176341,  5194.57750762,  5125.58854057,  5062.8886631 ,\n",
       "        5005.65538689,  4953.20365283,  4904.95827827,  4860.43277741,\n",
       "        4125.30797826,  3335.98845852,  2922.33029695,  2677.8822477 ,\n",
       "        2523.55008396,  2422.45707346,  2355.06871714,  2310.06583069,\n",
       "        2280.44260433,  2261.64206595,  2250.58553864,  2245.13168216,\n",
       "        2243.75752896,  2245.36134421,  2249.13583545,  2254.48381793,\n",
       "        2260.96050997,  2268.23310757,  2276.05190906,  2284.22936094,\n",
       "        2292.62465755,  2301.13230751,  2309.67357721,  2318.19004777,\n",
       "        2326.63874019,  2334.98841365,  2343.21674706,  2351.30818903,\n",
       "        2359.2523155 ,  2367.04257427,  2374.67532484,  2382.14910429,\n",
       "        2389.46406619,  2396.62155213,  2403.62376503,  2410.47352042,\n",
       "        2417.1740576 ,  2423.72889678,  2430.14173128,  2436.41634679,\n",
       "        2442.55656127,  2448.56618051,  2454.44896588,  2460.20861108,\n",
       "        2465.848726  ,  2471.37282577,  2476.78432376,  2482.08652761,\n",
       "        2487.28263749,  2492.37574593,  2497.36883886,  2502.2647976 ,\n",
       "        2507.06640128,  2511.77632983,  2516.39716713,  2520.93140431,\n",
       "        2525.3814432 ,  2529.7495997 ,  2534.03810719,  2538.24911978,\n",
       "        2542.38471559,  2546.44689983,  2550.43760786,  2554.35870802,\n",
       "        2558.21200447,  2561.99923983,  2565.72209769,  2569.38220512,\n",
       "        2572.9811349 ,  2576.52040782,  2580.00149474,  2583.42581861,\n",
       "        2586.79475641,  2590.10964099,  2593.37176277,  2596.58237148,\n",
       "        2599.74267766,  2599.57192343,  2581.03276926,  2562.57623086,\n",
       "        2544.20363678,  2525.91623628,  2507.71520268,  2489.60163669,\n",
       "        2471.57656938,  2453.64096523,  2435.7957249 ,  2418.04168794,\n",
       "        2400.37963535,  2382.81029205,  2365.33432922,  2347.95236658,\n",
       "        2330.66497448,  2313.47267604,  2296.37594905,  2279.37522788,\n",
       "        2262.4709053 ,  2245.66333418,  2228.9528292 ,  2212.33966835,\n",
       "        2195.82409454,  2179.40631701,  2163.08651273,  2146.86482775,\n",
       "        2130.7413785 ,  2114.71625299,  2098.78951203,  2082.96119032,\n",
       "        2067.23129759,  2051.59981962,  2036.06671925,  2020.63193734,\n",
       "        2005.29539372,  1990.05698804,  1974.91660067,  1959.87409348,\n",
       "        1944.92931066,  1930.0820795 ,  1915.33221105,  1900.67950089,\n",
       "        1886.12372977,  1871.66466429,  1857.30205747,  1843.03564943,\n",
       "        1828.86516789,  1814.79032878,  1800.81083675,  1786.9263857 ,\n",
       "        1773.13665926,  1759.44133128,  1745.84006629,  1732.33251993,\n",
       "        1718.91833941,  1705.59716386,  1692.36862479,  1679.23234643,\n",
       "        1666.18794612,  1653.23503463,  1640.37321655,  1627.60209056,\n",
       "        1614.9212498 ,  1602.33028215,  1589.8287705 ,  1577.41629309,\n",
       "        1565.09242372,  1552.85673204,  1540.70878383,  1528.64814119,\n",
       "        1516.6743628 ,  1504.78700417,  1492.98561782,  1481.26975349,\n",
       "        1469.63895839,  1458.09277734,  1446.63075297,  1435.25242594,\n",
       "        1423.95733506,  1412.74501749,  1401.61500891,  1390.56684364,\n",
       "        3750.        ,  3750.        ,  3750.        ,  3750.        ,\n",
       "        3750.        ,  3750.        ,  3750.        ,  3750.        ,\n",
       "        3750.        ,  3750.        ,  3750.        ,  3750.        ,\n",
       "        3750.        ,  3750.        ,  3750.        ,  3750.        ,\n",
       "        3750.        ,  3750.        ,  3750.        ,  3750.        ,\n",
       "        5041.72185885,  4935.17683263,  4833.84895744,  4738.96310199,\n",
       "        4650.31395907,  4566.8080162 ,  4487.21973859,  4410.62598663,\n",
       "        4336.47572046,  4264.47896895,  4194.4791652 ,  4126.37329236,\n",
       "        4060.07796813,  3995.52089621,  3932.64161341,  3871.39366702,\n",
       "        3811.7456085 ,  3753.68049494,  3697.19431868,  3642.29387489,\n",
       "        3588.99445658,  3537.317609  ,  3487.28904789,  3438.9367664 ,\n",
       "        3392.28931993,  3347.37427106,  3304.21678379,  3262.8383665 ,\n",
       "        3223.25577077,  3185.48005627,  3149.51583214,  3115.36068246,\n",
       "        3083.0047796 ,  3052.43068498,  3023.61333235,  2996.52018459,\n",
       "        2971.11155114,  2947.34104968,  2925.15619294,  2904.49907915,\n",
       "        2885.30716319,  2867.51408474,  2851.05052967,  2835.8451018 ,\n",
       "        2821.8251834 ,  2808.91776494,  2797.05022705,  2786.15106039,\n",
       "        2776.15051223,  2766.98115151,  2758.57834738,  2750.88065885,\n",
       "        2743.83013611,  2737.3725361 ,  2731.457457  ,  2726.03839813,\n",
       "        2721.07275235,  2716.5217395 ,  2712.35028935,  2708.52688303,\n",
       "        2705.02336143,  2701.81470902,  2698.87882061,  2696.19625821,\n",
       "        2693.75000411,  2691.52521558,  2689.50898578,  2687.69011445,\n",
       "        2686.05889132,  2684.6068945 ,  2683.32680508,  2682.21223909,\n",
       "        2681.25759714,  2680.45793181,  2679.80883235,  2679.30632531,\n",
       "        2678.94678871,  2678.72687504,  2678.64343153,  2678.69442404,\n",
       "        2678.87723417,  2679.18895601,  2679.62687676,  2680.18847914,\n",
       "        2680.87143138,  2681.67358626,  2682.59299108,  2683.62790667,\n",
       "        2684.77683374,  2686.03854543,  2687.41212498,  2688.8970078 ,\n",
       "        2690.49302756,  2692.20046637,  2694.02011056,  2695.9533131 ,\n",
       "        2698.00206244,  2700.16905109,  2702.45772939,  2704.87232888,\n",
       "        2707.41784407,  2710.09985164,  2702.4815264 ,  2683.6238002 ,\n",
       "        2664.90238076,  2646.31389561,  2627.85349774,  2609.51625727,\n",
       "        2591.2971312 ,  2573.19083919,  2555.19189124,  2537.294689  ,\n",
       "        2519.49362653,  2501.78316061,  2484.15785101,  2466.61238204,\n",
       "        2449.14157609,  2431.74040553,  2414.40400494,  2397.12768394,\n",
       "        2379.90693964,  2362.73746811,  2345.61517443,  2328.53618091,\n",
       "        2311.49683366,  2294.49370719,  2277.52360743,  2260.58357294,\n",
       "        2243.67087445,  2226.78301277,  2209.91771509,  2193.07292962,\n",
       "        2176.24681874,  2159.43775059,  2142.6442893 ,  2125.86518376,\n",
       "        2109.09935517,  2092.34588342,  2075.60399245,  2058.87303461,\n",
       "        2042.15247436,  2025.44187129,  2008.74086279,  1992.04914635,\n",
       "        1975.36646192,  1958.69257429,  1942.02725579,  1925.37026948,\n",
       "        1908.72135296,  1892.08020292,  1875.44646069,  1858.81969872,\n",
       "        1842.19940818,  1825.58498777,  1808.97573358,  1792.37083027,\n",
       "        1775.76934326,  1759.17021208,  1742.57224463,  1725.97411235,\n",
       "        1709.37434613,  1692.77133273,  1676.16331164,  1659.5483722 ,\n",
       "        1642.9244507 ,  1626.28932739,  1609.64062323,  1592.97579606,\n",
       "        1576.29213629,  1559.58676182,  1542.85661211,  1526.09844143,\n",
       "        1509.30881115,  1492.48408116,  1475.62040037,  1458.71369648,\n",
       "        1441.75966504,  1424.75375803,  1407.6911722 ,  1390.56684364,\n",
       "        3750.        ,  3750.        ,  3750.        ,  3750.        ,\n",
       "        3750.        ,  3750.        ,  3750.        ,  3750.        ,\n",
       "        3750.        ,  3750.        ,  3750.        ,  3750.        ,\n",
       "        3750.        ,  3750.        ,  3750.        ,  3750.        ,\n",
       "        3750.        ,  3750.        ,  3750.        ,  3750.        ,\n",
       "        3750.        ,  3750.        ,  3750.        ,  3750.        ,\n",
       "        6383.06782989,  6162.52910784,  5976.07870669,  5816.3801533 ,\n",
       "        5678.06132248,  5557.09823872,  5450.41713968,  5355.62963429,\n",
       "        5270.85176341,  5194.57750762,  5125.58854057,  5062.8886631 ,\n",
       "        5005.65538689,  4953.20365283,  4904.95827827,  4860.43277741,\n",
       "        4125.30797826,  3335.98845852,  2922.33029695,  2677.8822477 ,\n",
       "        2523.55008396,  2422.45707346,  2355.06871714,  2310.06583069,\n",
       "        2280.44260433,  2261.64206595,  2250.58553864,  2245.13168216,\n",
       "        2243.75752896,  2245.36134421,  2249.13583545,  2254.48381793,\n",
       "        2260.96050997,  2268.23310757,  2276.05190906,  2284.22936094,\n",
       "        2292.62465755,  2301.13230751,  2309.67357721,  2318.19004777,\n",
       "        2326.63874019,  2334.98841365,  2343.21674706,  2351.30818903,\n",
       "        2359.2523155 ,  2367.04257427,  2374.67532484,  2382.14910429,\n",
       "        2389.46406619,  2396.62155213,  2403.62376503,  2410.47352042,\n",
       "        2417.1740576 ,  2423.72889678,  2430.14173128,  2436.41634679,\n",
       "        2442.55656127,  2448.56618051,  2454.44896588,  2460.20861108,\n",
       "        2465.848726  ,  2471.37282577,  2476.78432376,  2482.08652761,\n",
       "        2487.28263749,  2492.37574593,  2497.36883886,  2502.2647976 ,\n",
       "        2507.06640128,  2511.77632983,  2516.39716713,  2520.93140431,\n",
       "        2525.3814432 ,  2529.7495997 ,  2534.03810719,  2538.24911978,\n",
       "        2542.38471559,  2546.44689983,  2550.43760786,  2554.35870802,\n",
       "        2558.21200447,  2561.99923983,  2565.72209769,  2569.38220512,\n",
       "        2572.9811349 ,  2576.52040782,  2580.00149474,  2583.42581861,\n",
       "        2586.79475641,  2590.10964099,  2593.37176277,  2596.58237148,\n",
       "        2599.74267766,  2599.57192343,  2581.03276926,  2562.57623086,\n",
       "        2544.20363678,  2525.91623628,  2507.71520268,  2489.60163669,\n",
       "        2471.57656938,  2453.64096523,  2435.7957249 ,  2418.04168794,\n",
       "        2400.37963535,  2382.81029205,  2365.33432922,  2347.95236658,\n",
       "        2330.66497448,  2313.47267604,  2296.37594905,  2279.37522788,\n",
       "        2262.4709053 ,  2245.66333418,  2228.9528292 ,  2212.33966835,\n",
       "        2195.82409454,  2179.40631701,  2163.08651273,  2146.86482775,\n",
       "        2130.7413785 ,  2114.71625299,  2098.78951203,  2082.96119032,\n",
       "        2067.23129759,  2051.59981962,  2036.06671925,  2020.63193734,\n",
       "        2005.29539372,  1990.05698804,  1974.91660067,  1959.87409348,\n",
       "        1944.92931066,  1930.0820795 ,  1915.33221105,  1900.67950089,\n",
       "        1886.12372977,  1871.66466429,  1857.30205747,  1843.03564943,\n",
       "        1828.86516789,  1814.79032878,  1800.81083675,  1786.9263857 ,\n",
       "        1773.13665926,  1759.44133128,  1745.84006629,  1732.33251993,\n",
       "        1718.91833941,  1705.59716386,  1692.36862479,  1679.23234643,\n",
       "        1666.18794612,  1653.23503463,  1640.37321655,  1627.60209056,\n",
       "        1614.9212498 ,  1602.33028215,  1589.8287705 ,  1577.41629309,\n",
       "        1565.09242372,  1552.85673204,  1540.70878383,  1528.64814119,\n",
       "        1516.6743628 ,  1504.78700417,  1492.98561782,  1481.26975349,\n",
       "        1469.63895839,  1458.09277734,  1446.63075297,  1435.25242594,\n",
       "        1423.95733506,  1412.74501749,  1401.61500891,  1390.56684364])"
      ]
     },
     "execution_count": 35,
     "metadata": {},
     "output_type": "execute_result"
    }
   ],
   "source": [
    "k1 = sd.grid.at_node['kd']\n",
    "k1"
   ]
  },
  {
   "cell_type": "code",
   "execution_count": 36,
   "metadata": {
    "collapsed": false
   },
   "outputs": [
    {
     "data": {
      "text/plain": [
       "[<matplotlib.lines.Line2D at 0x12e7a7290>]"
      ]
     },
     "execution_count": 36,
     "metadata": {},
     "output_type": "execute_result"
    },
    {
     "data": {
      "image/png": "[encoded data removed]",
      "text/plain": [
       "<matplotlib.figure.Figure at 0x12d335c50>"
      ]
     },
     "metadata": {},
     "output_type": "display_data"
    }
   ],
   "source": [
    "plt.plot(grid.x_of_node[grid.core_nodes],k1[grid.core_nodes]-k[grid.core_nodes],)"
   ]
  },
  {
   "cell_type": "code",
   "execution_count": 37,
   "metadata": {
    "collapsed": false
   },
   "outputs": [
    {
     "data": {
      "text/plain": [
       "array([  0.00000000e+00,   0.00000000e+00,   0.00000000e+00,\n",
       "         0.00000000e+00,   0.00000000e+00,   0.00000000e+00,\n",
       "         0.00000000e+00,   0.00000000e+00,   0.00000000e+00,\n",
       "         0.00000000e+00,   0.00000000e+00,   0.00000000e+00,\n",
       "         0.00000000e+00,   0.00000000e+00,   0.00000000e+00,\n",
       "         0.00000000e+00,   0.00000000e+00,   0.00000000e+00,\n",
       "         0.00000000e+00,   0.00000000e+00,   0.00000000e+00,\n",
       "         0.00000000e+00,   0.00000000e+00,   0.00000000e+00,\n",
       "         2.63306783e+03,   2.41252911e+03,   2.22607871e+03,\n",
       "         2.06638015e+03,   1.92806132e+03,   1.80709824e+03,\n",
       "         1.70041714e+03,   1.60562963e+03,   1.52085176e+03,\n",
       "         1.44457751e+03,   1.37558854e+03,   1.31288866e+03,\n",
       "         1.25565539e+03,   1.20320365e+03,   1.15495828e+03,\n",
       "         1.11043278e+03,   3.70794471e+03,   2.91148110e+03,\n",
       "         2.47218825e+03,   2.19549781e+03,   2.00559178e+03,\n",
       "         1.86698218e+03,   1.76090296e+03,   1.67654107e+03,\n",
       "         1.60726145e+03,   1.54879483e+03,   1.49829180e+03,\n",
       "         1.45379491e+03,   1.41392774e+03,   1.37770361e+03,\n",
       "         1.34440333e+03,   1.31349490e+03,   1.28457932e+03,\n",
       "         1.25735335e+03,   1.23158345e+03,   1.20708736e+03,\n",
       "         1.18372081e+03,   1.16136800e+03,   1.13993463e+03,\n",
       "         1.11934274e+03,   1.09952695e+03,   1.08043166e+03,\n",
       "         1.06200890e+03,   1.04421679e+03,   1.02701834e+03,\n",
       "         1.01038049e+03,   9.94273488e+02,   9.78670264e+02,\n",
       "         9.63546069e+02,   9.48878115e+02,   9.34645315e+02,\n",
       "         9.20828072e+02,   9.07408104e+02,   8.94368301e+02,\n",
       "         8.81692611e+02,   8.69365933e+02,   8.57374041e+02,\n",
       "         8.45703504e+02,   8.34341622e+02,   8.23276378e+02,\n",
       "         8.12496379e+02,   8.01990818e+02,   7.91749434e+02,\n",
       "         7.81762471e+02,   7.72020652e+02,   7.62515145e+02,\n",
       "         7.53237537e+02,   7.44179811e+02,   7.35334316e+02,\n",
       "         7.26693754e+02,   7.18251156e+02,   7.09999862e+02,\n",
       "         7.01933508e+02,   6.94046004e+02,   6.86331526e+02,\n",
       "         6.78784497e+02,   6.71399575e+02,   6.64171644e+02,\n",
       "         6.57095796e+02,   6.50167325e+02,   6.43381719e+02,\n",
       "         6.36734642e+02,   6.30221934e+02,   6.23839597e+02,\n",
       "         6.17583790e+02,   6.11450821e+02,   6.05437136e+02,\n",
       "         5.99539321e+02,   5.93754085e+02,   5.88078263e+02,\n",
       "         5.82508805e+02,   5.77042774e+02,   5.71677338e+02,\n",
       "         5.63127837e+02,   5.36353163e+02,   5.09800689e+02,\n",
       "         4.83468226e+02,   4.57353621e+02,   4.31454758e+02,\n",
       "         4.05769556e+02,   3.80295970e+02,   3.55031983e+02,\n",
       "         3.29975615e+02,   3.05124912e+02,   2.80477952e+02,\n",
       "         2.56032841e+02,   2.40658994e+02,   2.34326858e+02,\n",
       "         2.28151876e+02,   2.22129698e+02,   2.16256116e+02,\n",
       "         2.10527059e+02,   2.04938589e+02,   1.99486893e+02,\n",
       "         1.94168281e+02,   1.88979177e+02,   1.83916122e+02,\n",
       "         1.78975761e+02,   1.74154847e+02,   1.69450231e+02,\n",
       "         1.64858863e+02,   1.60377784e+02,   1.56004125e+02,\n",
       "         1.51735106e+02,   1.47568030e+02,   1.43500277e+02,\n",
       "         1.39529310e+02,   1.35652663e+02,   1.31867945e+02,\n",
       "         1.28172833e+02,   1.24565073e+02,   1.21042475e+02,\n",
       "         1.17602913e+02,   1.14244321e+02,   1.10964692e+02,\n",
       "         1.07762077e+02,   1.04634579e+02,   1.01580359e+02,\n",
       "         9.85976235e+01,   9.56846333e+01,   9.28396952e+01,\n",
       "         9.00611631e+01,   8.73474357e+01,   8.46969557e+01,\n",
       "         8.21082076e+01,   7.95797170e+01,   7.71100492e+01,\n",
       "         7.46978077e+01,   7.23416332e+01,   7.00402025e+01,\n",
       "         6.77922274e+01,   6.55964534e+01,   6.34516589e+01,\n",
       "         6.13566540e+01,   5.93102799e+01,   5.73114077e+01,\n",
       "         5.53589373e+01,   5.34517972e+01,   5.15889429e+01,\n",
       "         4.97693566e+01,   4.79920463e+01,   4.62560451e+01,\n",
       "         4.45604102e+01,   4.29042226e+01,   4.12865861e+01,\n",
       "         3.97066269e+01,   3.81634926e+01,   3.66563521e+01,\n",
       "         3.51843945e+01,   3.37468290e+01,   3.23428840e+01,\n",
       "         3.09718066e+01,   2.96328621e+01,   2.83253338e+01,\n",
       "         2.70485221e+01,   2.58017442e+01,   0.00000000e+00,\n",
       "         0.00000000e+00,   0.00000000e+00,   0.00000000e+00,\n",
       "         0.00000000e+00,   0.00000000e+00,   0.00000000e+00,\n",
       "         0.00000000e+00,   0.00000000e+00,   0.00000000e+00,\n",
       "         0.00000000e+00,   0.00000000e+00,   0.00000000e+00,\n",
       "         0.00000000e+00,   0.00000000e+00,   0.00000000e+00,\n",
       "         0.00000000e+00,   0.00000000e+00,   0.00000000e+00,\n",
       "         0.00000000e+00,   1.29172186e+03,   1.18517683e+03,\n",
       "         1.08384896e+03,   9.88963102e+02,   9.00313959e+02,\n",
       "         8.16808016e+02,   7.37219739e+02,   6.60625987e+02,\n",
       "         5.86475720e+02,   5.14478969e+02,   4.44479165e+02,\n",
       "         3.76373292e+02,   3.10077968e+02,   2.45520896e+02,\n",
       "         1.82641613e+02,   1.21393667e+02,   6.17456085e+01,\n",
       "         3.68049494e+00,  -5.28056813e+01,  -1.07706125e+02,\n",
       "         3.17163119e+03,   3.11281025e+03,   3.03714700e+03,\n",
       "         2.95655233e+03,   2.87433102e+03,   2.79189938e+03,\n",
       "         2.71005103e+03,   2.62931361e+03,   2.55007461e+03,\n",
       "         2.47263282e+03,   2.39722210e+03,   2.32402391e+03,\n",
       "         2.25317499e+03,   2.18477295e+03,   2.11888083e+03,\n",
       "         2.05553126e+03,   1.99473036e+03,   1.93646129e+03,\n",
       "         1.88068774e+03,   1.82735708e+03,   1.77640331e+03,\n",
       "         1.72774978e+03,   1.68131158e+03,   1.63699779e+03,\n",
       "         1.59471340e+03,   1.55436101e+03,   1.51584238e+03,\n",
       "         1.47905966e+03,   1.44391653e+03,   1.41031907e+03,\n",
       "         1.37817651e+03,   1.34740182e+03,   1.31791214e+03,\n",
       "         1.28962910e+03,   1.26247901e+03,   1.23639295e+03,\n",
       "         1.21130680e+03,   1.18716114e+03,   1.16390117e+03,\n",
       "         1.14147647e+03,   1.11984084e+03,   1.09895203e+03,\n",
       "         1.07877148e+03,   1.05926402e+03,   1.04039766e+03,\n",
       "         1.02214321e+03,   1.00447410e+03,   9.87366058e+02,\n",
       "         9.70796906e+02,   9.54746293e+02,   9.39195504e+02,\n",
       "         9.24127252e+02,   9.09525512e+02,   8.95375356e+02,\n",
       "         8.81662822e+02,   8.68374783e+02,   8.55498853e+02,\n",
       "         8.43023279e+02,   8.30936850e+02,   8.19229801e+02,\n",
       "         8.07892094e+02,   7.96913700e+02,   7.86285064e+02,\n",
       "         7.75997097e+02,   7.66041145e+02,   7.56408988e+02,\n",
       "         7.47092827e+02,   7.38085298e+02,   7.29379489e+02,\n",
       "         7.20968958e+02,   7.12847767e+02,   7.05010510e+02,\n",
       "         6.97452356e+02,   6.90169088e+02,   6.83157153e+02,\n",
       "         6.76413716e+02,   6.69936723e+02,   6.63724965e+02,\n",
       "         6.57778123e+02,   6.52096787e+02,   6.46682434e+02,\n",
       "         6.41537236e+02,   6.26221082e+02,   5.99791720e+02,\n",
       "         5.73621781e+02,   5.47704914e+02,   5.22033388e+02,\n",
       "         4.96599481e+02,   4.71395448e+02,   4.46413388e+02,\n",
       "         4.30516556e+02,   4.23669181e+02,   4.16980528e+02,\n",
       "         4.10440182e+02,   4.04038017e+02,   3.97764213e+02,\n",
       "         3.91609260e+02,   3.85563965e+02,   3.79619456e+02,\n",
       "         3.73767193e+02,   3.67998967e+02,   3.62306912e+02,\n",
       "         3.56683509e+02,   3.51121585e+02,   3.45614318e+02,\n",
       "         3.40155238e+02,   3.34738221e+02,   3.29357489e+02,\n",
       "         3.24007606e+02,   3.18683470e+02,   3.13380306e+02,\n",
       "         3.08093655e+02,   3.02819370e+02,   2.97553595e+02,\n",
       "         2.92292761e+02,   2.87033565e+02,   2.81772957e+02,\n",
       "         2.76508125e+02,   2.71236473e+02,   2.65955610e+02,\n",
       "         2.60663324e+02,   2.55357566e+02,   2.50036429e+02,\n",
       "         2.44698130e+02,   2.39340989e+02,   2.33963409e+02,\n",
       "         2.28563855e+02,   2.23140839e+02,   2.17692901e+02,\n",
       "         2.12218589e+02,   2.06716444e+02,   2.01184986e+02,\n",
       "         1.95622702e+02,   1.90028026e+02,   1.84399336e+02,\n",
       "         1.78734937e+02,   1.73033056e+02,   1.67291831e+02,\n",
       "         1.61509308e+02,   1.55683429e+02,   1.49812034e+02,\n",
       "         1.43892848e+02,   1.37923484e+02,   1.31901436e+02,\n",
       "         1.25824073e+02,   1.19688640e+02,   1.13492250e+02,\n",
       "         1.07231878e+02,   1.00904360e+02,   9.45063845e+01,\n",
       "         8.80344869e+01,   8.14850400e+01,   7.48542473e+01,\n",
       "         6.81381329e+01,   6.13325314e+01,   5.44330771e+01,\n",
       "         4.74351921e+01,   4.03340744e+01,   3.31246854e+01,\n",
       "         2.58017442e+01,   0.00000000e+00,   0.00000000e+00,\n",
       "         0.00000000e+00,   0.00000000e+00,   0.00000000e+00,\n",
       "         0.00000000e+00,   0.00000000e+00,   0.00000000e+00,\n",
       "         0.00000000e+00,   0.00000000e+00,   0.00000000e+00,\n",
       "         0.00000000e+00,   0.00000000e+00,   0.00000000e+00,\n",
       "         0.00000000e+00,   0.00000000e+00,   0.00000000e+00,\n",
       "         0.00000000e+00,   0.00000000e+00,   0.00000000e+00,\n",
       "         0.00000000e+00,   0.00000000e+00,   0.00000000e+00,\n",
       "         0.00000000e+00,   2.63306783e+03,   2.41252911e+03,\n",
       "         2.22607871e+03,   2.06638015e+03,   1.92806132e+03,\n",
       "         1.80709824e+03,   1.70041714e+03,   1.60562963e+03,\n",
       "         1.52085176e+03,   1.44457751e+03,   1.37558854e+03,\n",
       "         1.31288866e+03,   1.25565539e+03,   1.20320365e+03,\n",
       "         1.15495828e+03,   1.11043278e+03,   3.70794471e+03,\n",
       "         2.91148110e+03,   2.47218825e+03,   2.19549781e+03,\n",
       "         2.00559178e+03,   1.86698218e+03,   1.76090296e+03,\n",
       "         1.67654107e+03,   1.60726145e+03,   1.54879483e+03,\n",
       "         1.49829180e+03,   1.45379491e+03,   1.41392774e+03,\n",
       "         1.37770361e+03,   1.34440333e+03,   1.31349490e+03,\n",
       "         1.28457932e+03,   1.25735335e+03,   1.23158345e+03,\n",
       "         1.20708736e+03,   1.18372081e+03,   1.16136800e+03,\n",
       "         1.13993463e+03,   1.11934274e+03,   1.09952695e+03,\n",
       "         1.08043166e+03,   1.06200890e+03,   1.04421679e+03,\n",
       "         1.02701834e+03,   1.01038049e+03,   9.94273488e+02,\n",
       "         9.78670264e+02,   9.63546069e+02,   9.48878115e+02,\n",
       "         9.34645315e+02,   9.20828072e+02,   9.07408104e+02,\n",
       "         8.94368301e+02,   8.81692611e+02,   8.69365933e+02,\n",
       "         8.57374041e+02,   8.45703504e+02,   8.34341622e+02,\n",
       "         8.23276378e+02,   8.12496379e+02,   8.01990818e+02,\n",
       "         7.91749434e+02,   7.81762471e+02,   7.72020652e+02,\n",
       "         7.62515145e+02,   7.53237537e+02,   7.44179811e+02,\n",
       "         7.35334316e+02,   7.26693754e+02,   7.18251156e+02,\n",
       "         7.09999862e+02,   7.01933508e+02,   6.94046004e+02,\n",
       "         6.86331526e+02,   6.78784497e+02,   6.71399575e+02,\n",
       "         6.64171644e+02,   6.57095796e+02,   6.50167325e+02,\n",
       "         6.43381719e+02,   6.36734642e+02,   6.30221934e+02,\n",
       "         6.23839597e+02,   6.17583790e+02,   6.11450821e+02,\n",
       "         6.05437136e+02,   5.99539321e+02,   5.93754085e+02,\n",
       "         5.88078263e+02,   5.82508805e+02,   5.77042774e+02,\n",
       "         5.71677338e+02,   5.63127837e+02,   5.36353163e+02,\n",
       "         5.09800689e+02,   4.83468226e+02,   4.57353621e+02,\n",
       "         4.31454758e+02,   4.05769556e+02,   3.80295970e+02,\n",
       "         3.55031983e+02,   3.29975615e+02,   3.05124912e+02,\n",
       "         2.80477952e+02,   2.56032841e+02,   2.40658994e+02,\n",
       "         2.34326858e+02,   2.28151876e+02,   2.22129698e+02,\n",
       "         2.16256116e+02,   2.10527059e+02,   2.04938589e+02,\n",
       "         1.99486893e+02,   1.94168281e+02,   1.88979177e+02,\n",
       "         1.83916122e+02,   1.78975761e+02,   1.74154847e+02,\n",
       "         1.69450231e+02,   1.64858863e+02,   1.60377784e+02,\n",
       "         1.56004125e+02,   1.51735106e+02,   1.47568030e+02,\n",
       "         1.43500277e+02,   1.39529310e+02,   1.35652663e+02,\n",
       "         1.31867945e+02,   1.28172833e+02,   1.24565073e+02,\n",
       "         1.21042475e+02,   1.17602913e+02,   1.14244321e+02,\n",
       "         1.10964692e+02,   1.07762077e+02,   1.04634579e+02,\n",
       "         1.01580359e+02,   9.85976235e+01,   9.56846333e+01,\n",
       "         9.28396952e+01,   9.00611631e+01,   8.73474357e+01,\n",
       "         8.46969557e+01,   8.21082076e+01,   7.95797170e+01,\n",
       "         7.71100492e+01,   7.46978077e+01,   7.23416332e+01,\n",
       "         7.00402025e+01,   6.77922274e+01,   6.55964534e+01,\n",
       "         6.34516589e+01,   6.13566540e+01,   5.93102799e+01,\n",
       "         5.73114077e+01,   5.53589373e+01,   5.34517972e+01,\n",
       "         5.15889429e+01,   4.97693566e+01,   4.79920463e+01,\n",
       "         4.62560451e+01,   4.45604102e+01,   4.29042226e+01,\n",
       "         4.12865861e+01,   3.97066269e+01,   3.81634926e+01,\n",
       "         3.66563521e+01,   3.51843945e+01,   3.37468290e+01,\n",
       "         3.23428840e+01,   3.09718066e+01,   2.96328621e+01,\n",
       "         2.83253338e+01,   2.70485221e+01,   2.58017442e+01])"
      ]
     },
     "execution_count": 37,
     "metadata": {},
     "output_type": "execute_result"
    }
   ],
   "source": [
    "k1-k"
   ]
  },
  {
   "cell_type": "code",
   "execution_count": null,
   "metadata": {
    "collapsed": true
   },
   "outputs": [],
   "source": []
  },
  {
   "cell_type": "code",
   "execution_count": null,
   "metadata": {
    "collapsed": true
   },
   "outputs": [],
   "source": []
  }
 ],
 "metadata": {
  "kernelspec": {
   "display_name": "Python 2",
   "language": "python",
   "name": "python2"
  },
  "language_info": {
   "codemirror_mode": {
    "name": "ipython",
    "version": 2
   },
   "file_extension": ".py",
   "mimetype": "text/x-python",
   "name": "python",
   "nbconvert_exporter": "python",
   "pygments_lexer": "ipython2",
   "version": "2.7.13"
  }
 },
 "nbformat": 4,
 "nbformat_minor": 2
}
