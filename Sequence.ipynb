{
 "cells": [
  {
   "cell_type": "code",
   "execution_count": 1,
   "metadata": {
    "collapsed": true
   },
   "outputs": [],
   "source": [
    "from landlab.components.submarine_diffusion.create_initial_profile import create_initial_profile\n",
    "from landlab.components.submarine_diffusion.utils2 import find_shoreline2\n",
    "from landlab.components.submarine_diffusion import SubmarineDiffuser\n",
    "from landlab.components.submarine_diffusion.sea_level import sea_level_file, sea_level_type\n",
    "%matplotlib inline\n",
    "import matplotlib.pyplot as plt\n"
   ]
  },
  {
   "cell_type": "code",
   "execution_count": 2,
   "metadata": {
    "collapsed": true
   },
   "outputs": [],
   "source": [
    "import numpy as np"
   ]
  },
  {
   "cell_type": "code",
   "execution_count": 3,
   "metadata": {},
   "outputs": [
    {
     "name": "stdout",
     "output_type": "stream",
     "text": [
      "Insert a yaml file name heredefault.yaml\n"
     ]
    }
   ],
   "source": [
    "user_inputed_yaml_file = input('Insert a yaml file name here')"
   ]
  },
  {
   "cell_type": "code",
   "execution_count": 4,
   "metadata": {
    "collapsed": true
   },
   "outputs": [],
   "source": [
    "from yaml_file_check import Yaml_File_Check\n",
    "planform = Yaml_File_Check(user_inputed_yaml_file)"
   ]
  },
  {
   "cell_type": "code",
   "execution_count": 5,
   "metadata": {},
   "outputs": [
    {
     "data": {
      "text/plain": [
       "{'alpha': 0.0005,\n",
       " 'dt': 100.0,\n",
       " 'dx': 100.0,\n",
       " 'hgt': 15.0,\n",
       " 'ksh': 100.0,\n",
       " 'load': 0.3,\n",
       " 'number_of_node_columns': 200,\n",
       " 'output-filename': 'seq_test',\n",
       " 'output_interval': 1000.0,\n",
       " 'run_duration': 20000.0,\n",
       " 'sea_level': 0.0,\n",
       " 'sl_file_name': 'sample_sea_level_file.txt',\n",
       " 'sl_sh': 0.001,\n",
       " 'sl_type': 'sea_level',\n",
       " 'start_time': -20000.0,\n",
       " 'topo_file': 'bathymetry.txt',\n",
       " 'wave_base': 60.0}"
      ]
     },
     "execution_count": 5,
     "metadata": {},
     "output_type": "execute_result"
    }
   ],
   "source": [
    "planform"
   ]
  },
  {
   "cell_type": "code",
   "execution_count": 6,
   "metadata": {},
   "outputs": [
    {
     "ename": "TypeError",
     "evalue": "'function' object is not subscriptable",
     "output_type": "error",
     "traceback": [
      "\u001b[0;31m---------------------------------------------------------------------------\u001b[0m",
      "\u001b[0;31mTypeError\u001b[0m                                 Traceback (most recent call last)",
      "\u001b[0;32m<ipython-input-6-ec6e0e85e3fc>\u001b[0m in \u001b[0;36m<module>\u001b[0;34m()\u001b[0m\n\u001b[0;32m----> 1\u001b[0;31m \u001b[0msea_level_type\u001b[0m\u001b[0;34m(\u001b[0m\u001b[0mplanform\u001b[0m\u001b[0;34m)\u001b[0m\u001b[0;34m\u001b[0m\u001b[0m\n\u001b[0m\u001b[1;32m      2\u001b[0m \u001b[0;31m#asks the user whether a sea level file or function is preferred\u001b[0m\u001b[0;34m\u001b[0m\u001b[0;34m\u001b[0m\u001b[0m\n",
      "\u001b[0;32m/Users/david/GitHub/davidologan/landlab-mssteckler-add-submarine-transport/landlab/components/submarine_diffusion/sea_level.py\u001b[0m in \u001b[0;36msea_level_type\u001b[0;34m(dictionary)\u001b[0m\n\u001b[1;32m     13\u001b[0m         \u001b[0msea_level_function\u001b[0m\u001b[0;34m(\u001b[0m\u001b[0mdictionary\u001b[0m\u001b[0;34m)\u001b[0m\u001b[0;34m\u001b[0m\u001b[0m\n\u001b[1;32m     14\u001b[0m     \u001b[0;32melse\u001b[0m\u001b[0;34m:\u001b[0m\u001b[0;34m\u001b[0m\u001b[0m\n\u001b[0;32m---> 15\u001b[0;31m         \u001b[0msea_level_file\u001b[0m\u001b[0;34m[\u001b[0m\u001b[0msl_type\u001b[0m\u001b[0;34m,\u001b[0m \u001b[0mdictionary\u001b[0m\u001b[0;34m]\u001b[0m\u001b[0;34m\u001b[0m\u001b[0m\n\u001b[0m\u001b[1;32m     16\u001b[0m \u001b[0;34m\u001b[0m\u001b[0m\n\u001b[1;32m     17\u001b[0m \u001b[0;32mdef\u001b[0m \u001b[0msea_level_function\u001b[0m\u001b[0;34m(\u001b[0m\u001b[0mdictionary\u001b[0m\u001b[0;34m)\u001b[0m\u001b[0;34m:\u001b[0m\u001b[0;34m\u001b[0m\u001b[0m\n",
      "\u001b[0;31mTypeError\u001b[0m: 'function' object is not subscriptable"
     ]
    }
   ],
   "source": [
    "sea_level_type(planform)\n",
    "#asks the user whether a sea level file or function is preferred"
   ]
  },
  {
   "cell_type": "code",
   "execution_count": 7,
   "metadata": {},
   "outputs": [
    {
     "data": {
      "image/png": "[encoded data removed]",
      "text/plain": [
       "<matplotlib.figure.Figure at 0x11007afd0>"
      ]
     },
     "metadata": {},
     "output_type": "display_data"
    },
    {
     "data": {
      "text/plain": [
       "(array([-20000., -19900., -19800., -19700., -19600., -19500., -19400.,\n",
       "        -19300., -19200., -19100., -19000., -18900., -18800., -18700.,\n",
       "        -18600., -18500., -18400., -18300., -18200., -18100., -18000.,\n",
       "        -17900., -17800., -17700., -17600., -17500., -17400., -17300.,\n",
       "        -17200., -17100., -17000., -16900., -16800., -16700., -16600.,\n",
       "        -16500., -16400., -16300., -16200., -16100., -16000., -15900.,\n",
       "        -15800., -15700., -15600., -15500., -15400., -15300., -15200.,\n",
       "        -15100., -15000., -14900., -14800., -14700., -14600., -14500.,\n",
       "        -14400., -14300., -14200., -14100., -14000., -13900., -13800.,\n",
       "        -13700., -13600., -13500., -13400., -13300., -13200., -13100.,\n",
       "        -13000., -12900., -12800., -12700., -12600., -12500., -12400.,\n",
       "        -12300., -12200., -12100., -12000., -11900., -11800., -11700.,\n",
       "        -11600., -11500., -11400., -11300., -11200., -11100., -11000.,\n",
       "        -10900., -10800., -10700., -10600., -10500., -10400., -10300.,\n",
       "        -10200., -10100., -10000.,  -9900.,  -9800.,  -9700.,  -9600.,\n",
       "         -9500.,  -9400.,  -9300.,  -9200.,  -9100.,  -9000.,  -8900.,\n",
       "         -8800.,  -8700.,  -8600.,  -8500.,  -8400.,  -8300.,  -8200.,\n",
       "         -8100.,  -8000.,  -7900.,  -7800.,  -7700.,  -7600.,  -7500.,\n",
       "         -7400.,  -7300.,  -7200.,  -7100.,  -7000.,  -6900.,  -6800.,\n",
       "         -6700.,  -6600.,  -6500.,  -6400.,  -6300.,  -6200.,  -6100.,\n",
       "         -6000.,  -5900.,  -5800.,  -5700.,  -5600.,  -5500.,  -5400.,\n",
       "         -5300.,  -5200.,  -5100.,  -5000.,  -4900.,  -4800.,  -4700.,\n",
       "         -4600.,  -4500.,  -4400.,  -4300.,  -4200.,  -4100.,  -4000.,\n",
       "         -3900.,  -3800.,  -3700.,  -3600.,  -3500.,  -3400.,  -3300.,\n",
       "         -3200.,  -3100.,  -3000.,  -2900.,  -2800.,  -2700.,  -2600.,\n",
       "         -2500.,  -2400.,  -2300.,  -2200.,  -2100.,  -2000.,  -1900.,\n",
       "         -1800.,  -1700.,  -1600.,  -1500.,  -1400.,  -1300.,  -1200.,\n",
       "         -1100.,  -1000.,   -900.,   -800.,   -700.,   -600.,   -500.,\n",
       "          -400.,   -300.,   -200.,   -100.]),\n",
       " array([ 200.        ,   -3.3       ,  -52.4       , -120.4       ,\n",
       "        -122.2       ,  -99.1       , -102.6       ,  -91.        ,\n",
       "         -85.7       ,  -80.4       ,  -75.3       ,  -87.8       ,\n",
       "         -76.1       ,  -85.2       ,  -57.9       ,  -52.9       ,\n",
       "         -47.4       ,  -49.        ,  -55.1       ,  -50.6       ,\n",
       "         -39.2       ,  -42.8       ,  -72.4       ,   -4.3       ,\n",
       "          24.        ,   -1.9       ,  -76.3       ,  -96.9       ,\n",
       "        -107.7       ,  -97.        ,  -93.9       , -102.2       ,\n",
       "         -90.3       ,  -78.5       ,  -67.8       ,  -72.        ,\n",
       "         -81.7       ,  -45.3       ,  -49.        ,  -18.2       ,\n",
       "         -34.2       ,  -17.6       ,  -13.4       ,   -7.3       ,\n",
       "         -23.6       ,  -74.1       ,  -68.3       ,  -59.5       ,\n",
       "         -28.6       ,  -60.3       ,  -66.8       ,  -85.4       ,\n",
       "         -79.1       ,  -79.7       ,  -86.        ,  -54.1       ,\n",
       "         -43.4       ,  -39.3       ,  -39.5       ,  -55.8       ,\n",
       "         -45.8       ,  -39.7       ,  -34.8       ,  -23.        ,\n",
       "         -31.4       ,   11.1       ,  -16.8       ,  -26.        ,\n",
       "         -83.1       ,  -96.8       ,  -92.        ,  -90.6       ,\n",
       "        -104.        ,  -55.4       ,  -85.2       ,  -58.4       ,\n",
       "         -52.7       ,  -52.1       ,  -31.9       ,  -30.6       ,\n",
       "          -9.5       ,   12.5       ,   12.8       ,   -0.2       ,\n",
       "          -6.12469348,  -29.5       ,  -84.7       , -115.3       ,\n",
       "        -122.1       , -122.7       , -102.4       ,  -84.8       ,\n",
       "         -87.5       ,  -82.7       ,  -99.9       ,  -96.7       ,\n",
       "         -73.7       ,  -53.4       ,  -35.        ,  -34.9       ,\n",
       "         -39.7       ,  -23.4       ,  -60.8       ,  -68.6       ,\n",
       "         -78.8       ,  -61.2       ,  -54.8       ,  -78.3       ,\n",
       "         -75.3       ,  -84.6       ,  -73.7       ,  -66.5       ,\n",
       "         -73.        ,  -65.        ,  -50.6       ,  -41.6       ,\n",
       "         -25.6       ,  -25.6       ,  -67.6       ,  -79.1       ,\n",
       "         -56.5       ,  -49.        ,  -52.8       ,  -39.2       ,\n",
       "         -50.7       ,  -72.9       , -117.8       , -124.2       ,\n",
       "        -114.3       , -122.7       , -111.9       , -106.4       ,\n",
       "        -101.6       ,  -93.3       ,  -80.5       ,  -91.7       ,\n",
       "         -80.        ,  -82.8       ,  -82.4       ,  -53.8       ,\n",
       "         -62.2       ,  -70.5       ,  -78.9       ,  -87.2       ,\n",
       "         -95.1       ,  -96.4       ,  -63.7       ,  -70.4       ,\n",
       "         -75.5       ,  -77.6       ,  -73.6       ,  -86.1       ,\n",
       "         -91.5       ,  -85.4       ,  -62.3       ,  -53.        ,\n",
       "         -45.1       ,  -21.8       ,  -44.2       ,  -48.5       ,\n",
       "         -98.        ,  -82.5       ,  -77.2       ,  -58.6       ,\n",
       "         -41.3       ,  -55.7       ,  -52.6       ,  -51.1       ,\n",
       "         -48.4       ,  -27.6       ,  -24.3       ,  -36.2       ,\n",
       "         -33.        ,  -19.3       ,  -61.6       ,  -83.6       ,\n",
       "        -109.3       , -106.9       ,  -93.7       ,  -90.1       ,\n",
       "         -84.3       ,  -64.2       ,  -60.3       ,  -74.6       ,\n",
       "         -89.1       ,  -66.8       ,  -51.5       ,  -31.2       ,\n",
       "         -22.2       ,  -19.8       ,   -9.8       ,    2.        ,\n",
       "         -40.6       ,  -41.1       ,  -57.3       ,  -38.6       ,\n",
       "         -27.9       ,  -42.6       ,  -46.6       ,  -29.3       ]))"
      ]
     },
     "execution_count": 7,
     "metadata": {},
     "output_type": "execute_result"
    }
   ],
   "source": [
    "sea_level_file(planform['sl_file_name'], planform)"
   ]
  },
  {
   "cell_type": "code",
   "execution_count": 8,
   "metadata": {
    "collapsed": true
   },
   "outputs": [],
   "source": [
    "from netCDF4 import Dataset\n",
    "dataset = Dataset('netcdf_file_example.nc')\n",
    "#read in the netcdf file go straight into a grid"
   ]
  },
  {
   "cell_type": "code",
   "execution_count": 9,
   "metadata": {
    "collapsed": true
   },
   "outputs": [],
   "source": [
    "#still need to input subsidence and sea level arrays calculate sea level tpe outside in sequence"
   ]
  },
  {
   "cell_type": "code",
   "execution_count": 10,
   "metadata": {
    "collapsed": true
   },
   "outputs": [],
   "source": [
    "from landlab import RasterModelGrid, CLOSED_BOUNDARY\n",
    "grid = RasterModelGrid((3,200), spacing = 500.)\n",
    "grid.status_at_node[grid.nodes_at_top_edge]    = CLOSED_BOUNDARY\n",
    "grid.status_at_node[grid.nodes_at_bottom_edge] = CLOSED_BOUNDARY"
   ]
  },
  {
   "cell_type": "code",
   "execution_count": 11,
   "metadata": {},
   "outputs": [
    {
     "data": {
      "text/plain": [
       "array([ 15.8       ,  15.4       ,  15.        ,  14.6       ,\n",
       "        14.2       ,  13.8       ,  13.4       ,  13.        ,\n",
       "        12.6       ,  12.2       ,  11.8       ,  11.4       ,\n",
       "        11.        ,  10.6       ,  10.2       ,   9.8       ,\n",
       "         9.4       ,   9.        ,   8.6       ,   8.2       ,\n",
       "         7.8       ,   7.4       ,   7.        ,   6.6       ,\n",
       "         6.2       ,   5.8       ,   5.4       ,   5.        ,\n",
       "         4.6       ,   4.2       ,   3.8       ,   3.4       ,\n",
       "         3.        ,   2.6       ,   2.2       ,   1.8       ,\n",
       "         1.4       ,   1.        ,   0.6       ,   0.2       ,\n",
       "        -2.01254646,  -5.44066082,  -8.22107857, -10.4970697 ,\n",
       "       -12.38021299, -13.95740606, -15.29632487, -16.4496755 ,\n",
       "       -17.45850548, -18.35478266, -19.16340364, -19.90375791,\n",
       "       -20.590946  , -21.23672823, -21.85026354, -22.43868493,\n",
       "       -23.00754758, -23.56117787, -24.10294517, -24.63547359,\n",
       "       -25.16080674, -25.68053622, -26.19590155, -26.70786809,\n",
       "       -27.21718763, -27.7244457 , -28.23009829, -28.73450054,\n",
       "       -29.237929  , -29.7405991 , -30.24267857, -30.74429807,\n",
       "       -31.24555933, -31.7465416 , -32.2473066 , -32.74790238,\n",
       "       -33.24836637, -33.74872773, -34.24900915, -34.74922833,\n",
       "       -35.24939902, -35.74953196, -36.24963549, -36.74971612,\n",
       "       -37.24977891, -37.74982782, -38.2498659 , -38.74989557,\n",
       "       -39.24991867, -39.74993666, -40.24995067, -40.74996158,\n",
       "       -41.24997008, -41.7499767 , -42.24998185, -42.74998587,\n",
       "       -43.24998899, -43.74999143, -44.24999332, -44.7499948 ,\n",
       "       -45.24999595, -45.74999685, -46.24999754, -46.74999809,\n",
       "       -47.24999851, -47.74999884, -48.2499991 , -48.7499993 ,\n",
       "       -49.24999945, -49.74999957, -50.24999967, -50.74999974,\n",
       "       -51.2499998 , -51.74999984, -52.24999988, -52.7499999 ,\n",
       "       -53.24999993, -53.74999994, -54.24999996, -54.74999996,\n",
       "       -55.24999997, -55.74999998, -56.24999998, -56.74999999,\n",
       "       -57.24999999, -57.74999999, -58.24999999, -58.75      ,\n",
       "       -59.25      , -59.75      , -60.25      , -60.75      ,\n",
       "       -61.25      , -61.75      , -62.25      , -62.75      ,\n",
       "       -63.25      , -63.75      , -64.25      , -64.75      ,\n",
       "       -65.25      , -65.75      , -66.25      , -66.75      ,\n",
       "       -67.25      , -67.75      , -68.25      , -68.75      ,\n",
       "       -69.25      , -69.75      , -70.25      , -70.75      ,\n",
       "       -71.25      , -71.75      , -72.25      , -72.75      ,\n",
       "       -73.25      , -73.75      , -74.25      , -74.75      ,\n",
       "       -75.25      , -75.75      , -76.25      , -76.75      ,\n",
       "       -77.25      , -77.75      , -78.25      , -78.75      ,\n",
       "       -79.25      , -79.75      , -80.25      , -80.75      ,\n",
       "       -81.25      , -81.75      , -82.25      , -82.75      ,\n",
       "       -83.25      , -83.75      , -84.25      , -84.75      ,\n",
       "       -85.25      , -85.75      , -86.25      , -86.75      ,\n",
       "       -87.25      , -87.75      , -88.25      , -88.75      ,\n",
       "       -89.25      , -89.75      , -90.25      , -90.75      ,\n",
       "       -91.25      , -91.75      , -92.25      , -92.75      ,\n",
       "       -93.25      , -93.75      , -94.25      , -94.75      ,\n",
       "        15.8       ,  15.4       ,  15.        ,  14.6       ,\n",
       "        14.2       ,  13.8       ,  13.4       ,  13.        ,\n",
       "        12.6       ,  12.2       ,  11.8       ,  11.4       ,\n",
       "        11.        ,  10.6       ,  10.2       ,   9.8       ,\n",
       "         9.4       ,   9.        ,   8.6       ,   8.2       ,\n",
       "         7.8       ,   7.4       ,   7.        ,   6.6       ,\n",
       "         6.2       ,   5.8       ,   5.4       ,   5.        ,\n",
       "         4.6       ,   4.2       ,   3.8       ,   3.4       ,\n",
       "         3.        ,   2.6       ,   2.2       ,   1.8       ,\n",
       "         1.4       ,   1.        ,   0.6       ,   0.2       ,\n",
       "        -2.01254646,  -5.44066082,  -8.22107857, -10.4970697 ,\n",
       "       -12.38021299, -13.95740606, -15.29632487, -16.4496755 ,\n",
       "       -17.45850548, -18.35478266, -19.16340364, -19.90375791,\n",
       "       -20.590946  , -21.23672823, -21.85026354, -22.43868493,\n",
       "       -23.00754758, -23.56117787, -24.10294517, -24.63547359,\n",
       "       -25.16080674, -25.68053622, -26.19590155, -26.70786809,\n",
       "       -27.21718763, -27.7244457 , -28.23009829, -28.73450054,\n",
       "       -29.237929  , -29.7405991 , -30.24267857, -30.74429807,\n",
       "       -31.24555933, -31.7465416 , -32.2473066 , -32.74790238,\n",
       "       -33.24836637, -33.74872773, -34.24900915, -34.74922833,\n",
       "       -35.24939902, -35.74953196, -36.24963549, -36.74971612,\n",
       "       -37.24977891, -37.74982782, -38.2498659 , -38.74989557,\n",
       "       -39.24991867, -39.74993666, -40.24995067, -40.74996158,\n",
       "       -41.24997008, -41.7499767 , -42.24998185, -42.74998587,\n",
       "       -43.24998899, -43.74999143, -44.24999332, -44.7499948 ,\n",
       "       -45.24999595, -45.74999685, -46.24999754, -46.74999809,\n",
       "       -47.24999851, -47.74999884, -48.2499991 , -48.7499993 ,\n",
       "       -49.24999945, -49.74999957, -50.24999967, -50.74999974,\n",
       "       -51.2499998 , -51.74999984, -52.24999988, -52.7499999 ,\n",
       "       -53.24999993, -53.74999994, -54.24999996, -54.74999996,\n",
       "       -55.24999997, -55.74999998, -56.24999998, -56.74999999,\n",
       "       -57.24999999, -57.74999999, -58.24999999, -58.75      ,\n",
       "       -59.25      , -59.75      , -60.25      , -60.75      ,\n",
       "       -61.25      , -61.75      , -62.25      , -62.75      ,\n",
       "       -63.25      , -63.75      , -64.25      , -64.75      ,\n",
       "       -65.25      , -65.75      , -66.25      , -66.75      ,\n",
       "       -67.25      , -67.75      , -68.25      , -68.75      ,\n",
       "       -69.25      , -69.75      , -70.25      , -70.75      ,\n",
       "       -71.25      , -71.75      , -72.25      , -72.75      ,\n",
       "       -73.25      , -73.75      , -74.25      , -74.75      ,\n",
       "       -75.25      , -75.75      , -76.25      , -76.75      ,\n",
       "       -77.25      , -77.75      , -78.25      , -78.75      ,\n",
       "       -79.25      , -79.75      , -80.25      , -80.75      ,\n",
       "       -81.25      , -81.75      , -82.25      , -82.75      ,\n",
       "       -83.25      , -83.75      , -84.25      , -84.75      ,\n",
       "       -85.25      , -85.75      , -86.25      , -86.75      ,\n",
       "       -87.25      , -87.75      , -88.25      , -88.75      ,\n",
       "       -89.25      , -89.75      , -90.25      , -90.75      ,\n",
       "       -91.25      , -91.75      , -92.25      , -92.75      ,\n",
       "       -93.25      , -93.75      , -94.25      , -94.75      ,\n",
       "        15.8       ,  15.4       ,  15.        ,  14.6       ,\n",
       "        14.2       ,  13.8       ,  13.4       ,  13.        ,\n",
       "        12.6       ,  12.2       ,  11.8       ,  11.4       ,\n",
       "        11.        ,  10.6       ,  10.2       ,   9.8       ,\n",
       "         9.4       ,   9.        ,   8.6       ,   8.2       ,\n",
       "         7.8       ,   7.4       ,   7.        ,   6.6       ,\n",
       "         6.2       ,   5.8       ,   5.4       ,   5.        ,\n",
       "         4.6       ,   4.2       ,   3.8       ,   3.4       ,\n",
       "         3.        ,   2.6       ,   2.2       ,   1.8       ,\n",
       "         1.4       ,   1.        ,   0.6       ,   0.2       ,\n",
       "        -2.01254646,  -5.44066082,  -8.22107857, -10.4970697 ,\n",
       "       -12.38021299, -13.95740606, -15.29632487, -16.4496755 ,\n",
       "       -17.45850548, -18.35478266, -19.16340364, -19.90375791,\n",
       "       -20.590946  , -21.23672823, -21.85026354, -22.43868493,\n",
       "       -23.00754758, -23.56117787, -24.10294517, -24.63547359,\n",
       "       -25.16080674, -25.68053622, -26.19590155, -26.70786809,\n",
       "       -27.21718763, -27.7244457 , -28.23009829, -28.73450054,\n",
       "       -29.237929  , -29.7405991 , -30.24267857, -30.74429807,\n",
       "       -31.24555933, -31.7465416 , -32.2473066 , -32.74790238,\n",
       "       -33.24836637, -33.74872773, -34.24900915, -34.74922833,\n",
       "       -35.24939902, -35.74953196, -36.24963549, -36.74971612,\n",
       "       -37.24977891, -37.74982782, -38.2498659 , -38.74989557,\n",
       "       -39.24991867, -39.74993666, -40.24995067, -40.74996158,\n",
       "       -41.24997008, -41.7499767 , -42.24998185, -42.74998587,\n",
       "       -43.24998899, -43.74999143, -44.24999332, -44.7499948 ,\n",
       "       -45.24999595, -45.74999685, -46.24999754, -46.74999809,\n",
       "       -47.24999851, -47.74999884, -48.2499991 , -48.7499993 ,\n",
       "       -49.24999945, -49.74999957, -50.24999967, -50.74999974,\n",
       "       -51.2499998 , -51.74999984, -52.24999988, -52.7499999 ,\n",
       "       -53.24999993, -53.74999994, -54.24999996, -54.74999996,\n",
       "       -55.24999997, -55.74999998, -56.24999998, -56.74999999,\n",
       "       -57.24999999, -57.74999999, -58.24999999, -58.75      ,\n",
       "       -59.25      , -59.75      , -60.25      , -60.75      ,\n",
       "       -61.25      , -61.75      , -62.25      , -62.75      ,\n",
       "       -63.25      , -63.75      , -64.25      , -64.75      ,\n",
       "       -65.25      , -65.75      , -66.25      , -66.75      ,\n",
       "       -67.25      , -67.75      , -68.25      , -68.75      ,\n",
       "       -69.25      , -69.75      , -70.25      , -70.75      ,\n",
       "       -71.25      , -71.75      , -72.25      , -72.75      ,\n",
       "       -73.25      , -73.75      , -74.25      , -74.75      ,\n",
       "       -75.25      , -75.75      , -76.25      , -76.75      ,\n",
       "       -77.25      , -77.75      , -78.25      , -78.75      ,\n",
       "       -79.25      , -79.75      , -80.25      , -80.75      ,\n",
       "       -81.25      , -81.75      , -82.25      , -82.75      ,\n",
       "       -83.25      , -83.75      , -84.25      , -84.75      ,\n",
       "       -85.25      , -85.75      , -86.25      , -86.75      ,\n",
       "       -87.25      , -87.75      , -88.25      , -88.75      ,\n",
       "       -89.25      , -89.75      , -90.25      , -90.75      ,\n",
       "       -91.25      , -91.75      , -92.25      , -92.75      ,\n",
       "       -93.25      , -93.75      , -94.25      , -94.75      ])"
      ]
     },
     "execution_count": 11,
     "metadata": {},
     "output_type": "execute_result"
    }
   ],
   "source": [
    "z = create_initial_profile(grid.x_of_node)\n",
    "grid.add_field('topographic__elevation', z.copy(), at='node')"
   ]
  },
  {
   "cell_type": "code",
   "execution_count": 12,
   "metadata": {
    "collapsed": true
   },
   "outputs": [],
   "source": [
    "z0 =z"
   ]
  },
  {
   "cell_type": "code",
   "execution_count": 13,
   "metadata": {},
   "outputs": [
    {
     "name": "stdout",
     "output_type": "stream",
     "text": [
      "19656.024615233764\n",
      "19656.024615233764\n"
     ]
    },
    {
     "data": {
      "text/plain": [
       "19656.024615233764"
      ]
     },
     "execution_count": 13,
     "metadata": {},
     "output_type": "execute_result"
    },
    {
     "data": {
      "image/png": "[encoded data removed]",
      "text/plain": [
       "<matplotlib.figure.Figure at 0x1045ae5c0>"
      ]
     },
     "metadata": {},
     "output_type": "display_data"
    }
   ],
   "source": [
    "shore = find_shoreline2(grid.x_of_node[grid.core_nodes], z[grid.core_nodes], 0.)\n",
    "plt.plot(grid.x_of_node,z,shore,0,'o' )\n",
    "shore"
   ]
  },
  {
   "cell_type": "code",
   "execution_count": 14,
   "metadata": {},
   "outputs": [
    {
     "name": "stdout",
     "output_type": "stream",
     "text": [
      "19656.024615233764\n",
      "19656.024615233764\n"
     ]
    },
    {
     "data": {
      "text/plain": [
       "[<matplotlib.lines.Line2D at 0x113680c50>,\n",
       " <matplotlib.lines.Line2D at 0x113680e48>]"
      ]
     },
     "execution_count": 14,
     "metadata": {},
     "output_type": "execute_result"
    },
    {
     "data": {
      "image/png": "[encoded data removed]",
      "text/plain": [
       "<matplotlib.figure.Figure at 0x1137147b8>"
      ]
     },
     "metadata": {},
     "output_type": "display_data"
    }
   ],
   "source": [
    "shore = find_shoreline2(grid.x_of_node[grid.core_nodes], z[grid.core_nodes], 0.)\n",
    "plt.plot(grid.x_of_node,z,shore,0,'o' )"
   ]
  },
  {
   "cell_type": "code",
   "execution_count": 15,
   "metadata": {},
   "outputs": [],
   "source": [
    "sd = SubmarineDiffuser(grid, shore)"
   ]
  },
  {
   "cell_type": "code",
   "execution_count": 16,
   "metadata": {},
   "outputs": [],
   "source": [
    "k = sd.calc_diffusion_coef(shore)"
   ]
  },
  {
   "cell_type": "code",
   "execution_count": 17,
   "metadata": {},
   "outputs": [
    {
     "data": {
      "text/plain": [
       "[<matplotlib.lines.Line2D at 0x113802b00>]"
      ]
     },
     "execution_count": 17,
     "metadata": {},
     "output_type": "execute_result"
    },
    {
     "data": {
      "image/png": "[encoded data removed]",
      "text/plain": [
       "<matplotlib.figure.Figure at 0x1136abc50>"
      ]
     },
     "metadata": {},
     "output_type": "display_data"
    }
   ],
   "source": [
    "plt.plot(grid.x_of_node,k)"
   ]
  },
  {
   "cell_type": "code",
   "execution_count": 18,
   "metadata": {
    "collapsed": true
   },
   "outputs": [],
   "source": [
    "k = sd.grid.at_node['kd'].copy()\n",
    "grid.x_of_cell[48]\n",
    "sd.grid.at_node['topographic__elevation'][200] = sd.grid.at_node['topographic__elevation'][201]"
   ]
  },
  {
   "cell_type": "code",
   "execution_count": 19,
   "metadata": {},
   "outputs": [],
   "source": [
    "for time_step in range(1000):\n",
    "    sd.run_one_step(100)"
   ]
  },
  {
   "cell_type": "code",
   "execution_count": 20,
   "metadata": {},
   "outputs": [
    {
     "data": {
      "text/plain": [
       "[<matplotlib.lines.Line2D at 0x113931b38>,\n",
       " <matplotlib.lines.Line2D at 0x113931cf8>]"
      ]
     },
     "execution_count": 20,
     "metadata": {},
     "output_type": "execute_result"
    },
    {
     "data": {
      "image/png": "[encoded data removed]",
      "text/plain": [
       "<matplotlib.figure.Figure at 0x11387a9b0>"
      ]
     },
     "metadata": {},
     "output_type": "display_data"
    }
   ],
   "source": [
    "z1 = sd.grid.at_node['topographic__elevation']\n",
    "plt.plot(grid.x_of_node,z1,grid.x_of_node,z)"
   ]
  },
  {
   "cell_type": "code",
   "execution_count": 22,
   "metadata": {},
   "outputs": [
    {
     "name": "stdout",
     "output_type": "stream",
     "text": [
      "19699.31508557339\n",
      "19699.31508557339\n"
     ]
    },
    {
     "data": {
      "text/plain": [
       "19699.31508557339"
      ]
     },
     "execution_count": 22,
     "metadata": {},
     "output_type": "execute_result"
    }
   ],
   "source": [
    "shore = find_shoreline2(grid.x_of_node[grid.core_nodes], z1[grid.core_nodes], 0.)\n",
    "shore"
   ]
  },
  {
   "cell_type": "code",
   "execution_count": 23,
   "metadata": {},
   "outputs": [
    {
     "data": {
      "text/plain": [
       "[<matplotlib.lines.Line2D at 0x113b5a7f0>,\n",
       " <matplotlib.lines.Line2D at 0x113b5a9b0>,\n",
       " <matplotlib.lines.Line2D at 0x113b629b0>]"
      ]
     },
     "execution_count": 23,
     "metadata": {},
     "output_type": "execute_result"
    },
    {
     "data": {
      "image/png": "[encoded data removed]",
      "text/plain": [
       "<matplotlib.figure.Figure at 0x1139a02e8>"
      ]
     },
     "metadata": {},
     "output_type": "display_data"
    }
   ],
   "source": [
    "for time_step in range(1000):\n",
    "    sd.run_one_step(100)\n",
    "    z2 = sd.grid.at_node['topographic__elevation']\n",
    "plt.plot(grid.x_of_node,z1,grid.x_of_node,z, grid.x_of_node,z2)"
   ]
  },
  {
   "cell_type": "code",
   "execution_count": 24,
   "metadata": {},
   "outputs": [
    {
     "data": {
      "text/plain": [
       "array([  1.58000000e+01,   1.54000000e+01,   1.50000000e+01,\n",
       "         1.46000000e+01,   1.42000000e+01,   1.38000000e+01,\n",
       "         1.34000000e+01,   1.30000000e+01,   1.26000000e+01,\n",
       "         1.22000000e+01,   1.18000000e+01,   1.14000000e+01,\n",
       "         1.10000000e+01,   1.06000000e+01,   1.02000000e+01,\n",
       "         9.80000000e+00,   9.40000000e+00,   9.00000000e+00,\n",
       "         8.60000000e+00,   8.20000000e+00,   7.80000000e+00,\n",
       "         7.40000000e+00,   7.00000000e+00,   6.60000000e+00,\n",
       "         6.20000000e+00,   5.80000000e+00,   5.40000000e+00,\n",
       "         5.00000000e+00,   4.60000000e+00,   4.20000000e+00,\n",
       "         3.80000000e+00,   3.40000000e+00,   3.00000000e+00,\n",
       "         2.60000000e+00,   2.20000000e+00,   1.80000000e+00,\n",
       "         1.40000000e+00,   1.00000000e+00,   6.00000000e-01,\n",
       "         2.00000000e-01,  -2.01254646e+00,  -5.44066082e+00,\n",
       "        -8.22107857e+00,  -1.04970697e+01,  -1.23802130e+01,\n",
       "        -1.39574061e+01,  -1.52963249e+01,  -1.64496755e+01,\n",
       "        -1.74585055e+01,  -1.83547827e+01,  -1.91634036e+01,\n",
       "        -1.99037579e+01,  -2.05909460e+01,  -2.12367282e+01,\n",
       "        -2.18502635e+01,  -2.24386849e+01,  -2.30075476e+01,\n",
       "        -2.35611779e+01,  -2.41029452e+01,  -2.46354736e+01,\n",
       "        -2.51608067e+01,  -2.56805362e+01,  -2.61959016e+01,\n",
       "        -2.67078681e+01,  -2.72171876e+01,  -2.77244457e+01,\n",
       "        -2.82300983e+01,  -2.87345005e+01,  -2.92379290e+01,\n",
       "        -2.97405991e+01,  -3.02426786e+01,  -3.07442981e+01,\n",
       "        -3.12455593e+01,  -3.17465416e+01,  -3.22473066e+01,\n",
       "        -3.27479024e+01,  -3.32483664e+01,  -3.37487277e+01,\n",
       "        -3.42490092e+01,  -3.47492283e+01,  -3.52493990e+01,\n",
       "        -3.57495320e+01,  -3.62496355e+01,  -3.67497161e+01,\n",
       "        -3.72497789e+01,  -3.77498278e+01,  -3.82498659e+01,\n",
       "        -3.87498956e+01,  -3.92499187e+01,  -3.97499367e+01,\n",
       "        -4.02499507e+01,  -4.07499616e+01,  -4.12499701e+01,\n",
       "        -4.17499767e+01,  -4.22499819e+01,  -4.27499859e+01,\n",
       "        -4.32499890e+01,  -4.37499914e+01,  -4.42499933e+01,\n",
       "        -4.47499948e+01,  -4.52499960e+01,  -4.57499968e+01,\n",
       "        -4.62499975e+01,  -4.67499981e+01,  -4.72499985e+01,\n",
       "        -4.77499988e+01,  -4.82499991e+01,  -4.87499993e+01,\n",
       "        -4.92499995e+01,  -4.97499996e+01,  -5.02499997e+01,\n",
       "        -5.07499997e+01,  -5.12499998e+01,  -5.17499998e+01,\n",
       "        -5.22499999e+01,  -5.27499999e+01,  -5.32499999e+01,\n",
       "        -5.37499999e+01,  -5.42500000e+01,  -5.47500000e+01,\n",
       "        -5.52500000e+01,  -5.57500000e+01,  -5.62500000e+01,\n",
       "        -5.67500000e+01,  -5.72500000e+01,  -5.77500000e+01,\n",
       "        -5.82500000e+01,  -5.87500000e+01,  -5.92500000e+01,\n",
       "        -5.97500000e+01,  -6.02500000e+01,  -6.07500000e+01,\n",
       "        -6.12500000e+01,  -6.17500000e+01,  -6.22500000e+01,\n",
       "        -6.27500000e+01,  -6.32500000e+01,  -6.37500000e+01,\n",
       "        -6.42500000e+01,  -6.47500000e+01,  -6.52500000e+01,\n",
       "        -6.57500000e+01,  -6.62500000e+01,  -6.67500000e+01,\n",
       "        -6.72500000e+01,  -6.77500000e+01,  -6.82500000e+01,\n",
       "        -6.87500000e+01,  -6.92500000e+01,  -6.97500000e+01,\n",
       "        -7.02500000e+01,  -7.07500000e+01,  -7.12500000e+01,\n",
       "        -7.17500000e+01,  -7.22500000e+01,  -7.27500000e+01,\n",
       "        -7.32500000e+01,  -7.37500000e+01,  -7.42500000e+01,\n",
       "        -7.47500000e+01,  -7.52500000e+01,  -7.57500000e+01,\n",
       "        -7.62500000e+01,  -7.67500000e+01,  -7.72500000e+01,\n",
       "        -7.77500000e+01,  -7.82500000e+01,  -7.87500000e+01,\n",
       "        -7.92500000e+01,  -7.97500000e+01,  -8.02500000e+01,\n",
       "        -8.07500000e+01,  -8.12500000e+01,  -8.17500000e+01,\n",
       "        -8.22500000e+01,  -8.27500000e+01,  -8.32500000e+01,\n",
       "        -8.37500000e+01,  -8.42500000e+01,  -8.47500000e+01,\n",
       "        -8.52500000e+01,  -8.57500000e+01,  -8.62500000e+01,\n",
       "        -8.67500000e+01,  -8.72500000e+01,  -8.77500000e+01,\n",
       "        -8.82500000e+01,  -8.87500000e+01,  -8.92500000e+01,\n",
       "        -8.97500000e+01,  -9.02500000e+01,  -9.07500000e+01,\n",
       "        -9.12500000e+01,  -9.17500000e+01,  -9.22500000e+01,\n",
       "        -9.27500000e+01,  -9.32500000e+01,  -9.37500000e+01,\n",
       "        -9.42500000e+01,  -9.47500000e+01,   1.54000000e+01,\n",
       "         1.50119768e+01,   1.46239578e+01,   1.42359472e+01,\n",
       "         1.38479496e+01,   1.34599703e+01,   1.30720148e+01,\n",
       "         1.26840896e+01,   1.22962022e+01,   1.19083608e+01,\n",
       "         1.15205749e+01,   1.11328549e+01,   1.07452126e+01,\n",
       "         1.03576611e+01,   9.97021434e+00,   9.58288797e+00,\n",
       "         9.19569862e+00,   8.80866422e+00,   8.42180382e+00,\n",
       "         8.03513757e+00,   7.64868656e+00,   7.26247267e+00,\n",
       "         6.87651827e+00,   6.49084586e+00,   6.10547755e+00,\n",
       "         5.72043437e+00,   5.33573557e+00,   4.95139788e+00,\n",
       "         4.56743507e+00,   4.18385835e+00,   3.80067806e+00,\n",
       "         3.41790757e+00,   3.03557018e+00,   2.65370973e+00,\n",
       "         2.27240541e+00,   1.89179073e+00,   1.51207365e+00,\n",
       "         1.13358516e+00,   7.56534236e-01,   3.84078157e-01,\n",
       "        -1.18764470e-02,  -5.65401350e-01,  -2.71202736e+00,\n",
       "        -4.72587861e+00,  -6.62982851e+00,  -8.42142159e+00,\n",
       "        -1.01009025e+01,  -1.16710150e+01,  -1.31362526e+01,\n",
       "        -1.45022830e+01,  -1.57755561e+01,  -1.69629901e+01,\n",
       "        -1.80716987e+01,  -1.91087621e+01,  -2.00810488e+01,\n",
       "        -2.09950896e+01,  -2.18569965e+01,  -2.26724202e+01,\n",
       "        -2.34465340e+01,  -2.41840385e+01,  -2.48891795e+01,\n",
       "        -2.55657734e+01,  -2.62172379e+01,  -2.68466240e+01,\n",
       "        -2.74566482e+01,  -2.80497239e+01,  -2.86279913e+01,\n",
       "        -2.91933444e+01,  -2.97474572e+01,  -3.02918067e+01,\n",
       "        -3.08276940e+01,  -3.13562638e+01,  -3.18785215e+01,\n",
       "        -3.23953486e+01,  -3.29075172e+01,  -3.34157020e+01,\n",
       "        -3.39204920e+01,  -3.44224001e+01,  -3.49218725e+01,\n",
       "        -3.54192962e+01,  -3.59150064e+01,  -3.64092926e+01,\n",
       "        -3.69024042e+01,  -3.73945555e+01,  -3.78859300e+01,\n",
       "        -3.83766842e+01,  -3.88669509e+01,  -3.93568421e+01,\n",
       "        -3.98464518e+01,  -4.03358581e+01,  -4.08251250e+01,\n",
       "        -4.13143044e+01,  -4.18034374e+01,  -4.22925554e+01,\n",
       "        -4.27816814e+01,  -4.32708310e+01,  -4.37600128e+01,\n",
       "        -4.42492294e+01,  -4.47384779e+01,  -4.52277503e+01,\n",
       "        -4.57170338e+01,  -4.62063115e+01,  -4.66955621e+01,\n",
       "        -4.71847606e+01,  -4.76738781e+01,  -4.81628824e+01,\n",
       "        -4.86517376e+01,  -4.91404045e+01,  -4.96288409e+01,\n",
       "        -5.01170010e+01,  -5.06048363e+01,  -5.10922949e+01,\n",
       "        -5.15793223e+01,  -5.20658609e+01,  -5.25518504e+01,\n",
       "        -5.30372279e+01,  -5.35219279e+01,  -5.40058824e+01,\n",
       "        -5.44890214e+01,  -5.49712725e+01,  -5.54525615e+01,\n",
       "        -5.59328125e+01,  -5.64119482e+01,  -5.68898896e+01,\n",
       "        -5.73665572e+01,  -5.78418702e+01,  -5.83157474e+01,\n",
       "        -5.87881075e+01,  -5.92588686e+01,  -5.97279496e+01,\n",
       "        -6.01968157e+01,  -6.06655814e+01,  -6.11360790e+01,\n",
       "        -6.16082665e+01,  -6.20820991e+01,  -6.25575300e+01,\n",
       "        -6.30345101e+01,  -6.35129889e+01,  -6.39929143e+01,\n",
       "        -6.44742328e+01,  -6.49568902e+01,  -6.54408313e+01,\n",
       "        -6.59260006e+01,  -6.64123421e+01,  -6.68998000e+01,\n",
       "        -6.73883186e+01,  -6.78778428e+01,  -6.83683182e+01,\n",
       "        -6.88596912e+01,  -6.93519094e+01,  -6.98449217e+01,\n",
       "        -7.03386788e+01,  -7.08331328e+01,  -7.13282378e+01,\n",
       "        -7.18239500e+01,  -7.23202277e+01,  -7.28170316e+01,\n",
       "        -7.33143247e+01,  -7.38120727e+01,  -7.43102440e+01,\n",
       "        -7.48088096e+01,  -7.53077436e+01,  -7.58070227e+01,\n",
       "        -7.63066271e+01,  -7.68065400e+01,  -7.73067479e+01,\n",
       "        -7.78072408e+01,  -7.83080124e+01,  -7.88090600e+01,\n",
       "        -7.93103851e+01,  -7.98119931e+01,  -8.03138943e+01,\n",
       "        -8.08161033e+01,  -8.13186398e+01,  -8.18215292e+01,\n",
       "        -8.23248024e+01,  -8.28284963e+01,  -8.33326549e+01,\n",
       "        -8.38373288e+01,  -8.43425764e+01,  -8.48484643e+01,\n",
       "        -8.53550677e+01,  -8.58624712e+01,  -8.63707691e+01,\n",
       "        -8.68800663e+01,  -8.73904789e+01,  -8.79021346e+01,\n",
       "        -8.84151737e+01,  -8.89297493e+01,  -8.94460283e+01,\n",
       "        -8.99641914e+01,  -9.04844346e+01,  -9.10069688e+01,\n",
       "        -9.15320207e+01,  -9.20598334e+01,  -9.25906665e+01,\n",
       "        -9.31247968e+01,  -9.36625183e+01,  -9.42041429e+01,\n",
       "        -9.47500000e+01,   1.58000000e+01,   1.54000000e+01,\n",
       "         1.50000000e+01,   1.46000000e+01,   1.42000000e+01,\n",
       "         1.38000000e+01,   1.34000000e+01,   1.30000000e+01,\n",
       "         1.26000000e+01,   1.22000000e+01,   1.18000000e+01,\n",
       "         1.14000000e+01,   1.10000000e+01,   1.06000000e+01,\n",
       "         1.02000000e+01,   9.80000000e+00,   9.40000000e+00,\n",
       "         9.00000000e+00,   8.60000000e+00,   8.20000000e+00,\n",
       "         7.80000000e+00,   7.40000000e+00,   7.00000000e+00,\n",
       "         6.60000000e+00,   6.20000000e+00,   5.80000000e+00,\n",
       "         5.40000000e+00,   5.00000000e+00,   4.60000000e+00,\n",
       "         4.20000000e+00,   3.80000000e+00,   3.40000000e+00,\n",
       "         3.00000000e+00,   2.60000000e+00,   2.20000000e+00,\n",
       "         1.80000000e+00,   1.40000000e+00,   1.00000000e+00,\n",
       "         6.00000000e-01,   2.00000000e-01,  -2.01254646e+00,\n",
       "        -5.44066082e+00,  -8.22107857e+00,  -1.04970697e+01,\n",
       "        -1.23802130e+01,  -1.39574061e+01,  -1.52963249e+01,\n",
       "        -1.64496755e+01,  -1.74585055e+01,  -1.83547827e+01,\n",
       "        -1.91634036e+01,  -1.99037579e+01,  -2.05909460e+01,\n",
       "        -2.12367282e+01,  -2.18502635e+01,  -2.24386849e+01,\n",
       "        -2.30075476e+01,  -2.35611779e+01,  -2.41029452e+01,\n",
       "        -2.46354736e+01,  -2.51608067e+01,  -2.56805362e+01,\n",
       "        -2.61959016e+01,  -2.67078681e+01,  -2.72171876e+01,\n",
       "        -2.77244457e+01,  -2.82300983e+01,  -2.87345005e+01,\n",
       "        -2.92379290e+01,  -2.97405991e+01,  -3.02426786e+01,\n",
       "        -3.07442981e+01,  -3.12455593e+01,  -3.17465416e+01,\n",
       "        -3.22473066e+01,  -3.27479024e+01,  -3.32483664e+01,\n",
       "        -3.37487277e+01,  -3.42490092e+01,  -3.47492283e+01,\n",
       "        -3.52493990e+01,  -3.57495320e+01,  -3.62496355e+01,\n",
       "        -3.67497161e+01,  -3.72497789e+01,  -3.77498278e+01,\n",
       "        -3.82498659e+01,  -3.87498956e+01,  -3.92499187e+01,\n",
       "        -3.97499367e+01,  -4.02499507e+01,  -4.07499616e+01,\n",
       "        -4.12499701e+01,  -4.17499767e+01,  -4.22499819e+01,\n",
       "        -4.27499859e+01,  -4.32499890e+01,  -4.37499914e+01,\n",
       "        -4.42499933e+01,  -4.47499948e+01,  -4.52499960e+01,\n",
       "        -4.57499968e+01,  -4.62499975e+01,  -4.67499981e+01,\n",
       "        -4.72499985e+01,  -4.77499988e+01,  -4.82499991e+01,\n",
       "        -4.87499993e+01,  -4.92499995e+01,  -4.97499996e+01,\n",
       "        -5.02499997e+01,  -5.07499997e+01,  -5.12499998e+01,\n",
       "        -5.17499998e+01,  -5.22499999e+01,  -5.27499999e+01,\n",
       "        -5.32499999e+01,  -5.37499999e+01,  -5.42500000e+01,\n",
       "        -5.47500000e+01,  -5.52500000e+01,  -5.57500000e+01,\n",
       "        -5.62500000e+01,  -5.67500000e+01,  -5.72500000e+01,\n",
       "        -5.77500000e+01,  -5.82500000e+01,  -5.87500000e+01,\n",
       "        -5.92500000e+01,  -5.97500000e+01,  -6.02500000e+01,\n",
       "        -6.07500000e+01,  -6.12500000e+01,  -6.17500000e+01,\n",
       "        -6.22500000e+01,  -6.27500000e+01,  -6.32500000e+01,\n",
       "        -6.37500000e+01,  -6.42500000e+01,  -6.47500000e+01,\n",
       "        -6.52500000e+01,  -6.57500000e+01,  -6.62500000e+01,\n",
       "        -6.67500000e+01,  -6.72500000e+01,  -6.77500000e+01,\n",
       "        -6.82500000e+01,  -6.87500000e+01,  -6.92500000e+01,\n",
       "        -6.97500000e+01,  -7.02500000e+01,  -7.07500000e+01,\n",
       "        -7.12500000e+01,  -7.17500000e+01,  -7.22500000e+01,\n",
       "        -7.27500000e+01,  -7.32500000e+01,  -7.37500000e+01,\n",
       "        -7.42500000e+01,  -7.47500000e+01,  -7.52500000e+01,\n",
       "        -7.57500000e+01,  -7.62500000e+01,  -7.67500000e+01,\n",
       "        -7.72500000e+01,  -7.77500000e+01,  -7.82500000e+01,\n",
       "        -7.87500000e+01,  -7.92500000e+01,  -7.97500000e+01,\n",
       "        -8.02500000e+01,  -8.07500000e+01,  -8.12500000e+01,\n",
       "        -8.17500000e+01,  -8.22500000e+01,  -8.27500000e+01,\n",
       "        -8.32500000e+01,  -8.37500000e+01,  -8.42500000e+01,\n",
       "        -8.47500000e+01,  -8.52500000e+01,  -8.57500000e+01,\n",
       "        -8.62500000e+01,  -8.67500000e+01,  -8.72500000e+01,\n",
       "        -8.77500000e+01,  -8.82500000e+01,  -8.87500000e+01,\n",
       "        -8.92500000e+01,  -8.97500000e+01,  -9.02500000e+01,\n",
       "        -9.07500000e+01,  -9.12500000e+01,  -9.17500000e+01,\n",
       "        -9.22500000e+01,  -9.27500000e+01,  -9.32500000e+01,\n",
       "        -9.37500000e+01,  -9.42500000e+01,  -9.47500000e+01])"
      ]
     },
     "execution_count": 24,
     "metadata": {},
     "output_type": "execute_result"
    }
   ],
   "source": [
    "z2"
   ]
  },
  {
   "cell_type": "code",
   "execution_count": 26,
   "metadata": {},
   "outputs": [
    {
     "name": "stdout",
     "output_type": "stream",
     "text": [
      "19716.558071337022\n",
      "19716.558071337022\n"
     ]
    },
    {
     "data": {
      "text/plain": [
       "19716.558071337022"
      ]
     },
     "execution_count": 26,
     "metadata": {},
     "output_type": "execute_result"
    }
   ],
   "source": [
    "shore = find_shoreline2(grid.x_of_node[grid.core_nodes], z2[grid.core_nodes], 0.)\n",
    "shore"
   ]
  },
  {
   "cell_type": "code",
   "execution_count": 27,
   "metadata": {},
   "outputs": [
    {
     "data": {
      "text/plain": [
       "[<matplotlib.lines.Line2D at 0x11351c240>,\n",
       " <matplotlib.lines.Line2D at 0x11351c048>,\n",
       " <matplotlib.lines.Line2D at 0x1135235c0>,\n",
       " <matplotlib.lines.Line2D at 0x113523eb8>]"
      ]
     },
     "execution_count": 27,
     "metadata": {},
     "output_type": "execute_result"
    },
    {
     "data": {
      "image/png": "[encoded data removed]",
      "text/plain": [
       "<matplotlib.figure.Figure at 0x113913240>"
      ]
     },
     "metadata": {},
     "output_type": "display_data"
    }
   ],
   "source": [
    "for time_step in range(1000):\n",
    "    sd.run_one_step(100)\n",
    "    z3 = sd.grid.at_node['topographic__elevation']\n",
    "plt.plot(grid.x_of_node,z1,grid.x_of_node,z, grid.x_of_node,z2, grid.x_of_node,z3)"
   ]
  },
  {
   "cell_type": "code",
   "execution_count": 28,
   "metadata": {},
   "outputs": [
    {
     "data": {
      "text/plain": [
       "[<matplotlib.lines.Line2D at 0x1139500b8>]"
      ]
     },
     "execution_count": 28,
     "metadata": {},
     "output_type": "execute_result"
    },
    {
     "data": {
      "image/png": "[encoded data removed]",
      "text/plain": [
       "<matplotlib.figure.Figure at 0x113b7f8d0>"
      ]
     },
     "metadata": {},
     "output_type": "display_data"
    }
   ],
   "source": [
    "plt.plot(grid.x_of_node,z1-z)"
   ]
  },
  {
   "cell_type": "code",
   "execution_count": 29,
   "metadata": {},
   "outputs": [
    {
     "data": {
      "text/plain": [
       "array([  1.58000000e+01,   1.54000000e+01,   1.50000000e+01,\n",
       "         1.46000000e+01,   1.42000000e+01,   1.38000000e+01,\n",
       "         1.34000000e+01,   1.30000000e+01,   1.26000000e+01,\n",
       "         1.22000000e+01,   1.18000000e+01,   1.14000000e+01,\n",
       "         1.10000000e+01,   1.06000000e+01,   1.02000000e+01,\n",
       "         9.80000000e+00,   9.40000000e+00,   9.00000000e+00,\n",
       "         8.60000000e+00,   8.20000000e+00,   7.80000000e+00,\n",
       "         7.40000000e+00,   7.00000000e+00,   6.60000000e+00,\n",
       "         6.20000000e+00,   5.80000000e+00,   5.40000000e+00,\n",
       "         5.00000000e+00,   4.60000000e+00,   4.20000000e+00,\n",
       "         3.80000000e+00,   3.40000000e+00,   3.00000000e+00,\n",
       "         2.60000000e+00,   2.20000000e+00,   1.80000000e+00,\n",
       "         1.40000000e+00,   1.00000000e+00,   6.00000000e-01,\n",
       "         2.00000000e-01,  -2.01254646e+00,  -5.44066082e+00,\n",
       "        -8.22107857e+00,  -1.04970697e+01,  -1.23802130e+01,\n",
       "        -1.39574061e+01,  -1.52963249e+01,  -1.64496755e+01,\n",
       "        -1.74585055e+01,  -1.83547827e+01,  -1.91634036e+01,\n",
       "        -1.99037579e+01,  -2.05909460e+01,  -2.12367282e+01,\n",
       "        -2.18502635e+01,  -2.24386849e+01,  -2.30075476e+01,\n",
       "        -2.35611779e+01,  -2.41029452e+01,  -2.46354736e+01,\n",
       "        -2.51608067e+01,  -2.56805362e+01,  -2.61959016e+01,\n",
       "        -2.67078681e+01,  -2.72171876e+01,  -2.77244457e+01,\n",
       "        -2.82300983e+01,  -2.87345005e+01,  -2.92379290e+01,\n",
       "        -2.97405991e+01,  -3.02426786e+01,  -3.07442981e+01,\n",
       "        -3.12455593e+01,  -3.17465416e+01,  -3.22473066e+01,\n",
       "        -3.27479024e+01,  -3.32483664e+01,  -3.37487277e+01,\n",
       "        -3.42490092e+01,  -3.47492283e+01,  -3.52493990e+01,\n",
       "        -3.57495320e+01,  -3.62496355e+01,  -3.67497161e+01,\n",
       "        -3.72497789e+01,  -3.77498278e+01,  -3.82498659e+01,\n",
       "        -3.87498956e+01,  -3.92499187e+01,  -3.97499367e+01,\n",
       "        -4.02499507e+01,  -4.07499616e+01,  -4.12499701e+01,\n",
       "        -4.17499767e+01,  -4.22499819e+01,  -4.27499859e+01,\n",
       "        -4.32499890e+01,  -4.37499914e+01,  -4.42499933e+01,\n",
       "        -4.47499948e+01,  -4.52499960e+01,  -4.57499968e+01,\n",
       "        -4.62499975e+01,  -4.67499981e+01,  -4.72499985e+01,\n",
       "        -4.77499988e+01,  -4.82499991e+01,  -4.87499993e+01,\n",
       "        -4.92499995e+01,  -4.97499996e+01,  -5.02499997e+01,\n",
       "        -5.07499997e+01,  -5.12499998e+01,  -5.17499998e+01,\n",
       "        -5.22499999e+01,  -5.27499999e+01,  -5.32499999e+01,\n",
       "        -5.37499999e+01,  -5.42500000e+01,  -5.47500000e+01,\n",
       "        -5.52500000e+01,  -5.57500000e+01,  -5.62500000e+01,\n",
       "        -5.67500000e+01,  -5.72500000e+01,  -5.77500000e+01,\n",
       "        -5.82500000e+01,  -5.87500000e+01,  -5.92500000e+01,\n",
       "        -5.97500000e+01,  -6.02500000e+01,  -6.07500000e+01,\n",
       "        -6.12500000e+01,  -6.17500000e+01,  -6.22500000e+01,\n",
       "        -6.27500000e+01,  -6.32500000e+01,  -6.37500000e+01,\n",
       "        -6.42500000e+01,  -6.47500000e+01,  -6.52500000e+01,\n",
       "        -6.57500000e+01,  -6.62500000e+01,  -6.67500000e+01,\n",
       "        -6.72500000e+01,  -6.77500000e+01,  -6.82500000e+01,\n",
       "        -6.87500000e+01,  -6.92500000e+01,  -6.97500000e+01,\n",
       "        -7.02500000e+01,  -7.07500000e+01,  -7.12500000e+01,\n",
       "        -7.17500000e+01,  -7.22500000e+01,  -7.27500000e+01,\n",
       "        -7.32500000e+01,  -7.37500000e+01,  -7.42500000e+01,\n",
       "        -7.47500000e+01,  -7.52500000e+01,  -7.57500000e+01,\n",
       "        -7.62500000e+01,  -7.67500000e+01,  -7.72500000e+01,\n",
       "        -7.77500000e+01,  -7.82500000e+01,  -7.87500000e+01,\n",
       "        -7.92500000e+01,  -7.97500000e+01,  -8.02500000e+01,\n",
       "        -8.07500000e+01,  -8.12500000e+01,  -8.17500000e+01,\n",
       "        -8.22500000e+01,  -8.27500000e+01,  -8.32500000e+01,\n",
       "        -8.37500000e+01,  -8.42500000e+01,  -8.47500000e+01,\n",
       "        -8.52500000e+01,  -8.57500000e+01,  -8.62500000e+01,\n",
       "        -8.67500000e+01,  -8.72500000e+01,  -8.77500000e+01,\n",
       "        -8.82500000e+01,  -8.87500000e+01,  -8.92500000e+01,\n",
       "        -8.97500000e+01,  -9.02500000e+01,  -9.07500000e+01,\n",
       "        -9.12500000e+01,  -9.17500000e+01,  -9.22500000e+01,\n",
       "        -9.27500000e+01,  -9.32500000e+01,  -9.37500000e+01,\n",
       "        -9.42500000e+01,  -9.47500000e+01,   1.54000000e+01,\n",
       "         1.50143959e+01,   1.46288252e+01,   1.42433216e+01,\n",
       "         1.38579189e+01,   1.34726513e+01,   1.30875534e+01,\n",
       "         1.27026603e+01,   1.23180078e+01,   1.19336322e+01,\n",
       "         1.15495703e+01,   1.11658594e+01,   1.07825373e+01,\n",
       "         1.03996421e+01,   1.00172120e+01,   9.63528497e+00,\n",
       "         9.25389883e+00,   8.87309064e+00,   8.49289654e+00,\n",
       "         8.11335135e+00,   7.73448824e+00,   7.35633833e+00,\n",
       "         6.97893033e+00,   6.60229024e+00,   6.22644109e+00,\n",
       "         5.85140273e+00,   5.47719182e+00,   5.10382183e+00,\n",
       "         4.73130319e+00,   4.35964327e+00,   3.98884626e+00,\n",
       "         3.61891240e+00,   3.24983668e+00,   2.88160694e+00,\n",
       "         2.51420112e+00,   2.14757969e+00,   1.78166025e+00,\n",
       "         1.41627868e+00,   1.05117438e+00,   6.85203747e-01,\n",
       "         3.20172591e-01,   3.34947581e-03,  -1.01759921e+00,\n",
       "        -3.08821567e+00,  -5.06684296e+00,  -6.91601693e+00,\n",
       "        -8.64538458e+00,  -1.02626385e+01,  -1.17753255e+01,\n",
       "        -1.31912116e+01,  -1.45181348e+01,  -1.57637560e+01,\n",
       "        -1.69353550e+01,  -1.80397074e+01,  -1.90830316e+01,\n",
       "        -2.00709862e+01,  -2.10086981e+01,  -2.19008074e+01,\n",
       "        -2.27515166e+01,  -2.35646410e+01,  -2.43436527e+01,\n",
       "        -2.50917196e+01,  -2.58117384e+01,  -2.65063611e+01,\n",
       "        -2.71780178e+01,  -2.78289355e+01,  -2.84611537e+01,\n",
       "        -2.90765383e+01,  -2.96767947e+01,  -3.02634784e+01,\n",
       "        -3.08380061e+01,  -3.14016657e+01,  -3.19556260e+01,\n",
       "        -3.25009454e+01,  -3.30385809e+01,  -3.35693960e+01,\n",
       "        -3.40941689e+01,  -3.46135990e+01,  -3.51283146e+01,\n",
       "        -3.56388785e+01,  -3.61457942e+01,  -3.66495112e+01,\n",
       "        -3.71504302e+01,  -3.76489075e+01,  -3.81452591e+01,\n",
       "        -3.86397646e+01,  -3.91326709e+01,  -3.96241950e+01,\n",
       "        -4.01145271e+01,  -4.06038331e+01,  -4.10922568e+01,\n",
       "        -4.15799224e+01,  -4.20669360e+01,  -4.25533876e+01,\n",
       "        -4.30393525e+01,  -4.35248926e+01,  -4.40100579e+01,\n",
       "        -4.44948874e+01,  -4.49794102e+01,  -4.54636464e+01,\n",
       "        -4.59476079e+01,  -4.64312989e+01,  -4.69147169e+01,\n",
       "        -4.73978531e+01,  -4.78806931e+01,  -4.83632170e+01,\n",
       "        -4.88454000e+01,  -4.93272132e+01,  -4.98086232e+01,\n",
       "        -5.02895930e+01,  -5.07700820e+01,  -5.12500466e+01,\n",
       "        -5.17294400e+01,  -5.22082129e+01,  -5.26863132e+01,\n",
       "        -5.31636869e+01,  -5.36402777e+01,  -5.41160276e+01,\n",
       "        -5.45908768e+01,  -5.50647641e+01,  -5.55376271e+01,\n",
       "        -5.60094023e+01,  -5.64800252e+01,  -5.69494308e+01,\n",
       "        -5.74175532e+01,  -5.78843267e+01,  -5.83496848e+01,\n",
       "        -5.88135616e+01,  -5.92758911e+01,  -5.97366076e+01,\n",
       "        -6.01971682e+01,  -6.06578046e+01,  -6.11201626e+01,\n",
       "        -6.15842158e+01,  -6.20499356e+01,  -6.25172918e+01,\n",
       "        -6.29862526e+01,  -6.34567846e+01,  -6.39288527e+01,\n",
       "        -6.44024209e+01,  -6.48774517e+01,  -6.53539065e+01,\n",
       "        -6.58317460e+01,  -6.63109300e+01,  -6.67914176e+01,\n",
       "        -6.72731677e+01,  -6.77561386e+01,  -6.82402887e+01,\n",
       "        -6.87255763e+01,  -6.92119602e+01,  -6.96993992e+01,\n",
       "        -7.01878530e+01,  -7.06772820e+01,  -7.11676476e+01,\n",
       "        -7.16589124e+01,  -7.21510402e+01,  -7.26439964e+01,\n",
       "        -7.31377483e+01,  -7.36322651e+01,  -7.41275180e+01,\n",
       "        -7.46234808e+01,  -7.51201298e+01,  -7.56174440e+01,\n",
       "        -7.61154055e+01,  -7.66139998e+01,  -7.71132155e+01,\n",
       "        -7.76130453e+01,  -7.81134856e+01,  -7.86145372e+01,\n",
       "        -7.91162052e+01,  -7.96184995e+01,  -8.01214352e+01,\n",
       "        -8.06250325e+01,  -8.11293172e+01,  -8.16343212e+01,\n",
       "        -8.21400825e+01,  -8.26466457e+01,  -8.31540624e+01,\n",
       "        -8.36623914e+01,  -8.41716991e+01,  -8.46820601e+01,\n",
       "        -8.51935570e+01,  -8.57062816e+01,  -8.62203346e+01,\n",
       "        -8.67358264e+01,  -8.72528774e+01,  -8.77716181e+01,\n",
       "        -8.82921902e+01,  -8.88147464e+01,  -8.93394510e+01,\n",
       "        -8.98664805e+01,  -9.03960239e+01,  -9.09282829e+01,\n",
       "        -9.14634726e+01,  -9.20018222e+01,  -9.25435747e+01,\n",
       "        -9.30889879e+01,  -9.36383348e+01,  -9.41919039e+01,\n",
       "        -9.47500000e+01,   1.58000000e+01,   1.54000000e+01,\n",
       "         1.50000000e+01,   1.46000000e+01,   1.42000000e+01,\n",
       "         1.38000000e+01,   1.34000000e+01,   1.30000000e+01,\n",
       "         1.26000000e+01,   1.22000000e+01,   1.18000000e+01,\n",
       "         1.14000000e+01,   1.10000000e+01,   1.06000000e+01,\n",
       "         1.02000000e+01,   9.80000000e+00,   9.40000000e+00,\n",
       "         9.00000000e+00,   8.60000000e+00,   8.20000000e+00,\n",
       "         7.80000000e+00,   7.40000000e+00,   7.00000000e+00,\n",
       "         6.60000000e+00,   6.20000000e+00,   5.80000000e+00,\n",
       "         5.40000000e+00,   5.00000000e+00,   4.60000000e+00,\n",
       "         4.20000000e+00,   3.80000000e+00,   3.40000000e+00,\n",
       "         3.00000000e+00,   2.60000000e+00,   2.20000000e+00,\n",
       "         1.80000000e+00,   1.40000000e+00,   1.00000000e+00,\n",
       "         6.00000000e-01,   2.00000000e-01,  -2.01254646e+00,\n",
       "        -5.44066082e+00,  -8.22107857e+00,  -1.04970697e+01,\n",
       "        -1.23802130e+01,  -1.39574061e+01,  -1.52963249e+01,\n",
       "        -1.64496755e+01,  -1.74585055e+01,  -1.83547827e+01,\n",
       "        -1.91634036e+01,  -1.99037579e+01,  -2.05909460e+01,\n",
       "        -2.12367282e+01,  -2.18502635e+01,  -2.24386849e+01,\n",
       "        -2.30075476e+01,  -2.35611779e+01,  -2.41029452e+01,\n",
       "        -2.46354736e+01,  -2.51608067e+01,  -2.56805362e+01,\n",
       "        -2.61959016e+01,  -2.67078681e+01,  -2.72171876e+01,\n",
       "        -2.77244457e+01,  -2.82300983e+01,  -2.87345005e+01,\n",
       "        -2.92379290e+01,  -2.97405991e+01,  -3.02426786e+01,\n",
       "        -3.07442981e+01,  -3.12455593e+01,  -3.17465416e+01,\n",
       "        -3.22473066e+01,  -3.27479024e+01,  -3.32483664e+01,\n",
       "        -3.37487277e+01,  -3.42490092e+01,  -3.47492283e+01,\n",
       "        -3.52493990e+01,  -3.57495320e+01,  -3.62496355e+01,\n",
       "        -3.67497161e+01,  -3.72497789e+01,  -3.77498278e+01,\n",
       "        -3.82498659e+01,  -3.87498956e+01,  -3.92499187e+01,\n",
       "        -3.97499367e+01,  -4.02499507e+01,  -4.07499616e+01,\n",
       "        -4.12499701e+01,  -4.17499767e+01,  -4.22499819e+01,\n",
       "        -4.27499859e+01,  -4.32499890e+01,  -4.37499914e+01,\n",
       "        -4.42499933e+01,  -4.47499948e+01,  -4.52499960e+01,\n",
       "        -4.57499968e+01,  -4.62499975e+01,  -4.67499981e+01,\n",
       "        -4.72499985e+01,  -4.77499988e+01,  -4.82499991e+01,\n",
       "        -4.87499993e+01,  -4.92499995e+01,  -4.97499996e+01,\n",
       "        -5.02499997e+01,  -5.07499997e+01,  -5.12499998e+01,\n",
       "        -5.17499998e+01,  -5.22499999e+01,  -5.27499999e+01,\n",
       "        -5.32499999e+01,  -5.37499999e+01,  -5.42500000e+01,\n",
       "        -5.47500000e+01,  -5.52500000e+01,  -5.57500000e+01,\n",
       "        -5.62500000e+01,  -5.67500000e+01,  -5.72500000e+01,\n",
       "        -5.77500000e+01,  -5.82500000e+01,  -5.87500000e+01,\n",
       "        -5.92500000e+01,  -5.97500000e+01,  -6.02500000e+01,\n",
       "        -6.07500000e+01,  -6.12500000e+01,  -6.17500000e+01,\n",
       "        -6.22500000e+01,  -6.27500000e+01,  -6.32500000e+01,\n",
       "        -6.37500000e+01,  -6.42500000e+01,  -6.47500000e+01,\n",
       "        -6.52500000e+01,  -6.57500000e+01,  -6.62500000e+01,\n",
       "        -6.67500000e+01,  -6.72500000e+01,  -6.77500000e+01,\n",
       "        -6.82500000e+01,  -6.87500000e+01,  -6.92500000e+01,\n",
       "        -6.97500000e+01,  -7.02500000e+01,  -7.07500000e+01,\n",
       "        -7.12500000e+01,  -7.17500000e+01,  -7.22500000e+01,\n",
       "        -7.27500000e+01,  -7.32500000e+01,  -7.37500000e+01,\n",
       "        -7.42500000e+01,  -7.47500000e+01,  -7.52500000e+01,\n",
       "        -7.57500000e+01,  -7.62500000e+01,  -7.67500000e+01,\n",
       "        -7.72500000e+01,  -7.77500000e+01,  -7.82500000e+01,\n",
       "        -7.87500000e+01,  -7.92500000e+01,  -7.97500000e+01,\n",
       "        -8.02500000e+01,  -8.07500000e+01,  -8.12500000e+01,\n",
       "        -8.17500000e+01,  -8.22500000e+01,  -8.27500000e+01,\n",
       "        -8.32500000e+01,  -8.37500000e+01,  -8.42500000e+01,\n",
       "        -8.47500000e+01,  -8.52500000e+01,  -8.57500000e+01,\n",
       "        -8.62500000e+01,  -8.67500000e+01,  -8.72500000e+01,\n",
       "        -8.77500000e+01,  -8.82500000e+01,  -8.87500000e+01,\n",
       "        -8.92500000e+01,  -8.97500000e+01,  -9.02500000e+01,\n",
       "        -9.07500000e+01,  -9.12500000e+01,  -9.17500000e+01,\n",
       "        -9.22500000e+01,  -9.27500000e+01,  -9.32500000e+01,\n",
       "        -9.37500000e+01,  -9.42500000e+01,  -9.47500000e+01])"
      ]
     },
     "execution_count": 29,
     "metadata": {},
     "output_type": "execute_result"
    }
   ],
   "source": [
    "z3"
   ]
  },
  {
   "cell_type": "code",
   "execution_count": 33,
   "metadata": {},
   "outputs": [
    {
     "name": "stdout",
     "output_type": "stream",
     "text": [
      "20698.703211121297\n",
      "20698.703211121297\n"
     ]
    },
    {
     "data": {
      "text/plain": [
       "20698.703211121297"
      ]
     },
     "execution_count": 33,
     "metadata": {},
     "output_type": "execute_result"
    }
   ],
   "source": [
    "shore = find_shoreline2(grid.x_of_node[grid.core_nodes], z3[grid.core_nodes], 0.)\n",
    "shore"
   ]
  },
  {
   "cell_type": "code",
   "execution_count": 35,
   "metadata": {},
   "outputs": [
    {
     "name": "stdout",
     "output_type": "stream",
     "text": [
      "20698.703211121297\n",
      "20698.703211121297\n"
     ]
    },
    {
     "data": {
      "text/plain": [
       "20698.703211121297"
      ]
     },
     "execution_count": 35,
     "metadata": {},
     "output_type": "execute_result"
    }
   ],
   "source": [
    "shore1 = find_shoreline2(grid.x_of_node[grid.core_nodes], z2[grid.core_nodes], 0.)\n",
    "shore1"
   ]
  },
  {
   "cell_type": "code",
   "execution_count": 32,
   "metadata": {},
   "outputs": [
    {
     "data": {
      "text/plain": [
       "[<matplotlib.lines.Line2D at 0x113bae5f8>,\n",
       " <matplotlib.lines.Line2D at 0x113bae7b8>,\n",
       " <matplotlib.lines.Line2D at 0x113bb8198>,\n",
       " <matplotlib.lines.Line2D at 0x113bb8fd0>]"
      ]
     },
     "execution_count": 32,
     "metadata": {},
     "output_type": "execute_result"
    },
    {
     "data": {
      "image/png": "[encoded data removed]",
      "text/plain": [
       "<matplotlib.figure.Figure at 0x1139136a0>"
      ]
     },
     "metadata": {},
     "output_type": "display_data"
    }
   ],
   "source": [
    "for time_step in range(1000):\n",
    "    sd.run_one_step(100)\n",
    "    z4 = sd.grid.at_node['topographic__elevation']\n",
    "plt.plot(grid.x_of_node,z1,grid.x_of_node,z, grid.x_of_node,z2, grid.x_of_node,z4)"
   ]
  },
  {
   "cell_type": "code",
   "execution_count": 36,
   "metadata": {},
   "outputs": [
    {
     "data": {
      "text/plain": [
       "array([ 375.        ,  375.        ,  375.        ,  375.        ,\n",
       "        375.        ,  375.        ,  375.        ,  375.        ,\n",
       "        375.        ,  375.        ,  375.        ,  375.        ,\n",
       "        375.        ,  375.        ,  375.        ,  375.        ,\n",
       "        375.        ,  375.        ,  375.        ,  375.        ,\n",
       "        375.        ,  375.        ,  375.        ,  375.        ,\n",
       "        375.        ,  375.        ,  375.        ,  375.        ,\n",
       "        375.        ,  375.        ,  375.        ,  375.        ,\n",
       "        375.        ,  375.        ,  375.        ,  375.        ,\n",
       "        375.        ,  375.        ,  375.        ,  375.        ,\n",
       "         40.42965861,   41.60630766,   44.35804106,   47.68354863,\n",
       "         51.30376959,   55.09805252,   58.99792534,   62.95715194,\n",
       "         66.94116355,   70.92271752,   74.87986976,   78.79488661,\n",
       "         82.6535598 ,   86.44470157,   90.15972624,   93.7922802 ,\n",
       "         97.33790641,  100.79373944,  104.15823109,  107.43090662,\n",
       "        110.61215166,  113.70302859,  116.7051207 ,  119.62040167,\n",
       "        122.45112783,  125.19975022,  127.8688438 ,  130.46105127,\n",
       "        132.97903895,  135.42546284,  137.80294289,  140.1140439 ,\n",
       "        142.36126183,  144.54701435,  146.6736347 ,  148.74336819,\n",
       "        150.75837064,  152.72070837,  154.63235929,  156.49521483,\n",
       "        158.31108246,  160.08168851,  161.8086814 ,  163.49363484,\n",
       "        165.13805122,  166.7433649 ,  168.31094554,  169.84210123,\n",
       "        171.33808163,  172.80008093,  174.22924068,  175.62665251,\n",
       "        176.99336069,  178.33036459,  179.63862098,  180.91904622,\n",
       "        182.17251833,  183.39987891,  184.60193501,  185.77946084,\n",
       "        186.93319944,  188.06386417,  189.1721402 ,  190.25868587,\n",
       "        191.32413399,  192.36909305,  193.39414838,  194.39986325,\n",
       "        195.38677986,  196.35542036,  197.30628773,  198.23986667,\n",
       "        199.15662442,  200.05701155,  200.94146265,  201.8103971 ,\n",
       "        202.66421966,  203.50332116,  204.32807905,  205.13885801,\n",
       "        205.93601044,  206.719877  ,  207.49078709,  208.24905931,\n",
       "        208.99500191,  209.72891318,  210.45108187,  211.16178756,\n",
       "        211.86130104,  212.54988463,  212.34119173,  211.23822129,\n",
       "        210.12895327,  209.01387592,  207.89345871,  206.76815302,\n",
       "        205.63839292,  204.5045958 ,  203.36716305,  202.22648065,\n",
       "        201.08291982,  199.93683751,  198.78857703,  197.63846848,\n",
       "        196.48682935,  195.33396488,  194.18016864,  193.02572286,\n",
       "        191.87089893,  190.71595773,  189.5611501 ,  188.40671712,\n",
       "        187.25289054,  186.09989308,  184.94793876,  183.79723322,\n",
       "        182.64797402,  181.50035094,  180.35454624,  179.21073493,\n",
       "        178.06908504,  176.92975786,  175.79290817,  174.65868447,\n",
       "        173.52722922,  172.39867901,  171.2731648 ,  170.15081212,\n",
       "        169.03174122,  167.91606727,  166.80390056,  165.69534663,\n",
       "        164.59050646,  163.48947659,  162.39234933,  161.29921284,\n",
       "        160.21015132,  159.12524511,  158.04457085,  156.96820157,\n",
       "        155.89620686,  154.82865294,  153.76560278,  152.70711626,\n",
       "        151.65325018,  150.60405847,  149.55959219,  148.5198997 ,\n",
       "        147.48502671,  146.45501638,  145.42990939,  144.40974405,\n",
       "        143.39455637,  142.38438012,  141.37924692,  140.37918632,\n",
       "        139.38422585,  138.39439108,  137.40970573,  136.43019168,\n",
       "        375.        ,  375.        ,  375.        ,  375.        ,\n",
       "        375.        ,  375.        ,  375.        ,  375.        ,\n",
       "        375.        ,  375.        ,  375.        ,  375.        ,\n",
       "        375.        ,  375.        ,  375.        ,  375.        ,\n",
       "        375.        ,  375.        ,  375.        ,  375.        ,\n",
       "        375.        ,  375.        ,  375.        ,  375.        ,\n",
       "        375.        ,  375.        ,  375.        ,  375.        ,\n",
       "        375.        ,  375.        ,  375.        ,  375.        ,\n",
       "        375.        ,  375.        ,  375.        ,  375.        ,\n",
       "        375.        ,  375.        ,  375.        ,  375.        ,\n",
       "         40.42965861,   41.60630766,   44.35804106,   47.68354863,\n",
       "         51.30376959,   55.09805252,   58.99792534,   62.95715194,\n",
       "         66.94116355,   70.92271752,   74.87986976,   78.79488661,\n",
       "         82.6535598 ,   86.44470157,   90.15972624,   93.7922802 ,\n",
       "         97.33790641,  100.79373944,  104.15823109,  107.43090662,\n",
       "        110.61215166,  113.70302859,  116.7051207 ,  119.62040167,\n",
       "        122.45112783,  125.19975022,  127.8688438 ,  130.46105127,\n",
       "        132.97903895,  135.42546284,  137.80294289,  140.1140439 ,\n",
       "        142.36126183,  144.54701435,  146.6736347 ,  148.74336819,\n",
       "        150.75837064,  152.72070837,  154.63235929,  156.49521483,\n",
       "        158.31108246,  160.08168851,  161.8086814 ,  163.49363484,\n",
       "        165.13805122,  166.7433649 ,  168.31094554,  169.84210123,\n",
       "        171.33808163,  172.80008093,  174.22924068,  175.62665251,\n",
       "        176.99336069,  178.33036459,  179.63862098,  180.91904622,\n",
       "        182.17251833,  183.39987891,  184.60193501,  185.77946084,\n",
       "        186.93319944,  188.06386417,  189.1721402 ,  190.25868587,\n",
       "        191.32413399,  192.36909305,  193.39414838,  194.39986325,\n",
       "        195.38677986,  196.35542036,  197.30628773,  198.23986667,\n",
       "        199.15662442,  200.05701155,  200.94146265,  201.8103971 ,\n",
       "        202.66421966,  203.50332116,  204.32807905,  205.13885801,\n",
       "        205.93601044,  206.719877  ,  207.49078709,  208.24905931,\n",
       "        208.99500191,  209.72891318,  210.45108187,  211.16178756,\n",
       "        211.86130104,  212.54988463,  212.34119173,  211.23822129,\n",
       "        210.12895327,  209.01387592,  207.89345871,  206.76815302,\n",
       "        205.63839292,  204.5045958 ,  203.36716305,  202.22648065,\n",
       "        201.08291982,  199.93683751,  198.78857703,  197.63846848,\n",
       "        196.48682935,  195.33396488,  194.18016864,  193.02572286,\n",
       "        191.87089893,  190.71595773,  189.5611501 ,  188.40671712,\n",
       "        187.25289054,  186.09989308,  184.94793876,  183.79723322,\n",
       "        182.64797402,  181.50035094,  180.35454624,  179.21073493,\n",
       "        178.06908504,  176.92975786,  175.79290817,  174.65868447,\n",
       "        173.52722922,  172.39867901,  171.2731648 ,  170.15081212,\n",
       "        169.03174122,  167.91606727,  166.80390056,  165.69534663,\n",
       "        164.59050646,  163.48947659,  162.39234933,  161.29921284,\n",
       "        160.21015132,  159.12524511,  158.04457085,  156.96820157,\n",
       "        155.89620686,  154.82865294,  153.76560278,  152.70711626,\n",
       "        151.65325018,  150.60405847,  149.55959219,  148.5198997 ,\n",
       "        147.48502671,  146.45501638,  145.42990939,  144.40974405,\n",
       "        143.39455637,  142.38438012,  141.37924692,  140.37918632,\n",
       "        139.38422585,  138.39439108,  137.40970573,  136.43019168,\n",
       "        375.        ,  375.        ,  375.        ,  375.        ,\n",
       "        375.        ,  375.        ,  375.        ,  375.        ,\n",
       "        375.        ,  375.        ,  375.        ,  375.        ,\n",
       "        375.        ,  375.        ,  375.        ,  375.        ,\n",
       "        375.        ,  375.        ,  375.        ,  375.        ,\n",
       "        375.        ,  375.        ,  375.        ,  375.        ,\n",
       "        375.        ,  375.        ,  375.        ,  375.        ,\n",
       "        375.        ,  375.        ,  375.        ,  375.        ,\n",
       "        375.        ,  375.        ,  375.        ,  375.        ,\n",
       "        375.        ,  375.        ,  375.        ,  375.        ,\n",
       "         40.42965861,   41.60630766,   44.35804106,   47.68354863,\n",
       "         51.30376959,   55.09805252,   58.99792534,   62.95715194,\n",
       "         66.94116355,   70.92271752,   74.87986976,   78.79488661,\n",
       "         82.6535598 ,   86.44470157,   90.15972624,   93.7922802 ,\n",
       "         97.33790641,  100.79373944,  104.15823109,  107.43090662,\n",
       "        110.61215166,  113.70302859,  116.7051207 ,  119.62040167,\n",
       "        122.45112783,  125.19975022,  127.8688438 ,  130.46105127,\n",
       "        132.97903895,  135.42546284,  137.80294289,  140.1140439 ,\n",
       "        142.36126183,  144.54701435,  146.6736347 ,  148.74336819,\n",
       "        150.75837064,  152.72070837,  154.63235929,  156.49521483,\n",
       "        158.31108246,  160.08168851,  161.8086814 ,  163.49363484,\n",
       "        165.13805122,  166.7433649 ,  168.31094554,  169.84210123,\n",
       "        171.33808163,  172.80008093,  174.22924068,  175.62665251,\n",
       "        176.99336069,  178.33036459,  179.63862098,  180.91904622,\n",
       "        182.17251833,  183.39987891,  184.60193501,  185.77946084,\n",
       "        186.93319944,  188.06386417,  189.1721402 ,  190.25868587,\n",
       "        191.32413399,  192.36909305,  193.39414838,  194.39986325,\n",
       "        195.38677986,  196.35542036,  197.30628773,  198.23986667,\n",
       "        199.15662442,  200.05701155,  200.94146265,  201.8103971 ,\n",
       "        202.66421966,  203.50332116,  204.32807905,  205.13885801,\n",
       "        205.93601044,  206.719877  ,  207.49078709,  208.24905931,\n",
       "        208.99500191,  209.72891318,  210.45108187,  211.16178756,\n",
       "        211.86130104,  212.54988463,  212.34119173,  211.23822129,\n",
       "        210.12895327,  209.01387592,  207.89345871,  206.76815302,\n",
       "        205.63839292,  204.5045958 ,  203.36716305,  202.22648065,\n",
       "        201.08291982,  199.93683751,  198.78857703,  197.63846848,\n",
       "        196.48682935,  195.33396488,  194.18016864,  193.02572286,\n",
       "        191.87089893,  190.71595773,  189.5611501 ,  188.40671712,\n",
       "        187.25289054,  186.09989308,  184.94793876,  183.79723322,\n",
       "        182.64797402,  181.50035094,  180.35454624,  179.21073493,\n",
       "        178.06908504,  176.92975786,  175.79290817,  174.65868447,\n",
       "        173.52722922,  172.39867901,  171.2731648 ,  170.15081212,\n",
       "        169.03174122,  167.91606727,  166.80390056,  165.69534663,\n",
       "        164.59050646,  163.48947659,  162.39234933,  161.29921284,\n",
       "        160.21015132,  159.12524511,  158.04457085,  156.96820157,\n",
       "        155.89620686,  154.82865294,  153.76560278,  152.70711626,\n",
       "        151.65325018,  150.60405847,  149.55959219,  148.5198997 ,\n",
       "        147.48502671,  146.45501638,  145.42990939,  144.40974405,\n",
       "        143.39455637,  142.38438012,  141.37924692,  140.37918632,\n",
       "        139.38422585,  138.39439108,  137.40970573,  136.43019168])"
      ]
     },
     "execution_count": 36,
     "metadata": {},
     "output_type": "execute_result"
    }
   ],
   "source": [
    "k"
   ]
  },
  {
   "cell_type": "code",
   "execution_count": 37,
   "metadata": {},
   "outputs": [
    {
     "data": {
      "text/plain": [
       "[<matplotlib.lines.Line2D at 0x113cf1b38>]"
      ]
     },
     "execution_count": 37,
     "metadata": {},
     "output_type": "execute_result"
    },
    {
     "data": {
      "image/png": "[encoded data removed]",
      "text/plain": [
       "<matplotlib.figure.Figure at 0x113bbf978>"
      ]
     },
     "metadata": {},
     "output_type": "display_data"
    }
   ],
   "source": [
    "# z1 = sd.grid.at_node['topographic__elevation']\n",
    "plt.plot(grid.x_of_node,z1-z,)"
   ]
  },
  {
   "cell_type": "code",
   "execution_count": 38,
   "metadata": {},
   "outputs": [
    {
     "data": {
      "text/plain": [
       "array([ 375.        ,  375.        ,  375.        ,  375.        ,\n",
       "        375.        ,  375.        ,  375.        ,  375.        ,\n",
       "        375.        ,  375.        ,  375.        ,  375.        ,\n",
       "        375.        ,  375.        ,  375.        ,  375.        ,\n",
       "        375.        ,  375.        ,  375.        ,  375.        ,\n",
       "        375.        ,  375.        ,  375.        ,  375.        ,\n",
       "        375.        ,  375.        ,  375.        ,  375.        ,\n",
       "        375.        ,  375.        ,  375.        ,  375.        ,\n",
       "        375.        ,  375.        ,  375.        ,  375.        ,\n",
       "        375.        ,  375.        ,  375.        ,  375.        ,\n",
       "        -22.92056827,    0.66650525,   12.54573736,   20.78100141,\n",
       "         27.44756646,   33.30836222,   38.70082388,   43.79097037,\n",
       "         48.66566598,   53.37184145,   57.93514249,   62.3695444 ,\n",
       "         66.68260044,   70.87841407,   74.95935332,   78.92703899,\n",
       "         82.78290149,   86.52847743,   90.16554931,   93.6961919 ,\n",
       "         97.12276517,  100.44787886,  103.67434418,  106.80512195,\n",
       "        109.84327283,  112.79191232,  115.65417205,  118.43316748,\n",
       "        121.13197193,  123.75359622,  126.30097333,  128.77694726,\n",
       "        131.18426542,  133.52557391,  135.80341506,  138.02022678,\n",
       "        140.17834336,  142.27999725,  144.32732163,  146.32235357,\n",
       "        148.26703751,  150.16322898,  152.01269844,  153.81713518,\n",
       "        155.57815115,  157.29728477,  158.97600458,  160.61571279,\n",
       "        162.21774874,  163.78339206,  165.31386588,  166.81033967,\n",
       "        168.27393212,  169.70571371,  171.10670928,  172.4779003 ,\n",
       "        173.82022715,  175.1345912 ,  176.42185679,  177.68285306,\n",
       "        178.91837577,  180.12918889,  181.31602617,  182.47959265,\n",
       "        183.62056602,  184.7395979 ,  185.83731513,  186.9143209 ,\n",
       "        187.97119588,  189.0084992 ,  190.02676953,  191.02652592,\n",
       "        192.00826874,  192.97248048,  193.91962655,  194.85015605,\n",
       "        195.76450245,  196.66308427,  197.54630573,  198.41455734,\n",
       "        199.2682165 ,  200.10764801,  200.93320462,  201.74522752,\n",
       "        202.5440468 ,  203.3299819 ,  204.10334204,  204.86442662,\n",
       "        205.61352562,  206.35091995,  206.21585653,  205.21044539,\n",
       "        204.19683182,  203.17555078,  202.14711701,  201.1120258 ,\n",
       "        200.07075379,  199.02375967,  197.97148487,  196.91435428,\n",
       "        195.85277681,  194.78714607,  193.71784091,  192.64522599,\n",
       "        191.56965232,  190.49145776,  189.41096752,  188.32849462,\n",
       "        187.24434037,  186.15879474,  185.07213683,  183.98463527,\n",
       "        182.89654853,  181.80812538,  180.71960517,  179.63121818,\n",
       "        178.54318599,  177.45572173,  176.3690304 ,  175.28330917,\n",
       "        174.19874765,  173.11552813,  172.03382588,  170.95380935,\n",
       "        169.87564044,  168.79947471,  167.72546158,  166.6537446 ,\n",
       "        165.58446158,  164.51774484,  163.45372136,  162.39251298,\n",
       "        161.33423658,  160.27900424,  159.22692338,  158.17809697,\n",
       "        157.13262362,  156.09059775,  155.05210976,  154.01724611,\n",
       "        152.98608949,  151.95871893,  150.93520992,  149.91563455,\n",
       "        148.90006157,  147.88855657,  146.88118203,  145.87799743,\n",
       "        144.87905939,  143.88442171,  142.8941355 ,  141.90824923,\n",
       "        140.92680887,  139.94985792,  138.97743754,  138.00958657,\n",
       "        137.04634166,  136.0877373 ,  135.13380593,  134.18457796,\n",
       "        375.        ,  375.        ,  375.        ,  375.        ,\n",
       "        375.        ,  375.        ,  375.        ,  375.        ,\n",
       "        375.        ,  375.        ,  375.        ,  375.        ,\n",
       "        375.        ,  375.        ,  375.        ,  375.        ,\n",
       "        375.        ,  375.        ,  375.        ,  375.        ,\n",
       "        375.        ,  375.        ,  375.        ,  375.        ,\n",
       "        375.        ,  375.        ,  375.        ,  375.        ,\n",
       "        375.        ,  375.        ,  375.        ,  375.        ,\n",
       "        375.        ,  375.        ,  375.        ,  375.        ,\n",
       "        375.        ,  375.        ,  375.        ,  375.        ,\n",
       "        375.        ,  375.        ,   36.50593881,   52.05803794,\n",
       "         57.07516213,   60.97103591,   64.51853541,   67.83880029,\n",
       "         70.98437649,   73.9835462 ,   76.85776024,   79.62661146,\n",
       "         82.30838357,   84.9194619 ,   87.47376495,   89.98251501,\n",
       "         92.45433273,   94.89553833,   97.31054206,   99.70224099,\n",
       "        102.07237612,  104.42183134,  106.75087214,  109.05933036,\n",
       "        111.34674412,  113.61246237,  115.85572211,  118.07570495,\n",
       "        120.27157825,  122.44252472,  124.58776345,  126.70656464,\n",
       "        128.79825953,  130.86224689,  132.89799675,  134.90505235,\n",
       "        136.88303044,  138.83162058,  140.7505836 ,  142.63974941,\n",
       "        144.49901441,  146.32833853,  148.12774207,  149.89730235,\n",
       "        151.63715028,  153.34746695,  155.02848007,  156.68046058,\n",
       "        158.30371929,  159.89860348,  161.46549379,  163.00480104,\n",
       "        164.51696331,  166.00244303,  167.46172433,  168.89531043,\n",
       "        170.3037212 ,  171.68749092,  173.04716609,  174.38330346,\n",
       "        175.69646813,  176.98723185,  178.25617139,  179.50386703,\n",
       "        180.73090125,  181.93785743,  183.12531868,  184.29386682,\n",
       "        185.44408138,  186.57653876,  187.69181136,  188.79046691,\n",
       "        189.87306777,  190.94017038,  191.99232463,  193.03007345,\n",
       "        194.05395233,  195.06448891,  196.06220263,  197.04760437,\n",
       "        198.02119617,  198.98347094,  199.93491219,  200.87599381,\n",
       "        201.80717983,  202.72892425,  203.64167084,  204.545853  ,\n",
       "        205.44189357,  206.33020432,  206.48284236,  205.78110836,\n",
       "        205.05529045,  204.30628497,  203.53498036,  202.74225402,\n",
       "        201.92897253,  201.09599123,  200.24415363,  199.37429081,\n",
       "        198.48722091,  197.5837485 ,  196.66466401,  195.73074315,\n",
       "        194.78274629,  193.82141784,  192.84748566,  191.8616604 ,\n",
       "        190.86463494,  189.85708376,  188.83966234,  187.81300658,\n",
       "        186.77773226,  185.73443444,  184.68368697,  183.62604195,\n",
       "        182.56202924,  181.49215599,  180.41690619,  179.33674021,\n",
       "        178.25209442,  177.16338078,  176.07098647,  174.97527356,\n",
       "        173.87657864,  172.77521255,  171.6714601 ,  170.56557976,\n",
       "        169.4578035 ,  168.34833647,  167.23735691,  166.12501589,\n",
       "        165.01143724,  163.89671737,  162.78092517,  161.664102  ,\n",
       "        160.5462616 ,  159.42739007,  158.30744593,  157.18636012,\n",
       "        156.06403614,  154.94035015,  153.81515112,  152.68826108,\n",
       "        151.55947537,  150.42856294,  149.29526673,  148.1593041 ,\n",
       "        147.02036734,  145.87812418,  144.73221846,  143.58227074,\n",
       "        142.42787907,  141.26861976,  140.10404811,  138.93369932,\n",
       "        137.75708926,  136.57371535,  135.38305732,  134.18457796,\n",
       "        375.        ,  375.        ,  375.        ,  375.        ,\n",
       "        375.        ,  375.        ,  375.        ,  375.        ,\n",
       "        375.        ,  375.        ,  375.        ,  375.        ,\n",
       "        375.        ,  375.        ,  375.        ,  375.        ,\n",
       "        375.        ,  375.        ,  375.        ,  375.        ,\n",
       "        375.        ,  375.        ,  375.        ,  375.        ,\n",
       "        375.        ,  375.        ,  375.        ,  375.        ,\n",
       "        375.        ,  375.        ,  375.        ,  375.        ,\n",
       "        375.        ,  375.        ,  375.        ,  375.        ,\n",
       "        375.        ,  375.        ,  375.        ,  375.        ,\n",
       "        -22.92056827,    0.66650525,   12.54573736,   20.78100141,\n",
       "         27.44756646,   33.30836222,   38.70082388,   43.79097037,\n",
       "         48.66566598,   53.37184145,   57.93514249,   62.3695444 ,\n",
       "         66.68260044,   70.87841407,   74.95935332,   78.92703899,\n",
       "         82.78290149,   86.52847743,   90.16554931,   93.6961919 ,\n",
       "         97.12276517,  100.44787886,  103.67434418,  106.80512195,\n",
       "        109.84327283,  112.79191232,  115.65417205,  118.43316748,\n",
       "        121.13197193,  123.75359622,  126.30097333,  128.77694726,\n",
       "        131.18426542,  133.52557391,  135.80341506,  138.02022678,\n",
       "        140.17834336,  142.27999725,  144.32732163,  146.32235357,\n",
       "        148.26703751,  150.16322898,  152.01269844,  153.81713518,\n",
       "        155.57815115,  157.29728477,  158.97600458,  160.61571279,\n",
       "        162.21774874,  163.78339206,  165.31386588,  166.81033967,\n",
       "        168.27393212,  169.70571371,  171.10670928,  172.4779003 ,\n",
       "        173.82022715,  175.1345912 ,  176.42185679,  177.68285306,\n",
       "        178.91837577,  180.12918889,  181.31602617,  182.47959265,\n",
       "        183.62056602,  184.7395979 ,  185.83731513,  186.9143209 ,\n",
       "        187.97119588,  189.0084992 ,  190.02676953,  191.02652592,\n",
       "        192.00826874,  192.97248048,  193.91962655,  194.85015605,\n",
       "        195.76450245,  196.66308427,  197.54630573,  198.41455734,\n",
       "        199.2682165 ,  200.10764801,  200.93320462,  201.74522752,\n",
       "        202.5440468 ,  203.3299819 ,  204.10334204,  204.86442662,\n",
       "        205.61352562,  206.35091995,  206.21585653,  205.21044539,\n",
       "        204.19683182,  203.17555078,  202.14711701,  201.1120258 ,\n",
       "        200.07075379,  199.02375967,  197.97148487,  196.91435428,\n",
       "        195.85277681,  194.78714607,  193.71784091,  192.64522599,\n",
       "        191.56965232,  190.49145776,  189.41096752,  188.32849462,\n",
       "        187.24434037,  186.15879474,  185.07213683,  183.98463527,\n",
       "        182.89654853,  181.80812538,  180.71960517,  179.63121818,\n",
       "        178.54318599,  177.45572173,  176.3690304 ,  175.28330917,\n",
       "        174.19874765,  173.11552813,  172.03382588,  170.95380935,\n",
       "        169.87564044,  168.79947471,  167.72546158,  166.6537446 ,\n",
       "        165.58446158,  164.51774484,  163.45372136,  162.39251298,\n",
       "        161.33423658,  160.27900424,  159.22692338,  158.17809697,\n",
       "        157.13262362,  156.09059775,  155.05210976,  154.01724611,\n",
       "        152.98608949,  151.95871893,  150.93520992,  149.91563455,\n",
       "        148.90006157,  147.88855657,  146.88118203,  145.87799743,\n",
       "        144.87905939,  143.88442171,  142.8941355 ,  141.90824923,\n",
       "        140.92680887,  139.94985792,  138.97743754,  138.00958657,\n",
       "        137.04634166,  136.0877373 ,  135.13380593,  134.18457796])"
      ]
     },
     "execution_count": 38,
     "metadata": {},
     "output_type": "execute_result"
    }
   ],
   "source": [
    "k1 = sd.grid.at_node['kd']\n",
    "k1"
   ]
  },
  {
   "cell_type": "code",
   "execution_count": 39,
   "metadata": {},
   "outputs": [
    {
     "data": {
      "text/plain": [
       "[<matplotlib.lines.Line2D at 0x113e1bb70>]"
      ]
     },
     "execution_count": 39,
     "metadata": {},
     "output_type": "execute_result"
    },
    {
     "data": {
      "image/png": "[encoded data removed]",
      "text/plain": [
       "<matplotlib.figure.Figure at 0x113de0c50>"
      ]
     },
     "metadata": {},
     "output_type": "display_data"
    }
   ],
   "source": [
    "plt.plot(grid.x_of_node[grid.core_nodes],k1[grid.core_nodes]-k[grid.core_nodes],)"
   ]
  },
  {
   "cell_type": "code",
   "execution_count": null,
   "metadata": {
    "collapsed": true
   },
   "outputs": [],
   "source": [
    "k1-k"
   ]
  },
  {
   "cell_type": "code",
   "execution_count": null,
   "metadata": {
    "collapsed": true
   },
   "outputs": [],
   "source": []
  },
  {
   "cell_type": "code",
   "execution_count": null,
   "metadata": {
    "collapsed": true
   },
   "outputs": [],
   "source": []
  }
 ],
 "metadata": {
  "kernelspec": {
   "display_name": "Python 3",
   "language": "python",
   "name": "python3"
  },
  "language_info": {
   "codemirror_mode": {
    "name": "ipython",
    "version": 3
   },
   "file_extension": ".py",
   "mimetype": "text/x-python",
   "name": "python",
   "nbconvert_exporter": "python",
   "pygments_lexer": "ipython3",
   "version": "3.6.1"
  }
 },
 "nbformat": 4,
 "nbformat_minor": 2
}
