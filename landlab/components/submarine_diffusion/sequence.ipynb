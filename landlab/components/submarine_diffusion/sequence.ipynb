{
 "cells": [
  {
   "cell_type": "code",
   "execution_count": 1,
   "metadata": {
    "collapsed": false
   },
   "outputs": [],
   "source": [
    "%matplotlib inline\n",
    "import matplotlib.pyplot as plt\n",
    "from pprint import pprint"
   ]
  },
  {
   "cell_type": "code",
   "execution_count": 2,
   "metadata": {
    "collapsed": false,
    "scrolled": true
   },
   "outputs": [],
   "source": [
    "from landlab import load_params\n",
    "from landlab.components.submarine_diffusion.sequence_model import SequenceModel"
   ]
  },
  {
   "cell_type": "code",
   "execution_count": 3,
   "metadata": {
    "collapsed": false
   },
   "outputs": [
    {
     "name": "stdout",
     "output_type": "stream",
     "text": [
      "{'clock': {'start': 0.0, 'step': 1000.0, 'stop': 400000.0},\n",
      " 'flexure': {'method': 'airy', 'rho_mantle': 3300.0},\n",
      " 'grid': {'bc': {'bottom': 'closed', 'top': 'closed'},\n",
      "          'origin': 0.0,\n",
      "          'shape': [3, 200],\n",
      "          'spacing': 500.0},\n",
      " 'sea_level': {'amplitude': 80.0,\n",
      "               'mean': 0.0,\n",
      "               'phase': 25000.0,\n",
      "               'wave_length': 100000.0},\n",
      " 'sediments': {'layers': '2,',\n",
      "               'mud_density': 2720.0,\n",
      "               'mud_size': '0.006,',\n",
      "               'sand_density': 2650.0,\n",
      "               'sand_frac': 0.5,\n",
      "               'sand_size': '1.,'},\n",
      " 'submarine_diffusion': {'alpha': 0.0005,\n",
      "                         'plain_slope': 0.008,\n",
      "                         'sediment_load': 50.0,\n",
      "                         'shelf_slope': 0.01,\n",
      "                         'shoreface_height': 5.0,\n",
      "                         'wave_base': 30.0},\n",
      " 'subsidence': {'filepath': 'subsidence_marmara.csv'}}\n"
     ]
    }
   ],
   "source": [
    "params = load_params('marmara.yaml')\n",
    "pprint(params)"
   ]
  },
  {
   "cell_type": "code",
   "execution_count": 4,
   "metadata": {
    "collapsed": false,
    "scrolled": true
   },
   "outputs": [
    {
     "ename": "TypeError",
     "evalue": "__init__() got an unexpected keyword argument 'params'",
     "output_type": "error",
     "traceback": [
      "\u001b[0;31m---------------------------------------------------------------------------\u001b[0m",
      "\u001b[0;31mTypeError\u001b[0m                                 Traceback (most recent call last)",
      "\u001b[0;32m<ipython-input-4-650c590770be>\u001b[0m in \u001b[0;36m<module>\u001b[0;34m()\u001b[0m\n\u001b[0;32m----> 1\u001b[0;31m \u001b[0msequence\u001b[0m \u001b[0;34m=\u001b[0m \u001b[0mSequenceModel\u001b[0m\u001b[0;34m(\u001b[0m\u001b[0mparams\u001b[0m\u001b[0;34m=\u001b[0m\u001b[0mparams\u001b[0m\u001b[0;34m)\u001b[0m\u001b[0;34m\u001b[0m\u001b[0m\n\u001b[0m",
      "\u001b[0;31mTypeError\u001b[0m: __init__() got an unexpected keyword argument 'params'"
     ]
    }
   ],
   "source": [
    "sequence = SequenceModel(params=params)"
   ]
  },
  {
   "cell_type": "code",
   "execution_count": null,
   "metadata": {
    "collapsed": false
   },
   "outputs": [],
   "source": [
    "sequence.run(output='sequence.nc')"
   ]
  },
  {
   "cell_type": "code",
   "execution_count": null,
   "metadata": {
    "collapsed": true
   },
   "outputs": [],
   "source": [
    "layers_z = (sequence.grid.layers.z +\n",
    "            sequence.grid.at_node['bedrock_surface__elevation'][sequence.grid.node_at_cell])"
   ]
  },
  {
   "cell_type": "code",
   "execution_count": null,
   "metadata": {
    "collapsed": false
   },
   "outputs": [],
   "source": [
    "_ = plt.plot(sequence.grid.x_of_node[sequence.grid.core_nodes], layers_z[::2,:].T)"
   ]
  },
  {
   "cell_type": "markdown",
   "metadata": {
    "collapsed": false
   },
   "source": [
    "sequence.grid.at_grid['sea_level__elevation']"
   ]
  },
  {
   "cell_type": "code",
   "execution_count": null,
   "metadata": {
    "collapsed": true
   },
   "outputs": [],
   "source": [
    "_ = plt.plot(sequence.grid.x_of_node[sequence.grid.core_nodes], layers_z.T)"
   ]
  },
  {
   "cell_type": "code",
   "execution_count": null,
   "metadata": {
    "collapsed": false
   },
   "outputs": [],
   "source": []
  },
  {
   "cell_type": "code",
   "execution_count": null,
   "metadata": {
    "collapsed": true
   },
   "outputs": [],
   "source": []
  }
 ],
 "metadata": {
  "kernelspec": {
   "display_name": "Python 2",
   "language": "python",
   "name": "python2"
  },
  "language_info": {
   "codemirror_mode": {
    "name": "ipython",
    "version": 2
   },
   "file_extension": ".py",
   "mimetype": "text/x-python",
   "name": "python",
   "nbconvert_exporter": "python",
   "pygments_lexer": "ipython2",
   "version": "2.7.13"
  }
 },
 "nbformat": 4,
 "nbformat_minor": 2
}
