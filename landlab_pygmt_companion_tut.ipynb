{
 "cells": [
  {
   "cell_type": "markdown",
   "id": "98dc0640",
   "metadata": {},
   "source": [
    "# Using Landlab and PyGMT Together to Create Interactive Erosion Slider"
   ]
  },
  {
   "cell_type": "markdown",
   "id": "ec51fe8c",
   "metadata": {},
   "source": [
    "As we have seen, we can use Landlab and PyGMT together to download data, convert to and from PyGMT to Landlab, and  visualize our output using PyGMT plotting functions. Expanding on our usage of Landlab and PyGMT, in this tutorial we will explore:\n",
    "\n",
    "- PyGMT Visualizations:\n",
    "    - DEM data visualized with grdimage for realistic mapping. \n",
    "    \n",
    "- Flow Path Overlay:\n",
    "    - Threshold-based flow path extraction, visualized with <code>pygmt.plot</code>.\n",
    "    \n",
    "- Interactive Modeling:\n",
    "    - Users can adjust the erodibility factor (K_sp) and observe terrain evolution in real-time with PyGMT maps.\n",
    "\n",
    "## Required packages:\n",
    "- Numpy\n",
    "- PyGMT\n",
    "- Landlab"
   ]
  },
  {
   "cell_type": "markdown",
   "id": "00fab953",
   "metadata": {},
   "source": [
    "We will begin by importing the following packages"
   ]
  },
  {
   "cell_type": "code",
   "execution_count": null,
   "id": "db23df13",
   "metadata": {},
   "outputs": [],
   "source": [
    "import numpy as np\n",
    "import pygmt\n",
    "from landlab import RasterModelGrid\n",
    "from landlab.components import FlowAccumulator, DepressionFinderAndRouter\n",
    "from landlab.plot import imshow_grid\n",
    "from ipywidgets import interact, FloatSlider"
   ]
  },
  {
   "cell_type": "markdown",
   "id": "9d84f81a",
   "metadata": {},
   "source": [
    "We will begin using the <code>RasterModelGrid</code> function from Landlab to create our grid"
   ]
  },
  {
   "cell_type": "code",
   "execution_count": null,
   "id": "2e71b125",
   "metadata": {},
   "outputs": [],
   "source": [
    "#Define grid size and node spacing\n",
    "ncols, nrows = 100, 100\n",
    "dx = 0.01\n",
    "#Create grid object\n",
    "mg = RasterModelGrid((nrows, ncols), dx)"
   ]
  },
  {
   "cell_type": "markdown",
   "id": "d9133de5",
   "metadata": {},
   "source": [
    "Then, loading DEM data from PyGMT. In this example we will use topographic elevation data."
   ]
  },
  {
   "cell_type": "code",
   "execution_count": null,
   "id": "eccf0f4f",
   "metadata": {},
   "outputs": [],
   "source": [
    "#Load DEM data\n",
    "z = mg.add_field(\"topographic__elevation\", np.random.rand(nrows, ncols) * 1000, at=\"node\")"
   ]
  },
  {
   "cell_type": "markdown",
   "id": "9bc9b970",
   "metadata": {},
   "source": [
    "To make the terrain more realistic, we will use <code>np.random.rand</code> to apply random pertubations to our data"
   ]
  },
  {
   "cell_type": "code",
   "execution_count": null,
   "id": "05bfa516",
   "metadata": {},
   "outputs": [],
   "source": [
    "z += np.random.rand(nrows, ncols) * 50"
   ]
  },
  {
   "cell_type": "markdown",
   "id": "22048471",
   "metadata": {},
   "source": [
    "We can visualize this data by using <code>Figure</code> and <code>grdimage</code>"
   ]
  },
  {
   "cell_type": "code",
   "execution_count": null,
   "id": "afdb1726",
   "metadata": {},
   "outputs": [],
   "source": [
    "#Visualize the initial terrain using PyGMT\n",
    "fig = pygmt.Figure()\n",
    "fig.grdimage(grid=z.reshape(nrows, ncols), region=[0, dx * ncols, 0, dx * nrows],\n",
    "             projection=\"X10c/10c\", #Cartesion projection\n",
    "             cmap=\"viridis\", frame=[\"a\", \"WSen+tInitial Topography\"])\n",
    "fig.colorbar(frame=\"af+lElevation (m)\")\n",
    "fig.show()"
   ]
  },
  {
   "cell_type": "markdown",
   "id": "6d952d07",
   "metadata": {},
   "source": [
    "Next, we will create the elements we need to visualize the drainage area"
   ]
  },
  {
   "cell_type": "code",
   "execution_count": null,
   "id": "288ebfdb",
   "metadata": {},
   "outputs": [],
   "source": [
    "#Initialize flow routing and depression finder\n",
    "fa = FlowAccumulator(mg)\n",
    "df = DepressionFinderAndRouter(mg)\n",
    "\n",
    "#Run flow routing and depression filling\n",
    "fa.run_one_step()\n",
    "df.map_depressions()"
   ]
  },
  {
   "cell_type": "markdown",
   "id": "db30a813",
   "metadata": {},
   "source": [
    "Extracting drainage and elevation area and reshaping them into 2D array"
   ]
  },
  {
   "cell_type": "code",
   "execution_count": null,
   "id": "2310cc0b",
   "metadata": {},
   "outputs": [],
   "source": [
    "#Extract flow accumulation and mask depressions\n",
    "drainage_area = mg.at_node[\"drainage_area\"].reshape(nrows, ncols)\n",
    "filled_elevation = mg.at_node[\"topographic__elevation\"].reshape(nrows, ncols)"
   ]
  },
  {
   "cell_type": "markdown",
   "id": "0fb3b271",
   "metadata": {},
   "source": [
    "Now, visualizing drainage area"
   ]
  },
  {
   "cell_type": "code",
   "execution_count": null,
   "id": "d123c9fd",
   "metadata": {},
   "outputs": [],
   "source": [
    "#Visualize drainage area with PyGMT\n",
    "fig = pygmt.Figure()\n",
    "fig.grdimage(grid=drainage_area, region=[0, dx * ncols, 0, dx * nrows], projection=\"X10c/10c\",\n",
    "            cmap=\"plasma\", frame=[\"a\", \"WSen+tDrainage Area\"])\n",
    "fig.colorbar(frame=\"af+lArea (m²)\")\n",
    "fig.show()"
   ]
  },
  {
   "cell_type": "markdown",
   "id": "41e48479",
   "metadata": {},
   "source": []
  },
  {
   "cell_type": "code",
   "execution_count": null,
   "id": "e6f06c5e",
   "metadata": {},
   "outputs": [],
   "source": [
    "#Step 3: Overlaying Flow Paths with PyGMT\n",
    "#Define top 5% of drainage area, ie. the major streams\n",
    "threshold = np.percentile(drainage_area, 95)\n",
    "stream_nodes = mg.at_node[\"drainage_area\"] > threshold\n",
    "\n",
    "#Extract node coordinates for flow paths\n",
    "stream_x, stream_y = mg.node_x[stream_nodes], mg.node_y[stream_nodes]\n",
    "\n",
    "#Visualize flow paths on topography\n",
    "fig = pygmt.Figure()\n",
    "fig.grdimage(grid=filled_elevation, region=[0, dx * ncols, 0, dx * nrows], projection=\"X10c/10c\",\n",
    "             cmap=\"viridis\", frame=[\"a\", \"WSen+tFlow Paths on Topography\"])\n",
    "fig.plot(x=stream_x * dx, y=stream_y * dx, style=\"c0.1c\", color=\"blue\", label=\"Flow Paths\")\n",
    "fig.legend()\n",
    "fig.colorbar(frame=\"af+lElevation (m)\")\n",
    "fig.show()"
   ]
  },
  {
   "cell_type": "markdown",
   "id": "19cfcf79",
   "metadata": {},
   "source": [
    "For interactive modeling, we will define our function <code>run_erosion</code>. Passing through the erodability factor <code>K_sp</code>, this function will provide us visualization of different values of <code>K_sp</code> on erosion."
   ]
  },
  {
   "cell_type": "code",
   "execution_count": null,
   "id": "51a34f61",
   "metadata": {},
   "outputs": [],
   "source": [
    "def run_erosion(K_sp):\n",
    "    #Reset DEM\n",
    "    mg.at_node[\"topographic__elevation\"][:] = z.copy()\n",
    "\n",
    "    #Define constants\n",
    "    uplift_rate = 0.01 #Tectonic lift\n",
    "    n_steps = 5 #steps\n",
    "    \n",
    "    for _ in range(n_steps):\n",
    "        mg.at_node[\"topographic__elevation\"][mg.core_nodes] += uplift_rate\n",
    "        fa.run_one_step()\n",
    "        mg.at_node[\"topographic__elevation\"][mg.core_nodes] -= K_sp * mg.at_node[\"drainage_area\"][mg.core_nodes]\n",
    "\n",
    "    #Plot eroded terrain using PyGMT\n",
    "    eroded_elevation = mg.at_node[\"topographic__elevation\"].reshape(nrows, ncols)\n",
    "    fig = pygmt.Figure()\n",
    "    fig.grdimage(grid=eroded_elevation, region=[0, dx * ncols, 0, dx * nrows], projection=\"X10c/10c\",\n",
    "                 cmap=\"viridis\", frame=[\"a\", f\"WSen+tEroded Topography (K_sp={K_sp})\"])\n",
    "    fig.colorbar(frame=\"af+lElevation (m)\")\n",
    "    fig.show()"
   ]
  },
  {
   "cell_type": "markdown",
   "id": "b2c12e85",
   "metadata": {},
   "source": [
    "Run <code>run_ersion</code> and visualize results "
   ]
  },
  {
   "cell_type": "code",
   "execution_count": null,
   "id": "39346d35",
   "metadata": {},
   "outputs": [],
   "source": [
    "interact(run_erosion, K_sp=FloatSlider(value=1e-5, min=1e-6, max=1e-4, step=1e-6, description=\"K_sp\"))"
   ]
  }
 ],
 "metadata": {
  "kernelspec": {
   "display_name": "Python 3 (ipykernel)",
   "language": "python",
   "name": "python3"
  },
  "language_info": {
   "codemirror_mode": {
    "name": "ipython",
    "version": 3
   },
   "file_extension": ".py",
   "mimetype": "text/x-python",
   "name": "python",
   "nbconvert_exporter": "python",
   "pygments_lexer": "ipython3",
   "version": "3.12.1"
  }
 },
 "nbformat": 4,
 "nbformat_minor": 5
}
