{
 "cells": [
  {
   "cell_type": "markdown",
   "id": "0",
   "metadata": {
    "id": "98dc0640"
   },
   "source": [
    "# Using Landlab and PyGMT Together to Create Interactive Erosion Slider"
   ]
  },
  {
   "cell_type": "markdown",
   "id": "1",
   "metadata": {
    "id": "ec51fe8c"
   },
   "source": [
    "As we have seen, we can use Landlab and PyGMT together to download data, convert to and from PyGMT to Landlab, and  visualize our output using PyGMT plotting functions. Expanding on our usage of Landlab and PyGMT, in this tutorial we will explore:\n",
    "\n",
    "- PyGMT Visualizations:\n",
    "    - DEM data visualized with grdimage for realistic mapping.\n",
    "    \n",
    "- Flow Path Overlay:\n",
    "    - Threshold-based flow path extraction, visualized with <code>pygmt.plot</code>.\n",
    "    \n",
    "- Interactive Modeling:\n",
    "    - Users can adjust the erodibility factor (K_sp) and observe terrain evolution in real-time with PyGMT maps.\n",
    "\n",
    "## Required packages:\n",
    "- Numpy\n",
    "- PyGMT\n",
    "- Landlab"
   ]
  },
  {
   "cell_type": "markdown",
   "id": "2",
   "metadata": {
    "id": "00fab953"
   },
   "source": [
    "We will begin by importing the following packages"
   ]
  },
  {
   "cell_type": "code",
   "execution_count": null,
   "id": "3",
   "metadata": {
    "id": "db23df13"
   },
   "outputs": [],
   "source": [
    "import numpy as np\n",
    "import pygmt\n",
    "import xarray as xr\n",
    "from ipywidgets import FloatSlider, interact\n",
    "\n",
    "from landlab import RasterModelGrid\n",
    "from landlab.components import DepressionFinderAndRouter, FlowAccumulator"
   ]
  },
  {
   "cell_type": "markdown",
   "id": "4",
   "metadata": {
    "id": "9d84f81a"
   },
   "source": [
    "We will begin using the <code>RasterModelGrid</code> function from Landlab to create our grid"
   ]
  },
  {
   "cell_type": "code",
   "execution_count": null,
   "id": "5",
   "metadata": {
    "id": "2e71b125"
   },
   "outputs": [],
   "source": [
    "# Define grid size and node spacing\n",
    "ncols, nrows = 100, 100\n",
    "dx = 0.01\n",
    "\n",
    "# Create a raster grid\n",
    "mg = RasterModelGrid((nrows, ncols), xy_spacing=dx)"
   ]
  },
  {
   "cell_type": "markdown",
   "id": "6",
   "metadata": {
    "id": "d9133de5"
   },
   "source": [
    "Then, loading DEM data from PyGMT. In this example we will use topographic elevation data."
   ]
  },
  {
   "cell_type": "code",
   "execution_count": null,
   "id": "7",
   "metadata": {
    "id": "eccf0f4f"
   },
   "outputs": [],
   "source": [
    "# Load DEM data\n",
    "z = mg.add_field(\n",
    "    \"topographic__elevation\", np.random.rand(mg.number_of_nodes) * 1000, at=\"node\"\n",
    ")"
   ]
  },
  {
   "cell_type": "markdown",
   "id": "8",
   "metadata": {
    "id": "9bc9b970"
   },
   "source": [
    "To make the terrain more realistic, we will use <code>np.random.rand</code> to apply random pertubations to our data"
   ]
  },
  {
   "cell_type": "code",
   "execution_count": null,
   "id": "9",
   "metadata": {
    "id": "05bfa516"
   },
   "outputs": [],
   "source": [
    "z = z.reshape(nrows, ncols)  # Reshape z before addition\n",
    "z += np.random.rand(nrows, ncols) * 50"
   ]
  },
  {
   "cell_type": "markdown",
   "id": "10",
   "metadata": {
    "id": "22048471"
   },
   "source": [
    "We can visualize this data by using <code>Figure</code> and <code>grdimage</code>"
   ]
  },
  {
   "cell_type": "code",
   "execution_count": null,
   "id": "11",
   "metadata": {
    "colab": {
     "base_uri": "https://localhost:8080/",
     "height": 585
    },
    "id": "HjEG5EQ8-q-b",
    "outputId": "78419f3d-076b-4bb6-e639-0543bf32ddcf"
   },
   "outputs": [],
   "source": [
    "# Convert numpy array to xarray.DataArray with coordinates\n",
    "region = [0, z.shape[1] * dx, 0, z.shape[0] * dx]\n",
    "grid = xr.DataArray(\n",
    "    z,\n",
    "    coords={\n",
    "        \"lon\": np.linspace(region[0], region[1], z.shape[1]),\n",
    "        \"lat\": np.linspace(region[2], region[3], z.shape[0]),\n",
    "    },\n",
    "    dims=[\"lat\", \"lon\"],\n",
    ")\n",
    "\n",
    "# Create a figure and plot the grid\n",
    "fig = pygmt.Figure()\n",
    "fig.grdimage(grid=grid, region=region, projection=\"X10c/10c\", cmap=\"topo\", frame=True)\n",
    "fig.colorbar(frame=\"af+lElevation (m)\")\n",
    "fig.show()"
   ]
  },
  {
   "cell_type": "markdown",
   "id": "12",
   "metadata": {
    "id": "6d952d07"
   },
   "source": [
    "Next, we will create the elements we need to visualize the drainage area"
   ]
  },
  {
   "cell_type": "code",
   "execution_count": null,
   "id": "13",
   "metadata": {
    "id": "288ebfdb"
   },
   "outputs": [],
   "source": [
    "# Initialize flow routing and depression filling\n",
    "fa = FlowAccumulator(mg)\n",
    "df = DepressionFinderAndRouter(mg)\n",
    "\n",
    "# Run flow routing and depression filling\n",
    "fa.run_one_step()\n",
    "df.map_depressions()\n",
    "\n",
    "# Ensure 'drainage_area' is present\n",
    "drainage_area = mg.at_node[\"drainage_area\"]"
   ]
  },
  {
   "cell_type": "markdown",
   "id": "14",
   "metadata": {
    "id": "db30a813"
   },
   "source": [
    "Extracting drainage and elevation area and reshaping them into 2D array"
   ]
  },
  {
   "cell_type": "markdown",
   "id": "15",
   "metadata": {
    "id": "0fb3b271"
   },
   "source": [
    "Now, visualizing drainage area"
   ]
  },
  {
   "cell_type": "code",
   "execution_count": null,
   "id": "16",
   "metadata": {
    "colab": {
     "base_uri": "https://localhost:8080/",
     "height": 627
    },
    "id": "ANgFa6AP_0ab",
    "outputId": "c8fdef84-46af-4313-ca0a-485b052cbabc"
   },
   "outputs": [],
   "source": [
    "# Convert drainage area to xarray.DataArray\n",
    "drainage_area_grid = xr.DataArray(\n",
    "    drainage_area.reshape((nrows, ncols)),\n",
    "    coords={\n",
    "        \"lon\": np.linspace(region[0], region[1], ncols),\n",
    "        \"lat\": np.linspace(region[2], region[3], nrows),\n",
    "    },\n",
    "    dims=[\"lat\", \"lon\"],\n",
    ")\n",
    "\n",
    "# Visualize drainage area\n",
    "fig = pygmt.Figure()\n",
    "fig.grdimage(\n",
    "    grid=drainage_area_grid,\n",
    "    region=region,\n",
    "    projection=\"X10c/10c\",\n",
    "    cmap=\"plasma\",\n",
    "    frame=[\"a\", \"WSen+tDrainage Area\"],\n",
    ")\n",
    "fig.colorbar(frame=\"af+lArea (m²)\")\n",
    "fig.show()"
   ]
  },
  {
   "cell_type": "code",
   "execution_count": null,
   "id": "17",
   "metadata": {
    "colab": {
     "base_uri": "https://localhost:8080/",
     "height": 627
    },
    "id": "e6f06c5e",
    "outputId": "f7cf8176-2e09-47c9-844b-66bf4d77ac48"
   },
   "outputs": [],
   "source": [
    "# Define top 5% of drainage area as major streams\n",
    "threshold = np.percentile(drainage_area, 95)\n",
    "stream_nodes = drainage_area > threshold\n",
    "\n",
    "# Extract node coordinates for flow paths\n",
    "stream_x, stream_y = mg.node_x[stream_nodes], mg.node_y[stream_nodes]\n",
    "\n",
    "# Convert 'filled_elevation' to xarray.DataArray for visualization\n",
    "filled_elevation = mg.at_node[\"topographic__elevation\"].reshape((nrows, ncols))\n",
    "filled_elevation_grid = xr.DataArray(\n",
    "    filled_elevation,\n",
    "    coords={\n",
    "        \"lon\": np.linspace(region[0], region[1], ncols),\n",
    "        \"lat\": np.linspace(region[2], region[3], nrows),\n",
    "    },\n",
    "    dims=[\"lat\", \"lon\"],\n",
    ")\n",
    "\n",
    "# Visualize flow paths on topography\n",
    "fig = pygmt.Figure()\n",
    "fig.grdimage(\n",
    "    grid=filled_elevation_grid,\n",
    "    region=region,\n",
    "    projection=\"X10c/10c\",\n",
    "    cmap=\"topo\",\n",
    "    frame=[\"a\", \"WSen+tFlow Paths on Topography\"],\n",
    ")\n",
    "fig.plot(x=stream_x, y=stream_y, style=\"c0.2c\", pen=\"blue\", label=\"Flow Paths\")\n",
    "fig.legend()\n",
    "fig.colorbar(frame=\"af+lElevation (m)\")\n",
    "fig.show()"
   ]
  },
  {
   "cell_type": "markdown",
   "id": "18",
   "metadata": {
    "id": "19cfcf79"
   },
   "source": [
    "For interactive modeling, we will define our function <code>run_erosion</code>. Passing through the erodability factor <code>K_sp</code>, this function will provide us visualization of different values of <code>K_sp</code> on erosion."
   ]
  },
  {
   "cell_type": "code",
   "execution_count": null,
   "id": "19",
   "metadata": {
    "id": "51a34f61"
   },
   "outputs": [],
   "source": [
    "# Interactive erosion modeling function\n",
    "\n",
    "\n",
    "def run_erosion(K_sp):\n",
    "    # Reset DEM to original state\n",
    "    mg.at_node[\"topographic__elevation\"][:] = z.flatten()\n",
    "\n",
    "    # Define constants\n",
    "    uplift_rate = 0.1  # Tectonic lift rate\n",
    "    n_steps = 50  # Number of steps\n",
    "\n",
    "    for _ in range(n_steps):\n",
    "        mg.at_node[\"topographic__elevation\"][mg.core_nodes] += uplift_rate\n",
    "        fa.run_one_step()\n",
    "        mg.at_node[\"topographic__elevation\"][mg.core_nodes] -= (\n",
    "            10 * K_sp * mg.at_node[\"drainage_area\"][mg.core_nodes]\n",
    "        )\n",
    "\n",
    "    # Plot eroded terrain\n",
    "    eroded_elevation = mg.at_node[\"topographic__elevation\"].reshape((nrows, ncols))\n",
    "    eroded_elevation_grid = xr.DataArray(\n",
    "        eroded_elevation * 10,\n",
    "        coords={\n",
    "            \"lon\": np.linspace(region[0], region[1], ncols),\n",
    "            \"lat\": np.linspace(region[2], region[3], nrows),\n",
    "        },\n",
    "        dims=[\"lat\", \"lon\"],\n",
    "    )\n",
    "\n",
    "    fig = pygmt.Figure()\n",
    "    fig.grdimage(\n",
    "        grid=eroded_elevation_grid,\n",
    "        region=region,\n",
    "        projection=\"X10c/10c\",\n",
    "        cmap=\"plasma\",\n",
    "        frame=[\"a\", f\"WSen+tEroded Topography (K_sp={K_sp})\"],\n",
    "    )\n",
    "    fig.colorbar(frame=\"af+lElevation (m)\")\n",
    "    fig.show()"
   ]
  },
  {
   "cell_type": "markdown",
   "id": "20",
   "metadata": {
    "id": "b2c12e85"
   },
   "source": [
    "Run <code>run_ersion</code> and visualize results"
   ]
  },
  {
   "cell_type": "code",
   "execution_count": null,
   "id": "21",
   "metadata": {
    "colab": {
     "base_uri": "https://localhost:8080/",
     "height": 694,
     "referenced_widgets": [
      "85bfc4ae5b7e4589804876070144db48",
      "568cbad876be4f539e01efc108fce4da",
      "46a1728a6d4e4bd485917768732fa05e",
      "3ccd527c78b04290b613bb4817a60df2",
      "dfebd95f96e1423a8231f19dda71e3e0",
      "bc014116750c4971a6c796d12824a6f9",
      "df36281165da4fe6929d29ef7c8e1551"
     ]
    },
    "id": "39346d35",
    "outputId": "779bb448-7997-486c-ceea-4b8d5893f010"
   },
   "outputs": [],
   "source": [
    "# Add interactive slider for erosion modeling\n",
    "interact(\n",
    "    run_erosion,\n",
    "    K_sp=FloatSlider(value=1e-3, min=1e-5, max=1e-2, step=1e-4, description=\"K_sp\"),\n",
    ")"
   ]
  }
 ],
 "metadata": {
  "colab": {
   "provenance": []
  },
  "kernelspec": {
   "display_name": "Python 3 (ipykernel)",
   "language": "python",
   "name": "python3"
  },
  "language_info": {
   "codemirror_mode": {
    "name": "ipython",
    "version": 3
   },
   "file_extension": ".py",
   "mimetype": "text/x-python",
   "name": "python",
   "nbconvert_exporter": "python",
   "pygments_lexer": "ipython3",
   "version": "3.12.7"
  }
 },
 "nbformat": 4,
 "nbformat_minor": 5
}
