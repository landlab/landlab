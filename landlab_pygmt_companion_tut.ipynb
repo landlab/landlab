{
 "cells": [
  {
   "cell_type": "markdown",
   "id": "0",
   "metadata": {
    "id": "98dc0640"
   },
   "source": [
    "# Using Landlab and PyGMT Together to Create Interactive Erosion Slider"
   ]
  },
  {
   "cell_type": "markdown",
   "id": "1",
   "metadata": {
    "id": "ec51fe8c"
   },
   "source": [
    "As we have seen, we can use Landlab and PyGMT together to download data, convert to and from PyGMT to Landlab, and  visualize our output using PyGMT plotting functions. Expanding on our usage of Landlab and PyGMT, in this tutorial we will explore:\n",
    "\n",
    "- PyGMT Visualizations:\n",
    "    - Digital Elevation Model (DEM) data visualized with ``grdimage`` for realistic mapping.\n",
    "    \n",
    "- Flow Path Overlay:\n",
    "    - Threshold-based flow path extraction, visualized with <code>pygmt.plot</code>.\n",
    "    \n",
    "- Interactive Modeling:\n",
    "    - Users can adjust the erodibility factor (K_sp) and observe terrain evolution with PyGMT maps.\n",
    "\n",
    "## Required packages:\n",
    "- Numpy\n",
    "- PyGMT\n",
    "- Landlab\n",
    "- xarray\n",
    "- ipywidgets"
   ]
  },
  {
   "cell_type": "markdown",
   "id": "2",
   "metadata": {
    "id": "00fab953"
   },
   "source": [
    "We will begin by importing the following packages"
   ]
  },
  {
   "cell_type": "code",
   "execution_count": null,
   "id": "3",
   "metadata": {
    "id": "db23df13"
   },
   "outputs": [],
   "source": [
    "import numpy as np\n",
    "import pygmt\n",
    "import xarray as xr\n",
    "from ipywidgets import FloatSlider, interact\n",
    "\n",
    "from landlab import RasterModelGrid\n",
    "from landlab.components import DepressionFinderAndRouter, FlowAccumulator"
   ]
  },
  {
   "cell_type": "markdown",
   "id": "4",
   "metadata": {
    "id": "9d84f81a"
   },
   "source": [
    "We will begin by loading in DEM data from PyGMT. Then using the size of this data to define the measurements of our grid. After, we will use the <code>RasterModelGrid</code> function from Landlab to create our grid."
   ]
  },
  {
   "cell_type": "code",
   "execution_count": null,
   "id": "5",
   "metadata": {
    "colab": {
     "base_uri": "https://localhost:8080/"
    },
    "id": "eccf0f4f",
    "outputId": "71cbb5d4-caf1-40fa-9d46-9aba5d54a561"
   },
   "outputs": [],
   "source": [
    "# Load elevation data\n",
    "lon_min, lon_max, lat_min, lat_max = -110, -80, 30, 50\n",
    "\n",
    "grid = pygmt.datasets.load_earth_relief(\n",
    "    resolution=\"01d\", region=[lon_min, lon_max, lat_min, lat_max]\n",
    ")\n",
    "\n",
    "# Get the elevation data as a NumPy array\n",
    "z = grid.data\n",
    "\n",
    "# Update nrows and ncols based on the actual shape of z\n",
    "nrows, ncols = z.shape\n",
    "\n",
    "# Create a new RasterModelGrid with the correct dimensions\n",
    "mg = RasterModelGrid(\n",
    "    (nrows, ncols), xy_spacing=grid.lon.values[1] - grid.lon.values[0]\n",
    ")  # Use grid spacing from the loaded data\n",
    "\n",
    "# Add the 'topographic__elevation' field to the grid\n",
    "mg.add_field(\n",
    "    \"node\", \"topographic__elevation\", z.flatten(), units=\"-\"\n",
    ")  # Adding the field and specifying units\n",
    "mg.at_node[\"topographic__elevation\"][:] = z.flatten()"
   ]
  },
  {
   "cell_type": "markdown",
   "id": "6",
   "metadata": {
    "id": "22048471"
   },
   "source": [
    "At first, we must convert our data from a Numpy array to xarray.DataArray which is what PyGMT uses. We can then visualize this data by using <code>Figure</code> and <code>grdimage</code>"
   ]
  },
  {
   "cell_type": "code",
   "execution_count": null,
   "id": "7",
   "metadata": {
    "colab": {
     "base_uri": "https://localhost:8080/",
     "height": 620
    },
    "id": "HjEG5EQ8-q-b",
    "outputId": "b5844bf3-d51c-4485-97b9-02d6df9417a9"
   },
   "outputs": [],
   "source": [
    "# Define minimum and maximum latitude and longitude for our region\n",
    "region = [0, z.shape[1] * dx, 0, z.shape[0] * dx]\n",
    "# Convert numpy array to xarray.DataArray with coordinates\n",
    "grid = xr.DataArray(\n",
    "    z,\n",
    "    coords={\n",
    "        \"lon\": np.linspace(region[0], region[1], z.shape[1]),\n",
    "        \"lat\": np.linspace(region[2], region[3], z.shape[0]),\n",
    "    },\n",
    "    dims=[\"lat\", \"lon\"],\n",
    ")\n",
    "\n",
    "# Create a figure and plot the grid\n",
    "fig = pygmt.Figure()\n",
    "fig.grdimage(\n",
    "    grid=grid,\n",
    "    region=region,\n",
    "    projection=\"X10c/10c\",\n",
    "    cmap=\"topo\",\n",
    "    frame=[\"a\", \"WSen+tTopographic Map\"],\n",
    ")\n",
    "fig.colorbar(frame=\"af+lElevation (m)\")\n",
    "fig.show()"
   ]
  },
  {
   "cell_type": "markdown",
   "id": "8",
   "metadata": {
    "id": "6d952d07"
   },
   "source": [
    "Next, we will create the elements we need to visualize the drainage area"
   ]
  },
  {
   "cell_type": "code",
   "execution_count": null,
   "id": "9",
   "metadata": {
    "id": "288ebfdb"
   },
   "outputs": [],
   "source": [
    "# Initialize flow routing and depression filling\n",
    "fa = FlowAccumulator(mg)\n",
    "df = DepressionFinderAndRouter(mg)\n",
    "\n",
    "# Run flow routing and depression filling\n",
    "fa.run_one_step()\n",
    "df.map_depressions()\n",
    "\n",
    "# Ensure 'drainage_area' is present\n",
    "drainage_area = mg.at_node[\"drainage_area\"]"
   ]
  },
  {
   "cell_type": "markdown",
   "id": "10",
   "metadata": {
    "id": "0fb3b271"
   },
   "source": [
    "Now, visualizing drainage area"
   ]
  },
  {
   "cell_type": "code",
   "execution_count": null,
   "id": "11",
   "metadata": {
    "colab": {
     "base_uri": "https://localhost:8080/",
     "height": 620
    },
    "id": "ANgFa6AP_0ab",
    "outputId": "b98bb638-2248-44ad-dee6-f2c5eb3d5cf0"
   },
   "outputs": [],
   "source": [
    "# Reshape drainage area and convert to xarray.DataArray\n",
    "drainage_area_grid = xr.DataArray(\n",
    "    drainage_area.reshape((nrows, ncols)),\n",
    "    coords={\n",
    "        \"lon\": np.linspace(region[0], region[1], ncols),\n",
    "        \"lat\": np.linspace(region[2], region[3], nrows),\n",
    "    },\n",
    "    dims=[\"lat\", \"lon\"],\n",
    ")\n",
    "\n",
    "# Visualize drainage area\n",
    "fig = pygmt.Figure()\n",
    "fig.grdimage(\n",
    "    grid=drainage_area_grid,\n",
    "    region=region,\n",
    "    projection=\"X10c/10c\",\n",
    "    cmap=\"plasma\",\n",
    "    frame=[\"a\", \"WSen+tDrainage Area\"],\n",
    ")\n",
    "fig.colorbar(frame=\"af+lArea (m²)\")\n",
    "fig.show()"
   ]
  },
  {
   "cell_type": "markdown",
   "id": "12",
   "metadata": {
    "id": "BgnBPpyxMbjG"
   },
   "source": [
    "Visualizing our erosion flow paths and our topographic map"
   ]
  },
  {
   "cell_type": "code",
   "execution_count": null,
   "id": "13",
   "metadata": {
    "colab": {
     "base_uri": "https://localhost:8080/",
     "height": 620
    },
    "id": "e6f06c5e",
    "outputId": "6304d3f0-8080-47be-c18c-9bebc2b3c45f"
   },
   "outputs": [],
   "source": [
    "# Define top 5% of drainage area as major streams\n",
    "threshold = np.percentile(drainage_area, 95)\n",
    "stream_nodes = drainage_area > threshold\n",
    "\n",
    "# Extract node coordinates for flow paths\n",
    "# Reposition because grid coordinates are not the same as return values from stream_nodes\n",
    "stream_x = 0.008 * mg.node_x[stream_nodes] + 0.05\n",
    "stream_y = 0.008 * mg.node_y[stream_nodes]\n",
    "\n",
    "# Visualize flow paths on topography\n",
    "fig = pygmt.Figure()\n",
    "fig.grdimage(\n",
    "    grid=grid,\n",
    "    region=region,\n",
    "    projection=\"X10c/10c\",\n",
    "    cmap=\"topo\",\n",
    "    frame=[\"a\", \"WSen+tFlow Paths over Topography\"],\n",
    ")\n",
    "fig.plot(x=stream_x, y=stream_y, style=\"c.35c\", pen=\"blue\", label=\"Flow Paths\")\n",
    "fig.legend()\n",
    "fig.colorbar(frame=\"af+lElevation (m)\")\n",
    "fig.show()"
   ]
  },
  {
   "cell_type": "markdown",
   "id": "14",
   "metadata": {
    "id": "19cfcf79"
   },
   "source": [
    "For interactive modeling, we will define our function <code>run_erosion</code>. Passing through the erodability factor <code>K_sp</code>, this function will provide us visualization of different values of <code>K_sp</code> on erosion."
   ]
  },
  {
   "cell_type": "code",
   "execution_count": null,
   "id": "15",
   "metadata": {
    "id": "51a34f61"
   },
   "outputs": [],
   "source": [
    "# Interactive erosion modeling function\n",
    "\n",
    "\n",
    "def run_erosion(K_sp):\n",
    "    # Reset DEM to original state\n",
    "    mg.at_node[\"topographic__elevation\"][:] = z.flatten()\n",
    "\n",
    "    # Define constants\n",
    "    uplift_rate = 0.1  # Tectonic lift rate\n",
    "    n_steps = 50  # Number of steps\n",
    "\n",
    "    # Modify terrain based on tectonic uplift and depressions at drainage area\n",
    "    for _ in range(n_steps):\n",
    "        mg.at_node[\"topographic__elevation\"][mg.core_nodes] += uplift_rate\n",
    "        fa.run_one_step()\n",
    "        mg.at_node[\"topographic__elevation\"][mg.core_nodes] -= (\n",
    "            10 * K_sp * mg.at_node[\"drainage_area\"][mg.core_nodes]\n",
    "        )\n",
    "\n",
    "    # Plot eroded terrain\n",
    "    eroded_elevation = mg.at_node[\"topographic__elevation\"].reshape((nrows, ncols))\n",
    "    eroded_elevation_grid = xr.DataArray(\n",
    "        eroded_elevation * 10,\n",
    "        coords={\n",
    "            \"lon\": np.linspace(region[0], region[1], ncols),\n",
    "            \"lat\": np.linspace(region[2], region[3], nrows),\n",
    "        },\n",
    "        dims=[\"lat\", \"lon\"],\n",
    "    )\n",
    "\n",
    "    fig = pygmt.Figure()\n",
    "    fig.grdimage(\n",
    "        grid=eroded_elevation_grid,\n",
    "        region=region,\n",
    "        projection=\"X10c/10c\",\n",
    "        cmap=\"plasma\",\n",
    "        # cmap_limits=[min_value, max_value],\n",
    "        frame=[\"a\", f\"WSen+tEroded Topography (K_sp={K_sp})\"],\n",
    "    )\n",
    "    fig.colorbar(frame=\"af+lElevation (m)\")\n",
    "    fig.show()"
   ]
  },
  {
   "cell_type": "markdown",
   "id": "16",
   "metadata": {
    "id": "b2c12e85"
   },
   "source": [
    "Run <code>run_ersion</code> and visualize results"
   ]
  },
  {
   "cell_type": "code",
   "execution_count": null,
   "id": "17",
   "metadata": {
    "colab": {
     "base_uri": "https://localhost:8080/",
     "height": 694,
     "referenced_widgets": [
      "5fe417971e0d41199bf36763d998601c",
      "25f9c1651e254df8ab5b309b8d9def07",
      "3155804189924c92ba4a64f48e130bf3",
      "cf833bcfb8f249dc9573cc04c468bb61",
      "6254f051b0d44b32a5003e8893bd2853",
      "9ab2968156874a3680ebb72d19136dda",
      "7b518bbd632b4ce79f0206202f5d7a14"
     ]
    },
    "id": "39346d35",
    "outputId": "172b9a9f-652e-4532-a13b-8487a3f88282"
   },
   "outputs": [],
   "source": [
    "# Add interactive slider for erosion modeling\n",
    "interact(\n",
    "    run_erosion,\n",
    "    K_sp=FloatSlider(value=1e-3, min=1e-5, max=1e-1, step=1e-6, description=\"K_sp\"),\n",
    ")"
   ]
  }
 ],
 "metadata": {
  "colab": {
   "provenance": []
  },
  "kernelspec": {
   "display_name": "Python 3 (ipykernel)",
   "language": "python",
   "name": "python3"
  },
  "language_info": {
   "codemirror_mode": {
    "name": "ipython",
    "version": 3
   },
   "file_extension": ".py",
   "mimetype": "text/x-python",
   "name": "python",
   "nbconvert_exporter": "python",
   "pygments_lexer": "ipython3",
   "version": "3.12.7"
  }
 },
 "nbformat": 4,
 "nbformat_minor": 5
}
