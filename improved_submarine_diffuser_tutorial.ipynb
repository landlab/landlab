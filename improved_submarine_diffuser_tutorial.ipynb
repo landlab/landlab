{
 "cells": [
  {
   "cell_type": "markdown",
   "id": "0",
   "metadata": {},
   "source": [
    "# Improving the SimpleSubmarineDiffuser Tutorial\n",
    "\n",
    "This notebook outlines suggested improvements for the SimpleSubmarineDiffuser tutorial, focusing on clarity, interactivity, and visualization enhancements."
   ]
  },
  {
   "cell_type": "markdown",
   "id": "1",
   "metadata": {},
   "source": [
    "## Objectives\n",
    "\n",
    "- Enhance visualization for better interpretability.\n",
    "- Introduce interactivity to allow users to experiment with parameters.\n",
    "- Provide explanations for outputs to help users understand results.\n",
    "- Validate mass balance with a detailed check.\n",
    "- Include additional documentation for users unfamiliar with key concepts.\n"
   ]
  },
  {
   "cell_type": "markdown",
   "id": "2",
   "metadata": {},
   "source": [
    "## Improved Visualization\n",
    "The plots in the original tutorial can be enhanced with titles, legends, and more descriptive labels. Below is an example of improved visualization for the quasi-1D case."
   ]
  },
  {
   "cell_type": "code",
   "execution_count": null,
   "id": "3",
   "metadata": {},
   "outputs": [],
   "source": [
    "import matplotlib.pyplot as plt\n",
    "import numpy as np\n",
    "\n",
    "from landlab import RasterModelGrid\n",
    "from landlab.components import SimpleSubmarineDiffuser\n",
    "\n",
    "# Setup the grid and initial conditions\n",
    "grid = RasterModelGrid((3, 51))\n",
    "grid.set_closed_boundaries_at_grid_edges(False, True, False, True)\n",
    "z = grid.add_zeros(\"topographic__elevation\", at=\"node\")\n",
    "z[:] = (25.0 - np.abs(grid.x_of_node - 25.0)) - 15.0\n",
    "z[z < -5.0] = -5.0\n",
    "\n",
    "# Save initial topography\n",
    "z0 = z.copy()\n",
    "ssd = SimpleSubmarineDiffuser(\n",
    "    grid, sea_level=0.0, wave_base=1.0, shallow_water_diffusivity=1.0\n",
    ")\n",
    "\n",
    "# Run the model\n",
    "for i in range(500):\n",
    "    ssd.run_one_step(0.2)\n",
    "\n",
    "# Plot improved visualization\n",
    "xm = grid.x_of_node[51:102]\n",
    "zm = z[51:102]\n",
    "plt.plot(xm, z0[51:102], \"k\", label=\"Initial Topography\")\n",
    "plt.plot(xm, zm, label=\"Diffused Topography\")\n",
    "plt.plot([0, 50], [0, 0], \"b:\", label=\"Sea Level\")\n",
    "plt.title(\"Sediment Diffusion Over Time\")\n",
    "plt.xlabel(\"Distance (m)\")\n",
    "plt.ylabel(\"Elevation (m)\")\n",
    "plt.legend()\n",
    "plt.grid(True)\n",
    "plt.show()"
   ]
  },
  {
   "cell_type": "markdown",
   "id": "4",
   "metadata": {},
   "source": [
    "## Adding Interactivity\n",
    "Using `ipywidgets`, users can interactively vary parameters such as `wave_base` and `shallow_water_diffusivity` to observe how they influence sediment diffusion."
   ]
  },
  {
   "cell_type": "code",
   "execution_count": null,
   "id": "5",
   "metadata": {},
   "outputs": [],
   "source": [
    "from ipywidgets import interact\n",
    "\n",
    "\n",
    "def run_simulation(wave_base, diffusivity):\n",
    "    # Create the grid and initialize the topography\n",
    "    grid = RasterModelGrid((3, 51))\n",
    "    grid.set_closed_boundaries_at_grid_edges(False, True, False, True)\n",
    "    z = grid.add_zeros(\"topographic__elevation\", at=\"node\")\n",
    "    z[:] = (25.0 - np.abs(grid.x_of_node - 25.0)) - 15.0\n",
    "    z[z < -5.0] = -5.0\n",
    "\n",
    "    # Save the initial topography for later plotting\n",
    "    z0 = z.copy()\n",
    "\n",
    "    # Set up the submarine diffuser\n",
    "    ssd = SimpleSubmarineDiffuser(\n",
    "        grid, sea_level=0.0, wave_base=wave_base, shallow_water_diffusivity=diffusivity\n",
    "    )\n",
    "\n",
    "    # Run the model for diffusion\n",
    "    for i in range(100):\n",
    "        ssd.run_one_step(0.2)\n",
    "\n",
    "    # Plot the results\n",
    "    xm = grid.x_of_node[51:102]\n",
    "    zm = z[51:102]\n",
    "    plt.plot(xm, z0[51:102], \"k\", label=\"Initial Topography\")  # Plot initial topography\n",
    "    plt.plot(xm, zm, label=\"Diffused Topography\")\n",
    "    plt.plot([0, 50], [0, 0], \"b:\", label=\"Sea Level\")\n",
    "    plt.legend()\n",
    "    plt.grid(True)\n",
    "    plt.xlabel(\"Distance (m)\")\n",
    "    plt.ylabel(\"Elevation (m)\")\n",
    "    plt.title(\"Effect of Diffusivity and Wave Base\")\n",
    "    plt.show()\n",
    "\n",
    "\n",
    "# Create interactive sliders for wave_base and diffusivity\n",
    "interact(run_simulation, wave_base=(0.5, 5.0, 0.5), diffusivity=(0.5, 5.0, 0.5))"
   ]
  },
  {
   "cell_type": "markdown",
   "id": "6",
   "metadata": {},
   "source": [
    "## Mass Balance Validation\n",
    "It's important to confirm that the sediment mass is conserved during the simulation. Here is an example of how to validate mass balance."
   ]
  },
  {
   "cell_type": "code",
   "execution_count": null,
   "id": "7",
   "metadata": {},
   "outputs": [],
   "source": [
    "cum_depo = grid.add_zeros(\"cumulative_deposit__thickness\", at=\"node\")\n",
    "mass_balance = np.sum(cum_depo)\n",
    "print(f\"Mass Balance Check: {mass_balance:.6f}\")\n",
    "if abs(mass_balance) < 1e-6:\n",
    "    print(\"Mass is conserved.\")\n",
    "else:\n",
    "    print(\"Mass conservation error detected!\")"
   ]
  },
  {
   "cell_type": "markdown",
   "id": "8",
   "metadata": {},
   "source": [
    "## Additional Documentation\n",
    "To help users unfamiliar with key concepts, a glossary is included below:\n",
    "\n",
    "### Glossary\n",
    "- **Wave Base**: The depth below which water motion from surface waves becomes negligible.\n",
    "- **Diffusivity**: A measure of how easily sediment can be transported through diffusion.\n",
    "- **Finite-Volume Method**: A numerical technique for solving partial differential equations by dividing the domain into small volumes and approximating fluxes at their boundaries."
   ]
  }
 ],
 "metadata": {
  "kernelspec": {
   "display_name": "landlab",
   "language": "python",
   "name": "python3"
  },
  "language_info": {
   "codemirror_mode": {
    "name": "ipython",
    "version": 3
   },
   "file_extension": ".py",
   "mimetype": "text/x-python",
   "name": "python",
   "nbconvert_exporter": "python",
   "pygments_lexer": "ipython3",
   "version": "3.10.15"
  }
 },
 "nbformat": 4,
 "nbformat_minor": 5
}
