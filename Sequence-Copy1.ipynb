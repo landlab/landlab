{
 "cells": [
  {
   "cell_type": "code",
   "execution_count": 1,
   "metadata": {
    "collapsed": true
   },
   "outputs": [],
   "source": [
    "from landlab.components.submarine_diffusion.create_initial_profile import create_initial_profile\n",
    "from landlab.components.submarine_diffusion.utils2 import find_shoreline2\n",
    "from landlab.components import SubmarineDiffuser\n",
    "%matplotlib inline\n",
    "import matplotlib.pyplot as plt\n"
   ]
  },
  {
   "cell_type": "code",
   "execution_count": 2,
   "metadata": {
    "collapsed": true
   },
   "outputs": [],
   "source": [
    "import numpy as np"
   ]
  },
  {
   "cell_type": "code",
   "execution_count": 3,
   "metadata": {
    "collapsed": true
   },
   "outputs": [],
   "source": [
    "from landlab import RasterModelGrid, CLOSED_BOUNDARY\n",
    "grid = RasterModelGrid((3,200), spacing = 500.)\n",
    "grid.status_at_node[grid.nodes_at_top_edge]    = CLOSED_BOUNDARY\n",
    "grid.status_at_node[grid.nodes_at_bottom_edge] = CLOSED_BOUNDARY"
   ]
  },
  {
   "cell_type": "code",
   "execution_count": 4,
   "metadata": {},
   "outputs": [
    {
     "data": {
      "text/plain": [
       "array([ 15.8       ,  15.4       ,  15.        ,  14.6       ,\n",
       "        14.2       ,  13.8       ,  13.4       ,  13.        ,\n",
       "        12.6       ,  12.2       ,  11.8       ,  11.4       ,\n",
       "        11.        ,  10.6       ,  10.2       ,   9.8       ,\n",
       "         9.4       ,   9.        ,   8.6       ,   8.2       ,\n",
       "         7.8       ,   7.4       ,   7.        ,   6.6       ,\n",
       "         6.2       ,   5.8       ,   5.4       ,   5.        ,\n",
       "         4.6       ,   4.2       ,   3.8       ,   3.4       ,\n",
       "         3.        ,   2.6       ,   2.2       ,   1.8       ,\n",
       "         1.4       ,   1.        ,   0.6       ,   0.2       ,\n",
       "        -2.01254646,  -5.44066082,  -8.22107857, -10.4970697 ,\n",
       "       -12.38021299, -13.95740606, -15.29632487, -16.4496755 ,\n",
       "       -17.45850548, -18.35478266, -19.16340364, -19.90375791,\n",
       "       -20.590946  , -21.23672823, -21.85026354, -22.43868493,\n",
       "       -23.00754758, -23.56117787, -24.10294517, -24.63547359,\n",
       "       -25.16080674, -25.68053622, -26.19590155, -26.70786809,\n",
       "       -27.21718763, -27.7244457 , -28.23009829, -28.73450054,\n",
       "       -29.237929  , -29.7405991 , -30.24267857, -30.74429807,\n",
       "       -31.24555933, -31.7465416 , -32.2473066 , -32.74790238,\n",
       "       -33.24836637, -33.74872773, -34.24900915, -34.74922833,\n",
       "       -35.24939902, -35.74953196, -36.24963549, -36.74971612,\n",
       "       -37.24977891, -37.74982782, -38.2498659 , -38.74989557,\n",
       "       -39.24991867, -39.74993666, -40.24995067, -40.74996158,\n",
       "       -41.24997008, -41.7499767 , -42.24998185, -42.74998587,\n",
       "       -43.24998899, -43.74999143, -44.24999332, -44.7499948 ,\n",
       "       -45.24999595, -45.74999685, -46.24999754, -46.74999809,\n",
       "       -47.24999851, -47.74999884, -48.2499991 , -48.7499993 ,\n",
       "       -49.24999945, -49.74999957, -50.24999967, -50.74999974,\n",
       "       -51.2499998 , -51.74999984, -52.24999988, -52.7499999 ,\n",
       "       -53.24999993, -53.74999994, -54.24999996, -54.74999996,\n",
       "       -55.24999997, -55.74999998, -56.24999998, -56.74999999,\n",
       "       -57.24999999, -57.74999999, -58.24999999, -58.75      ,\n",
       "       -59.25      , -59.75      , -60.25      , -60.75      ,\n",
       "       -61.25      , -61.75      , -62.25      , -62.75      ,\n",
       "       -63.25      , -63.75      , -64.25      , -64.75      ,\n",
       "       -65.25      , -65.75      , -66.25      , -66.75      ,\n",
       "       -67.25      , -67.75      , -68.25      , -68.75      ,\n",
       "       -69.25      , -69.75      , -70.25      , -70.75      ,\n",
       "       -71.25      , -71.75      , -72.25      , -72.75      ,\n",
       "       -73.25      , -73.75      , -74.25      , -74.75      ,\n",
       "       -75.25      , -75.75      , -76.25      , -76.75      ,\n",
       "       -77.25      , -77.75      , -78.25      , -78.75      ,\n",
       "       -79.25      , -79.75      , -80.25      , -80.75      ,\n",
       "       -81.25      , -81.75      , -82.25      , -82.75      ,\n",
       "       -83.25      , -83.75      , -84.25      , -84.75      ,\n",
       "       -85.25      , -85.75      , -86.25      , -86.75      ,\n",
       "       -87.25      , -87.75      , -88.25      , -88.75      ,\n",
       "       -89.25      , -89.75      , -90.25      , -90.75      ,\n",
       "       -91.25      , -91.75      , -92.25      , -92.75      ,\n",
       "       -93.25      , -93.75      , -94.25      , -94.75      ,\n",
       "        15.8       ,  15.4       ,  15.        ,  14.6       ,\n",
       "        14.2       ,  13.8       ,  13.4       ,  13.        ,\n",
       "        12.6       ,  12.2       ,  11.8       ,  11.4       ,\n",
       "        11.        ,  10.6       ,  10.2       ,   9.8       ,\n",
       "         9.4       ,   9.        ,   8.6       ,   8.2       ,\n",
       "         7.8       ,   7.4       ,   7.        ,   6.6       ,\n",
       "         6.2       ,   5.8       ,   5.4       ,   5.        ,\n",
       "         4.6       ,   4.2       ,   3.8       ,   3.4       ,\n",
       "         3.        ,   2.6       ,   2.2       ,   1.8       ,\n",
       "         1.4       ,   1.        ,   0.6       ,   0.2       ,\n",
       "        -2.01254646,  -5.44066082,  -8.22107857, -10.4970697 ,\n",
       "       -12.38021299, -13.95740606, -15.29632487, -16.4496755 ,\n",
       "       -17.45850548, -18.35478266, -19.16340364, -19.90375791,\n",
       "       -20.590946  , -21.23672823, -21.85026354, -22.43868493,\n",
       "       -23.00754758, -23.56117787, -24.10294517, -24.63547359,\n",
       "       -25.16080674, -25.68053622, -26.19590155, -26.70786809,\n",
       "       -27.21718763, -27.7244457 , -28.23009829, -28.73450054,\n",
       "       -29.237929  , -29.7405991 , -30.24267857, -30.74429807,\n",
       "       -31.24555933, -31.7465416 , -32.2473066 , -32.74790238,\n",
       "       -33.24836637, -33.74872773, -34.24900915, -34.74922833,\n",
       "       -35.24939902, -35.74953196, -36.24963549, -36.74971612,\n",
       "       -37.24977891, -37.74982782, -38.2498659 , -38.74989557,\n",
       "       -39.24991867, -39.74993666, -40.24995067, -40.74996158,\n",
       "       -41.24997008, -41.7499767 , -42.24998185, -42.74998587,\n",
       "       -43.24998899, -43.74999143, -44.24999332, -44.7499948 ,\n",
       "       -45.24999595, -45.74999685, -46.24999754, -46.74999809,\n",
       "       -47.24999851, -47.74999884, -48.2499991 , -48.7499993 ,\n",
       "       -49.24999945, -49.74999957, -50.24999967, -50.74999974,\n",
       "       -51.2499998 , -51.74999984, -52.24999988, -52.7499999 ,\n",
       "       -53.24999993, -53.74999994, -54.24999996, -54.74999996,\n",
       "       -55.24999997, -55.74999998, -56.24999998, -56.74999999,\n",
       "       -57.24999999, -57.74999999, -58.24999999, -58.75      ,\n",
       "       -59.25      , -59.75      , -60.25      , -60.75      ,\n",
       "       -61.25      , -61.75      , -62.25      , -62.75      ,\n",
       "       -63.25      , -63.75      , -64.25      , -64.75      ,\n",
       "       -65.25      , -65.75      , -66.25      , -66.75      ,\n",
       "       -67.25      , -67.75      , -68.25      , -68.75      ,\n",
       "       -69.25      , -69.75      , -70.25      , -70.75      ,\n",
       "       -71.25      , -71.75      , -72.25      , -72.75      ,\n",
       "       -73.25      , -73.75      , -74.25      , -74.75      ,\n",
       "       -75.25      , -75.75      , -76.25      , -76.75      ,\n",
       "       -77.25      , -77.75      , -78.25      , -78.75      ,\n",
       "       -79.25      , -79.75      , -80.25      , -80.75      ,\n",
       "       -81.25      , -81.75      , -82.25      , -82.75      ,\n",
       "       -83.25      , -83.75      , -84.25      , -84.75      ,\n",
       "       -85.25      , -85.75      , -86.25      , -86.75      ,\n",
       "       -87.25      , -87.75      , -88.25      , -88.75      ,\n",
       "       -89.25      , -89.75      , -90.25      , -90.75      ,\n",
       "       -91.25      , -91.75      , -92.25      , -92.75      ,\n",
       "       -93.25      , -93.75      , -94.25      , -94.75      ,\n",
       "        15.8       ,  15.4       ,  15.        ,  14.6       ,\n",
       "        14.2       ,  13.8       ,  13.4       ,  13.        ,\n",
       "        12.6       ,  12.2       ,  11.8       ,  11.4       ,\n",
       "        11.        ,  10.6       ,  10.2       ,   9.8       ,\n",
       "         9.4       ,   9.        ,   8.6       ,   8.2       ,\n",
       "         7.8       ,   7.4       ,   7.        ,   6.6       ,\n",
       "         6.2       ,   5.8       ,   5.4       ,   5.        ,\n",
       "         4.6       ,   4.2       ,   3.8       ,   3.4       ,\n",
       "         3.        ,   2.6       ,   2.2       ,   1.8       ,\n",
       "         1.4       ,   1.        ,   0.6       ,   0.2       ,\n",
       "        -2.01254646,  -5.44066082,  -8.22107857, -10.4970697 ,\n",
       "       -12.38021299, -13.95740606, -15.29632487, -16.4496755 ,\n",
       "       -17.45850548, -18.35478266, -19.16340364, -19.90375791,\n",
       "       -20.590946  , -21.23672823, -21.85026354, -22.43868493,\n",
       "       -23.00754758, -23.56117787, -24.10294517, -24.63547359,\n",
       "       -25.16080674, -25.68053622, -26.19590155, -26.70786809,\n",
       "       -27.21718763, -27.7244457 , -28.23009829, -28.73450054,\n",
       "       -29.237929  , -29.7405991 , -30.24267857, -30.74429807,\n",
       "       -31.24555933, -31.7465416 , -32.2473066 , -32.74790238,\n",
       "       -33.24836637, -33.74872773, -34.24900915, -34.74922833,\n",
       "       -35.24939902, -35.74953196, -36.24963549, -36.74971612,\n",
       "       -37.24977891, -37.74982782, -38.2498659 , -38.74989557,\n",
       "       -39.24991867, -39.74993666, -40.24995067, -40.74996158,\n",
       "       -41.24997008, -41.7499767 , -42.24998185, -42.74998587,\n",
       "       -43.24998899, -43.74999143, -44.24999332, -44.7499948 ,\n",
       "       -45.24999595, -45.74999685, -46.24999754, -46.74999809,\n",
       "       -47.24999851, -47.74999884, -48.2499991 , -48.7499993 ,\n",
       "       -49.24999945, -49.74999957, -50.24999967, -50.74999974,\n",
       "       -51.2499998 , -51.74999984, -52.24999988, -52.7499999 ,\n",
       "       -53.24999993, -53.74999994, -54.24999996, -54.74999996,\n",
       "       -55.24999997, -55.74999998, -56.24999998, -56.74999999,\n",
       "       -57.24999999, -57.74999999, -58.24999999, -58.75      ,\n",
       "       -59.25      , -59.75      , -60.25      , -60.75      ,\n",
       "       -61.25      , -61.75      , -62.25      , -62.75      ,\n",
       "       -63.25      , -63.75      , -64.25      , -64.75      ,\n",
       "       -65.25      , -65.75      , -66.25      , -66.75      ,\n",
       "       -67.25      , -67.75      , -68.25      , -68.75      ,\n",
       "       -69.25      , -69.75      , -70.25      , -70.75      ,\n",
       "       -71.25      , -71.75      , -72.25      , -72.75      ,\n",
       "       -73.25      , -73.75      , -74.25      , -74.75      ,\n",
       "       -75.25      , -75.75      , -76.25      , -76.75      ,\n",
       "       -77.25      , -77.75      , -78.25      , -78.75      ,\n",
       "       -79.25      , -79.75      , -80.25      , -80.75      ,\n",
       "       -81.25      , -81.75      , -82.25      , -82.75      ,\n",
       "       -83.25      , -83.75      , -84.25      , -84.75      ,\n",
       "       -85.25      , -85.75      , -86.25      , -86.75      ,\n",
       "       -87.25      , -87.75      , -88.25      , -88.75      ,\n",
       "       -89.25      , -89.75      , -90.25      , -90.75      ,\n",
       "       -91.25      , -91.75      , -92.25      , -92.75      ,\n",
       "       -93.25      , -93.75      , -94.25      , -94.75      ])"
      ]
     },
     "execution_count": 4,
     "metadata": {},
     "output_type": "execute_result"
    }
   ],
   "source": [
    "z = create_initial_profile(grid.x_of_node)\n",
    "grid.add_field('topographic__elevation', z.copy(), at='node')"
   ]
  },
  {
   "cell_type": "code",
   "execution_count": 5,
   "metadata": {},
   "outputs": [
    {
     "data": {
      "text/plain": [
       "<landlab.grid.raster.RasterModelGrid at 0x1170a1978>"
      ]
     },
     "execution_count": 5,
     "metadata": {},
     "output_type": "execute_result"
    }
   ],
   "source": [
    "grid"
   ]
  },
  {
   "cell_type": "code",
   "execution_count": 6,
   "metadata": {},
   "outputs": [
    {
     "data": {
      "text/plain": [
       "600"
      ]
     },
     "execution_count": 6,
     "metadata": {},
     "output_type": "execute_result"
    }
   ],
   "source": [
    "grid.x_of_node\n",
    "len(grid.x_of_node)"
   ]
  },
  {
   "cell_type": "code",
   "execution_count": 7,
   "metadata": {
    "collapsed": true
   },
   "outputs": [],
   "source": [
    "z0 =z"
   ]
  },
  {
   "cell_type": "code",
   "execution_count": 8,
   "metadata": {},
   "outputs": [
    {
     "name": "stdout",
     "output_type": "stream",
     "text": [
      "19656.024615233764\n",
      "19656.024615233764\n"
     ]
    },
    {
     "data": {
      "text/plain": [
       "[<matplotlib.lines.Line2D at 0x11a459978>,\n",
       " <matplotlib.lines.Line2D at 0x11a459b70>]"
      ]
     },
     "execution_count": 8,
     "metadata": {},
     "output_type": "execute_result"
    },
    {
     "data": {
      "image/png": "[encoded data removed]",
      "text/plain": [
       "<matplotlib.figure.Figure at 0x10b5ea550>"
      ]
     },
     "metadata": {},
     "output_type": "display_data"
    }
   ],
   "source": [
    "shore = find_shoreline2(grid.x_of_node[grid.core_nodes], z[grid.core_nodes], 0.)\n",
    "plt.plot(grid.x_of_node,z,shore,0,'o' )"
   ]
  },
  {
   "cell_type": "code",
   "execution_count": null,
   "metadata": {
    "collapsed": true
   },
   "outputs": [],
   "source": [
    "sd = SubmarineDiffuser(grid, shore)"
   ]
  },
  {
   "cell_type": "code",
   "execution_count": null,
   "metadata": {
    "collapsed": true
   },
   "outputs": [],
   "source": [
    "len (z)"
   ]
  },
  {
   "cell_type": "code",
   "execution_count": null,
   "metadata": {
    "collapsed": true
   },
   "outputs": [],
   "source": [
    "k = sd.calc_diffusion_coef(shore)"
   ]
  },
  {
   "cell_type": "code",
   "execution_count": null,
   "metadata": {
    "collapsed": true
   },
   "outputs": [],
   "source": [
    "plt.plot(grid.x_of_node,k)"
   ]
  },
  {
   "cell_type": "code",
   "execution_count": null,
   "metadata": {
    "collapsed": true
   },
   "outputs": [],
   "source": [
    "k = sd.grid.at_node['kd'].copy()\n",
    "grid.x_of_cell[48]\n",
    "sd.grid.at_node['topographic__elevation'][200] = sd.grid.at_node['topographic__elevation'][201]"
   ]
  },
  {
   "cell_type": "code",
   "execution_count": null,
   "metadata": {
    "collapsed": true
   },
   "outputs": [],
   "source": [
    "for time_step in range(1000):\n",
    "    sd.run_one_step(100)"
   ]
  },
  {
   "cell_type": "code",
   "execution_count": null,
   "metadata": {
    "collapsed": true
   },
   "outputs": [],
   "source": [
    "z1 = sd.grid.at_node['topographic__elevation']\n",
    "plt.plot(grid.x_of_node,z1,grid.x_of_node,z)"
   ]
  },
  {
   "cell_type": "code",
   "execution_count": null,
   "metadata": {
    "collapsed": true
   },
   "outputs": [],
   "source": [
    "shore = find_shoreline2(grid.x_of_node[grid.core_nodes], z1[grid.core_nodes], 0.)"
   ]
  },
  {
   "cell_type": "code",
   "execution_count": null,
   "metadata": {
    "collapsed": true
   },
   "outputs": [],
   "source": [
    "shore"
   ]
  },
  {
   "cell_type": "code",
   "execution_count": null,
   "metadata": {
    "collapsed": true
   },
   "outputs": [],
   "source": [
    "for time_step in range(1000):\n",
    "    sd.run_one_step(300)\n",
    "    z2 = sd.grid.at_node['topographic__elevation']\n",
    "plt.plot(grid.x_of_node,z1,grid.x_of_node,z, grid.x_of_node,z2)"
   ]
  },
  {
   "cell_type": "code",
   "execution_count": null,
   "metadata": {
    "collapsed": true
   },
   "outputs": [],
   "source": [
    "z2"
   ]
  },
  {
   "cell_type": "code",
   "execution_count": null,
   "metadata": {
    "collapsed": true
   },
   "outputs": [],
   "source": [
    "shore = find_shoreline(grid.x_of_node[grid.core_nodes], z2[grid.core_nodes], 0.)\n",
    "shore"
   ]
  },
  {
   "cell_type": "code",
   "execution_count": null,
   "metadata": {
    "collapsed": true
   },
   "outputs": [],
   "source": [
    "for time_step in range(1000):\n",
    "    sd.run_one_step(100)\n",
    "    z3 = sd.grid.at_node['topographic__elevation']\n",
    "plt.plot(grid.x_of_node,z1,grid.x_of_node,z, grid.x_of_node,z2, grid.x_of_node,z3)"
   ]
  },
  {
   "cell_type": "code",
   "execution_count": null,
   "metadata": {
    "collapsed": true
   },
   "outputs": [],
   "source": [
    "plt.plot(grid.x_of_node,z1-z)"
   ]
  },
  {
   "cell_type": "code",
   "execution_count": null,
   "metadata": {
    "collapsed": true
   },
   "outputs": [],
   "source": [
    "z3"
   ]
  },
  {
   "cell_type": "code",
   "execution_count": null,
   "metadata": {
    "collapsed": true
   },
   "outputs": [],
   "source": [
    "shore = find_shoreline(grid.x_of_node[grid.core_nodes], z3[grid.core_nodes], 0.)\n",
    "shore"
   ]
  },
  {
   "cell_type": "code",
   "execution_count": null,
   "metadata": {
    "collapsed": true
   },
   "outputs": [],
   "source": [
    "shore1 = find_shoreline(grid.x_of_node[grid.core_nodes], z2[grid.core_nodes], 0.)\n",
    "shore1"
   ]
  },
  {
   "cell_type": "code",
   "execution_count": null,
   "metadata": {
    "collapsed": true
   },
   "outputs": [],
   "source": [
    "for time_step in range(1000):\n",
    "    sd.run_one_step(100)\n",
    "    z4 = sd.grid.at_node['topographic__elevation']\n",
    "plt.plot(grid.x_of_node,z1,grid.x_of_node,z, grid.x_of_node,z2, grid.x_of_node,z4)"
   ]
  },
  {
   "cell_type": "code",
   "execution_count": null,
   "metadata": {
    "collapsed": true
   },
   "outputs": [],
   "source": [
    "z4 = sd.grid.at_node['topographic__elevation']\n",
    "z4"
   ]
  },
  {
   "cell_type": "code",
   "execution_count": null,
   "metadata": {
    "collapsed": true
   },
   "outputs": [],
   "source": [
    "# z1 = sd.grid.at_node['topographic__elevation']\n",
    "plt.plot(grid.x_of_node,z1-z,)"
   ]
  },
  {
   "cell_type": "code",
   "execution_count": null,
   "metadata": {
    "collapsed": true
   },
   "outputs": [],
   "source": [
    "k1 = sd.grid.at_node['kd']\n",
    "k1"
   ]
  },
  {
   "cell_type": "code",
   "execution_count": null,
   "metadata": {
    "collapsed": true
   },
   "outputs": [],
   "source": [
    "plt.plot(grid.x_of_node[grid.core_nodes],k1[grid.core_nodes]-k[grid.core_nodes],)\n"
   ]
  },
  {
   "cell_type": "code",
   "execution_count": null,
   "metadata": {
    "collapsed": true
   },
   "outputs": [],
   "source": [
    "k1-k"
   ]
  },
  {
   "cell_type": "code",
   "execution_count": null,
   "metadata": {
    "collapsed": true
   },
   "outputs": [],
   "source": []
  }
 ],
 "metadata": {
  "kernelspec": {
   "display_name": "Python 3",
   "language": "python",
   "name": "python3"
  },
  "language_info": {
   "codemirror_mode": {
    "name": "ipython",
    "version": 3
   },
   "file_extension": ".py",
   "mimetype": "text/x-python",
   "name": "python",
   "nbconvert_exporter": "python",
   "pygments_lexer": "ipython3",
   "version": "3.6.1"
  }
 },
 "nbformat": 4,
 "nbformat_minor": 1
}
