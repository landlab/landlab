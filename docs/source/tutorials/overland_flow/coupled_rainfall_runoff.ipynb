{
 "cells": [
  {
   "cell_type": "markdown",
   "metadata": {},
   "source": [
    "# A coupled rainfall-runoff model in Landlab"
   ]
  },
  {
   "cell_type": "markdown",
   "metadata": {},
   "source": [
    "This tutorial demonstrates a very simple synthetic rainfall-runoff model in Landlab, using the `SpatialPrecipitationDistribution` and `OverlandFlow` components. This assumes no infiltration, but it could be added by modifying the `rainfall__flux` field appropriately.\n",
    "\n",
    "First, import the modules we'll need."
   ]
  },
  {
   "cell_type": "code",
   "execution_count": null,
   "metadata": {},
   "outputs": [],
   "source": [
    "import matplotlib.pyplot as plt\n",
    "import numpy as np\n",
    "from tqdm.notebook import trange\n",
    "\n",
    "from landlab.components import OverlandFlow, SpatialPrecipitationDistribution\n",
    "from landlab.io import esri_ascii"
   ]
  },
  {
   "cell_type": "markdown",
   "metadata": {},
   "source": [
    "Set up a grid and load some arbitrary existing catchment elevation data. A functional version of this might use a real gauged catchment for comparison to reality."
   ]
  },
  {
   "cell_type": "code",
   "execution_count": null,
   "metadata": {},
   "outputs": [],
   "source": [
    "# here we use an arbitrary, very small, \"real\" catchment\n",
    "with open(\"hugo_site.asc\") as fp:\n",
    "    grid = esri_ascii.load(fp, name=\"topographic__elevation\", at=\"node\")\n",
    "z = grid.at_node[\"topographic__elevation\"]\n",
    "\n",
    "grid.status_at_node[grid.nodes_at_right_edge] = grid.BC_NODE_IS_FIXED_VALUE\n",
    "grid.status_at_node[np.isclose(z, -9999.0)] = grid.BC_NODE_IS_CLOSED\n",
    "\n",
    "grid.imshow(z, colorbar_label=\"Elevation (m)\")"
   ]
  },
  {
   "cell_type": "markdown",
   "metadata": {},
   "source": [
    "Build a mocked-up rainfall distribution using the `SpatialPrecipitationDistribution` component.\n",
    "\n",
    "It would be trivial to replace this with an imported real rainfall field - and we save and reload the pattern to highlight how this might work."
   ]
  },
  {
   "cell_type": "code",
   "execution_count": null,
   "metadata": {},
   "outputs": [],
   "source": [
    "rain = SpatialPrecipitationDistribution(grid)\n",
    "np.random.seed(26)  # arbitrary to get a cool-looking storm out every time\n",
    "\n",
    "# storm lengths in hrs\n",
    "for storm_t, interstorm_t in rain.yield_storms(style=\"monsoonal\"):\n",
    "    # because the rainfall comes out in mm/h\n",
    "    grid.at_node[\"rainfall__flux\"] *= 0.001\n",
    "\n",
    "    # to make the storm heavier and more interesting!\n",
    "    grid.at_node[\"rainfall__flux\"] *= 10.0\n",
    "\n",
    "    # plot up this storm\n",
    "    grid.imshow(\n",
    "        \"rainfall__flux\", cmap=\"gist_ncar\", colorbar_label=\"Rainfall flux (m/h)\"\n",
    "    )\n",
    "    plt.show()"
   ]
  },
  {
   "cell_type": "markdown",
   "metadata": {},
   "source": [
    "Now, load the rainfall files and set up the model, telling the flood router to accept the rainfalls in the file(s) as inputs. \n",
    "\n",
    "In the first instance, this is set up as an instantaneous storm, with all the water dropped over the catchment in one go. Below, we modify this assumption to allow time distributed rainfall."
   ]
  },
  {
   "cell_type": "code",
   "execution_count": null,
   "metadata": {},
   "outputs": [],
   "source": [
    "# a veneer of water stabilises the model\n",
    "grid.at_node[\"surface_water__depth\"].fill(1.0e-12)\n",
    "grid.at_node[\"surface_water__depth\"] += grid.at_node[\"rainfall__flux\"] * storm_t\n",
    "\n",
    "of = OverlandFlow(grid, steep_slopes=True)\n",
    "\n",
    "# storm_t here is the duration of the rainfall, from the rainfall component\n",
    "# We're going to assume the rainfall arrives effectively instantaneously, but\n",
    "# adding discharge during the run is completely viable\n",
    "\n",
    "node_of_max_q = 2126  # established by examining the output of a previous run\n",
    "outlet_depth = []\n",
    "outlet_times = []\n",
    "\n",
    "# while post_storm_elapsed_time < 0.5 * 3600.0:  # plot 30 mins-worth of runoff\n",
    "dt = 1.0\n",
    "for step in trange(30 * 60):\n",
    "    time = step * dt\n",
    "\n",
    "    of.run_one_step(dt=dt)\n",
    "    if step % 180 == 0:\n",
    "        plt.figure()\n",
    "        grid.imshow(\"surface_water__depth\", var_name=\"Stage (m)\")\n",
    "        plt.title(f\"Stage at t={time} s\")\n",
    "\n",
    "    outlet_depth.append(grid.at_node[\"surface_water__depth\"][node_of_max_q])\n",
    "    outlet_times.append(time)"
   ]
  },
  {
   "cell_type": "markdown",
   "metadata": {},
   "source": [
    "Now, plot the time series at the outlet (defined as the node that experiences peak stage):"
   ]
  },
  {
   "cell_type": "code",
   "execution_count": null,
   "metadata": {},
   "outputs": [],
   "source": [
    "plt.plot(outlet_times, outlet_depth, \"-\")\n",
    "plt.xlabel(\"Time elapsed (s)\")\n",
    "plt.ylabel(\"Flood stage (m)\")"
   ]
  },
  {
   "cell_type": "markdown",
   "metadata": {},
   "source": [
    "We can relax the assumption that all this discharge is delivered instantaneously at the start of the run with some tweaking of the driver:"
   ]
  },
  {
   "cell_type": "code",
   "execution_count": null,
   "metadata": {},
   "outputs": [],
   "source": [
    "grid.at_node[\"surface_water__depth\"].fill(1.0e-12)\n",
    "\n",
    "of = OverlandFlow(grid, steep_slopes=True)\n",
    "\n",
    "node_of_max_q = 2126\n",
    "outlet_depth = []\n",
    "outlet_times = []\n",
    "dt = 1.0\n",
    "for step in trange(60 * 60):\n",
    "    time = step * dt\n",
    "\n",
    "    of.run_one_step(dt=dt)\n",
    "\n",
    "    if step % 600 == 0:\n",
    "        plt.figure()\n",
    "        grid.imshow(\"surface_water__depth\", var_name=\"Stage (m)\")\n",
    "        plt.title(f\"Stage at t={time} s\")\n",
    "\n",
    "    outlet_depth.append(grid.at_node[\"surface_water__depth\"][node_of_max_q])\n",
    "    outlet_times.append(time)\n",
    "\n",
    "    if time < storm_t * 3600.0:\n",
    "        grid.at_node[\"surface_water__depth\"] += (\n",
    "            grid.at_node[\"rainfall__flux\"] * dt / 3600.0\n",
    "        )"
   ]
  },
  {
   "cell_type": "code",
   "execution_count": null,
   "metadata": {},
   "outputs": [],
   "source": [
    "plt.plot(outlet_times, outlet_depth, \"-\")\n",
    "plt.xlabel(\"Time elapsed (s)\")\n",
    "plt.ylabel(\"Flood stage (m)\")"
   ]
  },
  {
   "cell_type": "markdown",
   "metadata": {},
   "source": [
    "As expected, a more realistic spread of the rainfall across the storm gives a longer and more subdued flood pulse.\n",
    "\n",
    "(An aside: the levelling off of the tail at h~0.125m is likely due to the permanent filling of a depression in the topography - the same thing is probably causing the deep pixels in the flow maps - or are these numerical instabilities? Resolving this is left as an exercise for the reader...)"
   ]
  }
 ],
 "metadata": {
  "kernelspec": {
   "display_name": "Python 3 (ipykernel)",
   "language": "python",
   "name": "python3"
  },
  "language_info": {
   "codemirror_mode": {
    "name": "ipython",
    "version": 3
   },
   "file_extension": ".py",
   "mimetype": "text/x-python",
   "name": "python",
   "nbconvert_exporter": "python",
   "pygments_lexer": "ipython3",
   "version": "3.12.0"
  }
 },
 "nbformat": 4,
 "nbformat_minor": 4
}
