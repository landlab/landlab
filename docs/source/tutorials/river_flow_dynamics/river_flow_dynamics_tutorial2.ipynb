{
 "cells": [
  {
   "cell_type": "markdown",
   "metadata": {},
   "source": [
    "# 2D Surface Water Flow component\n"
   ]
  },
  {
   "cell_type": "markdown",
   "metadata": {},
   "source": [
    "# River Flow Dynamics Simulation with Landlab"
   ]
  },
  {
   "cell_type": "markdown",
   "metadata": {},
   "source": [
    "<hr>\n",
    "<small>For more Landlab tutorials, click here: <a href=\"https://landlab.csdms.io/tutorials/\">https://landlab.csdms.io/tutorials/</a></small>\n",
    "<hr>"
   ]
  },
  {
   "cell_type": "markdown",
   "metadata": {},
   "source": [
    "## Overview\n",
    "\n",
    "This notebook demonstrate the usage of the `river flow dynamics` Landlab component. The component runs a semi-implicit, semi-Lagrangian finite-volume approximation to the depth-averaged 2D shallow-water equations of Casulli and Cheng (1992) and related work.\n",
    "\n",
    "This notebook demonstrates how to simulate river flow dynamics using the Landlab library, implementing the semi-implicit, semi-Lagrangian finite-volume approximation of the depth-averaged shallow water equations (Casulli and Cheng, 1992).\n",
    "\n",
    "\n",
    "## Setup and Imports\n",
    "\n",
    "Import the needed libraries:"
   ]
  },
  {
   "cell_type": "code",
   "execution_count": null,
   "metadata": {},
   "outputs": [],
   "source": [
    "import matplotlib.pyplot as plt\n",
    "import numpy as np\n",
    "\n",
    "from landlab import RasterModelGrid\n",
    "from landlab.components import RiverFlowDynamics  # Note: Using updated CamelCase naming\n",
    "from landlab.plot.imshow import imshow_grid"
   ]
  },
  {
   "cell_type": "markdown",
   "metadata": {},
   "source": [
    "## Create Grid and Set Initial Conditions\n",
    "\n",
    "First, let's create a rectangular grid for our flow dynamics calculations:"
   ]
  },
  {
   "cell_type": "code",
   "execution_count": null,
   "metadata": {},
   "outputs": [],
   "source": [
    "nRows = 20\n",
    "nCols = 60\n",
    "cellSize = 0.1"
   ]
  },
  {
   "cell_type": "markdown",
   "metadata": {},
   "source": [
    "Creating the grid"
   ]
  },
  {
   "cell_type": "code",
   "execution_count": null,
   "metadata": {},
   "outputs": [],
   "source": [
    "grid = RasterModelGrid((nRows, nCols), xy_spacing=(cellSize, cellSize))"
   ]
  },
  {
   "cell_type": "markdown",
   "metadata": {},
   "source": [
    "## Setting up the initial topographic elevation"
   ]
  },
  {
   "cell_type": "code",
   "execution_count": null,
   "metadata": {},
   "outputs": [],
   "source": [
    "te = grid.add_zeros(\"topographic__elevation\", at=\"node\")\n",
    "te += 0.059 - 0.01 * grid.x_of_node\n",
    "te[grid.y_of_node > 1.5] = 1.0\n",
    "te[grid.y_of_node < 0.5] = 1.0"
   ]
  },
  {
   "cell_type": "markdown",
   "metadata": {},
   "source": [
    "## Visualizing the initial topography"
   ]
  },
  {
   "cell_type": "code",
   "execution_count": null,
   "metadata": {},
   "outputs": [],
   "source": [
    "plt.figure(figsize=(12, 4))\n",
    "imshow_grid(grid, \"topographic__elevation\")\n",
    "plt.title(\"Initial Topographic Elevation\")\n",
    "plt.colorbar(label=\"Elevation (m)\")\n",
    "plt.show()"
   ]
  },
  {
   "cell_type": "markdown",
   "metadata": {},
   "source": [
    "Visualizing the middle bed profile"
   ]
  },
  {
   "cell_type": "code",
   "execution_count": null,
   "metadata": {},
   "outputs": [],
   "source": [
    "middleBedProfile = np.reshape(te, (nRows, nCols))[10, :]\n",
    "plt.figure(figsize=(12, 3))\n",
    "plt.plot(middleBedProfile)\n",
    "plt.title(\"Middle Longitudinal Section of Bed Profile\")\n",
    "plt.xlabel(\"Distance (cells)\")\n",
    "plt.ylabel(\"Elevation (m)\")\n",
    "plt.grid(True)\n",
    "plt.show()"
   ]
  },
  {
   "cell_type": "markdown",
   "metadata": {},
   "source": [
    "## Initializing Required Fields\n",
    "\n",
    "Create water depth field (initially empty channel)"
   ]
  },
  {
   "cell_type": "code",
   "execution_count": null,
   "metadata": {},
   "outputs": [],
   "source": [
    "h = grid.add_zeros(\"surface_water__depth\", at=\"node\")"
   ]
  },
  {
   "cell_type": "markdown",
   "metadata": {},
   "source": [
    "Create velocity field (initially zero)"
   ]
  },
  {
   "cell_type": "code",
   "execution_count": null,
   "metadata": {},
   "outputs": [],
   "source": [
    "vel = grid.add_zeros(\"surface_water__velocity\", at=\"link\")"
   ]
  },
  {
   "cell_type": "markdown",
   "metadata": {},
   "source": [
    "Calculate initial water surface elevation"
   ]
  },
  {
   "cell_type": "code",
   "execution_count": null,
   "metadata": {},
   "outputs": [],
   "source": [
    "wse = grid.add_zeros(\"surface_water__elevation\", at=\"node\")\n",
    "wse += h + te"
   ]
  },
  {
   "cell_type": "markdown",
   "metadata": {},
   "source": [
    "## Setting up the boundary conditions"
   ]
  },
  {
   "cell_type": "code",
   "execution_count": null,
   "metadata": {},
   "outputs": [],
   "source": [
    "fixed_entry_nodes = np.arange(300, 910, 60)\n",
    "fixed_entry_links = grid.links_at_node[fixed_entry_nodes][:, 0]"
   ]
  },
  {
   "cell_type": "markdown",
   "metadata": {},
   "source": [
    "Set fixed values for entry nodes/links"
   ]
  },
  {
   "cell_type": "code",
   "execution_count": null,
   "metadata": {},
   "outputs": [],
   "source": [
    "entry_nodes_h_values = np.full(11, 0.5)  # 0.5m water depth\n",
    "entry_links_vel_values = np.full(11, 0.45)  # 0.45 m/s velocity"
   ]
  },
  {
   "cell_type": "markdown",
   "metadata": {},
   "source": [
    "## Run Simulation\n",
    "\n",
    "Initialize the RiverFlowDynamics component"
   ]
  },
  {
   "cell_type": "code",
   "execution_count": null,
   "metadata": {},
   "outputs": [],
   "source": [
    "rfd = RiverFlowDynamics(\n",
    "    grid,\n",
    "    dt=0.1,\n",
    "    mannings_n=0.012,\n",
    "    fixed_entry_nodes=fixed_entry_nodes,\n",
    "    fixed_entry_links=fixed_entry_links,\n",
    "    entry_nodes_h_values=entry_nodes_h_values,\n",
    "    entry_links_vel_values=entry_links_vel_values,\n",
    ")"
   ]
  },
  {
   "cell_type": "markdown",
   "metadata": {},
   "source": [
    "Run the simulation for 100 timesteps (10 seconds)"
   ]
  },
  {
   "cell_type": "code",
   "execution_count": null,
   "metadata": {},
   "outputs": [],
   "source": [
    "n_timesteps = 100\n",
    "for timestep in range(n_timesteps):\n",
    "    rfd.run_one_step()"
   ]
  },
  {
   "cell_type": "markdown",
   "metadata": {},
   "source": [
    "## Analyze Results\n",
    "\n",
    "Get flow depth along center of channel"
   ]
  },
  {
   "cell_type": "code",
   "execution_count": null,
   "metadata": {},
   "outputs": [],
   "source": [
    "flow_depth = np.reshape(grid[\"node\"][\"surface_water__depth\"], (nRows, nCols))[10, :]"
   ]
  },
  {
   "cell_type": "markdown",
   "metadata": {},
   "source": [
    "Plot flow depth"
   ]
  },
  {
   "cell_type": "code",
   "execution_count": null,
   "metadata": {},
   "outputs": [],
   "source": [
    "plt.figure(figsize=(12, 4))\n",
    "plt.plot(flow_depth, label=\"Simulated\")\n",
    "plt.title(\"Flow Depth Along Channel Centerline\")\n",
    "plt.xlabel(\"Distance (cells)\")\n",
    "plt.ylabel(\"Depth (m)\")\n",
    "plt.grid(True)\n",
    "plt.legend()\n",
    "plt.show()"
   ]
  },
  {
   "cell_type": "markdown",
   "metadata": {},
   "source": [
    "Get and plot velocity along center of channel"
   ]
  },
  {
   "cell_type": "code",
   "execution_count": null,
   "metadata": {},
   "outputs": [],
   "source": [
    "linksAtCenter = grid.links_at_node[np.array(np.arange(600, 660))][:-1, 0]\n",
    "flow_velocity = grid[\"link\"][\"surface_water__velocity\"][linksAtCenter]\n",
    "\n",
    "plt.figure(figsize=(12, 4))\n",
    "plt.plot(flow_velocity, label=\"Simulated\")\n",
    "plt.title(\"Flow Velocity Along Channel Centerline\")\n",
    "plt.xlabel(\"Distance (cells)\")\n",
    "plt.ylabel(\"Velocity (m/s)\")\n",
    "plt.grid(True)\n",
    "plt.legend()\n",
    "plt.show()"
   ]
  },
  {
   "cell_type": "markdown",
   "metadata": {},
   "source": [
    "## Visualization of Final State\n",
    "\n",
    "Create a figure with two subplots and then let's plot final water depth"
   ]
  },
  {
   "cell_type": "code",
   "execution_count": null,
   "metadata": {},
   "outputs": [],
   "source": [
    "fig, (ax1, ax2) = plt.subplots(2, 1, figsize=(12, 8))\n",
    "\n",
    "# Plot final water depth\n",
    "plt.subplot(2, 1, 1)\n",
    "im1 = imshow_grid(grid, \"surface_water__depth\")\n",
    "plt.title(\"Final Water Depth\")\n",
    "plt.colorbar(label=\"Depth (m)\")\n",
    "\n",
    "# Plot final water surface elevation\n",
    "plt.subplot(2, 1, 2)\n",
    "im2 = imshow_grid(grid, \"surface_water__elevation\")\n",
    "plt.title(\"Final Water Surface Elevation\")\n",
    "plt.colorbar(label=\"Elevation (m)\")\n",
    "\n",
    "plt.tight_layout()\n",
    "plt.show()"
   ]
  },
  {
   "cell_type": "markdown",
   "metadata": {},
   "source": [
    "-- --\n",
    "### And that's it! \n",
    "\n",
    "Nice work completing this tutorial. You know now how to use the `RiverFlowDynamics` Landlab component to run your own simulations :)\n",
    "\n",
    "-- --\n",
    "\n"
   ]
  },
  {
   "cell_type": "markdown",
   "metadata": {},
   "source": [
    "### Click here for more <a href=\"https://landlab.csdms.io/tutorials/\">Landlab tutorials</a>"
   ]
  }
 ],
 "metadata": {
  "kernelspec": {
   "display_name": "Python 3 (ipykernel)",
   "language": "python",
   "name": "python3"
  },
  "language_info": {
   "codemirror_mode": {
    "name": "ipython",
    "version": 3
   },
   "file_extension": ".py",
   "mimetype": "text/x-python",
   "name": "python",
   "nbconvert_exporter": "python",
   "pygments_lexer": "ipython3",
   "version": "3.12.5"
  }
 },
 "nbformat": 4,
 "nbformat_minor": 4
}
