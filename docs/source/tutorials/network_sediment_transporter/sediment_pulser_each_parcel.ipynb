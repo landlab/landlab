{
 "cells": [
  {
   "cell_type": "markdown",
   "id": "0",
   "metadata": {},
   "source": [
    "<a href=\"http://landlab.github.io\"><img style=\"float: left\" src=\"../../landlab_header.png\"></a>"
   ]
  },
  {
   "cell_type": "markdown",
   "id": "1",
   "metadata": {},
   "source": [
    "# Using SedimentPulserEachParcel to add sediment parcels to a channel network\n",
    "<hr>\n",
    "<small>For more Landlab tutorials, click here: <a href=\"https://landlab.readthedocs.io/en/latest/user_guide/tutorials.html\">https://landlab.readthedocs.io/en/latest/user_guide/tutorials.html</a></small>\n",
    "<hr>\n",
    "\n",
    "This tutorial illustrates how to use SedimentPulserEachParcel with a network model grid and the NetworkSedimentTransporter. \n",
    "\n",
    "* SedimentPulserEachParcel overview: The user specifies the link and distance on link that parcels are placed within a channel network in a Pandas DataFrame.\n",
    "\n",
    "In this example we will: \n",
    "\n",
    "(1) Set up a network model grid with an initial set of parcels, \n",
    "\n",
    "(2) Add pulses of sediment to the grid using SedimentPulserEachParcel, and \n",
    "\n",
    "(3) Run NetworkSedimentTransporter between pulses"
   ]
  },
  {
   "cell_type": "markdown",
   "id": "2",
   "metadata": {},
   "source": [
    "### 1. Setup the work space"
   ]
  },
  {
   "cell_type": "code",
   "execution_count": null,
   "id": "3",
   "metadata": {},
   "outputs": [],
   "source": [
    "import matplotlib.pyplot as plt\n",
    "import numpy as np\n",
    "import pandas as pd\n",
    "\n",
    "from landlab.components import FlowDirectorSteepest, NetworkSedimentTransporter\n",
    "from landlab.components.network_sediment_transporter.bed_parcel_initializers import (\n",
    "    BedParcelInitializerArea,\n",
    ")\n",
    "from landlab.components.network_sediment_transporter.sediment_pulser_each_parcel import (\n",
    "    SedimentPulserEachParcel,\n",
    ")\n",
    "from landlab.grid.network import NetworkModelGrid\n",
    "from landlab.plot import graph, plot_network_and_parcels"
   ]
  },
  {
   "cell_type": "markdown",
   "id": "4",
   "metadata": {},
   "source": [
    "### 2. Define the network model grid topology"
   ]
  },
  {
   "cell_type": "code",
   "execution_count": null,
   "id": "5",
   "metadata": {},
   "outputs": [],
   "source": [
    "x_of_node = (0, 0, 100, -50, -100, 50, -150, -100)\n",
    "y_of_node = (0, 100, 200, 200, 300, 400, 400, 125)\n",
    "nodes_at_link = ((1, 0), (1, 2), (7, 1), (3, 1), (4, 3), (5, 4), (6, 4))\n",
    "nmg = NetworkModelGrid((y_of_node, x_of_node), nodes_at_link)"
   ]
  },
  {
   "cell_type": "markdown",
   "id": "6",
   "metadata": {},
   "source": [
    " to help visualize where the pulses will be sent, plot the network with link and node id numbers "
   ]
  },
  {
   "cell_type": "code",
   "execution_count": null,
   "id": "7",
   "metadata": {},
   "outputs": [],
   "source": [
    "fig, axs = plt.subplots(1, 1, figsize=(4, 6))\n",
    "graph.plot_links(nmg, with_id=True)\n",
    "graph.plot_nodes(nmg, with_id=True)"
   ]
  },
  {
   "cell_type": "markdown",
   "id": "8",
   "metadata": {},
   "source": [
    "### 3. Define required link and node fields and run a flow director on the grid to add a slope field"
   ]
  },
  {
   "cell_type": "code",
   "execution_count": null,
   "id": "9",
   "metadata": {},
   "outputs": [],
   "source": [
    "nmg.at_link[\"channel_width\"] = np.array([3, 1.5, 2.5, 2, 2.5, 1.5, 2])  # m\n",
    "nmg.at_link[\"channel_slope\"] = np.array(\n",
    "    [0.05, 0.1, 0.06, 0.08, 0.07, 0.1, 0.08]\n",
    ")  # m / m\n",
    "nmg.at_link[\"reach_length\"] = np.array(\n",
    "    [100.0, 103.1, 111.8, 141.4, 111.8, 111.8, 180.3]\n",
    ")  # m\n",
    "nmg.at_node[\"topographic__elevation\"] = np.array([0.0, 5, 10, 10, 10, 15, 20, 20])\n",
    "nmg.at_node[\"bedrock__elevation\"] = np.array([0.0, 5, 10, 10, 10, 15, 20, 20])\n",
    "nmg.at_link[\"drainage_area\"] = np.array([1, 0.1, 0.625, 0.15, 0.4, 0.075, 0.2])  # km^2\n",
    "nmg.at_link[\"flow_depth\"] = np.array([0.7, 0.4, 0.6, 0.4, 0.5, 0.4, 0.4])  # m\n",
    "\n",
    "# instantiate and run flow director\n",
    "flow_director = FlowDirectorSteepest(nmg, \"topographic__elevation\")\n",
    "flow_director.run_one_step()"
   ]
  },
  {
   "cell_type": "markdown",
   "id": "10",
   "metadata": {},
   "source": [
    "### 4. Create an initial set of parcels on the grid. \n",
    "Note, we start with a small number of initial parcels so that parcels from later pulses of material are visible in plots of the parcels and network"
   ]
  },
  {
   "cell_type": "code",
   "execution_count": null,
   "id": "11",
   "metadata": {},
   "outputs": [],
   "source": [
    "initialize_parcels = BedParcelInitializerArea(\n",
    "    nmg,\n",
    "    drainage_area_coefficient=0.1,\n",
    "    drainage_area_exponent=0.2,\n",
    "    median_number_of_starting_parcels=2,\n",
    ")\n",
    "parcels = initialize_parcels()"
   ]
  },
  {
   "cell_type": "markdown",
   "id": "12",
   "metadata": {},
   "source": [
    "#### View the initial parcels on the network model grid, shaded by grain diameter"
   ]
  },
  {
   "cell_type": "code",
   "execution_count": null,
   "id": "13",
   "metadata": {},
   "outputs": [],
   "source": [
    "fig = plot_network_and_parcels(\n",
    "    nmg,\n",
    "    parcels,\n",
    "    parcel_time_index=0,  # index of time, not the time value\n",
    "    parcel_color_attribute=\"D\",\n",
    "    parcel_size=10,\n",
    "    parcel_alpha=1.0,\n",
    "    figsize=(3, 6),\n",
    ")"
   ]
  },
  {
   "cell_type": "markdown",
   "id": "14",
   "metadata": {},
   "source": [
    "#### Viewing the element id of the parcels in the network shows that ParcelInitializer added 15 parcels to the network"
   ]
  },
  {
   "cell_type": "code",
   "execution_count": null,
   "id": "15",
   "metadata": {},
   "outputs": [],
   "source": [
    "parcels.dataset[\"element_id\"]"
   ]
  },
  {
   "cell_type": "markdown",
   "id": "16",
   "metadata": {},
   "source": [
    "### 5. Instantiate and run the NetworkSedimentTransporter component using a flow event with flow depth equal to the link field \"flow_depth\" that last 24 hours "
   ]
  },
  {
   "cell_type": "code",
   "execution_count": null,
   "id": "17",
   "metadata": {},
   "outputs": [],
   "source": [
    "nst = NetworkSedimentTransporter(\n",
    "    nmg,\n",
    "    parcels,\n",
    "    flow_director,\n",
    "    bed_porosity=0.3,\n",
    "    g=9.81,\n",
    "    fluid_density=1000,\n",
    "    transport_method=\"WilcockCrowe\",\n",
    "    active_layer_method=\"Constant10cm\",\n",
    ")"
   ]
  },
  {
   "cell_type": "code",
   "execution_count": null,
   "id": "18",
   "metadata": {},
   "outputs": [],
   "source": [
    "nst.run_one_step(dt=3600 * 24)"
   ]
  },
  {
   "cell_type": "markdown",
   "id": "19",
   "metadata": {},
   "source": [
    "#### View parcel locations after the flow event"
   ]
  },
  {
   "cell_type": "code",
   "execution_count": null,
   "id": "20",
   "metadata": {},
   "outputs": [],
   "source": [
    "fig = plot_network_and_parcels(\n",
    "    nmg,\n",
    "    parcels,\n",
    "    parcel_time_index=1,  # index of time, not the time value\n",
    "    parcel_color_attribute=\"D\",\n",
    "    parcel_size=10,\n",
    "    parcel_alpha=1.0,\n",
    "    figsize=(3, 6),\n",
    ")"
   ]
  },
  {
   "cell_type": "markdown",
   "id": "21",
   "metadata": {},
   "source": [
    "#### Note that none of parcels moved because the partial initializer places all parcels in the inactive layer"
   ]
  },
  {
   "cell_type": "markdown",
   "id": "22",
   "metadata": {},
   "source": [
    "### 6. Instantiate SedimentPulserEachParcel\n",
    "SedimentPulserEachParcel is instantiated with a network model grid. Optionally, default parcel attributes and a parcel DataRecord can be defined. If a parcel DataRecord is not provided, SedimentPulserEachParcel will create a new parcel \n",
    "DataRecord."
   ]
  },
  {
   "cell_type": "code",
   "execution_count": null,
   "id": "23",
   "metadata": {},
   "outputs": [],
   "source": [
    "make_pulse = SedimentPulserEachParcel(\n",
    "    nmg, parcels=parcels, parcel_volume=1\n",
    ")  # set the default max parcel_volume as 1 m^3"
   ]
  },
  {
   "cell_type": "markdown",
   "id": "24",
   "metadata": {},
   "source": [
    "### 7. create the PulseDF (Pulse DataFrame). \n",
    "Each row of the PulseDF contains information on the deposition location and \n",
    "volume of a single pulse of sediment. The pulse is divided into 'n' number of \n",
    "parcels, where 'n' equals numpy.ceil(pulse volume / max parcel volume)\n",
    "For details on the format of the PulseDF, see the docstring for\n",
    "function SedimentPulserEachParcel._sediment_pulse_dataframe \n",
    "\n",
    "Here we send a pulse to specific locations on links 1, 3, 5 and 2(see first figure for link id's)>\n",
    "Note that any parcel attributes not specified use default values. Default values can be set when SedimentPulserAtLinks is instantiated."
   ]
  },
  {
   "cell_type": "code",
   "execution_count": null,
   "id": "25",
   "metadata": {},
   "outputs": [],
   "source": [
    "time = nst.time\n",
    "# volume of each pulse\n",
    "PulseDF = pd.DataFrame(\n",
    "    {\n",
    "        \"pulse_volume\": [50, 5, 10, 15],\n",
    "        # pulses enter channel network at these links\n",
    "        \"link_#\": [1, 3, 5, 2],\n",
    "        # the normalized distance on the link (distance from link inlet / link length)\n",
    "        \"normalized_downstream_distance\": [0.8, 0.7, 0.5, 0.2],\n",
    "    }\n",
    ")"
   ]
  },
  {
   "cell_type": "code",
   "execution_count": null,
   "id": "26",
   "metadata": {},
   "outputs": [],
   "source": [
    "parcels = make_pulse(time, PulseDF)"
   ]
  },
  {
   "cell_type": "markdown",
   "id": "27",
   "metadata": {},
   "source": [
    "#### view the location of the new parcels from the pulse. \n",
    "Note that all parcels from a pulse are placed at the same point in the network and appear as 4 points on the plot\n"
   ]
  },
  {
   "cell_type": "code",
   "execution_count": null,
   "id": "28",
   "metadata": {},
   "outputs": [],
   "source": [
    "fig = plot_network_and_parcels(\n",
    "    nmg,\n",
    "    parcels,\n",
    "    parcel_time_index=1,  # index of time, not the time value\n",
    "    parcel_color_attribute=\"D\",\n",
    "    parcel_size=10,\n",
    "    parcel_alpha=1.0,\n",
    "    figsize=(3, 6),\n",
    ")"
   ]
  },
  {
   "cell_type": "markdown",
   "id": "29",
   "metadata": {},
   "source": [
    "#### Viewing the element id of the parcels in the network shows that we actually added roughly 80 new parcels"
   ]
  },
  {
   "cell_type": "code",
   "execution_count": null,
   "id": "30",
   "metadata": {},
   "outputs": [],
   "source": [
    "parcels.dataset[\"element_id\"]"
   ]
  },
  {
   "cell_type": "markdown",
   "id": "31",
   "metadata": {},
   "source": [
    "#### now apply another 24 hr flow event"
   ]
  },
  {
   "cell_type": "code",
   "execution_count": null,
   "id": "32",
   "metadata": {},
   "outputs": [],
   "source": [
    "nst.run_one_step(dt=3600 * 24)"
   ]
  },
  {
   "cell_type": "markdown",
   "id": "33",
   "metadata": {},
   "source": [
    "#### View parcel locations after the flow event"
   ]
  },
  {
   "cell_type": "code",
   "execution_count": null,
   "id": "34",
   "metadata": {},
   "outputs": [],
   "source": [
    "fig = plot_network_and_parcels(\n",
    "    nmg,\n",
    "    parcels,\n",
    "    parcel_time_index=2,  # index of time, not the time value\n",
    "    parcel_color_attribute=\"D\",\n",
    "    parcel_size=10,\n",
    "    parcel_alpha=1.0,\n",
    "    figsize=(3, 6),\n",
    ")"
   ]
  },
  {
   "cell_type": "markdown",
   "id": "35",
   "metadata": {},
   "source": [
    "Notice that after the flow event, the parcels at each pulse location spread out."
   ]
  },
  {
   "cell_type": "markdown",
   "id": "36",
   "metadata": {},
   "source": [
    "### 8. Send a second pulseDF\n",
    "\n",
    "This pulseDF includes two pulses:\n",
    "\n",
    "(1) A 30 m^3 landslide in thin-bedded siltstone near the channel head (inlet) of link 3\n",
    "\n",
    "(2) A 50 m^3 bedrock landslide in fractured, massive sandstone beds near the outlet of link 6\n"
   ]
  },
  {
   "cell_type": "code",
   "execution_count": null,
   "id": "37",
   "metadata": {},
   "outputs": [],
   "source": [
    "time = nst.time\n",
    "PulseDF = pd.DataFrame(\n",
    "    {\n",
    "        \"pulse_volume\": [30, 50],  # pulse volume\n",
    "        \"link_#\": [3, 6],  # link id\n",
    "        \"normalized_downstream_distance\": [0.1, 0.9],  # distance on link\n",
    "        \"D50\": [0.02, 0.5],  # median grain size\n",
    "        \"abrasion_rate\": [0.1, 0.01],  # abrasion rate\n",
    "        \"parcel_volume\": [0.25, 2],\n",
    "    }\n",
    ")  # parcel volume"
   ]
  },
  {
   "cell_type": "code",
   "execution_count": null,
   "id": "38",
   "metadata": {},
   "outputs": [],
   "source": [
    "parcels = make_pulse(time, PulseDF)"
   ]
  },
  {
   "cell_type": "markdown",
   "id": "39",
   "metadata": {},
   "source": [
    "#### view the new parcels"
   ]
  },
  {
   "cell_type": "code",
   "execution_count": null,
   "id": "40",
   "metadata": {},
   "outputs": [],
   "source": [
    "fig = plot_network_and_parcels(\n",
    "    nmg,\n",
    "    parcels,\n",
    "    parcel_time_index=2,  # index of time, not the time value\n",
    "    parcel_color_attribute=\"D\",\n",
    "    parcel_size=10,\n",
    "    parcel_alpha=1.0,\n",
    "    figsize=(3, 6),\n",
    ")"
   ]
  },
  {
   "cell_type": "markdown",
   "id": "41",
   "metadata": {},
   "source": [
    "#### apply another day long flow event"
   ]
  },
  {
   "cell_type": "code",
   "execution_count": null,
   "id": "42",
   "metadata": {},
   "outputs": [],
   "source": [
    "nst.run_one_step(dt=3600 * 24)"
   ]
  },
  {
   "cell_type": "code",
   "execution_count": null,
   "id": "43",
   "metadata": {},
   "outputs": [],
   "source": [
    "fig = plot_network_and_parcels(\n",
    "    nmg,\n",
    "    parcels,\n",
    "    parcel_time_index=3,  # index of time, not the time value\n",
    "    parcel_color_attribute=\"D\",\n",
    "    parcel_size=10,\n",
    "    parcel_alpha=1.0,\n",
    "    figsize=(3, 6),\n",
    ")"
   ]
  },
  {
   "cell_type": "markdown",
   "id": "44",
   "metadata": {},
   "source": [
    "#### Notice how parcels containing the boulder size grains in link 6 did not move but the parcels containing gravel sized grains in link 3 do."
   ]
  }
 ],
 "metadata": {
  "kernelspec": {
   "display_name": "Python 3 (ipykernel)",
   "language": "python",
   "name": "python3"
  },
  "language_info": {
   "codemirror_mode": {
    "name": "ipython",
    "version": 3
   },
   "file_extension": ".py",
   "mimetype": "text/x-python",
   "name": "python",
   "nbconvert_exporter": "python",
   "pygments_lexer": "ipython3",
   "version": "3.10.4"
  }
 },
 "nbformat": 4,
 "nbformat_minor": 5
}
