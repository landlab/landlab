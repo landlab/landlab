{
 "cells": [
  {
   "cell_type": "markdown",
   "id": "0",
   "metadata": {},
   "source": [
    "# Using the Landlab Shared Stream Power Model\n",
    "\n",
    "*(Ann Thompson, Arizona State University, July 2024)*\n",
    "\n",
    "This notebook is a tutorial of the `SharedStreamPower` component, which is an extension of the `ErosionDeposion` component. `SharedStreamPower` is a landscape evolution model designed to seamlessly transition between bedrock incision (detachment limited erosion) and sediment transport (transport limited erosion). It is based off of the shared stream power model from Hergarten (2021)."
   ]
  },
  {
   "cell_type": "markdown",
   "id": "1",
   "metadata": {},
   "source": [
    "## Overview\n",
    "\n",
    "### Theory\n",
    "\n",
    "Here is the equation for the shared stream power model:\n",
    "\n",
    "$$E = k_{bedrock}A^mS^n- \\frac{k_{bedrock}}{k_{transport}}\\frac{Q_s}{A} $$ \n",
    "\n",
    "where $k_{bedrock}$ is the erodibility with no sediment and $k_{transport}$ is the ability to transport sediment. The ratio, $\\frac{k_{bedrock}}{k_{transport}}$ determines how much relative bedrock incision and sediment transport is occurring.\n",
    "\n",
    "For $\\frac{k_{bedrock}}{k_{transport}} = 0$, the model is entirely detachment limited, and behaves as the stream power model:\n",
    "$$E = k_{bedrock}A^mS^n$$\n",
    "\n",
    "For $\\frac{k_{bedrock}}{k_{transport}} = \\infty$, the model is completely dominated by deposition.\n",
    "\n"
   ]
  },
  {
   "cell_type": "markdown",
   "id": "2",
   "metadata": {},
   "source": [
    "Import Libraries"
   ]
  },
  {
   "cell_type": "code",
   "execution_count": null,
   "id": "3",
   "metadata": {},
   "outputs": [],
   "source": [
    "import matplotlib.pyplot as plt\n",
    "import numpy as np\n",
    "from tqdm.notebook import trange\n",
    "\n",
    "from landlab import RasterModelGrid\n",
    "from landlab.components import (\n",
    "    ChannelProfiler,\n",
    "    ChiFinder,\n",
    "    DepressionFinderAndRouter,\n",
    "    FlowAccumulator,\n",
    "    SharedStreamPower,\n",
    "    SteepnessFinder,\n",
    ")"
   ]
  },
  {
   "cell_type": "markdown",
   "id": "4",
   "metadata": {},
   "source": [
    "Make Grid"
   ]
  },
  {
   "cell_type": "code",
   "execution_count": null,
   "id": "5",
   "metadata": {},
   "outputs": [],
   "source": [
    "# Create grid\n",
    "grid = RasterModelGrid((20, 20), xy_spacing=100.0)\n",
    "\n",
    "# Leave bottom boundary open\n",
    "grid.set_closed_boundaries_at_grid_edges(True, True, True, False)\n",
    "\n",
    "\n",
    "# Create initial topography\n",
    "np.random.seed(35)  # seed set so our figures are reproducible\n",
    "\n",
    "# initial noise on elevation grid\n",
    "# set up the elevation on the grid\n",
    "grid.at_node[\"topographic__elevation\"] = np.random.rand(grid.number_of_nodes) / 1000.0"
   ]
  },
  {
   "cell_type": "markdown",
   "id": "6",
   "metadata": {},
   "source": [
    "Set Parameters"
   ]
  },
  {
   "cell_type": "code",
   "execution_count": null,
   "id": "7",
   "metadata": {},
   "outputs": [],
   "source": [
    "k_bedrock = 0.001  # bedrock erodibility\n",
    "k_transport = 0.01  # transport coefficient\n",
    "# For detachment limited behavior, set k_bedrock = 0.001, k_transport = 0.01\n",
    "# For transport limited behavior, set k_bedrock = 0.01, k_transport = 0.001\n",
    "# For mixed bedrock-alluvial conditions, set k_bedrock = k_transport = 0.001\n",
    "\n",
    "F_f = 0.0  # fraction of fines\n",
    "m_sp = 0.5  # discharge exponent\n",
    "n_sp = 1.0  # slope exponent\n",
    "r = 1.0  # m/yr # Define runoff parameter r, where Q=Ar\n",
    "\n",
    "# time parameters, timestep, run time, print time  (years)\n",
    "timestep = 10\n",
    "run_time = 50000\n",
    "print_time = 10000\n",
    "\n",
    "# Set elapsed time to zero\n",
    "elapsed_time = 0\n",
    "\n",
    "# set uplift rate\n",
    "rock_uplift_rate = 1e-4  # m/yr"
   ]
  },
  {
   "cell_type": "markdown",
   "id": "8",
   "metadata": {},
   "source": [
    "Instantiate Components"
   ]
  },
  {
   "cell_type": "code",
   "execution_count": null,
   "id": "9",
   "metadata": {},
   "outputs": [],
   "source": [
    "# Instantiate flow accumulator and depression finder for each timestep\n",
    "flow_accumulator = FlowAccumulator(grid, flow_director=\"D8\")\n",
    "depression_finder = DepressionFinderAndRouter(grid)\n",
    "\n",
    "# Instantiate components for plotting results\n",
    "steepness_finder = SteepnessFinder(\n",
    "    grid, reference_concavity=m_sp / n_sp, min_drainage_area=1000.0\n",
    ")\n",
    "chi_finder = ChiFinder(\n",
    "    grid,\n",
    "    min_drainage_area=1000.0,\n",
    "    reference_concavity=m_sp / n_sp,\n",
    "    use_true_dx=True,\n",
    ")\n",
    "\n",
    "# Instantiate the shared stream power component\n",
    "shared_stream_power = SharedStreamPower(\n",
    "    grid, k_bedrock=k_bedrock, k_transport=k_transport, m_sp=m_sp, n_sp=n_sp\n",
    ")"
   ]
  },
  {
   "cell_type": "markdown",
   "id": "10",
   "metadata": {},
   "source": [
    "Run"
   ]
  },
  {
   "cell_type": "code",
   "execution_count": null,
   "id": "11",
   "metadata": {},
   "outputs": [],
   "source": [
    "for _ in trange(0, run_time, timestep):\n",
    "    # Run the flow router\n",
    "    flow_accumulator.run_one_step()\n",
    "\n",
    "    # Run the depression finder and router; optional\n",
    "    depression_finder.map_depressions()\n",
    "\n",
    "    # Run the SSPM model\n",
    "    shared_stream_power.run_one_step(dt=timestep)\n",
    "\n",
    "    # Move  elevation of core nodes upwards relative to base level\n",
    "    # at the rock uplift rate\n",
    "    grid.at_node[\"topographic__elevation\"][grid.core_nodes] += (\n",
    "        rock_uplift_rate * timestep\n",
    "    )"
   ]
  },
  {
   "cell_type": "markdown",
   "id": "12",
   "metadata": {},
   "source": [
    "### Plot"
   ]
  },
  {
   "cell_type": "code",
   "execution_count": null,
   "id": "13",
   "metadata": {},
   "outputs": [],
   "source": [
    "# Pick individual channels to plot in map view\n",
    "prf = ChannelProfiler(\n",
    "    grid,\n",
    "    number_of_watersheds=2,\n",
    "    main_channel_only=False,\n",
    "    minimum_channel_threshold=grid.dx**2,\n",
    ")\n",
    "prf.run_one_step()\n",
    "\n",
    "plt.figure(1)\n",
    "prf.plot_profiles_in_map_view()\n",
    "plt.show()\n",
    "\n",
    "# Plot channel profiles\n",
    "plt.figure(2)\n",
    "prf.plot_profiles()\n",
    "plt.show()"
   ]
  },
  {
   "cell_type": "code",
   "execution_count": null,
   "id": "14",
   "metadata": {},
   "outputs": [],
   "source": [
    "# Plot slope-area plots for the channels\n",
    "plt.figure(3)\n",
    "plt.figure(figsize=(6, 2))\n",
    "for i, outlet_id in enumerate(prf.data_structure):\n",
    "    for j, segment_id in enumerate(prf.data_structure[outlet_id]):\n",
    "        if j == 0:\n",
    "            label = f\"channel {i + 1}\"\n",
    "        else:\n",
    "            label = \"_nolegend_\"\n",
    "        segment = prf.data_structure[outlet_id][segment_id]\n",
    "        profile_ids = segment[\"ids\"]\n",
    "        color = segment[\"color\"]\n",
    "        plt.loglog(\n",
    "            grid.at_node[\"drainage_area\"][profile_ids],\n",
    "            grid.at_node[\"topographic__steepest_slope\"][profile_ids],\n",
    "            \".\",\n",
    "            color=color,\n",
    "            label=label,\n",
    "        )\n",
    "\n",
    "plt.legend(loc=\"lower left\")\n",
    "plt.xlabel(\"drainage area (m^2)\")\n",
    "plt.ylabel(\"channel slope [m/m]\")\n",
    "plt.title(\"Area vs. Slope\")\n",
    "\n",
    "\n",
    "# calculate normalized channel steepness\n",
    "steepness_finder.calculate_steepnesses()\n",
    "\n",
    "# plots of normalized channel steepness in the profiled channels\n",
    "plt.figure(6)\n",
    "plt.figure(figsize=(6, 2))\n",
    "for i, outlet_id in enumerate(prf.data_structure):\n",
    "    for j, segment_id in enumerate(prf.data_structure[outlet_id]):\n",
    "        if j == 0:\n",
    "            label = f\"channel {i + 1}\"\n",
    "        else:\n",
    "            label = \"_nolegend_\"\n",
    "        segment = prf.data_structure[outlet_id][segment_id]\n",
    "        profile_ids = segment[\"ids\"]\n",
    "        distance_upstream = segment[\"distances\"]\n",
    "        color = segment[\"color\"]\n",
    "        plt.plot(\n",
    "            distance_upstream,\n",
    "            grid.at_node[\"channel__steepness_index\"][profile_ids],\n",
    "            \"x\",\n",
    "            color=color,\n",
    "            label=label,\n",
    "        )\n",
    "\n",
    "plt.xlabel(\"distance upstream (m)\")\n",
    "plt.ylabel(\"steepness index\")\n",
    "plt.legend(loc=\"lower left\")\n",
    "plt.title(\"Distance Upstream vs. Ksn\")\n",
    "\n",
    "# Plot drainage area vs. sediment flux\n",
    "plt.figure(7)\n",
    "plt.figure(figsize=(6, 2))\n",
    "plt.scatter(\n",
    "    grid.at_node[\"drainage_area\"],\n",
    "    grid.at_node[\"sediment__flux\"],\n",
    "    marker=\"o\",\n",
    "    color=\"y\",\n",
    ")\n",
    "\n",
    "plt.xlabel(\"drainage area (m^2)\")\n",
    "plt.ylabel(\"(sediment flux m^3/s)\")\n",
    "plt.title(\"Area vs. Sediment Flux\")"
   ]
  },
  {
   "cell_type": "markdown",
   "id": "15",
   "metadata": {},
   "source": [
    "# Run with Transient Uplift \n",
    "To observe the landscape response to increased uplift, we set a new uplift rate, run for 10,000 years, and plot the normalized channel steepness at every 1000 years.\n"
   ]
  },
  {
   "cell_type": "markdown",
   "id": "16",
   "metadata": {},
   "source": [
    "Set new parameters"
   ]
  },
  {
   "cell_type": "code",
   "execution_count": null,
   "id": "17",
   "metadata": {},
   "outputs": [],
   "source": [
    "rock_uplift_rate = 0.001  # increased by a factor of     0\n",
    "time_interval = 1000  # interval between each plot\n",
    "run_time = 10000  # total run time\n",
    "elapsed_time = 0  # reset elapsed time to 0"
   ]
  },
  {
   "cell_type": "markdown",
   "id": "18",
   "metadata": {},
   "source": [
    "Run loop at plot at each interval"
   ]
  },
  {
   "cell_type": "code",
   "execution_count": null,
   "id": "19",
   "metadata": {},
   "outputs": [],
   "source": [
    "for elapsed_time in trange(0, run_time, timestep):\n",
    "    if elapsed_time % time_interval == 0:  # if time interval is reached, plot\n",
    "        prf.run_one_step()\n",
    "        steepness_finder.calculate_steepnesses()\n",
    "        plt.figure(6)\n",
    "        plt.figure(figsize=(6, 2))\n",
    "        for i, outlet_id in enumerate(prf.data_structure):\n",
    "            for j, segment_id in enumerate(prf.data_structure[outlet_id]):\n",
    "                if j == 0:\n",
    "                    label = f\"channel {i + 1}\"\n",
    "                else:\n",
    "                    label = \"_nolegend_\"\n",
    "                segment = prf.data_structure[outlet_id][segment_id]\n",
    "                profile_ids = segment[\"ids\"]\n",
    "                distance_upstream = segment[\"distances\"]\n",
    "                color = segment[\"color\"]\n",
    "                plt.plot(\n",
    "                    distance_upstream,\n",
    "                    grid.at_node[\"channel__steepness_index\"][profile_ids],\n",
    "                    \"x\",\n",
    "                    color=color,\n",
    "                    label=label,\n",
    "                )\n",
    "\n",
    "        plt.xlabel(\"distance upstream (m)\")\n",
    "        plt.ylabel(\"steepness index\")\n",
    "        plt.legend(loc=\"lower left\")\n",
    "        plt.title(f\"Steepness index at t = {elapsed_time}\")\n",
    "\n",
    "    # Run the flow router\n",
    "    flow_accumulator.run_one_step()\n",
    "\n",
    "    # Run the depression finder and router; optional\n",
    "    depression_finder.map_depressions()\n",
    "\n",
    "    # Run the SSPM model for one timestep\n",
    "    shared_stream_power.run_one_step(dt=timestep)\n",
    "\n",
    "    # Move  elevation of core nodes upwards relative to base level\n",
    "    # at the rock uplift rate\n",
    "    grid.at_node[\"topographic__elevation\"][grid.core_nodes] += (\n",
    "        rock_uplift_rate * timestep\n",
    "    )"
   ]
  },
  {
   "cell_type": "markdown",
   "id": "20",
   "metadata": {},
   "source": [
    "## References\n",
    "\n",
    "\n",
    "Hergarten, S. (2021). The influence of sediment transport on stationary\n",
    "    and mobile knickpoints in river profiles. Journal of Geophysical Research:\n",
    "    Earth Surface, 126, e2021JF006218. https://doi.org/10.1029/2021JF006218\n"
   ]
  }
 ],
 "metadata": {
  "kernelspec": {
   "display_name": "Python 3 (ipykernel)",
   "language": "python",
   "name": "python3"
  },
  "language_info": {
   "codemirror_mode": {
    "name": "ipython",
    "version": 3
   },
   "file_extension": ".py",
   "mimetype": "text/x-python",
   "name": "python",
   "nbconvert_exporter": "python",
   "pygments_lexer": "ipython3",
   "version": "3.12.5"
  }
 },
 "nbformat": 4,
 "nbformat_minor": 5
}
