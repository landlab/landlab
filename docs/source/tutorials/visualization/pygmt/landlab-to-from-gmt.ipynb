{
 "cells": [
  {
   "cell_type": "markdown",
   "id": "e53ef5d8-5098-4001-b18f-ee3bd4270c26",
   "metadata": {},
   "source": [
    "# Working with Landlab and PyGMT\n",
    "\n",
    "The PyGMT package, a Python-wrapped version of Generic Mapping Tools, provides powerful capabilities for plotting and visualizing geoscientific data. PyGMT includes the capability of pulling in digital elevation model (DEM) data from a remote server. This notebook demonstrates several aspects of working with Landlab and PyGMT together:\n",
    "\n",
    "- Downloading DEM data using PyGMT.\n",
    "\n",
    "- Projecting from geographic to UTM coordinates.\n",
    "\n",
    "- Converting a PyGMT elevation into a Landlab RasterModelGrid.\n",
    "\n",
    "- Running a Landlab component using the converted GMT elevation grid.\n",
    "\n",
    "- Converting derived data back to GMT grid format.\n",
    "\n",
    "- Projecting back to geographic.\n",
    "\n",
    "- Visualizing the output with PyGMT plotting functions.\n",
    "\n",
    "\n",
    "### Requirements:\n",
    "\n",
    "- Landlab\n",
    "- PyGMT\n",
    "- Numpy\n",
    "- Matplotlib\n",
    "\n",
    "*(Tutorial written by Greg Tucker, August 2024)*"
   ]
  },
  {
   "cell_type": "markdown",
   "id": "8f74207e-25ac-4f5c-9adb-a8dff176ad5b",
   "metadata": {},
   "source": [
    "## Importing a DEM using PyGMT\n",
    "\n",
    "We start off using the PyGMT function `load_earth_relief` to get a DEM. Here we'll use the San Juan Islands, northwestern US, as an example.\n",
    "\n",
    "Start with some imports:"
   ]
  },
  {
   "cell_type": "code",
   "execution_count": 1,
   "id": "622387d8-840e-44c1-af33-adaa078dcff9",
   "metadata": {},
   "outputs": [],
   "source": [
    "import numpy as np\n",
    "import matplotlib.pyplot as plt\n",
    "import xarray as xr\n",
    "from landlab import RasterModelGrid, imshow_grid\n",
    "import pygmt"
   ]
  },
  {
   "cell_type": "markdown",
   "id": "d7a12cb2-b028-4c54-89d2-c90f65a6fbdc",
   "metadata": {},
   "source": [
    "Next, run PyGMT's `load_earth_relief` function. We give it the latitude and longitude coordinates of our region. We will request a resolution of three arc seconds (about 90 meters) per grid cell. The function returns an `xarray` `DataArray` with the elevation values and some metadata."
   ]
  },
  {
   "cell_type": "code",
   "execution_count": 2,
   "id": "89ea6ca2-3147-4cf8-88b3-8c05546332f7",
   "metadata": {},
   "outputs": [
    {
     "name": "stderr",
     "output_type": "stream",
     "text": [
      "gmtread [ERROR]: Cannot find file earth_relief_03s_g\n",
      "gmtread [ERROR]: File earth_relief_03s_g not found\n",
      "[Session pygmt-session (2)]: Error returned from GMT API: GMT_FILE_NOT_FOUND (16)\n"
     ]
    },
    {
     "ename": "GMTCLibError",
     "evalue": "Module 'read' failed with status code 16:\ngmtread [ERROR]: Cannot find file earth_relief_03s_g\ngmtread [ERROR]: File earth_relief_03s_g not found",
     "output_type": "error",
     "traceback": [
      "\u001b[0;31m---------------------------------------------------------------------------\u001b[0m",
      "\u001b[0;31mGMTCLibError\u001b[0m                              Traceback (most recent call last)",
      "Cell \u001b[0;32mIn[2], line 3\u001b[0m\n\u001b[1;32m      1\u001b[0m san_juan_islands \u001b[38;5;241m=\u001b[39m [\u001b[38;5;241m-\u001b[39m\u001b[38;5;241m123.24\u001b[39m, \u001b[38;5;241m-\u001b[39m\u001b[38;5;241m122.76\u001b[39m, \u001b[38;5;241m48.41\u001b[39m, \u001b[38;5;241m48.73\u001b[39m]\n\u001b[0;32m----> 3\u001b[0m gmtgrid \u001b[38;5;241m=\u001b[39m \u001b[43mpygmt\u001b[49m\u001b[38;5;241;43m.\u001b[39;49m\u001b[43mdatasets\u001b[49m\u001b[38;5;241;43m.\u001b[39;49m\u001b[43mload_earth_relief\u001b[49m\u001b[43m(\u001b[49m\n\u001b[1;32m      4\u001b[0m \u001b[43m    \u001b[49m\u001b[43mresolution\u001b[49m\u001b[38;5;241;43m=\u001b[39;49m\u001b[38;5;124;43m\"\u001b[39;49m\u001b[38;5;124;43m03s\u001b[39;49m\u001b[38;5;124;43m\"\u001b[39;49m\u001b[43m,\u001b[49m\n\u001b[1;32m      5\u001b[0m \u001b[43m    \u001b[49m\u001b[43mregion\u001b[49m\u001b[38;5;241;43m=\u001b[39;49m\u001b[43msan_juan_islands\u001b[49m\u001b[43m,\u001b[49m\n\u001b[1;32m      6\u001b[0m \u001b[43m)\u001b[49m\n",
      "File \u001b[0;32m/Applications/anaconda3/envs/pygmt/lib/python3.12/site-packages/pygmt/helpers/decorators.py:773\u001b[0m, in \u001b[0;36mkwargs_to_strings.<locals>.converter.<locals>.new_module\u001b[0;34m(*args, **kwargs)\u001b[0m\n\u001b[1;32m    770\u001b[0m             bound\u001b[38;5;241m.\u001b[39marguments[\u001b[38;5;124m\"\u001b[39m\u001b[38;5;124mkwargs\u001b[39m\u001b[38;5;124m\"\u001b[39m][arg] \u001b[38;5;241m=\u001b[39m newvalue\n\u001b[1;32m    772\u001b[0m \u001b[38;5;66;03m# Execute the original function and return its output\u001b[39;00m\n\u001b[0;32m--> 773\u001b[0m \u001b[38;5;28;01mreturn\u001b[39;00m \u001b[43mmodule_func\u001b[49m\u001b[43m(\u001b[49m\u001b[38;5;241;43m*\u001b[39;49m\u001b[43mbound\u001b[49m\u001b[38;5;241;43m.\u001b[39;49m\u001b[43margs\u001b[49m\u001b[43m,\u001b[49m\u001b[43m \u001b[49m\u001b[38;5;241;43m*\u001b[39;49m\u001b[38;5;241;43m*\u001b[39;49m\u001b[43mbound\u001b[49m\u001b[38;5;241;43m.\u001b[39;49m\u001b[43mkwargs\u001b[49m\u001b[43m)\u001b[49m\n",
      "File \u001b[0;32m/Applications/anaconda3/envs/pygmt/lib/python3.12/site-packages/pygmt/datasets/earth_relief.py:168\u001b[0m, in \u001b[0;36mload_earth_relief\u001b[0;34m(resolution, region, registration, data_source, use_srtm)\u001b[0m\n\u001b[1;32m    166\u001b[0m     \u001b[38;5;28;01mcase\u001b[39;00m \u001b[38;5;124m\"\u001b[39m\u001b[38;5;124mgebco\u001b[39m\u001b[38;5;124m\"\u001b[39m \u001b[38;5;241m|\u001b[39m \u001b[38;5;124m\"\u001b[39m\u001b[38;5;124mgebcosi\u001b[39m\u001b[38;5;124m\"\u001b[39m:\n\u001b[1;32m    167\u001b[0m         name \u001b[38;5;241m=\u001b[39m \u001b[38;5;124m\"\u001b[39m\u001b[38;5;124mearth_gebco\u001b[39m\u001b[38;5;124m\"\u001b[39m\n\u001b[0;32m--> 168\u001b[0m grid \u001b[38;5;241m=\u001b[39m \u001b[43m_load_remote_dataset\u001b[49m\u001b[43m(\u001b[49m\n\u001b[1;32m    169\u001b[0m \u001b[43m    \u001b[49m\u001b[43mname\u001b[49m\u001b[38;5;241;43m=\u001b[39;49m\u001b[43mname\u001b[49m\u001b[43m,\u001b[49m\n\u001b[1;32m    170\u001b[0m \u001b[43m    \u001b[49m\u001b[43mprefix\u001b[49m\u001b[38;5;241;43m=\u001b[39;49m\u001b[43mprefix\u001b[49m\u001b[43m,\u001b[49m\n\u001b[1;32m    171\u001b[0m \u001b[43m    \u001b[49m\u001b[43mresolution\u001b[49m\u001b[38;5;241;43m=\u001b[39;49m\u001b[43mresolution\u001b[49m\u001b[43m,\u001b[49m\n\u001b[1;32m    172\u001b[0m \u001b[43m    \u001b[49m\u001b[43mregion\u001b[49m\u001b[38;5;241;43m=\u001b[39;49m\u001b[43mregion\u001b[49m\u001b[43m,\u001b[49m\n\u001b[1;32m    173\u001b[0m \u001b[43m    \u001b[49m\u001b[43mregistration\u001b[49m\u001b[38;5;241;43m=\u001b[39;49m\u001b[43mregistration\u001b[49m\u001b[43m,\u001b[49m\n\u001b[1;32m    174\u001b[0m \u001b[43m\u001b[49m\u001b[43m)\u001b[49m\n\u001b[1;32m    175\u001b[0m \u001b[38;5;28;01mreturn\u001b[39;00m grid\n",
      "File \u001b[0;32m/Applications/anaconda3/envs/pygmt/lib/python3.12/site-packages/pygmt/helpers/decorators.py:773\u001b[0m, in \u001b[0;36mkwargs_to_strings.<locals>.converter.<locals>.new_module\u001b[0;34m(*args, **kwargs)\u001b[0m\n\u001b[1;32m    770\u001b[0m             bound\u001b[38;5;241m.\u001b[39marguments[\u001b[38;5;124m\"\u001b[39m\u001b[38;5;124mkwargs\u001b[39m\u001b[38;5;124m\"\u001b[39m][arg] \u001b[38;5;241m=\u001b[39m newvalue\n\u001b[1;32m    772\u001b[0m \u001b[38;5;66;03m# Execute the original function and return its output\u001b[39;00m\n\u001b[0;32m--> 773\u001b[0m \u001b[38;5;28;01mreturn\u001b[39;00m \u001b[43mmodule_func\u001b[49m\u001b[43m(\u001b[49m\u001b[38;5;241;43m*\u001b[39;49m\u001b[43mbound\u001b[49m\u001b[38;5;241;43m.\u001b[39;49m\u001b[43margs\u001b[49m\u001b[43m,\u001b[49m\u001b[43m \u001b[49m\u001b[38;5;241;43m*\u001b[39;49m\u001b[38;5;241;43m*\u001b[39;49m\u001b[43mbound\u001b[49m\u001b[38;5;241;43m.\u001b[39;49m\u001b[43mkwargs\u001b[49m\u001b[43m)\u001b[49m\n",
      "File \u001b[0;32m/Applications/anaconda3/envs/pygmt/lib/python3.12/site-packages/pygmt/datasets/load_remote_dataset.py:414\u001b[0m, in \u001b[0;36m_load_remote_dataset\u001b[0;34m(name, prefix, resolution, region, registration)\u001b[0m\n\u001b[1;32m    412\u001b[0m \u001b[38;5;28;01mwith\u001b[39;00m Session() \u001b[38;5;28;01mas\u001b[39;00m lib:\n\u001b[1;32m    413\u001b[0m     \u001b[38;5;28;01mwith\u001b[39;00m lib\u001b[38;5;241m.\u001b[39mvirtualfile_out(kind\u001b[38;5;241m=\u001b[39m\u001b[38;5;124m\"\u001b[39m\u001b[38;5;124mgrid\u001b[39m\u001b[38;5;124m\"\u001b[39m) \u001b[38;5;28;01mas\u001b[39;00m voutgrd:\n\u001b[0;32m--> 414\u001b[0m         \u001b[43mlib\u001b[49m\u001b[38;5;241;43m.\u001b[39;49m\u001b[43mcall_module\u001b[49m\u001b[43m(\u001b[49m\n\u001b[1;32m    415\u001b[0m \u001b[43m            \u001b[49m\u001b[43mmodule\u001b[49m\u001b[38;5;241;43m=\u001b[39;49m\u001b[38;5;124;43m\"\u001b[39;49m\u001b[38;5;124;43mread\u001b[39;49m\u001b[38;5;124;43m\"\u001b[39;49m\u001b[43m,\u001b[49m\n\u001b[1;32m    416\u001b[0m \u001b[43m            \u001b[49m\u001b[43margs\u001b[49m\u001b[38;5;241;43m=\u001b[39;49m\u001b[43m[\u001b[49m\u001b[43mfname\u001b[49m\u001b[43m,\u001b[49m\u001b[43m \u001b[49m\u001b[43mvoutgrd\u001b[49m\u001b[43m,\u001b[49m\u001b[43m \u001b[49m\u001b[38;5;241;43m*\u001b[39;49m\u001b[43mbuild_arg_list\u001b[49m\u001b[43m(\u001b[49m\u001b[43mkwdict\u001b[49m\u001b[43m)\u001b[49m\u001b[43m]\u001b[49m\u001b[43m,\u001b[49m\n\u001b[1;32m    417\u001b[0m \u001b[43m        \u001b[49m\u001b[43m)\u001b[49m\n\u001b[1;32m    418\u001b[0m         grid \u001b[38;5;241m=\u001b[39m lib\u001b[38;5;241m.\u001b[39mvirtualfile_to_raster(outgrid\u001b[38;5;241m=\u001b[39m\u001b[38;5;28;01mNone\u001b[39;00m, vfname\u001b[38;5;241m=\u001b[39mvoutgrd)\n\u001b[1;32m    420\u001b[0m \u001b[38;5;66;03m# Full path to the grid if not tiled grids.\u001b[39;00m\n",
      "File \u001b[0;32m/Applications/anaconda3/envs/pygmt/lib/python3.12/site-packages/pygmt/clib/session.py:659\u001b[0m, in \u001b[0;36mSession.call_module\u001b[0;34m(self, module, args)\u001b[0m\n\u001b[1;32m    657\u001b[0m status \u001b[38;5;241m=\u001b[39m c_call_module(\u001b[38;5;28mself\u001b[39m\u001b[38;5;241m.\u001b[39msession_pointer, module\u001b[38;5;241m.\u001b[39mencode(), mode, argv)\n\u001b[1;32m    658\u001b[0m \u001b[38;5;28;01mif\u001b[39;00m status \u001b[38;5;241m!=\u001b[39m \u001b[38;5;241m0\u001b[39m:\n\u001b[0;32m--> 659\u001b[0m     \u001b[38;5;28;01mraise\u001b[39;00m GMTCLibError(\n\u001b[1;32m    660\u001b[0m         \u001b[38;5;124mf\u001b[39m\u001b[38;5;124m\"\u001b[39m\u001b[38;5;124mModule \u001b[39m\u001b[38;5;124m'\u001b[39m\u001b[38;5;132;01m{\u001b[39;00mmodule\u001b[38;5;132;01m}\u001b[39;00m\u001b[38;5;124m'\u001b[39m\u001b[38;5;124m failed with status code \u001b[39m\u001b[38;5;132;01m{\u001b[39;00mstatus\u001b[38;5;132;01m}\u001b[39;00m\u001b[38;5;124m:\u001b[39m\u001b[38;5;130;01m\\n\u001b[39;00m\u001b[38;5;132;01m{\u001b[39;00m\u001b[38;5;28mself\u001b[39m\u001b[38;5;241m.\u001b[39m_error_message\u001b[38;5;132;01m}\u001b[39;00m\u001b[38;5;124m\"\u001b[39m\n\u001b[1;32m    661\u001b[0m     )\n",
      "\u001b[0;31mGMTCLibError\u001b[0m: Module 'read' failed with status code 16:\ngmtread [ERROR]: Cannot find file earth_relief_03s_g\ngmtread [ERROR]: File earth_relief_03s_g not found"
     ]
    }
   ],
   "source": [
    "san_juan_islands = [-123.24, -122.76, 48.41, 48.73]\n",
    "\n",
    "gmtgrid = pygmt.datasets.load_earth_relief(\n",
    "    resolution=\"03s\",\n",
    "    region=san_juan_islands,\n",
    ")"
   ]
  },
  {
   "cell_type": "code",
   "execution_count": null,
   "id": "e6a13376-a1fe-483b-b64a-f8250851d1a9",
   "metadata": {},
   "outputs": [],
   "source": [
    "# Get info about gmtgrid\n",
    "gmtgrid"
   ]
  },
  {
   "cell_type": "markdown",
   "id": "773ec0e2-2374-4f8e-9212-fdcaf499da7b",
   "metadata": {},
   "source": [
    "The above information tells us that `gmtgrid` is an Xarray `DataArray` containing a 2D array of values called `z`, with coordinates of rows and columns listed in `Lat` and `Lon`, and a variety of *attributes*.\n",
    "\n",
    "Let's display the GMT elevation grid, using PyGMT's `grdimage` and `grdcontour` functions:"
   ]
  },
  {
   "cell_type": "code",
   "execution_count": null,
   "id": "c1fe8cf1-0a08-4665-8c6a-02410a748836",
   "metadata": {},
   "outputs": [],
   "source": [
    "fig = pygmt.Figure()\n",
    "fig.grdimage(\n",
    "    grid=gmtgrid,\n",
    "    frame=[\"a\", \"+tSan Juan Islands\"],\n",
    "    projection=\"M10c\",  # M = Mercator; 10c = 10 cm wide\n",
    "    cmap=\"oleron\",\n",
    ")\n",
    "fig.grdcontour(grid=gmtgrid, levels=25.0, limit=[0, 750.0], annotation=None)\n",
    "fig.colorbar(frame=[\"a100\", \"x+lElevation\", \"y+lm\"])\n",
    "fig.show()"
   ]
  },
  {
   "cell_type": "markdown",
   "id": "a6e3baf3-9f5a-4f86-b194-cf94c0446d88",
   "metadata": {},
   "source": [
    "Here's an alternative example using `grdview`:"
   ]
  },
  {
   "cell_type": "code",
   "execution_count": null,
   "id": "ee98fde6-2cf4-4775-8633-195483f45b8c",
   "metadata": {},
   "outputs": [],
   "source": [
    "fig = pygmt.Figure()\n",
    "fig.grdview(\n",
    "    grid=gmtgrid,\n",
    "    perspective=[160, 30],\n",
    "    frame=[\"xa\", \"yaf\", \"WSnE\"],\n",
    "    projection=\"M15c\",\n",
    "    zsize=\"1.5c\",\n",
    "    # Set the surftype to \"surface\"\n",
    "    surftype=\"s\",\n",
    "    # Set the CPT (color palette) to \"geo\"\n",
    "    cmap=\"geo\",\n",
    ")\n",
    "fig.show()"
   ]
  },
  {
   "cell_type": "markdown",
   "id": "a0bc278b-8eb5-4943-b726-957424eca988",
   "metadata": {},
   "source": [
    "### Projecting to UTM\n",
    "\n",
    "Before we transfer this DEM into the format of a Landlab `RasterModelGrid`, we need to address a drawback of having a DEM in geographic (lat-lon) coordinates. Landlab components that operate on terrain often expect the horizontal and vertical units to be the same; that is, the $x$ and $y$ coordinates of the various grid elements are assumed to be in the same coordinate system and units as the field `topographic__elevation`. But in this example, so far we have a DEM that uses degrees for horizontal coordinates and meters for elevation values.\n",
    "\n",
    "To get around this problem, we can project the DEM onto a coordinate system with distance-based rather than geographical coordinates in the horizontal. PyGMT provides a function to do this: `grdproject`. It uses interpolation to create a new grid with points now georeferenced in a given projected coordinate system. Here we'll project the grid data into the widely used the Universal Transverse Mercator (UTM) coordinate system. Note that because grid projection involves interpolation, some information will be smeared out in the process.\n",
    "\n",
    "Below we define a function to project a GMT grid from geographic to UTM coordinates. We also define a small helper function to infer the UTM zone from the center longitude and latitude:"
   ]
  },
  {
   "cell_type": "code",
   "execution_count": null,
   "id": "829db780-602a-4cc6-acf2-889553222877",
   "metadata": {},
   "outputs": [],
   "source": [
    "def utm_zone_from_lon(center_lon, center_lat):\n",
    "    \"\"\"Infer UTM zone from center lon and lat.\n",
    "\n",
    "    Warning: this isn't perfect. For the most part the UTM\n",
    "    system is divided into six-degree-wide N-S strips, but\n",
    "    there are some exceptions that this method ignores.\n",
    "    \"\"\"\n",
    "    zone = str(int(1 + (180 + center_lon) // 6.0))\n",
    "    if center_lat >= 0.0:\n",
    "        zone += \"N\"\n",
    "    else:\n",
    "        zone += \"S\"\n",
    "    return zone\n",
    "\n",
    "\n",
    "def gmt_geog_to_utm(gmt_grid):\n",
    "    \"\"\"\n",
    "    Project a GMT lat-lon grid to a UTM grid at the same\n",
    "    resolution.\n",
    "    \"\"\"\n",
    "    zone = utm_zone_from_lon(\n",
    "        0.5 * (np.amin(gmtgrid.lon) + np.amax(gmtgrid.lon)),\n",
    "        0.5 * (np.amin(gmtgrid.lat) + np.amax(gmtgrid.lat)),\n",
    "    )\n",
    "    out_grid = pygmt.grdproject(\n",
    "        grid=gmt_grid,\n",
    "        projection=\"U\" + str(zone) + \"/12c\",\n",
    "        scaling=\"e\",\n",
    "        region=[\n",
    "            float(np.amin(gmtgrid.lon)),\n",
    "            float(np.amax(gmtgrid.lon)),\n",
    "            float(np.amin(gmtgrid.lat)),\n",
    "            float(np.amax(gmtgrid.lat)),\n",
    "        ],\n",
    "        center=[1.0e-6, 1.0e-6],  # some nonzero val needed to preserve offset...?\n",
    "    )\n",
    "    out_grid.attrs[\"units\"] = gmt_grid.units\n",
    "    return out_grid"
   ]
  },
  {
   "cell_type": "markdown",
   "id": "403f59a4-3270-47b5-ae2d-857fe85307a5",
   "metadata": {},
   "source": [
    "The `gmt_geog_to_utm` function takes a GMT grid as an input. The GMT grid is assumed to be in geographic coordinates. To project it, we call the PyGMT `grdproject` function, giving it the following arguments:\n",
    "\n",
    "- The GMT grid (an `xarray.DataArray`)\n",
    "- The desired new projection: `U` for UTM plus the zone code and a desired width (here 12 cm)\n",
    "- Scaling option `e`, which means we want to keep the same resolution, just converted to meters from degrees\n",
    "- The region (the author does not know why the function doesn't just use the original region as a default, but apparently this needs to be specified, so we just tell it what the input region is)\n",
    "- The `center` keyword, which tells PyGMT to keep the offset inherent in the new coordinate system, in this case UTM (apparently if we omit this or send (0, 0), the offset is lost, so here we give it a tiny positive value)\n",
    "\n",
    "We also add a metadata attribute for the units, recording the fact that these are meters. Here we'll create a UTM-projected of our elevation data from the San Juan Islands: "
   ]
  },
  {
   "cell_type": "code",
   "execution_count": null,
   "id": "23f84558-077d-4ea7-b3e4-d5d509ffb2d9",
   "metadata": {},
   "outputs": [],
   "source": [
    "proj_gmt_grid = gmt_geog_to_utm(gmtgrid)\n",
    "proj_gmt_grid"
   ]
  },
  {
   "cell_type": "markdown",
   "id": "c82f0b83-2577-466f-a0d6-895485ce9058",
   "metadata": {},
   "source": [
    "Note that this `DataArray` has `x` and `y` in place of longitude and latitude, and the horizontal coordinates are in meters.\n",
    "\n",
    "Next, we define a function that creates a Landlab `RasterModelGrid` containing the GMT grid values as a **field**, and with the node `x` and `y` determined from the GMT grid's coordinates."
   ]
  },
  {
   "cell_type": "code",
   "execution_count": null,
   "id": "6dcc3b4a-ef04-46e8-a9a3-1012b2e2c401",
   "metadata": {},
   "outputs": [],
   "source": [
    "def gmt_grid_to_raster(gmt_grid, field_for_z=\"topographic__elevation\", tol=1.0e-8):\n",
    "    \"\"\"\n",
    "    Create and return a Landlab RasterModelGrid from a PyGMT\n",
    "    grid object.\n",
    "\n",
    "    Assumes regular grid-node spacing.\n",
    "\n",
    "    Parameters\n",
    "    ----------\n",
    "    gmt_grid : PyGMT xarray DataArray\n",
    "        PyGMT grid, eg from pygmt.datasets.load_earth_relief()\n",
    "    field_for_z : string (optional)\n",
    "        Name of field for the \"z\" values of the PyGMT grid\n",
    "    tol : float (optional)\n",
    "        Tolerance for unevenness of node spacing, lat/lon units (default 1e-8)\n",
    "\n",
    "    Notes\n",
    "    -----\n",
    "    Preserves the lower-left corner coordinates but NOT\n",
    "    information about projection or datum.\n",
    "    \"\"\"\n",
    "    try:\n",
    "        x = gmt_grid.x\n",
    "        y = gmt_grid.y\n",
    "    except AttributeError:  # if no .x and .y, we need to project from geographic\n",
    "        print(\"Warning: grid appears to be in geographic coordinates\")\n",
    "        x = gmt_grid.lon\n",
    "        y = gmt_grid.lat\n",
    "\n",
    "    ny = gmt_grid.shape[0]\n",
    "    nx = gmt_grid.shape[1]\n",
    "    spacings_ns = np.diff(y)\n",
    "    if np.any(np.abs(spacings_ns - spacings_ns[0]) > tol):\n",
    "        print(\"Warning: non-uniform latitude spacing.\")\n",
    "        print(\"Max spacing difference\", spacings_ns - spacings_ns[0], \"deg\")\n",
    "    dy = spacings_ns[0]\n",
    "    spacings_ew = np.diff(x)\n",
    "    if np.any(np.abs(spacings_ew - spacings_ew[0]) > tol):\n",
    "        print(\"Warning: non-uniform longitude spacing.\")\n",
    "        print(\"Max spacing difference\", spacings_ew - spacings_ew[0], \"deg\")\n",
    "    dx = spacings_ew[0]\n",
    "\n",
    "    grid = RasterModelGrid((ny, nx), xy_spacing=(dx, dy), xy_of_lower_left=(x[0], y[0]))\n",
    "\n",
    "    z = grid.add_field(\n",
    "        field_for_z,\n",
    "        gmt_grid.data.flatten(),\n",
    "        at=\"node\",\n",
    "        units=gmt_grid.units,\n",
    "        copy=True,\n",
    "        clobber=False,\n",
    "    )\n",
    "\n",
    "    grid.status_at_node[np.isnan(z)] = grid.BC_NODE_IS_CLOSED\n",
    "    z[np.isnan(z)] = 0.0\n",
    "\n",
    "    return grid"
   ]
  },
  {
   "cell_type": "markdown",
   "id": "29a12bf7-7b8a-46fd-b4f9-d3ccb012fee5",
   "metadata": {},
   "source": [
    "This function starts out by testing whether the GMT grid is in geographic or projected coordinates. If it has `.x` and `.y` properties, then we assume it is already projected. If it does *not* have these, then we assume it's in geographic coordinates, so we warn the user and proceed with `lat` for `y` and `lon` for `x`. Note that `try...except` block is used for this test.\n",
    "\n",
    "We test grid's north-south and east-west grid spacing. These should be uniform; they can be different for north-south and east-west but the spacing between each row should be the same from row to row, and the spacing between each column should be the same from column to column. To test this, we use the `numpy.diff()` function. If the spacing differs by less than a specified tolerance, all is well; otherwise, we issue a warning message.\n",
    "\n",
    "Next we create a Landlab `RasterModelGrid` with the appropriate number of rows and columns, and appropriate spacings between rows and between columns. We also record the $(x, y)$ coordinates of the lower-left corner so that the correct UTM coordinates are retained.\n",
    "\n",
    "For elevation values, we create a new **field**, the default name for which is `topographic__elevation` (but this can be overridden if we are dealing with some other gridded quantity).\n",
    "\n",
    "During projection, it is possible that some grid nodes around the perimeter will have been assigned a `nan` value (for example, this common happens with projection operations). We give these boundary status code `BC_NODE_IS_CLOSED` to indicate that these nodes do not contain valid data.\n",
    "\n",
    "Here we'll apply this function to our example DEM, and use the Landlab plotting function `imshow_grid` to display the result:"
   ]
  },
  {
   "cell_type": "code",
   "execution_count": null,
   "id": "09029fb9-db2d-4a21-a865-58ceabe97bfd",
   "metadata": {},
   "outputs": [],
   "source": [
    "llgrid = gmt_grid_to_raster(proj_gmt_grid)"
   ]
  },
  {
   "cell_type": "code",
   "execution_count": null,
   "id": "98a27107-387f-4363-952a-cd28b47b4b31",
   "metadata": {},
   "outputs": [],
   "source": [
    "imshow_grid(\n",
    "    llgrid,\n",
    "    llgrid.at_node[\"topographic__elevation\"],\n",
    "    colorbar_label=\"Elevation (m)\",\n",
    ")\n",
    "plt.title(\"San Juan Islands\")"
   ]
  },
  {
   "cell_type": "markdown",
   "id": "12dd4929-090a-479f-9620-155c36474a65",
   "metadata": {},
   "source": [
    "### Use the resulting Landlab grid in a component\n",
    "\n",
    "As an example, here we use the `Radiation` component to calculate incident solar radiation on the terrain surface at noon on January 1st."
   ]
  },
  {
   "cell_type": "code",
   "execution_count": null,
   "id": "7d3d280c-1d4a-4af5-8453-81cdb0d7f63e",
   "metadata": {},
   "outputs": [],
   "source": [
    "from landlab.components import Radiation"
   ]
  },
  {
   "cell_type": "markdown",
   "id": "590ab519-8c59-4519-b0aa-5c0d746756a7",
   "metadata": {},
   "source": [
    "The `Radiation` component expects all core nodes to be above sea level, and of course in this case many of them are underwater. We'll set those underwater nodes to closed-boundary status, so that the `Radiation` component will ignore them."
   ]
  },
  {
   "cell_type": "code",
   "execution_count": null,
   "id": "5f29826f-3ba4-4d0c-b6dc-9cb95af0f027",
   "metadata": {},
   "outputs": [],
   "source": [
    "is_underwater = llgrid.at_node[\"topographic__elevation\"] < 0.0\n",
    "llgrid.status_at_node[is_underwater] = llgrid.BC_NODE_IS_CLOSED"
   ]
  },
  {
   "cell_type": "code",
   "execution_count": null,
   "id": "db3fae28-8607-4474-8e03-b8765d27e575",
   "metadata": {},
   "outputs": [],
   "source": [
    "# Instantiate a Radiation component with our elevation data\n",
    "# and the approximate latitude...\n",
    "rad = Radiation(\n",
    "    llgrid,\n",
    "    latitude=48.5,\n",
    ")\n",
    "\n",
    "# ...and run it\n",
    "rad.update()"
   ]
  },
  {
   "cell_type": "markdown",
   "id": "ca0dbe82-f6ab-4fd9-831b-68b6da10aa9b",
   "metadata": {},
   "source": [
    "Displpay the radiation ratio, which is the ratio of incident\n",
    "solar radiation to what a flat surface would receive at the\n",
    "same latitude and time of year:"
   ]
  },
  {
   "cell_type": "code",
   "execution_count": null,
   "id": "84bb3217-2112-46a5-ad7f-3987cdc86fcd",
   "metadata": {},
   "outputs": [],
   "source": [
    "imshow_grid(\n",
    "    llgrid, llgrid.at_cell[\"radiation__ratio_to_flat_surface\"]\n",
    ")"
   ]
  },
  {
   "cell_type": "markdown",
   "id": "d81bcea9-200f-42a6-9d8a-8b23c5bc67cc",
   "metadata": {},
   "source": [
    "The default `imshow_grid` settings are ok, and matplotlib\n",
    "provides plenty of options for customizing to make plots like\n",
    "this one nicer. But the (Py)GMT package was specifically\n",
    "designed for mapping, and provides lots of great features for\n",
    "making nice maps. It's useful therefore if we can get our\n",
    "data back into a format PyGMT can understand.\n",
    "\n",
    "To do that, we'll first define a function to convert a field in a Landlab grid into a PyGMT-format grid:"
   ]
  },
  {
   "cell_type": "code",
   "execution_count": null,
   "id": "8ca24eae-7ff6-4945-9cbd-250a661a11f1",
   "metadata": {},
   "outputs": [],
   "source": [
    "def landlab_to_gmt_grid(\n",
    "    grid, \n",
    "    field, \n",
    "    at=\"node\",\n",
    "    attrs=None,\n",
    "):\n",
    "    if not isinstance(grid, RasterModelGrid):\n",
    "        raise KeyError(\"grid must be RasterModelGrid\")\n",
    "    if at == \"node\":\n",
    "        nr = grid.number_of_node_rows\n",
    "        nc = grid.number_of_node_columns\n",
    "        x = grid.x_of_node[:nc]\n",
    "        y = grid.y_of_node[:grid.number_of_nodes:nc]\n",
    "    elif at == \"cell\":\n",
    "        nr = grid.number_of_cell_rows\n",
    "        nc = grid.number_of_cell_columns\n",
    "        x = grid.x_of_node[grid.node_at_cell][:nc]\n",
    "        y = grid.y_of_node[grid.node_at_cell][:grid.number_of_cells:nc]\n",
    "    elif at == \"corner\":\n",
    "        nr = grid.number_of_corner_rows\n",
    "        nc = grid.number_of_corner_columns        \n",
    "        x = grid.x_of_corner\n",
    "        y = grid.y_of_corner\n",
    "    else:\n",
    "        raise KeyError(\"'at' must be node, cell, or corner\")\n",
    "\n",
    "    gmtgrd = xr.DataArray(\n",
    "        data=grid[at][field].reshape((nr, nc)),\n",
    "        coords={\n",
    "            \"y\": y,\n",
    "            \"x\": x,\n",
    "        },\n",
    "        attrs=attrs,\n",
    "    )\n",
    "    return gmtgrd"
   ]
  },
  {
   "cell_type": "markdown",
   "id": "c5f7e9ee-419f-45e5-ab03-c20159c685d2",
   "metadata": {},
   "source": [
    "Let's apply this to the radiation ratio field:"
   ]
  },
  {
   "cell_type": "code",
   "execution_count": null,
   "id": "9cecef58-84d2-488b-a244-76a8a546ff69",
   "metadata": {},
   "outputs": [],
   "source": [
    "field = \"radiation__ratio_to_flat_surface\"\n",
    "radgmtgrd = landlab_to_gmt_grid(\n",
    "    llgrid,\n",
    "    field,\n",
    "    at=\"cell\", \n",
    "    attrs={\"units\": \"m\", \"name\": \"radiation__ratio_to_flat_surface\"}\n",
    ")"
   ]
  },
  {
   "cell_type": "markdown",
   "id": "398d7e01-2c55-42c0-ab7c-11d539189b22",
   "metadata": {},
   "source": [
    "To take full advantage of PyGMT's capabilities (at least for\n",
    "a GMT newbie like this author), we'll project back into geographic coordinates:"
   ]
  },
  {
   "cell_type": "code",
   "execution_count": null,
   "id": "6ccc9f7b-6a9b-4b30-a753-ddf83c89a3c8",
   "metadata": {},
   "outputs": [],
   "source": [
    "btg = pygmt.grdproject(\n",
    "    radgmtgrd,\n",
    "    inverse=True,\n",
    "    projection=\"U10N/15c\",\n",
    "    region=san_juan_islands,\n",
    "    scaling=\"e\",\n",
    "    center=[1.0e-6,1.0e-6] # some nonzero val needed to preserve offset...?\n",
    ")"
   ]
  },
  {
   "cell_type": "markdown",
   "id": "0e70d1ad-e6b5-4f40-ab1f-867af0daac7d",
   "metadata": {},
   "source": [
    "Finally, let's use PyGMT to display one of the outputs of the Landlab calculation: the ratio of incident solar radiation to that on a flat surface. We'll display the PyGMT grid using `grdimage` and overlay coastlines using `coast`, coloring the oceans light blue. We'll use `text` to label the three largest islands, and add a `colorbar` at the bottom of the plot."
   ]
  },
  {
   "cell_type": "code",
   "execution_count": null,
   "id": "8ab118db-ac51-4d8f-b55d-28bb0dead22e",
   "metadata": {},
   "outputs": [],
   "source": [
    "fig = pygmt.Figure()\n",
    "fig.grdimage(\n",
    "    btg,\n",
    "    region=san_juan_islands,\n",
    "    projection=\"M15c\",  # Set Mercator projection and size of 15 centimeter\n",
    "    frame=\"a\",\n",
    "    cmap=\"SCM/navia\"\n",
    ")\n",
    "fig.coast(\n",
    "    region=san_juan_islands,  # Set bounding box of the large figure\n",
    "    borders=\"2/thin\",  # Plot state boundaries with thin lines\n",
    "    shorelines=\"thin\",  # Plot coastline with thin lines\n",
    "    projection=\"M15c\",  # Set Mercator projection and size of 15 centimeter\n",
    "    water=\"lightblue\",  # Color water areas light blue\n",
    "    frame=\"a\",  # Set frame with annotation and major tick spacing\n",
    ")\n",
    "fig.text(\n",
    "    x=[-123.08, -122.91, -122.9],\n",
    "    y=[ 48.53,   48.61,   48.48],\n",
    "    font=\"12p,Helvetica-Bold,white\",\n",
    "    text=[\n",
    "        \"San Juan\",\n",
    "        \"Orcas\",\n",
    "        \"Lopez\",\n",
    "    ]\n",
    ")\n",
    "fig.colorbar(\n",
    "    frame=[\"a0.25\", \"x+lRadiation ratio\"],\n",
    "    truncate=[0.0, np.amax(btg.data)]\n",
    ")\n",
    "fig.show()"
   ]
  }
 ],
 "metadata": {
  "kernelspec": {
   "display_name": "Python 3 (ipykernel)",
   "language": "python",
   "name": "python3"
  },
  "language_info": {
   "codemirror_mode": {
    "name": "ipython",
    "version": 3
   },
   "file_extension": ".py",
   "mimetype": "text/x-python",
   "name": "python",
   "nbconvert_exporter": "python",
   "pygments_lexer": "ipython3",
   "version": "3.12.4"
  }
 },
 "nbformat": 4,
 "nbformat_minor": 5
}
