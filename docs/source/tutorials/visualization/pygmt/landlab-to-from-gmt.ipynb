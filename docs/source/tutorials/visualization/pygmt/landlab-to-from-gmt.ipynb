{
 "cells": [
  {
   "cell_type": "markdown",
   "id": "0",
   "metadata": {},
   "source": [
    "# Working with Landlab and PyGMT\n",
    "\n",
    "The PyGMT package, a Python-wrapped version of Generic Mapping Tools, provides powerful capabilities for plotting and visualizing geoscientific data. PyGMT includes the capability of pulling in digital elevation model (DEM) data from a remote server. This notebook demonstrates several aspects of working with Landlab and PyGMT together:\n",
    "\n",
    "- Downloading DEM data using PyGMT.\n",
    "- Projecting from geographic to UTM coordinates.\n",
    "- Converting a PyGMT elevation into a Landlab RasterModelGrid.\n",
    "- Running a Landlab component using the converted GMT elevation grid.\n",
    "- Converting derived data back to GMT grid format.\n",
    "- Projecting back to geographic.\n",
    "- Visualizing the output with PyGMT plotting functions.\n",
    "\n",
    "\n",
    "## Requirements:\n",
    "\n",
    "- Landlab\n",
    "- PyGMT\n",
    "- Numpy\n",
    "- Matplotlib\n",
    "\n",
    "*(Tutorial written by Greg Tucker, August 2024)*"
   ]
  },
  {
   "cell_type": "markdown",
   "id": "1",
   "metadata": {},
   "source": [
    "## Importing a DEM using PyGMT\n",
    "\n",
    "We start off using the PyGMT function `load_earth_relief` to get a DEM. Here we'll use the San Juan Islands, northwestern US, as an example.\n",
    "\n",
    "Start with some imports:"
   ]
  },
  {
   "cell_type": "code",
   "execution_count": null,
   "id": "2",
   "metadata": {},
   "outputs": [],
   "source": [
    "import matplotlib.pyplot as plt\n",
    "import numpy as np\n",
    "import pygmt\n",
    "import xarray as xr\n",
    "\n",
    "from landlab import RasterModelGrid"
   ]
  },
  {
   "cell_type": "markdown",
   "id": "3",
   "metadata": {},
   "source": [
    "Next, run PyGMT's `load_earth_relief` function. We give it the latitude and longitude coordinates of our region. We will request a resolution of three arc seconds (about 90 meters) per grid cell. The function returns an `xarray.DataArray` with the elevation values and some metadata."
   ]
  },
  {
   "cell_type": "code",
   "execution_count": null,
   "id": "4",
   "metadata": {},
   "outputs": [],
   "source": [
    "san_juan_islands = [-123.24, -122.76, 48.41, 48.73]\n",
    "\n",
    "gmtgrid = pygmt.datasets.load_earth_relief(\n",
    "    resolution=\"03s\",\n",
    "    region=san_juan_islands,\n",
    ")"
   ]
  },
  {
   "cell_type": "code",
   "execution_count": null,
   "id": "5",
   "metadata": {},
   "outputs": [],
   "source": [
    "# Get info about gmtgrid\n",
    "gmtgrid"
   ]
  },
  {
   "cell_type": "markdown",
   "id": "6",
   "metadata": {},
   "source": [
    "The above information tells us that `gmtgrid` is an Xarray `DataArray` containing a 2D array of values called `z`, with coordinates of rows and columns listed in `Lat` and `Lon`, and a variety of *attributes*.\n",
    "\n",
    "Let's display the GMT elevation grid, using PyGMT's `grdimage` and `grdcontour` functions:"
   ]
  },
  {
   "cell_type": "code",
   "execution_count": null,
   "id": "7",
   "metadata": {},
   "outputs": [],
   "source": [
    "fig = pygmt.Figure()\n",
    "fig.grdimage(\n",
    "    grid=gmtgrid,\n",
    "    frame=[\"a\", \"+tSan Juan Islands\"],\n",
    "    projection=\"M10c\",  # M = Mercator; 10c = 10 cm wide\n",
    "    cmap=\"oleron\",\n",
    ")\n",
    "fig.grdcontour(grid=gmtgrid, levels=25.0, limit=[0, 750.0], annotation=None)\n",
    "fig.colorbar(frame=[\"a100\", \"x+lElevation\", \"y+lm\"])\n",
    "fig.show()"
   ]
  },
  {
   "cell_type": "markdown",
   "id": "8",
   "metadata": {},
   "source": [
    "Here's an alternative example using `grdview`:"
   ]
  },
  {
   "cell_type": "code",
   "execution_count": null,
   "id": "9",
   "metadata": {},
   "outputs": [],
   "source": [
    "fig = pygmt.Figure()\n",
    "fig.grdview(\n",
    "    grid=gmtgrid,\n",
    "    perspective=[160, 30],\n",
    "    frame=[\"xa\", \"yaf\", \"WSnE\"],\n",
    "    projection=\"M15c\",\n",
    "    zsize=\"1.5c\",\n",
    "    # Set the surftype to \"surface\"\n",
    "    surftype=\"s\",\n",
    "    # Set the CPT (color palette) to \"geo\"\n",
    "    cmap=\"geo\",\n",
    ")\n",
    "fig.show()"
   ]
  },
  {
   "cell_type": "markdown",
   "id": "10",
   "metadata": {},
   "source": [
    "### Projecting to UTM\n",
    "\n",
    "Before we transfer this DEM into the format of a Landlab `RasterModelGrid`, we need to address a drawback of having a DEM in geographic (lat-lon) coordinates. Landlab components that operate on terrain often expect the horizontal and vertical units to be the same; that is, the $x$ and $y$ coordinates of the various grid elements are assumed to be in the same coordinate system and units as the field `topographic__elevation`. But in this example, so far we have a DEM that uses degrees for horizontal coordinates and meters for elevation values.\n",
    "\n",
    "To get around this problem, we can project the DEM onto a coordinate system with distance-based rather than geographical coordinates in the horizontal. PyGMT provides a function to do this: `grdproject`. It uses interpolation to create a new grid with points now georeferenced in a given projected coordinate system. Here we'll project the grid data into the widely used the Universal Transverse Mercator (UTM) coordinate system. Note that because grid projection involves interpolation, some information will be smeared out in the process.\n",
    "\n",
    "Below we define a function to project a GMT grid from geographic to UTM coordinates. We also define a small helper function to infer the UTM zone from the center longitude and latitude:"
   ]
  },
  {
   "cell_type": "code",
   "execution_count": null,
   "id": "11",
   "metadata": {},
   "outputs": [],
   "source": [
    "def utm_zone_from_lon(center_lon, center_lat):\n",
    "    \"\"\"Infer UTM zone from center lon and lat.\n",
    "\n",
    "    Warning: this isn't perfect. For the most part the UTM\n",
    "    system is divided into six-degree-wide N-S strips, but\n",
    "    there are some exceptions that this method ignores.\n",
    "    \"\"\"\n",
    "    zone = str(int(1 + (180 + center_lon) // 6.0))\n",
    "    if center_lat >= 0.0:\n",
    "        zone += \"N\"\n",
    "    else:\n",
    "        zone += \"S\"\n",
    "    return zone\n",
    "\n",
    "\n",
    "def gmt_geog_to_utm(gmt_grid):\n",
    "    \"\"\"\n",
    "    Project a GMT lat-lon grid to a UTM grid at the same\n",
    "    resolution.\n",
    "    \"\"\"\n",
    "    zone = utm_zone_from_lon(\n",
    "        0.5 * (np.amin(gmtgrid.lon) + np.amax(gmtgrid.lon)),\n",
    "        0.5 * (np.amin(gmtgrid.lat) + np.amax(gmtgrid.lat)),\n",
    "    )\n",
    "    out_grid = pygmt.grdproject(\n",
    "        grid=gmt_grid,\n",
    "        projection=\"U\" + str(zone) + \"/12c\",\n",
    "        scaling=\"e\",\n",
    "        region=[\n",
    "            float(np.amin(gmtgrid.lon)),\n",
    "            float(np.amax(gmtgrid.lon)),\n",
    "            float(np.amin(gmtgrid.lat)),\n",
    "            float(np.amax(gmtgrid.lat)),\n",
    "        ],\n",
    "        center=[1.0e-6, 1.0e-6],  # some nonzero val needed to preserve offset...?\n",
    "    )\n",
    "    out_grid.attrs[\"units\"] = gmt_grid.units\n",
    "    return out_grid"
   ]
  },
  {
   "cell_type": "markdown",
   "id": "12",
   "metadata": {},
   "source": [
    "The `gmt_geog_to_utm` function takes a GMT grid as an input. The GMT grid is assumed to be in geographic coordinates. To project it, we call the PyGMT `grdproject` function, giving it the following arguments:\n",
    "\n",
    "- The GMT grid (an `xarray.DataArray`)\n",
    "- The desired new projection: `U` for UTM plus the zone code and a desired width (here 12 cm)\n",
    "- Scaling option `e`, which means we want to keep the same resolution, just converted to meters from degrees\n",
    "- The region (the author does not know why the function doesn't just use the original region as a default, but apparently this needs to be specified, so we just tell it what the input region is)\n",
    "- The `center` keyword, which tells PyGMT to keep the offset inherent in the new coordinate system, in this case UTM (apparently if we omit this or send (0, 0), the offset is lost, so here we give it a tiny positive value)\n",
    "\n",
    "We also add a metadata attribute for the units, recording the fact that these are meters. Here we'll create a UTM-projected grid of our elevation data from the San Juan Islands: "
   ]
  },
  {
   "cell_type": "code",
   "execution_count": null,
   "id": "13",
   "metadata": {},
   "outputs": [],
   "source": [
    "proj_gmt_grid = gmt_geog_to_utm(gmtgrid)\n",
    "proj_gmt_grid"
   ]
  },
  {
   "cell_type": "markdown",
   "id": "14",
   "metadata": {},
   "source": [
    "Note that this `DataArray` has `x` and `y` in place of longitude and latitude, and the horizontal coordinates are in meters.\n",
    "\n",
    "Next, we define a function that creates a Landlab `RasterModelGrid` containing the GMT grid values as a **field**, and with the node `x` and `y` determined from the GMT grid's coordinates."
   ]
  },
  {
   "cell_type": "code",
   "execution_count": null,
   "id": "15",
   "metadata": {},
   "outputs": [],
   "source": [
    "def gmt_grid_to_raster(gmt_grid, field_for_z=\"topographic__elevation\", tol=1.0e-8):\n",
    "    \"\"\"\n",
    "    Create and return a Landlab RasterModelGrid from a PyGMT\n",
    "    grid object.\n",
    "\n",
    "    Assumes regular grid-node spacing.\n",
    "\n",
    "    Parameters\n",
    "    ----------\n",
    "    gmt_grid : PyGMT xarray DataArray\n",
    "        PyGMT grid, eg from pygmt.datasets.load_earth_relief()\n",
    "    field_for_z : string (optional)\n",
    "        Name of field for the \"z\" values of the PyGMT grid\n",
    "    tol : float (optional)\n",
    "        Tolerance for unevenness of node spacing, lat/lon units (default 1e-8)\n",
    "\n",
    "    Notes\n",
    "    -----\n",
    "    Preserves the lower-left corner coordinates but NOT\n",
    "    information about projection or datum.\n",
    "    \"\"\"\n",
    "    try:\n",
    "        x = gmt_grid.x\n",
    "        y = gmt_grid.y\n",
    "    except AttributeError:  # if no .x and .y, we need to project from geographic\n",
    "        print(\"Warning: grid appears to be in geographic coordinates\")\n",
    "        x = gmt_grid.lon\n",
    "        y = gmt_grid.lat\n",
    "\n",
    "    ny = gmt_grid.shape[0]\n",
    "    nx = gmt_grid.shape[1]\n",
    "    spacings_ns = np.diff(y)\n",
    "    if np.any(np.abs(spacings_ns - spacings_ns[0]) > tol):\n",
    "        print(\"Warning: non-uniform latitude spacing.\")\n",
    "        print(\"Max spacing difference\", spacings_ns - spacings_ns[0], \"deg\")\n",
    "    dy = spacings_ns[0]\n",
    "    spacings_ew = np.diff(x)\n",
    "    if np.any(np.abs(spacings_ew - spacings_ew[0]) > tol):\n",
    "        print(\"Warning: non-uniform longitude spacing.\")\n",
    "        print(\"Max spacing difference\", spacings_ew - spacings_ew[0], \"deg\")\n",
    "    dx = spacings_ew[0]\n",
    "\n",
    "    grid = RasterModelGrid((ny, nx), xy_spacing=(dx, dy), xy_of_lower_left=(x[0], y[0]))\n",
    "\n",
    "    z = grid.add_field(\n",
    "        field_for_z,\n",
    "        gmt_grid.data.flatten(),\n",
    "        at=\"node\",\n",
    "        units=gmt_grid.units,\n",
    "        copy=True,\n",
    "        clobber=False,\n",
    "    )\n",
    "\n",
    "    grid.status_at_node[np.isnan(z)] = grid.BC_NODE_IS_CLOSED\n",
    "    z[np.isnan(z)] = 0.0\n",
    "\n",
    "    return grid"
   ]
  },
  {
   "cell_type": "markdown",
   "id": "16",
   "metadata": {},
   "source": [
    "This function starts out by testing whether the GMT grid is in geographic or projected coordinates. If it has `.x` and `.y` properties, then we assume it is already projected. If it does *not* have these, then we assume it's in geographic coordinates, so we warn the user and proceed with `lat` for `y` and `lon` for `x`. Note that `try...except` block is used for this test.\n",
    "\n",
    "We test grid's north-south and east-west grid spacing. These should be uniform; they can be different for north-south and east-west but the spacing between each row should be the same from row to row, and the spacing between each column should be the same from column to column. To test this, we use the `numpy.diff()` function. If the spacing differs by less than a specified tolerance, all is well; otherwise, we issue a warning message.\n",
    "\n",
    "Next we create a Landlab `RasterModelGrid` with the appropriate number of rows and columns, and appropriate spacings between rows and between columns. We also record the $(x, y)$ coordinates of the lower-left corner so that the correct UTM coordinates are retained.\n",
    "\n",
    "For elevation values, we create a new **field**, the default name for which is `topographic__elevation` (but this can be overridden if we are dealing with some other gridded quantity).\n",
    "\n",
    "During projection, it is possible that some grid nodes around the perimeter will have been assigned a `nan` value (for example, this commonly happens with projection operations). We give these boundary nodes status code `BC_NODE_IS_CLOSED` to indicate that these nodes do not contain valid data.\n",
    "\n",
    "Here we'll apply this function to our example DEM, and use the grid's `imshow` plotting method to display the result:"
   ]
  },
  {
   "cell_type": "code",
   "execution_count": null,
   "id": "17",
   "metadata": {},
   "outputs": [],
   "source": [
    "llgrid = gmt_grid_to_raster(proj_gmt_grid)"
   ]
  },
  {
   "cell_type": "code",
   "execution_count": null,
   "id": "18",
   "metadata": {},
   "outputs": [],
   "source": [
    "llgrid.imshow(\n",
    "    llgrid.at_node[\"topographic__elevation\"],\n",
    "    colorbar_label=\"Elevation (m)\",\n",
    ")\n",
    "plt.title(\"San Juan Islands\")"
   ]
  },
  {
   "cell_type": "markdown",
   "id": "19",
   "metadata": {},
   "source": [
    "### Use the resulting Landlab grid in a component\n",
    "\n",
    "As an example, here we use the `Radiation` component to calculate incident solar radiation on the terrain surface at noon on January 1st."
   ]
  },
  {
   "cell_type": "code",
   "execution_count": null,
   "id": "20",
   "metadata": {},
   "outputs": [],
   "source": [
    "from landlab.components import Radiation"
   ]
  },
  {
   "cell_type": "markdown",
   "id": "21",
   "metadata": {},
   "source": [
    "The `Radiation` component expects all core nodes to be above sea level, and of course in this case many of them are underwater. We'll set those underwater nodes to closed-boundary status, so that the `Radiation` component will ignore them."
   ]
  },
  {
   "cell_type": "code",
   "execution_count": null,
   "id": "22",
   "metadata": {},
   "outputs": [],
   "source": [
    "is_underwater = llgrid.at_node[\"topographic__elevation\"] < 0.0\n",
    "llgrid.status_at_node[is_underwater] = llgrid.BC_NODE_IS_CLOSED"
   ]
  },
  {
   "cell_type": "code",
   "execution_count": null,
   "id": "23",
   "metadata": {},
   "outputs": [],
   "source": [
    "# Instantiate a Radiation component with our elevation data\n",
    "# and the approximate latitude...\n",
    "rad = Radiation(\n",
    "    llgrid,\n",
    "    latitude=48.5,\n",
    ")\n",
    "\n",
    "# ...and run it\n",
    "rad.update()"
   ]
  },
  {
   "cell_type": "markdown",
   "id": "24",
   "metadata": {},
   "source": [
    "Displpay the radiation ratio, which is the ratio of incident\n",
    "solar radiation to what a flat surface would receive at the\n",
    "same latitude and time of year:"
   ]
  },
  {
   "cell_type": "code",
   "execution_count": null,
   "id": "25",
   "metadata": {},
   "outputs": [],
   "source": [
    "llgrid.imshow(llgrid.at_cell[\"radiation__ratio_to_flat_surface\"])"
   ]
  },
  {
   "cell_type": "markdown",
   "id": "26",
   "metadata": {},
   "source": [
    "The default `imshow` settings are ok, and matplotlib\n",
    "provides plenty of options for customization to make plots like\n",
    "this one nicer. But the (Py)GMT package was specifically\n",
    "designed for mapping, and provides lots of great features for\n",
    "making nice maps. It's useful therefore if we can get our\n",
    "data back into a format PyGMT can understand.\n",
    "\n",
    "To do that, we'll first define a function to convert a field in a Landlab grid into a PyGMT-format grid:"
   ]
  },
  {
   "cell_type": "code",
   "execution_count": null,
   "id": "27",
   "metadata": {},
   "outputs": [],
   "source": [
    "def landlab_to_gmt_grid(\n",
    "    grid,\n",
    "    field,\n",
    "    at=\"node\",\n",
    "    attrs=None,\n",
    "):\n",
    "    if not isinstance(grid, RasterModelGrid):\n",
    "        raise KeyError(\"grid must be RasterModelGrid\")\n",
    "    if at == \"node\":\n",
    "        nr = grid.number_of_node_rows\n",
    "        nc = grid.number_of_node_columns\n",
    "        x = grid.x_of_node[:nc]\n",
    "        y = grid.y_of_node[: grid.number_of_nodes : nc]\n",
    "    elif at == \"cell\":\n",
    "        nr = grid.number_of_cell_rows\n",
    "        nc = grid.number_of_cell_columns\n",
    "        x = grid.x_of_node[grid.node_at_cell][:nc]\n",
    "        y = grid.y_of_node[grid.node_at_cell][: grid.number_of_cells : nc]\n",
    "    elif at == \"corner\":\n",
    "        nr = grid.number_of_corner_rows\n",
    "        nc = grid.number_of_corner_columns\n",
    "        x = grid.x_of_corner\n",
    "        y = grid.y_of_corner\n",
    "    else:\n",
    "        raise KeyError(\"'at' must be node, cell, or corner\")\n",
    "\n",
    "    gmtgrd = xr.DataArray(\n",
    "        data=grid[at][field].reshape((nr, nc)),\n",
    "        coords={\n",
    "            \"y\": y,\n",
    "            \"x\": x,\n",
    "        },\n",
    "        attrs=attrs,\n",
    "    )\n",
    "    return gmtgrd"
   ]
  },
  {
   "cell_type": "markdown",
   "id": "28",
   "metadata": {},
   "source": [
    "Let's apply this to the radiation ratio field:"
   ]
  },
  {
   "cell_type": "code",
   "execution_count": null,
   "id": "29",
   "metadata": {},
   "outputs": [],
   "source": [
    "field = \"radiation__ratio_to_flat_surface\"\n",
    "radgmtgrd = landlab_to_gmt_grid(\n",
    "    llgrid,\n",
    "    field,\n",
    "    at=\"cell\",\n",
    "    attrs={\"units\": \"m\", \"name\": \"radiation__ratio_to_flat_surface\"},\n",
    ")"
   ]
  },
  {
   "cell_type": "markdown",
   "id": "30",
   "metadata": {},
   "source": [
    "To take full advantage of PyGMT's capabilities (at least for\n",
    "a GMT newbie like this author), we'll project back into geographic coordinates:"
   ]
  },
  {
   "cell_type": "code",
   "execution_count": null,
   "id": "31",
   "metadata": {},
   "outputs": [],
   "source": [
    "btg = pygmt.grdproject(\n",
    "    radgmtgrd,\n",
    "    inverse=True,\n",
    "    projection=\"U10N/15c\",\n",
    "    region=san_juan_islands,\n",
    "    scaling=\"e\",\n",
    "    center=[1.0e-6, 1.0e-6],  # some nonzero val needed to preserve offset...?\n",
    ")"
   ]
  },
  {
   "cell_type": "markdown",
   "id": "32",
   "metadata": {},
   "source": [
    "Finally, let's use PyGMT to display one of the outputs of the Landlab calculation: the ratio of incident solar radiation to that on a flat surface. We'll display the PyGMT grid using `grdimage` and overlay coastlines using `coast`, coloring the oceans light blue. We'll use `text` to label the three largest islands, and add a `colorbar` at the bottom of the plot."
   ]
  },
  {
   "cell_type": "code",
   "execution_count": null,
   "id": "33",
   "metadata": {},
   "outputs": [],
   "source": [
    "fig = pygmt.Figure()\n",
    "fig.grdimage(\n",
    "    btg,\n",
    "    region=san_juan_islands,\n",
    "    projection=\"M15c\",  # Set Mercator projection and size of 15 centimeter\n",
    "    frame=\"a\",\n",
    "    cmap=\"SCM/navia\",\n",
    ")\n",
    "fig.coast(\n",
    "    region=san_juan_islands,  # Set bounding box of the large figure\n",
    "    borders=\"2/thin\",  # Plot state boundaries with thin lines\n",
    "    shorelines=\"thin\",  # Plot coastline with thin lines\n",
    "    projection=\"M15c\",  # Set Mercator projection and size of 15 centimeter\n",
    "    water=\"lightblue\",  # Color water areas light blue\n",
    "    frame=\"a\",  # Set frame with annotation and major tick spacing\n",
    ")\n",
    "fig.text(\n",
    "    x=[-123.08, -122.91, -122.9],\n",
    "    y=[48.53, 48.61, 48.48],\n",
    "    font=\"12p,Helvetica-Bold,white\",\n",
    "    text=[\n",
    "        \"San Juan\",\n",
    "        \"Orcas\",\n",
    "        \"Lopez\",\n",
    "    ],\n",
    ")\n",
    "fig.colorbar(frame=[\"a0.25\", \"x+lRadiation ratio\"], truncate=[0.0, np.amax(btg.data)])\n",
    "fig.show()"
   ]
  }
 ],
 "metadata": {
  "kernelspec": {
   "display_name": "Python 3 (ipykernel)",
   "language": "python",
   "name": "python3"
  },
  "language_info": {
   "codemirror_mode": {
    "name": "ipython",
    "version": 3
   },
   "file_extension": ".py",
   "mimetype": "text/x-python",
   "name": "python",
   "nbconvert_exporter": "python",
   "pygments_lexer": "ipython3",
   "version": "3.12.5"
  }
 },
 "nbformat": 4,
 "nbformat_minor": 5
}
