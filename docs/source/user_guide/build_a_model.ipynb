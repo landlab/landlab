{
 "cells": [
  {
   "cell_type": "markdown",
   "id": "0",
   "metadata": {},
   "source": [
    "# What goes into a Landlab model?\n",
    "\n",
    "In the previous section, {ref}`Grid <grid-user-guide>` we showed you most of the core\n",
    "functionality of the Landlab grid. \n",
    "\n",
    "In this section, we introduce you to how to\n",
    "actually use it to build models and work with the Landlab component library.\n",
    "\n",
    "Using Landlab requires that you build a Python script to import, instantiate,\n",
    "and then run your landscape model. We describe such a script as a **driver**.\n",
    "It's also possible to do the same set of processes on the fly in an interactive\n",
    "Python environment like iPython.\n",
    "\n",
    "Typically, a driver file will consist of six distinct sections:\n",
    "\n",
    "- **Import** the Python and Landlab libraries you'll need to run your model\n",
    "- **Instantiate** the Landlab elements (grid and, if using them, components)\n",
    "- **Load** any necessary data into the grid fields\n",
    "- Set the **boundary conditions**\n",
    "- **Run** the model, typically by creating a for loop or using a Landlab generator (see below)\n",
    "- **Finalize** and handle the data (e.g., plot, export)\n",
    "\n",
    "Beyond the driver, if you're using Landlab components, you'll probably also need\n",
    "a {ref}`parameter file<input-files>`. This file supplies the components with the additional\n",
    "parameter and setup information they need. Landlab parameter files are text\n",
    "files `.txt`, have fixed format, and for convenience (so you only have to\n",
    "specify the minimum of path information in the file name) should be placed in\n",
    "the same folder as the driver file. Find out more about parameter files\n",
    "{ref}`here<input-files>`. However, if you're not using components, there's little need\n",
    "to create a parameter file; you can just directly pass other parameters to the grid\n",
    "in the driver.\n"
   ]
  },
  {
   "cell_type": "markdown",
   "id": "1",
   "metadata": {},
   "source": [
    "## A brief introduction to components\n",
    "\n",
    "A key strength of Landlab is that not only is it designed to make implementing\n",
    "your own process simulations as simple as possible, but it also offers an\n",
    "off-the-shelf library of pre-designed process descriptions that you can use in\n",
    "your drivers. We call these process simulators Landlab **components**. The\n",
    "intention is that each component be:\n",
    "\n",
    "- Plug-and-play\n",
    "- Interoperable with all other components\n",
    "- Implementable in your driver in only one or two lines of code\n",
    "\n",
    "By no means is using the component library necessary or even always\n",
    "desirable when working with Landlab. However, we hope that components will dramatically reduce the time investment needed to implement\n",
    "a wide variety of modeling scenarios. In particular, components should make\n",
    "producing models that couple more than one process significantly easier because\n",
    "existing, off-the-shelf components can be slotted in alongside novel process\n",
    "descriptions.\n",
    "\n",
    "A list of the current components is found within the Reference guide\n",
    "{ref}`components section <api-components>`.\n",
    "\n",
    ">**NOTE**\n",
    "> Not all components will run under all conditions, but any\n",
    "> limitations should be made clear in the documentation associated with\n",
    "> that component.\n",
    "\n",
    "\n",
    "Some components may demand you are running on a regular grid. It\n",
    "should also be emphasized that most of these components are still under\n",
    "active development within this beta release of Landlab, and may behave in\n",
    "idiosyncratic ways or be subject to sudden changes with little or no warning. In\n",
    "all cases, before setting out on any major research challenges using a\n",
    "component, we'd recommend contacting the original coder of the component to let\n",
    "them know they have external users to think about!"
   ]
  },
  {
   "cell_type": "markdown",
   "id": "2",
   "metadata": {},
   "source": [
    "## Implementing a Landlab driver\n",
    "\n",
    "As noted above, the process of creating a driver is essentially equivalent\n",
    "whether you want to implement Landlab components, purely use your own code, or\n",
    "combine some mixture of the two. Here, we take a closer look at the various\n",
    "steps.\n",
    "\n",
    "### 1. Import the libraries and functions you need\n",
    "\n",
    "Landlab handles a lot like NumPy, and like NumPy you'll need to import the\n",
    "various libraries and functions that you'll want to use. At the very least, we\n",
    "suspect you'll need from outside Landlab:\n",
    "\n",
    "- *NumPy* itself\n",
    "- rudimentary Pylab plotting routines: *plot*, *show*, *figure*\n",
    "\n",
    "Also useful can be:\n",
    "\n",
    "- the Python module *time*, to time various parts of your code elements\n",
    "- from *SciPy*, the scientific computing library. Lots of useful methods (e.g.,\n",
    "  matrix solutions, curve fitting) can be found in here, to avoid reinventing\n",
    "  the wheel.\n",
    "\n",
    "From inside Landlab, you'll also need:\n",
    "\n",
    "- A **grid** class—choose from {py:class}`RasterModelGrid <landlab.grid.raster.RasterModelGrid>`,\n",
    "  {py:class}`landlab.grid.voronoi.VoronoiDelaunayGrid <landlab.grid.voronoi.VoronoiDelaunayGrid>`,\n",
    "  or some of the more specialized classes listed on the\n",
    "  {ref}`grid documentation page <api-grid>`.\n",
    "- Any **components** you want to run\n",
    "- Any Landlab **utilities** you need, such as plotters (\n",
    "  {py:func}`imshow_grid <landlab.plot.imshow>`) or\n",
    "  {py:mod}`io functions <landlab.io>`.\n",
    "\n",
    "A specific example might be:"
   ]
  },
  {
   "cell_type": "code",
   "execution_count": null,
   "id": "3",
   "metadata": {},
   "outputs": [],
   "source": [
<<<<<<< HEAD
    "import numpy as np \n",
    "from landlab import RasterModelGrid\n",
    "from landlab.components import FlowAccumulator, FastscapeEroder\n",
    "from landlab.components import FlowDirectorSteepest\n",
    "from landlab.components import DepressionFinderAndRouter\n",
    "from landlab.components import LinearDiffuser\n",
=======
    "import time\n",
    "\n",
>>>>>>> f0fe762758c90fc2a7b7db880f4ac0f9420bf15c
    "import matplotlib as mpl\n",
    "import matplotlib.pyplot as plt\n",
    "import numpy as np\n",
    "from pylab import figure, plot, show\n",
    "\n",
    "from landlab import RasterModelGrid, load_params\n",
    "from landlab.components import (\n",
    "    DepressionFinderAndRouter,\n",
    "    FastscapeEroder,\n",
    "    FlowAccumulator,\n",
    "    FlowDirectorSteepest,\n",
    "    LinearDiffuser,\n",
    ")"
   ]
  },
  {
   "cell_type": "markdown",
   "id": "4",
   "metadata": {},
   "source": [
    "### 2. Instantiate objects\n",
    "As noted in previous sections, Landlab is coded in an [object-oriented style](https://code.tutsplus.com/articles/python-from-scratch-object-oriented-programming--net-21476).\n",
    "This means that we need to \"instantiate\" the various Landlab objects such as\n",
    "the grid and the components that we will use to store data and run the model.\n",
    "\n",
    "> **NOTE**\n",
    "> most components require the grid object be passed to them as one of\n",
    "> their arguments during instantiation, so the first thing you'll want to\n",
    "> instantiate will be the grid.\n",
    "\n",
    "Check the docstrings for each class (grid, component) you want to instantiate\n",
    "for a detailed description of what you need to supply as arguments.\n",
    "\n",
    "In this example, the grid class is the RasterModelGrid, labeled as `((i, j), [node_spacing])`. Here, `(i, j)` is a tuple where *i* is the number of rows and *j* the number of columns, and `node_spacing` is an optional second tuple or float. If you want uniform node spacing in the *y* and *x* directions, use a float, otherwise use a tuple to specify `(dy, dx)` if you want them to be different (see example immediately below). Spacing will default to (1., 1.). \n",
    "\n",
    "Landlab also recognizes an older style of RasterModelGrid signature, which looks like `(number_of_node_rows, number_of_node_columns, node_spacing(optional))`, and is clever enough to work with this form.\n",
    "\n",
    "For a VoronoiDelaunayGrid, the signature will be `(array_of_node_x_coords, array_of_node_y_coords)`. For a generic component, it will typically be `(ModelGrid, 'path_to_parameter_file.txt')`, though there may be some variation, and optional inputs may also be available.\n",
    "\n",
    "Give each object you instantiate a variable name. We like `mg` for ModelGrid\n",
    "objects and some appropriate abbreviation for a component.\n",
    "\n",
    "An example might be:"
   ]
  },
  {
   "cell_type": "code",
   "execution_count": null,
   "id": "5",
   "metadata": {},
   "outputs": [],
   "source": [
    "mg = RasterModelGrid((10, 10), xy_spacing=(1.0, 2.0))  # 100 nodes, dy=1., dx=2.\n",
    "_ = mg.add_field(\n",
    "    \"topographic__elevation\",\n",
    "    mg.node_x + mg.node_y,\n",
    "    at=\"node\",\n",
    ")\n",
    "fr = FlowAccumulator(mg, \"topographic__elevation\", flow_director=FlowDirectorSteepest)"
   ]
  },
  {
   "cell_type": "markdown",
   "id": "6",
   "metadata": {},
   "source": [
    "### 3. Load/create data in fields\n",
    "\n",
    "({ref}`See this section<fields>` if you don't know what a Landlab field is.)\n",
    "\n",
    "Now we need some data to work with. We will assume that you're going to be\n",
    "working with a DEM-style elevation map across the nodes of the grid, but similar\n",
    "considerations would apply for any other type of data.\n",
    "\n",
    "You will likely be in one of two situations regarding the initial data you want\n",
    "to put on the grid—either you will have some external data source that you want\n",
    "to load in and use as your initial conditions (e.g., a DEM of some basin, or\n",
    "some other real topography), or you want to set up some simple analytical\n",
    "initial condition like a flat surface with noise or an inclined surface.\n",
    "\n",
    "In both cases, we advocate a two step process: creating a NumPy array of the\n",
    "data, then loading it into the grid as a field. We can illustrate both of\n",
    "the above cases:"
   ]
  },
  {
   "cell_type": "code",
   "execution_count": null,
   "id": "7",
   "metadata": {},
   "outputs": [],
   "source": [
    "mg = RasterModelGrid(\n",
    "    (5, 4), xy_spacing=(10.0, 10)\n",
    ")  # xy_spacing w/ 20 nodes dy = 10 dx = 10\n",
    "topographic__elevation = (\n",
    "    [  # predefined topographic elevation must be defined before using FlowAccumulator\n",
    "        [0.0, 0.0, 0.0, 0.0],\n",
    "        [0.0, 21.0, 10.0, 0.0],\n",
    "        [0.0, 31.0, 20.0, 0.0],\n",
    "        [0.0, 32.0, 30.0, 0.0],\n",
    "        [0.0, 0.0, 0.0, 0.0],\n",
    "    ]\n",
    ")\n",
    "\n",
    "_ = mg.add_field(\n",
    "    \"topographic__elevation\", topographic__elevation, at=\"node\"\n",
    ")  # where mg is added to the initial grid"
   ]
  },
  {
   "cell_type": "code",
   "execution_count": null,
   "id": "8",
   "metadata": {},
   "outputs": [],
   "source": [
    "fa = FlowAccumulator(\n",
    "    mg, \"topographic__elevation\", flow_director=FlowDirectorSteepest\n",
    ")  # attach the flowaccumulator using the initial grid.\n",
    "fa.run_one_step()"
   ]
  },
  {
   "cell_type": "code",
   "execution_count": null,
   "id": "9",
   "metadata": {},
   "outputs": [],
   "source": [
    "runoff_rate = np.arange(\n",
    "    mg.number_of_nodes, dtype=float\n",
    ")  # if we want to see the run-off rate\n",
    "rnff = mg.add_field(\"water__unit_flux_in\", runoff_rate, at=\"node\", clobber=True)\n",
    "mg.at_node[\"flow__receiver_node\"].reshape(mg.shape)"
   ]
  },
  {
   "cell_type": "code",
   "execution_count": null,
   "id": "10",
   "metadata": {},
   "outputs": [],
   "source": [
    "# when the raster grid is in a depression\n",
    "mg = RasterModelGrid((10, 10), xy_spacing=1.0)\n",
    "\n",
    "z = mg.add_field(\"topographic__elevation\", mg.node_x.copy(), at=\"node\")\n",
    "\n",
    "z = np.zeros(100, dtype=float)  # make a flat surface, elev 0\n",
    "# or..\n",
    "z += 0.01 * mg.node_y  # a flat surface dipping shallowly south\n",
    "# add a little noise to the surface:\n",
    "z += np.random.rand(100) / 10000.0\n",
    "\n",
    "\n",
    "mg.at_node[\"topographic__elevation\"].reshape(mg.shape)[2:5, 2:5] *= 0.1\n",
    "fa = FlowAccumulator(\n",
    "    mg,\n",
    "    \"topographic__elevation\",\n",
    "    flow_director=\"FlowDirectorD8\",\n",
    "    depression_finder=DepressionFinderAndRouter,\n",
    ")\n",
    "fa.run_one_step()"
   ]
  },
  {
   "cell_type": "code",
   "execution_count": null,
   "id": "11",
   "metadata": {},
   "outputs": [],
   "source": [
    "print(mg)  # print out of the grid.\n",
    "\n",
    "# Below we can see the dimensions it has and the type of variables it holds."
   ]
  },
  {
   "cell_type": "markdown",
   "id": "12",
   "metadata": {},
   "source": [
    "Alternatively, we can use the specialized Landlab function read_esri_ascii to import an ascii raster that can be output from ARC. This function creates the grid and loads the data as a field if you provide name. \n",
    "\n",
    "If not, you’ll have to load the data output (z, below) manually"
   ]
  },
  {
   "cell_type": "code",
   "execution_count": null,
   "id": "13",
   "metadata": {},
   "outputs": [],
   "source": [
    "from landlab.io import read_esri_ascii\n",
    "\n",
    "mg, z = read_esri_ascii(\n",
    "    \"my_ARC_output.asc\", name=\"topographic__elevation\"\n",
    ")  # file name can be changed\n",
    "np.all(mg.at_node[\"topographic__elevation\"] == z)"
   ]
  },
  {
   "cell_type": "markdown",
   "id": "14",
   "metadata": {},
   "source": [
    "> **NOTE** If you don’t want to use any Landlab components, you can continue to work with data as  “free floating” NumPy arrays, and can ignore the fields (e.g., see this simple introductory tutorial)."
   ]
  },
  {
   "cell_type": "markdown",
   "id": "15",
   "metadata": {},
   "source": [
    "### 4. Set the  conditions\n",
    "\n",
    "Once you have a grid and the initial condition data you'll need, it's time to\n",
    "set the boundary conditions. If you're working with a raster, or some\n",
    "pre-existing imported data, this is very straightforward using the built in\n",
    "RasterModelGrid functions. For a raster where only the edges are to be boundary\n",
    "nodes"
   ]
  },
  {
   "cell_type": "code",
   "execution_count": null,
   "id": "16",
   "metadata": {},
   "outputs": [],
   "source": [
    "mg.set_closed_boundaries_at_grid_edges(True, False, True, False)\n",
    "mg.set_closed_boundaries_at_grid_edges(\n",
    "    True, True, True, False\n",
    ")  # boundary conditions set"
   ]
  },
  {
   "cell_type": "markdown",
   "id": "17",
   "metadata": {},
   "source": [
    "This will give a grid with fixed value boundaries at the left and right edges,\n",
    "and closed boundaries at the top and bottom.\n",
    "\n",
    "If you're working with, say, an ARC imported array with a null value on the\n",
    "closed nodes (e.g., -9999), you can do this"
   ]
  },
  {
   "cell_type": "code",
   "execution_count": null,
   "id": "18",
   "metadata": {},
   "outputs": [],
   "source": [
    "mg.set_nodata_nodes_to_closed(mg.at_node[\"topographic__elevation\"], -9999)"
   ]
  },
  {
   "cell_type": "markdown",
   "id": "19",
   "metadata": {},
   "source": [
    "> **WARNING**:\n",
    "> Be aware that you're still likely to have to reopen an outlet node manually!\n",
    "> In which case you'll also need to follow the instructions below.\n",
    "\n",
    "If you're working with individual node's boundary statuses, you'll need to set\n",
    "the boundary conditions by hand. This means individually modifying the boundary\n",
    "condition status of each node or link that you want to be of the new type.\n",
    "Fortunately, Landlab uses some Python magic to make sure that when you update,\n",
    "for example, the status of a node, the statuses of attached links and cells\n",
    "change concomitantly. For example\n"
   ]
  },
  {
   "cell_type": "code",
   "execution_count": null,
   "id": "20",
   "metadata": {},
   "outputs": [],
   "source": [
    "# find the ID of the lowest elevation core node.\n",
    "# we'll make this a fixed gradient outlet:\n",
    "outlet_id = mg.core_nodes[\n",
    "    np.argmin(mg.at_node[\"topographic__elevation\"][mg.core_nodes])\n",
    "]\n",
    "\n",
    "# show there are no links with *mg.BC_LINK_IS_FIXED* boundary conditions\n",
    "# in the grid yet:\n",
    "np.any(mg.status_at_link == mg.BC_LINK_IS_FIXED)\n",
    "\n",
    "# update the outlet node:\n",
    "mg.status_at_node[outlet_id] = mg.BC_LINK_IS_FIXED\n",
    "np.any(mg.status_at_link == mg.BC_LINK_IS_FIXED)\n",
    "\n",
    "# the corresponding link has been automatically updated."
   ]
  },
  {
   "cell_type": "markdown",
   "id": "21",
   "metadata": {},
   "source": [
    "### 5. Run the model\n",
    "\n",
    "We're now ready to actually implement a run of our model! Most things you might\n",
    "want to do with Landlab are probably time-sensitive, so in almost all cases,\n",
    "you'll probably be placing the guts of your simulation inside a loop of some\n",
    "sort. In simple cases, you can just use some variation on a simple for loop or\n",
    "while statement, either:"
   ]
  },
  {
   "cell_type": "code",
   "execution_count": null,
   "id": "22",
   "metadata": {},
   "outputs": [],
   "source": [
    "dt = 10.0\n",
    "for tstep in range(0, 100):\n",
    "    # ...do the thing for one timestep dt\n",
    "    pass"
   ]
  },
  {
   "cell_type": "markdown",
   "id": "23",
   "metadata": {},
   "source": [
    "or:"
   ]
  },
  {
   "cell_type": "code",
   "execution_count": null,
   "id": "24",
   "metadata": {},
   "outputs": [],
   "source": [
    "dt = 10.0\n",
    "accumulated_time = 0.0\n",
    "while accumulated_time < 1000.0:\n",
    "    # ...do the thing for one timestep dt\n",
    "    accumulated_time += dt"
   ]
  },
  {
   "cell_type": "markdown",
   "id": "25",
   "metadata": {},
   "source": [
    "Both produce 1000 time units of run, with an explicit timestep of 10. Notice\n",
    "that the latter technique is particularly amenable to situations where your\n",
    "explicit timestep is varying (e.g., a storm sequence). \n",
    "\n",
    "For more on time steps in numerical models see the {ref}`Time Steps <time-steps>` page.)"
   ]
  },
  {
   "cell_type": "markdown",
   "id": "26",
   "metadata": {},
   "source": [
    "Landlab also however has a built in storm generator component,\n",
    "{py:class}`PrecipitationDistribution<landlab.components.uniform_precip.PrecipitationDistribution>`,\n",
    "which (as its name suggests) acts as a true [Python generator](https://www.python-course.eu/generators.php). The main method is\n",
    "{py:func}`yield_storm_interstorm_duration_intensity <landlab.components.uniform_precip.PrecipitationDistribution.yield_storm_interstorm_duration_intensity>`.\n",
    "This means producing a storm series in Landlab is also very easy:"
   ]
  },
  {
   "cell_type": "code",
   "execution_count": null,
   "id": "27",
   "metadata": {},
   "outputs": [],
   "source": [
    "from landlab.components.uniform_precip import PrecipitationDistribution\n",
    "\n",
    "time_to_run = 500000.0\n",
    "precip_perturb = PrecipitationDistribution(total_t=time_to_run)\n",
    "\n",
    "for (\n",
    "    interval_duration,\n",
    "    rainfall_rate,\n",
    ") in precip_perturb.yield_storm_interstorm_duration_intensity():\n",
    "    if rainfall_rate != 0.0:\n",
    "        # ...do the thing, making sure to pass it the current\n",
    "        # interval_duration and rainfall_rate\n",
    "        pass"
   ]
  },
  {
   "cell_type": "code",
   "execution_count": null,
   "id": "28",
   "metadata": {},
   "outputs": [],
   "source": [
    "input_file = \"./simulation_parameters.txt\"\n",
    "inputs = load_params(input_file)  # load the data into a dictionary\n",
    "\n",
    "\n",
    "dx = inputs[\"dx\"]\n",
    "uplift_rate = inputs[\"uplift_rate\"]\n",
    "total_t = inputs[\"total_time\"]\n",
    "dt = inputs[\"dt\"]\n",
    "\n",
    "nt = int(total_t // dt)  # this is how many loops we'll need\n",
    "uplift_per_step = uplift_rate * dt\n",
    "\n",
    "sp = FastscapeEroder(mg, K_sp=inputs[\"K_sp\"], m_sp=inputs[\"m_sp\"])\n",
    "lin_diffuse = LinearDiffuser(mg, linear_diffusivity=inputs[\"linear_diffusivity\"])"
   ]
  },
  {
   "cell_type": "markdown",
   "id": "29",
   "metadata": {},
   "source": [
    "Notice that the advantage of the generator is that it stops when the\n",
    "desired number of events/time duration has expired! See the end of [this\n",
    "tutorial](https://mybinder.org/v2/gh/landlab/landlab/master?filepath=notebooks/tutorials/component_tutorial/component_tutorial.ipynb)\n",
    "for an example of this generator in action.\n",
    "\n",
    "What exactly \"…do the thing\" consists of is up to you. You can either design\n",
    "your own operations to do in the loop for yourself, or you can implement\n",
    "processes from Landlab's component library. See {ref}`here\n",
    "<landlab-components-page>`\n",
    "for more information on using the components."
   ]
  },
  {
   "cell_type": "markdown",
   "id": "30",
   "metadata": {},
   "source": [
    "#### Plot the data\n",
    "\n",
    "Landlab has a fairly comprehensive suite of built in plotting functions; read\n",
    "more about them {ref}`here<plotting-and-vis>`.\n",
    "\n",
    "Of course, there is also the option of using the [matplotlib plotting library](https://matplotlib.org/) of Python for things like cross-sections.\n",
    "\n",
    "If you're careful, you can build plotting functions into the body of a run\n",
    "loop for your model, so you can see how your output evolves through time. \n",
    "\n",
    ">**NOTE**\n",
    "> All Python save and plot functions are considerably time expensive,\n",
    "> so it would probably be a bad idea to do this kind of thing every timestep.\n",
    "\n",
    "Instead, you can try something like:"
   ]
  },
  {
   "cell_type": "code",
   "execution_count": null,
   "id": "31",
   "metadata": {},
   "outputs": [],
   "source": [
    "# plot example of nodes\n",
    "dt = 10.0\n",
    "accumulated_time = 0.0\n",
    "last_accumulated_time_remainder = 0.0\n",
    "\n",
    "# Dummy data for the z value, should be replaced by actual data\n",
    "z = np.random.rand(100, 100)  # Example raster (replace with your actual data)\n",
    "\n",
    "while accumulated_time < 1000.0:\n",
    "    accumulated_time += dt\n",
    "    if last_accumulated_time_remainder < accumulated_time % 100.0:\n",
    "        plt.imshow(z[int(z.shape[0] // 2), :].reshape(1, -1), aspect=\"auto\", cmap=\"hot\")\n",
    "        plt.colorbar()\n",
    "        plt.show()\n",
    "        last_accumulated_time_remainder = accumulated_time % 100.0"
   ]
  },
  {
   "cell_type": "code",
   "execution_count": null,
   "id": "32",
   "metadata": {},
   "outputs": [],
   "source": [
    "from matplotlib.pyplot import loglog\n",
    "\n",
    "from landlab.components import ChannelProfiler, PrecipitationDistribution\n",
    "\n",
    "# plot the PrecipitationDistribution\n",
    "dt = 0.1\n",
    "tot_t = 250.0\n",
    "\n",
    "precip = PrecipitationDistribution(\n",
    "    mean_storm_duration=1.5,\n",
    "    mean_interstorm_duration=15.0,\n",
    "    mean_storm_depth=0.5,\n",
    "    total_t=tot_t,\n",
    "    delta_t=dt,\n",
    ")\n",
    "\n",
    "\n",
    "# make a color mapping appropriate for our time duration\n",
    "norm = mpl.colors.Normalize(vmin=0, vmax=tot_t)\n",
    "map_color = mpl.cm.ScalarMappable(norm=norm, cmap=\"viridis\")\n",
    "\n",
    "out_interval = 100\n",
    "# last_trunc = total_t  # we use this to trigger taking an output plot\n",
    "\n",
    "storms = list(precip.yield_storm_interstorm_duration_intensity())\n",
    "elapsed_time = 0.0\n",
    "\n",
    "for storm in range(len(storms)):\n",
    "    interval_duration, rainfall_rate = storms[storm]\n",
    "\n",
    "    # note diffusion also only happens when it's raining...\n",
    "    if rainfall_rate > 0.0:\n",
    "        fa.run_one_step()\n",
    "        sp.run_one_step(interval_duration)\n",
    "        lin_diffuse.run_one_step(interval_duration)\n",
    "\n",
    "    z[mg.core_nodes] += uplift_rate * interval_duration\n",
    "\n",
    "    elapsed_time += interval_duration\n",
    "\n",
    "    if storm % out_interval == 0:\n",
    "        cp = ChannelProfiler(mg)\n",
    "        cp.run_one_step()\n",
    "        cp.plot_profiles(color=map_color.to_rgba(elapsed_time))\n",
    "\n",
    "\n",
    "plt.xlabel(\"Distance upstream (km)\")\n",
    "plt.ylabel(\"Elevation (km)\")\n",
    "plt.title(\"Long profiles evolving through time\")\n",
    "mpl.pyplot.colorbar(map_color, ax=mpl.pyplot.gca())"
   ]
  },
  {
   "cell_type": "markdown",
   "id": "33",
   "metadata": {},
   "source": [
    "### 6. Finalize and handle the data\n",
    "\n",
    "Once the looping is complete, the model is effectively finished. However, you\n",
    "will still need to output the data somehow! Some options include:\n",
    "\n",
    "#### Save or export the data\n",
    "\n",
    "If you're using a raster grid, you can easily save your grid output to either\n",
    "ESRI ascii (i.e., ARCmap) or open source netCDF formats. netCDF in particular is\n",
    "a powerful format, and allows easy subsequent re-loading of a Landlab modelgrid\n",
    "and all its fields. Save your raster like this:"
   ]
  },
  {
   "cell_type": "markdown",
   "id": "34",
   "metadata": {},
   "source": [
    "### Save as an ASCII"
   ]
  },
  {
   "cell_type": "code",
   "execution_count": null,
   "id": "35",
   "metadata": {},
   "outputs": [],
   "source": [
    "from landlab.io import esri_ascii\n",
    "\n",
    "print(esri_ascii.dump(mg, at=\"node\"))"
   ]
  },
  {
   "cell_type": "markdown",
   "id": "36",
   "metadata": {},
   "source": [
    "### Save as NetCDF"
   ]
  },
  {
   "cell_type": "code",
   "execution_count": null,
   "id": "37",
   "metadata": {},
   "outputs": [],
   "source": [
    "import os\n",
    "import tempfile  # creates a temp directory\n",
    "\n",
    "from landlab.io.netcdf import to_netcdf  # importing the to_netcdf converter\n",
    "\n",
    "temp_dir = tempfile.mkdtemp()\n",
    "os.chdir(temp_dir)\n",
    "\n",
    "test = to_netcdf(\n",
    "    mg, \"test.nc\", format=\"NETCDF3_64BIT\", include=\"at_node:uplift_rate\"\n",
    ")  # example save"
   ]
  },
  {
   "cell_type": "markdown",
   "id": "38",
   "metadata": {},
   "source": [
    "> ***NOTE***\n",
    "> If you're running inside an interactive Python session like iPython,\n",
    "> all the variables and objects (both grid and component) that you've used in your\n",
    "> model will still be available in the environment. Thus, you can play with your\n",
    "> data for as long as you want!\n",
    "\n"
   ]
  },
  {
   "cell_type": "markdown",
   "id": "39",
   "metadata": {},
   "source": [
    "#### Animating figures\n",
    "\n",
    "Due to issues surrounding platform-dependent video codecs, Landlab does not currently\n",
    "support native video or animated output. However, numerous effective hacks using free\n",
    "third party software can be effective. We recommend saving your figure for animation\n",
    "at the desired frame interval using the matplotlib `savefig` command, then\n",
    "stitching these images together into a video file externally.\n",
    "\n",
    "DEJH has had a lot of success doing this in Preview on a Mac (which has the great\n",
    "advantage that it is always available). Simply open the first image, go to `Export...`\n",
    "under file, then **while holding down alt** click on the `Format` button to gain\n",
    "access to a list of extra formats, including `.gif`. Open your new gif file, also\n",
    "in preview, then just drag the remaining image files into the sidebar onto the first\n",
    "slide, where they will be appended to the gif as individual frames. Save, and you\n",
    "will now have an animated gif of your output (note you'll have to open the file in a\n",
    "browser or drag it into Powerpoint to get it to run - for mysterious reasons,\n",
    "Preview always opens the frames as images, and cannot show the gif running!)."
   ]
  }
 ],
 "metadata": {
  "kernelspec": {
   "display_name": "Python 3 (ipykernel)",
   "language": "python",
   "name": "python3"
  },
  "language_info": {
   "codemirror_mode": {
    "name": "ipython",
    "version": 3
   },
   "file_extension": ".py",
   "mimetype": "text/x-python",
   "name": "python",
   "nbconvert_exporter": "python",
   "pygments_lexer": "ipython3",
   "version": "3.11.6"
  }
 },
 "nbformat": 4,
 "nbformat_minor": 5
}
