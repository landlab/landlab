{
 "cells": [
  {
   "cell_type": "markdown",
   "metadata": {},
   "source": [
    "<a href=\"http://landlab.github.io\"><img style=\"float: left\" src=\"../landlab_header.png\"></a>"
   ]
  },
  {
   "cell_type": "markdown",
   "metadata": {},
   "source": [
    "# Landlab Teaching Notebooks\n",
    "\n",
    "Find information about how to use these notebooks in your classroom [on our documentation page](https://landlab.readthedocs.io/en/release/user_guide/teaching_tutorials.html).\n",
    "## Index of Teaching Notebooks\n",
    "\n",
    "- [Quantifying river channel evolution with Landlab](geomorphology_exercises/channels_streampower_notebooks/stream_power_channels_class_notebook.ipynb)\n",
    "- [Modeling Hillslopes and Channels with Landlab](geomorphology_exercises/drainage_density_notebooks/drainage_density_class_notebook.ipynb)\n",
    "- [Linear diffusion exercise with Landlab](geomorphology_exercises/hillslope_notebooks/hillslope_diffusion_class_notebook.ipynb)\n",
    "- [Using Landlab to explore a diffusive hillslope in the piedmont of North Carolina](geomorphology_exercises/hillslope_notebooks/north_carolina_piedmont_hillslope_class_notebook.ipynb)\n",
    "- [Exploring rainfall driven hydrographs with Landlab](surface_water_hydrology_exercises/overland_flow_notebooks/hydrograph_class_notebook.ipynb)"
   ]
  },
  {
   "cell_type": "code",
   "execution_count": null,
   "metadata": {},
   "outputs": [],
   "source": []
  }
 ],
 "metadata": {
  "kernelspec": {
   "display_name": "Python 3",
   "language": "python",
   "name": "python3"
  },
  "language_info": {
   "codemirror_mode": {
    "name": "ipython",
    "version": 3
   },
   "file_extension": ".py",
   "mimetype": "text/x-python",
   "name": "python",
   "nbconvert_exporter": "python",
   "pygments_lexer": "ipython3",
   "version": "3.8.0"
  }
 },
 "nbformat": 4,
 "nbformat_minor": 2
}
