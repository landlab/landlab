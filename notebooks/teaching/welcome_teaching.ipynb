{
 "cells": [
  {
   "cell_type": "markdown",
   "metadata": {},
   "source": [
    "\n",
    "[![Landlab header](../landlab_header.png)](http://landlab.github.io)\n",
    "\n",
    "[![Build Status](https://travis-ci.org/landlab/landlab_teaching_tools.svg?branch=master)](https://travis-ci.org/landlab/landlab_teaching_tools)\n",
    "\n",
    "# TODO: This page needs to be revised post: LL2.0 transition. \n",
    "\n",
    "### Teaching Notebooks\n",
    "\n",
    "- [Quantifying river channel evolution with Landlab](geomorphology_exercises/channels_streampower_notebooks/stream_power_channels_class_notebook.ipynb)\n",
    "- [Modeling Hillslopes and Channels with Landlab](geomorphology_exercises/drainage_density_notebooks/drainage_density_class_notebook.ipynb)\n",
    "- [Linear diffusion exercise with Landlab](geomorphology_exercises/hillslope_notebooks/hillslope_diffusion_class_notebook.ipynb)\n",
    "- [Using Landlab to explore a diffusive hillslope in the piedmont of North Carolina](geomorphology_exercises/hillslope_notebooks/north_carolina_piedmont_hillslope_class_notebook.ipynb)\n",
    "- [Exploring rainfall driven hydrographs with Landlab](surface_water_hydrology_exercises/overland_flow_notebooks/hydrograph_class_notebook.ipynb)\n",
    "\n",
    "\n",
    "# Landlab teaching tools \n",
    "\n",
    "This repository includes Jupyter Notebooks that implement Landlab for use in teaching undergraduate and graduate courses. Jupyter Notebooks combine formatted text with code that can be run. Students can run small parts of code bit by bit as they follow along with the text.\n",
    "\n",
    "The notebooks illustrate examples of physical processes implemented numerically. These notebooks are designed to teach about processes. The notebooks are not designed to teach students to code, or to teach students to use Landlab. No coding experience is needed to successfully carry out these activities - just the ability to read and a classroom introduction of the specific processes being illustrated.\n",
    "\n",
    "The notebooks are primarily designed for use as homework assignments or laboratory assignments. However, they can be used to illustrate concepts on-the-fly in the classroom.\n",
    "\n",
    "The easiest way to see what is in the notebooks is through this website: https://nbviewer.jupyter.org/github/landlab/landlab_teaching_tools/tree/master/.\n",
    "\n",
    "For an introduction to using Jupyter Notebooks, see this webpage - http://jupyter-notebook-beginner-guide.readthedocs.io/en/latest/execute.html. [Quick Summary: The way to launch a Jupyter notebook is to enter 'jupyter notebook' from a command line prompt. Jupyter notebooks can also be launched from within Anaconda.]\n",
    "\n",
    "The notebooks can be run locally by installing Landlab on your computer or they can be run remotely using Hydroshare.\n",
    "\n",
    "# To install Landlab and run locally: \n",
    "\n",
    "If following this method, every student will need to install Landlab on their personal computer, or it will need to be installed on classroom computers. All software needed to run Landlab locally is opensource (so free!). This link (https://landlab.github.io/#/) will take you to directions on how to install Landlab and information on preferred Python distributions. \n",
    "\n",
    "The next step would be for the class instructor to hit the _Clone or download_ button (on this webpage (https://github.com/landlab/landlab_teaching_tools), green, upper right) and download this repository locally. Choose which Jupyter Notebooks you would like the students to run, and then distribute the notebook to the students. You can edit them to your class' needs if you use this method. Note that some notebooks require supporting files to run, so make sure those are copied to the students.\n",
    "\n",
    "# To use the notebooks on Hydroshare: \n",
    "\n",
    "These notebooks can all be run remotely using HydroShare, an online collaboration environment for sharing data, models, and code (there are no costs, fees or subscriptions). To have your students run the Notebooks without any software installation required, all of your students will need to join HydroShare.  For the first time set up, follow these steps: \n",
    "\n",
    "Initiation steps:\n",
    "1. Go to https://www.hydroshare.org/\n",
    "2. Hit blue button _Sign up now_ and follow steps. (remember your user name and password!)\n",
    "3. Once signed up, on the top bar hit _Collaborate_ and hite on the _Groups_ button.\n",
    "4. Search for the Landlab Group and _Ask to join_\n",
    "5. Once you have permission, enter the Landlab Group page.\n",
    "6. Search for _classroom\\_notebooks_ in the search bar.\n",
    "7. Enter the collection _Landlab\\_classroom\\_notebooks_.\n",
    "8. Scroll down to _Collection Contents_ and hit on whatever notebook you want to run.\n",
    "9. Hit the blue _Open with..._ button on the top right, and choose CUAHSI JupyterHub.\n",
    "10. You will come to a screen with the notebook name (ending in .ipynb). Click that and you are now running the notebook remotely!\n",
    "\n",
    "Streamlined access:\n",
    "After you and your students have successfully run through the steps above, in the next work sessions you can also access your personal user space on the supercomputer that makes this magic happen, simply by typing in this URL into your browser: https://jupyter.cuahsi.org  You will be prompted for your HydroShare login, and you can navigate the folders to find the resources you have downloaded and created in previous work sessions.\n",
    "\n",
    "# More information: \n",
    "\n",
    "If you have suggestions on improving these notebooks and developing new ones, or are having trouble running them, please leave us a question in our GitHub Issues page - https://github.com/landlab/landlab/issues. Please make sure you include that you are working with a Landlab Teaching Notebook and include the name of the notebook and as much information as possible. If you are getting an error, please taking a screenshot and upload it.\n",
    "\n",
    "The development of these Notebooks has been made possible by the Landlab project funded by the National Science Foundation (OAC 1450338 to N. Gasparini, OAC 1450409 to G. Tucker, OAC 1450412 to E. Istanbulluoglu). Launching these Notebooks from HydroShare is made possible by a collaboration between HydroShare researchers, the Consortium of Universities Allied for Hydrologic Science, Inc. (CUAHSI), and National SuperComputer A (NCSA) and funding by the National Science Foundation. For more details on the software architecuture behind how to run Jupyter Notebooks from HydroShare, please contact [support@hydroshare(dot)org]. "
   ]
  },
  {
   "cell_type": "code",
   "execution_count": null,
   "metadata": {},
   "outputs": [],
   "source": []
  }
 ],
 "metadata": {
  "kernelspec": {
   "display_name": "Python 3",
   "language": "python",
   "name": "python3"
  },
  "language_info": {
   "codemirror_mode": {
    "name": "ipython",
    "version": 3
   },
   "file_extension": ".py",
   "mimetype": "text/x-python",
   "name": "python",
   "nbconvert_exporter": "python",
   "pygments_lexer": "ipython3",
   "version": "3.8.0"
  }
 },
 "nbformat": 4,
 "nbformat_minor": 2
}
