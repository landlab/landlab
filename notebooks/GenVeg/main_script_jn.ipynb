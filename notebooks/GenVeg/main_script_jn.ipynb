{
 "cells": [
  {
   "cell_type": "markdown",
   "metadata": {},
   "source": [
    "# GenVeg Main Script\n",
    "GenVeg is a generalized vegetation growth model that simulates growth due to\n",
    "photosynthesis as well as processes that control vegetation distribution such\n",
    "as mortality, senescence, dispersal, and colonization. The model utilizes a \n",
    "mixture of existing and new landlab components to setup the model, simulates\n",
    "relevant vegetation community dynamics with the local environment, and analyzes\n",
    "results of the simulation. "
   ]
  },
  {
   "cell_type": "markdown",
   "metadata": {},
   "source": [
    "## Main model control set up\n",
    "### Import components"
   ]
  },
  {
   "cell_type": "code",
   "execution_count": null,
   "metadata": {},
   "outputs": [],
   "source": [
    "import os\n",
    "import tempfile\n",
    "from datetime import date\n",
    "from pathlib import Path\n",
    "\n",
    "import numpy as np\n",
    "import pandas as pd\n",
    "from matplotlib.pyplot import figure, plot, show, subplot, title, xlabel, ylabel\n",
    "\n",
    "from landlab import RasterModelGrid, imshow_grid, load_params\n",
    "from landlab.components.genveg import GenVeg, PlantGrowth, VegParams\n",
    "from landlab.data_record import DataRecord\n",
    "from landlab.io.netcdf import write_netcdf"
   ]
  },
  {
   "cell_type": "markdown",
   "metadata": {},
   "source": [
    "### Define time controls"
   ]
  },
  {
   "cell_type": "code",
   "execution_count": null,
   "metadata": {},
   "outputs": [],
   "source": [
    "sim_start_date = np.datetime64(\"2010-01-01\")\n",
    "tot_sim_len_y = 30\n",
    "veg_time_step_d = 1\n",
    "env_time_step_d = 1\n",
    "dt = np.timedelta64(min([veg_time_step_d, env_time_step_d]), \"D\")\n",
    "run_length_d = 365"
   ]
  },
  {
   "cell_type": "markdown",
   "metadata": {},
   "source": [
    "### Define filenames for input files\n",
    "##### *Note should be located in same folder as this .ipynb"
   ]
  },
  {
   "cell_type": "code",
   "execution_count": null,
   "metadata": {},
   "outputs": [],
   "source": [
    "VegInputFile = \"GenVeg_params_inputs_1col.xlsx\""
   ]
  },
  {
   "cell_type": "markdown",
   "metadata": {},
   "source": [
    "### Read in parameter and data input files\n",
    "Identify model processes to be included so all required parameters are defined and calculated"
   ]
  },
  {
   "cell_type": "code",
   "execution_count": null,
   "metadata": {},
   "outputs": [],
   "source": [
    "inp_file = Path(VegInputFile).absolute()\n",
    "VegParams(\n",
    "    fpath=inp_file, processes=[\"plantsize\", \"dispersal\", \"colonization\", \"storage\"]\n",
    ")\n",
    "# VegParams(processes=['plantsize','dispersal','colonization','storage','mortality'])\n",
    "vegparams = load_params(\"veg_params.yml\")\n",
    "print(vegparams)"
   ]
  },
  {
   "cell_type": "markdown",
   "metadata": {},
   "source": [
    "### Set up model grid using landlab RasterModelGrid functions\n",
    "\n",
    "- Create the model grid\n",
    "- Initialize live vegetation biomass and plant functional type\n",
    "- Initialize the air temperature driver across the grid\n",
    "\n",
    "##### **Note variable names should be consistent with landlab standards"
   ]
  },
  {
   "cell_type": "code",
   "execution_count": null,
   "metadata": {},
   "outputs": [],
   "source": [
    "# Create grid 5x5 node grid with 2 m node spacing and xy of origin in lat long roughly corresponding to Island Beach State Park\n",
    "pg = RasterModelGrid((6, 6), 2.0, xy_of_reference=(-74.08, 39.79))\n",
    "pg.axis_units = (\"m\", \"m\")\n",
    "\n",
    "\n",
    "# Initialize with a random mean air temperture\n",
    "_ = pg.add_field(\n",
    "    \"air__temperature_C\",\n",
    "    np.random.uniform(low=12, high=14, size=pg.number_of_cells),\n",
    "    at=\"cell\",\n",
    "    units=\"C\",\n",
    ")\n",
    "_ = pg.add_field(\n",
    "    \"radiation__net_flux\",\n",
    "    np.random.uniform(low=0, high=180, size=pg.number_of_cells),\n",
    "    at=\"cell\",\n",
    "    units=\"W/m^2\",\n",
    ")"
   ]
  },
  {
   "cell_type": "markdown",
   "metadata": {},
   "source": [
    "Now we initialize plants. We can do this in multiple ways. Here we are going to seed two species randomly into grid cells and then count how many plants are in each cell to initialize the new fields."
   ]
  },
  {
   "cell_type": "code",
   "execution_count": null,
   "metadata": {},
   "outputs": [],
   "source": [
    "# Initialize plant functional type as burial tolerant stabilizer or dune builder and randomly place on grid\n",
    "plant_species_init = [\"BTS\", \"DB\"]\n",
    "plants_on_grid = []\n",
    "for ind, species in enumerate(plant_species_init):\n",
    "    new_plants = np.random.choice([\"null\", species], pg.number_of_cells)\n",
    "    if ind == 0:\n",
    "        plants_on_grid = new_plants\n",
    "    else:\n",
    "        plants_on_grid = np.stack((plants_on_grid, new_plants), axis=1)\n",
    "\n",
    "_ = pg.add_field(\"vegetation__plant_species\", plants_on_grid, at=\"cell\", clobber=True)\n",
    "\n",
    "# occupied_ids=np.where(pg.at_cell['vegetation__plant_species']=='BTS')"
   ]
  },
  {
   "cell_type": "markdown",
   "metadata": {},
   "source": [
    "pidval=0\n",
    "plants=pd.DataFrame(columns=['pid','species','cell_index'])\n",
    "for cell in range(pg.number_of_cells):\n",
    "    cell_index=cell\n",
    "    cell_plants=pg['cell']['vegetation__plant_species'][cell]\n",
    "    for plant in cell_plants:\n",
    "        species=plant\n",
    "        newrow=[pidval,species,cell_index]\n",
    "        plants.loc[pidval]=newrow\n",
    "        pidval += 1\n",
    "\n",
    "pid=plants.pid.loc[plants['species']=='BTS'].to_numpy(int)\n",
    "total_biomass=np.random.rand(pid.shape[0])\n",
    "total_biomass2=np.random.rand(6)\n",
    "\n",
    "species_set=np.vstack((pid,total_biomass))\n",
    "species_set2=np.vstack((total_biomass2,total_biomass2))\n",
    "species_set=np.transpose(species_set)\n",
    "species_set2=np.transpose(species_set2)\n",
    "biomass=np.concatenate((species_set,species_set2), axis=0)\n",
    "print(biomass)\n",
    "biomass=np.transpose(biomass)\n",
    "print(biomass)"
   ]
  },
  {
   "cell_type": "code",
   "execution_count": null,
   "metadata": {},
   "outputs": [],
   "source": [
    "# This was a check to see if I could save a list as a field and it is possible so we can have multiple species per cell\n",
    "# veg_biomass=np.where(pg.at_cell['vegetation__plant_species'] != 'null',1,0)*np.random.uniform(low=0, high=200,size=pg.number_of_cells)\n",
    "# veg_biomass_part=veg_biomass/3\n",
    "# veg_biomass_tot=[]\n",
    "# for ind, item in enumerate(veg_biomass):\n",
    "#    veg_biomass_tot.append([item, veg_biomass_part[ind],veg_biomass_part[ind],veg_biomass_part[ind]])\n",
    "# print(veg_biomass_tot)"
   ]
  },
  {
   "cell_type": "markdown",
   "metadata": {},
   "source": [
    "### Plot grid with plant distribution and initial biomass\n",
    "\n",
    "Use RasterModelGrid plot functions to visualize initial model grid\n",
    "\n",
    "#### Vegetation type \n",
    "- 0=Bare\n",
    "- 1=Annual\n",
    "- 2=Herbaceous Perennial \n",
    "- 3=Woody Perennial"
   ]
  },
  {
   "cell_type": "code",
   "execution_count": null,
   "metadata": {},
   "outputs": [],
   "source": [
    "# Need to pudate to use colormap based on unique strings\n",
    "# imshow_grid(pg, 'vegetation__plant_species', at='cell',colorbar_label='Vegetation Type')\n",
    "# show()"
   ]
  },
  {
   "cell_type": "code",
   "execution_count": null,
   "metadata": {},
   "outputs": [],
   "source": [
    "# imshow_grid(pg, 'vegetation__live_biomass', at='cell', colorbar_label='Live biomass g')\n",
    "# show()"
   ]
  },
  {
   "cell_type": "markdown",
   "metadata": {},
   "source": [
    "### Define model time variables\n",
    "Determine basic model timestep and counter for model loop"
   ]
  },
  {
   "cell_type": "markdown",
   "metadata": {},
   "source": [
    "sim_end = date(sim_start_date.year+tot_sim_len_y,sim_start_date.month,sim_start_date.day)\n",
    "dt = min([veg_time_step_d,env_time_step_d])\n",
    "#data['dt']=dt\n",
    "day_freq = str(dt)+'D'\n",
    "date_counter = pd.date_range(start=sim_start_date,end=sim_end,freq=day_freq).strftime('%Y-%m-%d').tolist()\n",
    "step_counter=range(len(date_counter))\n",
    "model_counter=tuple(zip(step_counter,date_counter))"
   ]
  },
  {
   "cell_type": "markdown",
   "metadata": {},
   "source": [
    "Initialize crops PlantGrowth class with veg_params from Excel file"
   ]
  },
  {
   "cell_type": "code",
   "execution_count": null,
   "metadata": {},
   "outputs": [],
   "source": [
    "croprun = GenVeg(pg, dt, sim_start_date, vegparams)\n",
    "print(croprun.plant_ID())"
   ]
  },
  {
   "cell_type": "markdown",
   "metadata": {},
   "source": [
    "## Main model loop script\n",
    "This is the main model loop that controls the simulation that\n",
    "- Advances model time \n",
    "- Updates environmental variables\n",
    "- Simulates changes to vegetation communities\n",
    "- Stores outputs"
   ]
  },
  {
   "cell_type": "code",
   "execution_count": null,
   "metadata": {},
   "outputs": [],
   "source": [
    "# This runs through fine for day 1 of growing season. We need to decide how to track current day\n",
    "for i in range(run_length_d):\n",
    "    # update temp attribute on grid\n",
    "\n",
    "    # update solar radiation on grid\n",
    "    croprun.run_one_step(dt)\n",
    "    print(croprun.inc_growth())\n",
    "    # print(i)\n",
    "    # if this is a save timestep, save grid object to netcdf\n",
    "    # create record method in croprun that uses datarecord to save PlantGrowth object and grid at time\n",
    "    # if i in savetime:\n",
    "    #    croprun.record()\n",
    "    # to view output:\n",
    "    # croprun._record.dataset (for grid)\n",
    "    # croprun._record_df (for plant dataframe)\n",
    "    croprun.save_output()"
   ]
  },
  {
   "cell_type": "code",
   "execution_count": null,
   "metadata": {},
   "outputs": [],
   "source": [
    "temp_dir = tempfile.mkdtemp()\n",
    "os.chdir(temp_dir)\n",
    "write_netcdf(\"test.nc\", pg, format=\"NETCDF3_64BIT\", time=step_counter[0])"
   ]
  }
 ],
 "metadata": {
  "kernelspec": {
   "display_name": "Python 3.10.0 ('landlab')",
   "language": "python",
   "name": "python3"
  },
  "language_info": {
   "codemirror_mode": {
    "name": "ipython",
    "version": 3
   },
   "file_extension": ".py",
   "mimetype": "text/x-python",
   "name": "python",
   "nbconvert_exporter": "python",
   "pygments_lexer": "ipython3",
   "version": "3.10.0"
  },
  "vscode": {
   "interpreter": {
    "hash": "0b9e1723a82dd10e2fabb0b42cd08aae6e06071c6453c5287af9ae6d51a6b002"
   }
  }
 },
 "nbformat": 4,
 "nbformat_minor": 2
}
