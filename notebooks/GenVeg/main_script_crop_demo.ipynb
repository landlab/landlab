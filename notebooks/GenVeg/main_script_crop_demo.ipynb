{
 "cells": [
  {
   "cell_type": "markdown",
   "metadata": {},
   "source": [
    "# GenVeg Main Script\n",
    "GenVeg is a generalized vegetation growth model that simulates growth due to\n",
    "photosynthesis as well as processes that control vegetation distribution such\n",
    "as mortality, senescence, dispersal, and colonization. The model utilizes a \n",
    "mixture of existing and new landlab components to setup the model, simulates\n",
    "relevant vegetation community dynamics with the local environment, and analyzes\n",
    "results of the simulation. "
   ]
  },
  {
   "cell_type": "markdown",
   "metadata": {},
   "source": [
    "## Main model control set up\n",
    "### Import components"
   ]
  },
  {
   "cell_type": "code",
   "execution_count": null,
   "metadata": {},
   "outputs": [],
   "source": [
    "import os\n",
    "import tempfile\n",
    "from datetime import date\n",
    "from pathlib import Path\n",
    "\n",
    "import numpy as np\n",
    "import pandas as pd\n",
    "from matplotlib.pyplot import figure, plot, show, subplot, title, xlabel, ylabel\n",
    "from scipy.io import netcdf_file\n",
    "\n",
    "from landlab import RasterModelGrid, imshow_grid, load_params\n",
    "from landlab.components.genveg import GenVeg, VegParams\n",
    "from landlab.data_record import DataRecord\n",
    "from landlab.io.netcdf import read_netcdf, write_netcdf"
   ]
  },
  {
   "cell_type": "markdown",
   "metadata": {},
   "source": [
    "### Define time controls"
   ]
  },
  {
   "cell_type": "code",
   "execution_count": null,
   "metadata": {},
   "outputs": [],
   "source": [
    "sim_start_date = np.datetime64(\"2010-01-01\")\n",
    "tot_sim_len_y = 30\n",
    "veg_time_step_d = 1\n",
    "env_time_step_d = 1\n",
    "dt = np.timedelta64(min([veg_time_step_d, env_time_step_d]), \"D\")\n",
    "run_length_d = 365"
   ]
  },
  {
   "cell_type": "markdown",
   "metadata": {},
   "source": [
    "### Define filenames for input files\n",
    "##### *Note should be located in same folder as this .ipynb"
   ]
  },
  {
   "cell_type": "code",
   "execution_count": null,
   "metadata": {},
   "outputs": [],
   "source": [
    "VegInputFile = \"GenVeg_Example_Simulation.xlsx\""
   ]
  },
  {
   "cell_type": "markdown",
   "metadata": {},
   "source": [
    "### Read in parameter and data input files\n",
    "Identify model processes to be included so all required parameters are defined and calculated"
   ]
  },
  {
   "cell_type": "code",
   "execution_count": null,
   "metadata": {},
   "outputs": [],
   "source": [
    "inp_file = Path(VegInputFile).absolute()\n",
    "VegParams(fpath=inp_file, processes=[\"plantsize\", \"dispersal\", \"mortality\"])\n",
    "# VegParams(processes=['plantsize','dispersal','colonization','storage','mortality'])\n",
    "vegparams = load_params(\"veg_params.yml\")\n",
    "print(vegparams)"
   ]
  },
  {
   "cell_type": "markdown",
   "metadata": {},
   "source": [
    "### Set up model grid using landlab RasterModelGrid functions\n",
    "\n",
    "- Create the model grid\n",
    "- Initialize live vegetation biomass and plant functional type\n",
    "- Initialize the air temperature driver across the grid\n",
    "\n",
    "##### **Note variable names should be consistent with landlab standards"
   ]
  },
  {
   "cell_type": "code",
   "execution_count": null,
   "metadata": {},
   "outputs": [],
   "source": [
    "# Create grid 10x10 node grid with 2 m node spacing and xy of origin in lat long roughly corresponding to Island Beach State Park\n",
    "pg = RasterModelGrid((6, 6), 2.0, xy_of_reference=(-74.08, 39.79))\n",
    "pg.axis_units = (\"m\", \"m\")\n",
    "\n",
    "meantemp = [\n",
    "    -0.20,\n",
    "    0.87,\n",
    "    4.40,\n",
    "    9.81,\n",
    "    15.36,\n",
    "    20.64,\n",
    "    23.86,\n",
    "    23.33,\n",
    "    19.95,\n",
    "    13.80,\n",
    "    7.85,\n",
    "    2.77,\n",
    "    11.93,\n",
    "]\n",
    "dailyTotGlobRad = [\n",
    "    22.3,\n",
    "    26.8,\n",
    "    32.2,\n",
    "    37.1,\n",
    "    40.0,\n",
    "    40.9,\n",
    "    40.4,\n",
    "    38.2,\n",
    "    33.9,\n",
    "    28.5,\n",
    "    23.3,\n",
    "    21.0,\n",
    "]\n",
    "NJ_avg_par = [\n",
    "    36.38,\n",
    "    52.39,\n",
    "    70.82,\n",
    "    92.88,\n",
    "    105.00,\n",
    "    116.38,\n",
    "    118.75,\n",
    "    103.21,\n",
    "    84.41,\n",
    "    59.15,\n",
    "    42.18,\n",
    "    31.98,\n",
    "    76.22,\n",
    "]\n",
    "dist2shore = np.array([40, 40, 40, 40, 42, 42, 42, 42, 44, 44, 44, 44, 46, 46, 46, 46])\n",
    "rel_elev = np.array(\n",
    "    [0.4, 0.4, 0.4, 0.4, 0.6, 0.6, 0.6, 0.6, 0.9, 0.9, 0.9, 0.9, 1.2, 1.2, 1.2, 1.2]\n",
    ")\n",
    "# Initialize with a random mean air temperture\n",
    "_ = pg.add_field(\n",
    "    \"air__temperature_C\",\n",
    "    meantemp[0] * np.ones(pg.number_of_cells),\n",
    "    at=\"cell\",\n",
    "    units=\"C\",\n",
    ")\n",
    "_ = pg.add_field(\n",
    "    \"radiation__par_tot\",\n",
    "    NJ_avg_par[0] * np.ones(pg.number_of_cells),\n",
    "    at=\"cell\",\n",
    "    units=\"W/m^2\",\n",
    ")\n",
    "_ = pg.add_field(\"Distance to shore\", dist2shore, at=\"cell\", units=\"m\")\n",
    "_ = pg.add_field(\"Minimum elevation\", rel_elev, at=\"cell\", units=\"m\")"
   ]
  },
  {
   "cell_type": "markdown",
   "metadata": {},
   "source": [
    "Now we initialize plants. We can do this in multiple ways. Here we are going to seed two species in a grid with 1/2 occupied by Corn, 1/2 by wheat, at single and double planting densities, respectively"
   ]
  },
  {
   "cell_type": "code",
   "execution_count": null,
   "metadata": {},
   "outputs": [],
   "source": [
    "# Initialize plant functional type as burial tolerant stabilizer or dune builder and randomly place on grid\n",
    "plant_species_init = [\"Corn\", \"Wheat\"]\n",
    "plant_list_1 = [\"Corn\", \"null\", \"null\", \"null\"]\n",
    "plant_list_2 = [\"null\", \"null\", \"Wheat\", \"null\"]\n",
    "plant_list_3 = [\"Corn\", \"Corn\", \"null\", \"null\"]\n",
    "plant_list_4 = [\"null\", \"null\", \"Wheat\", \"Wheat\"]\n",
    "plant_lists = [plant_list_1, plant_list_2, plant_list_3, plant_list_4]\n",
    "plants_on_grid = []\n",
    "length_field_part = pg.number_of_cells / 4\n",
    "for plant_list in plant_lists:\n",
    "    for i in range(int(length_field_part)):\n",
    "        # if plants_on_grid.isempty\n",
    "        plants_on_grid.append(plant_list)\n",
    "\n",
    "_ = pg.add_field(\"vegetation__plant_species\", plants_on_grid, at=\"cell\", clobber=True)\n",
    "\n",
    "# occupied_ids=np.where(pg.at_cell['vegetation__plant_species']=='BTS')"
   ]
  },
  {
   "cell_type": "markdown",
   "metadata": {},
   "source": [
    "pidval=0\n",
    "plants=pd.DataFrame(columns=['pid','species','cell_index'])\n",
    "for cell in range(pg.number_of_cells):\n",
    "    cell_index=cell\n",
    "    cell_plants=pg['cell']['vegetation__plant_species'][cell]\n",
    "    for plant in cell_plants:\n",
    "        species=plant\n",
    "        newrow=[pidval,species,cell_index]\n",
    "        plants.loc[pidval]=newrow\n",
    "        pidval += 1\n",
    "\n",
    "pid=plants.pid.loc[plants['species']=='BTS'].to_numpy(int)\n",
    "total_biomass=np.random.rand(pid.shape[0])\n",
    "total_biomass2=np.random.rand(6)\n",
    "\n",
    "species_set=np.vstack((pid,total_biomass))\n",
    "species_set2=np.vstack((total_biomass2,total_biomass2))\n",
    "species_set=np.transpose(species_set)\n",
    "species_set2=np.transpose(species_set2)\n",
    "biomass=np.concatenate((species_set,species_set2), axis=0)\n",
    "print(biomass)\n",
    "biomass=np.transpose(biomass)\n",
    "print(biomass)"
   ]
  },
  {
   "cell_type": "markdown",
   "metadata": {},
   "source": [
    "### Plot grid with plant distribution and initial biomass\n",
    "\n",
    "Use RasterModelGrid plot functions to visualize initial model grid\n",
    "\n",
    "#### Vegetation type \n",
    "- 0=Bare\n",
    "- 1=Annual\n",
    "- 2=Herbaceous Perennial \n",
    "- 3=Woody Perennial"
   ]
  },
  {
   "cell_type": "markdown",
   "metadata": {},
   "source": [
    "### Define model time variables\n",
    "Determine basic model timestep and counter for model loop"
   ]
  },
  {
   "cell_type": "markdown",
   "metadata": {},
   "source": [
    "sim_end = date(sim_start_date.year+tot_sim_len_y,sim_start_date.month,sim_start_date.day)\n",
    "dt = min([veg_time_step_d,env_time_step_d])\n",
    "#data['dt']=dt\n",
    "day_freq = str(dt)+'D'\n",
    "date_counter = pd.date_range(start=sim_start_date,end=sim_end,freq=day_freq).strftime('%Y-%m-%d').tolist()\n",
    "step_counter=range(len(date_counter))\n",
    "model_counter=tuple(zip(step_counter,date_counter))"
   ]
  },
  {
   "cell_type": "markdown",
   "metadata": {},
   "source": [
    "Initialize crops PlantGrowth class with veg_params from Excel file"
   ]
  },
  {
   "cell_type": "code",
   "execution_count": null,
   "metadata": {},
   "outputs": [],
   "source": [
    "croprun = GenVeg(pg, dt, sim_start_date, vegparams)"
   ]
  },
  {
   "cell_type": "code",
   "execution_count": null,
   "metadata": {},
   "outputs": [],
   "source": [
    "imshow_grid(pg, \"vegetation__total_biomass\", at=\"cell\", colorbar_label=\"Live biomass g\")"
   ]
  },
  {
   "cell_type": "code",
   "execution_count": null,
   "metadata": {},
   "outputs": [],
   "source": [
    "imshow_grid(pg, \"vegetation__n_plants\", at=\"cell\", colorbar_label=\"number of plants\")"
   ]
  },
  {
   "cell_type": "markdown",
   "metadata": {},
   "source": [
    "## Main model loop script\n",
    "This is the main model loop that controls the simulation that\n",
    "- Advances model time \n",
    "- Updates environmental variables\n",
    "- Simulates changes to vegetation communities\n",
    "- Stores outputs"
   ]
  },
  {
   "cell_type": "code",
   "execution_count": null,
   "metadata": {},
   "outputs": [],
   "source": [
    "# This runs through fine for day 1 of growing season. We need to decide how to track current day\n",
    "temp_dir = tempfile.mkdtemp()\n",
    "os.chdir(temp_dir)\n",
    "j = -1\n",
    "for i in range(run_length_d):\n",
    "    # update temp attribute on grid\n",
    "    if (i / 30).is_integer():\n",
    "        pg.at_cell[\"air__temperature_C\"] = meantemp[j + 1] * np.ones(pg.number_of_cells)\n",
    "        pg.at_cell[\"radiation__par_tot\"] = NJ_avg_par[j + 1] * np.ones(\n",
    "            pg.number_of_cells\n",
    "        )\n",
    "        j += 1\n",
    "    # update solar radiation on grid\n",
    "    croprun.run_one_step()\n",
    "\n",
    "    if (i / 7).is_integer():\n",
    "        croprun.save_output()\n",
    "        croprun.get_plant_output(\"Corn\")\n",
    "        write_netcdf(\n",
    "            \"crop.nc\",\n",
    "            pg,\n",
    "            format=\"NETCDF3_64BIT\",\n",
    "            append=True,\n",
    "            time=(croprun.current_day - croprun.start_date).astype(float) - 1,\n",
    "            names=[\"vegetation__total_biomass\", \"vegetation__n_plants\"],\n",
    "        )\n",
    "\n",
    "        # if this is a save timestep, save grid object to netcdf\n",
    "    # create record method in croprun that uses datarecord to save PlantGrowth object and grid at time\n",
    "    # if i in savetime:\n",
    "    #    croprun.record()"
   ]
  },
  {
   "cell_type": "code",
   "execution_count": null,
   "metadata": {},
   "outputs": [],
   "source": [
    "print(vegparams)"
   ]
  },
  {
   "cell_type": "code",
   "execution_count": null,
   "metadata": {},
   "outputs": [],
   "source": [
    "output = croprun.get_plant_output()"
   ]
  },
  {
   "cell_type": "markdown",
   "metadata": {},
   "source": [
    "grid = netcdf_file('crop.nc', 'r')\n",
    "print(grid.__dict__)"
   ]
  },
  {
   "cell_type": "markdown",
   "metadata": {},
   "source": [
    "timegrid=grid.variables['t']\n",
    "timegrid[:]"
   ]
  },
  {
   "cell_type": "markdown",
   "metadata": {},
   "source": [
    "vegbio=grid.variables['vegetation__total_biomass']\n",
    "vegbio.shape"
   ]
  },
  {
   "cell_type": "markdown",
   "metadata": {},
   "source": [
    "vegbio[10,:,:]"
   ]
  },
  {
   "cell_type": "code",
   "execution_count": null,
   "metadata": {},
   "outputs": [],
   "source": [
    "output.index.unique(level=2)"
   ]
  },
  {
   "cell_type": "code",
   "execution_count": null,
   "metadata": {},
   "outputs": [],
   "source": [
    "output.loc[:, \"Wheat\", 8]  # timestep,species,plant number in []"
   ]
  },
  {
   "cell_type": "markdown",
   "metadata": {},
   "source": [
    "output.loc[21.0]"
   ]
  },
  {
   "cell_type": "code",
   "execution_count": null,
   "metadata": {},
   "outputs": [],
   "source": [
    "biomass = output[\"vegetation__root_biomass\"].values\n",
    "display(biomass)"
   ]
  },
  {
   "cell_type": "markdown",
   "metadata": {},
   "source": [
    "grid.close()"
   ]
  }
 ],
 "metadata": {
  "kernelspec": {
   "display_name": "landlab_dev",
   "language": "python",
   "name": "python3"
  },
  "language_info": {
   "codemirror_mode": {
    "name": "ipython",
    "version": 3
   },
   "file_extension": ".py",
   "mimetype": "text/x-python",
   "name": "python",
   "nbconvert_exporter": "python",
   "pygments_lexer": "ipython3",
   "version": "3.10.8"
  },
  "vscode": {
   "interpreter": {
    "hash": "a659767ac5a0dd5bf47687479e1b9a209e1b684434a4e040a1819f789cf57b87"
   }
  }
 },
 "nbformat": 4,
 "nbformat_minor": 2
}
