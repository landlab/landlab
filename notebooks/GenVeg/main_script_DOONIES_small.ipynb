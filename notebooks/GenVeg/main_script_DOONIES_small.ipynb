{
 "cells": [
  {
   "attachments": {},
   "cell_type": "markdown",
   "metadata": {},
   "source": [
    "# GenVeg Main Script\n",
    "## Test dune vegetation implementation\n",
    "GenVeg is a generalized vegetation growth model that simulates growth due to\n",
    "photosynthesis as well as processes that control vegetation distribution such\n",
    "as mortality, senescence, dispersal, and colonization. The model utilizes a \n",
    "mixture of existing and new Landlab components to setup the model, simulates\n",
    "relevant vegetation community dynamics with the local environment, and analyzes\n",
    "results of the simulation. "
   ]
  },
  {
   "attachments": {},
   "cell_type": "markdown",
   "metadata": {},
   "source": [
    "## Main model control set up\n",
    "### Import components"
   ]
  },
  {
   "cell_type": "code",
   "execution_count": null,
   "metadata": {},
   "outputs": [],
   "source": [
    "import os\n",
    "import tempfile\n",
    "from datetime import date\n",
    "from pathlib import Path\n",
    "\n",
    "import matplotlib.pyplot as plt\n",
    "import numpy as np\n",
    "import pandas as pd\n",
    "from matplotlib.collections import LineCollection, PatchCollection\n",
    "from noaa_coops import Station\n",
    "from scipy.io import netcdf_file\n",
    "\n",
    "from landlab import RasterModelGrid, imshow_grid, load_params\n",
    "from landlab.components.genveg import GenVeg, VegParams\n",
    "from landlab.data_record import DataRecord\n",
    "from landlab.io.netcdf import read_netcdf, write_netcdf"
   ]
  },
  {
   "attachments": {},
   "cell_type": "markdown",
   "metadata": {},
   "source": [
    "### Define time controls\n",
    "\n",
    "This sets up a one-year run with a daily timestep."
   ]
  },
  {
   "cell_type": "code",
   "execution_count": null,
   "metadata": {},
   "outputs": [],
   "source": [
    "sim_start_date = np.datetime64(\"2010-01-01\")\n",
    "sim_end_date = np.datetime64(\"2015-08-10\")\n",
    "veg_time_step_d = 1\n",
    "env_time_step_d = 1\n",
    "dt = np.timedelta64(min([veg_time_step_d, env_time_step_d]), \"D\")\n",
    "run_length_d = (sim_end_date - sim_start_date).astype(int)"
   ]
  },
  {
   "attachments": {},
   "cell_type": "markdown",
   "metadata": {},
   "source": [
    "### Define filenames for input files\n",
    "##### *Note should be located in same folder as this .ipynb"
   ]
  },
  {
   "cell_type": "code",
   "execution_count": null,
   "metadata": {},
   "outputs": [],
   "source": [
    "working_dir_path = Path.cwd()\n",
    "veg_input_file = \"GenVeg_Dune_Simulation.xlsx\""
   ]
  },
  {
   "attachments": {},
   "cell_type": "markdown",
   "metadata": {},
   "source": [
    "### Read in parameter and data input files\n",
    "Identify model processes to be included so all required parameters are defined and calculated"
   ]
  },
  {
   "cell_type": "code",
   "execution_count": null,
   "metadata": {},
   "outputs": [],
   "source": [
    "inp_file_path = working_dir_path.joinpath(veg_input_file)\n",
    "VegParams(fpath=inp_file_path, processes=[\"plantsize\", \"dispersal\", \"mortality\"])\n",
    "vegparams = load_params(\"veg_params.yml\")"
   ]
  },
  {
   "cell_type": "code",
   "execution_count": null,
   "metadata": {},
   "outputs": [],
   "source": [
    "print(vegparams)"
   ]
  },
  {
   "cell_type": "code",
   "execution_count": null,
   "metadata": {},
   "outputs": [],
   "source": [
    "env_fname = r\"data\\POWER_Point_Daily_20091231_20151230_039d81N_074d09W_LST.csv\"\n",
    "env_data_file_path = working_dir_path.joinpath(env_fname)\n",
    "env_data = np.genfromtxt(\n",
    "    env_data_file_path,\n",
    "    dtype={\n",
    "        \"names\": (\n",
    "            \"year\",\n",
    "            \"doy\",\n",
    "            \"par_Wm^-2\",\n",
    "            \"temp_C\",\n",
    "            \"precip_mm\",\n",
    "            \"root_sm\",\n",
    "            \"wind_sp\",\n",
    "            \"wid_dir\",\n",
    "        ),\n",
    "        \"formats\": (\"int\", \"int\", \"f8\", \"f8\", \"f8\", \"f8\", \"f8\", \"f8\", \"f8\"),\n",
    "    },\n",
    "    delimiter=\",\",\n",
    "    skip_header=16,\n",
    ")"
   ]
  },
  {
   "attachments": {},
   "cell_type": "markdown",
   "metadata": {},
   "source": [
    "This code block reads in 6-minute water level data from NOAA CO-OPs and calculates a daily mean. Only run once to save the daily csv."
   ]
  },
  {
   "cell_type": "code",
   "execution_count": null,
   "metadata": {},
   "outputs": [],
   "source": [
    "# AC=Station(id=8534720)\n",
    "# df_water_levels = AC.get_data(\n",
    "#    begin_date=\"20100101\",\n",
    "#    end_date=\"20151231\",\n",
    "#    product=\"water_level\",\n",
    "#    datum=\"MSL\",\n",
    "#    units=\"metric\",\n",
    "#    time_zone=\"lst\")\n",
    "\n",
    "# df_water_levels.head()\n",
    "# df_water_levels=pd.read_csv(water_levelfilename)\n",
    "# daily_wl=df_water_levels.resample('D').mean()\n",
    "# daily_wl.to_csv('D:\\\\Python\\\\landlab\\\\notebooks\\\\GenVeg\\\\data\\\\water_level.csv', index=False)"
   ]
  },
  {
   "attachments": {},
   "cell_type": "markdown",
   "metadata": {},
   "source": [
    "Read in the daily water level csv and construct a 7-day rolling average of water levels as a Numpy data array."
   ]
  },
  {
   "cell_type": "code",
   "execution_count": null,
   "metadata": {},
   "outputs": [],
   "source": [
    "water_level_filename = r\"data\\water_level.csv\"\n",
    "water_level_file_path = working_dir_path.joinpath(water_level_filename)\n",
    "df_water_levels = pd.read_csv(water_level_file_path)\n",
    "df_water_levels.interpolate(method=\"linear\", inplace=True)\n",
    "df_WL_MA = df_water_levels.rolling(7)\n",
    "water_level = df_water_levels[\"v\"].to_numpy()"
   ]
  },
  {
   "attachments": {},
   "cell_type": "markdown",
   "metadata": {},
   "source": [
    "For this implementation, we are taking a snippet of the existing DOONIES Island Beach State Park initial domain. Ideally, you would read in a raster topobathy file. This file must be rotated so the ocean is to left and the shoreline is parallel to the y-axis. This is the convention of many cross-shore morphology models but in the future the distance to shore function defined in this notebook can be expanded to rotate the file to the correct orientation."
   ]
  },
  {
   "cell_type": "code",
   "execution_count": null,
   "metadata": {},
   "outputs": [],
   "source": [
    "grid_elev = np.array(\n",
    "    [\n",
    "        0.628200908436216,\n",
    "        0.679888087290815,\n",
    "        0.722742172094999,\n",
    "        0.755851097267735,\n",
    "        0.779368661035206,\n",
    "        0.794378719218604,\n",
    "        0.622171003154823,\n",
    "        0.676451944089383,\n",
    "        0.722148619144433,\n",
    "        0.757930660758653,\n",
    "        0.783614747564674,\n",
    "        0.800081633200742,\n",
    "        0.609596301596975,\n",
    "        0.668136863036746,\n",
    "        0.718783543700898,\n",
    "        0.759505640937312,\n",
    "        0.789491256227331,\n",
    "        0.809169986950099,\n",
    "        0.588280110259446,\n",
    "        0.651780322420748,\n",
    "        0.708848777200529,\n",
    "        0.756618493511150,\n",
    "        0.793383400939227,\n",
    "        0.818779031470970,\n",
    "        0.557294741401334,\n",
    "        0.624849672801927,\n",
    "        0.688405652226345,\n",
    "        0.744392337159210,\n",
    "        0.790095204553699,\n",
    "        0.824012601441663,\n",
    "    ]\n",
    ")\n",
    "grid_elev.size"
   ]
  },
  {
   "attachments": {},
   "cell_type": "markdown",
   "metadata": {},
   "source": [
    "### Set up model grid using landlab RasterModelGrid functions\n",
    "\n",
    "- Create the model grid\n",
    "- Initialize the air temperature driver across the grid\n",
    "- Initialize the photosynthetically active radiation across the grid\n",
    "- Initialize the elevation relative to sea level\n",
    "- Initialize mortality variables: elevation above water level and distance to shore\n",
    "- Initialize vegetation percent cover and randomly assign vegetation species in each grid cell\n",
    "\n",
    "##### **Note variable names should be consistent with landlab standards"
   ]
  },
  {
   "cell_type": "code",
   "execution_count": null,
   "metadata": {},
   "outputs": [],
   "source": [
    "# Create grid 22x32 node grid with 2 m node spacing and xy of origin in lat long roughly corresponding to Island Beach State Park\n",
    "pg = RasterModelGrid((7, 8), 2, xy_of_reference=(-74.08, 39.79))\n",
    "pg.axis_units = (\"m\", \"m\")\n",
    "\n",
    "# Create dummy datasets of mean monthly temperature, PAR, distance to the shore, and elevation relative to sea level\n",
    "meantemp = env_data[\"temp_C\"]\n",
    "NJ_avg_par = env_data[\"par_Wm2\"]\n",
    "\n",
    "# Initialize with a dummy data sets\n",
    "_ = pg.add_field(\n",
    "    \"air__temperature_C\",\n",
    "    meantemp[0] * np.ones(pg.number_of_cells),\n",
    "    at=\"cell\",\n",
    "    units=\"C\",\n",
    ")\n",
    "_ = pg.add_field(\n",
    "    \"radiation__par_tot\",\n",
    "    NJ_avg_par[0] * np.ones(pg.number_of_cells),\n",
    "    at=\"cell\",\n",
    "    units=\"W/m^2\",\n",
    ")\n",
    "_ = pg.add_field(\"elevation__MSL_m\", grid_elev, at=\"cell\", units=\"m_MSL\")\n",
    "_ = pg.add_field(\n",
    "    \"elevation__above_WL\", grid_elev - water_level[0], at=\"cell\", units=\"m\"\n",
    ")"
   ]
  },
  {
   "cell_type": "code",
   "execution_count": null,
   "metadata": {},
   "outputs": [],
   "source": [
    "imshow_grid(\n",
    "    pg,\n",
    "    \"elevation__MSL_m\",\n",
    "    at=\"cell\",\n",
    "    colorbar_label=\"Elevation MSL (m)\",\n",
    "    cmap=\"terrain\",\n",
    ")"
   ]
  },
  {
   "attachments": {},
   "cell_type": "markdown",
   "metadata": {},
   "source": [
    "These next cells calculate the distance to shore. First we define the function and then apply it. Note the function assumes the elevation grid is in the correct orientation."
   ]
  },
  {
   "attachments": {},
   "cell_type": "markdown",
   "metadata": {},
   "source": [
    "This function calculates the distance to shore from a grid input."
   ]
  },
  {
   "cell_type": "code",
   "execution_count": null,
   "metadata": {},
   "outputs": [],
   "source": [
    "def calc_dist2shore(rmg):\n",
    "    core_nodes = rmg.core_nodes\n",
    "    x = rmg.node_axis_coordinates(0)\n",
    "    x = x[core_nodes]\n",
    "    y = rmg.node_axis_coordinates(1)\n",
    "    y = y[core_nodes]\n",
    "    z = rmg[\"cell\"][\"elevation__above_WL\"]\n",
    "    num_rows = np.unique(x)\n",
    "    dist2shore = np.zeros_like(grid_elev)\n",
    "    for row in num_rows:\n",
    "        row_loc = np.nonzero(x == row)\n",
    "        row_x = x[row_loc]\n",
    "        row_y = y[row_loc]\n",
    "        row_z = z[row_loc]\n",
    "        inundated = np.nonzero(row_z < 0)\n",
    "        shore_cell_idx = inundated[-1]\n",
    "        if shore_cell_idx.size <= 0:\n",
    "            m = (row_z[1] - row_z[0]) / (row_y[1] - row_y[0])\n",
    "            b = row_z[0] - m * row_y[0]\n",
    "            shore_y = (0 - b) / m\n",
    "\n",
    "        else:\n",
    "            wet_cell = shore_cell_idx[-1]\n",
    "            dry_cell = wet_cell + 1\n",
    "            shore_z_wet = row_z[wet_cell]\n",
    "            shore_y_wet = row_y[wet_cell]\n",
    "            shore_z_dry = row_z[dry_cell]\n",
    "            shore_y_dry = row_y[dry_cell]\n",
    "            m = (shore_z_wet - shore_z_dry) / (shore_y_wet - shore_y_dry)\n",
    "            b = shore_z_wet - m * shore_y_wet\n",
    "            shore_y = (0 - b) / m\n",
    "\n",
    "        shore_dist = row_y - shore_y\n",
    "        dist2shore[row_loc] = shore_dist\n",
    "    return dist2shore"
   ]
  },
  {
   "attachments": {},
   "cell_type": "markdown",
   "metadata": {},
   "source": [
    "Calculate distance to shore and save as Distance to shore variable in raster model grid object."
   ]
  },
  {
   "cell_type": "code",
   "execution_count": null,
   "metadata": {},
   "outputs": [],
   "source": [
    "dist2shore = calc_dist2shore(pg)\n",
    "_ = pg.add_field(\"Distance to shore\", dist2shore, at=\"cell\", units=\"m\", clobber=True)"
   ]
  },
  {
   "attachments": {},
   "cell_type": "markdown",
   "metadata": {},
   "source": [
    "Now we visualize the grid initial conditions and save some of the plots for later use. "
   ]
  },
  {
   "cell_type": "code",
   "execution_count": null,
   "metadata": {},
   "outputs": [],
   "source": [
    "fig, ax = plt.subplots(figsize=(12, 8))\n",
    "imshow_grid(\n",
    "    pg,\n",
    "    \"elevation__MSL_m\",\n",
    "    at=\"cell\",\n",
    "    colorbar_label=\"Elevation MSL (m)\",\n",
    "    cmap=\"terrain\",\n",
    ")\n",
    "fig.savefig(\n",
    "    \"D:\\\\Python\\\\landlab\\\\notebooks\\\\GenVeg\\\\figure_init_elevation.png\",\n",
    "    dpi=300,\n",
    "    bbox_inches=\"tight\",\n",
    ")"
   ]
  },
  {
   "cell_type": "code",
   "execution_count": null,
   "metadata": {},
   "outputs": [],
   "source": [
    "fig, ax = plt.subplots(figsize=(12, 8))\n",
    "imshow_grid(\n",
    "    pg,\n",
    "    \"Distance to shore\",\n",
    "    at=\"cell\",\n",
    "    colorbar_label=\"Distance to shore g\",\n",
    "    cmap=\"Blues\",\n",
    ")\n",
    "fig.savefig(\n",
    "    \"D:\\\\Python\\\\landlab\\\\notebooks\\\\GenVeg\\\\figure_init_dist2shore.png\",\n",
    "    dpi=300,\n",
    "    bbox_inches=\"tight\",\n",
    ")"
   ]
  },
  {
   "attachments": {},
   "cell_type": "markdown",
   "metadata": {},
   "source": [
    "Here we initialize a cell percent cover across the entire grid. This means plants will be placed in locations we know they will not survive. Initial percent cover is randomly assigned between 0 and 20% and cells are randomly assigned to be populated by just dune builders, just burial tolerant stabilizers, or a mix of the two."
   ]
  },
  {
   "cell_type": "code",
   "execution_count": null,
   "metadata": {},
   "outputs": [],
   "source": [
    "# Initialize plant functional type as burial tolerant stabilizer or dune builder and randomly place on grid\n",
    "_ = pg.add_field(\n",
    "    \"vegetation__percent_cover\",\n",
    "    np.random.default_rng().uniform(low=0.0, high=0.2, size=pg.number_of_cells),\n",
    "    at=\"cell\",\n",
    "    clobber=True,\n",
    ")\n",
    "plant_list = [[\"DB\", \"null\"], [\"DB\", \"BTS\"], [\"null\", \"BTS\"]]\n",
    "_ = pg.add_field(\n",
    "    \"vegetation__plant_species\",\n",
    "    np.random.default_rng().choice(plant_list, pg.number_of_cells),\n",
    "    at=\"cell\",\n",
    "    clobber=True,\n",
    ")"
   ]
  },
  {
   "attachments": {},
   "cell_type": "markdown",
   "metadata": {},
   "source": [
    "### Initialize the GenVeg component and visualize initial plant metrics."
   ]
  },
  {
   "attachments": {},
   "cell_type": "markdown",
   "metadata": {},
   "source": [
    "Initialize dune GenVeg class with veg_params from Excel file"
   ]
  },
  {
   "cell_type": "code",
   "execution_count": null,
   "metadata": {},
   "outputs": [],
   "source": [
    "foredune = GenVeg(pg, dt, sim_start_date, vegparams)"
   ]
  },
  {
   "attachments": {},
   "cell_type": "markdown",
   "metadata": {},
   "source": [
    "Now we visualize some of the vegetation metrics on the grid and save some of the plots."
   ]
  },
  {
   "cell_type": "code",
   "execution_count": null,
   "metadata": {},
   "outputs": [],
   "source": [
    "first_species = foredune.plant_species[0]\n",
    "print(first_species.species_duration_params)"
   ]
  },
  {
   "cell_type": "code",
   "execution_count": null,
   "metadata": {},
   "outputs": [],
   "source": [
    "second_species = foredune.plant_species[1]\n",
    "print(second_species.species_duration_params)"
   ]
  },
  {
   "cell_type": "code",
   "execution_count": null,
   "metadata": {},
   "outputs": [],
   "source": [
    "fig, ax = plt.subplots(figsize=(12, 8))\n",
    "imshow_grid(\n",
    "    pg, \"vegetation__total_biomass\", at=\"cell\", colorbar_label=\"Peak live biomass g\"\n",
    ")\n",
    "fig.savefig(\n",
    "    \"D:\\\\Python\\\\landlab\\\\notebooks\\\\GenVeg\\\\figure_init_peak_biomass.png\",\n",
    "    dpi=300,\n",
    "    bbox_inches=\"tight\",\n",
    ")"
   ]
  },
  {
   "cell_type": "code",
   "execution_count": null,
   "metadata": {},
   "outputs": [],
   "source": [
    "fig, ax = plt.subplots(figsize=(12, 8))\n",
    "imshow_grid(pg, \"vegetation__n_plants\", at=\"cell\", colorbar_label=\"number of plants\")\n",
    "fig.savefig(\n",
    "    \"D:\\\\Python\\\\landlab\\\\notebooks\\\\GenVeg\\\\figure_init_n_plants.png\",\n",
    "    dpi=300,\n",
    "    bbox_inches=\"tight\",\n",
    ")"
   ]
  },
  {
   "cell_type": "code",
   "execution_count": null,
   "metadata": {},
   "outputs": [],
   "source": [
    "fig, ax = plt.subplots(figsize=(12, 8))\n",
    "imshow_grid(\n",
    "    pg,\n",
    "    \"vegetation__percent_cover\",\n",
    "    at=\"cell\",\n",
    "    colorbar_label=\"Percent cover\",\n",
    "    cmap=\"Greens\",\n",
    ")\n",
    "fig.savefig(\n",
    "    \"D:\\\\Python\\\\landlab\\\\notebooks\\\\GenVeg\\\\figure_init_pcover.png\",\n",
    "    dpi=300,\n",
    "    bbox_inches=\"tight\",\n",
    ")"
   ]
  },
  {
   "cell_type": "code",
   "execution_count": null,
   "metadata": {},
   "outputs": [],
   "source": [
    "imshow_grid(\n",
    "    pg, \"vegetation__plant_height\", at=\"cell\", colorbar_label=\"plant height (m)\"\n",
    ")"
   ]
  },
  {
   "attachments": {},
   "cell_type": "markdown",
   "metadata": {},
   "source": [
    "We save each species plant array separately so we can plot them individually."
   ]
  },
  {
   "cell_type": "code",
   "execution_count": null,
   "metadata": {},
   "outputs": [],
   "source": [
    "DB = pd.DataFrame(foredune.plant_species[1].species_plants())\n",
    "BTS = pd.DataFrame(foredune.plant_species[0].species_plants())"
   ]
  },
  {
   "cell_type": "code",
   "execution_count": null,
   "metadata": {},
   "outputs": [],
   "source": [
    "def print_plant_locs(filepathname, plant_locs_df_names, width_var):\n",
    "    fig, ax = plt.subplots(figsize=(12, 8))  # figsize in inches\n",
    "    imshow_grid(\n",
    "        pg,\n",
    "        \"elevation__MSL_m\",\n",
    "        at=\"cell\",\n",
    "        colorbar_label=\"Elevation relative to MSL (m)\",\n",
    "        cmap=\"terrain\",\n",
    "    )\n",
    "    ax = plt.gca()\n",
    "\n",
    "    plant_locs_db = plant_locs_df_names[0][[\"x_loc\", \"y_loc\"]].to_numpy()\n",
    "    sizes_db = DB[width_var].values\n",
    "    blue_patches = []\n",
    "    for idx, center in enumerate(plant_locs_db):\n",
    "        circle = plt.Circle(center, sizes_db[idx], alpha=0.5, color=\"blue\")\n",
    "        blue_patches.append(circle)\n",
    "        # ax.add_patch(circle)\n",
    "    blue_coll = PatchCollection(blue_patches, alpha=0.7)\n",
    "    blue_coll.set_color(\"blue\")\n",
    "    ax.add_collection(blue_coll)\n",
    "\n",
    "    plant_locs_bts = plant_locs_df_names[1][[\"x_loc\", \"y_loc\"]].to_numpy()\n",
    "    sizes_bts = BTS[width_var].values\n",
    "    orange_patches = []\n",
    "    for idx, center in enumerate(plant_locs_bts):\n",
    "        circle = plt.Circle(center, sizes_bts[idx], alpha=0.5, color=\"orange\")\n",
    "        orange_patches.append(circle)\n",
    "        # ax.add_patch(circle)\n",
    "\n",
    "    orange_coll = PatchCollection(orange_patches, alpha=0.7)\n",
    "    orange_coll.set_color(\"orange\")\n",
    "    ax.add_collection(orange_coll)\n",
    "    fig.savefig(\n",
    "        filepathname, dpi=300, bbox_inches=\"tight\"\n",
    "    )  # the bbox_inches removes whitespace around the plot"
   ]
  },
  {
   "cell_type": "code",
   "execution_count": null,
   "metadata": {},
   "outputs": [],
   "source": [
    "initial_plant_locs_fpath = (\n",
    "    \"D:\\\\Python\\\\landlab\\\\notebooks\\\\GenVeg\\\\figure_init_elevation.png\"\n",
    ")\n",
    "print_plant_locs(initial_plant_locs_fpath, [DB, BTS], \"root_sys_width\")"
   ]
  },
  {
   "attachments": {},
   "cell_type": "markdown",
   "metadata": {},
   "source": [
    "## Main model loop script\n",
    "This is the main model loop that controls the simulation that\n",
    "- Advances model time \n",
    "- Updates environmental variables\n",
    "- Simulates changes to vegetation communities\n",
    "- Stores outputs\n",
    "    - Individual plants characteristics as DataRecords\n",
    "    - Grid outputs to a NetCDF format"
   ]
  },
  {
   "cell_type": "code",
   "execution_count": null,
   "metadata": {},
   "outputs": [],
   "source": [
    "temp_dir = tempfile.mkdtemp()\n",
    "os.chdir(temp_dir)\n",
    "save_points = [\n",
    "    220,\n",
    "    220 + 365,\n",
    "    220 + 365 + 366,\n",
    "    220 + 365 + 366 + 365,\n",
    "    220 + 365 + 366 + 365 + 365,\n",
    "]\n",
    "for i in range(run_length_d):\n",
    "    # update temp attribute on grid\n",
    "    pg.at_cell[\"air__temperature_C\"] = meantemp[i] * np.ones(pg.number_of_cells)\n",
    "    pg.at_cell[\"radiation__par_tot\"] = NJ_avg_par[i] * np.ones(pg.number_of_cells)\n",
    "    pg.at_cell[\"elevation__above_WL\"] = pg.at_cell[\"elevation__MSL_m\"] - water_level[i]\n",
    "    dist2shore = calc_dist2shore(pg)\n",
    "    foredune.run_one_step()\n",
    "\n",
    "    if i in save_points:\n",
    "        DB = pd.DataFrame(foredune.plant_species[1].species_plants())\n",
    "        BTS = pd.DataFrame(foredune.plant_species[0].species_plants())\n",
    "        initial_plant_locs_fpath = (\n",
    "            \"D:\\\\Python\\\\landlab\\\\notebooks\\\\GenVeg\\\\figure_\" + str(i) + \".png\"\n",
    "        )\n",
    "        print_plant_locs(initial_plant_locs_fpath, [DB, BTS], \"shoot_sys_width\")\n",
    "\n",
    "    if (i / 4).is_integer():\n",
    "        foredune.save_output()\n",
    "        write_netcdf(\n",
    "            \"dune.nc\",\n",
    "            pg,\n",
    "            format=\"NETCDF3_64BIT\",\n",
    "            append=True,\n",
    "            time=(foredune.current_day - foredune.start_date).astype(float) - 1,\n",
    "            names=[\n",
    "                \"vegetation__total_biomass\",\n",
    "                \"vegetation__n_plants\",\n",
    "                \"vegetation__percent_cover\",\n",
    "            ],\n",
    "        )\n",
    "        # imshow_grid(pg, 'vegetation__total_biomass', at='cell', colorbar_label='Total Biomass (g)')"
   ]
  },
  {
   "attachments": {},
   "cell_type": "markdown",
   "metadata": {},
   "source": [
    "Now we look at some of the outputs. The get_plant_output method returns a Pandas Dataframe of the plant DataRecords. By default, all species are included but individual species can be specified as well."
   ]
  },
  {
   "cell_type": "code",
   "execution_count": null,
   "metadata": {},
   "outputs": [],
   "source": [
    "output = foredune.get_plant_output()"
   ]
  },
  {
   "attachments": {},
   "cell_type": "markdown",
   "metadata": {},
   "source": [
    "To explore the output, the key order is [timestep, species, item_id]\n",
    "The following shows all dune builders at timestep 0."
   ]
  },
  {
   "cell_type": "code",
   "execution_count": null,
   "metadata": {},
   "outputs": [],
   "source": [
    "output.loc[:, \"BTS\", 16]"
   ]
  },
  {
   "cell_type": "code",
   "execution_count": null,
   "metadata": {},
   "outputs": [],
   "source": [
    "DB = output.loc[:, \"DB\", :]\n",
    "DB_np = DB[\"vegetation__repro_biomass\"]\n",
    "cs = DB_np.reorder_levels([\"item_id\", \"time\"]).sort_index()\n",
    "groups = cs.groupby(level=0)\n",
    "\n",
    "plt.figure(figsize=(10, 6))\n",
    "for item, group in groups:\n",
    "    x = group.index.get_level_values(1)\n",
    "    y = group.values\n",
    "    plt.plot(x, y, linewidth=0.1, color=\"green\", alpha=0.25)\n",
    "\n",
    "plt.xlabel(\"Time\")\n",
    "plt.ylabel(\"Biomass\")\n",
    "plt.title(\"Time Series of Simulated Biomass\")\n",
    "plt.show()"
   ]
  },
  {
   "cell_type": "code",
   "execution_count": null,
   "metadata": {},
   "outputs": [],
   "source": [
    "BTS = output.loc[:, \"BTS\", :]\n",
    "# fig, ax = plt.subplots()\n",
    "# ax.set_xlim(0,2045)\n",
    "# ax.set_ylim(0,10)\n",
    "BTS_np = BTS[\"vegetation__repro_biomass\"]\n",
    "\n",
    "cs = BTS_np.reorder_levels([\"item_id\", \"time\"]).sort_index()\n",
    "groups = cs.groupby(level=0)\n",
    "\n",
    "plt.figure(figsize=(10, 6))\n",
    "for item, group in groups:\n",
    "    x = group.index.get_level_values(1)\n",
    "    y = group.values\n",
    "    plt.plot(x, y, linewidth=0.1, color=\"green\", alpha=0.25)\n",
    "\n",
    "plt.xlabel(\"Time\")\n",
    "plt.ylabel(\"Biomass\")\n",
    "plt.title(\"Time Series of Simulated Biomass\")\n",
    "plt.show()"
   ]
  },
  {
   "attachments": {},
   "cell_type": "markdown",
   "metadata": {},
   "source": [
    "Here we look at some outputs at the final time step. Note that the final timestep may be in dormant season so biomass represents only the persistent parts. The number of plants is still tracked but annual plants are removed."
   ]
  },
  {
   "cell_type": "code",
   "execution_count": null,
   "metadata": {},
   "outputs": [],
   "source": [
    "imshow_grid(\n",
    "    pg,\n",
    "    \"vegetation__total_biomass\",\n",
    "    at=\"cell\",\n",
    "    colorbar_label=\"Total Biomass (g)\",\n",
    "    cmap=\"Greens\",\n",
    ")"
   ]
  },
  {
   "cell_type": "code",
   "execution_count": null,
   "metadata": {},
   "outputs": [],
   "source": [
    "imshow_grid(\n",
    "    pg,\n",
    "    \"vegetation__n_plants\",\n",
    "    at=\"cell\",\n",
    "    colorbar_label=\"number of plants\",\n",
    "    cmap=\"Greens\",\n",
    ")"
   ]
  },
  {
   "cell_type": "code",
   "execution_count": null,
   "metadata": {},
   "outputs": [],
   "source": [
    "imshow_grid(\n",
    "    pg,\n",
    "    \"vegetation__plant_height\",\n",
    "    at=\"cell\",\n",
    "    colorbar_label=\"plant height (m)\",\n",
    "    cmap=\"YlGn\",\n",
    ")"
   ]
  },
  {
   "attachments": {},
   "cell_type": "markdown",
   "metadata": {},
   "source": [
    "grid.close()"
   ]
  },
  {
   "attachments": {},
   "cell_type": "markdown",
   "metadata": {},
   "source": [
    "grid = netcdf_file('crop.nc', 'r')\n",
    "print(grid.__dict__)"
   ]
  }
 ],
 "metadata": {
  "kernelspec": {
   "display_name": "landlab_dev",
   "language": "python",
   "name": "python3"
  },
  "language_info": {
   "codemirror_mode": {
    "name": "ipython",
    "version": 3
   },
   "file_extension": ".py",
   "mimetype": "text/x-python",
   "name": "python",
   "nbconvert_exporter": "python",
   "pygments_lexer": "ipython3",
   "version": "3.10.8"
  },
  "vscode": {
   "interpreter": {
    "hash": "a659767ac5a0dd5bf47687479e1b9a209e1b684434a4e040a1819f789cf57b87"
   }
  }
 },
 "nbformat": 4,
 "nbformat_minor": 2
}
