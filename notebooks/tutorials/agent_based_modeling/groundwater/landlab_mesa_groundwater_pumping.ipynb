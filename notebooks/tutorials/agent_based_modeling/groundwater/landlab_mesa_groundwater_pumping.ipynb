{
 "cells": [
  {
   "cell_type": "markdown",
   "metadata": {},
   "source": [
    "# Coupling a Landlab groundwater with a Mesa agent-based model\n",
    "\n",
    "This notebook shows a toy example of how one might couple a simple groundwater model (Landlab's `GroundwaterDupuitPercolator`, by [Litwin et al. (2020)](https://joss.theoj.org/papers/10.21105/joss.01935)) with an agent-based model (ABM) written using the [Mesa](https://mesa.readthedocs.io/en/latest/) Agent-Based Modeling (ABM) package.\n",
    "\n",
    "The purpose of this tutorial is to demonstrate the technical aspects of creating an integrated Landlab-Mesa model. The example is deliberately very simple in terms of the processes and interactions represented, and not meant to be a realistic portrayal of water-resources decision making. But the example does show how one might build a more sophisticated and interesting model using these basic ingredients.\n",
    "\n",
    "(Greg Tucker, November 2021; created from earlier notebook example used in May 2020\n",
    "workshop)"
   ]
  },
  {
   "cell_type": "markdown",
   "metadata": {},
   "source": [
    "## Running the groundwater model\n",
    "\n",
    "The following section simply illustrates how to create a groundwater model using the `GroundwaterDupuitPercolator` component."
   ]
  },
  {
   "cell_type": "markdown",
   "metadata": {},
   "source": [
    "Imports:"
   ]
  },
  {
   "cell_type": "code",
   "execution_count": null,
   "metadata": {},
   "outputs": [],
   "source": [
    "from landlab import RasterModelGrid, imshow_grid\n",
    "from landlab.components import GroundwaterDupuitPercolator\n",
    "import matplotlib.pyplot as plt"
   ]
  },
  {
   "cell_type": "markdown",
   "metadata": {},
   "source": [
    "Set parameters:"
   ]
  },
  {
   "cell_type": "code",
   "execution_count": null,
   "metadata": {},
   "outputs": [],
   "source": [
    "base_depth = 22.0  # depth of aquifer base below ground level, m\n",
    "initial_water_table_depth = 2.0  # starting depth to water table, m\n",
    "dx = 100.0  # cell width, m\n",
    "pumping_rate = 0.001  # pumping rate, m3/s\n",
    "well_locations = [800, 1200]\n",
    "K = 0.001  # hydraulic conductivity, (m/s)\n",
    "n = 0.2  # porosity, (-)\n",
    "dt = 3600.0  # time-step duration, s\n",
    "background_recharge = 0.1 / (3600 * 24 * 365.25)  # recharge rate from infiltration, m/s"
   ]
  },
  {
   "cell_type": "markdown",
   "metadata": {},
   "source": [
    "Create a grid and add fields:"
   ]
  },
  {
   "cell_type": "code",
   "execution_count": null,
   "metadata": {},
   "outputs": [],
   "source": [
    "# Raster grid with closed boundaries\n",
    "# boundaries = {'top': 'closed','bottom': 'closed','right':'closed','left':'closed'}\n",
    "grid = RasterModelGrid((41, 41), xy_spacing=dx)  # , bc=boundaries)\n",
    "\n",
    "# Topographic elevation field (meters)\n",
    "elev = grid.add_zeros(\"topographic__elevation\", at=\"node\")\n",
    "\n",
    "# Field for the elevation of the top of an impermeable geologic unit that forms\n",
    "# the base of the aquifer (meters)\n",
    "base = grid.add_zeros(\"aquifer_base__elevation\", at=\"node\")\n",
    "base[:] = elev - base_depth\n",
    "\n",
    "# Field for the elevation of the water table (meters)\n",
    "wt = grid.add_zeros(\"water_table__elevation\", at=\"node\")\n",
    "wt[:] = elev - initial_water_table_depth\n",
    "\n",
    "# Field for the groundwater recharge rate (meters per second)\n",
    "recharge = grid.add_zeros(\"recharge__rate\", at=\"node\")\n",
    "recharge[:] = background_recharge\n",
    "recharge[well_locations] -= pumping_rate / (\n",
    "    dx * dx\n",
    ")  # pumping rate, in terms of recharge"
   ]
  },
  {
   "cell_type": "markdown",
   "metadata": {},
   "source": [
    "Instantiate the component (note use of an array/field instead of a scalar constant for `recharge_rate`):"
   ]
  },
  {
   "cell_type": "code",
   "execution_count": null,
   "metadata": {},
   "outputs": [],
   "source": [
    "gdp = GroundwaterDupuitPercolator(\n",
    "    grid,\n",
    "    hydraulic_conductivity=K,\n",
    "    porosity=n,\n",
    "    recharge_rate=recharge,\n",
    "    regularization_f=0.01,\n",
    ")"
   ]
  },
  {
   "cell_type": "markdown",
   "metadata": {},
   "source": [
    "Define a couple of handy functions to run the model for a day or a year:"
   ]
  },
  {
   "cell_type": "code",
   "execution_count": null,
   "metadata": {},
   "outputs": [],
   "source": [
    "def run_for_one_day(gdp, dt):\n",
    "    num_iter = int(3600.0 * 24 / dt)\n",
    "    for _ in range(num_iter):\n",
    "        gdp.run_one_step(dt)"
   ]
  },
  {
   "cell_type": "code",
   "execution_count": null,
   "metadata": {},
   "outputs": [],
   "source": [
    "def run_for_one_year(gdp, dt):\n",
    "    num_iter = int(365.25 * 3600.0 * 24 / dt)\n",
    "    for _ in range(num_iter):\n",
    "        gdp.run_one_step(dt)"
   ]
  },
  {
   "cell_type": "markdown",
   "metadata": {},
   "source": [
    "Run for a year and plot the water table:"
   ]
  },
  {
   "cell_type": "code",
   "execution_count": null,
   "metadata": {},
   "outputs": [],
   "source": [
    "run_for_one_year(gdp, dt)"
   ]
  },
  {
   "cell_type": "code",
   "execution_count": null,
   "metadata": {},
   "outputs": [],
   "source": [
    "imshow_grid(grid, wt, colorbar_label=\"Water table elevation (m)\")"
   ]
  },
  {
   "cell_type": "markdown",
   "metadata": {},
   "source": [
    "### Aside: calculating a pumping rate in terms of recharge\n",
    "\n",
    "The pumping rate at a particular grid cell (in volume per time, representing pumping from a well at that location) needs to be given in terms of a recharge rate (depth of water equivalent per time) in a given grid cell. Suppose for example you're pumping 16 gallons/minute (horrible units of course). That equates to:\n",
    "\n",
    "16 gal/min x 0.00378541 m3/gal x (1/60) min/sec ="
   ]
  },
  {
   "cell_type": "code",
   "execution_count": null,
   "metadata": {},
   "outputs": [],
   "source": [
    "Qp = 16.0 * 0.00378541 / 60.0\n",
    "print(Qp)"
   ]
  },
  {
   "cell_type": "markdown",
   "metadata": {},
   "source": [
    "...equals about 0.001 m$^3$/s. That's $Q_p$. The corresponding negative recharge in a cell of dimensions $\\Delta x$ by $\\Delta x$ would be\n",
    "\n",
    "$R_p = Q_p / \\Delta x^2$"
   ]
  },
  {
   "cell_type": "code",
   "execution_count": null,
   "metadata": {},
   "outputs": [],
   "source": [
    "Rp = Qp / (dx * dx)\n",
    "print(Rp)"
   ]
  },
  {
   "cell_type": "markdown",
   "metadata": {},
   "source": [
    "## A very simple ABM with farmers who drill wells into the aquifer\n",
    "\n",
    "For the sake of illustration, our ABM will be extremely simple. There are $N$ farmers, at random locations, who each pump at a rate $Q_p$ as long as the water table lies above the depth of their well, $d_w$. Once the water table drops below their well, the well runs dry and they switch from crops to pasture."
   ]
  },
  {
   "cell_type": "markdown",
   "metadata": {},
   "source": [
    "### Check that Mesa is installed\n",
    "\n",
    "For the next step, we must verify that Mesa is available. If it is not, use one of the installation commands below to install, then re-start the kernel (Kernel => Restart) and continue."
   ]
  },
  {
   "cell_type": "code",
   "execution_count": null,
   "metadata": {},
   "outputs": [],
   "source": [
    "try:\n",
    "    from mesa import Model\n",
    "except ModuleNotFoundError:\n",
    "    print(\n",
    "        \"\"\"\n",
    "Mesa needs to be installed in order to run this notebook.\n",
    "\n",
    "Normally Mesa should be pre-installed alongside the Landlab notebook collection. \n",
    "But it appears that Mesa is not already installed on the system on which you are\n",
    "running this notebook. You can install Mesa from a command prompt using either:\n",
    "\n",
    "`conda install -c conda-forge mesa`\n",
    "\n",
    "or\n",
    "\n",
    "`pip install mesa`\n",
    "    \"\"\"\n",
    "    )\n",
    "    raise"
   ]
  },
  {
   "cell_type": "markdown",
   "metadata": {},
   "source": [
    "### Defining the ABM\n",
    "\n",
    "In Mesa, an ABM is created using a class for each Agent and a class for the Model. Here's the Agent class (a Farmer). Farmers have a grid location and an attribute: whether they are actively pumping their well or not. They also have a well depth: the depth to the bottom of their well. Their action consists of checking whether their well is wet or dry; if wet, they will pump, and if dry, they will not."
   ]
  },
  {
   "cell_type": "code",
   "execution_count": null,
   "metadata": {},
   "outputs": [],
   "source": [
    "from mesa import Agent, Model\n",
    "from mesa.space import MultiGrid\n",
    "from mesa.time import RandomActivation"
   ]
  },
  {
   "cell_type": "code",
   "execution_count": null,
   "metadata": {},
   "outputs": [],
   "source": [
    "class FarmerAgent(Agent):\n",
    "    \"\"\"An agent who pumps from a well if it's not dry.\"\"\"\n",
    "\n",
    "    def __init__(self, unique_id, model, well_depth=5.0):\n",
    "        super().__init__(unique_id, model)\n",
    "        self.pumping = True\n",
    "        self.well_depth = well_depth\n",
    "\n",
    "    def step(self):\n",
    "        x, y = self.pos\n",
    "        print(f\"Farmer {self.unique_id}, ({x}, {y})\")\n",
    "        print(f\"    Depth to the water table: {self.model.wt_depth_2d[x,y]}\")\n",
    "        print(f\"    Depth to the bottom of the well: {self.well_depth}\")\n",
    "        if self.model.wt_depth_2d[x, y] >= self.well_depth:  # well is dry\n",
    "            print(\"    Well is dry.\")\n",
    "            self.pumping = False\n",
    "        else:\n",
    "            print(\"    Well is pumping.\")\n",
    "            self.pumping = True"
   ]
  },
  {
   "cell_type": "markdown",
   "metadata": {},
   "source": [
    "Next, define the model class. The model will take as a parameter a reference to a 2D array (with the same dimensions as the grid) that contains the depth to water table at each grid location. This allows the Farmer agents to check whether their well has run dry."
   ]
  },
  {
   "cell_type": "code",
   "execution_count": null,
   "metadata": {},
   "outputs": [],
   "source": [
    "class FarmerModel(Model):\n",
    "    \"\"\"A model with several agents on a grid.\"\"\"\n",
    "\n",
    "    def __init__(self, N, width, height, well_depth, depth_to_water_table):\n",
    "        self.num_agents = N\n",
    "        self.grid = MultiGrid(width, height, True)\n",
    "        self.depth_to_water_table = depth_to_water_table\n",
    "        self.schedule = RandomActivation(self)\n",
    "\n",
    "        # Create agents\n",
    "        for i in range(self.num_agents):\n",
    "            a = FarmerAgent(i, self, well_depth)\n",
    "            self.schedule.add(a)\n",
    "            # Add the agent to a random grid cell (excluding the perimeter)\n",
    "            x = self.random.randrange(self.grid.width - 2) + 1\n",
    "            y = self.random.randrange(self.grid.width - 2) + 1\n",
    "            self.grid.place_agent(a, (x, y))\n",
    "\n",
    "    def step(self):\n",
    "        self.wt_depth_2d = self.depth_to_water_table.reshape(\n",
    "            (self.grid.width, self.grid.height)\n",
    "        )\n",
    "        self.schedule.step()"
   ]
  },
  {
   "cell_type": "markdown",
   "metadata": {},
   "source": [
    "### Setting up the Landlab grid, fields, and groundwater simulator"
   ]
  },
  {
   "cell_type": "code",
   "execution_count": null,
   "metadata": {},
   "outputs": [],
   "source": [
    "base_depth = 22.0  # depth of aquifer base below ground level, m\n",
    "initial_water_table_depth = 2.8  # starting depth to water table, m\n",
    "dx = 100.0  # cell width, m\n",
    "pumping_rate = 0.004  # pumping rate, m3/s\n",
    "well_depth = 3  # well depth, m\n",
    "background_recharge = 0.002 / (365.25 * 24 * 3600)  # recharge rate, m/s\n",
    "K = 0.001  # hydraulic conductivity, (m/s)\n",
    "n = 0.2  # porosity, (-)\n",
    "dt = 3600.0  # time-step duration, s\n",
    "num_agents = 12  # number of farmer agents\n",
    "run_duration_yrs = 15  # run duration in years"
   ]
  },
  {
   "cell_type": "code",
   "execution_count": null,
   "metadata": {},
   "outputs": [],
   "source": [
    "grid = RasterModelGrid((41, 41), xy_spacing=dx)\n",
    "\n",
    "elev = grid.add_zeros(\"topographic__elevation\", at=\"node\")\n",
    "\n",
    "base = grid.add_zeros(\"aquifer_base__elevation\", at=\"node\")\n",
    "base[:] = elev - base_depth\n",
    "\n",
    "wt = grid.add_zeros(\"water_table__elevation\", at=\"node\")\n",
    "wt[:] = elev - initial_water_table_depth\n",
    "\n",
    "depth_to_wt = grid.add_zeros(\"water_table__depth_below_ground\", at=\"node\")\n",
    "depth_to_wt[:] = elev - wt\n",
    "\n",
    "recharge = grid.add_zeros(\"recharge__rate\", at=\"node\")\n",
    "recharge[:] = background_recharge\n",
    "recharge[well_locations] -= pumping_rate / (\n",
    "    dx * dx\n",
    ")  # pumping rate, in terms of recharge"
   ]
  },
  {
   "cell_type": "code",
   "execution_count": null,
   "metadata": {},
   "outputs": [],
   "source": [
    "gdp = GroundwaterDupuitPercolator(\n",
    "    grid,\n",
    "    hydraulic_conductivity=K,\n",
    "    porosity=n,\n",
    "    recharge_rate=recharge,\n",
    "    regularization_f=0.01,\n",
    ")"
   ]
  },
  {
   "cell_type": "markdown",
   "metadata": {},
   "source": [
    "### Set up the Farmer model"
   ]
  },
  {
   "cell_type": "code",
   "execution_count": null,
   "metadata": {},
   "outputs": [],
   "source": [
    "nc = grid.number_of_node_columns\n",
    "nr = grid.number_of_node_rows\n",
    "farmer_model = FarmerModel(\n",
    "    num_agents, nc, nr, well_depth, depth_to_wt.reshape((nr, nc))\n",
    ")"
   ]
  },
  {
   "cell_type": "markdown",
   "metadata": {},
   "source": [
    "Check the spatial distribution of wells:"
   ]
  },
  {
   "cell_type": "code",
   "execution_count": null,
   "metadata": {},
   "outputs": [],
   "source": [
    "import numpy as np\n",
    "\n",
    "\n",
    "def get_well_count(model):\n",
    "    well_count = np.zeros((nr, nc), dtype=int)\n",
    "    pumping_well_count = np.zeros((nr, nc), dtype=int)\n",
    "    for cell in model.grid.coord_iter():\n",
    "        cell_content, x, y = cell\n",
    "        well_count[x][y] = len(cell_content)\n",
    "        for agent in cell_content:\n",
    "            if agent.pumping:\n",
    "                pumping_well_count[x][y] += 1\n",
    "    return well_count, pumping_well_count\n",
    "\n",
    "\n",
    "well_count, p_well_count = get_well_count(farmer_model)\n",
    "imshow_grid(grid, well_count.flatten())"
   ]
  },
  {
   "cell_type": "markdown",
   "metadata": {},
   "source": [
    "#### Set the initial recharge field"
   ]
  },
  {
   "cell_type": "code",
   "execution_count": null,
   "metadata": {},
   "outputs": [],
   "source": [
    "recharge[:] = -(pumping_rate / (dx * dx)) * p_well_count.flatten()\n",
    "imshow_grid(grid, -recharge * 3600 * 24, colorbar_label=\"Pumping rate (m/day)\")"
   ]
  },
  {
   "cell_type": "markdown",
   "metadata": {},
   "source": [
    "### Run the model"
   ]
  },
  {
   "cell_type": "code",
   "execution_count": null,
   "metadata": {},
   "outputs": [],
   "source": [
    "for i in range(run_duration_yrs):\n",
    "\n",
    "    # Run the groundwater simulator for one year\n",
    "    run_for_one_year(gdp, dt)\n",
    "\n",
    "    # Update the depth to water table\n",
    "    depth_to_wt[:] = elev - wt\n",
    "\n",
    "    # Run the farmer model\n",
    "    farmer_model.step()\n",
    "\n",
    "    # Count the number of pumping wells\n",
    "    well_count, pumping_well_count = get_well_count(farmer_model)\n",
    "    total_pumping_wells = np.sum(pumping_well_count)\n",
    "    print(f\"In year {i + 1} there are {total_pumping_wells} pumping wells\")\n",
    "    print(f\" and the greatest depth to water table is {np.amax(depth_to_wt)} meters.\")\n",
    "\n",
    "    # Update the recharge field according to current pumping rate\n",
    "    recharge[:] = (\n",
    "        background_recharge - (pumping_rate / (dx * dx)) * pumping_well_count.flatten()\n",
    "    )\n",
    "    print(f\"Total recharge: {np.sum(recharge)}\")\n",
    "    print(\"\")\n",
    "\n",
    "    plt.figure()\n",
    "    imshow_grid(grid, wt)"
   ]
  },
  {
   "cell_type": "code",
   "execution_count": null,
   "metadata": {},
   "outputs": [],
   "source": [
    "imshow_grid(grid, wt)"
   ]
  },
  {
   "cell_type": "code",
   "execution_count": null,
   "metadata": {},
   "outputs": [],
   "source": [
    "# Display the area of water table that lies below the well depth\n",
    "depth_to_wt[:] = elev - wt\n",
    "too_deep = depth_to_wt > well_depth\n",
    "imshow_grid(grid, too_deep)"
   ]
  },
  {
   "cell_type": "markdown",
   "metadata": {},
   "source": [
    "This foregoing example is very simple, and leaves out many aspects of the complex problem of water extraction as a \"tragedy of the commons\". But it does illustrate how one can build a model that integrates agent-based dynamics with continuum dynamics by combining Landlab grid-based model code with Mesa ABM code."
   ]
  }
 ],
 "metadata": {
  "kernelspec": {
   "display_name": "Python 3",
   "language": "python",
   "name": "python3"
  },
  "language_info": {
   "codemirror_mode": {
    "name": "ipython",
    "version": 3
   },
   "file_extension": ".py",
   "mimetype": "text/x-python",
   "name": "python",
   "nbconvert_exporter": "python",
   "pygments_lexer": "ipython3",
   "version": "3.8.1"
  }
 },
 "nbformat": 4,
 "nbformat_minor": 4
}
