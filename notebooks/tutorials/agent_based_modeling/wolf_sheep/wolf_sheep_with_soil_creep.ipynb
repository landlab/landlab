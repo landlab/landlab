{
 "cells": [
  {
   "cell_type": "markdown",
   "metadata": {},
   "source": [
    "# Wolf-Sheep-Grass Model with Soil Creep\n",
    "\n",
    "This notebook demonstrates coupling of an ABM implemented in Mesa and a grid-based numerical model written in Landlab. The example is the canonical \"wolf-sheep-grass\" example of an agent-based model. Here we add an additional twist: when sheep eat grass, the soil beneath becomes more easily mobile. This then influences soil transport: the transport efficiency is higher where the grass is \"damaged\". An additional feedback lies in the thickness of the soil: grass will not grow if the soil is too thin.\n",
    "\n",
    "The rules in this example are deliberately simple. The main goal of this tutorial is to illustrate the mechanics of building an integrated model that combines agent-based elements (via Mesa) with continuum-based elements (via Landlab) on a shared grid.\n",
    "\n",
    "*(Greg Tucker, June 2020; most recent update November 2021)*"
   ]
  },
  {
   "cell_type": "markdown",
   "metadata": {},
   "source": [
    "## Running the Mesa Wolf-Sheep-Grass model by itself\n",
    "\n",
    "To start, here's an example of how to run a Mesa model in a notebook. First, we'll install Mesa:"
   ]
  },
  {
   "cell_type": "code",
   "execution_count": null,
   "metadata": {
    "pycharm": {
     "name": "#%%\n"
    }
   },
   "outputs": [],
   "source": [
    "!pip install -r https://raw.githubusercontent.com/projectmesa/mesa/master/examples/wolf_sheep/requirements.txt"
   ]
  },
  {
   "cell_type": "markdown",
   "metadata": {},
   "source": [
    "Next, we'll import a Mesa model object, representing the wolf-sheep-grass model, along with an agent object, representing grass patches. Note that this Mesa code for the wolf-sheep-grass example was written by the Mesa development team; the original can be found [here](https://github.com/projectmesa/mesa/tree/main/examples/wolf_sheep)."
   ]
  },
  {
   "cell_type": "code",
   "execution_count": null,
   "metadata": {},
   "outputs": [],
   "source": [
    "from wolf_sheep.model import WolfSheep\n",
    "from wolf_sheep.agents import GrassPatch"
   ]
  },
  {
   "cell_type": "markdown",
   "metadata": {},
   "source": [
    "Create an instance of the WolfSheep model, with the `grass` option set to `True`:"
   ]
  },
  {
   "cell_type": "code",
   "execution_count": null,
   "metadata": {},
   "outputs": [],
   "source": [
    "ws = WolfSheep(grass=True)"
   ]
  },
  {
   "cell_type": "markdown",
   "metadata": {},
   "source": [
    "Define a function to set up an array representing the growth status of grass on the model grid (in other words, extract the information from the model's GrassPatch agents), as well as a function to plot the current grass status. This is really a translation of data structures: the Mesa model stores data inside agents, which themselves reside at particular grid cells. Here we want to extract the information pertaining to the status of each cell's GrassPatch---is it fully grown or \"damaged\"---and store that information in a simple 2D numpy array."
   ]
  },
  {
   "cell_type": "code",
   "execution_count": null,
   "metadata": {},
   "outputs": [],
   "source": [
    "import numpy as np\n",
    "import matplotlib as mpl\n",
    "import matplotlib.pyplot as plt\n",
    "import copy\n",
    "\n",
    "ground_cover_cmap = copy.copy(mpl.cm.get_cmap(\"YlGn\"))\n",
    "\n",
    "def generate_grass_map(model):\n",
    "    grass_map = np.zeros((model.grid.width, model.grid.height))\n",
    "    for cell in model.grid.coord_iter():\n",
    "        cell_content, x, y = cell\n",
    "        for agent in cell_content:\n",
    "            if type(agent) is GrassPatch:\n",
    "                if agent.fully_grown:\n",
    "                    grass_map[x][y] = 2\n",
    "                else:\n",
    "                    grass_map[x][y] = 1\n",
    "    return grass_map\n",
    "\n",
    "def plot_grass_map(grass_map):  \n",
    "    plt.imshow(grass_map, interpolation='nearest', cmap=ground_cover_cmap)\n",
    "    plt.colorbar()"
   ]
  },
  {
   "cell_type": "markdown",
   "metadata": {},
   "source": [
    "Run the model and display the results:"
   ]
  },
  {
   "cell_type": "code",
   "execution_count": null,
   "metadata": {},
   "outputs": [],
   "source": [
    "ws.run_model(step_count=25)\n",
    "gm = generate_grass_map(ws)\n",
    "plot_grass_map(gm)"
   ]
  },
  {
   "cell_type": "markdown",
   "metadata": {},
   "source": [
    "## One-way coupling: using the grass cover in a soil-creep model\n",
    "\n",
    "Here we initialize and run the W-S-G model for a short duration. We then extract its map of fully grown versus damaged grass, and use that to set the soil creep coefficient in a model of downslope soil creep. The point here is just to show that it's pretty easy to use a grid from a Mesa model as input to a Landlab-built model."
   ]
  },
  {
   "cell_type": "code",
   "execution_count": null,
   "metadata": {},
   "outputs": [],
   "source": [
    "ws = WolfSheep(grass=True)\n",
    "ws.run_model(step_count=3)\n",
    "gm = generate_grass_map(ws)\n",
    "plot_grass_map(gm)"
   ]
  },
  {
   "cell_type": "markdown",
   "metadata": {},
   "source": [
    "Import from Landlab a `RasterModelGrid` (which will be Landlab's version of the model grid), the `imshow_grid` function (for plotting Landlab grid fields), and the `LinearDiffuser` component (which will implement down-slope soil creep)."
   ]
  },
  {
   "cell_type": "code",
   "execution_count": null,
   "metadata": {},
   "outputs": [],
   "source": [
    "from landlab import RasterModelGrid, imshow_grid\n",
    "from landlab.components import LinearDiffuser\n",
    "import copy\n",
    "import matplotlib as mpl"
   ]
  },
  {
   "cell_type": "code",
   "execution_count": null,
   "metadata": {},
   "outputs": [],
   "source": [
    "# Create a grid the same size as the W-S-G model's grid\n",
    "rmg = RasterModelGrid((ws.grid.width, ws.grid.height))\n",
    "\n",
    "# Create elevation field and have it slope down to the south at 10% gradient\n",
    "elev = rmg.add_zeros('topographic__elevation', at='node')\n",
    "elev[:] = 0.1 * rmg.y_of_node\n",
    "\n",
    "# Have one open boundary on the south side\n",
    "rmg.set_closed_boundaries_at_grid_edges(True, True, True, False)\n",
    "\n",
    "# Remember the starting elevation so we can calculate cumulative erosion/deposition\n",
    "initial_elev = np.zeros(rmg.number_of_nodes)\n",
    "initial_elev[:] = elev\n",
    "\n",
    "# Create a field for the creep coefficient, and set parameters for two\n",
    "# rates: slow (full grass cover) and fast (partial or \"eaten\" grass cover)\n",
    "creep_coef = rmg.add_zeros('creep_coefficient', at='node')\n",
    "fast_creep = 0.1\n",
    "slow_creep = 0.001\n",
    "\n",
    "# Assign the higher creep coefficient to cells where the grass has\n",
    "# been eaten and not yet recovered; the slower value is assigned to\n",
    "# \"fully grown\" grass patches.\n",
    "creep_coef[gm.flatten()==1] = fast_creep\n",
    "creep_coef[gm.flatten()==2] = slow_creep\n",
    "\n",
    "# Instantiate a LinearDiffuser (soil creep) Landlab component\n",
    "diffuser = LinearDiffuser(rmg, linear_diffusivity=creep_coef)\n",
    "\n",
    "# Set the time step duration\n",
    "dt = 0.2 * rmg.dx * rmg.dx / fast_creep\n",
    "print('Time step duration is ' + str(dt) + ' years.')"
   ]
  },
  {
   "cell_type": "code",
   "execution_count": null,
   "metadata": {},
   "outputs": [],
   "source": [
    "# Run the soil creep model\n",
    "for i in range(50):\n",
    "    diffuser.run_one_step(dt)"
   ]
  },
  {
   "cell_type": "code",
   "execution_count": null,
   "metadata": {},
   "outputs": [],
   "source": [
    "# Calculate and plot the erosion/deposition patterns\n",
    "ero_dep = elev - initial_elev\n",
    "maxchange = np.amax(np.abs(ero_dep))\n",
    "imshow_grid(\n",
    "    rmg,\n",
    "    ero_dep,\n",
    "    vmin=-maxchange,\n",
    "    vmax=maxchange,\n",
    "    cmap=copy.copy(mpl.cm.get_cmap('coolwarm_r')),\n",
    "    colorbar_label='Cumulative deposition (+) or erosion (-), m'\n",
    ")"
   ]
  },
  {
   "cell_type": "code",
   "execution_count": null,
   "metadata": {},
   "outputs": [],
   "source": [
    "# Plot the grass cover again\n",
    "imshow_grid(\n",
    "    rmg,\n",
    "    gm,\n",
    "    cmap=ground_cover_cmap,\n",
    "    colorbar_label='Ground cover (1 = bare, 2 = grass)'\n",
    ")"
   ]
  },
  {
   "cell_type": "code",
   "execution_count": null,
   "metadata": {},
   "outputs": [],
   "source": [
    "imshow_grid(\n",
    "    rmg,\n",
    "    elev,\n",
    "    cmap=copy.copy(mpl.cm.get_cmap(\"pink\")),\n",
    "    colorbar_label='Elevation above base of slope (m)'\n",
    ")"
   ]
  },
  {
   "cell_type": "markdown",
   "metadata": {},
   "source": [
    "Interestingly, erosion tends to occur at locations where grass cover upslope captures incoming soil.\n",
    "\n",
    "So far, however, this is just one-way feedback: the previously damaged grass patches, as calculated in the wolf-sheep-grass ABM, become susceptible to erosion, but this does not (yet) feed back into future grass growth or erosional loss. Let's turn to that next."
   ]
  },
  {
   "cell_type": "markdown",
   "metadata": {},
   "source": [
    "## Two-way feedback\n",
    "\n",
    "Here, we explore two-way feedback by running the two models iteratively. We track soil thickness, and \"damage\" any grass where the soil is thinner than a given amount. We also limit soil flux according to its thickness, so that absent soil cannot move.\n",
    "\n",
    "These rules are deliberately simple. One could make the model more realistic by, for example, setting the grass regrowth time (a property of the GrassPatch agents in the ABM) to a value that depends on the thickness of the soil (a Landlab field)."
   ]
  },
  {
   "cell_type": "code",
   "execution_count": null,
   "metadata": {},
   "outputs": [],
   "source": [
    "ws = WolfSheep(grass=True)"
   ]
  },
  {
   "cell_type": "code",
   "execution_count": null,
   "metadata": {},
   "outputs": [],
   "source": [
    "initial_soil_depth = 0.2\n",
    "min_depth_for_grass = 0.2\n",
    "hstar = 0.2\n",
    "fast_creep = 0.1\n",
    "slow_creep = 0.001"
   ]
  },
  {
   "cell_type": "code",
   "execution_count": null,
   "metadata": {},
   "outputs": [],
   "source": [
    "# Create a grid the same size as the W-S-G model's grid\n",
    "rmg = RasterModelGrid((ws.grid.width, ws.grid.height))\n",
    "\n",
    "# Create elevation field and have it slope down to the south at 10% gradient\n",
    "elev = rmg.add_zeros('topographic__elevation', at='node')\n",
    "elev[:] = 0.1 * rmg.y_of_node\n",
    "\n",
    "# Have one open boundary on the south side\n",
    "rmg.set_closed_boundaries_at_grid_edges(True, True, True, False)\n",
    "\n",
    "# Remember the starting elevation so we can calculate cumulative erosion/deposition\n",
    "initial_elev = np.zeros(rmg.number_of_nodes)\n",
    "initial_elev[:] = elev\n",
    "\n",
    "# Also remember the elevation of the prior time step, so we can difference\n",
    "prior_elev = np.zeros(rmg.number_of_nodes)\n",
    "\n",
    "# Create a field for the creep coefficient, and set parameters for two\n",
    "# rates: slow (full grass cover) and fast (partial or \"eaten\" grass cover)\n",
    "creep_coef = rmg.add_zeros('creep_coefficient', at='node')\n",
    "\n",
    "# Create a soil-thickness field\n",
    "soil = rmg.add_zeros('soil__depth', at='node')\n",
    "soil[:] = initial_soil_depth\n",
    "\n",
    "# Instantiate a LinearDiffuser (soil creep) Landlab component\n",
    "diffuser = LinearDiffuser(rmg, linear_diffusivity=creep_coef)\n",
    "\n",
    "# Set the time step duration\n",
    "dt = 0.2 * rmg.dx * rmg.dx / fast_creep\n",
    "print('Time step duration is ' + str(dt) + ' years.')"
   ]
  },
  {
   "cell_type": "markdown",
   "metadata": {},
   "source": [
    "Next we define a new function `limit_grass_by_soil` that will render any GrassPatches \"non-fully-grown\" if the soil is thinner than a specified minimum value. In other words, we represent soil limitation with a simple threshold in which the grass in any cell with soil thinner than the threshold can never be fully grown. Again, a more realistic way to do this might be to reduce the regrowth rate, but our simple threshold treatment will serve for the purpose of showing how we can use data from a Landlab field to influence data associated with spatially distributed agents in a Mesa model:"
   ]
  },
  {
   "cell_type": "code",
   "execution_count": null,
   "metadata": {},
   "outputs": [],
   "source": [
    "def limit_grass_by_soil(wsg_model, soil, min_soil_depth):\n",
    "    soilmatrix = soil.reshape((wsg_model.width, wsg_model.height))\n",
    "    for cell in wsg_model.grid.coord_iter():\n",
    "        cell_content, x, y = cell\n",
    "        if soilmatrix[x][y] < min_soil_depth:\n",
    "            for agent in cell_content:\n",
    "                if type(agent) is GrassPatch:\n",
    "                    agent.fully_grown = False"
   ]
  },
  {
   "cell_type": "markdown",
   "metadata": {},
   "source": [
    "Run the integrated model in a time loop. Our algorithm performs the following sequence of calculations in each iteration:\n",
    "\n",
    "- Get a copy of the current grass status as a 2D array\n",
    "- Update the soil-creep coefficient Landlab field according to the grass status and the soil thickness\n",
    "- Run soil creep for one time step and update the soil thickness (we could have used a DepthDependentLinearDiffuser for this, but here a simpler approach will suffice)\n",
    "- Set grass in any cells with insufficient soil to be non-fully-grown\n",
    "- Run the wolf-sheep-grass model for one time step\n",
    "\n",
    "The data exchange happens in two function calls. `generate_grass_map` translates grass status data from the Mesa model's data structure to a Landlab field, and `limit_grass_by_soil` translates Landlab's soil thickness field into a restriction on grass status in the Mesa model's GrassPatch agents."
   ]
  },
  {
   "cell_type": "code",
   "execution_count": null,
   "metadata": {},
   "outputs": [],
   "source": [
    "# Main loop\n",
    "for i in range(50):\n",
    "    \n",
    "    # Assign the higher creep coefficient to cells where the grass has\n",
    "    # been eaten and not yet recovered; the slower value is assigned to\n",
    "    # \"fully grown\" grass patches.\n",
    "    gm = generate_grass_map(ws)\n",
    "    creep_coef[gm.flatten()==1] = fast_creep\n",
    "    creep_coef[gm.flatten()==2] = slow_creep\n",
    "\n",
    "    # Adjust the creep coefficient to account for soil depth\n",
    "    creep_coef *= 1.0 - np.exp( -soil / hstar)\n",
    "\n",
    "    # Run the soil-creep model\n",
    "    prior_elev[:] = elev\n",
    "    diffuser.run_one_step(dt)\n",
    "    \n",
    "    # Update the soil cover\n",
    "    soil += elev - prior_elev\n",
    "\n",
    "    # Update the grass cover\n",
    "    limit_grass_by_soil(ws, soil, min_depth_for_grass)\n",
    "    \n",
    "    # Run the W-S-G model\n",
    "    ws.step()"
   ]
  },
  {
   "cell_type": "markdown",
   "metadata": {},
   "source": [
    "The next few plots examine the results to illustrate how the interaction of soil creep and grass consumption by mobile agents (sheep) has influenced the landscape:"
   ]
  },
  {
   "cell_type": "code",
   "execution_count": null,
   "metadata": {},
   "outputs": [],
   "source": [
    "# Calculate and plot the erosion/deposition patterns\n",
    "ero_dep = elev - initial_elev\n",
    "maxchange = np.amax(np.abs(ero_dep))\n",
    "imshow_grid(\n",
    "    rmg,\n",
    "    ero_dep,\n",
    "    vmin=-maxchange,\n",
    "    vmax=maxchange,\n",
    "    cmap='coolwarm_r',\n",
    "    colorbar_label='Depth of soil accumulation (+) or loss (-), m'\n",
    ")"
   ]
  },
  {
   "cell_type": "code",
   "execution_count": null,
   "metadata": {},
   "outputs": [],
   "source": [
    "# Soil thickness\n",
    "imshow_grid(rmg, soil, colorbar_label='Soil thickness, m')"
   ]
  },
  {
   "cell_type": "code",
   "execution_count": null,
   "metadata": {},
   "outputs": [],
   "source": [
    "# Ground cover\n",
    "imshow_grid(\n",
    "    rmg,\n",
    "    gm,\n",
    "    cmap=ground_cover_cmap,\n",
    "    colorbar_label='Ground cover (1 = bare, 2 = grass)'\n",
    ")"
   ]
  },
  {
   "cell_type": "markdown",
   "metadata": {},
   "source": [
    "Here soil erosion at the top of the slope inhibits grass cover, while soil accumulation at the base of the slope allows grass to continue to grow."
   ]
  }
 ],
 "metadata": {
  "kernelspec": {
   "display_name": "Python 3",
   "language": "python",
   "name": "python3"
  },
  "language_info": {
   "codemirror_mode": {
    "name": "ipython",
    "version": 3
   },
   "file_extension": ".py",
   "mimetype": "text/x-python",
   "name": "python",
   "nbconvert_exporter": "python",
   "pygments_lexer": "ipython3",
   "version": "3.8.8"
  }
 },
 "nbformat": 4,
 "nbformat_minor": 4
}
