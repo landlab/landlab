{
 "cells": [
  {
   "cell_type": "markdown",
   "metadata": {},
   "source": [
    "# Cellular Susceptible-Infectious-Recovered (SIR) Model\n",
    "\n",
    "*This notebook demonstrates how CellLab-CTS can be used to create a stochastic, cellular implementation of the Susceptible-Infectious-Recovered (SIR) epidemiological model. For the original example, see Tucker et al. (2016, Geoscientific Model Development).*\n",
    "\n",
    "## Model Framework\n",
    "\n",
    "The model domain consists of a hexagonal lattice of cells, representing individuals in a community. Each cell takes one of three possible states:\n",
    "\n",
    "- **Susceptible:** the individual is susceptible to an infectious disease\n",
    "\n",
    "- **Infectious:** the individual is infected, and able to transmit the disease to their immediate neighbors\n",
    "\n",
    "- **Recovered:** the individual has recovered and is immune to further infection\n",
    "\n",
    "As with all CellLab-CTS models, the dynamics are described by pairwise transition rules. In this case, there are just two transition rules:\n",
    "\n",
    "(1) When an infectious cell is adjacent to a susceptible cell, the susceptible cell has a probability $P_i$ per unit time of becoming *infected*. This transition is represented by drawing the waiting time before infection occurs as a random number from an exponential distribution with a mean time-to-infection of $T_i = 1/P_i$. If the infectious cell recovers before then, infection does not take place.\n",
    "\n",
    "(2) An infectious cell, regardless of its neighbor states, has a probability $P_r$ per unit time of *recovery*. This translates into an expected waiting time to recovery of $T_r = 1/P_r$, and it is implemented by drawing a time-to-recovery from an exponential distribution with mean $T_r$. Note that because of the lattice geometry, the actual expected recovery rate is $6/T_r$, and the expected recovery time is $T_r/6$.\n",
    "\n",
    "In the implementation below, the recovery time is set to unity, such that the infection rate is normalized by the recovery rate.\n",
    "\n",
    "## Implementation\n",
    "\n",
    "The model is implemented as a Python class, in the accompanying file `sir.py`. Here we import the class, create an instance with default parameters, and run it. The starting condition just has a single infected cell.\n"
   ]
  },
  {
   "cell_type": "code",
   "execution_count": null,
   "metadata": {},
   "outputs": [],
   "source": [
    "from sir import StochasticCellularSIRmodel"
   ]
  },
  {
   "cell_type": "code",
   "execution_count": null,
   "metadata": {},
   "outputs": [],
   "source": [
    "sir = StochasticCellularSIRmodel()"
   ]
  },
  {
   "cell_type": "code",
   "execution_count": null,
   "metadata": {},
   "outputs": [],
   "source": [
    "sir.run()"
   ]
  },
  {
   "cell_type": "markdown",
   "metadata": {},
   "source": [
    "## Changing the infection and recovery rates\n",
    "\n",
    "In the default run above, $T_i / T_r = 2$, meaning that the infection rate is relatively modest, and the infection burns itself out. What happens if we double it?"
   ]
  },
  {
   "cell_type": "code",
   "execution_count": null,
   "metadata": {},
   "outputs": [],
   "source": [
    "sir = StochasticCellularSIRmodel(infection_rate=4.0, run_duration=10.0,\n",
    "                                 output_interval=2.0)\n",
    "sir.run()"
   ]
  },
  {
   "cell_type": "markdown",
   "metadata": {},
   "source": [
    "Now the infection is much more aggressive. We can query the proportion of infected and recovered cells as follows:"
   ]
  },
  {
   "cell_type": "code",
   "execution_count": null,
   "metadata": {},
   "outputs": [],
   "source": [
    "import numpy as np\n",
    "\n",
    "# Total number of recovered cells (not counting the one boundary cell\n",
    "# that was set to recovered simply for plotting purposes)\n",
    "num_recovered_cells = np.count_nonzero(sir.ca.node_state == 2) - 1\n",
    "\n",
    "# Percentage\n",
    "percent_infected_and_recovered = 100.0 * (num_recovered_cells\n",
    "                                          / len(sir.grid.core_nodes))\n",
    "\n",
    "print(str(int(np.round(percent_infected_and_recovered))) + '% infected')"
   ]
  },
  {
   "cell_type": "markdown",
   "metadata": {},
   "source": [
    "What if we double the infection/recovery rate ratio yet again?"
   ]
  },
  {
   "cell_type": "code",
   "execution_count": null,
   "metadata": {},
   "outputs": [],
   "source": [
    "sir = StochasticCellularSIRmodel(infection_rate=8.0, run_duration=5.0,\n",
    "                                 output_interval=1.0)\n",
    "sir.run()"
   ]
  },
  {
   "cell_type": "markdown",
   "metadata": {},
   "source": [
    "Here the spread is faster, and..."
   ]
  },
  {
   "cell_type": "code",
   "execution_count": null,
   "metadata": {},
   "outputs": [],
   "source": [
    "num_recovered_cells = np.count_nonzero(sir.ca.node_state == 2) - 1\n",
    "percent_infected_and_recovered = 100.0 * (num_recovered_cells\n",
    "                                          / len(sir.grid.core_nodes))\n",
    "print(str(int(np.round(percent_infected_and_recovered))) + '% infected')"
   ]
  },
  {
   "cell_type": "markdown",
   "metadata": {},
   "source": [
    "...nearly everyone gets infected."
   ]
  },
  {
   "cell_type": "markdown",
   "metadata": {},
   "source": [
    "MORAL: stay inside and play with Landlab!"
   ]
  }
 ],
 "metadata": {
  "kernelspec": {
   "display_name": "Python 3",
   "language": "python",
   "name": "python3"
  },
  "language_info": {
   "codemirror_mode": {
    "name": "ipython",
    "version": 3
   },
   "file_extension": ".py",
   "mimetype": "text/x-python",
   "name": "python",
   "nbconvert_exporter": "python",
   "pygments_lexer": "ipython3",
   "version": "3.7.3"
  }
 },
 "nbformat": 4,
 "nbformat_minor": 2
}
