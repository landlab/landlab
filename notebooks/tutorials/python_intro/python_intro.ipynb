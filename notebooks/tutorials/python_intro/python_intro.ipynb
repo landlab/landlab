{
 "cells": [
  {
   "cell_type": "markdown",
   "metadata": {},
   "source": [
    "<a href=\"http://landlab.github.io\"><img style=\"float: left\" src=\"../../landlab_header.png\"></a>"
   ]
  },
  {
   "cell_type": "markdown",
   "metadata": {},
   "source": [
    "# A super-brief intro to Python and NumPy"
   ]
  },
  {
   "cell_type": "markdown",
   "metadata": {},
   "source": [
    "<hr>\n",
    "<small>For more Landlab tutorials, click here: <a href=\"https://landlab.readthedocs.io/en/latest/user_guide/tutorials.html\">https://landlab.readthedocs.io/en/latest/user_guide/tutorials.html</a></small>\n",
    "<hr>\n"
   ]
  },
  {
   "cell_type": "markdown",
   "metadata": {},
   "source": [
    "Python is:\n",
    "* interpreted (high level)\n",
    "* readable\n",
    "* concise\n",
    "* cross-platform\n",
    "* dynamically typed\n",
    "* object oriented\n",
    "* automatically memory-managed\n",
    "\n",
    "Almost all of the below is explained much more fully at various places online. For a nice entry level tutorial set, try the Software Carpentry intros:\n",
    "http://swcarpentry.github.io/python-novice-inflammation/\n",
    "\n",
    "The main Python documentation is also an extremely readable source of knowledge. Just Google!"
   ]
  },
  {
   "cell_type": "markdown",
   "metadata": {},
   "source": [
    "## PROGRAM FILES AND INTERACTIVE ENVIRONMENTS\n",
    "Put Python code in .py text files (AKA \"scripts\").\n",
    "Run these from a shell, as:\n",
    "\n",
    "> python myscript.py\n",
    "\n",
    "OR\n",
    "\n",
    "Use one of Python's interactive environments (e.g., iPython)\n",
    "\n",
    "> ipython\n",
    "\n",
    "In an interactive environment:\n",
    "\n",
    "* Run code line-by-line, preserving variables\n",
    "* Run your scripts, using the magic command `%run` (and preserve the variables)\n",
    "\n",
    "This Jupyter notebook is an interactive environment."
   ]
  },
  {
   "cell_type": "markdown",
   "metadata": {},
   "source": [
    "## MODULES\n",
    "Python has some built-in functions, but everything else comes in a library module.\n",
    "\n",
    "* See the built-in functions here: https://docs.python.org/2/library/functions.html\n",
    "\n",
    "Modules are *imported*, then the functions they hold run with a *dot* syntax:"
   ]
  },
  {
   "cell_type": "code",
   "execution_count": null,
   "metadata": {},
   "outputs": [],
   "source": [
    "import math  # comments with a hash\n",
    "x = math.cos(2. * math.pi)\n",
    "print(x)  # print is a built-in function"
   ]
  },
  {
   "cell_type": "markdown",
   "metadata": {},
   "source": [
    "OR import the functions and properties individually:"
   ]
  },
  {
   "cell_type": "code",
   "execution_count": null,
   "metadata": {},
   "outputs": [],
   "source": [
    "from numpy import cos, pi  # numpy, numeric python, also has these functions\n",
    "x = cos(2. * pi)\n",
    "print(x)"
   ]
  },
  {
   "cell_type": "markdown",
   "metadata": {},
   "source": [
    "Get help in an interactive shell with a trailing ``?``, quit it with ``q``"
   ]
  },
  {
   "cell_type": "code",
   "execution_count": null,
   "metadata": {},
   "outputs": [],
   "source": [
    "pi?"
   ]
  },
  {
   "cell_type": "markdown",
   "metadata": {},
   "source": [
    "## TYPES\n",
    "Python distinguishes:\n",
    "* integer (int), e.g., 3,\n",
    "* float (float), e.g., 1.0 or 2.5,\n",
    "* boolean (bool), e.g., True\n",
    "* complex (complex), e.g., 3.2 + 2.4*i*,\n",
    "* strings (str), e.g., 'Hello world!'\n",
    "\n",
    "You may also encounter NumPy types, like `numpy.float64`"
   ]
  },
  {
   "cell_type": "code",
   "execution_count": null,
   "metadata": {},
   "outputs": [],
   "source": [
    "type(pi)"
   ]
  },
  {
   "cell_type": "markdown",
   "metadata": {},
   "source": [
    "Typecasting (switching between types on-the-fly) is automatic where possible, but can be time-expensive if you want efficient code.\n",
    "\n",
    "Python's inbuilt *data structures* are:\n",
    "* tuples, with *parentheses*—immutable (you can't change values once they exist)\n",
    "* lists, with *square brackets*—mutable (you can change values once they exist)\n",
    "* sets, as set()—unordered collection with no duplicates\n",
    "* dictionaries, with *curly brackets*—associated pairs of key:value\n",
    "\n",
    "Note that all these data structures let you happily mix data types… But the cost is that Python runs more slowly than, e.g., C++."
   ]
  },
  {
   "cell_type": "code",
   "execution_count": null,
   "metadata": {},
   "outputs": [],
   "source": [
    "mytuple = (0, 1, 2, 3)\n",
    "print('You can index: {}'.format(mytuple[1])) # this uses a string method which replaces {} with the argument of format"
   ]
  },
  {
   "cell_type": "markdown",
   "metadata": {},
   "source": [
    "Tuples are immutable, meaning that you cannot reassign values to them. Python will give `TypeError` if you try to do so. We can test this using a `try...except` block: if a `TypeError` occurs in the assignment statement below, we should see the printed message:"
   ]
  },
  {
   "cell_type": "code",
   "execution_count": null,
   "metadata": {},
   "outputs": [],
   "source": [
    "try:\n",
    "    mytuple[0] = 100\n",
    "except TypeError:\n",
    "    print('A TypeError occurred')"
   ]
  },
  {
   "cell_type": "markdown",
   "metadata": {},
   "source": [
    "... and indeed we do."
   ]
  },
  {
   "cell_type": "code",
   "execution_count": null,
   "metadata": {},
   "outputs": [],
   "source": [
    "mylist = [0, 1, 2, 3]\n",
    "print ('This time reassignment works:')\n",
    "mylist[0] = 'I can store a string!'\n",
    "print(mylist)"
   ]
  },
  {
   "cell_type": "code",
   "execution_count": null,
   "metadata": {},
   "outputs": [],
   "source": [
    "myset = set([0, 1, 2, 3])\n",
    "print(myset)"
   ]
  },
  {
   "cell_type": "code",
   "execution_count": null,
   "metadata": {},
   "outputs": [],
   "source": [
    "myset.add(\"string!\") # you can use both ' and \" to declare a string\n",
    "print('Adding is easy: {}'.format(myset))"
   ]
  },
  {
   "cell_type": "code",
   "execution_count": null,
   "metadata": {},
   "outputs": [],
   "source": [
    "myset.add(0)\n",
    "print(\"But remember, duplicates don't count! {}\".format(myset))"
   ]
  },
  {
   "cell_type": "markdown",
   "metadata": {},
   "source": [
    "Almost anything can be a key or a value:"
   ]
  },
  {
   "cell_type": "code",
   "execution_count": null,
   "metadata": {},
   "outputs": [],
   "source": [
    "mydict = {'firstkey':1, 'secondkey':2, 3:'three'}\n",
    "print(mydict)"
   ]
  },
  {
   "cell_type": "code",
   "execution_count": null,
   "metadata": {},
   "outputs": [],
   "source": [
    "print(mydict['firstkey'])\n",
    "print(mydict['secondkey'])\n",
    "print(mydict[3])"
   ]
  },
  {
   "cell_type": "code",
   "execution_count": null,
   "metadata": {},
   "outputs": [],
   "source": [
    "print('Get the keys (note lack of ordering): {}'.format(mydict.keys()))\n",
    "print('Get the values: {}'.format(mydict.values()))"
   ]
  },
  {
   "cell_type": "code",
   "execution_count": null,
   "metadata": {},
   "outputs": [],
   "source": [
    "try:\n",
    "    print('The next line should generate a KeyError...')\n",
    "    print(' {}'.format(mydict[2]))\n",
    "except KeyError:\n",
    "    print('...and indeed it did.')"
   ]
  },
  {
   "cell_type": "markdown",
   "metadata": {},
   "source": [
    "## INDEXING\n",
    "* Indexing starts from 0\n",
    "* Index with square brackets [start : stop : step]\n",
    "* \"stop\" is *exclusive* of the named index\n",
    "* Colon alone means \"all of these\" or \"to the start/end\""
   ]
  },
  {
   "cell_type": "code",
   "execution_count": null,
   "metadata": {},
   "outputs": [],
   "source": [
    "x = list(range(10))\n",
    "print('x[3] gives {}'.format(x[3]))\n",
    "print('x[1:5:2] gives {}'.format(x[1:5:2]))"
   ]
  },
  {
   "cell_type": "code",
   "execution_count": null,
   "metadata": {},
   "outputs": [],
   "source": [
    "print('x[8:] gives {}'.format(x[8:]))\n",
    "print('x[:7] gives {}'.format(x[:7]))\n",
    "print('x[::3] gives {}'.format(x[::3]))"
   ]
  },
  {
   "cell_type": "markdown",
   "metadata": {},
   "source": [
    "## PYTHON IS LIKE, BUT ISN'T, MATLAB\n",
    "- This is a *power*:"
   ]
  },
  {
   "cell_type": "code",
   "execution_count": null,
   "metadata": {},
   "outputs": [],
   "source": [
    "x = 10.0 ** 2  # …or…\n",
    "import numpy as np\n",
    "x = np.square(10.)  # NEVER 10.^2."
   ]
  },
  {
   "cell_type": "markdown",
   "metadata": {},
   "source": [
    "Likewise, it's also useful to know about the \"truncation\" (``//``) and \"remainder\" (``%``) division operators:"
   ]
  },
  {
   "cell_type": "code",
   "execution_count": null,
   "metadata": {},
   "outputs": [],
   "source": [
    "print('truncate: {}'.format((13 // 4)))\n",
    "print('remainder: {}'.format((13 % 4)))"
   ]
  },
  {
   "cell_type": "markdown",
   "metadata": {},
   "source": [
    "- End indices are NOT inclusive"
   ]
  },
  {
   "cell_type": "code",
   "execution_count": null,
   "metadata": {},
   "outputs": [],
   "source": [
    "len(range(0, 100)) # in Matlab this would be 101"
   ]
  },
  {
   "cell_type": "code",
   "execution_count": null,
   "metadata": {},
   "outputs": [],
   "source": [
    "[x for x in range(5)]  # this is called \"list comprehension\", and is a readable way to make a list"
   ]
  },
  {
   "cell_type": "markdown",
   "metadata": {},
   "source": [
    "- Intelligent memory management means Python will pass objects *by reference* where possible. In other words, if you set two things equal and then later change the first one, the second one will also change (and vice versa):"
   ]
  },
  {
   "cell_type": "code",
   "execution_count": null,
   "metadata": {},
   "outputs": [],
   "source": [
    "x = [0] * 3\n",
    "y = [1, 2, 3]\n",
    "print('x starts as {}'.format(x))\n",
    "print('y starts as {}'.format(y))"
   ]
  },
  {
   "cell_type": "code",
   "execution_count": null,
   "metadata": {},
   "outputs": [],
   "source": [
    "x = y\n",
    "print('After setting equal, x is {}'.format(x))"
   ]
  },
  {
   "cell_type": "code",
   "execution_count": null,
   "metadata": {},
   "outputs": [],
   "source": [
    "y[1] = 100\n",
    "print('After modifying y, x is {}'.format(x))"
   ]
  },
  {
   "cell_type": "code",
   "execution_count": null,
   "metadata": {},
   "outputs": [],
   "source": [
    "# one way to stop this automatic behaviour is by forcing a copy with [:]\n",
    "x = y[:]\n",
    "print(x)\n",
    "print(y)"
   ]
  },
  {
   "cell_type": "code",
   "execution_count": null,
   "metadata": {},
   "outputs": [],
   "source": [
    "y[1] = 1000000\n",
    "print('After forcing a copy, x is still {} but y is now {}'.format(x, y))"
   ]
  },
  {
   "cell_type": "markdown",
   "metadata": {},
   "source": [
    "- In Matlab, assigning a value to a variable triggers output unless you suppress it with a semi-colon at the end of the line; this isn't necessary in Python:"
   ]
  },
  {
   "cell_type": "code",
   "execution_count": null,
   "metadata": {},
   "outputs": [],
   "source": [
    "x = range(10) # …see?"
   ]
  },
  {
   "cell_type": "markdown",
   "metadata": {},
   "source": [
    "- Python doesn't use brackets to delineate code blocks. It uses *indentation* with a fixed number of spaces (normally 4). This also applies to ``for`` loops, ``while`` loops, ``if`` statements, ``try/except`` statements, class declarations, function declarations, etc."
   ]
  },
  {
   "cell_type": "code",
   "execution_count": null,
   "metadata": {},
   "outputs": [],
   "source": [
    "def myfunction(arg1, arg2, **kwds):\n",
    "    # **kwds is a special (optional) dictionary input type,\n",
    "    # that you can use as an input \"wildcard\"\n",
    "    try:\n",
    "        print_this = kwds['printme']\n",
    "    except KeyError:\n",
    "        x = arg1 * arg2\n",
    "        return x  # ...no brackets needed; both lines have 4 space indents\n",
    "    else:\n",
    "        print(print_this)"
   ]
  },
  {
   "cell_type": "code",
   "execution_count": null,
   "metadata": {},
   "outputs": [],
   "source": [
    "print('first time:')\n",
    "myfunction(3., 4.)"
   ]
  },
  {
   "cell_type": "code",
   "execution_count": null,
   "metadata": {},
   "outputs": [],
   "source": [
    "print('second time…')\n",
    "myfunction(5, 6, printme='Printed this time!')"
   ]
  },
  {
   "cell_type": "markdown",
   "metadata": {},
   "source": [
    "- Python's plotting is a blatant clone of matlab's, and lives in the library matplotlib.pyplot:"
   ]
  },
  {
   "cell_type": "code",
   "execution_count": null,
   "metadata": {},
   "outputs": [],
   "source": [
    "%matplotlib inline\n",
    "# that command tells this notebook to put plots into the notebook\n",
    "import matplotlib.pyplot as plt\n",
    "import numpy as np\n",
    "x = np.arange(10)  # like range(), but produces a numpy array\n",
    "y = np.random.rand(10)  # ten random floats, 0->1\n",
    "plt.plot(x, y, '*--')\n",
    "plt.xlabel('xaxis')\n",
    "plt.ylabel('yaxis')\n",
    "plt.title('my plot!')"
   ]
  },
  {
   "cell_type": "markdown",
   "metadata": {
    "collapsed": true
   },
   "source": [
    "## NumPy and Landlab"
   ]
  },
  {
   "cell_type": "markdown",
   "metadata": {
    "collapsed": true
   },
   "source": [
    "Landlab makes extensive use of the NumPy (Numeric Python) libraries. These allow significant acceleration of standard Python processes on matrix-like data arrays. Here we look at some of the key features and differences with pure Python along with some NumPy best-practice."
   ]
  },
  {
   "cell_type": "code",
   "execution_count": null,
   "metadata": {},
   "outputs": [],
   "source": [
    "import numpy as np"
   ]
  },
  {
   "cell_type": "markdown",
   "metadata": {},
   "source": [
    "Initialize NumPy arrays from standard Python iterables (lists, tuples):"
   ]
  },
  {
   "cell_type": "code",
   "execution_count": null,
   "metadata": {},
   "outputs": [],
   "source": [
    "myarray = np.array([0, 1, 3, 6, 18])"
   ]
  },
  {
   "cell_type": "markdown",
   "metadata": {},
   "source": [
    "…or with one of the many standard array creation methods in NumPy. Particularly useful ones are:"
   ]
  },
  {
   "cell_type": "code",
   "execution_count": null,
   "metadata": {},
   "outputs": [],
   "source": [
    "a = np.zeros(10, dtype=int)\n",
    "print('a: {}'.format(a))"
   ]
  },
  {
   "cell_type": "code",
   "execution_count": null,
   "metadata": {},
   "outputs": [],
   "source": [
    "b = np.ones(5, dtype=bool)\n",
    "print('b: {}'.format(b))"
   ]
  },
  {
   "cell_type": "code",
   "execution_count": null,
   "metadata": {},
   "outputs": [],
   "source": [
    "c = np.random.rand(10)\n",
    "print('c: {}'.format(c))"
   ]
  },
  {
   "cell_type": "code",
   "execution_count": null,
   "metadata": {},
   "outputs": [],
   "source": [
    "d = np.arange(5.)\n",
    "print('d: {}'.format(d))"
   ]
  },
  {
   "cell_type": "code",
   "execution_count": null,
   "metadata": {},
   "outputs": [],
   "source": [
    "e = np.empty((3, 3), dtype=float)\n",
    "e.fill(100.)\n",
    "print('e: {}'.format(e))"
   ]
  },
  {
   "cell_type": "markdown",
   "metadata": {},
   "source": [
    "Arrays also have some built-in methods and properties. We see 'fill' above, but also noteworthy are:"
   ]
  },
  {
   "cell_type": "code",
   "execution_count": null,
   "metadata": {},
   "outputs": [],
   "source": [
    "print('e has shape: {}'.format((e.shape)))\n",
    "print('e has size: {} '.format(e.size))  # preferred to len() when working with arrays\n",
    "c.max(), c.min(), c.mean(), c.sum()"
   ]
  },
  {
   "cell_type": "code",
   "execution_count": null,
   "metadata": {},
   "outputs": [],
   "source": [
    "f = c.copy()\n",
    "print('flatten: {}'.format(e.flatten()))"
   ]
  },
  {
   "cell_type": "markdown",
   "metadata": {},
   "source": [
    "Slicing works like (better than?) in pure Python:"
   ]
  },
  {
   "cell_type": "code",
   "execution_count": null,
   "metadata": {},
   "outputs": [],
   "source": [
    "print(d[2:])"
   ]
  },
  {
   "cell_type": "code",
   "execution_count": null,
   "metadata": {},
   "outputs": [],
   "source": [
    "e[1, 1] = 5.\n",
    "print(e)"
   ]
  },
  {
   "cell_type": "code",
   "execution_count": null,
   "metadata": {},
   "outputs": [],
   "source": [
    "print(e[1:, 1:])"
   ]
  },
  {
   "cell_type": "markdown",
   "metadata": {},
   "source": [
    "Note that logical operations with NumPy tend to require NumPy-native functions, rather than pure Python `and`, `or`, `not` etc."
   ]
  },
  {
   "cell_type": "code",
   "execution_count": null,
   "metadata": {},
   "outputs": [],
   "source": [
    "bool1 = np.array([True, True, False, False])\n",
    "bool2 = np.array([True, False, True, False])\n",
    "print('AND: {}'.format(np.logical_and(bool1, bool2)))\n",
    "print('OR: {}'.format(np.logical_or(bool1, bool2)))\n",
    "print('NOT: {}'.format(np.logical_not(bool1)))"
   ]
  },
  {
   "cell_type": "code",
   "execution_count": null,
   "metadata": {},
   "outputs": [],
   "source": [
    "print('ANY: {}'.format(np.any(bool1)))\n",
    "print('ALL: {}'.format(np.all(bool1)))"
   ]
  },
  {
   "cell_type": "markdown",
   "metadata": {},
   "source": [
    "Now, let's demonstrate the speed of NumPy over pure Python:"
   ]
  },
  {
   "cell_type": "code",
   "execution_count": null,
   "metadata": {},
   "outputs": [],
   "source": [
    "f_list = range(1000)\n",
    "f_array = np.arange(1000, dtype=int)\n",
    "\n",
    "def addone_py(list_in):\n",
    "    for i in list_in:\n",
    "        i += 1\n",
    "\n",
    "def addone_np(array_in):\n",
    "    array_in += 1"
   ]
  },
  {
   "cell_type": "code",
   "execution_count": null,
   "metadata": {},
   "outputs": [],
   "source": [
    "print('time for list:')\n",
    "%timeit addone_py(f_list)  # a magic command for timing things"
   ]
  },
  {
   "cell_type": "code",
   "execution_count": null,
   "metadata": {},
   "outputs": [],
   "source": [
    "print('time for array:')\n",
    "%timeit addone_np(f_array)"
   ]
  },
  {
   "cell_type": "markdown",
   "metadata": {},
   "source": [
    "In particular, never loop to do a logical test:"
   ]
  },
  {
   "cell_type": "code",
   "execution_count": null,
   "metadata": {},
   "outputs": [],
   "source": [
    "# NOT THIS:\n",
    "myoutput_slow = np.zeros(10, dtype=float)\n",
    "for i in range(len(c)):  # c is our random number array\n",
    "    if c[i] > 0.5:\n",
    "        myoutput_slow[i] = c[i]\n",
    "\n",
    "# DO THIS INSTEAD:\n",
    "myoutput_fast = np.zeros(10, dtype=float)\n",
    "greater_than_half = c > 0.5\n",
    "myoutput_fast[greater_than_half] = c[greater_than_half]\n",
    "\n",
    "print(np.all(np.equal(myoutput_slow, myoutput_fast)))"
   ]
  },
  {
   "cell_type": "markdown",
   "metadata": {
    "collapsed": true
   },
   "source": [
    "The online NumPy help is actually an extremely readable resource, and is highly recommended to find out more about the family of available NumPy methods."
   ]
  },
  {
   "cell_type": "markdown",
   "metadata": {},
   "source": [
    "### Click here for more <a href=\"https://landlab.readthedocs.io/en/latest/user_guide/tutorials.html\">Landlab tutorials</a>"
   ]
  }
 ],
 "metadata": {
  "kernelspec": {
   "display_name": "Python 3",
   "language": "python",
   "name": "python3"
  },
  "language_info": {
   "codemirror_mode": {
    "name": "ipython",
    "version": 3
   },
   "file_extension": ".py",
   "mimetype": "text/x-python",
   "name": "python",
   "nbconvert_exporter": "python",
   "pygments_lexer": "ipython3",
   "version": "3.7.4"
  }
 },
 "nbformat": 4,
 "nbformat_minor": 1
}
