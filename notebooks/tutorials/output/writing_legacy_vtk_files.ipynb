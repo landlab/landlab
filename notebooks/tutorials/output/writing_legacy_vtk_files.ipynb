{
 "cells": [
  {
   "cell_type": "markdown",
   "id": "0",
   "metadata": {},
   "source": [
    "<a href=\"http://landlab.github.io\"><img style=\"float: left\"\n",
    "src=\"https://raw.githubusercontent.com/landlab/tutorials/release/landlab_header.png\"></a>"
   ]
  },
  {
   "cell_type": "markdown",
   "id": "1",
   "metadata": {},
   "source": [
    "# Writing with legacy vtk files\n",
    "\n",
    "*(GE Tucker, CU Boulder, first version June 2023)*\n",
    "\n",
    "The [Visualization Toolkit (VTK)](https://docs.vtk.org/en/latest/index.html) is an open-source software system for visualization. It offers two file formats: one based on XML, and the other---the so-called **legacy VTK** format---using a simple text-based format. These file formats are readable by visualization packages such as [ParaView](https://www.paraview.org/), so it is useful to be able to output VTK format for Landlab grids and fields. This tutorial demonstrates Landlab's legacy VTK file-output capability.\n",
    "\n",
    "## The format\n",
    "\n",
    "To quote from the VTK [documentation](https://docs.vtk.org/en/latest/design_documents/VTKFileFormats.html): \n",
    "\n",
    "\"*The legacy VTK file formats consist of five basic parts.*\n",
    "\n",
    "1. *The first part is the file version and identifier. This part contains the single line: vtk DataFile Version x.x. This line must be exactly as shown with the exception of the version number x.x, which will vary with different releases of VTK. (Note: the current version number is 3.0. Version 1.0 and 2.0 files are compatible with version 3.0 files.)*\n",
    "\n",
    "2. *The second part is the header. The header consists of a character string terminated by end-of-line character \\n. The header is 256 characters maximum. The header can be used to describe the data and include any other pertinent information.*\n",
    "\n",
    "3. *The next part is the file format. The file format describes the type of file, either ASCII or binary. On this line the single word ASCII or BINARY must appear.*\n",
    "\n",
    "4. *The fourth part is the dataset structure. The geometry part describes the geometry and topology of the dataset. This part begins with a line containing the keyword DATASET followed by a keyword describing the type of dataset.Then, depending upon the type of dataset, other keyword/data combinations define the actual data.*\n",
    "\n",
    "5. *The final part describes the dataset attributes. This part begins with the keywords POINT_DATA or CELL_DATA, followed by an integer number specifying the number of points or cells, respectively. (It doesn’t matter whether POINT_DATA or CELL_DATA comes first.) Other keyword/data combinations then define the actual dataset attribute values (i.e., scalars, vectors, tensors, normals, texture coordinates, or field data).*\"\n"
   ]
  },
  {
   "cell_type": "markdown",
   "id": "2",
   "metadata": {},
   "source": [
    "## Hex grid example\n",
    "\n",
    "This example creates and outputs a tiny hex grid, along with two fields: `topographic__elevation` and `surface_water__depth`."
   ]
  },
  {
   "cell_type": "code",
   "execution_count": null,
   "id": "3",
   "metadata": {},
   "outputs": [],
   "source": [
    "import numpy as np\n",
    "\n",
    "import landlab.io.legacy_vtk as vtk\n",
    "from landlab import HexModelGrid, RasterModelGrid"
   ]
  },
  {
   "cell_type": "code",
   "execution_count": null,
   "id": "4",
   "metadata": {},
   "outputs": [],
   "source": [
    "# Create a tiny grid with 1 core node and 6 boundary nodes\n",
    "grid = HexModelGrid((3, 2))\n",
    "\n",
    "# Add two fields with made-up values\n",
    "topo = grid.add_zeros(\"topographic__elevation\", at=\"node\")\n",
    "topo[3] = 1.0\n",
    "grid.at_node[\"surface_water__depth\"] = np.arange(grid.number_of_nodes)\n",
    "\n",
    "# Write output in legacy VTK format\n",
    "vtk_file = vtk.dump(grid)"
   ]
  },
  {
   "cell_type": "markdown",
   "id": "5",
   "metadata": {},
   "source": [
    "Let's see what the output looks like:"
   ]
  },
  {
   "cell_type": "code",
   "execution_count": null,
   "id": "6",
   "metadata": {},
   "outputs": [],
   "source": [
    "print(vtk_file)"
   ]
  },
  {
   "cell_type": "markdown",
   "id": "7",
   "metadata": {},
   "source": [
    "## Raster grid example"
   ]
  },
  {
   "cell_type": "code",
   "execution_count": null,
   "id": "8",
   "metadata": {},
   "outputs": [],
   "source": [
    "# Create a tiny grid with 1 core node and 6 boundary nodes\n",
    "grid = RasterModelGrid((3, 3))\n",
    "\n",
    "# Add two fields with made-up values\n",
    "topo = grid.add_zeros(\"topographic__elevation\", at=\"node\")\n",
    "topo[4] = 1.0\n",
    "grid.at_node[\"surface_water__depth\"] = np.arange(grid.number_of_nodes)\n",
    "\n",
    "# Write output in legacy VTK format\n",
    "vtk_file = vtk.dump(grid)"
   ]
  },
  {
   "cell_type": "code",
   "execution_count": null,
   "id": "9",
   "metadata": {},
   "outputs": [],
   "source": [
    "print(vtk_file)"
   ]
  },
  {
   "cell_type": "markdown",
   "id": "10",
   "metadata": {},
   "source": [
    "Notice that this has saved the grid's *nodes* and *patches* (VTK uses the terms *points* and *cells*). If you would like to save the dual grid, you can do this through the ``at`` keyword. The default (`at=\"node\"`) is to save the main grid but you can use `at=\"corner\"` to save the dual grid."
   ]
  },
  {
   "cell_type": "code",
   "execution_count": null,
   "id": "11",
   "metadata": {},
   "outputs": [],
   "source": [
    "print(vtk.dump(grid, at=\"corner\"))"
   ]
  },
  {
   "cell_type": "markdown",
   "id": "12",
   "metadata": {},
   "source": [
    "If your grid contains many fields, you may not want to save all of them. You can specify which fields to save through the `include` and `exclude` keywords. These operate much like UNIX filename pattern matching and are the same as described in the ``fields`` method of your grid. As an example, the following with exclude any fields that contain the string \"surface_water\".  "
   ]
  },
  {
   "cell_type": "code",
   "execution_count": null,
   "id": "13",
   "metadata": {},
   "outputs": [],
   "source": [
    "print(vtk.dump(grid, exclude=\"*surface_water*\"))"
   ]
  },
  {
   "cell_type": "markdown",
   "id": "14",
   "metadata": {},
   "source": [
    "The VTK format assumes points (i.e. either *nodes* or *corners*) are defined by *x*, *y*, and *z* coordinates. The default is to assign a value of 0 to all *z* coordinates. You can, however, change this behavior and assign your own data. For example, the following code uses the `topo` array for the *z* coordinate of each of the *nodes*."
   ]
  },
  {
   "cell_type": "code",
   "execution_count": null,
   "id": "15",
   "metadata": {},
   "outputs": [],
   "source": [
    "print(vtk.dump(grid, z_coord=topo))"
   ]
  }
 ],
 "metadata": {
  "kernelspec": {
   "display_name": "Python 3 (ipykernel)",
   "language": "python",
   "name": "python3"
  },
  "language_info": {
   "codemirror_mode": {
    "name": "ipython",
    "version": 3
   },
   "file_extension": ".py",
   "mimetype": "text/x-python",
   "name": "python",
   "nbconvert_exporter": "python",
   "pygments_lexer": "ipython3",
   "version": "3.12.0"
  }
 },
 "nbformat": 4,
 "nbformat_minor": 5
}
