{
 "cells": [
  {
   "cell_type": "markdown",
   "metadata": {},
   "source": [
    "<a href=\"http://landlab.github.io\"><img style=\"float: left\" src=\"../../landlab_header.png\"></a>"
   ]
  },
  {
   "cell_type": "markdown",
   "metadata": {},
   "source": [
    "# How does Landlab Hydro a Landslide? \n",
    "\n",
    "# Recharge and Depth to Water Table.\n",
    "\n",
    "**Landlab Landslide Component Demonstration with a Synthetic Grid and implementation with Two Hydrologic Forcing Options (Depth to Groundwater and Recharge) compared using default parameters and Uniform Distribution.**"
   ]
  },
  {
   "cell_type": "markdown",
   "metadata": {},
   "source": [
    "\n",
    "<hr>\n",
    "<small>For more Landlab tutorials, click here: <a href=\"https://landlab.readthedocs.io/en/latest/user_guide/tutorials.html\">https://landlab.readthedocs.io/en/latest/user_guide/tutorials.html</a></small>\n",
    "<hr>"
   ]
  },
  {
   "cell_type": "markdown",
   "metadata": {},
   "source": [
    "## 0.  Software Setup and Preparation\n",
    "\n",
    "To run this notebook, we must import several libraries.\n",
    "The hs_utils library provides functions for interacting with HydroShare, including resource querying, dowloading, and creation.  Additional libraries support the functions of Landlab. \n",
    "\n",
    "### Import Landlab, HydroShare and other Python utilities"
   ]
  },
  {
   "cell_type": "code",
   "execution_count": 1,
   "metadata": {
    "scrolled": true
   },
   "outputs": [],
   "source": [
    "import numpy as np\n",
    "from landlab import RasterModelGrid\n",
    "import landlab.plot.landslides.plot_landslides as pl\n",
    "import landlab.grid.landslide_unitgrid as lgd\n",
    "import tests.components.landslides.test_landslide_probability as test\n",
    "from landlab.components.landslides import LandslideProbability\n",
    "# Depending on environment, may need to `pip install hstools'\n",
    "from hstools import hydroshare"
   ]
  },
  {
   "cell_type": "code",
   "execution_count": 2,
   "metadata": {},
   "outputs": [
    {
     "ename": "KeyError",
     "evalue": "'HS_AUTH'",
     "output_type": "error",
     "traceback": [
      "\u001b[1;31m---------------------------------------------------------------------------\u001b[0m",
      "\u001b[1;31mKeyError\u001b[0m                                  Traceback (most recent call last)",
      "\u001b[1;32m<ipython-input-2-3c079c0b8240>\u001b[0m in \u001b[0;36m<module>\u001b[1;34m\u001b[0m\n\u001b[0;32m      3\u001b[0m \u001b[1;32mimport\u001b[0m \u001b[0mos\u001b[0m\u001b[1;33m\u001b[0m\u001b[1;33m\u001b[0m\u001b[0m\n\u001b[0;32m      4\u001b[0m \u001b[1;32mfrom\u001b[0m \u001b[0mhs_restclient\u001b[0m \u001b[1;32mimport\u001b[0m \u001b[0mHydroShare\u001b[0m\u001b[1;33m,\u001b[0m \u001b[0mHydroShareAuthOAuth2\u001b[0m\u001b[1;33m\u001b[0m\u001b[1;33m\u001b[0m\u001b[0m\n\u001b[1;32m----> 5\u001b[1;33m \u001b[0moauth\u001b[0m \u001b[1;33m=\u001b[0m \u001b[0mjson\u001b[0m\u001b[1;33m.\u001b[0m\u001b[0mloads\u001b[0m\u001b[1;33m(\u001b[0m\u001b[0mos\u001b[0m\u001b[1;33m.\u001b[0m\u001b[0menviron\u001b[0m\u001b[1;33m[\u001b[0m\u001b[1;34m\"HS_AUTH\"\u001b[0m\u001b[1;33m]\u001b[0m\u001b[1;33m)\u001b[0m\u001b[1;33m\u001b[0m\u001b[1;33m\u001b[0m\u001b[0m\n\u001b[0m\u001b[0;32m      6\u001b[0m \u001b[0mauth\u001b[0m \u001b[1;33m=\u001b[0m \u001b[0mHydroShareAuthOAuth2\u001b[0m\u001b[1;33m(\u001b[0m\u001b[0moauth\u001b[0m\u001b[1;33m[\u001b[0m\u001b[1;36m1\u001b[0m\u001b[1;33m]\u001b[0m\u001b[1;33m,\u001b[0m \u001b[1;34m\"\"\u001b[0m\u001b[1;33m,\u001b[0m \u001b[0mtoken\u001b[0m\u001b[1;33m=\u001b[0m\u001b[0moauth\u001b[0m\u001b[1;33m[\u001b[0m\u001b[1;36m0\u001b[0m\u001b[1;33m]\u001b[0m\u001b[1;33m)\u001b[0m\u001b[1;33m\u001b[0m\u001b[1;33m\u001b[0m\u001b[0m\n\u001b[0;32m      7\u001b[0m \u001b[0mhs\u001b[0m \u001b[1;33m=\u001b[0m \u001b[0mHydroShare\u001b[0m\u001b[1;33m(\u001b[0m\u001b[0mauth\u001b[0m\u001b[1;33m=\u001b[0m\u001b[0mauth\u001b[0m\u001b[1;33m)\u001b[0m\u001b[1;33m\u001b[0m\u001b[1;33m\u001b[0m\u001b[0m\n",
      "\u001b[1;32mc:\\users\\cband\\anaconda3\\envs\\landlab_dev\\lib\\os.py\u001b[0m in \u001b[0;36m__getitem__\u001b[1;34m(self, key)\u001b[0m\n\u001b[0;32m    673\u001b[0m         \u001b[1;32mexcept\u001b[0m \u001b[0mKeyError\u001b[0m\u001b[1;33m:\u001b[0m\u001b[1;33m\u001b[0m\u001b[1;33m\u001b[0m\u001b[0m\n\u001b[0;32m    674\u001b[0m             \u001b[1;31m# raise KeyError with the original key value\u001b[0m\u001b[1;33m\u001b[0m\u001b[1;33m\u001b[0m\u001b[1;33m\u001b[0m\u001b[0m\n\u001b[1;32m--> 675\u001b[1;33m             \u001b[1;32mraise\u001b[0m \u001b[0mKeyError\u001b[0m\u001b[1;33m(\u001b[0m\u001b[0mkey\u001b[0m\u001b[1;33m)\u001b[0m \u001b[1;32mfrom\u001b[0m \u001b[1;32mNone\u001b[0m\u001b[1;33m\u001b[0m\u001b[1;33m\u001b[0m\u001b[0m\n\u001b[0m\u001b[0;32m    676\u001b[0m         \u001b[1;32mreturn\u001b[0m \u001b[0mself\u001b[0m\u001b[1;33m.\u001b[0m\u001b[0mdecodevalue\u001b[0m\u001b[1;33m(\u001b[0m\u001b[0mvalue\u001b[0m\u001b[1;33m)\u001b[0m\u001b[1;33m\u001b[0m\u001b[1;33m\u001b[0m\u001b[0m\n\u001b[0;32m    677\u001b[0m \u001b[1;33m\u001b[0m\u001b[0m\n",
      "\u001b[1;31mKeyError\u001b[0m: 'HS_AUTH'"
     ]
    }
   ],
   "source": [
    "resource_id = '8bf8de77227c4dcba4816dbe15e55687'\n",
    "import json\n",
    "import os\n",
    "from hs_restclient import HydroShare, HydroShareAuthOAuth2\n",
    "oauth = json.loads(os.environ[\"HS_AUTH\"])\n",
    "auth = HydroShareAuthOAuth2(oauth[1], \"\", token=oauth[0])\n",
    "hs = HydroShare(auth=auth)\n",
    "base_dir = os.path.abspath('/home/jovyan/work')\n",
    "download_dir = os.path.join(base_dir, 'Downloads')\n",
    "!mkdir -p {download_dir}\n",
    "hs.getResource(resource_id, destination=download_dir, unzip=True)"
   ]
  },
  {
   "cell_type": "markdown",
   "metadata": {},
   "source": [
    "### Landslide Component Definitions\n",
    "#### key variables and functions in `test_landslide_probability.py`\n",
    "\n",
    "`grid` is the Landlab raster model grid initialization\n",
    "\n",
    "`ls_grid` is a `grid`  with landslide parameters added to nodes\n",
    "The input fields (see input_var_names) on the node are initialized in this step.\n",
    "\n",
    "`ls_grid` is input to `LandslideProbability()` to add model parameters to define the size of the Monte Carlo method with hydrologic forcings (two options: recharge OR depth to water table) and statistical distribution (four options) and  for the landslide model. A distribution of hydrologic forcing is used to calculate the probability of lansdlides in the Factor of Safety equation; the mean hydrologic forcing  per node has been added as a model output (in addition to relative wetness, probability of saturation, and probability of failure). \n",
    "\n",
    "`ls_prob` is the output of `LandslideProbability()` and considered a model instance (or model initialization).\n",
    "\n",
    "`ls_prob` is the input to `calculate_landslide_probability()`. Model results are saved in the same input dictionary by adding output fields.\n",
    "\n",
    "`ls_prob` is both the input and output of  `calculate_landslide_probability()` and should be saved, or recalculated with a clean `ls_grid` to ensure variables are saved as expected (not overwritten) for each change of parameters and model calculation.\n",
    "\n",
    "The output fields (see output_var_names) on the node are initialized to zero, and contain the model results. "
   ]
  },
  {
   "cell_type": "code",
   "execution_count": 3,
   "metadata": {},
   "outputs": [
    {
     "ename": "Exception",
     "evalue": "Authentication failed using: C:\\Users\\cband/.hs_auth",
     "output_type": "error",
     "traceback": [
      "\u001b[1;31m---------------------------------------------------------------------------\u001b[0m",
      "\u001b[1;31mException\u001b[0m                                 Traceback (most recent call last)",
      "\u001b[1;32m<ipython-input-3-d67228ac2052>\u001b[0m in \u001b[0;36m<module>\u001b[1;34m\u001b[0m\n\u001b[1;32m----> 1\u001b[1;33m \u001b[0mhs\u001b[0m\u001b[1;33m=\u001b[0m\u001b[0mhydroshare\u001b[0m\u001b[1;33m.\u001b[0m\u001b[0mhydroshare\u001b[0m\u001b[1;33m(\u001b[0m\u001b[1;33m)\u001b[0m\u001b[1;33m\u001b[0m\u001b[1;33m\u001b[0m\u001b[0m\n\u001b[0m\u001b[0;32m      2\u001b[0m \u001b[0mhomedir\u001b[0m\u001b[1;33m=\u001b[0m\u001b[0mos\u001b[0m\u001b[1;33m.\u001b[0m\u001b[0mgetcwd\u001b[0m\u001b[1;33m(\u001b[0m\u001b[1;33m)\u001b[0m\u001b[1;33m\u001b[0m\u001b[1;33m\u001b[0m\u001b[0m\n",
      "\u001b[1;32mc:\\users\\cband\\anaconda3\\envs\\landlab_dev\\lib\\site-packages\\hstools\\hydroshare.py\u001b[0m in \u001b[0;36m__init__\u001b[1;34m(self, save_dir, authfile)\u001b[0m\n\u001b[0;32m     60\u001b[0m \u001b[1;33m\u001b[0m\u001b[0m\n\u001b[0;32m     61\u001b[0m         \u001b[1;32mif\u001b[0m \u001b[0mself\u001b[0m\u001b[1;33m.\u001b[0m\u001b[0mhs\u001b[0m \u001b[1;32mis\u001b[0m \u001b[1;32mNone\u001b[0m\u001b[1;33m:\u001b[0m\u001b[1;33m\u001b[0m\u001b[1;33m\u001b[0m\u001b[0m\n\u001b[1;32m---> 62\u001b[1;33m             \u001b[1;32mraise\u001b[0m \u001b[0mException\u001b[0m\u001b[1;33m(\u001b[0m\u001b[1;34mf'Authentication failed using: {self.authfile}'\u001b[0m\u001b[1;33m)\u001b[0m\u001b[1;33m\u001b[0m\u001b[1;33m\u001b[0m\u001b[0m\n\u001b[0m\u001b[0;32m     63\u001b[0m \u001b[1;33m\u001b[0m\u001b[0m\n\u001b[0;32m     64\u001b[0m         \u001b[1;31m# get user info\u001b[0m\u001b[1;33m\u001b[0m\u001b[1;33m\u001b[0m\u001b[1;33m\u001b[0m\u001b[0m\n",
      "\u001b[1;31mException\u001b[0m: Authentication failed using: C:\\Users\\cband/.hs_auth"
     ]
    }
   ],
   "source": [
    "hs=hydroshare.hydroshare()\n",
    "homedir=os.getcwd()\n"
   ]
  },
  {
   "cell_type": "markdown",
   "metadata": {},
   "source": [
    "## 1. Create a synthetic grid with landslide unit_default data fields"
   ]
  },
  {
   "cell_type": "markdown",
   "metadata": {},
   "source": [
    "**1.1 Use the unit test to build a synthetic grid investigate features of the grid.** \n",
    "\n",
    "The total number of nodes is limited to 20, which is fast for computers and easy for humans."
   ]
  },
  {
   "cell_type": "code",
   "execution_count": 2,
   "metadata": {},
   "outputs": [
    {
     "name": "stdout",
     "output_type": "stream",
     "text": [
      "The synthetic grid `grid` is a Landlab RasterModelGrid: <xarray.Dataset>\n",
      "Dimensions:         (Two: 2, cell: 6, face: 17, link: 31, max_patch_links: 4, node: 20, patch: 12)\n",
      "Coordinates:\n",
      "  * node            (node) int32 0 1 2 3 4 5 6 7 8 ... 12 13 14 15 16 17 18 19\n",
      "Dimensions without coordinates: Two, cell, face, link, max_patch_links, patch\n",
      "Data variables:\n",
      "    mesh            <U1 'a'\n",
      "    y_of_node       (node) float64 0.0 0.0 0.0 0.0 10.0 ... 40.0 40.0 40.0 40.0\n",
      "    x_of_node       (node) float64 0.0 10.0 20.0 30.0 0.0 ... 0.0 10.0 20.0 30.0\n",
      "    nodes_at_link   (link, Two) int32 0 1 1 2 2 3 0 4 ... 19 16 17 17 18 18 19\n",
      "    links_at_patch  (patch, max_patch_links) int32 4 7 3 0 5 ... 22 27 30 26 23\n",
      "    node_at_cell    (cell) int32 5 6 9 10 13 14\n",
      "    nodes_at_face   (face, Two) int32 1 5 2 6 4 5 5 6 ... 14 14 15 13 17 14 18. \n"
     ]
    },
    {
     "data": {
      "text/plain": [
       "RasterModelGrid((5, 4), xy_spacing=(10.0, 10.0), xy_of_lower_left=(0.0, 0.0))"
      ]
     },
     "execution_count": 2,
     "metadata": {},
     "output_type": "execute_result"
    }
   ],
   "source": [
    "shape = (5, 4)\n",
    "spacing = (10e0, 10e0)\n",
    "coordinates = (0.0, 0.0)\n",
    "grid = RasterModelGrid(shape,spacing,coordinates)\n",
    "\n",
    "print('The synthetic grid `grid` is a Landlab RasterModelGrid: {value}. '.format(value=grid))\n",
    "grid"
   ]
  },
  {
   "cell_type": "markdown",
   "metadata": {},
   "source": [
    "We can see how many core nodes we use in the unit grid (i.e., the nodes that calculations are performed on) in the center of the grid...not the edges, which are 'closed nodes'.  The spacing between nodes is equivalent to the grid cell edge length.  Nodes are the centroid of each grid."
   ]
  },
  {
   "cell_type": "code",
   "execution_count": 3,
   "metadata": {},
   "outputs": [
    {
     "name": "stdout",
     "output_type": "stream",
     "text": [
      "The synthetic grid has 20 total grid cells (nodes), including the boundary nodes.\n",
      "The synthetic grid has 10.0 m grid cell size (space between nodes).\n",
      "Core nodes are the center of a Landlab model grid.\n",
      "Landslide calculations are made only on 6 core nodes.\n",
      "This is the array of Landlab node values used to index the core nodes (dictionary key)\n"
     ]
    },
    {
     "data": {
      "text/plain": [
       "array([ 5,  6,  9, 10, 13, 14])"
      ]
     },
     "execution_count": 3,
     "metadata": {},
     "output_type": "execute_result"
    }
   ],
   "source": [
    "gridnum = grid.number_of_nodes\n",
    "print('The synthetic grid has {value} total grid cells (nodes), including the boundary nodes.'.format(value=grid.number_of_nodes)) \n",
    "print('The synthetic grid has {value} m grid cell size (space between nodes).'.format(value=grid.dx)) \n",
    "grid_cnum = grid.number_of_core_nodes\n",
    "print(\"Core nodes are the center of a Landlab model grid.\")\n",
    "print(\"Landslide calculations are made only on {value} core nodes.\".format(value=grid_cnum))\n",
    "print(\"This is the array of Landlab node values used to index the core nodes (dictionary key)\")\n",
    "grid.core_nodes"
   ]
  },
  {
   "cell_type": "code",
   "execution_count": 4,
   "metadata": {},
   "outputs": [],
   "source": [
    "#grid?"
   ]
  },
  {
   "cell_type": "markdown",
   "metadata": {},
   "source": [
    "To read more documentation about this dataset type:\n",
    "\n",
    "Use `RasterModelGrid?` OR `unitgrid?` OR uncomment cell above.\n",
    "\n",
    "<hr>\n",
    "<small>For more Introduction to Landlab’s Gridding Library, click here: <a href=\"https://landlab.readthedocs.io/en/latest/user_guide/grid.html\">https://landlab.readthedocs.io/en/latest/user_guide/grid.html</a></small>\n",
    "<hr>"
   ]
  },
  {
   "cell_type": "markdown",
   "metadata": {},
   "source": [
    "The Landlab grid variable we input to `LandslideProbability` is a `RasterModelGrid` data type we have named `grid`, it has inputs and outputs on each node, but only calculated on the core nodes."
   ]
  },
  {
   "cell_type": "code",
   "execution_count": 5,
   "metadata": {},
   "outputs": [
    {
     "data": {
      "text/plain": [
       "['soil__density',\n",
       " 'soil__internal_friction_angle',\n",
       " 'soil__maximum_total_cohesion',\n",
       " 'soil__minimum_total_cohesion',\n",
       " 'soil__mode_total_cohesion',\n",
       " 'soil__saturated_hydraulic_conductivity',\n",
       " 'soil__thickness',\n",
       " 'soil__transmissivity',\n",
       " 'topographic__slope',\n",
       " 'topographic__specific_contributing_area']"
      ]
     },
     "execution_count": 5,
     "metadata": {},
     "output_type": "execute_result"
    }
   ],
   "source": [
    " sorted(LandslideProbability.input_var_names)"
   ]
  },
  {
   "cell_type": "markdown",
   "metadata": {},
   "source": [
    "## Write a function to build a landslide component unit grid"
   ]
  },
  {
   "cell_type": "code",
   "execution_count": 1,
   "metadata": {},
   "outputs": [
    {
     "ename": "NameError",
     "evalue": "name 'lgd' is not defined",
     "output_type": "error",
     "traceback": [
      "\u001b[1;31m---------------------------------------------------------------------------\u001b[0m",
      "\u001b[1;31mNameError\u001b[0m                                 Traceback (most recent call last)",
      "\u001b[1;32m<ipython-input-1-db166cd81db5>\u001b[0m in \u001b[0;36m<module>\u001b[1;34m\u001b[0m\n\u001b[1;32m----> 1\u001b[1;33m \u001b[0mls_prob\u001b[0m\u001b[1;33m,\u001b[0m \u001b[0mls_grid\u001b[0m \u001b[1;33m=\u001b[0m \u001b[0mlgd\u001b[0m\u001b[1;33m.\u001b[0m\u001b[0mbuild_landslide_unitgrid\u001b[0m\u001b[1;33m(\u001b[0m\u001b[0mshape\u001b[0m\u001b[1;33m,\u001b[0m\u001b[0mspacing\u001b[0m\u001b[1;33m,\u001b[0m\u001b[0mcoordinates\u001b[0m\u001b[1;33m,\u001b[0m\u001b[1;34m'depth'\u001b[0m\u001b[1;33m)\u001b[0m\u001b[1;33m\u001b[0m\u001b[1;33m\u001b[0m\u001b[0m\n\u001b[0m",
      "\u001b[1;31mNameError\u001b[0m: name 'lgd' is not defined"
     ]
    }
   ],
   "source": [
    "ls_prob, ls_grid = lgd.build_landslide_unitgrid(shape,spacing,coordinates,'depth')"
   ]
  },
  {
   "cell_type": "code",
   "execution_count": 7,
   "metadata": {},
   "outputs": [
    {
     "name": "stdout",
     "output_type": "stream",
     "text": [
      "Landslide Component Input Variables are on the grid/node\n"
     ]
    },
    {
     "data": {
      "text/plain": [
       "('soil__density',\n",
       " 'soil__internal_friction_angle',\n",
       " 'soil__maximum_total_cohesion',\n",
       " 'soil__minimum_total_cohesion',\n",
       " 'soil__mode_total_cohesion',\n",
       " 'soil__saturated_hydraulic_conductivity',\n",
       " 'soil__thickness',\n",
       " 'soil__transmissivity',\n",
       " 'topographic__slope',\n",
       " 'topographic__specific_contributing_area')"
      ]
     },
     "execution_count": 7,
     "metadata": {},
     "output_type": "execute_result"
    }
   ],
   "source": [
    "print(\"Landslide Component Input Variables are on the grid/node\")\n",
    "ls_prob.input_var_names"
   ]
  },
  {
   "cell_type": "code",
   "execution_count": 8,
   "metadata": {
    "scrolled": true
   },
   "outputs": [
    {
     "name": "stdout",
     "output_type": "stream",
     "text": [
      "Landslide Component Output Variables at each grid/node\n"
     ]
    },
    {
     "data": {
      "text/plain": [
       "('landslide__probability_of_failure',\n",
       " 'soil__mean_recharge',\n",
       " 'soil__mean_relative_wetness',\n",
       " 'soil__mean_watertable_depth',\n",
       " 'soil__probability_of_saturation')"
      ]
     },
     "execution_count": 8,
     "metadata": {},
     "output_type": "execute_result"
    }
   ],
   "source": [
    "print(\"Landslide Component Output Variables at each grid/node\")\n",
    "ls_prob.output_var_names"
   ]
  },
  {
   "cell_type": "code",
   "execution_count": 9,
   "metadata": {},
   "outputs": [
    {
     "name": "stdout",
     "output_type": "stream",
     "text": [
      "name: soil__mean_watertable_depth\n",
      "description:\n",
      "  Mean depth to water table from surface to perched water table within\r\n",
      "  the soil layer\n",
      "units: m\n",
      "unit agnostic: False\n",
      "at: node\n",
      "intent: out\n"
     ]
    }
   ],
   "source": [
    "LandslideProbability.var_help('soil__mean_watertable_depth')"
   ]
  },
  {
   "cell_type": "code",
   "execution_count": 10,
   "metadata": {},
   "outputs": [
    {
     "name": "stdout",
     "output_type": "stream",
     "text": [
      "name: soil__mean_recharge\n",
      "description:\n",
      "  Mean recharge to the soil layer\n",
      "units: mm/day\n",
      "unit agnostic: False\n",
      "at: node\n",
      "intent: out\n"
     ]
    }
   ],
   "source": [
    "LandslideProbability.var_help('soil__mean_recharge')"
   ]
  },
  {
   "cell_type": "markdown",
   "metadata": {},
   "source": [
    "**1.2 Investigate the range of default parameters on each node of the grid.**\n",
    "\n",
    "The test builds a grid with a default synthetic range of min/max parameter inputs used in the unit test. The function `get_default_nodevalues()` creates a variable from the default values.  Since we haven't calculated the landslide probability yet, only initialized the inputs, the output values are initialized to zeros. "
   ]
  },
  {
   "cell_type": "code",
   "execution_count": 11,
   "metadata": {
    "scrolled": true
   },
   "outputs": [
    {
     "data": {
      "text/plain": [
       "{'topographic__slope': (0.1, 0.8),\n",
       " 'topographic__specific_contributing_area': (10, 100),\n",
       " 'soil__transmissivity': (0.1, 10),\n",
       " 'soil__mode_total_cohesion': (30, 900),\n",
       " 'soil__minimum_total_cohesion': (28, 898),\n",
       " 'soil__maximum_total_cohesion': (32, 902),\n",
       " 'soil__internal_friction_angle': (26, 37),\n",
       " 'soil__thickness': (0.1, 1),\n",
       " 'soil__density': (1999, 2001),\n",
       " 'soil__saturated_hydraulic_conductivity': (0.1, 100.0),\n",
       " 'landslide__probability_of_failure': (0, 1),\n",
       " 'soil__mean_relative_wetness': (0, 1),\n",
       " 'soil__mean_watertable_depth': (0, 1000),\n",
       " 'soil__mean_recharge': (0, 1000),\n",
       " 'soil__probability_of_saturation': (0, 1)}"
      ]
     },
     "execution_count": 11,
     "metadata": {},
     "output_type": "execute_result"
    }
   ],
   "source": [
    "test_unit_defaultpars=test.get_default_nodevalues()\n",
    "test_unit_defaultpars"
   ]
  },
  {
   "cell_type": "markdown",
   "metadata": {},
   "source": [
    "Run the next cells to view DEFAULT soil parameters on the node.(optional)"
   ]
  },
  {
   "cell_type": "code",
   "execution_count": 12,
   "metadata": {},
   "outputs": [
    {
     "name": "stdout",
     "output_type": "stream",
     "text": [
      "topographic__slope (Min, Max) range of (0.1270093495519325,0.7892239379453443) values on node:\n",
      "All topographic__slope default value initialized for each node:\n",
      "[ 0.78922394  0.77543346  0.7713072   0.69956623  0.69715041  0.64702657\n",
      "  0.59469682  0.56424685  0.44047813  0.43057685  0.4042713   0.37522764\n",
      "  0.34765388  0.29719601  0.25019758  0.22579045  0.21530495  0.17089866\n",
      "  0.15165194  0.12700935]\n",
      "\n"
     ]
    }
   ],
   "source": [
    "value_list = ['topographic__slope']\n",
    "pl.print_list_nodevalues(ls_prob, value_list)"
   ]
  },
  {
   "cell_type": "code",
   "execution_count": 13,
   "metadata": {},
   "outputs": [],
   "source": [
    "#value_list = ['soil__transmissivity']\n",
    "#pl.print_list_nodevalues(ls_prob, value_list)"
   ]
  },
  {
   "cell_type": "markdown",
   "metadata": {},
   "source": [
    "Run the next cells to CHANGE DEFAULT soil parameters on the node.(optional)"
   ]
  },
  {
   "cell_type": "code",
   "execution_count": 14,
   "metadata": {},
   "outputs": [],
   "source": [
    "##Transmissivity\n",
    "#grid.at_node[\"soil__transmissivity\"] = np.sort(np.random.uniform(0.1,100,gridnum).astype(float))    \n",
    "#reverse order: lowest Transmissivity value are in upper right of synthethic grid\n",
    "#grid['node']['soil__transmissivity'] = grid['node']['soil__transmissivity'][::-1]  \n",
    "       "
   ]
  },
  {
   "cell_type": "markdown",
   "metadata": {},
   "source": [
    "Add a field for dimensions of recharge in millimeters. Default input is in meters."
   ]
  },
  {
   "cell_type": "code",
   "execution_count": 15,
   "metadata": {},
   "outputs": [],
   "source": [
    "recharge_mm_per_m=1000\n",
    "ls_grid.at_node['soil__mean_recharge_mm']=recharge_mm_per_m * ls_grid.at_node['soil__mean_recharge']"
   ]
  },
  {
   "cell_type": "code",
   "execution_count": 16,
   "metadata": {},
   "outputs": [
    {
     "name": "stdout",
     "output_type": "stream",
     "text": [
      "soil__transmissivity (Min, Max) range of (0.8648566959451951,9.146745081558967) values on node:\n",
      "All soil__transmissivity default value initialized for each node:\n",
      "[ 9.14674508  7.88478251  7.88226507  6.70777148  6.21642651  5.75216594\n",
      "  5.66986339  5.2430626   3.32723789  3.28971272  3.25116185  2.56529057\n",
      "  2.49707038  2.26035784  2.020473    1.77609846  1.64047273  1.40052975\n",
      "  0.88746281  0.8648567 ]\n",
      "\n"
     ]
    }
   ],
   "source": [
    "value_list = ['soil__transmissivity']\n",
    "pl.print_list_nodevalues(ls_prob, value_list)"
   ]
  },
  {
   "cell_type": "code",
   "execution_count": 17,
   "metadata": {},
   "outputs": [
    {
     "name": "stdout",
     "output_type": "stream",
     "text": [
      "soil__saturated_hydraulic_conductivity (Min, Max) range of (0.9668246789385004,90.13697615719211) values on node:\n",
      "All soil__saturated_hydraulic_conductivity default value initialized for each node:\n",
      "[ 90.13697616  73.91000173  64.82623555  47.6449057   27.31952188\n",
      "  17.91757222  17.07607336  11.16647716   6.62211582   6.35498815\n",
      "   6.00130534   4.62930363   4.47060879   3.73815777   3.1928254\n",
      "   2.80612784   2.35382973   1.96170879   1.06271098   0.96682468]\n",
      "\n",
      "soil__transmissivity (Min, Max) range of (0.8648566959451951,9.146745081558967) values on node:\n",
      "All soil__transmissivity default value initialized for each node:\n",
      "[ 9.14674508  7.88478251  7.88226507  6.70777148  6.21642651  5.75216594\n",
      "  5.66986339  5.2430626   3.32723789  3.28971272  3.25116185  2.56529057\n",
      "  2.49707038  2.26035784  2.020473    1.77609846  1.64047273  1.40052975\n",
      "  0.88746281  0.8648567 ]\n",
      "\n",
      "soil__thickness (Min, Max) range of (0.10147605867771436,0.8945331193807978) values on node:\n",
      "All soil__thickness default value initialized for each node:\n",
      "[ 0.10147606  0.10668086  0.12159066  0.14078675  0.22754522  0.3210349\n",
      "  0.33203555  0.46953596  0.50244332  0.51765836  0.54174245  0.55414178\n",
      "  0.55855265  0.6046716   0.63281663  0.63293569  0.69693772  0.71393356\n",
      "  0.83509328  0.89453312]\n",
      "\n"
     ]
    }
   ],
   "source": [
    "value_list = ['soil__saturated_hydraulic_conductivity','soil__transmissivity','soil__thickness']\n",
    "pl.print_list_nodevalues(ls_prob, value_list)"
   ]
  },
  {
   "cell_type": "code",
   "execution_count": 18,
   "metadata": {},
   "outputs": [],
   "source": [
    "#value_list = ['soil__minimum_total_cohesion','soil__maximum_total_cohesion','soil__mode_total_cohesion']\n",
    "#pl.print_list_nodevalues(ls_grid, value_list)"
   ]
  },
  {
   "cell_type": "markdown",
   "metadata": {},
   "source": [
    "### 1.13 Make Landslide Unit Grid Maps\n",
    "\n",
    "The plot function `plot_landslide_4variables()` uses the Landlab plotting function `imshow_grid()` and creates subplots for any 4 variables on a Landlab grid.\n",
    "\n",
    "Let's see what one of these fields (slope) looks like on the grid of 10 x 10 m grid cells. "
   ]
  },
  {
   "cell_type": "code",
   "execution_count": 19,
   "metadata": {},
   "outputs": [
    {
     "data": {
      "text/plain": [
       "array([ 0.78922394,  0.77543346,  0.7713072 ,  0.69956623,  0.69715041,\n",
       "        0.64702657,  0.59469682,  0.56424685,  0.44047813,  0.43057685,\n",
       "        0.4042713 ,  0.37522764,  0.34765388,  0.29719601,  0.25019758,\n",
       "        0.22579045,  0.21530495,  0.17089866,  0.15165194,  0.12700935])"
      ]
     },
     "execution_count": 19,
     "metadata": {},
     "output_type": "execute_result"
    }
   ],
   "source": [
    "ls_grid.at_node['topographic__slope']\n"
   ]
  },
  {
   "cell_type": "code",
   "execution_count": 20,
   "metadata": {},
   "outputs": [
    {
     "data": {
      "image/png": "[encoded data removed]",
      "text/plain": [
       "<Figure size 720x720 with 8 Axes>"
      ]
     },
     "metadata": {
      "needs_background": "light"
     },
     "output_type": "display_data"
    }
   ],
   "source": [
    "fields=['topographic__slope','soil__thickness','topographic__specific_contributing_area','soil__transmissivity']\n",
    "maxval=[ls_grid.at_node['topographic__slope'].max(),\n",
    "        ls_grid.at_node['soil__thickness'].max(),\n",
    "        ls_grid.at_node['topographic__specific_contributing_area'].max(),\n",
    "        ls_grid.at_node['soil__transmissivity'].max(),]\n",
    "subtitles=['Unit Slope','Unit Soil Thickness','Unit Contributing Area','Unit Transmissivity']\n",
    "colors=['terrain','copper_r','YlGnBu','PuBu']\n",
    "scalelabel=['Slope',' meters','meters','m/day']\n",
    "\n",
    "pl.plot_landslide_4variables([221,222,223,224],\n",
    "                          ls_grid,ls_grid,ls_grid,ls_grid,\n",
    "                          fields,maxval,\n",
    "                          subtitles,colors,scalelabel)"
   ]
  },
  {
   "cell_type": "markdown",
   "metadata": {},
   "source": [
    "Can't get enough nitty gritty landslide component details?  \n",
    "\n",
    "Uncomment the box below to review ALL the details of what each variable represents.  \n",
    "(Close the window with the upper right [x] after viewing.)"
   ]
  },
  {
   "cell_type": "code",
   "execution_count": 21,
   "metadata": {},
   "outputs": [],
   "source": [
    "#?LandslideProbability"
   ]
  },
  {
   "cell_type": "markdown",
   "metadata": {},
   "source": [
    " ### 2.3. Recharge and Depth Options - 'uniform' distribution "
   ]
  },
  {
   "cell_type": "markdown",
   "metadata": {},
   "source": [
    "In this option, we'll apply a uniform distribution of recharge and depth based on minimum and maximum recharge and depth values.  We will then instantiate the LandslideProbability component with these parameters, as well as the grid and number of iterations we specified above.  Instantiate creates an instance of a class.  (For example, the _iPhone_ is a class and _each phone_ is an instance.)\n",
    "\n",
    "No outputs are generated by these commands as they are setting up the recharge and depth and instantiating the component.\n"
   ]
  },
  {
   "cell_type": "code",
   "execution_count": 22,
   "metadata": {
    "scrolled": true
   },
   "outputs": [
    {
     "ename": "NameError",
     "evalue": "name 'unit_default_value' is not defined",
     "output_type": "error",
     "traceback": [
      "\u001b[1;31m---------------------------------------------------------------------------\u001b[0m",
      "\u001b[1;31mNameError\u001b[0m                                 Traceback (most recent call last)",
      "\u001b[1;32m<ipython-input-22-59fe23577207>\u001b[0m in \u001b[0;36m<module>\u001b[1;34m\u001b[0m\n\u001b[1;32m----> 1\u001b[1;33m \u001b[0mLS_prob1_r\u001b[0m\u001b[1;33m,\u001b[0m\u001b[0mgrid_r1\u001b[0m \u001b[1;33m=\u001b[0m \u001b[0mlgd\u001b[0m\u001b[1;33m.\u001b[0m\u001b[0mbuild_landslide_SCLgrid\u001b[0m\u001b[1;33m(\u001b[0m\u001b[0mshape\u001b[0m\u001b[1;33m,\u001b[0m\u001b[0mspacing\u001b[0m\u001b[1;33m,\u001b[0m\u001b[0mcoordinates\u001b[0m\u001b[1;33m,\u001b[0m\u001b[1;34m'recharge'\u001b[0m\u001b[1;33m)\u001b[0m\u001b[1;33m\u001b[0m\u001b[1;33m\u001b[0m\u001b[0m\n\u001b[0m\u001b[0;32m      2\u001b[0m \u001b[0mLS_prob1_d\u001b[0m\u001b[1;33m,\u001b[0m\u001b[0mgrid_d1\u001b[0m \u001b[1;33m=\u001b[0m \u001b[0mlgd\u001b[0m\u001b[1;33m.\u001b[0m\u001b[0mbuild_landslide_SCLgrid\u001b[0m\u001b[1;33m(\u001b[0m\u001b[0mshape\u001b[0m\u001b[1;33m,\u001b[0m\u001b[0mspacing\u001b[0m\u001b[1;33m,\u001b[0m\u001b[0mcoordinates\u001b[0m\u001b[1;33m,\u001b[0m\u001b[1;34m'depth'\u001b[0m\u001b[1;33m)\u001b[0m\u001b[1;33m\u001b[0m\u001b[1;33m\u001b[0m\u001b[0m\n\u001b[0;32m      3\u001b[0m \u001b[1;33m\u001b[0m\u001b[0m\n\u001b[0;32m      4\u001b[0m \u001b[0mprint\u001b[0m\u001b[1;33m(\u001b[0m\u001b[1;34m\"Recharge Hydrologic Forcing\"\u001b[0m\u001b[1;33m)\u001b[0m\u001b[1;33m\u001b[0m\u001b[1;33m\u001b[0m\u001b[0m\n\u001b[0;32m      5\u001b[0m \u001b[0mLS_prob1_r\u001b[0m\u001b[1;33m.\u001b[0m\u001b[0mcalculate_landslide_probability\u001b[0m\u001b[1;33m(\u001b[0m\u001b[1;33m)\u001b[0m\u001b[1;33m\u001b[0m\u001b[1;33m\u001b[0m\u001b[0m\n",
      "\u001b[1;32mc:\\users\\cband\\github\\landlab\\landlab\\grid\\landslide_unitgrid.py\u001b[0m in \u001b[0;36mbuild_landslide_SCLgrid\u001b[1;34m(shape, spacing, coordinates, forcing)\u001b[0m\n\u001b[0;32m     15\u001b[0m     \u001b[0mgridnum\u001b[0m \u001b[1;33m=\u001b[0m \u001b[0mgrid\u001b[0m\u001b[1;33m.\u001b[0m\u001b[0mnumber_of_nodes\u001b[0m\u001b[1;33m\u001b[0m\u001b[1;33m\u001b[0m\u001b[0m\n\u001b[0;32m     16\u001b[0m     \u001b[1;31m# 2. Get range of default landslide parameters\u001b[0m\u001b[1;33m\u001b[0m\u001b[1;33m\u001b[0m\u001b[1;33m\u001b[0m\u001b[0m\n\u001b[1;32m---> 17\u001b[1;33m     \u001b[0munit_SCL_value\u001b[0m \u001b[1;33m=\u001b[0m \u001b[0munit_SCL2020par_value\u001b[0m\u001b[1;33m(\u001b[0m\u001b[1;33m)\u001b[0m\u001b[1;33m\u001b[0m\u001b[1;33m\u001b[0m\u001b[0m\n\u001b[0m\u001b[0;32m     18\u001b[0m     \u001b[1;31m# 3. Distribute and Add the parameters to each node on a Landlab grid\u001b[0m\u001b[1;33m\u001b[0m\u001b[1;33m\u001b[0m\u001b[1;33m\u001b[0m\u001b[0m\n\u001b[0;32m     19\u001b[0m     \u001b[0mls_grid\u001b[0m \u001b[1;33m=\u001b[0m \u001b[0mtest\u001b[0m\u001b[1;33m.\u001b[0m\u001b[0mlandslide_pars_ongrid\u001b[0m\u001b[1;33m(\u001b[0m\u001b[0mgrid\u001b[0m\u001b[1;33m,\u001b[0m \u001b[0mgridnum\u001b[0m\u001b[1;33m,\u001b[0m \u001b[0munit_SCL_value\u001b[0m\u001b[1;33m)\u001b[0m\u001b[1;33m\u001b[0m\u001b[1;33m\u001b[0m\u001b[0m\n",
      "\u001b[1;32mc:\\users\\cband\\github\\landlab\\landlab\\grid\\landslide_unitgrid.py\u001b[0m in \u001b[0;36munit_SCL2020par_value\u001b[1;34m()\u001b[0m\n\u001b[0;32m     65\u001b[0m     \u001b[1;31m#caution creating Ksat since parameterization of T and hs will have inverse relationship on Ksat\u001b[0m\u001b[1;33m\u001b[0m\u001b[1;33m\u001b[0m\u001b[1;33m\u001b[0m\u001b[0m\n\u001b[0;32m     66\u001b[0m     \u001b[1;31m#Kmin  = Tmin/hs_max   -slow- think of a deep thick clay layer\u001b[0m\u001b[1;33m\u001b[0m\u001b[1;33m\u001b[0m\u001b[1;33m\u001b[0m\u001b[0m\n\u001b[1;32m---> 67\u001b[1;33m     \u001b[0mkmin\u001b[0m \u001b[1;33m=\u001b[0m \u001b[0munit_SCL_value\u001b[0m\u001b[1;33m[\u001b[0m\u001b[1;34m'soil__transmissivity'\u001b[0m\u001b[1;33m]\u001b[0m\u001b[1;33m[\u001b[0m\u001b[1;36m0\u001b[0m\u001b[1;33m]\u001b[0m\u001b[1;33m/\u001b[0m\u001b[0munit_default_value\u001b[0m\u001b[1;33m[\u001b[0m\u001b[1;34m'soil__thickness'\u001b[0m\u001b[1;33m]\u001b[0m\u001b[1;33m[\u001b[0m\u001b[1;36m1\u001b[0m\u001b[1;33m]\u001b[0m\u001b[1;33m\u001b[0m\u001b[1;33m\u001b[0m\u001b[0m\n\u001b[0m\u001b[0;32m     68\u001b[0m     \u001b[1;31m#Kmax = Tmax/hs_min    -fast- think of a sieve or a parking lot\u001b[0m\u001b[1;33m\u001b[0m\u001b[1;33m\u001b[0m\u001b[1;33m\u001b[0m\u001b[0m\n\u001b[0;32m     69\u001b[0m     \u001b[0mkmax\u001b[0m \u001b[1;33m=\u001b[0m \u001b[0munit_SCL_value\u001b[0m\u001b[1;33m[\u001b[0m\u001b[1;34m'soil__transmissivity'\u001b[0m\u001b[1;33m]\u001b[0m\u001b[1;33m[\u001b[0m\u001b[1;36m1\u001b[0m\u001b[1;33m]\u001b[0m\u001b[1;33m/\u001b[0m\u001b[0munit_default_value\u001b[0m\u001b[1;33m[\u001b[0m\u001b[1;34m'soil__thickness'\u001b[0m\u001b[1;33m]\u001b[0m\u001b[1;33m[\u001b[0m\u001b[1;36m0\u001b[0m\u001b[1;33m]\u001b[0m\u001b[1;33m\u001b[0m\u001b[1;33m\u001b[0m\u001b[0m\n",
      "\u001b[1;31mNameError\u001b[0m: name 'unit_default_value' is not defined"
     ]
    }
   ],
   "source": [
    "LS_prob1_r,grid_r1 = lgd.build_landslide_SCLgrid(shape,spacing,coordinates,'recharge')\n",
    "LS_prob1_d,grid_d1 = lgd.build_landslide_SCLgrid(shape,spacing,coordinates,'depth')\n",
    "\n",
    "print(\"Recharge Hydrologic Forcing\")\n",
    "LS_prob1_r.calculate_landslide_probability()\n",
    "test.print_failure_nodevalues(LS_prob1_r)\n",
    "print(\"\")\n",
    "print(\"Depth Hydrologic Forcing\")\n",
    "LS_prob1_d.calculate_landslide_probability()\n",
    "test.print_failure_nodevalues(LS_prob1_d)\n",
    "\n"
   ]
  },
  {
   "cell_type": "code",
   "execution_count": null,
   "metadata": {},
   "outputs": [],
   "source": [
    "print(\"Uniform Recharge Synthetic core node 6 = {value}\".format(value=LS_prob1_r.grid.at_node[\"landslide__probability_of_failure\"][5]))\n",
    "print(\"Uniform Recharge Synthetic  core node 10 = {value}\".format(value=LS_prob1_r.grid.at_node[\"landslide__probability_of_failure\"][9]))\n",
    "print(\"Uniform Depth Synthetic  core node 6 = {value}\".format(value=LS_prob1_d.grid.at_node[\"landslide__probability_of_failure\"][5]))\n",
    "print(\"Uniform Depth Synthetic  core node 10 = {value}\".format(value=LS_prob1_d.grid.at_node[\"landslide__probability_of_failure\"][9]))"
   ]
  },
  {
   "cell_type": "code",
   "execution_count": null,
   "metadata": {},
   "outputs": [],
   "source": [
    "# Commercial Break - Adventures in printing landslide outputs in Python - \n",
    "# brought to you by your friends at Waterhackweek - waterhackweek.github.io\n",
    "# printing options (optional options)\n",
    "print(\"This is an example of using `print_failure_nodevalues()` function to print the failure outputs for any Landslide grid.\")\n",
    "test.print_failure_nodevalues(LS_prob1_d)\n",
    "print(\"This is an example of using `print_list_nodevalues()` function to print the variables on the node limited to those in the list\")\n",
    "test.print_list_nodevalues(LS_prob1_r,[\"landslide__probability_of_failure\"])\n",
    "print(\"Unit test core node 6 = {value}\".format(value=LS_prob1_d.grid.at_node[\"landslide__probability_of_failure\"][5]))\n",
    "print(\"Unit test core node 10 = {value}\".format(value=LS_prob1_d.grid.at_node[\"landslide__probability_of_failure\"][9]))"
   ]
  },
  {
   "cell_type": "code",
   "execution_count": null,
   "metadata": {},
   "outputs": [],
   "source": [
    "#Default relative wetness calculated with unitgrid input values \n",
    "#this is used to calculate the max and min Depth and Recharge for plotting\n",
    "relative_wetness = 0.75\n"
   ]
  },
  {
   "cell_type": "code",
   "execution_count": null,
   "metadata": {
    "scrolled": true
   },
   "outputs": [],
   "source": [
    "#Main Plot inputs\n",
    "pgrid = LS_prob1_d.grid\n",
    "[unit_R,unit_D]=test.scenario_unit_explorer(relative_wetness,pgrid) #set max\n",
    "#Landslide plot inputs for Uniform Depth forcing\n",
    "fields=['soil__probability_of_saturation','soil__mean_relative_wetness','soil__mean_watertable_depth','landslide__probability_of_failure']\n",
    "maxval=[1,1, unit_D[1],1,]\n",
    "colors=['YlGnBu','YlGnBu','YlGnBu','OrRd']\n",
    "scalelabel=['Probability',' Wetness','Depth (m)','Probability']\n",
    "subtitle=['Prob.of Saturation','Relative Wetness','Mean Depth to Water Table','Probability of Failure']\n",
    "smashtitle=subtitle\n",
    "ptitle = \"Uniform-Depth %s\"\n",
    "for s in subtitle: smashtitle[subtitle.index(s)]=\"\".join(ptitle % (s))\n",
    "    \n",
    "pl.plot_landslide_4variables([221,222,223,224],\n",
    "                          pgrid,pgrid,pgrid,pgrid,\n",
    "                          fields,maxval,\n",
    "                          smashtitle,colors,scalelabel)"
   ]
  },
  {
   "cell_type": "markdown",
   "metadata": {},
   "source": [
    "### Uniform-Recharge\n",
    "Recharge outputs are in meters (m), here we convert the recharge to mm/day and add to the grid. "
   ]
  },
  {
   "cell_type": "code",
   "execution_count": null,
   "metadata": {},
   "outputs": [],
   "source": [
    "print(unit_R)\n",
    "recharge_mm_per_m=1000\n",
    "LS_prob1_r.grid.at_node['soil__mean_recharge_mm']=recharge_mm_per_m * LS_prob1_r.grid.at_node['soil__mean_recharge']"
   ]
  },
  {
   "cell_type": "code",
   "execution_count": null,
   "metadata": {},
   "outputs": [],
   "source": [
    "LS_prob1_d.grid.at_node['soil__mean_recharge']"
   ]
  },
  {
   "cell_type": "code",
   "execution_count": null,
   "metadata": {},
   "outputs": [],
   "source": [
    "LS_prob1_r.grid.at_node['soil__mean_recharge']"
   ]
  },
  {
   "cell_type": "code",
   "execution_count": null,
   "metadata": {},
   "outputs": [],
   "source": [
    "pgrid = LS_prob1_r.grid\n",
    "[unit_R,unit_D]=test.scenario_unit_explorer(relative_wetness,pgrid)\n",
    "fields=['soil__probability_of_saturation','soil__mean_relative_wetness','soil__mean_recharge_mm','landslide__probability_of_failure']\n",
    "maxval=[1,1, unit_R[1],1,]\n",
    "colors=['YlGnBu','YlGnBu','YlGnBu','OrRd']\n",
    "scalelabel=['Probability',' Wetness','Recharge (mm/day)','Probability']\n",
    "subtitle=['Prob.of Saturation','Relative Wetness','Mean Recharge','Probability of Failure']\n",
    "smashtitle=subtitle\n",
    "ptitle = \"Uniform-Recharge %s\"\n",
    "for s in subtitle: smashtitle[subtitle.index(s)]=\"\".join(ptitle % (s))\n",
    "    \n",
    "pl.plot_landslide_4variables([221,222,223,224],\n",
    "                          pgrid,pgrid,pgrid,pgrid,\n",
    "                          fields,maxval,\n",
    "                          smashtitle,colors,scalelabel)"
   ]
  },
  {
   "cell_type": "markdown",
   "metadata": {},
   "source": [
    "## Citing Landlab Landslide Component\n",
    "\n",
    "**If you use any portion of Landlab, you must cite the following papers:**\n",
    "\n",
    "Hobley, D. E. J., Adams, J. M., Nudurupati, S. S., Hutton, E. W. H., Gasparini, N. M., Istanbulluoglu, E. and Tucker, G. E., 2017, Creative computing with Landlab: an open-source toolkit for building, coupling, and exploring two-dimensional numerical models of Earth-surface dynamics, Earth Surface Dynamics, 5, p 21-46, 10.5194/esurf-5-21-2017.\n",
    "\n",
    "Barnhart, K. R., Hutton, E. W. H., Tucker, G. E., Gasparini, N. M., Istanbulluoglu, E., Hobley, D. E. J., Lyons, N. J., Mouchene, M., Nudurupati, S. S., Adams, J. M., and Bandaragoda, C.: Short communication: Landlab v2.0: A software package for Earth surface dynamics, Earth Surf. Dynam. Discuss., https://doi.org/10.5194/esurf-2020-12, in review, 2020.\n",
    "                \n",
    "**If you use any portion of the Landlab Landslide Component, you must cite the following paper:**\n",
    "Strauch, R., Istanbulluoglu, E., Nudurupati, S.S., Bandaragoda, C., Gasparini, N.M. and Tucker, G.E., 2018. A hydroclimatological approach to predicting regional landslide probability using Landlab. Earth Surface Dynamics, 6(1), pp.49-49."
   ]
  },
  {
   "cell_type": "markdown",
   "metadata": {},
   "source": [
    "<img src=\"https://www.washington.edu/brand/files/2014/09/W-Logo_Purple_Hex.png\" style=\"float:left;width:150px;padding:5px\">   \n",
    "<img src=\"https://github.com/ChristinaB/landlab/blob/ChristinaB-landslide/notebooks/tutorials/landslides/images/scl_logo_high_res.png?raw=true\" style=\"float:right;width:500px;padding:10px\">  "
   ]
  },
  {
   "cell_type": "markdown",
   "metadata": {},
   "source": [
    "The development of this Notebook has been made possible by the Landlab project funded by the National Science Foundation (OAC 1450338 to N. Gasparini, OAC 1450409 to G. Tucker, OAC 1450412 to E. Istanbulluoglu).\n",
    "\n",
    "We acknowledge that this research takes place in the ancestral homelands of Tribes, Bands, and First Nations, including most notably the Upper Skagit Indian Tribe, Sauk-Suiattle Indian Tribe, Swinomish Indian Tribal Community, Samish Indian Nation, Nooksack Tribe, Lummi Nation, Stó:lō Nation, Nlaka’pamux Nation, Colville Confederated Tribes, Syilx/Okanagan Nation.  The University of Washington acknowledges the Coast Salish peoples of this land, the land which touches the shared waters of all tribes and bands within the Suquamish, Tulalip and Muckleshoot nations. "
   ]
  },
  {
   "cell_type": "markdown",
   "metadata": {},
   "source": [
    "\n",
    "<hr>\n",
    "<small>For more Landlab tutorials, click here: <a href=\"https://landlab.readthedocs.io/en/latest/user_guide/tutorials.html\">https://landlab.readthedocs.io/en/latest/user_guide/tutorials.html</a></small>\n",
    "<hr>"
   ]
  }
 ],
 "metadata": {
  "anaconda-cloud": {},
  "kernelspec": {
   "display_name": "Python 3",
   "language": "python",
   "name": "python3"
  },
  "language_info": {
   "codemirror_mode": {
    "name": "ipython",
    "version": 3
   },
   "file_extension": ".py",
   "mimetype": "text/x-python",
   "name": "python",
   "nbconvert_exporter": "python",
   "pygments_lexer": "ipython3",
   "version": "3.7.6"
  }
 },
 "nbformat": 4,
 "nbformat_minor": 4
}
