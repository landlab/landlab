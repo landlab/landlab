{
 "cells": [
  {
   "cell_type": "markdown",
   "metadata": {},
   "source": [
    "<a href=\"http://landlab.github.io\"><img style=\"float: left\" src=\"../../landlab_header.png\"></a>"
   ]
  },
  {
   "cell_type": "markdown",
   "metadata": {},
   "source": [
    "# What drives a Landlab Landslide? \n",
    "\n",
    "# Hydrology, statistically distributed to each node.\n",
    "\n",
    "**Landlab Landslide Component Demonstration with a Synthetic Grid and implementation with Two Hydrologic Forcing Options (Depth to Groundwater and Recharge) compared using four statistical distributions (Uniform, Lognormal, Spatial-Lognormal, Spatial Data-Driven).**"
   ]
  },
  {
   "cell_type": "markdown",
   "metadata": {},
   "source": [
    "\n",
    "<hr>\n",
    "<small>For more Landlab tutorials, click here: <a href=\"https://landlab.readthedocs.io/en/latest/user_guide/tutorials.html\">https://landlab.readthedocs.io/en/latest/user_guide/tutorials.html</a></small>\n",
    "<hr>"
   ]
  },
  {
   "cell_type": "markdown",
   "metadata": {},
   "source": [
    "## 0.  Software Setup and Preparation\n",
    "\n",
    "To run this notebook, we must import several libraries.\n",
    "The hs_utils library provides functions for interacting with HydroShare, including resource querying, dowloading, and creation.  Additional libraries support the functions of Landlab. \n",
    "\n",
    "### Import Landlab and other Python utilities"
   ]
  },
  {
   "cell_type": "code",
   "execution_count": null,
   "metadata": {
    "scrolled": true
   },
   "outputs": [],
   "source": [
    "import numpy as np\n",
    "from landlab import RasterModelGrid\n",
    "import landlab.plot.landslides.plot_landslides as pl\n",
    "import landlab.grid.landslide_unitgrid as lgd\n",
    "import tests.components.landslides.test_landslide_probability as test\n",
    "from landlab.components.landslides import LandslideProbability"
   ]
  },
  {
   "cell_type": "markdown",
   "metadata": {},
   "source": [
    "### Landslide Component Definitions\n",
    "#### key variables and functions in `test_landslide_probability.py`\n",
    "\n",
    "\n",
    "`grid` is the Landlab raster model grid initialization\n",
    "\n",
    "`ls_grid` is a `grid`  with landslide parameters added to nodes\n",
    "The input fields (see input_var_names) on the node are initialized in this step.\n",
    "\n",
    "`ls_grid` is input to `LandslideProbability()` to add model parameters to define the size of the Monte Carlo method, statistical distribution (four options), and hydrologic forcings (two options: recharge OR depth to water table) for the landslide model. A distribution of hydrologic forcing is used to calculate the probability of lansdlides in the Factor of Safety equation; the mean hydrologic forcing  per node has been added as a model output (in addition to relative wetness, probability of saturation, and probability of failure). \n",
    "\n",
    "`ls_prob` is the output of `LandslideProbability()` and considered a model instance (or model initialization).\n",
    "\n",
    "`ls_prob` is the input to `calculate_landslide_probability()`. Model results are saved in the same input dictionary by adding output fields.\n",
    "\n",
    "`ls_prob` is both the input and output of  `calculate_landslide_probability()` and should be saved, or recalculated with a clean `ls_grid` to ensure variables are saved as expected (not overwritten) for each change of parameters and model calculation.\n",
    "\n",
    "The output fields (see output_var_names) on the node are initialized to zero, and contain the model results. "
   ]
  },
  {
   "cell_type": "markdown",
   "metadata": {},
   "source": [
    "## 1. Create a synthetic grid with landslide unit_default data fields"
   ]
  },
  {
   "cell_type": "markdown",
   "metadata": {},
   "source": [
    "**1.1 Use the unit test to build a synthetic grid investigate features of the grid.** \n",
    "\n",
    "The total number of nodes is limited to 20, which is fast for computers and easy for humans."
   ]
  },
  {
   "cell_type": "code",
   "execution_count": null,
   "metadata": {},
   "outputs": [],
   "source": [
    "shape = (5, 4)\n",
    "spacing = (10e0, 10e0)\n",
    "coordinates = (0.0, 0.0)\n",
    "grid = RasterModelGrid(shape,spacing,coordinates)\n",
    "\n",
    "print('The synthetic grid `grid` is a Landlab RasterModelGrid: {value}. '.format(value=grid))\n",
    "grid"
   ]
  },
  {
   "cell_type": "code",
   "execution_count": null,
   "metadata": {},
   "outputs": [],
   "source": [
    " sorted(LandslideProbability.input_var_names)"
   ]
  },
  {
   "cell_type": "markdown",
   "metadata": {},
   "source": [
    "## Write a function to build a landslide component unit grid"
   ]
  },
  {
   "cell_type": "code",
   "execution_count": null,
   "metadata": {},
   "outputs": [],
   "source": [
    "def build_landslide_unitgrid(shape,spacing,coordinates,forcing):\n",
    "    # 1. Build a Landlab grid\n",
    "    grid = RasterModelGrid(shape,spacing,coordinates)\n",
    "    gridnum = grid.number_of_nodes\n",
    "    # 2. Get range of default landslide parameters\n",
    "    unit_default_value = test.calc_unit_default_value()\n",
    "    # 3. Distribute and Add the parameters to each node on a Landlab grid\n",
    "    ls_grid = test.landslide_pars_ongrid(grid, gridnum, unit_default_value)\n",
    "    # 4. Calculate default depth and recharge forcing range as a function of relative wetness,\n",
    "    # given the default unit grid inputs (Recharge = f(rw, T, a, slope); Depth = f(rw, hs))\n",
    "    relative_wetness = 0.75\n",
    "    Default_R, Default_D=test.scenario_unit_explorer(relative_wetness,ls_grid)\n",
    "    # 5. Distribute and Add the parameters to a Landlab grid that will be linked to the landslide model instance\n",
    "    if forcing == 'depth':\n",
    "        ls_prob = LandslideProbability(\n",
    "        ls_grid,\n",
    "        number_of_iterations=25,\n",
    "        groundwater__depth_distribution=\"uniform\",\n",
    "        groundwater__depth_min_value=Default_D[0],\n",
    "        groundwater__depth_max_value=Default_D[1]\n",
    "        )\n",
    "    else: \n",
    "        ls_prob = LandslideProbability(\n",
    "        ls_grid,\n",
    "        number_of_iterations=25,\n",
    "        groundwater__recharge_distribution=\"uniform\",\n",
    "        groundwater__depth_min_value=Default_R[0],\n",
    "        groundwater__depth_max_value=Default_R[1]\n",
    "        )\n",
    "    ## sometimes a grid format is easier to work with, other times, it's easier to maintain the linked \n",
    "    ## model instance with a new grid for each model test\n",
    "    return ls_prob, ls_grid"
   ]
  },
  {
   "cell_type": "code",
   "execution_count": null,
   "metadata": {
    "scrolled": true
   },
   "outputs": [],
   "source": [
    "test_unit_defaultpars=test.get_default_nodevalues()\n",
    "test_unit_defaultpars"
   ]
  },
  {
   "cell_type": "markdown",
   "metadata": {},
   "source": [
    "### 1.13 Make Landslide Unit Grid Maps\n",
    "\n",
    "The plot function `plot_landslide_4variables()` uses the Landlab plotting function `imshow_grid()` and creates subplots for any 4 variables on a Landlab grid.\n",
    "\n",
    "Let's see what one of these fields (slope) looks like on the grid of 10 x 10 m grid cells. "
   ]
  },
  {
   "cell_type": "markdown",
   "metadata": {},
   "source": [
    " ### 2.3. Recharge and Depth Options - 'uniform' distribution "
   ]
  },
  {
   "cell_type": "markdown",
   "metadata": {},
   "source": [
    "In this option, we'll apply a uniform distribution of recharge and depth based on minimum and maximum recharge and depth values.  We will then instantiate the LandslideProbability component with these parameters, as well as the grid and number of iterations we specified above.  Instantiate creates an instance of a class.  (For example, the _iPhone_ is a class and _each phone_ is an instance.)\n",
    "\n",
    "No outputs are generated by these commands as they are setting up the recharge and depth and instantiating the component.\n"
   ]
  },
  {
   "cell_type": "code",
   "execution_count": null,
   "metadata": {
    "scrolled": true
   },
   "outputs": [],
   "source": [
    "LS_prob1_r,grid_r1 = build_landslide_unitgrid(shape,spacing,coordinates,'recharge')\n",
    "LS_prob1_d,grid_d1 = build_landslide_unitgrid(shape,spacing,coordinates,'depth')\n",
    "\n",
    "print(\"Recharge Hydrologic Forcing\")\n",
    "LS_prob1_r.calculate_landslide_probability()\n",
    "test.print_list_nodevalues(LS_prob1_r,[\"landslide__probability_of_failure\"])\n",
    "test.print_failure_nodevalues(LS_prob1_r)\n",
    "print(\"Depth Hydrologic Forcing\")\n",
    "LS_prob1_d.calculate_landslide_probability()\n",
    "test.print_list_nodevalues(LS_prob1_d,[\"landslide__probability_of_failure\"])\n",
    "test.print_failure_nodevalues(LS_prob1_d)\n",
    "\n",
    "print(\"Unit test core node 6 = {value}\".format(value=LS_prob1_d.grid.at_node[\"landslide__probability_of_failure\"][5]))\n",
    "print(\"Unit test core node 10 = {value}\".format(value=LS_prob1_d.grid.at_node[\"landslide__probability_of_failure\"][9]))"
   ]
  },
  {
   "cell_type": "code",
   "execution_count": null,
   "metadata": {},
   "outputs": [],
   "source": [
    "print(\"Uniform Recharge Synthetic core node 6 = {value}\".format(value=LS_prob1_r.grid.at_node[\"landslide__probability_of_failure\"][5]))\n",
    "print(\"Uniform Recharge Synthetic  core node 10 = {value}\".format(value=LS_prob1_r.grid.at_node[\"landslide__probability_of_failure\"][9]))\n",
    "print(\"Uniform Depth Synthetic  core node 6 = {value}\".format(value=LS_prob1_d.grid.at_node[\"landslide__probability_of_failure\"][5]))\n",
    "print(\"Uniform Depth Synthetic  core node 10 = {value}\".format(value=LS_prob1_d.grid.at_node[\"landslide__probability_of_failure\"][9]))"
   ]
  },
  {
   "cell_type": "code",
   "execution_count": null,
   "metadata": {},
   "outputs": [],
   "source": [
    "fields=['topographic__slope','soil__thickness','topographic__specific_contributing_area','soil__transmissivity']\n",
    "maxval=[grid_d1.at_node['topographic__slope'].max(),\n",
    "        grid_d1.at_node['soil__thickness'].max(),\n",
    "        grid_d1.at_node['topographic__specific_contributing_area'].max(),\n",
    "        grid_d1.at_node['soil__transmissivity'].max(),]\n",
    "subtitles=['Unit Slope','Unit Soil Thickness','Unit Contributing Area','Unit Transmissivity']\n",
    "colors=['terrain','copper_r','YlGnBu','PuBu']\n",
    "scalelabel=['Slope',' meters','meters','m/day']\n",
    "\n",
    "pl.plot_landslide_4variables([221,222,223,224],\n",
    "                          grid_d1,grid_d1,grid_d1,grid_d1,\n",
    "                          fields,maxval,\n",
    "                          subtitles,colors,scalelabel)"
   ]
  },
  {
   "cell_type": "code",
   "execution_count": null,
   "metadata": {},
   "outputs": [],
   "source": [
    "#Default relative wetness calculated with unitgrid input values \n",
    "#this is used to calculate the max and min Depth and Recharge for plotting\n",
    "relative_wetness = 0.75\n"
   ]
  },
  {
   "cell_type": "code",
   "execution_count": null,
   "metadata": {
    "scrolled": true
   },
   "outputs": [],
   "source": [
    "#Main Plot inputs\n",
    "pgrid = LS_prob1_d.grid\n",
    "[unit_R,unit_D]=test.scenario_unit_explorer(relative_wetness,pgrid) #set max\n",
    "#Landslide plot inputs for Uniform Depth forcing\n",
    "fields=['soil__probability_of_saturation','soil__mean_relative_wetness','soil__mean_watertable_depth','landslide__probability_of_failure']\n",
    "maxval=[1,1, unit_D[1],1,]\n",
    "colors=['YlGnBu','YlGnBu','YlGnBu','OrRd']\n",
    "scalelabel=['Probability',' Wetness','Depth (m)','Probability']\n",
    "subtitle=['Prob.of Saturation','Relative Wetness','Mean Depth to Water Table','Probability of Failure']\n",
    "smashtitle=subtitle\n",
    "ptitle = \"Uniform-Depth %s\"\n",
    "for s in subtitle: smashtitle[subtitle.index(s)]=\"\".join(ptitle % (s))\n",
    "    \n",
    "pl.plot_landslide_4variables([221,222,223,224],\n",
    "                          pgrid,pgrid,pgrid,pgrid,\n",
    "                          fields,maxval,\n",
    "                          smashtitle,colors,scalelabel)"
   ]
  },
  {
   "cell_type": "markdown",
   "metadata": {},
   "source": [
    "### Uniform-Recharge\n",
    "Recharge outputs are in meters (m), here we convert the recharge to mm/day and add to the grid. "
   ]
  },
  {
   "cell_type": "code",
   "execution_count": null,
   "metadata": {},
   "outputs": [],
   "source": [
    "print(unit_R)\n",
    "recharge_mm_per_m=1000\n",
    "LS_prob1_r.grid.at_node['soil__mean_recharge_mm']=recharge_mm_per_m * LS_prob1_r.grid.at_node['soil__mean_recharge']"
   ]
  },
  {
   "cell_type": "code",
   "execution_count": null,
   "metadata": {},
   "outputs": [],
   "source": [
    "pgrid = LS_prob1_r.grid\n",
    "[unit_R,unit_D]=test.scenario_unit_explorer(relative_wetness,pgrid)\n",
    "fields=['soil__probability_of_saturation','soil__mean_relative_wetness','soil__mean_recharge_mm','landslide__probability_of_failure']\n",
    "maxval=[1,1, unit_R[1],1,]\n",
    "colors=['YlGnBu','YlGnBu','YlGnBu','OrRd']\n",
    "scalelabel=['Probability',' Wetness','Recharge (mm/day)','Probability']\n",
    "subtitle=['Prob.of Saturation','Relative Wetness','Mean Recharge','Probability of Failure']\n",
    "smashtitle=subtitle\n",
    "ptitle = \"Uniform-Recharge %s\"\n",
    "for s in subtitle: smashtitle[subtitle.index(s)]=\"\".join(ptitle % (s))\n",
    "    \n",
    "pl.plot_landslide_4variables([221,222,223,224],\n",
    "                          pgrid,pgrid,pgrid,pgrid,\n",
    "                          fields,maxval,\n",
    "                          smashtitle,colors,scalelabel)"
   ]
  },
  {
   "cell_type": "markdown",
   "metadata": {},
   "source": [
    "# 2.0 Unit Test Parameter Initialization \n",
    "\n",
    "#### Specify Unit Defaults to Test Hydrologic Forcing Options (2 options) and  Distribution Methods (4 options)\n",
    "Given unit input values for recharge `unit_R` (mm/day) and depth forcings  `unit_D` (meters), use the unit tests to initialize the parameters using the `LandslideProbability()` function. "
   ]
  },
  {
   "cell_type": "markdown",
   "metadata": {},
   "source": [
    "### 2.1 Calculate unit test default values for recharge and depth forcing variables given a unit value for relative wetness (rw=0.75)\n",
    "These are two different options used for calculating relative wetness which is input to the Factor of Safety Equation.  The unit test has options for comparing the range of input parameters, and  `T` and `area`are inputs to the recharge option calculation of relative wetness.\n",
    "\n",
    "The plot_landslides functions include `scenario_unit_explorer()` which solves for a unit recharge f(Transmissivity, Slope, Area) and unit depth f(soil thickness) given a uniform value of relative wetness. Using default unit parameters from the unit grid, a single seed for the random distributions, and rw=0.75, we can solve for a set of input hydrologic forcing parameters, and then use the unit hydrology to solve for a known probability of failure in the unit test. \n",
    "\n",
    "Recharge = ((rw * (T * theta )) / a)\n",
    "\n",
    "Depth = hs - rw * hs"
   ]
  },
  {
   "cell_type": "code",
   "execution_count": null,
   "metadata": {},
   "outputs": [],
   "source": [
    "#T = grid['node']['soil__transmissivity']\n",
    "#theta = np.sin(np.arctan(grid['node']['topographic__slope']))\n",
    "#hs = grid['node']['soil__thickness'] \n",
    "#a_unit = grid['node']['topographic__specific_contributing_area']\n",
    "\n",
    "#Select a test to compare R and D min/max bounds\n",
    "relative_wetness = 0.75\n",
    "[unit_R,unit_D]=test.scenario_unit_explorer(relative_wetness,LS_prob1_r.grid)"
   ]
  },
  {
   "cell_type": "code",
   "execution_count": null,
   "metadata": {},
   "outputs": [],
   "source": [
    "print(\"When RW = {value}, Unit Test Mean Depth to Water Table = {value2} m\".format(value=0.75, value2=round(unit_D[2],2)))\n",
    "print(\"When RW = {value}, Unit Test Mean Recharge = {value2} mm/day\".format(value=0.75, value2=round(unit_R[2])))\n"
   ]
  },
  {
   "cell_type": "markdown",
   "metadata": {},
   "source": [
    "### 2.2 Number of iterations to run Monte Carlo simulation"
   ]
  },
  {
   "cell_type": "markdown",
   "metadata": {},
   "source": [
    "The landslide component employes the infinite slope model to calculate factor-of-safety values using a Monte Carlo simulation approach, which randomly selects input values from parameter distributions. You can pick the number of iterations to run Monte Carlo simulations, but the unit default is 25 and landscape default is 250. The higher the number of iteration, the longer the program runs, but the more precise the probability of failure result becomes.<br /> "
   ]
  },
  {
   "cell_type": "code",
   "execution_count": null,
   "metadata": {},
   "outputs": [],
   "source": [
    "n = 25"
   ]
  },
  {
   "cell_type": "markdown",
   "metadata": {},
   "source": [
    "There are _four_ different options for providing recharge for the Monte Carlo simulation.  We provide each of these grouped with depth to water table and recharge options below by specifying option inputs (a statistical distribution per node and option parameters. <br /> "
   ]
  },
  {
   "cell_type": "markdown",
   "metadata": {},
   "source": [
    "### 2.3. Recharge and Depth Options - 'uniform' distribution\n",
    "\n",
    "See above. "
   ]
  },
  {
   "cell_type": "markdown",
   "metadata": {},
   "source": [
    "### 2.4. Recharge and Depth Options - 'lognormal' distribution"
   ]
  },
  {
   "cell_type": "markdown",
   "metadata": {},
   "source": [
    "In this option, we specify a lognormal distribution with a recharge and depth mean and standard deviation values.  We instantiate the LandslideProbabilty class to create a new object or 'instance' of the class/component LandslideProbability. So now we have created two instances."
   ]
  },
  {
   "cell_type": "code",
   "execution_count": null,
   "metadata": {},
   "outputs": [],
   "source": [
    "distribution2 = 'lognormal'\n",
    "uniform_default,grid_r2 = build_landslide_unitgrid(shape,spacing,coordinates,'recharge')\n",
    "uniform_default,grid_d2 = build_landslide_unitgrid(shape,spacing,coordinates,'depth')\n",
    "\n",
    "LS_prob2_r = LandslideProbability(grid_r2,number_of_iterations=n,\n",
    "    groundwater__recharge_distribution=distribution2,\n",
    "    groundwater__recharge_mean=unit_R[2],\n",
    "    groundwater__recharge_standard_deviation=unit_R[3])\n",
    "LS_prob2_r.calculate_landslide_probability()\n",
    "\n",
    "LS_prob2_d = LandslideProbability(grid_d2,number_of_iterations=n,\n",
    "    groundwater__depth_distribution=distribution2,\n",
    "    groundwater__depth_mean=unit_D[2],\n",
    "    groundwater__depth_standard_deviation=unit_D[3])\n",
    "LS_prob2_d.calculate_landslide_probability()\n"
   ]
  },
  {
   "cell_type": "markdown",
   "metadata": {},
   "source": [
    "### 2.5. Recharge and Depth Options - 'lognormal_spatial' distribution"
   ]
  },
  {
   "cell_type": "markdown",
   "metadata": {},
   "source": [
    "Similar to the previous option (#2), we use a lognormal distribution for recharge and depth.  However, in this case we provide arrays to represent mean and standard deviation values for each node in our grid.  Thus, the distribution varies for each node - representing a spatially varying distribution of recharge and depth."
   ]
  },
  {
   "cell_type": "code",
   "execution_count": null,
   "metadata": {},
   "outputs": [],
   "source": [
    "distribution3 = 'lognormal_spatial'\n",
    "gridnum=grid_r1.number_of_nodes\n",
    "uniform_default,grid_r3 = build_landslide_unitgrid(shape,spacing,coordinates,'recharge')\n",
    "uniform_default,grid_d3 = build_landslide_unitgrid(shape,spacing,coordinates,'depth')\n",
    "\n",
    "Remean3 = np.random.uniform(unit_R[0],unit_R[1],gridnum)\n",
    "Restandard_deviation3 = np.random.rand(gridnum)\n",
    "LS_prob3_r = LandslideProbability(grid_r3,number_of_iterations=n,\n",
    "    groundwater__recharge_distribution=distribution3,\n",
    "    groundwater__recharge_mean=Remean3,\n",
    "    groundwater__recharge_standard_deviation=Restandard_deviation3)\n",
    "LS_prob3_r.calculate_landslide_probability()\n",
    "\n",
    "Demean3 = np.random.uniform(unit_D[0],unit_D[1],gridnum)\n",
    "Destandard_deviation3 = np.random.rand(gridnum)\n",
    "LS_prob3_d = LandslideProbability(grid_d3,number_of_iterations=n,\n",
    "    groundwater__depth_distribution=distribution3,\n",
    "    groundwater__depth_mean=Demean3,\n",
    "    groundwater__depth_standard_deviation=Destandard_deviation3)\n",
    "LS_prob3_d.calculate_landslide_probability()\n"
   ]
  },
  {
   "cell_type": "markdown",
   "metadata": {},
   "source": [
    "### 2.6. Recharge and Depth 'data_driven_spatial' distributions \n",
    "\n",
    "### 2.6.1 Generate Recharge input option "
   ]
  },
  {
   "cell_type": "markdown",
   "metadata": {},
   "source": [
    "This is the most complex representation of recharge used in the LandslideProbability component.  \n",
    "In this case, we provide recharge distributions (arrays) directly that are unique for each node.  \n",
    "\n",
    "In a real-world situation, we would acquire these from a hydrologic model that often has a coarser resolution than our grid.<br />\n",
    "Thus, we route the recharge data arrays from these larger Hydraulic Source Domain (HSD) grids down to each node of our grid. Landlab has a 'Source tracking algorithm' utility that performs this routing and produces Python dictionaries (_key: value_ pairs) that become parameters for the 'data_driven_spatial' recharge distribution.  In this synthetic example, we'll generate synthetic versions of these dictionaries."
   ]
  },
  {
   "cell_type": "code",
   "execution_count": null,
   "metadata": {},
   "outputs": [],
   "source": [
    "HSD_dict = {}\n",
    "for vkey in range(2,8):  #the first example vkey =2 is printed below\n",
    "    HSD_dict[vkey] = np.random.uniform(unit_R[0],unit_R[1],10)    # 20 - 120 mm/day \n",
    "print('HSD_dict dictionary is a unique array of recharge provided as arrays (‘values’) for each of the Hydrologic Source Domain (HSD) (‘keys’). ')    \n",
    "print('The entire synthetic dictionary is:')\n",
    "print(HSD_dict)\n",
    "print('The array for the HSD vkey = 2 of this unordered dictionary is:')\n",
    "print(HSD_dict[2])"
   ]
  },
  {
   "cell_type": "markdown",
   "metadata": {},
   "source": [
    "***Note: this is a much lower recharge than the uniform."
   ]
  },
  {
   "cell_type": "markdown",
   "metadata": {},
   "source": [
    "HSD_ID dictionary has the grid node ID as ‘keys’ and HSD IDs in a list as ‘values’. "
   ]
  },
  {
   "cell_type": "code",
   "execution_count": null,
   "metadata": {},
   "outputs": [],
   "source": [
    "HSD_id_dict = {}\n",
    "for ckey in grid.core_nodes:\n",
    "    HSD_id_dict[ckey] = np.random.randint(2,8,2)\n",
    "print('The entire ID synthetic dictionary is:')\n",
    "print(HSD_id_dict)\n",
    "print('The array for the ckey = 5, the first index of core nodes in the dictionary is:')\n",
    "print(HSD_id_dict[5])\n",
    "print('The two values in the array are the multiple vkeys that correspond/drain to the ckey:')\n"
   ]
  },
  {
   "cell_type": "markdown",
   "metadata": {},
   "source": [
    "The fractions dictionary assigns to each node ID as ‘key’ a lists the fractions of each HSD draining to the node as ‘values’. "
   ]
  },
  {
   "cell_type": "code",
   "execution_count": null,
   "metadata": {},
   "outputs": [],
   "source": [
    "fract_dict = {}\n",
    "for ckey in grid.core_nodes:\n",
    "    fract_dict[ckey] =  np.random.rand(2)\n",
    "print('The entire ID synthetic dictionary is:')\n",
    "print(fract_dict)\n",
    "print('The fractional values (sum=1) in the array can be used to add the multiple vkeys that correspond/drain to each key:')\n",
    "print(fract_dict[5])"
   ]
  },
  {
   "cell_type": "code",
   "execution_count": null,
   "metadata": {},
   "outputs": [],
   "source": [
    "#HSD_inputs_r"
   ]
  },
  {
   "cell_type": "markdown",
   "metadata": {},
   "source": [
    "When the component is instantiated, the three dictionaries are provided as the 'parameters' for the distribution in explicit order."
   ]
  },
  {
   "cell_type": "markdown",
   "metadata": {},
   "source": [
    "### 2.6.2 Generate Depth to water table Input option"
   ]
  },
  {
   "cell_type": "code",
   "execution_count": null,
   "metadata": {},
   "outputs": [],
   "source": [
    "key=np.arange(grid.number_of_nodes)\n",
    "HSD_inputs_d={}\n",
    "\n",
    "for i in range(grid.number_of_nodes):\n",
    "    annualmaxDWT=np.random.uniform(unit_D[0],unit_D[1],10)\n",
    "    HSD_inputs_d[i] = (annualmaxDWT)\n",
    "\n",
    "#print(HSD_inputs_d)\n",
    "print('The values assigned to the first node (key) are: ')\n",
    "print(HSD_inputs_d[0])"
   ]
  },
  {
   "cell_type": "markdown",
   "metadata": {},
   "source": [
    "### Data driven spatially distributed landslide component input distributions"
   ]
  },
  {
   "cell_type": "code",
   "execution_count": null,
   "metadata": {},
   "outputs": [],
   "source": [
    "distribution4 = 'data_driven_spatial'\n",
    "uniform_default,grid_r4 = build_landslide_unitgrid(shape,spacing,coordinates,'recharge')\n",
    "uniform_default,grid_d4 = build_landslide_unitgrid(shape,spacing,coordinates,'depth')\n",
    "\n",
    "HSD_inputs_r = [HSD_dict,HSD_id_dict,fract_dict]\n",
    "LS_prob4_r = LandslideProbability(grid_r4,number_of_iterations=n,\n",
    "    groundwater__recharge_distribution=distribution4,\n",
    "    groundwater__recharge_HSD_inputs=HSD_inputs_r)\n",
    "LS_prob4_r.calculate_landslide_probability()\n",
    "\n",
    "LS_prob4_d = LandslideProbability(grid_d4,number_of_iterations=n,\n",
    "    groundwater__depth_distribution=distribution4,\n",
    "    groundwater__depth_HSD_inputs=HSD_inputs_d)\n",
    "LS_prob4_d.calculate_landslide_probability()\n"
   ]
  },
  {
   "cell_type": "markdown",
   "metadata": {},
   "source": [
    "# 4.0 Plot Synthetic Landslides \n",
    "\n",
    "## 4.1 Landslide Component Syntethic Default Outputs\n",
    "### Uniform-Depth"
   ]
  },
  {
   "cell_type": "code",
   "execution_count": null,
   "metadata": {},
   "outputs": [],
   "source": [
    "pgrid = LS_prob1_d.grid\n",
    "fields=['soil__probability_of_saturation','soil__mean_relative_wetness','soil__mean_watertable_depth','landslide__probability_of_failure']\n",
    "maxval=[1,1, unit_D[1],1,]\n",
    "colors=['YlGnBu','YlGnBu','YlGnBu','OrRd']\n",
    "scalelabel=['Probability',' Wetness','Depth (m)','Probability']\n",
    "subtitle=['Prob.of Saturation','Relative Wetness','Mean Depth to Water Table','Probability of Failure']\n",
    "smashtitle=subtitle\n",
    "\n",
    "ptitle = \"Uniform-Depth %s\"\n",
    "for s in subtitle: smashtitle[subtitle.index(s)]=\"\".join(ptitle % (s))\n",
    "    \n",
    "pl.plot_landslide_4variables([221,222,223,224],\n",
    "                          pgrid,pgrid,pgrid,pgrid,\n",
    "                          fields,maxval,\n",
    "                          smashtitle,colors,scalelabel)"
   ]
  },
  {
   "cell_type": "markdown",
   "metadata": {},
   "source": [
    "### Uniform-Recharge\n",
    "Recharge outputs are in meters (m), here we convert the recharge to mm/day and add to the grid. "
   ]
  },
  {
   "cell_type": "code",
   "execution_count": null,
   "metadata": {},
   "outputs": [],
   "source": [
    "recharge_mm_per_m=1000\n",
    "grid_r1.at_node['soil__mean_recharge_mm']=recharge_mm_per_m * grid_r1.at_node['soil__mean_recharge']"
   ]
  },
  {
   "cell_type": "code",
   "execution_count": null,
   "metadata": {},
   "outputs": [],
   "source": [
    "pgrid = LS_prob1_r.grid\n",
    "fields=['soil__probability_of_saturation','soil__mean_relative_wetness','soil__mean_recharge_mm','landslide__probability_of_failure']\n",
    "maxval=[1,1, unit_R[1],1,]\n",
    "colors=['YlGnBu','YlGnBu','YlGnBu','OrRd']\n",
    "scalelabel=['Probability',' Wetness','Recharge (mm/day)','Probability']\n",
    "subtitle=['Prob.of Saturation','Relative Wetness','Mean Recharge','Probability of Failure']\n",
    "smashtitle=subtitle\n",
    "\n",
    "ptitle = \"Uniform-Recharge %s\"\n",
    "for s in subtitle: smashtitle[subtitle.index(s)]=\"\".join(ptitle % (s))\n",
    "    \n",
    "pl.plot_landslide_4variables([221,222,223,224],\n",
    "                          pgrid,pgrid,pgrid,pgrid,\n",
    "                          fields,maxval,\n",
    "                          smashtitle,colors,scalelabel)\n"
   ]
  },
  {
   "cell_type": "markdown",
   "metadata": {},
   "source": [
    "### Data Driven Spatial- Depth"
   ]
  },
  {
   "cell_type": "code",
   "execution_count": null,
   "metadata": {},
   "outputs": [],
   "source": [
    "pgrid = LS_prob4_d.grid\n",
    "fields=['soil__probability_of_saturation','soil__mean_relative_wetness','soil__mean_watertable_depth','landslide__probability_of_failure']\n",
    "maxval=[1,1, unit_D[1],1,]\n",
    "colors=['YlGnBu','YlGnBu','YlGnBu','OrRd']\n",
    "scalelabel=['Probability',' Wetness','Depth (m)','Probability']\n",
    "subtitle=['Prob.of Saturation','Relative Wetness','Mean Depth to Water Table','Probability of Failure']\n",
    "smashtitle=subtitle\n",
    "ptitle = \"Data-Spatial-Depth %s\"\n",
    "for s in subtitle: smashtitle[subtitle.index(s)]=\"\".join(ptitle % (s))\n",
    "    \n",
    "pl.plot_landslide_4variables([221,222,223,224],\n",
    "                          pgrid,pgrid,pgrid,pgrid,\n",
    "                          fields,maxval,\n",
    "                          smashtitle,colors,scalelabel)\n"
   ]
  },
  {
   "cell_type": "markdown",
   "metadata": {},
   "source": [
    "### Data Driven Spatial- Recharge\n",
    "Recharge outputs are in meters (m), here we convert the recharge to mm/day and add to the grid. "
   ]
  },
  {
   "cell_type": "code",
   "execution_count": null,
   "metadata": {},
   "outputs": [],
   "source": [
    "recharge_mm_per_m=1000\n",
    "LS_prob4_r.grid.at_node['soil__mean_recharge_mm']=recharge_mm_per_m * LS_prob4_r.grid.at_node['soil__mean_recharge']"
   ]
  },
  {
   "cell_type": "code",
   "execution_count": null,
   "metadata": {},
   "outputs": [],
   "source": [
    "pgrid = LS_prob4_r.grid\n",
    "fields=['soil__probability_of_saturation','soil__mean_relative_wetness','soil__mean_recharge_mm','landslide__probability_of_failure']\n",
    "maxval=[1,1, unit_R[1],1,]\n",
    "colors=['YlGnBu','YlGnBu','YlGnBu','OrRd']\n",
    "scalelabel=['Probability',' Wetness','Recharge (mm/day)','Probability']\n",
    "subtitle=['Prob.of Saturation','Relative Wetness','Mean Recharge','Probability of Failure']\n",
    "smashtitle=subtitle\n",
    "\n",
    "ptitle = \"Data-Spatial-Recharge %s\"\n",
    "for s in subtitle: smashtitle[subtitle.index(s)]=\"\".join(ptitle % (s))\n",
    "    \n",
    "pl.plot_landslide_4variables([221,222,223,224],\n",
    "                          pgrid,pgrid,pgrid,pgrid,\n",
    "                          fields,maxval,\n",
    "                          smashtitle,colors,scalelabel)\n"
   ]
  },
  {
   "cell_type": "markdown",
   "metadata": {},
   "source": [
    "## 4.3 Landslide Component Unit Test Outputs: Probability of Failure \n",
    "### Unit default landslide parameters; hydrologic forcings with four statistical distribution methods\n",
    "\n",
    "### Depth to groundwater"
   ]
  },
  {
   "cell_type": "code",
   "execution_count": null,
   "metadata": {},
   "outputs": [],
   "source": [
    "fields=['landslide__probability_of_failure','landslide__probability_of_failure','landslide__probability_of_failure','landslide__probability_of_failure']\n",
    "maxval=[1,1,1,1]\n",
    "subtitles=['Uniform-Depth-Failure','Lognormal-Depth-Failure','LN-Spatial-Depth-Failure','DataSpatial-Depth-Failure']\n",
    "colors=['OrRd','OrRd','OrRd','OrRd']\n",
    "scalelabel=['Probability','Probability','Probability','Probability']\n",
    "\n",
    "pl.plot_landslide_4variables([221,222,223,224],\n",
    "                          LS_prob1_d.grid,LS_prob2_d.grid,LS_prob3_d.grid,LS_prob4_d.grid,\n",
    "                          fields,maxval,\n",
    "                          subtitles,colors,scalelabel)"
   ]
  },
  {
   "cell_type": "markdown",
   "metadata": {},
   "source": [
    "### Unit default landslide parameters; hydrologic forcings with four statistical distribution methods\n",
    "\n",
    "### Recharge"
   ]
  },
  {
   "cell_type": "code",
   "execution_count": null,
   "metadata": {},
   "outputs": [],
   "source": [
    "fields=['landslide__probability_of_failure','landslide__probability_of_failure','landslide__probability_of_failure','landslide__probability_of_failure']\n",
    "maxval=[1,1,1,1,]\n",
    "subtitles=['Uniform-Recharge-Failure','Lognormal-Recharge-Failure','LN-Spatial-Recharge-Failure','DataSpatial-Recharge-Failure']\n",
    "colors=['OrRd','OrRd','OrRd','OrRd']\n",
    "scalelabel=['Probability','Probability','Probability','Probability']\n",
    "\n",
    "pl.plot_landslide_4variables([221,222,223,224],\n",
    "                          LS_prob1_r.grid,LS_prob2_r.grid,LS_prob3_r.grid,LS_prob4_r.grid,\n",
    "                          fields,maxval,\n",
    "                          subtitles,colors,scalelabel)"
   ]
  },
  {
   "cell_type": "markdown",
   "metadata": {},
   "source": [
    "## 4.4 Run Landslide Component \n",
    "This is helpful to demonstrate and verify the difference between running a model unit test (results are static) and running the model with random variables introduced in each model instance of executing `calculate_landslide_probability()`\n",
    "\n",
    "**Use Landslide Component** to calculate data driven spatial failure probability with two methods (depth, recharge) **different results are expected each time this is run**"
   ]
  },
  {
   "cell_type": "code",
   "execution_count": null,
   "metadata": {
    "scrolled": true
   },
   "outputs": [],
   "source": [
    "print(\"Recharge Hydrologic Forcing\")\n",
    "print(\"Uniform-Depth Hydrologic Forcing\")\n",
    "test.print_list_nodevalues(LS_prob1_r,[\"landslide__probability_of_failure\"])\n",
    "print(\"Lognormal-Depth Hydrologic Forcing\")\n",
    "test.print_list_nodevalues(LS_prob2_r,[\"landslide__probability_of_failure\"])\n",
    "print(\"Lognormal-Spatial-Depth Hydrologic Forcing\")\n",
    "test.print_list_nodevalues(LS_prob3_r,[\"landslide__probability_of_failure\"])\n",
    "print(\"Data-Spatial-Depth Hydrologic Forcing\")\n",
    "test.print_list_nodevalues(LS_prob4_r,[\"landslide__probability_of_failure\"])\n"
   ]
  },
  {
   "cell_type": "code",
   "execution_count": null,
   "metadata": {},
   "outputs": [],
   "source": [
    "print(\"Uniform-Depth Hydrologic Forcing\")\n",
    "test.print_failure_nodevalues(LS_prob1_d)\n",
    "print(\"Lognormal-Depth Hydrologic Forcing\")\n",
    "test.print_failure_nodevalues(LS_prob2_d)\n",
    "print(\"Lognormal-Spatial-Depth Hydrologic Forcing\")\n",
    "test.print_failure_nodevalues(LS_prob3_d)\n",
    "print(\"Data-Spatial-Depth Hydrologic Forcing\")\n",
    "test.print_failure_nodevalues(LS_prob4_d)"
   ]
  },
  {
   "cell_type": "markdown",
   "metadata": {},
   "source": [
    "## Citing Landlab Landslide Component\n",
    "\n",
    "**If you use any portion of Landlab, you must cite the following papers:**\n",
    "\n",
    "Hobley, D. E. J., Adams, J. M., Nudurupati, S. S., Hutton, E. W. H., Gasparini, N. M., Istanbulluoglu, E. and Tucker, G. E., 2017, Creative computing with Landlab: an open-source toolkit for building, coupling, and exploring two-dimensional numerical models of Earth-surface dynamics, Earth Surface Dynamics, 5, p 21-46, 10.5194/esurf-5-21-2017.\n",
    "\n",
    "Barnhart, K. R., Hutton, E. W. H., Tucker, G. E., Gasparini, N. M., Istanbulluoglu, E., Hobley, D. E. J., Lyons, N. J., Mouchene, M., Nudurupati, S. S., Adams, J. M., and Bandaragoda, C.: Short communication: Landlab v2.0: A software package for Earth surface dynamics, Earth Surf. Dynam. Discuss., https://doi.org/10.5194/esurf-2020-12, in review, 2020.\n",
    "                \n",
    "**If you use any portion of the Landlab Landslide Component, you must cite the following paper:**\n",
    "Strauch, R., Istanbulluoglu, E., Nudurupati, S.S., Bandaragoda, C., Gasparini, N.M. and Tucker, G.E., 2018. A hydroclimatological approach to predicting regional landslide probability using Landlab. Earth Surface Dynamics, 6(1), pp.49-49."
   ]
  },
  {
   "cell_type": "markdown",
   "metadata": {},
   "source": [
    "<img src=\"https://www.washington.edu/brand/files/2014/09/W-Logo_Purple_Hex.png\" style=\"float:left;width:150px;padding:5px\">   \n",
    "<img src=\"https://github.com/ChristinaB/landlab/blob/ChristinaB-landslide/notebooks/tutorials/landslides/images/scl_logo_high_res.png?raw=true\" style=\"float:right;width:500px;padding:10px\">  \n"
   ]
  },
  {
   "cell_type": "markdown",
   "metadata": {},
   "source": [
    "The development of this Notebook has been made possible by the Landlab project funded by the National Science Foundation (OAC 1450338 to N. Gasparini, OAC 1450409 to G. Tucker, OAC 1450412 to E. Istanbulluoglu).\n",
    "\n",
    "We acknowledge that this research takes place in the ancestral homelands of Tribes, Bands, and First Nations, including most notably the Upper Skagit Indian Tribe, Sauk-Suiattle Indian Tribe, Swinomish Indian Tribal Community, Samish Indian Nation, Nooksack Tribe, Lummi Nation, Stó:lō Nation, Nlaka’pamux Nation, Colville Confederated Tribes, Syilx/Okanagan Nation.  The University of Washington acknowledges the Coast Salish peoples of this land, the land which touches the shared waters of all tribes and bands within the Suquamish, Tulalip and Muckleshoot nations. "
   ]
  },
  {
   "cell_type": "markdown",
   "metadata": {},
   "source": [
    "\n",
    "<hr>\n",
    "<small>For more Landlab tutorials, click here: <a href=\"https://landlab.readthedocs.io/en/latest/user_guide/tutorials.html\">https://landlab.readthedocs.io/en/latest/user_guide/tutorials.html</a></small>\n",
    "<hr>"
   ]
  }
 ],
 "metadata": {
  "anaconda-cloud": {},
  "kernelspec": {
   "display_name": "Python 3",
   "language": "python",
   "name": "python3"
  },
  "language_info": {
   "codemirror_mode": {
    "name": "ipython",
    "version": 3
   },
   "file_extension": ".py",
   "mimetype": "text/x-python",
   "name": "python",
   "nbconvert_exporter": "python",
   "pygments_lexer": "ipython3",
   "version": "3.7.6"
  }
 },
 "nbformat": 4,
 "nbformat_minor": 1
}
