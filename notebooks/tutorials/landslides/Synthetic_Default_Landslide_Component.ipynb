{
 "cells": [
  {
   "cell_type": "markdown",
   "metadata": {},
   "source": [
    "<a href=\"http://landlab.github.io\"><img style=\"float: left\" src=\"../../landlab_header.png\"></a>"
   ]
  },
  {
   "cell_type": "markdown",
   "metadata": {},
   "source": [
    "# How does Landlab Hydro a Landslide? \n",
    "\n",
    "# Recharge and Depth to Water Table.\n",
    "\n",
    "**Landlab Landslide Component Demonstration with a Synthetic Grid and implementation with Two Hydrologic Forcing Options (Depth to Groundwater and Recharge) compared using default parameters and Uniform Distribution.**"
   ]
  },
  {
   "cell_type": "markdown",
   "metadata": {},
   "source": [
    "\n",
    "<hr>\n",
    "<small>For more Landlab tutorials, click here: <a href=\"https://landlab.readthedocs.io/en/latest/user_guide/tutorials.html\">https://landlab.readthedocs.io/en/latest/user_guide/tutorials.html</a></small>\n",
    "<hr>"
   ]
  },
  {
   "cell_type": "markdown",
   "metadata": {},
   "source": [
    "## 0.  Software Setup and Preparation\n",
    "\n",
    "To run this notebook, we must import several libraries.\n",
    "The hs_utils library provides functions for interacting with HydroShare, including resource querying, dowloading, and creation.  Additional libraries support the functions of Landlab. \n",
    "\n",
    "### Import Landlab and other Python utilities"
   ]
  },
  {
   "cell_type": "code",
   "execution_count": 1,
   "metadata": {
    "scrolled": true
   },
   "outputs": [],
   "source": [
    "import numpy as np\n",
    "from landlab import RasterModelGrid\n",
    "import landlab.plot.landslides.plot_landslides as pl\n",
    "import landlab.grid.landslide_unitgrid as lgd\n",
    "import tests.components.landslides.test_landslide_probability as test\n",
    "from landlab.components.landslides import LandslideProbability"
   ]
  },
  {
   "cell_type": "markdown",
   "metadata": {},
   "source": [
    "### Landslide Component Definitions\n",
    "#### key variables and functions in `test_landslide_probability.py`\n",
    "\n",
    "`grid` is the Landlab raster model grid initialization\n",
    "\n",
    "`ls_grid` is a `grid`  with landslide parameters added to nodes\n",
    "The input fields (see input_var_names) on the node are initialized in this step.\n",
    "\n",
    "`ls_grid` is input to `LandslideProbability()` to add model parameters to define the size of the Monte Carlo method with hydrologic forcings (two options: recharge OR depth to water table) and statistical distribution (four options) and  for the landslide model. A distribution of hydrologic forcing is used to calculate the probability of lansdlides in the Factor of Safety equation; the mean hydrologic forcing  per node has been added as a model output (in addition to relative wetness, probability of saturation, and probability of failure). \n",
    "\n",
    "`ls_prob` is the output of `LandslideProbability()` and considered a model instance (or model initialization).\n",
    "\n",
    "`ls_prob` is the input to `calculate_landslide_probability()`. Model results are saved in the same input dictionary by adding output fields.\n",
    "\n",
    "`ls_prob` is both the input and output of  `calculate_landslide_probability()` and should be saved, or recalculated with a clean `ls_grid` to ensure variables are saved as expected (not overwritten) for each change of parameters and model calculation.\n",
    "\n",
    "The output fields (see output_var_names) on the node are initialized to zero, and contain the model results. "
   ]
  },
  {
   "cell_type": "markdown",
   "metadata": {},
   "source": [
    "## 1. Create a synthetic grid with landslide unit_default data fields"
   ]
  },
  {
   "cell_type": "markdown",
   "metadata": {},
   "source": [
    "**1.1 Use the unit test to build a synthetic grid investigate features of the grid.** \n",
    "\n",
    "The total number of nodes is limited to 20, which is fast for computers and easy for humans."
   ]
  },
  {
   "cell_type": "code",
   "execution_count": null,
   "metadata": {},
   "outputs": [],
   "source": [
    "shape = (5, 4)\n",
    "spacing = (10e0, 10e0)\n",
    "coordinates = (0.0, 0.0)\n",
    "grid = RasterModelGrid(shape,spacing,coordinates)\n",
    "\n",
    "print('The synthetic grid `grid` is a Landlab RasterModelGrid: {value}. '.format(value=grid))\n",
    "grid"
   ]
  },
  {
   "cell_type": "markdown",
   "metadata": {},
   "source": [
    "We can see how many core nodes we use in the unit grid (i.e., the nodes that calculations are performed on) in the center of the grid...not the edges, which are 'closed nodes'.  The spacing between nodes is equivalent to the grid cell edge length.  Nodes are the centroid of each grid."
   ]
  },
  {
   "cell_type": "code",
   "execution_count": null,
   "metadata": {},
   "outputs": [],
   "source": [
    "gridnum = grid.number_of_nodes\n",
    "print('The synthetic grid has {value} total grid cells (nodes), including the boundary nodes.'.format(value=grid.number_of_nodes)) \n",
    "print('The synthetic grid has {value} m grid cell size (space between nodes).'.format(value=grid.dx)) \n",
    "grid_cnum = grid.number_of_core_nodes\n",
    "print(\"Core nodes are the center of a Landlab model grid.\")\n",
    "print(\"Landslide calculations are made only on {value} core nodes.\".format(value=grid_cnum))\n",
    "print(\"This is the array of Landlab node values used to index the core nodes (dictionary key)\")\n",
    "grid.core_nodes"
   ]
  },
  {
   "cell_type": "code",
   "execution_count": null,
   "metadata": {},
   "outputs": [],
   "source": [
    "#grid?"
   ]
  },
  {
   "cell_type": "markdown",
   "metadata": {},
   "source": [
    "To read more documentation about this dataset type:\n",
    "\n",
    "Use `RasterModelGrid?` OR `unitgrid?` OR uncomment cell above.\n",
    "\n",
    "<hr>\n",
    "<small>For more Introduction to Landlab’s Gridding Library, click here: <a href=\"https://landlab.readthedocs.io/en/latest/user_guide/grid.html\">https://landlab.readthedocs.io/en/latest/user_guide/grid.html</a></small>\n",
    "<hr>"
   ]
  },
  {
   "cell_type": "markdown",
   "metadata": {},
   "source": [
    "The Landlab grid variable we input to `LandslideProbability` is a `RasterModelGrid` data type we have named `grid`, it has inputs and outputs on each node, but only calculated on the core nodes."
   ]
  },
  {
   "cell_type": "code",
   "execution_count": null,
   "metadata": {},
   "outputs": [],
   "source": [
    " sorted(LandslideProbability.input_var_names)"
   ]
  },
  {
   "cell_type": "markdown",
   "metadata": {},
   "source": [
    "## Write a function to build a landslide component unit grid"
   ]
  },
  {
   "cell_type": "code",
   "execution_count": null,
   "metadata": {},
   "outputs": [],
   "source": [
    "ls_prob, ls_grid = lgd.build_landslide_unitgrid(shape,spacing,coordinates,'depth')"
   ]
  },
  {
   "cell_type": "code",
   "execution_count": null,
   "metadata": {},
   "outputs": [],
   "source": [
    "print(\"Landslide Component Input Variables are on the grid/node\")\n",
    "ls_prob.input_var_names"
   ]
  },
  {
   "cell_type": "code",
   "execution_count": null,
   "metadata": {
    "scrolled": true
   },
   "outputs": [],
   "source": [
    "print(\"Landslide Component Output Variables at each grid/node\")\n",
    "ls_prob.output_var_names"
   ]
  },
  {
   "cell_type": "code",
   "execution_count": null,
   "metadata": {},
   "outputs": [],
   "source": [
    "LandslideProbability.var_help('soil__mean_watertable_depth')"
   ]
  },
  {
   "cell_type": "code",
   "execution_count": null,
   "metadata": {},
   "outputs": [],
   "source": [
    "LandslideProbability.var_help('soil__mean_recharge')"
   ]
  },
  {
   "cell_type": "markdown",
   "metadata": {},
   "source": [
    "**1.2 Investigate the range of default parameters on each node of the grid.**\n",
    "\n",
    "The test builds a grid with a default synthetic range of min/max parameter inputs used in the unit test. The function `get_default_nodevalues()` creates a variable from the default values.  Since we haven't calculated the landslide probability yet, only initialized the inputs, the output values are initialized to zeros. "
   ]
  },
  {
   "cell_type": "code",
   "execution_count": null,
   "metadata": {
    "scrolled": true
   },
   "outputs": [],
   "source": [
    "test_unit_defaultpars=test.get_default_nodevalues()\n",
    "test_unit_defaultpars"
   ]
  },
  {
   "cell_type": "markdown",
   "metadata": {},
   "source": [
    "Run the next cells to view DEFAULT soil parameters on the node.(optional)"
   ]
  },
  {
   "cell_type": "code",
   "execution_count": null,
   "metadata": {},
   "outputs": [],
   "source": [
    "value_list = ['topographic__slope']\n",
    "pl.print_list_nodevalues(ls_prob, value_list)"
   ]
  },
  {
   "cell_type": "code",
   "execution_count": null,
   "metadata": {},
   "outputs": [],
   "source": [
    "#value_list = ['soil__transmissivity']\n",
    "#pl.print_list_nodevalues(ls_prob, value_list)"
   ]
  },
  {
   "cell_type": "markdown",
   "metadata": {},
   "source": [
    "Run the next cells to CHANGE DEFAULT soil parameters on the node.(optional)"
   ]
  },
  {
   "cell_type": "code",
   "execution_count": null,
   "metadata": {},
   "outputs": [],
   "source": [
    "##Transmissivity\n",
    "#grid.at_node[\"soil__transmissivity\"] = np.sort(np.random.uniform(0.1,100,gridnum).astype(float))    \n",
    "#reverse order: lowest Transmissivity value are in upper right of synthethic grid\n",
    "#grid['node']['soil__transmissivity'] = grid['node']['soil__transmissivity'][::-1]  \n",
    "       "
   ]
  },
  {
   "cell_type": "markdown",
   "metadata": {},
   "source": [
    "Add a field for dimensions of recharge in millimeters. Default input is in meters."
   ]
  },
  {
   "cell_type": "code",
   "execution_count": null,
   "metadata": {},
   "outputs": [],
   "source": [
    "recharge_mm_per_m=1000\n",
    "ls_grid.at_node['soil__mean_recharge_mm']=recharge_mm_per_m * ls_grid.at_node['soil__mean_recharge']"
   ]
  },
  {
   "cell_type": "code",
   "execution_count": null,
   "metadata": {},
   "outputs": [],
   "source": [
    "value_list = ['soil__transmissivity']\n",
    "pl.print_list_nodevalues(ls_prob, value_list)"
   ]
  },
  {
   "cell_type": "code",
   "execution_count": null,
   "metadata": {},
   "outputs": [],
   "source": [
    "value_list = ['soil__saturated_hydraulic_conductivity','soil__transmissivity','soil__thickness']\n",
    "pl.print_list_nodevalues(ls_prob, value_list)"
   ]
  },
  {
   "cell_type": "code",
   "execution_count": null,
   "metadata": {},
   "outputs": [],
   "source": [
    "#value_list = ['soil__minimum_total_cohesion','soil__maximum_total_cohesion','soil__mode_total_cohesion']\n",
    "#pl.print_list_nodevalues(ls_grid, value_list)"
   ]
  },
  {
   "cell_type": "markdown",
   "metadata": {},
   "source": [
    "### 1.13 Make Landslide Unit Grid Maps\n",
    "\n",
    "The plot function `plot_landslide_4variables()` uses the Landlab plotting function `imshow_grid()` and creates subplots for any 4 variables on a Landlab grid.\n",
    "\n",
    "Let's see what one of these fields (slope) looks like on the grid of 10 x 10 m grid cells. "
   ]
  },
  {
   "cell_type": "code",
   "execution_count": null,
   "metadata": {},
   "outputs": [],
   "source": [
    "ls_grid.at_node['topographic__slope']\n"
   ]
  },
  {
   "cell_type": "code",
   "execution_count": null,
   "metadata": {},
   "outputs": [],
   "source": [
    "fields=['topographic__slope','soil__thickness','topographic__specific_contributing_area','soil__transmissivity']\n",
    "maxval=[ls_grid.at_node['topographic__slope'].max(),\n",
    "        ls_grid.at_node['soil__thickness'].max(),\n",
    "        ls_grid.at_node['topographic__specific_contributing_area'].max(),\n",
    "        ls_grid.at_node['soil__transmissivity'].max(),]\n",
    "subtitles=['Unit Slope','Unit Soil Thickness','Unit Contributing Area','Unit Transmissivity']\n",
    "colors=['terrain','copper_r','YlGnBu','PuBu']\n",
    "scalelabel=['Slope',' meters','meters','m/day']\n",
    "\n",
    "pl.plot_landslide_4variables([221,222,223,224],\n",
    "                          ls_grid,ls_grid,ls_grid,ls_grid,\n",
    "                          fields,maxval,\n",
    "                          subtitles,colors,scalelabel)"
   ]
  },
  {
   "cell_type": "markdown",
   "metadata": {},
   "source": [
    "Can't get enough nitty gritty landslide component details?  \n",
    "\n",
    "Uncomment the box below to review ALL the details of what each variable represents.  \n",
    "(Close the window with the upper right [x] after viewing.)"
   ]
  },
  {
   "cell_type": "code",
   "execution_count": null,
   "metadata": {},
   "outputs": [],
   "source": [
    "#?LandslideProbability"
   ]
  },
  {
   "cell_type": "markdown",
   "metadata": {},
   "source": [
    " ### 2.3. Recharge and Depth Options - 'uniform' distribution "
   ]
  },
  {
   "cell_type": "markdown",
   "metadata": {},
   "source": [
    "In this option, we'll apply a uniform distribution of recharge and depth based on minimum and maximum recharge and depth values.  We will then instantiate the LandslideProbability component with these parameters, as well as the grid and number of iterations we specified above.  Instantiate creates an instance of a class.  (For example, the _iPhone_ is a class and _each phone_ is an instance.)\n",
    "\n",
    "No outputs are generated by these commands as they are setting up the recharge and depth and instantiating the component.\n"
   ]
  },
  {
   "cell_type": "code",
   "execution_count": null,
   "metadata": {
    "scrolled": true
   },
   "outputs": [],
   "source": [
    "LS_prob1_r,grid_r1 = lgd.build_landslide_unitgrid(shape,spacing,coordinates,'recharge')\n",
    "LS_prob1_d,grid_d1 = lgd.build_landslide_unitgrid(shape,spacing,coordinates,'depth')\n",
    "\n",
    "print(\"Recharge Hydrologic Forcing\")\n",
    "LS_prob1_r.calculate_landslide_probability()\n",
    "test.print_failure_nodevalues(LS_prob1_r)\n",
    "print(\"\")\n",
    "print(\"Depth Hydrologic Forcing\")\n",
    "LS_prob1_d.calculate_landslide_probability()\n",
    "test.print_failure_nodevalues(LS_prob1_d)\n",
    "\n"
   ]
  },
  {
   "cell_type": "code",
   "execution_count": null,
   "metadata": {},
   "outputs": [],
   "source": [
    "print(\"Uniform Recharge Synthetic core node 6 = {value}\".format(value=LS_prob1_r.grid.at_node[\"landslide__probability_of_failure\"][5]))\n",
    "print(\"Uniform Recharge Synthetic  core node 10 = {value}\".format(value=LS_prob1_r.grid.at_node[\"landslide__probability_of_failure\"][9]))\n",
    "print(\"Uniform Depth Synthetic  core node 6 = {value}\".format(value=LS_prob1_d.grid.at_node[\"landslide__probability_of_failure\"][5]))\n",
    "print(\"Uniform Depth Synthetic  core node 10 = {value}\".format(value=LS_prob1_d.grid.at_node[\"landslide__probability_of_failure\"][9]))"
   ]
  },
  {
   "cell_type": "code",
   "execution_count": null,
   "metadata": {},
   "outputs": [],
   "source": [
    "# Commercial Break - Adventures in printing landslide outputs in Python - \n",
    "# brought to you by your friends at Waterhackweek - waterhackweek.github.io\n",
    "# printing options (optional options)\n",
    "print(\"This is an example of using `print_failure_nodevalues()` function to print the failure outputs for any Landslide grid.\")\n",
    "test.print_failure_nodevalues(LS_prob1_d)\n",
    "print(\"This is an example of using `print_list_nodevalues()` function to print the variables on the node limited to those in the list\")\n",
    "test.print_list_nodevalues(LS_prob1_r,[\"landslide__probability_of_failure\"])\n",
    "print(\"Unit test core node 6 = {value}\".format(value=LS_prob1_d.grid.at_node[\"landslide__probability_of_failure\"][5]))\n",
    "print(\"Unit test core node 10 = {value}\".format(value=LS_prob1_d.grid.at_node[\"landslide__probability_of_failure\"][9]))"
   ]
  },
  {
   "cell_type": "code",
   "execution_count": null,
   "metadata": {},
   "outputs": [],
   "source": [
    "#Default relative wetness calculated with unitgrid input values \n",
    "#this is used to calculate the max and min Depth and Recharge for plotting\n",
    "relative_wetness = 0.75\n"
   ]
  },
  {
   "cell_type": "code",
   "execution_count": null,
   "metadata": {
    "scrolled": true
   },
   "outputs": [],
   "source": [
    "#Main Plot inputs\n",
    "pgrid = LS_prob1_d.grid\n",
    "[unit_R,unit_D]=test.scenario_unit_explorer(relative_wetness,pgrid) #set max\n",
    "#Landslide plot inputs for Uniform Depth forcing\n",
    "fields=['soil__probability_of_saturation','soil__mean_relative_wetness','soil__mean_watertable_depth','landslide__probability_of_failure']\n",
    "maxval=[1,1, unit_D[1],1,]\n",
    "colors=['YlGnBu','YlGnBu','YlGnBu','OrRd']\n",
    "scalelabel=['Probability',' Wetness','Depth (m)','Probability']\n",
    "subtitle=['Prob.of Saturation','Relative Wetness','Mean Depth to Water Table','Probability of Failure']\n",
    "smashtitle=subtitle\n",
    "ptitle = \"Uniform-Depth %s\"\n",
    "for s in subtitle: smashtitle[subtitle.index(s)]=\"\".join(ptitle % (s))\n",
    "    \n",
    "pl.plot_landslide_4variables([221,222,223,224],\n",
    "                          pgrid,pgrid,pgrid,pgrid,\n",
    "                          fields,maxval,\n",
    "                          smashtitle,colors,scalelabel)"
   ]
  },
  {
   "cell_type": "markdown",
   "metadata": {},
   "source": [
    "### Uniform-Recharge\n",
    "Recharge outputs are in meters (m), here we convert the recharge to mm/day and add to the grid. "
   ]
  },
  {
   "cell_type": "code",
   "execution_count": null,
   "metadata": {},
   "outputs": [],
   "source": [
    "print(unit_R)\n",
    "recharge_mm_per_m=1000\n",
    "LS_prob1_r.grid.at_node['soil__mean_recharge_mm']=recharge_mm_per_m * LS_prob1_r.grid.at_node['soil__mean_recharge']"
   ]
  },
  {
   "cell_type": "code",
   "execution_count": null,
   "metadata": {},
   "outputs": [],
   "source": [
    "LS_prob1_d.grid.at_node['soil__mean_recharge']"
   ]
  },
  {
   "cell_type": "code",
   "execution_count": null,
   "metadata": {},
   "outputs": [],
   "source": [
    "LS_prob1_r.grid.at_node['soil__mean_recharge']"
   ]
  },
  {
   "cell_type": "code",
   "execution_count": null,
   "metadata": {},
   "outputs": [],
   "source": [
    "pgrid = LS_prob1_r.grid\n",
    "[unit_R,unit_D]=test.scenario_unit_explorer(relative_wetness,pgrid)\n",
    "fields=['soil__probability_of_saturation','soil__mean_relative_wetness','soil__mean_recharge_mm','landslide__probability_of_failure']\n",
    "maxval=[1,1, unit_R[1],1,]\n",
    "colors=['YlGnBu','YlGnBu','YlGnBu','OrRd']\n",
    "scalelabel=['Probability',' Wetness','Recharge (mm/day)','Probability']\n",
    "subtitle=['Prob.of Saturation','Relative Wetness','Mean Recharge','Probability of Failure']\n",
    "smashtitle=subtitle\n",
    "ptitle = \"Uniform-Recharge %s\"\n",
    "for s in subtitle: smashtitle[subtitle.index(s)]=\"\".join(ptitle % (s))\n",
    "    \n",
    "pl.plot_landslide_4variables([221,222,223,224],\n",
    "                          pgrid,pgrid,pgrid,pgrid,\n",
    "                          fields,maxval,\n",
    "                          smashtitle,colors,scalelabel)"
   ]
  },
  {
   "cell_type": "markdown",
   "metadata": {},
   "source": [
    "## Citing Landlab Landslide Component\n",
    "\n",
    "**If you use any portion of Landlab, you must cite the following papers:**\n",
    "\n",
    "Hobley, D. E. J., Adams, J. M., Nudurupati, S. S., Hutton, E. W. H., Gasparini, N. M., Istanbulluoglu, E. and Tucker, G. E., 2017, Creative computing with Landlab: an open-source toolkit for building, coupling, and exploring two-dimensional numerical models of Earth-surface dynamics, Earth Surface Dynamics, 5, p 21-46, 10.5194/esurf-5-21-2017.\n",
    "\n",
    "Barnhart, K. R., Hutton, E. W. H., Tucker, G. E., Gasparini, N. M., Istanbulluoglu, E., Hobley, D. E. J., Lyons, N. J., Mouchene, M., Nudurupati, S. S., Adams, J. M., and Bandaragoda, C.: Short communication: Landlab v2.0: A software package for Earth surface dynamics, Earth Surf. Dynam. Discuss., https://doi.org/10.5194/esurf-2020-12, in review, 2020.\n",
    "                \n",
    "**If you use any portion of the Landlab Landslide Component, you must cite the following paper:**\n",
    "Strauch, R., Istanbulluoglu, E., Nudurupati, S.S., Bandaragoda, C., Gasparini, N.M. and Tucker, G.E., 2018. A hydroclimatological approach to predicting regional landslide probability using Landlab. Earth Surface Dynamics, 6(1), pp.49-49."
   ]
  },
  {
   "cell_type": "markdown",
   "metadata": {},
   "source": [
    "<img src=\"https://www.washington.edu/brand/files/2014/09/W-Logo_Purple_Hex.png\" style=\"float:left;width:150px;padding:5px\">   \n",
    "<img src=\"https://github.com/ChristinaB/landlab/blob/ChristinaB-landslide/notebooks/tutorials/landslides/images/scl_logo_high_res.png?raw=true\" style=\"float:right;width:500px;padding:10px\">  "
   ]
  },
  {
   "cell_type": "markdown",
   "metadata": {},
   "source": [
    "The development of this Notebook has been made possible by the Landlab project funded by the National Science Foundation (OAC 1450338 to N. Gasparini, OAC 1450409 to G. Tucker, OAC 1450412 to E. Istanbulluoglu).\n",
    "\n",
    "We acknowledge that this research takes place in the ancestral homelands of Tribes, Bands, and First Nations, including most notably the Upper Skagit Indian Tribe, Sauk-Suiattle Indian Tribe, Swinomish Indian Tribal Community, Samish Indian Nation, Nooksack Tribe, Lummi Nation, Stó:lō Nation, Nlaka’pamux Nation, Colville Confederated Tribes, Syilx/Okanagan Nation.  The University of Washington acknowledges the Coast Salish peoples of this land, the land which touches the shared waters of all tribes and bands within the Suquamish, Tulalip and Muckleshoot nations. "
   ]
  },
  {
   "cell_type": "markdown",
   "metadata": {},
   "source": [
    "\n",
    "<hr>\n",
    "<small>For more Landlab tutorials, click here: <a href=\"https://landlab.readthedocs.io/en/latest/user_guide/tutorials.html\">https://landlab.readthedocs.io/en/latest/user_guide/tutorials.html</a></small>\n",
    "<hr>"
   ]
  }
 ],
 "metadata": {
  "anaconda-cloud": {},
  "kernelspec": {
   "display_name": "Python 3",
   "language": "python",
   "name": "python3"
  },
  "language_info": {
   "codemirror_mode": {
    "name": "ipython",
    "version": 3
   },
   "file_extension": ".py",
   "mimetype": "text/x-python",
   "name": "python",
   "nbconvert_exporter": "python",
   "pygments_lexer": "ipython3",
   "version": "3.8.3"
  }
 },
 "nbformat": 4,
 "nbformat_minor": 4
}
