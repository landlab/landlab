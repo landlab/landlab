{
 "cells": [
  {
   "cell_type": "markdown",
   "metadata": {},
   "source": [
    "# Landlab Synthetic NetCDF Builder\n",
    "\n",
    "<img src=\"https://www.washington.edu/brand/files/2014/09/W-Logo_Purple_Hex.png\" style=\"float:right;width:200px;padding:20px\">   \n",
    "\n",
    "\n",
    "<br />\n",
    "This Jupyter Notebook runs the Landlab LandslideProbability component on a synthetic \n",
    "Landlab grid using four depth to water table options to replace recharge options described in the paper: <br />\n",
    "#### Strauch et al. 2018. A hydro-climatological approach to predicting regional landslide probability using Landlab. Earth Surface Dynamics, 6, 1-26. <br /> \n",
    "This notebook performs the following functions:<br >\n",
    "* Import libraries and set HydroShare variables<br />\n",
    "* Create a grid and data fields used to calculate landslide probability<br />\n",
    "* Specify Depth to Water Table Distributions to compare four options<br /> \n",
    "* Run LandslideProbability function from Landlab landslide component<br /> \n",
    "* Compare the sensitivity based on four Depth to Water Table options<br /> \n"
   ]
  },
  {
   "cell_type": "code",
   "execution_count": 19,
   "metadata": {},
   "outputs": [],
   "source": [
    "from landlab import RasterModelGrid\n",
    "import numpy as np\n",
    "from landlab.io.netcdf import read_netcdf\n",
    "from landlab.io.netcdf import write_netcdf"
   ]
  },
  {
   "cell_type": "code",
   "execution_count": 20,
   "metadata": {},
   "outputs": [],
   "source": [
    "grid = RasterModelGrid((5, 4))"
   ]
  },
  {
   "cell_type": "code",
   "execution_count": 21,
   "metadata": {},
   "outputs": [
    {
     "data": {
      "text/plain": [
       "array([[ 0,  1,  2,  3],\n",
       "       [ 4,  5,  6,  7],\n",
       "       [ 8,  9, 10, 11],\n",
       "       [12, 13, 14, 15],\n",
       "       [16, 17, 18, 19]])"
      ]
     },
     "execution_count": 21,
     "metadata": {},
     "output_type": "execute_result"
    }
   ],
   "source": [
    "grid.nodes"
   ]
  },
  {
   "cell_type": "code",
   "execution_count": 22,
   "metadata": {},
   "outputs": [
    {
     "data": {
      "text/plain": [
       "True"
      ]
     },
     "execution_count": 22,
     "metadata": {},
     "output_type": "execute_result"
    }
   ],
   "source": [
    "grid.shape == (5, 4)"
   ]
  },
  {
   "cell_type": "code",
   "execution_count": 23,
   "metadata": {},
   "outputs": [
    {
     "name": "stdout",
     "output_type": "stream",
     "text": [
      "Depth to water table distribution\n",
      "[ 2.60075473  3.42931828  2.81011152  4.46063154  4.45166922  2.16831176\n",
      "  3.67693111  4.90523006  3.34591078  4.84398276  3.06014233  3.65704031\n",
      "  4.95792344  2.45690961  4.51182523  4.62400703  3.81320186  2.31239066\n",
      "  4.43577736  4.64386335  3.93160905  2.03814174  4.6910067   4.98105765\n",
      "  2.1975445   3.93746642  3.76907486  2.96570321  2.8351639   2.38839127\n",
      "  3.49915374  2.65279718  4.59213998  4.45802798  3.77654712  2.06833876\n",
      "  4.4081801   3.91767783  4.92119582  3.63002743  4.59286744  4.22600756\n",
      "  4.03753359  3.95338608  4.01939416  2.36025891  2.92934446  2.17840392\n",
      "  3.94827941  4.02510675]\n",
      "Mean depth to water table from uniform distribution\n",
      "3.66191520899\n",
      "Mean Depth to water table - uniform for all nodes\n",
      "[ 3.66191521  3.66191521  3.66191521  3.66191521  3.66191521  3.66191521\n",
      "  3.66191521  3.66191521  3.66191521  3.66191521  3.66191521  3.66191521\n",
      "  3.66191521  3.66191521  3.66191521  3.66191521  3.66191521  3.66191521\n",
      "  3.66191521  3.66191521]\n"
     ]
    }
   ],
   "source": [
    "n=50\n",
    "gridnodes = grid.number_of_nodes\n",
    "grid_size = grid.number_of_nodes\n",
    "\n",
    "Demin_value = 2 \n",
    "Demax_value = 5\n",
    "distribution1 = 'uniform'\n",
    "depth_dist = np.random.uniform(Demin_value, Demax_value,size=n)\n",
    "print('Depth to water table distribution')\n",
    "print(depth_dist)\n",
    "\n",
    "mean_depth=np.mean(depth_dist)\n",
    "grid['node']['soil__mean_watertable_depth']=mean_depth* np.ones(gridnodes)\n",
    "\n",
    "print('Mean depth to water table from uniform distribution')\n",
    "print(mean_depth)\n",
    "print('Mean Depth to water table - uniform for all nodes')\n",
    "print(grid['node']['soil__mean_watertable_depth'])"
   ]
  },
  {
   "cell_type": "code",
   "execution_count": 24,
   "metadata": {},
   "outputs": [
    {
     "data": {
      "text/plain": [
       "(1.0, 1.0)"
      ]
     },
     "execution_count": 24,
     "metadata": {},
     "output_type": "execute_result"
    }
   ],
   "source": [
    "grid.dy, grid.dx"
   ]
  },
  {
   "cell_type": "code",
   "execution_count": 25,
   "metadata": {},
   "outputs": [
    {
     "data": {
      "text/plain": [
       "['soil__mean_watertable_depth']"
      ]
     },
     "execution_count": 25,
     "metadata": {},
     "output_type": "execute_result"
    }
   ],
   "source": [
    "list(grid.at_node.keys())"
   ]
  },
  {
   "cell_type": "code",
   "execution_count": 26,
   "metadata": {},
   "outputs": [
    {
     "data": {
      "text/plain": [
       "array([ 3.66191521,  3.66191521,  3.66191521,  3.66191521,  3.66191521,\n",
       "        3.66191521,  3.66191521,  3.66191521,  3.66191521,  3.66191521,\n",
       "        3.66191521,  3.66191521,  3.66191521,  3.66191521,  3.66191521,\n",
       "        3.66191521,  3.66191521,  3.66191521,  3.66191521,  3.66191521])"
      ]
     },
     "execution_count": 26,
     "metadata": {},
     "output_type": "execute_result"
    }
   ],
   "source": [
    "grid.at_node['soil__mean_watertable_depth']"
   ]
  },
  {
   "cell_type": "code",
   "execution_count": 27,
   "metadata": {},
   "outputs": [],
   "source": [
    "write_netcdf('synthetic_depth.nc', grid, format='NETCDF3_64BIT', names='soil__mean_watertable_depth')"
   ]
  },
  {
   "cell_type": "code",
   "execution_count": null,
   "metadata": {},
   "outputs": [],
   "source": []
  }
 ],
 "metadata": {
  "kernelspec": {
   "display_name": "Python 3",
   "language": "python",
   "name": "python3"
  },
  "language_info": {
   "codemirror_mode": {
    "name": "ipython",
    "version": 3
   },
   "file_extension": ".py",
   "mimetype": "text/x-python",
   "name": "python",
   "nbconvert_exporter": "python",
   "pygments_lexer": "ipython3",
   "version": "3.7.7"
  }
 },
 "nbformat": 4,
 "nbformat_minor": 2
}
