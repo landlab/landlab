{
 "cells": [
  {
   "cell_type": "markdown",
   "metadata": {},
   "source": [
    "# Landlab Synthetic NetCDF Builder\n",
    "\n",
    "<img src=\"https://www.washington.edu/brand/files/2014/09/W-Logo_Purple_Hex.png\" style=\"float:right;width:200px;padding:20px\">   \n",
    "\n",
    "\n",
    "<br />\n",
    "This Jupyter Notebook runs the Landlab LandslideProbability component on a synthetic \n",
    "Landlab grid using four depth to water table options to replace recharge options described in the paper: <br />\n",
    "#### Strauch et al. 2018. A hydro-climatological approach to predicting regional landslide probability using Landlab. Earth Surface Dynamics, 6, 1-26. <br /> \n",
    "This notebook performs the following functions:<br >\n",
    "* Import libraries and set HydroShare variables<br />\n",
    "* Create a grid and data fields used to calculate landslide probability<br />\n",
    "* Specify Depth to Water Table Distributions to compare four options<br /> \n",
    "* Run LandslideProbability function from Landlab landslide component<br /> \n",
    "* Compare the sensitivity based on four Depth to Water Table options<br /> \n"
   ]
  },
  {
   "cell_type": "code",
   "execution_count": 1,
   "metadata": {},
   "outputs": [
    {
     "ename": "ModuleNotFoundError",
     "evalue": "No module named 'landslide_probability'",
     "output_type": "error",
     "traceback": [
      "\u001b[1;31m---------------------------------------------------------------------------\u001b[0m",
      "\u001b[1;31mModuleNotFoundError\u001b[0m                       Traceback (most recent call last)",
      "\u001b[1;32m<ipython-input-1-af407f55c58e>\u001b[0m in \u001b[0;36m<module>\u001b[1;34m\u001b[0m\n\u001b[1;32m----> 1\u001b[1;33m \u001b[1;32mimport\u001b[0m \u001b[0mlandslide_probability\u001b[0m\u001b[1;33m\u001b[0m\u001b[1;33m\u001b[0m\u001b[0m\n\u001b[0m\u001b[0;32m      2\u001b[0m \u001b[1;32mfrom\u001b[0m \u001b[0mlandslide_probability_20191122\u001b[0m \u001b[1;32mimport\u001b[0m \u001b[0mLandslideProbability\u001b[0m\u001b[1;33m\u001b[0m\u001b[1;33m\u001b[0m\u001b[0m\n\u001b[0;32m      3\u001b[0m \u001b[1;32mfrom\u001b[0m \u001b[0mlandlab\u001b[0m \u001b[1;32mimport\u001b[0m \u001b[0mRasterModelGrid\u001b[0m\u001b[1;33m\u001b[0m\u001b[1;33m\u001b[0m\u001b[0m\n\u001b[0;32m      4\u001b[0m \u001b[1;32mfrom\u001b[0m \u001b[0mlandlab\u001b[0m \u001b[1;32mimport\u001b[0m \u001b[0mimshow_grid_at_node\u001b[0m\u001b[1;33m\u001b[0m\u001b[1;33m\u001b[0m\u001b[0m\n\u001b[0;32m      5\u001b[0m \u001b[1;33m\u001b[0m\u001b[0m\n",
      "\u001b[1;31mModuleNotFoundError\u001b[0m: No module named 'landslide_probability'"
     ]
    }
   ],
   "source": [
    "import landslide_probability\n",
    "from landslide_probability_20191122 import LandslideProbability\n",
    "from landlab import RasterModelGrid\n",
    "from landlab import imshow_grid_at_node\n",
    "\n",
    "from landlab.io.netcdf import read_netcdf\n",
    "from landlab.io.netcdf import write_netcdf\n",
    "\n",
    "import numpy as np\n"
   ]
  },
  {
   "cell_type": "code",
   "execution_count": 6,
   "metadata": {},
   "outputs": [
    {
     "data": {
      "text/plain": [
       "array([[ 0,  1,  2,  3],\n",
       "       [ 4,  5,  6,  7],\n",
       "       [ 8,  9, 10, 11],\n",
       "       [12, 13, 14, 15],\n",
       "       [16, 17, 18, 19]])"
      ]
     },
     "execution_count": 6,
     "metadata": {},
     "output_type": "execute_result"
    }
   ],
   "source": [
    "grid.nodes"
   ]
  },
  {
   "cell_type": "code",
   "execution_count": 2,
   "metadata": {},
   "outputs": [],
   "source": [
    "grid = RasterModelGrid((5, 4))"
   ]
  },
  {
   "cell_type": "code",
   "execution_count": 3,
   "metadata": {},
   "outputs": [
    {
     "data": {
      "text/plain": [
       "True"
      ]
     },
     "execution_count": 3,
     "metadata": {},
     "output_type": "execute_result"
    }
   ],
   "source": [
    "grid.shape == (5, 4)"
   ]
  },
  {
   "cell_type": "code",
   "execution_count": 15,
   "metadata": {},
   "outputs": [
    {
     "name": "stdout",
     "output_type": "stream",
     "text": [
      "Depth to water table distribution\n",
      "[ 2.94764915  4.5518985   4.51317494  3.12829783  4.40975043  4.85842923\n",
      "  4.40760181  4.79682007  3.62401508  2.00636083  2.36731278  4.11948297\n",
      "  2.47985394  2.19269635  4.29566144  4.92520653  2.73033403  4.35000257\n",
      "  3.71816582  2.95165304  3.52029699  2.52622749  4.94518147  3.98906749\n",
      "  3.77756752  3.46362679  3.57929672  4.08341946  4.49897256  2.38557277\n",
      "  3.89427523  4.72380595  3.51613477  3.02919177  2.24024252  4.87454789\n",
      "  2.40958675  2.76167359  4.83092379  4.00743408  3.05055406  3.46536389\n",
      "  4.25144467  2.50221547  4.0775255   4.89307423  2.12445726  4.74356892\n",
      "  4.10206498  3.08136054]\n",
      "Mean depth to water table from uniform distribution\n",
      "3.65446084885\n",
      "Mean Depth to water table - uniform for all nodes\n",
      "[ 3.65446085  3.65446085  3.65446085  3.65446085  3.65446085  3.65446085\n",
      "  3.65446085  3.65446085  3.65446085  3.65446085  3.65446085  3.65446085\n",
      "  3.65446085  3.65446085  3.65446085  3.65446085  3.65446085  3.65446085\n",
      "  3.65446085  3.65446085]\n"
     ]
    }
   ],
   "source": [
    "n=50\n",
    "gridnodes = grid.number_of_nodes\n",
    "grid_size = grid.number_of_nodes\n",
    "\n",
    "Demin_value = 2 \n",
    "Demax_value = 5\n",
    "distribution1 = 'uniform'\n",
    "depth_dist = np.random.uniform(Demin_value, Demax_value,size=n)\n",
    "print('Depth to water table distribution')\n",
    "print(depth_dist)\n",
    "\n",
    "mean_depth=np.mean(depth_dist)\n",
    "grid['node']['soil__mean_watertable_depth']=mean_depth* np.ones(gridnodes)\n",
    "\n",
    "print('Mean depth to water table from uniform distribution')\n",
    "print(mean_depth)\n",
    "print('Mean Depth to water table - uniform for all nodes')\n",
    "print(grid['node']['soil__mean_watertable_depth'])"
   ]
  },
  {
   "cell_type": "code",
   "execution_count": 16,
   "metadata": {},
   "outputs": [
    {
     "data": {
      "text/plain": [
       "(1.0, 1.0)"
      ]
     },
     "execution_count": 16,
     "metadata": {},
     "output_type": "execute_result"
    }
   ],
   "source": [
    "grid.dy, grid.dx"
   ]
  },
  {
   "cell_type": "code",
   "execution_count": 17,
   "metadata": {},
   "outputs": [
    {
     "data": {
      "text/plain": [
       "['soil__mean_watertable_depth']"
      ]
     },
     "execution_count": 17,
     "metadata": {},
     "output_type": "execute_result"
    }
   ],
   "source": [
    "list(grid.at_node.keys())"
   ]
  },
  {
   "cell_type": "code",
   "execution_count": 18,
   "metadata": {},
   "outputs": [
    {
     "data": {
      "text/plain": [
       "array([ 3.65446085,  3.65446085,  3.65446085,  3.65446085,  3.65446085,\n",
       "        3.65446085,  3.65446085,  3.65446085,  3.65446085,  3.65446085,\n",
       "        3.65446085,  3.65446085,  3.65446085,  3.65446085,  3.65446085,\n",
       "        3.65446085,  3.65446085,  3.65446085,  3.65446085,  3.65446085])"
      ]
     },
     "execution_count": 18,
     "metadata": {},
     "output_type": "execute_result"
    }
   ],
   "source": [
    "grid.at_node['soil__mean_watertable_depth']"
   ]
  },
  {
   "cell_type": "code",
   "execution_count": 19,
   "metadata": {},
   "outputs": [],
   "source": [
    "write_netcdf('synthetic_depth.nc', grid, format='NETCDF3_64BIT', names='soil__mean_watertable_depth')"
   ]
  },
  {
   "cell_type": "code",
   "execution_count": null,
   "metadata": {},
   "outputs": [],
   "source": []
  }
 ],
 "metadata": {
  "kernelspec": {
   "display_name": "Python 3",
   "language": "python",
   "name": "python3"
  },
  "language_info": {
   "codemirror_mode": {
    "name": "ipython",
    "version": 3
   },
   "file_extension": ".py",
   "mimetype": "text/x-python",
   "name": "python",
   "nbconvert_exporter": "python",
   "pygments_lexer": "ipython3",
   "version": "3.7.7"
  }
 },
 "nbformat": 4,
 "nbformat_minor": 2
}
