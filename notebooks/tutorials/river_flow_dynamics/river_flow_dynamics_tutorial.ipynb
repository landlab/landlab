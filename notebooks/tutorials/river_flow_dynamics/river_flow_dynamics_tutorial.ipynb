{
 "cells": [
  {
   "cell_type": "markdown",
   "metadata": {},
   "source": [
    "\n",
    "<a href=\"http://landlab.github.io\"><img style=\"float: left\" src=\"../../landlab_header.png\"></a>"
   ]
  },
  {
   "cell_type": "markdown",
   "metadata": {},
   "source": [
    "# 2D Surface Water Flow component\n"
   ]
  },
  {
   "cell_type": "markdown",
   "metadata": {},
   "source": [
    "<hr>\n",
    "<small>For more Landlab tutorials, click here: <a href=\"https://landlab.readthedocs.io/en/latest/user_guide/tutorials.html\">https://landlab.readthedocs.io/en/latest/user_guide/tutorials.html</a></small>\n",
    "<hr>"
   ]
  },
  {
   "cell_type": "markdown",
   "metadata": {},
   "source": [
    "## Overview\n",
    "\n",
    "This notebook demonstrate the usage of the `river flow dynamics` Landlab component. The component runs a semi-implicit, semi-Lagrangian finite-volume approximation to the depth-averaged 2D shallow-water equations of Casulli and Cheng (1992) and related work.\n",
    "\n",
    "### Theory\n",
    "\n",
    "The depth-averaged 2D shallow-water equations are the simplification of the Navier-Stokes equations, which correspond to the balance of momentum and mass in the fluid. It is possible to simplify these equations by assuming a well-mixed water column and a small water depth to width ratio, where a vertical integration results in depth-averaged equations. These require boundary conditions at the top and bottom of the water column, which are provided by the wind stress and the Manning-Chezy formula, respectively:\n",
    "\n",
    "$$\n",
    "\\frac{\\partial U}{\\partial t}\n",
    "+ U\\frac{\\partial U}{\\partial x} + V\\frac{\\partial U}{\\partial y}\n",
    "= \n",
    "- g\\frac{\\partial \\eta}{\\partial x}\n",
    "+ \\epsilon\\left(\\frac{\\partial^2 U}{\\partial x^2} + \\frac{\\partial^2 U}{\\partial y^2}\\right)\n",
    "+ \\frac{\\gamma_T(U_a - U)}{H} - g\\frac{\\sqrt{U^2 + V^2}}{Cz^2}U + \\mathbf{f}V\n",
    "$$\n",
    "\n",
    "$$\n",
    "\\frac{\\partial V}{\\partial t}\n",
    "+ U\\frac{\\partial V}{\\partial x} + V\\frac{\\partial V}{\\partial y}\n",
    "= \n",
    "- g\\frac{\\partial \\eta}{\\partial y}\n",
    "+ \\epsilon\\left(\\frac{\\partial^2 V}{\\partial x^2} + \\frac{\\partial^2 V}{\\partial y^2}\\right)\n",
    "+ \\frac{\\gamma_T(V_a - V)}{H} - g\\frac{\\sqrt{U^2 + V^2}}{Cz^2}V + \\mathbf{f}U\n",
    "$$\n",
    "\n",
    "$$\n",
    "\\frac{\\partial \\eta}{\\partial t}\n",
    "+ \\frac{\\partial (HU)}{\\partial x} + \\frac{\\partial (HV)}{\\partial y}\n",
    "= 0\n",
    "$$\n",
    "\n",
    "where $U$ is the water velocity in the $x$-direction, $V$ is the water velocity in the $y$-direction, $H$ is the water depth, $\\eta$ is the water surface elevation, $Cz$ is the Chezy friction coefficient, and $t$ is time. For the constants $g$ is the gravity acceleration, $\\epsilon$ is the horizontal eddy viscosity, $\\mathbf{f}$ is the Coriolis parameter, $\\gamma_T$ is the wind stress coefficient, and $U_a$ and $V_a$ are the prescribed wind velocities.\n",
    "\n",
    "### Numerical representation\n",
    "\n",
    "A semi-implicit, semi-Lagrangian, finite volume numerical approximation represents the depth averaged, 2D shallow-water equations described before. The water surface elevation, $\\eta$, is defined at the center of each computational volume (nodes). Water depth, $H$, and velocity components, $U$ and $V$, are defined at the midpoint of volume faces (links). The finite volume structure provides a control volume representation that is inherently mass conservative.\n",
    "\n",
    "The combination of a semi-implciit water surface elevation solution and a semi-Lagrangian representation of advection provides the advantages of a stable solution and of time steps that exceed the CFL criterion. In the semi-implicit process, $\\eta$ in the momentum equations, and the velocity divergence in the continuity equation, are trated implicitly. The advective terms in the momentum equations, are discretized explicitly. See the cited literature for more details.\n",
    "\n",
    "### The component\n",
    "\n",
    "Import the needed libraries:"
   ]
  },
  {
   "cell_type": "code",
   "execution_count": null,
   "metadata": {},
   "outputs": [],
   "source": [
    "import matplotlib.pyplot as plt\n",
    "import numpy as np\n",
    "from IPython.display import clear_output\n",
    "\n",
    "from landlab import RasterModelGrid\n",
    "from landlab.components import river_flow_dynamics\n",
    "from landlab.io import read_esri_ascii\n",
    "from landlab.plot.imshow import imshow_grid"
   ]
  },
  {
   "cell_type": "markdown",
   "metadata": {},
   "source": [
    "## Information about the component\n",
    "\n",
    "Using the class name as argument for the `help` function returns descriptions of the various methods and parameters."
   ]
  },
  {
   "cell_type": "code",
   "execution_count": null,
   "metadata": {},
   "outputs": [],
   "source": [
    "help(river_flow_dynamics)"
   ]
  },
  {
   "cell_type": "markdown",
   "metadata": {},
   "source": [
    "## Examples\n",
    "\n",
    "-- --\n",
    "\n",
    "### Example 1: Flow in a rectangular channel 6.0 m long\n",
    "\n",
    "This first basic example illustrates water flowing through a rectangular channel 1.0 $m$ wide and 6.0 $m$ long. Our channel is made in concrete, so we choose a Manning's roughness coefficient equal to 0.012 $s/m^\\frac{1}{3}$, and it has a slope of 0.01 $m/m$.\n",
    "\n",
    "We specify some basic parameters such as the grid resolution, time step duration, number of time steps, and the domain dimensions by specifying the number of columns and rows. "
   ]
  },
  {
   "cell_type": "code",
   "execution_count": null,
   "metadata": {},
   "outputs": [],
   "source": [
    "# Basic parameters\n",
    "n = 0.012  # Manning's roughness coefficient, [s/m^(1/3)]\n",
    "S0 = 0.01  # Channel slope [m/m]\n",
    "\n",
    "# Simulation parameters\n",
    "n_timesteps = 100  # Number of timesteps\n",
    "dt = 0.1  # Timestep duration, [s]\n",
    "nrows = 20  # Number of node rows\n",
    "ncols = 60  # Number of node cols\n",
    "dx = 0.1  # Node spacing in the x-direction, [m]\n",
    "dy = 0.1  # Node spacing in the y-direction, [m]"
   ]
  },
  {
   "cell_type": "markdown",
   "metadata": {},
   "source": [
    "Create the grid:"
   ]
  },
  {
   "cell_type": "code",
   "execution_count": null,
   "metadata": {},
   "outputs": [],
   "source": [
    "# Create and set up the grid\n",
    "grid = RasterModelGrid((nrows, ncols), xy_spacing=(dx, dy))"
   ]
  },
  {
   "cell_type": "markdown",
   "metadata": {},
   "source": [
    "Create the elevation field and define the topography to represent our rectangular channel:"
   ]
  },
  {
   "cell_type": "code",
   "execution_count": null,
   "metadata": {},
   "outputs": [],
   "source": [
    "# The grid represents a basic rectangular channel with slope equal to 0.01 m/m\n",
    "te = grid.add_zeros(\"topographic__elevation\", at=\"node\")\n",
    "te += 1.0 - S0 * grid.x_of_node\n",
    "te[grid.y_of_node > 1.5] = 2.5\n",
    "te[grid.y_of_node < 0.5] = 2.5"
   ]
  },
  {
   "cell_type": "markdown",
   "metadata": {},
   "source": [
    "We show a top view of the domain:"
   ]
  },
  {
   "cell_type": "code",
   "execution_count": null,
   "metadata": {},
   "outputs": [],
   "source": [
    "# Showing the topography\n",
    "imshow_grid(grid, \"topographic__elevation\")"
   ]
  },
  {
   "cell_type": "markdown",
   "metadata": {},
   "source": [
    "The channel is empty at the beginning of the simulation, so we create the fields for the water surface elevation, depth and velocity:"
   ]
  },
  {
   "cell_type": "code",
   "execution_count": null,
   "metadata": {},
   "outputs": [],
   "source": [
    "# We establish the initial conditions, which represent an empty channel\n",
    "h = grid.add_zeros(\"surface_water__depth\", at=\"node\")\n",
    "\n",
    "# Water velocity is zero in everywhere since there is no water yet\n",
    "vel = grid.add_zeros(\"surface_water__velocity\", at=\"link\")\n",
    "\n",
    "# Calculating the initial water surface elevation from water depth and topographic elevation\n",
    "wse = grid.add_zeros(\"surface_water__elevation\", at=\"node\")\n",
    "wse += h + te"
   ]
  },
  {
   "cell_type": "markdown",
   "metadata": {},
   "source": [
    "Then, we specify the nodes at which water is entering into the domain, and also the associated links. These are going to be the entry boundary conditions for water depth and velocity. In this case, water flows from left to right at 0.5 $m$ depth, with a velocity of 0.45 $m/s$:"
   ]
  },
  {
   "cell_type": "code",
   "execution_count": null,
   "metadata": {},
   "outputs": [],
   "source": [
    "# We set fixed boundary conditions, specifying the nodes and links in which the water is flowing into the grid\n",
    "fixed_entry_nodes = np.array([300, 360, 420, 480, 540, 600, 660, 720, 780, 840, 900])\n",
    "fixed_entry_links = grid.links_at_node[fixed_entry_nodes][:, 0]\n",
    "\n",
    "# We set the fixed values in the entry nodes/links\n",
    "entry_nodes_h_values = np.array([0.5, 0.5, 0.5, 0.5, 0.5, 0.5, 0.5, 0.5, 0.5, 0.5, 0.5])\n",
    "entry_links_vel_values = np.array(\n",
    "    [0.45, 0.45, 0.45, 0.45, 0.45, 0.45, 0.45, 0.45, 0.45, 0.45, 0.45]\n",
    ")"
   ]
  },
  {
   "cell_type": "markdown",
   "metadata": {},
   "source": [
    "And now we show the boundary condition in the cross-section:"
   ]
  },
  {
   "cell_type": "code",
   "execution_count": null,
   "metadata": {},
   "outputs": [],
   "source": [
    "plt.plot(\n",
    "    grid.y_of_node[fixed_entry_nodes], entry_nodes_h_values + te[fixed_entry_nodes]\n",
    ")\n",
    "plt.plot(grid.y_of_node[grid.nodes_at_left_edge], te[grid.nodes_at_left_edge])\n",
    "plt.title(\"Cross-section\")\n",
    "plt.xlabel(\"Distance [m]\")\n",
    "plt.ylabel(\"Elevation [m]\")\n",
    "plt.axis([0.25, 1.75, 0.75, 2.75])\n",
    "plt.grid(True)"
   ]
  },
  {
   "cell_type": "markdown",
   "metadata": {},
   "source": [
    "We construct our component by passing the arguments we defined previously:"
   ]
  },
  {
   "cell_type": "code",
   "execution_count": null,
   "metadata": {},
   "outputs": [],
   "source": [
    "# Finally, we run the model and let the water fill our channel\n",
    "rfd = river_flow_dynamics(\n",
    "    grid,\n",
    "    dt=dt,\n",
    "    mannings_n=n,\n",
    "    fixed_entry_nodes=fixed_entry_nodes,\n",
    "    fixed_entry_links=fixed_entry_links,\n",
    "    entry_nodes_h_values=entry_nodes_h_values,\n",
    "    entry_links_vel_values=entry_links_vel_values,\n",
    ")"
   ]
  },
  {
   "cell_type": "markdown",
   "metadata": {},
   "source": [
    "And finally, we run the simulation for 100 timesteps (10 seconds).\n"
   ]
  },
  {
   "cell_type": "code",
   "execution_count": null,
   "metadata": {},
   "outputs": [],
   "source": [
    "# The simulation may take a long time to run,\n",
    "# so we added a progress report\n",
    "progress0 = 0\n",
    "\n",
    "# Set displayAnimation to True if you want to see how\n",
    "# the water moves throughout the channel\n",
    "displayAnimation = True\n",
    "displayAnimationFreq = 5\n",
    "disp = 0\n",
    "\n",
    "for timestep in range(n_timesteps):\n",
    "    rfd.run_one_step()\n",
    "\n",
    "    progress = int(((timestep + 1) / n_timesteps) * 100)\n",
    "    if progress > progress0 + 1:\n",
    "        print(\"\\r\" + f\"Progress: [{progress}%]\", end=\"\")\n",
    "        progress0 = progress\n",
    "\n",
    "    if disp >= displayAnimationFreq:\n",
    "        clear_output(wait=True)  # This will clear the previous image\n",
    "        imshow_grid(grid, \"surface_water__depth\")\n",
    "        plt.show()\n",
    "        disp = -1\n",
    "\n",
    "    disp += 1"
   ]
  },
  {
   "cell_type": "markdown",
   "metadata": {},
   "source": [
    "Exploring the water depth results at the latest time:"
   ]
  },
  {
   "cell_type": "code",
   "execution_count": null,
   "metadata": {},
   "outputs": [],
   "source": [
    "imshow_grid(grid, \"surface_water__depth\")"
   ]
  },
  {
   "cell_type": "markdown",
   "metadata": {},
   "source": [
    "And the water surface elevation:"
   ]
  },
  {
   "cell_type": "code",
   "execution_count": null,
   "metadata": {},
   "outputs": [],
   "source": [
    "imshow_grid(grid, \"surface_water__elevation\")"
   ]
  },
  {
   "cell_type": "markdown",
   "metadata": {},
   "source": [
    "-- --\n",
    "## Example 2: Surface water flowing over a DEM\n",
    "\n",
    "On this case, we will import a digital elevation model (DEM) for a side-channel of the Kootenai River, Idaho, US."
   ]
  },
  {
   "cell_type": "code",
   "execution_count": null,
   "metadata": {},
   "outputs": [],
   "source": [
    "# Getting the grid and some parameters\n",
    "asc_file = \"DEM-kootenai_37x50_1x1.asc\"\n",
    "(grid, teDEM) = read_esri_ascii(asc_file, grid=None, reshape=False, name=None, halo=0)"
   ]
  },
  {
   "cell_type": "markdown",
   "metadata": {},
   "source": [
    "Again, we specify some basic parameters such as the time step number and duration. For simplicity, we will keep our previous Manning's coefficient. Notice that we already loaded all the required libraries."
   ]
  },
  {
   "cell_type": "code",
   "execution_count": null,
   "metadata": {},
   "outputs": [],
   "source": [
    "# Basic parameters\n",
    "n = 0.012  # Manning's roughness coefficient, [s/m^(1/3)]\n",
    "\n",
    "# Simulation parameters\n",
    "n_timesteps = 75  # Number of timesteps\n",
    "dt = 1.0  # Timestep duration, [s]"
   ]
  },
  {
   "cell_type": "markdown",
   "metadata": {},
   "source": [
    "Since the topography is provided by the DEM, we just need to assign it to our `\"topographic__elevation\"` field. It also provides the number of nodes and grid spacing, because they are inherent properties of the DEM."
   ]
  },
  {
   "cell_type": "code",
   "execution_count": null,
   "metadata": {},
   "outputs": [],
   "source": [
    "# The grid represents a basic rectangular channel with slope equal to 0.01 m/m\n",
    "te = grid.add_zeros(\"topographic__elevation\", at=\"node\")\n",
    "te += teDEM"
   ]
  },
  {
   "cell_type": "markdown",
   "metadata": {},
   "source": [
    "Let's see our new topography:"
   ]
  },
  {
   "cell_type": "code",
   "execution_count": null,
   "metadata": {},
   "outputs": [],
   "source": [
    "# Showing the topography\n",
    "imshow_grid(grid, \"topographic__elevation\")"
   ]
  },
  {
   "cell_type": "markdown",
   "metadata": {},
   "source": [
    "Our side-channel is empty at the beggining of the simulation, so we create the proper fields:"
   ]
  },
  {
   "cell_type": "code",
   "execution_count": null,
   "metadata": {},
   "outputs": [],
   "source": [
    "# We establish the initial conditions, which represent an empty channel\n",
    "h = grid.add_zeros(\"surface_water__depth\", at=\"node\")\n",
    "\n",
    "# Water velocity is zero in everywhere since there is no water yet\n",
    "vel = grid.add_zeros(\"surface_water__velocity\", at=\"link\")\n",
    "\n",
    "# Calculating the initial water surface elevation from water depth and topographic elevation\n",
    "wse = grid.add_zeros(\"surface_water__elevation\", at=\"node\")\n",
    "wse += h + te"
   ]
  },
  {
   "cell_type": "markdown",
   "metadata": {},
   "source": [
    "Then, we specify the nodes at which water is entering into the domain, and also the associated links. These are going to be our entry boundary conditions for water depth and velocity. On this case, water flows from right to left:"
   ]
  },
  {
   "cell_type": "code",
   "execution_count": null,
   "metadata": {},
   "outputs": [],
   "source": [
    "# We set fixed boundary conditions, specifying the nodes and links in which the water is flowing into the grid\n",
    "fixed_entry_nodes = grid.nodes_at_right_edge\n",
    "fixed_entry_links = grid.links_at_node[fixed_entry_nodes][:, 2]\n",
    "\n",
    "# We set the fixed values in the entry nodes/links\n",
    "entry_nodes_h_values = np.array(\n",
    "    [\n",
    "        0.0,\n",
    "        0.0,\n",
    "        0.0,\n",
    "        0.0,\n",
    "        0.0,\n",
    "        0.0,\n",
    "        0.0,\n",
    "        0.0,\n",
    "        0.0,\n",
    "        0.0,\n",
    "        0.0,\n",
    "        0.0,\n",
    "        0.04998779,\n",
    "        0.05999756,\n",
    "        0.03997803,\n",
    "        0.0,\n",
    "        0.0,\n",
    "        0.0,\n",
    "        0.05999756,\n",
    "        0.10998535,\n",
    "        0.12994385,\n",
    "        0.09997559,\n",
    "        0.15997314,\n",
    "        0.23999023,\n",
    "        0.30999756,\n",
    "        0.36999512,\n",
    "        0.45996094,\n",
    "        0.50994873,\n",
    "        0.54998779,\n",
    "        0.59997559,\n",
    "        0.63995361,\n",
    "        0.65997314,\n",
    "        0.65997314,\n",
    "        0.60998535,\n",
    "        0.5,\n",
    "        0.13995361,\n",
    "        0.0,\n",
    "    ]\n",
    ")\n",
    "entry_links_vel_values = np.array(\n",
    "    [\n",
    "        0.0,\n",
    "        0.0,\n",
    "        0.0,\n",
    "        0.0,\n",
    "        0.0,\n",
    "        0.0,\n",
    "        0.0,\n",
    "        0.0,\n",
    "        0.0,\n",
    "        0.0,\n",
    "        0.0,\n",
    "        0.0,\n",
    "        -2.58638018,\n",
    "        -2.58638018,\n",
    "        -2.58638018,\n",
    "        0.0,\n",
    "        0.0,\n",
    "        0.0,\n",
    "        -2.58638018,\n",
    "        -2.58638018,\n",
    "        -2.58638018,\n",
    "        -2.58638018,\n",
    "        -2.58638018,\n",
    "        -2.58638018,\n",
    "        -2.58638018,\n",
    "        -2.58638018,\n",
    "        -2.58638018,\n",
    "        -2.58638018,\n",
    "        -2.58638018,\n",
    "        -2.58638018,\n",
    "        -2.58638018,\n",
    "        -2.58638018,\n",
    "        -2.58638018,\n",
    "        -2.58638018,\n",
    "        -2.58638018,\n",
    "        -2.58638018,\n",
    "        0.0,\n",
    "    ]\n",
    ")"
   ]
  },
  {
   "cell_type": "markdown",
   "metadata": {},
   "source": [
    "Now we can plot our entry boundary condition in the cross-section:"
   ]
  },
  {
   "cell_type": "code",
   "execution_count": null,
   "metadata": {},
   "outputs": [],
   "source": [
    "plt.plot(\n",
    "    grid.y_of_node[fixed_entry_nodes], entry_nodes_h_values + te[fixed_entry_nodes]\n",
    ")\n",
    "plt.plot(grid.y_of_node[grid.nodes_at_right_edge], te[grid.nodes_at_right_edge])\n",
    "plt.title(\"Entry cross-section\")\n",
    "plt.xlabel(\"Distance [m]\")\n",
    "plt.ylabel(\"Elevation [m]\")\n",
    "plt.grid(True)"
   ]
  },
  {
   "cell_type": "markdown",
   "metadata": {},
   "source": [
    "Then we create the component by passing the arguments defined previously:"
   ]
  },
  {
   "cell_type": "code",
   "execution_count": null,
   "metadata": {},
   "outputs": [],
   "source": [
    "# Finally, we run the model and let the water fill our channel\n",
    "rfd = river_flow_dynamics(\n",
    "    grid,\n",
    "    dt=dt,\n",
    "    mannings_n=n,\n",
    "    fixed_entry_nodes=fixed_entry_nodes,\n",
    "    fixed_entry_links=fixed_entry_links,\n",
    "    entry_nodes_h_values=entry_nodes_h_values,\n",
    "    entry_links_vel_values=entry_links_vel_values,\n",
    ")"
   ]
  },
  {
   "cell_type": "markdown",
   "metadata": {},
   "source": [
    "And we run 75 time steps of 1 $s$ duration (around 1 minute of computing time):"
   ]
  },
  {
   "cell_type": "code",
   "execution_count": null,
   "metadata": {},
   "outputs": [],
   "source": [
    "# The simulation may take a long time to run,\n",
    "# so we added a progress report\n",
    "progress0 = 0\n",
    "\n",
    "# Set displayAnimation to True if you want to see how\n",
    "# the water moves throughout the channel\n",
    "displayAnimation = True\n",
    "displayAnimationFreq = 5\n",
    "disp = 0\n",
    "\n",
    "for timestep in range(n_timesteps):\n",
    "    rfd.run_one_step()\n",
    "\n",
    "    progress = int(((timestep + 1) / n_timesteps) * 100)\n",
    "    if progress > progress0 + 1:\n",
    "        print(\"\\r\" + f\"Progress: [{progress}%]\", end=\"\")\n",
    "        progress0 = progress\n",
    "\n",
    "    if disp >= displayAnimationFreq:\n",
    "        clear_output(wait=True)  # This will clear the previous image\n",
    "        imshow_grid(grid, \"surface_water__depth\")\n",
    "        plt.show()\n",
    "        disp = -1\n",
    "\n",
    "    disp += 1"
   ]
  },
  {
   "cell_type": "markdown",
   "metadata": {},
   "source": [
    "Finally, we can explore the results by plotting the resulting water depth:"
   ]
  },
  {
   "cell_type": "code",
   "execution_count": null,
   "metadata": {},
   "outputs": [],
   "source": [
    "imshow_grid(grid, \"surface_water__depth\")"
   ]
  },
  {
   "cell_type": "markdown",
   "metadata": {},
   "source": [
    "-- --\n",
    "### And that's it! \n",
    "\n",
    "Nice work completing this tutorial. You know now how to use the `river_flow_dynamics` Landlab component to run your own simulations :)\n",
    "\n",
    "-- --\n",
    "\n"
   ]
  },
  {
   "cell_type": "markdown",
   "metadata": {},
   "source": [
    "### Click here for more <a href=\"https://landlab.readthedocs.io/en/latest/user_guide/tutorials.html\">Landlab tutorials</a>"
   ]
  }
 ],
 "metadata": {
  "kernelspec": {
   "display_name": "Python 3 (ipykernel)",
   "language": "python",
   "name": "python3"
  },
  "language_info": {
   "codemirror_mode": {
    "name": "ipython",
    "version": 3
   },
   "file_extension": ".py",
   "mimetype": "text/x-python",
   "name": "python",
   "nbconvert_exporter": "python",
   "pygments_lexer": "ipython3",
   "version": "3.11.5"
  }
 },
 "nbformat": 4,
 "nbformat_minor": 2
}
