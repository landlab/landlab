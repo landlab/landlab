{
 "cells": [
  {
   "cell_type": "markdown",
   "metadata": {},
   "source": [
    "<a href=\"http://landlab.github.io\"><img style=\"float: left\" src=\"../../landlab_header.png\"></a>"
   ]
  },
  {
   "cell_type": "markdown",
   "metadata": {},
   "source": [
    "# Using the Landlab NetworkSedimentTransporter component to initialize bed sediment\n",
    "\n",
    "<hr>\n",
    "<small>For more Landlab tutorials, click here: <a href=\"https://landlab.readthedocs.io/en/latest/user_guide/tutorials.html\">https://landlab.readthedocs.io/en/latest/user_guide/tutorials.html</a></small>\n",
    "<hr>\n",
    "\n",
    "This tutorial illustrates how to initialize a stable bed to model the transport of coarse sediment through a river network using the NetworkSedimentTransporter Landlab component. For an equivalent tutorial demonstrating initialization of the NetworkSedimentTransporter with a *synthetic network model grid*, <a href=\"http://localhost:8888/notebooks/Documents/GitHub/landlab/notebooks/tutorials/network_sediment_transporter/network_sediment_transporter.ipynb\">click here</a></small>.\n",
    "\n",
    "In this example we will: \n",
    "- load a river network shapefile to create a Landlab grid to represent a river network\n",
    "- estimate initial sediment size and \"parcels\"\n",
    "- create sediment \"parcels\" that will transport through the river network, represented as items in a Landlab DataRecord\n",
    "- run the component\n",
    "- plot the results of the model run"
   ]
  },
  {
   "cell_type": "markdown",
   "metadata": {},
   "source": [
    "Import the necessary libraries, plus a bit of magic so that we can plot within this notebook:"
   ]
  },
  {
   "cell_type": "code",
   "execution_count": 4,
   "metadata": {},
   "outputs": [],
   "source": [
    "import warnings\n",
    "warnings.filterwarnings('ignore')\n",
    "\n",
    "import os\n",
    "import pathlib\n",
    "import matplotlib.pyplot as plt\n",
    "import pandas as pd\n",
    "import numpy as np\n",
    "import xarray as xr\n",
    "import scipy.constants\n",
    "from landlab.components import FlowDirectorSteepest, NetworkSedimentTransporter\n",
    "from landlab.components import BedParcelInitializerDischarge, BedParcelInitializerDepth, BedParcelInitializerArea, BedParcelInitializerUserD50\n",
    "from landlab.data_record import DataRecord\n",
    "from landlab.grid.network import NetworkModelGrid\n",
    "from landlab.plot import graph\n",
    "from landlab.io import read_shapefile\n",
    "from landlab import ExampleData\n",
    "\n",
    "from landlab.plot import plot_network_and_parcels\n",
    "%matplotlib inline"
   ]
  },
  {
   "cell_type": "markdown",
   "metadata": {},
   "source": [
    "## 1. Load a shapefile that represents the river network\n",
    "\n",
    "First, we need to create a Landlab NetworkModelGrid to represent the river network. Each link on the grid represents a reach of river. Each node represents a break between reaches. All tributary junctions must be associated with grid nodes. "
   ]
  },
  {
   "cell_type": "code",
   "execution_count": 5,
   "metadata": {},
   "outputs": [],
   "source": [
    "datadir = ExampleData(\"io/shapefile\", case=\"redb\").base\n",
    "\n",
    "shp_file =datadir/\"a001_network.shp\"\n",
    "points_shapefile = datadir/\"a001_nodes_att.shp\"\n",
    "\n",
    "grid = read_shapefile(\n",
    "    shp_file,\n",
    "    points_shapefile=points_shapefile,\n",
    "    node_fields=[\"usarea_m2\", \"elev_m\"],\n",
    "    link_fields=[\"usarea_km2\", \"Length_m\", \"Slope\"],\n",
    "    link_field_conversion={\"usarea_km2\": \"drainage_area\", \"Slope\":\"channel_slope\", \"Length_m\":\"reach_length\"},\n",
    "    node_field_conversion={\n",
    "        \"usarea_m2\": \"drainage_area_m2\",\n",
    "        \"elev_m\": \"topographic__elevation\",\n",
    "    },\n",
    "    threshold=0.01,\n",
    "    )"
   ]
  },
  {
   "cell_type": "markdown",
   "metadata": {},
   "source": [
    "Alright, let's see what fields we read in with this shapefile:"
   ]
  },
  {
   "cell_type": "code",
   "execution_count": 6,
   "metadata": {},
   "outputs": [
    {
     "data": {
      "text/plain": [
       "['channel_slope',\n",
       " 'reach_length',\n",
       " 'x_of_polyline',\n",
       " 'drainage_area',\n",
       " 'y_of_polyline']"
      ]
     },
     "execution_count": 6,
     "metadata": {},
     "output_type": "execute_result"
    }
   ],
   "source": [
    "grid.at_link.keys()"
   ]
  },
  {
   "cell_type": "code",
   "execution_count": 7,
   "metadata": {},
   "outputs": [
    {
     "data": {
      "text/plain": [
       "['topographic__elevation', 'drainage_area_m2']"
      ]
     },
     "execution_count": 7,
     "metadata": {},
     "output_type": "execute_result"
    }
   ],
   "source": [
    "grid.at_node.keys()"
   ]
  },
  {
   "cell_type": "markdown",
   "metadata": {},
   "source": [
    "Great! Looks like we have length (reach length), upstream drainage area (drainage area), x and y verticies of each link/reach (x and y of polyline), and bed elevation (topographic elevation).\n",
    "\n",
    "Note that \"reach_length\" is defined by the user, rather than calculated as the minimum distance between nodes. This accounts for channel sinuosity. In this case, \"reach_length\" could be equivalently calculated as the cumulative distance between verticies defined by x and y of polyline."
   ]
  },
  {
   "cell_type": "code",
   "execution_count": 8,
   "metadata": {},
   "outputs": [
    {
     "data": {
      "image/png": "[encoded data removed]",
      "text/plain": [
       "<Figure size 432x288 with 1 Axes>"
      ]
     },
     "metadata": {
      "needs_background": "light"
     },
     "output_type": "display_data"
    }
   ],
   "source": [
    "graph.plot_graph(grid, at=\"node,link\")"
   ]
  },
  {
   "cell_type": "markdown",
   "metadata": {},
   "source": [
    "Our network consists of 12 links (`grid.number_of_links`) between 13 nodes (`grid.number_of_nodes`). In the plot above, X and Y represent the plan-view coordinates of the node locations. \n",
    "\n",
    "Next, we need to populate the grid with the relevant topographic and hydrologic information: "
   ]
  },
  {
   "cell_type": "code",
   "execution_count": 9,
   "metadata": {},
   "outputs": [],
   "source": [
    "grid.at_node[\"bedrock__elevation\"] = grid.at_node[\"topographic__elevation\"].copy()\n",
    "\n",
    "grid.at_link[\"channel_width\"] = 1 * np.ones(grid.number_of_links) # m\n",
    "\n",
    "grid.at_link[\"flow_depth\"] = 0.5 * np.ones(grid.number_of_links) # m"
   ]
  },
  {
   "cell_type": "markdown",
   "metadata": {},
   "source": [
    "We must distinguish between topographic elevation (the top surface of the bed sediment) and bedrock elevation (the surface of the river in the absence of modeled sediment)."
   ]
  },
  {
   "cell_type": "markdown",
   "metadata": {},
   "source": [
    "## 2. Create initial sediment 'parcels' in a DataRecord\n",
    "\n",
    "We represent sediment in the network as discrete parcels (or packages) of grains of uniform size and characteristics. Each parcel is tracked through the network grid according to sediment transport and stratigraphic constraints. \n",
    "\n",
    "Parcels are tracked using the Landlab <a href=\"http://localhost:8888/notebooks/Documents/GitHub/landlab/notebooks/tutorials/data_record/DataRecord_tutorial.ipynb\">DataRecord</a>. \n",
    "\n",
    "#### METHOD 1: discharge\n",
    "We calculate initial sediment grain size (d50) for each link using dominant discharge and channel width (via the Snyder et al.(2013) formula) and then d84 is calculated from standard deivation. Total parcel volume is function of active layer thickness, which is estimated from grain size (d84). We calculate the parcel volume by setting minimum number of parcels as 100. \n",
    "Let's create arrays with all of the essential sediment parcel variables by running the Landlab utility BedParcelInitializer: "
   ]
  },
  {
   "cell_type": "code",
   "execution_count": 10,
   "metadata": {},
   "outputs": [],
   "source": [
    "discharge_at_link = np.full(grid.number_of_links, 80.0)\n",
    "\n",
    "initialize_parcels = BedParcelInitializerDischarge(grid,\n",
    "                                           discharge_at_link = discharge_at_link\n",
    "                                         )\n",
    "parcels = initialize_parcels()"
   ]
  },
  {
   "cell_type": "markdown",
   "metadata": {},
   "source": [
    "#### METHOD 2: depth\n",
    "We calculate initial sediment grain size (d50) for each link using dominant flow depth. Other parcel attributes as above. "
   ]
  },
  {
   "cell_type": "code",
   "execution_count": 11,
   "metadata": {},
   "outputs": [],
   "source": [
    "depth= np.full(grid.number_of_links, 1.0)\n",
    "initialize_parcels = BedParcelInitializerDepth(grid,\n",
    "                                          flow_depth_at_link = depth,\n",
    "                                          )\n",
    "parcels = initialize_parcels()"
   ]
  },
  {
   "cell_type": "markdown",
   "metadata": {},
   "source": [
    "#### METHOD 3: drainage area\n",
    "We calculate initial sediment grain size (d50) for each link using a power law scaling relationship with drainage area. Other parcel attributes as above. "
   ]
  },
  {
   "cell_type": "code",
   "execution_count": 12,
   "metadata": {},
   "outputs": [],
   "source": [
    "initialize_parcels = BedParcelInitializerArea(grid,\n",
    "                                          drainage_area_coefficient = 0.1,\n",
    "                                          drainage_area_exponent = 0.3\n",
    "                                          )\n",
    "\n",
    "parcels = initialize_parcels()"
   ]
  },
  {
   "cell_type": "markdown",
   "metadata": {},
   "source": [
    "#### METHOD 4: user defined $D_{50}$\n",
    "The user can specify either a d50 for each link in the network, or a single d50 for all links. "
   ]
  },
  {
   "cell_type": "code",
   "execution_count": 13,
   "metadata": {},
   "outputs": [],
   "source": [
    "d50_each_link= np.full(grid.number_of_links, 80.0)\n",
    "# or\n",
    "single_d50 = 0.05\n",
    "\n",
    "initialize_parcels = BedParcelInitializerUserD50(grid,\n",
    "                                          # user_d50 = d50_each_link,\n",
    "                                          user_d50 = single_d50\n",
    "                                          )\n",
    "\n",
    "parcels = initialize_parcels()"
   ]
  },
  {
   "cell_type": "markdown",
   "metadata": {},
   "source": [
    "#### Many options available for specifying $D_{50}$\n"
   ]
  },
  {
   "cell_type": "code",
   "execution_count": 14,
   "metadata": {},
   "outputs": [],
   "source": [
    "date =  '2017-11-08 17:50:00'\n",
    "starting_time = pd.to_datetime(date)\n",
    "\n",
    "time = [starting_time]  \n",
    "\n",
    "depth = np.full(grid.number_of_links, 1.2)\n",
    "slope_depend_Shields = 0.15*grid.at_link['channel_slope']**0.25\n",
    "tau_c_multiplier = 2.3 \n",
    "\n",
    "initialize_parcels = BedParcelInitializerDepth(grid,\n",
    "                                          flow_depth_at_link = depth,\n",
    "                                          tau_c_50=slope_depend_Shields,\n",
    "                                          tau_c_multiplier = tau_c_multiplier,\n",
    "                                          median_number_of_starting_parcels= 100,\n",
    "                                          extra_parcel_attributes = ['lithology','Be10_c']\n",
    "                                          )\n",
    "\n",
    "parcels = initialize_parcels()\n",
    "\n",
    "parcels.dataset['lithology'].values = np.full(parcels.number_of_items,'quartzite')\n",
    "parcels.dataset['Be10_c'].values = np.full(parcels.number_of_items,'222.2')"
   ]
  },
  {
   "cell_type": "markdown",
   "metadata": {},
   "source": [
    "In order to track sediment motion, we classify parcels as either active (representing mobile surface sediment) or inactive (immobile subsurface) during each timestep. The active parcels are the most recent parcels to arrive in the link. During a timestep, active parcels are transported downstream (increasing their `location_in_link`, which is a normalized value ranging from 0 to 1) according to a sediment transport formula. \n",
    "\n",
    "We begin by assigning each parcel an arbitrary (and small) arrival time and location in the link. \n",
    "\n",
    "In addition to the required parcel attributes listed above, you can designate optional parcel characteristics, depending on your needs. \n",
    "We now collect the arrays into a dictionary of variables, some of which will be tracked through time (`[\"item_id\", \"time\"]`), and others of which will remain constant through time.\n",
    "With all of the required attributes collected, we can create the parcels DataRecord. Often, parcels will eventually transport off of the downstream-most link. To track these parcels, we have designated a \"`dummy_element`\" here, which has index value `-2`. "
   ]
  },
  {
   "cell_type": "markdown",
   "metadata": {},
   "source": [
    "## XXX. Plot to explore starting parcels\n",
    "\n",
    "What grain size did we end up with? How many parcels per link (check)? Etc. \n",
    "\n",
    "First, how many parcels are on the network?"
   ]
  },
  {
   "cell_type": "code",
   "execution_count": 17,
   "metadata": {},
   "outputs": [
    {
     "data": {
      "text/plain": [
       "1129"
      ]
     },
     "execution_count": 17,
     "metadata": {},
     "output_type": "execute_result"
    }
   ],
   "source": [
    "number_of_pacels = parcels.number_of_items\n",
    "number_of_pacels"
   ]
  },
  {
   "cell_type": "markdown",
   "metadata": {},
   "source": [
    "What are the parcel volumes?"
   ]
  },
  {
   "cell_type": "code",
   "execution_count": 27,
   "metadata": {},
   "outputs": [
    {
     "name": "stdout",
     "output_type": "stream",
     "text": [
      "The largest parcels is 8.929 m^3\n",
      "The median parcels is 8.929 m^3\n",
      "The smallest parcels is 0.249 m^3\n"
     ]
    }
   ],
   "source": [
    "print('The largest parcels is', np.round(np.max(parcels.dataset[\"volume\"].values),3), 'm^3')\n",
    "print('The median parcels is', np.round(np.median(parcels.dataset[\"volume\"].values),3), 'm^3')\n",
    "print('The smallest parcels is', np.round(np.min(parcels.dataset[\"volume\"].values),3), 'm^3')"
   ]
  },
  {
   "cell_type": "markdown",
   "metadata": {},
   "source": [
    "Next, what is the median grain size at each link? \n",
    "\n",
    "*Note: we're not weighting the calculation by parcel volume, which is a trivial simplification since nearly all parcels are the same volume*"
   ]
  },
  {
   "cell_type": "code",
   "execution_count": 30,
   "metadata": {},
   "outputs": [
    {
     "data": {
      "image/png": "[encoded data removed]",
      "text/plain": [
       "<Figure size 432x288 with 3 Axes>"
      ]
     },
     "metadata": {
      "needs_background": "light"
     },
     "output_type": "display_data"
    }
   ],
   "source": [
    "D50 = parcels.calc_aggregate_value(\n",
    "            xr.Dataset.median,\n",
    "            \"D\",\n",
    "            at=\"link\",\n",
    "            #filter_array=parcelfilter, # no need to filter to a specific timestep - we just have one \n",
    "            fill_value=0.0\n",
    "        )\n",
    "\n",
    "fig = plot_network_and_parcels(\n",
    "    grid, parcels,\n",
    "    link_attribute=D50, \n",
    "    link_attribute_title = \"Bulk parcel D50 (m)\",\n",
    "    network_linewidth = 5,\n",
    "    parcel_alpha = 0\n",
    ")"
   ]
  },
  {
   "cell_type": "markdown",
   "metadata": {},
   "source": [
    "What is the volume of sed originating on each link?"
   ]
  },
  {
   "cell_type": "code",
   "execution_count": 19,
   "metadata": {},
   "outputs": [
    {
     "data": {
      "image/png": "[encoded data removed]",
      "text/plain": [
       "<Figure size 432x288 with 3 Axes>"
      ]
     },
     "metadata": {
      "needs_background": "light"
     },
     "output_type": "display_data"
    }
   ],
   "source": [
    "vol_on_link = parcels.calc_aggregate_value(\n",
    "            xr.Dataset.sum,\n",
    "            \"volume\",\n",
    "            at=\"link\",\n",
    "            #filter_array=parcelfilter, # no need to filter to a specific timestep - we just have one \n",
    "            fill_value=0.0\n",
    "        )\n",
    "\n",
    "fig = plot_network_and_parcels(\n",
    "    grid, parcels,\n",
    "    link_attribute=vol_on_link, \n",
    "    link_attribute_title = \"Vol of sed originating on link x\",\n",
    "    network_linewidth = 5,\n",
    "    parcel_alpha = 0\n",
    ")"
   ]
  },
  {
   "cell_type": "markdown",
   "metadata": {},
   "source": [
    "What is the relationship between D50 and channel slope?"
   ]
  },
  {
   "cell_type": "code",
   "execution_count": 33,
   "metadata": {
    "scrolled": true
   },
   "outputs": [
    {
     "data": {
      "text/plain": [
       "Text(0, 0.5, 'D50 (m)')"
      ]
     },
     "execution_count": 33,
     "metadata": {},
     "output_type": "execute_result"
    },
    {
     "data": {
      "image/png": "[encoded data removed]",
      "text/plain": [
       "<Figure size 432x288 with 1 Axes>"
      ]
     },
     "metadata": {
      "needs_background": "light"
     },
     "output_type": "display_data"
    }
   ],
   "source": [
    "plt.plot(grid.at_link[\"channel_slope\"],D50,'.')\n",
    "plt.xlabel('Channel slope')\n",
    "plt.ylabel('D50 (m)')"
   ]
  },
  {
   "cell_type": "markdown",
   "metadata": {},
   "source": [
    "## 3. Run the NetworkSedimentTransporter\n",
    "\n",
    "With the parcels and grid set up, we can move on to setting up the model. "
   ]
  },
  {
   "cell_type": "code",
   "execution_count": 12,
   "metadata": {},
   "outputs": [],
   "source": [
    "timesteps = 10 # total number of timesteps\n",
    "dt = 60 * 60 * 24 *2 # length of timestep (seconds) "
   ]
  },
  {
   "cell_type": "markdown",
   "metadata": {},
   "source": [
    "Before running the NST, we need to determine flow direction on the grid (upstream and downstream for each link). To do so, we initalize and run a Landlab flow director component: "
   ]
  },
  {
   "cell_type": "code",
   "execution_count": 13,
   "metadata": {},
   "outputs": [],
   "source": [
    "fd = FlowDirectorSteepest(grid, \"topographic__elevation\")\n",
    "fd.run_one_step()"
   ]
  },
  {
   "cell_type": "markdown",
   "metadata": {},
   "source": [
    "Then, we initialize the network sediment transporter: "
   ]
  },
  {
   "cell_type": "code",
   "execution_count": 14,
   "metadata": {},
   "outputs": [],
   "source": [
    "nst = NetworkSedimentTransporter(    \n",
    "    grid,\n",
    "    parcels,\n",
    "    fd,\n",
    "    bed_porosity=0.3,\n",
    "    g=9.81,\n",
    "    fluid_density=1000,\n",
    "    transport_method=\"WilcockCrowe\",\n",
    ")"
   ]
  },
  {
   "cell_type": "markdown",
   "metadata": {},
   "source": [
    "Now we are ready to run the model forward in time: "
   ]
  },
  {
   "cell_type": "code",
   "execution_count": 15,
   "metadata": {},
   "outputs": [
    {
     "name": "stdout",
     "output_type": "stream",
     "text": [
      "Model time:  0.0 days passed\n",
      "Model time:  2.0 days passed\n",
      "Model time:  4.0 days passed\n",
      "Model time:  6.0 days passed\n",
      "Model time:  8.0 days passed\n",
      "Model time:  10.0 days passed\n",
      "Model time:  12.0 days passed\n",
      "Model time:  14.0 days passed\n",
      "Model time:  16.0 days passed\n",
      "Model time:  18.0 days passed\n"
     ]
    }
   ],
   "source": [
    "for t in range(0, (timesteps * dt), dt):\n",
    "    nst.run_one_step(dt)\n",
    "    \n",
    "    print(\"Model time: \", t/(60*60*24), \"days passed\")"
   ]
  },
  {
   "cell_type": "markdown",
   "metadata": {},
   "source": [
    "## 4. Plot the model results\n",
    "\n",
    "There are landlab plotting tools specific to the `NetworkSedimentTransporter`. In particular, `plot_network_and_parcels` creates a plan-view map of the network and parcels (represented as dots along the network). We can color both the parcels and the links by attributes.  \n",
    "\n",
    "Here, we demonstrate one example use of `plot_network_and_parcels`. For a thorough tutorial on the plotting tools, see <a href=\"http://localhost:8888/notebooks/Documents/GitHub/landlab/notebooks/tutorials/network_sediment_transporter/network_plotting_examples.ipynb\">this notebook</a>.\n"
   ]
  },
  {
   "cell_type": "markdown",
   "metadata": {},
   "source": [
    "We can color links by values that we calculate. For example, if we are curious about the fate of sediment that started out on link 27, we might want to plot the total volume of sediment that originated on link 27 during a later timestep:"
   ]
  },
  {
   "cell_type": "code",
   "execution_count": 16,
   "metadata": {
    "scrolled": true
   },
   "outputs": [
    {
     "data": {
      "image/png": "[encoded data removed]",
      "text/plain": [
       "<Figure size 432x288 with 3 Axes>"
      ]
     },
     "metadata": {
      "needs_background": "light"
     },
     "output_type": "display_data"
    }
   ],
   "source": [
    "timestep_of_interest = 2\n",
    "originating_link = 1\n",
    "\n",
    "#filter the parcels to calculate total volumes of only the parcels that originated in the chosen link\n",
    "parcelfilter = np.zeros_like(\n",
    "    parcels.dataset.element_id, dtype=bool\n",
    ")\n",
    "parcelfilter[:, timestep_of_interest] = (parcels.dataset.element_id[:,0] == originating_link)\n",
    "\n",
    "vol_orig_link = parcels.calc_aggregate_value(\n",
    "            xr.Dataset.sum,\n",
    "            \"volume\",\n",
    "            at=\"link\",\n",
    "            filter_array=parcelfilter,\n",
    "            fill_value=0.0\n",
    "        )\n",
    "\n",
    "fig = plot_network_and_parcels(\n",
    "    grid, parcels,\n",
    "    link_attribute=vol_orig_link, \n",
    "    link_attribute_title = \"Vol of sed originating on link x\",\n",
    "    network_linewidth = 5,\n",
    "    parcel_alpha = 0\n",
    ")"
   ]
  },
  {
   "cell_type": "markdown",
   "metadata": {},
   "source": [
    "#### Non-network plotting\n",
    "The results of the NST can be visualized by directly accessing information about the grid, the parcels, and by accessing variables stored after the run of NST. \n",
    "\n",
    "As a simple example, we can plot the total volume of parcels on the grid through time. As parcels exit the grid, the total volume decreases.  "
   ]
  },
  {
   "cell_type": "code",
   "execution_count": 17,
   "metadata": {},
   "outputs": [
    {
     "data": {
      "text/html": [
       "<div><svg style=\"position: absolute; width: 0; height: 0; overflow: hidden\">\n",
       "<defs>\n",
       "<symbol id=\"icon-database\" viewBox=\"0 0 32 32\">\n",
       "<path d=\"M16 0c-8.837 0-16 2.239-16 5v4c0 2.761 7.163 5 16 5s16-2.239 16-5v-4c0-2.761-7.163-5-16-5z\"></path>\n",
       "<path d=\"M16 17c-8.837 0-16-2.239-16-5v6c0 2.761 7.163 5 16 5s16-2.239 16-5v-6c0 2.761-7.163 5-16 5z\"></path>\n",
       "<path d=\"M16 26c-8.837 0-16-2.239-16-5v6c0 2.761 7.163 5 16 5s16-2.239 16-5v-6c0 2.761-7.163 5-16 5z\"></path>\n",
       "</symbol>\n",
       "<symbol id=\"icon-file-text2\" viewBox=\"0 0 32 32\">\n",
       "<path d=\"M28.681 7.159c-0.694-0.947-1.662-2.053-2.724-3.116s-2.169-2.030-3.116-2.724c-1.612-1.182-2.393-1.319-2.841-1.319h-15.5c-1.378 0-2.5 1.121-2.5 2.5v27c0 1.378 1.122 2.5 2.5 2.5h23c1.378 0 2.5-1.122 2.5-2.5v-19.5c0-0.448-0.137-1.23-1.319-2.841zM24.543 5.457c0.959 0.959 1.712 1.825 2.268 2.543h-4.811v-4.811c0.718 0.556 1.584 1.309 2.543 2.268zM28 29.5c0 0.271-0.229 0.5-0.5 0.5h-23c-0.271 0-0.5-0.229-0.5-0.5v-27c0-0.271 0.229-0.5 0.5-0.5 0 0 15.499-0 15.5 0v7c0 0.552 0.448 1 1 1h7v19.5z\"></path>\n",
       "<path d=\"M23 26h-14c-0.552 0-1-0.448-1-1s0.448-1 1-1h14c0.552 0 1 0.448 1 1s-0.448 1-1 1z\"></path>\n",
       "<path d=\"M23 22h-14c-0.552 0-1-0.448-1-1s0.448-1 1-1h14c0.552 0 1 0.448 1 1s-0.448 1-1 1z\"></path>\n",
       "<path d=\"M23 18h-14c-0.552 0-1-0.448-1-1s0.448-1 1-1h14c0.552 0 1 0.448 1 1s-0.448 1-1 1z\"></path>\n",
       "</symbol>\n",
       "</defs>\n",
       "</svg>\n",
       "<style>/* CSS stylesheet for displaying xarray objects in jupyterlab.\n",
       " *\n",
       " */\n",
       "\n",
       ":root {\n",
       "  --xr-font-color0: var(--jp-content-font-color0, rgba(0, 0, 0, 1));\n",
       "  --xr-font-color2: var(--jp-content-font-color2, rgba(0, 0, 0, 0.54));\n",
       "  --xr-font-color3: var(--jp-content-font-color3, rgba(0, 0, 0, 0.38));\n",
       "  --xr-border-color: var(--jp-border-color2, #e0e0e0);\n",
       "  --xr-disabled-color: var(--jp-layout-color3, #bdbdbd);\n",
       "  --xr-background-color: var(--jp-layout-color0, white);\n",
       "  --xr-background-color-row-even: var(--jp-layout-color1, white);\n",
       "  --xr-background-color-row-odd: var(--jp-layout-color2, #eeeeee);\n",
       "}\n",
       "\n",
       "html[theme=dark],\n",
       "body.vscode-dark {\n",
       "  --xr-font-color0: rgba(255, 255, 255, 1);\n",
       "  --xr-font-color2: rgba(255, 255, 255, 0.54);\n",
       "  --xr-font-color3: rgba(255, 255, 255, 0.38);\n",
       "  --xr-border-color: #1F1F1F;\n",
       "  --xr-disabled-color: #515151;\n",
       "  --xr-background-color: #111111;\n",
       "  --xr-background-color-row-even: #111111;\n",
       "  --xr-background-color-row-odd: #313131;\n",
       "}\n",
       "\n",
       ".xr-wrap {\n",
       "  display: block !important;\n",
       "  min-width: 300px;\n",
       "  max-width: 700px;\n",
       "}\n",
       "\n",
       ".xr-text-repr-fallback {\n",
       "  /* fallback to plain text repr when CSS is not injected (untrusted notebook) */\n",
       "  display: none;\n",
       "}\n",
       "\n",
       ".xr-header {\n",
       "  padding-top: 6px;\n",
       "  padding-bottom: 6px;\n",
       "  margin-bottom: 4px;\n",
       "  border-bottom: solid 1px var(--xr-border-color);\n",
       "}\n",
       "\n",
       ".xr-header > div,\n",
       ".xr-header > ul {\n",
       "  display: inline;\n",
       "  margin-top: 0;\n",
       "  margin-bottom: 0;\n",
       "}\n",
       "\n",
       ".xr-obj-type,\n",
       ".xr-array-name {\n",
       "  margin-left: 2px;\n",
       "  margin-right: 10px;\n",
       "}\n",
       "\n",
       ".xr-obj-type {\n",
       "  color: var(--xr-font-color2);\n",
       "}\n",
       "\n",
       ".xr-sections {\n",
       "  padding-left: 0 !important;\n",
       "  display: grid;\n",
       "  grid-template-columns: 150px auto auto 1fr 20px 20px;\n",
       "}\n",
       "\n",
       ".xr-section-item {\n",
       "  display: contents;\n",
       "}\n",
       "\n",
       ".xr-section-item input {\n",
       "  display: none;\n",
       "}\n",
       "\n",
       ".xr-section-item input + label {\n",
       "  color: var(--xr-disabled-color);\n",
       "}\n",
       "\n",
       ".xr-section-item input:enabled + label {\n",
       "  cursor: pointer;\n",
       "  color: var(--xr-font-color2);\n",
       "}\n",
       "\n",
       ".xr-section-item input:enabled + label:hover {\n",
       "  color: var(--xr-font-color0);\n",
       "}\n",
       "\n",
       ".xr-section-summary {\n",
       "  grid-column: 1;\n",
       "  color: var(--xr-font-color2);\n",
       "  font-weight: 500;\n",
       "}\n",
       "\n",
       ".xr-section-summary > span {\n",
       "  display: inline-block;\n",
       "  padding-left: 0.5em;\n",
       "}\n",
       "\n",
       ".xr-section-summary-in:disabled + label {\n",
       "  color: var(--xr-font-color2);\n",
       "}\n",
       "\n",
       ".xr-section-summary-in + label:before {\n",
       "  display: inline-block;\n",
       "  content: '►';\n",
       "  font-size: 11px;\n",
       "  width: 15px;\n",
       "  text-align: center;\n",
       "}\n",
       "\n",
       ".xr-section-summary-in:disabled + label:before {\n",
       "  color: var(--xr-disabled-color);\n",
       "}\n",
       "\n",
       ".xr-section-summary-in:checked + label:before {\n",
       "  content: '▼';\n",
       "}\n",
       "\n",
       ".xr-section-summary-in:checked + label > span {\n",
       "  display: none;\n",
       "}\n",
       "\n",
       ".xr-section-summary,\n",
       ".xr-section-inline-details {\n",
       "  padding-top: 4px;\n",
       "  padding-bottom: 4px;\n",
       "}\n",
       "\n",
       ".xr-section-inline-details {\n",
       "  grid-column: 2 / -1;\n",
       "}\n",
       "\n",
       ".xr-section-details {\n",
       "  display: none;\n",
       "  grid-column: 1 / -1;\n",
       "  margin-bottom: 5px;\n",
       "}\n",
       "\n",
       ".xr-section-summary-in:checked ~ .xr-section-details {\n",
       "  display: contents;\n",
       "}\n",
       "\n",
       ".xr-array-wrap {\n",
       "  grid-column: 1 / -1;\n",
       "  display: grid;\n",
       "  grid-template-columns: 20px auto;\n",
       "}\n",
       "\n",
       ".xr-array-wrap > label {\n",
       "  grid-column: 1;\n",
       "  vertical-align: top;\n",
       "}\n",
       "\n",
       ".xr-preview {\n",
       "  color: var(--xr-font-color3);\n",
       "}\n",
       "\n",
       ".xr-array-preview,\n",
       ".xr-array-data {\n",
       "  padding: 0 5px !important;\n",
       "  grid-column: 2;\n",
       "}\n",
       "\n",
       ".xr-array-data,\n",
       ".xr-array-in:checked ~ .xr-array-preview {\n",
       "  display: none;\n",
       "}\n",
       "\n",
       ".xr-array-in:checked ~ .xr-array-data,\n",
       ".xr-array-preview {\n",
       "  display: inline-block;\n",
       "}\n",
       "\n",
       ".xr-dim-list {\n",
       "  display: inline-block !important;\n",
       "  list-style: none;\n",
       "  padding: 0 !important;\n",
       "  margin: 0;\n",
       "}\n",
       "\n",
       ".xr-dim-list li {\n",
       "  display: inline-block;\n",
       "  padding: 0;\n",
       "  margin: 0;\n",
       "}\n",
       "\n",
       ".xr-dim-list:before {\n",
       "  content: '(';\n",
       "}\n",
       "\n",
       ".xr-dim-list:after {\n",
       "  content: ')';\n",
       "}\n",
       "\n",
       ".xr-dim-list li:not(:last-child):after {\n",
       "  content: ',';\n",
       "  padding-right: 5px;\n",
       "}\n",
       "\n",
       ".xr-has-index {\n",
       "  font-weight: bold;\n",
       "}\n",
       "\n",
       ".xr-var-list,\n",
       ".xr-var-item {\n",
       "  display: contents;\n",
       "}\n",
       "\n",
       ".xr-var-item > div,\n",
       ".xr-var-item label,\n",
       ".xr-var-item > .xr-var-name span {\n",
       "  background-color: var(--xr-background-color-row-even);\n",
       "  margin-bottom: 0;\n",
       "}\n",
       "\n",
       ".xr-var-item > .xr-var-name:hover span {\n",
       "  padding-right: 5px;\n",
       "}\n",
       "\n",
       ".xr-var-list > li:nth-child(odd) > div,\n",
       ".xr-var-list > li:nth-child(odd) > label,\n",
       ".xr-var-list > li:nth-child(odd) > .xr-var-name span {\n",
       "  background-color: var(--xr-background-color-row-odd);\n",
       "}\n",
       "\n",
       ".xr-var-name {\n",
       "  grid-column: 1;\n",
       "}\n",
       "\n",
       ".xr-var-dims {\n",
       "  grid-column: 2;\n",
       "}\n",
       "\n",
       ".xr-var-dtype {\n",
       "  grid-column: 3;\n",
       "  text-align: right;\n",
       "  color: var(--xr-font-color2);\n",
       "}\n",
       "\n",
       ".xr-var-preview {\n",
       "  grid-column: 4;\n",
       "}\n",
       "\n",
       ".xr-var-name,\n",
       ".xr-var-dims,\n",
       ".xr-var-dtype,\n",
       ".xr-preview,\n",
       ".xr-attrs dt {\n",
       "  white-space: nowrap;\n",
       "  overflow: hidden;\n",
       "  text-overflow: ellipsis;\n",
       "  padding-right: 10px;\n",
       "}\n",
       "\n",
       ".xr-var-name:hover,\n",
       ".xr-var-dims:hover,\n",
       ".xr-var-dtype:hover,\n",
       ".xr-attrs dt:hover {\n",
       "  overflow: visible;\n",
       "  width: auto;\n",
       "  z-index: 1;\n",
       "}\n",
       "\n",
       ".xr-var-attrs,\n",
       ".xr-var-data {\n",
       "  display: none;\n",
       "  background-color: var(--xr-background-color) !important;\n",
       "  padding-bottom: 5px !important;\n",
       "}\n",
       "\n",
       ".xr-var-attrs-in:checked ~ .xr-var-attrs,\n",
       ".xr-var-data-in:checked ~ .xr-var-data {\n",
       "  display: block;\n",
       "}\n",
       "\n",
       ".xr-var-data > table {\n",
       "  float: right;\n",
       "}\n",
       "\n",
       ".xr-var-name span,\n",
       ".xr-var-data,\n",
       ".xr-attrs {\n",
       "  padding-left: 25px !important;\n",
       "}\n",
       "\n",
       ".xr-attrs,\n",
       ".xr-var-attrs,\n",
       ".xr-var-data {\n",
       "  grid-column: 1 / -1;\n",
       "}\n",
       "\n",
       "dl.xr-attrs {\n",
       "  padding: 0;\n",
       "  margin: 0;\n",
       "  display: grid;\n",
       "  grid-template-columns: 125px auto;\n",
       "}\n",
       "\n",
       ".xr-attrs dt,\n",
       ".xr-attrs dd {\n",
       "  padding: 0;\n",
       "  margin: 0;\n",
       "  float: left;\n",
       "  padding-right: 10px;\n",
       "  width: auto;\n",
       "}\n",
       "\n",
       ".xr-attrs dt {\n",
       "  font-weight: normal;\n",
       "  grid-column: 1;\n",
       "}\n",
       "\n",
       ".xr-attrs dt:hover span {\n",
       "  display: inline-block;\n",
       "  background: var(--xr-background-color);\n",
       "  padding-right: 10px;\n",
       "}\n",
       "\n",
       ".xr-attrs dd {\n",
       "  grid-column: 2;\n",
       "  white-space: pre-wrap;\n",
       "  word-break: break-all;\n",
       "}\n",
       "\n",
       ".xr-icon-database,\n",
       ".xr-icon-file-text2 {\n",
       "  display: inline-block;\n",
       "  vertical-align: middle;\n",
       "  width: 1em;\n",
       "  height: 1.5em !important;\n",
       "  stroke-width: 0;\n",
       "  stroke: currentColor;\n",
       "  fill: currentColor;\n",
       "}\n",
       "</style><pre class='xr-text-repr-fallback'>&lt;xarray.Dataset&gt;\n",
       "Dimensions:               (time: 11, item_id: 1129)\n",
       "Coordinates:\n",
       "  * time                  (time) float64 0.0 1.728e+05 ... 1.555e+06 1.728e+06\n",
       "  * item_id               (item_id) int32 0 1 2 3 4 ... 1124 1125 1126 1127 1128\n",
       "Data variables:\n",
       "    grid_element          (item_id, time) object &#x27;link&#x27; &#x27;link&#x27; ... &#x27;link&#x27; &#x27;link&#x27;\n",
       "    element_id            (item_id, time) float64 0.0 0.0 0.0 ... 11.0 11.0 11.0\n",
       "    starting_link         (item_id) int32 0 0 0 0 0 0 0 ... 11 11 11 11 11 11 11\n",
       "    abrasion_rate         (item_id) float64 0.0 0.0 0.0 0.0 ... 0.0 0.0 0.0 0.0\n",
       "    density               (item_id) float64 2.65e+03 2.65e+03 ... 2.65e+03\n",
       "    time_arrival_in_link  (item_id, time) float64 0.6035 0.6035 ... 0.3445\n",
       "    active_layer          (item_id, time) float64 0.0 0.0 0.0 ... 0.0 0.0 0.0\n",
       "    location_in_link      (item_id, time) float64 0.3622 nan ... 0.4389 0.4389\n",
       "    D                     (item_id, time) float64 0.2003 0.2003 ... 0.2155\n",
       "    volume                (item_id, time) float64 0.2683 0.2683 ... 8.929 8.929\n",
       "    lithology             (item_id) &lt;U9 &#x27;quartzite&#x27; &#x27;quartzite&#x27; ... &#x27;quartzite&#x27;\n",
       "    Be10_c                (item_id) &lt;U5 &#x27;222.2&#x27; &#x27;222.2&#x27; ... &#x27;222.2&#x27; &#x27;222.2&#x27;</pre><div class='xr-wrap' style='display:none'><div class='xr-header'><div class='xr-obj-type'>xarray.Dataset</div></div><ul class='xr-sections'><li class='xr-section-item'><input id='section-ce2612db-fb68-42f8-bfb6-78bf6c71d769' class='xr-section-summary-in' type='checkbox' disabled ><label for='section-ce2612db-fb68-42f8-bfb6-78bf6c71d769' class='xr-section-summary'  title='Expand/collapse section'>Dimensions:</label><div class='xr-section-inline-details'><ul class='xr-dim-list'><li><span class='xr-has-index'>time</span>: 11</li><li><span class='xr-has-index'>item_id</span>: 1129</li></ul></div><div class='xr-section-details'></div></li><li class='xr-section-item'><input id='section-3f62ec03-624e-435f-bbbc-1a5239eeb0b6' class='xr-section-summary-in' type='checkbox'  checked><label for='section-3f62ec03-624e-435f-bbbc-1a5239eeb0b6' class='xr-section-summary' >Coordinates: <span>(2)</span></label><div class='xr-section-inline-details'></div><div class='xr-section-details'><ul class='xr-var-list'><li class='xr-var-item'><div class='xr-var-name'><span class='xr-has-index'>time</span></div><div class='xr-var-dims'>(time)</div><div class='xr-var-dtype'>float64</div><div class='xr-var-preview xr-preview'>0.0 1.728e+05 ... 1.728e+06</div><input id='attrs-5bb374bb-3d65-4b1f-9228-6e3170e137f3' class='xr-var-attrs-in' type='checkbox' disabled><label for='attrs-5bb374bb-3d65-4b1f-9228-6e3170e137f3' title='Show/Hide attributes'><svg class='icon xr-icon-file-text2'><use xlink:href='#icon-file-text2'></use></svg></label><input id='data-3100021f-7659-44a7-8256-bd2ef38d15b2' class='xr-var-data-in' type='checkbox'><label for='data-3100021f-7659-44a7-8256-bd2ef38d15b2' title='Show/Hide data repr'><svg class='icon xr-icon-database'><use xlink:href='#icon-database'></use></svg></label><div class='xr-var-attrs'><dl class='xr-attrs'></dl></div><div class='xr-var-data'><pre>array([       0.,   172800.,   345600.,   518400.,   691200.,   864000.,\n",
       "        1036800.,  1209600.,  1382400.,  1555200.,  1728000.])</pre></div></li><li class='xr-var-item'><div class='xr-var-name'><span class='xr-has-index'>item_id</span></div><div class='xr-var-dims'>(item_id)</div><div class='xr-var-dtype'>int32</div><div class='xr-var-preview xr-preview'>0 1 2 3 4 ... 1125 1126 1127 1128</div><input id='attrs-99bc5de6-34d9-4412-8b31-7fed4795c4f1' class='xr-var-attrs-in' type='checkbox' disabled><label for='attrs-99bc5de6-34d9-4412-8b31-7fed4795c4f1' title='Show/Hide attributes'><svg class='icon xr-icon-file-text2'><use xlink:href='#icon-file-text2'></use></svg></label><input id='data-01f88a45-e8c0-4b98-91a9-d7403f201c87' class='xr-var-data-in' type='checkbox'><label for='data-01f88a45-e8c0-4b98-91a9-d7403f201c87' title='Show/Hide data repr'><svg class='icon xr-icon-database'><use xlink:href='#icon-database'></use></svg></label><div class='xr-var-attrs'><dl class='xr-attrs'></dl></div><div class='xr-var-data'><pre>array([   0,    1,    2, ..., 1126, 1127, 1128])</pre></div></li></ul></div></li><li class='xr-section-item'><input id='section-da6c92f5-0ed4-48c4-af84-fb69345eb0f3' class='xr-section-summary-in' type='checkbox'  checked><label for='section-da6c92f5-0ed4-48c4-af84-fb69345eb0f3' class='xr-section-summary' >Data variables: <span>(12)</span></label><div class='xr-section-inline-details'></div><div class='xr-section-details'><ul class='xr-var-list'><li class='xr-var-item'><div class='xr-var-name'><span>grid_element</span></div><div class='xr-var-dims'>(item_id, time)</div><div class='xr-var-dtype'>object</div><div class='xr-var-preview xr-preview'>&#x27;link&#x27; &#x27;link&#x27; ... &#x27;link&#x27; &#x27;link&#x27;</div><input id='attrs-52b66877-8efa-4b61-9c45-2e5b5d3f8965' class='xr-var-attrs-in' type='checkbox' disabled><label for='attrs-52b66877-8efa-4b61-9c45-2e5b5d3f8965' title='Show/Hide attributes'><svg class='icon xr-icon-file-text2'><use xlink:href='#icon-file-text2'></use></svg></label><input id='data-b181954b-b23b-452f-94d7-6b5c83d9aeb8' class='xr-var-data-in' type='checkbox'><label for='data-b181954b-b23b-452f-94d7-6b5c83d9aeb8' title='Show/Hide data repr'><svg class='icon xr-icon-database'><use xlink:href='#icon-database'></use></svg></label><div class='xr-var-attrs'><dl class='xr-attrs'></dl></div><div class='xr-var-data'><pre>array([[&#x27;link&#x27;, &#x27;link&#x27;, &#x27;link&#x27;, ..., &#x27;link&#x27;, &#x27;link&#x27;, &#x27;link&#x27;],\n",
       "       [&#x27;link&#x27;, &#x27;link&#x27;, &#x27;link&#x27;, ..., &#x27;link&#x27;, &#x27;link&#x27;, &#x27;link&#x27;],\n",
       "       [&#x27;link&#x27;, &#x27;link&#x27;, &#x27;link&#x27;, ..., &#x27;link&#x27;, &#x27;link&#x27;, &#x27;link&#x27;],\n",
       "       ..., \n",
       "       [&#x27;link&#x27;, &#x27;link&#x27;, &#x27;link&#x27;, ..., &#x27;link&#x27;, &#x27;link&#x27;, &#x27;link&#x27;],\n",
       "       [&#x27;link&#x27;, &#x27;link&#x27;, &#x27;link&#x27;, ..., &#x27;link&#x27;, &#x27;link&#x27;, &#x27;link&#x27;],\n",
       "       [&#x27;link&#x27;, &#x27;link&#x27;, &#x27;link&#x27;, ..., &#x27;link&#x27;, &#x27;link&#x27;, &#x27;link&#x27;]], dtype=object)</pre></div></li><li class='xr-var-item'><div class='xr-var-name'><span>element_id</span></div><div class='xr-var-dims'>(item_id, time)</div><div class='xr-var-dtype'>float64</div><div class='xr-var-preview xr-preview'>0.0 0.0 0.0 0.0 ... 11.0 11.0 11.0</div><input id='attrs-c2f802cb-8215-4971-8a74-9fd815aabf45' class='xr-var-attrs-in' type='checkbox' disabled><label for='attrs-c2f802cb-8215-4971-8a74-9fd815aabf45' title='Show/Hide attributes'><svg class='icon xr-icon-file-text2'><use xlink:href='#icon-file-text2'></use></svg></label><input id='data-bf02f453-40c3-450b-a196-ca9df8fb5e03' class='xr-var-data-in' type='checkbox'><label for='data-bf02f453-40c3-450b-a196-ca9df8fb5e03' title='Show/Hide data repr'><svg class='icon xr-icon-database'><use xlink:href='#icon-database'></use></svg></label><div class='xr-var-attrs'><dl class='xr-attrs'></dl></div><div class='xr-var-data'><pre>array([[  0.,   0.,   0., ...,   0.,   0.,   0.],\n",
       "       [  0.,   0.,   0., ...,   0.,   0.,   0.],\n",
       "       [  0.,   0.,   0., ...,   0.,   0.,   0.],\n",
       "       ..., \n",
       "       [ 11.,  11.,  11., ...,  11.,  11.,  11.],\n",
       "       [ 11.,  11.,  11., ...,  11.,  11.,  11.],\n",
       "       [ 11.,  11.,  11., ...,  11.,  11.,  11.]])</pre></div></li><li class='xr-var-item'><div class='xr-var-name'><span>starting_link</span></div><div class='xr-var-dims'>(item_id)</div><div class='xr-var-dtype'>int32</div><div class='xr-var-preview xr-preview'>0 0 0 0 0 0 0 ... 11 11 11 11 11 11</div><input id='attrs-70bbdd68-cb03-4986-833c-f89dba8a2d72' class='xr-var-attrs-in' type='checkbox' disabled><label for='attrs-70bbdd68-cb03-4986-833c-f89dba8a2d72' title='Show/Hide attributes'><svg class='icon xr-icon-file-text2'><use xlink:href='#icon-file-text2'></use></svg></label><input id='data-91d82c54-6853-4f6c-9159-be8d1d8c0c83' class='xr-var-data-in' type='checkbox'><label for='data-91d82c54-6853-4f6c-9159-be8d1d8c0c83' title='Show/Hide data repr'><svg class='icon xr-icon-database'><use xlink:href='#icon-database'></use></svg></label><div class='xr-var-attrs'><dl class='xr-attrs'></dl></div><div class='xr-var-data'><pre>array([ 0,  0,  0, ..., 11, 11, 11])</pre></div></li><li class='xr-var-item'><div class='xr-var-name'><span>abrasion_rate</span></div><div class='xr-var-dims'>(item_id)</div><div class='xr-var-dtype'>float64</div><div class='xr-var-preview xr-preview'>0.0 0.0 0.0 0.0 ... 0.0 0.0 0.0 0.0</div><input id='attrs-b1c0b6e3-ad67-48e7-a99f-f389c679d60c' class='xr-var-attrs-in' type='checkbox' disabled><label for='attrs-b1c0b6e3-ad67-48e7-a99f-f389c679d60c' title='Show/Hide attributes'><svg class='icon xr-icon-file-text2'><use xlink:href='#icon-file-text2'></use></svg></label><input id='data-65d8113e-2cad-40e2-92cc-8e0b160c1c88' class='xr-var-data-in' type='checkbox'><label for='data-65d8113e-2cad-40e2-92cc-8e0b160c1c88' title='Show/Hide data repr'><svg class='icon xr-icon-database'><use xlink:href='#icon-database'></use></svg></label><div class='xr-var-attrs'><dl class='xr-attrs'></dl></div><div class='xr-var-data'><pre>array([ 0.,  0.,  0., ...,  0.,  0.,  0.])</pre></div></li><li class='xr-var-item'><div class='xr-var-name'><span>density</span></div><div class='xr-var-dims'>(item_id)</div><div class='xr-var-dtype'>float64</div><div class='xr-var-preview xr-preview'>2.65e+03 2.65e+03 ... 2.65e+03</div><input id='attrs-35022a65-8ed9-4791-b763-d9903d213b68' class='xr-var-attrs-in' type='checkbox' disabled><label for='attrs-35022a65-8ed9-4791-b763-d9903d213b68' title='Show/Hide attributes'><svg class='icon xr-icon-file-text2'><use xlink:href='#icon-file-text2'></use></svg></label><input id='data-dd7daec4-68e1-4128-a314-d94cf77fbd59' class='xr-var-data-in' type='checkbox'><label for='data-dd7daec4-68e1-4128-a314-d94cf77fbd59' title='Show/Hide data repr'><svg class='icon xr-icon-database'><use xlink:href='#icon-database'></use></svg></label><div class='xr-var-attrs'><dl class='xr-attrs'></dl></div><div class='xr-var-data'><pre>array([ 2650.,  2650.,  2650., ...,  2650.,  2650.,  2650.])</pre></div></li><li class='xr-var-item'><div class='xr-var-name'><span>time_arrival_in_link</span></div><div class='xr-var-dims'>(item_id, time)</div><div class='xr-var-dtype'>float64</div><div class='xr-var-preview xr-preview'>0.6035 0.6035 ... 0.3445 0.3445</div><input id='attrs-be40e9ed-4bed-498e-a3e6-bb9fc9101919' class='xr-var-attrs-in' type='checkbox' disabled><label for='attrs-be40e9ed-4bed-498e-a3e6-bb9fc9101919' title='Show/Hide attributes'><svg class='icon xr-icon-file-text2'><use xlink:href='#icon-file-text2'></use></svg></label><input id='data-ddf5222c-8b25-431f-92e5-3dc370e95637' class='xr-var-data-in' type='checkbox'><label for='data-ddf5222c-8b25-431f-92e5-3dc370e95637' title='Show/Hide data repr'><svg class='icon xr-icon-database'><use xlink:href='#icon-database'></use></svg></label><div class='xr-var-attrs'><dl class='xr-attrs'></dl></div><div class='xr-var-data'><pre>array([[ 0.60346359,  0.60346359,  0.60346359, ...,  0.60346359,\n",
       "         0.60346359,  0.60346359],\n",
       "       [ 0.57490134,  0.57490134,  0.57490134, ...,  0.57490134,\n",
       "         0.57490134,  0.57490134],\n",
       "       [ 0.52306633,  0.52306633,  0.52306633, ...,  0.52306633,\n",
       "         0.52306633,  0.52306633],\n",
       "       ..., \n",
       "       [ 0.72289046,  0.72289046,  0.72289046, ...,  0.72289046,\n",
       "         0.72289046,  0.72289046],\n",
       "       [ 0.51600262,  0.51600262,  0.51600262, ...,  0.51600262,\n",
       "         0.51600262,  0.51600262],\n",
       "       [ 0.34452229,  0.34452229,  0.34452229, ...,  0.34452229,\n",
       "         0.34452229,  0.34452229]])</pre></div></li><li class='xr-var-item'><div class='xr-var-name'><span>active_layer</span></div><div class='xr-var-dims'>(item_id, time)</div><div class='xr-var-dtype'>float64</div><div class='xr-var-preview xr-preview'>0.0 0.0 0.0 0.0 ... 0.0 0.0 0.0 0.0</div><input id='attrs-1fe42764-992b-4305-a6d2-55e560a534db' class='xr-var-attrs-in' type='checkbox' disabled><label for='attrs-1fe42764-992b-4305-a6d2-55e560a534db' title='Show/Hide attributes'><svg class='icon xr-icon-file-text2'><use xlink:href='#icon-file-text2'></use></svg></label><input id='data-cf196690-2095-47c2-9212-f3b2e35a1652' class='xr-var-data-in' type='checkbox'><label for='data-cf196690-2095-47c2-9212-f3b2e35a1652' title='Show/Hide data repr'><svg class='icon xr-icon-database'><use xlink:href='#icon-database'></use></svg></label><div class='xr-var-attrs'><dl class='xr-attrs'></dl></div><div class='xr-var-data'><pre>array([[ 0.,  0.,  0., ...,  0.,  0.,  0.],\n",
       "       [ 0.,  0.,  0., ...,  0.,  0.,  0.],\n",
       "       [ 0.,  0.,  0., ...,  0.,  0.,  0.],\n",
       "       ..., \n",
       "       [ 0.,  0.,  0., ...,  0.,  0.,  0.],\n",
       "       [ 0.,  0.,  0., ...,  0.,  0.,  0.],\n",
       "       [ 0.,  0.,  0., ...,  0.,  0.,  0.]])</pre></div></li><li class='xr-var-item'><div class='xr-var-name'><span>location_in_link</span></div><div class='xr-var-dims'>(item_id, time)</div><div class='xr-var-dtype'>float64</div><div class='xr-var-preview xr-preview'>0.3622 nan nan ... 0.4389 0.4389</div><input id='attrs-3e7a02c5-1f9b-4497-8983-db9e5d4ec91f' class='xr-var-attrs-in' type='checkbox' disabled><label for='attrs-3e7a02c5-1f9b-4497-8983-db9e5d4ec91f' title='Show/Hide attributes'><svg class='icon xr-icon-file-text2'><use xlink:href='#icon-file-text2'></use></svg></label><input id='data-9f5815a8-eb1b-4861-b695-7a69e9dad2fc' class='xr-var-data-in' type='checkbox'><label for='data-9f5815a8-eb1b-4861-b695-7a69e9dad2fc' title='Show/Hide data repr'><svg class='icon xr-icon-database'><use xlink:href='#icon-database'></use></svg></label><div class='xr-var-attrs'><dl class='xr-attrs'></dl></div><div class='xr-var-data'><pre>array([[ 0.36220172,         nan,         nan, ...,         nan,\n",
       "                nan,         nan],\n",
       "       [ 0.26860439,         nan,         nan, ...,         nan,\n",
       "                nan,         nan],\n",
       "       [ 0.77450502,         nan,         nan, ...,         nan,\n",
       "                nan,         nan],\n",
       "       ..., \n",
       "       [ 0.81716586,  0.81716586,  0.81716586, ...,  0.81716586,\n",
       "         0.81716586,  0.81716586],\n",
       "       [ 0.3171844 ,  0.3171844 ,  0.3171844 , ...,  0.3171844 ,\n",
       "         0.3171844 ,  0.3171844 ],\n",
       "       [ 0.43885956,  0.43885956,  0.43885956, ...,  0.43885956,\n",
       "         0.43885956,  0.43885956]])</pre></div></li><li class='xr-var-item'><div class='xr-var-name'><span>D</span></div><div class='xr-var-dims'>(item_id, time)</div><div class='xr-var-dtype'>float64</div><div class='xr-var-preview xr-preview'>0.2003 0.2003 ... 0.2155 0.2155</div><input id='attrs-900a39fd-97af-4c3d-a767-e363163ba8fe' class='xr-var-attrs-in' type='checkbox' disabled><label for='attrs-900a39fd-97af-4c3d-a767-e363163ba8fe' title='Show/Hide attributes'><svg class='icon xr-icon-file-text2'><use xlink:href='#icon-file-text2'></use></svg></label><input id='data-6ac52465-97c6-4bd2-bedc-084c58a98daa' class='xr-var-data-in' type='checkbox'><label for='data-6ac52465-97c6-4bd2-bedc-084c58a98daa' title='Show/Hide data repr'><svg class='icon xr-icon-database'><use xlink:href='#icon-database'></use></svg></label><div class='xr-var-attrs'><dl class='xr-attrs'></dl></div><div class='xr-var-data'><pre>array([[ 0.20032858,  0.20032858,  0.20032858, ...,  0.20032858,\n",
       "         0.20032858,  0.20032858],\n",
       "       [ 0.03285194,  0.03285194,  0.03285194, ...,  0.03285194,\n",
       "         0.03285194,  0.03285194],\n",
       "       [ 0.04164899,  0.04164899,  0.04164899, ...,  0.04164899,\n",
       "         0.04164899,  0.04164899],\n",
       "       ..., \n",
       "       [ 0.49776748,  0.49776748,  0.49776748, ...,  0.49776748,\n",
       "         0.49776748,  0.49776748],\n",
       "       [ 0.24788316,  0.24788316,  0.24788316, ...,  0.24788316,\n",
       "         0.24788316,  0.24788316],\n",
       "       [ 0.21547919,  0.21547919,  0.21547919, ...,  0.21547919,\n",
       "         0.21547919,  0.21547919]])</pre></div></li><li class='xr-var-item'><div class='xr-var-name'><span>volume</span></div><div class='xr-var-dims'>(item_id, time)</div><div class='xr-var-dtype'>float64</div><div class='xr-var-preview xr-preview'>0.2683 0.2683 ... 8.929 8.929</div><input id='attrs-848bb2dd-316a-48e0-81a5-a2fcfebf9907' class='xr-var-attrs-in' type='checkbox' disabled><label for='attrs-848bb2dd-316a-48e0-81a5-a2fcfebf9907' title='Show/Hide attributes'><svg class='icon xr-icon-file-text2'><use xlink:href='#icon-file-text2'></use></svg></label><input id='data-57c34c87-c411-4ebc-befb-545d28034c30' class='xr-var-data-in' type='checkbox'><label for='data-57c34c87-c411-4ebc-befb-545d28034c30' title='Show/Hide data repr'><svg class='icon xr-icon-database'><use xlink:href='#icon-database'></use></svg></label><div class='xr-var-attrs'><dl class='xr-attrs'></dl></div><div class='xr-var-data'><pre>array([[ 0.26832043,  0.26832043,  0.26832043, ...,  0.26832043,\n",
       "         0.26832043,  0.26832043],\n",
       "       [ 8.92915946,  8.92915946,  8.92915946, ...,  8.92915946,\n",
       "         8.92915946,  8.92915946],\n",
       "       [ 8.92915946,  8.92915946,  8.92915946, ...,  8.92915946,\n",
       "         8.92915946,  8.92915946],\n",
       "       ..., \n",
       "       [ 8.92915946,  8.92915946,  8.92915946, ...,  8.92915946,\n",
       "         8.92915946,  8.92915946],\n",
       "       [ 8.92915946,  8.92915946,  8.92915946, ...,  8.92915946,\n",
       "         8.92915946,  8.92915946],\n",
       "       [ 8.92915946,  8.92915946,  8.92915946, ...,  8.92915946,\n",
       "         8.92915946,  8.92915946]])</pre></div></li><li class='xr-var-item'><div class='xr-var-name'><span>lithology</span></div><div class='xr-var-dims'>(item_id)</div><div class='xr-var-dtype'>&lt;U9</div><div class='xr-var-preview xr-preview'>&#x27;quartzite&#x27; ... &#x27;quartzite&#x27;</div><input id='attrs-2adc5d24-c57f-4150-bdf2-b9793c389841' class='xr-var-attrs-in' type='checkbox' disabled><label for='attrs-2adc5d24-c57f-4150-bdf2-b9793c389841' title='Show/Hide attributes'><svg class='icon xr-icon-file-text2'><use xlink:href='#icon-file-text2'></use></svg></label><input id='data-eff19b0d-b3df-44b9-ab89-d6760aa270bf' class='xr-var-data-in' type='checkbox'><label for='data-eff19b0d-b3df-44b9-ab89-d6760aa270bf' title='Show/Hide data repr'><svg class='icon xr-icon-database'><use xlink:href='#icon-database'></use></svg></label><div class='xr-var-attrs'><dl class='xr-attrs'></dl></div><div class='xr-var-data'><pre>array([&#x27;quartzite&#x27;, &#x27;quartzite&#x27;, &#x27;quartzite&#x27;, ..., &#x27;quartzite&#x27;,\n",
       "       &#x27;quartzite&#x27;, &#x27;quartzite&#x27;],\n",
       "      dtype=&#x27;&lt;U9&#x27;)</pre></div></li><li class='xr-var-item'><div class='xr-var-name'><span>Be10_c</span></div><div class='xr-var-dims'>(item_id)</div><div class='xr-var-dtype'>&lt;U5</div><div class='xr-var-preview xr-preview'>&#x27;222.2&#x27; &#x27;222.2&#x27; ... &#x27;222.2&#x27; &#x27;222.2&#x27;</div><input id='attrs-73ed972d-eb36-4fef-b55a-14269ea15365' class='xr-var-attrs-in' type='checkbox' disabled><label for='attrs-73ed972d-eb36-4fef-b55a-14269ea15365' title='Show/Hide attributes'><svg class='icon xr-icon-file-text2'><use xlink:href='#icon-file-text2'></use></svg></label><input id='data-48f2b8d7-1f08-4726-86f1-11e684ef2dfc' class='xr-var-data-in' type='checkbox'><label for='data-48f2b8d7-1f08-4726-86f1-11e684ef2dfc' title='Show/Hide data repr'><svg class='icon xr-icon-database'><use xlink:href='#icon-database'></use></svg></label><div class='xr-var-attrs'><dl class='xr-attrs'></dl></div><div class='xr-var-data'><pre>array([&#x27;222.2&#x27;, &#x27;222.2&#x27;, &#x27;222.2&#x27;, ..., &#x27;222.2&#x27;, &#x27;222.2&#x27;, &#x27;222.2&#x27;],\n",
       "      dtype=&#x27;&lt;U5&#x27;)</pre></div></li></ul></div></li><li class='xr-section-item'><input id='section-d24bbfb8-e4bb-44be-b2d6-2db1e264a9a9' class='xr-section-summary-in' type='checkbox' disabled ><label for='section-d24bbfb8-e4bb-44be-b2d6-2db1e264a9a9' class='xr-section-summary'  title='Expand/collapse section'>Attributes: <span>(0)</span></label><div class='xr-section-inline-details'></div><div class='xr-section-details'><dl class='xr-attrs'></dl></div></li></ul></div></div>"
      ],
      "text/plain": [
       "<xarray.Dataset>\n",
       "Dimensions:               (time: 11, item_id: 1129)\n",
       "Coordinates:\n",
       "  * time                  (time) float64 0.0 1.728e+05 ... 1.555e+06 1.728e+06\n",
       "  * item_id               (item_id) int32 0 1 2 3 4 ... 1124 1125 1126 1127 1128\n",
       "Data variables:\n",
       "    grid_element          (item_id, time) object 'link' 'link' ... 'link' 'link'\n",
       "    element_id            (item_id, time) float64 0.0 0.0 0.0 ... 11.0 11.0 11.0\n",
       "    starting_link         (item_id) int32 0 0 0 0 0 0 0 ... 11 11 11 11 11 11 11\n",
       "    abrasion_rate         (item_id) float64 0.0 0.0 0.0 0.0 ... 0.0 0.0 0.0 0.0\n",
       "    density               (item_id) float64 2.65e+03 2.65e+03 ... 2.65e+03\n",
       "    time_arrival_in_link  (item_id, time) float64 0.6035 0.6035 ... 0.3445\n",
       "    active_layer          (item_id, time) float64 0.0 0.0 0.0 ... 0.0 0.0 0.0\n",
       "    location_in_link      (item_id, time) float64 0.3622 nan ... 0.4389 0.4389\n",
       "    D                     (item_id, time) float64 0.2003 0.2003 ... 0.2155\n",
       "    volume                (item_id, time) float64 0.2683 0.2683 ... 8.929 8.929\n",
       "    lithology             (item_id) <U9 'quartzite' 'quartzite' ... 'quartzite'\n",
       "    Be10_c                (item_id) <U5 '222.2' '222.2' ... '222.2' '222.2'"
      ]
     },
     "execution_count": 17,
     "metadata": {},
     "output_type": "execute_result"
    }
   ],
   "source": [
    "parcels.dataset"
   ]
  },
  {
   "cell_type": "code",
   "execution_count": 18,
   "metadata": {
    "scrolled": true
   },
   "outputs": [
    {
     "data": {
      "image/png": "[encoded data removed]",
      "text/plain": [
       "<Figure size 432x288 with 1 Axes>"
      ]
     },
     "metadata": {
      "needs_background": "light"
     },
     "output_type": "display_data"
    }
   ],
   "source": [
    "parcel_vol_on_grid = parcels.dataset[\"volume\"].values\n",
    "parcel_vol_on_grid[parcels.dataset[\"element_id\"].values==-2]=0\n",
    "\n",
    "#plt.figure(figsize=(8,6))\n",
    "plt.plot(np.asarray(parcels.time_coordinates)/(60*60*24), \n",
    "         np.sum(parcel_vol_on_grid, axis=0),\n",
    "         '-',\n",
    "         linewidth=3, \n",
    "         alpha=0.5\n",
    "        )\n",
    "\n",
    "plt.ylabel('Total volume of parcels on grid $[m^3]$')\n",
    "plt.xlabel('Time [days]')\n",
    "plt.show() "
   ]
  },
  {
   "cell_type": "markdown",
   "metadata": {},
   "source": [
    "We can also plot individual parcel characteristics. The plot below shows the total transport distance of each parcel through the whole model run as a function of the parcel's grain size (during the final timestep). "
   ]
  },
  {
   "cell_type": "code",
   "execution_count": 19,
   "metadata": {},
   "outputs": [
    {
     "data": {
      "text/plain": [
       "Text(0, 0.5, 'Cumulative parcel travel distance (m)')"
      ]
     },
     "execution_count": 19,
     "metadata": {},
     "output_type": "execute_result"
    },
    {
     "data": {
      "image/png": "[encoded data removed]",
      "text/plain": [
       "<Figure size 432x288 with 1 Axes>"
      ]
     },
     "metadata": {
      "needs_background": "light"
     },
     "output_type": "display_data"
    }
   ],
   "source": [
    "plt.loglog(parcels.dataset.D[:,-1],\n",
    "         nst._distance_traveled_cumulative,\n",
    "         '.'\n",
    "        )\n",
    "plt.xlabel('Parcel grain size (m)')\n",
    "plt.ylabel('Cumulative parcel travel distance (m)')\n",
    "\n",
    "# Note: some of the smallest grain travel distances can exceed the length of the \n",
    "# grid by \"overshooting\" during a single timestep of high transport rate\n"
   ]
  },
  {
   "cell_type": "markdown",
   "metadata": {},
   "source": [
    "The plot below is an example of accessing variables associated with the grid (`grid.at_link.X`, or `grid.at_node.X`), as well as a variable associated with this instance of NetworkModelGrid (`nmg.X`):"
   ]
  },
  {
   "cell_type": "code",
   "execution_count": 20,
   "metadata": {},
   "outputs": [
    {
     "data": {
      "text/plain": [
       "array([ 0.11345637,  0.20193961,  0.29899375,  0.81665943,  0.46558657,\n",
       "               nan,  0.76030543,  0.28973084,  0.33906443,  0.14794202,\n",
       "        0.56450316,  0.86725484])"
      ]
     },
     "execution_count": 20,
     "metadata": {},
     "output_type": "execute_result"
    }
   ],
   "source": [
    "nst.d_mean_active"
   ]
  },
  {
   "cell_type": "code",
   "execution_count": 21,
   "metadata": {},
   "outputs": [
    {
     "data": {
      "text/plain": [
       "Text(0, 0.5, 'Mean grain size of active layer (m)')"
      ]
     },
     "execution_count": 21,
     "metadata": {},
     "output_type": "execute_result"
    },
    {
     "data": {
      "image/png": "[encoded data removed]",
      "text/plain": [
       "<Figure size 432x288 with 1 Axes>"
      ]
     },
     "metadata": {
      "needs_background": "light"
     },
     "output_type": "display_data"
    }
   ],
   "source": [
    "plt.plot(grid.at_link[\"channel_slope\"],\n",
    "         nst.d_mean_active, \n",
    "         '.')\n",
    "plt.xlabel('Channel slope (m/m)')\n",
    "plt.ylabel('Mean grain size of active layer (m)')"
   ]
  },
  {
   "cell_type": "code",
   "execution_count": null,
   "metadata": {},
   "outputs": [],
   "source": []
  }
 ],
 "metadata": {
  "kernelspec": {
   "display_name": "Python 3 (ipykernel)",
   "language": "python",
   "name": "python3"
  },
  "language_info": {
   "codemirror_mode": {
    "name": "ipython",
    "version": 3
   },
   "file_extension": ".py",
   "mimetype": "text/x-python",
   "name": "python",
   "nbconvert_exporter": "python",
   "pygments_lexer": "ipython3",
   "version": "3.10.4"
  }
 },
 "nbformat": 4,
 "nbformat_minor": 2
}
