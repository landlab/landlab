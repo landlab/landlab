{
 "cells": [
  {
   "cell_type": "markdown",
   "id": "37a539c9",
   "metadata": {},
   "source": [
    "<a href=\"http://landlab.github.io\"><img style=\"float: left\" src=\"../../landlab_header.png\"></a>"
   ]
  },
  {
   "cell_type": "markdown",
   "id": "2f02ccb1",
   "metadata": {},
   "source": [
    "# Using SedimentPulserAtLinks to add sediment parcels to a channel network\n",
    "<hr>\n",
    "<small>For more Landlab tutorials, click here: <a href=\"https://landlab.readthedocs.io/en/latest/user_guide/tutorials.html\">https://landlab.readthedocs.io/en/latest/user_guide/tutorials.html</a></small>\n",
    "<hr>\n",
    "\n",
    "This tutorial illustrates how to use SedimentPulserAtLinks with a network model grid and the NetworkSedimentTransporter.\n",
    "\n",
    "*SedimentPulserAtLinks overiew: the user specifies a list of the link IDs where the parcels will be placed, a list of the number of parcels placed in each link and lists of other parcel attributes. The parcels are placed at random locations in each link.\n",
    "\n",
    "In this example we will: \n",
    "\n",
    "(1) Set up a network model grid with an initial set of parcels, \n",
    "(2) Add pulses of sediment to the grid using SedimentPulserAtLinks, and \n",
    "(3) Run NetworkSedimentTransporter between pulses"
   ]
  },
  {
   "cell_type": "markdown",
   "id": "bbcb7ab5",
   "metadata": {},
   "source": [
    "### 1. Setup the work space"
   ]
  },
  {
   "cell_type": "code",
   "execution_count": 1,
   "id": "0d11db0c",
   "metadata": {},
   "outputs": [],
   "source": [
    "import numpy as np\n",
    "import pandas as pd\n",
    "import matplotlib.pyplot as plt\n",
    "\n",
    "from landlab.grid.network import NetworkModelGrid\n",
    "from landlab.plot import plot_network_and_parcels\n",
    "from landlab.components.network_sediment_transporter.sediment_pulser_at_links import (\n",
    "    SedimentPulserAtLinks,\n",
    ")\n",
    "from landlab.components import FlowDirectorSteepest, NetworkSedimentTransporter\n",
    "from landlab.components.network_sediment_transporter.bed_parcel_initializers import (\n",
    "    BedParcelInitializerArea,\n",
    ")\n",
    "from landlab.plot import graph"
   ]
  },
  {
   "cell_type": "markdown",
   "id": "87cddd05",
   "metadata": {},
   "source": [
    "### 2. Define the network model grid topology"
   ]
  },
  {
   "cell_type": "code",
   "execution_count": 2,
   "id": "997a5e60",
   "metadata": {},
   "outputs": [],
   "source": [
    "x_of_node = (0, 0, 100, -50, -100, 50, -150, -100)\n",
    "y_of_node = (0, 100, 200, 200, 300, 400, 400, 125)\n",
    "nodes_at_link = ((1, 0), (1, 2), (7, 1), (3, 1), (4, 3), (5, 4), (6, 4))\n",
    "nmg = NetworkModelGrid((y_of_node, x_of_node), nodes_at_link)"
   ]
  },
  {
   "cell_type": "markdown",
   "id": "99a923d6",
   "metadata": {},
   "source": [
    "to help visualize where the pulses will be sent, plot the network with link and node id numbers "
   ]
  },
  {
   "cell_type": "code",
   "execution_count": 3,
   "id": "8b31f684",
   "metadata": {},
   "outputs": [
    {
     "data": {
      "image/png": "[encoded data removed]",
      "text/plain": [
       "<Figure size 288x432 with 1 Axes>"
      ]
     },
     "metadata": {
      "needs_background": "light"
     },
     "output_type": "display_data"
    }
   ],
   "source": [
    "fig, axs = plt.subplots(1, 1, figsize=(4, 6))\n",
    "graph.plot_links(nmg, with_id=True)\n",
    "graph.plot_nodes(nmg, with_id=True)"
   ]
  },
  {
   "cell_type": "markdown",
   "id": "acf49f51",
   "metadata": {},
   "source": [
    "### 3. Define necessary link and node fields and run a flow director on the grid to add a slope field"
   ]
  },
  {
   "cell_type": "code",
   "execution_count": 4,
   "id": "404933c0",
   "metadata": {},
   "outputs": [],
   "source": [
    "nmg.at_link[\"channel_width\"] = np.array([9, 4.5, 7.5, 6, 7.5, 4.5, 6])  # m\n",
    "nmg.at_link[\"reach_length\"] = np.array(\n",
    "    [100.0, 103.1, 111.8, 141.4, 111.8, 111.8, 180.3]\n",
    ")  # m\n",
    "nmg.at_node[\"topographic__elevation\"] = np.array(\n",
    "    [0.1, 0.6, 1.0, 1.1, 1.0, 1.6, 2.0, 2.0]\n",
    ")\n",
    "nmg.at_link[\"drainage_area\"] = np.array([1, 0.1, 0.625, 0.15, 0.4, 0.075, 0.2])  # km^2\n",
    "nmg.at_link[\"flow_depth\"] = np.array([2, 1.2, 1.6, 1.3, 1.4, 1.2, 1.3])  # m\n",
    "\n",
    "# instantiate and run flow director\n",
    "flow_director = FlowDirectorSteepest(nmg, \"topographic__elevation\")\n",
    "flow_director.run_one_step()\n",
    "\n",
    "# assign bedrock elevations that are below the topographic elev for all but the \"headwater\" nodes\n",
    "n_upstream = np.sum(flow_director.flow_link_incoming_at_node() == 1, axis=1)\n",
    "\n",
    "nmg.at_node[\"bedrock__elevation\"] = nmg.at_node[\"topographic__elevation\"].copy()\n",
    "nmg.at_node[\"bedrock__elevation\"][n_upstream > 0] -= 0.1"
   ]
  },
  {
   "cell_type": "markdown",
   "id": "1c183dea",
   "metadata": {},
   "source": [
    "### 4. Create an initial set of parcels on the grid. \n",
    "Note, we start with a small number of initial parcels so that parcels from later pulses of material are visible in plots of the parcels and network"
   ]
  },
  {
   "cell_type": "code",
   "execution_count": 5,
   "id": "592364d4",
   "metadata": {},
   "outputs": [
    {
     "name": "stderr",
     "output_type": "stream",
     "text": [
      "c:\\users\\pfeiffa\\documents\\github\\landlab\\landlab\\components\\network_sediment_transporter\\bed_parcel_initializers.py:592: UserWarning: BedParcelInitializer: At least one link has only [2 2 2 3 3 2 4] parcels.\n",
      "  warnings.warn(msg)\n"
     ]
    }
   ],
   "source": [
    "initialize_parcels = BedParcelInitializerArea(\n",
    "    nmg,\n",
    "    drainage_area_coefficient=0.05,\n",
    "    drainage_area_exponent=-0.2,\n",
    "    sed_thickness=1,\n",
    "    median_number_of_starting_parcels=2,\n",
    ")\n",
    "parcels = initialize_parcels()"
   ]
  },
  {
   "cell_type": "markdown",
   "id": "b8c73cdb",
   "metadata": {},
   "source": [
    "See the warning? Because the NST is designed to model alluvial channel processes, it's problematic to have so few parcels. For the purpose of this tutorial, it makes for simpler visualizations."
   ]
  },
  {
   "cell_type": "markdown",
   "id": "f0ed2083",
   "metadata": {},
   "source": [
    "View the initial parcels on the network model grid, shaded by grain diameter"
   ]
  },
  {
   "cell_type": "code",
   "execution_count": 6,
   "id": "fe44c0ac",
   "metadata": {},
   "outputs": [
    {
     "data": {
      "image/png": "[encoded data removed]",
      "text/plain": [
       "<Figure size 216x432 with 3 Axes>"
      ]
     },
     "metadata": {
      "needs_background": "light"
     },
     "output_type": "display_data"
    }
   ],
   "source": [
    "fig = plot_network_and_parcels(\n",
    "    nmg,\n",
    "    parcels,\n",
    "    parcel_time_index=0,  # index of time, not the time value\n",
    "    parcel_color_attribute=\"D\",\n",
    "    parcel_size=10,\n",
    "    parcel_alpha=1.0,\n",
    "    figsize=(3, 6),\n",
    ")"
   ]
  },
  {
   "cell_type": "markdown",
   "id": "5e63c486",
   "metadata": {},
   "source": [
    "### 5. Instantiate and run the NetworkSedimentTransporter component using a flow event with flow depth equal to the link field \"flow_depth\" that last 24 hours "
   ]
  },
  {
   "cell_type": "code",
   "execution_count": 7,
   "id": "0823fe9a",
   "metadata": {},
   "outputs": [],
   "source": [
    "nst = NetworkSedimentTransporter(\n",
    "    nmg,\n",
    "    parcels,\n",
    "    flow_director,\n",
    "    bed_porosity=0.3,\n",
    "    g=9.81,\n",
    "    fluid_density=1000,\n",
    "    transport_method=\"WilcockCrowe\",\n",
    "    active_layer_method=\"Constant10cm\",\n",
    ")"
   ]
  },
  {
   "cell_type": "code",
   "execution_count": 8,
   "id": "b2123dad",
   "metadata": {
    "scrolled": true
   },
   "outputs": [],
   "source": [
    "nst.run_one_step(dt=3600 * 24)\n",
    "sed_thickness_at_nodes = (\n",
    "    nmg.at_node[\"topographic__elevation\"] - nmg.at_node[\"bedrock__elevation\"]\n",
    ")"
   ]
  },
  {
   "cell_type": "markdown",
   "id": "36ef0f66",
   "metadata": {},
   "source": [
    "View parcel locations after the flow event"
   ]
  },
  {
   "cell_type": "code",
   "execution_count": 9,
   "id": "fc397c97",
   "metadata": {},
   "outputs": [
    {
     "data": {
      "text/plain": [
       "array([ 0.27211835,  0.06172919,  0.        ,  0.11770292,  0.        ,\n",
       "        0.08145077,  0.        ,  0.        ])"
      ]
     },
     "execution_count": 9,
     "metadata": {},
     "output_type": "execute_result"
    },
    {
     "data": {
      "image/png": "[encoded data removed]",
      "text/plain": [
       "<Figure size 216x432 with 3 Axes>"
      ]
     },
     "metadata": {
      "needs_background": "light"
     },
     "output_type": "display_data"
    }
   ],
   "source": [
    "fig = plot_network_and_parcels(\n",
    "    nmg,\n",
    "    parcels,\n",
    "    parcel_time_index=1,  # index of time, not the time value\n",
    "    parcel_color_attribute=\"D\",\n",
    "    parcel_size=10,\n",
    "    parcel_alpha=1.0,\n",
    "    figsize=(3, 6),\n",
    ")\n",
    "sed_thickness_at_nodes = (\n",
    "    nmg.at_node[\"topographic__elevation\"] - nmg.at_node[\"bedrock__elevation\"]\n",
    ")\n",
    "sed_thickness_at_nodes"
   ]
  },
  {
   "cell_type": "markdown",
   "id": "e2fb41f4",
   "metadata": {},
   "source": [
    "### 6. Instantiate SedimentPulserAtLink\n",
    "SedimentPulserAtLinks is instantiated with a network model grid and time_to_pulse function that defines the condition when a pulse is permitted. Optionally, a parcel DataRecord can be provided and default parcel attributes can be defined. \n",
    "If a parcel DataRecord is not provided, SedimentPulserAtLinks will create a new parcel DataRecord."
   ]
  },
  {
   "cell_type": "code",
   "execution_count": 10,
   "id": "5b99e385",
   "metadata": {},
   "outputs": [],
   "source": [
    "def always_time_to_pulse(time):\n",
    "    \"\"\"A pulse is permitted (True) for all times\"\"\"\n",
    "    return True\n",
    "\n",
    "\n",
    "make_pulse = SedimentPulserAtLinks(\n",
    "    nmg, parcels=parcels, time_to_pulse=always_time_to_pulse\n",
    ")"
   ]
  },
  {
   "cell_type": "markdown",
   "id": "928ff038",
   "metadata": {},
   "source": [
    "### 7. Make the first pulse by specifying the time of the pulse, the link(s) the pulse enters the channel network and the number of parcels sent to each link. \n",
    "Here we send a pulse to links 0 and 5 (see first figure for link id's)\n",
    "Note, all inputs, except time, are lists. \n",
    "Also note that any parcel attributes not specified use default values. Default values can be set when SedimentPulserAtLinks is instantiated."
   ]
  },
  {
   "cell_type": "code",
   "execution_count": 11,
   "id": "799678c3",
   "metadata": {},
   "outputs": [],
   "source": [
    "time = nst.time  # time of first pulse\n",
    "links = [0, 5]  # link\n",
    "n_parcels_at_link = [10, 30]  # parcels set to link\n",
    "parcels = make_pulse(time=time, links=links, n_parcels_at_link=n_parcels_at_link)"
   ]
  },
  {
   "cell_type": "markdown",
   "id": "0024507a",
   "metadata": {},
   "source": [
    "view the location of the new parcels from the pulse"
   ]
  },
  {
   "cell_type": "code",
   "execution_count": 12,
   "id": "4db15caf",
   "metadata": {},
   "outputs": [
    {
     "data": {
      "image/png": "[encoded data removed]",
      "text/plain": [
       "<Figure size 216x432 with 3 Axes>"
      ]
     },
     "metadata": {
      "needs_background": "light"
     },
     "output_type": "display_data"
    }
   ],
   "source": [
    "fig = plot_network_and_parcels(\n",
    "    nmg,\n",
    "    parcels,\n",
    "    parcel_time_index=1,  # index of time, not the time value\n",
    "    parcel_color_attribute=\"D\",\n",
    "    parcel_size=10,\n",
    "    parcel_alpha=1.0,\n",
    "    figsize=(3, 6),\n",
    ")"
   ]
  },
  {
   "cell_type": "markdown",
   "id": "55c6e6b5",
   "metadata": {},
   "source": [
    "now apply another 24 hr flow event"
   ]
  },
  {
   "cell_type": "code",
   "execution_count": 13,
   "id": "43d1b421",
   "metadata": {},
   "outputs": [],
   "source": [
    "nst.run_one_step(dt=3600 * 24)"
   ]
  },
  {
   "cell_type": "markdown",
   "id": "c213f4c4",
   "metadata": {},
   "source": [
    "View parcel locations after the flow event"
   ]
  },
  {
   "cell_type": "code",
   "execution_count": 14,
   "id": "dfda3b8f",
   "metadata": {},
   "outputs": [
    {
     "data": {
      "image/png": "[encoded data removed]",
      "text/plain": [
       "<Figure size 216x432 with 3 Axes>"
      ]
     },
     "metadata": {
      "needs_background": "light"
     },
     "output_type": "display_data"
    }
   ],
   "source": [
    "fig = plot_network_and_parcels(\n",
    "    nmg,\n",
    "    parcels,\n",
    "    parcel_time_index=2,  # index of time, not the time value\n",
    "    parcel_color_attribute=\"D\",\n",
    "    parcel_size=10,\n",
    "    parcel_alpha=1.0,\n",
    "    figsize=(3, 6),\n",
    ")"
   ]
  },
  {
   "cell_type": "markdown",
   "id": "8f5a9c44",
   "metadata": {},
   "source": [
    "Notice that after the flow event, the pulse of parcels in link 0 left the channel network. Flow depth in link 0 is much higher than the lower order channels such as links 1, 3, 5 and 6."
   ]
  },
  {
   "cell_type": "markdown",
   "id": "d34c43d7",
   "metadata": {},
   "source": [
    "### 8. Send a second pulse. This time we'll specify more attributes of the pulse.\n",
    "We're sending boulders to link 6"
   ]
  },
  {
   "cell_type": "code",
   "execution_count": 15,
   "id": "d1d3538d",
   "metadata": {},
   "outputs": [],
   "source": [
    "time = nst.time  # time\n",
    "links = [3, 4, 6]  # link\n",
    "D50 = [0.05, 0.03, 0.5]  # median grain size\n",
    "n_parcels_at_link = [3, 20, 15]  # parcels sent to link\n",
    "parcel_volume = [1, 0.5, 2]  # parcel volume\n",
    "\n",
    "parcels = make_pulse(\n",
    "    time=time,\n",
    "    links=links,\n",
    "    D50=D50,\n",
    "    n_parcels_at_link=n_parcels_at_link,\n",
    "    parcel_volume=parcel_volume,\n",
    ")"
   ]
  },
  {
   "cell_type": "markdown",
   "id": "aff80841",
   "metadata": {},
   "source": [
    "view the new parcels"
   ]
  },
  {
   "cell_type": "code",
   "execution_count": 16,
   "id": "7696e5e7",
   "metadata": {},
   "outputs": [
    {
     "data": {
      "image/png": "[encoded data removed]",
      "text/plain": [
       "<Figure size 216x432 with 3 Axes>"
      ]
     },
     "metadata": {
      "needs_background": "light"
     },
     "output_type": "display_data"
    }
   ],
   "source": [
    "fig = plot_network_and_parcels(\n",
    "    nmg,\n",
    "    parcels,\n",
    "    parcel_time_index=2,  # index of time, not the time value\n",
    "    parcel_color_attribute=\"D\",\n",
    "    parcel_size=10,\n",
    "    parcel_alpha=1.0,\n",
    "    figsize=(3, 6),\n",
    ")"
   ]
  },
  {
   "cell_type": "markdown",
   "id": "9ff83394",
   "metadata": {},
   "source": [
    "apply another day long flow event"
   ]
  },
  {
   "cell_type": "code",
   "execution_count": 17,
   "id": "11e6a931",
   "metadata": {},
   "outputs": [],
   "source": [
    "nst.run_one_step(dt=3600 * 24)"
   ]
  },
  {
   "cell_type": "code",
   "execution_count": 18,
   "id": "3c183980",
   "metadata": {},
   "outputs": [
    {
     "data": {
      "image/png": "[encoded data removed]",
      "text/plain": [
       "<Figure size 216x432 with 3 Axes>"
      ]
     },
     "metadata": {
      "needs_background": "light"
     },
     "output_type": "display_data"
    }
   ],
   "source": [
    "fig = plot_network_and_parcels(\n",
    "    nmg,\n",
    "    parcels,\n",
    "    parcel_time_index=3,  # index of time, not the time value\n",
    "    parcel_color_attribute=\"D\",\n",
    "    parcel_size=10,\n",
    "    parcel_alpha=1.0,\n",
    "    figsize=(3, 6),\n",
    ")"
   ]
  },
  {
   "cell_type": "markdown",
   "id": "4ed47860",
   "metadata": {},
   "source": [
    "note that the boulders did not budge"
   ]
  },
  {
   "cell_type": "markdown",
   "id": "8eba8d02",
   "metadata": {},
   "source": [
    "### 9. Apply one final pulse, this time we'll change the time_to_pulse function"
   ]
  },
  {
   "cell_type": "code",
   "execution_count": 19,
   "id": "1a7f9b0d",
   "metadata": {},
   "outputs": [],
   "source": [
    "def time_to_pulse_window(time):\n",
    "    \"\"\"a pulse is permitted only if the time is between Ptime_min and Ptime_max\"\"\"\n",
    "    Ptime_min = 340000  # seconds\n",
    "    Ptime_max = 648000\n",
    "    return time >= Ptime_min and time < Ptime_max\n",
    "\n",
    "\n",
    "make_pulse._time_to_pulse = time_to_pulse_window"
   ]
  },
  {
   "cell_type": "markdown",
   "id": "75a93196",
   "metadata": {},
   "source": [
    "call the instance, this time defining a single pulse of 1000 parcels at link 2"
   ]
  },
  {
   "cell_type": "code",
   "execution_count": 20,
   "id": "39d113eb",
   "metadata": {},
   "outputs": [
    {
     "name": "stdout",
     "output_type": "stream",
     "text": [
      "user provided time not a time-to-pulse, parcels have not changed\n"
     ]
    }
   ],
   "source": [
    "time = nst.time  # time of first pulse\n",
    "links = [2]  # link\n",
    "D50 = [0.01]\n",
    "n_parcels_at_link = [1000]  # parcels set to link\n",
    "parcel_volume = [1]  # m^3\n",
    "parcels = make_pulse(\n",
    "    time=time,\n",
    "    links=links,\n",
    "    D50=D50,\n",
    "    parcel_volume=parcel_volume,\n",
    "    n_parcels_at_link=n_parcels_at_link,\n",
    ")"
   ]
  },
  {
   "cell_type": "markdown",
   "id": "298acfb5",
   "metadata": {},
   "source": [
    "note that it was not a time to pulse, nothing was added to the channel network\n",
    "apply another day-long flow event"
   ]
  },
  {
   "cell_type": "code",
   "execution_count": 21,
   "id": "6a942c49",
   "metadata": {},
   "outputs": [],
   "source": [
    "nst.run_one_step(dt=3600 * 24)"
   ]
  },
  {
   "cell_type": "markdown",
   "id": "a8c0c8ce",
   "metadata": {},
   "source": [
    "### 10. Try pulsing again, note that after the last flow event, time is now within the window described by the time_to_pulse_window function\n",
    "this time, we send 30 parcels of fine sediment to link 1"
   ]
  },
  {
   "cell_type": "code",
   "execution_count": 22,
   "id": "5a552ea7",
   "metadata": {},
   "outputs": [],
   "source": [
    "time = nst.time  # time of first pulse\n",
    "links = [1]  # link\n",
    "D50 = [0.001]\n",
    "parcel_volume = [1]  # m^3\n",
    "n_parcels_at_link = [30]  # parcels set to link\n",
    "parcels = make_pulse(\n",
    "    time=time,\n",
    "    links=links,\n",
    "    D50=D50,\n",
    "    parcel_volume=parcel_volume,\n",
    "    n_parcels_at_link=n_parcels_at_link,\n",
    ")"
   ]
  },
  {
   "cell_type": "code",
   "execution_count": 23,
   "id": "77490a06",
   "metadata": {},
   "outputs": [
    {
     "data": {
      "image/png": "[encoded data removed]",
      "text/plain": [
       "<Figure size 216x432 with 3 Axes>"
      ]
     },
     "metadata": {
      "needs_background": "light"
     },
     "output_type": "display_data"
    }
   ],
   "source": [
    "fig = plot_network_and_parcels(\n",
    "    nmg,\n",
    "    parcels,\n",
    "    parcel_time_index=4,  # index of time, not the time value\n",
    "    parcel_color_attribute=\"D\",\n",
    "    parcel_size=10,\n",
    "    parcel_alpha=1.0,\n",
    "    figsize=(3, 6),\n",
    ")"
   ]
  },
  {
   "cell_type": "markdown",
   "id": "0195771f",
   "metadata": {},
   "source": [
    "apply one more flow event, this one 5 days long"
   ]
  },
  {
   "cell_type": "code",
   "execution_count": 24,
   "id": "130a89e8",
   "metadata": {},
   "outputs": [
    {
     "data": {
      "text/plain": [
       "array([ 0.49143811,  0.        ,  0.        ,  0.        ,  0.        ,\n",
       "        0.08145077,  0.        ,  0.        ])"
      ]
     },
     "execution_count": 24,
     "metadata": {},
     "output_type": "execute_result"
    }
   ],
   "source": [
    "nst.run_one_step(dt=3600 * 24 * 5)\n",
    "sed_thickness_at_nodes = (\n",
    "    nmg.at_node[\"topographic__elevation\"] - nmg.at_node[\"bedrock__elevation\"]\n",
    ")\n",
    "sed_thickness_at_nodes"
   ]
  },
  {
   "cell_type": "code",
   "execution_count": 25,
   "id": "2772d3cb",
   "metadata": {
    "scrolled": true
   },
   "outputs": [
    {
     "data": {
      "image/png": "[encoded data removed]",
      "text/plain": [
       "<Figure size 216x432 with 3 Axes>"
      ]
     },
     "metadata": {
      "needs_background": "light"
     },
     "output_type": "display_data"
    }
   ],
   "source": [
    "fig = plot_network_and_parcels(\n",
    "    nmg,\n",
    "    parcels,\n",
    "    parcel_time_index=5,  # index of time, not the time value\n",
    "    parcel_color_attribute=\"D\",\n",
    "    parcel_size=10,\n",
    "    parcel_alpha=1.0,\n",
    "    figsize=(3, 6),\n",
    ")"
   ]
  },
  {
   "cell_type": "markdown",
   "id": "037f58fc",
   "metadata": {},
   "source": [
    "Note that after the flow event, the fines in link 2 have been flushed out of the network"
   ]
  },
  {
   "cell_type": "markdown",
   "id": "096a5357",
   "metadata": {},
   "source": [
    "### Click here for more <a href=\"https://landlab.readthedocs.io/en/latest/user_guide/tutorials.html\">Landlab tutorials</a>"
   ]
  }
 ],
 "metadata": {
  "kernelspec": {
   "display_name": "Python 3 (ipykernel)",
   "language": "python",
   "name": "python3"
  },
  "language_info": {
   "codemirror_mode": {
    "name": "ipython",
    "version": 3
   },
   "file_extension": ".py",
   "mimetype": "text/x-python",
   "name": "python",
   "nbconvert_exporter": "python",
   "pygments_lexer": "ipython3",
   "version": "3.10.4"
  }
 },
 "nbformat": 4,
 "nbformat_minor": 5
}
