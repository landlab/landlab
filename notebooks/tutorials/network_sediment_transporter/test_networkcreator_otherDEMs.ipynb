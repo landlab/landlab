{
 "cells": [
  {
   "cell_type": "markdown",
   "id": "57fe57f0",
   "metadata": {},
   "source": [
    "Import stuff"
   ]
  },
  {
   "cell_type": "code",
   "execution_count": null,
   "id": "26ba8beb",
   "metadata": {},
   "outputs": [],
   "source": [
    "import matplotlib.pyplot as plt\n",
    "import numpy as np\n",
    "import os\n",
    "\n",
    "# landlab modules\n",
    "from landlab.plot.graph import plot_nodes, plot_links\n",
    "from landlab.io import read_esri_ascii\n",
    "\n",
    "# Package for plotting raster data\n",
    "from landlab.plot.imshow import imshow_grid\n",
    "from landlab.grid.create_network import network_grid_from_raster\n",
    "\n",
    "from landlab.grid.create_network import (\n",
    "    AtMostNodes,\n",
    "    JustEndNodes,\n",
    "    SpacingAtLeast,\n",
    "    spacing_from_drainage_area,\n",
    ")"
   ]
  },
  {
   "cell_type": "markdown",
   "id": "a8fca5bf",
   "metadata": {},
   "source": [
    "local directory for other DEMs"
   ]
  },
  {
   "cell_type": "code",
   "execution_count": null,
   "id": "465dc3c9",
   "metadata": {},
   "outputs": [],
   "source": [
    "DEM_dir = r\"C:\\Users\\sahrendt\\OneDrive\\525 Tectonic Geomorphology\\Final_Proposal\\data\""
   ]
  },
  {
   "cell_type": "markdown",
   "id": "6a8e4134",
   "metadata": {},
   "source": [
    "load DEM 1 as grid"
   ]
  },
  {
   "cell_type": "code",
   "execution_count": null,
   "id": "6e6329e1",
   "metadata": {},
   "outputs": [],
   "source": [
    "grid, z = read_esri_ascii(\n",
    "    os.path.join(DEM_dir, \"stillaguamish_elev_100m_gdalwarp.asc\"),\n",
    "    name=\"topographic__elevation\",\n",
    ")\n",
    "grid.status_at_node[~np.ma.masked_where(z > 0, z).mask] = grid.BC_NODE_IS_CLOSED"
   ]
  },
  {
   "cell_type": "code",
   "execution_count": null,
   "id": "77bece72",
   "metadata": {},
   "outputs": [],
   "source": [
    "# grid.set_watershed_boundary_condition('topographic__elevation', 0., True)"
   ]
  },
  {
   "cell_type": "markdown",
   "id": "3c483147",
   "metadata": {},
   "source": [
    "Really need this below line to make it run--need to set watershed boundary condition, here I just set it as the left edge since the channel outlet abuts there, but you can also run the above line and choose one of those"
   ]
  },
  {
   "cell_type": "code",
   "execution_count": null,
   "id": "2bc029d5",
   "metadata": {},
   "outputs": [],
   "source": [
    "grid.status_at_node[grid.nodes_at_left_edge] = grid.BC_NODE_IS_FIXED_VALUE"
   ]
  },
  {
   "cell_type": "code",
   "execution_count": null,
   "id": "98cff4d9",
   "metadata": {},
   "outputs": [],
   "source": [
    "imshow_grid(\n",
    "    grid,\n",
    "    \"topographic__elevation\",\n",
    "    plot_name=\"Basin topography\",\n",
    "    color_for_closed=None,\n",
    "    colorbar_label=\"$z$ [m]\",\n",
    ")"
   ]
  },
  {
   "cell_type": "markdown",
   "id": "b9af3389",
   "metadata": {},
   "source": [
    "Generate network (every node possible)\n",
    "* be SURE you have a ballpark minimum channel threshhold\n",
    "* AND outlet node defined\n",
    "* otherwise it will take forever"
   ]
  },
  {
   "cell_type": "code",
   "execution_count": null,
   "id": "77f4430c",
   "metadata": {},
   "outputs": [],
   "source": [
    "network_grid = network_grid_from_raster(\n",
    "    grid,\n",
    "    minimum_channel_threshold=50000000,\n",
    "    include=[\"drainage_area\", \"topographic__elevation\"],\n",
    ")"
   ]
  },
  {
   "cell_type": "code",
   "execution_count": null,
   "id": "61404af2",
   "metadata": {},
   "outputs": [],
   "source": [
    "imshow_grid(\n",
    "    grid,\n",
    "    \"topographic__elevation\",\n",
    "    plot_name=\"Basin topography\",\n",
    "    color_for_closed=None,\n",
    "    colorbar_label=\"$z$ [m]\",\n",
    ")\n",
    "plot_links(network_grid, with_id=False)\n",
    "plot_nodes(network_grid, with_id=False, markersize=0.2)"
   ]
  },
  {
   "cell_type": "markdown",
   "id": "3c4fb922",
   "metadata": {},
   "source": [
    "most nodes per segment=4\n",
    "* note: this seems to end up with the segments getting longer towards the headwaters. This probably isn't best for stability? (It would actually be better if the opposite was true)"
   ]
  },
  {
   "cell_type": "code",
   "execution_count": null,
   "id": "ad500b91",
   "metadata": {},
   "outputs": [],
   "source": [
    "network_grid = network_grid_from_raster(\n",
    "    grid,\n",
    "    reducer=AtMostNodes(count=4),\n",
    "    minimum_channel_threshold=50000000,\n",
    "    include=[\"drainage_area\", \"topographic__elevation\"],\n",
    ")\n",
    "\n",
    "plot_nodes(network_grid, markersize=4)\n",
    "plot_links(network_grid)\n",
    "plt.title(\"Nodes and Links\");"
   ]
  },
  {
   "cell_type": "code",
   "execution_count": null,
   "id": "27ee86de",
   "metadata": {},
   "outputs": [],
   "source": [
    "spacing"
   ]
  },
  {
   "cell_type": "code",
   "execution_count": null,
   "id": "7a76c762",
   "metadata": {},
   "outputs": [],
   "source": [
    "spacing = spacing_from_drainage_area(grid.at_node[\"drainage_area\"])\n",
    "\n",
    "network_grid = network_grid_from_raster(\n",
    "    grid,\n",
    "    reducer=SpacingAtLeast(grid.xy_of_node, spacing),\n",
    "    minimum_channel_threshold=50000000,\n",
    "    include=[\"drainage_area\", \"topographic__elevation\"],\n",
    ")\n",
    "\n",
    "plot_nodes(network_grid, with_id=False, markersize=4)\n",
    "plot_links(network_grid, with_id=False)\n",
    "plt.title(\"Nodes and Links\");"
   ]
  },
  {
   "cell_type": "code",
   "execution_count": null,
   "id": "f934a251",
   "metadata": {},
   "outputs": [],
   "source": [
    "grid.size"
   ]
  },
  {
   "cell_type": "code",
   "execution_count": null,
   "id": "231f016f",
   "metadata": {},
   "outputs": [],
   "source": []
  }
 ],
 "metadata": {
  "kernelspec": {
   "display_name": "Python 3 (ipykernel)",
   "language": "python",
   "name": "python3"
  },
  "language_info": {
   "codemirror_mode": {
    "name": "ipython",
    "version": 3
   },
   "file_extension": ".py",
   "mimetype": "text/x-python",
   "name": "python",
   "nbconvert_exporter": "python",
   "pygments_lexer": "ipython3",
   "version": "3.8.12"
  }
 },
 "nbformat": 4,
 "nbformat_minor": 5
}
