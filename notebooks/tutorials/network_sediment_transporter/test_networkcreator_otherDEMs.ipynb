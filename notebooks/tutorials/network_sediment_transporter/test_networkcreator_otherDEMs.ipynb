{
 "cells": [
  {
   "cell_type": "markdown",
   "id": "6ec401f7",
   "metadata": {},
   "source": [
    "## Network Creater: Larger DEMs\n",
    "\n",
    "This notebook tests the network model grid creator on a DEM of the Skokomish river basin in Western Washington with (416 x 320) 100m grid cells"
   ]
  },
  {
   "cell_type": "code",
   "execution_count": null,
   "id": "26ba8beb",
   "metadata": {
    "scrolled": true
   },
   "outputs": [],
   "source": [
    "import matplotlib.pyplot as plt\n",
    "import numpy as np\n",
    "import os\n",
    "\n",
    "# landlab modules\n",
    "from landlab.plot.graph import plot_nodes, plot_links\n",
    "from landlab.io import read_esri_ascii, write_esri_ascii\n",
    "\n",
    "# Package for plotting raster data\n",
    "from landlab.plot.imshow import imshow_grid\n",
    "from landlab.grid.create_network import network_grid_from_raster\n",
    "\n",
    "from landlab.grid.create_network import (\n",
    "    AtMostNodes,\n",
    "    JustEndNodes,\n",
    "    SpacingAtLeast,\n",
    "    spacing_from_drainage_area,\n",
    ")"
   ]
  },
  {
   "cell_type": "markdown",
   "id": "1569da3b",
   "metadata": {},
   "source": [
    "### Load DEM as a RasterModelGrid"
   ]
  },
  {
   "cell_type": "markdown",
   "id": "a8fca5bf",
   "metadata": {},
   "source": [
    "local directory for DEM (eventually upload to folder so this is not necessary)"
   ]
  },
  {
   "cell_type": "code",
   "execution_count": null,
   "id": "465dc3c9",
   "metadata": {},
   "outputs": [],
   "source": [
    "DEM_dir = r\"C:\\Users\\sahrendt\\OneDrive\\525 Tectonic Geomorphology\\Final_Proposal\\data\""
   ]
  },
  {
   "cell_type": "markdown",
   "id": "6a8e4134",
   "metadata": {},
   "source": [
    "read file"
   ]
  },
  {
   "cell_type": "code",
   "execution_count": null,
   "id": "da0b8b7d",
   "metadata": {},
   "outputs": [],
   "source": [
    "grid, z = read_esri_ascii(\n",
    "    os.path.join(DEM_dir, \"skokomish_elev_100m_gdalwarp.asc\"),\n",
    "    name=\"topographic__elevation\"\n",
    ")\n",
    "grid.status_at_node[np.ma.masked_where(z == -9999, z).mask] = grid.BC_NODE_IS_CLOSED "
   ]
  },
  {
   "cell_type": "markdown",
   "id": "3c483147",
   "metadata": {},
   "source": [
    "### Set a watershed boundary condition for your grid\n",
    "\n",
    "This function uses the minimum elevation node nearest to the nodata values. This DEM only has one possible node, so it is easy for the function to determine. If an error is thrown that says 'Grid has multiple potential outlet nodes' choose one from the list of node IDs shown in the error window. (You may want to plot them on your DEM to verify that they make sense as an outlet node--see below). This error may happen when there are a few very low elevation cells.\n",
    "* Note: this step is important for deliniating the channel. If you find the code is taking a long time to generate the NetworkModelGrid, check which node you set as the boundary condition."
   ]
  },
  {
   "cell_type": "code",
   "execution_count": null,
   "id": "2bc029d5",
   "metadata": {},
   "outputs": [],
   "source": [
    "grid.set_watershed_boundary_condition(\n",
    "    'topographic__elevation',\n",
    "    nodata_value=-9999.0,\n",
    "    return_outlet_id=True\n",
    ")"
   ]
  },
  {
   "cell_type": "markdown",
   "id": "4eb6a3dd",
   "metadata": {},
   "source": [
    "### Plot the DEM and outlet node"
   ]
  },
  {
   "cell_type": "code",
   "execution_count": null,
   "id": "9c871a8d",
   "metadata": {},
   "outputs": [],
   "source": [
    "imshow_grid(\n",
    "    grid,\n",
    "    \"topographic__elevation\",\n",
    "    plot_name=\"Basin topography\",\n",
    "    color_for_closed=None,\n",
    "    colorbar_label=\"$z$ [m]\",\n",
    "    vmin=0\n",
    ")\n",
    "#here you can test your outlet node location\n",
    "#looks like what we'd expect for the outlet node here\n",
    "test_outlet_node_id = 25900\n",
    "plt.scatter(\n",
    "    grid.node_x[test_outlet_node_id],\n",
    "    grid.node_y[test_outlet_node_id],\n",
    "    color='red'\n",
    ")"
   ]
  },
  {
   "cell_type": "markdown",
   "id": "b9af3389",
   "metadata": {},
   "source": [
    "### Generate Network\n",
    "\n",
    "Now we will generate a network using the default placement of a NetworkModelGrid node for every corresponding RasterModelGrid node. You may want to coarsen this later when you decide what is an acceptable NetworkModelGrid spacing for a NetworkSedimentTransporter model. (i.e. stability). Some notes:\n",
    "\n",
    "* Be SURE you have a ballpark minimum channel threshhold: this is a drainage area threshhold that sets the upstream drainage area for which you want to truncate your channel network. Start high, and then reduce for a more complex network that extends to higher elevations.\n",
    "* Be sure you have your outlet node defined\n",
    "* You can pass information from the RasterModelGrid nodes to the NetworkModelGrid nodes using the 'include' variable if you have other things attached to your RasterModelGrid that would be helpful for the NetworkModelGrid to know (i.e. slope)"
   ]
  },
  {
   "cell_type": "code",
   "execution_count": null,
   "id": "77f4430c",
   "metadata": {},
   "outputs": [],
   "source": [
    "network_grid = network_grid_from_raster(\n",
    "    grid,\n",
    "    minimum_channel_threshold=25000000,\n",
    "    include=[\"drainage_area\", \"topographic__elevation\"],\n",
    ")"
   ]
  },
  {
   "cell_type": "code",
   "execution_count": null,
   "id": "61404af2",
   "metadata": {},
   "outputs": [],
   "source": [
    "imshow_grid(\n",
    "    grid,\n",
    "    \"topographic__elevation\",\n",
    "    plot_name=\"Basin topography\",\n",
    "    color_for_closed=None,\n",
    "    colorbar_label=\"$z$ [m]\",\n",
    ")\n",
    "plot_links(network_grid, with_id=False)\n",
    "plot_nodes(network_grid, with_id=False, markersize=0.2)"
   ]
  },
  {
   "cell_type": "markdown",
   "id": "3c4fb922",
   "metadata": {},
   "source": [
    "### Refine Network using Reducers"
   ]
  },
  {
   "cell_type": "markdown",
   "id": "066af19a",
   "metadata": {},
   "source": [
    "Now we will use the Reducer options to reduce the number of nodes on the network. This shows an example where 10 nodes are placed on each segment of the river between bifurcations."
   ]
  },
  {
   "cell_type": "code",
   "execution_count": null,
   "id": "ad500b91",
   "metadata": {},
   "outputs": [],
   "source": [
    "network_grid = network_grid_from_raster(\n",
    "    grid,\n",
    "    reducer=AtMostNodes(count=10),\n",
    "    minimum_channel_threshold=25000000,\n",
    "    include=[\"drainage_area\", \"topographic__elevation\"],\n",
    ")\n",
    "\n",
    "plot_nodes(network_grid, markersize=4)\n",
    "plot_links(network_grid)\n",
    "plt.title(\"Nodes and Links\");"
   ]
  },
  {
   "cell_type": "markdown",
   "id": "85dd3a88",
   "metadata": {},
   "source": [
    "Realistically, you may want to reduce your NetworkModelGrid node spacing in the steeper, higher elevation areas of the basin for stability of the NetworkSedimentTransporter model. Here, we show an option to define the network node spacing from an upstream drainage area relation that estimates river width from the Frasson et al. 2019 (GRL) power law relationship:\n",
    "\n",
    "$W=a*DA^b$\n",
    "\n",
    "where $W$ is width $DA$ is drainage area and $a$ and $b$ are parameters. The function uses default values for a and b reported in the paper from fitting field data, but you  may want to adjust this depending on your river system. Changing n_widths will adjust node spacing by a certain multiple of local river width."
   ]
  },
  {
   "cell_type": "code",
   "execution_count": null,
   "id": "7a76c762",
   "metadata": {},
   "outputs": [],
   "source": [
    "spacing = spacing_from_drainage_area(\n",
    "    grid.at_node[\"drainage_area\"],\n",
    "    a=9.68,\n",
    "    b=0.32,\n",
    "    n_widths=50\n",
    ")\n",
    "\n",
    "\n",
    "network_grid = network_grid_from_raster(\n",
    "    grid,\n",
    "    reducer=SpacingAtLeast(grid.xy_of_node, spacing),\n",
    "    minimum_channel_threshold=50000000,\n",
    "    include=[\"drainage_area\", \"topographic__elevation\"],\n",
    ")\n",
    "\n",
    "plot_nodes(network_grid, with_id=False, markersize=4)\n",
    "plot_links(network_grid, with_id=False)\n",
    "plt.title(\"Nodes and Links\");"
   ]
  }
 ],
 "metadata": {
  "kernelspec": {
   "display_name": "Python 3 (ipykernel)",
   "language": "python",
   "name": "python3"
  },
  "language_info": {
   "codemirror_mode": {
    "name": "ipython",
    "version": 3
   },
   "file_extension": ".py",
   "mimetype": "text/x-python",
   "name": "python",
   "nbconvert_exporter": "python",
   "pygments_lexer": "ipython3",
   "version": "3.9.10"
  }
 },
 "nbformat": 4,
 "nbformat_minor": 5
}
