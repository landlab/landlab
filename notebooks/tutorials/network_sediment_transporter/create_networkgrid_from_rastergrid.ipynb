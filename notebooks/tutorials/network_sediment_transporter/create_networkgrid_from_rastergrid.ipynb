{
 "cells": [
  {
   "cell_type": "markdown",
   "id": "3820f6b7",
   "metadata": {},
   "source": [
    "## Create A Network Grid from Raster Grid\n",
    "\n",
    "This notebook demonstrates how to extract a NetworkModelGrid from a RasterModelGrid using the 'create_network_from_raster' function"
   ]
  },
  {
   "cell_type": "code",
   "execution_count": null,
   "id": "474a2521",
   "metadata": {},
   "outputs": [],
   "source": [
    "import os\n",
    "import pathlib\n",
    "import matplotlib.pyplot as plt\n",
    "import numpy as np\n",
    "from collections import OrderedDict\n",
    "import pandas as pd\n",
    "\n",
    "# landlab modules\n",
    "from landlab.grid.network import NetworkModelGrid\n",
    "from landlab.plot import graph\n",
    "from landlab import RasterModelGrid\n",
    "from landlab.io import read_esri_ascii\n",
    "from landlab import imshow_grid_at_node\n",
    "from landlab.components import FlowAccumulator, ChannelProfiler\n",
    "from landlab.components import DepressionFinderAndRouter\n",
    "\n",
    "# Package for plotting raster data\n",
    "from landlab.plot.imshow import imshow_grid, imshow_grid_at_node\n",
    "from landlab.grid.create_network import create_network_from_raster"
   ]
  },
  {
   "cell_type": "markdown",
   "id": "3eab0372",
   "metadata": {},
   "source": [
    "## Import a DEM\n",
    "Setup this notebook to draw DEM data for the Hugo Site from the overland_flow tutorial folder."
   ]
  },
  {
   "cell_type": "code",
   "execution_count": null,
   "id": "a681e383",
   "metadata": {},
   "outputs": [],
   "source": [
    "tutorial_dir = os.path.dirname(os.getcwd())\n",
    "raster_fn = os.path.join(tutorial_dir, \"overland_flow/hugo_site.asc\")  # mac\n",
    "# raster_fn = os.path.join(tutorial_dir, 'overland_flow\\\\hugo_site.asc') #windows"
   ]
  },
  {
   "cell_type": "markdown",
   "id": "ab6a06a0",
   "metadata": {},
   "source": [
    "## Create a Raster Model Grid\n",
    "\n",
    "Now let's create a raster model grid from the .asc data"
   ]
  },
  {
   "cell_type": "code",
   "execution_count": null,
   "id": "ce94cdfa",
   "metadata": {},
   "outputs": [],
   "source": [
    "rmg, z = read_esri_ascii(raster_fn, name=\"topographic__elevation\")\n",
    "rmg.status_at_node[rmg.nodes_at_right_edge] = rmg.BC_NODE_IS_FIXED_VALUE\n",
    "rmg.status_at_node[np.isclose(z, -9999.0)] = rmg.BC_NODE_IS_CLOSED"
   ]
  },
  {
   "cell_type": "markdown",
   "id": "f8b18866",
   "metadata": {},
   "source": [
    "Visualize Basin topography"
   ]
  },
  {
   "cell_type": "code",
   "execution_count": null,
   "id": "f3df58bf",
   "metadata": {},
   "outputs": [],
   "source": [
    "plt.figure(figsize=(8, 4))\n",
    "imshow_grid(\n",
    "    rmg,\n",
    "    \"topographic__elevation\",\n",
    "    plot_name=\"Basin topography\",\n",
    "    color_for_closed=None,\n",
    "    colorbar_label=\"$z$ [m]\",\n",
    ")\n",
    "plt.show()"
   ]
  },
  {
   "cell_type": "markdown",
   "id": "ae6ae91c",
   "metadata": {},
   "source": [
    "## Create  a Network Model Grid\n",
    "\n",
    "Now let's create a network model grid using the 'create_network_from_raster' function:"
   ]
  },
  {
   "cell_type": "code",
   "execution_count": null,
   "id": "3204554c",
   "metadata": {},
   "outputs": [],
   "source": [
    "nmg = create_network_from_raster(\n",
    "    rmg,\n",
    "    method=\"variable\",\n",
    "    n_widths=20,\n",
    "    # node_spacing=30,\n",
    "    min_channel_thresh=12000,\n",
    "    fields=[\"drainage_area\", \"topographic__elevation\"],\n",
    ")"
   ]
  },
  {
   "cell_type": "markdown",
   "id": "86d87501",
   "metadata": {},
   "source": [
    "## Let's plot our network"
   ]
  },
  {
   "cell_type": "code",
   "execution_count": null,
   "id": "4c9d002a",
   "metadata": {},
   "outputs": [],
   "source": [
    "# Package for plotting networks\n",
    "from landlab.plot import graph"
   ]
  },
  {
   "cell_type": "code",
   "execution_count": null,
   "id": "564881ee",
   "metadata": {},
   "outputs": [],
   "source": [
    "## Plot nodes\n",
    "plt.figure(figsize=(18, 5))\n",
    "plt.subplot(1, 2, 1)\n",
    "graph.plot_nodes(nmg)\n",
    "plt.title(\"Nodes\")\n",
    "\n",
    "## Plot nodes + links\n",
    "plt.subplot(1, 2, 2)\n",
    "graph.plot_nodes(nmg, with_id=False, markersize=4)\n",
    "graph.plot_links(nmg)\n",
    "plt.title(\"Links\")\n",
    "plt.show()"
   ]
  },
  {
   "cell_type": "code",
   "execution_count": null,
   "id": "91cb9671",
   "metadata": {
    "scrolled": false
   },
   "outputs": [],
   "source": [
    "plt.figure(figsize=(8, 4))\n",
    "graph.plot_nodes(nmg, with_id=False, markersize=4)\n",
    "graph.plot_links(nmg, with_id=False)\n",
    "imshow_grid(\n",
    "    rmg,\n",
    "    \"topographic__elevation\",\n",
    "    plot_name=\"Basin topography\",\n",
    "    color_for_closed=None,\n",
    "    colorbar_label=\"$z$ [m]\",\n",
    ")\n",
    "plt.show()"
   ]
  },
  {
   "cell_type": "code",
   "execution_count": null,
   "id": "45ad65bc",
   "metadata": {},
   "outputs": [],
   "source": [
    "len(nmg.nodes_at_link), len(nmg.nodes)"
   ]
  },
  {
   "cell_type": "code",
   "execution_count": null,
   "id": "6d141565",
   "metadata": {},
   "outputs": [],
   "source": [
    "if len(nmg.nodes_at_link) > (len(nmg.nodes) - 1):\n",
    "    print(\"there are duplicate links\")\n",
    "else:\n",
    "    print(\"link count looks good!\")"
   ]
  }
 ],
 "metadata": {
  "kernelspec": {
   "display_name": "Python 3",
   "language": "python",
   "name": "python3"
  },
  "language_info": {
   "codemirror_mode": {
    "name": "ipython",
    "version": 3
   },
   "file_extension": ".py",
   "mimetype": "text/x-python",
   "name": "python",
   "nbconvert_exporter": "python",
   "pygments_lexer": "ipython3",
   "version": "3.8.1"
  }
 },
 "nbformat": 4,
 "nbformat_minor": 5
}
