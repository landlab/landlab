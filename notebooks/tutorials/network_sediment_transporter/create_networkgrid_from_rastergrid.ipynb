{
 "cells": [
  {
   "cell_type": "markdown",
   "id": "0",
   "metadata": {},
   "source": [
    "## Create A Network Grid from Raster Grid\n",
    "\n",
    "This notebook demonstrates how to extract a NetworkModelGrid from a RasterModelGrid using the 'create_network_from_raster' function"
   ]
  },
  {
   "cell_type": "code",
   "execution_count": null,
   "id": "1",
   "metadata": {},
   "outputs": [],
   "source": [
    "import matplotlib.pyplot as plt\n",
    "import numpy as np\n",
    "\n",
    "from landlab.grid.create_network import network_grid_from_raster\n",
    "from landlab.io import read_esri_ascii\n",
    "from landlab.plot.graph import plot_links, plot_nodes\n",
    "from landlab.plot.imshow import imshow_grid"
   ]
  },
  {
   "cell_type": "markdown",
   "id": "2",
   "metadata": {},
   "source": [
    "## Create a Raster Model Grid\n",
    "\n",
    "Now let's create a raster model grid from the .asc data"
   ]
  },
  {
   "cell_type": "code",
   "execution_count": null,
   "id": "3",
   "metadata": {},
   "outputs": [],
   "source": [
    "grid, z = read_esri_ascii(\"hugo_site.asc\", name=\"topographic__elevation\")\n",
    "grid.status_at_node[grid.nodes_at_right_edge] = grid.BC_NODE_IS_FIXED_VALUE\n",
    "grid.status_at_node[np.isclose(z, -9999.0)] = grid.BC_NODE_IS_CLOSED"
   ]
  },
  {
   "cell_type": "markdown",
   "id": "4",
   "metadata": {},
   "source": [
    "Visualize Basin topography"
   ]
  },
  {
   "cell_type": "code",
   "execution_count": null,
   "id": "5",
   "metadata": {},
   "outputs": [],
   "source": [
    "imshow_grid(\n",
    "    grid,\n",
    "    \"topographic__elevation\",\n",
    "    plot_name=\"Basin topography\",\n",
    "    color_for_closed=None,\n",
    "    colorbar_label=\"$z$ [m]\",\n",
    ")"
   ]
  },
  {
   "cell_type": "markdown",
   "id": "6",
   "metadata": {},
   "source": [
    "## Create  a Network Model Grid\n",
    "\n",
    "Now let's create a network model grid using the 'create_network_from_raster' function:"
   ]
  },
  {
   "cell_type": "code",
   "execution_count": null,
   "id": "7",
   "metadata": {},
   "outputs": [],
   "source": [
    "network_grid = network_grid_from_raster(\n",
    "    grid,\n",
    "    minimum_channel_threshold=12000.0,\n",
    "    include=[\"drainage_area\", \"topographic__elevation\"],\n",
    ")"
   ]
  },
  {
   "cell_type": "markdown",
   "id": "8",
   "metadata": {},
   "source": [
    "## Let's plot our network"
   ]
  },
  {
   "cell_type": "markdown",
   "id": "9",
   "metadata": {},
   "source": [
    "The nodes are numbered in *landlab* convention of lower-left to upper-right."
   ]
  },
  {
   "cell_type": "code",
   "execution_count": null,
   "id": "10",
   "metadata": {},
   "outputs": [],
   "source": [
    "plot_nodes(network_grid, markersize=4)\n",
    "plt.title(\"Nodes\");"
   ]
  },
  {
   "cell_type": "markdown",
   "id": "11",
   "metadata": {},
   "source": [
    "As are the links,"
   ]
  },
  {
   "cell_type": "code",
   "execution_count": null,
   "id": "12",
   "metadata": {},
   "outputs": [],
   "source": [
    "plot_nodes(network_grid, with_id=False, markersize=4)\n",
    "plot_links(network_grid)\n",
    "plt.title(\"Links\");"
   ]
  },
  {
   "cell_type": "code",
   "execution_count": null,
   "id": "13",
   "metadata": {},
   "outputs": [],
   "source": [
    "imshow_grid(\n",
    "    grid,\n",
    "    \"topographic__elevation\",\n",
    "    plot_name=\"Basin topography\",\n",
    "    color_for_closed=None,\n",
    "    colorbar_label=\"$z$ [m]\",\n",
    ")\n",
    "plot_links(network_grid, with_id=False)"
   ]
  },
  {
   "cell_type": "code",
   "execution_count": null,
   "id": "14",
   "metadata": {},
   "outputs": [],
   "source": [
    "if len(network_grid.nodes_at_link) > (len(network_grid.nodes) - 1):\n",
    "    print(\"there are duplicate links\")\n",
    "else:\n",
    "    print(\"link count looks good!\")"
   ]
  },
  {
   "cell_type": "markdown",
   "id": "15",
   "metadata": {},
   "source": [
    "# Reduce the numer of nodes in channel segments\n",
    "\n",
    "In the above, we have preserved every node in each channel segment. You can reduce the number of nodes in each segment by passing a *reducer* to the *network_grid_from_raster* function. A *reducer* is simply a function that accepts a list of nodes defining a segment. Although you can write your own, *landlab* provides a set of commonly used reducers."
   ]
  },
  {
   "cell_type": "code",
   "execution_count": null,
   "id": "16",
   "metadata": {},
   "outputs": [],
   "source": [
    "from landlab.grid.create_network import (\n",
    "    AtMostNodes,\n",
    "    JustEndNodes,\n",
    "    SpacingAtLeast,\n",
    "    spacing_from_drainage_area,\n",
    ")"
   ]
  },
  {
   "cell_type": "markdown",
   "id": "17",
   "metadata": {},
   "source": [
    "As an example, the following will retain only the downstream and upstream node of each segment."
   ]
  },
  {
   "cell_type": "code",
   "execution_count": null,
   "id": "18",
   "metadata": {},
   "outputs": [],
   "source": [
    "network_grid = network_grid_from_raster(\n",
    "    grid,\n",
    "    reducer=JustEndNodes(),\n",
    "    minimum_channel_threshold=12000.0,\n",
    "    include=[\"drainage_area\", \"topographic__elevation\"],\n",
    ")\n",
    "\n",
    "plot_nodes(network_grid, markersize=4)\n",
    "plot_links(network_grid)\n",
    "plt.title(\"Nodes and Links\");"
   ]
  },
  {
   "cell_type": "markdown",
   "id": "19",
   "metadata": {},
   "source": [
    "Reduce to a maximum number of nodes per segment (including end nodes), use *AtMostNodes*,"
   ]
  },
  {
   "cell_type": "code",
   "execution_count": null,
   "id": "20",
   "metadata": {},
   "outputs": [],
   "source": [
    "network_grid = network_grid_from_raster(\n",
    "    grid,\n",
    "    reducer=AtMostNodes(count=4),\n",
    "    minimum_channel_threshold=12000.0,\n",
    "    include=[\"drainage_area\", \"topographic__elevation\"],\n",
    ")\n",
    "\n",
    "plot_nodes(network_grid, markersize=4)\n",
    "plot_links(network_grid)\n",
    "plt.title(\"Nodes and Links\");"
   ]
  },
  {
   "cell_type": "markdown",
   "id": "21",
   "metadata": {},
   "source": [
    "Another option is to specify a spacing at each node. The spacing can be either a scalar, meaning the spacing is the same for every node, or can vary from node to node. An example of the latter is a spacing that depends on upstream area at each node."
   ]
  },
  {
   "cell_type": "code",
   "execution_count": null,
   "id": "22",
   "metadata": {},
   "outputs": [],
   "source": [
    "spacing = spacing_from_drainage_area(grid.at_node[\"drainage_area\"])\n",
    "\n",
    "network_grid = network_grid_from_raster(\n",
    "    grid,\n",
    "    reducer=SpacingAtLeast(grid.xy_of_node, spacing),\n",
    "    minimum_channel_threshold=12000.0,\n",
    "    include=[\"drainage_area\", \"topographic__elevation\"],\n",
    ")\n",
    "\n",
    "plot_nodes(network_grid, with_id=False, markersize=4)\n",
    "plot_links(network_grid, with_id=False)\n",
    "plt.title(\"Nodes and Links\");"
   ]
  }
 ],
 "metadata": {
  "kernelspec": {
   "display_name": "Python 3 (ipykernel)",
   "language": "python",
   "name": "python3"
  },
  "language_info": {
   "codemirror_mode": {
    "name": "ipython",
    "version": 3
   },
   "file_extension": ".py",
   "mimetype": "text/x-python",
   "name": "python",
   "nbconvert_exporter": "python",
   "pygments_lexer": "ipython3",
   "version": "3.8.12"
  }
 },
 "nbformat": 4,
 "nbformat_minor": 5
}
