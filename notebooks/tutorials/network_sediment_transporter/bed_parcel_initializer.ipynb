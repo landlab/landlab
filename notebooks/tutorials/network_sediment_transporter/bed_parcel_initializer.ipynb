{
 "cells": [
  {
   "cell_type": "markdown",
   "metadata": {},
   "source": [
    "<a href=\"http://landlab.github.io\"><img style=\"float: left\" src=\"../../landlab_header.png\"></a>"
   ]
  },
  {
   "cell_type": "markdown",
   "metadata": {},
   "source": [
    "# Using the Landlab BedParcelInitializer components to initialize river bed sediment parcels for the NetworkSedimentTransporter component\n",
    "\n",
    "<hr>\n",
    "<small>For more Landlab tutorials, click here: <a href=\"https://landlab.readthedocs.io/en/latest/user_guide/tutorials.html\">https://landlab.readthedocs.io/en/latest/user_guide/tutorials.html</a></small>\n",
    "<hr>\n",
    "\n",
    "This tutorial illustrates how to initialize bed sediment to model the transport of coarse sediment through a river network using the NetworkSedimentTransporter Landlab component. \n",
    "\n",
    "In this example we will: \n",
    "- load a river network shapefile to create a Landlab grid to represent a river network\n",
    "- initialize sediment 'parcels' on that river network using the four available BedParcelInitializer components\n",
    "- conduct a simple exploration of the initial parcel attributes"
   ]
  },
  {
   "cell_type": "markdown",
   "metadata": {},
   "source": [
    "Import the necessary libraries, plus a bit of magic so that we can plot within this notebook:"
   ]
  },
  {
   "cell_type": "code",
   "execution_count": 1,
   "metadata": {},
   "outputs": [],
   "source": [
    "#import warnings\n",
    "#warnings.filterwarnings('ignore')\n",
    "\n",
    "import os\n",
    "import pathlib\n",
    "import matplotlib.pyplot as plt\n",
    "import pandas as pd\n",
    "import numpy as np\n",
    "import xarray as xr\n",
    "import scipy.constants\n",
    "from landlab.components import BedParcelInitializerDischarge, BedParcelInitializerDepth, BedParcelInitializerArea, BedParcelInitializerUserD50\n",
    "from landlab.data_record import DataRecord\n",
    "from landlab.grid.network import NetworkModelGrid\n",
    "from landlab.plot import graph\n",
    "from landlab.io import read_shapefile\n",
    "from landlab import ExampleData\n",
    "\n",
    "from landlab.plot import plot_network_and_parcels\n",
    "%matplotlib inline"
   ]
  },
  {
   "cell_type": "markdown",
   "metadata": {},
   "source": [
    "## 1. Load a shapefile that represents the river network\n",
    "\n",
    "First, we need to create a Landlab NetworkModelGrid to represent the river network. Each link on the grid represents a reach of river. Each node represents a break between reaches. All tributary junctions must be associated with grid nodes. "
   ]
  },
  {
   "cell_type": "code",
   "execution_count": 2,
   "metadata": {},
   "outputs": [
    {
     "name": "stderr",
     "output_type": "stream",
     "text": [
      "C:\\ProgramData\\Anaconda3\\envs\\landlab_dev\\lib\\site-packages\\numpy\\core\\fromnumeric.py:43: VisibleDeprecationWarning: Creating an ndarray from ragged nested sequences (which is a list-or-tuple of lists-or-tuples-or ndarrays with different lengths or shapes) is deprecated. If you meant to do this, you must specify 'dtype=object' when creating the ndarray.\n",
      "  result = getattr(asarray(obj), method)(*args, **kwds)\n"
     ]
    }
   ],
   "source": [
    "datadir = ExampleData(\"io/shapefile\", case=\"redb\").base\n",
    "\n",
    "shp_file =datadir/\"a001_network.shp\"\n",
    "points_shapefile = datadir/\"a001_nodes_att.shp\"\n",
    "\n",
    "grid = read_shapefile(\n",
    "    shp_file,\n",
    "    points_shapefile=points_shapefile,\n",
    "    node_fields=[\"usarea_m2\", \"elev_m\"],\n",
    "    link_fields=[\"usarea_km2\", \"Length_m\", \"Slope\"],\n",
    "    link_field_conversion={\"usarea_km2\": \"drainage_area\", \"Slope\":\"channel_slope\", \"Length_m\":\"reach_length\"},\n",
    "    node_field_conversion={\n",
    "        \"usarea_m2\": \"drainage_area_m2\",\n",
    "        \"elev_m\": \"topographic__elevation\",\n",
    "    },\n",
    "    threshold=0.01,\n",
    "    )"
   ]
  },
  {
   "cell_type": "markdown",
   "metadata": {},
   "source": [
    "Let's plot our simple network: "
   ]
  },
  {
   "cell_type": "code",
   "execution_count": 3,
   "metadata": {},
   "outputs": [
    {
     "data": {
      "image/png": "[encoded data removed]",
      "text/plain": [
       "<Figure size 432x288 with 1 Axes>"
      ]
     },
     "metadata": {
      "needs_background": "light"
     },
     "output_type": "display_data"
    }
   ],
   "source": [
    "graph.plot_graph(grid, at=\"node,link\")"
   ]
  },
  {
   "cell_type": "markdown",
   "metadata": {},
   "source": [
    "Our network consists of 12 links (`grid.number_of_links`) between 13 nodes (`grid.number_of_nodes`). In the plot above, X and Y represent the plan-view coordinates of the node locations. \n",
    "\n",
    "Next, we need to populate the grid with the relevant topographic and hydrologic information: "
   ]
  },
  {
   "cell_type": "code",
   "execution_count": 4,
   "metadata": {},
   "outputs": [],
   "source": [
    "grid.at_node[\"bedrock__elevation\"] = grid.at_node[\"topographic__elevation\"].copy()\n",
    "\n",
    "grid.at_link[\"channel_width\"] = 1 * np.ones(grid.number_of_links) # m\n",
    "\n",
    "grid.at_link[\"flow_depth\"] = 0.5 * np.ones(grid.number_of_links) # m"
   ]
  },
  {
   "cell_type": "markdown",
   "metadata": {},
   "source": [
    "We must distinguish between topographic elevation (the top surface of the bed sediment) and bedrock elevation (the surface of the river in the absence of modeled sediment)."
   ]
  },
  {
   "cell_type": "markdown",
   "metadata": {},
   "source": [
    "## 2. Create initial sediment 'parcels' in a DataRecord\n",
    "\n",
    "We represent sediment in the network as discrete parcels (or packages) of grains of uniform size and characteristics. Each parcel is tracked through the network grid according to sediment transport and stratigraphic constraints. \n",
    "\n",
    "Parcels are tracked using the Landlab <a href=\"http://localhost:8888/notebooks/Documents/GitHub/landlab/notebooks/tutorials/data_record/DataRecord_tutorial.ipynb\">DataRecord</a>. \n",
    "\n",
    "There are four available components for initiating bed sediment parcels, each of which take different parameters to determine the initial median grain size (d50) of the bed sediment. All initializers return a DataRecord of parcels with a set of parcels with a lognormal distribution of parcel grain sizes. By default, the d84 is 2.1 times d50, though the user can change the with of the grain size distribution. \n",
    "\n",
    "#### 1. BedParcelInitializerDischarge: set d50 via link discharge and Manning's _n_ roughness\n",
    "We calculate initial sediment median grain size (d50) for each link using dominant discharge and channel width (via the Snyder et al.(2013) formula). Total parcel volume is function of active layer thickness, which is estimated from grain size (d84). We calculate the parcel volume by setting minimum number of parcels as 100. \n",
    "Let's create arrays with all of the essential sediment parcel variables by running the Landlab utility BedParcelInitializer: "
   ]
  },
  {
   "cell_type": "code",
   "execution_count": 5,
   "metadata": {},
   "outputs": [
    {
     "name": "stderr",
     "output_type": "stream",
     "text": [
      "c:\\users\\pfeiffa\\documents\\github\\landlab\\landlab\\components\\network_sediment_transporter\\bed_parcel_initializers.py:86: UserWarning: calculated d50 is unrealistically large ({d50} m)\n",
      "  warnings.warn(\"calculated d50 is unrealistically large ({d50} m)\")\n"
     ]
    }
   ],
   "source": [
    "discharge_at_link = np.full(grid.number_of_links, 80.0)\n",
    "\n",
    "initialize_parcels = BedParcelInitializerDischarge(grid,\n",
    "                                           discharge_at_link = discharge_at_link\n",
    "                                         )\n",
    "parcels = initialize_parcels()"
   ]
  },
  {
   "cell_type": "markdown",
   "metadata": {},
   "source": [
    "See the warning? Let's check the maximum median grain size.."
   ]
  },
  {
   "cell_type": "code",
   "execution_count": 6,
   "metadata": {},
   "outputs": [
    {
     "data": {
      "text/plain": [
       "5.4662416965736407"
      ]
     },
     "execution_count": 6,
     "metadata": {},
     "output_type": "execute_result"
    }
   ],
   "source": [
    "D50 = parcels.calc_aggregate_value(\n",
    "            xr.Dataset.median,\n",
    "            \"D\",\n",
    "            at=\"link\",\n",
    "            fill_value=0.0\n",
    "        )\n",
    "\n",
    "np.max(D50)"
   ]
  },
  {
   "cell_type": "markdown",
   "metadata": {},
   "source": [
    "Yes, a >4 m median grain size is almost certainly not the kind of channel we were trying to model. \n",
    "\n",
    "Other notes: channel width is passed to the component via the NetworkModelGrid.  Above, we let the component use the default Manning's _n_ roughness value, 0.035, and critical Shields stress, 0.04. We could change that, or other parameters, if we want: "
   ]
  },
  {
   "cell_type": "code",
   "execution_count": 7,
   "metadata": {},
   "outputs": [],
   "source": [
    "discharge_at_link = np.full(grid.number_of_links, 1.0)\n",
    "\n",
    "initialize_parcels = BedParcelInitializerDischarge(grid,\n",
    "                                           discharge_at_link = discharge_at_link, \n",
    "                                           mannings_n = 0.05, \n",
    "                                           tau_c_50 = 0.08, \n",
    "                                           std_dev = 3, #a wider grain size distribution\n",
    "                                         )\n",
    "parcels = initialize_parcels()"
   ]
  },
  {
   "cell_type": "markdown",
   "metadata": {},
   "source": [
    "#### 2. BedParcelInitializerDepth: set $D_{50}$ via link flow depth, channel slope, and Shields stress\n",
    "We calculate initial sediment median grain size (d50) for each link using a formative (e.g. bankfull) flow depth, as in Pfeiffer et al. (2017). The user can change critical Shields stress and a \"multiplier\" as well, the default values of which are 0.04 and 1, respectively.  "
   ]
  },
  {
   "cell_type": "code",
   "execution_count": 8,
   "metadata": {},
   "outputs": [],
   "source": [
    "depth= np.full(grid.number_of_links, 0.3)\n",
    "initialize_parcels = BedParcelInitializerDepth(grid,\n",
    "                                          flow_depth_at_link = depth,\n",
    "                                          )\n",
    "parcels = initialize_parcels()"
   ]
  },
  {
   "cell_type": "markdown",
   "metadata": {},
   "source": [
    "As with the Discharge method above, here channel slope is passed to the parcel initializer via the grid. \n",
    "\n",
    "#### 3. BedParcelInitializerArea: set $D_{50}$ via hydraulic geometry scaling with drainage area\n",
    "We calculate initial median sediment grain size (d50) for each link using a power law scaling relationship with drainage area. Other parcel attributes as above. "
   ]
  },
  {
   "cell_type": "code",
   "execution_count": 9,
   "metadata": {},
   "outputs": [],
   "source": [
    "initialize_parcels = BedParcelInitializerArea(grid,\n",
    "                                          drainage_area_coefficient = 0.1,\n",
    "                                          drainage_area_exponent = 0.3\n",
    "                                          )\n",
    "\n",
    "parcels = initialize_parcels()\n"
   ]
  },
  {
   "cell_type": "markdown",
   "metadata": {},
   "source": [
    "#### 3. BedParcelInitializerUserD50: \n",
    "\n",
    "The user can specify either a d50 for each link in the network, or a single d50 for all links. "
   ]
  },
  {
   "cell_type": "code",
   "execution_count": 10,
   "metadata": {},
   "outputs": [],
   "source": [
    "d50_each_link= np.full(grid.number_of_links, 80.0)\n",
    "# or\n",
    "single_d50 = 0.05\n",
    "\n",
    "initialize_parcels = BedParcelInitializerUserD50(grid,\n",
    "                                          # user_d50 = d50_each_link,\n",
    "                                          user_d50 = single_d50\n",
    "                                          )\n",
    "\n",
    "parcels = initialize_parcels()"
   ]
  },
  {
   "cell_type": "markdown",
   "metadata": {},
   "source": [
    "#### Many options available for specifying $D_{50}$\n"
   ]
  },
  {
   "cell_type": "code",
   "execution_count": 11,
   "metadata": {},
   "outputs": [],
   "source": [
    "date =  '2017-11-08 17:50:00'\n",
    "starting_time = pd.to_datetime(date)\n",
    "\n",
    "time = [starting_time]  \n",
    "\n",
    "depth = np.full(grid.number_of_links, 1.2)\n",
    "slope_depend_Shields = 0.15*grid.at_link['channel_slope']**0.25\n",
    "tau_c_multiplier = 2.3 \n",
    "\n",
    "initialize_parcels = BedParcelInitializerDepth(grid,\n",
    "                                          flow_depth_at_link = depth,\n",
    "                                          tau_c_50=slope_depend_Shields,\n",
    "                                          tau_c_multiplier = tau_c_multiplier,\n",
    "                                          median_number_of_starting_parcels= 100,\n",
    "                                          extra_parcel_attributes = ['lithology','Be10_c']\n",
    "                                          )\n",
    "\n",
    "parcels = initialize_parcels()\n",
    "\n",
    "parcels.dataset['lithology'].values = np.full(parcels.number_of_items,'quartzite')\n",
    "parcels.dataset['Be10_c'].values = np.full(parcels.number_of_items,'222.2')"
   ]
  },
  {
   "cell_type": "markdown",
   "metadata": {},
   "source": [
    "In order to track sediment motion, we classify parcels as either active (representing mobile surface sediment) or inactive (immobile subsurface) during each timestep. The active parcels are the most recent parcels to arrive in the link. During a timestep, active parcels are transported downstream (increasing their `location_in_link`, which is a normalized value ranging from 0 to 1) according to a sediment transport formula. \n",
    "\n",
    "We begin by assigning each parcel an arbitrary (and small) arrival time and location in the link. \n",
    "\n",
    "In addition to the required parcel attributes listed above, you can designate optional parcel characteristics, depending on your needs. \n",
    "We now collect the arrays into a dictionary of variables, some of which will be tracked through time (`[\"item_id\", \"time\"]`), and others of which will remain constant through time.\n",
    "With all of the required attributes collected, we can create the parcels DataRecord. Often, parcels will eventually transport off of the downstream-most link. To track these parcels, we have designated a \"`dummy_element`\" here, which has index value `-2`. "
   ]
  },
  {
   "cell_type": "markdown",
   "metadata": {},
   "source": [
    "## 3. Plot to explore starting parcels\n",
    "\n",
    "What grain size did we end up with? How many parcels per link (check)? Etc. \n",
    "\n",
    "First, how many parcels are on the network?"
   ]
  },
  {
   "cell_type": "code",
   "execution_count": 12,
   "metadata": {},
   "outputs": [
    {
     "data": {
      "text/plain": [
       "1129"
      ]
     },
     "execution_count": 12,
     "metadata": {},
     "output_type": "execute_result"
    }
   ],
   "source": [
    "number_of_pacels = parcels.number_of_items\n",
    "number_of_pacels"
   ]
  },
  {
   "cell_type": "markdown",
   "metadata": {},
   "source": [
    "What are the parcel volumes?"
   ]
  },
  {
   "cell_type": "code",
   "execution_count": 13,
   "metadata": {},
   "outputs": [
    {
     "name": "stdout",
     "output_type": "stream",
     "text": [
      "The largest parcels is 8.929 m^3\n",
      "The median parcels is 8.929 m^3\n",
      "The smallest parcels is 0.249 m^3\n"
     ]
    }
   ],
   "source": [
    "print('The largest parcels is', np.round(np.max(parcels.dataset[\"volume\"].values),3), 'm^3')\n",
    "print('The median parcels is', np.round(np.median(parcels.dataset[\"volume\"].values),3), 'm^3')\n",
    "print('The smallest parcels is', np.round(np.min(parcels.dataset[\"volume\"].values),3), 'm^3')"
   ]
  },
  {
   "cell_type": "markdown",
   "metadata": {},
   "source": [
    "Next, what is the median grain size at each link? \n",
    "\n",
    "*Note: we're not weighting the calculation by parcel volume, which is a trivial simplification since nearly all parcels are the same volume*"
   ]
  },
  {
   "cell_type": "code",
   "execution_count": 14,
   "metadata": {},
   "outputs": [
    {
     "data": {
      "image/png": "[encoded data removed]",
      "text/plain": [
       "<Figure size 432x288 with 3 Axes>"
      ]
     },
     "metadata": {
      "needs_background": "light"
     },
     "output_type": "display_data"
    }
   ],
   "source": [
    "D50 = parcels.calc_aggregate_value(\n",
    "            xr.Dataset.median,\n",
    "            \"D\",\n",
    "            at=\"link\",\n",
    "            fill_value=0.0\n",
    "        )\n",
    "\n",
    "fig = plot_network_and_parcels(\n",
    "    grid, parcels,\n",
    "    link_attribute=D50, \n",
    "    link_attribute_title = \"Bulk parcel D50 (m)\",\n",
    "    network_linewidth = 5,\n",
    "    parcel_alpha = 0\n",
    ")"
   ]
  },
  {
   "cell_type": "markdown",
   "metadata": {},
   "source": [
    "What is the volume of sed originating on each link?"
   ]
  },
  {
   "cell_type": "code",
   "execution_count": 15,
   "metadata": {},
   "outputs": [
    {
     "data": {
      "image/png": "[encoded data removed]",
      "text/plain": [
       "<Figure size 432x288 with 3 Axes>"
      ]
     },
     "metadata": {
      "needs_background": "light"
     },
     "output_type": "display_data"
    }
   ],
   "source": [
    "vol_on_link = parcels.calc_aggregate_value(\n",
    "            xr.Dataset.sum,\n",
    "            \"volume\",\n",
    "            at=\"link\",\n",
    "            #filter_array=parcelfilter, # no need to filter to a specific timestep - we just have one \n",
    "            fill_value=0.0\n",
    "        )\n",
    "\n",
    "fig = plot_network_and_parcels(\n",
    "    grid, parcels,\n",
    "    link_attribute=vol_on_link, \n",
    "    link_attribute_title = \"Vol of sed originating on link x\",\n",
    "    network_linewidth = 5,\n",
    "    parcel_alpha = 0\n",
    ")"
   ]
  },
  {
   "cell_type": "markdown",
   "metadata": {},
   "source": [
    "What is the relationship between D50 and channel slope?"
   ]
  },
  {
   "cell_type": "code",
   "execution_count": 16,
   "metadata": {
    "scrolled": true
   },
   "outputs": [
    {
     "data": {
      "text/plain": [
       "Text(0, 0.5, 'D50 (m)')"
      ]
     },
     "execution_count": 16,
     "metadata": {},
     "output_type": "execute_result"
    },
    {
     "data": {
      "image/png": "[encoded data removed]",
      "text/plain": [
       "<Figure size 432x288 with 1 Axes>"
      ]
     },
     "metadata": {
      "needs_background": "light"
     },
     "output_type": "display_data"
    }
   ],
   "source": [
    "plt.plot(grid.at_link[\"channel_slope\"],D50,'.')\n",
    "plt.xlabel('Channel slope')\n",
    "plt.ylabel('D50 (m)')"
   ]
  }
 ],
 "metadata": {
  "kernelspec": {
   "display_name": "Python 3 (ipykernel)",
   "language": "python",
   "name": "python3"
  },
  "language_info": {
   "codemirror_mode": {
    "name": "ipython",
    "version": 3
   },
   "file_extension": ".py",
   "mimetype": "text/x-python",
   "name": "python",
   "nbconvert_exporter": "python",
   "pygments_lexer": "ipython3",
   "version": "3.10.4"
  }
 },
 "nbformat": 4,
 "nbformat_minor": 2
}
