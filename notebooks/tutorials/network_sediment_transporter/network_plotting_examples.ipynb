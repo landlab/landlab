{
 "cells": [
  {
   "cell_type": "markdown",
   "metadata": {},
   "source": [
    "<a href=\"http://landlab.github.io\"><img style=\"float: left\" src=\"../../landlab_header.png\"></a>"
   ]
  },
  {
   "cell_type": "markdown",
   "metadata": {},
   "source": [
    "# Using plotting tools associated with the Landlab NetworkSedimentTransporter component \n",
    "\n",
    "<hr>\n",
    "<small>For more Landlab tutorials, click here: <a href=\"https://landlab.readthedocs.io/en/latest/user_guide/tutorials.html\">https://landlab.readthedocs.io/en/latest/user_guide/tutorials.html</a></small>\n",
    "<hr>\n",
    "\n",
    "This tutorial illustrates how to plot the results of the NetworkSedimentTransporter Landlab component using the `plot_network_and_parcels` tool. \n",
    "\n",
    "In this example we will: \n",
    "- create a simple instance of the NetworkSedimentTransporter using a *synthetic river network\n",
    "- create a simple instance of the NetworkSedimentTransporter using an *input shapefile for the river network\n",
    "- show options for setting the color and line widths of network links\n",
    "- show options for setting the color of parcels (marked as dots on the network)\n",
    "- show options for setting the size of parcels\n",
    "- show options for plotting a subset of the parcels\n",
    "- demonstrate changing the timestep plotted\n",
    "- show an example combining many plotting controls\n",
    "\n",
    "First, import the necessary libraries:"
   ]
  },
  {
   "cell_type": "code",
   "execution_count": null,
   "metadata": {},
   "outputs": [],
   "source": [
    "import warnings\n",
    "warnings.filterwarnings('ignore')\n",
    "import os\n",
    "import pathlib\n",
    "\n",
    "import matplotlib.pyplot as plt\n",
    "import matplotlib.colors as colors\n",
    "\n",
    "import numpy as np\n",
    "from landlab import ExampleData\n",
    "from landlab.components import FlowDirectorSteepest, NetworkSedimentTransporter\n",
    "from landlab.data_record import DataRecord\n",
    "from landlab.grid.network import NetworkModelGrid\n",
    "from landlab.plot import plot_network_and_parcels\n",
    "from landlab.io import read_shapefile\n",
    "\n",
    "\n",
    "from matplotlib.colors import Normalize"
   ]
  },
  {
   "cell_type": "markdown",
   "metadata": {},
   "source": [
    "## 1. Create and run the synthetic example of NST\n",
    "\n",
    "First, we need to create an implementation of the Landlab NetworkModelGrid to plot. This example creates a synthetic grid, defining the location of each node and link. "
   ]
  },
  {
   "cell_type": "code",
   "execution_count": null,
   "metadata": {},
   "outputs": [],
   "source": [
    "y_of_node = (0, 100, 200, 200, 300, 400, 400, 125)\n",
    "x_of_node = (0, 0, 100, -50, -100, 50, -150, -100)\n",
    "\n",
    "nodes_at_link = ((1, 0), (2, 1), (1, 7), (3, 1), (3, 4), (4, 5), (4, 6))\n",
    "\n",
    "grid1 = NetworkModelGrid((y_of_node, x_of_node), nodes_at_link)\n",
    "grid1.at_node[\"bedrock__elevation\"] = [0.0, 0.05, 0.2, 0.1, 0.25, 0.4, 0.8, 0.8]\n",
    "grid1.at_node[\"topographic__elevation\"] = [0.0, 0.05, 0.2, 0.1, 0.25, 0.4, 0.8, 0.8]\n",
    "grid1.at_link[\"flow_depth\"] = 2.5 * np.ones(grid1.number_of_links) # m\n",
    "grid1.at_link[\"reach_length\"] = 200*np.ones(grid1.number_of_links) # m\n",
    "grid1.at_link[\"channel_width\"] = 1*np.ones(grid1.number_of_links) # m\n",
    "\n",
    "# element_id is the link on which the parcel begins. \n",
    "element_id = np.repeat(np.arange(grid1.number_of_links),30)\n",
    "element_id = np.expand_dims(element_id, axis=1)\n",
    "\n",
    "volume = 0.1*np.ones(np.shape(element_id))  # (m3)\n",
    "active_layer = np.ones(np.shape(element_id)) # 1= active, 0 = inactive\n",
    "density = 2650 * np.ones(np.size(element_id))  # (kg/m3)\n",
    "abrasion_rate = 0 * np.ones(np.size(element_id)) # (mass loss /m)\n",
    "\n",
    "# Lognormal GSD\n",
    "medianD = 0.05 # m\n",
    "mu = np.log(medianD)\n",
    "sigma = np.log(2) #assume that D84 = sigma*D50\n",
    "np.random.seed(0)\n",
    "D = np.random.lognormal(\n",
    "    mu,\n",
    "    sigma,\n",
    "    np.shape(element_id)\n",
    ")  # (m) the diameter of grains in each parcel\n",
    "\n",
    "time_arrival_in_link = np.random.rand(np.size(element_id), 1) \n",
    "location_in_link = np.random.rand(np.size(element_id), 1) \n",
    "\n",
    "variables = {\n",
    "    \"abrasion_rate\": ([\"item_id\"], abrasion_rate),\n",
    "    \"density\": ([\"item_id\"], density),\n",
    "    \"time_arrival_in_link\": ([\"item_id\", \"time\"], time_arrival_in_link),\n",
    "    \"active_layer\": ([\"item_id\", \"time\"], active_layer),\n",
    "    \"location_in_link\": ([\"item_id\", \"time\"], location_in_link),\n",
    "    \"D\": ([\"item_id\", \"time\"], D),\n",
    "    \"volume\": ([\"item_id\", \"time\"], volume)\n",
    "}\n",
    "\n",
    "items = {\"grid_element\": \"link\", \"element_id\": element_id}\n",
    "\n",
    "parcels1 = DataRecord(\n",
    "    grid1,\n",
    "    items=items,\n",
    "    time=[0.0],\n",
    "    data_vars=variables,\n",
    "    dummy_elements={\"link\": [NetworkSedimentTransporter.OUT_OF_NETWORK]},\n",
    ")\n",
    "\n",
    "fd1 = FlowDirectorSteepest(grid1, \"topographic__elevation\")\n",
    "fd1.run_one_step()\n",
    "\n",
    "nst1 = NetworkSedimentTransporter(    \n",
    "    grid1,\n",
    "    parcels1,\n",
    "    fd1,\n",
    "    bed_porosity=0.3,\n",
    "    g=9.81,\n",
    "    fluid_density=1000,\n",
    "    transport_method=\"WilcockCrowe\",\n",
    ")\n",
    "timesteps = 10 # total number of timesteps\n",
    "dt = 60 * 60 * 24 *1 # length of timestep (seconds) \n",
    "for t in range(0, (timesteps * dt), dt):\n",
    "    nst1.run_one_step(dt)"
   ]
  },
  {
   "cell_type": "markdown",
   "metadata": {},
   "source": [
    "## 2. Create and run an example of NST using a shapefile to define the network\n",
    "\n",
    "First, we need to create an implementation of the Landlab NetworkModelGrid to plot. This example creates a grid based on a polyline shapefile.  "
   ]
  },
  {
   "cell_type": "code",
   "execution_count": null,
   "metadata": {},
   "outputs": [],
   "source": [
    "datadir = ExampleData(\"io/shapefile\", case=\"methow\").base\n",
    "\n",
    "shp_file = datadir / \"MethowSubBasin.shp\"\n",
    "points_shapefile = datadir / \"MethowSubBasin_Nodes_4.shp\"\n",
    "\n",
    "grid2 = read_shapefile(\n",
    "    shp_file,\n",
    "    points_shapefile=points_shapefile,\n",
    "    node_fields=[\"usarea_km2\", \"Elev_m\"],\n",
    "    link_fields=[\"usarea_km2\", \"Length_m\"],\n",
    "    link_field_conversion={\"usarea_km2\": \"drainage_area\", \"Slope\":\"channel_slope\", \"Length_m\":\"reach_length\"},\n",
    "    node_field_conversion={\n",
    "        \"usarea_km2\": \"drainage_area\",\n",
    "        \"Elev_m\": \"topographic__elevation\",\n",
    "    },\n",
    "    threshold=0.01,\n",
    "    )\n",
    "grid2.at_node[\"bedrock__elevation\"] = grid2.at_node[\"topographic__elevation\"].copy()\n",
    "grid2.at_link[\"channel_width\"] = 1 * np.ones(grid2.number_of_links)\n",
    "grid2.at_link[\"flow_depth\"] = 0.9 * np.ones(grid2.number_of_links)\n",
    "\n",
    "# element_id is the link on which the parcel begins. \n",
    "element_id = np.repeat(np.arange(grid2.number_of_links), 50)\n",
    "element_id = np.expand_dims(element_id, axis=1)\n",
    "\n",
    "volume = 1*np.ones(np.shape(element_id))  # (m3)\n",
    "active_layer = np.ones(np.shape(element_id)) # 1= active, 0 = inactive\n",
    "density = 2650 * np.ones(np.size(element_id))  # (kg/m3)\n",
    "abrasion_rate = 0 * np.ones(np.size(element_id)) # (mass loss /m)\n",
    "\n",
    "# Lognormal GSD\n",
    "medianD = 0.15 # m\n",
    "mu = np.log(medianD)\n",
    "sigma = np.log(2) #assume that D84 = sigma*D50\n",
    "np.random.seed(0)\n",
    "D = np.random.lognormal(\n",
    "    mu,\n",
    "    sigma,\n",
    "    np.shape(element_id)\n",
    ")  # (m) the diameter of grains in each parcel\n",
    "\n",
    "time_arrival_in_link = np.random.rand(np.size(element_id), 1) \n",
    "location_in_link = np.random.rand(np.size(element_id), 1) \n",
    "\n",
    "variables = {\n",
    "    \"abrasion_rate\": ([\"item_id\"], abrasion_rate),\n",
    "    \"density\": ([\"item_id\"], density),\n",
    "    \"time_arrival_in_link\": ([\"item_id\", \"time\"], time_arrival_in_link),\n",
    "    \"active_layer\": ([\"item_id\", \"time\"], active_layer),\n",
    "    \"location_in_link\": ([\"item_id\", \"time\"], location_in_link),\n",
    "    \"D\": ([\"item_id\", \"time\"], D),\n",
    "    \"volume\": ([\"item_id\", \"time\"], volume)\n",
    "}\n",
    "\n",
    "items = {\"grid_element\": \"link\", \"element_id\": element_id}\n",
    "\n",
    "parcels2 = DataRecord(\n",
    "    grid2,\n",
    "    items=items,\n",
    "    time=[0.0],\n",
    "    data_vars=variables,\n",
    "    dummy_elements={\"link\": [NetworkSedimentTransporter.OUT_OF_NETWORK]},\n",
    ")\n",
    "\n",
    "fd2 = FlowDirectorSteepest(grid2, \"topographic__elevation\")\n",
    "fd2.run_one_step()\n",
    "\n",
    "nst2 = NetworkSedimentTransporter(    \n",
    "    grid2,\n",
    "    parcels2,\n",
    "    fd2,\n",
    "    bed_porosity=0.3,\n",
    "    g=9.81,\n",
    "    fluid_density=1000,\n",
    "    transport_method=\"WilcockCrowe\",\n",
    ")\n",
    "\n",
    "for t in range(0, (timesteps * dt), dt):\n",
    "    nst2.run_one_step(dt)"
   ]
  },
  {
   "cell_type": "markdown",
   "metadata": {},
   "source": [
    "## 3. Options for link color and link line widths\n",
    "\n",
    "The dictionary below (`link_color_options`) outlines 4 examples of link color and line width choices: \n",
    "1. The default output of `plot_network_and_parcels`\n",
    "2. Some simple modifications: the whole network is red, with a line width of 7, and no parcels.\n",
    "3. Coloring links by an existing grid link attribute, in this case the total volume of sediment on the link (`grid.at_link.[\"sediment_total_volume\"]`, which is created by the `NetworkSedimentTransporter`)\n",
    "4. Similar to #3 above, but taking advantange of additional flexiblity in plotting"
   ]
  },
  {
   "cell_type": "code",
   "execution_count": null,
   "metadata": {
    "scrolled": false
   },
   "outputs": [],
   "source": [
    "network_norm = Normalize(-1, 6) # see matplotlib.colors.Normalize \n",
    " \n",
    "link_color_options = [\n",
    "    {# empty dictionary = defaults\n",
    "    },\n",
    "    {\n",
    "        \"network_color\":'r', # specify some simple modifications. \n",
    "        \"network_linewidth\":7,\n",
    "        \"parcel_alpha\":0 # make parcels transparent (not visible)\n",
    "    },\n",
    "    {\n",
    "        \"link_attribute\": \"sediment_total_volume\", # color links by an existing grid link attribute\n",
    "        \"parcel_alpha\":0\n",
    "    },\n",
    "    {\n",
    "        \"link_attribute\": \"sediment_total_volume\", \n",
    "        \"network_norm\": network_norm, # and normalize color scheme\n",
    "        \"link_attribute_title\": \"Total Sediment Volume\", # title on link color legend\n",
    "        \"parcel_alpha\":0, \n",
    "        \"network_linewidth\":3 \n",
    "\n",
    "    }\n",
    "]"
   ]
  },
  {
   "cell_type": "markdown",
   "metadata": {},
   "source": [
    "Below, we implement these 4 plotting options, first for the synthetic network, and then for the shapefile-delineated network:"
   ]
  },
  {
   "cell_type": "code",
   "execution_count": null,
   "metadata": {
    "scrolled": false
   },
   "outputs": [],
   "source": [
    "for grid, parcels in zip([grid1, grid2], [parcels1, parcels2]):\n",
    "    for l_opts in link_color_options:\n",
    "        fig = plot_network_and_parcels(\n",
    "            grid, parcels, \n",
    "            parcel_time_index=0, **l_opts)\n",
    "        plt.show()\n"
   ]
  },
  {
   "cell_type": "markdown",
   "metadata": {},
   "source": [
    "In addition to plotting link coloring using an existing link attribute, we can pass any array of size link. In this example, we color links using an array of random values. "
   ]
  },
  {
   "cell_type": "code",
   "execution_count": null,
   "metadata": {
    "scrolled": true
   },
   "outputs": [],
   "source": [
    "random_link = np.random.randn(grid2.size(\"link\"))\n",
    "\n",
    "l_opts =    {\n",
    "        \"link_attribute\": random_link, # use an array of size link\n",
    "        \"network_cmap\": \"jet\", # change colormap\n",
    "        \"network_norm\": network_norm, # and normalize\n",
    "        \"link_attribute_title\": \"A random number\",\n",
    "        \"parcel_alpha\":0,\n",
    "        \"network_linewidth\":3\n",
    "    }\n",
    "fig = plot_network_and_parcels(\n",
    "        grid2, parcels2, \n",
    "        parcel_time_index=0, **l_opts)\n",
    "plt.show()"
   ]
  },
  {
   "cell_type": "markdown",
   "metadata": {},
   "source": [
    "## 4. Options for parcel color\n",
    "\n",
    "The dictionary below (`parcel_color_options`) outlines 4 examples of link color and line width choices: \n",
    "1. The default output of `plot_network_and_parcels`\n",
    "2. Some simple modifications: all parcels are red, with a parcel size of 10\n",
    "3. Color parcels by an existing parcel attribute, in this case the sediment diameter of the parcel (`parcels1.dataset['D']`)\n",
    "4. Color parcels by an existing parcel attribute, but change the colormap. "
   ]
  },
  {
   "cell_type": "code",
   "execution_count": null,
   "metadata": {
    "scrolled": false
   },
   "outputs": [],
   "source": [
    "parcel_color_norm = Normalize(0, 1) # Linear normalization\n",
    "parcel_color_norm2=colors.LogNorm(vmin=0.01, vmax=1)\n",
    "\n",
    "parcel_color_options = [\n",
    "    {# empty dictionary = defaults\n",
    "    },\n",
    "    {\n",
    "        \"parcel_color\":'r', # specify some simple modifications. \n",
    "         \"parcel_size\":10\n",
    "    },\n",
    "    {\n",
    "        \"parcel_color_attribute\": \"D\", # existing parcel attribute. \n",
    "        \"parcel_color_norm\": parcel_color_norm,\n",
    "        \"parcel_color_attribute_title\":\"Diameter [m]\",\n",
    "        \"parcel_alpha\":1.0,\n",
    "    },\n",
    "    {\n",
    "        \"parcel_color_attribute\": \"abrasion_rate\", # silly example, does not vary in our example\n",
    "        \"parcel_color_cmap\": \"bone\",\n",
    "    },\n",
    "]\n",
    "\n",
    "for grid, parcels in zip([grid1, grid2], [parcels1, parcels2]):\n",
    "    for pc_opts in parcel_color_options:\n",
    "        fig = plot_network_and_parcels(\n",
    "            grid, parcels, \n",
    "            parcel_time_index=0, **pc_opts)\n",
    "        plt.show()"
   ]
  },
  {
   "cell_type": "markdown",
   "metadata": {},
   "source": [
    "## 5. Options for parcel size\n",
    "The dictionary below (`parcel_size_options`) outlines 4 examples of link color and line width choices: \n",
    "1. The default output of `plot_network_and_parcels`\n",
    "2. Set a uniform parcel size and color\n",
    "3. Size parcels by an existing parcel attribute, in this case the sediment diameter (`parcels1.dataset['D']`), and making the parcel markers entirely opaque. \n",
    "4. Normalize parcel size on a logarithmic scale, and change the default maximum and minimum parcel sizes. "
   ]
  },
  {
   "cell_type": "code",
   "execution_count": null,
   "metadata": {
    "scrolled": false
   },
   "outputs": [],
   "source": [
    "parcel_size_norm = Normalize(0, 1)\n",
    "parcel_size_norm2=colors.LogNorm(vmin=0.01, vmax=1)\n",
    "\n",
    "parcel_size_options = [\n",
    "    {# empty dictionary = defaults\n",
    "    },\n",
    "    {\n",
    "        \"parcel_color\":'b', # specify some simple modifications. \n",
    "         \"parcel_size\":10\n",
    "    },\n",
    "    {\n",
    "        \"parcel_size_attribute\": \"D\", # use a parcel attribute. \n",
    "        \"parcel_size_norm\": parcel_color_norm,\n",
    "        \"parcel_size_attribute_title\":\"Diameter [m]\",\n",
    "        \"parcel_alpha\":1.0, # default parcel_alpha = 0.5\n",
    "    },\n",
    "    {\n",
    "        \"parcel_size_attribute\": \"D\", \n",
    "        \"parcel_size_norm\": parcel_size_norm2,\n",
    "        \"parcel_size_min\": 10, # default = 5\n",
    "        \"parcel_size_max\": 100, # default = 40\n",
    "        \"parcel_alpha\": 0.1\n",
    "    },\n",
    "]\n",
    "\n",
    "for grid, parcels in zip([grid1, grid2], [parcels1, parcels2]):\n",
    "    for ps_opts in parcel_size_options:\n",
    "        fig = plot_network_and_parcels(\n",
    "            grid, parcels, \n",
    "            parcel_time_index=0, **ps_opts)\n",
    "        plt.show()\n"
   ]
  },
  {
   "cell_type": "markdown",
   "metadata": {},
   "source": [
    "## 6. Plotting a subset of the parcels\n",
    "\n",
    "In some cases, we might want to plot only a subset of the parcels on the network. Below, we plot every 50th parcel in the `DataRecord`. "
   ]
  },
  {
   "cell_type": "code",
   "execution_count": null,
   "metadata": {},
   "outputs": [],
   "source": [
    "parcel_filter = np.zeros((parcels2.dataset.dims[\"item_id\"]), dtype=bool)\n",
    "parcel_filter[::50] = True\n",
    "pc_opts= {\n",
    "        \"parcel_color_attribute\": \"D\", # a more complex normalization and a parcel filter. \n",
    "        \"parcel_color_norm\": parcel_color_norm2,\n",
    "        \"parcel_color_attribute_title\":\"Diameter [m]\",\n",
    "        \"parcel_alpha\": 1.0,\n",
    "        \"parcel_size\": 40,\n",
    "        \"parcel_filter\": parcel_filter\n",
    "    }\n",
    "fig = plot_network_and_parcels(\n",
    "    grid2, parcels2, \n",
    "    parcel_time_index=0, **pc_opts\n",
    ")\n",
    "plt.show()"
   ]
  },
  {
   "cell_type": "markdown",
   "metadata": {},
   "source": [
    "## 7. Select the parcel timestep to be plotted\n",
    "\n",
    "As a default, `plot_network_and_parcels` plots parcel positions for the last timestep of the model run. However, `NetworkSedimentTransporter` tracks the motion of parcels for all timesteps. We can plot the location of parcels on the link at any timestep using `parcel_time_index`. "
   ]
  },
  {
   "cell_type": "code",
   "execution_count": null,
   "metadata": {},
   "outputs": [],
   "source": [
    "parcel_time_options = [0,4,7]\n",
    "\n",
    "for grid, parcels in zip([grid1, grid2], [parcels1, parcels2]):\n",
    "    for pt_opts in parcel_time_options:\n",
    "        fig = plot_network_and_parcels(\n",
    "            grid, parcels, \n",
    "            parcel_size = 20,\n",
    "            parcel_alpha = 0.1,\n",
    "            parcel_time_index=pt_opts)\n",
    "        plt.show()"
   ]
  },
  {
   "cell_type": "markdown",
   "metadata": {},
   "source": [
    "## 7. Combining network and parcel plotting options\n",
    "\n",
    "Nothing will stop us from making all of the choices at once. "
   ]
  },
  {
   "cell_type": "code",
   "execution_count": null,
   "metadata": {},
   "outputs": [],
   "source": [
    "parcel_color_norm=colors.LogNorm(vmin=0.01, vmax=1)\n",
    "\n",
    "parcel_filter = np.zeros((parcels2.dataset.dims[\"item_id\"]), dtype=bool)\n",
    "parcel_filter[::30] = True\n",
    "\n",
    "fig = plot_network_and_parcels(grid2, \n",
    "                               parcels2,  \n",
    "                               parcel_time_index=0, \n",
    "                               parcel_filter=parcel_filter,\n",
    "                               link_attribute=\"sediment_total_volume\", \n",
    "                               network_norm=network_norm,\n",
    "                               network_linewidth=4,\n",
    "                               network_cmap='bone_r',\n",
    "                               parcel_alpha=1.0, \n",
    "                               parcel_color_attribute=\"D\",\n",
    "                               parcel_color_norm=parcel_color_norm2, \n",
    "                               parcel_size_attribute=\"D\",\n",
    "                               parcel_size_min=5,\n",
    "                               parcel_size_max=150,\n",
    "                               parcel_size_norm=parcel_size_norm,\n",
    "                               parcel_size_attribute_title=\"D\")"
   ]
  }
 ],
 "metadata": {
  "celltoolbar": "Raw Cell Format",
  "kernelspec": {
   "display_name": "Python 3",
   "language": "python",
   "name": "python3"
  },
  "language_info": {
   "codemirror_mode": {
    "name": "ipython",
    "version": 3
   },
   "file_extension": ".py",
   "mimetype": "text/x-python",
   "name": "python",
   "nbconvert_exporter": "python",
   "pygments_lexer": "ipython3",
   "version": "3.7.3"
  }
 },
 "nbformat": 4,
 "nbformat_minor": 4
}
