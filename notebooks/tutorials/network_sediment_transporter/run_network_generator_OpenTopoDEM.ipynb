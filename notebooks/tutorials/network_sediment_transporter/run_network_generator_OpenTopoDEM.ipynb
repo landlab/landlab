{
 "cells": [
  {
   "cell_type": "markdown",
   "id": "0b8dacf9",
   "metadata": {},
   "source": [
    "# Run Network Generator on OpenTopography DEM\n",
    "\n",
    "This notebook creates a NetworkModelGrid on a DEM hosted by OpenTopography."
   ]
  },
  {
   "cell_type": "code",
   "execution_count": null,
   "id": "6501ec9e",
   "metadata": {},
   "outputs": [],
   "source": [
    "import sys, time, os\n",
    "from pathlib import Path\n",
    "\n",
    "import numpy as np\n",
    "import matplotlib.pyplot as plt\n",
    "\n",
    "from landlab.components import FlowAccumulator\n",
    "from landlab.io import read_esri_ascii, write_esri_ascii\n",
    "from landlab.utils import get_watershed_mask\n",
    "from landlab.utils import get_watershed_masks_with_area_threshold\n",
    "from landlab import imshow_grid\n",
    "from landlab.grid.create_network import network_grid_from_raster\n",
    "from landlab.plot.graph import plot_nodes, plot_links\n",
    "\n",
    "from landlab.grid.create_network import (\n",
    "    AtMostNodes,\n",
    "    JustEndNodes,\n",
    "    SpacingAtLeast,\n",
    "    spacing_from_drainage_area,\n",
    ")\n",
    "\n",
    "from bmi_topography import Topography"
   ]
  },
  {
   "cell_type": "markdown",
   "id": "f12d6a15",
   "metadata": {},
   "source": [
    "## 1. Download DEM from OpenTopography using Topography utility"
   ]
  },
  {
   "cell_type": "markdown",
   "id": "36d5c22e",
   "metadata": {},
   "source": [
    "Create a function to download and save SRTM images using  [BMI_topography](https://bmi-topography.readthedocs.io/en/latest/).\n",
    "* From: \n",
    "https://github.com/landlab/landlab/blob/master/notebooks/tutorials/flow_direction_and_accumulation/PriorityFlood_realDEMs.ipynb"
   ]
  },
  {
   "cell_type": "markdown",
   "id": "a7f58e75",
   "metadata": {},
   "source": [
    "* Note: I think this loads x,y in degrees? maybe best to a metric unit for delineation with drainage area later on"
   ]
  },
  {
   "cell_type": "code",
   "execution_count": null,
   "id": "a8b242fd",
   "metadata": {},
   "outputs": [],
   "source": [
    "def get_topo(buffer, north=40.16, south=40.14, east=-105.4, west=-105.51):\n",
    "    params = Topography.DEFAULT.copy()\n",
    "    params[\"south\"] = south - buffer\n",
    "    params[\"north\"] = north + buffer\n",
    "    params[\"west\"] = west - buffer\n",
    "    params[\"east\"] = east + buffer\n",
    "    params[\"output_format\"] = \"AAIGrid\"\n",
    "    params[\"cache_dir\"] = Path.cwd()\n",
    "    dem = Topography(**params)\n",
    "    name = dem.fetch()\n",
    "    props = dem.load()\n",
    "    dim_x = props.sizes[\"x\"]\n",
    "    dim_y = props.sizes[\"y\"]\n",
    "    cells = props.sizes[\"x\"] * props.sizes[\"y\"]\n",
    "    grid, z = read_esri_ascii(name, name=\"topographic__elevation\")\n",
    "    return dim_x, dim_y, cells, grid, z, dem"
   ]
  },
  {
   "cell_type": "markdown",
   "id": "1b8b14fe",
   "metadata": {},
   "source": [
    "Download or reload topography data with given buffer:"
   ]
  },
  {
   "cell_type": "code",
   "execution_count": null,
   "id": "09d8a21a",
   "metadata": {},
   "outputs": [],
   "source": [
    "dim_x, dim_y, cells, grid_LL, z_LL, dem = get_topo(0.05)"
   ]
  },
  {
   "cell_type": "code",
   "execution_count": null,
   "id": "d39531ec",
   "metadata": {},
   "outputs": [],
   "source": [
    "imshow_grid(\n",
    "    grid_LL,\n",
    "    \"topographic__elevation\",\n",
    "    plot_name=\"Downloaded DEM topography\",\n",
    "    color_for_closed=None,\n",
    "    colorbar_label=\"$z$ [m]\",\n",
    ")"
   ]
  },
  {
   "cell_type": "markdown",
   "id": "96e0285a",
   "metadata": {},
   "source": [
    "## 2. Clip DEM to largest watershed using the FlowAccumulator and a watershed mask"
   ]
  },
  {
   "cell_type": "markdown",
   "id": "5a668e7f",
   "metadata": {},
   "source": [
    "Run the FlowAccumulator to determine where flow is being directed and accumulated in the watershed"
   ]
  },
  {
   "cell_type": "code",
   "execution_count": null,
   "id": "808f33fa",
   "metadata": {},
   "outputs": [],
   "source": [
    "fa_LL = FlowAccumulator(\n",
    "    grid_LL, flow_director=\"D8\", depression_finder=\"DepressionFinderAndRouter\"\n",
    ")\n",
    "fa_LL.run_one_step()"
   ]
  },
  {
   "cell_type": "markdown",
   "id": "27cde558",
   "metadata": {},
   "source": [
    "### Create a mask to isolate the largest watershed:\n",
    "Here we use the get_watershed_mask_with_area_threshhold function: https://landlab.readthedocs.io/en/master/reference/utils/watershed.html#landlab.utils.watershed.get_watershed_masks_with_area_threshold with a critical threshhold as the maximum drainage area. (This will filter out all watersheds draining to an area smaller than this.) "
   ]
  },
  {
   "cell_type": "code",
   "execution_count": null,
   "id": "306cfde0",
   "metadata": {},
   "outputs": [],
   "source": [
    "mask = get_watershed_masks_with_area_threshold(grid_LL, grid_LL.at_node['drainage_area'].max())"
   ]
  },
  {
   "cell_type": "markdown",
   "id": "5518de96",
   "metadata": {},
   "source": [
    "Set all values outside the largest watershed to a nodata value of -9999:"
   ]
  },
  {
   "cell_type": "code",
   "execution_count": null,
   "id": "85b09e92",
   "metadata": {},
   "outputs": [],
   "source": [
    "no_dataval = -9999\n",
    "grid_LL.at_node['topographic__elevation'] = np.where(mask != -1, grid_LL.at_node['topographic__elevation'], no_dataval)"
   ]
  },
  {
   "cell_type": "markdown",
   "id": "a435fdd7",
   "metadata": {},
   "source": [
    "Set the model boundary conditions to 'closed' outside of the watershed"
   ]
  },
  {
   "cell_type": "code",
   "execution_count": null,
   "id": "127a6fc1",
   "metadata": {},
   "outputs": [],
   "source": [
    "grid_LL.status_at_node[np.isclose(grid_LL.at_node['topographic__elevation'], no_dataval)] = grid_LL.BC_NODE_IS_CLOSED"
   ]
  },
  {
   "cell_type": "markdown",
   "id": "12ecadc4",
   "metadata": {},
   "source": [
    "### Set a watershed boundary condition for your grid\n",
    "\n",
    "This function uses the minimum elevation node nearest to the nodata values. This DEM only has one possible node, so it is easy for the function to determine. If an error is thrown that says 'Grid has multiple potential outlet nodes' choose one from the list of node IDs shown in the error window. (You may want to plot them on your DEM to verify that they make sense as an outlet node--see below). This error may happen when there are a few very low elevation cells.\n",
    "* Note: this step is important for deliniating the channel. If you find the code is taking a long time to generate the NetworkModelGrid, check which node you set as the boundary condition."
   ]
  },
  {
   "cell_type": "markdown",
   "id": "4032eb19",
   "metadata": {},
   "source": [
    "Visualize clipped DEM:"
   ]
  },
  {
   "cell_type": "code",
   "execution_count": null,
   "id": "7843c134",
   "metadata": {},
   "outputs": [],
   "source": [
    "imshow_grid(\n",
    "    grid_LL,\n",
    "    \"topographic__elevation\",\n",
    "    plot_name=\"Basin topography\",\n",
    "    color_for_closed=None,\n",
    "    colorbar_label=\"$z$ [m]\",\n",
    ")"
   ]
  },
  {
   "cell_type": "markdown",
   "id": "721b7184",
   "metadata": {},
   "source": [
    "## 3. Create a NetworkModelGrid on this topography\n",
    "\n",
    "Now we will generate a network using the default placement of a NetworkModelGrid node for every corresponding RasterModelGrid node. You may want to coarsen this later when you decide what is an acceptable NetworkModelGrid spacing for a NetworkSedimentTransporter model. (i.e. stability). Some notes:\n",
    "\n",
    "* Be SURE you have a ballpark minimum channel threshhold: this is a drainage area threshhold that sets the upstream drainage area for which you want to truncate your channel network. Start high, and then reduce for a more complex network that extends to higher elevations.\n",
    "* Be sure you have your outlet node defined\n",
    "* You can pass information from the RasterModelGrid nodes to the NetworkModelGrid nodes using the 'include' variable if you have other things attached to your RasterModelGrid that would be helpful for the NetworkModelGrid to know (i.e. slope)"
   ]
  },
  {
   "cell_type": "code",
   "execution_count": null,
   "id": "b284e69d",
   "metadata": {},
   "outputs": [],
   "source": [
    "network_grid = network_grid_from_raster(\n",
    "    grid_LL,\n",
    "    minimum_channel_threshold=0.001,\n",
    "    include=[\"drainage_area\", \"topographic__elevation\"],\n",
    ")"
   ]
  },
  {
   "cell_type": "code",
   "execution_count": null,
   "id": "b3e361c1",
   "metadata": {},
   "outputs": [],
   "source": [
    "imshow_grid(\n",
    "    grid_LL,\n",
    "    \"topographic__elevation\",\n",
    "    plot_name=\"Basin topography\",\n",
    "    color_for_closed=None,\n",
    "    colorbar_label=\"$z$ [m]\",\n",
    ")\n",
    "plot_links(network_grid, with_id=False, as_arrow=False, linewidth=0.05)\n",
    "plot_nodes(network_grid, with_id=False, markersize=0.2)"
   ]
  },
  {
   "cell_type": "markdown",
   "id": "35aed56a",
   "metadata": {},
   "source": [
    "### Refine Network using Reducers\n",
    "\n",
    "Now we will use the Reducer options to reduce the number of nodes on the network. This shows an example where 10 nodes are placed on each segment of the river between bifurcations."
   ]
  },
  {
   "cell_type": "code",
   "execution_count": null,
   "id": "75826406",
   "metadata": {},
   "outputs": [],
   "source": [
    "network_grid = network_grid_from_raster(\n",
    "    grid_LL,\n",
    "    reducer=AtMostNodes(count=10),\n",
    "    minimum_channel_threshold=0.001,\n",
    "    include=[\"drainage_area\", \"topographic__elevation\"],\n",
    ")\n",
    "\n",
    "plot_nodes(network_grid, markersize=4)\n",
    "plot_links(network_grid, as_arrow=False)\n",
    "plt.title(\"Nodes and Links\");"
   ]
  },
  {
   "cell_type": "markdown",
   "id": "4b99cec2",
   "metadata": {},
   "source": [
    "Realistically, you may want to reduce your NetworkModelGrid node spacing in the steeper, higher elevation areas of the basin for stability of the NetworkSedimentTransporter model. Here, we show an option to define the network node spacing from an upstream drainage area relation that estimates river width from the Frasson et al. 2019 (GRL) power law relationship:\n",
    "\n",
    "$W=a*DA^b$\n",
    "\n",
    "where $W$ is width $DA$ is drainage area and $a$ and $b$ are parameters. The function uses default values for a and b reported in the paper from fitting field data, but you  may want to adjust this depending on your river system. Changing n_widths will adjust node spacing by a certain multiple of local river width."
   ]
  },
  {
   "cell_type": "code",
   "execution_count": null,
   "id": "e18abf31",
   "metadata": {},
   "outputs": [],
   "source": [
    "spacing = spacing_from_drainage_area(\n",
    "    grid_LL.at_node[\"drainage_area\"],\n",
    "    a=9.68,\n",
    "    b=0.32,\n",
    "    n_widths=2\n",
    ")\n",
    "\n",
    "\n",
    "network_grid = network_grid_from_raster(\n",
    "    grid_LL,\n",
    "    reducer=SpacingAtLeast(grid_LL.xy_of_node, spacing),\n",
    "    minimum_channel_threshold=0.001,\n",
    "    include=[\"drainage_area\", \"topographic__elevation\"],\n",
    ")\n",
    "\n",
    "imshow_grid(\n",
    "    grid_LL,\n",
    "    \"topographic__elevation\",\n",
    "    plot_name=\"Basin topography\",\n",
    "    color_for_closed=None,\n",
    "    colorbar_label=\"$z$ [m]\",\n",
    ")\n",
    "\n",
    "plot_nodes(network_grid, with_id=False, markersize=4)\n",
    "plot_links(network_grid, with_id=False, as_arrow=False)\n",
    "plt.title(\"Nodes and Links\");"
   ]
  }
 ],
 "metadata": {
  "kernelspec": {
   "display_name": "Python 3 (ipykernel)",
   "language": "python",
   "name": "python3"
  },
  "language_info": {
   "codemirror_mode": {
    "name": "ipython",
    "version": 3
   },
   "file_extension": ".py",
   "mimetype": "text/x-python",
   "name": "python",
   "nbconvert_exporter": "python",
   "pygments_lexer": "ipython3",
   "version": "3.9.10"
  }
 },
 "nbformat": 4,
 "nbformat_minor": 5
}
