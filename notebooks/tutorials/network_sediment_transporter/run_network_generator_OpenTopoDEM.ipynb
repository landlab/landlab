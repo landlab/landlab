{
 "cells": [
  {
   "cell_type": "markdown",
   "id": "cf78159f",
   "metadata": {},
   "source": [
    "<a href=\"http://landlab.github.io\"><img style=\"float: left\" src=\"../../landlab_header.png\"></a>"
   ]
  },
  {
   "cell_type": "markdown",
   "id": "0b8dacf9",
   "metadata": {},
   "source": [
    "# Generate a Network Model Grid on an OpenTopography DEM\n",
    "<hr>\n",
    "<small>For more Landlab tutorials, click here: <a href=\"https://landlab.readthedocs.io/en/latest/user_guide/tutorials.html\">https://landlab.readthedocs.io/en/latest/user_guide/tutorials.html</a></small>\n",
    "\n",
    "<hr>\n",
    "\n",
    "This notebook demonstrates how to create a NetworkModelGrid from a DEM hosted by OpenTopography. In this tutorial we will:\n",
    "* Download a DEM from OpenTopography\n",
    "* Reproject the DEM into a meter-based coordinate system (UTM-13)\n",
    "* Clip the DEM to the largest watershed\n",
    "* Create a NetworkModelGrid on the river system in this watershed using three different 'network_grid_from_raster' options"
   ]
  },
  {
   "cell_type": "code",
   "execution_count": null,
   "id": "6501ec9e",
   "metadata": {},
   "outputs": [],
   "source": [
    "import os\n",
    "import numpy as np\n",
    "import matplotlib.pyplot as plt\n",
    "import xarray as xr\n",
    "\n",
    "from landlab import imshow_grid"
   ]
  },
  {
   "cell_type": "markdown",
   "id": "f12d6a15",
   "metadata": {},
   "source": [
    "## 1. Download DEM from OpenTopography using Topography utility"
   ]
  },
  {
   "cell_type": "markdown",
   "id": "36d5c22e",
   "metadata": {},
   "source": [
    "Create a function to download and save SRTM images using  [BMI_topography](https://bmi-topography.readthedocs.io/en/latest/).\n",
    "* From: \n",
    "https://github.com/landlab/landlab/blob/master/notebooks/tutorials/flow_direction_and_accumulation/PriorityFlood_realDEMs.ipynb"
   ]
  },
  {
   "cell_type": "code",
   "execution_count": null,
   "id": "d6e4da83",
   "metadata": {},
   "outputs": [],
   "source": [
    "from bmi_topography import Topography"
   ]
  },
  {
   "cell_type": "markdown",
   "id": "1b8b14fe",
   "metadata": {},
   "source": [
    "Download (or reload) topography data."
   ]
  },
  {
   "cell_type": "code",
   "execution_count": null,
   "id": "d1a4149c",
   "metadata": {},
   "outputs": [],
   "source": [
    "width = 0.05\n",
    "dem = Topography(\n",
    "    north=40.16 + width,\n",
    "    south=40.14 - width,\n",
    "    east=-105.4 + width,\n",
    "    west=-105.5 - width,\n",
    "    output_format=\"AAIGrid\",\n",
    "    dem_type=\"SRTMGL3\",\n",
    ")\n",
    "_ = dem.load()"
   ]
  },
  {
   "cell_type": "markdown",
   "id": "f5030a41",
   "metadata": {},
   "source": [
    "## 2. Use Rasterio to Reproject DEM"
   ]
  },
  {
   "cell_type": "markdown",
   "id": "e65b57da",
   "metadata": {},
   "source": [
    "Use rasterio to reproject to UTM Zone 13. Since our DEM was pulled from the CO region, this is the appropriate UTM system, but you can specify a general EPSG code as 'dst_crs' if you wish to reproject to a different area.\n",
    "* reference: https://rasterio.readthedocs.io/en/latest/api/rasterio.warp.html#rasterio.warp.calculate_default_transform"
   ]
  },
  {
   "cell_type": "code",
   "execution_count": null,
   "id": "5fce4832",
   "metadata": {},
   "outputs": [],
   "source": [
    "import rasterio\n",
    "from rasterio.warp import calculate_default_transform, Resampling"
   ]
  },
  {
   "cell_type": "code",
   "execution_count": null,
   "id": "e1e1a88c",
   "metadata": {},
   "outputs": [],
   "source": [
    "src_crs = \"EPSG:4326\"  # Source coordinate system (by default, open_topo BMI loads in WGS84 lat/lon)\n",
    "dst_crs = \"EPSG:32613\"  # Set a destination coordinate system"
   ]
  },
  {
   "cell_type": "markdown",
   "id": "fb0b95e3",
   "metadata": {},
   "source": [
    "This is the resolution in meters of our target DEM, the UTM coordinate system has a native unit of meters."
   ]
  },
  {
   "cell_type": "code",
   "execution_count": null,
   "id": "0d5091ba",
   "metadata": {},
   "outputs": [],
   "source": [
    "target_res = 50\n",
    "\n",
    "transform, dim_x_transf, dim_y_transf, = calculate_default_transform(\n",
    "    src_crs,\n",
    "    dst_crs,\n",
    "    len(dem.da[\"x\"]),\n",
    "    len(dem.da[\"y\"]),\n",
    "    left=dem.bbox.west,\n",
    "    bottom=dem.bbox.south,\n",
    "    right=dem.bbox.east,\n",
    "    top=dem.bbox.north,\n",
    "    resolution=target_res,\n",
    ")"
   ]
  },
  {
   "cell_type": "markdown",
   "id": "d0ba2d13",
   "metadata": {},
   "source": [
    "Let's use this transform to get X and Y vectors along the DEM row=0 and col=0 lines respectively so we know what new x, y coordinates to assign to our transformed `DataArray`."
   ]
  },
  {
   "cell_type": "code",
   "execution_count": null,
   "id": "43d9ed85",
   "metadata": {},
   "outputs": [],
   "source": [
    "x_UTM13, _ = rasterio.transform.xy(transform, 0, np.arange(0, dim_x_transf, 1))\n",
    "_, y_UTM13 = rasterio.transform.xy(transform, np.arange(0, dim_y_transf, 1), 0)"
   ]
  },
  {
   "cell_type": "markdown",
   "id": "23dc7e9d",
   "metadata": {},
   "source": [
    "Now reproject using rasterio:\n",
    "* https://rasterio.readthedocs.io/en/latest/api/rasterio.warp.html#rasterio.warp.reproject"
   ]
  },
  {
   "cell_type": "markdown",
   "id": "b74345af",
   "metadata": {},
   "source": [
    "Define an output array to hold our data, this is structured like the `Topography` `DataArray` output."
   ]
  },
  {
   "cell_type": "code",
   "execution_count": null,
   "id": "c3be884d",
   "metadata": {},
   "outputs": [],
   "source": [
    "out = xr.DataArray(\n",
    "    np.empty((1, dim_y_transf, dim_x_transf)),\n",
    "    dims=[\"band\", \"y_UTM13\", \"x_UTM13\"],\n",
    "    coords={\n",
    "        \"band\": ([\"band\"], [1]),\n",
    "        \"y_UTM13\": ([\"y_UTM13\"], y_UTM13),\n",
    "        \"x_UTM13\": ([\"x_UTM13\"], x_UTM13),\n",
    "    },\n",
    ")"
   ]
  },
  {
   "cell_type": "markdown",
   "id": "c2013b91",
   "metadata": {},
   "source": [
    "Reproject data into this array."
   ]
  },
  {
   "cell_type": "code",
   "execution_count": null,
   "id": "0e8a6ec6",
   "metadata": {},
   "outputs": [],
   "source": [
    "reproj_array, affine_trans = rasterio.warp.reproject(\n",
    "    dem.da,\n",
    "    out,\n",
    "    src_transform=dem.load().transform,\n",
    "    src_crs=src_crs,\n",
    "    src_nodata=dem.da.nodatavals[0],\n",
    "    dst_nodata=-9999,\n",
    "    dst_transform=transform,\n",
    "    dst_crs=dst_crs,\n",
    "    resampling=Resampling.nearest,\n",
    ")"
   ]
  },
  {
   "cell_type": "markdown",
   "id": "6f2fa8da",
   "metadata": {},
   "source": [
    "## 3. Create Landlab Grid"
   ]
  },
  {
   "cell_type": "code",
   "execution_count": null,
   "id": "6f7ca584",
   "metadata": {},
   "outputs": [],
   "source": [
    "from landlab import RasterModelGrid"
   ]
  },
  {
   "cell_type": "code",
   "execution_count": null,
   "id": "97857b4a",
   "metadata": {},
   "outputs": [],
   "source": [
    "grid = RasterModelGrid(\n",
    "    (dim_y_transf, dim_x_transf),\n",
    "    xy_spacing=target_res,\n",
    "    xy_of_lower_left=(x_UTM13[0], y_UTM13[0]),\n",
    "    xy_axis_name=(\"X UTM13\", \"Y UTM13\"),\n",
    "    xy_axis_units=\"m\",\n",
    ")\n",
    "z = np.ravel(np.flipud(reproj_array.values[0]))\n",
    "grid.at_node[\"topographic__elevation\"] = z"
   ]
  },
  {
   "cell_type": "markdown",
   "id": "0ef46935",
   "metadata": {},
   "source": [
    "Close the no data values"
   ]
  },
  {
   "cell_type": "code",
   "execution_count": null,
   "id": "016c6c9a",
   "metadata": {},
   "outputs": [],
   "source": [
    "grid.status_at_node[np.isclose(z, -9999)] = grid.BC_NODE_IS_CLOSED"
   ]
  },
  {
   "cell_type": "code",
   "execution_count": null,
   "id": "ead88c16",
   "metadata": {},
   "outputs": [],
   "source": [
    "imshow_grid(\n",
    "    grid,\n",
    "    \"topographic__elevation\",\n",
    "    plot_name=\"Downloaded & Projected DEM topo\",\n",
    "    #     color_for_closed=None,\n",
    "    colorbar_label=\"$z$ [m]\",\n",
    ")"
   ]
  },
  {
   "cell_type": "markdown",
   "id": "96e0285a",
   "metadata": {},
   "source": [
    "## 4. Clip Grid to largest watershed using the FlowAccumulator and a watershed mask"
   ]
  },
  {
   "cell_type": "code",
   "execution_count": null,
   "id": "623a4105",
   "metadata": {},
   "outputs": [],
   "source": [
    "from landlab.components import FlowAccumulator\n",
    "from landlab.utils import get_watershed_masks_with_area_threshold"
   ]
  },
  {
   "cell_type": "markdown",
   "id": "6f57110b",
   "metadata": {},
   "source": [
    "Run the FlowAccumulator to determine where flow is being directed and accumulated in the watershed"
   ]
  },
  {
   "cell_type": "code",
   "execution_count": null,
   "id": "808f33fa",
   "metadata": {},
   "outputs": [],
   "source": [
    "FlowAccumulator(\n",
    "    grid, flow_director=\"D8\", depression_finder=\"DepressionFinderAndRouter\"\n",
    ").run_one_step()"
   ]
  },
  {
   "cell_type": "markdown",
   "id": "27cde558",
   "metadata": {},
   "source": [
    "### Create a mask to isolate the largest watershed:\n",
    "Here we use the get_watershed_mask_with_area_threshhold function: https://landlab.readthedocs.io/en/master/reference/utils/watershed.html#landlab.utils.watershed.get_watershed_masks_with_area_threshold with a critical threshhold as the maximum drainage area. (This will filter out all watersheds draining to an area smaller than this.) "
   ]
  },
  {
   "cell_type": "code",
   "execution_count": null,
   "id": "306cfde0",
   "metadata": {},
   "outputs": [],
   "source": [
    "mask = get_watershed_masks_with_area_threshold(\n",
    "    grid, grid.at_node[\"drainage_area\"].max()\n",
    ")"
   ]
  },
  {
   "cell_type": "markdown",
   "id": "5518de96",
   "metadata": {},
   "source": [
    "Set all values outside the largest watershed to a nodata value of -9999:"
   ]
  },
  {
   "cell_type": "code",
   "execution_count": null,
   "id": "85b09e92",
   "metadata": {},
   "outputs": [],
   "source": [
    "no_dataval = -9999\n",
    "grid.at_node[\"topographic__elevation\"] = np.where(\n",
    "    mask != -1, grid.at_node[\"topographic__elevation\"], no_dataval\n",
    ")"
   ]
  },
  {
   "cell_type": "markdown",
   "id": "a435fdd7",
   "metadata": {},
   "source": [
    "Set the model boundary conditions to 'closed' outside of the watershed"
   ]
  },
  {
   "cell_type": "code",
   "execution_count": null,
   "id": "127a6fc1",
   "metadata": {},
   "outputs": [],
   "source": [
    "grid.status_at_node[\n",
    "    np.isclose(grid.at_node[\"topographic__elevation\"], no_dataval)\n",
    "] = grid.BC_NODE_IS_CLOSED"
   ]
  },
  {
   "cell_type": "markdown",
   "id": "c67494ba",
   "metadata": {},
   "source": [
    "Visualize clipped DEM:"
   ]
  },
  {
   "cell_type": "code",
   "execution_count": null,
   "id": "813d82b2",
   "metadata": {},
   "outputs": [],
   "source": [
    "imshow_grid(\n",
    "    grid,\n",
    "    \"topographic__elevation\",\n",
    "    plot_name=\"Basin topography\",\n",
    "    color_for_closed=None,\n",
    "    colorbar_label=\"$z$ [m]\",\n",
    ")"
   ]
  },
  {
   "cell_type": "markdown",
   "id": "dab99628",
   "metadata": {},
   "source": [
    "### Set a watershed boundary condition for your grid\n",
    "\n",
    "This function uses the minimum elevation node nearest to the nodata values. This DEM has two possible outlet nodes, which can be identified if you run the following code block. An error is thrown that says 'Grid has multiple potential outlet nodes'. Here, we choose the first node in the list of node IDs shown in the error window. (You may want to plot them on your DEM to verify that they make sense as an outlet node--see below). This error may happen when there are a few very low elevation cells.\n",
    "* Note: this step is important for deliniating the channel. If you find the code is taking a long time to generate the NetworkModelGrid, check which node you set as the boundary condition."
   ]
  },
  {
   "cell_type": "code",
   "execution_count": null,
   "id": "92748b2b",
   "metadata": {},
   "outputs": [],
   "source": [
    "# grid.set_watershed_boundary_condition(\n",
    "#     'topographic__elevation',\n",
    "#     nodata_value=-9999,\n",
    "#     return_outlet_id=True\n",
    "# )"
   ]
  },
  {
   "cell_type": "code",
   "execution_count": null,
   "id": "1010af8a",
   "metadata": {},
   "outputs": [],
   "source": [
    "grid.set_watershed_boundary_condition_outlet_id(\n",
    "    [69808],\n",
    "    \"topographic__elevation\",\n",
    ")"
   ]
  },
  {
   "cell_type": "markdown",
   "id": "12128caf",
   "metadata": {},
   "source": [
    "## 5. Create a NetworkModelGrid on this topography\n",
    "\n",
    "Now we will generate a network using the default placement of a NetworkModelGrid node for every corresponding RasterModelGrid node. You may want to coarsen this later when you decide what is an acceptable NetworkModelGrid spacing for a NetworkSedimentTransporter model. (i.e. stability). Some notes:\n",
    "\n",
    "* Be SURE you have a ballpark minimum channel threshhold: this is a drainage area threshhold that sets the upstream drainage area for which you want to truncate your channel network. Start high, and then reduce for a more complex network that extends to higher elevations.\n",
    "* Be sure you have your outlet node defined\n",
    "* You can pass information from the RasterModelGrid nodes to the NetworkModelGrid nodes using the 'include' variable if you have other things attached to your RasterModelGrid that would be helpful for the NetworkModelGrid to know (i.e. slope)"
   ]
  },
  {
   "cell_type": "code",
   "execution_count": null,
   "id": "17db1543",
   "metadata": {},
   "outputs": [],
   "source": [
    "from landlab.grid.create_network import (\n",
    "    AtMostNodes,\n",
    "    SpacingAtLeast,\n",
    "    network_grid_from_raster,\n",
    "    spacing_from_drainage_area,\n",
    ")\n",
    "from landlab.plot.graph import plot_nodes, plot_links"
   ]
  },
  {
   "cell_type": "code",
   "execution_count": null,
   "id": "b284e69d",
   "metadata": {},
   "outputs": [],
   "source": [
    "network_grid = network_grid_from_raster(\n",
    "    grid,\n",
    "    minimum_channel_threshold=5000000,  # upstream drainage area to truncate network, in m^2\n",
    "    include=[\"drainage_area\", \"topographic__elevation\"],\n",
    ")"
   ]
  },
  {
   "cell_type": "code",
   "execution_count": null,
   "id": "b3e361c1",
   "metadata": {},
   "outputs": [],
   "source": [
    "imshow_grid(\n",
    "    grid,\n",
    "    \"topographic__elevation\",\n",
    "    plot_name=\"Basin topography\",\n",
    "    color_for_closed=None,\n",
    "    colorbar_label=\"$z$ [m]\",\n",
    ")\n",
    "plot_links(network_grid, with_id=False, as_arrow=False, linewidth=0.05)\n",
    "plot_nodes(network_grid, with_id=False, markersize=0.2)"
   ]
  },
  {
   "cell_type": "markdown",
   "id": "198d25f1",
   "metadata": {},
   "source": [
    "### Refine Network using Reducers\n",
    "\n",
    "Now we will use the Reducer options to reduce the number of nodes on the network. This shows an example where 10 nodes are placed on each segment of the river between bifurcations."
   ]
  },
  {
   "cell_type": "code",
   "execution_count": null,
   "id": "d1abd464",
   "metadata": {},
   "outputs": [],
   "source": [
    "network_grid = network_grid_from_raster(\n",
    "    grid,\n",
    "    reducer=AtMostNodes(count=10),\n",
    "    minimum_channel_threshold=5000000,\n",
    "    include=[\"drainage_area\", \"topographic__elevation\"],\n",
    ")\n",
    "plot_nodes(network_grid, markersize=4)\n",
    "plot_links(network_grid, as_arrow=False)\n",
    "plt.title(\"Nodes and Links\");"
   ]
  },
  {
   "cell_type": "markdown",
   "id": "01bf2a71",
   "metadata": {},
   "source": [
    "Realistically, you may want to reduce your NetworkModelGrid node spacing in the steeper, higher elevation areas of the basin for stability of the NetworkSedimentTransporter model. Here, we show an option to define the network node spacing from an upstream drainage area relation that estimates river width from the Frasson et al. 2019 (GRL) power law relationship:\n",
    "\n",
    "$W=a*DA^b$\n",
    "\n",
    "where $W$ is width $DA$ is drainage area and $a$ and $b$ are parameters. The function uses default values for a and b reported in the paper from fitting field data, but you  may want to adjust this depending on your river system. Changing n_widths will adjust node spacing by a certain multiple of local river width."
   ]
  },
  {
   "cell_type": "code",
   "execution_count": null,
   "id": "6b7f03d3",
   "metadata": {},
   "outputs": [],
   "source": [
    "spacing = spacing_from_drainage_area(\n",
    "    grid.at_node[\"drainage_area\"], a=9.68, b=0.32, n_widths=100\n",
    ")\n",
    "\n",
    "network_grid = network_grid_from_raster(\n",
    "    grid,\n",
    "    reducer=SpacingAtLeast(grid.xy_of_node, spacing),\n",
    "    minimum_channel_threshold=5000000,\n",
    "    include=[\"drainage_area\", \"topographic__elevation\"],\n",
    ")\n",
    "\n",
    "imshow_grid(\n",
    "    grid,\n",
    "    \"topographic__elevation\",\n",
    "    plot_name=\"Basin topography\",\n",
    "    color_for_closed=None,\n",
    "    colorbar_label=\"$z$ [m]\",\n",
    ")\n",
    "\n",
    "plot_nodes(network_grid, with_id=False, markersize=4)\n",
    "plot_links(network_grid, with_id=False, as_arrow=False)\n",
    "plt.title(\"Nodes and Links\");"
   ]
  }
 ],
 "metadata": {
  "kernelspec": {
   "display_name": "Python 3 (ipykernel)",
   "language": "python",
   "name": "python3"
  },
  "language_info": {
   "codemirror_mode": {
    "name": "ipython",
    "version": 3
   },
   "file_extension": ".py",
   "mimetype": "text/x-python",
   "name": "python",
   "nbconvert_exporter": "python",
   "pygments_lexer": "ipython3",
   "version": "3.8.13"
  }
 },
 "nbformat": 4,
 "nbformat_minor": 5
}
