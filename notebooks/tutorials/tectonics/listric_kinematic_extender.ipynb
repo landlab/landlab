{
 "cells": [
  {
   "cell_type": "markdown",
   "metadata": {},
   "source": [
    "<a href=\"http://landlab.github.io\"><img style=\"float: left\" src=\"../../landlab_header.png\"></a>"
   ]
  },
  {
   "cell_type": "markdown",
   "metadata": {},
   "source": [
    "# Using the Landlab ListricKinematicExtender component\n",
    "\n",
    "*(Greg Tucker, University of Colorado Boulder, March 2021; revised June 2023 to use AdvectionSolverTVD instead of stepwise extension algorithm)*\n",
    "\n",
    "<hr>\n",
    "<small>For more Landlab tutorials, click here: <a href=\"https://landlab.readthedocs.io/en/latest/user_guide/tutorials.html\">https://landlab.readthedocs.io/en/latest/user_guide/tutorials.html</a></small>\n",
    "<hr>\n",
    "\n",
    "This tutorial demonstrates how to use the `ListricKinematicExtender` component. `ListricKinematicExtender` models the vertical subsidence and lateral tectonic motion associated with a listric detachment fault. A listric fault is one that shallows with depth, such that the fault plane has a concave-upward profile. The word \"kinematic\" indicates that this component does not calculate the mechanics of stress and strain involved in an extensional fault; it simply aims to mimic them geometrically. The basic concept is to solve the advection equation for a hangingwall block of thickness $H(x,y,t)$ moving at velocity $u(x,y,t)$ relative to an underlying footwall block, to is fixed relative to the grid. "
   ]
  },
  {
   "cell_type": "markdown",
   "metadata": {},
   "source": [
    "## Theory\n",
    "\n",
    "### Describing a listric fault plane\n",
    "\n",
    "Consider a fault plane with dip angle $\\alpha$ relative to the horizontal. The fault plane has a listric shape, in which the dip angle at the surface is $\\alpha_0$, and it becomes increasingly shallow with depth, ultimately asymptoting to horizontal at depth $h$ (we'll refer to $h$ as the detachment depth). We can express the dip angle in terms of gradient $G = \\tan\\alpha$, and $G_0 = \\tan\\alpha_0$. Let the gradient decay exponentially with distance from its zero-surface trace, $x_f$, starting from the surface value $G_0$:\n",
    "\n",
    "$$G(x) = G_0 e^{-x_f/\\lambda}$$\n",
    "\n",
    "where $\\lambda$ is a length scale that we'll define in a moment. \"Zero-surface trace\" here means the line of intersection of the fault plane with the horizontal plane at zero elevation (the actual surface trace would depend on the elevation field). Because $G$ is the rate of change of fault plane elevation, $z_f$, with distance $x$, we can write:\n",
    "\n",
    "$$\\frac{dz_f}{dx_f} = -G_0 e^{-x_f/\\lambda}\\hskip1em\\mbox{(1)}$$\n",
    "\n",
    "Integrating,\n",
    "\n",
    "$$z_f(x) = G_0\\lambda e^{-x_f/\\lambda} + C$$\n",
    "\n",
    "We can evaluate the constant of integration by noting that $z_f = 0$ at $x_f = 0$ (in other words, by definition the fault plane elevation is zero at the line where it intersects the zero-elevation horizontal plane), so\n",
    "\n",
    "$$C = -G_0\\lambda$$\n",
    "\n",
    "Plugging this back in,\n",
    "\n",
    "$$z_f(x_f) = -G_0\\lambda (1 - e^{-x_f/\\lambda})$$\n",
    "\n",
    "Note that the fault elevation asymptotes to a detachment depth $h = G_0\\lambda$. This gives us a physical basis for $\\lambda$, and means we can express our fault plane geometry by $h$ instead of $\\lambda$:\n",
    "\n",
    "$$\\boxed{z_f(x_f) = -h \\left(1 - e^{-x_f G_0 / h}\\right)}$$\n",
    "\n",
    "Let's plot it:"
   ]
  },
  {
   "cell_type": "code",
   "execution_count": null,
   "metadata": {},
   "outputs": [],
   "source": [
    "import matplotlib.pyplot as plt\n",
    "import numpy as np\n",
    "\n",
    "alpha0 = 60.0  # fault dip at surface, degrees\n",
    "h = 10.0  # detachment depth, km\n",
    "\n",
    "G0 = np.tan(np.deg2rad(alpha0))\n",
    "x = np.arange(0, 41.0)\n",
    "z = -h * (1.0 - np.exp(-x * G0 / h))\n",
    "\n",
    "plt.plot(x, z, \"k\")\n",
    "plt.xlabel(\"Distance (km)\")\n",
    "plt.ylabel(\"Fault plane elevation (km)\")"
   ]
  },
  {
   "cell_type": "markdown",
   "metadata": {},
   "source": [
    "If the topographic elevation is $z(x,y,t)$, then the hangingwall thickness is\n",
    "\n",
    "$$H(x,y,t) = \\max (z - z_f, 0)$$\n",
    "\n",
    "### Rate of change of hangingwall thickness\n",
    "\n",
    "Imagine that the hangingwall \"block\" is moving at velocity $\\mathbf{u} = (u_x, u_y)$ relative to our coordinate system. This motion can be described by an advection (wave) equation,\n",
    "\n",
    "$$\\frac{\\partial H}{\\partial t} = -\\left( u_x \\frac{\\partial H}{\\partial x} + u_y \\frac{\\partial H}{\\partial y}\\right)$$\n",
    "\n",
    "The topographic surface is the sum of the height of the footwall block, $z_{fw}$, and the thickness of the hangingwall $H$ (which might be zero), so the evolution equation for topographic elevation is\n",
    "\n",
    "$$\\frac{\\partial z}{\\partial t} = \\frac{\\partial z_{fw}}{\\partial t} + \\frac{\\partial H}{\\partial t}$$\n",
    "\n",
    "or\n",
    "\n",
    "$$\\frac{\\partial z}{\\partial t} = \\frac{\\partial z_{fw}}{\\partial t} -\\left( u_x \\frac{\\partial H}{\\partial x} + u_y \\frac{\\partial H}{\\partial y}\\right)$$\n",
    "\n",
    "In principle, the height of the footwall surface could change through several mechanisms: isostatic uplift or subsidence, dynamic topography effects, and where the hangingwall is absent, erosion and sedimentation. From the point of view of the listrict kinematic extender component, these are considered external processes that are to be handled elsewhere.\n",
    "\n",
    "The fault plane comes into the picture as an initial condition. The height of the footwall block starts out as the lesser of the fault plane or the initial topographic surface:\n",
    "\n",
    "$$z_{fw}(x,y,0) = \\min \\left(z_f, z(x,y,0)\\right)$$\n",
    "\n",
    "For example, suppose $z(x,y,0) = 0$. Then\n",
    "\n",
    "$$z_{fw} = \\min \\left[ -h \\left(1 - e^{-x_f G_0 / h}\\right), 0 \\right]$$"
   ]
  },
  {
   "cell_type": "markdown",
   "metadata": {},
   "source": [
    "## Implementation\n",
    "\n",
    "The implementation in `ListricKinemticExtender` initializes fields for $z_f$ (`fault_plane__elevation`), $H$ (`hangingwall__thickness`), and  $\\mathbf{u}$ (`advection__velocity`). The component then uses the `AdvectionSolverTVD` component to compute lateral motion and resulting changes in $H$.\n",
    "\n",
    "### Initialization\n",
    "\n",
    "#### Zero-surface fault trace\n",
    "\n",
    "It's useful to represent the zero-surface fault trace as a parametric line. If the strike angle is $\\alpha$ and the parameter is $t$, the equations are:\n",
    "\n",
    "$$x_{ft} = x_0 + t \\cos \\alpha$$\n",
    "\n",
    "$$y_{ft} = y_0 + t \\sin \\alpha$$\n",
    "\n",
    "This is handy because it represents the trace in terms of an intercept point $(x_0, y_0)$ and a strike angle $\\alpha$.\n",
    "\n",
    "The closest distance of a point $(P_x, P_y)$ to the line is\n",
    "\n",
    "$$d(P_x, P_y) = \\sin\\alpha (P_x-x_0) - \\cos\\alpha (P_y-y_0)$$\n",
    "\n",
    "The below code uses a Landlab `RasterModelGrid` to illustrate this with three cases:\n",
    "\n",
    "- Horizontal line: $x_0 = 0, y_0 = 0.5, \\alpha = 0^\\circ$\n",
    "- Vertical line: $x_0 = 0.5, y_0 = 0, \\alpha = 90^\\circ$\n",
    "- Diagonal line: $x_0 = y_0 = 0, \\alpha = 45^\\circ$"
   ]
  },
  {
   "cell_type": "code",
   "execution_count": null,
   "metadata": {},
   "outputs": [],
   "source": [
    "def dist_to_line(Px, Py, x0, y0, alpha):\n",
    "    alpha_r = np.radians(alpha)\n",
    "    return np.sin(alpha_r) * (Px - x0) - np.cos(alpha_r) * (Py - y0)"
   ]
  },
  {
   "cell_type": "code",
   "execution_count": null,
   "metadata": {},
   "outputs": [],
   "source": [
    "from landlab import RasterModelGrid, imshow_grid\n",
    "\n",
    "grid = RasterModelGrid((101, 101), xy_spacing=0.01)"
   ]
  },
  {
   "cell_type": "code",
   "execution_count": null,
   "metadata": {},
   "outputs": [],
   "source": [
    "d2l = dist_to_line(grid.x_of_node, grid.y_of_node, 0, 0.5, 0)\n",
    "imshow_grid(grid, d2l)"
   ]
  },
  {
   "cell_type": "code",
   "execution_count": null,
   "metadata": {},
   "outputs": [],
   "source": [
    "d2l = dist_to_line(grid.x_of_node, grid.y_of_node, 0.5, 0, 90)\n",
    "imshow_grid(grid, d2l)"
   ]
  },
  {
   "cell_type": "code",
   "execution_count": null,
   "metadata": {},
   "outputs": [],
   "source": [
    "d2l = dist_to_line(grid.x_of_node, grid.y_of_node, 0, 0, 45)\n",
    "imshow_grid(grid, d2l)"
   ]
  },
  {
   "cell_type": "markdown",
   "metadata": {},
   "source": [
    "#### Fault-plane surface and hangingwall thickness\n",
    "\n",
    "Once we have distance-to-fault-trace, we can use that to calculate the fault plane elevation at each grid node, and from that, the thickness of the hangingwall. Here's a very simple example case:\n",
    "\n",
    "- 3x3 raster grid with a node spacing of 1,000 m\n",
    "- elevation is zero everywhere\n",
    "- surface fault dip is 60 degrees\n",
    "- detachment depth is 10 km\n",
    "- fault is oriented north-south, intercepting (0, 0)\n",
    "\n",
    "In this case, the center node (which is also the only core node) is located at $x=1,000$ m, $y=1,000 m$ relative to the origin. That puts it 1,000 m from the zero-elevation fault trace. Thus, the elevation of the footwall should be:\n",
    "\n",
    "$$z_{fw} = \\min \\left[ -(10,000) \\left(1 - e^{-(1,000) (\\tan 60) / (10,000)}\\right), 0 \\right]$$\n",
    "\n",
    "The hangingwall thickness is:\n",
    "\n",
    "$$H = z_0 - z_{fw}$$\n",
    "\n",
    "Here's the calculation:"
   ]
  },
  {
   "cell_type": "code",
   "execution_count": null,
   "metadata": {},
   "outputs": [],
   "source": [
    "def calc_fw_and_hw(xf, h, G0, z0):\n",
    "    zfw = np.minimum(-h * (1.0 - np.exp(-xf * np.tan(np.radians(G0)) / h)), z0)\n",
    "    H = z0 - zfw\n",
    "    return zfw, H\n",
    "\n",
    "\n",
    "zfw, H = calc_fw_and_hw(1000.0, 10000.0, 60.0, 0.0)\n",
    "print(\"Footwall elevation =\", zfw)\n",
    "print(\"Hangingwall thickness =\", H)"
   ]
  },
  {
   "cell_type": "markdown",
   "metadata": {},
   "source": [
    "Here's what the fault plane and hangingwall thickness look like in an example calculated using the default values in `ListricKinematicExtender`:"
   ]
  },
  {
   "cell_type": "code",
   "execution_count": null,
   "metadata": {},
   "outputs": [],
   "source": [
    "from landlab import RasterModelGrid, imshow_grid\n",
    "from landlab.components import ListricKinematicExtender\n",
    "\n",
    "grid = RasterModelGrid((51, 51), xy_spacing=1000.0)\n",
    "elev = grid.add_zeros(\"topographic__elevation\", at=\"node\")\n",
    "extender = ListricKinematicExtender(grid)\n",
    "\n",
    "imshow_grid(grid, grid.at_node[\"fault_plane__elevation\"])\n",
    "plt.figure()\n",
    "imshow_grid(grid, grid.at_node[\"hangingwall__thickness\"])"
   ]
  },
  {
   "cell_type": "markdown",
   "metadata": {},
   "source": [
    "### Processing extension\n",
    "\n",
    "To calculate changes in hangingwall thickness and surface elevation, the `ListricKinematicExtender` component relies on another, more general, component: `AdvectionSolverTVD`. The basic concept is to calculate changes in local hangingwall thickness resulting from its horizontal motion, and from that update the surface elevation.\n",
    "\n",
    "`AdvectionSolverTVD` implements a numerical solution to the 2D advection equation using a second-order, nonlinear, Total Variation Diminishing (TVD) method. For more information, see the documentation and tutorial for that component.\n",
    "\n",
    "The following are simple tests to verify that it is working properly. \n",
    "\n",
    "#### Simple test cases\n",
    "\n",
    "Consider westward motion of a hangingwall relative to a north-south fault trace. After a time interval $T$ at a speed $u$, the hangingwall will have moved a distance $uT$ relative to the fixed footwall. This means that the thickness at a distance $x$ from the zero-surface fault trace will have changed from an original thickness $H(x)$ to a new thickness $H(x-uT)$. Suppose the starting elevation field (before any extensional movement) is $z_0$. From above, and assuming that both $x$ and $x-uT$ are locations where $H>0$, before motion the thickness is:\n",
    "\n",
    "$$H_\\text{before} = z_0 + h \\left(1 - e^{-x G_0 / h}\\right)$$\n",
    "\n",
    "After motion (and assuming no independent changes in elevation) the thickness becomes:\n",
    "\n",
    "$$H_\\text{after} = z_0 + h \\left(1 - e^{-(x-uT) G_0 / h}\\right)$$\n",
    "\n",
    "For a concrete example, consider a case in which $h=10,000$ m, $G_0=\\tan 60^\\circ$,  $x=1,000$ m, $u=0.001$ m/y, and $T=5\\times 10^5$ y. Then the value of $H$ after motion should be:"
   ]
  },
  {
   "cell_type": "code",
   "execution_count": null,
   "metadata": {},
   "outputs": [],
   "source": [
    "G0 = np.tan(np.radians(60.0))\n",
    "print(\"G0\", G0)\n",
    "h = 10000.0\n",
    "u = 0.001\n",
    "T = 5.0e5\n",
    "z0 = 0.0\n",
    "x = 1000.0\n",
    "H_before = z0 + h * (1.0 - np.exp(-G0 * x / h))\n",
    "H_before500 = z0 + h * (1.0 - np.exp(-G0 * 500.0 / h))\n",
    "H_after = z0 + h * (1.0 - np.exp(-G0 * (x - u * T) / h))\n",
    "print(\"Thickness at x = 1000 m before motion =\", H_before)\n",
    "print(\"Thickness at x = 1000 m before motion =\", H_before500)\n",
    "print(\"Thickness at x = 1000 m after 500 years of motion at 0.001 m/y =\", H_after)"
   ]
  },
  {
   "cell_type": "markdown",
   "metadata": {},
   "source": [
    "The following code tests this using a simple Landlab grid:"
   ]
  },
  {
   "cell_type": "code",
   "execution_count": null,
   "metadata": {},
   "outputs": [],
   "source": [
    "dx = 10.0  # node spacing, m\n",
    "fault_x0 = 100.0\n",
    "grid = RasterModelGrid((3, 130), xy_spacing=dx)\n",
    "elev = grid.add_zeros(\"topographic__elevation\", at=\"node\")\n",
    "extender = ListricKinematicExtender(grid, fault_x0=fault_x0, fault_strike=90.0)\n",
    "\n",
    "# Verify that node 240 is at xf=1000 and node 190 is at xf=500\n",
    "print(\"Node 240 xf =\", grid.x_of_node[240] - fault_x0)\n",
    "print(\"Node 190 xf =\", grid.x_of_node[190] - fault_x0)\n",
    "\n",
    "H = grid.at_node[\"hangingwall__thickness\"]\n",
    "print(\"Initial thickness at xf = 1000 m:\", H[240])\n",
    "print(\"Initial thickness at xf = 500 m:\", H[190])\n",
    "\n",
    "dt = 0.2 * dx / u  # time-step duration, y\n",
    "nsteps = int(500000.0 / dt)\n",
    "print(nsteps)\n",
    "for _ in range(nsteps):\n",
    "    extender.run_one_step(dt)\n",
    "print(\"After extension, thickness at xf = 1000 m (node 240) is\", H[240])"
   ]
  },
  {
   "cell_type": "code",
   "execution_count": null,
   "metadata": {},
   "outputs": [],
   "source": [
    "print(nsteps, dt)"
   ]
  },
  {
   "cell_type": "markdown",
   "metadata": {},
   "source": [
    "The component will also automatically update elevation as the sum of fault-plane elevation and hangingwall thickness. In the above example, at $x_f = 1000$ m, elevation should decline by the difference between the old and new hangingwall thickness, which is approximately 1590 - 830 = 760 m. Because it starts from zero elevation, the new elevation should be about -760 m:"
   ]
  },
  {
   "cell_type": "code",
   "execution_count": null,
   "metadata": {},
   "outputs": [],
   "source": [
    "print(\"New elevation at xf = 1000 m is\", elev[240])"
   ]
  },
  {
   "cell_type": "markdown",
   "metadata": {},
   "source": [
    "The plot below shows a profile of the hangingwall and topography after 500 ky of extension (the \"spike\" in elevation on the right is just the initial condition, which does not change on the boundary nodes unless we force it to):"
   ]
  },
  {
   "cell_type": "code",
   "execution_count": null,
   "metadata": {},
   "outputs": [],
   "source": [
    "midrow = np.arange(130, 260, dtype=int)\n",
    "xmid = grid.x_of_node[midrow]\n",
    "plt.plot(xmid, grid.at_node[\"fault_plane__elevation\"][midrow], \"r\", label=\"Fault plane\")\n",
    "plt.plot(xmid, elev[midrow], \"k\", label=\"Surface\")\n",
    "plt.xlabel(\"Distance (m)\")\n",
    "plt.ylabel(\"Elevation (m)\")\n",
    "plt.legend()"
   ]
  },
  {
   "cell_type": "markdown",
   "metadata": {},
   "source": [
    "## Examples\n",
    "\n",
    "### Example 1: Quasi-1D\n",
    "\n",
    "The first example uses a quasi-1D setup to represent an initially level topography on which subsidence progressively accumulates. "
   ]
  },
  {
   "cell_type": "code",
   "execution_count": null,
   "metadata": {},
   "outputs": [],
   "source": [
    "import matplotlib.pyplot as plt\n",
    "import numpy as np\n",
    "\n",
    "from landlab import RasterModelGrid, imshow_grid\n",
    "from landlab.components import ListricKinematicExtender"
   ]
  },
  {
   "cell_type": "code",
   "execution_count": null,
   "metadata": {},
   "outputs": [],
   "source": [
    "# parameters\n",
    "nrows = 3\n",
    "ncols = 51\n",
    "dx = 1000.0  # grid spacing, m\n",
    "nsteps = 20  # number of iterations\n",
    "dt = 2.5e5  # time step, y\n",
    "extension_rate = 0.001  # m/y\n",
    "detachment_depth = 10000.0  # m\n",
    "fault_dip = 60.0  # fault dip angle, degrees\n",
    "fault_x0 = 10000.0  # m from left side of model"
   ]
  },
  {
   "cell_type": "code",
   "execution_count": null,
   "metadata": {},
   "outputs": [],
   "source": [
    "# Create grid and elevation field\n",
    "grid = RasterModelGrid((nrows, ncols), xy_spacing=dx)\n",
    "elev = grid.add_zeros(\"topographic__elevation\", at=\"node\")\n",
    "\n",
    "# Instantiate component\n",
    "extender = ListricKinematicExtender(\n",
    "    grid,\n",
    "    extension_rate_x=extension_rate,\n",
    "    extension_rate_y=0.0,\n",
    "    fault_dip=fault_dip,\n",
    "    fault_x0=fault_x0,\n",
    "    fault_y0=0.0,\n",
    "    fault_strike=90.0,\n",
    "    detachment_depth=detachment_depth,\n",
    ")"
   ]
  },
  {
   "cell_type": "code",
   "execution_count": null,
   "metadata": {},
   "outputs": [],
   "source": [
    "# Plot the starting elevations, in cross-section (middle row)\n",
    "midrow = np.arange(ncols, 2 * ncols, dtype=int)\n",
    "plt.plot(grid.x_of_node[midrow] / 1000.0, elev[midrow], \"k\")\n",
    "plt.xlabel(\"Distance (km)\")\n",
    "plt.ylabel(\"Elevation (m)\")\n",
    "plt.xlim([10.0, 40.0])\n",
    "\n",
    "# Add a plot of the fault plane\n",
    "dist_from_fault = grid.x_of_node - fault_x0\n",
    "dist_from_fault[dist_from_fault < 0.0] = 0.0\n",
    "x0 = detachment_depth / np.tan(np.deg2rad(fault_dip))\n",
    "fault_plane = -(detachment_depth * (1.0 - np.exp(-dist_from_fault / x0)))\n",
    "plt.plot(grid.x_of_node[midrow] / 1000.0, fault_plane[midrow], \"r\")\n",
    "\n",
    "for i in range(nsteps):\n",
    "    extender.run_one_step(dt)\n",
    "    plt.plot(grid.x_of_node[midrow] / 1000.0, elev[midrow], \"k\")\n",
    "\n",
    "# Add the analytic solution\n",
    "total_time = nsteps * dt\n",
    "G0 = np.tan(np.deg2rad(fault_dip))\n",
    "shifted_dist_from_fault = np.maximum(dist_from_fault - extension_rate * total_time, 0.0)\n",
    "elev_pred = detachment_depth * (\n",
    "    np.exp(-dist_from_fault * G0 / h) - np.exp(-(shifted_dist_from_fault * G0 / h))\n",
    ")\n",
    "elev_pred = np.maximum(elev_pred, fault_plane)\n",
    "plt.plot(grid.x_of_node[midrow] / 1000.0, elev_pred[midrow], \"b:\")"
   ]
  },
  {
   "cell_type": "markdown",
   "metadata": {},
   "source": [
    "### Example 2: quasi-1D with topography"
   ]
  },
  {
   "cell_type": "code",
   "execution_count": null,
   "metadata": {},
   "outputs": [],
   "source": [
    "period = 15000.0  # period of sinusoidal variations in initial topography, m\n",
    "ampl = 500.0  # amplitude of variations, m\n",
    "\n",
    "# Create grid and elevation field\n",
    "grid = RasterModelGrid((nrows, ncols), xy_spacing=dx)\n",
    "elev = grid.add_zeros(\"topographic__elevation\", at=\"node\")\n",
    "elev[:] = ampl * np.sin(2 * np.pi * grid.x_of_node / period)\n",
    "\n",
    "# Instantiate component\n",
    "extender = ListricKinematicExtender(\n",
    "    grid,\n",
    "    extension_rate_x=extension_rate,\n",
    "    extension_rate_y=0.0,\n",
    "    fault_dip=fault_dip,\n",
    "    fault_strike=90.0,\n",
    "    fault_x0=fault_x0,\n",
    "    fault_y0=0.0,\n",
    "    detachment_depth=detachment_depth,\n",
    ")"
   ]
  },
  {
   "cell_type": "code",
   "execution_count": null,
   "metadata": {},
   "outputs": [],
   "source": [
    "# Plot the starting elevations, in cross-section (middle row)\n",
    "midrow = np.arange(ncols, 2 * ncols, dtype=int)\n",
    "plt.plot(grid.x_of_node[midrow] / 1000.0, elev[midrow], \"k\")\n",
    "plt.xlabel(\"Distance (km)\")\n",
    "plt.ylabel(\"Elevation (m)\")\n",
    "plt.grid(True)\n",
    "\n",
    "# Add a plot of the fault plane\n",
    "dist_from_fault = grid.x_of_node - fault_x0\n",
    "x0 = detachment_depth / np.tan(np.deg2rad(fault_dip))\n",
    "fault_plane = -(detachment_depth * (1.0 - np.exp(-dist_from_fault / x0)))\n",
    "fault_plane = np.minimum(fault_plane, elev)\n",
    "plt.plot(grid.x_of_node[midrow] / 1000.0, fault_plane[midrow], \"r\")\n",
    "\n",
    "for i in range(nsteps):\n",
    "    extender.run_one_step(dt)\n",
    "    c = 1.0 - i / nsteps\n",
    "    plt.plot(grid.x_of_node[midrow] / 1000.0, elev[midrow], color=[c, c, c])"
   ]
  },
  {
   "cell_type": "markdown",
   "metadata": {},
   "source": [
    "### Example 3: extending to 2D"
   ]
  },
  {
   "cell_type": "code",
   "execution_count": null,
   "metadata": {},
   "outputs": [],
   "source": [
    "# parameters\n",
    "nrows = 31\n",
    "ncols = 51\n",
    "dx = 1000.0  # grid spacing, m\n",
    "nsteps = 20  # number of iterations\n",
    "dt = 2.5e5  # time step, y\n",
    "extension_rate = 0.001  # m/y\n",
    "detachment_depth = 10000.0  # m\n",
    "fault_dip = 60.0  # fault dip angle, degrees\n",
    "fault_x0 = 10000.0  # m from left side of model\n",
    "period = 15000.0  # period of sinusoidal variations in initial topography, m\n",
    "ampl = 500.0  # amplitude of variations, m"
   ]
  },
  {
   "cell_type": "code",
   "execution_count": null,
   "metadata": {},
   "outputs": [],
   "source": [
    "# Create grid and elevation field\n",
    "grid = RasterModelGrid((nrows, ncols), xy_spacing=dx)\n",
    "elev = grid.add_zeros(\"topographic__elevation\", at=\"node\")\n",
    "elev[:] = (\n",
    "    ampl\n",
    "    * np.sin(2 * np.pi * grid.x_of_node / period)\n",
    "    * np.sin(2 * np.pi * grid.y_of_node / period)\n",
    ")\n",
    "\n",
    "# Instantiate component\n",
    "extender = ListricKinematicExtender(\n",
    "    grid,\n",
    "    extension_rate_x=extension_rate,\n",
    "    extension_rate_y=0.0,\n",
    "    fault_dip=fault_dip,\n",
    "    fault_strike=90.0,\n",
    "    fault_x0=fault_x0,\n",
    "    fault_y0=0.0,\n",
    "    detachment_depth=detachment_depth,\n",
    ")"
   ]
  },
  {
   "cell_type": "code",
   "execution_count": null,
   "metadata": {},
   "outputs": [],
   "source": [
    "# Plot the starting topography\n",
    "imshow_grid(grid, elev)"
   ]
  },
  {
   "cell_type": "code",
   "execution_count": null,
   "metadata": {},
   "outputs": [],
   "source": [
    "for i in range(nsteps // 2):\n",
    "    extender.run_one_step(dt)\n",
    "imshow_grid(grid, elev)"
   ]
  },
  {
   "cell_type": "code",
   "execution_count": null,
   "metadata": {},
   "outputs": [],
   "source": [
    "for i in range(nsteps // 2):\n",
    "    extender.run_one_step(dt)\n",
    "imshow_grid(grid, elev)"
   ]
  },
  {
   "cell_type": "code",
   "execution_count": null,
   "metadata": {},
   "outputs": [],
   "source": [
    "# Plot a cross-section\n",
    "start_node = 6 * ncols\n",
    "end_node = start_node + ncols\n",
    "midrow = np.arange(start_node, end_node, dtype=int)\n",
    "plt.plot(grid.x_of_node[midrow] / 1000.0, elev[midrow], \"k\")\n",
    "plt.xlabel(\"Distance (km)\")\n",
    "plt.ylabel(\"Elevation (m)\")\n",
    "plt.grid(True)\n",
    "\n",
    "# Add a plot of the fault plane\n",
    "dist_from_fault = grid.x_of_node - fault_x0\n",
    "x0 = detachment_depth / np.tan(np.deg2rad(fault_dip))\n",
    "fault_plane = -(detachment_depth * (1.0 - np.exp(-dist_from_fault / x0)))\n",
    "fault_plane = np.minimum(fault_plane, elev)\n",
    "plt.plot(grid.x_of_node[midrow] / 1000.0, fault_plane[midrow], \"r\")"
   ]
  },
  {
   "cell_type": "markdown",
   "metadata": {},
   "source": [
    "### Example 4: hex grid"
   ]
  },
  {
   "cell_type": "code",
   "execution_count": null,
   "metadata": {},
   "outputs": [],
   "source": [
    "from landlab import HexModelGrid\n",
    "\n",
    "# parameters\n",
    "nrows = 31\n",
    "ncols = 51\n",
    "dx = 1000.0  # grid spacing, m\n",
    "nsteps = 20  # number of iterations\n",
    "dt = 2.5e5  # time step, y\n",
    "extension_rate = 0.001  # m/y\n",
    "detachment_depth = 10000.0  # m\n",
    "fault_dip = 60.0  # fault dip angle, degrees\n",
    "fault_x0 = 10000.0  # m from left side of model\n",
    "fault_strike = 60.0  # strike, degrees ccw from east\n",
    "period = 15000.0  # period of sinusoidal variations in initial topography, m\n",
    "ampl = 500.0  # amplitude of variations, m"
   ]
  },
  {
   "cell_type": "code",
   "execution_count": null,
   "metadata": {},
   "outputs": [],
   "source": [
    "# Create grid and elevation field\n",
    "grid = HexModelGrid((nrows, ncols), spacing=dx, node_layout=\"rect\")\n",
    "\n",
    "elev = grid.add_zeros(\"topographic__elevation\", at=\"node\")\n",
    "elev[:] = (\n",
    "    ampl\n",
    "    * np.sin(2 * np.pi * grid.x_of_node / period)\n",
    "    * np.sin(2 * np.pi * grid.y_of_node / period)\n",
    ")\n",
    "\n",
    "# Instantiate component\n",
    "extender = ListricKinematicExtender(\n",
    "    grid,\n",
    "    extension_rate_x=extension_rate,\n",
    "    extension_rate_y=0.0,\n",
    "    fault_dip=fault_dip,\n",
    "    fault_strike=fault_strike,\n",
    "    fault_x0=fault_x0,\n",
    "    fault_y0=0.0,\n",
    "    detachment_depth=detachment_depth,\n",
    ")"
   ]
  },
  {
   "cell_type": "code",
   "execution_count": null,
   "metadata": {},
   "outputs": [],
   "source": [
    "# Plot the starting topography\n",
    "imshow_grid(grid, elev)"
   ]
  },
  {
   "cell_type": "code",
   "execution_count": null,
   "metadata": {},
   "outputs": [],
   "source": [
    "for i in range(nsteps // 2):\n",
    "    extender.run_one_step(dt)\n",
    "imshow_grid(grid, elev)"
   ]
  },
  {
   "cell_type": "code",
   "execution_count": null,
   "metadata": {},
   "outputs": [],
   "source": [
    "for i in range(nsteps // 2):\n",
    "    extender.run_one_step(dt)\n",
    "imshow_grid(grid, elev)"
   ]
  },
  {
   "cell_type": "code",
   "execution_count": null,
   "metadata": {},
   "outputs": [],
   "source": [
    "# Plot a cross-section\n",
    "start_node = 6 * ncols\n",
    "end_node = start_node + ncols\n",
    "midrow = np.arange(start_node, end_node, dtype=int)\n",
    "plt.plot(\n",
    "    grid.x_of_node[midrow] / 1000.0, grid.at_node[\"fault_plane__elevation\"][midrow], \"r\"\n",
    ")\n",
    "plt.plot(grid.x_of_node[midrow] / 1000.0, elev[midrow], \"k\")\n",
    "plt.xlabel(\"Distance (km)\")\n",
    "plt.ylabel(\"Elevation (m)\")\n",
    "plt.grid(True)"
   ]
  },
  {
   "cell_type": "markdown",
   "metadata": {},
   "source": [
    "### Example 5: Integrating with flexure\n",
    "\n",
    "By itself, `ListricKinematicExtender` does not include rift-shoulder uplift, which in nature (at least in the author's understanding) occurs as a result of flexural isostatic uplift in response to extensional thinning of the crust, and also possibly as a result of thermal isostatic uplift in the underlying mantle. To handle the first of these, `ListricKinematicExtender` is designed to work together with a flexural isostasy component. The basic idea is to calculate explicitly the thinning of the crustal column that results from extension, so that this reduction in crustal thickness can be used by an isostasy component such as `Flexure`.\n",
    "\n",
    "The basic concept behind `ListricKinematicExtender` is that thinning occurs when the hangingwall block is dragged away from the footwall, in effect sliding down the fault plane, as illustrated in the plot of topography and fault plane above. In order to combine with a flexural isostasy component, we need to keep track of the progressive reduction in crustal thickness. In the example below, we do this by keeping track of a quantity called \"footwall thickness\", which represents the thickness of material above an arbitrary datum fixed to the crustal column called \"crust datum\". The total thickness of material is then the sum of footwall and hangingwall thickness, and changes in this thickness create a positive or negative load. We use the `Flexure` component to calculate the net deflection (positive downward) resulting from this load. Because the initial condition itself will create a deflection, we record this initial deflection and then subtract it from subsequent deflection, to arrive at the net deflection resulting from crustal extension."
   ]
  },
  {
   "cell_type": "code",
   "execution_count": null,
   "metadata": {},
   "outputs": [],
   "source": [
    "from landlab.components import Flexure\n",
    "\n",
    "# parameters\n",
    "nrows = 31\n",
    "ncols = 51\n",
    "dx = 1000.0  # grid spacing, m\n",
    "nsteps = 20  # number of iterations\n",
    "dt = 2.5e5  # time step, y\n",
    "extension_rate = 0.001  # m/y\n",
    "detachment_depth = 10000.0  # m\n",
    "fault_dip = 60.0  # fault dip angle, degrees\n",
    "fault_x0 = 10000.0  # m from left side of model\n",
    "period = 15000.0  # period of sinusoidal variations in initial topography, m\n",
    "ampl = 500.0  # amplitude of variations, m\n",
    "\n",
    "# flexural parameters\n",
    "eet = 5000.0  # effective elastic thickness, m (here very thin)\n",
    "crust_datum = -10000.0  # elevation of crustal reference datum, m\n",
    "rhoc = 2700.0  # crust density, kg/m3\n",
    "g = 9.8  # guess what?"
   ]
  },
  {
   "cell_type": "code",
   "execution_count": null,
   "metadata": {},
   "outputs": [],
   "source": [
    "# Create grid and elevation field\n",
    "grid = RasterModelGrid((nrows, ncols), xy_spacing=dx)\n",
    "elev = grid.add_zeros(\"topographic__elevation\", at=\"node\")\n",
    "elev[:] = (\n",
    "    ampl\n",
    "    * np.sin(2 * np.pi * grid.x_of_node / period)\n",
    "    * np.sin(2 * np.pi * grid.y_of_node / period)\n",
    ")\n",
    "total_thickness = grid.add_zeros(\"upper_crust_thickness\", at=\"node\")\n",
    "fw_thickness = grid.add_zeros(\"footwall__thickness\", at=\"node\")\n",
    "load = grid.add_zeros(\"lithosphere__overlying_pressure_increment\", at=\"node\")\n",
    "\n",
    "# Instantiate components\n",
    "extender = ListricKinematicExtender(\n",
    "    grid,\n",
    "    extension_rate_x=extension_rate,\n",
    "    extension_rate_y=0.0,\n",
    "    fault_dip=fault_dip,\n",
    "    fault_strike=90.0,\n",
    "    fault_x0=fault_x0,\n",
    "    fault_y0=0.0,\n",
    "    detachment_depth=detachment_depth,\n",
    ")\n",
    "\n",
    "hw_thickness = grid.at_node[\"hangingwall__thickness\"]\n",
    "fw_thickness = grid.at_node[\"fault_plane__elevation\"] - crust_datum\n",
    "\n",
    "flexer = Flexure(grid, eet=eet, method=\"flexure\")\n",
    "deflection = grid.at_node[\"lithosphere_surface__elevation_increment\"]"
   ]
  },
  {
   "cell_type": "code",
   "execution_count": null,
   "metadata": {},
   "outputs": [],
   "source": [
    "# set up thickness and flexure\n",
    "unit_wt = rhoc * g\n",
    "total_thickness[:] = elev - crust_datum\n",
    "load[:] = unit_wt * total_thickness\n",
    "\n",
    "flexer.update()\n",
    "init_flex = deflection.copy()"
   ]
  },
  {
   "cell_type": "code",
   "execution_count": null,
   "metadata": {},
   "outputs": [],
   "source": [
    "# show initial deflection field (positive downward)\n",
    "imshow_grid(grid, init_flex)"
   ]
  },
  {
   "cell_type": "code",
   "execution_count": null,
   "metadata": {},
   "outputs": [],
   "source": [
    "for i in range(nsteps):\n",
    "    extender.run_one_step(dt)\n",
    "    total_thickness = fw_thickness + hw_thickness\n",
    "    load[:] = unit_wt * total_thickness\n",
    "    flexer.update()\n",
    "    net_deflection = deflection - init_flex\n",
    "    elev[:] = crust_datum + total_thickness - net_deflection"
   ]
  },
  {
   "cell_type": "code",
   "execution_count": null,
   "metadata": {},
   "outputs": [],
   "source": [
    "imshow_grid(grid, total_thickness)"
   ]
  },
  {
   "cell_type": "code",
   "execution_count": null,
   "metadata": {},
   "outputs": [],
   "source": [
    "imshow_grid(grid, net_deflection)"
   ]
  },
  {
   "cell_type": "code",
   "execution_count": null,
   "metadata": {},
   "outputs": [],
   "source": [
    "imshow_grid(grid, elev)"
   ]
  },
  {
   "cell_type": "code",
   "execution_count": null,
   "metadata": {},
   "outputs": [],
   "source": [
    "plt.plot(elev.reshape(31, 51)[:, 9], label=\"Rift shoulder\")\n",
    "plt.plot(elev.reshape(31, 51)[:, 15], label=\"Rift basin\")\n",
    "plt.plot(-net_deflection.reshape(31, 51)[:, 9], label=\"Isostatic uplift profile\")\n",
    "plt.xlabel(\"North-south distance (km)\")\n",
    "plt.ylabel(\"Height (m)\")\n",
    "plt.legend()"
   ]
  },
  {
   "cell_type": "markdown",
   "metadata": {},
   "source": [
    "### Example 6: Multiple materials\n",
    "\n",
    "The examples above apply tectonic advection to one layer of material: the stuff in the hangingwall. But what if we want a model in which the hangingwall contains two or more layers of material? For example, what if we want to track both rock and sediment?\n",
    "\n",
    "The following example illustrates how we can do this. The underlying code in `ListricKinematicExtender` takes advantage of the ability of `AdvectionSolverTVD` to apply advection to multiple fields."
   ]
  },
  {
   "cell_type": "code",
   "execution_count": null,
   "metadata": {},
   "outputs": [],
   "source": [
    "# parameters\n",
    "nrows = 31\n",
    "ncols = 51\n",
    "dx = 1000.0  # grid spacing, m\n",
    "nsteps = 20  # number of iterations\n",
    "dt = 2.5e5  # time step, y\n",
    "extension_rate = 0.001  # m/y\n",
    "detachment_depth = 10000.0  # m\n",
    "fault_dip = 60.0  # fault dip angle, degrees\n",
    "fault_x0 = 10000.0  # m from left side of model\n",
    "period = 15000.0  # period of sinusoidal variations in initial topography, m\n",
    "ampl = 500.0  # amplitude of variations, m\n",
    "mean_sed_thickness = 100.0  # average thickness of sediment, m\n",
    "sed_period = 18000.0  # period of sinusoidal undulations in sediment thickness, m\n",
    "\n",
    "# flexural parameters\n",
    "eet = 5000.0  # effective elastic thickness, m (here very thin)\n",
    "crust_datum = -10000.0  # elevation of crustal reference datum, m\n",
    "rhoc = 2700.0  # crust density, kg/m3\n",
    "g = 9.8  # guess what?"
   ]
  },
  {
   "cell_type": "code",
   "execution_count": null,
   "metadata": {},
   "outputs": [],
   "source": [
    "# Create grid and elevation field\n",
    "grid = RasterModelGrid((nrows, ncols), xy_spacing=dx)\n",
    "elev = grid.add_zeros(\"topographic__elevation\", at=\"node\")\n",
    "elev[:] = (\n",
    "    ampl\n",
    "    * np.sin(2 * np.pi * grid.x_of_node / period)\n",
    "    * np.sin(2 * np.pi * grid.y_of_node / period)\n",
    ")\n",
    "sed = grid.add_zeros(\"soil__depth\", at=\"node\")\n",
    "sed[:] = mean_sed_thickness * (\n",
    "    1.0\n",
    "    + np.sin(2 * np.pi * grid.x_of_node / period + np.pi)\n",
    "    * np.sin(2 * np.pi * grid.y_of_node / period + 0)\n",
    ")\n",
    "total_thickness = grid.add_zeros(\"upper_crust_thickness\", at=\"node\")\n",
    "fw_thickness = grid.add_zeros(\"footwall__thickness\", at=\"node\")\n",
    "hw_sed = grid.add_zeros(\"hangingwall_sediment__thickness\", at=\"node\")\n",
    "fw_sed = grid.add_zeros(\"footwall_sediment__thickness\", at=\"node\")\n",
    "load = grid.add_zeros(\"lithosphere__overlying_pressure_increment\", at=\"node\")\n",
    "\n",
    "# Instantiate components\n",
    "extender = ListricKinematicExtender(\n",
    "    grid,\n",
    "    fields_to_advect=[\"hangingwall__thickness\", \"hangingwall_sediment__thickness\"],\n",
    "    extension_rate_x=extension_rate,\n",
    "    extension_rate_y=0.0,\n",
    "    fault_dip=fault_dip,\n",
    "    fault_strike=90.0,\n",
    "    fault_x0=fault_x0,\n",
    "    fault_y0=0.0,\n",
    "    detachment_depth=detachment_depth,\n",
    ")\n",
    "\n",
    "hw_thickness = grid.at_node[\"hangingwall__thickness\"]\n",
    "fw_thickness = grid.at_node[\"fault_plane__elevation\"] - crust_datum\n",
    "hw_sed[:] = np.minimum(hw_thickness, sed)\n",
    "fw_sed[:] = sed - hw_sed\n",
    "\n",
    "flexer = Flexure(grid, eet=eet, method=\"flexure\")\n",
    "deflection = grid.at_node[\"lithosphere_surface__elevation_increment\"]"
   ]
  },
  {
   "cell_type": "code",
   "execution_count": null,
   "metadata": {},
   "outputs": [],
   "source": [
    "imshow_grid(grid, hw_sed)"
   ]
  },
  {
   "cell_type": "code",
   "execution_count": null,
   "metadata": {},
   "outputs": [],
   "source": [
    "imshow_grid(grid, fw_sed)"
   ]
  },
  {
   "cell_type": "code",
   "execution_count": null,
   "metadata": {},
   "outputs": [],
   "source": [
    "# set up thickness and flexure\n",
    "unit_wt = (\n",
    "    rhoc * g\n",
    ")  # note we are approximating rock and sed as same density...could do better\n",
    "total_thickness[:] = elev - crust_datum\n",
    "load[:] = unit_wt * total_thickness\n",
    "\n",
    "flexer.update()\n",
    "init_flex = deflection.copy()"
   ]
  },
  {
   "cell_type": "code",
   "execution_count": null,
   "metadata": {},
   "outputs": [],
   "source": [
    "for i in range(nsteps):\n",
    "    extender.run_one_step(dt)\n",
    "    total_thickness = fw_thickness + hw_thickness\n",
    "    load[:] = unit_wt * total_thickness\n",
    "    flexer.update()\n",
    "    net_deflection = deflection - init_flex\n",
    "    elev[:] = crust_datum + total_thickness - net_deflection"
   ]
  },
  {
   "cell_type": "code",
   "execution_count": null,
   "metadata": {},
   "outputs": [],
   "source": [
    "sed[:] = fw_sed + hw_sed\n",
    "plt.plot(elev.reshape(31, 51)[:, 9], label=\"Rift shoulder\")\n",
    "plt.plot((elev - sed).reshape(31, 51)[:, 9], \":\", label=\"Rift shoulder sed\")\n",
    "plt.plot(elev.reshape(31, 51)[:, 15], label=\"Rift basin\")\n",
    "plt.plot((elev - sed).reshape(31, 51)[:, 15], \":\", label=\"Rift basin sed\")\n",
    "plt.plot(-net_deflection.reshape(31, 51)[:, 9], label=\"Isostatic uplift profile\")\n",
    "plt.xlabel(\"North-south distance (km)\")\n",
    "plt.ylabel(\"Height (m)\")\n",
    "plt.legend()"
   ]
  },
  {
   "cell_type": "code",
   "execution_count": null,
   "metadata": {},
   "outputs": [],
   "source": [
    "# Plot a cross-section\n",
    "start_node = 6 * ncols\n",
    "end_node = start_node + ncols\n",
    "midrow = np.arange(start_node, end_node, dtype=int)\n",
    "plt.plot(\n",
    "    grid.x_of_node[midrow] / 1000.0, grid.at_node[\"fault_plane__elevation\"][midrow], \"r\"\n",
    ")\n",
    "plt.plot(grid.x_of_node[midrow] / 1000.0, elev[midrow] - sed[midrow], \"c\")\n",
    "plt.plot(grid.x_of_node[midrow] / 1000.0, elev[midrow], \"k\")\n",
    "plt.xlabel(\"Distance (km)\")\n",
    "plt.ylabel(\"Elevation (m)\")\n",
    "plt.grid(True)"
   ]
  },
  {
   "cell_type": "markdown",
   "metadata": {},
   "source": [
    "### Click here for more <a href=\"https://landlab.readthedocs.io/en/latest/user_guide/tutorials.html\">Landlab tutorials</a>"
   ]
  }
 ],
 "metadata": {
  "kernelspec": {
   "display_name": "Python 3 (ipykernel)",
   "language": "python",
   "name": "python3"
  },
  "language_info": {
   "codemirror_mode": {
    "name": "ipython",
    "version": 3
   },
   "file_extension": ".py",
   "mimetype": "text/x-python",
   "name": "python",
   "nbconvert_exporter": "python",
   "pygments_lexer": "ipython3",
   "version": "3.11.2"
  }
 },
 "nbformat": 4,
 "nbformat_minor": 4
}
