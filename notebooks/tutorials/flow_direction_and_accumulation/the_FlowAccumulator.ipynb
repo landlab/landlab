{
 "cells": [
  {
   "cell_type": "markdown",
   "metadata": {},
   "source": [
    "<a href=\"http://landlab.github.io\"><img style=\"float: left\" src=\"../../landlab_header.png\"></a>"
   ]
  },
  {
   "cell_type": "markdown",
   "metadata": {},
   "source": [
    "# Introduction to the FlowAccumulator\n",
    "\n",
    "Landlab directs flow and accumulates it using two types of components:\n",
    "\n",
    "**FlowDirectors** use the topography to determine how flow moves between adjacent nodes. For every node in the grid it determines the nodes to receive flow and the proportion of flow to send from one node to its receiver. \n",
    "\n",
    "The **FlowAccumulator** uses the direction and proportion of flow moving between each node and (optionally) water runoff to calculate drainage area and discharge.  \n",
    "\n",
    "In this tutorial we will go over how to initialize and run the **FlowAccumulator**. For tutorials on how to initialize and run a **FlowDirector** and a brief comparison between the different flow direction algorithms or for more detailed examples that contrast the differences between each flow direction algorithm, refer to the other tutorials in this section. \n",
    "\n",
    "First, we import the necessary python modules and make a small plotting routine. "
   ]
  },
  {
   "cell_type": "code",
   "execution_count": null,
   "metadata": {},
   "outputs": [],
   "source": [
    "%matplotlib inline"
   ]
  },
  {
   "cell_type": "code",
   "execution_count": null,
   "metadata": {
    "scrolled": true
   },
   "outputs": [],
   "source": [
    "# import plotting tools\n",
    "from mpl_toolkits.mplot3d import Axes3D\n",
    "import matplotlib.pyplot as plt\n",
    "from matplotlib import cm\n",
    "from matplotlib.ticker import LinearLocator, FormatStrFormatter\n",
    "import matplotlib as mpl\n",
    "\n",
    "# import numpy\n",
    "import numpy as np\n",
    "\n",
    "# import necessary landlab components\n",
    "from landlab import RasterModelGrid, HexModelGrid\n",
    "from landlab.components import FlowAccumulator\n",
    "from landlab.components import (FlowDirectorD8, FlowDirectorDINF,\n",
    "                                FlowDirectorMFD, FlowDirectorSteepest)\n",
    "from landlab.components import DepressionFinderAndRouter\n",
    "\n",
    "# import landlab plotting functionality\n",
    "from landlab.plot.drainage_plot import drainage_plot\n",
    "\n",
    "\n",
    "# create a plotting routine to make a 3d plot of our surface.\n",
    "def surf_plot(mg,\n",
    "              surface='topographic__elevation',\n",
    "              title='Surface plot of topography'):\n",
    "\n",
    "    fig = plt.figure()\n",
    "    ax = fig.gca(projection='3d')\n",
    "\n",
    "    # Plot the surface.\n",
    "    Z = mg.at_node[surface].reshape(mg.shape)\n",
    "    color = cm.gray((Z - Z.min()) / (Z.max() - Z.min()))\n",
    "    surf = ax.plot_surface(mg.x_of_node.reshape(mg.shape),\n",
    "                           mg.y_of_node.reshape(mg.shape),\n",
    "                           Z,\n",
    "                           rstride=1,\n",
    "                           cstride=1,\n",
    "                           facecolors=color,\n",
    "                           linewidth=0.,\n",
    "                           antialiased=False)\n",
    "    ax.view_init(elev=35, azim=-120)\n",
    "    ax.set_xlabel('X axis')\n",
    "    ax.set_ylabel('Y axis')\n",
    "    ax.set_zlabel('Elevation')\n",
    "    plt.title(title)\n",
    "    plt.show()"
   ]
  },
  {
   "cell_type": "markdown",
   "metadata": {},
   "source": [
    "## Topographic grids\n",
    "\n",
    "For this tutorial we will consider one topographic surface. Here it is plotted in three dimensions. "
   ]
  },
  {
   "cell_type": "code",
   "execution_count": null,
   "metadata": {},
   "outputs": [],
   "source": [
    "mg = RasterModelGrid((10, 10))\n",
    "_ = mg.add_field('topographic__elevation',\n",
    "                 3. * mg.x_of_node**2 + mg.y_of_node**2,\n",
    "                 at='node')\n",
    "surf_plot(mg, title='Grid 1')"
   ]
  },
  {
   "cell_type": "markdown",
   "metadata": {},
   "source": [
    "## Initalizing and running the FlowAccumulator\n",
    "\n",
    "To instantiate the **FlowAccumulator**, you must pass it the minimum of a model grid that has a field called ```'topographic__elevation'```. \n",
    "\n",
    "Alternatively, you can pass it the name of another field name at node, or an array with length number of nodes. This is the surface over which flow is first directed and then accumulated. \n",
    "\n",
    "**FlowAccumulator** will create and use a **FlowDirector** to calculate flow directions. The default **FlowDirector** is **FlowDirectorSteepest**, which is the same as D4 in the special case of a raster grid. There are a few different ways to specify which **FlowDirector** you want **FlowAccumulator** to use. The next section will go over these options. \n",
    "\n",
    "**FlowAccumulator** can take a constant or spatially variable input called ```runoff_rate```, which it uses to calculate discharge. Alternatively, if there is an `at_node` field called ```water__unit_flux_in``` and no value is specified as the ```runoff_rate```, **FlowAccumulator** will use the values stored in ```water__unit_flux_in```.\n",
    "\n",
    "In addition to directing flow and accumulating it in one step, **FlowAccumulator** can also deal with depression finding internally. This can be done by passing a **DepressionFinder** to the keyword argument ```depression_finder```. The default behavior is to not deal with depressions internally. \n",
    "\n",
    "Finally, if the **FlowDirector** you are using takes any keyword arguments, those can be passed to the **FlowAccumulator**. For example, **FlowDirectorMFD** has to option to use diagonals in addition to links and to proportion flow based on either the slope or the the square root of slope."
   ]
  },
  {
   "cell_type": "code",
   "execution_count": null,
   "metadata": {},
   "outputs": [],
   "source": [
    "fa = FlowAccumulator(mg)\n",
    "\n",
    "# this is the same as writing:\n",
    "fa = FlowAccumulator(mg,\n",
    "                     surface='topographic__elevation',\n",
    "                     flow_director='FlowDirectorSteepest',\n",
    "                     runoff_rate=None,\n",
    "                     depression_finder=None)"
   ]
  },
  {
   "cell_type": "markdown",
   "metadata": {},
   "source": [
    "The **FlowAccumulator** has two public methods: ```run_one_step()``` and ```accumulate_flow()```.\n",
    "\n",
    "Both use the values of the surface provided to identify flow directions (and in the case of directing to more than one receiver, proportions) and then calculate discharge and drainage area. Both store the same information about receivers, proportions, and other calculated values to the model grid as fields. The difference is that ```run_one_step()``` does not return any values, while ```accumulate_flow()``` returns the drainage area and discharge as variables."
   ]
  },
  {
   "cell_type": "code",
   "execution_count": null,
   "metadata": {},
   "outputs": [],
   "source": [
    "fa.run_one_step()\n",
    "\n",
    "(da, q) = fa.accumulate_flow()"
   ]
  },
  {
   "cell_type": "markdown",
   "metadata": {},
   "source": [
    "We can illustrate the receiver node **FlowDirectionSteepest** has assigned to each donor node using a plotting function in Landlab called ```drainage_plot```. We will see many of these plots in this tutorial so let's take a moment to walk through the plot and what it contains. \n",
    "\n",
    "   - The background image (white to black) shows the values of topographic elevation of the underlying surface or any other at_node field we choose to plot.\n",
    "\n",
    "   - The colors of the dots inside of each pixel show the locations of the nodes and the type of node. \n",
    "\n",
    "   - The arrows show the direction of flow, and the color shows the proportion of flow that travels along that link. \n",
    "\n",
    "   - An X on top of a node indicates that node is a local sink and flows to itself. \n",
    "\n",
    "Note that in Landlab *Boundary Nodes*, or nodes that are on the edge of a grid, do not have area and do not contribute flow to nodes. These nodes can either be *Fixed Gradient Nodes*, *Fixed Value Nodes*, or *Closed Nodes*. With the exception of *Closed Nodes* the boundary nodes can receive flow. \n",
    "\n",
    "An important step in all flow direction and accumulation is setting the proper boundary condition. Refer to the boundary condition tutorials for more information.  "
   ]
  },
  {
   "cell_type": "code",
   "execution_count": null,
   "metadata": {},
   "outputs": [],
   "source": [
    "plt.figure()\n",
    "drainage_plot(mg)"
   ]
  },
  {
   "cell_type": "markdown",
   "metadata": {},
   "source": [
    "In this drainage plot, we can see that all of the flow is routed down the steepest link. A plot of the drainage area would illustrate how the flow would move. Next let's make a similar plot except that instead of plotting the topographic elevation as the background, we will plot the drainage area. "
   ]
  },
  {
   "cell_type": "code",
   "execution_count": null,
   "metadata": {
    "scrolled": false
   },
   "outputs": [],
   "source": [
    "plt.figure()\n",
    "drainage_plot(mg, 'drainage_area')"
   ]
  },
  {
   "cell_type": "markdown",
   "metadata": {},
   "source": [
    "If we print out the drainage area, we can see that its maximum reaches 64, which is the total area of the interior of the grid."
   ]
  },
  {
   "cell_type": "code",
   "execution_count": null,
   "metadata": {},
   "outputs": [],
   "source": [
    "print(mg.at_node['drainage_area'].reshape(mg.shape))"
   ]
  },
  {
   "cell_type": "markdown",
   "metadata": {},
   "source": [
    "This is the same number as the number of core nodes. This makes sense becaue these are the only nodes in Landlab that have area, and in our model grid they each have an area of one. "
   ]
  },
  {
   "cell_type": "code",
   "execution_count": null,
   "metadata": {},
   "outputs": [],
   "source": [
    "print(mg.number_of_core_nodes)"
   ]
  },
  {
   "cell_type": "markdown",
   "metadata": {},
   "source": [
    "We can rain on the surface, store that rain in the field ```water__unit_flux_in```, and then re-run the **FlowAccumulator**. As an example, we will 'rain' a uniformly distributed random number between 0 and 1 on every node. \n",
    "\n",
    "Since we already ran the **FlowAccumulator**, under the hood our grid already has a field called ```water__unit_flux_in``` and we need to set the ```clobber``` keyword to ```True```."
   ]
  },
  {
   "cell_type": "code",
   "execution_count": null,
   "metadata": {},
   "outputs": [],
   "source": [
    "rain = 1. + 5. * np.random.rand(mg.number_of_nodes)\n",
    "\n",
    "plt.imshow(rain.reshape(mg.shape), origin='lower', cmap='PuBu', vmin=0)\n",
    "plt.colorbar()\n",
    "plt.show()\n",
    "\n",
    "_ = mg.add_field('water__unit_flux_in', rain, at='node', clobber=True)"
   ]
  },
  {
   "cell_type": "markdown",
   "metadata": {},
   "source": [
    "Next, we re-run the **FlowAccumulator** and plot the discharge. "
   ]
  },
  {
   "cell_type": "code",
   "execution_count": null,
   "metadata": {},
   "outputs": [],
   "source": [
    "fa.run_one_step()\n",
    "plt.figure()\n",
    "drainage_plot(mg, 'surface_water__discharge', title='Discharge')"
   ]
  },
  {
   "cell_type": "markdown",
   "metadata": {},
   "source": [
    "The basic pattern of drainage is the same but the values for the surface water discharge are different than for drainage area. "
   ]
  },
  {
   "cell_type": "markdown",
   "metadata": {},
   "source": [
    "### Alternative ways to specify the FlowDirector\n",
    "\n",
    "**FlowAccumulator** allows the **FlowDirector** to be specified one of four ways:\n",
    "1. As a string of the full name of the **FlowDirector** (e.g., ```'FlowDirectorSteepest'``` or ```'FlowDirectorD8'``` )\n",
    "2. As a string of the short name of the **FlowDirector** method (e.g., ```'Steepest'``` or ```'D8'```)\n",
    "3. As the class name for the desired **FlowDirector** component.\n",
    "4. As an instantiated version of a **FlowDirector** component. \n",
    "\n",
    "Thus, the following four ways to instantiate a **FlowAccumulator** are equivalent."
   ]
  },
  {
   "cell_type": "code",
   "execution_count": null,
   "metadata": {},
   "outputs": [],
   "source": [
    "# option 1: Full name of FlowDirector\n",
    "fa = FlowAccumulator(mg,\n",
    "                     surface='topographic__elevation',\n",
    "                     flow_director='FlowDirectorSteepest')\n",
    "\n",
    "# option 2: Short name of FlowDirector\n",
    "fa = FlowAccumulator(mg,\n",
    "                     surface='topographic__elevation',\n",
    "                     flow_director='Steepest')\n",
    "\n",
    "# option 3: Uninstantiated FlowDirector Component\n",
    "fa = FlowAccumulator(mg,\n",
    "                     surface='topographic__elevation',\n",
    "                     flow_director=FlowDirectorSteepest)\n",
    "\n",
    "# option 4: Instantiated FlowDirector Component\n",
    "fd = FlowDirectorSteepest(mg)\n",
    "fa = FlowAccumulator(mg, surface='topographic__elevation', flow_director=fd)"
   ]
  },
  {
   "cell_type": "markdown",
   "metadata": {},
   "source": [
    "### Providing a DepressionFinder\n",
    "\n",
    "Just as with providing the **FlowDirector**, the **DepressionFinder** can be provided multiple ways. While there are presently four different **FlowDirectors** in Landlab, there is only one **DepressionFinder**. \n",
    "\n",
    "1. As a string of the full name of the **DepressionFinder** (e.g., ```'DepressionFinderAndRouter'```)\n",
    "2. As the class name of the **DepressionFinder** component.\n",
    "3. As an instantiated version of a **DepressionFinder** component. \n",
    "\n",
    "NOTE: The current Landlab depression finder only works with **FlowDirectorSteepest** and **FlowDirectorD8** no matter how the depression finder is run. This is because the depression finder presently only works with route-to-one methods. \n",
    "\n",
    "Thus, the following three ways to instantiated a **DepressionFinder** are equivalent."
   ]
  },
  {
   "cell_type": "code",
   "execution_count": null,
   "metadata": {},
   "outputs": [],
   "source": [
    "# option 1: Full name of FlowDirector\n",
    "fa = FlowAccumulator(mg,\n",
    "                     surface='topographic__elevation',\n",
    "                     flow_director='FlowDirectorD8',\n",
    "                     depression_finder='DepressionFinderAndRouter')\n",
    "\n",
    "# option 2: Uninstantiated FlowDirector Component\n",
    "fa = FlowAccumulator(mg,\n",
    "                     surface='topographic__elevation',\n",
    "                     flow_director=FlowDirectorD8,\n",
    "                     depression_finder='DepressionFinderAndRouter')\n",
    "\n",
    "# option 3: Instantiated FlowDirector Component\n",
    "fd = FlowDirectorD8(mg)\n",
    "df = DepressionFinderAndRouter(mg)\n",
    "fa = FlowAccumulator(mg,\n",
    "                     surface='topographic__elevation',\n",
    "                     flow_director=fd,\n",
    "                     depression_finder=df)"
   ]
  },
  {
   "cell_type": "markdown",
   "metadata": {},
   "source": [
    "Methods for specifying can be mixed, such that the following is permissible. "
   ]
  },
  {
   "cell_type": "code",
   "execution_count": null,
   "metadata": {},
   "outputs": [],
   "source": [
    "df = DepressionFinderAndRouter(mg)\n",
    "fa = FlowAccumulator(mg,\n",
    "                     surface='topographic__elevation',\n",
    "                     flow_director='D8',\n",
    "                     depression_finder=df)"
   ]
  },
  {
   "cell_type": "markdown",
   "metadata": {},
   "source": [
    "### Using the DepressionFinder with FlowAccumulator\n",
    "\n",
    "To conclude this tutorial, we examine an example of a Hexagonal Model grid with a depression."
   ]
  },
  {
   "cell_type": "code",
   "execution_count": null,
   "metadata": {},
   "outputs": [],
   "source": [
    "hmg = HexModelGrid((9, 5))\n",
    "_ = hmg.add_field('topographic__elevation',\n",
    "                  hmg.x_of_node + hmg.y_of_node,\n",
    "                  at='node')\n",
    "\n",
    "fa = FlowAccumulator(hmg, flow_director='MFD')\n",
    "fa.run_one_step()\n",
    "plt.figure()\n",
    "drainage_plot(hmg)"
   ]
  },
  {
   "cell_type": "code",
   "execution_count": null,
   "metadata": {},
   "outputs": [],
   "source": [
    "plt.figure()\n",
    "drainage_plot(hmg, 'drainage_area')"
   ]
  },
  {
   "cell_type": "markdown",
   "metadata": {},
   "source": [
    "We will put a depression in the middle of the topography, and then see what the drainage plot looks like. "
   ]
  },
  {
   "cell_type": "code",
   "execution_count": null,
   "metadata": {},
   "outputs": [],
   "source": [
    "hmg_hole = HexModelGrid((9, 5))\n",
    "z = hmg_hole.add_field('topographic__elevation',\n",
    "                       hmg_hole.x_of_node + np.round(hmg_hole.y_of_node),\n",
    "                       at='node')\n",
    "hole_nodes = [21, 22, 23, 30, 31, 39, 40]\n",
    "z[hole_nodes] = z[hole_nodes] * 0.1\n",
    "\n",
    "fa = FlowAccumulator(hmg_hole, flow_director='Steepest')\n",
    "fa.run_one_step()\n",
    "plt.figure()\n",
    "drainage_plot(hmg_hole)"
   ]
  },
  {
   "cell_type": "code",
   "execution_count": null,
   "metadata": {},
   "outputs": [],
   "source": [
    "plt.figure()\n",
    "drainage_plot(hmg_hole, 'drainage_area')"
   ]
  },
  {
   "cell_type": "markdown",
   "metadata": {},
   "source": [
    "As you can see, the flow gets stuck in the hole. We'd like the flow in the hole to move out and to the boundary. \n",
    "\n",
    "To route the flow out of the hole, we have two options. \n",
    "1. Run the **FlowAccumulator** and then the **DepressionFinder**\n",
    "2. Run them together in **FlowAccumulator**. \n",
    "\n",
    "The options look like the following and they are equivalent. "
   ]
  },
  {
   "cell_type": "code",
   "execution_count": null,
   "metadata": {},
   "outputs": [],
   "source": [
    "# OPTION 1\n",
    "fa = FlowAccumulator(hmg_hole, flow_director='Steepest')\n",
    "fa.run_one_step()\n",
    "\n",
    "df = DepressionFinderAndRouter(hmg_hole)\n",
    "df.map_depressions()\n",
    "\n",
    "# OPTION 2\n",
    "fa = FlowAccumulator(hmg_hole,\n",
    "                     flow_director='Steepest',\n",
    "                     depression_finder='DepressionFinderAndRouter')\n",
    "fa.run_one_step()\n",
    "plt.figure()\n",
    "drainage_plot(hmg_hole, 'drainage_area')"
   ]
  },
  {
   "cell_type": "markdown",
   "metadata": {
    "collapsed": true
   },
   "source": [
    "As you can see the flow is now routed out of the hole and down to a boundary. \n",
    "\n",
    "# Conclusion\n",
    "\n",
    "This tutorial went over how to run the **FlowAccumulator**. To learn more, consider one of two additional tutorials about directing and accumulating flow in Landlab:\n",
    "\n",
    "1. **Introduction to FlowDirector**: A tutorial that goes over the different **FlowDirectors** present in Landlab and how to create and run a **FlowDirector**.\n",
    "\n",
    "2. **Comparison of FlowDirectors**: A tutorial that constrasts the different methods in more detail and over surfaces that are more complicated than a simple sloping ramp. \n",
    "\n"
   ]
  }
 ],
 "metadata": {
  "kernelspec": {
   "display_name": "Python 3",
   "language": "python",
   "name": "python3"
  },
  "language_info": {
   "codemirror_mode": {
    "name": "ipython",
    "version": 3
   },
   "file_extension": ".py",
   "mimetype": "text/x-python",
   "name": "python",
   "nbconvert_exporter": "python",
   "pygments_lexer": "ipython3",
   "version": "3.8.0"
  }
 },
 "nbformat": 4,
 "nbformat_minor": 2
}
