{
 "cells": [
  {
   "cell_type": "markdown",
   "metadata": {},
   "source": [
    "<a href=\"http://landlab.github.io\"><img style=\"float: left\" src=\"../../landlab_header.png\"></a>"
   ]
  },
  {
   "cell_type": "markdown",
   "metadata": {},
   "source": [
    "# Introduction to PriorityFloodFlowRouter (priorityFlood filler, director and accumulator)\n",
    "\n",
    "Landlab directs flow and accumulates it using FlowDirectors to determine how flow moves between adjacent nodes and a FlowAccumulator that uses the direction and proportion of flow moving between each node and (optionally) water runoff to calculate drainage area and discharge. \n",
    "\n",
    "Here we showcase an alternative flow router and accumualtor that wraps an external python package (richdem).  The **PriorityFloodFlowRouter** component combines filling, flow direction and accumualtion of water over structured grids in one component and significantly improves performaces of flow accumualtion and direction operations over large grids, especially when filling operations are required to route water over landscapes.\n",
    "\n",
    "This notebook follows the structure of the FlowAccumulator and flow director notebook.  \n",
    "First, we import the necessary python modules and make a small plotting routine. "
   ]
  },
  {
   "cell_type": "code",
   "execution_count": null,
   "metadata": {
    "scrolled": true
   },
   "outputs": [],
   "source": [
    "# import plotting tools\n",
    "from mpl_toolkits.mplot3d import Axes3D\n",
    "import matplotlib.pyplot as plt\n",
    "from matplotlib import cm\n",
    "from matplotlib.ticker import LinearLocator, FormatStrFormatter\n",
    "import matplotlib as mpl\n",
    "\n",
    "# import numpy\n",
    "import numpy as np\n",
    "\n",
    "# import necessary landlab components\n",
    "from landlab import RasterModelGrid\n",
    "from landlab.components import PriorityFloodFlowRouter\n",
    "\n",
    "# import landlab plotting functionality\n",
    "from landlab.plot.drainage_plot import drainage_plot\n",
    "\n",
    "\n",
    "# create a plotting routine to make a 3d plot of our surface.\n",
    "def surf_plot(mg, surface=\"topographic__elevation\", title=\"Surface plot of topography\"):\n",
    "\n",
    "    fig = plt.figure()\n",
    "    ax = fig.gca(projection=\"3d\")\n",
    "\n",
    "    # Plot the surface.\n",
    "    Z = mg.at_node[surface].reshape(mg.shape)\n",
    "    color = cm.gray((Z - Z.min()) / (Z.max() - Z.min()))\n",
    "    surf = ax.plot_surface(\n",
    "        mg.x_of_node.reshape(mg.shape),\n",
    "        mg.y_of_node.reshape(mg.shape),\n",
    "        Z,\n",
    "        rstride=1,\n",
    "        cstride=1,\n",
    "        facecolors=color,\n",
    "        linewidth=0.0,\n",
    "        antialiased=False,\n",
    "    )\n",
    "    ax.view_init(elev=35, azim=-120)\n",
    "    ax.set_xlabel(\"X axis\")\n",
    "    ax.set_ylabel(\"Y axis\")\n",
    "    ax.set_zlabel(\"Elevation\")\n",
    "    plt.title(title)\n",
    "    plt.show()"
   ]
  },
  {
   "cell_type": "markdown",
   "metadata": {},
   "source": [
    "## Topographic grids\n",
    "\n",
    "For this tutorial we will consider one topographic surface. Here it is plotted in three dimensions. "
   ]
  },
  {
   "cell_type": "code",
   "execution_count": null,
   "metadata": {},
   "outputs": [],
   "source": [
    "mg = RasterModelGrid((10, 10))\n",
    "_ = mg.add_field(\n",
    "    \"topographic__elevation\", 3.0 * mg.x_of_node ** 2 + mg.y_of_node ** 2, at=\"node\"\n",
    ")\n",
    "surf_plot(mg, title=\"Grid 1\")"
   ]
  },
  {
   "cell_type": "markdown",
   "metadata": {},
   "source": [
    "## Initalizing and running the FlowAccumulator\n",
    "\n",
    "To instantiate the **PriorityFloodFlowRouter**, you must pass it the minimum of a model grid that has a field called ```'topographic__elevation'```. The default behavior to deal with depressions internally. Taking care of depressions is done using the 'RichDEM' filling or breaching algorithm. The `depressionHandler` variable can be set to 'fill or 'breach' to use respectively a filling or breaching algorithm to handle depressions. If DEMs do not need to be filled, set `updateFlowDepressions` to False. \n",
    "\n",
    "\n",
    "Similar to other landlab flow accumulators, **PriorityFloodFlowRouter** can take a constant or spatially variable input called ```runoff_rate```, which it uses to calculate discharge. Alternatively, if there is an `at_node` field called ```water__unit_flux_in``` and no value is specified as the ```runoff_rate```, **PriorityFloodFlowRouter** will use the values stored in ```water__unit_flux_in```.\n",
    "\n",
    "In addition to directing flow and accumulating it in one step, **FlowAccumulator** can also deal with depression finding internally. This can be done by passing a **DepressionFinder** to the keyword argument ```depression_finder```. The default behavior is to not deal with depressions internally. \n",
    "\n",
    "The `flow_metric` variable controlls the way in which water is routed over teh landscape: Various options possible: \n",
    "            * D8 (O’Callaghan and Mark, 1984) {default}\n",
    "            * Rho8 (Fairfield and Leymarie, 1991)\n",
    "            * Quinn (1991)\n",
    "            * Freeman (1991)\n",
    "            * Holmgren (1994)\n",
    "            * D∞ (Tarboton, 1997)\n",
    "For details and comparison, see https://richdem.readthedocs.io/en/latest/flow_metrics.html\n",
    "Some of these methods require an exponent, which can be provided throught the `exponent` variable. \n",
    "When routing flow, one challenge is to define water directions in flat regions. This is way an articifical small graident is introduced in flat areas. If you want to have such routing option in flat areas, set the `epsilon` variable to True {default is True}. This ensures that there is always a local gradient.\n",
    "\n",
    "\n",
    "For some applications both single and multiple flow direction and accumulation is required. \n",
    "By calculating them in the same component, we can optimize procedures invovled with filling and breaching of DEMs. Set the `seperate_Hill_Flow` variable to True if you want a second flow accumualtor calcuatled on the same filled DEM data. "
   ]
  },
  {
   "cell_type": "code",
   "execution_count": null,
   "metadata": {},
   "outputs": [],
   "source": [
    "fa = PriorityFloodFlowRouter(mg)\n",
    "\n",
    "# # this is the same as writing:\n",
    "fa = PriorityFloodFlowRouter(\n",
    "    mg,\n",
    "    surface=\"topographic__elevation\",\n",
    "    flow_metric=\"D8\",\n",
    "    update_flow_depressions=True,\n",
    "    runoff_rate=None,\n",
    "    depression_handler=\"fill\",\n",
    ")"
   ]
  },
  {
   "cell_type": "markdown",
   "metadata": {},
   "source": [
    "The **FlowAccumulator** has one public methods: ```run_one_step()```."
   ]
  },
  {
   "cell_type": "code",
   "execution_count": null,
   "metadata": {},
   "outputs": [],
   "source": [
    "fa.run_one_step()"
   ]
  },
  {
   "cell_type": "markdown",
   "metadata": {},
   "source": [
    "We can illustrate the receiver node **FlowDirectionSteepest** has assigned to each donor node using a plotting function in Landlab called ```drainage_plot```. We will see many of these plots in this tutorial so let's take a moment to walk through the plot and what it contains. \n",
    "\n",
    "   - The background image (white to black) shows the values of topographic elevation of the underlying surface or any other at_node field we choose to plot.\n",
    "\n",
    "   - The colors of the dots inside of each pixel show the locations of the nodes and the type of node. \n",
    "\n",
    "   - The arrows show the direction of flow, and the color shows the proportion of flow that travels along that link. \n",
    "\n",
    "   - An X on top of a node indicates that node is a local sink and flows to itself. \n",
    "\n",
    "Note that in Landlab *Boundary Nodes*, or nodes that are on the edge of a grid, do not have area and do not contribute flow to nodes. These nodes can either be *Fixed Gradient Nodes*, *Fixed Value Nodes*, or *Closed Nodes*. With the exception of *Closed Nodes* the boundary nodes can receive flow. \n",
    "\n",
    "An important step in all flow direction and accumulation is setting the proper boundary condition. Refer to the boundary condition tutorials for more information.  "
   ]
  },
  {
   "cell_type": "code",
   "execution_count": null,
   "metadata": {},
   "outputs": [],
   "source": [
    "plt.figure()\n",
    "drainage_plot(mg)"
   ]
  },
  {
   "cell_type": "markdown",
   "metadata": {},
   "source": [
    "In this drainage plot, we can see that all of the flow is routed down the steepest link. A plot of the drainage area would illustrate how the flow would move. Next let's make a similar plot except that instead of plotting the topographic elevation as the background, we will plot the drainage area. "
   ]
  },
  {
   "cell_type": "code",
   "execution_count": null,
   "metadata": {
    "scrolled": false
   },
   "outputs": [],
   "source": [
    "plt.figure()\n",
    "drainage_plot(mg, \"drainage_area\")"
   ]
  },
  {
   "cell_type": "markdown",
   "metadata": {},
   "source": [
    "If we print out the drainage area, we can see that its maximum reaches 64, which is the total area of the interior of the grid."
   ]
  },
  {
   "cell_type": "code",
   "execution_count": null,
   "metadata": {},
   "outputs": [],
   "source": [
    "print(mg.at_node[\"drainage_area\"].reshape(mg.shape))"
   ]
  },
  {
   "cell_type": "markdown",
   "metadata": {},
   "source": [
    "This is the same number as the number of core nodes. This makes sense becaue these are the only nodes in Landlab that have area, and in our model grid they each have an area of one. "
   ]
  },
  {
   "cell_type": "code",
   "execution_count": null,
   "metadata": {},
   "outputs": [],
   "source": [
    "print(mg.number_of_core_nodes)"
   ]
  },
  {
   "cell_type": "markdown",
   "metadata": {},
   "source": [
    "We can rain on the surface, store that rain in the field ```water__unit_flux_in```, and then re-run the **FlowAccumulator**. As an example, we will 'rain' a uniformly distributed random number between 0 and 1 on every node. \n",
    "\n",
    "Since we already ran the **FlowAccumulator**, under the hood our grid already has a field called ```water__unit_flux_in``` and we need to set the ```clobber``` keyword to ```True```."
   ]
  },
  {
   "cell_type": "code",
   "execution_count": null,
   "metadata": {},
   "outputs": [],
   "source": [
    "rain = 1.0 + 5.0 * np.random.rand(mg.number_of_nodes)\n",
    "\n",
    "plt.imshow(rain.reshape(mg.shape), origin=\"lower\", cmap=\"PuBu\", vmin=0)\n",
    "plt.colorbar()\n",
    "plt.show()\n",
    "\n",
    "_ = mg.add_field(\"water__unit_flux_in\", rain, at=\"node\", clobber=True)"
   ]
  },
  {
   "cell_type": "markdown",
   "metadata": {},
   "source": [
    "Next, we re-run the **FlowAccumulator** and plot the discharge. "
   ]
  },
  {
   "cell_type": "code",
   "execution_count": null,
   "metadata": {},
   "outputs": [],
   "source": [
    "fa.run_one_step()\n",
    "plt.figure()\n",
    "drainage_plot(mg, \"surface_water__discharge\", title=\"Discharge\")"
   ]
  },
  {
   "cell_type": "markdown",
   "metadata": {},
   "source": [
    "The basic pattern of drainage is the same but the values for the surface water discharge are different than for drainage area. "
   ]
  },
  {
   "cell_type": "markdown",
   "metadata": {},
   "source": [
    "### Various flow routing algorithms \n",
    "* D4"
   ]
  },
  {
   "cell_type": "code",
   "execution_count": null,
   "metadata": {},
   "outputs": [],
   "source": [
    "mg = RasterModelGrid((10, 10))\n",
    "_ = mg.add_field(\n",
    "    \"topographic__elevation\", 3.0 * mg.x_of_node ** 2 + mg.y_of_node ** 2, at=\"node\"\n",
    ")\n",
    "fa = PriorityFloodFlowRouter(mg, surface=\"topographic__elevation\", flow_metric=\"D4\")\n",
    "fa.run_one_step()\n",
    "plt.figure()\n",
    "drainage_plot(mg, \"surface_water__discharge\", title=\"Discharge\")"
   ]
  },
  {
   "cell_type": "markdown",
   "metadata": {},
   "source": [
    "* Rho8"
   ]
  },
  {
   "cell_type": "code",
   "execution_count": null,
   "metadata": {},
   "outputs": [],
   "source": [
    "mg = RasterModelGrid((10, 10))\n",
    "_ = mg.add_field(\n",
    "    \"topographic__elevation\", 3.0 * mg.x_of_node ** 2 + mg.y_of_node ** 2, at=\"node\"\n",
    ")\n",
    "fa = PriorityFloodFlowRouter(mg, surface=\"topographic__elevation\", flow_metric=\"Rho8\")\n",
    "fa.run_one_step()\n",
    "plt.figure()\n",
    "drainage_plot(mg, \"surface_water__discharge\", title=\"Discharge\")"
   ]
  },
  {
   "cell_type": "markdown",
   "metadata": {},
   "source": [
    "* Rho4"
   ]
  },
  {
   "cell_type": "code",
   "execution_count": null,
   "metadata": {},
   "outputs": [],
   "source": [
    "mg = RasterModelGrid((10, 10))\n",
    "_ = mg.add_field(\n",
    "    \"topographic__elevation\", 3.0 * mg.x_of_node ** 2 + mg.y_of_node ** 2, at=\"node\"\n",
    ")\n",
    "fa = PriorityFloodFlowRouter(mg, surface=\"topographic__elevation\", flow_metric=\"Rho4\")\n",
    "fa.run_one_step()\n",
    "plt.figure()\n",
    "drainage_plot(mg, \"surface_water__discharge\", title=\"Discharge\")"
   ]
  },
  {
   "cell_type": "markdown",
   "metadata": {},
   "source": [
    "* Quinn"
   ]
  },
  {
   "cell_type": "code",
   "execution_count": null,
   "metadata": {},
   "outputs": [],
   "source": [
    "mg = RasterModelGrid((10, 10))\n",
    "_ = mg.add_field(\n",
    "    \"topographic__elevation\", 3.0 * mg.x_of_node ** 2 + mg.y_of_node ** 2, at=\"node\"\n",
    ")\n",
    "fa = PriorityFloodFlowRouter(mg, surface=\"topographic__elevation\", flow_metric=\"Quinn\")\n",
    "fa.run_one_step()\n",
    "plt.figure()\n",
    "drainage_plot(mg, \"surface_water__discharge\", title=\"Discharge\")"
   ]
  },
  {
   "cell_type": "markdown",
   "metadata": {},
   "source": [
    "* Freeman"
   ]
  },
  {
   "cell_type": "code",
   "execution_count": null,
   "metadata": {},
   "outputs": [],
   "source": [
    "mg = RasterModelGrid((10, 10))\n",
    "_ = mg.add_field(\n",
    "    \"topographic__elevation\", 3.0 * mg.x_of_node ** 2 + mg.y_of_node ** 2, at=\"node\"\n",
    ")\n",
    "fa = PriorityFloodFlowRouter(mg, surface=\"topographic__elevation\", flow_metric=\"Freeman\")\n",
    "fa.run_one_step()\n",
    "plt.figure()\n",
    "drainage_plot(mg, \"surface_water__discharge\", title=\"Discharge\")"
   ]
  },
  {
   "cell_type": "markdown",
   "metadata": {},
   "source": [
    "* Holmgren"
   ]
  },
  {
   "cell_type": "code",
   "execution_count": null,
   "metadata": {},
   "outputs": [],
   "source": [
    "mg = RasterModelGrid((10, 10))\n",
    "_ = mg.add_field(\n",
    "    \"topographic__elevation\", 3.0 * mg.x_of_node ** 2 + mg.y_of_node ** 2, at=\"node\"\n",
    ")\n",
    "fa = PriorityFloodFlowRouter(mg, surface=\"topographic__elevation\", flow_metric=\"Holmgren\")\n",
    "fa.run_one_step()\n",
    "plt.figure()\n",
    "drainage_plot(mg, \"surface_water__discharge\", title=\"Discharge\")"
   ]
  },
  {
   "cell_type": "markdown",
   "metadata": {},
   "source": [
    "* Dinf"
   ]
  },
  {
   "cell_type": "code",
   "execution_count": null,
   "metadata": {},
   "outputs": [],
   "source": [
    "mg = RasterModelGrid((10, 10))\n",
    "_ = mg.add_field(\n",
    "    \"topographic__elevation\", 3.0 * mg.x_of_node ** 2 + mg.y_of_node ** 2, at=\"node\"\n",
    ")\n",
    "fa = PriorityFloodFlowRouter(mg, surface=\"topographic__elevation\", flow_metric=\"Dinf\")\n",
    "fa.run_one_step()\n",
    "plt.figure()\n",
    "drainage_plot(mg, \"surface_water__discharge\", title=\"Discharge\")"
   ]
  },
  {
   "cell_type": "code",
   "execution_count": null,
   "metadata": {},
   "outputs": [],
   "source": []
  }
 ],
 "metadata": {
  "kernelspec": {
   "display_name": "Python 3",
   "language": "python",
   "name": "python3"
  },
  "language_info": {
   "codemirror_mode": {
    "name": "ipython",
    "version": 3
   },
   "file_extension": ".py",
   "mimetype": "text/x-python",
   "name": "python",
   "nbconvert_exporter": "python",
   "pygments_lexer": "ipython3",
   "version": "3.9.6"
  }
 },
 "nbformat": 4,
 "nbformat_minor": 2
}
