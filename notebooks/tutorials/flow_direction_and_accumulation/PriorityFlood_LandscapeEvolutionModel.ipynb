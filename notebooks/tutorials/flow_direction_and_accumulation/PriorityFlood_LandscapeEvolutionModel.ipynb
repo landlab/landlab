{
 "cells": [
  {
   "cell_type": "markdown",
   "id": "fe8444f5",
   "metadata": {},
   "source": [
    "<a href=\"http://landlab.github.io\"><img style=\"float: left\" src=\"../../landlab_header.png\"></a>"
   ]
  },
  {
   "cell_type": "markdown",
   "id": "507217c6",
   "metadata": {},
   "source": [
    "# Landscape evolution model with Priority flood and Space_v2\n",
    "<hr>\n",
    "\n",
    "The priority flood flow director is designed to calculate flow properties over large scale grids. In the following notebook we illustrate how the priority flood flow accumulator can be used to simulate landscape evolution using the SPAVE_V2 Landlab component"
   ]
  },
  {
   "cell_type": "code",
   "execution_count": null,
   "id": "e53034ce",
   "metadata": {},
   "outputs": [],
   "source": [
    "from landlab import imshow_grid,RasterModelGrid\n",
    "from landlab.components import Space,Space_v2,FlowDirAccPf,FlowAccumulator,DepressionFinderAndRouter,FastscapeEroder\n",
    "import numpy as np\n",
    "from matplotlib import pyplot as plt\n",
    "\n",
    "import warnings\n",
    "warnings.filterwarnings('ignore')"
   ]
  },
  {
   "cell_type": "markdown",
   "id": "124ca494",
   "metadata": {},
   "source": [
    "Create raster grid"
   ]
  },
  {
   "cell_type": "code",
   "execution_count": null,
   "id": "5f358c25",
   "metadata": {},
   "outputs": [],
   "source": [
    "mg = RasterModelGrid((50, 50), xy_spacing=10.0)\n",
    "z = mg.add_zeros('topographic__elevation', at='node')\n",
    "mg.at_node['topographic__elevation'][mg.core_nodes]  += np.random.rand(mg.number_of_core_nodes)\n",
    "\n",
    "s = mg.add_zeros('soil__depth', at='node', dtype=float)\n",
    "mg.at_node['soil__depth'][mg.core_nodes] += 0.5\n",
    "mg.at_node['topographic__elevation'] += mg.at_node['soil__depth']\n",
    "\n",
    "# fr = FlowAccumulator(mg, flow_director='D8')\n",
    "# df = DepressionFinderAndRouter(mg)\n",
    "\n",
    "fr = FlowDirAccPf(mg,flow_metric='D8',updateFlowDepressions=True)\n",
    "\n",
    "\n",
    "ha = Space_v2(\n",
    "    mg,\n",
    "    K_sed=0.0001,\n",
    "    K_br=0.0001,\n",
    "    phi=0.3,\n",
    "    H_star=1)\n",
    "\n",
    "br = mg.at_node['bedrock__elevation']\n",
    "z = mg.at_node['topographic__elevation']\n",
    "\n",
    "space_dt = 50"
   ]
  },
  {
   "cell_type": "code",
   "execution_count": null,
   "id": "97b13224",
   "metadata": {},
   "outputs": [],
   "source": [
    "z_ori = np.array(z)\n",
    "for i in range(500):\n",
    "    # print(i)\n",
    "    # Uplift \n",
    "    br[mg.core_nodes] += 0.001*space_dt\n",
    "    z[mg.core_nodes] = br[mg.core_nodes] + s[mg.core_nodes]\n",
    "    fr.run_one_step()\n",
    "    # df.map_depressions()\n",
    "    ha.run_one_step(dt=space_dt)\n",
    "    "
   ]
  },
  {
   "cell_type": "code",
   "execution_count": null,
   "id": "c643cdf1",
   "metadata": {},
   "outputs": [],
   "source": [
    "imshow_grid(mg, 'topographic__elevation',cmap='terrain')\n",
    "plt.title('Final topographic__elevation')"
   ]
  }
 ],
 "metadata": {
  "kernelspec": {
   "display_name": "Python 3",
   "language": "python",
   "name": "python3"
  },
  "language_info": {
   "codemirror_mode": {
    "name": "ipython",
    "version": 3
   },
   "file_extension": ".py",
   "mimetype": "text/x-python",
   "name": "python",
   "nbconvert_exporter": "python",
   "pygments_lexer": "ipython3",
   "version": "3.9.6"
  }
 },
 "nbformat": 4,
 "nbformat_minor": 5
}
