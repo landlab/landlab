{
 "cells": [
  {
   "cell_type": "markdown",
   "metadata": {},
   "source": [
    "<a href=\"http://landlab.github.io\"><img style=\"float: left\" src=\"../../landlab_header.png\"></a>"
   ]
  },
  {
   "cell_type": "markdown",
   "metadata": {},
   "source": [
    "# Introduction to the SpeciesEvolver component\n",
    "<hr>\n",
    "\n",
    "The links between the evolution of life and landscapes can be explored with SpeciesEvolver. This component tracks and evolves `Taxon` objects populated within a model grid. `Taxon` objects can represent species and other taxonomic levels.\n",
    "\n",
    "In this tutorial we will build and run a model that exemplifies SpeciesEvolver functionality. You will have the opportunity to\n",
    "* Populate a model grid with taxa.\n",
    "* Evolve taxa in response to climate change.\n",
    "* View the SpeciesEvolver record that stores model variables over time.\n",
    "* Plot some model output.\n",
    "\n",
    "This tutorial demonstrates the default, simplest capabilities of SpeciesEvolver. See the documentation for information upon other capabilities, including subclassing the ``Taxon`` class, enabling you to design different approaches to landscape-life evolution modeling.\n",
    "\n",
    "For simpicity, the model we will construct uses only one Landlab process component: SpeciesEvolver. This component, as other Landlab components, are intended to be coupled for dynamic modeling of surface processes."
   ]
  },
  {
   "cell_type": "markdown",
   "metadata": {},
   "source": [
    "## Example model: climate change impacts on taxa distribution and evolution\n",
    "\n",
    "### Premise\n",
    "\n",
    "Ecosystems zonate by elevation in large part because surface air temperature decreases with altitude. Long term temperature change alters the landscape connectivity within elevations zones, and connectivity affects gene flow, leading to the question: ***How is vegetation macroevolution impacted by temperature changes?***\n",
    "\n",
    "### Approach\n",
    "\n",
    "We model the macroevolutionary processes of taxa in response to temperature change. The type of taxa is described as vegetation species in the text of this notebook. Although, nothing in the code designates the taxa as vegetation or as a species taxonomic level.\n",
    "\n",
    "The model progresses in terms of time steps with an unprescribed duration. Initial conditions are set in time 0. The initial topography is loaded from a previously run model and does not change for the duration of the model in this notebook. Note that SpeciesEvolver can be used with a prescribed irregular or regular time step duration, e.g. a number of years.\n",
    "\n",
    "In this model, air surface temperature at each time step is set by elevation using a lapse rate, the decrease of temperature with elevation. The temperature at base level in time 0 is 26&deg;C. The temperature throughout the grid is calculated using the base level temperature and the lapse rate. The temperature is decreased by 5&deg;C in both times 1 and 2.\n",
    "\n",
    "At each time step, species distribution is set only by temperature, for simplicity of demonstration. The change in connectivity of species populations drive macroevolutionary processes built into the programmed species.\n",
    "\n",
    "SpeciesEvolver is built to be adapted for many model approaches, especially for different taxon properties and behaviors. We will use `ZoneTaxon` in this notebook. This `Taxon` type is distributed with SpeciesEvolver and relies on `Zone` objects to evaluate evolutionary processes. The macroevolutionary processes built into `ZoneTaxon` are\n",
    "* dispersal: movement of a taxon from one area to another\n",
    "* speciation: production of child taxa by parent taxa\n",
    "* extinction: end of taxa existence\n",
    "\n",
    "In this model, the geographic range of species exists with the temperatures, 18&deg;C and 24&deg;C inclusive, meaning the extent of zones is bounded by this interval at each time step, and all species exist only within these temperatures at each time step.\n",
    "\n",
    "Also in this model, speciation is simulated only as allopatric speciation that occurs as populations of a taxon become geographically isolated. Speciation triggered not by geographic isolation (sympatric speciation) is not modeled here, although it can be readily implemented by extending the speciation method of `ZoneTaxon` (see the documentation of this class).\n",
    "\n",
    "### Summary\n",
    "\n",
    "In this model, we\n",
    "\n",
    "* Set surface air temperture across a model grid as a function of elevation.\n",
    "* Populate species within the grid. These species exist within a fixed temperature interval.\n",
    "* Simulate three time steps where surface air temperature changes in the latter two steps, which drives species response to this change.\n",
    "* Examine how the number of species, *i.e.* \"taxa richness\" changes as the model progresses."
   ]
  },
  {
   "cell_type": "markdown",
   "metadata": {},
   "source": [
    "## Import modules\n",
    "\n",
    "The zones of `ZoneTaxon` are managed by a `ZoneController`, so we must import this class along with the SpeciesEvolver component and the other modules used in this notebook."
   ]
  },
  {
   "cell_type": "code",
   "execution_count": null,
   "metadata": {},
   "outputs": [],
   "source": [
    "from landlab.components import SpeciesEvolver, Profiler\n",
    "from landlab.components.species_evolution import ZoneController\n",
    "from landlab.io import read_esri_ascii\n",
    "from landlab.plot import imshow_grid\n",
    "import matplotlib.pyplot as plt\n",
    "import numpy as np"
   ]
  },
  {
   "cell_type": "markdown",
   "metadata": {},
   "source": [
    "## Prepare the grid\n",
    "\n",
    "### Load topography\n",
    "\n",
    "Here the topography of the model grid is loaded from a file. The topography was previously developed using a model built with Landlab. An initial surface was uplifted, stream erosion was conducted using the FastscapeEroder component, and hillslope diffusion was conducted using the LinearDiffuser component. The model was run until topography reached steady state."
   ]
  },
  {
   "cell_type": "code",
   "execution_count": null,
   "metadata": {
    "scrolled": false
   },
   "outputs": [],
   "source": [
    "# Create a model grid and set a topographic elevation field.\n",
    "(mg, z) = read_esri_ascii('model_grid_steady_state_elevation.txt')\n",
    "mg.at_node['topographic__elevation'] = z\n",
    "\n",
    "# Set the top and bottom grid boundaries to open.\n",
    "mg.set_closed_boundaries_at_grid_edges(right_is_closed=True,\n",
    "                                       top_is_closed=False,\n",
    "                                       left_is_closed=True,\n",
    "                                       bottom_is_closed=False)\n",
    "\n",
    "# Plot the elevation field.\n",
    "imshow_grid(mg, 'topographic__elevation', colorbar_label='elevation (m)', shrink=0.4)"
   ]
  },
  {
   "cell_type": "markdown",
   "metadata": {},
   "source": [
    "### Create a grid field of air temperature at the land surface\n",
    "\n",
    "We set a surface air temperature at base level (upper and lower boundaries). We use a lapse rate to create a  surface air temperature field at all nodes of the grid. The lapse rate, *L* is modeled as the decrease of temperature, *T* with increasing elevation, *z* as\n",
    "\n",
    "\\begin{align*}\n",
    "L = -\\frac{\\delta t}{\\delta z}\n",
    "\\end{align*}\n",
    "\n",
    "We use a constant lapse rate of -5&deg;C / km."
   ]
  },
  {
   "cell_type": "code",
   "execution_count": null,
   "metadata": {},
   "outputs": [],
   "source": [
    "# Set a rate of temperature decrease per meter of elevation increase.\n",
    "lapse_rate = -0.005\n",
    "\n",
    "# Create a surface air temperature field.\n",
    "temperature_at_base_level = 26\n",
    "T = lapse_rate * z + temperature_at_base_level\n",
    "mg.add_field('node', 'land_surface_air__temperature', T)\n",
    "\n",
    "# Plot temperature field.\n",
    "imshow_grid(\n",
    "    mg, 'land_surface_air__temperature',\n",
    "    colorbar_label='surface air\\ntemperature (C$\\degree$)',\n",
    "    shrink=0.4,\n",
    "    cmap='bwr'\n",
    ")"
   ]
  },
  {
   "cell_type": "markdown",
   "metadata": {},
   "source": [
    "## Setup SpeciesEvolver and zones\n",
    "\n",
    "The general workflow of working with zones and zone-based taxa is\n",
    "\n",
    "* Initialize the SpeciesEvolver component.\n",
    "* Setup zones and zone-based taxa:\n",
    "    * Define a function that identifies the grid nodes where all zones will be created.\n",
    "    * Initialize a ZoneController that will create and manage zones.\n",
    "    * Populate zones with taxa.\n",
    "* Introduce species to SpeciesEvolver so the component will track them over time."
   ]
  },
  {
   "cell_type": "markdown",
   "metadata": {},
   "source": [
    "### Initialize SpeciesEvolver\n",
    "\n",
    "This component requires only one parameter, a model grid."
   ]
  },
  {
   "cell_type": "code",
   "execution_count": null,
   "metadata": {},
   "outputs": [],
   "source": [
    "se = SpeciesEvolver(mg)"
   ]
  },
  {
   "cell_type": "markdown",
   "metadata": {},
   "source": [
    "View `record_data_frame` of our SpeciesEvolver instance. Time and other model variables are stored in this attribute that is a Pandas DataFrame. The first and second columns are the row number and model time, respectively. In the third column we see that 0 taxa exist. We have yet to introduce taxa."
   ]
  },
  {
   "cell_type": "code",
   "execution_count": null,
   "metadata": {},
   "outputs": [],
   "source": [
    "se.record_data_frame"
   ]
  },
  {
   "cell_type": "markdown",
   "metadata": {},
   "source": [
    "### About zones\n",
    "\n",
    "Zones help to evaluate the spatial aspect of `ZoneTaxon` macroevolutionary processes. A zone represents a portion of a model grid. It is made up of spatially continuous grid nodes. Along with SpeciesEvolver, zones can be utilized to track habitats or potential taxa geographic extents over time. In this notebook, zones will be created at each time step where temperature is within the suitable temperature range of the vegetation species. Multiple zones will be created at time steps if grid nodes with suitable temperature are not spatially continuous.\n",
    "\n",
    "At each time step, the spatial connectivity of the zones between the current (*t*) and prior (*t*-1) time steps are identified. For example, consider two consecutive time steps where a zone in the prior time intersects two zones in the current time. This type of connection in the zones of SpeciesEvolver is referred to as 'one-to-many' represented here\n",
    "\n",
    "<img src=\"./img/zone_connectivity__one_to_many.svg\" width=\"40\" height=\"40\" /> \n",
    "\n",
    "where the red arrows represent zone connectivity over time, and\n",
    "\n",
    "<img style=\"float: left;\" src=\"./img/zone__prior_time.svg\" width=\"20\" height=\"20\" /> &nbsp; a zone in *t*-1, the time step preceeding *t*\n",
    "\n",
    "<img style=\"float: left;\" src=\"./img/zone__current_time.svg\" width=\"20\" height=\"20\" /> &nbsp; a zone in *t*, the current time step<br><br>\n",
    "\n",
    "\n",
    "Behind the scenes, macroevolutionary rules programmed into `ZoneTaxon` are evaluated considering the type of zone connectivity. The outcome of the rules given the connectivity type are described in the table below.\n",
    "\n",
    "<center>connectivity<br>type</center> | <center>graphical<br>represention</center> | <center>connectivity description</center> | <center>macroevolution implications</center>\n",
    "--- | --- | --- | ---\n",
    "one-to-none | <img src=\"./img/zone__prior_time.svg\" width=\"20\" height=\"20\" />  | a zone in *t*-1 does not intersect a zone in *t*. | The taxa in the zone of the prior time will become extinct. \n",
    "one-to-one | <img src=\"./img/zone__one_to_one.svg\" width=\"30\" height=\"30\" /> | a zone in *t*-1 intersects a zone in *t*. | The taxa in the zone of the prior time moves along with the zone of the current time. This connectivity type also occurs where a zone of the prior time does not relocate in the current time.\n",
    "one-to-many | <img src=\"./img/zone__one_to_many.svg\" width=\"30\" height=\"30\" /> | a zone in *t*-1 intersects multiple zones in *t*. | The taxa in the zone of the prior time disperses across the multiple zones in the current time. The taxa in the zones of the current time are geographically disconnected, thus speciation is triggered.\n",
    "many-to-one | <img src=\"./img/zone__many_to_one.svg\" width=\"30\" height=\"30\" /> | Multiple zones in *t*-1 intersect a zone in *t*. | The taxa in the prior time zones are relocated to a zone in the current time. Taxa density increases if zone<sub>*t*</sub> is smaller than the prior time step zones combined.\n",
    "many-to-many | <img src=\"./img/zone__many_to_many.svg\" width=\"40\" height=\"40\" /> | Multiple zones in *t*-1 intersect multiple zones in *t*. | The taxa in connected zones of *t*-1 relocates to the connected zones in *t*. Speciation is triggered for the taxa extant at the prior time step because their range becomes fragmented in the current time step.\n",
    "\n",
    "Attributes of a zone include `mask` that indicates where in the grid the zone exists and `taxa`, which are the extant `Taxon` objects within the zone."
   ]
  },
  {
   "cell_type": "code",
   "execution_count": null,
   "metadata": {},
   "outputs": [],
   "source": [
    "def zone_func(grid):\n",
    "    \"\"\"Get a mask of the total zone extent.\"\"\"\n",
    "    T = grid.at_node['land_surface_air__temperature']\n",
    "    T_max = 25\n",
    "    T_min = 18\n",
    "    zone_extent_mask = np.all([T >= T_min, T <= T_max], 0)\n",
    "    return zone_extent_mask"
   ]
  },
  {
   "cell_type": "markdown",
   "metadata": {},
   "source": [
    "To demonstrate the output of this function, `True` values are shaded white in the plot below. Zones will be created in the masked area (in white). Later we will see that two zones are created, one for each cluster of `True` values."
   ]
  },
  {
   "cell_type": "code",
   "execution_count": null,
   "metadata": {},
   "outputs": [],
   "source": [
    "imshow_grid(mg, zone_func(mg), allow_colorbar=False, plot_name='zone extent in white')"
   ]
  },
  {
   "cell_type": "markdown",
   "metadata": {},
   "source": [
    "### Initialize ZoneController\n",
    "\n",
    "Next, we instantiate a ZoneController that will create and manage the zones. We used an optional parameter, `minimum_area` to indicate the minimum area of the zones to be created. Zones will be created upon initialization of this controller."
   ]
  },
  {
   "cell_type": "code",
   "execution_count": null,
   "metadata": {},
   "outputs": [],
   "source": [
    "zc = ZoneController(mg, zone_func, minimum_area=50000)"
   ]
  },
  {
   "cell_type": "markdown",
   "metadata": {},
   "source": [
    "Above, the mask returned by the `zone_func` indicates where zones should be created.\n",
    "\n",
    "Below, we see ZoneController created two zones designated by the different colors, one for each spatially distinct node cluster in the `zone_func` mask."
   ]
  },
  {
   "cell_type": "code",
   "execution_count": null,
   "metadata": {},
   "outputs": [],
   "source": [
    "# Create a map of all zones.\n",
    "zone_map = np.zeros(mg.number_of_nodes)\n",
    "for i, zone in enumerate(zc.zones):\n",
    "    zone_map[zone.mask] = i + 1\n",
    "\n",
    "# Plot zone map.\n",
    "cmap = plt.cm.tab20\n",
    "cmap.set_under('w')\n",
    "title = 'zone count = {}'.format(len(zc.zones))\n",
    "imshow_grid(mg, zone_map, cmap=cmap, allow_colorbar=False, plot_name=title, vmin=1)"
   ]
  },
  {
   "cell_type": "markdown",
   "metadata": {},
   "source": [
    "Multiple instances of ZoneController may be used with the same instance of SpeciesEvolver. This is useful when you wish to model groups of taxa within the same grid where each group needs a different zone function, for instance, fish and bears."
   ]
  },
  {
   "cell_type": "markdown",
   "metadata": {},
   "source": [
    "### Plot initial profile\n",
    "\n",
    "Species dispersal at each time step will be considered by plotting the zone temperature interval alongside a topographic profile.\n",
    "\n",
    "This initial profile is plotted across the main west-east divide."
   ]
  },
  {
   "cell_type": "code",
   "execution_count": null,
   "metadata": {},
   "outputs": [],
   "source": [
    "# Plot profile in map view.\n",
    "\n",
    "endpoints = [29874, 174]\n",
    "profiler = Profiler(mg, endpoints)\n",
    "profiler.run_one_step()\n",
    "profiler.plot_profiles_in_map_view(\n",
    "    color='k', field=zone_map, cmap=cmap,\n",
    "    allow_colorbar=False, plot_name='Profile (trace in black)', vmin=1\n",
    ")\n",
    "\n",
    "# Plot profile.\n",
    "\n",
    "fig, ax0 = plt.subplots()\n",
    "profiler.plot_profiles(\n",
    "    ylabel='Topographic Elevation (m)',\n",
    "    color='k',\n",
    "    title='Profile')\n",
    "ax0.set_ylim([0, 3000])\n",
    "\n",
    "ax1 = ax0.twinx()\n",
    "ax1.set_ylim(ax0.get_ylim())\n",
    "ax1.set_yticklabels(lapse_rate * ax0.get_yticks() + temperature_at_base_level)\n",
    "ax1.set_ylabel('Surface Air Temperature (\\N{DEGREE SIGN}C)')\n",
    "\n",
    "# Include species temperature bounds.\n",
    "\n",
    "upper = (18 - temperature_at_base_level) / lapse_rate\n",
    "ax0.plot([0, 5000], [upper, upper], 'c--', label='zone minimum temperature')\n",
    "\n",
    "lower = (25 - temperature_at_base_level) / lapse_rate\n",
    "ax0.plot([0, 5000], [lower, lower], 'r--', label='zone maximum temperature')\n",
    "\n",
    "ax0.legend();"
   ]
  },
  {
   "cell_type": "markdown",
   "metadata": {},
   "source": [
    "The profile (north is on the left) also illustrates that the two zones are seperated by the area around the main divide. This area is below the minimum zone temperature, therefore the ZoneController excluded zone creation here."
   ]
  },
  {
   "cell_type": "markdown",
   "metadata": {},
   "source": [
    "### Seed zones with taxa\n",
    "\n",
    "A taxa is populated to each of the two initial zones using the ZoneController method, `populate_zones_uniformly`. This method creates species and populates it to each zone. (Any number of taxa can be populated to zones, and zones can be populated with different numbers of species.)"
   ]
  },
  {
   "cell_type": "code",
   "execution_count": null,
   "metadata": {},
   "outputs": [],
   "source": [
    "taxa = zc.populate_zones_uniformly(1)"
   ]
  },
  {
   "cell_type": "markdown",
   "metadata": {},
   "source": [
    "### Introduce taxa to SpeciesEvolver\n",
    "\n",
    "All taxa must be introduced using the SpeciesEvolver method, `track_taxa` in order for the taxa to be tracked by SpeciesEvolver."
   ]
  },
  {
   "cell_type": "code",
   "execution_count": null,
   "metadata": {},
   "outputs": [],
   "source": [
    "se.track_taxa(taxa)"
   ]
  },
  {
   "cell_type": "markdown",
   "metadata": {},
   "source": [
    "Two taxa now exist in SpeciesEvolver. In this notebook, each represents a vegetation species. In this model, nothing specific to vegetation species is needed, beyond setting the zone extent by air temperature using the zone function, thus the built functionality of ``ZoneTaxon`` is sufficient."
   ]
  },
  {
   "cell_type": "code",
   "execution_count": null,
   "metadata": {},
   "outputs": [],
   "source": [
    "se.record_data_frame"
   ]
  },
  {
   "cell_type": "markdown",
   "metadata": {},
   "source": [
    "The SpeciesEvolver attribute, `taxa_data_frame` provides data about all of the tracked taxa, both extant and extinct. The data is presented in a Pandas DataFrame. Each row is data about a taxon."
   ]
  },
  {
   "cell_type": "code",
   "execution_count": null,
   "metadata": {},
   "outputs": [],
   "source": [
    "se.taxa_data_frame"
   ]
  },
  {
   "cell_type": "markdown",
   "metadata": {},
   "source": [
    "`tid` is the identifier used to reference and retrieve ``Taxon`` objects, demostrated later in this notebook. Taxa are assigned identifiers in the order they are introduced to SpeciesEvolver.\n",
    "\n",
    "`pid` is the identifier of the parent taxon. The parent of a taxon is the object that produced it. `<NA>` indicates no parent, which is typically the case of the model founder taxa.\n",
    "\n",
    "`type` is the type of Taxon object.\n",
    "\n",
    "`t_first` is the model time when the taxon emerged.\n",
    "\n",
    "`t_final` is the final time of the taxon and when it was recognized as extinct. `<NA>` indicates a taxon is extant at the current model time."
   ]
  },
  {
   "cell_type": "markdown",
   "metadata": {},
   "source": [
    "## Model time step 1\n",
    "\n",
    "Initial conditions were established in time 0. Next, climate change is modeled by increasing the temperature at base level by 5&deg;C."
   ]
  },
  {
   "cell_type": "code",
   "execution_count": null,
   "metadata": {},
   "outputs": [],
   "source": [
    "# Update the temperature field.\n",
    "temperature_at_base_level += 5\n",
    "mg.at_node['land_surface_air__temperature'] = lapse_rate * z + temperature_at_base_level\n",
    "\n",
    "# Plot the temperature field.\n",
    "imshow_grid(\n",
    "    mg, 'land_surface_air__temperature',\n",
    "    colorbar_label='surface air\\ntemperature (C$\\degree$)',\n",
    "    shrink=0.4, cmap='bwr'\n",
    ")"
   ]
  },
  {
   "cell_type": "markdown",
   "metadata": {},
   "source": [
    "Here we advance ZoneController and SpeciesEvolver in time by one time step. ZoneController is advanced first in order to update the zones prior to calling SpeciesEvolver.\n",
    "\n",
    "`dt` is set to 1 only because the duration of a time step is not prescribed in this tutorial. This `1` does not signify that one time step is run. We use 1 herein to make it easy to think about the time step sequence. Often, you may wish to make `dt` be the number of years in a time step, especially when you are running surface processes components alongside SpeciesEvolver."
   ]
  },
  {
   "cell_type": "code",
   "execution_count": null,
   "metadata": {},
   "outputs": [],
   "source": [
    "dt = 1\n",
    "zc.run_one_step(dt)\n",
    "se.run_one_step(dt)"
   ]
  },
  {
   "cell_type": "markdown",
   "metadata": {},
   "source": [
    "One zone now exists because the temperature increase raised the area that falls within the temperature range prescribed in `zone_func`.\n",
    "\n",
    "Plot the zones."
   ]
  },
  {
   "cell_type": "code",
   "execution_count": null,
   "metadata": {},
   "outputs": [],
   "source": [
    "# Create a map of all zones.\n",
    "zone_map = np.zeros(mg.number_of_nodes)\n",
    "for i, zone in enumerate(zc.zones):\n",
    "    zone_map[zone.mask] = i + 1\n",
    "\n",
    "# Plot zone map.\n",
    "title = 'zone count = {} (zone is shaded)'.format(len(zc.zones))\n",
    "imshow_grid(mg, zone_map, cmap=cmap, allow_colorbar=False, plot_name=title, vmin=0.5)"
   ]
  },
  {
   "cell_type": "markdown",
   "metadata": {},
   "source": [
    "A 'many-to-one' zone connectivity occurred in this time step relative to the previous time step, meaning neither speciation or extinction were triggered by zone change. (See zone connectivity table above.)\n",
    "\n",
    "The same two taxa of time 0 exist in time 1. Their geographic range is all that changed."
   ]
  },
  {
   "cell_type": "code",
   "execution_count": null,
   "metadata": {},
   "outputs": [],
   "source": [
    "se.taxa_data_frame"
   ]
  },
  {
   "cell_type": "markdown",
   "metadata": {},
   "source": [
    "### Plot a profile across the main divide"
   ]
  },
  {
   "cell_type": "code",
   "execution_count": null,
   "metadata": {},
   "outputs": [],
   "source": [
    "# Plot profile in map view.\n",
    "\n",
    "endpoints = [174, 29874]\n",
    "profiler = Profiler(mg, endpoints)\n",
    "profiler.run_one_step()\n",
    "profiler.plot_profiles_in_map_view(\n",
    "    color='k', field=zone_map, cmap=cmap,\n",
    "    allow_colorbar=False, plot_name='Profile (trace in black)', vmin=0.5\n",
    ")\n",
    "\n",
    "# Plot profile.\n",
    "\n",
    "fig, ax0 = plt.subplots()\n",
    "profiler.plot_profiles(\n",
    "    ylabel='Topographic Elevation (m)',\n",
    "    color='k',\n",
    "    title='Profile')\n",
    "ax0.set_ylim([0, 3000])\n",
    "\n",
    "ax1 = ax0.twinx()\n",
    "ax1.set_ylim(ax0.get_ylim())\n",
    "ax1.set_yticklabels(lapse_rate * ax0.get_yticks() + temperature_at_base_level)\n",
    "ax1.set_ylabel('Surface Air Temperature (\\N{DEGREE SIGN}C)')\n",
    "\n",
    "# Include species temperature bounds.\n",
    "\n",
    "upper = (18 - temperature_at_base_level) / lapse_rate\n",
    "ax0.plot([0, 5000], [upper, upper], 'c--', label='zone minimum temperature')\n",
    "\n",
    "lower = (25 - temperature_at_base_level) / lapse_rate\n",
    "ax0.plot([0, 5000], [lower, lower], 'r--', label='zone maximum temperature')\n",
    "\n",
    "ax0.legend();"
   ]
  },
  {
   "cell_type": "markdown",
   "metadata": {},
   "source": [
    "Species were able to cross the main divide following the temperature increase. The two species now exist in the same area along the main divide. Coexisting has no effect because ZoneTaxon do not interact in the default implemention of the code for this species, although species can be made to influence each other by extending `ZoneTaxon` (see the documentation of this class)."
   ]
  },
  {
   "cell_type": "markdown",
   "metadata": {},
   "source": [
    "## Model time step 2\n",
    "\n",
    "Temperature is again increased by 5&deg;C in time step 2."
   ]
  },
  {
   "cell_type": "code",
   "execution_count": null,
   "metadata": {},
   "outputs": [],
   "source": [
    "# Update the surface temperature field.\n",
    "temperature_at_base_level += 5\n",
    "mg.at_node['land_surface_air__temperature'] = lapse_rate * z + temperature_at_base_level\n",
    "\n",
    "# Plot temperature field.\n",
    "imshow_grid(\n",
    "    mg, 'land_surface_air__temperature',\n",
    "    colorbar_label='surface air\\ntemperature (C$\\degree$)',\n",
    "    shrink=0.4, cmap='bwr'\n",
    ")"
   ]
  },
  {
   "cell_type": "markdown",
   "metadata": {},
   "source": [
    "Advance ZoneController and SpeciesEvolver, and plot zones."
   ]
  },
  {
   "cell_type": "code",
   "execution_count": null,
   "metadata": {
    "scrolled": false
   },
   "outputs": [],
   "source": [
    "zc.run_one_step(dt)\n",
    "se.run_one_step(dt)\n",
    "\n",
    "# Create a map of all zones.\n",
    "zone_map = np.zeros(mg.number_of_nodes)\n",
    "for i, zone in enumerate(zc.zones):\n",
    "    zone_map[zone.mask] = i + 1\n",
    "\n",
    "# Plot zone map.\n",
    "title = 'zone count = {}'.format(len(zc.zones))\n",
    "imshow_grid(mg, zone_map, cmap=cmap, allow_colorbar=False, plot_name=title, vmin=0.5)"
   ]
  },
  {
   "cell_type": "markdown",
   "metadata": {},
   "source": [
    "The grid now contains more zones than the prior time step. The macroevolutionary effect of this `one-to-many` zone connectivity relationship is examined in the next section."
   ]
  },
  {
   "cell_type": "markdown",
   "metadata": {},
   "source": [
    "## Examine model outcome\n",
    "\n",
    "We see 22 extant taxa in the taxa DataFrame. We know all taxa are extant because `t_final` is `<NA>`. Taxon 0 is the parent of taxa 2...11. Taxon 1 is parent to taxa 12...21. The child taxa appeared at time 2 (see `t_first`) as temperature increased for the second time."
   ]
  },
  {
   "cell_type": "code",
   "execution_count": null,
   "metadata": {
    "scrolled": true
   },
   "outputs": [],
   "source": [
    "se.taxa_data_frame"
   ]
  },
  {
   "cell_type": "markdown",
   "metadata": {},
   "source": [
    "In the SpeciesEvolver record DataFrame, we see 20 speciations at time 2."
   ]
  },
  {
   "cell_type": "code",
   "execution_count": null,
   "metadata": {},
   "outputs": [],
   "source": [
    "se.record_data_frame"
   ]
  },
  {
   "cell_type": "markdown",
   "metadata": {},
   "source": [
    "Next we will examine the model history using the plot below"
   ]
  },
  {
   "cell_type": "code",
   "execution_count": null,
   "metadata": {
    "scrolled": false
   },
   "outputs": [],
   "source": [
    "# Create a plot of key model variables over time.\n",
    "\n",
    "time = se.record_data_frame.time\n",
    "temperature = [26, 31, 36]\n",
    "n_zones = zc.record_data_frame.zones\n",
    "n_species = se.record_data_frame.taxa\n",
    "\n",
    "plt.plot(time, temperature, 'o-c', label='temperature (\\N{DEGREE SIGN}C)')\n",
    "plt.plot(time, n_zones, 's-m', label='zone count')\n",
    "plt.plot(time, se.record_data_frame.taxa, 'd-y', label='species count')\n",
    "plt.xlabel('time')\n",
    "plt.xticks(time)\n",
    "plt.legend();"
   ]
  },
  {
   "cell_type": "markdown",
   "metadata": {},
   "source": [
    "### Plot time 1 profile along the main divide"
   ]
  },
  {
   "cell_type": "code",
   "execution_count": null,
   "metadata": {},
   "outputs": [],
   "source": [
    "# Plot profile in map view.\n",
    "\n",
    "endpoints = [15720, 15790]\n",
    "profiler2 = Profiler(mg, endpoints)\n",
    "profiler2.run_one_step()\n",
    "profiler2.plot_profiles_in_map_view(\n",
    "    color='k', field=zone_map, cmap=cmap,\n",
    "    allow_colorbar=False, plot_name='Profile (trace in black)', vmin=1\n",
    ")\n",
    "\n",
    "# Plot profile.\n",
    "\n",
    "fig, ax0 = plt.subplots()\n",
    "profiler2.plot_profiles(\n",
    "    ylabel='Topographic Elevation (m)',\n",
    "    color='k',\n",
    "    title='Profile')\n",
    "ax0.axis(ymin=1200, ymax=2600)\n",
    "\n",
    "ax1 = ax0.twinx()\n",
    "ax1.set_ylim(ax0.get_ylim())\n",
    "ax1.set_yticklabels(lapse_rate * ax0.get_yticks() + temperature_at_base_level)\n",
    "ax1.set_ylabel('Surface Air Temperature (\\N{DEGREE SIGN}C)')\n",
    "\n",
    "# Include species min elevation line.\n",
    "\n",
    "z_min = (25 - temperature_at_base_level) / lapse_rate\n",
    "ax0.plot([0, 3500], [z_min, z_min], 'c--', label='species minimum temperature')\n",
    "ax0.legend();"
   ]
  },
  {
   "cell_type": "markdown",
   "metadata": {},
   "source": [
    "The profile trace crosses two zones (upper figure). The topography is above the elevation with the minimum species temperature for these two zones (lower figure).\n",
    "\n",
    "An additional increase in temperature drove species to become isolated on mountain peaks along the main divide. Species could not reach adjacent peaks because valleys were too warm. Each peak that was below the maximum species temperature led to an isolated population that produced a child species. In the model we ran, 11 peaks/divide areas met these qualifications, thus species 0 and 1 produced 10 child species each. The original population of each founding species remained in one zone. Child taxa populated the other 10 zones."
   ]
  },
  {
   "cell_type": "markdown",
   "metadata": {},
   "source": [
    "## Examine the species\n",
    "\n",
    "SpeciesEvolver automatically creates a `taxa__richness` grid field. We can use this field to see that there are two species in each zone. (taxa richness = number of taxa). Each zone contains a founder or descendent species from each of the two founder species."
   ]
  },
  {
   "cell_type": "code",
   "execution_count": null,
   "metadata": {},
   "outputs": [],
   "source": [
    "imshow_grid(\n",
    "    mg, 'taxa__richness', colorbar_label='taxa richness',\n",
    "    shrink=0.4, cmap='viridis'\n",
    ")"
   ]
  },
  {
   "cell_type": "markdown",
   "metadata": {},
   "source": [
    "Similar to SpeciesEvolver, ZoneController has a `record_data_frame` that stores model variables over time. The ZoneController stores variables pertinent to zones.\n",
    "\n",
    "In the ZoneController record, 'fragmentation_count' in time 2 is 11. The one zone in time 1 split into 11 fragments, or zones, essentially between times 1 and 2.\n",
    "\n",
    "We see capture statistics in this record as well. Here, a capture indicates that a zone captured area from a zone in a prior time step. The one zone in time 1 captured the two zones in time 0."
   ]
  },
  {
   "cell_type": "code",
   "execution_count": null,
   "metadata": {},
   "outputs": [],
   "source": [
    "zc.record_data_frame"
   ]
  },
  {
   "cell_type": "markdown",
   "metadata": {},
   "source": [
    "Pandas DataFrame methods can be used on `record_data_frame`. For example, here we get the maximum capture count."
   ]
  },
  {
   "cell_type": "code",
   "execution_count": null,
   "metadata": {},
   "outputs": [],
   "source": [
    "zc.record_data_frame.zones.max()"
   ]
  },
  {
   "cell_type": "markdown",
   "metadata": {},
   "source": [
    "### Retrieve taxon objects\n",
    "\n",
    "Metadata of taxa can be viewed in `taxa_data_frame`, although taxon objects cannot be retrieved from this DataFrame. The objects of those taxa extant at the current model time can be retrieved using the SpeciesEvolver method, `get_extant_taxon_objects`. With a `Taxon` object you can examine its current properties, including plotting its geographic range as demonstrated below.\n",
    "\n",
    "All of the extant taxa are returned when no parameters are inputted into `get_taxon_objects`."
   ]
  },
  {
   "cell_type": "code",
   "execution_count": null,
   "metadata": {},
   "outputs": [],
   "source": [
    "se.get_extant_taxon_objects()"
   ]
  },
  {
   "cell_type": "markdown",
   "metadata": {},
   "source": [
    "The taxa can be filtered by the time they existed. To do so, we can use the optional parameter, `time` to indicate we want the taxa extant at time 0, the two taxa introduced at the beginning of the model."
   ]
  },
  {
   "cell_type": "code",
   "execution_count": null,
   "metadata": {},
   "outputs": [],
   "source": [
    "se.get_extant_taxon_objects(time=0)"
   ]
  },
  {
   "cell_type": "markdown",
   "metadata": {},
   "source": [
    "Get taxa by their identifier using the  `tid` parameter. Here we request only one taxon, the one with a tid of 12. This method always returns a list so we index the first and only element in this list."
   ]
  },
  {
   "cell_type": "code",
   "execution_count": null,
   "metadata": {},
   "outputs": [],
   "source": [
    "taxon_12 = se.get_extant_taxon_objects(tids=[12])[0]\n",
    "taxon_12"
   ]
  },
  {
   "cell_type": "markdown",
   "metadata": {},
   "source": [
    "With a taxon object retrieved, we can work with it as we need. Here we plot its geographic range. The `range_mask` attribute of a taxon is a mask of its geographic range."
   ]
  },
  {
   "cell_type": "code",
   "execution_count": null,
   "metadata": {},
   "outputs": [],
   "source": [
    "mask = taxon_12.range_mask\n",
    "imshow_grid(mg, mask, plot_name='taxon 12 range in white', allow_colorbar=False)"
   ]
  },
  {
   "cell_type": "markdown",
   "metadata": {},
   "source": [
    "The taxa with a common ancestor can be retrieved with the `ancestor` parameter. Here we get the taxa that descended from taxon 0 and then print only the identifiers of these descendents."
   ]
  },
  {
   "cell_type": "code",
   "execution_count": null,
   "metadata": {},
   "outputs": [],
   "source": [
    "filtered_taxa = se.get_extant_taxon_objects(ancestor=0)\n",
    "[t.tid for t in filtered_taxa]"
   ]
  },
  {
   "cell_type": "markdown",
   "metadata": {},
   "source": [
    "Taxon 0 is one of the initial taxa and speciated taxa 2...11 when the zone fragmented at time 2. The same sequence of events occurred for taxon 1 and its descendents, 12...21. This phylogeny is explained by the one zone capture that brought together the two initial taxa, followed by the 11 zones fragmentations that drove the 20 speciations of the child taxa descended from the two initial taxa."
   ]
  },
  {
   "cell_type": "markdown",
   "metadata": {},
   "source": [
    "### Click here for more [Landlab tutorials](https://landlab.readthedocs.io/en/latest/user_guide/tutorials.html)"
   ]
  }
 ],
 "metadata": {
  "kernelspec": {
   "display_name": "Python 3",
   "language": "python",
   "name": "python3"
  },
  "language_info": {
   "codemirror_mode": {
    "name": "ipython",
    "version": 3
   },
   "file_extension": ".py",
   "mimetype": "text/x-python",
   "name": "python",
   "nbconvert_exporter": "python",
   "pygments_lexer": "ipython3",
   "version": "3.8.2"
  }
 },
 "nbformat": 4,
 "nbformat_minor": 4
}
