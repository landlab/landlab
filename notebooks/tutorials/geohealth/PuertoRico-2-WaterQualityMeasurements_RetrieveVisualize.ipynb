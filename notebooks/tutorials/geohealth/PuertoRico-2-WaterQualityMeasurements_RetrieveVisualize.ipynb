{
 "cells": [
  {
   "cell_type": "markdown",
   "metadata": {},
   "source": [
    "# Puerto Rico water quality measurements-results data\n",
    "\n",
    "Adapted from **ODM2 API: Retrieve, manipulate and visualize ODM2 water quality measurement-type data**"
   ]
  },
  {
   "cell_type": "markdown",
   "metadata": {},
   "source": [
    "This example shows how to use the ODM2 Python API (`odm2api`) to connect to an ODM2 database, retrieve data, and analyze and visualize the data. The [database (iUTAHGAMUT_waterquality_measurementresults_ODM2.sqlite)](https://github.com/ODM2/ODM2PythonAPI/blob/master/Examples/data/iUTAHGAMUT_waterquality_measurementresults_ODM2.sqlite) contains [\"measurement\"-type results](http://vocabulary.odm2.org/resulttype/measurement/).\n",
    "\n",
    "This example uses SQLite for the database because it doesn't require a server. However, the ODM2 Python API demonstrated here can alse be used with ODM2 databases implemented in MySQL, PostgreSQL or Microsoft SQL Server.\n",
    "\n",
    "More details on the ODM2 Python API and its source code and latest development can be found at https://github.com/ODM2/ODM2PythonAPI\n",
    "\n",
    "[Emilio Mayorga](https://github.com/emiliom/). Last updated 2019-3-27."
   ]
  },
  {
   "cell_type": "code",
   "execution_count": 1,
   "metadata": {},
   "outputs": [
    {
     "name": "stderr",
     "output_type": "stream",
     "text": [
      "/home/mayorga/miniconda/envs/odm2client/lib/python2.7/site-packages/folium/__init__.py:59: UserWarning: This version of folium is the last to support Python 2. Transition to Python 3 to be able to receive updates and fixes. Check out https://python3statement.org/ for more info.\n",
      "  UserWarning\n"
     ]
    }
   ],
   "source": [
    "%matplotlib inline\n",
    "\n",
    "import os\n",
    "\n",
    "import matplotlib.pyplot as plt\n",
    "from shapely.geometry import Point\n",
    "import pandas as pd\n",
    "import geopandas as gpd\n",
    "import folium\n",
    "from folium.plugins import MarkerCluster\n",
    "\n",
    "import odm2api\n",
    "from odm2api.ODMconnection import dbconnection\n",
    "import odm2api.services.readService as odm2rs"
   ]
  },
  {
   "cell_type": "code",
   "execution_count": 2,
   "metadata": {},
   "outputs": [
    {
     "data": {
      "text/plain": [
       "(u'0.24.2', u'0.4.1', u'0.8.3')"
      ]
     },
     "execution_count": 2,
     "metadata": {},
     "output_type": "execute_result"
    }
   ],
   "source": [
    "pd.__version__, gpd.__version__, folium.__version__"
   ]
  },
  {
   "cell_type": "markdown",
   "metadata": {},
   "source": [
    "**odm2api version used** to run this notebook:"
   ]
  },
  {
   "cell_type": "code",
   "execution_count": 3,
   "metadata": {},
   "outputs": [
    {
     "data": {
      "text/plain": [
       "u'0.7.1'"
      ]
     },
     "execution_count": 3,
     "metadata": {},
     "output_type": "execute_result"
    }
   ],
   "source": [
    "odm2api.__version__"
   ]
  },
  {
   "cell_type": "markdown",
   "metadata": {},
   "source": [
    "## Connect to the ODM2 SQLite Database\n",
    "\n",
    "This example uses an ODM2 SQLite database file loaded with water quality sample data from multiple monitoring sites in the [iUTAH](https://iutahepscor.org/) Gradients Along Mountain to Urban Transitions ([GAMUT](http://data.iutahepscor.org/mdf/Data/Gamut_Network/)) water quality monitoring network. Water quality samples have been collected and analyzed for nitrogen, phosphorus, total coliform, E-coli, and some water isotopes. The [database (iUTAHGAMUT_waterquality_measurementresults_ODM2.sqlite)](https://github.com/ODM2/ODM2PythonAPI/blob/master/Examples/data/iUTAHGAMUT_waterquality_measurementresults_ODM2.sqlite) contains [\"measurement\"-type results](http://vocabulary.odm2.org/resulttype/measurement/).\n",
    "\n",
    "The example database is located in the `data` sub-directory."
   ]
  },
  {
   "cell_type": "code",
   "execution_count": 4,
   "metadata": {},
   "outputs": [],
   "source": [
    "# Assign directory paths and SQLite file name\n",
    "dbname_sqlite = \"MariaWaterQualityData.sqlite\"\n",
    "\n",
    "# sqlite_pth = os.path.join(\"data\", dbname_sqlite)\n",
    "sqlite_pth = dbname_sqlite"
   ]
  },
  {
   "cell_type": "code",
   "execution_count": 5,
   "metadata": {},
   "outputs": [
    {
     "name": "stdout",
     "output_type": "stream",
     "text": [
      "Database connection successful!\n"
     ]
    }
   ],
   "source": [
    "try:\n",
    "    session_factory = dbconnection.createConnection('sqlite', sqlite_pth)\n",
    "    read = odm2rs.ReadODM2(session_factory)\n",
    "    print(\"Database connection successful!\")\n",
    "except Exception as e:\n",
    "    print(\"Unable to establish connection to the database: \", e)"
   ]
  },
  {
   "cell_type": "markdown",
   "metadata": {},
   "source": [
    "## Run Some Basic Queries on the ODM2 Database\n",
    "\n",
    "This section shows some examples of how to use the API to run both simple and more advanced queries on the ODM2 database, as well as how to examine the query output in convenient ways thanks to Python tools.\n",
    "\n",
    "Simple query functions like **getVariables( )** return objects similar to the entities in ODM2, and individual attributes can then be retrieved from the objects returned. "
   ]
  },
  {
   "cell_type": "markdown",
   "metadata": {},
   "source": [
    "### Get all Variables\n",
    "A simple query with simple output."
   ]
  },
  {
   "cell_type": "code",
   "execution_count": 6,
   "metadata": {},
   "outputs": [
    {
     "data": {
      "text/html": [
       "<div>\n",
       "<style scoped>\n",
       "    .dataframe tbody tr th:only-of-type {\n",
       "        vertical-align: middle;\n",
       "    }\n",
       "\n",
       "    .dataframe tbody tr th {\n",
       "        vertical-align: top;\n",
       "    }\n",
       "\n",
       "    .dataframe thead th {\n",
       "        text-align: right;\n",
       "    }\n",
       "</style>\n",
       "<table border=\"1\" class=\"dataframe\">\n",
       "  <thead>\n",
       "    <tr style=\"text-align: right;\">\n",
       "      <th></th>\n",
       "      <th>NoDataValue</th>\n",
       "      <th>SpeciationCV</th>\n",
       "      <th>VariableCode</th>\n",
       "      <th>VariableDefinition</th>\n",
       "      <th>VariableNameCV</th>\n",
       "      <th>VariableTypeCV</th>\n",
       "      <th>_sa_instance_state</th>\n",
       "    </tr>\n",
       "    <tr>\n",
       "      <th>VariableID</th>\n",
       "      <th></th>\n",
       "      <th></th>\n",
       "      <th></th>\n",
       "      <th></th>\n",
       "      <th></th>\n",
       "      <th></th>\n",
       "      <th></th>\n",
       "    </tr>\n",
       "  </thead>\n",
       "  <tbody>\n",
       "    <tr>\n",
       "      <th>1</th>\n",
       "      <td>-9999.0000000000</td>\n",
       "      <td>Not Applicable</td>\n",
       "      <td>pH</td>\n",
       "      <td>None</td>\n",
       "      <td>pH</td>\n",
       "      <td>Water quality</td>\n",
       "      <td>&lt;sqlalchemy.orm.state.InstanceState object at ...</td>\n",
       "    </tr>\n",
       "    <tr>\n",
       "      <th>2</th>\n",
       "      <td>-9999.0000000000</td>\n",
       "      <td>Not Applicable</td>\n",
       "      <td>DO</td>\n",
       "      <td>None</td>\n",
       "      <td>Oxygen, dissolved</td>\n",
       "      <td>Water quality</td>\n",
       "      <td>&lt;sqlalchemy.orm.state.InstanceState object at ...</td>\n",
       "    </tr>\n",
       "    <tr>\n",
       "      <th>3</th>\n",
       "      <td>-9999.0000000000</td>\n",
       "      <td>Not Applicable</td>\n",
       "      <td>FirstDrawTemp</td>\n",
       "      <td>None</td>\n",
       "      <td>Temperature</td>\n",
       "      <td>Water quality</td>\n",
       "      <td>&lt;sqlalchemy.orm.state.InstanceState object at ...</td>\n",
       "    </tr>\n",
       "    <tr>\n",
       "      <th>4</th>\n",
       "      <td>-9999.0000000000</td>\n",
       "      <td>Not Applicable</td>\n",
       "      <td>Free Cl2</td>\n",
       "      <td>None</td>\n",
       "      <td>Chlorine</td>\n",
       "      <td>Water quality</td>\n",
       "      <td>&lt;sqlalchemy.orm.state.InstanceState object at ...</td>\n",
       "    </tr>\n",
       "    <tr>\n",
       "      <th>5</th>\n",
       "      <td>-9999.0000000000</td>\n",
       "      <td>Not Applicable</td>\n",
       "      <td>Total Cl2</td>\n",
       "      <td>None</td>\n",
       "      <td>Chlorine</td>\n",
       "      <td>Water quality</td>\n",
       "      <td>&lt;sqlalchemy.orm.state.InstanceState object at ...</td>\n",
       "    </tr>\n",
       "    <tr>\n",
       "      <th>6</th>\n",
       "      <td>-9999.0000000000</td>\n",
       "      <td>Not Applicable</td>\n",
       "      <td>Turbidity</td>\n",
       "      <td>None</td>\n",
       "      <td>Turbidity</td>\n",
       "      <td>Water quality</td>\n",
       "      <td>&lt;sqlalchemy.orm.state.InstanceState object at ...</td>\n",
       "    </tr>\n",
       "    <tr>\n",
       "      <th>7</th>\n",
       "      <td>-9999.0000000000</td>\n",
       "      <td>Not Applicable</td>\n",
       "      <td>InitialTemp</td>\n",
       "      <td>None</td>\n",
       "      <td>Temperature</td>\n",
       "      <td>Water quality</td>\n",
       "      <td>&lt;sqlalchemy.orm.state.InstanceState object at ...</td>\n",
       "    </tr>\n",
       "    <tr>\n",
       "      <th>8</th>\n",
       "      <td>-9999.0000000000</td>\n",
       "      <td>Not Applicable</td>\n",
       "      <td>FinalTemp</td>\n",
       "      <td>None</td>\n",
       "      <td>Temperature</td>\n",
       "      <td>Water quality</td>\n",
       "      <td>&lt;sqlalchemy.orm.state.InstanceState object at ...</td>\n",
       "    </tr>\n",
       "    <tr>\n",
       "      <th>9</th>\n",
       "      <td>-9999.0000000000</td>\n",
       "      <td>Not Applicable</td>\n",
       "      <td>Na_filt</td>\n",
       "      <td>None</td>\n",
       "      <td>Sodium, dissolved</td>\n",
       "      <td>Water quality</td>\n",
       "      <td>&lt;sqlalchemy.orm.state.InstanceState object at ...</td>\n",
       "    </tr>\n",
       "    <tr>\n",
       "      <th>10</th>\n",
       "      <td>-9999.0000000000</td>\n",
       "      <td>Not Applicable</td>\n",
       "      <td>Mg_filt</td>\n",
       "      <td>None</td>\n",
       "      <td>Magnesium, dissolved</td>\n",
       "      <td>Water quality</td>\n",
       "      <td>&lt;sqlalchemy.orm.state.InstanceState object at ...</td>\n",
       "    </tr>\n",
       "  </tbody>\n",
       "</table>\n",
       "</div>"
      ],
      "text/plain": [
       "                 NoDataValue    SpeciationCV   VariableCode  \\\n",
       "VariableID                                                    \n",
       "1           -9999.0000000000  Not Applicable             pH   \n",
       "2           -9999.0000000000  Not Applicable             DO   \n",
       "3           -9999.0000000000  Not Applicable  FirstDrawTemp   \n",
       "4           -9999.0000000000  Not Applicable       Free Cl2   \n",
       "5           -9999.0000000000  Not Applicable      Total Cl2   \n",
       "6           -9999.0000000000  Not Applicable      Turbidity   \n",
       "7           -9999.0000000000  Not Applicable    InitialTemp   \n",
       "8           -9999.0000000000  Not Applicable      FinalTemp   \n",
       "9           -9999.0000000000  Not Applicable        Na_filt   \n",
       "10          -9999.0000000000  Not Applicable        Mg_filt   \n",
       "\n",
       "           VariableDefinition        VariableNameCV VariableTypeCV  \\\n",
       "VariableID                                                           \n",
       "1                        None                    pH  Water quality   \n",
       "2                        None     Oxygen, dissolved  Water quality   \n",
       "3                        None           Temperature  Water quality   \n",
       "4                        None              Chlorine  Water quality   \n",
       "5                        None              Chlorine  Water quality   \n",
       "6                        None             Turbidity  Water quality   \n",
       "7                        None           Temperature  Water quality   \n",
       "8                        None           Temperature  Water quality   \n",
       "9                        None     Sodium, dissolved  Water quality   \n",
       "10                       None  Magnesium, dissolved  Water quality   \n",
       "\n",
       "                                           _sa_instance_state  \n",
       "VariableID                                                     \n",
       "1           <sqlalchemy.orm.state.InstanceState object at ...  \n",
       "2           <sqlalchemy.orm.state.InstanceState object at ...  \n",
       "3           <sqlalchemy.orm.state.InstanceState object at ...  \n",
       "4           <sqlalchemy.orm.state.InstanceState object at ...  \n",
       "5           <sqlalchemy.orm.state.InstanceState object at ...  \n",
       "6           <sqlalchemy.orm.state.InstanceState object at ...  \n",
       "7           <sqlalchemy.orm.state.InstanceState object at ...  \n",
       "8           <sqlalchemy.orm.state.InstanceState object at ...  \n",
       "9           <sqlalchemy.orm.state.InstanceState object at ...  \n",
       "10          <sqlalchemy.orm.state.InstanceState object at ...  "
      ]
     },
     "execution_count": 6,
     "metadata": {},
     "output_type": "execute_result"
    }
   ],
   "source": [
    "# Get all of the Variables from the ODM2 database then read the records\n",
    "# into a Pandas DataFrame to make it easy to view and manipulate\n",
    "allVars = read.getVariables()\n",
    "\n",
    "variables_df = pd.DataFrame.from_records([vars(variable) for variable in allVars], \n",
    "                                         index='VariableID')\n",
    "variables_df.head(10)"
   ]
  },
  {
   "cell_type": "markdown",
   "metadata": {},
   "source": [
    "### Get all People\n",
    "Another simple query."
   ]
  },
  {
   "cell_type": "code",
   "execution_count": 7,
   "metadata": {},
   "outputs": [
    {
     "data": {
      "text/html": [
       "<div>\n",
       "<style scoped>\n",
       "    .dataframe tbody tr th:only-of-type {\n",
       "        vertical-align: middle;\n",
       "    }\n",
       "\n",
       "    .dataframe tbody tr th {\n",
       "        vertical-align: top;\n",
       "    }\n",
       "\n",
       "    .dataframe thead th {\n",
       "        text-align: right;\n",
       "    }\n",
       "</style>\n",
       "<table border=\"1\" class=\"dataframe\">\n",
       "  <thead>\n",
       "    <tr style=\"text-align: right;\">\n",
       "      <th></th>\n",
       "      <th>PersonFirstName</th>\n",
       "      <th>PersonID</th>\n",
       "      <th>PersonLastName</th>\n",
       "      <th>PersonMiddleName</th>\n",
       "      <th>_sa_instance_state</th>\n",
       "    </tr>\n",
       "  </thead>\n",
       "  <tbody>\n",
       "    <tr>\n",
       "      <th>0</th>\n",
       "      <td>William</td>\n",
       "      <td>1</td>\n",
       "      <td>Rhoads</td>\n",
       "      <td></td>\n",
       "      <td>&lt;sqlalchemy.orm.state.InstanceState object at ...</td>\n",
       "    </tr>\n",
       "    <tr>\n",
       "      <th>1</th>\n",
       "      <td>Kelsey</td>\n",
       "      <td>2</td>\n",
       "      <td>Pieper</td>\n",
       "      <td></td>\n",
       "      <td>&lt;sqlalchemy.orm.state.InstanceState object at ...</td>\n",
       "    </tr>\n",
       "    <tr>\n",
       "      <th>2</th>\n",
       "      <td>Graciela</td>\n",
       "      <td>3</td>\n",
       "      <td>Ramírez Toro</td>\n",
       "      <td></td>\n",
       "      <td>&lt;sqlalchemy.orm.state.InstanceState object at ...</td>\n",
       "    </tr>\n",
       "    <tr>\n",
       "      <th>3</th>\n",
       "      <td>Jeffrey</td>\n",
       "      <td>4</td>\n",
       "      <td>Parks</td>\n",
       "      <td></td>\n",
       "      <td>&lt;sqlalchemy.orm.state.InstanceState object at ...</td>\n",
       "    </tr>\n",
       "  </tbody>\n",
       "</table>\n",
       "</div>"
      ],
      "text/plain": [
       "  PersonFirstName  PersonID PersonLastName PersonMiddleName  \\\n",
       "0         William         1         Rhoads                    \n",
       "1          Kelsey         2         Pieper                    \n",
       "2        Graciela         3   Ramírez Toro                    \n",
       "3         Jeffrey         4          Parks                    \n",
       "\n",
       "                                  _sa_instance_state  \n",
       "0  <sqlalchemy.orm.state.InstanceState object at ...  \n",
       "1  <sqlalchemy.orm.state.InstanceState object at ...  \n",
       "2  <sqlalchemy.orm.state.InstanceState object at ...  \n",
       "3  <sqlalchemy.orm.state.InstanceState object at ...  "
      ]
     },
     "execution_count": 7,
     "metadata": {},
     "output_type": "execute_result"
    }
   ],
   "source": [
    "allPeople = read.getPeople()\n",
    "pd.DataFrame.from_records([vars(person) for person in allPeople]).head()"
   ]
  },
  {
   "cell_type": "markdown",
   "metadata": {},
   "source": [
    "### Site Sampling Features: pass arguments to the API query\n",
    "\n",
    "Some of the API functions accept arguments that let you subset what is returned. For example, I can query the database using the **getSamplingFeatures( )** function and pass it a SamplingFeatureType of \"Site\" to return a list of those SamplingFeatures that are Sites."
   ]
  },
  {
   "cell_type": "code",
   "execution_count": 8,
   "metadata": {},
   "outputs": [],
   "source": [
    "# Get all of the SamplingFeatures from the ODM2 database that are Sites\n",
    "siteFeatures = read.getSamplingFeatures(sftype='Site')\n",
    "\n",
    "# Read Sites records into a Pandas DataFrame\n",
    "# \"if sf.Latitude\" is used only to instantiate/read Site attributes)\n",
    "df = pd.DataFrame.from_records([vars(sf) for sf in siteFeatures if sf.Latitude])"
   ]
  },
  {
   "cell_type": "markdown",
   "metadata": {},
   "source": [
    "Since we know this is a *geospatial* dataset (Sites, which have latitude and longitude), we can use more specialized Python tools like `GeoPandas` (geospatially enabled Pandas) and `Folium` interactive maps."
   ]
  },
  {
   "cell_type": "code",
   "execution_count": 9,
   "metadata": {},
   "outputs": [
    {
     "data": {
      "text/html": [
       "<div>\n",
       "<style scoped>\n",
       "    .dataframe tbody tr th:only-of-type {\n",
       "        vertical-align: middle;\n",
       "    }\n",
       "\n",
       "    .dataframe tbody tr th {\n",
       "        vertical-align: top;\n",
       "    }\n",
       "\n",
       "    .dataframe thead th {\n",
       "        text-align: right;\n",
       "    }\n",
       "</style>\n",
       "<table border=\"1\" class=\"dataframe\">\n",
       "  <thead>\n",
       "    <tr style=\"text-align: right;\">\n",
       "      <th></th>\n",
       "      <th>ElevationDatumCV</th>\n",
       "      <th>Elevation_m</th>\n",
       "      <th>FeatureGeometryWKT</th>\n",
       "      <th>Latitude</th>\n",
       "      <th>Longitude</th>\n",
       "      <th>SamplingFeatureCode</th>\n",
       "      <th>SamplingFeatureDescription</th>\n",
       "      <th>SamplingFeatureGeotypeCV</th>\n",
       "      <th>SamplingFeatureID</th>\n",
       "      <th>SamplingFeatureName</th>\n",
       "      <th>SamplingFeatureTypeCV</th>\n",
       "      <th>SamplingFeatureUUID</th>\n",
       "      <th>SiteTypeCV</th>\n",
       "      <th>SpatialReferenceID</th>\n",
       "      <th>_sa_instance_state</th>\n",
       "      <th>geometry</th>\n",
       "    </tr>\n",
       "  </thead>\n",
       "  <tbody>\n",
       "    <tr>\n",
       "      <th>0</th>\n",
       "      <td>EGM96</td>\n",
       "      <td>749.0</td>\n",
       "      <td>None</td>\n",
       "      <td>18.200178</td>\n",
       "      <td>-66.664513</td>\n",
       "      <td>SystemD1_SGW</td>\n",
       "      <td>System D1 Surface water, as far upstream as po...</td>\n",
       "      <td>None</td>\n",
       "      <td>1</td>\n",
       "      <td>System D1 Surface Water</td>\n",
       "      <td>Site</td>\n",
       "      <td>5BE27C7B-0A37-49F9-AF8C-075F745FA23E</td>\n",
       "      <td>Water-distribution system</td>\n",
       "      <td>4</td>\n",
       "      <td>&lt;sqlalchemy.orm.state.InstanceState object at ...</td>\n",
       "      <td>POINT (-66.664513 18.200178)</td>\n",
       "    </tr>\n",
       "    <tr>\n",
       "      <th>1</th>\n",
       "      <td>EGM96</td>\n",
       "      <td>749.0</td>\n",
       "      <td>None</td>\n",
       "      <td>18.200178</td>\n",
       "      <td>-66.664513</td>\n",
       "      <td>SystemD1_Res</td>\n",
       "      <td>System D1 Surface water, at the point it is co...</td>\n",
       "      <td>None</td>\n",
       "      <td>2</td>\n",
       "      <td>System D1 Reservoir</td>\n",
       "      <td>Site</td>\n",
       "      <td>C279AE16-3EBE-419A-9ACF-ADCCA0E22205</td>\n",
       "      <td>Water-distribution system</td>\n",
       "      <td>4</td>\n",
       "      <td>&lt;sqlalchemy.orm.state.InstanceState object at ...</td>\n",
       "      <td>POINT (-66.664513 18.200178)</td>\n",
       "    </tr>\n",
       "    <tr>\n",
       "      <th>2</th>\n",
       "      <td>EGM96</td>\n",
       "      <td>749.0</td>\n",
       "      <td>None</td>\n",
       "      <td>18.200178</td>\n",
       "      <td>-66.664513</td>\n",
       "      <td>SystemD1_HT</td>\n",
       "      <td>System D1 Surface water, from a holding/settli...</td>\n",
       "      <td>None</td>\n",
       "      <td>3</td>\n",
       "      <td>System D1 Holding Tank</td>\n",
       "      <td>Site</td>\n",
       "      <td>1C5BD9E3-10AA-4207-A71A-190030CEDCCE</td>\n",
       "      <td>Water-distribution system</td>\n",
       "      <td>4</td>\n",
       "      <td>&lt;sqlalchemy.orm.state.InstanceState object at ...</td>\n",
       "      <td>POINT (-66.664513 18.200178)</td>\n",
       "    </tr>\n",
       "    <tr>\n",
       "      <th>3</th>\n",
       "      <td>EGM96</td>\n",
       "      <td>749.0</td>\n",
       "      <td>None</td>\n",
       "      <td>18.200178</td>\n",
       "      <td>-66.664513</td>\n",
       "      <td>SystemD1_PV</td>\n",
       "      <td>System D1 Surface water, from a pipe vent valv...</td>\n",
       "      <td>None</td>\n",
       "      <td>4</td>\n",
       "      <td>System D1 Pipe Vent</td>\n",
       "      <td>Site</td>\n",
       "      <td>B972B4CB-FF82-44A2-BC55-E53CD0B13B1B</td>\n",
       "      <td>Water-distribution system</td>\n",
       "      <td>4</td>\n",
       "      <td>&lt;sqlalchemy.orm.state.InstanceState object at ...</td>\n",
       "      <td>POINT (-66.664513 18.200178)</td>\n",
       "    </tr>\n",
       "    <tr>\n",
       "      <th>4</th>\n",
       "      <td>EGM96</td>\n",
       "      <td>749.0</td>\n",
       "      <td>None</td>\n",
       "      <td>18.200178</td>\n",
       "      <td>-66.664513</td>\n",
       "      <td>SystemD1_ST</td>\n",
       "      <td>System D1 Surface water, from setting tank (on...</td>\n",
       "      <td>None</td>\n",
       "      <td>5</td>\n",
       "      <td>System D1 Settling Tank</td>\n",
       "      <td>Site</td>\n",
       "      <td>33FA9DB6-D749-40A8-977F-A696F26E78A1</td>\n",
       "      <td>Water-distribution system</td>\n",
       "      <td>4</td>\n",
       "      <td>&lt;sqlalchemy.orm.state.InstanceState object at ...</td>\n",
       "      <td>POINT (-66.664513 18.200178)</td>\n",
       "    </tr>\n",
       "  </tbody>\n",
       "</table>\n",
       "</div>"
      ],
      "text/plain": [
       "  ElevationDatumCV  Elevation_m FeatureGeometryWKT   Latitude  Longitude  \\\n",
       "0            EGM96        749.0               None  18.200178 -66.664513   \n",
       "1            EGM96        749.0               None  18.200178 -66.664513   \n",
       "2            EGM96        749.0               None  18.200178 -66.664513   \n",
       "3            EGM96        749.0               None  18.200178 -66.664513   \n",
       "4            EGM96        749.0               None  18.200178 -66.664513   \n",
       "\n",
       "  SamplingFeatureCode                         SamplingFeatureDescription  \\\n",
       "0        SystemD1_SGW  System D1 Surface water, as far upstream as po...   \n",
       "1        SystemD1_Res  System D1 Surface water, at the point it is co...   \n",
       "2         SystemD1_HT  System D1 Surface water, from a holding/settli...   \n",
       "3         SystemD1_PV  System D1 Surface water, from a pipe vent valv...   \n",
       "4         SystemD1_ST  System D1 Surface water, from setting tank (on...   \n",
       "\n",
       "  SamplingFeatureGeotypeCV  SamplingFeatureID      SamplingFeatureName  \\\n",
       "0                     None                  1  System D1 Surface Water   \n",
       "1                     None                  2      System D1 Reservoir   \n",
       "2                     None                  3   System D1 Holding Tank   \n",
       "3                     None                  4      System D1 Pipe Vent   \n",
       "4                     None                  5  System D1 Settling Tank   \n",
       "\n",
       "  SamplingFeatureTypeCV                   SamplingFeatureUUID  \\\n",
       "0                  Site  5BE27C7B-0A37-49F9-AF8C-075F745FA23E   \n",
       "1                  Site  C279AE16-3EBE-419A-9ACF-ADCCA0E22205   \n",
       "2                  Site  1C5BD9E3-10AA-4207-A71A-190030CEDCCE   \n",
       "3                  Site  B972B4CB-FF82-44A2-BC55-E53CD0B13B1B   \n",
       "4                  Site  33FA9DB6-D749-40A8-977F-A696F26E78A1   \n",
       "\n",
       "                  SiteTypeCV  SpatialReferenceID  \\\n",
       "0  Water-distribution system                   4   \n",
       "1  Water-distribution system                   4   \n",
       "2  Water-distribution system                   4   \n",
       "3  Water-distribution system                   4   \n",
       "4  Water-distribution system                   4   \n",
       "\n",
       "                                  _sa_instance_state  \\\n",
       "0  <sqlalchemy.orm.state.InstanceState object at ...   \n",
       "1  <sqlalchemy.orm.state.InstanceState object at ...   \n",
       "2  <sqlalchemy.orm.state.InstanceState object at ...   \n",
       "3  <sqlalchemy.orm.state.InstanceState object at ...   \n",
       "4  <sqlalchemy.orm.state.InstanceState object at ...   \n",
       "\n",
       "                       geometry  \n",
       "0  POINT (-66.664513 18.200178)  \n",
       "1  POINT (-66.664513 18.200178)  \n",
       "2  POINT (-66.664513 18.200178)  \n",
       "3  POINT (-66.664513 18.200178)  \n",
       "4  POINT (-66.664513 18.200178)  "
      ]
     },
     "execution_count": 9,
     "metadata": {},
     "output_type": "execute_result"
    }
   ],
   "source": [
    "# Create a GeoPandas GeoDataFrame from Sites DataFrame\n",
    "ptgeom = [Point(xy) for xy in zip(df['Longitude'], df['Latitude'])]\n",
    "gdf = gpd.GeoDataFrame(df, geometry=ptgeom, crs={'init': 'epsg:4326'})\n",
    "gdf.head(5)"
   ]
  },
  {
   "cell_type": "code",
   "execution_count": 10,
   "metadata": {},
   "outputs": [
    {
     "data": {
      "text/plain": [
       "89"
      ]
     },
     "execution_count": 10,
     "metadata": {},
     "output_type": "execute_result"
    }
   ],
   "source": [
    "# Number of records (features) in GeoDataFrame\n",
    "len(gdf)"
   ]
  },
  {
   "cell_type": "code",
   "execution_count": 11,
   "metadata": {},
   "outputs": [
    {
     "data": {
      "image/png": "[encoded data removed]",
      "text/plain": [
       "<Figure size 432x288 with 1 Axes>"
      ]
     },
     "metadata": {
      "needs_background": "light"
     },
     "output_type": "display_data"
    }
   ],
   "source": [
    "# A trivial but easy-to-generate GeoPandas plot\n",
    "gdf.plot();"
   ]
  },
  {
   "cell_type": "markdown",
   "metadata": {},
   "source": [
    "A site has a `SiteTypeCV`. Let's examine the site type distribution, and use that information to create a new GeoDataFrame column to specify a map marker color by `SiteTypeCV`."
   ]
  },
  {
   "cell_type": "code",
   "execution_count": 12,
   "metadata": {},
   "outputs": [
    {
     "data": {
      "text/plain": [
       "Water-distribution system    67\n",
       "Stream                       22\n",
       "Name: SiteTypeCV, dtype: int64"
      ]
     },
     "execution_count": 12,
     "metadata": {},
     "output_type": "execute_result"
    }
   ],
   "source": [
    "gdf['SiteTypeCV'].value_counts()"
   ]
  },
  {
   "cell_type": "markdown",
   "metadata": {},
   "source": [
    "**Now we'll create an interactive and helpful `Folium` map of the sites.** This map features:\n",
    "- Automatic panning to the location of the sites (no hard wiring, except for the zoom scale), based on GeoPandas functionality and information from the ODM2 Site Sampling Features\n",
    "- Color coding by `SiteTypeCV` \n",
    "- Marker clustering\n",
    "- Simple marker pop ups with content from the ODM2 Site Sampling Features"
   ]
  },
  {
   "cell_type": "code",
   "execution_count": 13,
   "metadata": {},
   "outputs": [],
   "source": [
    "gdf[\"color\"] = gdf.apply(lambda feat: 'green' if feat['SiteTypeCV'] == 'Stream' else 'red', axis=1)"
   ]
  },
  {
   "cell_type": "code",
   "execution_count": 14,
   "metadata": {},
   "outputs": [
    {
     "data": {
      "text/html": [
       "<div style=\"width:100%;\"><div style=\"position:relative;width:100%;height:0;padding-bottom:60%;\"><iframe src=\"data:text/html;charset=utf-8;base64,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\" style=\"position:absolute;width:100%;height:100%;left:0;top:0;border:none !important;\" allowfullscreen webkitallowfullscreen mozallowfullscreen></iframe></div></div>"
      ],
      "text/plain": [
       "<folium.folium.Map at 0x7f104387ba10>"
      ]
     },
     "execution_count": 14,
     "metadata": {},
     "output_type": "execute_result"
    }
   ],
   "source": [
    "m = folium.Map(tiles='CartoDB positron')\n",
    "\n",
    "marker_cluster = MarkerCluster().add_to(m)\n",
    "for idx, feature in gdf.iterrows():\n",
    "    folium.Marker(location=[feature.geometry.y, feature.geometry.x], \n",
    "                  icon=folium.Icon(color=feature['color']),\n",
    "                  popup=\"{0} ({1}): {2}\".format(\n",
    "                      feature['SamplingFeatureCode'], feature['SiteTypeCV'], \n",
    "                      feature['SamplingFeatureName'])\n",
    "                 ).add_to(marker_cluster)\n",
    "\n",
    "\n",
    "# Set the map extent (bounds) to the extent of the ODM2 sites\n",
    "m.fit_bounds(m.get_bounds())\n",
    "    \n",
    "# Done with setup. Now render the map\n",
    "m"
   ]
  },
  {
   "cell_type": "code",
   "execution_count": 15,
   "metadata": {},
   "outputs": [
    {
     "data": {
      "text/plain": [
       "odm2api.models.Sites"
      ]
     },
     "execution_count": 15,
     "metadata": {},
     "output_type": "execute_result"
    }
   ],
   "source": [
    "# Get the SamplingFeature object for a particular SamplingFeature by passing its SamplingFeatureCode\n",
    "site_sf_code = 'SystemD1_PV'\n",
    "\n",
    "sf = read.getSamplingFeatures(codes=[site_sf_code])[0]\n",
    "type(sf)"
   ]
  },
  {
   "cell_type": "code",
   "execution_count": 16,
   "metadata": {},
   "outputs": [
    {
     "data": {
      "text/plain": [
       "{'ElevationDatumCV': u'EGM96',\n",
       " 'Elevation_m': 749.0,\n",
       " 'FeatureGeometryWKT': None,\n",
       " 'Latitude': 18.200178,\n",
       " 'Longitude': -66.664513,\n",
       " 'SamplingFeatureCode': u'SystemD1_PV',\n",
       " 'SamplingFeatureDescription': u'System D1 Surface water, from a pipe vent valve to keep water flowing (open to atmosphere)',\n",
       " 'SamplingFeatureGeotypeCV': None,\n",
       " 'SamplingFeatureID': 4,\n",
       " 'SamplingFeatureName': u'System D1 Pipe Vent',\n",
       " 'SamplingFeatureTypeCV': u'Site',\n",
       " 'SamplingFeatureUUID': u'B972B4CB-FF82-44A2-BC55-E53CD0B13B1B',\n",
       " 'SiteTypeCV': u'Water-distribution system',\n",
       " 'SpatialReferenceID': 4,\n",
       " '_sa_instance_state': <sqlalchemy.orm.state.InstanceState at 0x7f10459e0210>}"
      ]
     },
     "execution_count": 16,
     "metadata": {},
     "output_type": "execute_result"
    }
   ],
   "source": [
    "# Simple way to examine the content (properties) of a Python object, as if it were a dictionary\n",
    "vars(sf)"
   ]
  },
  {
   "cell_type": "markdown",
   "metadata": {},
   "source": [
    "You can also drill down and get objects linked by foreign keys. The API returns related objects in a nested hierarchy so they can be interrogated in an object oriented way. So, if I use the **getResults( )** function to return a Result from the database (e.g., a \"Measurement\" Result), I also get the associated Action that created that Result (e.g., a \"Specimen analysis\" Action)."
   ]
  },
  {
   "cell_type": "code",
   "execution_count": 17,
   "metadata": {},
   "outputs": [
    {
     "name": "stdout",
     "output_type": "stream",
     "text": [
      "('The FeatureAction object for the Result is: ', <FeatureActions({'FeatureActionID': 84, 'SamplingFeatureID': 90, 'ActionID': 84})>)\n",
      "('The Action object for the Result is: ', <Actions({'MethodID': 11, 'ActionDescription': None, 'ActionFileLink': None, 'EndDateTime': None, 'BeginDateTime': datetime.datetime(2018, 4, 26, 0, 0), 'BeginDateTimeUTCOffset': -4, 'ActionTypeCV': u'Specimen analysis', 'ActionID': 84, 'EndDateTimeUTCOffset': None})>)\n",
      "\n",
      "The following are some of the attributes for the Action that created the Result: \n",
      "ActionTypeCV: Specimen analysis\n",
      "ActionDescription: None\n",
      "BeginDateTime: 2018-04-26 00:00:00\n",
      "EndDateTime: None\n",
      "MethodName: Inorganics Measurements\n",
      "Unable to demo Foreign Key Example: 'ascii' codec can't encode character u'\\u03bc' in position 457: ordinal not in range(128)\n"
     ]
    }
   ],
   "source": [
    "try:\n",
    "    # Call getResults, but return only the first Result\n",
    "    firstResult = read.getResults()[0]\n",
    "    frfa = firstResult.FeatureActionObj\n",
    "    frfaa = firstResult.FeatureActionObj.ActionObj\n",
    "    print(\"The FeatureAction object for the Result is: \", frfa)\n",
    "    print(\"The Action object for the Result is: \", frfaa)\n",
    "    \n",
    "    # Print some Action attributes in a more human readable form\n",
    "    print(\"\\nThe following are some of the attributes for the Action that created the Result: \")\n",
    "    print(\"ActionTypeCV: {}\".format(frfaa.ActionTypeCV))\n",
    "    print(\"ActionDescription: {}\".format(frfaa.ActionDescription))\n",
    "    print(\"BeginDateTime: {}\".format(frfaa.BeginDateTime))\n",
    "    print(\"EndDateTime: {}\".format(frfaa.EndDateTime))\n",
    "    print(\"MethodName: {}\".format(frfaa.MethodObj.MethodName))\n",
    "    print(\"MethodDescription: {}\".format(frfaa.MethodObj.MethodDescription))\n",
    "except Exception as e:\n",
    "    print(\"Unable to demo Foreign Key Example: {}\".format(e))"
   ]
  },
  {
   "cell_type": "code",
   "execution_count": 18,
   "metadata": {},
   "outputs": [
    {
     "data": {
      "text/plain": [
       "{'ActionDescription': None,\n",
       " 'ActionFileLink': None,\n",
       " 'ActionID': 84,\n",
       " 'ActionTypeCV': u'Specimen analysis',\n",
       " 'BeginDateTime': datetime.datetime(2018, 4, 26, 0, 0),\n",
       " 'BeginDateTimeUTCOffset': -4,\n",
       " 'EndDateTime': None,\n",
       " 'EndDateTimeUTCOffset': None,\n",
       " 'MethodID': 11,\n",
       " 'MethodObj': <Methods({'MethodCode': u'Inorganics', 'MethodID': 11, 'MethodDescription': u'Inorganics were measured by inductively coupled plasma/mass spectrometry (ICP/MS) following Standard Method 3125B. For total inorganic concentrations, samples were aliquoitted in the field directly from 1 L HDPE bottles to 10 mL tubes and were measured after acidification with 2% nitric acid and a minimum of 24 hours holding time. For \"soluble\" inorganics (operationally defined as passing a 0.45 um filter), unacidified samples were passed through a 0.45\\u03bcm pore size filter in the field to differentiate \\u201csoluble\\u201d metals from particulate and were measured after acidification with 2% nitric acid and a minimum of 24 hours holding time. A nominal standard curve from 0 to 5,000 or 50,000 ppb (depending on the inorganic of interest) was run for calibration. A standard check at 0 and 100 ppb was run every 10 samples for QAQC.', 'OrganizationID': None, 'MethodTypeCV': u'Specimen analysis', 'MethodName': u'Inorganics Measurements', 'MethodLink': None})>,\n",
       " '_sa_instance_state': <sqlalchemy.orm.state.InstanceState at 0x7f1043353a10>}"
      ]
     },
     "execution_count": 18,
     "metadata": {},
     "output_type": "execute_result"
    }
   ],
   "source": [
    "vars(frfaa)"
   ]
  },
  {
   "cell_type": "code",
   "execution_count": 19,
   "metadata": {},
   "outputs": [
    {
     "data": {
      "text/plain": [
       "{'MethodCode': u'Inorganics',\n",
       " 'MethodDescription': u'Inorganics were measured by inductively coupled plasma/mass spectrometry (ICP/MS) following Standard Method 3125B. For total inorganic concentrations, samples were aliquoitted in the field directly from 1 L HDPE bottles to 10 mL tubes and were measured after acidification with 2% nitric acid and a minimum of 24 hours holding time. For \"soluble\" inorganics (operationally defined as passing a 0.45 um filter), unacidified samples were passed through a 0.45\\u03bcm pore size filter in the field to differentiate \\u201csoluble\\u201d metals from particulate and were measured after acidification with 2% nitric acid and a minimum of 24 hours holding time. A nominal standard curve from 0 to 5,000 or 50,000 ppb (depending on the inorganic of interest) was run for calibration. A standard check at 0 and 100 ppb was run every 10 samples for QAQC.',\n",
       " 'MethodID': 11,\n",
       " 'MethodLink': None,\n",
       " 'MethodName': u'Inorganics Measurements',\n",
       " 'MethodTypeCV': u'Specimen analysis',\n",
       " 'OrganizationID': None,\n",
       " '_sa_instance_state': <sqlalchemy.orm.state.InstanceState at 0x7f1043353f90>}"
      ]
     },
     "execution_count": 19,
     "metadata": {},
     "output_type": "execute_result"
    }
   ],
   "source": [
    "vars(frfaa.MethodObj)"
   ]
  },
  {
   "cell_type": "markdown",
   "metadata": {},
   "source": [
    "### Get a Result and its Attributes\n",
    "\n",
    "Because all of the objects are returned in a nested form, if you retrieve a result, you can interrogate it to get all of its related attributes. When a Result object is returned, it includes objects that contain information about Variable, Units, ProcessingLevel, and the related Action that created that Result."
   ]
  },
  {
   "cell_type": "code",
   "execution_count": 20,
   "metadata": {},
   "outputs": [
    {
     "name": "stdout",
     "output_type": "stream",
     "text": [
      "------- Example of Retrieving Attributes of a Result -------\n",
      "The following are some of the attributes for the Result retrieved: \n",
      "ResultID: 1\n",
      "ResultTypeCV: Measurement\n",
      "ValueCount: 1\n",
      "ProcessingLevel: Quality controlled data\n",
      "SampledMedium: Liquid aqueous\n",
      "Variable: Na_filt: Sodium, dissolved\n",
      "Units: parts per billion\n",
      "SamplingFeatureID: 90\n",
      "SamplingFeatureCode: D1_SGW\n"
     ]
    }
   ],
   "source": [
    "print(\"------- Example of Retrieving Attributes of a Result -------\")\n",
    "try:\n",
    "    firstResult = read.getResults()[0]\n",
    "    frfa = firstResult.FeatureActionObj\n",
    "    print(\"The following are some of the attributes for the Result retrieved: \")\n",
    "    print(\"ResultID: {}\".format(firstResult.ResultID))\n",
    "    print(\"ResultTypeCV: {}\".format(firstResult.ResultTypeCV))\n",
    "    print(\"ValueCount: {}\".format(firstResult.ValueCount))\n",
    "    print(\"ProcessingLevel: {}\".format(firstResult.ProcessingLevelObj.Definition))\n",
    "    print(\"SampledMedium: {}\".format(firstResult.SampledMediumCV))\n",
    "    print(\"Variable: {}: {}\".format(firstResult.VariableObj.VariableCode, \n",
    "                                    firstResult.VariableObj.VariableNameCV))\n",
    "    print(\"Units: {}\".format(firstResult.UnitsObj.UnitsName))\n",
    "    print(\"SamplingFeatureID: {}\".format(frfa.SamplingFeatureObj.SamplingFeatureID))\n",
    "    print(\"SamplingFeatureCode: {}\".format(frfa.SamplingFeatureObj.SamplingFeatureCode))\n",
    "except Exception as e:\n",
    "    print(\"Unable to demo example of retrieving Attributes of a Result: {}\".format(e))"
   ]
  },
  {
   "cell_type": "code",
   "execution_count": 21,
   "metadata": {},
   "outputs": [
    {
     "data": {
      "text/plain": [
       "{'FeatureActionID': 84,\n",
       " 'FeatureActionObj': <FeatureActions({'ActionID': 84, 'SamplingFeatureID': 90, 'FeatureActionID': 84})>,\n",
       " 'ProcessingLevelID': 2,\n",
       " 'ProcessingLevelObj': <ProcessingLevels({'Definition': u'Quality controlled data', 'Explanation': u'Quality controlled data that have passed quality assurance procedures such as routine estimation of timing and sensor calibration or visual inspection and removal of obvious errors. An example is USGS published streamflow records following parsing through USGS quality control procedures.', 'ProcessingLevelCode': u'1', 'ProcessingLevelID': 2})>,\n",
       " 'ResultDateTime': datetime.datetime(2018, 2, 26, 0, 0),\n",
       " 'ResultDateTimeUTCOffset': None,\n",
       " 'ResultID': 1,\n",
       " 'ResultTypeCV': u'Measurement',\n",
       " 'ResultUUID': u'1FFB7AB0-E156-4522-944F-24AFD1040F67',\n",
       " 'SampledMediumCV': u'Liquid aqueous',\n",
       " 'StatusCV': u'Complete',\n",
       " 'TaxonomicClassifierID': None,\n",
       " 'UnitsID': 5,\n",
       " 'UnitsObj': <Units({'UnitsLink': None, 'UnitsName': u'parts per billion', 'UnitsTypeCV': u'Concentration count per count', 'UnitsAbbreviation': u'ppb', 'UnitsID': 5})>,\n",
       " 'ValidDateTime': None,\n",
       " 'ValidDateTimeUTCOffset': None,\n",
       " 'ValueCount': 1,\n",
       " 'VariableID': 9,\n",
       " 'VariableObj': <Variables({'VariableID': 9, 'SpeciationCV': u'Not Applicable', 'VariableNameCV': u'Sodium, dissolved', 'VariableDefinition': None, 'NoDataValue': Decimal('-9999.0000000000'), 'VariableTypeCV': u'Water quality', 'VariableCode': u'Na_filt'})>,\n",
       " '_sa_instance_state': <sqlalchemy.orm.state.InstanceState at 0x7f104605f750>}"
      ]
     },
     "execution_count": 21,
     "metadata": {},
     "output_type": "execute_result"
    }
   ],
   "source": [
    "vars(firstResult)"
   ]
  },
  {
   "cell_type": "code",
   "execution_count": 22,
   "metadata": {},
   "outputs": [
    {
     "data": {
      "text/plain": [
       "{'ActionID': 84,\n",
       " 'ActionObj': <Actions({'MethodID': 11, 'ActionDescription': None, 'ActionFileLink': None, 'EndDateTime': None, 'BeginDateTime': datetime.datetime(2018, 4, 26, 0, 0), 'BeginDateTimeUTCOffset': -4, 'ActionTypeCV': u'Specimen analysis', 'ActionID': 84, 'EndDateTimeUTCOffset': None})>,\n",
       " 'FeatureActionID': 84,\n",
       " 'SamplingFeatureID': 90,\n",
       " 'SamplingFeatureObj': <Specimens({'SamplingFeatureDescription': None, 'SamplingFeatureGeotypeCV': None, 'SamplingFeatureName': None, 'ElevationDatumCV': u'Unknown', 'Elevation_m': None, 'SamplingFeatureUUID': u'67071B3E-28B2-4E3F-A470-CB30D6EF9121', 'SamplingFeatureTypeCV': u'Specimen', 'SamplingFeatureCode': u'D1_SGW', 'SamplingFeatureID': 90, 'FeatureGeometryWKT': None})>,\n",
       " '_sa_instance_state': <sqlalchemy.orm.state.InstanceState at 0x7f1043353110>}"
      ]
     },
     "execution_count": 22,
     "metadata": {},
     "output_type": "execute_result"
    }
   ],
   "source": [
    "vars(frfa)"
   ]
  },
  {
   "cell_type": "markdown",
   "metadata": {},
   "source": [
    "The last block of code returns a particular Measurement Result. From that I can get the SamplingFeaureID (in this case 26) for the Specimen from which the Result was generated. But, if I want to figure out which Site the Specimen was collected at, I need to query the database to get the related Site SamplingFeature.  I can use **getRelatedSamplingFeatures( )** for this.  Once I've got the SamplingFeature for the Site, I could get the rest of the SamplingFeature attributes."
   ]
  },
  {
   "cell_type": "markdown",
   "metadata": {},
   "source": [
    "### Retrieve the \"Related\" Site at which a Specimen was collected"
   ]
  },
  {
   "cell_type": "code",
   "execution_count": 23,
   "metadata": {},
   "outputs": [],
   "source": [
    "specimen_sf_id = frfa.SamplingFeatureObj.SamplingFeatureID"
   ]
  },
  {
   "cell_type": "code",
   "execution_count": 24,
   "metadata": {},
   "outputs": [
    {
     "data": {
      "text/plain": [
       "u'Grab'"
      ]
     },
     "execution_count": 24,
     "metadata": {},
     "output_type": "execute_result"
    }
   ],
   "source": [
    "# specimen-entity attributes only show up after first printing one out explicitly\n",
    "frfa.SamplingFeatureObj.SpecimenTypeCV"
   ]
  },
  {
   "cell_type": "code",
   "execution_count": 25,
   "metadata": {},
   "outputs": [
    {
     "data": {
      "text/plain": [
       "{'ElevationDatumCV': u'Unknown',\n",
       " 'Elevation_m': None,\n",
       " 'FeatureGeometryWKT': None,\n",
       " 'IsFieldSpecimen': True,\n",
       " 'SamplingFeatureCode': u'D1_SGW',\n",
       " 'SamplingFeatureDescription': None,\n",
       " 'SamplingFeatureGeotypeCV': None,\n",
       " 'SamplingFeatureID': 90,\n",
       " 'SamplingFeatureName': None,\n",
       " 'SamplingFeatureTypeCV': u'Specimen',\n",
       " 'SamplingFeatureUUID': u'67071B3E-28B2-4E3F-A470-CB30D6EF9121',\n",
       " 'SpecimenMediumCV': u'Liquid aqueous',\n",
       " 'SpecimenTypeCV': u'Grab',\n",
       " '_sa_instance_state': <sqlalchemy.orm.state.InstanceState at 0x7f104326b9d0>}"
      ]
     },
     "execution_count": 25,
     "metadata": {},
     "output_type": "execute_result"
    }
   ],
   "source": [
    "vars(frfa.SamplingFeatureObj)"
   ]
  },
  {
   "cell_type": "code",
   "execution_count": 26,
   "metadata": {},
   "outputs": [],
   "source": [
    "# Pass the Sampling Feature ID of the specimen, and the relationship type\n",
    "relatedSite = read.getRelatedSamplingFeatures(sfid=specimen_sf_id, \n",
    "                                              relationshiptype='Was Collected at')[0]"
   ]
  },
  {
   "cell_type": "code",
   "execution_count": 27,
   "metadata": {},
   "outputs": [
    {
     "data": {
      "text/plain": [
       "{'ElevationDatumCV': u'EGM96',\n",
       " 'Elevation_m': 749.0,\n",
       " 'FeatureGeometryWKT': None,\n",
       " 'Latitude': 18.200178,\n",
       " 'Longitude': -66.664513,\n",
       " 'SamplingFeatureCode': u'SystemD1_SGW',\n",
       " 'SamplingFeatureDescription': u'System D1 Surface water, as far upstream as possible',\n",
       " 'SamplingFeatureGeotypeCV': None,\n",
       " 'SamplingFeatureID': 1,\n",
       " 'SamplingFeatureName': u'System D1 Surface Water',\n",
       " 'SamplingFeatureTypeCV': u'Site',\n",
       " 'SamplingFeatureUUID': u'5BE27C7B-0A37-49F9-AF8C-075F745FA23E',\n",
       " 'SiteTypeCV': u'Water-distribution system',\n",
       " 'SpatialReferenceID': 4,\n",
       " '_sa_instance_state': <sqlalchemy.orm.state.InstanceState at 0x7f1045a40890>}"
      ]
     },
     "execution_count": 27,
     "metadata": {},
     "output_type": "execute_result"
    }
   ],
   "source": [
    "vars(relatedSite)"
   ]
  },
  {
   "cell_type": "markdown",
   "metadata": {},
   "source": [
    "-----------------------------------------\n",
    "\n",
    "## Return Results and Data Values for a Particular Site/Variable\n",
    "\n",
    "From the list of Variables returned above and the information about the SamplingFeature I queried above, I know that VariableID = 2 for Total Phosphorus and SiteID = 1 for the Red Butte Creek site at 1300E. I can use the **getResults( )** function to get all of the Total Phosphorus results for this site by passing in the VariableID and the SiteID."
   ]
  },
  {
   "cell_type": "code",
   "execution_count": 28,
   "metadata": {},
   "outputs": [],
   "source": [
    "siteID = relatedSite.SamplingFeatureID"
   ]
  },
  {
   "cell_type": "code",
   "execution_count": 29,
   "metadata": {},
   "outputs": [],
   "source": [
    "results_all_at_site = read.getResults(siteid=siteID, restype=\"Measurement\")"
   ]
  },
  {
   "cell_type": "code",
   "execution_count": 30,
   "metadata": {},
   "outputs": [
    {
     "data": {
      "text/plain": [
       "47"
      ]
     },
     "execution_count": 30,
     "metadata": {},
     "output_type": "execute_result"
    }
   ],
   "source": [
    "len(results_all_at_site)"
   ]
  },
  {
   "cell_type": "code",
   "execution_count": 31,
   "metadata": {},
   "outputs": [
    {
     "data": {
      "text/plain": [
       "{'FeatureActionID': 84,\n",
       " 'FeatureActionObj': <FeatureActions({'ActionID': 84, 'SamplingFeatureID': 90, 'FeatureActionID': 84})>,\n",
       " 'ProcessingLevelID': 2,\n",
       " 'ProcessingLevelObj': <ProcessingLevels({'Definition': u'Quality controlled data', 'Explanation': u'Quality controlled data that have passed quality assurance procedures such as routine estimation of timing and sensor calibration or visual inspection and removal of obvious errors. An example is USGS published streamflow records following parsing through USGS quality control procedures.', 'ProcessingLevelCode': u'1', 'ProcessingLevelID': 2})>,\n",
       " 'ResultDateTime': datetime.datetime(2018, 2, 26, 0, 0),\n",
       " 'ResultDateTimeUTCOffset': None,\n",
       " 'ResultID': 1,\n",
       " 'ResultTypeCV': u'Measurement',\n",
       " 'ResultUUID': u'1FFB7AB0-E156-4522-944F-24AFD1040F67',\n",
       " 'SampledMediumCV': u'Liquid aqueous',\n",
       " 'StatusCV': u'Complete',\n",
       " 'TaxonomicClassifierID': None,\n",
       " 'UnitsID': 5,\n",
       " 'UnitsObj': <Units({'UnitsLink': None, 'UnitsName': u'parts per billion', 'UnitsTypeCV': u'Concentration count per count', 'UnitsAbbreviation': u'ppb', 'UnitsID': 5})>,\n",
       " 'ValidDateTime': None,\n",
       " 'ValidDateTimeUTCOffset': None,\n",
       " 'ValueCount': 1,\n",
       " 'VariableID': 9,\n",
       " 'VariableObj': <Variables({'VariableID': 9, 'SpeciationCV': u'Not Applicable', 'VariableNameCV': u'Sodium, dissolved', 'VariableDefinition': None, 'NoDataValue': Decimal('-9999.0000000000'), 'VariableTypeCV': u'Water quality', 'VariableCode': u'Na_filt'})>,\n",
       " '_sa_instance_state': <sqlalchemy.orm.state.InstanceState at 0x7f104605f750>}"
      ]
     },
     "execution_count": 31,
     "metadata": {},
     "output_type": "execute_result"
    }
   ],
   "source": [
    "vars(results_all_at_site[0])"
   ]
  },
  {
   "cell_type": "code",
   "execution_count": 32,
   "metadata": {},
   "outputs": [],
   "source": [
    "res_vars = []\n",
    "for r in results_all_at_site:\n",
    "    res_vars.append([r.ResultID, r.ResultDateTime, r.VariableID, \n",
    "                     r.VariableObj.VariableCode, r.VariableObj.VariableNameCV, r.VariableObj.VariableDefinition])"
   ]
  },
  {
   "cell_type": "code",
   "execution_count": 33,
   "metadata": {},
   "outputs": [],
   "source": [
    "# print out a count of number of results for each variable, plus the date range\n",
    "# Do this by ingesting into a data frame first"
   ]
  },
  {
   "cell_type": "code",
   "execution_count": 34,
   "metadata": {},
   "outputs": [],
   "source": [
    "res_vars_df = pd.DataFrame(res_vars, columns=['ResultID', 'ResultDateTime', 'VariableID', 'VariableCode', 'VariableNameCV', 'VariableDefinition'])"
   ]
  },
  {
   "cell_type": "code",
   "execution_count": 35,
   "metadata": {},
   "outputs": [
    {
     "data": {
      "text/html": [
       "<div>\n",
       "<style scoped>\n",
       "    .dataframe tbody tr th:only-of-type {\n",
       "        vertical-align: middle;\n",
       "    }\n",
       "\n",
       "    .dataframe tbody tr th {\n",
       "        vertical-align: top;\n",
       "    }\n",
       "\n",
       "    .dataframe thead th {\n",
       "        text-align: right;\n",
       "    }\n",
       "</style>\n",
       "<table border=\"1\" class=\"dataframe\">\n",
       "  <thead>\n",
       "    <tr style=\"text-align: right;\">\n",
       "      <th></th>\n",
       "      <th>ResultID</th>\n",
       "      <th>ResultDateTime</th>\n",
       "      <th>VariableID</th>\n",
       "      <th>VariableCode</th>\n",
       "      <th>VariableNameCV</th>\n",
       "      <th>VariableDefinition</th>\n",
       "    </tr>\n",
       "  </thead>\n",
       "  <tbody>\n",
       "    <tr>\n",
       "      <th>0</th>\n",
       "      <td>1</td>\n",
       "      <td>2018-02-26</td>\n",
       "      <td>9</td>\n",
       "      <td>Na_filt</td>\n",
       "      <td>Sodium, dissolved</td>\n",
       "      <td>None</td>\n",
       "    </tr>\n",
       "    <tr>\n",
       "      <th>1</th>\n",
       "      <td>84</td>\n",
       "      <td>2018-02-26</td>\n",
       "      <td>10</td>\n",
       "      <td>Mg_filt</td>\n",
       "      <td>Magnesium, dissolved</td>\n",
       "      <td>None</td>\n",
       "    </tr>\n",
       "    <tr>\n",
       "      <th>2</th>\n",
       "      <td>167</td>\n",
       "      <td>2018-02-26</td>\n",
       "      <td>11</td>\n",
       "      <td>Al_filt</td>\n",
       "      <td>Aluminum, dissolved</td>\n",
       "      <td>None</td>\n",
       "    </tr>\n",
       "    <tr>\n",
       "      <th>3</th>\n",
       "      <td>250</td>\n",
       "      <td>2018-02-26</td>\n",
       "      <td>12</td>\n",
       "      <td>Si_filt</td>\n",
       "      <td>Silicon, dissolved</td>\n",
       "      <td>None</td>\n",
       "    </tr>\n",
       "    <tr>\n",
       "      <th>4</th>\n",
       "      <td>333</td>\n",
       "      <td>2018-02-26</td>\n",
       "      <td>13</td>\n",
       "      <td>P_filt</td>\n",
       "      <td>Phosphorus, dissolved</td>\n",
       "      <td>None</td>\n",
       "    </tr>\n",
       "  </tbody>\n",
       "</table>\n",
       "</div>"
      ],
      "text/plain": [
       "   ResultID ResultDateTime  VariableID VariableCode         VariableNameCV  \\\n",
       "0         1     2018-02-26           9      Na_filt      Sodium, dissolved   \n",
       "1        84     2018-02-26          10      Mg_filt   Magnesium, dissolved   \n",
       "2       167     2018-02-26          11      Al_filt    Aluminum, dissolved   \n",
       "3       250     2018-02-26          12      Si_filt     Silicon, dissolved   \n",
       "4       333     2018-02-26          13       P_filt  Phosphorus, dissolved   \n",
       "\n",
       "  VariableDefinition  \n",
       "0               None  \n",
       "1               None  \n",
       "2               None  \n",
       "3               None  \n",
       "4               None  "
      ]
     },
     "execution_count": 35,
     "metadata": {},
     "output_type": "execute_result"
    }
   ],
   "source": [
    "res_vars_df.head()"
   ]
  },
  {
   "cell_type": "code",
   "execution_count": 36,
   "metadata": {},
   "outputs": [
    {
     "data": {
      "text/plain": [
       "pH               2\n",
       "Free Cl2         2\n",
       "Total Cl2        2\n",
       "Fe_filt          1\n",
       "Si_filt          1\n",
       "Na_tot           1\n",
       "Cu_filt          1\n",
       "Cu_tot           1\n",
       "S_tot            1\n",
       "Cl_filt          1\n",
       "Fe_tot           1\n",
       "Mg_tot           1\n",
       "Ba_filt          1\n",
       "Cr_tot           1\n",
       "InitialTemp      1\n",
       "S_filt           1\n",
       "Al_tot           1\n",
       "Mn_filt          1\n",
       "FirstDrawTemp    1\n",
       "Al_filt          1\n",
       "Turbidity        1\n",
       "FinalTemp        1\n",
       "Si_tot           1\n",
       "Mg_filt          1\n",
       "Zn_filt          1\n",
       "Ba_tot           1\n",
       "P_tot            1\n",
       "K_tot            1\n",
       "Cl_tot           1\n",
       "Br_tot           1\n",
       "P_filt           1\n",
       "Ca_tot           1\n",
       "Pb_tot           1\n",
       "Br_filt          1\n",
       "Cr_filt          1\n",
       "Pb_filt          1\n",
       "As_filt          1\n",
       "Zn_tot           1\n",
       "As_tot           1\n",
       "Ca_filt          1\n",
       "Mn_tot           1\n",
       "K_filt           1\n",
       "Na_filt          1\n",
       "DO               1\n",
       "Name: VariableCode, dtype: int64"
      ]
     },
     "execution_count": 36,
     "metadata": {},
     "output_type": "execute_result"
    }
   ],
   "source": [
    "res_vars_df.VariableCode.value_counts()"
   ]
  },
  {
   "cell_type": "markdown",
   "metadata": {},
   "source": [
    "### Retrieve the Result (Data) Values, Then Create a Quick Time Series Plot of the Data\n",
    "\n",
    "Now I can retrieve all of the data values associated with the list of Results I just retrieved. In ODM2, water chemistry measurements are stored as \"Measurement\" results. Each \"Measurement\" Result has a single data value associated with it. So, for convenience, the **getResultValues( )** function allows you to pass in a list of ResultIDs so you can get the data values for all of them back in a Pandas data frame object, which is easier to work with. Once I've got the data in a Pandas data frame object, I can use the **plot( )** function directly on the data frame to create a quick visualization."
   ]
  },
  {
   "cell_type": "markdown",
   "metadata": {},
   "source": [
    "**10/5/2018. NOTE CURRENT ISSUE REGARDING `ValueDateTime` RETURNED BY `read.getResultValues`.** There seems to be an unexpected behavior with the data type returned for `ValueDateTime` for SQLite databases. It should be a datetime, but it's currently a string. This is [being investigated](https://github.com/ODM2/ODM2PythonAPI/issues/158). For now, we are converting to a datetime manually in cells 25 and 27 via the statement:\n",
    "```python\n",
    "resultValues['ValueDateTime'] = pd.to_datetime(resultValues['ValueDateTime'])\n",
    "```\n",
    "This problem is present in `odm2api` version 0.7.1, but was not present in Nov. 2017"
   ]
  },
  {
   "cell_type": "code",
   "execution_count": 37,
   "metadata": {},
   "outputs": [],
   "source": [
    "# function that encapsulates the `VariableID`, `getResults` and `getResultValues` queries\n",
    "def get_results_and_values(siteid, variablecode):\n",
    "    v = variables_df[variables_df['VariableCode'] == variablecode]\n",
    "    variableID = v.index[0]\n",
    "    \n",
    "    results = read.getResults(siteid=siteid, variableid=variableID, restype=\"Measurement\")\n",
    "    resultIDList = [x.ResultID for x in results]\n",
    "    \n",
    "    # Get all of the data values for the Results in the list created above\n",
    "    # Call getResultValues, which returns a Pandas Data Frame with the data\n",
    "    resultValues = read.getResultValues(resultids=resultIDList, lowercols=False)\n",
    "    resultValues['ValueDateTime'] = pd.to_datetime(resultValues['ValueDateTime'])\n",
    "    \n",
    "    return resultValues, results"
   ]
  },
  {
   "cell_type": "code",
   "execution_count": 43,
   "metadata": {},
   "outputs": [],
   "source": [
    "resultValues, results = get_results_and_values(siteID, 'pH')"
   ]
  },
  {
   "cell_type": "code",
   "execution_count": 44,
   "metadata": {},
   "outputs": [
    {
     "data": {
      "text/html": [
       "<div>\n",
       "<style scoped>\n",
       "    .dataframe tbody tr th:only-of-type {\n",
       "        vertical-align: middle;\n",
       "    }\n",
       "\n",
       "    .dataframe tbody tr th {\n",
       "        vertical-align: top;\n",
       "    }\n",
       "\n",
       "    .dataframe thead th {\n",
       "        text-align: right;\n",
       "    }\n",
       "</style>\n",
       "<table border=\"1\" class=\"dataframe\">\n",
       "  <thead>\n",
       "    <tr style=\"text-align: right;\">\n",
       "      <th></th>\n",
       "      <th>ValueID</th>\n",
       "      <th>ResultID</th>\n",
       "      <th>DataValue</th>\n",
       "      <th>ValueDateTime</th>\n",
       "      <th>ValueDateTimeUTCOffset</th>\n",
       "    </tr>\n",
       "  </thead>\n",
       "  <tbody>\n",
       "    <tr>\n",
       "      <th>0</th>\n",
       "      <td>2989</td>\n",
       "      <td>2989</td>\n",
       "      <td>6.03</td>\n",
       "      <td>2018-02-26</td>\n",
       "      <td>-5</td>\n",
       "    </tr>\n",
       "    <tr>\n",
       "      <th>1</th>\n",
       "      <td>3476</td>\n",
       "      <td>3476</td>\n",
       "      <td>7.03</td>\n",
       "      <td>2018-02-26</td>\n",
       "      <td>-5</td>\n",
       "    </tr>\n",
       "  </tbody>\n",
       "</table>\n",
       "</div>"
      ],
      "text/plain": [
       "   ValueID  ResultID  DataValue ValueDateTime  ValueDateTimeUTCOffset\n",
       "0     2989      2989       6.03    2018-02-26                      -5\n",
       "1     3476      3476       7.03    2018-02-26                      -5"
      ]
     },
     "execution_count": 44,
     "metadata": {},
     "output_type": "execute_result"
    }
   ],
   "source": [
    "resultValues.head()"
   ]
  },
  {
   "cell_type": "code",
   "execution_count": 45,
   "metadata": {},
   "outputs": [],
   "source": [
    "result_select = results[0]"
   ]
  },
  {
   "cell_type": "code",
   "execution_count": 46,
   "metadata": {},
   "outputs": [
    {
     "data": {
      "image/png": "[encoded data removed]",
      "text/plain": [
       "<Figure size 432x288 with 1 Axes>"
      ]
     },
     "metadata": {
      "needs_background": "light"
     },
     "output_type": "display_data"
    }
   ],
   "source": [
    "# Plot the time sequence of Measurement Result Values \n",
    "ax = resultValues.plot(x='ValueDateTime', y='DataValue', title=relatedSite.SamplingFeatureName,\n",
    "                       kind='line', use_index=True, style='o')\n",
    "ax.set_ylabel(\"{0} ({1})\".format(result_select.VariableObj.VariableNameCV, \n",
    "                                 result_select.UnitsObj.UnitsAbbreviation))\n",
    "ax.set_xlabel('Date/Time')\n",
    "ax.legend().set_visible(False)"
   ]
  },
  {
   "cell_type": "code",
   "execution_count": 47,
   "metadata": {},
   "outputs": [
    {
     "name": "stdout",
     "output_type": "stream",
     "text": [
      "METHOD:  Stagnant pH (Measured using Orion 100-Series pH meter calibrated before each use in pH 4,7. and 10 buffers with automatic temperature control.)\n"
     ]
    }
   ],
   "source": [
    "# results_faam = lambda results, i: results[i].FeatureActionObj.ActionObj.MethodObj\n",
    "method = result_select.FeatureActionObj.ActionObj.MethodObj\n",
    "\n",
    "print(\"METHOD:  {0} ({1})\".format(method.MethodName, method.MethodDescription))"
   ]
  },
  {
   "cell_type": "code",
   "execution_count": null,
   "metadata": {},
   "outputs": [],
   "source": []
  }
 ],
 "metadata": {
  "kernelspec": {
   "display_name": "Python [conda env:odm2client]",
   "language": "python",
   "name": "conda-env-odm2client-py"
  },
  "language_info": {
   "codemirror_mode": {
    "name": "ipython",
    "version": 2
   },
   "file_extension": ".py",
   "mimetype": "text/x-python",
   "name": "python",
   "nbconvert_exporter": "python",
   "pygments_lexer": "ipython2",
   "version": "2.7.15"
  }
 },
 "nbformat": 4,
 "nbformat_minor": 2
}
