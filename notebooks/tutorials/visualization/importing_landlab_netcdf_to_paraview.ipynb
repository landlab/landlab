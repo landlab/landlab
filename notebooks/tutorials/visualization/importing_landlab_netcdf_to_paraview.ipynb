{
 "cells": [
  {
   "cell_type": "markdown",
   "metadata": {},
   "source": [
    "<a href=\"http://landlab.github.io\"><img style=\"float: left\" src=\"../../landlab_header.png\"></a>"
   ]
  },
  {
   "cell_type": "markdown",
   "metadata": {},
   "source": [
    "# Viewing Landlab output in ParaView\n",
    "\n",
    "*(GE Tucker, CU Boulder, June 2023)*"
   ]
  },
  {
   "cell_type": "markdown",
   "metadata": {},
   "source": [
    "<hr>\n",
    "<small>For more Landlab tutorials, click here: <a href=\"https://landlab.readthedocs.io/en/latest/user_guide/tutorials.html\">https://landlab.readthedocs.io/en/latest/user_guide/tutorials.html</a></small>\n",
    "<hr>"
   ]
  },
  {
   "cell_type": "markdown",
   "metadata": {},
   "source": [
    "[ParaView](https://www.paraview.org/) is a powerful open-source visualization engine developed by kitware. It provides fast 3D rendering of surfaces and volumes, and is a great way to inspect output from a Landlab-built model. There are currently two ways to write Landlab grid and field data in a format that ParaView can read. The first, for raster grids, is to use the NetCDF file format. The second, and still under development as of this writing, is to use the Legacy VTK file format, which works for hex grid and in principle other grid types as well. This tutorial covers the first method: writing Landlab output to NetCDF file(s) for input into ParaView. It explains, with a worked example, how to create NetCDF output, how to read this into ParaView, how to convert the flat images into 3D surfaces, how to color them according to different fields, and how to create animations.\n",
    "\n"
   ]
  },
  {
   "cell_type": "markdown",
   "metadata": {},
   "source": [
    "## Creating a Landlab model as an example\n",
    "\n",
    "In the example, we'll create a simple landscape evolution model in which the landscape consists of a layer of soil on top of a layer of rock. Weathering of rock to soil will be calculated using an inverse exponential function, as implemented by the `ExponentialWeatherer` component. Soil creep will be represented with a nonlinear diffusion model, using the `DepthDependentTaylorDiffuser` component (Barnhart et al., 2019). Runoff routing will be modeled with a steepest descent \"D8\" algorithm using the `FlowAccumulator` component (Barnhart et al., 2020). Fluvial erosion, transport, and deposition will be modeled using the `SPACE` component (Shobe et al., 2017). To learn more about the theory, math, and numerics behind these, see the references listed.\n",
    "\n",
    "Begin with some imports:"
   ]
  },
  {
   "cell_type": "code",
   "execution_count": null,
   "metadata": {},
   "outputs": [],
   "source": [
    "import numpy as np\n",
    "\n",
    "from landlab import RasterModelGrid, imshow_grid\n",
    "from landlab.components import (\n",
    "    DepthDependentTaylorDiffuser,\n",
    "    ExponentialWeatherer,\n",
    "    FlowAccumulator,\n",
    "    SpaceLargeScaleEroder,\n",
    ")\n",
    "from landlab.io.netcdf import write_raster_netcdf"
   ]
  },
  {
   "cell_type": "code",
   "execution_count": null,
   "metadata": {},
   "outputs": [],
   "source": [
    "# Parameters\n",
    "nrows = 100  # number of node rows\n",
    "ncols = 160  # number of node columns\n",
    "dx = 10.0  # grid node spacing, m\n",
    "max_soil_prod_rate = 0.001  # maximum soil production rate, m/y\n",
    "soil_prod_decay_depth = 0.5  # decay depth for soil production, m\n",
    "soil_transport_velocity = 0.02  # transport coefficient for soil creep, m/y\n",
    "slope_crit = 1.0  # threshold slope factor for soil cree, -\n",
    "soil_transport_decay_depth = 0.5  # decay depth for transport rate, m\n",
    "nterms = 2  # number of terms for diffusion equation\n",
    "K_sed = 0.001  # erosion coefficient for sediment\n",
    "K_br = 0.0001  # erosion coefficient for rock\n",
    "nsteps = 200  # number of time steps\n",
    "dt = 10.0  # time-step duration, years\n",
    "base_output_name = \"eroding_landscape\"  # base name for output files\n",
    "output_interval = 100.0  # interval for output, y\n",
    "fields_to_output = [\n",
    "    \"topographic__elevation\",\n",
    "    \"soil__depth\",\n",
    "    \"bedrock__elevation\",\n",
    "    \"soil_production__rate\",\n",
    "    \"drainage_area\",\n",
    "    \"surface_water__discharge\",\n",
    "    \"topographic__steepest_slope\",\n",
    "    \"sediment__influx\",\n",
    "    \"sediment__outflux\",\n",
    "]"
   ]
  },
  {
   "cell_type": "code",
   "execution_count": null,
   "metadata": {},
   "outputs": [],
   "source": [
    "# Create the grid\n",
    "grid = RasterModelGrid((nrows, ncols), xy_spacing=dx)\n",
    "\n",
    "# Create input fields\n",
    "elev = grid.add_zeros(\"topographic__elevation\", at=\"node\")\n",
    "soil = grid.add_zeros(\"soil__depth\", at=\"node\")\n",
    "rock = grid.add_zeros(\"bedrock__elevation\", at=\"node\")"
   ]
  },
  {
   "cell_type": "code",
   "execution_count": null,
   "metadata": {},
   "outputs": [],
   "source": [
    "# Instantiate components\n",
    "weatherer = ExponentialWeatherer(grid, max_soil_prod_rate, soil_prod_decay_depth)\n",
    "diffuser = DepthDependentTaylorDiffuser(\n",
    "    grid,\n",
    "    soil_transport_velocity=soil_transport_velocity,\n",
    "    slope_crit=slope_crit,\n",
    "    soil_transport_decay_depth=soil_transport_decay_depth,\n",
    "    nterms=nterms,\n",
    ")\n",
    "router = FlowAccumulator(grid, flow_director=\"FlowDirectorD8\")\n",
    "space = SpaceLargeScaleEroder(grid, K_sed=K_sed, K_br=K_br)"
   ]
  },
  {
   "cell_type": "code",
   "execution_count": null,
   "metadata": {},
   "outputs": [],
   "source": [
    "# Setup initial topography in the fashion of a couple of strath terraces\n",
    "high_terrace = 20.0\n",
    "low_terrace = 10.0\n",
    "elev[:] = high_terrace\n",
    "high_terr_cutout_amp = 380.0\n",
    "high_terr_cutout_pd = 1300.0\n",
    "low_terr_cutout_amp = 90.0\n",
    "low_terr_cutout_pd = 700.0\n",
    "init_soil_high_terr = 2.0\n",
    "init_soil_low_terr = 1.0\n",
    "init_soil_base = 0.5\n",
    "\n",
    "# Make a sinusoidal cutout into the high terrace\n",
    "trace_y = high_terr_cutout_amp * np.sin(\n",
    "    2.0 * np.pi * grid.x_of_node / high_terr_cutout_pd\n",
    ")\n",
    "elev[grid.y_of_node < trace_y] = low_terrace\n",
    "elev[grid.y_of_node > trace_y + 2 * high_terr_cutout_amp] = low_terrace\n",
    "\n",
    "# ...and the low terrace\n",
    "trace_y = low_terr_cutout_amp * np.sin(\n",
    "    2.0 * np.pi * grid.x_of_node / low_terr_cutout_pd\n",
    ")\n",
    "elev[grid.y_of_node < trace_y + low_terr_cutout_amp] = 0.0\n",
    "elev[grid.y_of_node > trace_y + 10 * low_terr_cutout_amp] = 0.0\n",
    "\n",
    "# add some random noise and smooth it with a moving average\n",
    "elev[:] += np.random.rand(grid.number_of_nodes)\n",
    "\n",
    "soil[:] = init_soil_low_terr\n",
    "soil[elev > low_terrace + 1.0] = init_soil_high_terr\n",
    "soil[elev < low_terrace] = init_soil_base\n",
    "rock[:] = elev - soil\n",
    "\n",
    "imshow_grid(grid, elev)"
   ]
  },
  {
   "cell_type": "code",
   "execution_count": null,
   "metadata": {},
   "outputs": [],
   "source": [
    "imshow_grid(grid, soil)"
   ]
  },
  {
   "cell_type": "code",
   "execution_count": null,
   "metadata": {},
   "outputs": [],
   "source": [
    "# Setup for output, and write first file\n",
    "router.run_one_step()  # to generate some flow accumulation for the 0th output\n",
    "weatherer.calc_soil_prod_rate()  # ditto for soil prod rate\n",
    "frame_number = 0\n",
    "write_raster_netcdf(\n",
    "    base_output_name + str(frame_number).zfill(4) + \".nc\",\n",
    "    grid,\n",
    "    names=fields_to_output,\n",
    ")\n",
    "next_output = output_interval"
   ]
  },
  {
   "cell_type": "code",
   "execution_count": null,
   "metadata": {},
   "outputs": [],
   "source": [
    "# Run model\n",
    "for i in range(1, nsteps + 1):\n",
    "    router.run_one_step()\n",
    "    weatherer.calc_soil_prod_rate()\n",
    "    diffuser.run_one_step(dt)\n",
    "    space.run_one_step(dt)\n",
    "    if i * dt >= next_output:\n",
    "        frame_number += 1\n",
    "        write_raster_netcdf(\n",
    "            base_output_name + str(frame_number).zfill(4) + \".nc\",\n",
    "            grid,\n",
    "            names=fields_to_output,\n",
    "        )\n",
    "        next_output += output_interval"
   ]
  },
  {
   "cell_type": "markdown",
   "metadata": {},
   "source": [
    "## Installing ParaView\n",
    "\n",
    "The first step is to download and install the ParaView application from [https://www.paraview.org/download/](https://www.paraview.org/download/)."
   ]
  },
  {
   "cell_type": "markdown",
   "metadata": {},
   "source": [
    "## Reading output files into ParaView\n",
    "\n",
    "1. Open ParaView\n",
    "2. Click the open-file icon in the upper left, or choose File -> Open from the menu bar\n",
    "\n",
    "<div>\n",
    "<img src=\"assets/paraview_open_file.png\" width=\"400\">\n",
    "</div>\n",
    "\n",
    "3. Choose NetCDF Reader\n",
    "\n",
    "<div>\n",
    "<img src=\"assets/paraview_netcdf_reader.png\" width=\"300\">\n",
    "</div>\n",
    "    \n",
    "4. Click the blue Apply button\n",
    "\n",
    "<div>\n",
    "<img src=\"assets/paraview_apply_new_file.png\" width=\"300\">\n",
    "</div>\n",
    "    \n"
   ]
  },
  {
   "cell_type": "markdown",
   "metadata": {},
   "source": [
    "### Inspecting different fields\n",
    "\n",
    "The drop-down menu toward the upper left gives you a list of fields to choose from. Try selecting different ones.\n",
    "\n",
    "<div>\n",
    "    <img src=\"assets/paraview_color_by.png\" width=\"300\">\n",
    "    </div>"
   ]
  },
  {
   "cell_type": "markdown",
   "metadata": {},
   "source": [
    "### Running animations\n",
    "\n",
    "Look for the playback controls at the top of the window. Use the right arrow to play an animation.\n",
    "\n",
    "<div>\n",
    "    <img src=\"assets/paraview_playback_controls.png\" width=\"300\">\n",
    "    </div>"
   ]
  },
  {
   "cell_type": "markdown",
   "metadata": {},
   "source": [
    "### Viewing in 3D\n",
    "\n",
    "So far the images are just that: 2D images. To make the landscape 3D, we have to tell ParaView which field to use for the 3rd dimension, and then \"extrude\" it. The command to do this is actually a plugin \"filter\":\n",
    "\n",
    "1. From the menu bar, select Filters -> Alphabetical -> (scroll waaay down) Warp By Scalar\n",
    "\n",
    "<div>\n",
    "    <img src=\"assets/paraview_filters.png\" width=\"300\">\n",
    "    </div>\n",
    "\n",
    "2. Around the center left of the main window, look for a pop-up menu called \"Scalars\", and select \"topographic__elevation\"\n",
    "\n",
    "<div>\n",
    "    <img src=\"assets/paraview_warp_by_topo.png\" width=\"300\">\n",
    "    </div>\n",
    "\n",
    "3. Click the Apply button. You should notice that the terrain image now has some shading to it.\n",
    "\n",
    "4. To view it in 3D, look for the little button just above the main view panel called \"2D\". Click it and it will switch to saying \"3D\", meaning you are now in 3D view mode.\n",
    "\n",
    "<div>\n",
    "    <img src=\"assets/paraview_view_mode.png\" width=\"300\">\n",
    "    </div>\n",
    "\n",
    "You should now be able to use the mouse to rotate the 3D image and zoom in or out.\n",
    "\n",
    "\n",
    "## Closing thoughts\n",
    "\n",
    "This tutorial just gives a small taste of what's possible using ParaView. Check out their documentation to learn more. And see the upcoming tutorial on using Legacy VTK file output as an alternative way to get Landlab output into ParaView, which also works for Hex grids.\n",
    "\n",
    "## References\n",
    "\n",
    "Barnhart, K. R., Glade, R. C., Shobe, C. M., and Tucker, G. E. (2019) Terrainbento 1.0: a Python package for multi-model analysis in long-term drainage basin evolution. Geosci. Model Dev., v. 12, p. 1267-1297, doi:10.5194/gmd-12-1267-2019.\n",
    "\n",
    "Barnhart, K.R., Hutton, E.W.H., Tucker, G.E., Gasparini, N.M., Istanbulluoglu, E., Hobley, D.E.J., Lyons⁠, N.J., Mouchene, M., Nudurupati, S.S., Adams, J.M., and Bandaragoda, C. (2020) Short communication: Landlab 2.0: A software package for Earth surface dynamics. Earth Surface Dynamics, 8, 379–397, doi:10.5194/esurf-8-379-2020.\n",
    "\n",
    "Shobe, C.M., Tucker, G.E., and Barnhart, K.R. The SPACE 1.0 model: a Landlab component for 2-D calculation of sediment transport, bedrock erosion, and landscape evolution. Geoscientific Model Development, 2017, doi:10.5194/gmd-10-4577-2017. "
   ]
  },
  {
   "cell_type": "markdown",
   "metadata": {},
   "source": [
    "### Click here for more <a href=\"https://landlab.readthedocs.io/en/latest/user_guide/tutorials.html\">Landlab tutorials</a>"
   ]
  }
 ],
 "metadata": {
  "execution": {
   "markers": "slow"
  },
  "kernelspec": {
   "display_name": "Python 3 (ipykernel)",
   "language": "python",
   "name": "python3"
  },
  "language_info": {
   "codemirror_mode": {
    "name": "ipython",
    "version": 3
   },
   "file_extension": ".py",
   "mimetype": "text/x-python",
   "name": "python",
   "nbconvert_exporter": "python",
   "pygments_lexer": "ipython3",
   "version": "3.11.2"
  }
 },
 "nbformat": 4,
 "nbformat_minor": 1
}
