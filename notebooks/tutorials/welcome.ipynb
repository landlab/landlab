{
 "cells": [
  {
   "cell_type": "markdown",
   "metadata": {},
   "source": [
    "<img style=\"float: left; height: 175px; width: 175px\" src=\"landlab_logo_picture.jpg\"> <h3 style=\"margin: 117px 0 0 185px; font-weight: 300;\">a toolkit for modeling earth surface processes</h3>"
   ]
  },
  {
   "cell_type": "markdown",
   "metadata": {},
   "source": [
    "# Welcome to the Landlab Notebooks\n",
    "\n",
    "This page is provides an index to the Landlab Jupyter Notebooks. \n",
    "\n",
    "If you are not certain where to start, consider [the Landlab Syllabus](syllabus.ipynb).\n",
    "\n",
    "## Other useful links\n",
    "- [The Landlab Documentation](https://landlab.readthedocs.io/en/v2_dev/)\n",
    "- [The Landlab code base](https://github.com/landlab/landlab)\n",
    "\n",
    "## Notebooks by topic\n",
    "\n",
    "### Introduction to python\n",
    "- [Introduction to Python and NumPypython](intro/Python_intro.ipynb) *Learn about:* The very basics of Python.\n",
    "\n",
    "### Introduction to Landlab\n",
    "- [Introduction to Landlab: example model of fault-scarp degradation](fault_scarp/landlab-fault-scarp.ipynb) A short overview of some of the things Landlab can do. \n",
    "- [Where to get info about Landlab](where_to_get_info.ipynb) \n",
    "- [Introduction to Landlab: diffusion three ways](diffusion_three_ways.ipynb)\n",
    "- [Introduction to the model grid object](grid_object_demo/grid_object_demo.ipynb) Grid topology; how landlab represents data; connectivity of grid elements.\n",
    "- [Introduction to Landlab data fields](fields/working_with_fields.ipynb) How Landlab stores spatial data on the grid; a little on naming conventions.\n",
    "- [Introduction to plotting output with Landlab](plotting/landlab-plotting.ipynb) The basics of plotting with Landlab; combining matplotlib and out plots; the all-powerful ``imshow_grid()`` function.\n",
    "- [Introduction to using the Landlab component library](component_tutorial/component_tutorial.ipynb) The basics of working with and coupling components, using *diffusion*, *stream power*, and a *storm generator* as examples.\n",
    "- [Using the gradient and flux-divergence functions](gradient_and_divergence/gradient_and_divergence.ipynb) Landlab as solving environment for staggered grid finite difference differential approximations; functions available to help you do this.\n",
    "- [Mapping values from nodes to links](mappers/mappers.ipynb) Options for getting data on links to nodes, nodes to links, etc.; min, max, and mean; upwinding and downwinding schemes; one-to-one, one-to-many, and many-to-one mappings.\n",
    "- Setting boundary conditions on Landlab grids (several tutorials): How Landlab conceptualises boundary conditions; various ways to interact and work with them.\n",
    "  - [Raster perimeter](boundary_conds/set_BCs_on_raster_perimeter.ipynb)\n",
    "  - [Based on Y-Y values](boundary_conds/set_BCs_from_xy.ipynb)\n",
    "  - [Watersheds](boundary_conds/set_watershed_BCs_raster.ipynb)\n",
    "  - [Voronoi](boundary_conds/set_BCs_on_voronoi.ipynb)\n",
    "- [Reading DEMs into Landlab](reading_dem_into_landlab/reading_dem_into_landlab.ipynb) Getting an ARC ESRI ASCII into Landlab; getting the boundary conditions set right.\n",
    "- [How to write a Landlab component](making_components/making_components.ipynb) What makes up a Landlab Component Standard Interface; how to make one for your process model.\n",
    "\n",
    "### Notebooks about components, models, or utilities\n",
    "\n",
    "- Flow Direction and Accumulation \n",
    "  - [Introduction to the FlowDirector Components](flow_direction_and_accumulation/the_FlowDirectors.ipynb)\n",
    "  - [Introduction to the FlowAccumulator Component](flow_direction_and_accumulation/the_FlowAccumulator.ipynb)\n",
    "  - [Comparison of FlowDirector Components](flow_direction_and_accumulation/compare_FlowDirectors.ipynb)\n",
    "- Flexure\n",
    "  - [Introduction](flexure/flexure_1d.ipynb)\n",
    "  - [Multiple loads](flexure/lots_of_loads.ipynb)\n",
    "- [OverlandFlow](overland_flow/overland_flow_driver.ipynb)\n",
    "- [Coupled rainfall runoff model with OverlandFlow](overland_flow/coupled_rainfall_runoff.ipynb)\n",
    "- [Diffusion, stream power, and the storm generator](component_tutorial/component_tutorial.ipynb)\n",
    "- Ecohydrology (these components not yet updated for v2.0)\n",
    "  - [Ecohydrology Model on Flat Domain](ecohydrology/cellular_automaton_vegetation_flat_surface/cellular_automaton_vegetation_flat_domain.ipynb)\n",
    "  - [Ecohydrology Model on Actual Landscape](ecohydrology/cellular_automaton_vegetation_DEM/cellular_automaton_vegetation_DEM.ipynb)\n",
    "- [Spatially variable lithology: Lithology and Litholayers](lithology/lithology_and_litholayers.ipynb)\n",
    "- [NormalFault](normal_fault/normal_fault_component_tutorial.ipynb)\n",
    "- [Flow distance utility](flow__distance_utility/application_of_flow__distance_utility.ipynb)\n",
    "- [TransportLengthHillslopeDiffuser](transport-length_hillslope_diffuser/TLHDiff_tutorial.ipynb)"
   ]
  },
  {
   "cell_type": "code",
   "execution_count": null,
   "metadata": {},
   "outputs": [],
   "source": []
  }
 ],
 "metadata": {
  "kernelspec": {
   "display_name": "Python 3",
   "language": "python",
   "name": "python3"
  },
  "language_info": {
   "codemirror_mode": {
    "name": "ipython",
    "version": 3
   },
   "file_extension": ".py",
   "mimetype": "text/x-python",
   "name": "python",
   "nbconvert_exporter": "python",
   "pygments_lexer": "ipython3",
   "version": "3.7.3"
  }
 },
 "nbformat": 4,
 "nbformat_minor": 2
}
