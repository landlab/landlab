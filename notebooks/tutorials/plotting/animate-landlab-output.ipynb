{
 "cells": [
  {
   "cell_type": "markdown",
   "metadata": {},
   "source": [
    "<a href=\"http://landlab.github.io\"><img style=\"float: left\"\n",
    "src=\"https://raw.githubusercontent.com/landlab/tutorials/release/landlab_header.png\"></a>"
   ]
  },
  {
   "cell_type": "markdown",
   "metadata": {},
   "source": [
    "# Animate Landlab output\n",
    "<hr>\n",
    "\n",
    "<p><small>More Landlab tutorials:\n",
    "<a href=\"https://landlab.readthedocs.io/en/latest/user_guide/tutorials.html\">https://landlab.readthedocs.io/en/latest/user_guide/tutorials.html</a></small></p>\n",
    "\n",
    "<hr>"
   ]
  },
  {
   "cell_type": "markdown",
   "metadata": {},
   "source": [
    "WARNING: This tutorial is not tested. This is because it relys on ffmpeg and imagemagik. \n",
    "\n",
    "It has not been updated to work with Landlab 2.0\n",
    "\n",
    "\n",
    "## Introduction\n",
    "This tutorial presents a workflow to animate model output. The workflow is presented in two phases of a Landlab model.\n",
    "\n",
    "This workflow requires software that might not be installed on your computer. The software is open-source and freely available for Linux, MacOS, and Windows. The following software is required for the model phases of this tutorial:\n",
    "* **Phase 1**: A mp4 video format is produced using FFMpeg (use `conda install ffmpeg`, or the pip equivalent, or visit https://www.ffmpeg.org/download.html).\n",
    "* **Phase 2**: A gif video format is produced using ImageMagick (use `conda install imagemagick`, or the pip equivalent, or visit https://www.imagemagick.org/script/download.php)."
   ]
  },
  {
   "cell_type": "markdown",
   "metadata": {},
   "source": [
    "## Prepare the model for both phases\n",
    "\n",
    "Import the modules called by this tutorial."
   ]
  },
  {
   "cell_type": "code",
   "execution_count": null,
   "metadata": {},
   "outputs": [],
   "source": [
    "from landlab import RasterModelGrid\n",
    "from landlab.components import FastscapeEroder, FlowAccumulator\n",
    "from landlab.plot import channel_profile, imshow_grid\n",
    "from IPython.display import HTML, Image\n",
    "import matplotlib.animation as animation\n",
    "import matplotlib.pylab as plt\n",
    "import numpy as np"
   ]
  },
  {
   "cell_type": "markdown",
   "metadata": {},
   "source": [
    "Create a grid with random elevation, set boundary conditions, and initialize components."
   ]
  },
  {
   "cell_type": "code",
   "execution_count": null,
   "metadata": {},
   "outputs": [],
   "source": [
    "mg = RasterModelGrid((40, 40), 100)\n",
    "z = mg.add_zeros('topographic__elevation', at='node')\n",
    "z += np.random.rand(z.size)\n",
    "\n",
    "outlet_id = int(mg.number_of_node_columns * 0.5)\n",
    "mg.set_watershed_boundary_condition_outlet_id(outlet_id, z)\n",
    "mg.at_node['topographic__elevation'][outlet_id] = 0\n",
    "\n",
    "fr = FlowAccumulator(mg)\n",
    "sp = FastscapeEroder(mg, K_sp=3e-5, m_sp=0.5, n_sp=1)"
   ]
  },
  {
   "cell_type": "markdown",
   "metadata": {},
   "source": [
    "Set model time and uplift parameters."
   ]
  },
  {
   "cell_type": "code",
   "execution_count": null,
   "metadata": {},
   "outputs": [],
   "source": [
    "simulation_duration = 1e6\n",
    "dt = 1000\n",
    "n_timesteps = int(simulation_duration // dt) + 1\n",
    "timesteps = np.linspace(0, simulation_duration, n_timesteps)\n",
    "\n",
    "uplift_rate = 0.001\n",
    "uplift_per_timestep = uplift_rate * dt"
   ]
  },
  {
   "cell_type": "markdown",
   "metadata": {},
   "source": [
    "## Phase 1: Animate elevation change using imshow_grid\n",
    "\n",
    "We first prepare the animation movie file. The model is run and the animation frames are captured together."
   ]
  },
  {
   "cell_type": "code",
   "execution_count": null,
   "metadata": {
    "scrolled": false
   },
   "outputs": [],
   "source": [
    "# Create a matplotlib figure for the animation.\n",
    "fig, ax = plt.subplots(1, 1)\n",
    "\n",
    "# Initiate an animation writer using the matplotlib module, `animation`.\n",
    "# Set up to animate 6 frames per second (fps)\n",
    "writer = animation.FFMpegWriter(fps=6)\n",
    "\n",
    "# Setup the movie file.\n",
    "writer.setup(fig, 'first_phase.mp4')\n",
    "\n",
    "for t in timesteps:\n",
    "    # Uplift and erode.\n",
    "    z[mg.core_nodes] += uplift_per_timestep\n",
    "    fr.run_one_step()\n",
    "    sp.run_one_step(dt)\n",
    "\n",
    "    # Update the figure every 50,000 years.\n",
    "    if t % 5e4 == 0:\n",
    "        imshow_grid(mg, z, colorbar_label='elevation (m)')\n",
    "        plt.title('{:.0f} kiloyears'.format(t * 1e-3))\n",
    "\n",
    "        # Capture the state of `fig`.\n",
    "        writer.grab_frame()\n",
    "\n",
    "        # Remove the colorbar and clear the axis to reset the\n",
    "        # figure for the next animation timestep.\n",
    "        plt.gci().colorbar.remove()\n",
    "        ax.cla()\n",
    "\n",
    "plt.close()"
   ]
  },
  {
   "cell_type": "markdown",
   "metadata": {},
   "source": [
    "### Finish the animation\n",
    "\n",
    "The method, `writer.finish` completes the processing of the movie and saves then it."
   ]
  },
  {
   "cell_type": "code",
   "execution_count": null,
   "metadata": {},
   "outputs": [],
   "source": [
    "writer.finish()"
   ]
  },
  {
   "cell_type": "markdown",
   "metadata": {},
   "source": [
    "This code loads the saved mp4 and presents it in a Jupyter Notebook."
   ]
  },
  {
   "cell_type": "code",
   "execution_count": null,
   "metadata": {},
   "outputs": [],
   "source": [
    "HTML(\"\"\"<div align=\"middle\"> <video width=\"80%\" controls loop>\n",
    "     <source src=\"first_phase.mp4\" type=\"video/mp4\"> </video></div>\"\"\")"
   ]
  },
  {
   "cell_type": "markdown",
   "metadata": {},
   "source": [
    "## Phase 2: Animate multiple visualizations of elevation change over time\n",
    "\n",
    "In the second model phase, we will create an animation similar to the one above, although with the following differences:\n",
    "* The uplift rate is greater.\n",
    "* The animation file format is `gif`.\n",
    "* The figure has two subplots.\n",
    "* The data of one of the subplots is updated rather than recreating the plot from scratch for each frame.\n",
    "* The animation frame rate (fps) is lower."
   ]
  },
  {
   "cell_type": "markdown",
   "metadata": {},
   "source": [
    "Increase uplift rate prior to running the second phase of the model."
   ]
  },
  {
   "cell_type": "code",
   "execution_count": null,
   "metadata": {},
   "outputs": [],
   "source": [
    "increased_uplift_per_timestep = 10 * uplift_per_timestep"
   ]
  },
  {
   "cell_type": "markdown",
   "metadata": {},
   "source": [
    "### Run the second phase of the model\n",
    "\n",
    "Here we layout the figure with a left and right subplot.\n",
    "* The left subplot will be an animation of the grid similar to phase 1. We will recreate the image of this subplot for each animation frame.\n",
    "* The right subplot will be a line plot of the mean elevation over time. We will layout the subplot elements (labels, limits) before running the model, and then extend the plot line at each animation frame.\n",
    "\n",
    "`axes[0]` and `axes[1]` refer to the left and right subplot, respectively.\n",
    "\n",
    "A gif formatted movie is created in this model phase using the software, ImageMagick."
   ]
  },
  {
   "cell_type": "code",
   "execution_count": null,
   "metadata": {},
   "outputs": [],
   "source": [
    "# Create a matplotlib figure for the animation.\n",
    "fig2, axes = plt.subplots(1, 2, figsize=(9, 3))\n",
    "fig2.subplots_adjust(top=0.85, bottom=0.25, wspace=0.4)\n",
    "\n",
    "# Layout right subplot.\n",
    "\n",
    "time = 0\n",
    "\n",
    "line, = axes[1].plot(time, z.mean(), 'k')\n",
    "\n",
    "axes[1].set_title('mean elevation over time')\n",
    "axes[1].set_xlim([0, 1000])\n",
    "axes[1].set_ylim([0, 1000])\n",
    "axes[1].set_xlabel('time (kyr)')\n",
    "axes[1].set_ylabel('elevation (m)')\n",
    "\n",
    "# Initiate a writer and set up a movie file.\n",
    "writer = animation.ImageMagickWriter(fps=2)\n",
    "writer.setup(fig2, 'second_phase.gif')\n",
    "\n",
    "for t in timesteps:\n",
    "    # Uplift and erode.\n",
    "    z[mg.core_nodes] += increased_uplift_per_timestep\n",
    "    fr.run_one_step()\n",
    "    sp.run_one_step(dt)\n",
    "\n",
    "    # Update the figure every 50,000 years.\n",
    "    if t % 5e4 == 0:\n",
    "        fig2.sca(axes[0])\n",
    "        fig2.suptitle('{:.0f} kiloyears'.format(t * 1e-3))\n",
    "\n",
    "        # Plot the left subplot.\n",
    "        axes[0].set_title('topography')\n",
    "        imshow_grid(mg, z, colorbar_label='elevation (m)')\n",
    "        colorbar = plt.gci().colorbar\n",
    "\n",
    "        # Update the right subplot.\n",
    "        line.set_xdata(np.append(line.get_xdata(), t * 1e-3))\n",
    "        line.set_ydata(np.append(line.get_ydata(), z.mean()))\n",
    "\n",
    "        # Capture the state of `fig2`.\n",
    "        writer.grab_frame()\n",
    "\n",
    "        # Reset the figure for the next animation time step.\n",
    "        plt.cla()\n",
    "        colorbar.remove()\n",
    "\n",
    "writer.finish()\n",
    "\n",
    "plt.close()"
   ]
  },
  {
   "cell_type": "markdown",
   "metadata": {},
   "source": [
    "This code loads the saved mp4 and presents it in a Jupyter Notebook."
   ]
  },
  {
   "cell_type": "code",
   "execution_count": null,
   "metadata": {},
   "outputs": [],
   "source": [
    "Image(filename='second_phase.gif')"
   ]
  },
  {
   "cell_type": "markdown",
   "metadata": {},
   "source": [
    "### Click here for more <a href=\"https://landlab.readthedocs.io/en/latest/user_guide/tutorials.html\">Landlab tutorials</a>"
   ]
  }
 ],
 "metadata": {
  "kernelspec": {
   "display_name": "Python 3",
   "language": "python",
   "name": "python3"
  },
  "language_info": {
   "codemirror_mode": {
    "name": "ipython",
    "version": 3
   },
   "file_extension": ".py",
   "mimetype": "text/x-python",
   "name": "python",
   "nbconvert_exporter": "python",
   "pygments_lexer": "ipython3",
   "version": "3.7.3"
  }
 },
 "nbformat": 4,
 "nbformat_minor": 2
}
