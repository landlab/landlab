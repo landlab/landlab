{
 "cells": [
  {
   "cell_type": "markdown",
   "metadata": {},
   "source": [
    "<a href=\"http://landlab.github.io\"><img style=\"float: left\" src=\"../../landlab_header.png\"></a>"
   ]
  },
  {
   "cell_type": "markdown",
   "metadata": {},
   "source": [
    "# Plotting grid data with Landlab"
   ]
  },
  {
   "cell_type": "markdown",
   "metadata": {},
   "source": [
    "<hr>\n",
    "<small>For more Landlab tutorials, click here: <a href=\"https://landlab.readthedocs.io/en/latest/user_guide/tutorials.html\">https://landlab.readthedocs.io/en/latest/user_guide/tutorials.html</a></small>\n",
    "<hr>\n"
   ]
  },
  {
   "cell_type": "markdown",
   "metadata": {},
   "source": [
    "This tutorial illustrates how you can plot spatial data in Landlab, focusing in particular on Landlab's `imshow_grid` plotter and associated functions. Landlab's plotters are built onto the widely used Matplotlib Python package.\n",
    "\n",
    "We start by importing the *NumPy* library, which we'll use in producing some data to plot:"
   ]
  },
  {
   "cell_type": "code",
   "execution_count": null,
   "metadata": {},
   "outputs": [],
   "source": [
    "import numpy as np"
   ]
  },
  {
   "cell_type": "markdown",
   "metadata": {},
   "source": [
    "From Landlab, we'll need a grid on which to plot data, and a plotting function. We'll start with just `imshow_grid`, but be aware that similar but more specifically named functions like `imshow_grid_at_node` are also available. These all wrap the same basic Landlab functionality, so we're taking the most general method. "
   ]
  },
  {
   "cell_type": "code",
   "execution_count": null,
   "metadata": {},
   "outputs": [],
   "source": [
    "from landlab import RasterModelGrid, RadialModelGrid, imshow_grid"
   ]
  },
  {
   "cell_type": "markdown",
   "metadata": {},
   "source": [
    "We'll also need some functions from `matplotlib` proper to help us handle our graphical output:"
   ]
  },
  {
   "cell_type": "code",
   "execution_count": null,
   "metadata": {},
   "outputs": [],
   "source": [
    "from matplotlib.pyplot import title, show, figure, plot, subplot, xlabel, ylabel"
   ]
  },
  {
   "cell_type": "markdown",
   "metadata": {},
   "source": [
    "## Plotting in 2D"
   ]
  },
  {
   "cell_type": "markdown",
   "metadata": {},
   "source": [
    "The `imshow_grid` plotter is Landlab's primary function for plotting data distributed across the grid. It's pretty powerful, and comes with a fairly extensive suite of options to control the appearance of your output. You can see the full list of options in the `imshow_grid` documentation.\n",
    "\n",
    "However, most simply, it just takes `imshow_grid(grid, data)`. Data can be either a field name string, or an array of the data itself."
   ]
  },
  {
   "cell_type": "code",
   "execution_count": null,
   "metadata": {},
   "outputs": [],
   "source": [
    "%matplotlib inline\n",
    "rmg = RasterModelGrid((50, 50), 1.)\n",
    "imshow_grid(rmg, rmg.x_of_node)  # plot the x distances at nodes\n",
    "show()"
   ]
  },
  {
   "cell_type": "markdown",
   "metadata": {},
   "source": [
    "Those units for the axis are taken from the grid property `axis_units`, which is a tuple that we can set. Alternatively, pass a tuple directly to the plotter with the keyword `grid_units`.\n",
    "\n",
    "While we're at it, let's plot from a field instead of an array, and also mix up the default color scheme. The `cmap` keyword can take any input that you could also supply to matplotlib; see, e.g., http://matplotlib.org/examples/color/colormaps_reference.html."
   ]
  },
  {
   "cell_type": "code",
   "execution_count": null,
   "metadata": {},
   "outputs": [],
   "source": [
    "rmg.axis_units = ('km', 'km')\n",
    "_ = rmg.add_field('myfield', (rmg.x_of_node**2 + rmg.y_of_node**2)**0.5,\n",
    "                  at='node', clobber=True)\n",
    "imshow_grid(rmg, 'myfield', cmap='bone')\n",
    "show()"
   ]
  },
  {
   "cell_type": "markdown",
   "metadata": {},
   "source": [
    "The plotter works just fine with both raster grids and irregular grids. Name a plot with the `var_name` keyword."
   ]
  },
  {
   "cell_type": "code",
   "execution_count": null,
   "metadata": {},
   "outputs": [],
   "source": [
    "radmg = RadialModelGrid(n_rings=10, spacing=10.)\n",
    "subplot(121)\n",
    "imshow_grid(rmg, rmg.y_of_node, allow_colorbar=False, plot_name='regular grid')\n",
    "subplot(122)\n",
    "imshow_grid(radmg,\n",
    "            radmg.x_of_node,\n",
    "            allow_colorbar=False,\n",
    "            plot_name='irregular grid')\n",
    "show()"
   ]
  },
  {
   "cell_type": "markdown",
   "metadata": {},
   "source": [
    "Now, let's look at some of the other more advanced options `imshow_grid` can provide.\n",
    "\n",
    "`ishow_grid` offers plenty of keyword options for modifying the colorbar, including `var_name`, `var_units`, `symmetric_cbar`, `vmin`, `vmax`, and `shrink`. We've already seen `allow_colorbar`, which lets you suppress the bar entirely. Let's see some in action."
   ]
  },
  {
   "cell_type": "code",
   "execution_count": null,
   "metadata": {},
   "outputs": [],
   "source": [
    "radz = (radmg.x_of_node**2 + radmg.y_of_node**2)**0.5\n",
    "radz = radz.max() - radz - 0.75 * radz.mean()\n",
    "# let's plot these elevations truncated at radz >= 0\n",
    "imshow_grid(radmg,\n",
    "            radz,\n",
    "            grid_units=('m', 'm'),\n",
    "            vmin=0.,\n",
    "            shrink=0.75,\n",
    "            var_name='radz',\n",
    "            var_units='no units')\n",
    "show()"
   ]
  },
  {
   "cell_type": "markdown",
   "metadata": {},
   "source": [
    "Now let's explore color control. The grid takes the keyword `color_for_background`, which as you'd expect, colors any exposed part of the frame without cells over it. It knows the same color representations as matplotlib, e.g., (0., 0., 0.5), '0.3', 'b', 'yellow'."
   ]
  },
  {
   "cell_type": "code",
   "execution_count": null,
   "metadata": {},
   "outputs": [],
   "source": [
    "imshow_grid(radmg, radmg.y_of_node, color_for_background='0.3')\n",
    "show()"
   ]
  },
  {
   "cell_type": "markdown",
   "metadata": {},
   "source": [
    "The plotter knows about boundary condition status, and we can control the colour of such nodes as well. This is useful if plotting an irregular watershed on a raster, for example. Here, `None` means transparent, as we will see in the next example."
   ]
  },
  {
   "cell_type": "code",
   "execution_count": null,
   "metadata": {},
   "outputs": [],
   "source": [
    "rmg2 = RasterModelGrid((50, 50), (1., 2.))\n",
    "myvals = ((rmg2.x_of_node - 50.)**2 + (rmg2.y_of_node - 25.)**2)**0.5\n",
    "rmg2.status_at_node[myvals > 30.] = rmg2.BC_NODE_IS_CLOSED\n",
    "imshow_grid(rmg2, myvals, color_for_closed='blue', shrink=0.6)"
   ]
  },
  {
   "cell_type": "markdown",
   "metadata": {},
   "source": [
    "Finally, note that the plotter recognises any masked node in a masked array as a closed node. This can be used as a convenient way to make grid overlays, as follows:"
   ]
  },
  {
   "cell_type": "code",
   "execution_count": null,
   "metadata": {},
   "outputs": [],
   "source": [
    "mymask_1stcondition = np.logical_or(rmg.x_of_node < 15, rmg.x_of_node > 35)\n",
    "mymask_2ndcondition = np.logical_or(rmg.y_of_node < 15, rmg.y_of_node > 35)\n",
    "mymask = np.logical_or(mymask_1stcondition, mymask_2ndcondition)\n",
    "overlay_data = np.ma.array(rmg.y_of_node, mask=mymask, copy=False)\n",
    "imshow_grid(rmg, rmg.x_of_node)\n",
    "imshow_grid(rmg, overlay_data, color_for_closed=None, cmap='winter')\n",
    "show()"
   ]
  },
  {
   "cell_type": "markdown",
   "metadata": {},
   "source": [
    "## Plotting in 1D"
   ]
  },
  {
   "cell_type": "markdown",
   "metadata": {},
   "source": [
    "Landlab basically lets you get on with it for yourself if plotting cross sections, or otherwise in 1D. We recommend the basic matplotlib plotting suite. Often `plot()` is totally adequate.\n",
    "\n",
    "For a simple grid cross section, just reshape the data array back to a raster and take a slice:"
   ]
  },
  {
   "cell_type": "code",
   "execution_count": null,
   "metadata": {},
   "outputs": [],
   "source": [
    "# Note, in Landlab 2.0 a new component that will permit profiles based on endpoints\n",
    "# will be added to the component library.\n",
    "\n",
    "mg = RasterModelGrid((30, 30))\n",
    "z = (mg.x_of_node**2 + mg.y_of_node**2)**0.5\n",
    "z = z.max() - z\n",
    "z_raster = z.reshape(mg.shape)\n",
    "x_raster = mg.x_of_node.reshape(mg.shape)\n",
    "for i in range(0, 30, 5):\n",
    "    plot(x_raster[i, :], z_raster[i, :])\n",
    "title('east-west cross sections though z')\n",
    "xlabel('x (m)')\n",
    "ylabel('z (m)')\n",
    "show()"
   ]
  },
  {
   "cell_type": "markdown",
   "metadata": {},
   "source": [
    "Additionally, Landlab makes available a stream profiler tool. It finds the highest drainage area node in a landscape whenever it's called, then follows the drainage structure back upstream from that node, always choosing the upstream node with the highest drainage area. This means we can do things like this:"
   ]
  },
  {
   "cell_type": "code",
   "execution_count": null,
   "metadata": {},
   "outputs": [],
   "source": [
    "from landlab.components import FlowAccumulator, FastscapeEroder, ChannelProfiler\n",
    "\n",
    "mg = RasterModelGrid((100, 100), 1000.)\n",
    "mg.axis_units = ('m', 'm')\n",
    "z = mg.add_zeros('topographic__elevation', at='node')\n",
    "z += np.random.rand(mg.number_of_nodes)  # roughen the initial surface\n",
    "\n",
    "fr = FlowAccumulator(mg)\n",
    "sp = FastscapeEroder(mg, K_sp=1.e-5)\n",
    "dt = 50000.\n",
    "\n",
    "for ndt in range(100):\n",
    "    z[mg.core_nodes] += 10.\n",
    "    fr.run_one_step()\n",
    "    sp.run_one_step(dt)\n",
    "    if ndt % 5 == 0:\n",
    "        print(ndt)\n",
    "\n",
    "prf = ChannelProfiler(mg,\n",
    "                      number_of_watersheds=4,\n",
    "                      main_channel_only=False,\n",
    "                      minimum_channel_threshold=1e7)\n",
    "prf.run_one_step()\n",
    "\n",
    "figure(1)\n",
    "prf.plot_profiles()\n",
    "show()\n",
    "\n",
    "figure(1)\n",
    "prf.plot_profiles_in_map_view()\n",
    "show()"
   ]
  },
  {
   "cell_type": "markdown",
   "metadata": {},
   "source": [
    "### Click here for more <a href=\"https://landlab.readthedocs.io/en/latest/user_guide/tutorials.html\">Landlab tutorials</a>"
   ]
  }
 ],
 "metadata": {
  "kernelspec": {
   "display_name": "Python 3",
   "language": "python",
   "name": "python3"
  },
  "language_info": {
   "codemirror_mode": {
    "name": "ipython",
    "version": 3
   },
   "file_extension": ".py",
   "mimetype": "text/x-python",
   "name": "python",
   "nbconvert_exporter": "python",
   "pygments_lexer": "ipython3",
   "version": "3.7.3"
  }
 },
 "nbformat": 4,
 "nbformat_minor": 1
}
