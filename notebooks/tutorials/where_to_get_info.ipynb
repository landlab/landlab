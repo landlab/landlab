{
 "cells": [
  {
   "cell_type": "markdown",
   "metadata": {},
   "source": [
    "<a href=\"http://landlab.github.io\"><img style=\"float: left\" src=\"../landlab_header.png\"></a>"
   ]
  },
  {
   "cell_type": "markdown",
   "metadata": {},
   "source": [
    "# Where to find information about Landlab\n",
    "\n",
    "The core Landlab development team and community members have worked to create documentation for Landlab. \n",
    "\n",
    "The purpose of this notebook is to point you to the resources avalible regarding Landlab. \n",
    "\n",
    "First, Landlab's documentation is hosted on a ReadTheDocs (RTFD) website. \n",
    "\n",
    "[**The Landlab Documentation**](https://landlab.readthedocs.io/en/latest/)\n",
    "\n",
    "Within it, you will find information about installation, use, and development. Two parts of the documentation to highlight are:\n",
    "\n",
    "   a. The [User Guide](https://landlab.readthedocs.io/en/latest/user_guide/index.html)\n",
    "   \n",
    "   b. [The Reference Manual (API)](https://landlab.readthedocs.io/en/latest/reference/index.html)\n",
    "\n",
    "Second, much of the documentation is accesible to you from the command line (or the jupyter notebook cell) via the `?` operator."
   ]
  },
  {
   "cell_type": "code",
   "execution_count": null,
   "metadata": {},
   "outputs": [],
   "source": [
    "from landlab import RasterModelGrid\n",
    "from landlab.components import LinearDiffuser"
   ]
  },
  {
   "cell_type": "code",
   "execution_count": null,
   "metadata": {},
   "outputs": [],
   "source": [
    "?RasterModelGrid"
   ]
  },
  {
   "cell_type": "markdown",
   "metadata": {},
   "source": [
    "If you look at the RTFD section on [RasterModelGrid](https://landlab.readthedocs.io/en/latest/reference/grid/raster_api.html#module-landlab.grid.raster) you'll notice that it contains the same information. \n",
    "\n",
    "Now try the LinearDiffuser."
   ]
  },
  {
   "cell_type": "code",
   "execution_count": null,
   "metadata": {},
   "outputs": [],
   "source": [
    "?LinearDiffuser"
   ]
  },
  {
   "cell_type": "markdown",
   "metadata": {},
   "source": [
    "Note also that the `?` works for attributes of classes (assuming they have some documentation)."
   ]
  },
  {
   "cell_type": "code",
   "execution_count": null,
   "metadata": {},
   "outputs": [],
   "source": [
    "grid = RasterModelGrid((10, 10), xy_spacing=(3, 4))\n",
    "?grid.add_ones"
   ]
  },
  {
   "cell_type": "markdown",
   "metadata": {},
   "source": [
    "A good python trick is to type the name of a class, then a `.`, and press tab. In most computation environments this will show you a list of all the functions or attributes avaliable. \n",
    "\n",
    "Try it below with `grid`. "
   ]
  },
  {
   "cell_type": "code",
   "execution_count": null,
   "metadata": {},
   "outputs": [],
   "source": []
  }
 ],
 "metadata": {
  "kernelspec": {
   "display_name": "Python 3",
   "language": "python",
   "name": "python3"
  },
  "language_info": {
   "codemirror_mode": {
    "name": "ipython",
    "version": 3
   },
   "file_extension": ".py",
   "mimetype": "text/x-python",
   "name": "python",
   "nbconvert_exporter": "python",
   "pygments_lexer": "ipython3",
   "version": "3.8.0"
  }
 },
 "nbformat": 4,
 "nbformat_minor": 2
}
