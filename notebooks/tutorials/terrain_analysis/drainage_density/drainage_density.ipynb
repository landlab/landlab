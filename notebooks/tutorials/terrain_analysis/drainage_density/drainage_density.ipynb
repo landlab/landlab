{
 "cells": [
  {
   "cell_type": "markdown",
   "metadata": {},
   "source": [
    "<a href=\"http://landlab.github.io\"><img style=\"float: left\" src=\"../../../landlab_header.png\"></a>"
   ]
  },
  {
   "cell_type": "markdown",
   "metadata": {},
   "source": [
    "# Using the DrainageDensity Component\n",
    "\n",
    "\n",
    "## Overview\n",
    "\n",
    "Drainage density is defined as the total map-view length of stream channels, $\\Lambda$, within a region with map-view surface area $A$, divided by that area:\n",
    "\n",
    "$$D_d = \\Lambda / A$$\n",
    "\n",
    "The measure has dimensions of inverse length. The traditional method for measuring drainage density was to measure $\\Lambda$ on a paper map by tracing out each stream. An alternative method, which lends itself to automated calculation from digital elevation models (DEMs), is to derive drainage density from a digital map that depicts the flow-path distance from each grid node to the nearest channel node, $L$ ([Tucker et al., 2001](https://doi.org/10.1016/S0169-555X(00)00056-8)). If the average flow-path distance to channels is $\\overline{L}$, then the corresponding average drainage density is:\n",
    "\n",
    "$$D_d = \\frac{1}{2\\overline{L}}$$\n",
    "\n",
    "An advantage of this alternative approach is that $L$ can be mapped and analyzed statistically to reveal spatial variations, correlations with other geospatial attributes, and so on.\n",
    "\n",
    "The `DrainageDensity` component is designed to calculate $L$, and then derive $D_d$ from it using the second equation above. Given a grid with drainage directions and drainage area, along with either a grid of channel locations or a threshold from which to generate channel locations, `DrainageDensity` component calculates the flow-path distance to the nearest channel node for each node in the grid. The values of $L$ are stored in a new at-node field called `surface_to_channel__minimum_distance`.\n",
    "\n",
    "The component assumes that drainage directions and drainage area have already been calculated and the results stored in the following node fields:\n",
    "\n",
    "- `flow__receiver_node`: ID of the neighboring node to which each node sends flow (its \"receiver\")\n",
    "- `flow__link_to_receiver_node`: ID of the link along which each node sends flow to its receiver\n",
    "- `flow__upstream_node_order`: downstream-to-upstream ordered array of node IDs\n",
    "- `topographic__steepest_slope`: gradient from each node to its receiver\n",
    "\n",
    "The `FlowAccumulator` generates all four of these fields, and should normally be run before `DrainageDensity`.\n",
    "\n",
    "## Identifying channels\n",
    "\n",
    "The `DrainageDensity` component is NOT very sophisticated about identifying channels. There are (currently) two options for handling channel identification:\n",
    "\n",
    "1. specify the parameters of an area-slope channelization threshold, or\n",
    "2. map the channels separately, and pass the result to `DrainageDensity` as a \"channel mask\" array\n",
    "\n",
    "### Area-slope channel threshold\n",
    "\n",
    "This option identifies a channel as occurring at any grid node where the actual drainage area, represented by the field `drainage_area`, exceeds a threshold, $T_c$:\n",
    "\n",
    "$$C_A A^{m_r} C_s S^{n_r} > T_c$$\n",
    "\n",
    "Here $A$ is `drainage_area`, $S$ is `topographic__steepest_slope`, and $C_A$, $C_s$, $m_r$, and $n_r$ are parameters. For example, to create a channel mask in which nodes with a drainage area greater than $10^5$ m$^2$ are identified as channels, the `DrainageDensity` component would be initialized as:\n",
    "\n",
    "```\n",
    "dd = DrainageDensity(grid,\n",
    "                     area_coefficient=1.0,\n",
    "                     slope_coefficient=1.0,\n",
    "                     area_exponent=1.0,\n",
    "                     slope_exponent=0.0,\n",
    "                     channelization_threshold=1.0e5)\n",
    "```\n",
    "\n",
    "### Channel mask\n",
    "\n",
    "This option involves creating a number-of-nodes-long array, of type `np.uint8`, containing a 1 for channel nodes and a 0 for others.\n"
   ]
  },
  {
   "cell_type": "markdown",
   "metadata": {},
   "source": [
    "## Imports and inline docs\n",
    "\n",
    "First, import what we'll need:"
   ]
  },
  {
   "cell_type": "code",
   "execution_count": null,
   "metadata": {},
   "outputs": [],
   "source": [
    "import copy\n",
    "import numpy as np\n",
    "import matplotlib as mpl\n",
    "from landlab import RasterModelGrid, imshow_grid\n",
    "from landlab.io import read_esri_ascii\n",
    "from landlab.components import FlowAccumulator, DrainageDensity"
   ]
  },
  {
   "cell_type": "markdown",
   "metadata": {},
   "source": [
    "The docstring describes the component and provides some simple examples:"
   ]
  },
  {
   "cell_type": "code",
   "execution_count": null,
   "metadata": {},
   "outputs": [],
   "source": [
    "print(DrainageDensity.__doc__)"
   ]
  },
  {
   "cell_type": "markdown",
   "metadata": {},
   "source": [
    "The `__init__` docstring lists the parameters:"
   ]
  },
  {
   "cell_type": "code",
   "execution_count": null,
   "metadata": {},
   "outputs": [],
   "source": [
    "print(DrainageDensity.__init__.__doc__)"
   ]
  },
  {
   "cell_type": "markdown",
   "metadata": {},
   "source": [
    "## Example 1: channelization threshold\n",
    "\n",
    "In this example, we read in a small digital elevation model (DEM) from NASADEM for an area on the Colorado high plains (USA) that includes a portion of an escarpment along the west side of a drainage known as West Bijou Creek (see Rengers & Tucker, 2014).\n",
    "\n",
    "The DEM file is in ESRI Ascii format, but is in a geographic projection, with horizontal units of decimal degrees. To calculate slope gradients properly, we'll first read the DEM into a Landlab grid object that has this geographic projection. Then we'll create a second grid with 30 m cell spacing (approximately equal to the NASADEM's resolution), and copy the elevation field from the geographic DEM. This isn't a proper projection of course, but it will do for purposes of this example."
   ]
  },
  {
   "cell_type": "code",
   "execution_count": null,
   "metadata": {},
   "outputs": [],
   "source": [
    "# read the DEM\n",
    "(grid_geog, elev) = read_esri_ascii(\"west_bijou_escarpment_snippet.asc\")\n",
    "grid = RasterModelGrid(\n",
    "    (grid_geog.number_of_node_rows, grid_geog.number_of_node_columns), xy_spacing=30.0\n",
    ")\n",
    "grid.add_field(\"topographic__elevation\", elev, at=\"node\")"
   ]
  },
  {
   "cell_type": "code",
   "execution_count": null,
   "metadata": {},
   "outputs": [],
   "source": [
    "cmap = copy.copy(mpl.cm.get_cmap(\"pink\"))\n",
    "imshow_grid(grid, elev, cmap=cmap, colorbar_label=\"Elevation (m)\")"
   ]
  },
  {
   "cell_type": "markdown",
   "metadata": {},
   "source": [
    "To use `DrainageDensity`, we need to have drainage directions and areas pre-calculated. We'll do that with the `FlowAccumulator` component. We'll have the component do D8 flow routing (each DEM cell drains to whichever of its 8 neighbors lies in the steepest downslope direction), and fill pits (depressions in the DEM that would otherwise block the flow) using the `LakeMapperBarnes` component. The latter two arguments below tell the lake mapper to update the flow directions and drainage areas after filling the pits."
   ]
  },
  {
   "cell_type": "code",
   "execution_count": null,
   "metadata": {},
   "outputs": [],
   "source": [
    "fa = FlowAccumulator(\n",
    "    grid,\n",
    "    flow_director=\"FlowDirectorD8\",  # use D8 routing\n",
    "    depression_finder=\"LakeMapperBarnes\",  # pit filler\n",
    "    method=\"D8\",  # pit filler use D8 too\n",
    "    redirect_flow_steepest_descent=True,  # re-calculate flow dirs\n",
    "    reaccumulate_flow=True,  # re-calculate drainagea area\n",
    ")\n",
    "fa.run_one_step()  # run the flow accumulator\n",
    "cmap = copy.copy(mpl.cm.get_cmap(\"Blues\"))\n",
    "imshow_grid(\n",
    "    grid,\n",
    "    np.log10(grid.at_node[\"drainage_area\"] + 1.0),  # sq root helps show drainage\n",
    "    cmap=cmap,\n",
    "    colorbar_label=\"Log10(drainage area (m2))\",\n",
    ")"
   ]
  },
  {
   "cell_type": "markdown",
   "metadata": {},
   "source": [
    "Now run `DrainageDensity` and display the map of $L$ values:"
   ]
  },
  {
   "cell_type": "code",
   "execution_count": null,
   "metadata": {},
   "outputs": [],
   "source": [
    "dd = DrainageDensity(\n",
    "    grid,\n",
    "    area_coefficient=1.0,\n",
    "    slope_coefficient=1.0,\n",
    "    area_exponent=1.0,\n",
    "    slope_exponent=0.0,\n",
    "    channelization_threshold=2.0e4,\n",
    ")\n",
    "ddens = dd.calculate_drainage_density()\n",
    "imshow_grid(\n",
    "    grid,\n",
    "    grid.at_node[\"surface_to_channel__minimum_distance\"],\n",
    "    cmap=\"viridis\",\n",
    "    colorbar_label=\"Distance to channel (m)\",\n",
    ")\n",
    "print(\"Drainage density = \" + str(ddens) + \" m/m2\")"
   ]
  },
  {
   "cell_type": "markdown",
   "metadata": {},
   "source": [
    "Display the channel mask:"
   ]
  },
  {
   "cell_type": "code",
   "execution_count": null,
   "metadata": {},
   "outputs": [],
   "source": [
    "imshow_grid(\n",
    "    grid,\n",
    "    grid.at_node[\"channel__mask\"],\n",
    "    colorbar_label=\"Channel present (1 = yes)\",\n",
    ")"
   ]
  },
  {
   "cell_type": "markdown",
   "metadata": {},
   "source": [
    "## Example 2: calculating from an independently derived channel mask\n",
    "\n",
    "This example demonstrates how to run the component with an independently derived channel mask. For the sake of illustration, we will just use the channel mask from the previous example, in which case the $L$ field should look identical."
   ]
  },
  {
   "cell_type": "code",
   "execution_count": null,
   "metadata": {},
   "outputs": [],
   "source": [
    "# make a copy of the mask from the previous example\n",
    "chanmask = grid.at_node[\"channel__mask\"].copy()\n",
    "\n",
    "# re-make the grid (this will remove all the previously created fields)\n",
    "grid = RasterModelGrid(\n",
    "    (grid_geog.number_of_node_rows, grid_geog.number_of_node_columns), xy_spacing=30.0\n",
    ")\n",
    "grid.add_field(\"topographic__elevation\", elev, at=\"node\")"
   ]
  },
  {
   "cell_type": "code",
   "execution_count": null,
   "metadata": {},
   "outputs": [],
   "source": [
    "# instatiated and run flow accumulator\n",
    "fa = FlowAccumulator(\n",
    "    grid,\n",
    "    flow_director=\"FlowDirectorD8\",  # use D8 routing\n",
    "    depression_finder=\"LakeMapperBarnes\",  # pit filler\n",
    "    method=\"D8\",  # pit filler use D8 too\n",
    "    redirect_flow_steepest_descent=True,  # re-calculate flow dirs\n",
    "    reaccumulate_flow=True,  # re-calculate drainagea area\n",
    ")\n",
    "fa.run_one_step()  # run the flow accumulator\n",
    "\n",
    "# instantiate and run DrainageDensity component\n",
    "dd = DrainageDensity(grid, channel__mask=chanmask)\n",
    "ddens = dd.calculate_drainage_density()\n",
    "\n",
    "# display distance-to-channel\n",
    "imshow_grid(\n",
    "    grid,\n",
    "    grid.at_node[\"surface_to_channel__minimum_distance\"],\n",
    "    cmap=\"viridis\",\n",
    "    colorbar_label=\"Distance to channel (m)\",\n",
    ")\n",
    "print(\"Drainage density = \" + str(ddens) + \" m/m2\")"
   ]
  },
  {
   "cell_type": "markdown",
   "metadata": {},
   "source": [
    "## References\n",
    "\n",
    "Rengers, F. K., & Tucker, G. E. (2014). Analysis and modeling of gully headcut dynamics, North American high plains. Journal of Geophysical Research: Earth Surface, 119(5), 983-1003. https://doi.org/10.1002/2013JF002962\n",
    "\n",
    "Tucker, G. E., Catani, F., Rinaldo, A., & Bras, R. L. (2001). Statistical analysis of drainage density from digital terrain data. Geomorphology, 36(3-4), 187-202, [https://doi.org/10.1016/S0169-555X(00)00056-8](https://doi.org/10.1016/S0169-555X(00)00056-8)."
   ]
  },
  {
   "cell_type": "markdown",
   "metadata": {},
   "source": [
    "For more Landlab tutorials, click here: https://landlab.readthedocs.io/en/latest/user_guide/tutorials.html"
   ]
  }
 ],
 "metadata": {
  "kernelspec": {
   "display_name": "Python 3",
   "language": "python",
   "name": "python3"
  },
  "language_info": {
   "codemirror_mode": {
    "name": "ipython",
    "version": 3
   },
   "file_extension": ".py",
   "mimetype": "text/x-python",
   "name": "python",
   "nbconvert_exporter": "python",
   "pygments_lexer": "ipython3",
   "version": "3.8.8"
  }
 },
 "nbformat": 4,
 "nbformat_minor": 4
}
