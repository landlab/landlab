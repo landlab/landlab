{
 "cells": [
  {
   "cell_type": "markdown",
   "metadata": {},
   "source": [
    "<a href=\"http://landlab.github.io\"><img style=\"float: left\" src=\"../../../landlab_header.png\"></a>"
   ]
  },
  {
   "cell_type": "markdown",
   "metadata": {},
   "source": [
    "# Using the ChiFinder Component\n",
    "\n",
    "The `ChiFinder` component creates a map of the $\\chi$ drainage network index from a digital elevation model. The $\\chi$ index, described by Perron and Royden (2013), is a function of drainage area, $A$, and elevation, $\\eta$:\n",
    "\n",
    "$$\\chi = \\int\\limits_{x_b}^{x} \\left(\\frac{A_0}{A(x)}\\right)^\\theta dx$$\n",
    "\n",
    "where $x_b$ is the location of the outlet of a watershed of interest, $x$ is a position on a channel somewhere upstream, $A_0$ is a drainage area scale, and $\\theta$ is the concavity index parameter, often taken to be $\\approx$0.5.\n",
    "\n",
    "This tutorial shows briefly how to use the `ChiFinder` on natural or synthetic data."
   ]
  },
  {
   "cell_type": "markdown",
   "metadata": {},
   "source": [
    "## Imports and inline docs\n",
    "\n",
    "First, import what we'll need:"
   ]
  },
  {
   "cell_type": "code",
   "execution_count": null,
   "metadata": {},
   "outputs": [],
   "source": [
    "import copy\n",
    "import numpy as np\n",
    "import matplotlib as mpl\n",
    "from landlab import RasterModelGrid, imshow_grid\n",
    "from landlab.io import read_esri_ascii\n",
    "from landlab.components import FlowAccumulator, ChiFinder"
   ]
  },
  {
   "cell_type": "markdown",
   "metadata": {},
   "source": [
    "The docstring describes the component and provides some simple examples:"
   ]
  },
  {
   "cell_type": "code",
   "execution_count": null,
   "metadata": {},
   "outputs": [],
   "source": [
    "print(ChiFinder.__doc__)"
   ]
  },
  {
   "cell_type": "markdown",
   "metadata": {},
   "source": [
    "## Example\n",
    "\n",
    "In this example, we read in a small digital elevation model (DEM) from NASADEM for an area on the Colorado high plains (USA) that includes a portion of an escarpment along the west side of a drainage known as West Bijou Creek (see Rengers & Tucker, 2014).\n",
    "\n",
    "The DEM file is in ESRI Ascii format, but is in a geographic projection, with horizontal units of decimal degrees. To calculate slope gradients properly, we'll first read the DEM into a Landlab grid object that has this geographic projec. Then we'll create a second grid with 30 m cell spacing (approximately equal to the NASADEM's resolution), and copy the elevation field from the geographic DEM. This isn't a proper projection of course, but it will do for purposes of this example."
   ]
  },
  {
   "cell_type": "code",
   "execution_count": null,
   "metadata": {},
   "outputs": [],
   "source": [
    "# read the DEM\n",
    "(grid_geog, elev) = read_esri_ascii(\"west_bijou_escarpment_snippet.asc\")\n",
    "grid = RasterModelGrid(\n",
    "    (grid_geog.number_of_node_rows, grid_geog.number_of_node_columns), xy_spacing=30.0\n",
    ")\n",
    "grid.add_field(\"topographic__elevation\", elev, at=\"node\")"
   ]
  },
  {
   "cell_type": "code",
   "execution_count": null,
   "metadata": {},
   "outputs": [],
   "source": [
    "cmap = copy.copy(mpl.cm.get_cmap(\"pink\"))\n",
    "imshow_grid(grid, elev, cmap=cmap, colorbar_label=\"Elevation (m)\")"
   ]
  },
  {
   "cell_type": "markdown",
   "metadata": {},
   "source": [
    "The `ChiFinder` needs to have drainage areas pre-calculated. We'll do that with the `FlowAccumulator` component. We'll have the component do D8 flow routing (each DEM cell drains to whichever of its 8 neighbors lies in the steepest downslope direction), and fill pits (depressions in the DEM that would otherwise block the flow) using the `LakeMapperBarnes` component. The latter two arguments below tell the lake mapper to update the flow directions and drainage areas after filling the pits."
   ]
  },
  {
   "cell_type": "code",
   "execution_count": null,
   "metadata": {},
   "outputs": [],
   "source": [
    "fa = FlowAccumulator(\n",
    "    grid,\n",
    "    flow_director=\"FlowDirectorD8\",  # use D8 routing\n",
    "    depression_finder=\"LakeMapperBarnes\",  # pit filler\n",
    "    method=\"D8\",  # pit filler use D8 too\n",
    "    redirect_flow_steepest_descent=True,  # re-calculate flow dirs\n",
    "    reaccumulate_flow=True,  # re-calculate drainagea area\n",
    ")\n",
    "fa.run_one_step()  # run the flow accumulator\n",
    "cmap = copy.copy(mpl.cm.get_cmap(\"Blues\"))\n",
    "imshow_grid(\n",
    "    grid,\n",
    "    np.log10(grid.at_node[\"drainage_area\"] + 1.0),  # sq root helps show drainage\n",
    "    cmap=cmap,\n",
    "    colorbar_label=\"Log10(drainage area (m2))\",\n",
    ")"
   ]
  },
  {
   "cell_type": "markdown",
   "metadata": {},
   "source": [
    "Now run the `ChiFinder` and display the map of $\\chi$ values:"
   ]
  },
  {
   "cell_type": "code",
   "execution_count": null,
   "metadata": {},
   "outputs": [],
   "source": [
    "cf = ChiFinder(\n",
    "    grid,\n",
    "    reference_concavity=0.5,\n",
    "    min_drainage_area=1.0,\n",
    "    clobber=True,\n",
    ")\n",
    "cf.calculate_chi()\n",
    "cmap = copy.copy(mpl.cm.get_cmap(\"viridis\"))\n",
    "imshow_grid(\n",
    "    grid,\n",
    "    grid.at_node[\"channel__chi_index\"],\n",
    "    cmap=cmap,\n",
    "    colorbar_label=\"Chi index\",\n",
    ")"
   ]
  },
  {
   "cell_type": "markdown",
   "metadata": {},
   "source": [
    "## References\n",
    "\n",
    "Perron, J., Royden, L. (2012). An integral approach to bedrock river\n",
    "profile analysis Earth Surface Processes and Landforms  38(6), 570-576. https://dx.doi.org/10.1002/esp.3302\n",
    "    \n",
    "Rengers, F. K., & Tucker, G. E. (2014). Analysis and modeling of gully headcut dynamics, North American high plains. Journal of Geophysical Research: Earth Surface, 119(5), 983-1003. https://doi.org/10.1002/2013JF002962"
   ]
  },
  {
   "cell_type": "markdown",
   "metadata": {},
   "source": [
    "For more Landlab tutorials, click here: https://landlab.readthedocs.io/en/latest/user_guide/tutorials.html"
   ]
  }
 ],
 "metadata": {
  "kernelspec": {
   "display_name": "Python 3",
   "language": "python",
   "name": "python3"
  },
  "language_info": {
   "codemirror_mode": {
    "name": "ipython",
    "version": 3
   },
   "file_extension": ".py",
   "mimetype": "text/x-python",
   "name": "python",
   "nbconvert_exporter": "python",
   "pygments_lexer": "ipython3",
   "version": "3.8.8"
  }
 },
 "nbformat": 4,
 "nbformat_minor": 4
}
