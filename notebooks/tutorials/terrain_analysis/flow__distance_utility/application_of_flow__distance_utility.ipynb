{
 "cells": [
  {
   "cell_type": "markdown",
   "metadata": {},
   "source": [
    "<a href=\"http://landlab.github.io\"><img style=\"float: left\" src=\"../../../landlab_header.png\"></a>"
   ]
  },
  {
   "cell_type": "markdown",
   "metadata": {},
   "source": [
    "For more Landlab tutorials, click here: https://landlab.readthedocs.io/en/latest/user_guide/tutorials.html"
   ]
  },
  {
   "cell_type": "markdown",
   "metadata": {},
   "source": [
    "**Application of the flow__distance utility on a Sicilian basin**"
   ]
  },
  {
   "cell_type": "markdown",
   "metadata": {},
   "source": [
    "This notebook illustrates how to run the ``flow__distance`` utility on a digital elevation model (DEM) that represents a real basin in Sicily. First, a watershed will be extracted from the input DEM by using the watershed utility. Then, the distances from each node to the watershed's outlet will be obtained with the ``flow__distance`` utility. Flow is routed using the D8 algorithm."
   ]
  },
  {
   "cell_type": "markdown",
   "metadata": {},
   "source": [
    "First, import what we'll need:"
   ]
  },
  {
   "cell_type": "code",
   "execution_count": null,
   "metadata": {},
   "outputs": [],
   "source": [
    "import matplotlib.pyplot as plt\n",
    "import numpy as np\n",
    "\n",
    "from landlab.components import FlowAccumulator\n",
    "from landlab.io import esri_ascii\n",
    "from landlab.utils import watershed\n",
    "from landlab.utils.flow__distance import calculate_flow__distance"
   ]
  },
  {
   "cell_type": "markdown",
   "metadata": {},
   "source": [
    "Import a square DEM that includes the watershed:"
   ]
  },
  {
   "cell_type": "code",
   "execution_count": null,
   "metadata": {},
   "outputs": [],
   "source": [
    "with open(\"nocella_resampled.txt\") as fp:\n",
    "    mg = esri_ascii.load(fp, name=\"topographic__elevation\", at=\"node\")"
   ]
  },
  {
   "cell_type": "markdown",
   "metadata": {},
   "source": [
    "Run the FlowAccumulator and the DepressionFinderAndRouter components to find depressions, to route the flow across them and to calculate flow direction and drainage area:"
   ]
  },
  {
   "cell_type": "code",
   "execution_count": null,
   "metadata": {},
   "outputs": [],
   "source": [
    "fr = FlowAccumulator(\n",
    "    mg, flow_director=\"D8\", depression_finder=\"DepressionFinderAndRouter\"\n",
    ")\n",
    "fr.run_one_step()"
   ]
  },
  {
   "cell_type": "markdown",
   "metadata": {},
   "source": [
    "Set the id of the outlet. The value indicated here is the node id of the entire watershed's outlet:"
   ]
  },
  {
   "cell_type": "code",
   "execution_count": null,
   "metadata": {},
   "outputs": [],
   "source": [
    "outlet_node = 15324"
   ]
  },
  {
   "cell_type": "markdown",
   "metadata": {},
   "source": [
    "Run the watershed utility and show the watershed mask:"
   ]
  },
  {
   "cell_type": "code",
   "execution_count": null,
   "metadata": {},
   "outputs": [],
   "source": [
    "ws_mask = watershed.get_watershed_mask(mg, outlet_node)\n",
    "mg.imshow(ws_mask, allow_colorbar=False)\n",
    "plt.plot(mg.x_of_node[outlet_node], mg.y_of_node[outlet_node], \"*\", markersize=20)"
   ]
  },
  {
   "cell_type": "markdown",
   "metadata": {},
   "source": [
    "Run the ``flow__distance`` utility:"
   ]
  },
  {
   "cell_type": "code",
   "execution_count": null,
   "metadata": {},
   "outputs": [],
   "source": [
    "flow_distance = calculate_flow__distance(mg, add_to_grid=True, clobber=True)"
   ]
  },
  {
   "cell_type": "markdown",
   "metadata": {},
   "source": [
    "Mask the ``flow__distance`` to the watershed mask. This operation has to be done because the ``flow__distance`` utility is applied to the entire grid that contains other streams not connected with our stream network and, for this reason, not belonging to our watershed."
   ]
  },
  {
   "cell_type": "code",
   "execution_count": null,
   "metadata": {},
   "outputs": [],
   "source": [
    "flow_distance_to_outlet = np.zeros(mg.number_of_nodes)\n",
    "flow_distance_to_outlet[ws_mask] = flow_distance[ws_mask] - flow_distance[outlet_node]"
   ]
  },
  {
   "cell_type": "markdown",
   "metadata": {},
   "source": [
    "Plot the spatial distribution of the distances from each node to the watershed's outlet:"
   ]
  },
  {
   "cell_type": "code",
   "execution_count": null,
   "metadata": {},
   "outputs": [],
   "source": [
    "mg.imshow(flow_distance_to_outlet, colorbar_label=\"flow distance (m)\")\n",
    "plt.plot(mg.x_of_node[outlet_node], mg.y_of_node[outlet_node], \"*\", markersize=20)"
   ]
  }
 ],
 "metadata": {
  "kernelspec": {
   "display_name": "Python 3 (ipykernel)",
   "language": "python",
   "name": "python3"
  },
  "language_info": {
   "codemirror_mode": {
    "name": "ipython",
    "version": 3
   },
   "file_extension": ".py",
   "mimetype": "text/x-python",
   "name": "python",
   "nbconvert_exporter": "python",
   "pygments_lexer": "ipython3",
   "version": "3.12.0"
  }
 },
 "nbformat": 4,
 "nbformat_minor": 4
}
