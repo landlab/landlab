{
 "cells": [
  {
   "cell_type": "markdown",
   "metadata": {},
   "source": [
    "<a href=\"http://landlab.github.io\"><img style=\"float: left\" src=\"../../landlab_header.png\"></a>"
   ]
  },
  {
   "cell_type": "markdown",
   "metadata": {},
   "source": [
    "# The Carbonate Producer component"
   ]
  },
  {
   "cell_type": "markdown",
   "metadata": {},
   "source": [
    "<hr>\n",
    "<small>For more Landlab tutorials, click here: <a href=\"https://landlab.readthedocs.io/en/latest/user_guide/tutorials.html\">https://landlab.readthedocs.io/en/latest/user_guide/tutorials.html</a></small>\n",
    "<hr>"
   ]
  },
  {
   "cell_type": "markdown",
   "metadata": {},
   "source": [
    "## Overview\n",
    "\n",
    "This notebook demonstrates the `CarbonateProducer` Landlab component. The component computes the creation of carbonate rocks, such as carbonate platforms and coral reefs, given a particular bathymetry. The component can be used either to calculate the rate of carbonate production (in terms of a vertical deposition rate), or to progressively add to a field representing carbonate thickness. The model does not distinguish among different types of carbonate material, or species of carbonate-producing organism.\n",
    "\n",
    "### Theory\n",
    "\n",
    "#### Carbonate production rate\n",
    "\n",
    "The `CarbonateProducer` uses the mathematical model of Bosscher and Schlager (1992), which represents the local carbonate growth rate, $G(x,y,t)$ (thickness per time) as a function of local water depth. The carbonate production rate is calculated as\n",
    "\n",
    "$$G(x,y,t) = G_m \\tanh \\left( I_0 e^{-kd} / I_k \\right)$$\n",
    "\n",
    "where:\n",
    "\n",
    "- $G_m$ is the maximum production rate\n",
    "- $I_0$ is the surface light intensity\n",
    "- $I_k$ is the saturating light intensity\n",
    "- $d$ is water depth\n",
    "- $k$ is the light extinction coefficient\n",
    "\n",
    "By default the production rate is zero where $d<0$, but as noted below the user can invoke an option that allows for carbonate production within the tidal range.\n",
    "\n",
    "Bosscher and Schlager (1992) suggest plausible values or ranges for these parameters as follows: $G_m$ = 0.010 to 0.015 m/y, $I_0$ = 2,000 to 2,250 micro Einsteins per square meter per second in the tropics, $I_k$ = 50 to 450 micro Einsteins per square meter per second, and $k$ = 0.04 to 0.16 m$^{-1}$ (corresponding to a decay depth of 6.25 to 16 m).\n",
    "\n",
    "#### Smoothing near sea level using tidal range\n",
    "\n",
    "The default form of the model involves a mathematical discontinuity at zero water depth. The user has the option of smoothing out this discontinuity by passing a positive value for the `tidal_range` parameter. If this parameter is given, the growth function is modified as follows:\n",
    "\n",
    "$$G' = H(d) G$$\n",
    "\n",
    "where $G$ is the growth rate calculated by the growth function shown above, and $H(d)$ is a smoothed Heaviside step function of local water depth that is defined as:\n",
    "\n",
    "$$H(d) = \\begin{cases}\n",
    "\\frac{1}{1 + \\exp(-2 / R_t d)} & \\text{if } d > -2R_t \\\\\n",
    "0 & \\text{otherwise.}\n",
    "\\end{cases}$$\n",
    "\n",
    "Essentially, the $H(d)$ function allows a limited amount of growth above mean sea level, while reducing the growth rate somewhat within the tidal zone.\n",
    "\n",
    "### Numerical methods\n",
    "\n",
    "The component's `calc_carbonate_production_rate` method can be used to return the current rate of production given the water depths (calculated by subtracting the `topographic__elevation` node field from the `sea_level__elevation` grid field). In this case, no numerical methods are needed. This approach might be useful, for example, when modeling simultaneous carbonate and siliciclastic sedimentation, and the user wishes to generate depositional layers that contain some fractional amount of both.\n",
    "\n",
    "Alternatively, the user can calculate the accumulation of carbonate thickness (in node field `carbonate_thickness`) by calling either `produce_carbonate` or `run_one_step` (the latter simply calls the former). In this case, simple forward Euler differencing is used to add to carbonate thickness, $C$, via\n",
    "\n",
    "$$C_i^{k+1} = C_i^k + G_i^k \\Delta t$$\n",
    "\n",
    "where $i$ refers to node number and $k$ to time-step number, and $\\Delta t$ is the duration of the time step (passed as an argument to `produce_carbonate` or `run_one_step`)."
   ]
  },
  {
   "cell_type": "code",
   "execution_count": null,
   "metadata": {},
   "outputs": [],
   "source": [
    "import numpy as np\n",
    "import matplotlib.pyplot as plt\n",
    "from landlab import RasterModelGrid\n",
    "from landlab.components import CarbonateProducer\n",
    "from landlab.plot import plot_layers"
   ]
  },
  {
   "cell_type": "markdown",
   "metadata": {},
   "source": [
    "## Information about the component\n",
    "\n",
    "Passing the class name to the `help` function returns descriptions of the various methods and parameters:"
   ]
  },
  {
   "cell_type": "code",
   "execution_count": null,
   "metadata": {},
   "outputs": [],
   "source": [
    "help(CarbonateProducer)"
   ]
  },
  {
   "cell_type": "markdown",
   "metadata": {},
   "source": [
    "## Examples\n",
    "\n",
    "### Example 1: carbonate growth on a rising continental margin under sinusoidal sea-level variation\n",
    "\n",
    "In this example, we consider a sloping ramp that rises tectonically while sea level oscillates."
   ]
  },
  {
   "cell_type": "code",
   "execution_count": null,
   "metadata": {},
   "outputs": [],
   "source": [
    "# Parameters and settings\n",
    "nrows = 3  # number of grid rows\n",
    "ncols = 101  # number of grid columns\n",
    "dx = 1000.0  # node spacing, m\n",
    "sl_range = 120.0  # range of sea-level variation, m\n",
    "sl_period = 40000.0  # period of sea-level variation, y\n",
    "run_duration = 200000.0  # duration of run, y\n",
    "dt = 100.0  # time-step size, y\n",
    "initial_shoreline_pos = 25000.0  # starting position of the shoreline, m\n",
    "topo_slope = 0.01  # initial slope of the topography/bathymetry, m/m\n",
    "uplift_rate = 0.001  # rate of tectonic uplift, m/y\n",
    "plot_ylims = [-1000.0, 1000.0]"
   ]
  },
  {
   "cell_type": "code",
   "execution_count": null,
   "metadata": {},
   "outputs": [],
   "source": [
    "# Derived parameters\n",
    "num_steps = int(run_duration / dt)\n",
    "sin_fac = 2.0 * np.pi / sl_period  # factor for sine calculation of sea-level\n",
    "middle_row = np.arange(ncols, 2 * ncols, dtype=int)"
   ]
  },
  {
   "cell_type": "code",
   "execution_count": null,
   "metadata": {},
   "outputs": [],
   "source": [
    "# Grid and fields\n",
    "#\n",
    "# Create a grid object\n",
    "grid = RasterModelGrid((nrows, ncols), xy_spacing=dx)\n",
    "\n",
    "# Create sea level field (a scalar, a.k.a. a \"grid field\")\n",
    "sea_level = grid.add_field(\"sea_level__elevation\", 0.0, at=\"grid\")\n",
    "\n",
    "# Create elevation field and initialize as a sloping ramp\n",
    "bedrock_elevation = topo_slope * (initial_shoreline_pos - grid.x_of_node)\n",
    "elev = grid.add_field(\"topographic__elevation\", bedrock_elevation.copy(), at=\"node\")\n",
    "# elev[:] = topo_slope * (initial_shoreline_pos - grid.x_of_node)\n",
    "\n",
    "# Remember IDs of middle row of nodes, for plotting\n",
    "middle_row = np.arange(ncols, 2 * ncols, dtype=int)"
   ]
  },
  {
   "cell_type": "code",
   "execution_count": null,
   "metadata": {},
   "outputs": [],
   "source": [
    "plot_layers(\n",
    "    bedrock_elevation[middle_row],\n",
    "    x=grid.x_of_node[middle_row],\n",
    "    sea_level=grid.at_grid[\"sea_level__elevation\"],\n",
    "    x_label=\"Distance (km)\",\n",
    "    y_label=\"Elevation (m)\",\n",
    "    title=\"Starting condition\",\n",
    "    legend_location=\"upper right\",\n",
    ")"
   ]
  },
  {
   "cell_type": "code",
   "execution_count": null,
   "metadata": {},
   "outputs": [],
   "source": [
    "# Instantiate component\n",
    "cp = CarbonateProducer(grid)"
   ]
  },
  {
   "cell_type": "code",
   "execution_count": null,
   "metadata": {},
   "outputs": [],
   "source": [
    "# RUN\n",
    "for i in range(num_steps):\n",
    "    cp.sea_level = sl_range * np.sin(sin_fac * i * dt)\n",
    "    cp.produce_carbonate(dt)\n",
    "    elev[:] += uplift_rate * dt"
   ]
  },
  {
   "cell_type": "code",
   "execution_count": null,
   "metadata": {},
   "outputs": [],
   "source": [
    "plot_layers(\n",
    "    [\n",
    "        elev[middle_row] - grid.at_node[\"carbonate_thickness\"][middle_row],\n",
    "        elev[middle_row],\n",
    "    ],\n",
    "    x=grid.x_of_node[middle_row],\n",
    "    sea_level=grid.at_grid[\"sea_level__elevation\"],\n",
    "    color_layer=\"Blues\",\n",
    "    x_label=\"Distance (km)\",\n",
    "    y_label=\"Elevation (m)\",\n",
    "    title=\"Carbonate production\",\n",
    "    legend_location=\"upper right\",\n",
    ")"
   ]
  },
  {
   "cell_type": "markdown",
   "metadata": {},
   "source": [
    "### Example 2: tracking stratigraphy\n",
    "\n",
    "Here we repeat the same example, except this time we use Landlab's `MaterialLayers` class to track stratigraphy."
   ]
  },
  {
   "cell_type": "code",
   "execution_count": null,
   "metadata": {},
   "outputs": [],
   "source": [
    "# Track carbonate strata in time bundles of the below duration:\n",
    "layer_time_interval = 20000.0"
   ]
  },
  {
   "cell_type": "code",
   "execution_count": null,
   "metadata": {},
   "outputs": [],
   "source": [
    "# Derived parameters and miscellaneous\n",
    "next_layer_time = layer_time_interval\n",
    "time_period_index = 0\n",
    "time_period = \"0 to \" + str(int(layer_time_interval) // 1000) + \" ky\""
   ]
  },
  {
   "cell_type": "code",
   "execution_count": null,
   "metadata": {},
   "outputs": [],
   "source": [
    "# Grid and fields\n",
    "grid = RasterModelGrid((nrows, ncols), xy_spacing=dx)\n",
    "sea_level = grid.add_field(\"sea_level__elevation\", 0.0, at=\"grid\")\n",
    "base_elev = grid.add_zeros(\"basement__elevation\", at=\"node\")\n",
    "base_elev[:] = topo_slope * (initial_shoreline_pos - grid.x_of_node)\n",
    "elev = grid.add_zeros(\"topographic__elevation\", at=\"node\")\n",
    "middle_row = np.arange(ncols, 2 * ncols, dtype=int)\n",
    "middle_row_cells = np.arange(0, ncols - 2, dtype=int)\n",
    "carbo_thickness = grid.add_zeros(\"carbonate_thickness\", at=\"node\")\n",
    "prior_carbo_thickness = np.zeros(grid.number_of_nodes)"
   ]
  },
  {
   "cell_type": "code",
   "execution_count": null,
   "metadata": {},
   "outputs": [],
   "source": [
    "# Instantiate component\n",
    "cp = CarbonateProducer(grid)"
   ]
  },
  {
   "cell_type": "code",
   "execution_count": null,
   "metadata": {},
   "outputs": [],
   "source": [
    "# RUN\n",
    "for i in range(num_steps):\n",
    "    cp.sea_level = sl_range * np.sin(sin_fac * i * dt)\n",
    "    cp.produce_carbonate(dt)\n",
    "    base_elev[:] += uplift_rate * dt\n",
    "    elev[:] = base_elev + carbo_thickness\n",
    "    if (i + 1) * dt >= next_layer_time:\n",
    "        time_period_index += 1\n",
    "        next_layer_time += layer_time_interval\n",
    "    added_thickness = np.maximum(\n",
    "        carbo_thickness - prior_carbo_thickness, 0.00001\n",
    "    )  # force a tiny bit of depo to keep layers consistent\n",
    "    prior_carbo_thickness[:] = carbo_thickness\n",
    "    # grid.material_layers.add(added_thickness[grid.node_at_cell], age=time_period_index)\n",
    "    grid.event_layers.add(added_thickness[grid.node_at_cell], age=time_period_index)"
   ]
  },
  {
   "cell_type": "markdown",
   "metadata": {},
   "source": [
    "First get the layers we want to plot. In this case, plot the bottom and top layers as well as layers that correspond to sea level high stands. For the sinusoidal sea level curve we used, high stands occur every 400 time steps, with the first one being at time step 100."
   ]
  },
  {
   "cell_type": "code",
   "execution_count": null,
   "metadata": {},
   "outputs": [],
   "source": [
    "layers = (\n",
    "    np.vstack(\n",
    "        [\n",
    "            grid.event_layers.z[0],\n",
    "            grid.event_layers.z[100::400],\n",
    "            grid.event_layers.z[-1],\n",
    "        ]\n",
    "    )\n",
    "    + grid.at_node[\"basement__elevation\"][grid.node_at_cell]\n",
    ")\n",
    "\n",
    "plot_layers(\n",
    "    layers,\n",
    "    x=grid.x_of_node[grid.node_at_cell],\n",
    "    sea_level=grid.at_grid[\"sea_level__elevation\"],\n",
    "    color_layer=\"Oranges_r\",\n",
    "    legend_location=\"upper right\",\n",
    "    x_label=\"Distance (km)\",\n",
    "    y_label=\"Elevation (m)\",\n",
    "    title=\"Carbonates colored by age of deposition (darkest = oldest)\",\n",
    ")"
   ]
  },
  {
   "cell_type": "markdown",
   "metadata": {},
   "source": [
    "## References\n",
    "\n",
    "Bosscher, H., & Schlager, W. (1992). Computer simulation of reef growth. Sedimentology, 39(3), 503-512.\n",
    "\n",
    "Galewsky, J. (1998). The dynamics of foreland basin carbonate platforms: tectonic and eustatic controls. Basin Research, 10(4), 409-416."
   ]
  },
  {
   "cell_type": "markdown",
   "metadata": {
    "collapsed": true
   },
   "source": [
    "### Click here for more <a href=\"https://landlab.readthedocs.io/en/latest/user_guide/tutorials.html\">Landlab tutorials</a>"
   ]
  }
 ],
 "metadata": {
  "kernelspec": {
   "display_name": "Python 3 (ipykernel)",
   "language": "python",
   "name": "python3"
  },
  "language_info": {
   "codemirror_mode": {
    "name": "ipython",
    "version": 3
   },
   "file_extension": ".py",
   "mimetype": "text/x-python",
   "name": "python",
   "nbconvert_exporter": "python",
   "pygments_lexer": "ipython3",
   "version": "3.10.2"
  }
 },
 "nbformat": 4,
 "nbformat_minor": 1
}
