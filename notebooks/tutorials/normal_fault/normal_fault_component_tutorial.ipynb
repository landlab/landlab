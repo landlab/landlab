{
 "cells": [
  {
   "cell_type": "markdown",
   "metadata": {},
   "source": [
    "<a href=\"http://landlab.github.io\"><img style=\"float: left\" src=\"../../landlab_header.png\"></a>"
   ]
  },
  {
   "cell_type": "markdown",
   "metadata": {},
   "source": [
    "# Introduction to the NormalFault component\n",
    "\n",
    "This tutorial provides an introduction to the `NormalFault` component in the Landlab toolkit. This component takes the following parameters. \n",
    "\n",
    "    Parameters\n",
    "    --------\n",
    "    grid : ModelGrid\n",
    "    faulted_surface : str or ndarray of shape `(n_nodes, )` or list of str\n",
    "        or ndarrays. \n",
    "        Surface that is modified by the NormalFault component. Can be a\n",
    "        field name or array or a list of strings or ndarrays if the fault.\n",
    "        should uplift more than one field. Default value is \n",
    "        `topographic__elevation`.\n",
    "    fault_throw_rate_through_time : dict, optional\n",
    "        Dictionary that specifies the time varying throw rate on the fault.\n",
    "        Expected format is:\n",
    "        ``fault_throw_rate_through_time = {'time': array, 'rate': array}``\n",
    "        Default value is a constant rate of 0.001 (units not specified).\n",
    "    fault_dip_angle : float, optional\n",
    "        Dip angle of the fault in degrees.  Default value is 90 degrees.\n",
    "    fault_trace : dictionary, optional\n",
    "        Dictionary that specifies the coordinates of two locations on the\n",
    "        fault trace. Expected format is\n",
    "        ``fault_trace = {'x1': float, 'y1': float, 'x2': float, 'y2': float}``\n",
    "        where the vector from ``(x1, y1)`` to ``(x2, y2)`` defines the\n",
    "        strike of the fault trace. The orientation of the fault dip relative\n",
    "        to the strike follows the right hand rule.\n",
    "        Default is for the fault to strike NE.\n",
    "    include_boundaries : boolean, optional\n",
    "        Flag to indicate if model grid boundaries should be uplifted. If\n",
    "        set to ``True`` uplifted model grid boundaries will be set to the\n",
    "        average value of their upstream nodes. Default value is False.\n",
    "\n",
    "\n",
    "The `NormalFault` component will divide the model domain into two regions, a 'faulted nodes' region which will experience vertical rock uplift at a rate of \n",
    "\n",
    "$t \\cdot \\sin (d)$\n",
    "\n",
    "where $t$ is the fault throw rate and $d$ is the fault dip angle. \n",
    "\n",
    "While dip angles less than 90 degrees are permitted, in its present implementation, the `NormalFault` component does not translate field information laterally. \n",
    "\n",
    "The fault orientation is specified by two coordinate pairs: (x1, y1) and (x2, y2). The strike of the fault, specified with the right-hand rule convention, is the vector from (x1, y1) to (x2, y2). Give that this component creates a normal fault, in which the footwall moves up relative to the hanging wall, this means that the nodes that are counterclockwise from the strike are the uplifted nodes. \n",
    "\n",
    "To start, let's import necessary Landlab and Python modules. "
   ]
  },
  {
   "cell_type": "code",
   "execution_count": null,
   "metadata": {},
   "outputs": [],
   "source": [
    "# start by importing necessary modules\n",
    "import matplotlib.pyplot as plt\n",
    "import numpy as np\n",
    "\n",
    "from landlab import HexModelGrid, RasterModelGrid\n",
    "from landlab.components import (\n",
    "    FastscapeEroder,\n",
    "    FlowAccumulator,\n",
    "    NormalFault,\n",
    "    StreamPowerEroder,\n",
    ")\n",
    "from landlab.plot import imshow_grid\n",
    "\n",
    "%matplotlib inline"
   ]
  },
  {
   "cell_type": "markdown",
   "metadata": {},
   "source": [
    "First we will make a default `NormalFault`."
   ]
  },
  {
   "cell_type": "code",
   "execution_count": null,
   "metadata": {},
   "outputs": [],
   "source": [
    "grid = RasterModelGrid((6, 6), xy_spacing=10)\n",
    "\n",
    "grid.add_zeros(\"topographic__elevation\", at=\"node\")\n",
    "\n",
    "nf = NormalFault(grid)\n",
    "\n",
    "plt.figure()\n",
    "imshow_grid(grid, nf.faulted_nodes.astype(int), cmap=\"viridis\")\n",
    "plt.plot(grid.x_of_node, grid.y_of_node, \"c.\")\n",
    "plt.show()"
   ]
  },
  {
   "cell_type": "markdown",
   "metadata": {},
   "source": [
    " This fault has a strike of NE and dips to the SE. Thus the uplifted nodes (shown in yellow) are in the NW half of the domain.  \n",
    "\n",
    "The default `NormalFault` will not uplift the boundary nodes. We change this by using the keyword argument `include_boundaries`. If this is specified, the elevation of the boundary nodes is calculated as an average of the faulted nodes adjacent to the boundaries. This occurs because most Landlab erosion components do not operate on boundary nodes. "
   ]
  },
  {
   "cell_type": "code",
   "execution_count": null,
   "metadata": {},
   "outputs": [],
   "source": [
    "nf = NormalFault(grid, include_boundaries=True)\n",
    "\n",
    "plt.figure()\n",
    "imshow_grid(grid, nf.faulted_nodes.astype(int), cmap=\"viridis\")\n",
    "plt.plot(grid.x_of_node, grid.y_of_node, \"c.\")\n",
    "plt.show()"
   ]
  },
  {
   "cell_type": "markdown",
   "metadata": {},
   "source": [
    "We can add functionality to the `NormalFault` with other keyword arguments. We can change the fault strike and dip, as well as specify a time series of fault uplift through time. "
   ]
  },
  {
   "cell_type": "code",
   "execution_count": null,
   "metadata": {},
   "outputs": [],
   "source": [
    "grid = RasterModelGrid((60, 100), xy_spacing=10)\n",
    "z = grid.add_zeros(\"topographic__elevation\", at=\"node\")\n",
    "\n",
    "nf = NormalFault(grid, fault_trace={\"x1\": 0, \"y1\": 200, \"y2\": 30, \"x2\": 600})\n",
    "\n",
    "imshow_grid(grid, nf.faulted_nodes.astype(int), cmap=\"viridis\")"
   ]
  },
  {
   "cell_type": "markdown",
   "metadata": {},
   "source": [
    "By reversing the order of (x1, y1) and (x2, y2) we can reverse the location of the upthrown nodes (all else equal). "
   ]
  },
  {
   "cell_type": "code",
   "execution_count": null,
   "metadata": {},
   "outputs": [],
   "source": [
    "grid = RasterModelGrid((60, 100), xy_spacing=10)\n",
    "z = grid.add_zeros(\"topographic__elevation\", at=\"node\")\n",
    "\n",
    "nf = NormalFault(grid, fault_trace={\"y1\": 30, \"x1\": 600, \"x2\": 0, \"y2\": 200})\n",
    "\n",
    "imshow_grid(grid, nf.faulted_nodes.astype(int), cmap=\"viridis\")"
   ]
  },
  {
   "cell_type": "markdown",
   "metadata": {},
   "source": [
    "We can also specify complex time-rock uplift rate histories, but we'll explore that later in the tutorial. \n",
    "\n",
    "Next let's make a landscape evolution model with a normal fault. Here we'll use a HexModelGrid to highlight that we can use both raster and non-raster grids with this component. \n",
    "\n",
    "We will do a series of three numerical experiments and will want to keep a few parameters constant. Since you might want to change them, we are making it easier to change all of them together. They are defined in the next block:"
   ]
  },
  {
   "cell_type": "code",
   "execution_count": null,
   "metadata": {},
   "outputs": [],
   "source": [
    "# here are the parameters to change\n",
    "K = 0.0005  # stream power coefficient, bigger = streams erode more quickly\n",
    "U = 0.0001  # uplift rate in meters per year\n",
    "\n",
    "dt = 1000  # time step in years\n",
    "dx = 10  # space step in meters\n",
    "\n",
    "nr = 60  # number of model rows\n",
    "nc = 100  # number of model columns"
   ]
  },
  {
   "cell_type": "code",
   "execution_count": null,
   "metadata": {},
   "outputs": [],
   "source": [
    "# instantiate the grid\n",
    "grid = HexModelGrid((nr, nc), dx, node_layout=\"rect\")\n",
    "\n",
    "# add a topographic__elevation field with noise\n",
    "z = grid.add_zeros(\"topographic__elevation\", at=\"node\")\n",
    "z[grid.core_nodes] += 100.0 + np.random.randn(grid.core_nodes.size)\n",
    "\n",
    "fr = FlowAccumulator(grid)\n",
    "fs = FastscapeEroder(grid, K_sp=K)\n",
    "nf = NormalFault(grid, fault_trace={\"x1\": 0, \"x2\": 800, \"y1\": 0, \"y2\": 500})\n",
    "\n",
    "# Run this model for 300 100-year timesteps (30,000 years).\n",
    "for i in range(300):\n",
    "    nf.run_one_step(dt)\n",
    "    fr.run_one_step()\n",
    "    fs.run_one_step(dt)\n",
    "    z[grid.core_nodes] += 0.0001 * dt\n",
    "\n",
    "# plot the final topography\n",
    "imshow_grid(grid, z)"
   ]
  },
  {
   "cell_type": "markdown",
   "metadata": {},
   "source": [
    "As we can see, the upper left portion of the grid has been uplifted an a stream network has developed over the whole domain. \n",
    "\n",
    "How might this change when we also uplift the boundaries nodes?"
   ]
  },
  {
   "cell_type": "code",
   "execution_count": null,
   "metadata": {},
   "outputs": [],
   "source": [
    "# instantiate the grid\n",
    "grid = HexModelGrid((nr, nc), 10, node_layout=\"rect\")\n",
    "\n",
    "# add a topographic__elevation field with noise\n",
    "z = grid.add_zeros(\"topographic__elevation\", at=\"node\")\n",
    "z[grid.core_nodes] += 100.0 + np.random.randn(grid.core_nodes.size)\n",
    "\n",
    "fr = FlowAccumulator(grid)\n",
    "fs = FastscapeEroder(grid, K_sp=K)\n",
    "nf = NormalFault(\n",
    "    grid, fault_trace={\"x1\": 0, \"x2\": 800, \"y1\": 0, \"y2\": 500}, include_boundaries=True\n",
    ")\n",
    "\n",
    "# Run this model for 300 100-year timesteps (30,000 years).\n",
    "for i in range(300):\n",
    "    nf.run_one_step(dt)\n",
    "    fr.run_one_step()\n",
    "    fs.run_one_step(dt)\n",
    "    z[grid.core_nodes] += U * dt\n",
    "\n",
    "# plot the final topography\n",
    "imshow_grid(grid, z)"
   ]
  },
  {
   "cell_type": "markdown",
   "metadata": {},
   "source": [
    "We can see that when the boundary nodes are not included, the faulted region is impacted by the edge boundary conditions differently. Depending on your application, one or the other of these boundary condition options may suite your problem better. \n",
    "\n",
    "The last thing to explore is the use of the `fault_rate_through_time` parameter. This allows us to specify generic fault throw rate histories. For example, consider the following history, in which every 100,000 years there is a 10,000 year period in which the fault is active. "
   ]
  },
  {
   "cell_type": "code",
   "execution_count": null,
   "metadata": {},
   "outputs": [],
   "source": [
    "time = (\n",
    "    np.array(\n",
    "        [\n",
    "            0.0,\n",
    "            7.99,\n",
    "            8.00,\n",
    "            8.99,\n",
    "            9.0,\n",
    "            17.99,\n",
    "            18.0,\n",
    "            18.99,\n",
    "            19.0,\n",
    "            27.99,\n",
    "            28.00,\n",
    "            28.99,\n",
    "            29.0,\n",
    "        ]\n",
    "    )\n",
    "    * 10\n",
    "    * dt\n",
    ")\n",
    "rate = np.array([0, 0, 0.01, 0.01, 0, 0, 0.01, 0.01, 0, 0, 0.01, 0.01, 0])\n",
    "\n",
    "plt.figure()\n",
    "plt.plot(time, rate)\n",
    "plt.plot([0, 300 * dt], [0.001, 0.001])\n",
    "plt.xlabel(\"Time [years]\")\n",
    "plt.ylabel(\"Fault Throw Rate [m/yr]\")\n",
    "plt.show()"
   ]
  },
  {
   "cell_type": "markdown",
   "metadata": {},
   "source": [
    "The default value for uplift rate is 0.001 (units unspecified as it will depend on the x and t units in a model, but in this example we assume time units of years and length units of meters). \n",
    "\n",
    "This will result in a total of 300 m of fault throw over the 300,000 year model time period. This amount of uplift can also be accommodated by faster fault motion that occurs over shorter periods of time. \n",
    "\n",
    "Next we plot the cumulative fault throw for the two cases. "
   ]
  },
  {
   "cell_type": "code",
   "execution_count": null,
   "metadata": {},
   "outputs": [],
   "source": [
    "t = np.arange(0, 300 * dt, dt)\n",
    "rate_constant = np.interp(t, [0, 300 * dt], [0.001, 0.001])\n",
    "rate_variable = np.interp(t, time, rate)\n",
    "\n",
    "cumulative_rock_uplift_constant = np.cumsum(rate_constant) * dt\n",
    "cumulative_rock_uplift_variable = np.cumsum(rate_variable) * dt\n",
    "\n",
    "plt.figure()\n",
    "plt.plot(t, cumulative_rock_uplift_constant)\n",
    "plt.plot(t, cumulative_rock_uplift_variable)\n",
    "plt.xlabel(\"Time [years]\")\n",
    "plt.ylabel(\"Cumulative Fault Throw [m]\")\n",
    "plt.show()"
   ]
  },
  {
   "cell_type": "markdown",
   "metadata": {},
   "source": [
    "A technical note: Beyond the times specified, the internal workings of the `NormalFault` will use the final value provided in the rate array. \n",
    "\n",
    "Let's see how this changes the model results. "
   ]
  },
  {
   "cell_type": "code",
   "execution_count": null,
   "metadata": {},
   "outputs": [],
   "source": [
    "# instantiate the grid\n",
    "grid = HexModelGrid((nr, nc), 10, node_layout=\"rect\")\n",
    "\n",
    "# add a topographic__elevation field with noise\n",
    "z = grid.add_zeros(\"topographic__elevation\", at=\"node\")\n",
    "z[grid.core_nodes] += 100.0 + np.random.randn(grid.core_nodes.size)\n",
    "\n",
    "fr = FlowAccumulator(grid)\n",
    "fs = FastscapeEroder(grid, K_sp=K)\n",
    "nf = NormalFault(\n",
    "    grid,\n",
    "    fault_throw_rate_through_time={\"time\": time, \"rate\": rate},\n",
    "    fault_trace={\"x1\": 0, \"x2\": 800, \"y1\": 0, \"y2\": 500},\n",
    "    include_boundaries=True,\n",
    ")\n",
    "\n",
    "# Run this model for 300 100-year timesteps (30,000 years).\n",
    "for i in range(300):\n",
    "    nf.run_one_step(dt)\n",
    "    fr.run_one_step()\n",
    "    fs.run_one_step(dt)\n",
    "    z[grid.core_nodes] += U * dt\n",
    "\n",
    "# plot the final topography\n",
    "imshow_grid(grid, z)"
   ]
  },
  {
   "cell_type": "markdown",
   "metadata": {},
   "source": [
    "As you can see the resulting topography is very different than in the case with continuous uplift. \n",
    "\n",
    "For our final example, we'll use `NormalFault` with a more complicated model in which we have both a soil layer and bedrock. In order to move, material must convert from bedrock to soil by weathering.\n",
    "\n",
    "First we import remaining modules and set some parameter values"
   ]
  },
  {
   "cell_type": "code",
   "execution_count": null,
   "metadata": {},
   "outputs": [],
   "source": [
    "from landlab.components import DepthDependentDiffuser, ExponentialWeatherer\n",
    "\n",
    "# here are the parameters to change\n",
    "K = 0.0005  # stream power coefficient, bigger = streams erode more quickly\n",
    "U = 0.0001  # uplift rate in meters per year\n",
    "max_soil_production_rate = (\n",
    "    0.001\n",
    ")  # Maximum weathering rate for bare bedrock in meters per year\n",
    "soil_production_decay_depth = 0.7  # Characteristic weathering depth in meters\n",
    "linear_diffusivity = 0.01  # Hillslope diffusivity and m2 per years\n",
    "soil_transport_decay_depth = 0.5  # Characteristic soil transport depth in meters\n",
    "\n",
    "dt = 100  # time step in years\n",
    "dx = 10  # space step in meters\n",
    "\n",
    "nr = 60  # number of model rows\n",
    "nc = 100  # number of model columns"
   ]
  },
  {
   "cell_type": "code",
   "execution_count": null,
   "metadata": {},
   "outputs": [],
   "source": [
    "?ExponentialWeatherer"
   ]
  },
  {
   "cell_type": "markdown",
   "metadata": {},
   "source": [
    "Next we create the grid and run the model. "
   ]
  },
  {
   "cell_type": "code",
   "execution_count": null,
   "metadata": {},
   "outputs": [],
   "source": [
    "# instantiate the grid\n",
    "grid = HexModelGrid((nr, nc), 10, node_layout=\"rect\")\n",
    "\n",
    "# add a topographic__elevation field with noise\n",
    "z = grid.add_zeros(\"topographic__elevation\", at=\"node\")\n",
    "z[grid.core_nodes] += 100.0 + np.random.randn(grid.core_nodes.size)\n",
    "\n",
    "# create a field for soil depth\n",
    "d = grid.add_zeros(\"soil__depth\", at=\"node\")\n",
    "\n",
    "# create a bedrock elevation field\n",
    "b = grid.add_zeros(\"bedrock__elevation\", at=\"node\")\n",
    "b[:] = z - d\n",
    "\n",
    "fr = FlowAccumulator(grid, depression_finder=\"DepressionFinderAndRouter\", routing=\"D4\")\n",
    "fs = FastscapeEroder(grid, K_sp=K)\n",
    "ew = ExponentialWeatherer(\n",
    "    grid,\n",
    "    soil_production__decay_depth=soil_production_decay_depth,\n",
    "    soil_production__maximum_rate=max_soil_production_rate,\n",
    ")\n",
    "\n",
    "dd = DepthDependentDiffuser(\n",
    "    grid,\n",
    "    linear_diffusivity=linear_diffusivity,\n",
    "    soil_transport_decay_depth=soil_transport_decay_depth,\n",
    ")\n",
    "\n",
    "nf = NormalFault(\n",
    "    grid,\n",
    "    fault_throw_rate_through_time={\"time\": [0, 30], \"rate\": [0.001, 0.001]},\n",
    "    fault_trace={\"x1\": 0, \"x2\": 800, \"y1\": 0, \"y2\": 500},\n",
    "    include_boundaries=False,\n",
    ")\n",
    "\n",
    "# Run this model for 300 100-year timesteps (30,000 years).\n",
    "for i in range(300):\n",
    "\n",
    "    # Move normal fault\n",
    "    nf.run_one_step(dt)\n",
    "\n",
    "    # Route flow\n",
    "    fr.run_one_step()\n",
    "\n",
    "    # Erode with water\n",
    "    fs.run_one_step(dt)\n",
    "\n",
    "    # We must also now erode the bedrock where relevant. If water erosion\n",
    "    # into bedrock has occurred, the bedrock elevation will be higher than\n",
    "    # the actual elevation, so we simply re-set bedrock elevation to the\n",
    "    # lower of itself or the current elevation.\n",
    "    b = grid.at_node[\"bedrock__elevation\"]\n",
    "    b[:] = np.minimum(b, grid.at_node[\"topographic__elevation\"])\n",
    "\n",
    "    # Calculate regolith-production rate\n",
    "    ew.calc_soil_prod_rate()\n",
    "\n",
    "    # Generate and move soil around. This component will update both the\n",
    "    # soil thickness and topographic elevation fields.\n",
    "    dd.run_one_step(dt)\n",
    "\n",
    "    # uplift the whole domain, we need to do this to both bedrock and topography\n",
    "    z[grid.core_nodes] += U * dt\n",
    "    b[grid.core_nodes] += U * dt\n",
    "\n",
    "# plot the final topography\n",
    "imshow_grid(grid, \"topographic__elevation\")"
   ]
  },
  {
   "cell_type": "markdown",
   "metadata": {},
   "source": [
    "We can also examine the soil thickness and soil production rate. Here in the soil depth, we see it is highest along the ridge crests.  "
   ]
  },
  {
   "cell_type": "code",
   "execution_count": null,
   "metadata": {},
   "outputs": [],
   "source": [
    "# and the soil depth\n",
    "imshow_grid(grid, \"soil__depth\", cmap=\"viridis\")"
   ]
  },
  {
   "cell_type": "markdown",
   "metadata": {},
   "source": [
    "The soil production rate is highest where the soil depth is low, as we would expect given the exponential form. "
   ]
  },
  {
   "cell_type": "code",
   "execution_count": null,
   "metadata": {},
   "outputs": [],
   "source": [
    "# and the soil production rate\n",
    "imshow_grid(grid, \"soil_production__rate\", cmap=\"viridis\")"
   ]
  },
  {
   "cell_type": "code",
   "execution_count": null,
   "metadata": {},
   "outputs": [],
   "source": []
  }
 ],
 "metadata": {
  "kernelspec": {
   "display_name": "Python 3",
   "language": "python",
   "name": "python3"
  },
  "language_info": {
   "codemirror_mode": {
    "name": "ipython",
    "version": 3
   },
   "file_extension": ".py",
   "mimetype": "text/x-python",
   "name": "python",
   "nbconvert_exporter": "python",
   "pygments_lexer": "ipython3",
   "version": "3.8.0"
  }
 },
 "nbformat": 4,
 "nbformat_minor": 2
}
