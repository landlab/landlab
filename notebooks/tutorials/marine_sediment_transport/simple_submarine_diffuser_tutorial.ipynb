{
 "cells": [
  {
   "cell_type": "markdown",
   "metadata": {},
   "source": [
    "<a href=\"http://landlab.github.io\"><img style=\"float: left\" src=\"../../landlab_header.png\"></a>"
   ]
  },
  {
   "cell_type": "markdown",
   "metadata": {},
   "source": [
    "# Using the Landlab SimpleSubmarineDiffuser component\n",
    "\n",
    "<hr>\n",
    "<small>For more Landlab tutorials, click here: <a href=\"https://landlab.readthedocs.io/en/latest/user_guide/tutorials.html\">https://landlab.readthedocs.io/en/latest/user_guide/tutorials.html</a></small>\n",
    "<hr>\n",
    "\n",
    "This tutorial demonstrates how to use the `SimpleSubmarineDiffuser` component. `SimpleSubmarineDiffuser` models submarine sediment transport using a diffusion approach, in which the diffusivity varies with water depth. The component sets diffusivity to a (nearly) constant value between sea level and the wave-base depth, and to a value that declines exponentially with depth below the wave base. (The diffusivity on land, meaning locations with an elevation above current sea level, is set to an arbitrarily tiny positive value)."
   ]
  },
  {
   "cell_type": "markdown",
   "metadata": {},
   "source": [
    "## Theory\n",
    "\n",
    "The mathematics behind `SimpleSubmarineDiffuser` are as follows. The component represents a discretized numerical solution to the PDE:\n",
    "\n",
    "$$\\frac{\\partial \\eta}{\\partial t} = -\\nabla \\cdot \\mathbf{q_s}$$\n",
    "\n",
    "$$\\mathbf{q_s} = -D(h) \\nabla\\eta$$\n",
    "\n",
    "where $\\eta$ is surface height, $t$ is time, $\\mathbf{q_s}$ is volume sediment transport rate per unit width (in terms of bulk volume, i.e., it incorporates porosity), and $D(h)$ is the transport coefficient (a.k.a., diffusivity) that varies with local water depth $h$.\n",
    "\n",
    "First we define the applied shallow-water diffusivity, $D_s$, in terms of the local water depth $h$ and tidal range $R_t$. If $R_t = 0$, then $D_s$ is uniform where $h \\ge 0$ (i.e., underwater), and negligibly tiny elsewhere (i.e., on land). If $R_t > 0$, then a smoothing function is used to allow the applied diffusivity to increase smoothly from a negligibly small value on land (above ~2x high tide) to its base value, $D_{s0}$ (which is the input parameter `shallow_water_diffusivity`) below ~2x low-tide elevation:\n",
    "\n",
    "$$D_s = (\\tanh ( -h / R_t ) + 1) / 2$$\n",
    "\n",
    "With this equation, $D_s \\approx 0.02 D_{s0}$ at twice the high-tide height, and $D_s \\approx 0.98 D_{s0}$ at twice the low-tide depth. The basic idea is to account in a simple way for tidal variations.\n",
    "\n",
    "Within the wave zone, $D = D_s$ (which is to say, it is essentially constant except right around mean sea level). Below the wave-base depth, $h_{wb}$, the diffusivity decreases exponentially:\n",
    "\n",
    "$$D = \\begin{cases}\n",
    "  D_s &\\mbox{where } h > h_{wb} \\\\\n",
    "  D_s \\exp ( -(h - h_{wb}) / h_{wb} ) & \\mbox{where } h \\ge h_{wb} \\end{cases}$$\n"
   ]
  },
  {
   "cell_type": "markdown",
   "metadata": {},
   "source": [
    "## Numerical implementation\n",
    "\n",
    "`SimpleSubmarineDiffuser` uses a forward-in-time, finite-volume method. It is the same method that the `LinearDiffuser` component uses, because in fact `SimpleSubmarineDiffuser` uses the solver of `LinearDiffuser`. The component is implemented as a class that derives directly from the `LinearDiffuser` class. The `run_one_step()` method of `SimpleSubmarineDiffuser` simply updates the current water depth (given sea level and topography), calculates the diffusivity coefficient, and then calls the `run_one_step()` method for the `LinearDiffuser` to perform the mass balance.\n",
    "\n",
    "### Technical notes\n",
    "\n",
    "- To avoid divide-by-zero errors, a tiny positive diffusivity (currently 10$^{-20}$ m$^2$/y) is assigned to nodes on land (or more precisely, added to any additional diffusivity that arises from the tanh function; see above).\n",
    "\n",
    "- The component assigns diffusivity values to *nodes*, but the `LinearDiffuser` component then translates these to *links*. It maps diffusivity from nodes to links by using the *maximum* value of diffusivity of the nodes bounding each link. This means in practice that links that cross the shoreline will tend to have a higher diffusivity than the equations outlined above might suggest. In future, this could be addressed by modifying `LinearDiffuser` (which, however, could be a compatibility-breaking change unless handled as a user option), or by encoding the solver directly in `SimpleSubmarineDiffuser` as opposed to borrowing the solver of `LinearDiffuser`. \n"
   ]
  },
  {
   "cell_type": "markdown",
   "metadata": {},
   "source": [
    "## Examples\n",
    "\n",
    "### Example 1: Quasi-1D\n",
    "\n",
    "The first example uses a quasi-1D setup to represent an initial topography with a triangular cross-section. "
   ]
  },
  {
   "cell_type": "code",
   "execution_count": null,
   "metadata": {},
   "outputs": [],
   "source": [
    "import numpy as np\n",
    "import matplotlib.pyplot as plt\n",
    "from landlab import RasterModelGrid, imshow_grid\n",
    "from landlab.components import SimpleSubmarineDiffuser"
   ]
  },
  {
   "cell_type": "code",
   "execution_count": null,
   "metadata": {},
   "outputs": [],
   "source": [
    "grid = RasterModelGrid((3, 51)) # grid has just one row of core nodes\n",
    "\n",
    "# Close top and bottom boundaries\n",
    "grid.set_closed_boundaries_at_grid_edges(False, True, False, True)\n",
    "\n",
    "# We're required to create a topographic__elevation field at nodes\n",
    "z = grid.add_zeros('topographic__elevation', at='node')\n",
    "\n",
    "# Here's our triangular island...\n",
    "z[:] = (25.0 - np.abs(grid.x_of_node - 25.0)) - 15.0\n",
    "\n",
    "# ...with a flat seabed at 5 m depth\n",
    "z[z<-5.0] = -5.0\n",
    "\n",
    "# We'll keep a copy of the starting elevation for later comparison\n",
    "z0 = z.copy()\n",
    "\n",
    "# And we'll create a field to track cumulative deposition\n",
    "cum_depo = grid.add_zeros('cumulative_deposit__thickness', at='node')"
   ]
  },
  {
   "cell_type": "code",
   "execution_count": null,
   "metadata": {},
   "outputs": [],
   "source": [
    "xm = grid.x_of_node[51:102]\n",
    "zm = z[51:102]\n",
    "plt.plot(xm, zm, 'k')\n",
    "plt.plot([0, 50], [0, 0], 'b:') # add sea level\n",
    "plt.xlabel('Distance (m)')\n",
    "plt.ylabel('Elevation (m)')"
   ]
  },
  {
   "cell_type": "code",
   "execution_count": null,
   "metadata": {},
   "outputs": [],
   "source": [
    "# Instantiate the component\n",
    "# (note 1 m2/y is a pretty small diffusivity; just for testing here)\n",
    "ssd = SimpleSubmarineDiffuser(grid, sea_level=0.0,\n",
    "                              wave_base=1.0,\n",
    "                              shallow_water_diffusivity=1.0)"
   ]
  },
  {
   "cell_type": "code",
   "execution_count": null,
   "metadata": {},
   "outputs": [],
   "source": [
    "for i in range(500):\n",
    "    ssd.run_one_step(0.2)\n",
    "    cum_depo += grid.at_node['sediment_deposit__thickness']"
   ]
  },
  {
   "cell_type": "code",
   "execution_count": null,
   "metadata": {},
   "outputs": [],
   "source": [
    "xm = grid.x_of_node[51:102]\n",
    "zm = z[51:102]\n",
    "plt.plot(xm, z0[51:102], 'k')\n",
    "cum_depo[cum_depo < 0.0] = 0.0\n",
    "plt.plot(xm, zm)\n",
    "plt.plot([0, 50], [0, 0], 'b:')\n",
    "plt.grid(True)\n",
    "plt.xlabel('Distance (m)')\n",
    "plt.ylabel('Elevation (m)')"
   ]
  },
  {
   "cell_type": "code",
   "execution_count": null,
   "metadata": {},
   "outputs": [],
   "source": [
    "plt.fill(xm, cum_depo[51:102] - 5.0, 'y')\n",
    "plt.xlabel('Distance (m)')\n",
    "plt.ylabel('Sediment thickness (m)')\n",
    "plt.ylim([-5, 10])"
   ]
  },
  {
   "cell_type": "markdown",
   "metadata": {},
   "source": [
    "### Example 2: a conical island\n",
    "\n",
    "The second example is much like the first, but now in 2D using a cone as the initial topography."
   ]
  },
  {
   "cell_type": "code",
   "execution_count": null,
   "metadata": {},
   "outputs": [],
   "source": [
    "grid = RasterModelGrid((51, 51))\n",
    "z = grid.add_zeros('topographic__elevation', at='node')\n",
    "midpoint = 25.0\n",
    "\n",
    "# Here we create the cone shape, again with a floor at 5 m depth\n",
    "dx = np.abs(grid.x_of_node - midpoint)\n",
    "dy = np.abs(grid.y_of_node - midpoint)\n",
    "ds = np.sqrt(dx*dx + dy*dy)\n",
    "z[:] = (midpoint - ds) - 15.0\n",
    "z[z<-5.0] = -5.0\n",
    "\n",
    "cum_depo = grid.add_zeros('total_deposit__thickness', at='node')"
   ]
  },
  {
   "cell_type": "code",
   "execution_count": null,
   "metadata": {},
   "outputs": [],
   "source": [
    "imshow_grid(grid, z, cmap='coolwarm', vmin=-10)"
   ]
  },
  {
   "cell_type": "code",
   "execution_count": null,
   "metadata": {},
   "outputs": [],
   "source": [
    "# Here's a pointillistic side view\n",
    "plt.plot(grid.x_of_node, z, '.')\n",
    "plt.plot([0, 50], [0, 0], 'b:')\n",
    "plt.grid(True)\n",
    "plt.xlabel('Distance (m)')\n",
    "plt.ylabel('Elevation (m)')"
   ]
  },
  {
   "cell_type": "code",
   "execution_count": null,
   "metadata": {},
   "outputs": [],
   "source": [
    "ssd = SimpleSubmarineDiffuser(grid,\n",
    "                              sea_level=0.0,\n",
    "                              wave_base=1.0,\n",
    "                              shallow_water_diffusivity=1.0)"
   ]
  },
  {
   "cell_type": "code",
   "execution_count": null,
   "metadata": {},
   "outputs": [],
   "source": [
    "for i in range(100):\n",
    "    ssd.run_one_step(0.2)\n",
    "    cum_depo += grid.at_node['sediment_deposit__thickness']"
   ]
  },
  {
   "cell_type": "code",
   "execution_count": null,
   "metadata": {},
   "outputs": [],
   "source": [
    "imshow_grid(grid, z, cmap=\"coolwarm\", vmin=-10)"
   ]
  },
  {
   "cell_type": "code",
   "execution_count": null,
   "metadata": {},
   "outputs": [],
   "source": [
    "plt.plot(grid.x_of_node, z, '.')\n",
    "plt.plot([0, 50], [0, 0], 'b:')\n",
    "plt.grid(True)\n",
    "plt.xlabel('Distance (m)')\n",
    "plt.ylabel('Elevation (m)')"
   ]
  },
  {
   "cell_type": "code",
   "execution_count": null,
   "metadata": {},
   "outputs": [],
   "source": [
    "# Show the donut-shaped deposit and associated erosion pattern\n",
    "imshow_grid(grid, cum_depo)\n",
    "\n",
    "# And show that mass balances (the sum is basically zero, apart\n",
    "# from a tiny roundoff error)\n",
    "print(np.sum(cum_depo))"
   ]
  },
  {
   "cell_type": "markdown",
   "metadata": {},
   "source": [
    "### Click here for more <a href=\"https://landlab.readthedocs.io/en/latest/user_guide/tutorials.html\">Landlab tutorials</a>"
   ]
  }
 ],
 "metadata": {
  "kernelspec": {
   "display_name": "Python 3",
   "language": "python",
   "name": "python3"
  },
  "language_info": {
   "codemirror_mode": {
    "name": "ipython",
    "version": 3
   },
   "file_extension": ".py",
   "mimetype": "text/x-python",
   "name": "python",
   "nbconvert_exporter": "python",
   "pygments_lexer": "ipython3",
   "version": "3.7.9"
  }
 },
 "nbformat": 4,
 "nbformat_minor": 4
}
