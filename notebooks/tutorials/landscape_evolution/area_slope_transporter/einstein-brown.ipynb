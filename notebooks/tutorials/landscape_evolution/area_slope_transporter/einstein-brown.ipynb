{
 "cells": [
  {
   "cell_type": "markdown",
   "id": "246222ae",
   "metadata": {},
   "source": [
    "# Unit tests and parameterization for `AreaSlopeTransporter`\n",
    "\n",
    "*(Greg Tucker, University of Colorado Boulder, October 2022)*\n",
    "\n",
    "This notebook gives background on the default parameters for the `AreaSlopeTransporter` component, and also provides the calculations for a set of unit tests that are used in the code.\n",
    "\n",
    "## Parameters for the Einstein-Brown transport equation\n",
    "\n",
    "The `AreaSlopeTransporter` component calculates fluvial volumetric sediment flux, $Q_s$, from a generic area-slope power law:\n",
    "\n",
    "$$Q_s = k_s A^m S^n$$\n",
    "\n",
    "This section works out the transport parameters $k_s$, $m$, and $n$ for the Einstein-Brown law, based on Willgoose's 1991 appendix but adding the extra step of integrating across a channel of width $W = a Q^b$ to get total volumetric transport rate. These parameters are used as the default in the component."
   ]
  },
  {
   "cell_type": "markdown",
   "id": "c27c75ed",
   "metadata": {},
   "source": [
    "### Converting to area-slope form\n",
    "\n",
    "(This follows Willgoose et al. (1991a WRR) appendix):\n",
    "\n",
    "Dimensionless transport rate:\n",
    "\n",
    "$$\\phi = 40 \\tau_*^3$$\n",
    "\n",
    "Definition of dimensionless xport rate:\n",
    "\n",
    "$$\\phi = \\frac{M_s}{\\rho_s F_1 \\sqrt{g(s - 1) D^3}}$$\n",
    "\n",
    "where $M_s$ sediment discharge in mass/time/width, $s$ is sed specific grav, $D$ is grain diameter. \n",
    "\n",
    "$\\tau_*$ is the usual:\n",
    "\n",
    "$$\\tau_* = \\frac{\\tau_b}{(\\rho_s - \\rho) g D}$$\n",
    "\n",
    "The weirdo factor is:\n",
    "\n",
    "$$F_1 = \\sqrt{\\frac{2}{3} + \\frac{36\\nu^2}{g D^3 (s-1)}}\n",
    "- \\sqrt{\\frac{36\\nu^2}{gD^3(s-1)}}$$\n",
    "\n",
    "From plenty of other derivations, we can cast $\\tau_b$ in terms of discharge and slope. Here's one version using the Manning equation for a wide channel:\n",
    "\n",
    "$$\\tau_b = \\rho g H S$$\n",
    "\n",
    "$$Q = \\frac{1}{n} W H^{5/3} S^{1/2}$$\n",
    "\n",
    "$$H^{5/3} = \\frac{Qn}{WS^{1/2}}$$\n",
    "\n",
    "\n",
    "$$H = \\frac{(Qn)^{3/5}}{W^{3/5}S^{3/10}}$$\n",
    "\n",
    "Check the units here... we have L$^{9/5 - 3/5 - 1/5}$ T$^{-3/5+3/5}$...ok.\n",
    "\n",
    "Plug in:\n",
    "\n",
    "$$\\tau_b = \\rho g \\frac{(Qn)^{3/5}}{W^{3/5}S^{3/10}} S$$\n",
    "\n",
    "Simplify\n",
    "\n",
    "$$\\tau_b = \\rho g n^{3/5} \\left(\\frac{Q}{W}\\right)^{3/5} S^{7/10}$$\n",
    "\n",
    "So then,\n",
    "\n",
    "$$\\phi = \\frac{40}{(\\rho_s - \\rho)^3 g^3 D^3} \\left(\\rho g n^{3/5} \\left(\\frac{Q}{W}\\right)^{3/5} S^{7/10}\\right)^3$$\n",
    "\n",
    "which converts to:\n",
    "\n",
    "$$\\phi = \\frac{40\\rho^3 g^3 n^{9/5}}{(\\rho_s - \\rho)^3 g^3 D^3} \\left( \\left(\\frac{Q}{W}\\right)^{3/5} S^{7/10}\\right)^3$$\n",
    "\n",
    "$$\\phi = \\frac{40 n^{9/5}}{(s - 1)^3 D^3} \\left(\\frac{Q}{W}\\right)^{1.8} S^{2.1}$$\n",
    "\n",
    "Check units again: L$^{-3/5 - 3 + 3.6 = 0}$, T$^{9/5 - 9/5 = 0}$.\n",
    "\n",
    "Now the annoying $\\phi$:\n",
    "\n",
    "$$q_s = \\frac{M_s}{\\rho_s} = F_1\\sqrt{g (s-1) D^3} \\frac{40 n^{9/5}}{(s - 1)^3 D^3} \\left(\\frac{Q}{W}\\right)^{1.8} S^{2.1}$$\n",
    "\n",
    "$$q_s = \\frac{M_s}{\\rho_s} = F_1\\sqrt{g} \\frac{40 n^{9/5}}{(s - 1)^{5/2} D^{3/2}} \\left(\\frac{Q}{W}\\right)^{1.8} S^{2.1}$$"
   ]
  },
  {
   "cell_type": "markdown",
   "id": "32486ffe",
   "metadata": {},
   "source": [
    "Now it's time to bring in the pesky channel-width issue:\n",
    "\n",
    "$$W = a Q^b$$\n",
    "\n",
    "$$q_s = \\frac{M_s}{\\rho_s} = F_1\\sqrt{g} \\frac{40 n^{9/5}}{(s - 1)^{5/2} D^{3/2}} \\left(\\frac{Q^{1-b}}{a}\\right)^{1.8} S^{2.1}$$\n",
    "\n",
    "$$q_s = \\frac{M_s}{\\rho_s} = F_1\\sqrt{g} \\frac{40 n^{9/5}}{(s - 1)^{5/2} D^{3/2}a^{9/5}} Q^{1.8(1-b)} S^{2.1}$$"
   ]
  },
  {
   "cell_type": "markdown",
   "id": "9dfb9286",
   "metadata": {},
   "source": [
    "Using $b=1/2$, we have:\n",
    "\n",
    "$$q_s = F_1\\sqrt{g} \\frac{40 n^{9/5}}{(s - 1)^{5/2} D^{3/2}a^{9/5}} Q^{0.9} S^{2.1}$$\n",
    "\n",
    "Let's now cast in terms of total flux, again with $b=1/2$:\n",
    "\n",
    "$$Q_s = a F_1\\sqrt{g} \\frac{40 n^{9/5}}{(s - 1)^{5/2} D^{3/2}a^{9/5}} Q^{1.4} S^{2.1}$$\n",
    "\n",
    "That's instantaneous. Let's factor in an intermittency factor, $I$, and combine pieces,\n",
    "\n",
    "$$Q_s = k_{sq} I Q^{1.4} S^{2.1}$$\n",
    "\n",
    "For $F_1$, we need a grain diameter, densities, and kinematic viscosity. Using 0.05 m for grain diameter,"
   ]
  },
  {
   "cell_type": "markdown",
   "id": "08be70eb",
   "metadata": {},
   "source": [
    "Next, we'll convert this into an area-slope formulation. Let's assume $Q_{bf} = RA$ (not ideal, given common sub-linear $A$ scaling, but let's run with it). Then,\n",
    "\n",
    "$$\\boxed{Q_s = k_s A^{1.4} S^{2.1}}$$\n",
    "\n",
    "where\n",
    "\n",
    "$$k_s = k_{sq} I R^{0.9}$$"
   ]
  },
  {
   "cell_type": "markdown",
   "id": "373665aa",
   "metadata": {},
   "source": [
    "### Estimating a value for $k_s$\n",
    "\n",
    "Ok, now for some numbers. Let's use $n=0.01$ in SI units. For bankfull width, if we use $b = 1/2$ and $a = 5$ s$^{1/2}$/m, and a bankfull runoff rate of 10 m/y, what would we have for width?"
   ]
  },
  {
   "cell_type": "code",
   "execution_count": null,
   "id": "237aaef6",
   "metadata": {},
   "outputs": [],
   "source": [
    "import numpy as np\n",
    "\n",
    "a = 5.0\n",
    "b = 0.5\n",
    "\n",
    "area = np.array([1.0e6, 10.0e6, 100.0e6, 1000.0e6])\n",
    "discharge = 1.0e-7 * area\n",
    "width = a * discharge**b\n",
    "print(\"At a bankfull discharge of:\", discharge, \"cms...\")\n",
    "print(\"...the corresponding bankfull width would be:\", width)"
   ]
  },
  {
   "cell_type": "markdown",
   "id": "7c766fcd",
   "metadata": {},
   "source": [
    "Note that this is just a rough guess at $a$. One should ideally interrogate hydraulic geometry, but here the purpose is simply to identify a value that is basically reasonable.\n",
    "\n",
    "Here's one example. Boulder Creek at Orodell has an annual peak (snow-melt) flow 500 cfs. How wide would it be at a = 1, 5, 10? Drainage area is 102 mi$^2$, or 264 km$^2$. The channel is roughly 20 m wide here (though possibly artifically narrowed by the road). If we assume the annual maximum flow is the bankfull event, how wide would the channel be if the coefficient were 5 and the exponent 1/2?"
   ]
  },
  {
   "cell_type": "code",
   "execution_count": null,
   "id": "905904d1",
   "metadata": {},
   "outputs": [],
   "source": [
    "Qbf = 500 * (0.3048**3)  # bankfull flow, converted to cms\n",
    "w = 5 * Qbf**0.5  # predicted width, m\n",
    "am2 = 102 * (5280 * 0.3048) ** 2  # while we're at it, convert drainage area to m2\n",
    "print(\"Peak discharge (cms):\", Qbf)\n",
    "print(\"Predicted width (m):\", w)\n",
    "print(\"Drainage area (km2):\", am2 / 1e6)\n",
    "print(\"Runoff rate (m/s):\", Qbf / am2)\n",
    "print(\"Runoff rate (m/y):\", Qbf * 3600 * 365.25 * 24 / am2)"
   ]
  },
  {
   "cell_type": "markdown",
   "id": "a3189172",
   "metadata": {},
   "source": [
    "The above turns out to be quite close to the estimated width of 20 m. Although this is just one example, and not a proper fit by any means, for our purposes it suffices to demonstrate that an $a$ value of 5 (in SI units) is not completely crazy.\n",
    "\n",
    "For the sake of estimating a default value for $k_s$, we'll choose values for the kinematic viscosity of water (which is temperature-dependent; the value $10^{-6}$  Pa$\\cdot$s applies to 20 $^\\circ$C), grain diameter (5 cm), and sediment immersed specific gravity (1.65, representing quartz). Clearly this means that the coefficient value depends in particular on grain diameter, and to a lesser extent on grain density.\n",
    "\n",
    "Next, the Einstein-Brown $F_1$ parameter:"
   ]
  },
  {
   "cell_type": "code",
   "execution_count": null,
   "id": "c86d49b6",
   "metadata": {},
   "outputs": [],
   "source": [
    "nu = 1.0e-6  # kinematic viscosity of water, m2/s\n",
    "D = 0.05  # grain diameter, m\n",
    "sm1 = 1.65  # immersed specific gravity\n",
    "g = 9.8\n",
    "\n",
    "term = (36.0 * nu**2) / (g * D**3 * sm1)\n",
    "F1 = ((2.0 / 3.0) + term) ** 0.5 - term**0.5\n",
    "print(\"F1 =\", F1)"
   ]
  },
  {
   "cell_type": "markdown",
   "id": "33b4e164",
   "metadata": {},
   "source": [
    "This allows us to calculate $k_{sq}$, here with $n=0.01$ and $a=5$,"
   ]
  },
  {
   "cell_type": "code",
   "execution_count": null,
   "id": "25ae9527",
   "metadata": {},
   "outputs": [],
   "source": [
    "n = 0.01  # Manning roughness coefficient in SI units\n",
    "a = 5.0  # width-discharge factor, SI\n",
    "\n",
    "ksq = a * F1 * g**0.5 * ((40.0 * n**4.5) / (sm1**2.5 * D**1.5 * a**4.5))\n",
    "print(\"ksq\", ksq)"
   ]
  },
  {
   "cell_type": "markdown",
   "id": "4a03862b",
   "metadata": {},
   "source": [
    "Next, we'll calculate the corresponding $k_s$ by applying a bankfull runoff rate (2 m/y) and an intermittency factor (0.01):"
   ]
  },
  {
   "cell_type": "code",
   "execution_count": null,
   "id": "7cf7ba6f",
   "metadata": {},
   "outputs": [],
   "source": [
    "R = 2.0  # bankfull runoff rate\n",
    "I = 0.01  # intermittency factor\n",
    "\n",
    "ks = ksq * I * R**0.9\n",
    "print(\"ks\", ks)"
   ]
  },
  {
   "cell_type": "markdown",
   "id": "8af87e8c",
   "metadata": {},
   "source": [
    "For landscape evolution, it makes sense to compute $Q_s$ in m$^3$/y rather than m$^3$/s, so we will factor a unit conversion into the coefficient:"
   ]
  },
  {
   "cell_type": "code",
   "execution_count": null,
   "id": "2d49dd79",
   "metadata": {},
   "outputs": [],
   "source": [
    "# Convert ks to time units of years:\n",
    "ksy = ks * 365.25 * 24 * 3600.0\n",
    "print(\"ksy\", ksy)"
   ]
  },
  {
   "cell_type": "markdown",
   "id": "2ee0ef71",
   "metadata": {},
   "source": [
    "If we round this off, we have our default value for $k_s$: 0.0055, with length units of m and time units of years."
   ]
  },
  {
   "cell_type": "markdown",
   "id": "8ab1d26b",
   "metadata": {},
   "source": [
    "Now we're ready to do a sanity check by examining the slope-area relationship. Let sediment flux be erosion rate times drainage area (ignoring fines and dissolved load), $Q_s = EA$. Equilibrium means:\n",
    "\n",
    "$$EA = k_s A^{1.4} S^{2.1}$$\n",
    "\n",
    "$$S = \\left(\\frac{E}{k_s}\\right)^{1/2.1} A^{-0.4/2.1}$$\n",
    "\n",
    "$$S \\approx \\left(\\frac{E}{k_s}\\right)^{0.48} A^{-0.19}$$\n",
    "\n",
    "\n"
   ]
  },
  {
   "cell_type": "code",
   "execution_count": null,
   "id": "6532da6b",
   "metadata": {},
   "outputs": [],
   "source": [
    "print(1 / 2.1)\n",
    "print(0.4 / 2.1)"
   ]
  },
  {
   "cell_type": "markdown",
   "id": "2b93e2aa",
   "metadata": {},
   "source": [
    "What does this imply for gradients given $E=10^{-4}$ m/y, and $A\\in (10, 100, 1000) $km$^2$?"
   ]
  },
  {
   "cell_type": "code",
   "execution_count": null,
   "id": "646d55ee",
   "metadata": {},
   "outputs": [],
   "source": [
    "E = 1.0e-4\n",
    "A = np.array([10.0e6, 100.0e6, 1000.0e6])\n",
    "\n",
    "print(\"S=\", (E / ksy) ** 0.48 * A ** (-0.19))"
   ]
  },
  {
   "cell_type": "markdown",
   "id": "9a4c3c49",
   "metadata": {},
   "source": [
    "These seem like reasonable values for gradient."
   ]
  },
  {
   "cell_type": "markdown",
   "id": "8b7b352b",
   "metadata": {},
   "source": [
    "## Unit tests\n",
    "\n",
    "### Default parameters\n",
    "\n",
    "Based on the derivation above, the default parameters will be $k_s = 0.0055$, $m=1.4$, $n=2.1$.\n",
    "\n",
    "### Slope-area for one grid cell\n",
    "\n",
    "Consider a grid cell 1000 x 1000 m with an uplift rate of $10^{-4}$ m/y. The sediment input rate is therefore 100 m$^3$/y. The resulting outflux should equal this:\n",
    "\n",
    "$$Q_s = 0.0055 (10^6)^{1.4} S^{2.1} = 100 m^3/y$$\n",
    "\n",
    "$$S = \\left( \\frac{(100)}{(0.0055)(10^6)^{1.4}}\\right)^{1/2.1}$$"
   ]
  },
  {
   "cell_type": "code",
   "execution_count": null,
   "id": "0da6a034",
   "metadata": {},
   "outputs": [],
   "source": [
    "Seq = (100.0 / (0.0055 * 1.0e6**1.4)) ** (1.0 / 2.1)\n",
    "elev_eq = Seq * 1000.0\n",
    "print(\"Equilibrium slope:\", Seq)\n",
    "print(\"Equilibrium elevation:\", elev_eq)\n",
    "\n",
    "# test: elevation at the node should be 1,068 cm when rounded to the nearest cm.\n",
    "print(\"Rounded elevation in cm:\", int(round(elev_eq * 100)))"
   ]
  },
  {
   "cell_type": "markdown",
   "id": "0153b247",
   "metadata": {},
   "source": [
    "### Transport capacity for a single cell\n",
    "\n",
    "Assume an elevation of 1.0 m, $\\Delta x = 100$ m. Drainage area therefore is 10,000 m$^2$ and slope is 0.01. Therefore with default parameters, the volumetric sediment discharge should be:"
   ]
  },
  {
   "cell_type": "code",
   "execution_count": null,
   "id": "8d79f056",
   "metadata": {},
   "outputs": [],
   "source": [
    "Qs = 0.0055 * (100 * 100) ** 1.4 * (0.01) ** 2.1\n",
    "print(\"Qs:\", Qs)\n",
    "print(\"Qs in liters per year (to nearest liter):\", int(Qs * 1000))"
   ]
  },
  {
   "cell_type": "markdown",
   "id": "a2818fcb",
   "metadata": {},
   "source": [
    "### Sediment rate of change\n",
    "\n",
    "Consider two core nodes flowing in one direction toward a single open boundary. Grid is raster with $\\Delta x = 100$ m. Slope is 0.01. Calculate $dz/dt$ at each grid node."
   ]
  },
  {
   "cell_type": "code",
   "execution_count": null,
   "id": "8f4475fd",
   "metadata": {},
   "outputs": [],
   "source": [
    "A = 1.0e4 * np.array([3, 2, 1])  # drainage area (m2); flow is right to left\n",
    "Qsout = np.zeros(len(A))\n",
    "Qsin = np.zeros(len(A))\n",
    "Qsout[1:] = 0.0055 * A[1:] ** 1.4 * 0.01**2.1  # sediment outflux from each node, m3/y\n",
    "Qsin[:2] = Qsout[1:]  # sediment influx to each node, m3/y\n",
    "dzdt = (Qsin - Qsout) / 1.0e4  # rate of elevation change, m/y\n",
    "print(Qsin)\n",
    "print(Qsout)\n",
    "print(dzdt)\n",
    "\n",
    "# test: answer should be array([ 0.   ,  0.365,  0.138])\n",
    "print(np.round(Qsout, 3))\n",
    "\n",
    "# test: answer should be array([ 0.365,  0.138,  0.   ])\n",
    "print(np.round(Qsin, 3))\n",
    "\n",
    "# test: answer should be array([ -2.26400000e-05,  -1.38200000e-05])\n",
    "print(np.round(dzdt[1:], 8))"
   ]
  },
  {
   "cell_type": "markdown",
   "id": "cdfe1534",
   "metadata": {},
   "source": [
    "### `run_one_step`\n",
    "\n",
    "Running one time step of 10,000 years with the above case should lower the nodes as follows:"
   ]
  },
  {
   "cell_type": "code",
   "execution_count": null,
   "id": "c9ef6b26",
   "metadata": {},
   "outputs": [],
   "source": [
    "elev = np.array([0.0, 1.0, 2.0])\n",
    "elev[1:] += dzdt[1:] * 10000.0  # erode for one time step of 10,000 years\n",
    "print(elev)\n",
    "\n",
    "# test: should be array([0.    , 0.7736, 1.8618])\n",
    "np.round(elev, 4)"
   ]
  },
  {
   "cell_type": "markdown",
   "id": "18c80703",
   "metadata": {},
   "source": [
    "These unit tests are embedded into the code as doctests."
   ]
  }
 ],
 "metadata": {
  "kernelspec": {
   "display_name": "Python 3 (ipykernel)",
   "language": "python",
   "name": "python3"
  },
  "language_info": {
   "codemirror_mode": {
    "name": "ipython",
    "version": 3
   },
   "file_extension": ".py",
   "mimetype": "text/x-python",
   "name": "python",
   "nbconvert_exporter": "python",
   "pygments_lexer": "ipython3",
   "version": "3.9.12"
  }
 },
 "nbformat": 4,
 "nbformat_minor": 5
}
