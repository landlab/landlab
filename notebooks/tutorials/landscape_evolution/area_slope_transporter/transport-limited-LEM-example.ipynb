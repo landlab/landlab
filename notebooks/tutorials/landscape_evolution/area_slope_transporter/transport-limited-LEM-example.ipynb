{
 "cells": [
  {
   "cell_type": "markdown",
   "id": "9b421a81",
   "metadata": {},
   "source": [
    "# Example of a transport-limited LEM using `AreaSlopeTransporter`\n",
    "\n",
    "*(Greg Tucker, University of Colorado Boulder, October 2022)*"
   ]
  },
  {
   "cell_type": "markdown",
   "id": "ff205964",
   "metadata": {},
   "source": [
    "This tutorial notebook illustrates how to use the Landlab `AreaSlopeTransporter` component to create a simple transport-limited Landscape Evolution Model (LEM)."
   ]
  },
  {
   "cell_type": "markdown",
   "id": "70d31294",
   "metadata": {},
   "source": [
    "## Background\n",
    "\n",
    "The `AreaSlopeTransporter` is a landscape evolution component that models the time rate of change of elevation at a set of grid nodes, each of which has a defined contributing drainage area $A$ (field `drainage_area`) and a local steepest-descent slope gradient, $S$, defined from the node itself toward one of its neighboring nodes. The drainage area and slope can be computed with a drainage-routing component such as `FlowAccumulator` or `PriorityFloodFlowAccumulator`. The component is designed to function as an integral part of a transport-limited landscape evolution model in the spirit of Willgoose et al. (1991a,b,c,d).\n",
    "\n",
    "Once $A$ and $S$ have been calculated, the volumetric outgoing sediment flux at each grid node is calculated using\n",
    "\n",
    "$$Q_{out} = k_s A^m S^n$$\n",
    "\n",
    "The component's default parameters are $m=1.4$, $n=2.1$, and $k_s = 0.0055$ (with time units of years). These defaults are based on Willgoose et al. (1991a), who used the Einstein-Brown sediment transport formula as a basis, but here modified to include an empirical sub-grid-cell channel width. The derivation is provided in a separate notebook (see *einstein-brown.ipynb*). The essence of the odd-seeming exponent values is this: Einstein-Brown describes a cubic dependence on shear stress, which essentially has a 2/3 power dependence on slope gradient. That gets you the power 2; the extra 0.1 shows up because of the use of the Manning equation to describe roughness, in which the roughness factor has a slight depenence on flow depth. The 1.4 exponent on drainage area has a similar story, with one difference from Willgoose et al. (1991a) (who used a 1.8 power) being the assumption that bankfull width is proportional to the square root of discharge. The derivation in the *einstein-brown.ipynb* notebook describes how that leads to 1.4 power scaling. Note that Howard (1994) also used Einstein-Brown as the basis for an alluvial-channel element of an otherwise detachment-limited landscape evolution model.\n",
    "\n",
    "The time rate of change of elevation is calculated over a grid cell at node $i$ with surface area $\\Lambda_i$, such that mass continuity gives the time rate of elevation ($z_i$) change (in the absence of other processes) as:\n",
    "\n",
    "$$\\frac{dz_i}{dt} = \\frac{Q_{in} - Q_{out}}{\\Lambda_i}$$\n",
    "\n",
    "The sediment influx at each node is calculated as the sum of outflux of all upstream neighbor nodes that flow to it.\n",
    "\n",
    "Note that this is a no-frills component, at least as of this writing. It uses only drainage area (not discharge, even if calculated). It uses a very basic forward-Euler solution algorithm, and so it requires very small time steps. There is no adaptive solver. It is designed mainly for illustrative purposes: to show how a basic transport-limited area-slope LEM behaves. As with all Landlab components, the user should understand the theory and be familiar with the background literature!\n",
    "\n",
    "*This Landlab component is dedicated to the memory of two remarkable hydrologists: Garry Willgoose and Ignacio Rodriguez-Iturbe.*"
   ]
  },
  {
   "cell_type": "markdown",
   "id": "a6cbe7a3",
   "metadata": {},
   "source": [
    "## Example\n",
    "\n",
    "The example uses a very small (15 x 15) domain, initially uplifted 25 m above the baselevel, which is represented by a single node in one corner of the grid. The small domain and short run duration are meant to keep the total run time under a second or so, depending on the computer architecture. The user is encouraged to experiment with larger domains and longer run durations, but beware that in general the larger the domain, the smaller the time-step size will need to be to ensure numerical stability. (If the concept of numerical instability is unfamiliar, then consultation of a textbook and/or online resources on numerical methods for partial differential equations is highly recommended.)"
   ]
  },
  {
   "cell_type": "code",
   "execution_count": null,
   "id": "ef70cf46",
   "metadata": {},
   "outputs": [],
   "source": [
    "import numpy as np\n",
    "import matplotlib.pyplot as plt\n",
    "import time\n",
    "from landlab import RasterModelGrid, imshow_grid\n",
    "from landlab.components import FlowAccumulator, AreaSlopeTransporter"
   ]
  },
  {
   "cell_type": "code",
   "execution_count": null,
   "id": "3664da8e",
   "metadata": {},
   "outputs": [],
   "source": [
    "# Parameters\n",
    "nrows = 15  # number of node rows\n",
    "ncols = 15  # number of node columns\n",
    "dx = 20.0  # grid node spacing, m\n",
    "run_duration = 4000.0  # run duration, y\n",
    "dt = 2.5  # time-step duration, y\n",
    "noise_amplitude = 1.0  # amplitude of initial random noise, m\n",
    "initial_height = 25.0  # initial plateau height, m\n",
    "seed = 1  # random seed"
   ]
  },
  {
   "cell_type": "code",
   "execution_count": null,
   "id": "cf1867e3",
   "metadata": {},
   "outputs": [],
   "source": [
    "# Control and derived parameters, and other setup\n",
    "elapsed_time = 0.0\n",
    "np.random.seed(seed)"
   ]
  },
  {
   "cell_type": "code",
   "execution_count": null,
   "id": "691db7bb",
   "metadata": {},
   "outputs": [],
   "source": [
    "# Initialize grid and set boundary conditions\n",
    "grid = RasterModelGrid((nrows, ncols), xy_spacing=dx)\n",
    "grid.status_at_node[grid.perimeter_nodes] = grid.BC_NODE_IS_CLOSED\n",
    "grid.status_at_node[ncols - 1] = grid.BC_NODE_IS_FIXED_VALUE  # corner outlet"
   ]
  },
  {
   "cell_type": "code",
   "execution_count": null,
   "id": "d2291edd",
   "metadata": {},
   "outputs": [],
   "source": [
    "# Create and initialize elevation field\n",
    "elev = grid.add_zeros(\"topographic__elevation\", at=\"node\")\n",
    "elev[grid.core_nodes] = initial_height + noise_amplitude * np.random.rand(\n",
    "    grid.number_of_core_nodes\n",
    ")"
   ]
  },
  {
   "cell_type": "code",
   "execution_count": null,
   "id": "6fe14526",
   "metadata": {},
   "outputs": [],
   "source": [
    "# Instantiate components\n",
    "fa = FlowAccumulator(grid, flow_director=\"FlowDirectorD8\")\n",
    "ast = AreaSlopeTransporter(grid)"
   ]
  },
  {
   "cell_type": "code",
   "execution_count": null,
   "id": "df427fce",
   "metadata": {},
   "outputs": [],
   "source": [
    "# Main loop\n",
    "start = time.time()\n",
    "while elapsed_time < run_duration:\n",
    "    fa.run_one_step()\n",
    "    ast.run_one_step(dt)\n",
    "    elapsed_time += dt\n",
    "\n",
    "wall_time = time.time() - start\n",
    "print(\"Wall time for run:\", wall_time, \"s\")"
   ]
  },
  {
   "cell_type": "code",
   "execution_count": null,
   "id": "f0154ba1",
   "metadata": {},
   "outputs": [],
   "source": [
    "# Display the final topography in map view\n",
    "imshow_grid(grid, elev)"
   ]
  },
  {
   "cell_type": "code",
   "execution_count": null,
   "id": "4ed48de9",
   "metadata": {},
   "outputs": [],
   "source": [
    "# Display the final topography in 3d surface view\n",
    "X = np.arange(0, dx * ncols, dx)\n",
    "Y = np.arange(0, dx * nrows, dx)\n",
    "X, Y = np.meshgrid(X, Y)\n",
    "\n",
    "fig, ax = plt.subplots(subplot_kw={\"projection\": \"3d\"})\n",
    "ax.plot_surface(X, Y, elev.reshape((nrows, ncols)))"
   ]
  },
  {
   "cell_type": "markdown",
   "id": "2ae1a623",
   "metadata": {},
   "source": [
    "## References\n",
    "\n",
    "Howard, A. D. (1994). A detachment‐limited model of drainage basin evolution. Water resources research, 30(7), 2261-2285.\n",
    "\n",
    "Tucker, G. E., & Hancock, G. R. (2010). Modelling landscape evolution. Earth Surface Processes and Landforms, 35(1), 28-50.\n",
    "\n",
    "Willgoose, G. (2018). *Principles of soilscape and landscape evolution.* Cambridge University Press.\n",
    "\n",
    "Willgoose, G., Bras, R. L., & Rodriguez‐Iturbe, I. (1991a). A coupled channel network growth and hillslope evolution model: 1. Theory. Water Resources Research, 27(7), 1671-1684.\n",
    "\n",
    "Willgoose, G., Bras, R. L., & Rodriguez‐Iturbe, I. (1991b). A coupled channel network growth and hillslope evolution model: 2. Nondimensionalization and applications. Water Resources Research, 27(7), 1685-1696.\n",
    "\n",
    "Willgoose, G., Bras, R. L., & Rodriguez‐Iturbe, I. (1991c). A physical explanation of an observed link area‐slope relationship. Water Resources Research, 27(7), 1697-1702.\n",
    "\n",
    "Willgoose, G., Bras, R. L., & Rodriguez‐Iturbe, I. (1991d). Results from a new model of river basin evolution. Earth Surface Processes and Landforms, 16(3), 237-254.\n"
   ]
  }
 ],
 "metadata": {
  "kernelspec": {
   "display_name": "Python 3 (ipykernel)",
   "language": "python",
   "name": "python3"
  },
  "language_info": {
   "codemirror_mode": {
    "name": "ipython",
    "version": 3
   },
   "file_extension": ".py",
   "mimetype": "text/x-python",
   "name": "python",
   "nbconvert_exporter": "python",
   "pygments_lexer": "ipython3",
   "version": "3.9.12"
  }
 },
 "nbformat": 4,
 "nbformat_minor": 5
}
