{
 "cells": [
  {
   "cell_type": "markdown",
   "id": "threaded-aircraft",
   "metadata": {},
   "source": [
    "# The Landlab GravelRiverTransporter Component\n",
    "\n",
    "*G.E. Tucker, CIRES and Department of Geological Sciences, University of Colorado Boulder*\n",
    "\n",
    "This notebook describes the `GravelRiverTransporter` component and its underlying theory, and provides some simple examples of usage.\n",
    "\n",
    "\n",
    "## Overview\n",
    "\n",
    "`GravelRiverTransporter` is a Landlab component for modeling landscape evolution in the context of a network of gravel-bed alluvial channels. The component is meant to operate on a 2d grid in conjunction with a single-direction flow routing scheme, such that each grid node drains to one and only one of its neighbors. Channels are assumed to be sub-grid-scale features with a bankfull channel width that adjusts according to the local discharge, slope, and grain diameter. The approach follows that of Wickert & Schildgen (2019), but with two additions:\n",
    "\n",
    "1. Because the channel network is calculated from, and embedded within, a topographic field represented as a 2d grid, conservation of mass is calculated on the basis of individual grid cells rather than using a prescribed valley width.\n",
    "\n",
    "2. The theory implemented by the component includes the progressive loss of gravel load due to abrasion; the lost material is assumed to become part of the suspended and/or wash load, which is not explicitly tracked.\n",
    "\n",
    "The theory that channels with gravel bed and bank materials tend to adjust their shear stress ratio dates back to Parker (1978), and a variety of studies have supported the idea for gravel rivers. Phillips and Jerolmack (2016) argued that the concept may also be applicable to some \"bedrock\" rivers as well (the question depends somewhat on the definition of \"bedrock river\", but presumably would apply to a river that is capable of eroding into bedrock but that also has at least one self-formed bank made of alluvial material, so that erosion or deposition of bank material alters the hydraulic geometry)."
   ]
  },
  {
   "cell_type": "markdown",
   "id": "sudden-singles",
   "metadata": {},
   "source": [
    "## Theory\n",
    "\n",
    "### Channel-width adjustment\n",
    "\n",
    "We treat only the coarse, bed-load fraction. We assume channel width adjusts so as to ensure that bankfull shear stress is slightly larger (by a fraction $\\epsilon$) than critical shear stress for the median sediment diameter. Wickert & Schildgen (2019) show that when this is the case, the channel tends to adjust such that its bankfull width depends on bankfull discharge, $Q$, channel gradient, $S$, and the median diameter of sediment on the bed, $D$, as follows: \n",
    "\n",
    "$$b = k_b \\frac{QS^{7/6}}{D^{3/2}}$$\n",
    "\n",
    "where $k_b$ is a factor given by:\n",
    "\n",
    "$$k_b = 0.17 g^{-1/2} \\left[ \\left(\\frac{\\rho_s-\\rho}{\\rho}\\right)(1+\\epsilon )\\tau_c^*\\right]^{-5/3}$$\n",
    "\n",
    "where $g$ is gravitational acceleration, $\\rho_s$ is sediment grain density, $\\rho$ is water density, $\\epsilon$ is the ratio of bankfull to critical shear stress, and $\\tau_c^*$ is the critical Shields stress (i.e., dimensionless critical shear stress). Using $g=9.8$ m/s$^2$, $\\rho_s=2,650$ kg/m$^3$ (quartz), $\\rho=1,000$ kg/m$^3$, $\\epsilon=0.2$, and $\\tau_c^*=0.0495$ (from Wong & Parker, 2006), the value of $k_b$ is approximately 2.61 s/m$^{1/2}$ (as calculated below)."
   ]
  },
  {
   "cell_type": "code",
   "execution_count": null,
   "id": "4af64b72",
   "metadata": {},
   "outputs": [],
   "source": [
    "g = 9.8  # gravitational acceleration, m/s2\n",
    "rhos = 2650.0  # sediment density, kg/m3\n",
    "rho = 1000.0  # water density, kg/m3\n",
    "eps = 0.2  # shear stress ratio\n",
    "taustarc = 0.0495  # critical Shields stress (here from Wong & Parker (2006))\n",
    "\n",
    "kb = 0.17 * g ** (-0.5) * (((rhos - rho) / rho) * (1 + eps) * taustarc) ** (-5.0 / 3.0)\n",
    "print(\"kb =\", kb, \"seconds per square-root meter\")\n",
    "print(\"kb =\", kb / (3600 * 24 * 365.25), \"years per square-root meter\")"
   ]
  },
  {
   "cell_type": "markdown",
   "id": "711ed123",
   "metadata": {},
   "source": [
    "For example, the width of a channel with 1 cm diameter sediment on the bed, a 1% gradient, and a bankfull discharge with 1 cms discharge would be:"
   ]
  },
  {
   "cell_type": "code",
   "execution_count": null,
   "id": "designing-touch",
   "metadata": {},
   "outputs": [],
   "source": [
    "D = 0.01  # grain diameter, m\n",
    "Q = 1.0  # bankfull discharge, m3/s\n",
    "S = 0.01  # slope gradient, m/m\n",
    "print(\"b = \" + str(kb * Q * S ** (7.0 / 6.0) / D**1.5), \"meters\")"
   ]
  },
  {
   "cell_type": "markdown",
   "id": "ad3cf97e",
   "metadata": {},
   "source": [
    "Note that one aspect of the above width theory that may limit its applicability is the prediction that width should *increase* when slope increases. To appreciate where this comes from, recall that boundary shear stress in a relatively wide channel is proportional to the depth-slope product (i.e., $\\tau \\approx \\rho g H S$, where $H$ is depth and $S$ is slope). All else equal, for a fixed shear stress, a steeper channel should be shallower and vice versa. For a given discharge, a shallower channel must either be wider or have faster flow, or both. So the prediction is logically and mathematically consistent. However, it neglects potential variations in roughness, and in particular the possibility that steeper channels might become rougher as the flow increases toward criticality (as suggested by Grant, 1997). The theory outlined here does not attempt to account for this effect, but users of the component should be aware of this limitation. In addition, the underlying treatment of shear stress as proportional to depth times slope is not appropriate for channels with a relatively small width-depth ratio. The component does not include any checks on this, so the user should be alert to unrealistic behavior when the calculated channel width is rather narrow."
   ]
  },
  {
   "cell_type": "markdown",
   "id": "endless-blast",
   "metadata": {},
   "source": [
    "### Gravel transport rate\n",
    "\n",
    "We follow Wickert and Schildgen (2019) in using the Meyer-Peter and Müller (1948) equation for bed-load transport, as modified by Wong and Parker (2006). When combined with the width-closure equation above, the predicted gravel transport rate is:\n",
    "\n",
    "$$Q_s = k_Q I Q S^{7/6}$$\n",
    "\n",
    "where $k_Q$ is a dimensionless transport efficiency factor equal to $\\approx 0.041$. The variable $I$ is an efficiency factor, defined as the fraction of time that bankfull discharge occurs. In other words, one of the simplifications of the model is that the channel has two states: for a small fraction of the year, flow is equal to bankfull; for the rest of the time, the flow is too low to move any sediment.\n",
    "\n",
    "To get a sense for what the transport law implies about rates, consider a case in which $Q = 1$ cms, $S = 0.01$, and bankfull flow occurs for 1% of the year:"
   ]
  },
  {
   "cell_type": "code",
   "execution_count": null,
   "id": "crazy-weapon",
   "metadata": {},
   "outputs": [],
   "source": [
    "Qs = 0.041 * 0.01 * 1 * (0.01) ** (7.0 / 6.0)\n",
    "print(\"Qs\", Qs, \"cms\")\n",
    "print(\"Qs\", Qs * 3600 * 24 * 265.25, \"cubic meters per year\")"
   ]
  },
  {
   "cell_type": "markdown",
   "id": "informational-philadelphia",
   "metadata": {},
   "source": [
    "This implies that 1 cms on a slope of 0.01 would carry about $2 \\times 10^{-6}$ cms of sediment, or about 44 cubic meters in a given year."
   ]
  },
  {
   "cell_type": "markdown",
   "id": "f2e7a19c",
   "metadata": {},
   "source": [
    "### Gravel abrasion\n",
    "\n",
    "The component uses a Sternberg-like method to calculate the downstream loss of mass to abrasion. The abrasion model is inspired by Attal & Lave (2006, 2009). We assume that the rate of loss of gravel mass to finer material per unit transport distance, $A$, is proportional to the gravel transport rate, $Q_s$:\n",
    "\n",
    "$$A = \\beta Q_s$$\n",
    "\n",
    "where $\\beta$ is an abrasion coefficient with units of inverse length.\n",
    "\n",
    "To appreciate the implication of this treatment, consider a reach of channel with an incoming gravel load $Q_0$ at the head of the reach, and no inputs along the reach itself. The rate of change of gravel load with respect to downstream distance, $x$, is:\n",
    "\n",
    "$$\\frac{dQ_s}{dx} = -\\beta Q_s$$\n",
    "\n",
    "Integrating downstream from the head of the reach $x=0$, where $Q_s=Q_0$, \n",
    "\n",
    "$$Q_s = Q_0 e^{-\\beta x}$$\n",
    "\n",
    "In other words, one obtains a Sternberg-like profile, except here expressed in terms of remaining gravel load rather than median size."
   ]
  },
  {
   "cell_type": "markdown",
   "id": "f09dfd99",
   "metadata": {},
   "source": [
    "## Setting up a gravel river model\n",
    "\n",
    "In the code below, we create a class that turns the `GravelRiverTransporter` component into a stand-alone model. This will make it simpler to set up and run examples."
   ]
  },
  {
   "cell_type": "code",
   "execution_count": null,
   "id": "forty-importance",
   "metadata": {},
   "outputs": [],
   "source": [
    "import numpy as np\n",
    "from landlab import create_grid, RasterModelGrid, imshow_grid\n",
    "from landlab.components import GravelRiverTransporter, FlowAccumulator\n",
    "from landlab.plot.drainage_plot import drainage_plot\n",
    "from copy import deepcopy\n",
    "import matplotlib.pyplot as plt\n",
    "import matplotlib as mpl\n",
    "\n",
    "mpl.rcParams[\"figure.dpi\"] = 300"
   ]
  },
  {
   "cell_type": "code",
   "execution_count": null,
   "id": "e8f52c66",
   "metadata": {},
   "outputs": [],
   "source": [
    "class GravelRiverNetworkModel:\n",
    "    \"\"\"Model of gravel river transport & evolution on a\n",
    "    flow-network grid.\n",
    "\n",
    "    Parameters\n",
    "    ----------\n",
    "    grid_params : dict\n",
    "        Dictionary of grid parameters (for format see create_grid)\n",
    "    flow_params : dict\n",
    "        Dictionary with FlowAccumulator parameters\n",
    "    fluvial_params : dict, default empty\n",
    "        Dictionary with GravelRiverTransporter parameters\n",
    "    initial_noise_amplitude : float, default 0\n",
    "        Amplitude of random noise on initial topography\n",
    "    uplift_rate : float, default 0.0001\n",
    "        Applied uplift (baselevel) rate in m/y\n",
    "    run_duration : float, default 1.0e4\n",
    "        Duration of run in years\n",
    "    dt : float, default 100\n",
    "        Time-step duration, years\n",
    "    grid_setup_fn : function, default None\n",
    "        Handle to user-defined function to set up the grid\n",
    "    grid_setup_params : dict, default empty\n",
    "        Dict with any parameters to be passed to the above function\n",
    "    \"\"\"\n",
    "\n",
    "    _DEFAULT_GRID_PARAMS = {\n",
    "        \"RasterModelGrid\": {\n",
    "            \"shape\": (4, 5),\n",
    "            \"xy_spacing\": 1000.0,\n",
    "            \"fields\": {\n",
    "                \"node\": {\"topographic__elevation\": {\"constant\": [{\"value\": 0.0}]}}\n",
    "            },\n",
    "        }\n",
    "    }\n",
    "\n",
    "    _DEFAULT_FLOW_PARAMS = {\"flow_director\": \"FlowDirectorD8\"}\n",
    "\n",
    "    _DEFAULT_FLUVIAL_PARAMS = {}\n",
    "\n",
    "    def __init__(\n",
    "        self,\n",
    "        grid_params=_DEFAULT_GRID_PARAMS,\n",
    "        flow_params=_DEFAULT_FLOW_PARAMS,\n",
    "        fluvial_params=_DEFAULT_FLUVIAL_PARAMS,\n",
    "        initial_noise_amplitude=0.0,\n",
    "        uplift_rate=0.0001,\n",
    "        run_duration=1.0e4,\n",
    "        dt=100.0,\n",
    "        grid_setup_fn=None,\n",
    "        grid_setup_params={},\n",
    "    ):\n",
    "        \"\"\"Initialize GravelRiverNetworkModel.\"\"\"\n",
    "\n",
    "        self.grid = create_grid({**self._DEFAULT_GRID_PARAMS, **grid_params})\n",
    "        self.elev = self.grid.at_node[\"topographic__elevation\"]\n",
    "        if grid_setup_fn is not None:\n",
    "            grid_setup_fn(self.grid, **grid_setup_params)\n",
    "        if initial_noise_amplitude > 0.0:\n",
    "            self.elev[self.grid.core_nodes] += initial_noise_amplitude * np.random.rand(\n",
    "                self.grid.number_of_core_nodes\n",
    "            )\n",
    "        self.flow_handler = FlowAccumulator(\n",
    "            self.grid, **{**self._DEFAULT_FLOW_PARAMS, **flow_params}\n",
    "        )\n",
    "        self.transporter = GravelRiverTransporter(\n",
    "            self.grid, **{**self._DEFAULT_FLUVIAL_PARAMS, **fluvial_params}\n",
    "        )\n",
    "        self.uplift_rate = uplift_rate\n",
    "        self.time_remaining = run_duration\n",
    "        self.dt = dt\n",
    "\n",
    "    def run(self):\n",
    "        \"\"\"Run model from start to finish.\"\"\"\n",
    "        while self.time_remaining > 0.0:\n",
    "            dt = min(self.dt, self.time_remaining)\n",
    "            self.update(dt)\n",
    "            self.time_remaining -= dt\n",
    "\n",
    "    def update(self, dt):\n",
    "        \"\"\"Update for one time step of duration dt.\"\"\"\n",
    "        self.elev[self.grid.core_nodes] += self.uplift_rate * dt\n",
    "        self.flow_handler.run_one_step()\n",
    "        self.transporter.run_one_step(dt)"
   ]
  },
  {
   "cell_type": "markdown",
   "id": "f3879c7b",
   "metadata": {},
   "source": [
    "## Example: 1d longitudinal profile\n",
    "\n",
    "This example compares a 1d profile version of the model with the steady analytical solution. The analytical solution is presented in two parts: the special case of no abrasion ($\\beta = 0$), and the more general case with abrasion ($\\beta > 0$).\n",
    "\n",
    "### Special case of no abrasion\n",
    "\n",
    "#### Downstream gravel flux\n",
    "\n",
    "Consider a valley of width $\\Delta y$ with no tributaries or other inputs of water or sediment. Down-valley distance is $x$. Let the bankfull runoff rate be $r$ (in depth of runoff per time, e.g., meters per year), and assume the discharge is proportional to drainage area, $A$, such that the bankfull discharge increases linearly with down-valley distance:\n",
    "\n",
    "$$Q = r A = r x \\Delta y$$\n",
    "\n",
    "Let the steady erosion (channel lowering) rate be $E$. When the erosion rate is steady, the rate of increase in volumetric gravel flux with respect to down-valley distance depends on two effects: the addition of new gravel through lowering of the valley, and the loss of gravel to finer material through abrasion. We can express this as:\n",
    "\n",
    "$$\\frac{dQ_s}{dx} = \\psi (1-\\phi_s) E\\Delta y - \\beta Q_s$$\n",
    "\n",
    "Here $\\phi_s$ is the porosity of the substrate into which the valley lowers through time, and $\\psi$ is the fraction of entrained material that is of gravel size (note that the latter parameter is assumed to be unity in the GravelRiverTransporter component).\n",
    "\n",
    "For the special case of $\\beta = 0$ (no abrasion), the integral is simply:\n",
    "\n",
    "$$\\boxed{Q_s = \\psi (1-\\phi_s) E\\Delta y x}$$\n",
    "\n",
    "In other words, with no abrasion, the gravel flux increases linearly down-valley.\n",
    "\n",
    "#### Profile shape\n",
    "\n",
    "To solve for the profile shape, we set the gravel flux equal to the transport rate and solve for slope gradient. For the special case of no abrasion ($\\beta = 0$),\n",
    "\n",
    "$$k_Q I Q S^{7/6} = \\psi (1-\\phi_s) E \\Delta y x$$\n",
    "\n",
    "Rearranging, and substituting the relationship between discharge and distance,\n",
    "\n",
    "$$\\boxed{S = \\left(\\frac{\\psi (1-\\phi_s) E}{k_Q I r}\\right)^{6/7}}$$\n",
    "\n",
    "Note that slope gradient does not depend on position along the valley! In other words, when the rate of water and sediment addition down-valley are both linear, the two effects balance and gradient remains constant. All else equal, the profile will be steeper with more sediment (higher $E$, $\\psi$) and gentler with more transport potential (more frequent flow, more runoff, or a higher transport coefficient).\n",
    "\n",
    "#### Numerical test\n",
    "\n",
    "To create an effectively one-dimensional domain, we run a model with three rows of nodes, two of which are closed boundaries and one of which is the model domain. The code below can be summarized as:\n",
    "\n",
    "1. Define a grid setup function to configure a 1d domain with an initial down-valley slope.\n",
    "2. Set parameter values.\n",
    "3. Create dictionaries for the grid, flow, and fluvial parameters.\n",
    "4. Instantiate and initialize the model object.\n",
    "5. Run it.\n",
    "6. Plot and compare with analytical solutions.\n"
   ]
  },
  {
   "cell_type": "code",
   "execution_count": null,
   "id": "3a339f2e",
   "metadata": {},
   "outputs": [],
   "source": [
    "# Define grid setup function for 3 rows with open boundary at right side\n",
    "def channel_profile_setup(grid, init_slope):\n",
    "    \"\"\"Set boundary nodes to CLOSED except the right side, which is the profile\n",
    "    outlet; give\"\"\"\n",
    "    grid.status_at_node[grid.perimeter_nodes] = grid.BC_NODE_IS_CLOSED\n",
    "    grid.status_at_node[grid.nodes_at_right_edge] = grid.BC_NODE_IS_FIXED_VALUE\n",
    "    grid.at_node[\"topographic__elevation\"][grid.core_nodes] = init_slope * (\n",
    "        np.amax(grid.x_of_node) - grid.x_of_node[grid.core_nodes]\n",
    "    )"
   ]
  },
  {
   "cell_type": "code",
   "execution_count": null,
   "id": "12006f5f",
   "metadata": {},
   "outputs": [],
   "source": [
    "# Parameters\n",
    "nrows = 3\n",
    "ncols = 17\n",
    "dx = 1000.0  # grid spacing, m\n",
    "bf_runoff_rate = 10.0  # bankfull runoff rate, m/y\n",
    "imfac = 0.01  # intermittency factor, -\n",
    "xport_coef = 0.041  # transport coefficient, -\n",
    "abr_coef = 0.0  # abrasion coefficient, 1/m\n",
    "porosity = 0.35  # sediment porosity, -\n",
    "uplift_rate = 0.0001  # uplift (i.e., baselevel) rate, m/y"
   ]
  },
  {
   "cell_type": "code",
   "execution_count": null,
   "id": "14a7a12d",
   "metadata": {},
   "outputs": [],
   "source": [
    "# Group parameters into dicts for grid, flow, and fluvial\n",
    "profile_grid_params = {\n",
    "    \"RasterModelGrid\": {\n",
    "        \"shape\": (nrows, ncols),\n",
    "        \"xy_spacing\": dx,\n",
    "        \"fields\": {\"node\": {\"topographic__elevation\": {\"constant\": [{\"value\": 0.0}]}}},\n",
    "    }\n",
    "}\n",
    "\n",
    "flow_params = {\n",
    "    \"flow_director\": \"FlowDirectorD8\",\n",
    "    \"runoff_rate\": bf_runoff_rate,\n",
    "}\n",
    "\n",
    "fluvial_params = {\n",
    "    \"intermittency_factor\": imfac,\n",
    "    \"transport_coefficient\": xport_coef,\n",
    "    \"abrasion_coefficient\": abr_coef,\n",
    "    \"sediment_porosity\": porosity,\n",
    "}"
   ]
  },
  {
   "cell_type": "code",
   "execution_count": null,
   "id": "d489a268",
   "metadata": {},
   "outputs": [],
   "source": [
    "# Instantiate model\n",
    "model = GravelRiverNetworkModel(\n",
    "    profile_grid_params,\n",
    "    flow_params,\n",
    "    fluvial_params,\n",
    "    uplift_rate=uplift_rate,\n",
    "    run_duration=1.8e7,\n",
    "    dt=3000.0,\n",
    "    grid_setup_fn=channel_profile_setup,\n",
    "    grid_setup_params={\"init_slope\": 0.0001},\n",
    ")"
   ]
  },
  {
   "cell_type": "code",
   "execution_count": null,
   "id": "dc2cea82",
   "metadata": {},
   "outputs": [],
   "source": [
    "# Run model\n",
    "model.run()"
   ]
  },
  {
   "cell_type": "code",
   "execution_count": null,
   "id": "27edf0e8",
   "metadata": {},
   "outputs": [],
   "source": [
    "# Set up for plotting 1D profiles\n",
    "midrow = np.arange(ncols + 1, 2 * ncols, dtype=int)\n",
    "profile_x = model.grid.x_of_node[midrow]"
   ]
  },
  {
   "cell_type": "code",
   "execution_count": null,
   "id": "a6059c9a",
   "metadata": {},
   "outputs": [],
   "source": [
    "# Calculate analytical solution for gravel flux\n",
    "Qspred = uplift_rate * (1 - porosity) * dx * profile_x\n",
    "\n",
    "# Plot\n",
    "plt.plot(profile_x / 1000.0, Qspred, \"ro-\")\n",
    "plt.plot(\n",
    "    profile_x[:-1] / 1000.0,\n",
    "    model.grid.at_node[\"bedload_sediment__volume_outflux\"][midrow[:-1]],\n",
    "    \".-\",\n",
    ")\n",
    "plt.xlabel(\"Distance (km)\")\n",
    "plt.ylabel(\"Sediment flux (m3/y)\")\n",
    "plt.legend([\"Analytical\", \"Computed\"])\n",
    "\n",
    "# Report\n",
    "print(\"Predicted gravel flux at outlet:\", Qspred[-2], \"m3/y\")\n",
    "print(\n",
    "    \"Computed gravel flux:\",\n",
    "    model.grid.at_node[\"bedload_sediment__volume_outflux\"][midrow[-2]],\n",
    "    \"m3/y\",\n",
    ")"
   ]
  },
  {
   "cell_type": "code",
   "execution_count": null,
   "id": "fbe806ee",
   "metadata": {},
   "outputs": [],
   "source": [
    "# Calculate analytical solution for gradient\n",
    "Spred = (\n",
    "    1.0 * (1.0 - porosity) * uplift_rate / (xport_coef * imfac * bf_runoff_rate)\n",
    ") ** (6.0 / 7.0)\n",
    "\n",
    "# Analytical solution for height\n",
    "Zpred = Spred * (np.amax(model.grid.x_of_node) - model.grid.x_of_node[midrow])\n",
    "\n",
    "# Plot\n",
    "plt.plot(model.grid.x_of_node[midrow] / 1000.0, Zpred, \"ro-\")\n",
    "plt.plot(model.grid.x_of_node[midrow] / 1000.0, model.elev[midrow], \".-\")\n",
    "plt.xlabel(\"Distance (km)\", fontsize=14)\n",
    "plt.ylabel(\"Elevation (m)\", fontsize=14)\n",
    "plt.grid(True)\n",
    "\n",
    "# Report\n",
    "print(\"Predicted gradient:\", Spred)\n",
    "print(\n",
    "    \"Computed gradient at outlet:\",\n",
    "    np.mean(model.grid.at_node[\"topographic__steepest_slope\"][midrow[-2]]),\n",
    ")"
   ]
  },
  {
   "cell_type": "markdown",
   "id": "6efd2a0d",
   "metadata": {},
   "source": [
    "The above example demonstrates that the model can reproduce the expected equilibrium without abrasion, and that it takes a long time (about 18 million years using the given parameters) to get there. The example also illustrates the uniform gradient predicted by the case without sediment abrasion (which is at odds with the common observation that channel longitudinal profiles tend to be concave-upward).\n",
    "\n",
    "We can also examine the implied channel width. The width depends median bed grain diameter, so we will set this to 10 cm for illustrative purposes:"
   ]
  },
  {
   "cell_type": "code",
   "execution_count": null,
   "id": "e3956c5b",
   "metadata": {},
   "outputs": [],
   "source": [
    "w = model.transporter.calc_implied_width(grain_diameter=0.1)\n",
    "plt.plot(profile_x[:-1] / 1000.0, w[midrow[:-1]])\n",
    "plt.xlabel(\"Distance (km)\")\n",
    "_ = plt.ylabel(\"Bankfull channel width (m)\")"
   ]
  },
  {
   "cell_type": "markdown",
   "id": "f3d8956f",
   "metadata": {},
   "source": [
    "Without abrasion (and with a linear relation between bankfull discharge and drainage area), we obtain the odd result that width increases linearly with bankfull discharge, rather than approximately square-root relation that is commonly observed. This in fact is perfectly consistent: since the channel maintains a fixed shear-stress ratio, the only way for the channel to accommodate a downstream-increasing sediment load is by widening, and because the sediment load grows linearly downstream, so too must the channel width.\n",
    "\n",
    "Neither the linear profile nor the linear width increase are particularly realistic, at least when compared with most erosional river profiles. The next example looks at the role of gravel abrasion, and considers the extent to which it can produce more realistic profile morphology."
   ]
  },
  {
   "cell_type": "markdown",
   "id": "4e34841d",
   "metadata": {},
   "source": [
    "\n",
    "### General case with abrasion\n",
    "\n",
    "#### Downstream gravel flux\n",
    "\n",
    "Recall that the downstreamrate of change in gravel flux is \n",
    "\n",
    "$$\\frac{dQ_s}{dx} = \\psi (1-\\phi_s) E\\Delta y - \\beta Q_s$$\n",
    "\n",
    "To integrate this for the general case of $\\beta > 0$, we can use the method of substitution. Let $\\alpha = \\psi (1-\\phi_s) E \\Delta y$, and $w = \\alpha - \\beta Q_s$. Then $dw = -\\beta dQ_s$, so that $dQ_s = -(1/\\beta) dw$. \n",
    "\n",
    "At $x=0$, the head of the reach, $Q_s=0$. Therefore, when $x=0$, $w=\\alpha$.\n",
    "\n",
    "Substituting these,\n",
    "\n",
    "$$-\\frac{1}{\\beta} \\frac{dw}{dx} = w$$\n",
    "\n",
    "$$\\frac{1}{w}dw = -\\beta dx$$\n",
    "\n",
    "Integrating from $w = \\alpha$ to $w$ and from $x = 0$ to $x$,\n",
    "\n",
    "$$\\ln \\frac{w}{\\alpha} = -\\beta x$$\n",
    "\n",
    "$$\\frac{w}{\\alpha} = e^{-\\beta x}$$\n",
    "\n",
    "$$\\alpha - \\beta Q_s = \\alpha e^{-\\beta x}$$\n",
    "\n",
    "$$\\beta Q_s = \\alpha (1 - e^{-\\beta x})$$\n",
    "\n",
    "$$\\boxed{Q_s = \\frac{\\psi (1-\\phi_s) E \\Delta y}{\\beta} (1 - e^{-\\beta x})}$$\n",
    "\n",
    "The implication is that the sediment flux is a saturating exponential that asymptotes to an equilibrium value \n",
    "\n",
    "$$Q_s^\\text{eq} = \\frac{\\psi (1-\\phi_s) E \\Delta y}{\\beta}$$\n",
    "\n",
    "which represents a balance between addition of gravel-size sediment through erosional lowering, and loss of gravel-size sediment to finer material through abrasion. The equilibrium flux is larger when the erosion rate is faster, the valley is wider, the eroded material produces a higher gravel fraction, or the eroded material is less porous. The flux is smaller when the abrasion rate is higher.\n",
    "\n",
    "\n",
    "\n",
    "#### Profile shape\n",
    "\n",
    "Setting transport rate and gravel supply equal,\n",
    "\n",
    "$$k_Q I Q S^{7/6} = \\frac{\\psi (1-\\phi_s) E \\Delta y}{\\beta} (1 - e^{-\\beta x})$$\n",
    "\n",
    "Solving for gradient,\n",
    "\n",
    "$$S = \\left( \\frac{\\psi (1-\\phi_s) E \\Delta y}{\\beta k_Q I Q }(1 - e^{-\\beta x})\\right)^{6/7}$$\n",
    "\n",
    "Substituting the discharge-distance relation,\n",
    "\n",
    "$$\\boxed{S = \\left( \\frac{\\psi (1-\\phi_s) E}{\\beta k_Q I r x}(1 - e^{-\\beta x})\\right)^{6/7}}$$"
   ]
  },
  {
   "cell_type": "markdown",
   "id": "9577c317",
   "metadata": {},
   "source": [
    "We can use these solutions to test the model, as in the runs that follow."
   ]
  },
  {
   "cell_type": "code",
   "execution_count": null,
   "id": "635096a0",
   "metadata": {},
   "outputs": [],
   "source": [
    "# Parameters\n",
    "abr_coef = 1.0 / 2000.0  # abrasion coefficient, 1/m\n",
    "run_duration = 1.2e7  # duration of run, years\n",
    "dt = 3000.0  # time-step duration, years\n",
    "init_slope = 0.0001  # initial valley gradient, m/m"
   ]
  },
  {
   "cell_type": "code",
   "execution_count": null,
   "id": "c1b1fd09",
   "metadata": {},
   "outputs": [],
   "source": [
    "profile_grid_params = {\n",
    "    \"RasterModelGrid\": {\n",
    "        \"shape\": (nrows, ncols),\n",
    "        \"xy_spacing\": dx,\n",
    "        \"fields\": {\"node\": {\"topographic__elevation\": {\"constant\": [{\"value\": 0.0}]}}},\n",
    "    }\n",
    "}\n",
    "\n",
    "flow_params = {\n",
    "    \"flow_director\": \"FlowDirectorD8\",\n",
    "    \"runoff_rate\": bf_runoff_rate,\n",
    "}\n",
    "\n",
    "fluvial_params = {\n",
    "    \"intermittency_factor\": imfac,\n",
    "    \"transport_coefficient\": xport_coef,\n",
    "    \"abrasion_coefficient\": abr_coef,\n",
    "    \"sediment_porosity\": porosity,\n",
    "}"
   ]
  },
  {
   "cell_type": "code",
   "execution_count": null,
   "id": "adcc5d85",
   "metadata": {},
   "outputs": [],
   "source": [
    "model = GravelRiverNetworkModel(\n",
    "    profile_grid_params,\n",
    "    flow_params,\n",
    "    fluvial_params,\n",
    "    uplift_rate=uplift_rate,\n",
    "    run_duration=run_duration,\n",
    "    dt=dt,\n",
    "    grid_setup_fn=channel_profile_setup,\n",
    "    grid_setup_params={\"init_slope\": init_slope},\n",
    ")"
   ]
  },
  {
   "cell_type": "code",
   "execution_count": null,
   "id": "02cb2a79",
   "metadata": {},
   "outputs": [],
   "source": [
    "model.run()"
   ]
  },
  {
   "cell_type": "code",
   "execution_count": null,
   "id": "42a51da8",
   "metadata": {},
   "outputs": [],
   "source": [
    "# Calculate analytical solution for gravel flux\n",
    "Qseqb = (1.0 - porosity) * uplift_rate * dx / abr_coef\n",
    "Qspred = Qseqb * (1.0 - np.exp(-abr_coef * profile_x))\n",
    "\n",
    "# Plot\n",
    "plt.plot(profile_x / 1000.0, Qspred, \"ro-\")\n",
    "plt.plot(\n",
    "    profile_x[:-1] / 1000.0,\n",
    "    model.grid.at_node[\"bedload_sediment__volume_outflux\"][midrow[:-1]],\n",
    "    \".-\",\n",
    ")\n",
    "plt.xlabel(\"Distance (km)\")\n",
    "plt.ylabel(\"Sediment flux (m3/y)\")\n",
    "plt.legend([\"Analytical\", \"Computed\"])\n",
    "\n",
    "# Report\n",
    "print(\"Predicted gravel flux at outlet:\", Qspred[-2], \"m3/y\")\n",
    "print(\n",
    "    \"Computed gravel flux at outlet:\",\n",
    "    model.grid.at_node[\"bedload_sediment__volume_outflux\"][midrow[-2]],\n",
    "    \"m3/y\",\n",
    ")"
   ]
  },
  {
   "cell_type": "markdown",
   "id": "71538e7b",
   "metadata": {},
   "source": [
    "The numerical model captures the downstream asymptotic approach to uniform gravel flux. How does it do with the valley gradient? Let's check this next:"
   ]
  },
  {
   "cell_type": "code",
   "execution_count": null,
   "id": "642f62c1",
   "metadata": {},
   "outputs": [],
   "source": [
    "# Calculate analytical solution for gradient\n",
    "Sfac = (1.0 - porosity) * uplift_rate / (abr_coef * xport_coef * imfac * bf_runoff_rate)\n",
    "Spred = ((Sfac / profile_x) * (1.0 - np.exp(-abr_coef * profile_x))) ** (6.0 / 7.0)\n",
    "\n",
    "# Plot\n",
    "Smod = model.grid.at_node[\"topographic__steepest_slope\"]\n",
    "plt.plot(profile_x / 1000.0, Spred, \"ro-\")\n",
    "plt.plot(profile_x[:-1] / 1000.0, Smod[midrow[:-1]], \".-\")\n",
    "plt.xlabel(\"Distance (km)\", fontsize=14)\n",
    "plt.ylabel(\"Valley Gradient (m/m)\", fontsize=14)\n",
    "plt.grid(True)\n",
    "\n",
    "# Report\n",
    "print(\"Predicted gradient at outlet:\", Spred[-2])\n",
    "print(\n",
    "    \"Computed gradient at outlet:\",\n",
    "    Smod[midrow[-2]],\n",
    ")"
   ]
  },
  {
   "cell_type": "markdown",
   "id": "9ddcade5",
   "metadata": {},
   "source": [
    "The process of abrasion causes the equilibrium longitudinal profile to become concave-upward, because the water discharge increases faster downstream than the gravel flux.\n",
    "\n",
    "The corresponding width no longer increases linearly downstream. Here it is with a median bed grain size of 5 cm:"
   ]
  },
  {
   "cell_type": "code",
   "execution_count": null,
   "id": "b61f2132",
   "metadata": {},
   "outputs": [],
   "source": [
    "w = model.transporter.calc_implied_width(grain_diameter=0.05)\n",
    "plt.plot(profile_x[:-1] / 1000.0, w[midrow[:-1]])\n",
    "plt.xlabel(\"Distance (km)\")\n",
    "plt.ylabel(\"Bankfull channel width (m)\")"
   ]
  },
  {
   "cell_type": "markdown",
   "id": "90221a1a",
   "metadata": {},
   "source": [
    "In the foregoing example, we used a rather high abrasion coefficient. Attal & Lave (2006) report pebble abrasion coefficients ranging from 0.1 to 47 percent per km. The equivalent proportion per km is 0.001 to 0.47, and the equivalent length scales are the inverse of these. Here are some examples from their paper, in terms of length scale:"
   ]
  },
  {
   "cell_type": "code",
   "execution_count": null,
   "id": "c23fde43",
   "metadata": {},
   "outputs": [],
   "source": [
    "print(\"Quartzite:\", 1.0 / 0.001, \"km\")\n",
    "print(\"Granite:\", 1.0 / 0.004, \"km\")\n",
    "print(\"Gneiss:\", 1.0 / 0.009, \"km\")\n",
    "print(\"Ordovician limestone:\", 1.0 / 0.026, \"km\")\n",
    "print(\"Schist:\", 1.0 / 0.07, \"km\")\n",
    "print(\"Sandstone:\", 1.0 / 0.47, \"km\")"
   ]
  },
  {
   "cell_type": "markdown",
   "id": "6f0e0444",
   "metadata": {},
   "source": [
    "Here's an example model run with a clast abrasion coefficient similar to that of their Himalayan gneiss:"
   ]
  },
  {
   "cell_type": "code",
   "execution_count": null,
   "id": "fd544f76",
   "metadata": {},
   "outputs": [],
   "source": [
    "# Parameters\n",
    "abr_coef = 1.0 / 100000.0  # abrasion coefficient, 1/m\n",
    "run_duration = 3.6e7  # run duration, years"
   ]
  },
  {
   "cell_type": "code",
   "execution_count": null,
   "id": "f095a0a7",
   "metadata": {},
   "outputs": [],
   "source": [
    "profile_grid_params = {\n",
    "    \"RasterModelGrid\": {\n",
    "        \"shape\": (nrows, ncols),\n",
    "        \"xy_spacing\": dx,\n",
    "        \"fields\": {\"node\": {\"topographic__elevation\": {\"constant\": [{\"value\": 0.0}]}}},\n",
    "    }\n",
    "}\n",
    "\n",
    "flow_params = {\n",
    "    \"flow_director\": \"FlowDirectorD8\",\n",
    "    \"runoff_rate\": bf_runoff_rate,\n",
    "}\n",
    "\n",
    "fluvial_params = {\n",
    "    \"intermittency_factor\": imfac,\n",
    "    \"transport_coefficient\": xport_coef,\n",
    "    \"abrasion_coefficient\": abr_coef,\n",
    "    \"sediment_porosity\": porosity,\n",
    "}"
   ]
  },
  {
   "cell_type": "code",
   "execution_count": null,
   "id": "956fed8f",
   "metadata": {},
   "outputs": [],
   "source": [
    "model = GravelRiverNetworkModel(\n",
    "    profile_grid_params,\n",
    "    flow_params,\n",
    "    fluvial_params,\n",
    "    uplift_rate=uplift_rate,\n",
    "    run_duration=run_duration,\n",
    "    dt=dt,\n",
    "    grid_setup_fn=channel_profile_setup,\n",
    "    grid_setup_params={\"init_slope\": init_slope},\n",
    ")"
   ]
  },
  {
   "cell_type": "code",
   "execution_count": null,
   "id": "12cd6037",
   "metadata": {},
   "outputs": [],
   "source": [
    "model.run()"
   ]
  },
  {
   "cell_type": "code",
   "execution_count": null,
   "id": "d6a98245",
   "metadata": {},
   "outputs": [],
   "source": [
    "# Calculate analytical solution for gravel flux\n",
    "Qseqb = (1.0 - porosity) * uplift_rate * dx / abr_coef\n",
    "Qspred = Qseqb * (1.0 - np.exp(-abr_coef * profile_x))\n",
    "\n",
    "# Plot\n",
    "plt.plot(profile_x / 1000.0, Qspred, \"ro-\")\n",
    "plt.plot(\n",
    "    profile_x[:-1] / 1000.0,\n",
    "    model.grid.at_node[\"bedload_sediment__volume_outflux\"][midrow[:-1]],\n",
    "    \".-\",\n",
    ")\n",
    "plt.xlabel(\"Distance (km)\")\n",
    "plt.ylabel(\"Sediment flux (m3/y)\")\n",
    "plt.legend([\"Analytical\", \"Computed\"])\n",
    "plt.grid(True)\n",
    "\n",
    "# Report\n",
    "print(\"Predicted gravel flux at outlet:\", Qspred[-2], \"m3/y\")\n",
    "print(\n",
    "    \"Computed gravel flux at outlet:\",\n",
    "    model.grid.at_node[\"bedload_sediment__volume_outflux\"][midrow[-2]],\n",
    "    \"m3/y\",\n",
    ")"
   ]
  },
  {
   "cell_type": "code",
   "execution_count": null,
   "id": "a1e8b428",
   "metadata": {},
   "outputs": [],
   "source": [
    "# Calculate analytical solution for gradient\n",
    "Sfac = (1.0 - porosity) * uplift_rate / (abr_coef * xport_coef * imfac * bf_runoff_rate)\n",
    "Spred = ((Sfac / profile_x) * (1.0 - np.exp(-abr_coef * profile_x))) ** (6.0 / 7.0)\n",
    "\n",
    "# Plot\n",
    "Smod = model.grid.at_node[\"topographic__steepest_slope\"]\n",
    "plt.plot(profile_x / 1000.0, Spred, \"ro-\")\n",
    "plt.plot(profile_x[:-1] / 1000.0, Smod[midrow[:-1]], \".-\")\n",
    "plt.xlabel(\"Distance (km)\", fontsize=14)\n",
    "plt.ylabel(\"Valley Gradient (m/m)\", fontsize=14)\n",
    "plt.grid(True)\n",
    "\n",
    "# Report\n",
    "print(\"Predicted gradient at outlet:\", Spred[-2])\n",
    "print(\n",
    "    \"Computed gradient at outlet:\",\n",
    "    Smod[midrow[-2]],\n",
    ")"
   ]
  },
  {
   "cell_type": "markdown",
   "id": "2bbbd77f",
   "metadata": {},
   "source": [
    "Again, the gradient decreases down-valley, implying a concave-upward profile, but the comparatively more resistant clasts lead to a more gentle down-valley decrease in gradient."
   ]
  },
  {
   "cell_type": "markdown",
   "id": "467d7a98",
   "metadata": {},
   "source": [
    "## Example: tiny drainage basin\n",
    "\n",
    "This example extends the domain to two dimensions, keeping the grid size very small (so the notebook runs fast), and comparing the equilibrium condition with analytical solutions for the sediment outflux and gradient at headwater nodes."
   ]
  },
  {
   "cell_type": "code",
   "execution_count": null,
   "id": "fd93d859",
   "metadata": {},
   "outputs": [],
   "source": [
    "# Parameters\n",
    "nrows = 10\n",
    "ncols = 10\n",
    "dx = 1000.0  # grid spacing, m\n",
    "bf_runoff_rate = 10.0  # bankfull runoff rate, m/y\n",
    "imfac = 0.01  # intermittency factor, -\n",
    "xport_coef = 0.041  # transport coefficient, -\n",
    "abr_coef = 1.0 / 2000.0  # abrasion coefficient, 1/m\n",
    "porosity = 0.35  # sediment porosity, -\n",
    "uplift_rate = 0.0001  # uplift (i.e., baselevel) rate, m/y\n",
    "\n",
    "np.random.seed(0)"
   ]
  },
  {
   "cell_type": "code",
   "execution_count": null,
   "id": "c3e9e21d",
   "metadata": {},
   "outputs": [],
   "source": [
    "grid_params = {\n",
    "    \"RasterModelGrid\": {\n",
    "        \"shape\": (nrows, ncols),\n",
    "        \"xy_spacing\": dx,\n",
    "        \"fields\": {\"node\": {\"topographic__elevation\": {\"constant\": [{\"value\": 0.0}]}}},\n",
    "    }\n",
    "}\n",
    "\n",
    "flow_params = {\n",
    "    \"flow_director\": \"FlowDirectorD8\",\n",
    "    \"runoff_rate\": bf_runoff_rate,\n",
    "}\n",
    "\n",
    "fluvial_params = {\n",
    "    \"intermittency_factor\": imfac,\n",
    "    \"transport_coefficient\": xport_coef,\n",
    "    \"abrasion_coefficient\": abr_coef,\n",
    "    \"sediment_porosity\": porosity,\n",
    "}"
   ]
  },
  {
   "cell_type": "code",
   "execution_count": null,
   "id": "a37f15b6",
   "metadata": {},
   "outputs": [],
   "source": [
    "# Define grid setup function for 3 rows with open boundary at right side\n",
    "def mini_basin_setup(grid):\n",
    "    \"\"\"Set boundary nodes to CLOSED except the right side, which is the profile\n",
    "    outlet; give\"\"\"\n",
    "    grid.status_at_node[grid.perimeter_nodes] = grid.BC_NODE_IS_CLOSED\n",
    "    grid.status_at_node[1] = grid.BC_NODE_IS_FIXED_VALUE"
   ]
  },
  {
   "cell_type": "code",
   "execution_count": null,
   "id": "b369ea66",
   "metadata": {},
   "outputs": [],
   "source": [
    "model = GravelRiverNetworkModel(\n",
    "    grid_params,\n",
    "    flow_params,\n",
    "    fluvial_params,\n",
    "    initial_noise_amplitude=10.0,\n",
    "    uplift_rate=uplift_rate,\n",
    "    run_duration=5.0e5,\n",
    "    dt=1000.0,\n",
    "    grid_setup_fn=mini_basin_setup,\n",
    ")"
   ]
  },
  {
   "cell_type": "code",
   "execution_count": null,
   "id": "0ca95cc7",
   "metadata": {},
   "outputs": [],
   "source": [
    "for _ in range(7):\n",
    "    model.run()\n",
    "    plt.figure()\n",
    "    drainage_plot(model.grid)\n",
    "    model.time_remaining += 5.0e5"
   ]
  },
  {
   "cell_type": "markdown",
   "id": "3570225a",
   "metadata": {},
   "source": [
    "The plots above illustrate a dendritic drainage network. We can also examine the slope-area relationship (see, e.g., Willgoose et al., 1991; Willgoose, 1994):"
   ]
  },
  {
   "cell_type": "code",
   "execution_count": null,
   "id": "d1294e4f",
   "metadata": {},
   "outputs": [],
   "source": [
    "s = model.grid.at_node[\"topographic__steepest_slope\"]\n",
    "a = model.grid.at_node[\"drainage_area\"]\n",
    "cores = model.grid.core_nodes\n",
    "plt.loglog(a[cores], s[cores], \".\")\n",
    "plt.xlabel(\"Drainage area (m2)\")\n",
    "_ = plt.ylabel(\"Slope (m/m)\")"
   ]
  },
  {
   "cell_type": "markdown",
   "id": "1ab90301",
   "metadata": {},
   "source": [
    "#### Test: sediment flux and slope at headwater cells\n",
    "\n",
    "One way to test the steady mini-basin solution is to look at the headwater cells: those that receive no external water or sediment. When in equilibrium with a specified rate of baselevel lowering, a headwater cell should erode at the rate of baselevel lowering, $E$. This will effectively supply a quantity of sediment equal to the erosion rate times the cell area, $\\Lambda$, times the solid fraction, so that we can express the volume inflow of sediment to the cell from erosional lowering as:\n",
    "\n",
    "$$Q_\\text{bl} = (1-\\phi) E \\Lambda$$\n",
    "\n",
    "As sediment flows through and out of the cell, we should lose gravel to abrasion at a rate that depends on the abrasion coefficient, $\\beta$, the local gravel flux $Q_s$, and the length of the channel, which here is treated as the length of the grid link along which water flows, $\\lambda_f$:\n",
    "\n",
    "$$Q_\\text{abr} = \\beta \\lambda_f Q_s$$\n",
    "\n",
    "In the component, the local sediment flux $Q_s$ is treated as the average of the incoming flux, $Q_\\text{in}$, and the outgoing flux, $Q_\\text{out}$. In a headwater cell, there's no influx, so the average of in and outflux is evaluated as $Q_s = Q_\\text{out} / 2$, and hence\n",
    "\n",
    "$$Q_\\text{abr} = \\beta \\lambda_f Q_\\text{out} / 2$$\n",
    "\n",
    "At equilibrium, the volume rate of sediment addition via erosional lowering equals the sum of the abrasion loss rate and the downstream transport rate:\n",
    "\n",
    "$$Q_\\text{bl} = Q_\\text{out} + Q_\\text{abr}$$\n",
    "\n",
    "Substituting the above, we can rearrange like so:\n",
    "\n",
    "$$Q_\\text{out} = (1-\\phi) E \\Lambda - \\beta \\lambda_f Q_\\text{out} / 2$$\n",
    "\n",
    "and then solve for the expected sediment outflux from a headwater cell:\n",
    "\n",
    "$$\\boxed{Q_\\text{out} = \\frac{(1-\\phi) E \\Lambda}{1 + \\beta \\lambda_f / 2}}$$\n",
    "\n",
    "Using the transport equation, we can then solve for the expected gradient of headwater cells. In doing so, we use the fact that $Q = r A$ and in this case $A = \\Lambda$ (i.e., drainage area equals the cell area, because there is no inflow of water besides local runoff generation):\n",
    "\n",
    "$$\\boxed{S = \\left( \\frac{(1-\\phi) E}{k_Q I r \\left( 1 + \\beta \\lambda_f / 2 \\right)} \\right)^{6/7}}$$\n",
    "\n",
    "The code below tests this for headwater cells. Note that on a raster grid with D8 flow routing, $\\lambda_f$ will differ between cardinal and diagonal directions, so we will calculate the expected flux and gradient for both cases."
   ]
  },
  {
   "cell_type": "code",
   "execution_count": null,
   "id": "c37d3eaa",
   "metadata": {},
   "outputs": [],
   "source": [
    "# Get an array of headwater node ids\n",
    "hw = np.where(model.grid.at_node[\"drainage_area\"] == 1.0e6)[0]\n",
    "print(\"There are\", len(hw), \"headwater nodes.\")\n",
    "\n",
    "# Calculate the expected sediment outflux for cardinal & diagonal dirs\n",
    "Qoutpred = (1 - porosity) * uplift_rate * dx * dx / (1 + abr_coef * dx / 2)\n",
    "Qoutpred_diag = (1 - porosity) * uplift_rate * dx * dx / (1 + abr_coef * dx / 2**0.5)\n",
    "print()\n",
    "print(\"Predicted outflux for cardinal directions:\", Qoutpred)\n",
    "print(\"Predicted outflux for diagonal directions:\", Qoutpred_diag)\n",
    "\n",
    "# Actual outflux for headwater nodes:\n",
    "print()\n",
    "print(\"Modeled outflux:\")\n",
    "print(model.grid.at_node[\"bedload_sediment__volume_outflux\"][hw])"
   ]
  },
  {
   "cell_type": "markdown",
   "id": "907c9755",
   "metadata": {},
   "source": [
    "As predicted, there are some locations consistent with a cardinal-direction outflow, and some with a diagonal outflow. (On a hex grid, this would not be an issue.) The modeled values are slightly lower than the analytical predictions, in part because we are not yet 100% at steady state (just very close).\n",
    "\n",
    "Next, we inspect the corresponding slope gradients:"
   ]
  },
  {
   "cell_type": "code",
   "execution_count": null,
   "id": "420769f6",
   "metadata": {},
   "outputs": [],
   "source": [
    "# Calculate expected gradients\n",
    "Shwpred = (\n",
    "    (\n",
    "        (1 - porosity)\n",
    "        * uplift_rate\n",
    "        / (xport_coef * imfac * bf_runoff_rate * (1 + abr_coef * dx / 2))\n",
    "    )\n",
    ") ** (6.0 / 7.0)\n",
    "Shwpred_diag = (\n",
    "    (\n",
    "        (1 - porosity)\n",
    "        * uplift_rate\n",
    "        / (xport_coef * imfac * bf_runoff_rate * (1 + abr_coef * dx / 2**0.5))\n",
    "    )\n",
    ") ** (6.0 / 7.0)\n",
    "print(\"Predicted gradient for cardinal-direction outflow:\", Shwpred)\n",
    "print(\"Predicted gradient for diagonal outflow:\", Shwpred_diag)\n",
    "\n",
    "# Compare with actual gradients\n",
    "print()\n",
    "print(\"Computed gradients at headwater nodes:\")\n",
    "print(s[hw])"
   ]
  },
  {
   "cell_type": "markdown",
   "id": "657d00f0",
   "metadata": {},
   "source": [
    "Again, as expected, the slopes are consistent with the predictions for both flow directions. The headwater cells with diagonal outflow directions have a slightly lower gradient because the longer flow paths allow for more gravel attrition. As before, the modeled values are slightly lower than predicted because the run has not fully reached steady state."
   ]
  },
  {
   "cell_type": "markdown",
   "id": "a69b3e34",
   "metadata": {},
   "source": [
    "## Example: transient erosion and deposition\n",
    "\n",
    "This example illustrates the ability of the model to calculate deposition as well as erosion. Here we use a domain that has a sine-curve-shaped valley along one axis, with an abrupt step in the middle of the valley. We expect erosion to occur upstream of the step, and deposition downstream."
   ]
  },
  {
   "cell_type": "code",
   "execution_count": null,
   "id": "d42b873b",
   "metadata": {},
   "outputs": [],
   "source": [
    "# Parameters\n",
    "nrows = 11\n",
    "ncols = 50\n",
    "dx = 1000.0  # grid spacing, m\n",
    "init_elev_plateau = 100.0\n",
    "init_slope = 0.0001\n",
    "bf_runoff_rate = 10.0  # bankfull runoff rate, m/y\n",
    "imfac = 0.01  # intermittency factor, -\n",
    "xport_coef = 0.041  # transport coefficient, -\n",
    "abr_coef = 0.0  # abrasion coefficient, 1/m\n",
    "porosity = 0.35  # sediment porosity, -\n",
    "uplift_rate = 0.0  # uplift (i.e., baselevel) rate, m/y\n",
    "nsteps = 1000  # number of time steps\n",
    "dt = 100.0  # duration of a time step, y"
   ]
  },
  {
   "cell_type": "code",
   "execution_count": null,
   "id": "1952ff63",
   "metadata": {},
   "outputs": [],
   "source": [
    "grid_params = {\n",
    "    \"RasterModelGrid\": {\n",
    "        \"shape\": (nrows, ncols),\n",
    "        \"xy_spacing\": dx,\n",
    "        \"fields\": {\"node\": {\"topographic__elevation\": {\"constant\": [{\"value\": 0.0}]}}},\n",
    "    }\n",
    "}\n",
    "\n",
    "flow_params = {\n",
    "    \"flow_director\": \"FlowDirectorD8\",\n",
    "    \"runoff_rate\": bf_runoff_rate,\n",
    "}\n",
    "\n",
    "fluvial_params = {\n",
    "    \"intermittency_factor\": imfac,\n",
    "    \"transport_coefficient\": xport_coef,\n",
    "    \"abrasion_coefficient\": abr_coef,\n",
    "    \"sediment_porosity\": porosity,\n",
    "}"
   ]
  },
  {
   "cell_type": "code",
   "execution_count": null,
   "id": "602a6768",
   "metadata": {},
   "outputs": [],
   "source": [
    "# Define grid setup function for a valley with a step\n",
    "def valley_with_step_setup(grid, init_slope, init_elev_plateau):\n",
    "    \"\"\"Create a sine-shaped valley with a step.\"\"\"\n",
    "    grid.status_at_node[grid.perimeter_nodes] = grid.BC_NODE_IS_CLOSED\n",
    "    grid.status_at_node[grid.nodes_at_right_edge] = grid.BC_NODE_IS_FIXED_VALUE\n",
    "    elev = grid.at_node[\"topographic__elevation\"]\n",
    "    elev[grid.x_of_node <= dx * ncols // 2] += init_elev_plateau\n",
    "    xmax = np.amax(grid.x_of_node)\n",
    "    elev[:] += init_slope * (xmax - grid.x_of_node)\n",
    "    elev[:] += 10.0 * np.sin(2 * np.pi * grid.y_of_node / (dx * 10) + np.pi / 2.0)"
   ]
  },
  {
   "cell_type": "code",
   "execution_count": null,
   "id": "c650f513",
   "metadata": {},
   "outputs": [],
   "source": [
    "model = GravelRiverNetworkModel(\n",
    "    grid_params,\n",
    "    flow_params,\n",
    "    fluvial_params,\n",
    "    initial_noise_amplitude=0.0,\n",
    "    uplift_rate=uplift_rate,\n",
    "    run_duration=nsteps * dt,\n",
    "    dt=dt,\n",
    "    grid_setup_fn=valley_with_step_setup,\n",
    "    grid_setup_params={\n",
    "        \"init_slope\": init_slope,\n",
    "        \"init_elev_plateau\": init_elev_plateau,\n",
    "    },\n",
    ")"
   ]
  },
  {
   "cell_type": "code",
   "execution_count": null,
   "id": "d2ab46c3",
   "metadata": {},
   "outputs": [],
   "source": [
    "# Plot the starting topography\n",
    "ax = plt.axes(projection=\"3d\")\n",
    "_ = ax.plot_surface(\n",
    "    model.grid.x_of_node.reshape((nrows, ncols)),\n",
    "    model.grid.y_of_node.reshape((nrows, ncols)),\n",
    "    model.elev.reshape((nrows, ncols)),\n",
    ")"
   ]
  },
  {
   "cell_type": "code",
   "execution_count": null,
   "id": "2fda2deb",
   "metadata": {},
   "outputs": [],
   "source": [
    "model.run()"
   ]
  },
  {
   "cell_type": "code",
   "execution_count": null,
   "id": "487f4aa9",
   "metadata": {},
   "outputs": [],
   "source": [
    "# Plot the final topography\n",
    "ax = plt.axes(projection=\"3d\")\n",
    "_ = ax.plot_surface(\n",
    "    model.grid.x_of_node.reshape((nrows, ncols)),\n",
    "    model.grid.y_of_node.reshape((nrows, ncols)),\n",
    "    model.elev.reshape((nrows, ncols)),\n",
    ")"
   ]
  },
  {
   "cell_type": "code",
   "execution_count": null,
   "id": "f512e0d2",
   "metadata": {},
   "outputs": [],
   "source": [
    "# Plot the final drainage pattern\n",
    "drainage_plot(model.grid)"
   ]
  },
  {
   "cell_type": "code",
   "execution_count": null,
   "id": "a5ccca2d",
   "metadata": {},
   "outputs": [],
   "source": [
    "# Show a plan-view of drainage area\n",
    "imshow_grid(model.grid, \"drainage_area\")"
   ]
  },
  {
   "cell_type": "markdown",
   "id": "4ecb4ad9",
   "metadata": {},
   "source": [
    "Note that a fan-like area of deposition forms at the base of the step. The flow will remain stable and fixed in the central part of the upper valley, but varies over time across the fan, as aggradation modifies the topography and leads to avulsion-like behavior."
   ]
  },
  {
   "cell_type": "markdown",
   "id": "e4ee308c",
   "metadata": {},
   "source": [
    "## Concluding remarks\n",
    "\n",
    "The `GravelRiverTransporter` component simulates a grid-based network of equilibrium-width, gravel-bed rivers in which gravel can be lost to abrasion downstream. The component is consistent with analytical solutions. One limitation of the examples shown here is that valley width is effectively uniform and equal to grid-cell width. Another limitation is that the component makes no attempt to evaluate whether the model's state variables are always consistent with the assumptions used to derive the underlying theory. For example, it is theoretically possible to have the implied channel width be so narrow that the wide-channel assumption no longer holds; similarly, it is possible to have an implied valley width larger than a single grid cell. It is also theoretically possible that the implied flow speed could become supercritical, which would be unrealistic. The user is cautioned to be aware of these limitations!\n",
    "\n",
    "As of this writing, the only fully implemented solver is a simple explicit, forward-Euler method. A matrix-based implicit solver is under construction but not fully operational. An explicit Runge-Kutta method would also be worth trying, as would an adaptive time-stepper."
   ]
  },
  {
   "cell_type": "markdown",
   "id": "149bbbaf",
   "metadata": {},
   "source": [
    "## References and further reading\n",
    "\n",
    "Attal, M., & Lavé, J. (2006). Changes of bedload characteristics along the Marsyandi River (central Nepal): Implications for understanding hillslope sediment supply, sediment load evolution along fluvial networks, and denudation in active orogenic belts. Geol. Soc. Am. Spec. Pap, 398, 143-171.\n",
    "\n",
    "Attal, M., & Lavé, J. (2009). Pebble abrasion during fluvial transport: Experimental results and implications for the evolution of the sediment load along rivers. Journal of Geophysical Research: Earth Surface, 114(F4).\n",
    "\n",
    "Grant, G. E. (1997). Critical flow constrains flow hydraulics in mobile‐bed streams: A new hypothesis. Water Resources Research, 33(2), 349-358.\n",
    "\n",
    "Meyer-Peter, E., & Müller, R. (1948). Formulas for bed-load transport. In IAHSR 2nd meeting, Stockholm, appendix 2. IAHR.\n",
    "\n",
    "Parker, G. (1978). Self-formed straight rivers with equilibrium banks and mobile bed. Part 2. The gravel river. Journal of Fluid mechanics, 89(1), 127-146.\n",
    "\n",
    "Phillips, C. B., & Jerolmack, D. J. (2016). Self-organization of river channels as a critical filter on climate signals. Science, 352(6286), 694-697.\n",
    "\n",
    "Wickert, A. D., & Schildgen, T. F. (2019). Long-profile evolution of transport-limited gravel-bed rivers. Earth Surface Dynamics, 7(1), 17-43.\n",
    "\n",
    "Willgoose, G., Bras, R. L., & Rodriguez‐Iturbe, I. (1991). A physical explanation of an observed link area‐slope relationship. Water Resources Research, 27(7), 1697-1702.\n",
    "\n",
    "Willgoose, G. (1994). A physical explanation for an observed area‐slope‐elevation relationship for catchments with declining relief. Water Resources Research, 30(2), 151-159.\n",
    "\n",
    "Wong, M., & Parker, G. (2006). Reanalysis and correction of bed-load relation of Meyer-Peter and Müller using their own database. Journal of Hydraulic Engineering, 132(11), 1159-1168."
   ]
  }
 ],
 "metadata": {
  "kernelspec": {
   "display_name": "Python 3 (ipykernel)",
   "language": "python",
   "name": "python3"
  },
  "language_info": {
   "codemirror_mode": {
    "name": "ipython",
    "version": 3
   },
   "file_extension": ".py",
   "mimetype": "text/x-python",
   "name": "python",
   "nbconvert_exporter": "python",
   "pygments_lexer": "ipython3",
   "version": "3.8.13"
  }
 },
 "nbformat": 4,
 "nbformat_minor": 5
}
