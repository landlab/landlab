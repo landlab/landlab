{
 "cells": [
  {
   "cell_type": "markdown",
   "id": "threaded-aircraft",
   "metadata": {},
   "source": [
    "# GravelRiverTransporter\n",
    "\n",
    "This notebook describes the `GravelRiverTransporter` component and its underlying theory, and provides some simple examples of usage.\n",
    "\n",
    "## Overview\n",
    "\n",
    "`GravelRiverTransporter` is a Landlab component for modeling landscape evolution in the context of a network of gravel-bed alluvial channels. The component is meant to operate in conjunction with a single-direction flow routing scheme, such that each grid cell drains to one and only one of its neighbors. Channels are assumed to be sub-grid-scale features with a bankfull channel width that adjusts according to the local discharge, slope, and grain diameter. The approach follows that of Wickert & Schildgen (2019), but with two additions:\n",
    "\n",
    "1. Because the channel network is calculated from, and embedded within, a topographic field represented as a 2d grid, conservation of mass is calculated on the basis of individual grid cells rather than using a prescribed valley width.\n",
    "\n",
    "2. The component adds progressive loss of gravel load due to abrasion; the lost material is assumed to become part of the suspended and/or wash load, which is not explicitly tracked.\n",
    "\n",
    "The theory that channels with gravel bed and bank materials tend to adjust their shear stress ratio dates back to Parker (1978), and a variety of studies have supported the idea for gravel rivers. Phillips and Jerolmack (2016) argued that the concept may also be applicable to some \"bedrock\" rivers as well (the question depends somewhat on the definition of \"bedrock river\", but presumably a river that is capable of eroding into bedrock but that also has at least one self-formed bank made of alluvial material would qualify as self-adjusting)."
   ]
  },
  {
   "cell_type": "markdown",
   "id": "sudden-singles",
   "metadata": {},
   "source": [
    "## Theory\n",
    "\n",
    "### Channel-width adjustment\n",
    "\n",
    "We treat only the coarse, bed-load fraction. We assume that channel width adjusts so as to ensure that bankfull shear stress is slightly larger (by a fraction $\\epsilon$) than critical shear stress for the median sediment diameter. Wickert & Schildgen (2019) show that when this is the case, the channel tends to adjust such that its bankfull width depends on bankfull discharge, $Q$, channel gradient, $S$, and the median diameter of sediment on the bed, $D$, as follows: \n",
    "\n",
    "$$b = k_b \\frac{QS^{7/6}}{D^{3/2}}$$\n",
    "\n",
    "where $k_b$ is a factor given by:\n",
    "\n",
    "$$k_b = 0.17 g^{-1/2} \\left[ \\left(\\frac{\\rho_s-\\rho}{\\rho}\\right)(1+\\epsilon )\\tau_c^*\\right]^{-5/3}$$\n",
    "\n",
    "where $g$ is gravitational acceleration, $\\rho_s$ is sediment grain density, $\\rho$ is water density, $\\epsilon$ is the ratio of bankfull to critical shear stress, and $\\tau_c^*$ is the critical Shields stress (i.e., dimensionless critical shear stress). Using $g=9.8$ m/s$^2$, $\\rho_s=2,650$ kg/m$^3$, $\\rho=1,000$ kg/m$^3$, $\\epsilon=0.2$, and $\\tau_c^*=0.0495$, the value of $k_b$ is approximately 2.61 s/m$^{1/2}$ (as calculated below)."
   ]
  },
  {
   "cell_type": "code",
   "execution_count": null,
   "id": "4af64b72",
   "metadata": {},
   "outputs": [],
   "source": [
    "g = 9.8  # gravitational acceleration, m/s2\n",
    "rhos = 2650.0  # sediment density, kg/m3\n",
    "rho = 1000.0  # water density, kg/m3\n",
    "eps = 0.2  # shear stress ratio\n",
    "taustarc = 0.0495  # critical Shields stress (here from Wong & Parker (2006))\n",
    "\n",
    "kb = 0.17 * g ** (-0.5) * (((rhos - rho) / rho) * (1 + eps) * taustarc) ** (-5.0 / 3.0)\n",
    "print(\"kb =\", kb, \"seconds per square-root meter\")\n",
    "print(\"kb =\", kb / (3600 * 24 * 365.25), \"years per square-root meter\")"
   ]
  },
  {
   "cell_type": "markdown",
   "id": "711ed123",
   "metadata": {},
   "source": [
    "For example, the width of a channel with 1 cm diameter sediment on the bed, a 1% gradient, and a bankfull discharge with 1 cms discharge would be:"
   ]
  },
  {
   "cell_type": "code",
   "execution_count": null,
   "id": "designing-touch",
   "metadata": {},
   "outputs": [],
   "source": [
    "D = 0.01  # grain diameter, m\n",
    "Q = 1.0  # bankfull discharge, m3/s\n",
    "S = 0.01  # slope gradient, m/m\n",
    "print(\"b = \" + str(kb * Q * S ** (7.0 / 6.0) / D**1.5), \"meters\")"
   ]
  },
  {
   "cell_type": "markdown",
   "id": "ad3cf97e",
   "metadata": {},
   "source": [
    "Note that one aspect of the above width theory that may limit its applicability is the prediction that width should *increase* when slope increases. To appreciate where this comes from, recall that boundary shear stress in a relatively wide channel is proportional to the depth-slope product. All else equal, for a fixed shear stress, a steeper channel should be shallower and vice versa. For a given discharge, a shallower channel must either be wider or have faster flow, or both. So the prediction is logically and mathematically consistent. However, it neglects potential variations in roughness, and in particular the possibility that steeper channels might become rougher as the flow increases toward criticality (as suggested by Gordon Grant in a famous 1997 paper). The theory outlined here does not attempt to account for this effect, but users of the component should be aware of this limitation. In addition, the underlying treatment of shear stress as proportional to depth times slope is not appropriate for channels with a relatively small width-depth ratio; the component does not include any checks on this, so the user should be alert to unrealistic behavior when the calculated channel width is rather narrow."
   ]
  },
  {
   "cell_type": "markdown",
   "id": "endless-blast",
   "metadata": {},
   "source": [
    "### Gravel transport rate\n",
    "\n",
    "We follow Wickert and Schildgen (2019) in using the Meyer-Peter Mueller equation for bed-load transport. When combined with the width-closure equation above, the predicted gravel transport rate is:\n",
    "\n",
    "$$Q_s = k_Q I Q S^{7/6}$$\n",
    "\n",
    "where $k_Q$ is a dimensionless transport efficiency factor equal to $\\approx 0.041$. The variable $I$ is an efficiency factor, defined as the fraction of time that bankfull discharge occurs. In other words, one of the simplifications of the model is that the channel has two states: for a small fraction of the year, flow is equal to bankfull; for the rest of the time, the flow is too low to move any sediment.\n",
    "\n",
    "To get a sense for what the transport law implies about rates, consider a case in which $Q = 1$ cms, $S = 0.01$, and bankfull flow occurs for 1% of the year:"
   ]
  },
  {
   "cell_type": "code",
   "execution_count": null,
   "id": "crazy-weapon",
   "metadata": {},
   "outputs": [],
   "source": [
    "Qs = 0.041 * 0.01 * 1 * (0.01) ** (7.0 / 6.0)\n",
    "print(\"Qs\", Qs, \"cms\")\n",
    "print(\"Qs\", Qs * 3600 * 24 * 265.25, \"cubic meters per year\")"
   ]
  },
  {
   "cell_type": "markdown",
   "id": "informational-philadelphia",
   "metadata": {},
   "source": [
    "This implies that 1 cms on a slope of 0.01 would carry about $2 \\times 10^{-6}$ cms of sediment, or about 44 cubic meters in a given year."
   ]
  },
  {
   "cell_type": "markdown",
   "id": "f2e7a19c",
   "metadata": {},
   "source": [
    "### Gravel abrasion\n",
    "\n",
    "The component uses a Sternberg-like method to calculate the downstream loss of mass to abrasion. The abrasion model is inspired by Attal & Lave (2006). We assume that the rate of loss of gravel mass to finer material per unit transport distance, $A$, is proportional to the gravel transport rate, $Q_s$:\n",
    "\n",
    "$$A = \\beta Q_s$$\n",
    "\n",
    "where $\\beta$ is an abrasion coefficient with units of inverse length.\n",
    "\n",
    "To appreciate the implication of this treatment, consider a reach of channel with an incoming gravel load $Q_0$ at the head of the reach, and no inputs along the reach itself. The rate of change of gravel load with respect to downstream distance, $x$, is:\n",
    "\n",
    "$$\\frac{dQ_s}{dx} = -\\beta Q_s$$\n",
    "\n",
    "Integrating downstream from the head of the reach $x=0$, where $Q_s=Q_0$, \n",
    "\n",
    "$$Q_s = Q_0 e^{-\\beta x}$$\n",
    "\n",
    "In other words, one obtains a Sternberg-like profile, except here expressed in terms of remaining gravel load rather than median size."
   ]
  },
  {
   "cell_type": "markdown",
   "id": "f09dfd99",
   "metadata": {},
   "source": [
    "## Setting up a gravel river model\n",
    "\n",
    "In the code below, we create a class that turns the `GravelRiverTransporter` component into a stand-alone model. This will make it simpler to set up and run examples."
   ]
  },
  {
   "cell_type": "code",
   "execution_count": null,
   "id": "forty-importance",
   "metadata": {},
   "outputs": [],
   "source": [
    "import numpy as np\n",
    "from landlab import create_grid, RasterModelGrid, imshow_grid\n",
    "from landlab.components import GravelRiverTransporter, FlowAccumulator\n",
    "from copy import deepcopy\n",
    "import matplotlib.pyplot as plt\n",
    "import matplotlib as mpl\n",
    "\n",
    "mpl.rcParams[\"figure.dpi\"] = 300"
   ]
  },
  {
   "cell_type": "code",
   "execution_count": null,
   "id": "e8f52c66",
   "metadata": {},
   "outputs": [],
   "source": [
    "class GravelRiverNetworkModel:\n",
    "    \"\"\"Model of gravel river transport & evolution on a\n",
    "    flow-network grid.\n",
    "    \"\"\"\n",
    "\n",
    "    _DEFAULT_GRID_PARAMS = {\n",
    "        \"RasterModelGrid\": {\n",
    "            \"shape\": (4, 5),\n",
    "            \"xy_spacing\": 1000.0,\n",
    "            \"fields\": {\n",
    "                \"node\": {\"topographic__elevation\": {\"constant\": [{\"value\": 0.0}]}}\n",
    "            },\n",
    "        }\n",
    "    }\n",
    "\n",
    "    _DEFAULT_FLOW_PARAMS = {\"flow_director\": \"FlowDirectorD8\"}\n",
    "\n",
    "    _DEFAULT_FLUVIAL_PARAMS = {}\n",
    "\n",
    "    def __init__(\n",
    "        self,\n",
    "        grid_params=_DEFAULT_GRID_PARAMS,\n",
    "        flow_params=_DEFAULT_FLOW_PARAMS,\n",
    "        fluvial_params=_DEFAULT_FLUVIAL_PARAMS,\n",
    "        initial_noise_amplitude=0.0,\n",
    "        uplift_rate=0.0001,\n",
    "        run_duration=1.0e4,\n",
    "        dt=100.0,\n",
    "        grid_setup_fn=None,\n",
    "        grid_setup_params={},\n",
    "    ):\n",
    "        \"\"\"Initialize GravelRiverNetworkModel.\"\"\"\n",
    "\n",
    "        self.grid = create_grid({**self._DEFAULT_GRID_PARAMS, **grid_params})\n",
    "        if grid_setup_fn is not None:\n",
    "            grid_setup_fn(self.grid, **grid_setup_params)\n",
    "        self.elev = self.grid.at_node[\"topographic__elevation\"]\n",
    "        if initial_noise_amplitude > 0.0:\n",
    "            self.elev[self.grid.core_nodes] += initial_noise_amplitude * np.random.rand(\n",
    "                self.grid.number_of_core_nodes\n",
    "            )\n",
    "        self.flow_handler = FlowAccumulator(\n",
    "            self.grid, **{**self._DEFAULT_FLOW_PARAMS, **flow_params}\n",
    "        )\n",
    "        self.transporter = GravelRiverTransporter(\n",
    "            self.grid, **{**self._DEFAULT_FLUVIAL_PARAMS, **fluvial_params}\n",
    "        )\n",
    "        self.uplift_rate = uplift_rate\n",
    "        self.time_remaining = run_duration\n",
    "        self.dt = dt\n",
    "\n",
    "    def run(self):\n",
    "        \"\"\"Run model from start to finish.\"\"\"\n",
    "        while self.time_remaining > 0.0:\n",
    "            dt = min(self.dt, self.time_remaining)\n",
    "            self.update(dt)\n",
    "            self.time_remaining -= dt\n",
    "\n",
    "    def update(self, dt):\n",
    "        \"\"\"Update for one time step of duration dt.\"\"\"\n",
    "        self.elev[self.grid.core_nodes] += self.uplift_rate * dt\n",
    "        self.flow_handler.run_one_step()\n",
    "        self.transporter.run_one_step(dt)"
   ]
  },
  {
   "cell_type": "markdown",
   "id": "f3879c7b",
   "metadata": {},
   "source": [
    "## Example: 1d longitudinal profile\n",
    "\n",
    "This example compares a 1d profile version of the model with the steady analytical solution. The analytical solution is presented in two parts: the special case of no abrasion ($\\beta = 0$), and the more general case with abrasion ($\\beta > 0$).\n",
    "\n",
    "### Special case of no abrasion\n",
    "\n",
    "#### Downstream gravel flux\n",
    "\n",
    "Consider a valley of width $\\Delta y$ with no tributaries or other inputs of water or sediment. Down-valley distance is $x$. Let the bankfull runoff rate be $r$, and the discharge proportional to drainage area, $A$, such that the bankfull discharge increases linearly with down-valley distance:\n",
    "\n",
    "$$Q = r A = r x \\Delta y$$\n",
    "\n",
    "Let the steady erosion (channel lowering) rate be $E$. When the erosion rate is steady, the rate of increase in volumetric gravel flux with respect to down-valley distance depends on two effects: the addition of new gravel through lowering of the valley, and the loss of gravel to finer material through abrasion. We can express this as:\n",
    "\n",
    "$$\\frac{dQ_s}{dx} = \\lambda (1-\\phi_s) E\\Delta y - \\beta Q_s$$\n",
    "\n",
    "Here $\\phi_s$ is the porosity of the substrate into which the valley lowers through time, and $\\lambda$ is the fraction of entrained material that is of gravel size.\n",
    "\n",
    "For the special case of $\\beta = 0$ (no abrasion), the integral is simply:\n",
    "\n",
    "$$Q_s = \\lambda (1-\\phi_s) E\\Delta y x$$\n",
    "\n",
    "In other words, with no abrasion, the gravel flux increases linearly down-valley.\n",
    "\n",
    "#### Profile shape\n",
    "\n",
    "To solve for the profile shape, first set the gravel flux equal to the transport rate and solve for slope gradient. For the special case of no abrasion ($\\beta = 0$),\n",
    "\n",
    "$$k_Q I Q S^{7/6} = \\lambda (1-\\phi_s) E \\Delta y x$$\n",
    "\n",
    "Rearranging, and substituting the relationship between discharge and distance,\n",
    "\n",
    "$$\\boxed{S = \\left(\\frac{\\lambda (1-\\phi_s) E}{k_Q I r}\\right)^{6/7}}$$\n",
    "\n",
    "Note that slope gradient does not depend on position along the valley! In other words, when the rate of water and sediment addition down-valley are both linear, the two effects balance and gradient remains constant. All else equal, the profile will be steeper with more sediment (higher $E$, $\\lambda$) and gentler with more transport potential (more frequent flow, more runoff, or a higher transport coefficient).\n",
    "\n",
    "#### Numerical test\n",
    "\n",
    "To create an effectively one-dimensional domain, we run a model with three rows of nodes, two of which are closed boundaries and one of which is the model domain. "
   ]
  },
  {
   "cell_type": "code",
   "execution_count": null,
   "id": "3a339f2e",
   "metadata": {},
   "outputs": [],
   "source": [
    "# Define grid setup function for 3 rows with open boundary at right side\n",
    "def channel_profile_setup(grid, init_slope):\n",
    "    \"\"\"Set boundary nodes to CLOSED except the right side, which is the profile\n",
    "    outlet; give\"\"\"\n",
    "    grid.status_at_node[grid.perimeter_nodes] = grid.BC_NODE_IS_CLOSED\n",
    "    grid.status_at_node[grid.nodes_at_right_edge] = grid.BC_NODE_IS_FIXED_VALUE\n",
    "    grid.at_node[\"topographic__elevation\"][grid.core_nodes] = init_slope * (\n",
    "        np.amax(grid.x_of_node) - grid.x_of_node[grid.core_nodes]\n",
    "    )"
   ]
  },
  {
   "cell_type": "code",
   "execution_count": null,
   "id": "12006f5f",
   "metadata": {},
   "outputs": [],
   "source": [
    "# Parameters\n",
    "nrows = 3\n",
    "ncols = 17\n",
    "dx = 1000.0  # grid spacing, m\n",
    "bf_runoff_rate = 10.0  # bankfull runoff rate, m/y\n",
    "imfac = 0.01  # intermittency factor, -\n",
    "xport_coef = 0.041  # transport coefficient, -\n",
    "abr_coef = 0.0  # abrasion coefficient, 1/m\n",
    "porosity = 0.35  # sediment porosity, -\n",
    "uplift_rate = 0.0001  # uplift (i.e., baselevel) rate, m/y"
   ]
  },
  {
   "cell_type": "code",
   "execution_count": null,
   "id": "14a7a12d",
   "metadata": {},
   "outputs": [],
   "source": [
    "# Group parameters into dicts for grid, flow, and fluvial\n",
    "\n",
    "profile_grid_params = {\n",
    "    \"RasterModelGrid\": {\n",
    "        \"shape\": (nrows, ncols),\n",
    "        \"xy_spacing\": dx,\n",
    "        \"fields\": {\"node\": {\"topographic__elevation\": {\"constant\": [{\"value\": 0.0}]}}},\n",
    "    }\n",
    "}\n",
    "\n",
    "flow_params = {\n",
    "    \"flow_director\": \"FlowDirectorD8\",\n",
    "    \"runoff_rate\": bf_runoff_rate,\n",
    "}\n",
    "\n",
    "fluvial_params = {\n",
    "    \"intermittency_factor\": imfac,\n",
    "    \"transport_coefficient\": xport_coef,\n",
    "    \"abrasion_coefficient\": abr_coef,\n",
    "    \"sediment_porosity\": porosity,\n",
    "}"
   ]
  },
  {
   "cell_type": "code",
   "execution_count": null,
   "id": "d489a268",
   "metadata": {},
   "outputs": [],
   "source": [
    "# Instantiate model\n",
    "model = GravelRiverNetworkModel(\n",
    "    profile_grid_params,\n",
    "    flow_params,\n",
    "    fluvial_params,\n",
    "    uplift_rate=uplift_rate,\n",
    "    run_duration=1.8e7,\n",
    "    dt=3000.0,\n",
    "    grid_setup_fn=channel_profile_setup,\n",
    "    grid_setup_params={\"init_slope\": 0.0001},\n",
    ")"
   ]
  },
  {
   "cell_type": "code",
   "execution_count": null,
   "id": "dc2cea82",
   "metadata": {},
   "outputs": [],
   "source": [
    "# Run model\n",
    "model.run()"
   ]
  },
  {
   "cell_type": "code",
   "execution_count": null,
   "id": "27edf0e8",
   "metadata": {},
   "outputs": [],
   "source": [
    "# Set up for plotting 1D profiles\n",
    "midrow = np.arange(ncols + 1, 2 * ncols, dtype=int)\n",
    "profile_x = model.grid.x_of_node[midrow]"
   ]
  },
  {
   "cell_type": "code",
   "execution_count": null,
   "id": "a6059c9a",
   "metadata": {},
   "outputs": [],
   "source": [
    "# Calculate analytical solution for gravel flux\n",
    "Qspred = uplift_rate * (1 - porosity) * dx * profile_x\n",
    "\n",
    "# Plot\n",
    "plt.plot(profile_x / 1000.0, Qspred, \"ro-\")\n",
    "plt.plot(\n",
    "    profile_x[:-1] / 1000.0,\n",
    "    model.grid.at_node[\"bedload_sediment__volume_outflux\"][midrow[:-1]],\n",
    "    \".-\",\n",
    ")\n",
    "plt.xlabel(\"Distance (km)\")\n",
    "plt.ylabel(\"Sediment flux (m3/y)\")\n",
    "plt.legend([\"Analytical\", \"Computed\"])\n",
    "\n",
    "# Report\n",
    "print(\"Predicted gravel flux at outlet:\", Qspred[-2], \"m3/y\")\n",
    "print(\n",
    "    \"Computed gravel flux:\",\n",
    "    model.grid.at_node[\"bedload_sediment__volume_outflux\"][midrow[-2]],\n",
    "    \"m3/y\",\n",
    ")"
   ]
  },
  {
   "cell_type": "code",
   "execution_count": null,
   "id": "fbe806ee",
   "metadata": {},
   "outputs": [],
   "source": [
    "# Calculate analytical solution for gradient\n",
    "Spred = (\n",
    "    1.0 * (1.0 - porosity) * uplift_rate / (xport_coef * imfac * bf_runoff_rate)\n",
    ") ** (6.0 / 7.0)\n",
    "\n",
    "# Analytical solution for height\n",
    "Zpred = Spred * (np.amax(model.grid.x_of_node) - model.grid.x_of_node[midrow])\n",
    "\n",
    "# Plot\n",
    "plt.plot(model.grid.x_of_node[midrow] / 1000.0, Zpred, \"ro-\")\n",
    "plt.plot(model.grid.x_of_node[midrow] / 1000.0, model.elev[midrow], \".-\")\n",
    "plt.xlabel(\"Distance (km)\", fontsize=14)\n",
    "plt.ylabel(\"Elevation (m)\", fontsize=14)\n",
    "plt.grid(True)\n",
    "\n",
    "# Report\n",
    "print(\"Predicted gradient:\", Spred)\n",
    "print(\n",
    "    \"Computed gradient at outlet:\",\n",
    "    np.mean(model.grid.at_node[\"topographic__steepest_slope\"][midrow[-2]]),\n",
    ")"
   ]
  },
  {
   "cell_type": "markdown",
   "id": "6efd2a0d",
   "metadata": {},
   "source": [
    "The above example demonstrates that the model can reproduce the expected equilibrium without abrasion, and that it takes a long time---18 million years, using the given parameters---to get there. The example also illustrates the uniform gradient predicted by the case without sediment abrasion (which is at odds with the common observation that channel longitudinal profiles are concave-upward).\n",
    "\n",
    "We can also examine the implied channel width. The width depends median bed grain diameter, so we will set this to 10 cm for illustrative purposes:"
   ]
  },
  {
   "cell_type": "code",
   "execution_count": null,
   "id": "e3956c5b",
   "metadata": {},
   "outputs": [],
   "source": [
    "w = model.transporter.calc_implied_width(grain_diameter=0.1)\n",
    "plt.plot(profile_x[:-1] / 1000.0, w[midrow[:-1]])\n",
    "plt.xlabel(\"Distance (km)\")\n",
    "plt.ylabel(\"Bankfull channel width (m)\")"
   ]
  },
  {
   "cell_type": "markdown",
   "id": "f3d8956f",
   "metadata": {},
   "source": [
    "Without abrasion (and with a linear relation between bankfull discharge and drainage area), we obtain the odd results that width increases linearly downstream. This in fact is perfectly consistent: since the channel maintains a fixed shear-stress ratio, the only way for the channel to accommodate a downstream-increasing sediment load is by widening.\n",
    "\n",
    "Neither the linear profile nor the linear width increase are particularly realistic, at least when compared with most erosional river profiles. The next example looks at the role of gravel abrasion, and considers the extent to which it can produce more realistic profile morphology."
   ]
  },
  {
   "cell_type": "markdown",
   "id": "4e34841d",
   "metadata": {},
   "source": [
    "\n",
    "### General case with abrasion\n",
    "\n",
    "#### Downstream gravel flux\n",
    "\n",
    "To integrate the sediment-flux equation for more the general case, we can use the method of substitution. Let $\\alpha = \\lambda (1-\\phi_s) E \\Delta y$, and $w = \\alpha - \\beta Q_s$. Then $dw = -\\beta dQ_s$, so that $dQ_s = -(1/\\beta) dw$. \n",
    "\n",
    "At $x=0$, the head of the reach, $Q_s=0$. Therefore, when $x=0$, $w=\\alpha$\n",
    "\n",
    "Substituting these,\n",
    "\n",
    "$$-\\frac{1}{\\beta} \\frac{dw}{dx} = w$$\n",
    "\n",
    "$$\\frac{1}{w}dw = -\\beta dx$$\n",
    "\n",
    "Integrating from $w = \\alpha$ to $w$ and from $x = 0$ to $x$,\n",
    "\n",
    "$$\\ln \\frac{w}{\\alpha} = -\\beta x$$\n",
    "\n",
    "$$\\frac{w}{\\alpha} = e^{-\\beta x}$$\n",
    "\n",
    "$$\\alpha - \\beta Q_s = \\alpha e^{-\\beta x}$$\n",
    "\n",
    "$$\\beta Q_s = \\alpha (1 - e^{-\\beta x})$$\n",
    "\n",
    "$$\\boxed{Q_s = \\frac{\\lambda (1-\\phi_s) E \\Delta y}{\\beta} (1 - e^{-\\beta x})}$$\n",
    "\n",
    "The implication is that the sediment flux is a saturating exponential that asymptotes to an equilibrium value \n",
    "\n",
    "$$Q_s^\\text{eq} = \\frac{\\lambda (1-\\phi_s) E \\Delta y}{\\beta}$$\n",
    "\n",
    "which represents a balance between addition of gravel-size sediment through erosional lowering, and loss of gravel-size sediment to finer material through abrasion. The equilibrium flux is larger when the erosion rate is faster, the valley is wider, the eroded material produces a higher gravel fraction, or the eroded material is less porous. The flux is smaller when the abrasion rate is higher.\n",
    "\n",
    "\n",
    "\n",
    "#### Profile shape\n",
    "\n",
    "Setting transport rate and gravel supply equal,\n",
    "\n",
    "$$k_Q I Q S^{7/6} = \\frac{\\lambda (1-\\phi_s) E \\Delta y}{\\beta} (1 - e^{-\\beta x})$$\n",
    "\n",
    "Solving for gradient,\n",
    "\n",
    "$$S = \\left( \\frac{\\lambda (1-\\phi_s) E \\Delta y}{\\beta k_Q I Q }(1 - e^{-\\beta x})\\right)^{6/7}$$\n",
    "\n",
    "Substituting the discharge-distance relation,\n",
    "\n",
    "$$\\boxed{S = \\left( \\frac{\\lambda (1-\\phi_s) E}{\\beta k_Q I r x}(1 - e^{-\\beta x})\\right)^{6/7}}$$"
   ]
  },
  {
   "cell_type": "markdown",
   "id": "9577c317",
   "metadata": {},
   "source": [
    "We can use these solutions to test the model, as in the runs that follow."
   ]
  },
  {
   "cell_type": "code",
   "execution_count": null,
   "id": "635096a0",
   "metadata": {},
   "outputs": [],
   "source": [
    "abr_coef = 1.0 / 2000.0  # abrasion coefficient, 1/m"
   ]
  },
  {
   "cell_type": "code",
   "execution_count": null,
   "id": "c1b1fd09",
   "metadata": {},
   "outputs": [],
   "source": [
    "profile_grid_params = {\n",
    "    \"RasterModelGrid\": {\n",
    "        \"shape\": (nrows, ncols),\n",
    "        \"xy_spacing\": dx,\n",
    "        \"fields\": {\"node\": {\"topographic__elevation\": {\"constant\": [{\"value\": 0.0}]}}},\n",
    "    }\n",
    "}\n",
    "\n",
    "flow_params = {\n",
    "    \"flow_director\": \"FlowDirectorD8\",\n",
    "    \"runoff_rate\": bf_runoff_rate,\n",
    "}\n",
    "\n",
    "fluvial_params = {\n",
    "    \"intermittency_factor\": imfac,\n",
    "    \"transport_coefficient\": xport_coef,\n",
    "    \"abrasion_coefficient\": abr_coef,\n",
    "    \"sediment_porosity\": porosity,\n",
    "}"
   ]
  },
  {
   "cell_type": "code",
   "execution_count": null,
   "id": "adcc5d85",
   "metadata": {},
   "outputs": [],
   "source": [
    "model = GravelRiverNetworkModel(\n",
    "    profile_grid_params,\n",
    "    flow_params,\n",
    "    fluvial_params,\n",
    "    uplift_rate=uplift_rate,\n",
    "    run_duration=1.2e7,\n",
    "    dt=3000.0,\n",
    "    grid_setup_fn=channel_profile_setup,\n",
    "    grid_setup_params={\"init_slope\": 0.0001},\n",
    ")"
   ]
  },
  {
   "cell_type": "code",
   "execution_count": null,
   "id": "02cb2a79",
   "metadata": {},
   "outputs": [],
   "source": [
    "model.run()"
   ]
  },
  {
   "cell_type": "code",
   "execution_count": null,
   "id": "42a51da8",
   "metadata": {},
   "outputs": [],
   "source": [
    "# Calculate analytical solution for gravel flux\n",
    "Qseqb = (1.0 - porosity) * uplift_rate * dx / abr_coef\n",
    "Qspred = Qseqb * (1.0 - np.exp(-abr_coef * profile_x))\n",
    "\n",
    "# Plot\n",
    "plt.plot(profile_x / 1000.0, Qspred, \"ro-\")\n",
    "plt.plot(\n",
    "    profile_x[:-1] / 1000.0,\n",
    "    model.grid.at_node[\"bedload_sediment__volume_outflux\"][midrow[:-1]],\n",
    "    \".-\",\n",
    ")\n",
    "plt.xlabel(\"Distance (km)\")\n",
    "plt.ylabel(\"Sediment flux (m3/y)\")\n",
    "plt.legend([\"Analytical\", \"Computed\"])\n",
    "\n",
    "# Report\n",
    "print(\"Predicted gravel flux at outlet:\", Qspred[-2], \"m3/y\")\n",
    "print(\n",
    "    \"Computed gravel flux at outlet:\",\n",
    "    model.grid.at_node[\"bedload_sediment__volume_outflux\"][midrow[-2]],\n",
    "    \"m3/y\",\n",
    ")"
   ]
  },
  {
   "cell_type": "markdown",
   "id": "71538e7b",
   "metadata": {},
   "source": [
    "The numerical model captures the downstream asymptotic approach to uniform gravel flux. How does it do with the valley gradient? Let's check this next:"
   ]
  },
  {
   "cell_type": "code",
   "execution_count": null,
   "id": "642f62c1",
   "metadata": {},
   "outputs": [],
   "source": [
    "# Calculate analytical solution for gradient\n",
    "Sfac = (1.0 - porosity) * uplift_rate / (abr_coef * xport_coef * imfac * bf_runoff_rate)\n",
    "Spred = ((Sfac / profile_x) * (1.0 - np.exp(-abr_coef * profile_x))) ** (6.0 / 7.0)\n",
    "\n",
    "# Plot\n",
    "Smod = model.grid.at_node[\"topographic__steepest_slope\"]\n",
    "plt.plot(profile_x / 1000.0, Spred, \"ro-\")\n",
    "plt.plot(profile_x[:-1] / 1000.0, Smod[midrow[:-1]], \".-\")\n",
    "plt.xlabel(\"Distance (km)\", fontsize=14)\n",
    "plt.ylabel(\"Valley Gradient (m/m)\", fontsize=14)\n",
    "plt.grid(True)\n",
    "\n",
    "# Report\n",
    "print(\"Predicted gradient at outlet:\", Spred[-2])\n",
    "print(\n",
    "    \"Computed gradient at outlet:\",\n",
    "    Smod[midrow[-2]],\n",
    ")"
   ]
  },
  {
   "cell_type": "markdown",
   "id": "9ddcade5",
   "metadata": {},
   "source": [
    "The corresponding width no longer increases linearly downstream. Here it is with a median bed grain size of 5 cm:"
   ]
  },
  {
   "cell_type": "code",
   "execution_count": null,
   "id": "b61f2132",
   "metadata": {},
   "outputs": [],
   "source": [
    "w = model.transporter.calc_implied_width(grain_diameter=0.05)\n",
    "plt.plot(profile_x[:-1] / 1000.0, w[midrow[:-1]])\n",
    "plt.xlabel(\"Distance (km)\")\n",
    "plt.ylabel(\"Bankfull channel width (m)\")"
   ]
  },
  {
   "cell_type": "markdown",
   "id": "90221a1a",
   "metadata": {},
   "source": [
    "In the foregoing example, we used a rather high abrasion coefficient. Attal & Lave (2006) report pebble abrasion coefficients ranging from 0.1 to 47 percent per km. The equivalent proportion per km is 0.001 to 0.47, and the equivalent length scales are the inverse of these. Here are some examples from their paper, in terms of length scale:"
   ]
  },
  {
   "cell_type": "code",
   "execution_count": null,
   "id": "c23fde43",
   "metadata": {},
   "outputs": [],
   "source": [
    "print(\"Quartzite:\", 1.0 / 0.001, \"km\")\n",
    "print(\"Granite:\", 1.0 / 0.004, \"km\")\n",
    "print(\"Gneiss:\", 1.0 / 0.009, \"km\")\n",
    "print(\"Ordovician limestone:\", 1.0 / 0.026, \"km\")\n",
    "print(\"Schist:\", 1.0 / 0.07, \"km\")\n",
    "print(\"Sandstone:\", 1.0 / 0.47, \"km\")"
   ]
  },
  {
   "cell_type": "markdown",
   "id": "6f0e0444",
   "metadata": {},
   "source": [
    "Here's an example with a clast abrasion coefficient similar to that of their Himalayan gneiss:"
   ]
  },
  {
   "cell_type": "code",
   "execution_count": null,
   "id": "fd544f76",
   "metadata": {},
   "outputs": [],
   "source": [
    "abr_coef = 1.0 / 100000.0  # abrasion coefficient, 1/m"
   ]
  },
  {
   "cell_type": "code",
   "execution_count": null,
   "id": "f095a0a7",
   "metadata": {},
   "outputs": [],
   "source": [
    "profile_grid_params = {\n",
    "    \"RasterModelGrid\": {\n",
    "        \"shape\": (nrows, ncols),\n",
    "        \"xy_spacing\": dx,\n",
    "        \"fields\": {\"node\": {\"topographic__elevation\": {\"constant\": [{\"value\": 0.0}]}}},\n",
    "    }\n",
    "}\n",
    "\n",
    "flow_params = {\n",
    "    \"flow_director\": \"FlowDirectorD8\",\n",
    "    \"runoff_rate\": bf_runoff_rate,\n",
    "}\n",
    "\n",
    "fluvial_params = {\n",
    "    \"intermittency_factor\": imfac,\n",
    "    \"transport_coefficient\": xport_coef,\n",
    "    \"abrasion_coefficient\": abr_coef,\n",
    "    \"sediment_porosity\": porosity,\n",
    "}"
   ]
  },
  {
   "cell_type": "code",
   "execution_count": null,
   "id": "956fed8f",
   "metadata": {},
   "outputs": [],
   "source": [
    "model = GravelRiverNetworkModel(\n",
    "    profile_grid_params,\n",
    "    flow_params,\n",
    "    fluvial_params,\n",
    "    uplift_rate=uplift_rate,\n",
    "    run_duration=3.6e7,\n",
    "    dt=3000.0,\n",
    "    grid_setup_fn=channel_profile_setup,\n",
    "    grid_setup_params={\"init_slope\": 0.0001},\n",
    ")"
   ]
  },
  {
   "cell_type": "code",
   "execution_count": null,
   "id": "12cd6037",
   "metadata": {},
   "outputs": [],
   "source": [
    "model.run()"
   ]
  },
  {
   "cell_type": "code",
   "execution_count": null,
   "id": "d6a98245",
   "metadata": {},
   "outputs": [],
   "source": [
    "# Calculate analytical solution for gravel flux\n",
    "Qseqb = (1.0 - porosity) * uplift_rate * dx / abr_coef\n",
    "Qspred = Qseqb * (1.0 - np.exp(-abr_coef * profile_x))\n",
    "\n",
    "# Plot\n",
    "plt.plot(profile_x / 1000.0, Qspred, \"ro-\")\n",
    "plt.plot(\n",
    "    profile_x[:-1] / 1000.0,\n",
    "    model.grid.at_node[\"bedload_sediment__volume_outflux\"][midrow[:-1]],\n",
    "    \".-\",\n",
    ")\n",
    "plt.xlabel(\"Distance (km)\")\n",
    "plt.ylabel(\"Sediment flux (m3/y)\")\n",
    "plt.legend([\"Analytical\", \"Computed\"])\n",
    "plt.grid(True)\n",
    "\n",
    "# Report\n",
    "print(\"Predicted gravel flux at outlet:\", Qspred[-2], \"m3/y\")\n",
    "print(\n",
    "    \"Computed gravel flux at outlet:\",\n",
    "    model.grid.at_node[\"bedload_sediment__volume_outflux\"][midrow[-2]],\n",
    "    \"m3/y\",\n",
    ")"
   ]
  },
  {
   "cell_type": "code",
   "execution_count": null,
   "id": "a1e8b428",
   "metadata": {},
   "outputs": [],
   "source": [
    "# Calculate analytical solution for gradient\n",
    "Sfac = (1.0 - porosity) * uplift_rate / (abr_coef * xport_coef * imfac * bf_runoff_rate)\n",
    "Spred = ((Sfac / profile_x) * (1.0 - np.exp(-abr_coef * profile_x))) ** (6.0 / 7.0)\n",
    "\n",
    "# Plot\n",
    "Smod = model.grid.at_node[\"topographic__steepest_slope\"]\n",
    "plt.plot(profile_x / 1000.0, Spred, \"ro-\")\n",
    "plt.plot(profile_x[:-1] / 1000.0, Smod[midrow[:-1]], \".-\")\n",
    "plt.xlabel(\"Distance (km)\", fontsize=14)\n",
    "plt.ylabel(\"Valley Gradient (m/m)\", fontsize=14)\n",
    "plt.grid(True)\n",
    "\n",
    "# Report\n",
    "print(\"Predicted gradient at outlet:\", Spred[-2])\n",
    "print(\n",
    "    \"Computed gradient at outlet:\",\n",
    "    Smod[midrow[-2]],\n",
    ")"
   ]
  },
  {
   "cell_type": "code",
   "execution_count": null,
   "id": "30b73f65",
   "metadata": {},
   "outputs": [],
   "source": []
  },
  {
   "cell_type": "code",
   "execution_count": null,
   "id": "0ca95cc7",
   "metadata": {},
   "outputs": [],
   "source": []
  },
  {
   "cell_type": "code",
   "execution_count": null,
   "id": "d1294e4f",
   "metadata": {},
   "outputs": [],
   "source": []
  },
  {
   "cell_type": "code",
   "execution_count": null,
   "id": "90a42a0c",
   "metadata": {},
   "outputs": [],
   "source": []
  }
 ],
 "metadata": {
  "kernelspec": {
   "display_name": "Python 3 (ipykernel)",
   "language": "python",
   "name": "python3"
  },
  "language_info": {
   "codemirror_mode": {
    "name": "ipython",
    "version": 3
   },
   "file_extension": ".py",
   "mimetype": "text/x-python",
   "name": "python",
   "nbconvert_exporter": "python",
   "pygments_lexer": "ipython3",
   "version": "3.8.13"
  }
 },
 "nbformat": 4,
 "nbformat_minor": 5
}
