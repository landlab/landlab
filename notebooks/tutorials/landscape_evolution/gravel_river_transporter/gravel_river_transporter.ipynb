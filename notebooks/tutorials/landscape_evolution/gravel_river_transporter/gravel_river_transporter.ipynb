{
 "cells": [
  {
   "cell_type": "markdown",
   "id": "threaded-aircraft",
   "metadata": {},
   "source": [
    "# GravelRiverTransporter\n",
    "\n",
    "This notebook describes the `GravelRiverTransporter` component and its underlying theory, and provides some simple examples of usage.\n",
    "\n",
    "## Overview\n",
    "\n",
    "`GravelRiverTransporter` is a Landlab component for modeling landscape evolution in the context of a network of gravel-bed alluvial channels. The component is meant to operate in conjunction with a single-direction flow routing scheme, such that each grid cell drains to one and only one of its neighbors. Channels are assumed to be sub-grid-scale features with a bankfull channel width that adjusts according to the local discharge, slope, and grain diameter. The approach follows that of Wickert & Schildgen (2019), but with two additions:\n",
    "\n",
    "1. Because the channel network is calculated from, and embedded within, a topographic field represented as a 2d grid, conservation of mass is calculated on the basis of individual grid cells rather than using a prescribed valley width.\n",
    "\n",
    "2. The component adds progressive loss of gravel load due to abrasion; the lost material is assumed to become part of the suspended and/or wash load, which is not explicitly tracked.\n",
    "\n",
    "The theory that channels with gravel bed and bank materials tend to adjust their shear stress ratio dates back to Parker (1978), and a variety of studies have supported the idea for gravel rivers. Phillips and Jerolmack (2016) argued that the concept may also be applicable to some \"bedrock\" rivers as well (the question depends somewhat on the definition of \"bedrock river\", but presumably a river that is capable of eroding into bedrock but that also has at least one self-formed bank made of alluvial material would qualify as self-adjusting)."
   ]
  },
  {
   "cell_type": "markdown",
   "id": "sudden-singles",
   "metadata": {},
   "source": [
    "## Theory\n",
    "\n",
    "### Channel-width adjustment\n",
    "\n",
    "We treat only the coarse, bed-load fraction. We assume that channel width adjusts so as to ensure that bankfull shear stress is slightly larger (by a fraction $\\epsilon$) than critical shear stress for the median sediment diameter. Wickert & Schildgen (2019) show that when this is the case, the channel tends to adjust such that its bankfull width depends on bankfull discharge, $Q$, channel gradient, $S$, and the median diameter of sediment on the bed, $D$, as follows: \n",
    "\n",
    "$$b = k_b \\frac{QS^{7/6}}{D^{3/2}}$$\n",
    "\n",
    "where $k_b$ is a factor given by:\n",
    "\n",
    "$$k_b = 0.17 g^{-1/2} \\left[ \\left(\\frac{\\rho_s-\\rho}{\\rho}\\right)(1+\\epsilon )\\tau_c^*\\right]^{-5/3}$$\n",
    "\n",
    "where $g$ is gravitational acceleration, $\\rho_s$ is sediment grain density, $\\rho$ is water density, $\\epsilon$ is the ratio of bankfull to critical shear stress, and $\\tau_c^*$ is the critical Shields stress (i.e., dimensionless critical shear stress). Using $g=9.8$ m/s$^2$, $\\rho_s=2,650$ kg/m$^3$, $\\rho=1,000$ kg/m$^3$, $\\epsilon=0.2$, and $\\tau_c^*=0.0495$, the value of $k_b$ is approximately 2.61 s/m$^{1/2}$ (as calculated below)."
   ]
  },
  {
   "cell_type": "code",
   "execution_count": 1,
   "id": "4af64b72",
   "metadata": {},
   "outputs": [
    {
     "name": "stdout",
     "output_type": "stream",
     "text": [
      "kb = 2.6064650240601455 seconds per square-root meter\n",
      "kb = 8.259389256661297e-08 years per square-root meter\n"
     ]
    }
   ],
   "source": [
    "g = 9.8  # gravitational acceleration, m/s2\n",
    "rhos = 2650.0  # sediment density, kg/m3\n",
    "rho = 1000.0  # water density, kg/m3\n",
    "eps = 0.2  # shear stress ratio\n",
    "taustarc = 0.0495  # critical Shields stress (here from Wong & Parker (2006))\n",
    "\n",
    "kb = 0.17 * g ** (-0.5) * (((rhos - rho) / rho) * (1 + eps) * taustarc) ** (-5.0 / 3.0)\n",
    "print(\"kb =\", kb, \"seconds per square-root meter\")\n",
    "print(\"kb =\", kb / (3600 * 24 * 365.25), \"years per square-root meter\")"
   ]
  },
  {
   "cell_type": "markdown",
   "id": "711ed123",
   "metadata": {},
   "source": [
    "For example, the width of a channel with 1 cm diameter sediment on the bed, a 1% gradient, and a bankfull discharge with 1 cms discharge would be:"
   ]
  },
  {
   "cell_type": "code",
   "execution_count": 2,
   "id": "designing-touch",
   "metadata": {},
   "outputs": [
    {
     "name": "stdout",
     "output_type": "stream",
     "text": [
      "b = 12.098138950879829 meters\n"
     ]
    }
   ],
   "source": [
    "D = 0.01  # grain diameter, m\n",
    "Q = 1.0  # bankfull discharge, m3/s\n",
    "S = 0.01  # slope gradient, m/m\n",
    "print(\"b = \" + str(kb * Q * S ** (7.0 / 6.0) / D**1.5), \"meters\")"
   ]
  },
  {
   "cell_type": "markdown",
   "id": "ad3cf97e",
   "metadata": {},
   "source": [
    "Note that one aspect of the above width theory that may limit its applicability is the prediction that width should *increase* when slope increases. To appreciate where this comes from, recall that boundary shear stress in a relatively wide channel is proportional to the depth-slope product. All else equal, for a fixed shear stress, a steeper channel should be shallower and vice versa. For a given discharge, a shallower channel must either be wider or have faster flow, or both. So the prediction is logically and mathematically consistent. However, it neglects potential variations in roughness, and in particular the possibility that steeper channels might become rougher as the flow increases toward criticality (as suggested by Gordon Grant in a famous 1997 paper). The theory outlined here does not attempt to account for this effect, but users of the component should be aware of this limitation. In addition, the underlying treatment of shear stress as proportional to depth times slope is not appropriate for channels with a relatively small width-depth ratio; the component does not include any checks on this, so the user should be alert to unrealistic behavior when the calculated channel width is rather narrow."
   ]
  },
  {
   "cell_type": "markdown",
   "id": "endless-blast",
   "metadata": {},
   "source": [
    "### Gravel transport rate\n",
    "\n",
    "We follow Wickert and Schildgen (2019) in using the Meyer-Peter Mueller equation for bed-load transport. When combined with the width-closure equation above, the predicted gravel transport rate is:\n",
    "\n",
    "$$Q_s = k_Q I Q S^{7/6}$$\n",
    "\n",
    "where $k_Q$ is a dimensionless transport efficiency factor equal to $\\approx 0.041$. The variable $I$ is an efficiency factor, defined as the fraction of time that bankfull discharge occurs. In other words, one of the simplifications of the model is that the channel has two states: for a small fraction of the year, flow is equal to bankfull; for the rest of the time, the flow is too low to move any sediment.\n",
    "\n",
    "To get a sense for what the transport law implies about rates, consider a case in which $Q = 1$ cms, $S = 0.01$, and bankfull flow occurs for 1% of the year:"
   ]
  },
  {
   "cell_type": "code",
   "execution_count": 3,
   "id": "crazy-weapon",
   "metadata": {},
   "outputs": [
    {
     "name": "stdout",
     "output_type": "stream",
     "text": [
      "Qs 1.903051421781239e-06 cms\n",
      "Qs 43.61337126381372 cubic meters per year\n"
     ]
    }
   ],
   "source": [
    "Qs = 0.041 * 0.01 * 1 * (0.01) ** (7.0 / 6.0)\n",
    "print(\"Qs\", Qs, \"cms\")\n",
    "print(\"Qs\", Qs * 3600 * 24 * 265.25, \"cubic meters per year\")"
   ]
  },
  {
   "cell_type": "markdown",
   "id": "informational-philadelphia",
   "metadata": {},
   "source": [
    "This implies that 1 cms on a slope of 0.01 would carry about $2 \\times 10^{-6}$ cms of sediment, or about 44 cubic meters in a given year."
   ]
  },
  {
   "cell_type": "markdown",
   "id": "f2e7a19c",
   "metadata": {},
   "source": [
    "### Gravel abrasion\n",
    "\n",
    "The component uses a Sternberg-like method to calculate the downstream loss of mass to abrasion. The abrasion model is inspired by Attal & Lave (2006). We assume that the rate of loss of gravel mass to finer material per unit transport distance, $A$, is proportional to the gravel transport rate, $Q_s$:\n",
    "\n",
    "$$A = \\beta Q_s$$\n",
    "\n",
    "where $\\beta$ is an abrasion coefficient with units of inverse length.\n",
    "\n",
    "To appreciate the implication of this treatment, consider a reach of channel with an incoming gravel load $Q_0$ at the head of the reach, and no inputs along the reach itself. The rate of change of gravel load with respect to downstream distance, $x$, is:\n",
    "\n",
    "$$\\frac{dQ_s}{dx} = -\\beta Q_s$$\n",
    "\n",
    "Integrating downstream from the head of the reach $x=0$, where $Q_s=Q_0$, \n",
    "\n",
    "$$Q_s = Q_0 e^{-\\beta x}$$\n",
    "\n",
    "In other words, one obtains a Sternberg-like profile, except here expressed in terms of remaining gravel load rather than median size."
   ]
  },
  {
   "cell_type": "markdown",
   "id": "f09dfd99",
   "metadata": {},
   "source": [
    "## Setting up a gravel river model\n",
    "\n",
    "In the code below, we create a class that turns the `GravelRiverTransporter` component into a stand-alone model. This will make it simpler to set up and run examples."
   ]
  },
  {
   "cell_type": "code",
   "execution_count": 110,
   "id": "forty-importance",
   "metadata": {},
   "outputs": [],
   "source": [
    "import numpy as np\n",
    "from landlab import create_grid, RasterModelGrid, imshow_grid\n",
    "from landlab.components import GravelRiverTransporter, FlowAccumulator\n",
    "from copy import deepcopy\n",
    "import matplotlib.pyplot as plt\n",
    "import matplotlib as mpl\n",
    "\n",
    "mpl.rcParams[\"figure.dpi\"] = 300"
   ]
  },
  {
   "cell_type": "code",
   "execution_count": 151,
   "id": "e8f52c66",
   "metadata": {},
   "outputs": [],
   "source": [
    "class GravelRiverNetworkModel:\n",
    "    \"\"\"Model of gravel river transport & evolution on a flow-network grid.\"\"\"\n",
    "\n",
    "    _DEFAULT_GRID_PARAMS = {\n",
    "        \"RasterModelGrid\": {\n",
    "            \"shape\": (4, 5),\n",
    "            \"xy_spacing\": 1000.0,\n",
    "            \"fields\": {\n",
    "                \"node\": {\"topographic__elevation\": {\"constant\": [{\"value\": 0.0}]}}\n",
    "            },\n",
    "        }\n",
    "    }\n",
    "\n",
    "    _DEFAULT_FLOW_PARAMS = {\"flow_director\": \"FlowDirectorD8\"}\n",
    "\n",
    "    _DEFAULT_FLUVIAL_PARAMS = {}\n",
    "\n",
    "    def __init__(\n",
    "        self,\n",
    "        grid_params=_DEFAULT_GRID_PARAMS,\n",
    "        flow_params=_DEFAULT_FLOW_PARAMS,\n",
    "        fluvial_params=_DEFAULT_FLUVIAL_PARAMS,\n",
    "        initial_noise_amplitude=0.0,\n",
    "        uplift_rate=0.0001,\n",
    "        run_duration=1.0e4,\n",
    "        dt=100.0,\n",
    "        grid_setup_fn=None,\n",
    "        grid_setup_params={},\n",
    "    ):\n",
    "        \"\"\"Initialize GravelRiverNetworkModel.\"\"\"\n",
    "\n",
    "        self.grid = create_grid({**self._DEFAULT_GRID_PARAMS, **grid_params})\n",
    "        if grid_setup_fn is not None:\n",
    "            grid_setup_fn(self.grid, **grid_setup_params)\n",
    "        self.elev = self.grid.at_node[\"topographic__elevation\"]\n",
    "        if initial_noise_amplitude > 0.0:\n",
    "            self.elev[self.grid.core_nodes] += initial_noise_amplitude * np.random.rand(\n",
    "                self.grid.number_of_core_nodes\n",
    "            )\n",
    "        self.flow_handler = FlowAccumulator(\n",
    "            self.grid, **{**self._DEFAULT_FLOW_PARAMS, **flow_params}\n",
    "        )\n",
    "        self.transporter = GravelRiverTransporter(\n",
    "            self.grid, **{**self._DEFAULT_FLUVIAL_PARAMS, **fluvial_params}\n",
    "        )\n",
    "        self.uplift_rate = uplift_rate\n",
    "        self.time_remaining = run_duration\n",
    "        self.dt = dt\n",
    "\n",
    "    def run(self):\n",
    "        \"\"\"Run model from start to finish.\"\"\"\n",
    "        while self.time_remaining > 0.0:\n",
    "            dt = min(self.dt, self.time_remaining)\n",
    "            self.update(dt)\n",
    "            self.time_remaining -= dt\n",
    "\n",
    "    def update(self, dt):\n",
    "        \"\"\"Update for one time step of duration dt.\"\"\"\n",
    "        self.elev[self.grid.core_nodes] += self.uplift_rate * dt\n",
    "        self.flow_handler.run_one_step()\n",
    "        self.transporter.run_one_step(dt)"
   ]
  },
  {
   "cell_type": "markdown",
   "id": "f3879c7b",
   "metadata": {},
   "source": [
    "## Example: 1d longitudinal profile\n",
    "\n",
    "This example compares a 1d profile version of the model with the steady analytical solution. The analytical solution is presented in two parts: the special case of no abrasion ($\\beta = 0$), and the more general case with abrasion ($\\beta > 0$).\n",
    "\n",
    "### Special case of no abrasion\n",
    "\n",
    "#### Downstream gravel flux\n",
    "\n",
    "Consider a valley of width $\\Delta y$ with no tributaries or other inputs of water or sediment. Down-valley distance is $x$. Let the bankfull runoff rate be $r$, and the discharge proportional to drainage area, $A$, such that the bankfull discharge increases linearly with down-valley distance:\n",
    "\n",
    "$$Q = r A = r x \\Delta y$$\n",
    "\n",
    "Let the steady erosion (channel lowering) rate be $E$. When the erosion rate is steady, the rate of increase in volumetric gravel flux with respect to down-valley distance depends on two effects: the addition of new gravel through lowering of the valley, and the loss of gravel to finer material through abrasion. We can express this as:\n",
    "\n",
    "$$\\frac{dQ_s}{dx} = \\lambda (1-\\phi_s) E\\Delta y - \\beta Q_s$$\n",
    "\n",
    "Here $\\phi_s$ is the porosity of the substrate into which the valley lowers through time, and $\\lambda$ is the fraction of entrained material that is of gravel size.\n",
    "\n",
    "For the special case of $\\beta = 0$ (no abrasion), the integral is simply:\n",
    "\n",
    "$$Q_s = \\lambda (1-\\phi_s) E\\Delta y x$$\n",
    "\n",
    "In other words, with no abrasion, the gravel flux increases linearly down-valley.\n",
    "\n",
    "#### Profile shape\n",
    "\n",
    "To solve for the profile shape, first set the gravel flux equal to the transport rate and solve for slope gradient. For the special case of no abrasion ($\\beta = 0$),\n",
    "\n",
    "$$k_Q I Q S^{7/6} = \\lambda (1-\\phi_s) E \\Delta y x$$\n",
    "\n",
    "Rearranging, and substituting the relationship between discharge and distance,\n",
    "\n",
    "$$\\boxed{S = \\left(\\frac{\\lambda (1-\\phi_s) E}{k_Q I r}\\right)^{6/7}}$$\n",
    "\n",
    "Note that slope gradient does not depend on position along the valley! In other words, when the rate of water and sediment addition down-valley are both linear, the two effects balance and gradient remains constant. All else equal, the profile will be steeper with more sediment (higher $E$, $\\lambda$) and gentler with more transport potential (more frequent flow, more runoff, or a higher transport coefficient).\n",
    "\n",
    "#### Numerical test\n",
    "\n",
    "To create an effectively one-dimensional domain, we run a model with three rows of nodes, two of which are closed boundaries and one of which is the model domain. "
   ]
  },
  {
   "cell_type": "code",
   "execution_count": 152,
   "id": "3a339f2e",
   "metadata": {},
   "outputs": [],
   "source": [
    "# Define grid setup function for 3 rows with open boundary at right side\n",
    "def channel_profile_setup(grid, init_slope):\n",
    "    \"\"\"Set boundary nodes to CLOSED except the right side, which is the profile\n",
    "    outlet; give\"\"\"\n",
    "    grid.status_at_node[grid.perimeter_nodes] = grid.BC_NODE_IS_CLOSED\n",
    "    grid.status_at_node[grid.nodes_at_right_edge] = grid.BC_NODE_IS_FIXED_VALUE\n",
    "    grid.at_node[\"topographic__elevation\"][grid.core_nodes] = init_slope * (\n",
    "        np.amax(grid.x_of_node) - grid.x_of_node[grid.core_nodes]\n",
    "    )"
   ]
  },
  {
   "cell_type": "code",
   "execution_count": 201,
   "id": "14a7a12d",
   "metadata": {},
   "outputs": [],
   "source": [
    "profile_grid_params = {\n",
    "    \"RasterModelGrid\": {\n",
    "        \"shape\": (3, 51),\n",
    "        \"xy_spacing\": 1000.0,\n",
    "        \"fields\": {\"node\": {\"topographic__elevation\": {\"constant\": [{\"value\": 0.0}]}}},\n",
    "    }\n",
    "}\n",
    "\n",
    "flow_params = {\n",
    "    \"flow_director\": \"FlowDirectorD8\",\n",
    "    \"runoff_rate\": 10.0,\n",
    "}\n",
    "\n",
    "fluvial_params = {\n",
    "    \"intermittency_factor\": 0.01,\n",
    "    \"transport_coefficient\": 0.041,\n",
    "    \"abrasion_coefficient\": 0.0,\n",
    "    \"sediment_porosity\": 0.35,\n",
    "}\n",
    "\n",
    "uplift_rate = 0.0001"
   ]
  },
  {
   "cell_type": "code",
   "execution_count": 202,
   "id": "d489a268",
   "metadata": {},
   "outputs": [],
   "source": [
    "model = GravelRiverNetworkModel(\n",
    "    profile_grid_params,\n",
    "    flow_params,\n",
    "    fluvial_params,\n",
    "    uplift_rate=uplift_rate,\n",
    "    run_duration=4.0e7,\n",
    "    dt=2500.0,\n",
    "    grid_setup_fn=channel_profile_setup,\n",
    "    grid_setup_params={\"init_slope\": 0.0001},\n",
    ")"
   ]
  },
  {
   "cell_type": "code",
   "execution_count": 203,
   "id": "dc2cea82",
   "metadata": {},
   "outputs": [],
   "source": [
    "model.run()"
   ]
  },
  {
   "cell_type": "code",
   "execution_count": 204,
   "id": "27edf0e8",
   "metadata": {},
   "outputs": [],
   "source": [
    "# Set up for plotting 1D profiles\n",
    "ncols = model.grid.number_of_node_columns\n",
    "midrow = np.arange(ncols + 1, 2 * ncols, dtype=int)\n",
    "profile_x = model.grid.x_of_node[midrow]"
   ]
  },
  {
   "cell_type": "code",
   "execution_count": 210,
   "id": "a6059c9a",
   "metadata": {},
   "outputs": [
    {
     "data": {
      "text/plain": [
       "<matplotlib.legend.Legend at 0x7fae3103d700>"
      ]
     },
     "execution_count": 210,
     "metadata": {},
     "output_type": "execute_result"
    },
    {
     "data": {
      "image/png": "[encoded data removed]",
      "text/plain": [
       "<Figure size 1800x1200 with 1 Axes>"
      ]
     },
     "metadata": {
      "needs_background": "light"
     },
     "output_type": "display_data"
    }
   ],
   "source": [
    "# Calculate analytical solution for gravel flux\n",
    "Qspred = (\n",
    "    uplift_rate\n",
    "    * (1 - fluvial_params[\"sediment_porosity\"])\n",
    "    * model.grid.dx\n",
    "    * profile_x\n",
    ")\n",
    "\n",
    "# Plot\n",
    "plt.plot(profile_x / 1000.0, Qspred, 'ro-')\n",
    "plt.plot(profile_x / 1000.0, model.grid.at_node[\"bedload_sediment__volume_outflux\"][midrow], '.-')\n",
    "plt.xlabel('Distance (km)')\n",
    "plt.ylabel('Sediment flux (m3/y)')\n",
    "plt.legend(['Analytical', 'Computed'])"
   ]
  },
  {
   "cell_type": "code",
   "execution_count": 196,
   "id": "fbe806ee",
   "metadata": {},
   "outputs": [
    {
     "name": "stdout",
     "output_type": "stream",
     "text": [
      "Predicted slope gradient: 0.011122060820529871\n",
      "Computed gradient: [ 0.02723887  0.02746314  0.02768453  0.02790309  0.02811886  0.02833188\n",
      "  0.02854219  0.02874985  0.02895488  0.02915733  0.02935723  0.02955462\n",
      "  0.02974955  0.02994204  0.03013213  0.03031985  0.03050524  0.03068833\n",
      "  0.03086915  0.03104774  0.03122412  0.03139832  0.03157037  0.03174031\n",
      "  0.03190816  0.03207394  0.03223769  0.03239942  0.03255918  0.03271697\n",
      "  0.03287284  0.03302679  0.03317886  0.03332907  0.03347744  0.033624\n",
      "  0.03376876  0.03391175  0.034053    0.03419251  0.03433032  0.03446644\n",
      "  0.0346009   0.03473371  0.03486489  0.03499447  0.03512245  0.03524887\n",
      "  0.03537373  0.        ]\n"
     ]
    },
    {
     "data": {
      "image/png": "[encoded data removed]",
      "text/plain": [
       "<Figure size 1800x1200 with 1 Axes>"
      ]
     },
     "metadata": {
      "needs_background": "light"
     },
     "output_type": "display_data"
    }
   ],
   "source": [
    "# Calculate analytical solution for gradient\n",
    "Spred = (\n",
    "    1.0\n",
    "    * (1.0 - fluvial_params[\"sediment_porosity\"])\n",
    "    * uplift_rate\n",
    "    / (\n",
    "        fluvial_params[\"transport_coefficient\"]\n",
    "        * fluvial_params[\"intermittency_factor\"]\n",
    "        * flow_params[\"runoff_rate\"]\n",
    "    )\n",
    "    ** (6.0 / 7.0)\n",
    ")\n",
    "\n",
    "# Analytical solution for height\n",
    "Zpred = Spred * (np.amax(model.grid.x_of_node) - model.grid.x_of_node[midrow])\n",
    "\n",
    "# Plot\n",
    "plt.plot(model.grid.x_of_node[midrow] / 1000.0, Zpred, \"r.-\")\n",
    "plt.plot(model.grid.x_of_node[midrow] / 1000.0, model.elev[midrow], \".-\")\n",
    "plt.xlabel(\"Distance (km)\", fontsize=14)\n",
    "plt.ylabel(\"Elevation (m)\", fontsize=14)\n",
    "plt.grid(True)\n",
    "\n",
    "print(\"Predicted slope gradient:\", Spred)\n",
    "print(\"Computed gradient:\", model.grid.at_node[\"topographic__steepest_slope\"][midrow])"
   ]
  },
  {
   "cell_type": "code",
   "execution_count": null,
   "id": "e3956c5b",
   "metadata": {},
   "outputs": [],
   "source": []
  },
  {
   "cell_type": "code",
   "execution_count": null,
   "id": "c23605d8",
   "metadata": {},
   "outputs": [],
   "source": []
  },
  {
   "cell_type": "code",
   "execution_count": null,
   "id": "67957e60",
   "metadata": {},
   "outputs": [],
   "source": []
  },
  {
   "cell_type": "code",
   "execution_count": null,
   "id": "c0911c8b",
   "metadata": {},
   "outputs": [],
   "source": []
  },
  {
   "cell_type": "code",
   "execution_count": null,
   "id": "9ac92509",
   "metadata": {},
   "outputs": [],
   "source": []
  },
  {
   "cell_type": "code",
   "execution_count": null,
   "id": "7f8e4cc1",
   "metadata": {},
   "outputs": [],
   "source": []
  },
  {
   "cell_type": "markdown",
   "id": "4e34841d",
   "metadata": {},
   "source": [
    "\n",
    "### General case with abrasion\n",
    "\n",
    "#### Downstream gravel flux\n",
    "\n",
    "To integrate the more general case, we can use the method of substitution. Let $\\alpha = \\lambda (1-\\phi_s) E \\Delta y$, and $w = \\alpha - \\beta Q_s$. Then $dw = -\\beta dQ_s$, so that $dQ_s = -(1/\\beta) dw$. \n",
    "\n",
    "At $x=0$, the head of the reach, $Q_s=0$. Therefore, when $x=0$, $w=\\alpha$\n",
    "\n",
    "Substituting these,\n",
    "\n",
    "$$-\\frac{1}{\\beta} \\frac{dw}{dx} = w$$\n",
    "\n",
    "$$\\frac{1}{w}dw = -\\beta dx$$\n",
    "\n",
    "Integrating from $w = \\alpha$ to $w$ and from $x = 0$ to $x$,\n",
    "\n",
    "$$\\ln \\frac{w}{\\alpha} = -\\beta x$$\n",
    "\n",
    "$$\\frac{w}{\\alpha} = e^{-\\beta x}$$\n",
    "\n",
    "$$\\alpha - \\beta Q_s = \\alpha e^{-\\beta x}$$\n",
    "\n",
    "$$\\beta Q_s = \\alpha (1 - e^{-\\beta x})$$\n",
    "\n",
    "$$\\boxed{Q_s = \\frac{\\lambda (1-\\phi_s) E \\Delta y}{\\beta} (1 - e^{-\\beta x})}$$\n",
    "\n",
    "The implication is that the sediment flux is a saturating exponential that asymptotes to an equilibrium value \n",
    "\n",
    "$$Q_s^\\text{eq} = \\frac{\\lambda (1-\\phi_s) E \\Delta y}{\\beta}$$\n",
    "\n",
    "which represents a balance between addition of gravel-size sediment through erosional lowering, and loss of gravel-size sediment to finer material through abrasion. The equilibrium flux is larger when the erosion rate is faster, the valley is wider, the eroded material produces a higher gravel fraction, or the eroded material is less porous. The flux is smaller when the abrasion rate is higher.\n",
    "\n",
    "\n",
    "\n",
    "#### Profile shape\n",
    "\n",
    "Setting transport rate and gravel supply equal,\n",
    "\n",
    "$$k_Q I Q S^{7/6} = \\frac{\\lambda (1-\\phi_s) E \\Delta y}{\\beta} (1 - e^{-\\beta x})$$\n",
    "\n",
    "Solving for gradient,\n",
    "\n",
    "$$S = \\left( \\frac{\\lambda (1-\\phi_s) E \\Delta y}{\\beta k_Q I Q }(1 - e^{-\\beta x})\\right)^{6/7}$$\n",
    "\n",
    "Substituting the discharge-distance relation,\n",
    "\n",
    "$$\\boxed{S = \\left( \\frac{\\lambda (1-\\phi_s) E}{\\beta k_Q I r x}(1 - e^{-\\beta x})\\right)^{6/7}}$$"
   ]
  },
  {
   "cell_type": "code",
   "execution_count": null,
   "id": "01c6d8ef",
   "metadata": {},
   "outputs": [],
   "source": []
  },
  {
   "cell_type": "code",
   "execution_count": null,
   "id": "c1b1fd09",
   "metadata": {},
   "outputs": [],
   "source": []
  },
  {
   "cell_type": "code",
   "execution_count": null,
   "id": "adcc5d85",
   "metadata": {},
   "outputs": [],
   "source": []
  },
  {
   "cell_type": "code",
   "execution_count": null,
   "id": "02cb2a79",
   "metadata": {},
   "outputs": [],
   "source": []
  },
  {
   "cell_type": "code",
   "execution_count": null,
   "id": "42a51da8",
   "metadata": {},
   "outputs": [],
   "source": []
  },
  {
   "cell_type": "code",
   "execution_count": null,
   "id": "81b86a5f",
   "metadata": {},
   "outputs": [],
   "source": []
  },
  {
   "cell_type": "code",
   "execution_count": null,
   "id": "642f62c1",
   "metadata": {},
   "outputs": [],
   "source": []
  },
  {
   "cell_type": "code",
   "execution_count": null,
   "id": "539a8e03",
   "metadata": {},
   "outputs": [],
   "source": [
    "# Unit test for calc_transport_capacity\n",
    "#   First, the predicted solution\n",
    "dx = 100.0\n",
    "slope = 0.01\n",
    "discharge = 1.0 * dx * dx\n",
    "trans_coef = 0.041\n",
    "intermittency_fac = 0.01\n",
    "predicted_outflux = trans_coef * intermittency_fac * discharge * slope ** (7.0 / 6.0)\n",
    "print(\"Predicted outflux\", predicted_outflux, \"m3/y\")\n",
    "\n",
    "#   Next, the component-computed solution\n",
    "from landlab import RasterModelGrid\n",
    "from landlab.components import FlowAccumulator\n",
    "\n",
    "grid = RasterModelGrid((3, 3), xy_spacing=100.0)\n",
    "elev = grid.add_zeros(\"topographic__elevation\", at=\"node\")\n",
    "elev[3:] = 1.0\n",
    "fa = FlowAccumulator(grid)\n",
    "fa.run_one_step()\n",
    "transporter = GravelRiverTransporter(grid)\n",
    "# transporter._receiver_node[4]\n",
    "transporter.calc_transport_capacity()\n",
    "print(\"Computed outflux \", transporter._sediment_outflux[4], \"m3/y\")\n",
    "print(\"Rounded outflux  \", round(transporter._sediment_outflux[4], 7))"
   ]
  },
  {
   "cell_type": "code",
   "execution_count": null,
   "id": "230c8f32",
   "metadata": {},
   "outputs": [],
   "source": [
    "# Unit test for calc_sediment_rate_of_change\n",
    "#   First, the predicted solution\n",
    "dx = 100.0\n",
    "slope = 0.01\n",
    "discharge = 1.0 * dx * dx\n",
    "trans_coef = 0.041\n",
    "intermittency_fac = 0.01\n",
    "\n",
    "flux = trans_coef * intermittency_fac * discharge * slope ** (7.0 / 6.0)\n",
    "outflux_cores_and_open_bdy = np.array([0.0, 2 * flux, flux])\n",
    "influx_cores_and_open_bdy = np.array([2 * flux, flux, 0.0])\n",
    "predicted_dzdt_cores_open_bdy = (\n",
    "    influx_cores_and_open_bdy - outflux_cores_and_open_bdy\n",
    ") / (dx * dx)\n",
    "predicted_dzdt_cores_open_bdy[0] = 0.0\n",
    "\n",
    "#   Next, the component-computed solution\n",
    "from landlab import RasterModelGrid\n",
    "from landlab.components import FlowAccumulator\n",
    "\n",
    "grid = RasterModelGrid((3, 4), xy_spacing=100.0)\n",
    "grid.status_at_node[grid.perimeter_nodes] = grid.BC_NODE_IS_CLOSED\n",
    "grid.status_at_node[4] = grid.BC_NODE_IS_FIXED_VALUE\n",
    "\n",
    "elev = grid.add_zeros(\"topographic__elevation\", at=\"node\")\n",
    "elev[:] = slope * grid.x_of_node\n",
    "\n",
    "fa = FlowAccumulator(grid)\n",
    "fa.run_one_step()\n",
    "transporter = GravelRiverTransporter(grid)\n",
    "\n",
    "transporter.calc_sediment_rate_of_change()\n",
    "print(\"Predicted outflux\", outflux_cores_and_open_bdy, \"m3/y\")\n",
    "print(\"Computed outflux \", transporter._sediment_outflux[4:7], \"m3/y\")\n",
    "print(\"Predicted influx\", influx_cores_and_open_bdy, \"m3/y\")\n",
    "print(\"Computed influx \", transporter._sediment_influx[4:7], \"m3/y\")\n",
    "print(\"Predicted dzdt\", predicted_dzdt_cores_open_bdy, \"m/y\")\n",
    "print(\"Calculated dzdt\", transporter._dzdt[4:7], \"m/y\")"
   ]
  },
  {
   "cell_type": "code",
   "execution_count": null,
   "id": "283db8a7",
   "metadata": {},
   "outputs": [],
   "source": [
    "# Unit test for run_one_step\n",
    "#   First, the predicted solution\n",
    "dx = 100.0\n",
    "slope = 0.01\n",
    "discharge = 1.0 * dx * dx\n",
    "trans_coef = 0.041\n",
    "intermittency_fac = 0.01\n",
    "porosity = 0.35\n",
    "dt = 1000.0  # time step, years\n",
    "\n",
    "flux = trans_coef * intermittency_fac * discharge * slope ** (7.0 / 6.0)\n",
    "outflux_cores_and_open_bdy = np.array([0.0, 2 * flux, flux])\n",
    "influx_cores_and_open_bdy = np.array([2 * flux, flux, 0.0])\n",
    "predicted_dzdt_cores_open_bdy = (\n",
    "    (1.0 / (1.0 - porosity))\n",
    "    * (influx_cores_and_open_bdy - outflux_cores_and_open_bdy)\n",
    "    / (dx * dx)\n",
    ")\n",
    "predicted_dzdt_cores_open_bdy[0] = 0.0\n",
    "predicted_z = np.array([0.0, 1.0, 2.0]) + dt * predicted_dzdt_cores_open_bdy\n",
    "\n",
    "#   Next, the component-computed solution\n",
    "from landlab import RasterModelGrid\n",
    "from landlab.components import FlowAccumulator\n",
    "\n",
    "grid = RasterModelGrid((3, 4), xy_spacing=100.0)\n",
    "grid.status_at_node[grid.perimeter_nodes] = grid.BC_NODE_IS_CLOSED\n",
    "grid.status_at_node[4] = grid.BC_NODE_IS_FIXED_VALUE\n",
    "\n",
    "elev = grid.add_zeros(\"topographic__elevation\", at=\"node\")\n",
    "elev[:] = slope * grid.x_of_node\n",
    "\n",
    "fa = FlowAccumulator(grid)\n",
    "fa.run_one_step()\n",
    "transporter = GravelRiverTransporter(grid)\n",
    "\n",
    "transporter.run_one_step(dt)\n",
    "print(\"Predicted z \", predicted_z, \"m/y\")\n",
    "print(\"Calculated z\", transporter._elev[4:7], \"m\")"
   ]
  },
  {
   "cell_type": "markdown",
   "id": "92aee5aa",
   "metadata": {},
   "source": [
    "### Analytical solution for an equilibrium profile of one cell width\n",
    "\n",
    "Consider a 1D system in equilibrium with a baselevel lowering rate $U$. From W&S eq B2:\n",
    "\n",
    "$$\\frac{\\partial z}{\\partial t} = U - \\frac{\\beta Q_s}{B} -\\frac{1}{1-\\lambda_p} \\left( \\frac{\\partial (Q_s/B)}{\\partial x} - \\frac{Q_s}{B^2} \\frac{\\partial B}{\\partial x}\\right) = 0$$\n",
    "\n",
    "In our case, we assume a constant width $B$ (which will be equal to one grid cell width), so the right-most term is zero. That leaves us with:\n",
    "\n",
    "$$\\frac{d Q_s}{d x} = (1-\\lambda_p) U B - \\beta Q_s$$\n",
    "\n",
    "If $\\beta=0$ (no abrasion/attrition), this just integrates to:\n",
    "\n",
    "$$Q_s = (1-\\lambda_p) U B x$$\n",
    "\n",
    "To solve for equilibium slope, we set $Q_s$ equal to transport capacity and solve for $S$:\n",
    "\n",
    "$$k_Q I Q S^{7/6} = (1-\\lambda_p) U B x$$\n",
    "\n",
    "For a basin of fixed width $B$, $Q=rBx$ where $r$ is bankfull runoff rate (and we're assuming equilibrium hydrology, i.e., uniform $r$). So:\n",
    "\n",
    "$$S = \\left( \\frac{(1-\\lambda_p) U}{k_Q I r} \\right)^{6/7}$$\n",
    "\n",
    "This is our first test condition.\n",
    "\n",
    "In the general case, the governing equation has the form $dy/dx = a + by$. Integrating downstream from the headwaters, where $x=0$ and $Q_s=0$,\n",
    "\n",
    "$$Q_s = \\frac{(1-\\lambda_p) U B}{\\beta} \\left( 1 - e^{-\\beta x} \\right)$$\n",
    "\n",
    "It's a saturating exponential because at some point the rate of addition of gravel balances its rate of abrasion.\n",
    "\n",
    "At any point $x$, the slope has to be just sufficient to carry the imposed $Q_s$ with the available discharge (and given the intermittency factor, $I$):\n",
    "\n",
    "$$S(x) = \\frac{(1-\\lambda_p)U}{k_QIrx\\beta} \\left( 1 - e^{-\\beta x}\\right)$$\n",
    "\n",
    "I think what's going on here is that there's a tradeoff between growing discharge downstream ($Q = rBx$, where $r$ is bankfull runoff rate) and growing sediment downstream (the saturating exponential). But ultimately the sediment load stops growing downstream, and the water effect takes over."
   ]
  },
  {
   "cell_type": "code",
   "execution_count": null,
   "id": "357e3295",
   "metadata": {},
   "outputs": [],
   "source": [
    "# Test for equilibrium with no abrasion\n",
    "import matplotlib.pyplot as plt\n",
    "from landlab import RasterModelGrid\n",
    "from landlab.components import FlowAccumulator, GravelRiverTransporter\n",
    "\n",
    "# Parameters\n",
    "dx = 1000.0  # node spacing, m\n",
    "initial_slope = 0.0001  # starting topographic slope, m/m\n",
    "bankfull_runoff_rate = 10.0  # r, m/y\n",
    "trans_coef = 0.041  # this is kQ\n",
    "intermittency_fac = 0.01  # this is I\n",
    "dt = 1000.0  # time step, years\n",
    "uplift_rate = 0.0001  # U, m/y\n",
    "porosity = 0.0  # 0.35  # lambda_p\n",
    "nsteps = 30000  # number of time steps\n",
    "\n",
    "# Derived parameters\n",
    "discharge = bankfull_runoff_rate * dx * dx\n",
    "poro_fac = 1.0 - porosity\n",
    "\n",
    "# Grid setup\n",
    "grid = RasterModelGrid((3, 11), xy_spacing=dx)\n",
    "grid.status_at_node[grid.perimeter_nodes] = grid.BC_NODE_IS_CLOSED\n",
    "grid.status_at_node[21] = grid.BC_NODE_IS_FIXED_VALUE\n",
    "\n",
    "elev = grid.add_zeros(\"topographic__elevation\", at=\"node\")\n",
    "elev[:] = initial_slope * (grid.x_of_node.max() - grid.x_of_node)\n",
    "\n",
    "fa = FlowAccumulator(grid, runoff_rate=bankfull_runoff_rate)\n",
    "fa.run_one_step()\n",
    "transporter = GravelRiverTransporter(grid, sediment_porosity=porosity)\n",
    "\n",
    "for i in range(nsteps):\n",
    "    elev[grid.core_nodes] += uplift_rate * dt\n",
    "    fa.run_one_step()\n",
    "    transporter.run_one_step(dt)\n",
    "\n",
    "plt.plot(grid.x_of_node[11:22], elev[11:22])\n",
    "\n",
    "# Analytical solution\n",
    "xan = grid.x_of_node[12:22]\n",
    "Spred = (\n",
    "    (poro_fac * uplift_rate) / (trans_coef * intermittency_fac * bankfull_runoff_rate)\n",
    ") ** (6.0 / 7.0)\n",
    "zpred = Spred * (grid.x_of_node.max() - grid.x_of_node[12:22])\n",
    "print(\"Predicted slope =\", Spred)\n",
    "print(\"Computed slope =\", grid.at_node[\"topographic__steepest_slope\"])\n",
    "plt.plot(xan, zpred, \"r\")\n",
    "print(\"Pred outlfux\", uplift_rate * dx * grid.x_of_node[12:22])\n",
    "print(\"Outflux\", transporter._sediment_outflux[12:22])"
   ]
  },
  {
   "cell_type": "markdown",
   "id": "ca575745",
   "metadata": {},
   "source": [
    "### Equilibrium with abrasion in just one cell\n",
    "\n",
    "Input volume rate:\n",
    "\n",
    "$$\\text{input rate} = U\\Delta x^2 (1-\\lambda_p)$$\n",
    "\n",
    "Output volume rate is abrasion loss rate plus outflux. The factor of 1/2 comes from calculating abrasion rate from the average of incoming sediment flux (which is zero in this case) and outgoing sediment flux:\n",
    "\n",
    "$$\\text{output rate} = \\frac{1}{2}\\beta Q_s \\Delta x + Q_s = (1+\\beta \\Delta x/2) Q_s$$\n",
    "\n",
    "Setting equal:\n",
    "\n",
    "$$Q_s = \\frac{U\\Delta x^2 (1-\\lambda_p)}{1+\\beta \\Delta x / 2}$$\n",
    "\n",
    "The corresponding slope:\n",
    "\n",
    "$$k_Q I Q S^{7/6} = \\frac{U\\Delta x^2 (1-\\lambda_p)}{1+\\beta \\Delta x / 2}$$\n",
    "\n",
    "$$S^{7/6} = \\frac{U\\Delta x^2 (1-\\lambda_p)}{k_Q I Q (1+\\beta \\Delta x / 2)}$$\n",
    "\n",
    "$$S = \\left(\\frac{U\\Delta x^2 (1-\\lambda_p)}{k_Q I r \\Delta x^2 (1+\\beta \\Delta x / 2)}\\right)^{6/7}$$\n",
    "\n",
    "$$S = \\left(\\frac{U (1-\\lambda_p)}{k_Q I r (1+\\beta \\Delta x/2)}\\right)^{6/7}$$\n",
    "\n",
    "The abrasion lowering rate:\n",
    "\n",
    "$$E_a = \\frac{\\beta Q_s}{\\Delta x} = \\frac{\\beta U\\Delta x (1-\\lambda_p)}{(1+\\beta \\Delta x / 2)}$$"
   ]
  },
  {
   "cell_type": "code",
   "execution_count": null,
   "id": "6ab22b85",
   "metadata": {},
   "outputs": [],
   "source": [
    "# Test for equilibrium with abrasion in one cell\n",
    "import matplotlib.pyplot as plt\n",
    "from landlab import RasterModelGrid\n",
    "from landlab.components import FlowAccumulator, GravelRiverTransporter\n",
    "\n",
    "# Parameters\n",
    "dx = 1000.0  # node spacing, m\n",
    "initial_slope = 0.0001  # starting topographic slope, m/m\n",
    "bankfull_runoff_rate = 10.0  # r, m/y\n",
    "trans_coef = 0.041  # this is kQ\n",
    "intermittency_fac = 0.01  # this is I\n",
    "abrasion_length_scale = 2000.0  # this is the inverse of beta, in m\n",
    "dt = 10000.0  # time step, years\n",
    "uplift_rate = 0.0001  # U, m/y\n",
    "porosity = 0.35  # lambda_p\n",
    "nsteps = 200  # number of time steps\n",
    "\n",
    "# Derived parameters\n",
    "discharge = bankfull_runoff_rate * dx * dx\n",
    "abrasion_coef = 1.0 / abrasion_length_scale  # this is beta, 1/m\n",
    "poro_fac = 1.0 - porosity\n",
    "\n",
    "# Grid setup\n",
    "\n",
    "grid = RasterModelGrid((3, 3), xy_spacing=dx)\n",
    "grid.status_at_node[grid.perimeter_nodes] = grid.BC_NODE_IS_CLOSED\n",
    "grid.status_at_node[5] = grid.BC_NODE_IS_FIXED_VALUE\n",
    "\n",
    "elev = grid.add_zeros(\"topographic__elevation\", at=\"node\")\n",
    "elev[:] = initial_slope * (grid.x_of_node.max() - grid.x_of_node)\n",
    "\n",
    "fa = FlowAccumulator(grid, runoff_rate=bankfull_runoff_rate)\n",
    "fa.run_one_step()\n",
    "transporter = GravelRiverTransporter(\n",
    "    grid,\n",
    "    abrasion_coefficient=abrasion_coef,\n",
    ")\n",
    "\n",
    "for i in range(nsteps):\n",
    "    fa.run_one_step()\n",
    "    elev[grid.core_nodes] += uplift_rate * dt\n",
    "    transporter.run_one_step(dt)"
   ]
  },
  {
   "cell_type": "code",
   "execution_count": null,
   "id": "a9c78022",
   "metadata": {},
   "outputs": [],
   "source": [
    "# Compare with analytical solutions\n",
    "Qs_pred = (uplift_rate * dx * dx * (1.0 - porosity)) / (abrasion_coef * dx / 2 + 1)\n",
    "print(\"Predicted Qs\", Qs_pred)\n",
    "print(\"Computed Qs \", transporter._sediment_outflux[4])\n",
    "S_pred = (\n",
    "    Qs_pred / (trans_coef * intermittency_fac * bankfull_runoff_rate * dx * dx)\n",
    ") ** (6.0 / 7.0)\n",
    "print(\"Predicted S\", S_pred)\n",
    "print(\"Computed S \", transporter._slope[4])\n",
    "Ea_pred = abrasion_coef * (Qs_pred / 2.0) / dx\n",
    "print(\"Predicted Ea\", Ea_pred)\n",
    "print(\"Computed Ea \", transporter._abrasion[4])"
   ]
  },
  {
   "cell_type": "code",
   "execution_count": null,
   "id": "9aab2a65",
   "metadata": {},
   "outputs": [],
   "source": [
    "# Test for equilibrium with abrasion in two cells\n",
    "import matplotlib.pyplot as plt\n",
    "from landlab import RasterModelGrid\n",
    "from landlab.components import FlowAccumulator, GravelRiverTransporter\n",
    "\n",
    "# Parameters\n",
    "dx = 1000.0  # node spacing, m\n",
    "initial_slope = 0.0001  # starting topographic slope, m/m\n",
    "bankfull_runoff_rate = 10.0  # r, m/y\n",
    "trans_coef = 0.041  # this is kQ\n",
    "intermittency_fac = 0.01  # this is I\n",
    "abrasion_length_scale = 2000.0  # this is the inverse of beta, in m\n",
    "dt = 10000.0  # time step, years\n",
    "uplift_rate = 0.0001  # U, m/y\n",
    "porosity = 0.35  # lambda_p\n",
    "nsteps = 500  # number of time steps\n",
    "\n",
    "# Derived parameters\n",
    "discharge = bankfull_runoff_rate * dx * dx\n",
    "abrasion_coef = 1.0 / abrasion_length_scale  # this is beta, 1/m\n",
    "poro_fac = 1.0 - porosity\n",
    "\n",
    "# Grid setup\n",
    "\n",
    "grid = RasterModelGrid((3, 4), xy_spacing=dx)\n",
    "grid.status_at_node[grid.perimeter_nodes] = grid.BC_NODE_IS_CLOSED\n",
    "grid.status_at_node[7] = grid.BC_NODE_IS_FIXED_VALUE\n",
    "\n",
    "elev = grid.add_zeros(\"topographic__elevation\", at=\"node\")\n",
    "elev[:] = initial_slope * (grid.x_of_node.max() - grid.x_of_node)\n",
    "\n",
    "fa = FlowAccumulator(grid, runoff_rate=bankfull_runoff_rate)\n",
    "fa.run_one_step()\n",
    "transporter = GravelRiverTransporter(\n",
    "    grid,\n",
    "    abrasion_coefficient=abrasion_coef,\n",
    ")\n",
    "\n",
    "for i in range(nsteps):\n",
    "    fa.run_one_step()\n",
    "    elev[grid.core_nodes] += uplift_rate * dt\n",
    "    transporter.run_one_step(dt)"
   ]
  },
  {
   "cell_type": "code",
   "execution_count": null,
   "id": "c6f6ff41",
   "metadata": {},
   "outputs": [],
   "source": [
    "# Compare with analytical solutions in upper cell\n",
    "Qs_pred = (uplift_rate * dx * dx * (1.0 - porosity)) / (abrasion_coef * dx / 2 + 1)\n",
    "print(\"Predicted Qs\", Qs_pred)\n",
    "print(\"Computed Qs \", transporter._sediment_outflux[5])\n",
    "S_pred = (\n",
    "    Qs_pred / (trans_coef * intermittency_fac * bankfull_runoff_rate * dx * dx)\n",
    ") ** (6.0 / 7.0)\n",
    "print(\"Predicted S\", S_pred)\n",
    "print(\"Computed S \", transporter._slope[5])\n",
    "Ea_pred = abrasion_coef * (Qs_pred / 2) / dx\n",
    "print(\"Predicted Ea\", Ea_pred)\n",
    "print(\"Computed Ea \", transporter._abrasion[5])"
   ]
  },
  {
   "cell_type": "code",
   "execution_count": null,
   "id": "2890e669",
   "metadata": {},
   "outputs": [],
   "source": [
    "# Test for equilibrium with abrasion and 4 cells\n",
    "import matplotlib.pyplot as plt\n",
    "from landlab import RasterModelGrid\n",
    "from landlab.components import FlowAccumulator, GravelRiverTransporter\n",
    "\n",
    "# Parameters\n",
    "dx = 1000.0  # node spacing, m\n",
    "initial_slope = 0.0001  # starting topographic slope, m/m\n",
    "bankfull_runoff_rate = 10.0  # r, m/y\n",
    "trans_coef = 0.041  # this is kQ\n",
    "intermittency_fac = 0.01  # this is I\n",
    "abrasion_length_scale = 2000.0  # this is the inverse of beta, in m\n",
    "dt = 10000.0  # time step, years\n",
    "uplift_rate = 0.0001  # U, m/y\n",
    "porosity = 0.35  # lambda_p\n",
    "nsteps = 400  # number of time steps\n",
    "\n",
    "# Derived parameters\n",
    "discharge = bankfull_runoff_rate * dx * dx\n",
    "abrasion_coef = 1.0 / abrasion_length_scale  # this is beta, 1/m\n",
    "poro_fac = 1.0 - porosity\n",
    "\n",
    "# Grid setup\n",
    "\n",
    "grid = RasterModelGrid((3, 6), xy_spacing=dx)\n",
    "grid.status_at_node[grid.perimeter_nodes] = grid.BC_NODE_IS_CLOSED\n",
    "grid.status_at_node[11] = grid.BC_NODE_IS_FIXED_VALUE\n",
    "\n",
    "elev = grid.add_zeros(\"topographic__elevation\", at=\"node\")\n",
    "elev[:] = initial_slope * (grid.x_of_node.max() - grid.x_of_node)\n",
    "\n",
    "fa = FlowAccumulator(grid, runoff_rate=bankfull_runoff_rate)\n",
    "fa.run_one_step()\n",
    "transporter = GravelRiverTransporter(\n",
    "    grid,\n",
    "    abrasion_coefficient=abrasion_coef,\n",
    ")\n",
    "\n",
    "for i in range(nsteps):\n",
    "    fa.run_one_step()\n",
    "    elev[grid.core_nodes] += uplift_rate * dt\n",
    "    transporter.run_one_step(dt)"
   ]
  },
  {
   "cell_type": "code",
   "execution_count": null,
   "id": "9d44f215",
   "metadata": {},
   "outputs": [],
   "source": [
    "# Compare with analytical solutions in upper cell\n",
    "Qs_pred = (uplift_rate * dx * dx * (1.0 - porosity)) / (abrasion_coef * dx / 2 + 1)\n",
    "print(\"Predicted Qs\", Qs_pred)\n",
    "print(\"Computed Qs \", transporter._sediment_outflux[7])\n",
    "S_pred = (\n",
    "    Qs_pred / (trans_coef * intermittency_fac * bankfull_runoff_rate * dx * dx)\n",
    ") ** (6.0 / 7.0)\n",
    "print(\"Predicted S\", S_pred)\n",
    "print(\"Computed S \", transporter._slope[7])\n",
    "Ea_pred = abrasion_coef * (Qs_pred / 2) / dx\n",
    "print(\"Predicted Ea\", Ea_pred)\n",
    "print(\"Computed Ea \", transporter._abrasion[7])"
   ]
  },
  {
   "cell_type": "code",
   "execution_count": null,
   "id": "e18d3278",
   "metadata": {},
   "outputs": [],
   "source": [
    "# Analytical solution for Qs\n",
    "xan = grid.x_of_node[7:11]\n",
    "Qs_analyt = ((uplift_rate * dx * (1.0 - porosity)) / abrasion_coef) * (\n",
    "    1.0 - np.exp(-abrasion_coef * xan)\n",
    ")\n",
    "plt.plot(xan, transporter._sediment_outflux[7:11])\n",
    "plt.plot(xan, Qs_analyt)\n",
    "plt.xlabel(\"Distance (m)\")\n",
    "plt.ylabel(\"Sediment flux (m3/y)\")\n",
    "plt.grid(True)\n",
    "\n",
    "# Analytical solution for abrasion rate\n",
    "Qs_analyt_nodes = ((uplift_rate * dx * (1.0 - porosity)) / abrasion_coef) * (\n",
    "    1.0 - np.exp(-abrasion_coef * (xan - 0.5 * dx))\n",
    ")\n",
    "abra = abrasion_coef * Qs_analyt_nodes / dx\n",
    "plt.figure()\n",
    "plt.plot(xan, transporter._abrasion[7:11])\n",
    "plt.plot(xan, abra)\n",
    "plt.xlabel(\"Distance (m)\")\n",
    "plt.ylabel(\"Abrasion lowering rate (m/y)\")\n",
    "plt.grid(True)\n",
    "\n",
    "# Analytical solution for slope\n",
    "plt.figure()\n",
    "plt.plot(grid.x_of_node[7:11], transporter._slope[7:11])\n",
    "Spred = (\n",
    "    (\n",
    "        (poro_fac * uplift_rate)\n",
    "        / (0.041 * 0.01 * bankfull_runoff_rate * xan * abrasion_coef)\n",
    "    )\n",
    "    * (1.0 - np.exp(-abrasion_coef * xan))\n",
    ") ** (6.0 / 7.0)\n",
    "plt.plot(xan, Spred, \"r\")\n",
    "plt.xlabel(\"Distance (m)\")\n",
    "plt.ylabel(\"Slope\")\n",
    "plt.grid(True)"
   ]
  },
  {
   "cell_type": "markdown",
   "id": "3f9efb59",
   "metadata": {},
   "source": [
    "## Playing with bigger scale\n",
    "\n",
    "### Block-and-flat in 1D"
   ]
  },
  {
   "cell_type": "code",
   "execution_count": null,
   "id": "609143e1",
   "metadata": {},
   "outputs": [],
   "source": [
    "# Parameters\n",
    "dx = 1000.0\n",
    "nrows = 3\n",
    "ncols = 1601\n",
    "init_elev_plateau = 100.0\n",
    "noise_amp = 1.0\n",
    "init_slope = 0.0001\n",
    "abra_coef = 1.0 / 5000.0  # abrasion coefficient, 1/m\n",
    "bf_runoff_rate = 10.0  # bankfull runoff rate, m/y\n",
    "nsteps = 2000\n",
    "dt = 100.0  # time step, y"
   ]
  },
  {
   "cell_type": "code",
   "execution_count": null,
   "id": "cc6dd9e1",
   "metadata": {},
   "outputs": [],
   "source": [
    "# Grid\n",
    "grid = RasterModelGrid((nrows, ncols), xy_spacing=dx)\n",
    "grid.status_at_node[grid.nodes_at_top_edge] = grid.BC_NODE_IS_CLOSED\n",
    "grid.status_at_node[grid.nodes_at_left_edge] = grid.BC_NODE_IS_CLOSED\n",
    "grid.status_at_node[grid.nodes_at_bottom_edge] = grid.BC_NODE_IS_CLOSED\n",
    "elev = grid.add_zeros(\"topographic__elevation\", at=\"node\")\n",
    "elev[grid.x_of_node <= dx * ncols // 2] += init_elev_plateau\n",
    "xmax = np.amax(grid.x_of_node)\n",
    "elev[:] += init_slope * (xmax - grid.x_of_node)\n",
    "init_elev = elev.copy()"
   ]
  },
  {
   "cell_type": "code",
   "execution_count": null,
   "id": "e7cc36fa",
   "metadata": {},
   "outputs": [],
   "source": [
    "# Components\n",
    "fa = FlowAccumulator(\n",
    "    grid,\n",
    "    runoff_rate=bf_runoff_rate,\n",
    "    flow_director=\"FlowDirectorSteepest\",\n",
    ")\n",
    "transporter = GravelRiverTransporter(\n",
    "    grid,\n",
    "    abrasion_coefficient=abra_coef,\n",
    ")"
   ]
  },
  {
   "cell_type": "code",
   "execution_count": null,
   "id": "c3d0cde0",
   "metadata": {},
   "outputs": [],
   "source": [
    "# Loop\n",
    "import time\n",
    "\n",
    "start = time.time()\n",
    "for _ in range(nsteps):\n",
    "    fa.run_one_step()\n",
    "    transporter.run_one_step(dt)\n",
    "print(\"Time:\", time.time() - start)"
   ]
  },
  {
   "cell_type": "code",
   "execution_count": null,
   "id": "a64ca17f",
   "metadata": {},
   "outputs": [],
   "source": [
    "midrow = np.arange(ncols, ncols * 2, dtype=int)\n",
    "plt.plot(grid.x_of_node[midrow], init_elev[midrow])\n",
    "plt.plot(grid.x_of_node[midrow], elev[midrow], \"r\")\n",
    "xpl = elev[midrow]"
   ]
  },
  {
   "cell_type": "code",
   "execution_count": null,
   "id": "5c10b138",
   "metadata": {},
   "outputs": [],
   "source": [
    "dt = 40000.0  # bigger than possible with explicit solver\n",
    "nsteps = 5\n",
    "\n",
    "# Grid for run with matrix solver\n",
    "grid = RasterModelGrid((nrows, ncols), xy_spacing=dx)\n",
    "grid.status_at_node[grid.nodes_at_top_edge] = grid.BC_NODE_IS_CLOSED\n",
    "grid.status_at_node[grid.nodes_at_left_edge] = grid.BC_NODE_IS_CLOSED\n",
    "grid.status_at_node[grid.nodes_at_bottom_edge] = grid.BC_NODE_IS_CLOSED\n",
    "elev = grid.add_zeros(\"topographic__elevation\", at=\"node\")\n",
    "elev[grid.x_of_node <= dx * ncols // 2] += init_elev_plateau\n",
    "xmax = np.amax(grid.x_of_node)\n",
    "elev[:] += init_slope * (xmax - grid.x_of_node)\n",
    "init_elev = elev.copy()"
   ]
  },
  {
   "cell_type": "code",
   "execution_count": null,
   "id": "feba8416",
   "metadata": {},
   "outputs": [],
   "source": [
    "# Components\n",
    "fa = FlowAccumulator(\n",
    "    grid,\n",
    "    runoff_rate=bf_runoff_rate,\n",
    "    flow_director=\"FlowDirectorSteepest\",\n",
    ")\n",
    "transporter = GravelRiverTransporter(\n",
    "    grid, abrasion_coefficient=abra_coef, solver=\"matrix\"\n",
    ")"
   ]
  },
  {
   "cell_type": "code",
   "execution_count": null,
   "id": "43f80554",
   "metadata": {},
   "outputs": [],
   "source": [
    "# Loop\n",
    "import time\n",
    "\n",
    "start = time.time()\n",
    "for _ in range(nsteps):\n",
    "    fa.run_one_step()\n",
    "    transporter.run_one_step(dt)\n",
    "print(\"Time:\", time.time() - start)"
   ]
  },
  {
   "cell_type": "code",
   "execution_count": null,
   "id": "f0a3906b",
   "metadata": {},
   "outputs": [],
   "source": [
    "midrow = np.arange(ncols, ncols * 2, dtype=int)\n",
    "plt.plot(grid.x_of_node[midrow], init_elev[midrow])\n",
    "plt.plot(grid.x_of_node[midrow], xpl, \"r\")\n",
    "plt.plot(grid.x_of_node[midrow], elev[midrow], \"g\")"
   ]
  },
  {
   "cell_type": "markdown",
   "id": "01cf7794",
   "metadata": {},
   "source": [
    "### More complex uplifted block"
   ]
  },
  {
   "cell_type": "code",
   "execution_count": null,
   "id": "4dea7e5e",
   "metadata": {},
   "outputs": [],
   "source": [
    "# Parameters\n",
    "dx = 1000.0\n",
    "nrows = 11\n",
    "ncols = 50\n",
    "init_elev_plateau = 100.0\n",
    "noise_amp = 0.0\n",
    "init_slope = 0.0001\n",
    "abra_coef = 0.0  # 1.0 / 5000.0  # abrasion coefficient, 1/m\n",
    "bf_runoff_rate = 10.0  # bankfull runoff rate, m/y\n",
    "nsteps = 1000\n",
    "dt = 100.0  # time step, y\n",
    "plot_interval = 200\n",
    "\n",
    "np.random.seed(0)\n",
    "next_plot = plot_interval"
   ]
  },
  {
   "cell_type": "code",
   "execution_count": null,
   "id": "f46687ae",
   "metadata": {},
   "outputs": [],
   "source": [
    "# Grid\n",
    "grid = RasterModelGrid((nrows, ncols), xy_spacing=dx)\n",
    "grid.status_at_node[grid.nodes_at_top_edge] = grid.BC_NODE_IS_CLOSED\n",
    "grid.status_at_node[grid.nodes_at_bottom_edge] = grid.BC_NODE_IS_CLOSED\n",
    "grid.status_at_node[grid.nodes_at_left_edge] = grid.BC_NODE_IS_CLOSED\n",
    "elev = grid.add_zeros(\"topographic__elevation\", at=\"node\")\n",
    "elev[grid.core_nodes] += noise_amp * np.random.rand(grid.number_of_core_nodes)\n",
    "elev[grid.x_of_node <= dx * ncols // 2] += init_elev_plateau\n",
    "# elev[grid.y_of_node > dx * nrows//2] += 0.5 * init_elev_plateau\n",
    "xmax = np.amax(grid.x_of_node)\n",
    "elev[:] += init_slope * (xmax - grid.x_of_node)\n",
    "elev[:] += 10.0 * np.sin(2 * np.pi * grid.y_of_node / (dx * 10) + np.pi / 2.0)\n",
    "init_elev = elev.copy()"
   ]
  },
  {
   "cell_type": "code",
   "execution_count": null,
   "id": "4ce6c373",
   "metadata": {},
   "outputs": [],
   "source": [
    "# Components\n",
    "fa = FlowAccumulator(\n",
    "    grid,\n",
    "    runoff_rate=bf_runoff_rate,\n",
    "    flow_director=\"FlowDirectorSteepest\",\n",
    ")\n",
    "transporter = GravelRiverTransporter(\n",
    "    grid, abrasion_coefficient=abra_coef, solver=\"explicit\"\n",
    ")"
   ]
  },
  {
   "cell_type": "code",
   "execution_count": null,
   "id": "d4393fe7",
   "metadata": {},
   "outputs": [],
   "source": [
    "# Loop\n",
    "for i in range(1, nsteps + 1):\n",
    "    fa.run_one_step()\n",
    "    transporter.run_one_step(dt)\n",
    "\n",
    "    if i >= next_plot:\n",
    "        plt.figure()\n",
    "        imshow_grid(grid, grid.at_node[\"drainage_area\"])\n",
    "        plt.figure()\n",
    "        imshow_grid(grid, elev)\n",
    "        plt.figure()\n",
    "        ax = plt.axes(projection=\"3d\")\n",
    "        ax.plot_surface(\n",
    "            grid.x_of_node.reshape((nrows, ncols)),\n",
    "            grid.y_of_node.reshape((nrows, ncols)),\n",
    "            elev.reshape((nrows, ncols)),\n",
    "        )\n",
    "        plt.title(\"Time\" + str(i))\n",
    "        plt.figure()\n",
    "        dz = elev - init_elev\n",
    "        cr = np.amax(np.abs(dz))\n",
    "        imshow_grid(grid, dz, cmap=\"BrBG\", vmin=-cr, vmax=cr)\n",
    "        next_plot += plot_interval"
   ]
  },
  {
   "cell_type": "code",
   "execution_count": null,
   "id": "3d1d6b49",
   "metadata": {},
   "outputs": [],
   "source": [
    "print(elev[325:327])\n",
    "print(grid.at_node[\"bedload_sediment__volume_influx\"][325:327])\n",
    "print(transporter._sediment_influx[325:327])\n",
    "print(grid.at_node[\"bedload_sediment__volume_outflux\"][325:327])\n",
    "print(transporter._sediment_outflux[325:327])\n",
    "print(transporter._receiver_node[325:327])"
   ]
  },
  {
   "cell_type": "code",
   "execution_count": null,
   "id": "2ef38465",
   "metadata": {},
   "outputs": [],
   "source": [
    "ax = plt.axes(projection=\"3d\")\n",
    "ax.plot_surface(\n",
    "    grid.x_of_node.reshape((nrows, ncols)),\n",
    "    grid.y_of_node.reshape((nrows, ncols)),\n",
    "    elev.reshape((nrows, ncols)),\n",
    ")"
   ]
  },
  {
   "cell_type": "code",
   "execution_count": null,
   "id": "5f18ee91",
   "metadata": {},
   "outputs": [],
   "source": [
    "imshow_grid(grid, transporter._slope)"
   ]
  },
  {
   "cell_type": "code",
   "execution_count": null,
   "id": "f4fa1612",
   "metadata": {},
   "outputs": [],
   "source": [
    "imshow_grid(grid, grid.at_node[\"drainage_area\"])"
   ]
  },
  {
   "cell_type": "code",
   "execution_count": null,
   "id": "ac3c6fc8",
   "metadata": {},
   "outputs": [],
   "source": [
    "dz = elev - init_elev\n",
    "cr = np.amax(np.abs(dz))\n",
    "imshow_grid(grid, dz, cmap=\"BrBG\", vmin=-cr, vmax=cr)"
   ]
  },
  {
   "cell_type": "code",
   "execution_count": null,
   "id": "a9087c70",
   "metadata": {},
   "outputs": [],
   "source": [
    "np.sum(\n",
    "    grid.at_node[\"drainage_area\"][grid.status_at_node == grid.BC_NODE_IS_FIXED_VALUE]\n",
    ") / (dx * dx)"
   ]
  },
  {
   "cell_type": "markdown",
   "id": "3830a8e0",
   "metadata": {},
   "source": [
    "#### Explicit time-step limits\n",
    "\n",
    "This is a quasi-diffusive problem with a flux proportional to $k_Q I Q$. Suppose the maximum discharge is runoff rate times domain area. Then the CFL would seem to be:\n",
    "\n",
    "$$\\Delta t \\lt \\frac{\\Delta x^2}{2 k_Q I r a_d}$$\n",
    "\n",
    "where $a_d$ is domain area. Here's a calculation for this domain:"
   ]
  },
  {
   "cell_type": "code",
   "execution_count": null,
   "id": "70ddedb5",
   "metadata": {},
   "outputs": [],
   "source": [
    "dtmax = 1.0 / (2 * 0.041 * 0.01 * 10.0 * nrows * ncols)\n",
    "print(dtmax)"
   ]
  },
  {
   "cell_type": "markdown",
   "id": "16b3832a",
   "metadata": {},
   "source": [
    "This tiny value implies the need for better solvers!"
   ]
  },
  {
   "cell_type": "code",
   "execution_count": null,
   "id": "3a79bb77",
   "metadata": {},
   "outputs": [],
   "source": [
    "# Continue loop\n",
    "for _ in range(nsteps):\n",
    "    fa.run_one_step()\n",
    "    transporter.run_one_step(dt)"
   ]
  },
  {
   "cell_type": "code",
   "execution_count": null,
   "id": "269046a4",
   "metadata": {},
   "outputs": [],
   "source": [
    "imshow_grid(grid, elev)"
   ]
  },
  {
   "cell_type": "code",
   "execution_count": null,
   "id": "09323ffa",
   "metadata": {
    "scrolled": true
   },
   "outputs": [],
   "source": [
    "imshow_grid(grid, elev - init_elev)"
   ]
  },
  {
   "cell_type": "code",
   "execution_count": null,
   "id": "b55a7e46",
   "metadata": {},
   "outputs": [],
   "source": [
    "# Continue loop\n",
    "for _ in range(nsteps):\n",
    "    fa.run_one_step()\n",
    "    transporter.run_one_step(dt)"
   ]
  },
  {
   "cell_type": "code",
   "execution_count": null,
   "id": "9f31384b",
   "metadata": {},
   "outputs": [],
   "source": [
    "imshow_grid(grid, elev)"
   ]
  },
  {
   "cell_type": "code",
   "execution_count": null,
   "id": "80918c41",
   "metadata": {
    "scrolled": true
   },
   "outputs": [],
   "source": [
    "imshow_grid(grid, elev - init_elev)"
   ]
  },
  {
   "cell_type": "code",
   "execution_count": null,
   "id": "45d46704",
   "metadata": {},
   "outputs": [],
   "source": [
    "# Continue loop\n",
    "for _ in range(nsteps):\n",
    "    fa.run_one_step()\n",
    "    transporter.run_one_step(dt)"
   ]
  },
  {
   "cell_type": "code",
   "execution_count": null,
   "id": "5877b75a",
   "metadata": {},
   "outputs": [],
   "source": [
    "imshow_grid(grid, elev)"
   ]
  },
  {
   "cell_type": "code",
   "execution_count": null,
   "id": "14cb0f86",
   "metadata": {
    "scrolled": true
   },
   "outputs": [],
   "source": [
    "imshow_grid(grid, elev - init_elev)"
   ]
  },
  {
   "cell_type": "markdown",
   "id": "590b98f5",
   "metadata": {},
   "source": [
    "## Potential matrix solution\n",
    "\n",
    "Here we test out a little algorithm to create, populate, and invert a matrix."
   ]
  },
  {
   "cell_type": "code",
   "execution_count": null,
   "id": "3156981d",
   "metadata": {},
   "outputs": [],
   "source": [
    "import numpy as np\n",
    "from scipy.sparse import csc_matrix\n",
    "from scipy.sparse.linalg import spsolve\n",
    "from landlab.utils.matrix import get_core_node_at_node\n",
    "\n",
    "\n",
    "def make_empty_matrix_and_rhs(grid):\n",
    "    mat = csc_matrix(\n",
    "        (grid.number_of_core_nodes, grid.number_of_core_nodes),\n",
    "    )\n",
    "    rhs = np.zeros(grid.number_of_core_nodes)\n",
    "    return mat, rhs\n",
    "\n",
    "\n",
    "# make a tiny (3 core node) test grid\n",
    "matgrid = RasterModelGrid((3, 5))\n",
    "matgrid.status_at_node[matgrid.nodes_at_top_edge] = matgrid.BC_NODE_IS_CLOSED\n",
    "matgrid.status_at_node[matgrid.nodes_at_left_edge] = matgrid.BC_NODE_IS_CLOSED\n",
    "melev = matgrid.add_zeros(\"topographic__elevation\", at=\"node\")\n",
    "\n",
    "# lookup table to convert node ID to matrix (same as core) ID\n",
    "matrix_id = get_core_node_at_node(matgrid)\n",
    "\n",
    "# set the \"f\" (surrogate for discharge and slope to 1/6)\n",
    "f = np.zeros(matgrid.number_of_nodes)\n",
    "f[6:9] = [1, 2, 3]\n",
    "\n",
    "# make up receivers\n",
    "rcvr = np.arange(matgrid.number_of_nodes, dtype=int)\n",
    "rcvr[6:9] += 1  # point downstream to the right\n",
    "\n",
    "# set the a and b coefficients (just made up here)\n",
    "a = 1.0\n",
    "b = 0.5\n",
    "\n",
    "# create the matrix and rhs\n",
    "mat, rhs = make_empty_matrix_and_rhs(matgrid)\n",
    "\n",
    "\n",
    "def zero_out_matrix(matgrid, mat, rcvr, matid):\n",
    "    for i in matgrid.core_nodes:\n",
    "        j = matid[i]\n",
    "        mat[j, j] = 0.0\n",
    "        r = rcvr[i]\n",
    "        if matgrid.status_at_node[r] == matgrid.BC_NODE_IS_CORE:\n",
    "            k = matid[r]\n",
    "            mat[j, k] = 0.0\n",
    "            mat[k, k] = 0.0\n",
    "            mat[k, j] = 0.0\n",
    "\n",
    "\n",
    "# algorithm to fill out the matrix entries\n",
    "def fill_matrix_and_rhs(matgrid, mat, rhs, zvals, fvals, rcvr, matid, a, b):\n",
    "    zero_out_matrix(matgrid, mat, rcvr, matid)\n",
    "    for i in matgrid.core_nodes:\n",
    "        j = matid[i]\n",
    "        rhs[j] = zvals[i]\n",
    "        mat[j, j] += 1 + a * fvals[i]\n",
    "        r = rcvr[i]\n",
    "        if matgrid.status_at_node[r] == matgrid.BC_NODE_IS_CORE:\n",
    "            k = matid[r]\n",
    "            mat[j, k] -= a * fvals[i]\n",
    "            mat[k, k] += b * fvals[i]\n",
    "            mat[k, j] -= b * fvals[i]\n",
    "        else:\n",
    "            rhs[j] += a * fvals[i] * zvals[r]\n",
    "    return mat, rhs"
   ]
  },
  {
   "cell_type": "code",
   "execution_count": null,
   "id": "f8c9d54f",
   "metadata": {},
   "outputs": [],
   "source": [
    "mat, rhs = fill_matrix_and_rhs(matgrid, mat, rhs, melev, f, rcvr, matrix_id, a, b)"
   ]
  },
  {
   "cell_type": "code",
   "execution_count": null,
   "id": "20c95187",
   "metadata": {},
   "outputs": [],
   "source": [
    "# Predicted mat:\n",
    "pred = np.array(\n",
    "    [\n",
    "        [1 + a * f[6], -a * f[6], 0],\n",
    "        [-b * f[6], 1 + a * f[7] + b * f[6], -a * f[7]],\n",
    "        [0, -b * f[7], 1 + a * f[8] + b * f[7]],\n",
    "    ]\n",
    ")\n",
    "\n",
    "print(pred)\n",
    "print(mat)"
   ]
  },
  {
   "cell_type": "code",
   "execution_count": null,
   "id": "159887a5",
   "metadata": {},
   "outputs": [],
   "source": [
    "# rhs should be all zeros\n",
    "print(rhs)"
   ]
  },
  {
   "cell_type": "markdown",
   "id": "e4a13e5e",
   "metadata": {},
   "source": [
    "Now try with semi-realistic values. We'll use a runoff rate of 10, kQ of 0.041, I of 0.01, and dt of 1 year."
   ]
  },
  {
   "cell_type": "code",
   "execution_count": null,
   "id": "3eed1d83",
   "metadata": {},
   "outputs": [],
   "source": [
    "kQ = 0.041\n",
    "I = 0.01\n",
    "dt = 1000.0\n",
    "dx = 1.0\n",
    "beta = 1.0 / 5000.0\n",
    "pfac = 1.0 / (1.0 - 0.35)  # porosity factor\n",
    "U = 0.001\n",
    "a = (pfac * kQ * I * dt / dx**2) * ((1 / dx) + 0.5 * beta)\n",
    "b = (pfac * kQ * I * dt / dx**2) * ((1 / dx) - 0.5 * beta)\n",
    "f = np.zeros(matgrid.number_of_nodes)\n",
    "f[6] = 10.0\n",
    "f[7] = 20.0\n",
    "f[8] = 30.0"
   ]
  },
  {
   "cell_type": "code",
   "execution_count": null,
   "id": "7f490f7f",
   "metadata": {},
   "outputs": [],
   "source": [
    "mat, rhs = fill_matrix_and_rhs(matgrid, mat, rhs, melev, f, rcvr, matrix_id, a, b)\n",
    "rhs[:] += U * dt\n",
    "print(mat)\n",
    "print(rhs)"
   ]
  },
  {
   "cell_type": "code",
   "execution_count": null,
   "id": "5d899f36",
   "metadata": {},
   "outputs": [],
   "source": [
    "for i in range(10):\n",
    "    mat, rhs = fill_matrix_and_rhs(matgrid, mat, rhs, melev, f, rcvr, matrix_id, a, b)\n",
    "    rhs[:] += U * dt\n",
    "    melev[matgrid.core_nodes] = spsolve(mat, rhs)\n",
    "    print(melev[6:9])\n",
    "print(-np.diff(melev[6:9]))"
   ]
  },
  {
   "cell_type": "code",
   "execution_count": null,
   "id": "98a85ff4",
   "metadata": {},
   "outputs": [],
   "source": [
    "# Check: is this consistent with predicted slope, given negligible abrasion?\n",
    "Supper = U * dx * dx / (pfac * kQ * I * 10.0)\n",
    "print(Supper)"
   ]
  },
  {
   "cell_type": "markdown",
   "id": "7b5f0082",
   "metadata": {},
   "source": [
    "Try now with the nonlinear portion of slope, using the prior value as an approximation\n",
    "(which will presumably limit stability a bit)."
   ]
  },
  {
   "cell_type": "code",
   "execution_count": null,
   "id": "f57c7a5b",
   "metadata": {},
   "outputs": [],
   "source": [
    "Q = np.zeros(matgrid.number_of_nodes)\n",
    "Q[6] = 10.0\n",
    "Q[7] = 20.0\n",
    "Q[8] = 30.0\n",
    "\n",
    "melev[:] = 0.0  # reset elevations\n",
    "\n",
    "slope = np.zeros(matgrid.number_of_nodes)"
   ]
  },
  {
   "cell_type": "code",
   "execution_count": null,
   "id": "cb4b2693",
   "metadata": {},
   "outputs": [],
   "source": [
    "for i in range(10):\n",
    "    slope[matgrid.core_nodes] = (\n",
    "        melev[matgrid.core_nodes] - melev[rcvr[matgrid.core_nodes]]\n",
    "    ) / dx\n",
    "    f[matgrid.core_nodes] = Q[matgrid.core_nodes] * slope[matgrid.core_nodes] ** (\n",
    "        1.0 / 6.0\n",
    "    )\n",
    "    print(\"f:\", f[matgrid.core_nodes])\n",
    "    mat, rhs = fill_matrix_and_rhs(matgrid, mat, rhs, melev, f, rcvr, matrix_id, a, b)\n",
    "    rhs[:] += U * dt\n",
    "    melev[matgrid.core_nodes] = spsolve(mat, rhs)\n",
    "    print(melev[6:9])\n",
    "print(-np.diff(melev[6:9]))"
   ]
  },
  {
   "cell_type": "markdown",
   "id": "1b914c62",
   "metadata": {},
   "source": [
    "That seems to work reasonably smoothly. Now, how about the analytical solution? "
   ]
  },
  {
   "cell_type": "code",
   "execution_count": null,
   "id": "ee14fbcf",
   "metadata": {},
   "outputs": [],
   "source": [
    "# Check: is this consistent with predicted slope, given negligible abrasion?\n",
    "Supper_nl = (U * dx * dx / (pfac * kQ * I * 10.0)) ** (6.0 / 7.0)\n",
    "print(Supper_nl)"
   ]
  },
  {
   "cell_type": "markdown",
   "id": "f5d9b3dd",
   "metadata": {},
   "source": [
    "Hey, that actually worked!\n",
    "\n",
    "#### Try with a slightly more complex grid, like:\n",
    "\n",
    "```\n",
    "o o o o\n",
    "\n",
    "o . .-o\n",
    "   \\\n",
    "o .-.-o\n",
    "\n",
    "o o o o\n",
    "```\n",
    "\n"
   ]
  },
  {
   "cell_type": "code",
   "execution_count": null,
   "id": "7da1343b",
   "metadata": {},
   "outputs": [],
   "source": [
    "matgrid2x2 = RasterModelGrid((4, 4))\n",
    "melev2x2 = matgrid2x2.add_zeros(\"topographic__elevation\", at=\"node\")\n",
    "\n",
    "rcvr = np.arange(matgrid2x2.number_of_nodes, dtype=int)\n",
    "rcvr[5] = 6\n",
    "rcvr[6] = 7\n",
    "rcvr[9] = 6  # convergence of 2 tribs\n",
    "rcvr[10] = 11\n",
    "\n",
    "Q = np.zeros(matgrid2x2.number_of_nodes)\n",
    "Q[5] = 10.0\n",
    "Q[6] = 30.0  # convergence of 2 tribs\n",
    "Q[9] = 10.0\n",
    "Q[10] = 10.0\n",
    "\n",
    "slope = np.zeros(matgrid2x2.number_of_nodes)\n",
    "f = np.zeros(matgrid2x2.number_of_nodes)"
   ]
  },
  {
   "cell_type": "code",
   "execution_count": null,
   "id": "657d7726",
   "metadata": {},
   "outputs": [],
   "source": [
    "# create the matrix and rhs\n",
    "mat2x2, rhs2x2 = make_empty_matrix_and_rhs(matgrid2x2)\n",
    "\n",
    "# lookup table to convert node ID to matrix (same as core) ID\n",
    "matrix_id2x2 = get_core_node_at_node(matgrid2x2)\n",
    "\n",
    "for i in range(8):\n",
    "    slope[matgrid2x2.core_nodes] = (\n",
    "        melev2x2[matgrid2x2.core_nodes] - melev2x2[rcvr[matgrid2x2.core_nodes]]\n",
    "    ) / dx\n",
    "    f[matgrid2x2.core_nodes] = Q[matgrid2x2.core_nodes] * slope[\n",
    "        matgrid2x2.core_nodes\n",
    "    ] ** (1.0 / 6.0)\n",
    "    print(\"f:\", f[matgrid2x2.core_nodes])\n",
    "    mat, rhs = fill_matrix_and_rhs(\n",
    "        matgrid2x2, mat2x2, rhs2x2, melev2x2, f, rcvr, matrix_id2x2, a, b\n",
    "    )\n",
    "    rhs[:] += U * dt\n",
    "    melev2x2[matgrid2x2.core_nodes] = spsolve(mat2x2, rhs2x2)\n",
    "    print(melev2x2[6:9])\n",
    "print(slope[matgrid2x2.core_nodes])"
   ]
  },
  {
   "cell_type": "markdown",
   "id": "75226d77",
   "metadata": {},
   "source": [
    "Conclusion: the solution overshoots, due to the zero-initial-slope problem, but otherwise it seems to work fine."
   ]
  },
  {
   "cell_type": "code",
   "execution_count": null,
   "id": "36759564",
   "metadata": {},
   "outputs": [],
   "source": [
    "mat2x2.toarray()"
   ]
  },
  {
   "cell_type": "code",
   "execution_count": null,
   "id": "3f4fbb0a",
   "metadata": {},
   "outputs": [],
   "source": [
    "tm = csc_matrix((2, 2))\n",
    "tm.toarray()"
   ]
  },
  {
   "cell_type": "code",
   "execution_count": null,
   "id": "c566b70e",
   "metadata": {},
   "outputs": [],
   "source": [
    "0.01 ** (7.0 / 6)"
   ]
  },
  {
   "cell_type": "code",
   "execution_count": null,
   "id": "05a40bef",
   "metadata": {},
   "outputs": [],
   "source": [
    "0.004641588833612777 * 10000 * 4.1e-7"
   ]
  },
  {
   "cell_type": "code",
   "execution_count": null,
   "id": "bac5ccd0",
   "metadata": {},
   "outputs": [],
   "source": [
    "a = 0.041 * 0.01 * 1000.0 / (100 * 100 * 100)\n",
    "f1 = 100 * 100 * (0.01) ** (1.0 / 6.0)\n",
    "f2 = 200 * 100 * (0.01) ** (1.0 / 6.0)\n",
    "print(a, f1, f2)\n",
    "print(1 + a * f1)\n",
    "print(-a * f1)\n",
    "print(1 + a * f1 + a * f2)"
   ]
  },
  {
   "cell_type": "code",
   "execution_count": null,
   "id": "0773e8ef",
   "metadata": {},
   "outputs": [],
   "source": [
    "mat = csc_matrix((2, 2))\n",
    "mat[0, 0] = 1.0057091542653438\n",
    "mat[0, 1] = -0.0019030514217812397\n",
    "mat[1, 0] = -0.0019030514217812397\n",
    "mat[1, 1] = 1.0019030514217813\n",
    "rhs = np.array([1.0, 2.0])\n",
    "\n",
    "print(spsolve(mat, rhs))"
   ]
  },
  {
   "cell_type": "code",
   "execution_count": null,
   "id": "293b1bfe",
   "metadata": {},
   "outputs": [],
   "source": [
    "class frog:\n",
    "    def __init__(self):\n",
    "        self.two = self.one\n",
    "\n",
    "    def one(self):\n",
    "        print(\"i am one\")\n",
    "\n",
    "\n",
    "toad = frog()\n",
    "\n",
    "toad.one()\n",
    "toad.two()\n",
    "\n",
    "toad.one == toad.two"
   ]
  },
  {
   "cell_type": "code",
   "execution_count": null,
   "id": "4c6e95c0",
   "metadata": {},
   "outputs": [],
   "source": [
    "mat = csc_matrix((2, 2))\n",
    "mat[0, 0] = 1.0057\n",
    "mat[0, 1] = -0.0019\n",
    "mat[1, 0] = -0.0019\n",
    "mat[1, 1] = 1.0019\n",
    "\n",
    "rhs = np.array([1.0, 2.0])\n",
    "\n",
    "print(spsolve(mat, rhs))"
   ]
  },
  {
   "cell_type": "code",
   "execution_count": null,
   "id": "68463a9c",
   "metadata": {},
   "outputs": [],
   "source": [
    "50 * 2500 / 25000"
   ]
  },
  {
   "cell_type": "code",
   "execution_count": null,
   "id": "6f0b1253",
   "metadata": {},
   "outputs": [],
   "source": []
  }
 ],
 "metadata": {
  "kernelspec": {
   "display_name": "Python 3 (ipykernel)",
   "language": "python",
   "name": "python3"
  },
  "language_info": {
   "codemirror_mode": {
    "name": "ipython",
    "version": 3
   },
   "file_extension": ".py",
   "mimetype": "text/x-python",
   "name": "python",
   "nbconvert_exporter": "python",
   "pygments_lexer": "ipython3",
   "version": "3.8.13"
  }
 },
 "nbformat": 4,
 "nbformat_minor": 5
}
