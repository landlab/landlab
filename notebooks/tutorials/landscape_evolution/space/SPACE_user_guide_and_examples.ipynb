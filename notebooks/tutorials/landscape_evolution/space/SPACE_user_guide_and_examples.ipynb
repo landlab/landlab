{
 "cells": [
  {
   "cell_type": "markdown",
   "metadata": {},
   "source": [
    "# User guide and example for the Landlab SPACE component\n",
    "\n",
    "This notebook provides a brief introduction and user's guide for the Stream Power And Alluvial Conservation Equation (SPACE) component for landscape evolution modeling. It combines two documents, a User's Manual and a notebook-based example, written Charles M. Shobe to accompany the following publication:\n",
    "\n",
    "Shobe, C. M., Tucker, G. E., & Barnhart, K. R. (2017). The SPACE 1.0 model: a Landlab component for 2-D calculation of sediment transport, bedrock erosion, and landscape evolution. Geoscientific Model Development, 10(12), 4577-4604, [https://doi.org/10.5194/gmd-10-4577-2017](https://doi.org/10.5194/gmd-10-4577-2017).\n",
    "\n",
    "This notebook contains text from user manual along with executable code for its examples.\n",
    "\n",
    "*(User's Manual and example notebook written by C.M. Shobe in July 2017; combined into a notebook, updated for compatibility with Landlab 2.x, and added to the Landlab tutorials collection by Greg Tucker, July 2021.)*"
   ]
  },
  {
   "cell_type": "markdown",
   "metadata": {},
   "source": [
    "## Background on SPACE component\n",
    "\n",
    "The Landlab SPACE (Stream Power with Alluvium Conservation and Entrainment) component computes sediment transport and bedrock erosion across two-dimensional model landscapes. The SPACE model provides advantages relative to many other fluvial erosion models in that it 1) allows simultaneous erosion of sediment and bedrock, 2) explicitly treats sediment fluxes rather than relying on a proxy for bed cover, and 3) is easily coupled with other surface process components in Landlab. The SPACE component enhances Landlab’s functionality by enabling modeling of bedrock-alluvial channels, rather than simply using parameterized sediment-flux-dependent incision models.\n",
    "\n",
    "This user manual teaches users how to use the SPACE component using two\n",
    "examples provided in Shobe et al. (2017).\n",
    "\n",
    "This user manual serves as a supplement to that manuscript.\n",
    "Prerequisites: A working knowledge of the Python programming language\n",
    "(SPACE and Landlab support Python 3.x) as well as the NumPy\n",
    "and MatPlotLib libraries. Basic familiarity with the Landlab modeling toolkit (see Hobley et al., 2017 GMD, and Barnhart et al., 2020 eSurf) is recommended."
   ]
  },
  {
   "cell_type": "markdown",
   "metadata": {},
   "source": [
    "## Model description\n",
    "\n",
    "### Input parameters\n",
    "\n",
    "- **Sediment erodibility** $K_s$: Governs the rate of sediment entrainment; may be specified as a single floating point number, an array of length equal to the number of grid nodes, or a string naming an existing grid field.\n",
    "\n",
    "- **Bedrock erodibility** $K_r$: Governs the rate of bedrock erosion; may be specified as a single floating point number, an array of length equal to the number of grid nodes, or a string naming an existing grid field.\n",
    "\n",
    "- **Fraction of fine sediment** $F_f$: The unitless fraction (0–1) of rock that does not get converted to sediment, but is assumed to exit the model domain as “fine sediment,” or wash load.\n",
    "\n",
    "- **Sediment porosity** $\\phi$: The unitless fraction (0–1) of sediment thickness caused by pore space.\n",
    "\n",
    "- **Sediment entrainment length scale** $H_*$: Length scale governing the shape of the exponential sediment entrainment and bedrock erosion func- tions. $H_*$ may be thought of as reflecting bedrock surface roughness, with larger $H_*$ representing a rougher bedrock surface.\n",
    "\n",
    "- **Effective settling velocity** $V$: Settling velocity of sediment after accounting for the upward effects of turbulence. For details, see discussion by Davy and Lague, 2009.\n",
    "\n",
    "- **Stream power exponent** $m$: Exponent on drainage area or discharge in the stream power framework. Generally $\\approx 0.5$.\n",
    "\n",
    "- **Stream power exponent** $n$: Exponent on channel slope in the stream power framework. Generally $\\approx 1$.\n",
    "\n",
    "- **Sediment erosion threshold** $\\omega_{cs}$: Threshold erosive power required to entrain sediment.\n",
    "\n",
    "- **Bedrock erosion threshold** $\\omega_{cr}$: Threshold erosive power required to erode bedrock.\n",
    "\n",
    "- **Discharge field**: The field name or array to use for water discharge. The default is to use the grid field `surface_water__discharge`, which is simply drainage area multiplied by the default rainfall rate (1 m/yr). To use custom spatially/temporally varying rainfall, use `water__unit_flux_in` to specify water input to the `FlowAccumulator`.\n",
    "\n",
    "- **Solver**: string indicating the solver to use. Options at present include:\n",
    "  - 'basic' (default): explicit forward-time extrapolation. Simple but will become unstable if time step is too large.\n",
    "  - 'adaptive': subdivides global time step as needed to prevent slopes from reversing and alluvium from going negative."
   ]
  },
  {
   "cell_type": "markdown",
   "metadata": {},
   "source": [
    "### Model Variables\n",
    "\n",
    "Variables listed here are updated by the component at the grid locations listed. NOTE: because flow routing, calculation of discharge, and calculation of flow depth (if applicable) are handled by other Landlab components, variables such as water discharge and flow depth are not altered by the SPACE model and are not listed here.\n",
    "\n",
    "- `soil__depth`, node, [m]: Thickness of soil (also called sediment or alluvium) at every node. The name “soil” was used to match existing Landlab components. Soil thickness is calculated at every node incorporating the effects of sediment entrainment and deposition and bedrock erosion.\n",
    "\n",
    "- `sediment__flux`, node, [m$^3$/yr]: The volumetric flux of sediment at each node. Sediment flux is used to calculate sediment deposition rates.\n"
   ]
  },
  {
   "cell_type": "markdown",
   "metadata": {},
   "source": [
    "## Steps of a SPACE model\n",
    "\n",
    "Note: these steps are for a SPACE model that is not coupled to any other Landlab components. To see examples of how to couple Landlab components, please refer to the Landlab documentation: [http://landlab.github.io](http://landlab.github.io)."
   ]
  },
  {
   "cell_type": "markdown",
   "metadata": {
    "tags": []
   },
   "source": [
    "### Step 1: Import the necessary libraries \n",
    "\n",
    "The SPACE component is required, as are the model grid component and a flow routing component. It is generally a good idea to also include a depression handler such as `LakeMapperBarnes` or `DepressionFinderAndRouter`. These depression handlers route flow across flats or pits in a digital elevation model."
   ]
  },
  {
   "cell_type": "code",
   "execution_count": null,
   "metadata": {
    "jupyter": {
     "outputs_hidden": false
    }
   },
   "outputs": [],
   "source": [
    "## Import Numpy and Matplotlib packages\n",
    "import numpy as np\n",
    "import matplotlib.pyplot as plt  # For plotting results; optional\n",
    "\n",
    "## Import Landlab components\n",
    "# Pit filling; optional\n",
    "from landlab.components import DepressionFinderAndRouter\n",
    "\n",
    "# Flow routing\n",
    "from landlab.components import FlowAccumulator\n",
    "\n",
    "# SPACE model\n",
    "from landlab.components import Space  # SPACE model\n",
    "\n",
    "## Import Landlab utilities\n",
    "from landlab import RasterModelGrid  # Grid utility\n",
    "from landlab import imshow_grid  # For plotting results; optional"
   ]
  },
  {
   "cell_type": "markdown",
   "metadata": {},
   "source": [
    "Two Landlab components are essential to running the SPACE model: the model itself, and the `FlowAccumulator`, which calculates drainage pathways, topographic slopes, and surface water discharge across the grid. A depression handler, such as `DepressionFinderAndRouter`, is extremely useful if a grid is likely to have pits or closed depressions. For this reason, it is generally a good idea to use the DepressionFinderAndRouter in addition to the `FlowAccumulator`. However, it is not required.\n",
    "\n",
    "In addition to the relevant process components, some Landlab utilities are required to generate the model grid (in this example `RasterModelGrid`) and to visualize output (`imshow_grid`). Note that while it is possible to visualize output through functionality in other libraries (e.g., matplotlib), `imshow_grid` provides a simple way to generate 2-D maps of model variables.\n",
    "\n",
    "Most Landlab functionality requires the Numpy package for scientific computing in python. The matplotlib plotting library has also been imported to aid visualization of results."
   ]
  },
  {
   "cell_type": "markdown",
   "metadata": {},
   "source": [
    "### Step 2: Define the model domain and initial conditions\n",
    "\n",
    "The SPACE component works on raster grids. For this example we will use a synthetic raster grid. An example and description of the Landlab raster model grid are given in (Shobe et al., 2017), with a more complete explanation offered in Hobley et al. (2017) and Barnhart et al. (2020). In addition to using user-defined, synthetic model grids, it is also possible to import digital elevation models for use as a model domain (see the tutorial *reading_dem_into_landlab*). In this example, we create a synthetic, square model domain by creating an instance of the RasterModelGrid. In this case, the domain will be a plane slightly tilted towards the lower-left (southwest) corner with random micro-scale topographic roughness to force flow convergence and channelization. The grid is composed of 20 rows and 20 columns for a total of 400 nodes, with user-defined spacing.\n",
    "\n",
    "Once the grid has been created, the user defines a grid field to contain values of land surface elevation, and then imposes the desired initial condition topography on the model grid. In the case shown below, the field `topographic__elevation` is added to the model grid and given initial values of all zeros. After that, initial model topography is added to the field. To create a plane tilted to the southwest corner, which is referenced by $(x,y)$ coordinate pair (0,0), topographic elevation is modified to depend on the $x$ and $y$ coordinates of each grid node. Then, randomized micro-scale topographic roughness is added to the model grid. While not strictly necessary for the SPACE model to run, the micro-roughness allows flow convergence, channelization, and the development of realistic landscapes.\n",
    "\n",
    "In this example, we initialize the model domain with 2 meters of sediment thickness at every core (non-boundary) node. The sediment thickness will shrink over time as water mobilizes and removes sediment. To do this, the fields `soil__depth` and `bedrock__elevation` must be added to the model grid. If they are not added, the SPACE model will create them. In that case, however, the default sediment thickness is zero and the default bedrock topography is simply the provided topographic elevation."
   ]
  },
  {
   "cell_type": "code",
   "execution_count": null,
   "metadata": {
    "jupyter": {
     "outputs_hidden": false
    }
   },
   "outputs": [],
   "source": [
    "# Set grid parameters\n",
    "num_rows = 20\n",
    "num_columns = 20\n",
    "node_spacing = 100.0\n",
    "\n",
    "# track sediment flux at the node adjacent to the outlet at lower-left\n",
    "node_next_to_outlet = num_columns + 1\n",
    "\n",
    "# Instantiate model grid\n",
    "mg = RasterModelGrid((num_rows, num_columns), node_spacing)\n",
    "# add field ’topographic elevation’ to the grid\n",
    "mg.add_zeros(\"node\", \"topographic__elevation\")\n",
    "# set constant random seed for consistent topographic roughness\n",
    "np.random.seed(seed=5000)\n",
    "\n",
    "# Create initial model topography:\n",
    "# plane tilted towards the lower−left corner\n",
    "topo = mg.node_y / 100000.0 + mg.node_x / 100000.0\n",
    "\n",
    "# add topographic roughness\n",
    "random_noise = (\n",
    "    np.random.rand(len(mg.node_y)) / 1000.0\n",
    ")  # impose topography values on model grid\n",
    "mg[\"node\"][\"topographic__elevation\"] += topo + random_noise\n",
    "\n",
    "# add field 'soil__depth' to the grid\n",
    "mg.add_zeros(\"node\", \"soil__depth\")\n",
    "\n",
    "# Set 2 m of initial soil depth at core nodes\n",
    "mg.at_node[\"soil__depth\"][mg.core_nodes] = 2.0  # meters\n",
    "\n",
    "# Add field 'bedrock__elevation' to the grid\n",
    "mg.add_zeros(\"bedrock__elevation\", at=\"node\")\n",
    "\n",
    "# Sum 'soil__depth' and 'bedrock__elevation'\n",
    "# to yield 'topographic elevation'\n",
    "mg.at_node[\"bedrock__elevation\"][:] = mg.at_node[\"topographic__elevation\"]\n",
    "mg.at_node[\"topographic__elevation\"][:] += mg.at_node[\"soil__depth\"]"
   ]
  },
  {
   "cell_type": "markdown",
   "metadata": {},
   "source": [
    "### Step 3: Set the boundary conditions\n",
    "\n",
    "The user must determine the boundary conditions of the model domain (i.e., determine across which boundaries water and sediment may flow). Boundary conditions are controlled by setting the status of individual nodes or grid edges (see Hobley et al., 2017). We will use a single corner node as an “open” boundary and all other boundary nodes will be “closed”. We first use set closed boundaries at grid edges to ensure that no mass (water or sediment) may cross the model boundaries. Then, set watershed boundary condition outlet id is used to open (allow flow through) the lower-left corner of the model domain."
   ]
  },
  {
   "cell_type": "code",
   "execution_count": null,
   "metadata": {
    "tags": []
   },
   "outputs": [],
   "source": [
    "# Close all model boundary edges\n",
    "mg.set_closed_boundaries_at_grid_edges(\n",
    "    bottom_is_closed=True, left_is_closed=True, right_is_closed=True, top_is_closed=True\n",
    ")\n",
    "\n",
    "# Set lower-left (southwest) corner as an open boundary\n",
    "mg.set_watershed_boundary_condition_outlet_id(\n",
    "    0, mg[\"node\"][\"topographic__elevation\"], -9999.0\n",
    ")"
   ]
  },
  {
   "cell_type": "markdown",
   "metadata": {},
   "source": [
    "In this configuration, the model domain is set to drain water and sediment out of the only open boundary on the grid, the lower-left corner. There are several options for changing boundary conditions in Landlab. See Hobley et al. (2017) or the Landlab [online documentation](https://landlab.readthedocs.io)."
   ]
  },
  {
   "cell_type": "markdown",
   "metadata": {},
   "source": [
    "### Step 4: Initialize the SPACE component and any other components used\n",
    "\n",
    "Like most Landlab components, SPACE is written as a Python class. The class was imported at the beginning of the driver script (step 1). In this step, the user declares the instance of the SPACE class and sets any relevant model parameters. The same must be done for any other components used."
   ]
  },
  {
   "cell_type": "code",
   "execution_count": null,
   "metadata": {
    "tags": []
   },
   "outputs": [],
   "source": [
    "# Instantiate flow router\n",
    "fr = FlowAccumulator(mg, flow_director=\"FlowDirectorD8\")\n",
    "\n",
    "# Instantiate depression finder and router; optional\n",
    "df = DepressionFinderAndRouter(mg)\n",
    "\n",
    "# Instantiate SPACE model with chosen parameters\n",
    "sp = Space(\n",
    "    mg,\n",
    "    K_sed=0.01,\n",
    "    K_br=0.001,\n",
    "    F_f=0.0,\n",
    "    phi=0.0,\n",
    "    H_star=1.0,\n",
    "    v_s=5.0,\n",
    "    m_sp=0.5,\n",
    "    n_sp=1.0,\n",
    "    sp_crit_sed=0,\n",
    "    sp_crit_br=0,\n",
    ")"
   ]
  },
  {
   "cell_type": "markdown",
   "metadata": {},
   "source": [
    "### Step 5: Run the time loop\n",
    "\n",
    "The SPACE component calculates sediment entrainment and deposition, bedrock erosion, and changes in land surface elevation over time. The code shown below is an example of how to run the SPACE model over several model timesteps. In the example below, SPACE is run in a loop that executes until elapsed model time has reached a user-defined run time. The user is also responsible for choosing the model timestep. Within the loop, the following steps occur:\n",
    "\n",
    "1. The flow router runs first to determine topographic slopes and water discharge at all nodes on the model domain.\n",
    "2. The depression finder and router runs to map any nodes located in local topographic minima (i.e., nodes that water cannot drain out of) and to establish flow paths across the surface of these “lakes.” Using the depression finder and router is optional. However, because the SPACE model may in certain situations create local minima, using the depression finder and router can prevent the development of fatal instabilities.\n",
    "3. The depression finder and router generates a list of flooded nodes, which is then saved as a variable called “flooded” and passed to the SPACE model.\n",
    "4. The SPACE model runs for the duration of a single timestep, computing sediment transport, bedrock erosion, and topographic surface evolution.\n",
    "5. The elapsed time is updated."
   ]
  },
  {
   "cell_type": "code",
   "execution_count": null,
   "metadata": {
    "jupyter": {
     "outputs_hidden": false
    }
   },
   "outputs": [],
   "source": [
    "# Set model timestep\n",
    "timestep = 1.0  # years\n",
    "\n",
    "# Set elapsed time to zero\n",
    "elapsed_time = 0.0  # years\n",
    "\n",
    "# Set timestep count to zero\n",
    "count = 0\n",
    "\n",
    "# Set model run time\n",
    "run_time = 500.0  # years\n",
    "\n",
    "# Array to save sediment flux values\n",
    "sed_flux = np.zeros(int(run_time // timestep))\n",
    "\n",
    "while elapsed_time < run_time:  # time units of years\n",
    "\n",
    "    # Run the flow router\n",
    "    fr.run_one_step()\n",
    "\n",
    "    # Run the depression finder and router; optional\n",
    "    df.map_depressions()\n",
    "\n",
    "    # Run SPACE for one time step\n",
    "    sp.run_one_step(dt=timestep)\n",
    "\n",
    "    # Save sediment flux value to array\n",
    "    sed_flux[count] = mg.at_node[\"sediment__flux\"][node_next_to_outlet]\n",
    "\n",
    "    # Add to value of elapsed time\n",
    "    elapsed_time += timestep\n",
    "\n",
    "    # Increase timestep count\n",
    "    count += 1"
   ]
  },
  {
   "cell_type": "markdown",
   "metadata": {},
   "source": [
    "## Visualization of results"
   ]
  },
  {
   "cell_type": "markdown",
   "metadata": {},
   "source": [
    "### Sediment flux map"
   ]
  },
  {
   "cell_type": "code",
   "execution_count": null,
   "metadata": {
    "jupyter": {
     "outputs_hidden": false
    }
   },
   "outputs": [],
   "source": [
    "# Instantiate figure\n",
    "fig = plt.figure()\n",
    "\n",
    "# Instantiate subplot\n",
    "plot = plt.subplot()\n",
    "\n",
    "# Show sediment flux map\n",
    "imshow_grid(\n",
    "    mg,\n",
    "    \"sediment__flux\",\n",
    "    plot_name=\"Sediment flux\",\n",
    "    var_name=\"Sediment flux\",\n",
    "    var_units=r\"m$^3$/yr\",\n",
    "    grid_units=(\"m\", \"m\"),\n",
    "    cmap=\"terrain\",\n",
    ")"
   ]
  },
  {
   "cell_type": "code",
   "execution_count": null,
   "metadata": {
    "jupyter": {
     "outputs_hidden": false
    }
   },
   "outputs": [],
   "source": [
    "# Export figure to image\n",
    "fig.savefig(\"sediment_flux_map.eps\")"
   ]
  },
  {
   "cell_type": "markdown",
   "metadata": {},
   "source": [
    "### Sedimentograph\n",
    "\n",
    "Once the data required for the time series has been saved during the time loop, the time series may be plotted using standard matplotlib plotting commands:"
   ]
  },
  {
   "cell_type": "code",
   "execution_count": null,
   "metadata": {
    "jupyter": {
     "outputs_hidden": false
    }
   },
   "outputs": [],
   "source": [
    "# Instantiate figure\n",
    "fig = plt.figure()\n",
    "\n",
    "# Instantiate subplot\n",
    "sedfluxplot = plt.subplot()\n",
    "\n",
    "# Plot data\n",
    "sedfluxplot.plot(np.arange(500), sed_flux, color=\"k\", linewidth=3.0)\n",
    "\n",
    "# Add axis labels\n",
    "sedfluxplot.set_xlabel(\"Time [yr]\")\n",
    "sedfluxplot.set_ylabel(r\"Sediment flux [m$^3$/yr]\")"
   ]
  },
  {
   "cell_type": "markdown",
   "metadata": {},
   "source": [
    "There is an initial increase in sediment flux from the model domain as the water reaches its equilibrium transport capacity. Over the long run, topographic gradients are reduced by the erosion of sediment, which results in lower and lower sediment fluxes from the domain over time."
   ]
  },
  {
   "cell_type": "markdown",
   "metadata": {},
   "source": [
    "### Click here for more <a href=\"https://landlab.readthedocs.io/en/latest/user_guide/tutorials.html\">Landlab tutorials</a>"
   ]
  }
 ],
 "metadata": {
  "kernelspec": {
   "display_name": "Python 3",
   "language": "python",
   "name": "python3"
  },
  "language_info": {
   "codemirror_mode": {
    "name": "ipython",
    "version": 3
   },
   "file_extension": ".py",
   "mimetype": "text/x-python",
   "name": "python",
   "nbconvert_exporter": "python",
   "pygments_lexer": "ipython3",
   "version": "3.9.6"
  }
 },
 "nbformat": 4,
 "nbformat_minor": 4
}
