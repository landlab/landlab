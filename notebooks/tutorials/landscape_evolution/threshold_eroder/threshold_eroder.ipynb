{
 "cells": [
  {
   "cell_type": "markdown",
   "id": "a017f948-bdd8-4910-b694-ccbf3ea2ab30",
   "metadata": {},
   "source": [
    "<a href=\"http://landlab.github.io\"><img style=\"float: left\" src=\"../../landlab_header.png\"></a>"
   ]
  },
  {
   "cell_type": "markdown",
   "id": "585111f0",
   "metadata": {},
   "source": [
    "# User guide and example for the Landlab threshold_eroder component\n",
    "\n",
    "This notebook provides a brief introduction and user's guide for the threshold eroder component for landscape evolution modeling. \n",
    "\n",
    "Threshold eroder that cuts off slopes at a given threshold slope ($Sc$) and assumes material to dissolve away\n",
    "with $$S(S>Sc) \t\\rightarrow Sc$$\n",
    "where *S* is the topographic slope and $Sc$ represents a set threshold slope        "
   ]
  },
  {
   "cell_type": "markdown",
   "id": "faba1dbd",
   "metadata": {},
   "source": [
    "## Threshold eroder with regular grid\n"
   ]
  },
  {
   "cell_type": "code",
   "execution_count": null,
   "id": "19789894",
   "metadata": {},
   "outputs": [],
   "source": [
    "import numpy as np\n",
    "from landlab import RasterModelGrid\n",
    "from landlab.components import ThresholdEroder, PriorityFloodFlowRouter\n",
    "\n",
    "mg = RasterModelGrid((5, 5))\n",
    "mg.set_closed_boundaries_at_grid_edges(False, False, False, False)\n",
    "z = np.array(\n",
    "    [0.0, 0.0, 0.0, 0.0, 0.0, 0.0, 1.0, 1.0, 1.0, 0.0]\n",
    "    + [0.0, 1.0, 10.0, 1.0, 0.0, 0.0, 1.0, 1.0, 1.0, 0.0]\n",
    "    + [0.0, 0.0, 0.0, 0.0, 0.0]\n",
    ")\n",
    "_ = mg.add_field(\"topographic__elevation\", z, at=\"node\")\n",
    "\n",
    "# Instantiate Flow director (steepest slope type) and Threshold Eroder\n",
    "fdir = PriorityFloodFlowRouter(mg)\n",
    "th_ero = ThresholdEroder(mg, slope_crit=0.6)\n",
    "\n",
    "# Run the components for ten short timepsteps\n",
    "for t in range(2):\n",
    "    fdir.run_one_step()\n",
    "    th_ero.run_one_step()\n",
    "\n",
    "# Check final topography\n",
    "\n",
    "np.allclose(\n",
    "    mg.at_node[\"topographic__elevation\"],\n",
    "    np.array(\n",
    "        [0.0, 0.0, 0.0, 0.0, 0.0, 0.0, 0.6, 0.6, 0.6, 0.0]\n",
    "        + [0.0, 0.6, 1.2, 0.6, 0.0, 0.0, 0.6, 0.6, 0.6, 0.0]\n",
    "        + [0.0, 0.0, 0.0, 0.0, 0.0]\n",
    "    ),\n",
    ")"
   ]
  },
  {
   "cell_type": "markdown",
   "id": "2ae7334b",
   "metadata": {},
   "source": [
    "## Threshold eroder with regular grid using a bedrock and soil field\n"
   ]
  },
  {
   "cell_type": "code",
   "execution_count": null,
   "id": "573a6fd5",
   "metadata": {},
   "outputs": [],
   "source": [
    "mg = RasterModelGrid((5, 5))\n",
    "mg.set_closed_boundaries_at_grid_edges(False, False, False, False)\n",
    "z = np.array(\n",
    "    [0.0, 0.0, 0.0, 0.0, 0.0, 0.0, 1.0, 1.0, 1.0, 0.0]\n",
    "    + [0.0, 1.0, 10.0, 1.0, 0.0, 0.0, 1.0, 1.0, 1.0, 0.0]\n",
    "    + [0.0, 0.0, 0.0, 0.0, 0.0]\n",
    ")\n",
    "topo = mg.add_zeros(\"topographic__elevation\", at=\"node\")\n",
    "bed = mg.add_field(\"bedrock__elevation\", z, at=\"node\")\n",
    "soil = mg.add_ones(\"soil__depth\", at=\"node\")\n",
    "soil[mg.boundary_nodes] = 0\n",
    "topo[:] = soil + bed\n",
    "\n",
    "# Instantiate Flow director (steepest slope type) and Threshold Eroder\n",
    "fdir = PriorityFloodFlowRouter(mg)\n",
    "th_ero = ThresholdEroder(mg, slope_crit=0.6)\n",
    "\n",
    "# Run the components for ten short timepsteps\n",
    "\n",
    "for t in range(2):\n",
    "    fdir.run_one_step()\n",
    "    th_ero.run_one_step()\n",
    "\n",
    "# Check final topography\n",
    "\n",
    "np.allclose(\n",
    "    mg.at_node[\"topographic__elevation\"],\n",
    "    np.array(\n",
    "        [0.0, 0.0, 0.0, 0.0, 0.0, 0.0, 0.6, 0.6, 0.6, 0.0]\n",
    "        + [0.0, 0.6, 1.2, 0.6, 0.0, 0.0, 0.6, 0.6, 0.6, 0.0]\n",
    "        + [0.0, 0.0, 0.0, 0.0, 0.0]\n",
    "    ),\n",
    ")"
   ]
  },
  {
   "cell_type": "markdown",
   "id": "7f347b91",
   "metadata": {},
   "source": [
    "## Threshold eroder with hexagonal grid\n"
   ]
  },
  {
   "cell_type": "code",
   "execution_count": null,
   "id": "13147b74",
   "metadata": {},
   "outputs": [],
   "source": [
    "import numpy as np\n",
    "from landlab import HexModelGrid\n",
    "from landlab.components import FlowDirectorSteepest, FlowAccumulator, ThresholdEroder\n",
    "from landlab.plot.imshow import imshow_grid\n",
    "\n",
    "\n",
    "hmg = HexModelGrid((8, 8))\n",
    "\n",
    "topo = hmg.add_zeros(\"topographic__elevation\", at=\"node\")\n",
    "topo[hmg.core_nodes] += 100\n",
    "\n",
    "# Instantiate Flow director (steepest slope type) and Threshold Eroder\n",
    "fdir = FlowDirectorSteepest(hmg)\n",
    "fa = FlowAccumulator(hmg)\n",
    "th_ero = ThresholdEroder(hmg, slope_crit=0.6)\n",
    "\n",
    "# Run the components for ten short timepsteps\n",
    "for t in range(5):\n",
    "    fdir.run_one_step()\n",
    "    fa.run_one_step()\n",
    "    th_ero.run_one_step()\n",
    "imshow_grid(hmg, \"topographic__elevation\")\n",
    "\n",
    "np.allclose(\n",
    "    hmg.at_node[\"topographic__elevation\"],\n",
    "    np.array(\n",
    "        [0.0, 0.0, 0.0, 0.0, 0.0, 0.0, 0.0, 0.0, 0.0, 0.6, 0.6, 0.6, 0.6, 0.6]\n",
    "        + [0.6, 0.6, 0.0, 0.0, 0.6, 1.2, 1.2, 1.2, 1.2, 1.2, 1.2, 0.6, 0.0, 0.0]\n",
    "        + [0.6, 1.2, 1.8, 1.8, 1.8, 1.8, 1.8, 1.2, 0.6, 0.0, 0.0, 0.6, 1.2, 1.8]\n",
    "        + [1.8, 1.8, 1.8, 1.8, 1.8, 1.2, 0.6, 0.0, 0.0, 0.6, 1.2, 1.2, 1.2, 1.2]\n",
    "        + [1.2, 1.2, 1.2, 0.6, 0.0, 0.0, 0.6, 0.6, 0.6, 0.6, 0.6, 0.6, 0.6, 0.6]\n",
    "        + [0.0, 0.0, 0.0, 0.0, 0.0, 0.0, 0.0, 0.0, 0.0, 0.0]\n",
    "    ),\n",
    ")"
   ]
  },
  {
   "cell_type": "markdown",
   "id": "5b911213-4376-4ec2-bbee-849465924103",
   "metadata": {},
   "source": [
    "### Click here to learn about <a href=\"https://landlab.readthedocs.io/en/latest/user_guide/tutorials.html\">Landlab tutorials</a>"
   ]
  }
 ],
 "metadata": {
  "kernelspec": {
   "display_name": "CSDMS",
   "language": "python",
   "name": "csdms"
  },
  "language_info": {
   "codemirror_mode": {
    "name": "ipython",
    "version": 3
   },
   "file_extension": ".py",
   "mimetype": "text/x-python",
   "name": "python",
   "nbconvert_exporter": "python",
   "pygments_lexer": "ipython3",
   "version": "3.9.12"
  }
 },
 "nbformat": 4,
 "nbformat_minor": 5
}
