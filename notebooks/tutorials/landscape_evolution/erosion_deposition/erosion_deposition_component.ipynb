{
 "cells": [
  {
   "cell_type": "markdown",
   "metadata": {},
   "source": [
    "<a href=\"http://landlab.github.io\"><img style=\"float: left\" src=\"../../../landlab_header.png\"></a>"
   ]
  },
  {
   "cell_type": "markdown",
   "metadata": {},
   "source": [
    "# Introduction to the `ErosionDeposition` component"
   ]
  },
  {
   "cell_type": "markdown",
   "metadata": {},
   "source": [
    "<hr>\n",
    "<small>For more Landlab tutorials, click here: <a href=\"https://landlab.readthedocs.io/en/latest/user_guide/tutorials.html\">https://landlab.readthedocs.io/en/latest/user_guide/tutorials.html</a></small>\n",
    "<hr>"
   ]
  },
  {
   "cell_type": "markdown",
   "metadata": {},
   "source": [
    "This tutorial introduces the `ErosionDeposition` component, which simulates erosion and deposition in a river network over long time scales.\n",
    "\n",
    "## Theory and Overview\n",
    "\n",
    "`ErosionDeposition` models fluvial processes using the approach described by Davy and Lague (2009). The basic goal is to calculate rates of erosion or deposition in the various branches of a river network that is embedded in a gridded landscape (see, e.g., Tucker and Hancock, 2010). The literature has a number of different approaches to this problem. Some models assume transport-limited conditions, such that erosion or deposition result from local imbalances in sediment transport capacity (see, e.g., Willgoose, 2018). Some assume detachment-limited conditions, such that any eroded sediment is entirely removed  (e.g., Howard, 1994; Whipple and Tucker, 1999; Tucker and Whipple, 2002). Still others allow for both erosion of detachment-resistant material (bedrock or cohesive sediments), and re-deposition of that material. The Davy-Lague approach falls in the latter category, and is similar to the approach used in some shorter-term morphodynamic models as well as agricultural soil erosion models. The basic idea involves conservation of sediment mass in the water column of a river. One calculates the rate of entrainment of sediment from the bed into the water as a function of discharge and local slope. The bed also accumulates sediment that settles out from the water column, at a rate that depends on sediment concentration (treated as the ratio of sediment flux to water discharge) and a settling-velocity parameter.\n",
    "\n",
    "The theory behind using this kind of dual erosion-deposition approach in the context of fluvial landscape evolution is described by Davy and Lague (2009). Tucker and Hancock (2010) provide a review of landscape evolution modeling that compares this with other approaches to fluvial erosion/deposition theory. The equations used in the Landlab `ErosionDeposition` component are described by Barnhart et al. (2019) as part of the *terrainBento* collection of Landlab-based landscape evolution models, which includes models that use `ErosionDeposition`."
   ]
  },
  {
   "cell_type": "code",
   "execution_count": null,
   "metadata": {},
   "outputs": [],
   "source": [
    "from landlab.components import FlowAccumulator, ErosionDeposition\n",
    "from landlab.plot import imshow_grid\n",
    "from landlab import HexModelGrid\n",
    "import matplotlib as mpl\n",
    "import matplotlib.pyplot as plt\n",
    "import numpy as np\n",
    "import copy"
   ]
  },
  {
   "cell_type": "markdown",
   "metadata": {},
   "source": [
    "Look at the top-level internal documentation for the `ErosionDeposition` component:"
   ]
  },
  {
   "cell_type": "code",
   "execution_count": null,
   "metadata": {},
   "outputs": [],
   "source": [
    "print(ErosionDeposition.__doc__)"
   ]
  },
  {
   "cell_type": "markdown",
   "metadata": {},
   "source": [
    "The `__init__` docstring lists the parameters for this component:"
   ]
  },
  {
   "cell_type": "code",
   "execution_count": null,
   "metadata": {},
   "outputs": [],
   "source": [
    "print(ErosionDeposition.__init__.__doc__)"
   ]
  },
  {
   "cell_type": "markdown",
   "metadata": {},
   "source": [
    "Set some parameters:"
   ]
  },
  {
   "cell_type": "code",
   "execution_count": null,
   "metadata": {},
   "outputs": [],
   "source": [
    "# Parameters\n",
    "nrows = 41\n",
    "ncols = 41\n",
    "dx = 100.0\n",
    "K = 0.0001  # erodibility coefficient, 1/yr\n",
    "m_sp = 0.5  # exponent on drainage area or discharge, -\n",
    "n_sp = 1.0  # exponent on slope, -\n",
    "sp_crit = 0.0  # erosion threshold\n",
    "v_s = 100.0  # settling velocity parameter (dimensionless if drainage area is used instead of discharge)\n",
    "F_f = 0.5  # fraction of fines generated during bed erosion\n",
    "initial_elevation = (\n",
    "    200.0  # starting elevation of an \"uplifted block\" (rapid baselevel drop), m\n",
    ")\n",
    "\n",
    "run_duration = 120000.0  # duration of run, yr\n",
    "dt = 100.0  # time-step duration, yr\n",
    "plot_every = 40000.0  # time interval for plotting, yr\n",
    "\n",
    "# Derived parameters\n",
    "nsteps = int(run_duration / dt)\n",
    "next_plot = plot_every\n",
    "\n",
    "# set up colormap\n",
    "cmap = copy.copy(mpl.cm.get_cmap(\"pink\"))"
   ]
  },
  {
   "cell_type": "markdown",
   "metadata": {},
   "source": [
    "Create a grid with one side open:"
   ]
  },
  {
   "cell_type": "code",
   "execution_count": null,
   "metadata": {},
   "outputs": [],
   "source": [
    "mg = HexModelGrid(\n",
    "    (nrows, ncols), spacing=dx, node_layout=\"rect\", orientation=\"vertical\"\n",
    ")\n",
    "z = mg.add_zeros(\"topographic__elevation\", at=\"node\")\n",
    "# add some roughness, as this lets \"natural\" channel planforms arise\n",
    "np.random.seed(0)\n",
    "initial_roughness = np.random.rand(z.size)\n",
    "z[:] += initial_roughness\n",
    "z[mg.core_nodes] += initial_elevation\n",
    "z[mg.boundary_nodes] = 0.0\n",
    "\n",
    "# close off boundaries on 3 sides\n",
    "is_closed_boundary = np.logical_and(\n",
    "    mg.status_at_node != mg.BC_NODE_IS_CORE,\n",
    "    mg.x_of_node < (np.amax(mg.x_of_node) - 0.5 * dx),\n",
    ")\n",
    "mg.status_at_node[is_closed_boundary] = mg.BC_NODE_IS_CLOSED"
   ]
  },
  {
   "cell_type": "markdown",
   "metadata": {},
   "source": [
    "Instantiate components:"
   ]
  },
  {
   "cell_type": "code",
   "execution_count": null,
   "metadata": {},
   "outputs": [],
   "source": [
    "fr = FlowAccumulator(mg, depression_finder=\"DepressionFinderAndRouter\")\n",
    "ed = ErosionDeposition(\n",
    "    mg,\n",
    "    K=K,\n",
    "    m_sp=m_sp,\n",
    "    n_sp=n_sp,\n",
    "    sp_crit=sp_crit,\n",
    "    v_s=v_s,\n",
    "    F_f=F_f,\n",
    "    solver=\"adaptive\",  # use the adaptive time stepper, which is slightly faster\n",
    ")"
   ]
  },
  {
   "cell_type": "markdown",
   "metadata": {},
   "source": [
    "Run the model in a loop to evolve topography on the uplifted block:"
   ]
  },
  {
   "cell_type": "code",
   "execution_count": null,
   "metadata": {},
   "outputs": [],
   "source": [
    "for i in range(1, nsteps + 1):\n",
    "\n",
    "    # route flow\n",
    "    fr.run_one_step()  # run_one_step isn't time sensitive, so it doesn't take dt as input\n",
    "\n",
    "    # do some erosion/deposition\n",
    "    ed.run_one_step(dt)\n",
    "\n",
    "    if i * dt >= next_plot:\n",
    "        plt.figure()\n",
    "        imshow_grid(\n",
    "            mg,\n",
    "            \"topographic__elevation\",\n",
    "            grid_units=[\"m\", \"m\"],\n",
    "            var_name=\"Elevation (m)\",\n",
    "            cmap=cmap,\n",
    "        )\n",
    "        next_plot += plot_every"
   ]
  },
  {
   "cell_type": "markdown",
   "metadata": {},
   "source": [
    "## References\n",
    "\n",
    "Barnhart, K. R., Glade, R. C., Shobe, C. M., & Tucker, G. E. (2019). Terrainbento 1.0: a Python package for multi-model analysis in long-term drainage basin evolution. Geoscientific Model Development, 12(4), 1267-1297.\n",
    "\n",
    "Davy, P., & Lague, D. (2009). Fluvial erosion/transport equation of landscape evolution models revisited. Journal of Geophysical Research: Earth Surface, 114(F3).\n",
    "\n",
    "Howard, A. D. (1994). A detachment‐limited model of drainage basin evolution. Water resources research, 30(7), 2261-2285.\n",
    "\n",
    "Tucker, G. E., & Hancock, G. R. (2010). Modelling landscape evolution. Earth Surface Processes and Landforms, 35(1), 28-50.\n",
    "\n",
    "Tucker, G. E., & Whipple, K. X. (2002). Topographic outcomes predicted by stream erosion models: Sensitivity analysis and intermodel comparison. Journal of Geophysical Research: Solid Earth, 107(B9), ETG-1.\n",
    "\n",
    "Whipple, K. X., & Tucker, G. E. (1999). Dynamics of the stream‐power river incision model: Implications for height limits of mountain ranges, landscape response timescales, and research needs. Journal of Geophysical Research: Solid Earth, 104(B8), 17661-17674.\n",
    "\n",
    "Willgoose, G. (2018). Principles of soilscape and landscape evolution. Cambridge University Press."
   ]
  },
  {
   "cell_type": "markdown",
   "metadata": {},
   "source": [
    "### Click here for more <a href=\"https://landlab.readthedocs.io/en/latest/user_guide/tutorials.html\">Landlab tutorials</a>"
   ]
  }
 ],
 "metadata": {
  "kernelspec": {
   "display_name": "Python 3",
   "language": "python",
   "name": "python3"
  },
  "language_info": {
   "codemirror_mode": {
    "name": "ipython",
    "version": 3
   },
   "file_extension": ".py",
   "mimetype": "text/x-python",
   "name": "python",
   "nbconvert_exporter": "python",
   "pygments_lexer": "ipython3",
   "version": "3.8.8"
  }
 },
 "nbformat": 4,
 "nbformat_minor": 4
}
