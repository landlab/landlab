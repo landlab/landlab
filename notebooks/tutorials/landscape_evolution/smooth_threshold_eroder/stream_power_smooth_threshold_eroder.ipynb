{
 "cells": [
  {
   "cell_type": "markdown",
   "id": "bd3691b4",
   "metadata": {},
   "source": [
    "# The `StreamPowerSmoothThresholdEroder` component\n",
    "\n",
    "Landlab's `StreamPowerSmoothThresholdEroder` (here SPSTE for short) is a fluvial landscape evolution component that uses a thresholded form of the stream power erosion law. The novel aspect is that the threshold takes a smoothed form rather than an abrupt mathematical discontinuity: as long as slope and drainage area are greater than zero, there is always *some* erosion rate even if the erosive potential function is below the nominal threshold value. This approach is motivated by the finding that mathematically discontinuous functions in numerical models can lead to \"numerical daemons\": non-smooth functional behavior that can greatly complicate optimization (Clark & Kavetski, 2010; Kavetski & Clark, 2010, 2011). The SPSTE is one of the fluvial erosion components used in the *terrainBento* collection of landscape evolution models (Barnhart et al., 2019).\n",
    "\n",
    "This tutorial provides a brief overview of how to use the SPSTE component.\n",
    "\n",
    "*(G.E. Tucker, 2021)*"
   ]
  },
  {
   "cell_type": "markdown",
   "id": "d91c42a5",
   "metadata": {},
   "source": [
    "## Theory\n",
    "\n",
    "The SPSTE formulation is as follows:\n",
    "\n",
    "Consider a location on a stream channel that has local downstream slope gradient $S$ and drainage area $A$. We define an erosion potential function $\\omega$ as\n",
    "\n",
    "$$\\omega = KA^mS^n$$\n",
    "\n",
    "where $K$ is an erodibility coefficient with dimensions of $[L^{(1-2m)}/T]$. The erosion potential function has dimensions of erosion (lowering) rate, [L/T]. It takes the form of the familiar area-slope erosion law, also known as the \"stream power law\" because the exponents can be configured to represent an erosion law that depends on stream power per unit bed area (Whipple & Tucker, 1999). A common choice of exponents is $m=1/2$, $n=1$, but other combinations are possible depending on one's assumptions about process, hydrology, channel geometry, and other factors (e.g., Howard et al., 1994; Whipple et al., 2000).\n",
    "\n",
    "We also define a threshold erosion potential function, $\\omega_c$, below which erosion rate declines precipitously. Given these definitions, a mathematically discontinuous threshold erosion function would look like this:\n",
    "\n",
    "$$E = \\max (\\omega - \\omega_c, 0)$$\n",
    "\n",
    "This kind of formulation is mathematically simple, and given data on $E$ and $\\omega$, one could easily find $K$ and $\\omega_c$ empirically by fitting a line. Yet even in the case of sediment transport, where the initial motion of grains is usually represented by a threshold shear stress (the critical Shields stress), we know that *some* transport still occurs below the nominal threshold (e.g, Wilcock & McArdell, 1997). Although it is undeniably true that the rate of sediment transport declines rapidly when the average shear stress drops below a critical value, the strictly linear-with-threshold formulation is really more of convenient mathematical fiction than an accurate reflection of geophysical reality. In bed-load sediment transport reality seems to be smoother than this mathematical fiction, and the same is likely true for the hydraulic detachment and removal of cohesive/rocky material as well.\n",
    "\n",
    "To avoid the mathematical discontinuity at $\\omega=\\omega_c$, SPSTE uses a smoothed version of the above function:\n",
    "\n",
    "$$E = \\omega - \\omega_c \\left( 1 - e^{-\\omega / \\omega_c} \\right)$$\n",
    "\n",
    "The code below generates a plot that compares the strict threshold and smooth threshold erosion laws."
   ]
  },
  {
   "cell_type": "code",
   "execution_count": null,
   "id": "2d0c8a95",
   "metadata": {},
   "outputs": [],
   "source": [
    "import numpy as np\n",
    "import matplotlib.pyplot as plt"
   ]
  },
  {
   "cell_type": "code",
   "execution_count": null,
   "id": "eab83362",
   "metadata": {},
   "outputs": [],
   "source": [
    "omega = np.arange(0, 5.01, 0.01)\n",
    "omegac = 1.0\n",
    "Eabrupt = np.maximum(omega - omegac, 0.0)\n",
    "Esmooth = omega - omegac * (1.0 - np.exp(-omega / omegac))\n",
    "\n",
    "plt.plot(omega, Esmooth, 'k', label='Smoothed threshold')\n",
    "plt.plot(omega, Eabrupt, 'k--', label='Hard threshold')\n",
    "plt.xlabel(r'Erosion potential function ($\\omega$)')\n",
    "plt.ylabel('Erosion rate')\n",
    "plt.legend()"
   ]
  },
  {
   "cell_type": "markdown",
   "id": "57ab935f",
   "metadata": {},
   "source": [
    "## References\n",
    "\n",
    "Barnhart, K. R., Glade, R. C., Shobe, C. M., & Tucker, G. E. (2019). Terrainbento 1.0: a Python package for multi-model analysis in long-term drainage basin evolution. Geoscientific Model Development, 12(4), 1267-1297.\n",
    "\n",
    "Clark, M. P., & Kavetski, D. (2010). Ancient numerical daemons of conceptual hydrological modeling: 1. Fidelity and efficiency of time stepping schemes. Water Resources Research, 46(10).\n",
    "\n",
    "Howard, A. D., Dietrich, W. E., & Seidl, M. A. (1994). Modeling fluvial erosion on regional to continental scales. Journal of Geophysical Research: Solid Earth, 99(B7), 13971-13986.\n",
    "\n",
    "Kavetski, D., & Clark, M. P. (2010). Ancient numerical daemons of conceptual hydrological modeling: 2. Impact of time stepping schemes on model analysis and prediction. Water Resources Research, 46(10).\n",
    "\n",
    "Kavetski, D., & Clark, M. P. (2011). Numerical troubles in conceptual hydrology: Approximations, absurdities and impact on hypothesis testing. Hydrological Processes, 25(4), 661-670.\n",
    "\n",
    "Whipple, K. X., Hancock, G. S., & Anderson, R. S. (2000). River incision into bedrock: Mechanics and relative efficacy of plucking, abrasion, and cavitation. Geological Society of America Bulletin, 112(3), 490-503.\n",
    "\n",
    "Whipple, K. X., & Tucker, G. E. (1999). Dynamics of the stream‐power river incision model: Implications for height limits of mountain ranges, landscape response timescales, and research needs. Journal of Geophysical Research: Solid Earth, 104(B8), 17661-17674.\n",
    "\n",
    "Wilcock, P. R., & McArdell, B. W. (1997). Partial transport of a sand/gravel sediment. Water Resources Research, 33(1), 235-245."
   ]
  }
 ],
 "metadata": {
  "kernelspec": {
   "display_name": "Python 3",
   "language": "python",
   "name": "python3"
  },
  "language_info": {
   "codemirror_mode": {
    "name": "ipython",
    "version": 3
   },
   "file_extension": ".py",
   "mimetype": "text/x-python",
   "name": "python",
   "nbconvert_exporter": "python",
   "pygments_lexer": "ipython3",
   "version": "3.8.8"
  }
 },
 "nbformat": 4,
 "nbformat_minor": 5
}
