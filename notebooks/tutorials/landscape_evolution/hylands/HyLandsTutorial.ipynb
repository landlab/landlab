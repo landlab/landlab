{
 "cells": [
  {
   "cell_type": "markdown",
   "metadata": {},
   "source": [
    "<a href=\"https://doi.org/10.5194/gmd-13-3863-2020\"><img style=\"float: center; width: 100%\" src=\"HyLands_Logo_Header.png\"></a>"
   ]
  },
  {
   "cell_type": "markdown",
   "metadata": {},
   "source": [
    "# HyLands: modelling the evolution of landscapes and mass movements\n",
    "\n",
    "This notebook provides a brief introduction and user's guide to the HyLands Hybrid Landscape Evolution model. The model simulates both continuous fluvial incision and sediment transport using the Landlab Space component as well as stochastic deep-seated bedrock landsliding using the Landlab BedrockLandslider component. This notebook combines two documents, a User's Manual and a notebook-based example, written Benjamin Campforts to accompany the following publications:\n",
    "\n",
    "* Campforts B., Shobe C.M., Overeem I., Tucker, G. E.,  in review\n",
    "* Campforts B., Shobe C.M., Steer P., Vanmaercke M., Lague D., Braun J. (2020) HyLands 1.0: a hybrid landscape evolution model to simulate the impact of landslides and landslide-derived sediment on landscape evolution. Geosci Model Dev: 13(9):3863–86, [doi.org/10.5194/gmd-13-3863-2020](https://doi.org/10.5194/gmd-13-3863-2020).\n",
    "* Shobe, C. M., Tucker, G. E., & Barnhart, K. R. (2017). The SPACE 1.0 model: a Landlab component for 2-D calculation of sediment transport, bedrock erosion, and landscape evolution. Geoscientific Model Development, 10(12), 4577-4604, [https://doi.org/10.5194/gmd-10-4577-2017](https://doi.org/10.5194/gmd-10-4577-2017).\n",
    "\n"
   ]
  },
  {
   "cell_type": "markdown",
   "metadata": {},
   "source": [
    "## Background on BedrockLandslider component\n",
    "\n",
    "The Landlab BedrockLandslider (Hybrid Landscape evolution model) component computes stochastic deep-seated bedrock landsliding and landslide-derived sediment runout across two-dimensional model landscapes. \n",
    "\n",
    "This user manual teaches users how to use the BedrockLandslider component using two examples. BedrockLandslider tracks both bedrock and sediment elevation through time. Ideally, a fluvial incision code tracking both bedrock incision and sediment transport is used. Throughout this notebook, we will use the Landlab SPACE component for that purpose. The user is motivated to check out the SPACE notebook before applying the BedrockLandslider component ([see notebook on SPACE](../space/SPACE_user_guide_and_examples.ipynb) and [notebook on SPACELargeScaleEroder](../space/SPACE_large_scale_eroder_user_guide_and_examples.ipynb)).\n",
    "\n",
    "Prerequisites: A working knowledge of the Python programming language (BedrockLandslider and Landlab support Python 3.x) as well as the NumPy and MatPlotLib libraries. Basic familiarity with the Landlab modeling toolkit (see Hobley et al., 2017 GMD, and Barnhart et al., 2020 eSurf) is recommended."
   ]
  },
  {
   "cell_type": "markdown",
   "metadata": {},
   "source": [
    "## Model description\n",
    "\n",
    "### Input parameters\n",
    "\n",
    "- **angle_int_frict** $\\psi$: Materials angle of internal friction in [m/m]. Default = 1.0\n",
    "- **cohesion_eff** $c_{eff}$: Effective cohesion of material [m L^-1 T^-2].\n",
    "- **landslides_return_time** $t_{LS}$: Return time for stochastic landslide events to occur [yr]. Default = 1e5\n",
    "- **rho_r** $\\rho_r$: Bulk density rock [m L^-3].\n",
    "- **fraction_fines_LS** $F_f$: Fraction of permanently suspendable fines in bedrock [-].\n",
    "- **phi** $\\phi$: Sediment porosity [-].        \n",
    "- **max_pixelsize_landslide**: Maximum size for landslides in number of pixels. Default = 1e9\n",
    "- **verbose_landslides**: Print output as number of simulated landslides per time step. Default = False  \n",
    "- **seed**: Provide seed to set stochastic model. If not provided, seed is set to 2021.Provide None to keep current seed. Default = 2021 \n",
    "- **landslides_on_boundary_nodes**: Allow landslides to initiate (critical node) and extend over boundary nodes. Default = True\n",
    "- **critical_sliding_nodes**: Provide list with critical nodes where landslides have to initiate. This cancels the stochastic part of the algorithm and allows the user to form landslides at the provided critical nodes. Default = None"
   ]
  },
  {
   "cell_type": "markdown",
   "metadata": {},
   "source": [
    "### Model fields \n",
    "Fields listed here are updated by the component at the grid locations listed. NOTE: because flow routing is handled by other Landlab components, fields such as `flow__receiver_node`, `flow__upstream_node_order`, `flow__receiver_node`, `topographic__steepest_slope`, `hill_flow__receiver_proportions`, `hill_topographic__steepest_slope` and `hill_flow__receiver_node` are not altered by the BedrockLandslider model and are not listed here but required to run the model.\n",
    "\n",
    "- `soil__depth`, node, [m]: Thickness of soil (also called sediment or alluvium) at every node. The name “soil” was used to match existing Landlab components. Soil thickness is updated for all nodes impacted by landsliding.\n",
    "\n",
    "- `sediment__flux`, node, [m$^3$/yr]: The volumetric flux of sediment at each node. Sediment flux is updated based on the volumes of landslide-derived sediment and is used to calculate sediment deposition rates.\n",
    "\n",
    "- `landslide__erosion`, node, [m]: Erosion by landslides given in total erosion in m per node. \n",
    "\n",
    "- `landslide__deposition`, node, [m]: Sediment erosion by landslides given in total erosion in m per node. \n",
    "\n",
    "- `landslide_sediment_point_source`, node, [m3]: Landslide derived sediment, as point sources on all the critical nodes where landslides initiate, before landslide runout is calculated.\n",
    "\n",
    "### Model attributes\n",
    "Other model attributes created upon model initiation and updated when executing run_one_step are: \n",
    "- `landslides_size`: List with the size of simulated landslides. The list is reset every time the landslide_erosion function is called.\n",
    "\n",
    "- `landslides_volume`: List with the volume of simulated landslides.The list is reset every time the landslide_erosion function is called. \n",
    "\n",
    "- `landslides_volume_sed`: List with the volume of sediment eroded by landslides. The list is reset every time the landslide_erosion function is called.\n",
    "\n",
    "- `landslides_volume_bed`: List with the volume of bedrock eroded by landslides. The list is reset every time the landslide_erosion function is called."
   ]
  },
  {
   "cell_type": "markdown",
   "metadata": {},
   "source": [
    "## Steps of a BedrockLandslider model\n",
    "\n",
    "Note: these steps are for a BedrockLandslider model that is coupled to the SPACE Landlab component. To see examples of how to couple other Landlab components, please refer to the Landlab documentation: [http://landlab.github.io](http://landlab.github.io)."
   ]
  },
  {
   "cell_type": "markdown",
   "metadata": {
    "tags": []
   },
   "source": [
    "### Step 1: Import the necessary libraries \n",
    "\n",
    "The BedrockLandslider and SPACE components are required, as are the model grid component and a flow routing component. We will use the `PriorityFloodFlowRouter` that takes care of routing flow across flats or pits in a digital elevation model."
   ]
  },
  {
   "cell_type": "code",
   "execution_count": null,
   "metadata": {
    "jupyter": {
     "outputs_hidden": false
    }
   },
   "outputs": [],
   "source": [
    "## Import Numpy and Matplotlib packages\n",
    "import numpy as np\n",
    "import copy\n",
    "import matplotlib as mpl\n",
    "import matplotlib.pyplot as plt  # For plotting results; optional\n",
    "\n",
    "## Import Landlab components\n",
    "# Flow routing and depression handling\n",
    "from landlab.components import PriorityFloodFlowRouter\n",
    "\n",
    "# SPACE model\n",
    "from landlab.components import SpaceLargeScaleEroder  # SPACE model\n",
    "\n",
    "# BedrockLandslider model\n",
    "from landlab.components import BedrockLandslider  # BedrockLandslider model\n",
    "\n",
    "## Import Landlab utilities\n",
    "from landlab import RasterModelGrid  # Grid utility\n",
    "from landlab import imshowhs_grid, imshow_grid  # For plotting results; optional"
   ]
  },
  {
   "cell_type": "markdown",
   "metadata": {},
   "source": [
    "Three Landlab components are essential to running the BedrockLandslider model: the model itself, the SPACE model and the `PriorityFloodFlowRouter`, which calculates drainage pathways, topographic slopes, and surface water discharge across the grid. The `PriorityFloodFlowRouter` will act as a depression handler which is useful if a grid is likely to have pits or closed depressions. \n",
    "\n",
    "In addition to the relevant process components, some Landlab utilities are required to generate the model grid (in this example `RasterModelGrid`) and to visualize output (`imshowhs_grid`). Note that while it is possible to visualize output through functionality in other libraries (e.g., matplotlib), `imshowhs_grid` provides a simple way to generate 2-D maps of model variables.\n",
    "\n",
    "Most Landlab functionality requires the Numpy package for scientific computing in python. The matplotlib plotting library has also been imported to aid visualization of results."
   ]
  },
  {
   "cell_type": "markdown",
   "metadata": {},
   "source": [
    "### Step 2: Define the model domain and initial conditions\n",
    "\n",
    "The BedrockLandslider and SPACE components work on raster grids. For this example we will use a synthetic raster grid. In addition to using user-defined, synthetic model grids, it is also possible to import digital elevation models for use as a model domain (see the tutorial *reading_dem_into_landlab*). In this example, we create a synthetic, square model domain by creating an instance of the RasterModelGrid. In this case, the domain will be a plane with random micro-scale topographic roughness to force flow convergence and channelization, and the development of realistic landscapes. The grid is composed of 50 rows and 50 columns for a total of 250 nodes, with user-defined spacing of 25m.\n",
    "\n",
    "Once the grid has been created, the user defines a grid field to contain values of land surface elevation, and then imposes the desired initial condition topography on the model grid. In the case shown below, the field `topographic__elevation` is added to the model grid and given initial values of all zeros. After that, initial model topography is added to the field. Randomized micro-scale topographic roughness is added to the model grid. While not strictly necessary for the SPACE and BedrockLandslider models to run, the micro-roughness allows flow convergence, channelization, and the development of realistic landscapes.\n",
    "\n",
    "In this example, we initialize the model domain with 2 meters of sediment thickness at every core (non-boundary) node. The sediment thickness will shrink over time as water mobilizes and removes sediment. To do this, the fields `soil__depth` and `bedrock__elevation` must be added to the model grid. If they are not added, the SPACE model will create them. In that case, however, the default sediment thickness is zero and the default bedrock topography is simply the provided topographic elevation."
   ]
  },
  {
   "cell_type": "code",
   "execution_count": null,
   "metadata": {
    "jupyter": {
     "outputs_hidden": false
    }
   },
   "outputs": [],
   "source": [
    "# Set grid parameters\n",
    "num_rows = 50\n",
    "num_columns = 50\n",
    "node_spacing = 25.0\n",
    "\n",
    "# track sediment flux at the node adjacent to the outlet at lower-left\n",
    "node_next_to_outlet = num_columns + 1\n",
    "\n",
    "# Instantiate model grid\n",
    "mg = RasterModelGrid((num_rows, num_columns), node_spacing)\n",
    "# add field ’topographic elevation’ to the grid\n",
    "mg.add_zeros(\"node\", \"topographic__elevation\")\n",
    "# set constant random seed for consistent topographic roughness\n",
    "np.random.seed(seed=5000)\n",
    "\n",
    "# Create initial model topography:\n",
    "\n",
    "# add topographic roughness\n",
    "random_noise = (\n",
    "    np.random.rand(len(mg.node_y)) / 1000.0\n",
    ")  # impose topography values on model grid\n",
    "mg[\"node\"][\"topographic__elevation\"] += random_noise\n",
    "\n",
    "# add field 'soil__depth' to the grid\n",
    "mg.add_zeros(\"node\", \"soil__depth\")\n",
    "\n",
    "# Set 2 m of initial soil depth at core nodes\n",
    "mg.at_node[\"soil__depth\"][mg.core_nodes] = 1.0  # meters\n",
    "\n",
    "# Add field 'bedrock__elevation' to the grid\n",
    "mg.add_zeros(\"bedrock__elevation\", at=\"node\")\n",
    "\n",
    "# Sum 'soil__depth' and 'bedrock__elevation'\n",
    "# to yield 'topographic elevation'\n",
    "mg.at_node[\"bedrock__elevation\"][:] = mg.at_node[\"topographic__elevation\"]\n",
    "mg.at_node[\"topographic__elevation\"][:] += mg.at_node[\"soil__depth\"]"
   ]
  },
  {
   "cell_type": "markdown",
   "metadata": {},
   "source": [
    "### Step 3: Set the boundary conditions\n",
    "\n",
    "The user must determine the boundary conditions of the model domain (i.e., determine across which boundaries water and sediment may flow). Boundary conditions are controlled by setting the status of individual nodes or grid edges (see Hobley et al., 2017). Here, we keep all boundaries open so that water and sediment can leave the domain at all times over all edges. "
   ]
  },
  {
   "cell_type": "code",
   "execution_count": null,
   "metadata": {
    "tags": []
   },
   "outputs": [],
   "source": [
    "# Open all model boundary edges\n",
    "mg.set_closed_boundaries_at_grid_edges(\n",
    "    bottom_is_closed=False,\n",
    "    left_is_closed=False,\n",
    "    right_is_closed=False,\n",
    "    top_is_closed=False,\n",
    ")"
   ]
  },
  {
   "cell_type": "markdown",
   "metadata": {},
   "source": [
    "### Step 4: Initialize the flow director and SPACE \n",
    "\n",
    "Like most Landlab components, PriorityFloodFlowRouter, SPACE and BedrockLandslider are written as a Python classes. The class was imported at the beginning of the driver script (step 1). In this step, the user declares the instance of the PriorityFloodFlowRouter and SPACE classes and sets any relevant model parameters. At this point we do not yet make an instance of the BedrockLandslider component. "
   ]
  },
  {
   "cell_type": "code",
   "execution_count": null,
   "metadata": {
    "tags": []
   },
   "outputs": [],
   "source": [
    "# Instantiate flow router\n",
    "fr = PriorityFloodFlowRouter(mg, flow_metric=\"D8\", suppress_out=True)\n",
    "\n",
    "# Instantiate SPACE model with chosen parameters\n",
    "sp = SpaceLargeScaleEroder(\n",
    "    mg,\n",
    "    K_sed=2.5e-5,\n",
    "    K_br=2.5e-5,\n",
    "    F_f=0.0,\n",
    "    phi=0.0,\n",
    "    H_star=1.0,\n",
    "    v_s=1,\n",
    "    m_sp=0.5,\n",
    "    n_sp=1.0,\n",
    "    sp_crit_sed=0,\n",
    "    sp_crit_br=0,\n",
    ")"
   ]
  },
  {
   "cell_type": "markdown",
   "metadata": {},
   "source": [
    "### Step 5: Run the time loop to develop a landscape without landslide activity\n",
    "\n",
    "The SPACE component calculates sediment entrainment and deposition, bedrock erosion, and changes in land surface elevation over time. The code shown below is an example of how to run the SPACE model over several model timesteps. In the example below, SPACE is run in a loop that executes until elapsed model time has reached a user-defined run time. The user is also responsible for choosing the model timestep. Within the loop, the following steps occur:\n",
    "\n",
    "1. The flow router runs first to determine topographic slopes and water discharge at all nodes on the model domain.\n",
    "2. The depression finder and router runs to map any nodes located in local topographic minima (i.e., nodes that water cannot drain out of) and to establish flow paths across the surface of these “lakes.” Using the depression finder and router is optional. However, because the SPACE model may in certain situations create local minima, using the depression finder and router can prevent the development of fatal instabilities.\n",
    "3. The depression finder and router generates a list of flooded nodes, which is then saved as a variable called “flooded” and passed to the SPACE model.\n",
    "4. The SPACE model runs for the duration of a single timestep, computing sediment transport, bedrock erosion, and topographic surface evolution.\n",
    "5. The elapsed time is updated."
   ]
  },
  {
   "cell_type": "code",
   "execution_count": null,
   "metadata": {
    "jupyter": {
     "outputs_hidden": false
    }
   },
   "outputs": [],
   "source": [
    "# Set model timestep\n",
    "timestep = 1e3  # years\n",
    "\n",
    "# Set elapsed time to zero\n",
    "elapsed_time = 0.0  # years\n",
    "\n",
    "# Set timestep count to zero\n",
    "count = 0\n",
    "\n",
    "# Set model run time\n",
    "run_time = 5e5  # years\n",
    "\n",
    "# Array to save sediment flux values\n",
    "sed_flux = np.zeros(int(run_time // timestep))\n",
    "\n",
    "# Uplift rate in m/yr\n",
    "U = 1e-3\n",
    "\n",
    "cmap = copy.copy(mpl.cm.get_cmap(\"terrain\"))\n",
    "\n",
    "while elapsed_time < run_time:  # time units of years\n",
    "\n",
    "    # Insert uplift at core nodes\n",
    "    mg.at_node[\"bedrock__elevation\"][mg.core_nodes] += U * timestep\n",
    "    mg.at_node[\"topographic__elevation\"] = (\n",
    "        mg.at_node[\"bedrock__elevation\"] + mg.at_node[\"soil__depth\"]\n",
    "    )\n",
    "\n",
    "    # Run the flow router\n",
    "    fr.run_one_step()\n",
    "\n",
    "    # Run SPACE for one time step\n",
    "    sp.run_one_step(dt=timestep)\n",
    "\n",
    "    # Add to value of elapsed time\n",
    "    elapsed_time += timestep\n",
    "\n",
    "    if np.mod(elapsed_time, 1e5) == 0:\n",
    "        print(\"%.2f of model run completed\" % (elapsed_time / run_time))\n",
    "        plt.figure()\n",
    "        imshow_grid(\n",
    "            mg, \"topographic__elevation\", cmap=cmap, colorbar_label=\"Elevation (m)\"\n",
    "        )\n",
    "        plt.show()"
   ]
  },
  {
   "cell_type": "markdown",
   "metadata": {},
   "source": [
    "## Visualization of results"
   ]
  },
  {
   "cell_type": "markdown",
   "metadata": {},
   "source": [
    "### Topography and soil depth"
   ]
  },
  {
   "cell_type": "code",
   "execution_count": null,
   "metadata": {
    "jupyter": {
     "outputs_hidden": false
    }
   },
   "outputs": [],
   "source": [
    "cmap = copy.copy(mpl.cm.get_cmap(\"terrain\"))\n",
    "# Show DEM draped over the shaded topographic relief\n",
    "imshowhs_grid(\n",
    "    mg,\n",
    "    \"topographic__elevation\",\n",
    "    var_name=\"Topo\",\n",
    "    var_units=r\"m\",\n",
    "    grid_units=(\"m\", \"m\"),\n",
    "    cmap=cmap,\n",
    "    ticks_km=False,\n",
    ")\n",
    "plt.show()\n",
    "# Show Soil thickness draped over the shaded topographic relief\n",
    "cmap = copy.copy(mpl.cm.get_cmap(\"pink\"))\n",
    "imshowhs_grid(\n",
    "    mg,\n",
    "    \"topographic__elevation\",\n",
    "    drape1=mg.at_node[\"soil__depth\"],\n",
    "    plot_type=\"Drape1\",\n",
    "    var_name=\"Soil\",\n",
    "    var_units=r\"m\",\n",
    "    grid_units=(\"m\", \"m\"),\n",
    "    cmap=cmap,\n",
    "    ticks_km=False,\n",
    ")\n",
    "\n",
    "z_before_LS = np.array(mg[\"node\"][\"topographic__elevation\"])"
   ]
  },
  {
   "cell_type": "markdown",
   "metadata": {
    "jupyter": {
     "outputs_hidden": false
    }
   },
   "source": [
    "### Step 6: Initialize the flow director and SPACE and BedrockLandslider components\n",
    "\n",
    "BedrockLandslider is written as a Python class. The class was imported at the beginning of the driver script (step 1). \n",
    "In this step, the user declares the instance of the BedrockLandslider class and sets any relevant model parameters. \n",
    "To calculate landslide runout, a non-local deposition scheme is used that requires a multiple flow direction structure. This is to ensure that landslide-derived sediment can be distributed over all 8 neighboring cells and not just to it's steepest neighbor as would be the case with a D8 flow routing algorithm. The priority flood flow router is designed as such that both fluvial (D8) and hillslope (multiple flow directions) can be calculated in the same go. To do this, we re-instantiate the flow router first before making an instance of the BedrockLandslider model. This will create the required fields (`hill_flow__receiver_node` and `hill_flow__receiver_proportions` and `hill_topographic__steepest_slope`) for the BedrockLandslider model. "
   ]
  },
  {
   "cell_type": "code",
   "execution_count": null,
   "metadata": {},
   "outputs": [],
   "source": [
    "# Instantiate flow router, with additional multiple flow director for hillslopes\n",
    "fr = PriorityFloodFlowRouter(\n",
    "    mg,\n",
    "    flow_metric=\"D8\",\n",
    "    separate_hill_flow=True,\n",
    "    hill_flow_metric=\"Quinn\",\n",
    "    update_hill_flow_instantaneous=True,\n",
    ")\n",
    "\n",
    "# Instantiate SPACE model with chosen parameters\n",
    "hy = BedrockLandslider(\n",
    "    mg,\n",
    "    angle_int_frict=0.4,\n",
    "    cohesion_eff=1e3,\n",
    "    landslides_return_time=1000,\n",
    "    landslides_on_boundary_nodes=False,\n",
    ")"
   ]
  },
  {
   "cell_type": "markdown",
   "metadata": {},
   "source": [
    "### Step 7: Run the time loop over 200 years to develop a landscape with landslide activity\n",
    "\n",
    "Like before, uplift will be inserted, the flow routers will be updated and the SAPCELargeScaleEroder will be run, but this time, landslides will be actively simulated.  "
   ]
  },
  {
   "cell_type": "code",
   "execution_count": null,
   "metadata": {},
   "outputs": [],
   "source": [
    "# Reset elevation back to elevation simulated without landslides to test various landslide configuration settings\n",
    "\n",
    "mg[\"node\"][\"topographic__elevation\"][:] = z_before_LS\n",
    "timestep = 20  # years\n",
    "landslides_size_all_steps = []\n",
    "\n",
    "for i in range(10):\n",
    "    # Insert uplift at core nodes\n",
    "    mg.at_node[\"bedrock__elevation\"][mg.core_nodes] += U * timestep\n",
    "    mg.at_node[\"topographic__elevation\"] = (\n",
    "        mg.at_node[\"bedrock__elevation\"] + mg.at_node[\"soil__depth\"]\n",
    "    )\n",
    "\n",
    "    # Run the flow router\n",
    "    fr.run_one_step()\n",
    "\n",
    "    # Run SPACE for one time step\n",
    "    sp.run_one_step(dt=timestep)\n",
    "\n",
    "    # Run BedrockLandslider for one time step\n",
    "    hy.run_one_step(dt=timestep)\n",
    "\n",
    "    # Store landslide sizes of current time step into general ls_size list\n",
    "    landslides_size_all_steps = np.append(landslides_size_all_steps, hy.landslides_size)"
   ]
  },
  {
   "cell_type": "markdown",
   "metadata": {},
   "source": [
    "## Visualization of results\n",
    "### Magnitude frequency of landslides simulated over 200 years"
   ]
  },
  {
   "cell_type": "code",
   "execution_count": null,
   "metadata": {},
   "outputs": [],
   "source": [
    "plt.figure()\n",
    "LS_size = landslides_size_all_steps * mg.dx**2\n",
    "counts, bins = np.histogram(np.log10(LS_size), 10)\n",
    "plt.hist(np.log10(LS_size), log=True, bins=bins, density=True)\n",
    "plt.xlabel(\"log10 LS Area, m2\")\n",
    "plt.ylabel(\"Landslide frequency\")"
   ]
  },
  {
   "cell_type": "markdown",
   "metadata": {},
   "source": [
    "### Location of landslides during last model iteration\n",
    "Let's plot the resulting landslides "
   ]
  },
  {
   "cell_type": "code",
   "execution_count": null,
   "metadata": {},
   "outputs": [],
   "source": [
    "# Landslide Erosion\n",
    "cmap = copy.copy(mpl.cm.get_cmap(\"hot_r\"))\n",
    "imshow_grid(\n",
    "    mg,\n",
    "    np.sqrt(mg.at_node[\"landslide__erosion\"]),\n",
    "    colorbar_label=\"SQRT( Landslide erosion, m) \",\n",
    "    cmap=cmap,\n",
    ")\n",
    "plt.show()\n",
    "\n",
    "# Landslide Deposition\n",
    "cmap = copy.copy(mpl.cm.get_cmap(\"winter_r\"))\n",
    "imshow_grid(\n",
    "    mg,\n",
    "    np.sqrt(mg.at_node[\"landslide__deposition\"]),\n",
    "    colorbar_label=\"SQRT( Landslide deposition, m) \",\n",
    "    cmap=cmap,\n",
    ")\n",
    "plt.show()"
   ]
  },
  {
   "cell_type": "markdown",
   "metadata": {},
   "source": [
    "### Click here for more <a href=\"https://landlab.readthedocs.io/en/latest/user_guide/tutorials.html\">Landlab tutorials</a>"
   ]
  }
 ],
 "metadata": {
  "kernelspec": {
   "display_name": "Python 3 (ipykernel)",
   "language": "python",
   "name": "python3"
  },
  "language_info": {
   "codemirror_mode": {
    "name": "ipython",
    "version": 3
   },
   "file_extension": ".py",
   "mimetype": "text/x-python",
   "name": "python",
   "nbconvert_exporter": "python",
   "pygments_lexer": "ipython3",
   "version": "3.9.7"
  }
 },
 "nbformat": 4,
 "nbformat_minor": 4
}
