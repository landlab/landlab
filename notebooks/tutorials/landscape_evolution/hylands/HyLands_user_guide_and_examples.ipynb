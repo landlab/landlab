{
 "cells": [
  {
   "cell_type": "markdown",
   "metadata": {},
   "source": [
    "# User guide and example for the Landlab HyLands component\n",
    "\n",
    "This notebook provides a brief introduction and user's guide for the HyLands component for landscape evolution modeling. It combines two documents, a User's Manual and a notebook-based example, written Benjamin Campforts to accompany the following publication:\n",
    "\n",
    "* Campforts et al. 2021, in review\n",
    "* Campforts B., Shobe C.M., Steer P., Vanmaercke M., Lague D., Braun J. (2020) HyLands 1.0: a hybrid landscape evolution model to simulate the impact of landslides and landslide-derived sediment on landscape evolution. Geosci Model Dev: 13(9):3863–86. \n",
    "\n",
    "\n",
    "This notebook contains text from user manual along with executable code for its examples: \n",
    "1. In a first example, a LEM is run to steady state using the SPACELargeScaleEroder, ([see notebook on SPACELargeScaleEroder](../space/SPACE_large_scale_eroder_user_guide_and_examples.ipynb)). Once steady state is achieved, landsliding is activated to show the impact of landslides on evolving topography. "
   ]
  },
  {
   "cell_type": "markdown",
   "metadata": {},
   "source": [
    "## Background on HyLands component\n",
    "\n",
    "The Landlab HyLands (Hybrid Landscape evolution model) component computes stochastic deep-seated bedrock landsliding and landslide-derived sediment runout across two-dimensional model landscapes. \n",
    "\n",
    "This user manual teaches users how to use the HyLands component using two examples. HyLands tracks both bedrock and sediment elevation through time. Ideally, a fluvial incision code tracking both bedrock incision and sediment transport is used. Throughout this notebook, we will use the Landlab SPACE component for that purpose. The user is motivated to check out the SPACE notebook before applying the HyLands component ([see notebook on SPACE](../space/SPACE_user_guide_and_examples.ipynb) and [notebook on SPACELargeScaleEroder](../space/SPACE_large_scale_eroder_user_guide_and_examples.ipynb)).\n",
    "\n",
    "Prerequisites: A working knowledge of the Python programming language (HyLands and Landlab support Python 3.x) as well as the NumPy and MatPlotLib libraries. Basic familiarity with the Landlab modeling toolkit (see Hobley et al., 2017 GMD, and Barnhart et al., 2020 eSurf) is recommended."
   ]
  },
  {
   "cell_type": "markdown",
   "metadata": {},
   "source": [
    "## Model description\n",
    "\n",
    "### Input parameters\n",
    "\n",
    "- **angle_int_frict** $\\psi$: Materials angle of internal friction in [m/m]. Default = 1.0\n",
    "- **cohesion_eff** $c_{eff}$: Effective cohesion of material [m L^-1 T^-2].\n",
    "- **landslides_return_time** $t_{LS}$: Return time for stochastic landslide events to occur [yr]. Default = 1e5\n",
    "- **rho_r** $\\rho_r$: Bulk density rock [m L^-3].\n",
    "- **fraction_fines_LS** $F_f$: Fraction of permanently suspendable fines in bedrock [-].\n",
    "- **phi** $\\phi$: Sediment porosity [-].        \n",
    "- **max_pixelsize_landslide**: Maximum size for landslides in number of pixels. Default = 1e9\n",
    "- **verbose_landslides**: Print output as number of simulated landslides per time step. Default = False  \n",
    "- **seed**: Provide seed to set stochastic model. If not provided, seed is set to 2021.Provide None to keep current seed. Default = 2021 \n",
    "- **landslides_on_boundary_nodes**: Allow landslides to initiate (critical node) and extend over boundary nodes. Default = True\n",
    "- **critical_sliding_nodes**: Provide list with critical nodes where landslides have to initiate. This cancels the stochastic part of the algorithm and allows the user to form landslides at the provided critical nodes. Default = None\n",
    "- **landslides_size**: Store the size of landslides through time. Pass empty list ('[]') to store sizes, pass None to not store any data. Default = None\n",
    "- **landslides_volume**: Store the volumes of landslides through time. Pass empty list ('[]') to store sizes, pass None to not store any data. Default = None\n",
    "- **landslides_volume_sed**: Store the sediment volumes eroded by landslides through time. Pass empty list ('[]') to store sizes, pass None to not store any data. Default = None\n",
    "- **landslides_volume_bed**: Store the bedrock volumes eroded by landslides through time. Pass empty list ('[]') to store sizes, pass None to not store any data. Default = None"
   ]
  },
  {
   "cell_type": "markdown",
   "metadata": {},
   "source": [
    "### Model fields\n",
    "\n",
    "Fields listed here are updated by the component at the grid locations listed. NOTE: because flow routing is handled by other Landlab components, fields such as `flow__receiver_node`, `flow__upstream_node_order`, `flow__receiver_node` and `topographic__steepest_slope`, are not altered by the Hylands model and are not listed here.\n",
    "\n",
    "- `soil__depth`, node, [m]: Thickness of soil (also called sediment or alluvium) at every node. The name “soil” was used to match existing Landlab components. Soil thickness is updated for all nodes impacted by landsliding.\n",
    "\n",
    "- `sediment__flux`, node, [m$^3$/yr]: The volumetric flux of sediment at each node. Sediment flux is updated based on the volumes of landslide-derived sediment and is used to calculate sediment deposition rates.\n",
    "\n",
    "- `landslide__bed_erosion`, node, [m]: Bedrock erosion by landslides given in total erosion in m per node. \n",
    "\n",
    "- `landslide__deposition`, node, [m]: Sediment erosion by landslides given in total erosion in m per node. "
   ]
  },
  {
   "cell_type": "markdown",
   "metadata": {},
   "source": [
    "## Steps of a HyLands model\n",
    "\n",
    "Note: these steps are for a HyLands model that is coupled to the SPACE Landlab component. To see examples of how to couple other Landlab components, please refer to the Landlab documentation: [http://landlab.github.io](http://landlab.github.io)."
   ]
  },
  {
   "cell_type": "markdown",
   "metadata": {
    "tags": []
   },
   "source": [
    "### Step 1: Import the necessary libraries \n",
    "\n",
    "The HyLands and SPACE components are required, as are the model grid component and a flow routing component. We will use the `PriorityFloodFlowRouter` that takes care of routing flow across flats or pits in a digital elevation model."
   ]
  },
  {
   "cell_type": "code",
   "execution_count": 1,
   "metadata": {
    "jupyter": {
     "outputs_hidden": false
    }
   },
   "outputs": [],
   "source": [
    "## Import Numpy and Matplotlib packages \n",
    "import numpy as np\n",
    "import matplotlib.pyplot as plt #For plotting results; optional\n",
    "\n",
    "## Import Landlab components\n",
    "#Flow routing and depression handling\n",
    "from landlab.components import PriorityFloodFlowRouter\n",
    "#SPACE model\n",
    "from landlab.components import SpaceLargeScaleEroder #SPACE model\n",
    "#HyLands model\n",
    "from landlab.components import Hylands #HyLands model\n",
    "\n",
    "## Import Landlab utilities\n",
    "from landlab import RasterModelGrid #Grid utility\n",
    "from landlab import imshowhs_grid, imshow_grid #For plotting results; optional"
   ]
  },
  {
   "cell_type": "markdown",
   "metadata": {},
   "source": [
    "Three Landlab components are essential to running the HyLands model: the model itself, the SPACE model and the `PriorityFloodFlowRouter`, which calculates drainage pathways, topographic slopes, and surface water discharge across the grid. The `PriorityFloodFlowRouter` will act as a depression handler which is useful if a grid is likely to have pits or closed depressions. \n",
    "\n",
    "In addition to the relevant process components, some Landlab utilities are required to generate the model grid (in this example `RasterModelGrid`) and to visualize output (`imshowhs_grid`). Note that while it is possible to visualize output through functionality in other libraries (e.g., matplotlib), `imshowhs_grid` provides a simple way to generate 2-D maps of model variables.\n",
    "\n",
    "Most Landlab functionality requires the Numpy package for scientific computing in python. The matplotlib plotting library has also been imported to aid visualization of results."
   ]
  },
  {
   "cell_type": "markdown",
   "metadata": {},
   "source": [
    "### Step 2: Define the model domain and initial conditions\n",
    "\n",
    "The HyLands and SPACE components work on raster grids. For this example we will use a synthetic raster grid. In addition to using user-defined, synthetic model grids, it is also possible to import digital elevation models for use as a model domain (see the tutorial *reading_dem_into_landlab*). In this example, we create a synthetic, square model domain by creating an instance of the RasterModelGrid. In this case, the domain will be a plane with random micro-scale topographic roughness to force flow convergence and channelization, and the development of realistic landscapes. The grid is composed of 50 rows and 50 columns for a total of 250 nodes, with user-defined spacing of 20m.\n",
    "\n",
    "Once the grid has been created, the user defines a grid field to contain values of land surface elevation, and then imposes the desired initial condition topography on the model grid. In the case shown below, the field `topographic__elevation` is added to the model grid and given initial values of all zeros. After that, initial model topography is added to the field. Randomized micro-scale topographic roughness is added to the model grid. While not strictly necessary for the SPACE and HyLands models to run, the micro-roughness allows flow convergence, channelization, and the development of realistic landscapes.\n",
    "\n",
    "In this example, we initialize the model domain with 2 meters of sediment thickness at every core (non-boundary) node. The sediment thickness will shrink over time as water mobilizes and removes sediment. To do this, the fields `soil__depth` and `bedrock__elevation` must be added to the model grid. If they are not added, the SPACE model will create them. In that case, however, the default sediment thickness is zero and the default bedrock topography is simply the provided topographic elevation."
   ]
  },
  {
   "cell_type": "code",
   "execution_count": 2,
   "metadata": {
    "jupyter": {
     "outputs_hidden": false
    }
   },
   "outputs": [],
   "source": [
    "# Set grid parameters\n",
    "num_rows = 30\n",
    "num_columns = 30 \n",
    "node_spacing = 20.0\n",
    "\n",
    "# track sediment flux at the node adjacent to the outlet at lower-left\n",
    "node_next_to_outlet = num_columns + 1\n",
    "\n",
    "# Instantiate model grid\n",
    "mg = RasterModelGrid((num_rows, num_columns), node_spacing)\n",
    "# add field ’topographic elevation’ to the grid\n",
    "mg.add_zeros('node', 'topographic__elevation')\n",
    "# set constant random seed for consistent topographic roughness\n",
    "np.random.seed(seed=5000)\n",
    "\n",
    "# Create initial model topography:\n",
    "\n",
    "# add topographic roughness\n",
    "random_noise = np.random.rand(len(mg.node_y)) / 1000.0 #impose topography values on model grid\n",
    "mg['node']['topographic__elevation'] +=  random_noise\n",
    "\n",
    "# add field 'soil__depth' to the grid\n",
    "mg.add_zeros('node', 'soil__depth')\n",
    "\n",
    "# Set 2 m of initial soil depth at core nodes\n",
    "mg.at_node['soil__depth'][mg.core_nodes] = 2.0 #meters \n",
    "\n",
    "# Add field 'bedrock__elevation' to the grid\n",
    "mg.add_zeros('bedrock__elevation', at='node')\n",
    "\n",
    "# Sum 'soil__depth' and 'bedrock__elevation'\n",
    "# to yield 'topographic elevation'\n",
    "mg.at_node['bedrock__elevation'][:] = mg.at_node['topographic__elevation'] \n",
    "mg.at_node['topographic__elevation'][:] += mg.at_node['soil__depth']"
   ]
  },
  {
   "cell_type": "markdown",
   "metadata": {},
   "source": [
    "### Step 3: Set the boundary conditions\n",
    "\n",
    "The user must determine the boundary conditions of the model domain (i.e., determine across which boundaries water and sediment may flow). Boundary conditions are controlled by setting the status of individual nodes or grid edges (see Hobley et al., 2017). We will use a single corner node as an “open” boundary and all other boundary nodes will be “closed”. Here, we keep all boundaries open so that water and sediment can leave the domain at all times. "
   ]
  },
  {
   "cell_type": "code",
   "execution_count": 3,
   "metadata": {
    "tags": []
   },
   "outputs": [],
   "source": [
    "#Close all model boundary edges\n",
    "mg.set_closed_boundaries_at_grid_edges(bottom_is_closed=False,\n",
    "                                       left_is_closed=False,\n",
    "                                       right_is_closed=False,\n",
    "                                       top_is_closed=False)\n",
    "\n",
    "#Set lower-left (southwest) corner as an open boundary\n",
    "# mg.set_watershed_boundary_condition_outlet_id(0, mg['node']['topographic__elevation'], -9999.)÷\\\n"
   ]
  },
  {
   "cell_type": "markdown",
   "metadata": {},
   "source": [
    "### Step 4: Initialize the flow director and SPACE \n",
    "\n",
    "Like most Landlab components, PriorityFloodFlowRouter, SPACE and HyLands are written as a Python classes. The class was imported at the beginning of the driver script (step 1). In this step, the user declares the instance of the PriorityFloodFlowRouter and SPACE classes and sets any relevant model parameters. At this point we do not yet make an instance of the HyLands component. "
   ]
  },
  {
   "cell_type": "code",
   "execution_count": 4,
   "metadata": {
    "tags": []
   },
   "outputs": [],
   "source": [
    "#Instantiate flow router\n",
    "fr = PriorityFloodFlowRouter(mg, flow_metric ='D8')\n",
    "\n",
    "#Instantiate SPACE model with chosen parameters\n",
    "sp = SpaceLargeScaleEroder(mg, K_sed=5e-5, K_br=5e-5, \n",
    "           F_f=0., phi=0., H_star=1., v_s=1, m_sp=0.5, n_sp=1.0,\n",
    "           sp_crit_sed=0, sp_crit_br=0)"
   ]
  },
  {
   "cell_type": "markdown",
   "metadata": {},
   "source": [
    "### Step 5: Run the time loop to develop a landscape without landslide activity\n",
    "\n",
    "The SPACE component calculates sediment entrainment and deposition, bedrock erosion, and changes in land surface elevation over time. The code shown below is an example of how to run the SPACE model over several model timesteps. In the example below, SPACE is run in a loop that executes until elapsed model time has reached a user-defined run time. The user is also responsible for choosing the model timestep. Within the loop, the following steps occur:\n",
    "\n",
    "1. The flow router runs first to determine topographic slopes and water discharge at all nodes on the model domain.\n",
    "2. The depression finder and router runs to map any nodes located in local topographic minima (i.e., nodes that water cannot drain out of) and to establish flow paths across the surface of these “lakes.” Using the depression finder and router is optional. However, because the SPACE model may in certain situations create local minima, using the depression finder and router can prevent the development of fatal instabilities.\n",
    "3. The depression finder and router generates a list of flooded nodes, which is then saved as a variable called “flooded” and passed to the SPACE model.\n",
    "4. The SPACE model runs for the duration of a single timestep, computing sediment transport, bedrock erosion, and topographic surface evolution.\n",
    "5. The elapsed time is updated."
   ]
  },
  {
   "cell_type": "code",
   "execution_count": 5,
   "metadata": {
    "jupyter": {
     "outputs_hidden": false
    }
   },
   "outputs": [],
   "source": [
    "#Set model timestep\n",
    "timestep = 500.0 #years\n",
    "\n",
    "#Set elapsed time to zero\n",
    "elapsed_time = 0.0 #years\n",
    "\n",
    "#Set timestep count to zero\n",
    "count = 0\n",
    "\n",
    "#Set model run time\n",
    "run_time = 2e5 #years\n",
    "\n",
    "#Array to save sediment flux values\n",
    "sed_flux = np.zeros(int(run_time // timestep))\n",
    "\n",
    "#Uplift rate in m/yr\n",
    "U = 1e-3\n",
    "\n",
    "while elapsed_time < run_time: #time units of years\n",
    "\n",
    "    #Insert uplift at core nodes\n",
    "    mg.at_node['bedrock__elevation'][mg.core_nodes] += U*timestep\n",
    "    mg.at_node['topographic__elevation'] = mg.at_node['bedrock__elevation'] + mg.at_node['soil__depth']\n",
    "    \n",
    "    #Run the flow router\n",
    "    fr.run_one_step()\n",
    "\n",
    "    #Run SPACE for one time step\n",
    "    sp.run_one_step(dt=timestep)\n",
    "    \n",
    "    #Add to value of elapsed time\n",
    "    elapsed_time += timestep\n",
    "\n",
    "    \n",
    "#     if np.mod(elapsed_time, 100000)==0:\n",
    "#         print(elapsed_time)\n",
    "#         plt.figure()\n",
    "#         imshow_grid(mg, 'topographic__elevation')\n",
    "#         plt.show()"
   ]
  },
  {
   "cell_type": "markdown",
   "metadata": {},
   "source": [
    "## Visualization of results"
   ]
  },
  {
   "cell_type": "markdown",
   "metadata": {},
   "source": [
    "### Topography and soil depth"
   ]
  },
  {
   "cell_type": "code",
   "execution_count": 6,
   "metadata": {
    "jupyter": {
     "outputs_hidden": false
    }
   },
   "outputs": [
    {
     "name": "stderr",
     "output_type": "stream",
     "text": [
      "/Users/beca4397/Google_Drive/landlab/landlab/plot/imshow.py:669: MatplotlibDeprecationWarning: You are modifying the state of a globally registered colormap. This has been deprecated since 3.3 and in 3.6, you will not be able to modify a registered colormap in-place. To remove this warning, you can make a copy of the colormap first. cmap = mpl.cm.get_cmap(\"terrain\").copy()\n",
      "  cmap.set_bad(alpha=0.0)\n"
     ]
    },
    {
     "data": {
      "image/png": "[encoded data removed]",
      "text/plain": [
       "<Figure size 432x288 with 2 Axes>"
      ]
     },
     "metadata": {
      "needs_background": "light"
     },
     "output_type": "display_data"
    },
    {
     "data": {
      "text/plain": [
       "<AxesSubplot:xlabel='Easting, m', ylabel='Northing, m'>"
      ]
     },
     "execution_count": 6,
     "metadata": {},
     "output_type": "execute_result"
    },
    {
     "data": {
      "image/png": "[encoded data removed]",
      "text/plain": [
       "<Figure size 432x288 with 2 Axes>"
      ]
     },
     "metadata": {
      "needs_background": "light"
     },
     "output_type": "display_data"
    }
   ],
   "source": [
    "#Instantiate figure\n",
    "fig = plt.figure()\n",
    "\n",
    "#Instantiate subplot\n",
    "plot = plt.subplot()\n",
    "\n",
    "#Show DEM draped over the shaded topographic relief\n",
    "imshowhs_grid(\n",
    "    mg,\n",
    "    'topographic__elevation',\n",
    "    var_name='Topo',\n",
    "    var_units=r'm',\n",
    "    grid_units=('m', 'm'),\n",
    "    cmap='terrain', \n",
    "    thicks_km = False\n",
    ")\n",
    "plt.show()\n",
    "#Show Soil thickness draped over the shaded topographic relief\n",
    "imshowhs_grid(\n",
    "    mg,\n",
    "    'topographic__elevation',\n",
    "    drape1 = mg.at_node['soil__depth'],\n",
    "    plot_type = 'Drape1', \n",
    "    var_name='Soil',\n",
    "    var_units=r'm',\n",
    "    grid_units=('m', 'm'),\n",
    "    cmap='terrain', \n",
    "    thicks_km = False, \n",
    "    limits = (0,2),\n",
    "    \n",
    ")"
   ]
  },
  {
   "cell_type": "markdown",
   "metadata": {
    "jupyter": {
     "outputs_hidden": false
    }
   },
   "source": [
    "### Step 6: Initialize the flow director and SPACE and HyLands components\n",
    "\n",
    "HyLands is written as a Python class. The class was imported at the beginning of the driver script (step 1). \n",
    "In this step, the user declares the instance of the Hylands class and sets any relevant model parameters. \n",
    "To calculate landslide runout, a non-local deposition scheme is used that requires a multiple flow direction structure. This is to ensure that landslide-derived sediment can be distributed over all 8 neighboring cells and not just to it's steepest neighbor as would be the case with a D8 flow routing algorithm. The priority flood flow router is designed as such that both fluvial (D8) and hillslope (multiple flow directions) can be calculated in the same go. To do this, we re-instantiate the flow router first before making an instance of the HyLands model. This will create the required fields (`hill_flow__receiver_node` and `hill_flow__receiver_proportions` and `hill_topographic__steepest_slope`) for the HyLands model. "
   ]
  },
  {
   "cell_type": "code",
   "execution_count": 7,
   "metadata": {},
   "outputs": [],
   "source": [
    "#Instantiate flow router, with additional multiple flow director for hillslopes \n",
    "fr = PriorityFloodFlowRouter(mg, flow_metric ='D8', separate_hill_flow =True, hill_flow_metric = 'Quinn', \n",
    "                             update_hill_flow_instantaneous = True)\n",
    "\n",
    "#Instantiate SPACE model with chosen parameters\n",
    "hy = Hylands(mg,angle_int_frict = .3,cohesion_eff = 1e4, landslides_return_time = 1e2, landslides_size =[])"
   ]
  },
  {
   "cell_type": "markdown",
   "metadata": {},
   "source": [
    "### Step 7: Run the time loop over 200 years to develop a landscape with landslide activity\n",
    "\n",
    "Like before, uplift will be inserted, the flow routers will be updated and the SAPCELargeScaleEroder will be run, but this time, landslides will be actively simulated.  "
   ]
  },
  {
   "cell_type": "code",
   "execution_count": 8,
   "metadata": {},
   "outputs": [
    {
     "name": "stderr",
     "output_type": "stream",
     "text": [
      "/Users/beca4397/Google_Drive/landlab/landlab/components/hylands/hylands.py:396: RuntimeWarning: divide by zero encountered in true_divide\n",
      "  Hc = (4 * self._cohesion_eff/(self._grav*self._rho_r))*((np.sin(np.arctan(ss))*\n"
     ]
    }
   ],
   "source": [
    "for i in range(20):\n",
    "    #Insert uplift at core nodes\n",
    "    mg.at_node['bedrock__elevation'][mg.core_nodes] += U*timestep\n",
    "    mg.at_node['topographic__elevation'] = mg.at_node['bedrock__elevation'] + mg.at_node['soil__depth']\n",
    "    \n",
    "    #Run the flow router\n",
    "    fr.run_one_step()\n",
    "\n",
    "    #Run SPACE for one time step\n",
    "    sp.run_one_step(dt=timestep)\n",
    "\n",
    "    #Run HyLands for one time step\n",
    "    hy.run_one_step(dt=10)\n",
    "    "
   ]
  },
  {
   "cell_type": "markdown",
   "metadata": {},
   "source": [
    "## Visualization of results\n",
    "### Magnitude frequency of landslides simulated over 200 years"
   ]
  },
  {
   "cell_type": "code",
   "execution_count": 9,
   "metadata": {},
   "outputs": [
    {
     "data": {
      "text/plain": [
       "Text(0, 0.5, 'Landslide frequency')"
      ]
     },
     "execution_count": 9,
     "metadata": {},
     "output_type": "execute_result"
    },
    {
     "data": {
      "image/png": "[encoded data removed]",
      "text/plain": [
       "<Figure size 432x288 with 1 Axes>"
      ]
     },
     "metadata": {
      "needs_background": "light"
     },
     "output_type": "display_data"
    }
   ],
   "source": [
    "plt.figure()\n",
    "LS_size = (np.array(hy.landslides_size)*mg.dx**2)\n",
    "counts, bins =np.histogram(np.log10(LS_size),10)\n",
    "plt.hist(np.log10(LS_size), log=True,bins=bins,density = True)\n",
    "plt.xlabel('log10 LS Area, m2')\n",
    "plt.ylabel('Landslide frequency')"
   ]
  },
  {
   "cell_type": "markdown",
   "metadata": {},
   "source": [
    "### Location of landslides during last model iteration"
   ]
  },
  {
   "cell_type": "code",
   "execution_count": 10,
   "metadata": {},
   "outputs": [
    {
     "data": {
      "image/png": "[encoded data removed]",
      "text/plain": [
       "<Figure size 432x288 with 2 Axes>"
      ]
     },
     "metadata": {
      "needs_background": "light"
     },
     "output_type": "display_data"
    },
    {
     "data": {
      "text/plain": [
       "<AxesSubplot:xlabel='Easting, m', ylabel='Northing, m'>"
      ]
     },
     "execution_count": 10,
     "metadata": {},
     "output_type": "execute_result"
    },
    {
     "data": {
      "image/png": "[encoded data removed]",
      "text/plain": [
       "<Figure size 432x288 with 2 Axes>"
      ]
     },
     "metadata": {
      "needs_background": "light"
     },
     "output_type": "display_data"
    }
   ],
   "source": [
    "#Show Landslide Erosion draped over the shaded topographic relief\n",
    "imshowhs_grid(\n",
    "    mg,\n",
    "    'topographic__elevation',\n",
    "    drape1 = mg.at_node['landslide__bed_erosion'],\n",
    "    plot_type = 'Drape1', \n",
    "    var_name='LS \\n erosion',\n",
    "    var_units=r'm',\n",
    "    grid_units=('m', 'm'),\n",
    "    cmap='terrain', \n",
    "    thicks_km = False, \n",
    "    limits = (0,2),\n",
    "    colorbar_label_y = -55,\n",
    "    add_label_bbox = True,\n",
    "    thres_drape1 = 0.001\n",
    ")\n",
    "plt.show()\n",
    "#Show Landslide deposition draped over the shaded topographic relief\n",
    "imshowhs_grid(\n",
    "    mg,\n",
    "    'topographic__elevation',\n",
    "    drape1 = mg.at_node['landslide__deposition'],\n",
    "    plot_type = 'Drape1', \n",
    "    var_name='LS \\n deposition',\n",
    "    var_units=r'm',\n",
    "    grid_units=('m', 'm'),\n",
    "    cmap='terrain', \n",
    "    thicks_km = False, \n",
    "    limits = (0,2),\n",
    "    colorbar_label_y = -55,\n",
    "    add_label_bbox = True,\n",
    "    thres_drape1 = 0.001\n",
    ")\n"
   ]
  },
  {
   "cell_type": "markdown",
   "metadata": {},
   "source": [
    "### Click here for more <a href=\"https://landlab.readthedocs.io/en/latest/user_guide/tutorials.html\">Landlab tutorials</a>"
   ]
  }
 ],
 "metadata": {
  "kernelspec": {
   "display_name": "Python 3",
   "language": "python",
   "name": "python3"
  },
  "language_info": {
   "codemirror_mode": {
    "name": "ipython",
    "version": 3
   },
   "file_extension": ".py",
   "mimetype": "text/x-python",
   "name": "python",
   "nbconvert_exporter": "python",
   "pygments_lexer": "ipython3",
   "version": "3.9.6"
  }
 },
 "nbformat": 4,
 "nbformat_minor": 4
}
