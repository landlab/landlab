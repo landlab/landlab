{
 "cells": [
  {
   "cell_type": "markdown",
   "metadata": {},
   "source": [
    "<a href=\"http://landlab.github.io\"><img style=\"float: left\" src=\"../../../landlab_header.png\"></a>"
   ]
  },
  {
   "cell_type": "markdown",
   "metadata": {},
   "source": [
    "# The Linear Diffusion Overland Flow Router"
   ]
  },
  {
   "cell_type": "markdown",
   "metadata": {},
   "source": [
    "<hr>\n",
    "<small>For more Landlab tutorials, click here: <a href=\"https://landlab.readthedocs.io/en/latest/user_guide/tutorials.html\">https://landlab.readthedocs.io/en/latest/user_guide/tutorials.html</a></small>\n",
    "<hr>"
   ]
  },
  {
   "cell_type": "markdown",
   "metadata": {},
   "source": [
    "## Overview\n",
    "\n",
    "This notebook demonstrates the `LinearDiffusionOverlandFlowRouter` Landlab component. The component implements a two-dimensional model of overland flow, based on a linearization of the diffusion-wave approximation of the shallow-water equations.\n",
    "\n",
    "### Theory\n",
    "\n",
    "#### Flow direction, depth, and velocity\n",
    "\n",
    "The diffusion-wave equations are a simplified form of the 2D shallow-water equations in which energy slope is assumed to equal water-surface slope. Conservation of water mass is expressed in terms of the time derivative of the local water depth, $H$, and the spatial derivative (divergence) of the unit discharge vector $\\mathbf{q} = UH$ (where $U$ is the 2D depth-averaged velocity vector):\n",
    "\n",
    "$$\\frac{\\partial H}{\\partial t} = R - \\nabla\\cdot \\mathbf{q}$$\n",
    "\n",
    "where $R$ is the local runoff rate [L/T] and $\\mathbf{q}$ has dimensions of volume flow per time per width [L$^2$/T]. The flow velocity is calculated using a linearized form of the Manning friction law:\n",
    "\n",
    "$$\\mathbf{U} = \\frac{H^{4/3}}{n^2 u_c} \\nabla w$$\n",
    "\n",
    "$$w = \\eta + H$$\n",
    "\n",
    "Here $\\eta(x,y,t)$ is ground-surface elevation, $w(x,y,t)$ is water-surface elevation, $n$ is the Manning friction coefficient, and $u_c$ is a characteristic scale velocity (see, e.g., Mariotti, 2018). Thus, there are two parameters governing flow speed: $n$ and $u_c$. The may, however, be treated as a single lumped parameter $n^2 u_c$.\n",
    "\n",
    "#### Rainfall and infiltration\n",
    "\n",
    "Runoff rate is calculated as the difference between the rates of precipitation, $P$, and infiltration, $I$. The user specifies a precipitation rate (which is a public variable that can be modified after instantiation), and a maximum infiltration rate, $I_c$. The actual infiltration rate depends on the available surface water, and is calculated in a way that allows it to approach zero as the surface-water depth approaches zero:\n",
    "\n",
    "$$I = I_c \\left( 1 - e^{-H/H_i} \\right)$$\n",
    "\n",
    "where $H_i$ is a characteristic water depth, defined such that the actual infiltration rate is about 95% of $I_c$ when $H = 3 H_i$."
   ]
  },
  {
   "cell_type": "markdown",
   "metadata": {},
   "source": [
    "### Numerical Methods\n",
    "\n",
    "#### Finite-volume representation\n",
    "\n",
    "The component uses an explicit, forward-Euler finite-volume method. The solution for water depth at a new time step $k+1$ is calculated from:\n",
    "\n",
    "$$H_i^{k+1} = H_i^k + \\Delta t \\left[ \\frac{dH_i}{dt} \\right]_i^k$$\n",
    "\n",
    "The time derivative at step $k$ is calculated as:\n",
    "\n",
    "$$\\left[ \\frac{dH_i}{dt} \\right]_i^k = R - I - \\frac{1}{\\Lambda_i} \\sum_{j=1}^{N_i} \\lambda_{ij} q_{ij}$$\n",
    "\n",
    "where $R$ is rainfall rate, $I$ is infiltration rate (calculated as above), $\\Lambda_i$ is the horizontal surface area of the cell enclosing node $i$, $\\lambda_{ij}$ is the length of the cell face between node $i$ and its $j$-th neighbor, and $q_{ij}$ is the specific water discharge along the link that connects node $i$ and its $j$-th neighbor.\n",
    "\n",
    "For a raster grid, this treatment is equivalent to a centered-in-space finite-difference arrangement. For more on finite-difference solutions to diffusion problems, see for example Slingerland and Kump (2011) and Press et al. (1986).\n",
    "\n",
    "#### Time-step limiter\n",
    "\n",
    "Because of the linearization described above, the flow model is effectively a diffusion problem with a space- and time-varying diffusivity, because the effective diffusivity $D$ depends on water depth:\n",
    "\n",
    "$$D = \\frac{H^{7/3}}{n^2 u_c}$$\n",
    "\n",
    "One numerical challenge is that, according to the Courant-Levy-Friedrichs (CFL) criterion, the maximum stable time step will depend on water depth, which varies in space and time. To prevent instability, the solution algorithm calculates at every iteration a maximum value for $D$ using the current maximum water depth (or a very small minimum value, whichever is larger, to prevent blowup in the case of zero water depth). The maximum step size is then calculated as:\n",
    "\n",
    "$$\\Delta t_\\text{max} = \\alpha \\frac{L_\\text{min}^2}{2 D}$$\n",
    "\n",
    "where $L_\\text{min}$ is the length of the shortest link in the grid (which is just equal to node spacing, $\\Delta x$, for a uniform raster or hex grid). The stability factor $\\alpha$ is a user-controllable parameter that defaults to 0.2, and must be $\\le 1$.\n",
    "\n",
    "If $\\Delta t_\\text{max}$ is less than the user-specified \"global\" time step duration, the algorithm iterates repeatedly with time steps of size $\\Delta t_\\text{max}$ (or the remaining time in the global step, whichever is smaller) until the global time step duration has been completed.\n"
   ]
  },
  {
   "cell_type": "markdown",
   "metadata": {},
   "source": [
    "### The component\n",
    "\n",
    "Import the needed libraries, then inspect the component's docstring:"
   ]
  },
  {
   "cell_type": "code",
   "execution_count": null,
   "metadata": {},
   "outputs": [],
   "source": [
    "import numpy as np\n",
    "import matplotlib.pyplot as plt\n",
    "from landlab import RasterModelGrid, imshow_grid\n",
    "from landlab.components.overland_flow import LinearDiffusionOverlandFlowRouter\n",
    "from landlab.io.esri_ascii import read_esri_ascii"
   ]
  },
  {
   "cell_type": "markdown",
   "metadata": {},
   "source": [
    "Use the `help` function to get a description of the `LinearDiffusionOverlandFlowRouter` component. If you scroll down to the `__init__` section, you will see a list of parameters."
   ]
  },
  {
   "cell_type": "code",
   "execution_count": null,
   "metadata": {},
   "outputs": [],
   "source": [
    "help(LinearDiffusionOverlandFlowRouter)"
   ]
  },
  {
   "cell_type": "markdown",
   "metadata": {},
   "source": [
    "## Example 1: downpour on a single cell\n",
    "\n",
    "The first example tests that the component can reproduce the expected steady flow depth for rain on a single cell. The input water flow rate, in $m^3 / s$, is:\n",
    "\n",
    "$$Q_\\text{in} = P \\Delta x^2$$\n",
    "\n",
    "The output flow rate is\n",
    "\n",
    "$$Q_\\text{out} = \\frac{\\Delta x}{n^2 u_c} H^{7/3} S_w$$\n",
    "\n",
    "where $S_w$ is the water surface slope. We can write the water-surface slope in terms of the water height of the (one) core node (which just equals $H$, because the ground elevation is zero) and the water height at the adjacent open-boundary node, which is zero, so\n",
    "\n",
    "$$S_w = \\frac{H}{\\Delta x}$$\n",
    "\n",
    "We can therefore plug this into the equation for $Q_\\text{out}$ and solve for the expected equilibrium depth:\n",
    "\n",
    "$$H = \\left(\\Delta x^2 P n^2 u_c \\right)^{3/10}$$"
   ]
  },
  {
   "cell_type": "markdown",
   "metadata": {},
   "source": [
    "Pick the initial and run conditions"
   ]
  },
  {
   "cell_type": "code",
   "execution_count": null,
   "metadata": {},
   "outputs": [],
   "source": [
    "# Process parameters\n",
    "n = 0.01  # roughness coefficient, (s/m^(1/3))\n",
    "vel_scale = 1.0  # velocity scale, m/s\n",
    "R = 72.0 / (3600.0 * 1000.0)  # runoff rate, m/s\n",
    "\n",
    "# Run-control parameters\n",
    "run_time = 360.0  # duration of run, (s)\n",
    "nrows = 3  # number of node rows\n",
    "ncols = 3  # number of node columns\n",
    "dx = 2.0  # node spacing, m\n",
    "dt = 20.0  # time-step size, s\n",
    "plot_every = 60.0  # plot interval, s\n",
    "\n",
    "# Derived parameters\n",
    "num_steps = int(run_time / dt)"
   ]
  },
  {
   "cell_type": "markdown",
   "metadata": {},
   "source": [
    "Create grid and fields:\n"
   ]
  },
  {
   "cell_type": "code",
   "execution_count": null,
   "metadata": {},
   "outputs": [],
   "source": [
    "# create and set up grid\n",
    "grid = RasterModelGrid((nrows, ncols), xy_spacing=dx)\n",
    "grid.set_closed_boundaries_at_grid_edges(False, True, True, True)  # open only on east\n",
    "\n",
    "# add required field\n",
    "elev = grid.add_zeros(\"topographic__elevation\", at=\"node\")"
   ]
  },
  {
   "cell_type": "code",
   "execution_count": null,
   "metadata": {},
   "outputs": [],
   "source": [
    "# Instantiate the component\n",
    "olflow = LinearDiffusionOverlandFlowRouter(\n",
    "    grid, rain_rate=R, roughness=n, velocity_scale=vel_scale\n",
    ")"
   ]
  },
  {
   "cell_type": "code",
   "execution_count": null,
   "metadata": {},
   "outputs": [],
   "source": [
    "# Helpful function to plot the profile\n",
    "def plot_flow_profile(grid, olflow):\n",
    "    \"\"\"Plot the middle row of topography and water surface\n",
    "    for the overland flow model olflow.\"\"\"\n",
    "    nc = grid.number_of_node_columns\n",
    "    nr = grid.number_of_node_rows\n",
    "    startnode = nc * (nr // 2) + 1\n",
    "    midrow = np.arange(startnode, startnode + nc - 1, dtype=int)\n",
    "    topo = grid.at_node[\"topographic__elevation\"]\n",
    "    plt.plot(\n",
    "        grid.x_of_node[midrow],\n",
    "        topo[midrow] + grid.at_node[\"surface_water__depth\"][midrow],\n",
    "        \"b\",\n",
    "    )\n",
    "    plt.plot(grid.x_of_node[midrow], topo[midrow], \"k\")\n",
    "    plt.xlabel(\"Distance (m)\")\n",
    "    plt.ylabel(\"Ground and water surface height (m)\")"
   ]
  },
  {
   "cell_type": "markdown",
   "metadata": {},
   "source": [
    "Run the component forward in time, plotting the output in the form of a profile:"
   ]
  },
  {
   "cell_type": "code",
   "execution_count": null,
   "metadata": {},
   "outputs": [],
   "source": [
    "next_plot = plot_every\n",
    "HH = []  # keep track of depth through time\n",
    "for i in range(num_steps):\n",
    "    olflow.run_one_step(dt)\n",
    "    if (i + 1) * dt >= next_plot:\n",
    "        plot_flow_profile(grid, olflow)\n",
    "        next_plot += plot_every\n",
    "    HH.append(grid.at_node[\"surface_water__depth\"][4])"
   ]
  },
  {
   "cell_type": "code",
   "execution_count": null,
   "metadata": {},
   "outputs": [],
   "source": [
    "# Compare with analytical solution for depth\n",
    "expected_depth = (dx * dx * R * n * n * vel_scale) ** 0.3\n",
    "computed_depth = grid.at_node[\"surface_water__depth\"][4]\n",
    "\n",
    "print(f\"Expected depth = {expected_depth} m\")\n",
    "print(\n",
    "    f\"Computed depth = {computed_depth} m\",\n",
    ")"
   ]
  },
  {
   "cell_type": "code",
   "execution_count": null,
   "metadata": {},
   "outputs": [],
   "source": [
    "plt.plot(np.linspace(0, run_time, len(HH)), HH)\n",
    "plt.xlabel(\"Time (s)\")\n",
    "plt.ylabel(\"Water depth (m)\")"
   ]
  },
  {
   "cell_type": "markdown",
   "metadata": {},
   "source": [
    "## Example 2: overland flow on a DEM\n",
    "\n",
    "For this example, we'll import a small digital elevation model (DEM) for a site in New Mexico, USA, with 10 m cells."
   ]
  },
  {
   "cell_type": "code",
   "execution_count": null,
   "metadata": {},
   "outputs": [],
   "source": [
    "# Process parameters\n",
    "n = 0.1  # roughness coefficient, (s/m^(1/3))\n",
    "uc = 1.0  # characteristic velocity scale (m/s)\n",
    "R1 = 72.0 / (3600.0 * 1000.0)  # initial rainfall rate, m/s (converted from mm/hr)\n",
    "R2 = 0.0 / (3600.0 * 1000.0)  # later rainfall rate, m/s (converted from mm/hr)\n",
    "infilt_cap = 10.0 / (3600 * 1000.0)  # infiltration capacity, m/s (converted from mm/hr)\n",
    "\n",
    "# Run-control parameters\n",
    "heavy_rain_duration = 300.0  # duration of heavy rainfall, s\n",
    "run_time = 1200.0  # duration of run, s\n",
    "dt = 20.0  # time-step size, s\n",
    "dem_filename = \"../hugo_site.asc\"\n",
    "\n",
    "# Derived parameters\n",
    "num_steps = int(run_time / dt)\n",
    "\n",
    "# set up arrays to hold discharge, time, and rain rate\n",
    "time_since_storm_start = np.linspace(0.0, run_time, num_steps + 1)\n",
    "discharge = np.zeros(num_steps + 1)\n",
    "rain_rate = np.zeros(num_steps + 1)\n",
    "rain_rate[:] = R1\n",
    "rain_rate[time_since_storm_start >= heavy_rain_duration] = R2"
   ]
  },
  {
   "cell_type": "code",
   "execution_count": null,
   "metadata": {},
   "outputs": [],
   "source": [
    "# Read the DEM file as a grid with a 'topographic__elevation' field\n",
    "(grid, elev) = read_esri_ascii(dem_filename, name=\"topographic__elevation\")\n",
    "\n",
    "# Configure the boundaries: valid right-edge nodes will be open;\n",
    "# all NODATA (= -9999) nodes will be closed.\n",
    "grid.status_at_node[grid.nodes_at_right_edge] = grid.BC_NODE_IS_FIXED_VALUE\n",
    "grid.status_at_node[np.isclose(elev, -9999.0)] = grid.BC_NODE_IS_CLOSED"
   ]
  },
  {
   "cell_type": "code",
   "execution_count": null,
   "metadata": {},
   "outputs": [],
   "source": [
    "# display the topography\n",
    "imshow_grid(grid, elev, colorbar_label=\"Elevation (m)\", cmap=\"pink\")"
   ]
  },
  {
   "cell_type": "markdown",
   "metadata": {},
   "source": [
    "It would be nice to track discharge at the watershed outlet, but how do we find the outlet location? We actually have several valid nodes along the right-hand edge. Then we'll keep track of the field `water__specific_discharge` at the active links that connect to these boundary nodes. We can identify the nodes by the fact that they are (a) at the right-hand edge of the grid, and (b) have positive elevations (the ones with -9999 are outside of the watershed). We can identify the relevant active links as those connected to the outlet nodes that have active status (meaning they do not connect to any closed boundary nodes)."
   ]
  },
  {
   "cell_type": "code",
   "execution_count": null,
   "metadata": {},
   "outputs": [],
   "source": [
    "indices = np.where(elev[grid.nodes_at_right_edge] > 0.0)[0]\n",
    "outlet_nodes = grid.nodes_at_right_edge[indices]\n",
    "print(f\"Outlet nodes: {outlet_nodes}\")\n",
    "print(f\"Elevations of the outlet nodes: {elev[outlet_nodes]}\")\n",
    "\n",
    "links_at_outlets = grid.links_at_node[outlet_nodes]\n",
    "links_to_track = links_at_outlets[\n",
    "    grid.status_at_link[links_at_outlets] == grid.BC_LINK_IS_ACTIVE\n",
    "].flatten()\n",
    "print(f\"Links at which to track discharge: {links_to_track}\")"
   ]
  },
  {
   "cell_type": "code",
   "execution_count": null,
   "metadata": {},
   "outputs": [],
   "source": [
    "# Instantiate the component\n",
    "olflow = LinearDiffusionOverlandFlowRouter(\n",
    "    grid, rain_rate=R, infilt_rate=infilt_cap, roughness=n, velocity_scale=vel_scale\n",
    ")"
   ]
  },
  {
   "cell_type": "code",
   "execution_count": null,
   "metadata": {},
   "outputs": [],
   "source": [
    "def cfl():\n",
    "    hmax = np.amax(grid.at_node[\"surface_water__depth\"])\n",
    "    D = hmax ** (7.0 / 3.0) / (n * n * uc)\n",
    "    return 0.5 * dx * dx / D"
   ]
  },
  {
   "cell_type": "code",
   "execution_count": null,
   "metadata": {},
   "outputs": [],
   "source": [
    "q = grid.at_link[\"water__specific_discharge\"]\n",
    "\n",
    "for i in range(num_steps):\n",
    "    olflow.rain_rate = rain_rate[i]\n",
    "    olflow.run_one_step(dt)\n",
    "    discharge[i + 1] = np.sum(q[links_to_track]) * dx"
   ]
  },
  {
   "cell_type": "code",
   "execution_count": null,
   "metadata": {},
   "outputs": [],
   "source": [
    "plt.plot(time_since_storm_start / 60.0, discharge)\n",
    "plt.xlabel(\"Time (min)\")\n",
    "plt.ylabel(\"Discharge (cms)\")\n",
    "plt.grid(True)"
   ]
  },
  {
   "cell_type": "code",
   "execution_count": null,
   "metadata": {},
   "outputs": [],
   "source": [
    "imshow_grid(\n",
    "    grid,\n",
    "    grid.at_node[\"surface_water__depth\"],\n",
    "    cmap=\"Blues\",\n",
    "    colorbar_label=\"Water depth (m)\",\n",
    ")"
   ]
  },
  {
   "cell_type": "markdown",
   "metadata": {},
   "source": [
    "Voila! A fine hydrograph, and a water-depth map that shows deeper water in the channels (and highlights depressions and low-gradient spots in the topography)."
   ]
  },
  {
   "cell_type": "markdown",
   "metadata": {},
   "source": [
    "## References\n",
    "\n",
    "Mariotti, G. (2018). Marsh channel morphological response to sea level rise and sediment supply. Estuarine, Coastal and Shelf Science, 209, 89-101.\n",
    "\n",
    "Press, W. H., Vetterling, W. T., Teukolsky, S. A., & Flannery, B. P. (1986). Numerical recipes. Cambridge: Cambridge university press.\n",
    "\n",
    "Slingerland, R., & Kump, L. (2011). Mathematical Modeling of Earth's Dynamical Systems. Princeton University Press."
   ]
  },
  {
   "cell_type": "markdown",
   "metadata": {
    "collapsed": true
   },
   "source": [
    "### Click here for more <a href=\"https://landlab.readthedocs.io/en/latest/user_guide/tutorials.html\">Landlab tutorials</a>"
   ]
  }
 ],
 "metadata": {
  "kernelspec": {
   "display_name": "Python 3 (ipykernel)",
   "language": "python",
   "name": "python3"
  },
  "language_info": {
   "codemirror_mode": {
    "name": "ipython",
    "version": 3
   },
   "file_extension": ".py",
   "mimetype": "text/x-python",
   "name": "python",
   "nbconvert_exporter": "python",
   "pygments_lexer": "ipython3",
   "version": "3.8.12"
  }
 },
 "nbformat": 4,
 "nbformat_minor": 1
}
