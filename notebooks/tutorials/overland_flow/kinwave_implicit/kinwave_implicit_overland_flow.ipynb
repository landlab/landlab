{
 "cells": [
  {
   "cell_type": "markdown",
   "metadata": {},
   "source": [
    "<a href=\"http://landlab.github.io\"><img style=\"float: left\" src=\"../../../landlab_header.png\"></a>"
   ]
  },
  {
   "cell_type": "markdown",
   "metadata": {},
   "source": [
    "# The Implicit Kinematic Wave Overland Flow Component "
   ]
  },
  {
   "cell_type": "markdown",
   "metadata": {},
   "source": [
    "<hr>\n",
    "<small>For more Landlab tutorials, click here: <a href=\"https://landlab.readthedocs.io/en/latest/user_guide/tutorials.html\">https://landlab.readthedocs.io/en/latest/user_guide/tutorials.html</a></small>\n",
    "<hr>"
   ]
  },
  {
   "cell_type": "markdown",
   "metadata": {},
   "source": [
    "## Overview\n",
    "\n",
    "This notebook demonstrates the `KinwaveImplicitOverlandFlow` Landlab component. The component implements a two-dimensional kinematic wave model of overland flow, using a digital elevation model or other source of topography as the surface over which water flows.\n",
    "\n",
    "### Theory\n",
    "\n",
    "The kinematic wave equations are a simplified form of the 2D shallow-water equations in which energy slope is assumed to equal bed slope. Conservation of water mass is expressed in terms of the time derivative of the local water depth, $H$, and the spatial derivative (divergence) of the unit discharge vector $\\mathbf{q} = UH$ (where $U$ is the 2D depth-averaged velocity vector):\n",
    "\n",
    "$$\\frac{\\partial H}{\\partial t} = R - \\nabla\\cdot \\mathbf{q}$$\n",
    "\n",
    "where $R$ is the local runoff rate [L/T] and $\\mathbf{q}$ has dimensions of volume flow per time per width [L$^2$/T]. The discharge depends on the local depth, bed-surface gradient $\\mathbf{S}=-\\nabla\\eta$ (this is the kinematic wave approximation; $\\eta$ is land surface height), and a roughness factor $C_r$:\n",
    "\n",
    "$$\\mathbf{q} = \\frac{1}{C_r} \\mathbf{S} H^\\alpha |S|^{-1/2}$$\n",
    "\n",
    "Reads may recognize this as a form of the Manning, Chezy, or Darcy-Weisbach equation. If $\\alpha = 5/3$ then we have the Manning equation, and $C_r = n$ is \"Manning's n\". If $\\alpha = 3/2$ then we have the Chezy/Darcy-Weisbach equation, and $C_r = 1/C = (f/8g)^{1/2}$ represents the Chezy roughness factor $C$ and the equivalent Darcy-Weisbach factor $f$.\n",
    "\n",
    "### Numerical solution\n",
    "\n",
    "The solution method used by this component is locally implicit, and works as follows. At each time step, we iterate from upstream to downstream over the topography. Because we are working downstream, we can assume that we know the total water inflow to a given cell. We solve the following mass conservation equation at each cell:\n",
    "\n",
    "$$\\frac{H^{t+1} - H^t}{\\Delta t }= \\frac{Q_{in}}{A} - \\frac{Q_{out}}{A} + R$$\n",
    "\n",
    "where $H$ is water depth at a given grid node, $t$ indicates time step number, $\\Delta t$ is time step duration, $Q_{in}$ is total inflow discharge, $Q_{out}$ is total outflow discharge, $A$ is cell area, and $R$ is local runoff rate (precipitation minus infiltration; could be negative if runon infiltration is occurring).\n",
    "\n",
    "The specific outflow discharge leaving a cell along one of its faces is:\n",
    "\n",
    "$$q = (1/C_r) H^\\alpha S^{1/2}$$\n",
    "\n",
    "where $S$ is the downhill-positive gradient of the link that crosses this particular face. Outflow discharge is zero for links that are flat or \"uphill\" from the given node. Total discharge out of a cell is then the sum of (specific discharge x face width) over all outflow faces:\n",
    "\n",
    "$$Q_{out} = \\sum_{i=1}^N (1/C_r) H^\\alpha S_i^{1/2} W_i$$\n",
    "\n",
    "where $N$ is the number of outflow faces (i.e., faces where the ground slopes downhill away from the cell's node), and $W_i$ is the width of face $i$.\n",
    "\n",
    "We use the depth at the cell's node, so this simplifies to:\n",
    "\n",
    "$$Q_{out} = (1/C_r) H'^\\alpha \\sum_{i=1}^N S_i^{1/2} W_i$$\n",
    "\n",
    "Notice that we know everything here except $H'$. The reason we know $Q_{out}$ is that it equals $Q_{in}$ (which is either zero or we calculated it previously) plus $RA$.\n",
    "\n",
    "We define $H$ in the above as a weighted sum of the \"old\" (time step $t$) and \"new\" (time step $t+1$) depth values:\n",
    "\n",
    "$$H' = w H^{t+1} + (1-w) H^t$$\n",
    "\n",
    "If $w=1$, the method is fully implicit. If $w=0$, it is a simple forward explicit method.\n",
    "\n",
    "When we combine these equations, we have an equation that includes the unknown $H^{t+1}$ and a bunch of terms that are known. If $w\\ne 0$, it is a nonlinear equation in $H^{t+1}$, and must be solved iteratively. We do this using a root-finding method in the scipy.optimize library.\n",
    "\n",
    "In order to implement the algorithm, we must already know which of neighbors of each node are lower than the neighbor, and what the slopes between them are. We accomplish this using the `FlowAccumulator` and `FlowDirectorMFD` components. Running the `FlowAccumulator` also generates a sorted list (array) of nodes in drainage order.\n",
    "\n",
    "### The component\n",
    "\n",
    "Import the needed libraries, then inspect the component's docstring:"
   ]
  },
  {
   "cell_type": "code",
   "execution_count": null,
   "metadata": {},
   "outputs": [],
   "source": [
    "import copy\n",
    "import numpy as np\n",
    "import matplotlib as mpl\n",
    "import matplotlib.pyplot as plt\n",
    "from landlab import RasterModelGrid, imshow_grid\n",
    "from landlab.components.overland_flow import KinwaveImplicitOverlandFlow\n",
    "from landlab.io.esri_ascii import read_esri_ascii"
   ]
  },
  {
   "cell_type": "code",
   "execution_count": null,
   "metadata": {},
   "outputs": [],
   "source": [
    "print(KinwaveImplicitOverlandFlow.__doc__)"
   ]
  },
  {
   "cell_type": "markdown",
   "metadata": {},
   "source": [
    "The docstring for the `__init__` method will give us a list of parameters:"
   ]
  },
  {
   "cell_type": "code",
   "execution_count": null,
   "metadata": {},
   "outputs": [],
   "source": [
    "print(KinwaveImplicitOverlandFlow.__init__.__doc__)"
   ]
  },
  {
   "cell_type": "markdown",
   "metadata": {},
   "source": [
    "## Example 1: downpour on a plane\n",
    "\n",
    "The first example tests that the component can reproduce the expected steady flow pattern on a sloping plane, with a gradient of $S_p$. We'll adopt the Manning equation. Once the system comes into equilibrium, the discharge should increase width distance down the plane according to $q = Rx$. We can use this fact to solve for the corresponding water depth:\n",
    "\n",
    "$$(1/n) H^{5/3} S^{1/2} = R x$$\n",
    "\n",
    "which implies\n",
    "\n",
    "$$H = \\left( \\frac{nRx}{S^{1/2}} \\right)^{3/5}$$\n",
    "\n",
    "This is the analytical solution against which to test the model."
   ]
  },
  {
   "cell_type": "markdown",
   "metadata": {},
   "source": [
    "Pick the initial and run conditions"
   ]
  },
  {
   "cell_type": "code",
   "execution_count": null,
   "metadata": {},
   "outputs": [],
   "source": [
    "# Process parameters\n",
    "n = 0.01  # roughness coefficient, (s/m^(1/3))\n",
    "dep_exp = 5.0 / 3.0  # depth exponent\n",
    "S = 0.01  # slope of plane\n",
    "R = 72.0  # runoff rate, mm/hr\n",
    "\n",
    "# Run-control parameters\n",
    "run_time = 240.0  # duration of run, (s)\n",
    "nrows = 5  # number of node rows\n",
    "ncols = 11  # number of node columns\n",
    "dx = 2.0  # node spacing, m\n",
    "dt = 10.0  # time-step size, s\n",
    "plot_every = 60.0  # plot interval, s\n",
    "\n",
    "# Derived parameters\n",
    "num_steps = int(run_time / dt)"
   ]
  },
  {
   "cell_type": "markdown",
   "metadata": {},
   "source": [
    "Create grid and fields:\n"
   ]
  },
  {
   "cell_type": "code",
   "execution_count": null,
   "metadata": {},
   "outputs": [],
   "source": [
    "# create and set up grid\n",
    "grid = RasterModelGrid((nrows, ncols), xy_spacing=dx)\n",
    "grid.set_closed_boundaries_at_grid_edges(False, True, True, True)  # open only on east\n",
    "\n",
    "# add required field\n",
    "elev = grid.add_zeros(\"topographic__elevation\", at=\"node\")\n",
    "\n",
    "# set topography\n",
    "elev[grid.core_nodes] = S * (np.amax(grid.x_of_node) - grid.x_of_node[grid.core_nodes])"
   ]
  },
  {
   "cell_type": "markdown",
   "metadata": {},
   "source": [
    "Plot topography, first in plan view..."
   ]
  },
  {
   "cell_type": "code",
   "execution_count": null,
   "metadata": {},
   "outputs": [],
   "source": [
    "imshow_grid(grid, elev)"
   ]
  },
  {
   "cell_type": "markdown",
   "metadata": {},
   "source": [
    "...then as a cross-section:"
   ]
  },
  {
   "cell_type": "code",
   "execution_count": null,
   "metadata": {},
   "outputs": [],
   "source": [
    "plt.plot(grid.x_of_node, elev)\n",
    "plt.xlabel(\"Distance (m)\")\n",
    "plt.ylabel(\"Height (m)\")\n",
    "plt.grid(True)"
   ]
  },
  {
   "cell_type": "code",
   "execution_count": null,
   "metadata": {},
   "outputs": [],
   "source": [
    "# Instantiate the component\n",
    "olflow = KinwaveImplicitOverlandFlow(\n",
    "    grid, runoff_rate=R, roughness=n, depth_exp=dep_exp\n",
    ")"
   ]
  },
  {
   "cell_type": "code",
   "execution_count": null,
   "metadata": {},
   "outputs": [],
   "source": [
    "# Helpful function to plot the profile\n",
    "def plot_flow_profile(grid, olflow):\n",
    "    \"\"\"Plot the middle row of topography and water surface\n",
    "    for the overland flow model olflow.\"\"\"\n",
    "    nc = grid.number_of_node_columns\n",
    "    nr = grid.number_of_node_rows\n",
    "    startnode = nc * (nr // 2) + 1\n",
    "    midrow = np.arange(startnode, startnode + nc - 1, dtype=int)\n",
    "    topo = grid.at_node[\"topographic__elevation\"]\n",
    "    plt.plot(\n",
    "        grid.x_of_node[midrow],\n",
    "        topo[midrow] + grid.at_node[\"surface_water__depth\"][midrow],\n",
    "        \"b\",\n",
    "    )\n",
    "    plt.plot(grid.x_of_node[midrow], topo[midrow], \"k\")\n",
    "    plt.xlabel(\"Distance (m)\")\n",
    "    plt.ylabel(\"Ground and water surface height (m)\")"
   ]
  },
  {
   "cell_type": "markdown",
   "metadata": {},
   "source": [
    "Run the component forward in time, plotting the output in the form of a profile:"
   ]
  },
  {
   "cell_type": "code",
   "execution_count": null,
   "metadata": {},
   "outputs": [],
   "source": [
    "next_plot = plot_every\n",
    "for i in range(num_steps):\n",
    "    olflow.run_one_step(dt)\n",
    "    if (i + 1) * dt >= next_plot:\n",
    "        plot_flow_profile(grid, olflow)\n",
    "        next_plot += plot_every"
   ]
  },
  {
   "cell_type": "code",
   "execution_count": null,
   "metadata": {},
   "outputs": [],
   "source": [
    "# Compare with analytical solution for depth\n",
    "Rms = R / 3.6e6  # convert to m/s\n",
    "nc = grid.number_of_node_columns\n",
    "x = grid.x_of_node[grid.core_nodes][: nc - 2]\n",
    "Hpred = (n * Rms * x / (S ** 0.5)) ** 0.6\n",
    "plt.plot(x, Hpred, \"r\", label=\"Analytical\")\n",
    "plt.plot(\n",
    "    x,\n",
    "    grid.at_node[\"surface_water__depth\"][grid.core_nodes][: nc - 2],\n",
    "    \"b--\",\n",
    "    label=\"Numerical\",\n",
    ")\n",
    "plt.xlabel(\"Distance (m)\")\n",
    "plt.ylabel(\"Water depth (m)\")\n",
    "plt.grid(True)\n",
    "plt.legend()"
   ]
  },
  {
   "cell_type": "markdown",
   "metadata": {},
   "source": [
    "## Example 2: overland flow on a DEM\n",
    "\n",
    "For this example, we'll import a small digital elevation model (DEM) for a site in New Mexico, USA."
   ]
  },
  {
   "cell_type": "code",
   "execution_count": null,
   "metadata": {},
   "outputs": [],
   "source": [
    "# Process parameters\n",
    "n = 0.1  # roughness coefficient, (s/m^(1/3))\n",
    "dep_exp = 5.0 / 3.0  # depth exponent\n",
    "R = 72.0  # runoff rate, mm/hr\n",
    "\n",
    "# Run-control parameters\n",
    "rain_duration = 240.0  # duration of rainfall, s\n",
    "run_time = 480.0  # duration of run, s\n",
    "dt = 10.0  # time-step size, s\n",
    "dem_filename = \"../hugo_site_filled.asc\"\n",
    "\n",
    "# Derived parameters\n",
    "num_steps = int(run_time / dt)\n",
    "\n",
    "# set up arrays to hold discharge and time\n",
    "time_since_storm_start = np.arange(0.0, dt * (2 * num_steps + 1), dt)\n",
    "discharge = np.zeros(2 * num_steps + 1)"
   ]
  },
  {
   "cell_type": "code",
   "execution_count": null,
   "metadata": {},
   "outputs": [],
   "source": [
    "# Read the DEM file as a grid with a 'topographic__elevation' field\n",
    "(grid, elev) = read_esri_ascii(dem_filename, name=\"topographic__elevation\")\n",
    "\n",
    "# Configure the boundaries: valid right-edge nodes will be open;\n",
    "# all NODATA (= -9999) nodes will be closed.\n",
    "grid.status_at_node[grid.nodes_at_right_edge] = grid.BC_NODE_IS_FIXED_VALUE\n",
    "grid.status_at_node[np.isclose(elev, -9999.0)] = grid.BC_NODE_IS_CLOSED"
   ]
  },
  {
   "cell_type": "code",
   "execution_count": null,
   "metadata": {},
   "outputs": [],
   "source": [
    "# display the topography\n",
    "cmap = copy.copy(mpl.cm.get_cmap(\"pink\"))\n",
    "imshow_grid(grid, elev, colorbar_label=\"Elevation (m)\", cmap=cmap)"
   ]
  },
  {
   "cell_type": "markdown",
   "metadata": {},
   "source": [
    "It would be nice to track discharge at the watershed outlet, but how do we find the outlet location? We actually have several valid nodes along the right-hand edge. Then we'll keep track of the field `surface_water_inflow__discharge` at these nodes. We can identify the nodes by the fact that they are (a) at the right-hand edge of the grid, and (b) have positive elevations (the ones with -9999 are outside of the watershed)."
   ]
  },
  {
   "cell_type": "code",
   "execution_count": null,
   "metadata": {},
   "outputs": [],
   "source": [
    "indices = np.where(elev[grid.nodes_at_right_edge] > 0.0)[0]\n",
    "outlet_nodes = grid.nodes_at_right_edge[indices]\n",
    "print(\"Outlet nodes:\")\n",
    "print(outlet_nodes)\n",
    "print(\"Elevations of the outlet nodes:\")\n",
    "print(elev[outlet_nodes])"
   ]
  },
  {
   "cell_type": "code",
   "execution_count": null,
   "metadata": {},
   "outputs": [],
   "source": [
    "# Instantiate the component\n",
    "olflow = KinwaveImplicitOverlandFlow(\n",
    "    grid, runoff_rate=R, roughness=n, depth_exp=dep_exp\n",
    ")"
   ]
  },
  {
   "cell_type": "code",
   "execution_count": null,
   "metadata": {},
   "outputs": [],
   "source": [
    "discharge_field = grid.at_node[\"surface_water_inflow__discharge\"]\n",
    "\n",
    "for i in range(num_steps):\n",
    "    olflow.run_one_step(dt)\n",
    "    discharge[i + 1] = np.sum(discharge_field[outlet_nodes])"
   ]
  },
  {
   "cell_type": "code",
   "execution_count": null,
   "metadata": {},
   "outputs": [],
   "source": [
    "plt.plot(time_since_storm_start[:num_steps], discharge[:num_steps])\n",
    "plt.xlabel(\"Time (s)\")\n",
    "plt.ylabel(\"Discharge (cms)\")\n",
    "plt.grid(True)"
   ]
  },
  {
   "cell_type": "code",
   "execution_count": null,
   "metadata": {},
   "outputs": [],
   "source": [
    "cmap = copy.copy(mpl.cm.get_cmap(\"Blues\"))\n",
    "imshow_grid(\n",
    "    grid,\n",
    "    grid.at_node[\"surface_water__depth\"],\n",
    "    cmap=cmap,\n",
    "    colorbar_label=\"Water depth (m)\",\n",
    ")"
   ]
  },
  {
   "cell_type": "markdown",
   "metadata": {},
   "source": [
    "Now turn down the rain and run it a bit longer..."
   ]
  },
  {
   "cell_type": "code",
   "execution_count": null,
   "metadata": {},
   "outputs": [],
   "source": [
    "olflow.runoff_rate = 1.0  # just 1 mm/hr\n",
    "\n",
    "for i in range(num_steps, 2 * num_steps):\n",
    "    olflow.run_one_step(dt)\n",
    "    discharge[i + 1] = np.sum(discharge_field[outlet_nodes])"
   ]
  },
  {
   "cell_type": "code",
   "execution_count": null,
   "metadata": {},
   "outputs": [],
   "source": [
    "plt.plot(time_since_storm_start, discharge)\n",
    "plt.xlabel(\"Time (s)\")\n",
    "plt.ylabel(\"Discharge (cms)\")\n",
    "plt.grid(True)"
   ]
  },
  {
   "cell_type": "code",
   "execution_count": null,
   "metadata": {},
   "outputs": [],
   "source": [
    "cmap = copy.copy(mpl.cm.get_cmap(\"Blues\"))\n",
    "imshow_grid(\n",
    "    grid,\n",
    "    grid.at_node[\"surface_water__depth\"],\n",
    "    cmap=cmap,\n",
    "    colorbar_label=\"Water depth (m)\",\n",
    ")"
   ]
  },
  {
   "cell_type": "markdown",
   "metadata": {},
   "source": [
    "Voila! A fine hydrograph, and a water-depth map that shows deeper water in the channels (and highlights depressions in the topography)."
   ]
  },
  {
   "cell_type": "markdown",
   "metadata": {
    "collapsed": true
   },
   "source": [
    "### Click here for more <a href=\"https://landlab.readthedocs.io/en/latest/user_guide/tutorials.html\">Landlab tutorials</a>"
   ]
  }
 ],
 "metadata": {
  "kernelspec": {
   "display_name": "Python 3",
   "language": "python",
   "name": "python3"
  },
  "language_info": {
   "codemirror_mode": {
    "name": "ipython",
    "version": 3
   },
   "file_extension": ".py",
   "mimetype": "text/x-python",
   "name": "python",
   "nbconvert_exporter": "python",
   "pygments_lexer": "ipython3",
   "version": "3.8.8"
  }
 },
 "nbformat": 4,
 "nbformat_minor": 1
}
