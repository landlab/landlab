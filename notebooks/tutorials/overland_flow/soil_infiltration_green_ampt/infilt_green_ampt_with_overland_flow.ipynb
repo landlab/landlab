{
 "cells": [
  {
   "cell_type": "markdown",
   "id": "7b340643",
   "metadata": {},
   "source": [
    "# Green-Ampt infiltration and kinematic wave overland flow\n",
    "\n",
    "This tutorial shows how to create a simple model of rainfall, infiltration, runoff, and overland flow, using two hydrologic components: `SoilInfiltrationGreenAmpt` and `KinwaveImplicitOverlandFlow`.\n",
    "\n",
    "*(Greg Tucker, September 2021)*"
   ]
  },
  {
   "cell_type": "code",
   "execution_count": null,
   "id": "186c4e1e",
   "metadata": {},
   "outputs": [],
   "source": [
    "import numpy as np\n",
    "import matplotlib.pyplot as plt\n",
    "from landlab import imshow_grid, RasterModelGrid\n",
    "from landlab.io import read_esri_ascii\n",
    "from landlab.components import SoilInfiltrationGreenAmpt, KinwaveImplicitOverlandFlow"
   ]
  },
  {
   "cell_type": "markdown",
   "id": "0255bb38",
   "metadata": {},
   "source": [
    "## Theory\n",
    "\n",
    "The Green-Ampt method was introduced by Green and Ampt (1911) as a means of approximating the rate of water infiltration into soil from a layer of surface water. The method represents infiltration in terms of a wetting front that descends into the soil as infiltration progresses. A description of the method can be found in many hydrology textbooks, and in various online resources. The following is a brief summary, using the notation of Julien et al. (1995). The dimensions of each variable are indicated in square brackets, using the common convention that [L] means length, [M] is mass, and [T] is time.\n",
    "\n",
    "The Green-Ampt method approximates the rate of water infiltration into the soil, $f$ (dimensions of [L/T], representing water volume per unit surface area). Infiltration is driven by two effects:  gravitational force, and downward suction (the \"paper towel effect\") due to a gradient in moisture at the wetting front. The method treats the infiltration rate as a function of the following parameters:\n",
    "\n",
    "- $K$ - saturated hydraulic conductivity [L/T]\n",
    "- $H_f$ - capillary pressure head at the wetting front [L]\n",
    "- $\\phi$ - total soil porosity [-]\n",
    "- $\\theta_r$ - residual saturation [-]\n",
    "- $\\theta_e$ - effective porosity $= \\phi - \\theta_r$ [-]\n",
    "- $\\theta_i$ - initial soil moisture content [-]\n",
    "- $M_d$ - moisture deficit $=\\theta_e - \\theta_i$ [-]\n",
    "- $F$ - total infiltrated water depth [L]\n",
    "\n",
    "The equation for infiltration rate is:\n",
    "\n",
    "$$f = K \\left( 1 + \\frac{H_fM_d}{F} \\right)$$\n",
    "\n",
    "The first term in parentheses represents gravity and the second represents pore suction. If there were no pore suction effect, water would simply infiltrate downward at a rate equal to the  hydraulic conductivity, $K$. The suction effect increases this, but it becomes weaker as the cumulative infiltration depth $F$ grows. Effectively, the second term approximates the pore-pressure gradient, which declines as the wetting front descends.\n",
    "\n",
    "The version used in this component adds a term for the weight of the surface water with depth $H$:\n",
    "\n",
    "$$f = K \\left( 1 + \\frac{H_fM_d}{F} + \\frac{H}{F} \\right)$$\n",
    "\n",
    "The component uses a simple forward-difference numerical scheme, with time step duration $\\Delta t$, in which the infiltration depth during one step is the lesser of the rate calculated above times $\\Delta t$, or the available surface water, $H$:\n",
    "\n",
    "$$\\Delta F = \\min( f\\Delta t, H)$$\n",
    "\n",
    "Note that the cumulative infitration $F$ must be greater than zero in order to avoid division by zero; therefore, one should initialize the `soil_water_infiltration__depth` to a small positive value."
   ]
  },
  {
   "cell_type": "markdown",
   "id": "216c856d",
   "metadata": {},
   "source": [
    "## Example\n",
    "\n",
    "### Read in topography from a sample DEM\n",
    "\n",
    "This is a lidar digital elevation model (DEM) from the West Bijou Creek escarpment on the Colorado High Plains, coarsened to 5 m grid resolution.\n",
    "\n",
    "Note: it is convenient to use local grid coordinates rather than UTM coordinates, which are what the DEM provides. Therefore, after reading topography data into a grid called `demgrid`, which uses UTM coordinates, we copy over the elevation data into a second grid (`grid`) of the same dimensions that uses local coordinates (i.e., the lower left corner is (0, 0))."
   ]
  },
  {
   "cell_type": "code",
   "execution_count": null,
   "id": "8253014b",
   "metadata": {},
   "outputs": [],
   "source": [
    "# Read topography into a grid\n",
    "(demgrid, demelev) = read_esri_ascii(\n",
    "    \"bijou_gully_subset_5m_edit_dx_filled.asc\", name=\"topographic__elevation\"\n",
    ")"
   ]
  },
  {
   "cell_type": "code",
   "execution_count": null,
   "id": "3d7af6a4",
   "metadata": {},
   "outputs": [],
   "source": [
    "# Create Landlab model grid and assign the DEM elevations to it,\n",
    "# then display the terrain.\n",
    "# (note: DEM horizontal and vertical units are meters)\n",
    "grid = RasterModelGrid(\n",
    "    (demgrid.number_of_node_rows, demgrid.number_of_node_columns), xy_spacing=5.0\n",
    ")\n",
    "elev = grid.add_zeros(\"topographic__elevation\", at=\"node\")\n",
    "elev[:] = demelev\n",
    "imshow_grid(grid, elev, colorbar_label=\"Elevation (m)\")"
   ]
  },
  {
   "cell_type": "markdown",
   "id": "d13a583a",
   "metadata": {},
   "source": [
    "### Simulate a heavy 5-minute storm\n",
    "\n",
    "The next bits of code use the `SoilInfiltrationGreenAmpt` and `KinwaveImplicitOverlandFlow` components to model infiltration and runoff during a 5-minute, 90 mm/hr storm."
   ]
  },
  {
   "cell_type": "code",
   "execution_count": null,
   "id": "6ffcbc24",
   "metadata": {},
   "outputs": [],
   "source": [
    "# Create and initialize required input fields for infiltration\n",
    "# component: depth of surface water, and depth (water volume per\n",
    "# area) of infiltrated water.\n",
    "depth = grid.add_zeros(\"surface_water__depth\", at=\"node\")\n",
    "infilt = grid.add_zeros(\"soil_water_infiltration__depth\", at=\"node\")\n",
    "infilt[:] = 1.0e-4  # small amount infiltrated (0.1 mm)\n",
    "\n",
    "# Instantiate an infiltration component\n",
    "ga = SoilInfiltrationGreenAmpt(\n",
    "    grid,\n",
    ")\n",
    "\n",
    "# Instantiate an overland flow component\n",
    "kw = KinwaveImplicitOverlandFlow(\n",
    "    grid, runoff_rate=90.0, roughness=0.1, depth_exp=5.0 / 3.0\n",
    ")"
   ]
  },
  {
   "cell_type": "code",
   "execution_count": null,
   "id": "c37445f5",
   "metadata": {},
   "outputs": [],
   "source": [
    "# Set time step and storm duration\n",
    "dt = 10.0  # time step, sec\n",
    "storm_duration = 300.0  # storm duration, sec\n",
    "report_every = 60.0  # report progress this often\n",
    "\n",
    "nsteps = int(storm_duration / dt)\n",
    "next_report = report_every"
   ]
  },
  {
   "cell_type": "code",
   "execution_count": null,
   "id": "94472535",
   "metadata": {},
   "outputs": [],
   "source": [
    "# Run it for 10 minutes of heavy rain\n",
    "for i in range(nsteps):\n",
    "    kw.run_one_step(dt)\n",
    "    ga.run_one_step(dt)\n",
    "    if ((i + 1) * dt) >= next_report:\n",
    "        print(\"Time =\", (i + 1) * dt, \"sec\")\n",
    "        next_report += report_every"
   ]
  },
  {
   "cell_type": "markdown",
   "id": "c390c49f",
   "metadata": {},
   "source": [
    "### Plot the cumulative infiltration\n",
    "\n",
    "The plot below illustrates how the convergence of water in the branches of the gully network leads to greater infiltration, with less infiltration on steeper slopes and higher points in the landscape."
   ]
  },
  {
   "cell_type": "code",
   "execution_count": null,
   "id": "fc23c13d",
   "metadata": {},
   "outputs": [],
   "source": [
    "imshow_grid(\n",
    "    grid, 1000.0 * infilt, colorbar_label=\"Infiltration depth (mm)\", cmap=\"GnBu\"\n",
    ")"
   ]
  },
  {
   "cell_type": "markdown",
   "id": "90d93968",
   "metadata": {},
   "source": [
    "## Optional parameters\n",
    "\n",
    "The `SoilInfiltrationGreenAmpt` component provides a variety parameters that can be set by the user. A list and description of these can be found in the component's `__init__` docstring, which is printed below:"
   ]
  },
  {
   "cell_type": "code",
   "execution_count": null,
   "id": "040d0647",
   "metadata": {},
   "outputs": [],
   "source": [
    "print(SoilInfiltrationGreenAmpt.__init__.__doc__)"
   ]
  },
  {
   "cell_type": "markdown",
   "id": "735e1738",
   "metadata": {},
   "source": [
    "## References\n",
    "\n",
    "Green, W. H., & Ampt, G. A. (1911). Studies on Soil Phyics. The Journal of Agricultural Science, 4(1), 1-24.\n",
    "\n",
    "Julien, P. Y., Saghaﬁan, B., and Ogden, F. L. (1995) Raster-based hydrologic modeling of spatially-varied surface runoff, J. Am. Water Resour. As., 31, 523–536, doi:10.1111/j.17521688.1995.tb04039.x.\n",
    "\n",
    "Rengers, F. K., McGuire, L. A., Kean, J. W., Staley, D. M., and Hobley, D. (2016) Model simulations of flood and debris flow timing in steep catchments after wildfire, Water Resour. Res., 52, 6041–6061, doi:10.1002/2015WR018176."
   ]
  }
 ],
 "metadata": {
  "kernelspec": {
   "display_name": "Python 3",
   "language": "python",
   "name": "python3"
  },
  "language_info": {
   "codemirror_mode": {
    "name": "ipython",
    "version": 3
   },
   "file_extension": ".py",
   "mimetype": "text/x-python",
   "name": "python",
   "nbconvert_exporter": "python",
   "pygments_lexer": "ipython3",
   "version": "3.8.8"
  }
 },
 "nbformat": 4,
 "nbformat_minor": 5
}
