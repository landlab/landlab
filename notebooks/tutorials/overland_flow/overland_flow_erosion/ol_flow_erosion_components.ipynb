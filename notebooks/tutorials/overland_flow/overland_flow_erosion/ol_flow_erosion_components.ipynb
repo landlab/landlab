{
 "cells": [
  {
   "cell_type": "markdown",
   "metadata": {},
   "source": [
    "<a href=\"http://landlab.github.io\"><img style=\"float: left\" src=\"../../../landlab_header.png\"></a>"
   ]
  },
  {
   "cell_type": "markdown",
   "metadata": {},
   "source": [
    "# Components for modeling overland flow erosion \n",
    "\n",
    "*(G.E. Tucker, July 2021)*\n",
    "\n",
    "There are two related components that calculate erosion resulting from surface-water flow, a.k.a. overland flow: `DepthSlopeProductErosion` and `DetachmentLtdErosion`. They were originally created by Jordan Adams to work with the `OverlandFlow` component, which solves for water depth across the terrain. They are similar to the `StreamPowerEroder` and `FastscapeEroder` components in that they calculate erosion resulting from water flow across a topographic surface, but whereas these components require a flow-routing algorithm to create a list of node \"receivers\", the `DepthSlopeProductErosion` and `DetachmentLtdErosion` components only require a user-identified slope field together with an at-node depth or discharge field (respectively)."
   ]
  },
  {
   "cell_type": "markdown",
   "metadata": {},
   "source": [
    "## `DepthSlopeProductErosion`\n",
    "\n",
    "This component represents the rate of erosion, $E$, by surface water flow as:\n",
    "\n",
    "$$E = k_e (\\tau^a - \\tau_c^a)$$\n",
    "\n",
    "where $k_e$ is an erodibility coefficient (with dimensions of velocity per stress$^a$), $\\tau$ is bed shear stress, $\\tau_c$ is a minimum bed shear stress for any erosion to occur, and $a$ is a parameter that is commonly treated as unity.\n",
    "\n",
    "For steady, uniform flow, \n",
    "\n",
    "$$\\tau = \\rho g H S$$,\n",
    "\n",
    "with $\\rho$ being fluid density, $g$ gravitational acceleration, $H$ local water depth, and $S$ the (postive-downhill) slope gradient (an approximation of the sine of the slope angle).\n",
    "\n",
    "The component uses a user-supplied slope field (at nodes) together with the water-depth field `surface_water__depth` to calculate $\\tau$, and then the above equation to calculate $E$. The component will then modify the `topographic__elevation` field accordingly. If the user wishes to apply material uplift relative to baselevel, an `uplift_rate` parameter can be passed on initialization.\n",
    "\n",
    "We can learn more about this component by examining its internal documentation. To get an overview of the component, we can examine its *header docstring*: internal documentation provided in the form of a Python docstring that sits just below the class declaration in the source code. This text can be displayed as shown here:"
   ]
  },
  {
   "cell_type": "code",
   "execution_count": null,
   "metadata": {},
   "outputs": [],
   "source": [
    "from landlab.components import DepthSlopeProductErosion\n",
    "\n",
    "print(DepthSlopeProductErosion.__doc__)"
   ]
  },
  {
   "cell_type": "markdown",
   "metadata": {},
   "source": [
    "A second useful source of internal documentation for this component is its *init docstring*: a Python docstring that describes the component's class `__init__` method. In Landlab, the init docstrings for components normally provide a list of that component's parameters. Here's how to display the init docstring:"
   ]
  },
  {
   "cell_type": "code",
   "execution_count": null,
   "metadata": {},
   "outputs": [],
   "source": [
    "print(DepthSlopeProductErosion.__init__.__doc__)"
   ]
  },
  {
   "cell_type": "markdown",
   "metadata": {},
   "source": [
    "### Example\n",
    "\n",
    "In this example, we load the topography of a small drainage basin, calculate a water-depth field by running overland flow over the topography using the `KinwaveImplicitOverlandFlow` component, and then calculating the resulting erosion.\n",
    "\n",
    "Note that in order to accomplish this, we need to identify which variable we wish to use for slope gradient. This is not quite as simple as it may sound. An easy way to define slope is as the slope between two adjacent grid nodes. But using this approach means that slope is defined on the grid *links* rathter than *nodes*. To calculate slope magnitude at *nodes*, we'll define a little function below that uses Landlab's `calc_grad_at_link` method to calculate gradients at grid links, then use the `map_link_vector_components_to_node` method to calculate the $x$ and $y$ vector components at each node. With that in hand, we just use the Pythagorean theorem to find the slope magnitude from its vector components.\n",
    "\n",
    "First, though, some imports we'll need:"
   ]
  },
  {
   "cell_type": "code",
   "execution_count": null,
   "metadata": {},
   "outputs": [],
   "source": [
    "import copy\n",
    "import numpy as np\n",
    "import matplotlib as mpl\n",
    "import matplotlib.pyplot as plt\n",
    "from landlab import imshow_grid\n",
    "from landlab.components import KinwaveImplicitOverlandFlow\n",
    "from landlab.grid.mappers import map_link_vector_components_to_node\n",
    "from landlab.io import read_esri_ascii"
   ]
  },
  {
   "cell_type": "code",
   "execution_count": null,
   "metadata": {},
   "outputs": [],
   "source": [
    "def slope_magnitude_at_node(grid, elev):\n",
    "\n",
    "    # calculate gradient in elevation at each link\n",
    "    grad_at_link = grid.calc_grad_at_link(elev)\n",
    "\n",
    "    # set the gradient to zero for any inactive links\n",
    "    # (those attached to a closed-boundaries node at either end,\n",
    "    # or connecting two boundary nodes of any type)\n",
    "    grad_at_link[grid.status_at_link != grid.BC_LINK_IS_ACTIVE] = 0.0\n",
    "\n",
    "    # map slope vector components from links to their adjacent nodes\n",
    "    slp_x, slp_y = map_link_vector_components_to_node(grid, grad_at_link)\n",
    "\n",
    "    # use the Pythagorean theorem to calculate the slope magnitude\n",
    "    # from the x and y components\n",
    "    slp_mag = (slp_x * slp_x + slp_y * slp_y) ** 0.5\n",
    "\n",
    "    return slp_mag, slp_x, slp_y"
   ]
  },
  {
   "cell_type": "markdown",
   "metadata": {},
   "source": [
    "(See [here](https://landlab.readthedocs.io/en/latest/reference/grid/gradients.html#landlab.grid.gradients.calc_grad_at_link) to learn how `calc_grad_at_link` works, and [here](https://landlab.readthedocs.io/en/latest/reference/grid/raster_mappers.html#landlab.grid.raster_mappers.map_link_vector_components_to_node_raster) to learn how \n",
    "`map_link_vector_components_to_node` works.)\n",
    "\n",
    "Next, define some parameters we'll need.\n",
    "\n",
    "To estimate the erodibility coefficient $k_e$, one source is:\n",
    "\n",
    "[http://milford.nserl.purdue.edu/weppdocs/comperod/](http://milford.nserl.purdue.edu/weppdocs/comperod/)\n",
    "\n",
    "which reports experiments in rill erosion on agricultural soils. Converting their data into $k_e$, its values are on the order of 1 to 10 $\\times 10^{-6}$ (m / s Pa), with threshold ($\\tau_c$) values on the order of a few Pa."
   ]
  },
  {
   "cell_type": "code",
   "execution_count": null,
   "metadata": {},
   "outputs": [],
   "source": [
    "# Process parameters\n",
    "n = 0.1  # roughness coefficient, (s/m^(1/3))\n",
    "dep_exp = 5.0 / 3.0  # depth exponent\n",
    "R = 72.0  # runoff rate, mm/hr\n",
    "k_e = 4.0e-6  # erosion coefficient (m/s)/(kg/ms^2)\n",
    "tau_c = 3.0  # erosion threshold shear stress, Pa\n",
    "\n",
    "# Run-control parameters\n",
    "rain_duration = 240.0  # duration of rainfall, s\n",
    "run_time = 480.0  # duration of run, s\n",
    "dt = 10.0  # time-step size, s\n",
    "dem_filename = \"../hugo_site_filled.asc\"\n",
    "\n",
    "# Derived parameters\n",
    "num_steps = int(run_time / dt)\n",
    "\n",
    "# set up arrays to hold discharge and time\n",
    "time_since_storm_start = np.arange(0.0, dt * (2 * num_steps + 1), dt)\n",
    "discharge = np.zeros(2 * num_steps + 1)"
   ]
  },
  {
   "cell_type": "markdown",
   "metadata": {},
   "source": [
    "Read an example digital elevation model (DEM) into a Landlab grid and set up the boundaries so that water can only exit out the right edge, representing the watershed outlet."
   ]
  },
  {
   "cell_type": "code",
   "execution_count": null,
   "metadata": {},
   "outputs": [],
   "source": [
    "# Read the DEM file as a grid with a 'topographic__elevation' field\n",
    "(grid, elev) = read_esri_ascii(dem_filename, name=\"topographic__elevation\")\n",
    "\n",
    "# Configure the boundaries: valid right-edge nodes will be open;\n",
    "# all NODATA (= -9999) nodes will be closed.\n",
    "grid.status_at_node[grid.nodes_at_right_edge] = grid.BC_NODE_IS_FIXED_VALUE\n",
    "grid.status_at_node[np.isclose(elev, -9999.0)] = grid.BC_NODE_IS_CLOSED"
   ]
  },
  {
   "cell_type": "markdown",
   "metadata": {},
   "source": [
    "Now we'll calculate the slope vector components and magnitude, and plot the vectors as quivers on top of a shaded image of the topography:"
   ]
  },
  {
   "cell_type": "code",
   "execution_count": null,
   "metadata": {},
   "outputs": [],
   "source": [
    "slp_mag, slp_x, slp_y = slope_magnitude_at_node(grid, elev)\n",
    "imshow_grid(grid, elev)\n",
    "plt.quiver(grid.x_of_node, grid.y_of_node, slp_x, slp_y)"
   ]
  },
  {
   "cell_type": "markdown",
   "metadata": {},
   "source": [
    "Let's take a look at the slope magnitudes:"
   ]
  },
  {
   "cell_type": "code",
   "execution_count": null,
   "metadata": {},
   "outputs": [],
   "source": [
    "imshow_grid(grid, slp_mag, colorbar_label=\"Slope gradient (m/m)\")"
   ]
  },
  {
   "cell_type": "markdown",
   "metadata": {},
   "source": [
    "Now we're ready to instantiate a `KinwaveImplicitOverlandFlow` component, with a specified runoff rate and roughness:"
   ]
  },
  {
   "cell_type": "code",
   "execution_count": null,
   "metadata": {},
   "outputs": [],
   "source": [
    "# Instantiate the component\n",
    "olflow = KinwaveImplicitOverlandFlow(\n",
    "    grid, runoff_rate=R, roughness=n, depth_exp=dep_exp\n",
    ")"
   ]
  },
  {
   "cell_type": "markdown",
   "metadata": {},
   "source": [
    "The `DepthSlopeProductErosion` component requires there to be a field called `slope_magnitude` that contains our slope-gradient values, so we will we will create this field and assign `slp_mag` to it (the `clobber` keyword says it's ok to overwrite this field if it already exists, which prevents generating an error message if you run this cell more than once):"
   ]
  },
  {
   "cell_type": "code",
   "execution_count": null,
   "metadata": {
    "scrolled": true
   },
   "outputs": [],
   "source": [
    "grid.add_field(\"slope_magnitude\", slp_mag, at=\"node\", clobber=True)"
   ]
  },
  {
   "cell_type": "markdown",
   "metadata": {},
   "source": [
    "Now we're ready to instantiate a `DepthSlopeProductErosion` component:"
   ]
  },
  {
   "cell_type": "code",
   "execution_count": null,
   "metadata": {
    "scrolled": true
   },
   "outputs": [],
   "source": [
    "dspe = DepthSlopeProductErosion(grid, k_e=k_e, tau_crit=tau_c, slope=\"slope_magnitude\")"
   ]
  },
  {
   "cell_type": "markdown",
   "metadata": {},
   "source": [
    "Next, we'll make a copy of the starting terrain for later comparison, then run overland flow and erosion:"
   ]
  },
  {
   "cell_type": "code",
   "execution_count": null,
   "metadata": {},
   "outputs": [],
   "source": [
    "starting_elev = elev.copy()\n",
    "\n",
    "for i in range(num_steps):\n",
    "    olflow.run_one_step(dt)\n",
    "    dspe.run_one_step(dt)\n",
    "    slp_mag[:], slp_x, slp_y = slope_magnitude_at_node(grid, elev)"
   ]
  },
  {
   "cell_type": "markdown",
   "metadata": {},
   "source": [
    "We can visualize the instantaneous erosion rate at the end of the run, in m/s:"
   ]
  },
  {
   "cell_type": "code",
   "execution_count": null,
   "metadata": {},
   "outputs": [],
   "source": [
    "imshow_grid(grid, dspe._E, colorbar_label=\"erosion rate (m/s)\")"
   ]
  },
  {
   "cell_type": "markdown",
   "metadata": {},
   "source": [
    "We can also inspect the cumulative erosion during the event by differencing the before and after terrain:"
   ]
  },
  {
   "cell_type": "code",
   "execution_count": null,
   "metadata": {},
   "outputs": [],
   "source": [
    "imshow_grid(grid, starting_elev - elev, colorbar_label=\"cumulative erosion (m)\")"
   ]
  },
  {
   "cell_type": "markdown",
   "metadata": {},
   "source": [
    "Note that because this is a bumpy DEM, much of the erosion has occurred on (probably digital) steps in the channels. But we can see some erosion across the slopes as well."
   ]
  },
  {
   "cell_type": "markdown",
   "metadata": {},
   "source": [
    "## `DetachmentLtdErosion`\n",
    "\n",
    "This component is similar to `DepthSlopeProductErosion` except that it calculates erosion rate from discharge and slope rather than depth and slope. The vertical incision rate, $I$ (equivalent to $E$ in the above; here we are following the notation in the component's documentation) is:\n",
    "\n",
    "$$I = K Q^m S^n - I_c$$\n",
    "\n",
    "where $K$ is an erodibility coefficient (with dimensions of velocity per discharge$^m$; specified by parameter `K_sp`), $Q$ is volumetric discharge, $I_c$ is a threshold with dimensions of velocity, and $m$ and $n$ are exponents. (In the erosion literature, the exponents are sometimes treated as empirical parameters, and sometimes set to particular values on theoretical grounds; here we'll just set them to unity.)\n",
    "\n",
    "The component uses the fields `surface_water__discharge` and `topographic__slope` for $Q$ and $S$, respectively. The component will modify the `topographic__elevation` field accordingly. If the user wishes to apply material uplift relative to baselevel, an `uplift_rate` parameter can be passed on initialization.\n",
    "\n",
    "Here are the header and constructor docstrings:"
   ]
  },
  {
   "cell_type": "code",
   "execution_count": null,
   "metadata": {},
   "outputs": [],
   "source": [
    "from landlab.components import DetachmentLtdErosion\n",
    "\n",
    "print(DetachmentLtdErosion.__doc__)"
   ]
  },
  {
   "cell_type": "code",
   "execution_count": null,
   "metadata": {},
   "outputs": [],
   "source": [
    "print(DetachmentLtdErosion.__init__.__doc__)"
   ]
  },
  {
   "cell_type": "markdown",
   "metadata": {},
   "source": [
    "The example below uses the same approach as the previous example, but now using `DetachmentLtdErosion`. Note that the value for parameter $K$ (`K_sp`) is just a guess. Use of exponents $m=n=1$ implies the use of total stream power."
   ]
  },
  {
   "cell_type": "code",
   "execution_count": null,
   "metadata": {},
   "outputs": [],
   "source": [
    "# Process parameters\n",
    "n = 0.1  # roughness coefficient, (s/m^(1/3))\n",
    "dep_exp = 5.0 / 3.0  # depth exponent\n",
    "R = 72.0  # runoff rate, mm/hr\n",
    "K_sp = 1.0e-7  # erosion coefficient (m/s)/(m3/s)\n",
    "m_sp = 1.0  # discharge exponent\n",
    "n_sp = 1.0  # slope exponent\n",
    "I_c = 0.0001  # erosion threshold, m/s\n",
    "\n",
    "# Run-control parameters\n",
    "rain_duration = 240.0  # duration of rainfall, s\n",
    "run_time = 480.0  # duration of run, s\n",
    "dt = 10.0  # time-step size, s\n",
    "dem_filename = \"../hugo_site_filled.asc\"\n",
    "\n",
    "# Derived parameters\n",
    "num_steps = int(run_time / dt)\n",
    "\n",
    "# set up arrays to hold discharge and time\n",
    "time_since_storm_start = np.arange(0.0, dt * (2 * num_steps + 1), dt)\n",
    "discharge = np.zeros(2 * num_steps + 1)"
   ]
  },
  {
   "cell_type": "code",
   "execution_count": null,
   "metadata": {},
   "outputs": [],
   "source": [
    "# Read the DEM file as a grid with a 'topographic__elevation' field\n",
    "(grid, elev) = read_esri_ascii(dem_filename, name=\"topographic__elevation\")\n",
    "\n",
    "# Configure the boundaries: valid right-edge nodes will be open;\n",
    "# all NODATA (= -9999) nodes will be closed.\n",
    "grid.status_at_node[grid.nodes_at_right_edge] = grid.BC_NODE_IS_FIXED_VALUE\n",
    "grid.status_at_node[np.isclose(elev, -9999.0)] = grid.BC_NODE_IS_CLOSED"
   ]
  },
  {
   "cell_type": "code",
   "execution_count": null,
   "metadata": {},
   "outputs": [],
   "source": [
    "slp_mag, slp_x, slp_y = slope_magnitude_at_node(grid, elev)\n",
    "grid.add_field(\"topographic__slope\", slp_mag, at=\"node\", clobber=True)"
   ]
  },
  {
   "cell_type": "code",
   "execution_count": null,
   "metadata": {},
   "outputs": [],
   "source": [
    "# Instantiate the component\n",
    "olflow = KinwaveImplicitOverlandFlow(\n",
    "    grid, runoff_rate=R, roughness=n, depth_exp=dep_exp\n",
    ")"
   ]
  },
  {
   "cell_type": "code",
   "execution_count": null,
   "metadata": {
    "scrolled": true
   },
   "outputs": [],
   "source": [
    "dle = DetachmentLtdErosion(\n",
    "    grid, K_sp=K_sp, m_sp=m_sp, n_sp=n_sp, entrainment_threshold=I_c\n",
    ")"
   ]
  },
  {
   "cell_type": "code",
   "execution_count": null,
   "metadata": {},
   "outputs": [],
   "source": [
    "starting_elev = elev.copy()\n",
    "\n",
    "for i in range(num_steps):\n",
    "    olflow.run_one_step(dt)\n",
    "    dle.run_one_step(dt)\n",
    "    slp_mag[:], slp_x, slp_y = slope_magnitude_at_node(grid, elev)"
   ]
  },
  {
   "cell_type": "code",
   "execution_count": null,
   "metadata": {},
   "outputs": [],
   "source": [
    "imshow_grid(grid, starting_elev - elev, colorbar_label=\"cumulative erosion (m)\")"
   ]
  },
  {
   "cell_type": "markdown",
   "metadata": {},
   "source": [
    "<hr>\n",
    "<small>For more Landlab tutorials, click here: <a href=\"https://landlab.readthedocs.io/en/latest/user_guide/tutorials.html\">https://landlab.readthedocs.io/en/latest/user_guide/tutorials.html</a></small>\n",
    "<hr>"
   ]
  }
 ],
 "metadata": {
  "kernelspec": {
   "display_name": "Python 3",
   "language": "python",
   "name": "python3"
  },
  "language_info": {
   "codemirror_mode": {
    "name": "ipython",
    "version": 3
   },
   "file_extension": ".py",
   "mimetype": "text/x-python",
   "name": "python",
   "nbconvert_exporter": "python",
   "pygments_lexer": "ipython3",
   "version": "3.8.8"
  }
 },
 "nbformat": 4,
 "nbformat_minor": 4
}
