{
 "cells": [
  {
   "cell_type": "markdown",
   "id": "ba628c91",
   "metadata": {},
   "source": [
    "<a href=\"http://landlab.github.io\"><img style=\"float: left\" src=\"../../landlab_header.png\"></a>"
   ]
  },
  {
   "cell_type": "markdown",
   "id": "78057bdb",
   "metadata": {},
   "source": [
    "# How to do \"D4\" pit-filling on a digital elevation model (DEM)\n",
    "\n",
    "*(Greg Tucker, July 2021)*\n",
    "\n",
    "Digital elevation models (DEMs) often contain \"pits\": cells or groups of cells that represent depressions, and are surrounded by higher-elevation cells. Sometimes these pits represent real landscape features, such as sinkholes in a karst landscape, or \"pools\" along a dry river channel. In other cases, they are artifacts of errors in the original data or of data processing. Sometimes they reflect a truncated representation of elevation values. For example, some DEMs use integer values to represent elevation in meters. Adjacent cells that differ by less than a meter in elevation can register as having exactly the same elevation in an integer DEM, making the drainage pathways in ambiguous.\n",
    "\n",
    "For some overland flow models, depressions in a DEM are no problem: water will simply pool in the depressions and overspill when the depression is full. But overland flow models that use the kinematic wave approximation, in which the ground-surface slope is used as a proxy for the hydraulic energy slope, can not do this. Therefore, 2D overland flow models, like the Landlab components `KinwaveOverlandFlowModel` and `KinwaveImplicitOverlandFlow`, require a DEM that has had its pits and flat areas digitally removed before they can be run reliably.\n",
    "\n",
    "This tutorial describes how to do this using Landlab's flow-routing and pit-filling components.\n"
   ]
  },
  {
   "cell_type": "markdown",
   "id": "e9fe47b5",
   "metadata": {},
   "source": [
    "First, some imports:"
   ]
  },
  {
   "cell_type": "code",
   "execution_count": null,
   "id": "d3d0ae9c",
   "metadata": {},
   "outputs": [],
   "source": [
    "from landlab import imshow_grid\n",
    "from landlab.components import FlowAccumulator\n",
    "from landlab.io import read_esri_ascii"
   ]
  },
  {
   "cell_type": "markdown",
   "id": "fd8cc41a-31bc-4d78-80cc-5205f8ec42de",
   "metadata": {},
   "source": [
    "Read the un-filled DEM, which happens to be in Arc/Info ASCII Grid format (a.k.a., ESRI ASCII). We will use the `set_watershed_boundary_condition` function to set all nodes with an elevation value equal to a \"no data\" code (default -9999) to closed boundaries, and any nodes with valid elevation values that lie on the grid's perimeter to open (fixed value) boundaries. You can learn more about the raster version of this handy function [here](https://landlab.readthedocs.io/en/latest/reference/grid/raster_api.html#landlab.grid.raster.RasterModelGrid.set_watershed_boundary_condition). "
   ]
  },
  {
   "cell_type": "code",
   "execution_count": null,
   "id": "92909f6d",
   "metadata": {},
   "outputs": [],
   "source": [
    "# Read a small DEM\n",
    "(grid, elev) = read_esri_ascii(\"hugo_site.asc\", name=\"topographic__elevation\")\n",
    "\n",
    "# This sets nodes with a no-data code (default -9999) to closed boundary status\n",
    "# (For a perimeter node to be considered )\n",
    "grid.set_watershed_boundary_condition(elev)"
   ]
  },
  {
   "cell_type": "markdown",
   "id": "d06db570",
   "metadata": {},
   "source": [
    "Having read the DEM and set its boundary conditions, we now instantiate and run `FlowAccumulator`. We will tell it to use \"D4\" routing, which is indicated by the parameter choice `flow_director = FlowDirectorSteepest`. (Note that the term \"steepest\" means \"choose the steepest drop among all directly adjacent nodes\". In a RasterModelGrid, there are normally four neighboring nodes, and so when `FlowDirectorSteepest` is applied to a raster grid, it does 'D4' routing. When it is applied to a hex grid, for example, it chooses among six possible directions. This variation in the number of potential directions depending on grid type is why it this particular flow-direction method is called \"steepest\" rather than \"D4\". For more on this, see the tutorials *the_FlowDirectors* and *compare_FlowDirectors*.)\n",
    "\n",
    "First, we will run the flow accumulator without any depression handling, in order to visualize the drainage in this case:"
   ]
  },
  {
   "cell_type": "code",
   "execution_count": null,
   "id": "1ce0eb9d",
   "metadata": {},
   "outputs": [],
   "source": [
    "fa_no_fill = FlowAccumulator(grid, flow_director=\"FlowDirectorSteepest\")\n",
    "fa_no_fill.run_one_step()"
   ]
  },
  {
   "cell_type": "code",
   "execution_count": null,
   "id": "30fc0336",
   "metadata": {},
   "outputs": [],
   "source": [
    "imshow_grid(grid, \"drainage_area\", colorbar_label=\"Drainage area (m2)\")"
   ]
  },
  {
   "cell_type": "markdown",
   "id": "88292393",
   "metadata": {},
   "source": [
    "Notice that there are interruptions in the drainage patterns: places where drainage area abruptly drops in the downstream direction. These spots represent drainages that terminate in pits."
   ]
  },
  {
   "cell_type": "markdown",
   "id": "33085f7b",
   "metadata": {},
   "source": [
    "Now we'll repeat the process, but this time we will also tell the `FlowAccumulator` to use the `LakeMapperBarnes` component for depression handling. (Note that we could run `LakeMapperBarnes` separately, but because depression handling and flow accumulation work together, the `FlowAccumulator` provides a way to directly \"embed\" a depression handler and its arguments, which is the approach used here; you can learn more about this in the tutorial *the_FlowAccumulator*.) We can examine the parameters of `LakeMapperBarnes`:"
   ]
  },
  {
   "cell_type": "code",
   "execution_count": null,
   "id": "f21254fd",
   "metadata": {},
   "outputs": [],
   "source": [
    "from landlab.components import LakeMapperBarnes\n",
    "\n",
    "print(LakeMapperBarnes.__init__.__doc__)"
   ]
  },
  {
   "cell_type": "markdown",
   "id": "32334fab",
   "metadata": {},
   "source": [
    "If we don't wish to accept the built-in defaults, we can send any of these parameters as additional arguments to the `FlowAccumulator` constructor. For this application, we want:\n",
    "\n",
    "- `surface = topographic__elevation`: use the topography (this is the default)\n",
    "- `method = 'Steepest'`: use D4 routing (the default)\n",
    "- `fill_flat = False`: we want a slight slope assigned to otherwise flat areas\n",
    "- `fill_surface = 'topographic__elevation'`: fill the topography (the default)\n",
    "- `redirect_flow_steepest_descent = True`: so we can plot the revised drainage\n",
    "- `reaccumulate_flow = True`: so we can plot the revised drainage"
   ]
  },
  {
   "cell_type": "code",
   "execution_count": null,
   "id": "b87a1164",
   "metadata": {},
   "outputs": [],
   "source": [
    "fa = FlowAccumulator(\n",
    "    grid,\n",
    "    flow_director=\"FlowDirectorSteepest\",\n",
    "    depression_finder=\"LakeMapperBarnes\",\n",
    "    surface=\"topographic__elevation\",\n",
    "    method=\"Steepest\",\n",
    "    fill_flat=False,\n",
    "    fill_surface=\"topographic__elevation\",\n",
    "    redirect_flow_steepest_descent=True,\n",
    "    reaccumulate_flow=True,\n",
    ")"
   ]
  },
  {
   "cell_type": "code",
   "execution_count": null,
   "id": "2e6a2f51",
   "metadata": {},
   "outputs": [],
   "source": [
    "original_elev = elev.copy()  # keep a copy of the original\n",
    "fa.run_one_step()\n",
    "imshow_grid(grid, \"drainage_area\", colorbar_label=\"Drainage area (m2)\")"
   ]
  },
  {
   "cell_type": "markdown",
   "id": "e6118fbf",
   "metadata": {},
   "source": [
    "Now we have a continuous drainage system that passes smoothly over the now-filled pits. Drainage from every cell in the watershed can reach the outlet. By plotting the difference between the original and modified topography, we can inspect the depth and spatial patterns of pit filling:"
   ]
  },
  {
   "cell_type": "code",
   "execution_count": null,
   "id": "8a187282",
   "metadata": {},
   "outputs": [],
   "source": [
    "imshow_grid(grid, elev - original_elev, colorbar_label=\"fill depth (m)\")"
   ]
  },
  {
   "cell_type": "markdown",
   "id": "00e7be7a",
   "metadata": {},
   "source": [
    "<hr>\n",
    "<small>For more Landlab tutorials, click here: <a href=\"https://landlab.readthedocs.io/en/latest/user_guide/tutorials.html\">https://landlab.readthedocs.io/en/latest/user_guide/tutorials.html</a></small>\n",
    "<hr>"
   ]
  },
  {
   "cell_type": "markdown",
   "id": "3b634b79",
   "metadata": {},
   "source": [
    "### Click here for more <a href=\"https://landlab.readthedocs.io/en/latest/user_guide/tutorials.html\">Landlab tutorials</a>"
   ]
  }
 ],
 "metadata": {
  "kernelspec": {
   "display_name": "Python 3",
   "language": "python",
   "name": "python3"
  },
  "language_info": {
   "codemirror_mode": {
    "name": "ipython",
    "version": 3
   },
   "file_extension": ".py",
   "mimetype": "text/x-python",
   "name": "python",
   "nbconvert_exporter": "python",
   "pygments_lexer": "ipython3",
   "version": "3.8.8"
  }
 },
 "nbformat": 4,
 "nbformat_minor": 5
}
